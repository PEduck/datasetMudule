{
 "cells": [
  {
   "cell_type": "code",
   "execution_count": 5,
   "id": "b644b373-a7ae-47e1-bb9e-7390d2f19a77",
   "metadata": {},
   "outputs": [],
   "source": [
    "# 数据清洗"
   ]
  },
  {
   "cell_type": "code",
   "execution_count": 1,
   "id": "f26bbd31-ddae-43b6-aa60-bc3ed59d49b6",
   "metadata": {},
   "outputs": [],
   "source": [
    "import glob\n",
    "import pandas as pd\n",
    "from pathlib import Path\n",
    "import re"
   ]
  },
  {
   "cell_type": "code",
   "execution_count": 2,
   "id": "06c657c6-5e37-4a05-a5fe-c22161afee77",
   "metadata": {},
   "outputs": [],
   "source": [
    "from PIL import Image"
   ]
  },
  {
   "cell_type": "code",
   "execution_count": null,
   "id": "72525a3e-472f-417c-a013-32bfb7a58511",
   "metadata": {},
   "outputs": [],
   "source": []
  },
  {
   "cell_type": "code",
   "execution_count": null,
   "id": "780fdfc3-4b53-495f-aec9-9cc5adad4e8b",
   "metadata": {},
   "outputs": [],
   "source": []
  },
  {
   "cell_type": "code",
   "execution_count": 3,
   "id": "2e6976f2-021f-4394-a996-a783d1f3a6b5",
   "metadata": {},
   "outputs": [],
   "source": [
    "model_label_map = {\n",
    "    0: 10,  # 鞋子\n",
    "    1: 8,  # 包包\n",
    "    2: 4,  # 上装\n",
    "    3: 5,  # 裤子\n",
    "    4: 6,  # 裙子\n",
    "    5: 7,  # 连体装\n",
    "}"
   ]
  },
  {
   "cell_type": "code",
   "execution_count": 4,
   "id": "625c2083-1e40-4b0a-bdea-f7ff375747c5",
   "metadata": {},
   "outputs": [],
   "source": [
    "model_label_map = {\n",
    "    0: 'shoe',\n",
    "    1: 'bag',\n",
    "    2: 'upperbody',\n",
    "    3: 'lowerbody',  # 裤子\n",
    "    4: 'skirt',  # 裙子\n",
    "    5: 'wholebody',  # 连体装\n",
    "}"
   ]
  },
  {
   "cell_type": "code",
   "execution_count": null,
   "id": "5442fb94-9a3a-4a52-aaf3-4a41298ee2e9",
   "metadata": {},
   "outputs": [],
   "source": []
  },
  {
   "cell_type": "code",
   "execution_count": null,
   "id": "2f72dc79-ffd7-4797-a7bf-e0360c3c8d3e",
   "metadata": {},
   "outputs": [],
   "source": []
  },
  {
   "cell_type": "markdown",
   "id": "16a5b9e5-bb29-45ef-bec1-ba5e5f54890b",
   "metadata": {},
   "source": [
    "### LOAD DATA"
   ]
  },
  {
   "cell_type": "code",
   "execution_count": 7,
   "id": "8fff1883-79d7-4dd2-8d69-9a89ed2b662c",
   "metadata": {},
   "outputs": [],
   "source": [
    "clred_df = pd.read_csv('/nas/chenyi/datasets_cls/gallery_detect/gallery_oss/dadetv4/info/clred_labels_oss.csv')"
   ]
  },
  {
   "cell_type": "code",
   "execution_count": 9,
   "id": "e4d4f0e4-065a-478c-bcf4-85fdaf5e9105",
   "metadata": {},
   "outputs": [],
   "source": [
    "# clred_df.to_csv('/nas/chenyi/datasets_cls/gallery_detect/gallery_oss/dadetv4/info/clred_labels_oss.csv', index=False)\n",
    "# clred_final_df.to_csv('./clred_temp_final.csv', index=False)"
   ]
  },
  {
   "cell_type": "code",
   "execution_count": 11,
   "id": "ed6d9a62-4a68-4442-af83-590af668de5b",
   "metadata": {},
   "outputs": [
    {
     "data": {
      "text/plain": [
       "array([[0, 0.373611, 0.942361, 0.0833333, 0.115278, 0.880866, 0,\n",
       "        '/nas/chenyi/datasets_cls/gallery_detect/gallery_oss/dadetv4/gall_dadetv4_all/labels/69313640-af52-465e-88c8-c0a0099ca5c7-699544.txt',\n",
       "        '69313640-af52-465e-88c8-c0a0099ca5c7-699544',\n",
       "        '/nas/oss/gallery/69/31/69313640-af52-465e-88c8-c0a0099ca5c7-699544.jpg',\n",
       "        933, 933, 'shoe',\n",
       "        '/nas/chenyi/datasets_cls/gallery_detect/gallery_oss/dadetv4/gall_dadetv4_all/crops/shoe/69313640-af52-465e-88c8-c0a0099ca5c7-699544_0.jpg',\n",
       "        '/nas/chenyi/datasets_cls/gallery_detect/gallery_oss/dadetv4/gall_dadetv4_all/crops_oss/69/31/69313640-af52-465e-88c8-c0a0099ca5c7-699544_0.jpg']],\n",
       "      dtype=object)"
      ]
     },
     "execution_count": 11,
     "metadata": {},
     "output_type": "execute_result"
    }
   ],
   "source": [
    "clred_df.head(1).values"
   ]
  },
  {
   "cell_type": "code",
   "execution_count": null,
   "id": "b6da743e-48c4-4ac5-9c6b-b88e45fd53d8",
   "metadata": {},
   "outputs": [],
   "source": []
  },
  {
   "cell_type": "code",
   "execution_count": 8,
   "id": "d57f920b-9c2c-4a77-a21b-8d0c266e4c6f",
   "metadata": {},
   "outputs": [],
   "source": [
    "# %%time\n",
    "# crops_less_imgs = glob.glob(str('/nas/chenyi/datasets_cls/gallery_detect/gallery_oss/dadetv4/gall_dadetv4_all/crops/*/*'))\n",
    "# len(crops_less_imgs)"
   ]
  },
  {
   "cell_type": "code",
   "execution_count": null,
   "id": "1d58f16b-fd43-4822-9ddd-c1e6ce213fce",
   "metadata": {},
   "outputs": [],
   "source": []
  },
  {
   "cell_type": "code",
   "execution_count": null,
   "id": "f64d5b13-3437-4fbb-95cc-e1a8d7a15f81",
   "metadata": {},
   "outputs": [],
   "source": []
  },
  {
   "cell_type": "markdown",
   "id": "d78a93d9-4a3e-4d32-806d-6c73eeb846e2",
   "metadata": {},
   "source": [
    "#### crops target path."
   ]
  },
  {
   "cell_type": "code",
   "execution_count": 12,
   "id": "109f0e5f-6788-482d-8deb-953e91401a15",
   "metadata": {},
   "outputs": [
    {
     "name": "stdout",
     "output_type": "stream",
     "text": [
      "bag  lowerbody\tshoe  skirt  upperbody\twholebody\n"
     ]
    }
   ],
   "source": [
    "!ls /nas/chenyi/datasets_cls/gallery_detect/gallery_oss/dadetv4/gall_dadetv4_all/crops/"
   ]
  },
  {
   "cell_type": "code",
   "execution_count": 24,
   "id": "793962af-0dc3-4400-9ab9-4fa57769a70c",
   "metadata": {},
   "outputs": [],
   "source": [
    "clred_final_df['label_eng'] = clred_final_df['label_pred'].map(model_label_map)"
   ]
  },
  {
   "cell_type": "code",
   "execution_count": 29,
   "id": "423bc23f-ce8a-4919-836d-4ce107b1ec0a",
   "metadata": {},
   "outputs": [],
   "source": [
    "crops_root = '/nas/chenyi/datasets_cls/gallery_detect/gallery_oss/dadetv4/gall_dadetv4_all/crops'\n",
    "clred_final_df['crops_sp'] = clred_final_df.apply(lambda row:\n",
    "                                                '{0}/{1}/{2}_{3}.jpg'.format(crops_root, row['label_eng'], row['stem'], row['id_crop']),\n",
    "                                                axis=1)"
   ]
  },
  {
   "cell_type": "code",
   "execution_count": 37,
   "id": "b5549095-9f32-4057-95d8-0b4ebd296249",
   "metadata": {},
   "outputs": [],
   "source": [
    "# p = clred_final_df['crops_sp'][110]\n",
    "# !ls $p"
   ]
  },
  {
   "cell_type": "code",
   "execution_count": 39,
   "id": "ef40244a-4963-4df3-9a7b-a61229acc630",
   "metadata": {},
   "outputs": [],
   "source": [
    "crops_troot = '/nas/chenyi/datasets_cls/gallery_detect/gallery_oss/dadetv4/gall_dadetv4_all/crops_oss'\n",
    "clred_final_df['crops_tp'] = clred_final_df.apply(lambda x:\n",
    "                                                '{0}/{1}/{2}/{3}'.format(crops_troot, x['stem'][:2], x['stem'][2:4], Path(x['crops_sp']).name),\n",
    "                                                axis=1)"
   ]
  },
  {
   "cell_type": "code",
   "execution_count": null,
   "id": "b07b1882-8544-4686-a476-410866965f35",
   "metadata": {},
   "outputs": [],
   "source": []
  },
  {
   "cell_type": "code",
   "execution_count": null,
   "id": "65ada9ef-e04c-4834-95a4-960d7120bbbc",
   "metadata": {},
   "outputs": [],
   "source": []
  },
  {
   "cell_type": "markdown",
   "id": "6db10521-5040-497f-a6f0-7f50c71e947d",
   "metadata": {
    "jp-MarkdownHeadingCollapsed": true,
    "tags": []
   },
   "source": [
    "### 图片清洗"
   ]
  },
  {
   "cell_type": "code",
   "execution_count": 3,
   "id": "f1cc43b8-fbaa-427a-9948-e6b6cd9896a1",
   "metadata": {},
   "outputs": [],
   "source": [
    "clred_df = label_cross_df"
   ]
  },
  {
   "cell_type": "markdown",
   "id": "899f740d-eae6-41b5-99a9-bd3b02047daf",
   "metadata": {
    "tags": []
   },
   "source": [
    "#### 图片太小"
   ]
  },
  {
   "cell_type": "code",
   "execution_count": 4,
   "id": "ba3ec3cc-29d2-45a8-873b-2382affc24ea",
   "metadata": {},
   "outputs": [
    {
     "data": {
      "text/plain": [
       "8258"
      ]
     },
     "execution_count": 4,
     "metadata": {},
     "output_type": "execute_result"
    }
   ],
   "source": [
    "len(label_cross_df[(label_cross_df['width']<300) | (label_cross_df['heigth']<300)])"
   ]
  },
  {
   "cell_type": "code",
   "execution_count": 5,
   "id": "8d697b25-146c-4d3e-8b61-45459fb9707a",
   "metadata": {},
   "outputs": [],
   "source": [
    "clred_df = clred_df[(clred_df['width']>300) | (clred_df['heigth']>300)]"
   ]
  },
  {
   "cell_type": "code",
   "execution_count": 6,
   "id": "e53af374-aeef-4deb-85d7-496099cd9c62",
   "metadata": {},
   "outputs": [
    {
     "data": {
      "text/plain": [
       "46714"
      ]
     },
     "execution_count": 6,
     "metadata": {},
     "output_type": "execute_result"
    }
   ],
   "source": [
    "thres = 500\n",
    "len( clred_df[(clred_df['width']<thres) & (clred_df['heigth']<thres)])"
   ]
  },
  {
   "cell_type": "code",
   "execution_count": 7,
   "id": "743a7617-2776-4dad-8209-243e550bd9c4",
   "metadata": {},
   "outputs": [],
   "source": [
    "thres = 500\n",
    "clred_df =  clred_df[(clred_df['width']>thres) & (clred_df['heigth']>thres)]"
   ]
  },
  {
   "cell_type": "code",
   "execution_count": 8,
   "id": "d933d556-9d95-4238-8e6b-442af26f82ff",
   "metadata": {},
   "outputs": [
    {
     "data": {
      "text/plain": [
       "6302384"
      ]
     },
     "execution_count": 8,
     "metadata": {},
     "output_type": "execute_result"
    }
   ],
   "source": [
    "len(clred_df)"
   ]
  },
  {
   "cell_type": "code",
   "execution_count": 23,
   "id": "208d2f79-eb2f-4ef2-a9bf-bdccbddd2bf3",
   "metadata": {},
   "outputs": [
    {
     "data": {
      "text/plain": [
       "label_pred\n",
       "0    2786713\n",
       "2    1388800\n",
       "3     812387\n",
       "1     786189\n",
       "5     489965\n",
       "4     335122\n",
       "dtype: int64"
      ]
     },
     "execution_count": 23,
     "metadata": {},
     "output_type": "execute_result"
    }
   ],
   "source": [
    "label_cross_df.value_counts('label_pred')"
   ]
  },
  {
   "cell_type": "code",
   "execution_count": null,
   "id": "5e95eda2-7e75-4d89-98df-ecde48a01814",
   "metadata": {},
   "outputs": [],
   "source": []
  },
  {
   "cell_type": "code",
   "execution_count": null,
   "id": "0099fc90-bdda-4f07-89f8-e421bbc06fef",
   "metadata": {},
   "outputs": [],
   "source": []
  },
  {
   "cell_type": "markdown",
   "id": "43935d54-2bc5-44a7-8581-96d6dacb82b2",
   "metadata": {},
   "source": [
    "#### 去除置信度太小的"
   ]
  },
  {
   "cell_type": "code",
   "execution_count": 14,
   "id": "97cc9c60-50bd-4215-99fc-8142f03de518",
   "metadata": {},
   "outputs": [],
   "source": [
    "clred_df['conf_show'] = clred_df['conf'].apply(lambda x: round(x*10))"
   ]
  },
  {
   "cell_type": "code",
   "execution_count": 15,
   "id": "af13531b-208e-4a5a-9c6e-809ca0f90602",
   "metadata": {},
   "outputs": [
    {
     "data": {
      "text/plain": [
       "conf_show\n",
       "4      178808\n",
       "5      461430\n",
       "6      604511\n",
       "7      780950\n",
       "8     1221436\n",
       "9     2559466\n",
       "10     495783\n",
       "dtype: int64"
      ]
     },
     "execution_count": 15,
     "metadata": {},
     "output_type": "execute_result"
    }
   ],
   "source": [
    "clred_df.value_counts('conf_show').sort_index()"
   ]
  },
  {
   "cell_type": "code",
   "execution_count": 17,
   "id": "a5310f5c-744f-431a-ae02-619e8475103c",
   "metadata": {},
   "outputs": [
    {
     "data": {
      "text/plain": [
       "0.028371486091612316"
      ]
     },
     "execution_count": 17,
     "metadata": {},
     "output_type": "execute_result"
    }
   ],
   "source": [
    "178808/len(clred_df)"
   ]
  },
  {
   "cell_type": "code",
   "execution_count": 37,
   "id": "ab12b337-25eb-4560-abe0-70e3e5e32e0f",
   "metadata": {},
   "outputs": [
    {
     "data": {
      "text/plain": [
       "(6599176, 5891707)"
      ]
     },
     "execution_count": 37,
     "metadata": {},
     "output_type": "execute_result"
    }
   ],
   "source": [
    "thres = 0.5\n",
    "clred_df =  clred_df[(clred_df['conf']>=thres)]\n",
    "len(label_cross_df), len(clred_df)"
   ]
  },
  {
   "cell_type": "code",
   "execution_count": null,
   "id": "4ce7af44-c257-49c9-afce-e8ad9f0311da",
   "metadata": {},
   "outputs": [],
   "source": []
  },
  {
   "cell_type": "code",
   "execution_count": null,
   "id": "09fa14d6-1330-4346-9c4a-0e9c09de4d58",
   "metadata": {},
   "outputs": [],
   "source": []
  },
  {
   "cell_type": "code",
   "execution_count": null,
   "id": "1476b8a1-d449-465e-829b-02a1fcbec412",
   "metadata": {},
   "outputs": [],
   "source": []
  },
  {
   "cell_type": "markdown",
   "id": "81f5112e-2359-4f3c-89d5-2be84ee740f9",
   "metadata": {
    "jp-MarkdownHeadingCollapsed": true,
    "tags": []
   },
   "source": [
    "#### 去掉图片目标太多的"
   ]
  },
  {
   "cell_type": "code",
   "execution_count": 38,
   "id": "d0063133-34ad-416d-a0ee-3fd9a1ac6212",
   "metadata": {},
   "outputs": [
    {
     "data": {
      "text/plain": [
       "2125"
      ]
     },
     "execution_count": 38,
     "metadata": {},
     "output_type": "execute_result"
    }
   ],
   "source": [
    "len(label_cross_df[label_cross_df['id_crop']>7])"
   ]
  },
  {
   "cell_type": "code",
   "execution_count": 39,
   "id": "8261f49e-35aa-4caa-a10a-83c34912d86e",
   "metadata": {},
   "outputs": [],
   "source": [
    "thres = 7\n",
    "bbox_much_df = clred_df[(clred_df['id_crop']>=thres)]\n",
    "img_much_df = bbox_much_df.drop_duplicates('stem')"
   ]
  },
  {
   "cell_type": "code",
   "execution_count": 40,
   "id": "e5122662-a957-4989-a9b4-792330bba416",
   "metadata": {},
   "outputs": [
    {
     "data": {
      "text/plain": [
       "(6599176, 5891707)"
      ]
     },
     "execution_count": 40,
     "metadata": {},
     "output_type": "execute_result"
    }
   ],
   "source": [
    "clred_df =  clred_df[(~clred_df['stem'].isin(img_much_df['stem']))]\n",
    "len(label_cross_df), len(clred_df)"
   ]
  },
  {
   "cell_type": "code",
   "execution_count": null,
   "id": "e22163fb-6807-4114-af92-39fdbf57200e",
   "metadata": {},
   "outputs": [],
   "source": []
  },
  {
   "cell_type": "markdown",
   "id": "02bc30f1-0c5c-4cf8-96b3-ebae2bf48be3",
   "metadata": {
    "jp-MarkdownHeadingCollapsed": true,
    "tags": []
   },
   "source": [
    "### 处理bbox"
   ]
  },
  {
   "cell_type": "code",
   "execution_count": null,
   "id": "73204ed5-e3d0-43e9-81e3-83c6d01801a1",
   "metadata": {},
   "outputs": [],
   "source": []
  },
  {
   "cell_type": "code",
   "execution_count": 136,
   "id": "ff4ab3af-35c1-4735-9307-2223011d9091",
   "metadata": {},
   "outputs": [],
   "source": [
    "# clred_df = pd.read_csv('clred_temp.csv')\n",
    "clred_df.to_csv('clred_temp.csv', index=False)"
   ]
  },
  {
   "cell_type": "code",
   "execution_count": 83,
   "id": "0873d1fe-befd-4067-9a87-44c862f153da",
   "metadata": {},
   "outputs": [],
   "source": [
    "# clred_df['bx_h'] = clred_df['heigth'].values*clred_df['bx4'].values\n",
    "# clred_df['bx_w'] = clred_df['width'].values*clred_df['bx3'].values"
   ]
  },
  {
   "cell_type": "code",
   "execution_count": 84,
   "id": "eed03ebc-1f23-410f-86d3-bf7a77570720",
   "metadata": {},
   "outputs": [],
   "source": [
    "# clred_df['h/w'] = clred_df['bx_h'].values/clred_df['bx_w'].values"
   ]
  },
  {
   "cell_type": "code",
   "execution_count": null,
   "id": "82bff519-78f0-44d6-b68a-e96d90175068",
   "metadata": {},
   "outputs": [],
   "source": []
  },
  {
   "cell_type": "markdown",
   "id": "b28d0263-a000-441d-a34d-6f5644b5ca62",
   "metadata": {
    "jp-MarkdownHeadingCollapsed": true,
    "tags": []
   },
   "source": [
    "#### 目标太小"
   ]
  },
  {
   "cell_type": "code",
   "execution_count": 86,
   "id": "df98e7ee-d73c-4e02-9238-e9fd76c681c8",
   "metadata": {
    "tags": []
   },
   "outputs": [],
   "source": [
    "thres = 20\n",
    "clred_df = clred_df[(clred_df['bx_w']>thres) & (clred_df['bx_h']>thres)]"
   ]
  },
  {
   "cell_type": "code",
   "execution_count": 87,
   "id": "6e2f8c12-d298-4330-85cb-9d7c612a421c",
   "metadata": {},
   "outputs": [
    {
     "data": {
      "text/plain": [
       "(6599176, 5889317)"
      ]
     },
     "execution_count": 87,
     "metadata": {},
     "output_type": "execute_result"
    }
   ],
   "source": [
    "len(label_cross_df), len(clred_df)"
   ]
  },
  {
   "cell_type": "code",
   "execution_count": null,
   "id": "f5e7bf7e-8e40-4667-b61f-659e72bedae5",
   "metadata": {},
   "outputs": [],
   "source": []
  },
  {
   "cell_type": "markdown",
   "id": "91c5babe-8470-4741-a9d4-7197436e09a4",
   "metadata": {
    "jp-MarkdownHeadingCollapsed": true,
    "tags": []
   },
   "source": [
    "#### bbox h/w"
   ]
  },
  {
   "cell_type": "code",
   "execution_count": 97,
   "id": "ddc570a5-d921-4835-b59e-1f972502e5f2",
   "metadata": {},
   "outputs": [
    {
     "data": {
      "text/plain": [
       "84820"
      ]
     },
     "execution_count": 97,
     "metadata": {},
     "output_type": "execute_result"
    }
   ],
   "source": [
    "thres = 4\n",
    "temp = clred_df[(clred_df['h/w']>thres) | (clred_df['h/w']<1/thres)]\n",
    "len(temp)"
   ]
  },
  {
   "cell_type": "code",
   "execution_count": 98,
   "id": "e4184975-fc70-45cf-85f8-4ed2e4e383d6",
   "metadata": {},
   "outputs": [
    {
     "data": {
      "text/plain": [
       "label_pred\n",
       "1    39461\n",
       "0    23382\n",
       "5     9366\n",
       "3     9309\n",
       "2     2585\n",
       "4      717\n",
       "dtype: int64"
      ]
     },
     "execution_count": 98,
     "metadata": {},
     "output_type": "execute_result"
    }
   ],
   "source": [
    "temp.value_counts('label_pred')"
   ]
  },
  {
   "cell_type": "code",
   "execution_count": 99,
   "id": "336de077-722a-4345-9b93-88a1f7fb6890",
   "metadata": {},
   "outputs": [
    {
     "data": {
      "text/plain": [
       "conf_show\n",
       "9     31485\n",
       "8     20557\n",
       "7     13956\n",
       "6     10967\n",
       "5      4988\n",
       "10     2867\n",
       "dtype: int64"
      ]
     },
     "execution_count": 99,
     "metadata": {},
     "output_type": "execute_result"
    }
   ],
   "source": [
    "temp.value_counts('conf_show')"
   ]
  },
  {
   "cell_type": "code",
   "execution_count": null,
   "id": "fcc6c124-e713-4829-947c-72d41dc3bb2a",
   "metadata": {},
   "outputs": [],
   "source": []
  },
  {
   "cell_type": "code",
   "execution_count": 101,
   "id": "57321b28-4e45-41f9-8935-cc7abc11b748",
   "metadata": {},
   "outputs": [
    {
     "data": {
      "text/plain": [
       "(6599176, 5450982, 0.8260094896696194)"
      ]
     },
     "execution_count": 101,
     "metadata": {},
     "output_type": "execute_result"
    }
   ],
   "source": [
    "clred_df = clred_df[~clred_df['stem'].isin(temp['stem'])]\n",
    "len(label_cross_df), len(clred_df), len(clred_df)/len(label_cross_df),"
   ]
  },
  {
   "cell_type": "code",
   "execution_count": null,
   "id": "cdb0c7f4-f978-44e7-a843-fe29fc06a298",
   "metadata": {},
   "outputs": [],
   "source": []
  },
  {
   "cell_type": "code",
   "execution_count": 114,
   "id": "18ac947e-a370-4cdb-b514-077321928717",
   "metadata": {},
   "outputs": [
    {
     "data": {
      "text/html": [
       "<div>\n",
       "<style scoped>\n",
       "    .dataframe tbody tr th:only-of-type {\n",
       "        vertical-align: middle;\n",
       "    }\n",
       "\n",
       "    .dataframe tbody tr th {\n",
       "        vertical-align: top;\n",
       "    }\n",
       "\n",
       "    .dataframe thead th {\n",
       "        text-align: right;\n",
       "    }\n",
       "</style>\n",
       "<table border=\"1\" class=\"dataframe\">\n",
       "  <thead>\n",
       "    <tr style=\"text-align: right;\">\n",
       "      <th></th>\n",
       "      <th>label_pred</th>\n",
       "      <th>bx1</th>\n",
       "      <th>bx2</th>\n",
       "      <th>bx3</th>\n",
       "      <th>bx4</th>\n",
       "      <th>conf</th>\n",
       "      <th>id_crop</th>\n",
       "      <th>width</th>\n",
       "      <th>heigth</th>\n",
       "      <th>conf_show</th>\n",
       "      <th>bx_h</th>\n",
       "      <th>bx_w</th>\n",
       "      <th>h/w</th>\n",
       "    </tr>\n",
       "  </thead>\n",
       "  <tbody>\n",
       "    <tr>\n",
       "      <th>count</th>\n",
       "      <td>5.323235e+06</td>\n",
       "      <td>5.323235e+06</td>\n",
       "      <td>5.323235e+06</td>\n",
       "      <td>5.323235e+06</td>\n",
       "      <td>5.323235e+06</td>\n",
       "      <td>5.323235e+06</td>\n",
       "      <td>5.323235e+06</td>\n",
       "      <td>5.323235e+06</td>\n",
       "      <td>5.323235e+06</td>\n",
       "      <td>5.323235e+06</td>\n",
       "      <td>5.323235e+06</td>\n",
       "      <td>5.323235e+06</td>\n",
       "      <td>5.323235e+06</td>\n",
       "    </tr>\n",
       "    <tr>\n",
       "      <th>mean</th>\n",
       "      <td>1.552688e+00</td>\n",
       "      <td>4.968524e-01</td>\n",
       "      <td>6.865291e-01</td>\n",
       "      <td>2.140302e-01</td>\n",
       "      <td>2.379825e-01</td>\n",
       "      <td>8.176063e-01</td>\n",
       "      <td>1.716938e+00</td>\n",
       "      <td>8.812612e+02</td>\n",
       "      <td>1.163139e+03</td>\n",
       "      <td>8.161885e+00</td>\n",
       "      <td>2.767135e+02</td>\n",
       "      <td>1.880899e+02</td>\n",
       "      <td>1.550196e+00</td>\n",
       "    </tr>\n",
       "    <tr>\n",
       "      <th>std</th>\n",
       "      <td>1.597507e+00</td>\n",
       "      <td>1.093304e-01</td>\n",
       "      <td>2.077841e-01</td>\n",
       "      <td>1.267241e-01</td>\n",
       "      <td>1.570488e-01</td>\n",
       "      <td>1.249757e-01</td>\n",
       "      <td>1.272721e+00</td>\n",
       "      <td>2.883422e+02</td>\n",
       "      <td>3.644001e+02</td>\n",
       "      <td>1.283396e+00</td>\n",
       "      <td>2.099181e+02</td>\n",
       "      <td>1.312383e+02</td>\n",
       "      <td>7.051437e-01</td>\n",
       "    </tr>\n",
       "    <tr>\n",
       "      <th>min</th>\n",
       "      <td>0.000000e+00</td>\n",
       "      <td>2.000000e-02</td>\n",
       "      <td>1.581720e-02</td>\n",
       "      <td>4.000000e-02</td>\n",
       "      <td>2.325580e-02</td>\n",
       "      <td>5.000000e-01</td>\n",
       "      <td>0.000000e+00</td>\n",
       "      <td>5.010000e+02</td>\n",
       "      <td>5.010000e+02</td>\n",
       "      <td>5.000000e+00</td>\n",
       "      <td>2.062748e+01</td>\n",
       "      <td>2.056804e+01</td>\n",
       "      <td>2.500000e-01</td>\n",
       "    </tr>\n",
       "    <tr>\n",
       "      <th>25%</th>\n",
       "      <td>0.000000e+00</td>\n",
       "      <td>4.411760e-01</td>\n",
       "      <td>5.062960e-01</td>\n",
       "      <td>1.086960e-01</td>\n",
       "      <td>1.034990e-01</td>\n",
       "      <td>7.372370e-01</td>\n",
       "      <td>1.000000e+00</td>\n",
       "      <td>6.900000e+02</td>\n",
       "      <td>9.200000e+02</td>\n",
       "      <td>7.000000e+00</td>\n",
       "      <td>1.146670e+02</td>\n",
       "      <td>9.072000e+01</td>\n",
       "      <td>1.018361e+00</td>\n",
       "    </tr>\n",
       "    <tr>\n",
       "      <th>50%</th>\n",
       "      <td>1.000000e+00</td>\n",
       "      <td>4.980450e-01</td>\n",
       "      <td>6.880170e-01</td>\n",
       "      <td>1.855070e-01</td>\n",
       "      <td>1.932370e-01</td>\n",
       "      <td>8.587160e-01</td>\n",
       "      <td>2.000000e+00</td>\n",
       "      <td>6.900000e+02</td>\n",
       "      <td>1.035000e+03</td>\n",
       "      <td>9.000000e+00</td>\n",
       "      <td>2.137585e+02</td>\n",
       "      <td>1.550002e+02</td>\n",
       "      <td>1.417156e+00</td>\n",
       "    </tr>\n",
       "    <tr>\n",
       "      <th>75%</th>\n",
       "      <td>3.000000e+00</td>\n",
       "      <td>5.528990e-01</td>\n",
       "      <td>8.985510e-01</td>\n",
       "      <td>2.929690e-01</td>\n",
       "      <td>3.472710e-01</td>\n",
       "      <td>9.187500e-01</td>\n",
       "      <td>3.000000e+00</td>\n",
       "      <td>1.252000e+03</td>\n",
       "      <td>1.441000e+03</td>\n",
       "      <td>9.000000e+00</td>\n",
       "      <td>3.809996e+02</td>\n",
       "      <td>2.465190e+02</td>\n",
       "      <td>1.968069e+00</td>\n",
       "    </tr>\n",
       "    <tr>\n",
       "      <th>max</th>\n",
       "      <td>5.000000e+00</td>\n",
       "      <td>9.797770e-01</td>\n",
       "      <td>9.800000e-01</td>\n",
       "      <td>1.000000e+00</td>\n",
       "      <td>1.000000e+00</td>\n",
       "      <td>9.866390e-01</td>\n",
       "      <td>6.000000e+00</td>\n",
       "      <td>8.256000e+03</td>\n",
       "      <td>8.192000e+03</td>\n",
       "      <td>1.000000e+01</td>\n",
       "      <td>5.192221e+03</td>\n",
       "      <td>3.150000e+03</td>\n",
       "      <td>4.000000e+00</td>\n",
       "    </tr>\n",
       "  </tbody>\n",
       "</table>\n",
       "</div>"
      ],
      "text/plain": [
       "         label_pred           bx1           bx2           bx3           bx4  \\\n",
       "count  5.323235e+06  5.323235e+06  5.323235e+06  5.323235e+06  5.323235e+06   \n",
       "mean   1.552688e+00  4.968524e-01  6.865291e-01  2.140302e-01  2.379825e-01   \n",
       "std    1.597507e+00  1.093304e-01  2.077841e-01  1.267241e-01  1.570488e-01   \n",
       "min    0.000000e+00  2.000000e-02  1.581720e-02  4.000000e-02  2.325580e-02   \n",
       "25%    0.000000e+00  4.411760e-01  5.062960e-01  1.086960e-01  1.034990e-01   \n",
       "50%    1.000000e+00  4.980450e-01  6.880170e-01  1.855070e-01  1.932370e-01   \n",
       "75%    3.000000e+00  5.528990e-01  8.985510e-01  2.929690e-01  3.472710e-01   \n",
       "max    5.000000e+00  9.797770e-01  9.800000e-01  1.000000e+00  1.000000e+00   \n",
       "\n",
       "               conf       id_crop         width        heigth     conf_show  \\\n",
       "count  5.323235e+06  5.323235e+06  5.323235e+06  5.323235e+06  5.323235e+06   \n",
       "mean   8.176063e-01  1.716938e+00  8.812612e+02  1.163139e+03  8.161885e+00   \n",
       "std    1.249757e-01  1.272721e+00  2.883422e+02  3.644001e+02  1.283396e+00   \n",
       "min    5.000000e-01  0.000000e+00  5.010000e+02  5.010000e+02  5.000000e+00   \n",
       "25%    7.372370e-01  1.000000e+00  6.900000e+02  9.200000e+02  7.000000e+00   \n",
       "50%    8.587160e-01  2.000000e+00  6.900000e+02  1.035000e+03  9.000000e+00   \n",
       "75%    9.187500e-01  3.000000e+00  1.252000e+03  1.441000e+03  9.000000e+00   \n",
       "max    9.866390e-01  6.000000e+00  8.256000e+03  8.192000e+03  1.000000e+01   \n",
       "\n",
       "               bx_h          bx_w           h/w  \n",
       "count  5.323235e+06  5.323235e+06  5.323235e+06  \n",
       "mean   2.767135e+02  1.880899e+02  1.550196e+00  \n",
       "std    2.099181e+02  1.312383e+02  7.051437e-01  \n",
       "min    2.062748e+01  2.056804e+01  2.500000e-01  \n",
       "25%    1.146670e+02  9.072000e+01  1.018361e+00  \n",
       "50%    2.137585e+02  1.550002e+02  1.417156e+00  \n",
       "75%    3.809996e+02  2.465190e+02  1.968069e+00  \n",
       "max    5.192221e+03  3.150000e+03  4.000000e+00  "
      ]
     },
     "execution_count": 114,
     "metadata": {},
     "output_type": "execute_result"
    }
   ],
   "source": [
    "clred_df.describe()"
   ]
  },
  {
   "cell_type": "code",
   "execution_count": 126,
   "id": "a18a55f7-3e2a-4134-a137-5cb278e78080",
   "metadata": {},
   "outputs": [],
   "source": []
  },
  {
   "cell_type": "markdown",
   "id": "9441aca6-93e0-41fc-ae98-39f4e6ddcbd8",
   "metadata": {
    "jp-MarkdownHeadingCollapsed": true,
    "tags": []
   },
   "source": [
    "#### 鞋子"
   ]
  },
  {
   "cell_type": "code",
   "execution_count": 41,
   "id": "6f19693b-799e-45fa-bcbe-7148bb8eafcb",
   "metadata": {},
   "outputs": [],
   "source": [
    "# 都是模特图\n",
    "# 鞋子都比较小,绝对值和相对值\n",
    "# 都在下半图，且可能比较大"
   ]
  },
  {
   "cell_type": "code",
   "execution_count": 241,
   "id": "8f83214c-2556-4126-82b4-39b7ccc9adf8",
   "metadata": {},
   "outputs": [],
   "source": [
    "# clred_df = pd.read_csv('clred_temp.csv')\n",
    "clred_df.to_csv('clred_final.csv', index=False)"
   ]
  },
  {
   "cell_type": "code",
   "execution_count": 170,
   "id": "4e1d56be-1fb6-48ac-8412-c5b3b9734d05",
   "metadata": {},
   "outputs": [],
   "source": [
    "cls = 5"
   ]
  },
  {
   "cell_type": "code",
   "execution_count": null,
   "id": "88bcb69d-d627-49c7-b2e1-f66c649a0cb1",
   "metadata": {},
   "outputs": [],
   "source": []
  },
  {
   "cell_type": "markdown",
   "id": "96c1c1f4-a647-439d-b9cd-b43040b1e447",
   "metadata": {},
   "source": [
    "##### 鞋子太小"
   ]
  },
  {
   "cell_type": "code",
   "execution_count": 171,
   "id": "a4190e4b-4cc6-4ca4-abb3-563e16d6e694",
   "metadata": {},
   "outputs": [
    {
     "data": {
      "text/plain": [
       "59545"
      ]
     },
     "execution_count": 171,
     "metadata": {},
     "output_type": "execute_result"
    }
   ],
   "source": [
    "thres = 50\n",
    "temp = clred_df[(clred_df['bx_h']<thres) | (clred_df['bx_w']<thres) \n",
    "             & (clred_df['label_pred']==cls)]\n",
    "len(temp)"
   ]
  },
  {
   "cell_type": "code",
   "execution_count": 172,
   "id": "5f307d45-af21-4076-81de-fae35aa837fc",
   "metadata": {},
   "outputs": [
    {
     "data": {
      "text/plain": [
       "(6599176, 4855234, 0.7357333703480555)"
      ]
     },
     "execution_count": 172,
     "metadata": {},
     "output_type": "execute_result"
    }
   ],
   "source": [
    "clred_df = clred_df[~clred_df['stem'].isin(temp['stem'])]\n",
    "len(label_cross_df), len(clred_df), len(clred_df)/len(label_cross_df),"
   ]
  },
  {
   "cell_type": "code",
   "execution_count": null,
   "id": "87bc6929-8997-4e7a-a5bd-06fe88e1d977",
   "metadata": {},
   "outputs": [],
   "source": []
  },
  {
   "cell_type": "code",
   "execution_count": 176,
   "id": "e6119271-65a6-43fe-8323-756cc7516c47",
   "metadata": {},
   "outputs": [
    {
     "data": {
      "text/plain": [
       "859"
      ]
     },
     "execution_count": 176,
     "metadata": {},
     "output_type": "execute_result"
    }
   ],
   "source": [
    "thres = 0.15\n",
    "temp = clred_df[(clred_df['bx3']<thres) & (clred_df['bx4']<(thres+0.1) )\n",
    "             & (clred_df['label_pred']==cls)]\n",
    "len(temp)"
   ]
  },
  {
   "cell_type": "code",
   "execution_count": 177,
   "id": "218fc7d9-411c-4e4b-af17-fcc591b3840d",
   "metadata": {},
   "outputs": [
    {
     "data": {
      "text/plain": [
       "(6599176, 4851958, 0.7352369447337062)"
      ]
     },
     "execution_count": 177,
     "metadata": {},
     "output_type": "execute_result"
    }
   ],
   "source": [
    "clred_df = clred_df[~clred_df['stem'].isin(temp['stem'])]\n",
    "len(label_cross_df), len(clred_df), len(clred_df)/len(label_cross_df),"
   ]
  },
  {
   "cell_type": "code",
   "execution_count": null,
   "id": "dcfb17c1-5036-4184-9073-2affd1d8670d",
   "metadata": {},
   "outputs": [],
   "source": []
  },
  {
   "cell_type": "code",
   "execution_count": 181,
   "id": "5888adae-75c2-40dc-a1dd-a3b42f1a79c6",
   "metadata": {},
   "outputs": [
    {
     "data": {
      "text/plain": [
       "0"
      ]
     },
     "execution_count": 181,
     "metadata": {},
     "output_type": "execute_result"
    }
   ],
   "source": [
    "thres = 0.05\n",
    "temp = clred_df[(clred_df['bx3']<thres) | (clred_df['bx4']<thres) \n",
    "             & (clred_df['label_pred']==cls)]\n",
    "len(temp)"
   ]
  },
  {
   "cell_type": "code",
   "execution_count": 182,
   "id": "565ec472-cf66-48b3-b3bb-971275c576e3",
   "metadata": {},
   "outputs": [
    {
     "data": {
      "text/plain": [
       "(6599176, 4851958, 0.7352369447337062)"
      ]
     },
     "execution_count": 182,
     "metadata": {},
     "output_type": "execute_result"
    }
   ],
   "source": [
    "clred_df = clred_df[~clred_df['stem'].isin(temp['stem'])]\n",
    "len(label_cross_df), len(clred_df), len(clred_df)/len(label_cross_df),"
   ]
  },
  {
   "cell_type": "markdown",
   "id": "588ead17-8d7e-4a3f-bb0a-a026e31ceccd",
   "metadata": {},
   "source": [
    "##### 长宽比"
   ]
  },
  {
   "cell_type": "code",
   "execution_count": 200,
   "id": "7e5cd83e-5a9c-400b-b523-a153c8c31663",
   "metadata": {},
   "outputs": [
    {
     "data": {
      "text/plain": [
       "25676"
      ]
     },
     "execution_count": 200,
     "metadata": {},
     "output_type": "execute_result"
    }
   ],
   "source": [
    "thres = 1.4\n",
    "temp = clred_df[(clred_df['bx_h'].values/clred_df['bx_w'].values<thres)\n",
    "             & (clred_df['label_pred']==cls)]\n",
    "len(temp)"
   ]
  },
  {
   "cell_type": "code",
   "execution_count": 201,
   "id": "e3af7497-a5c9-4fa0-8c21-f181f11d3c97",
   "metadata": {},
   "outputs": [
    {
     "data": {
      "text/plain": [
       "(6599176, 4654432, 0.7053050259608169)"
      ]
     },
     "execution_count": 201,
     "metadata": {},
     "output_type": "execute_result"
    }
   ],
   "source": [
    "clred_df = clred_df[~clred_df['stem'].isin(temp['stem'])]\n",
    "len(label_cross_df), len(clred_df), len(clred_df)/len(label_cross_df),"
   ]
  },
  {
   "cell_type": "code",
   "execution_count": null,
   "id": "138fdc62-bf11-4b71-964e-516fcde2c41d",
   "metadata": {},
   "outputs": [],
   "source": []
  },
  {
   "cell_type": "markdown",
   "id": "f3ef0875-4304-4c30-b711-e950cdceb84b",
   "metadata": {},
   "source": [
    "#### 鞋子的位置"
   ]
  },
  {
   "cell_type": "code",
   "execution_count": 202,
   "id": "b3647cb9-9b74-401f-96d8-eafbbd194e79",
   "metadata": {},
   "outputs": [],
   "source": [
    "model_label_map = {\n",
    "    0: 10,  # 鞋子\n",
    "    1: 8,  # 包包\n",
    "    2: 4,  # 上装\n",
    "    3: 5,  # 裤子\n",
    "    4: 6,  # 裙子\n",
    "    5: 7,  # 连体装\n",
    "}"
   ]
  },
  {
   "cell_type": "code",
   "execution_count": 223,
   "id": "cc67e5b4-1f43-41b9-aa1f-4e7ffc8de0d4",
   "metadata": {},
   "outputs": [],
   "source": [
    "cls = 5"
   ]
  },
  {
   "cell_type": "code",
   "execution_count": 227,
   "id": "412c7adb-122f-4539-8fe6-74f62b72acd0",
   "metadata": {},
   "outputs": [
    {
     "data": {
      "text/plain": [
       "10160"
      ]
     },
     "execution_count": 227,
     "metadata": {},
     "output_type": "execute_result"
    }
   ],
   "source": [
    "thres = 0.7\n",
    "temp = clred_df[(clred_df['bx2']>thres) \n",
    "             & (clred_df['label_pred']==cls)]\n",
    "len(temp)"
   ]
  },
  {
   "cell_type": "code",
   "execution_count": 228,
   "id": "d5113411-bd66-473d-90c9-0d39f302f52b",
   "metadata": {},
   "outputs": [
    {
     "data": {
      "text/plain": [
       "(6599176, 4450660, 0.674426625384745)"
      ]
     },
     "execution_count": 228,
     "metadata": {},
     "output_type": "execute_result"
    }
   ],
   "source": [
    "clred_df = clred_df[~clred_df['stem'].isin(temp['stem'])]\n",
    "len(label_cross_df), len(clred_df), len(clred_df)/len(label_cross_df),"
   ]
  },
  {
   "cell_type": "code",
   "execution_count": null,
   "id": "f84b113f-e238-41e8-98c0-43c4c501d10b",
   "metadata": {},
   "outputs": [],
   "source": []
  },
  {
   "cell_type": "code",
   "execution_count": null,
   "id": "45da6a81-45d0-4288-98c0-537c2ca2f5dd",
   "metadata": {},
   "outputs": [],
   "source": []
  },
  {
   "cell_type": "markdown",
   "id": "abda3c05-6556-4a20-99b4-52c25275a503",
   "metadata": {},
   "source": [
    "#### bbox偏离中心的"
   ]
  },
  {
   "cell_type": "code",
   "execution_count": 238,
   "id": "b3bf5c7c-3e34-4067-a287-0fc60dd30f1e",
   "metadata": {},
   "outputs": [
    {
     "data": {
      "text/plain": [
       "24127"
      ]
     },
     "execution_count": 238,
     "metadata": {},
     "output_type": "execute_result"
    }
   ],
   "source": [
    "thres = 0.2\n",
    "temp = clred_df[(((clred_df['bx1']<thres)& (clred_df['bx2']<thres)) |\n",
    "               ((clred_df['bx1']>1-thres)& (clred_df['bx2']>1-thres)) |\n",
    "               ((clred_df['bx1']>1-thres)& (clred_df['bx2']<thres)) |\n",
    "               ((clred_df['bx1']<thres)& (clred_df['bx2']>1-thres)))]\n",
    "len(temp)"
   ]
  },
  {
   "cell_type": "code",
   "execution_count": 239,
   "id": "a97836dd-66a8-4118-9b1c-780a9e3715fc",
   "metadata": {},
   "outputs": [
    {
     "data": {
      "text/plain": [
       "(6599176, 4276565, 0.6480453014133886)"
      ]
     },
     "execution_count": 239,
     "metadata": {},
     "output_type": "execute_result"
    }
   ],
   "source": [
    "clred_df = clred_df[~clred_df['stem'].isin(temp['stem'])]\n",
    "len(label_cross_df), len(clred_df), len(clred_df)/len(label_cross_df),"
   ]
  },
  {
   "cell_type": "code",
   "execution_count": 240,
   "id": "1cc21c1b-e683-405c-ac3b-5199dbdbffde",
   "metadata": {},
   "outputs": [
    {
     "data": {
      "text/html": [
       "<div>\n",
       "<style scoped>\n",
       "    .dataframe tbody tr th:only-of-type {\n",
       "        vertical-align: middle;\n",
       "    }\n",
       "\n",
       "    .dataframe tbody tr th {\n",
       "        vertical-align: top;\n",
       "    }\n",
       "\n",
       "    .dataframe thead th {\n",
       "        text-align: right;\n",
       "    }\n",
       "</style>\n",
       "<table border=\"1\" class=\"dataframe\">\n",
       "  <thead>\n",
       "    <tr style=\"text-align: right;\">\n",
       "      <th></th>\n",
       "      <th>label_pred</th>\n",
       "      <th>bx1</th>\n",
       "      <th>bx2</th>\n",
       "      <th>bx3</th>\n",
       "      <th>bx4</th>\n",
       "      <th>conf</th>\n",
       "      <th>id_crop</th>\n",
       "      <th>width</th>\n",
       "      <th>heigth</th>\n",
       "      <th>conf_show</th>\n",
       "      <th>bx_h</th>\n",
       "      <th>bx_w</th>\n",
       "      <th>h/w</th>\n",
       "    </tr>\n",
       "  </thead>\n",
       "  <tbody>\n",
       "    <tr>\n",
       "      <th>count</th>\n",
       "      <td>4.276565e+06</td>\n",
       "      <td>4.276565e+06</td>\n",
       "      <td>4.276565e+06</td>\n",
       "      <td>4.276565e+06</td>\n",
       "      <td>4.276565e+06</td>\n",
       "      <td>4.276565e+06</td>\n",
       "      <td>4.276565e+06</td>\n",
       "      <td>4.276565e+06</td>\n",
       "      <td>4.276565e+06</td>\n",
       "      <td>4.276565e+06</td>\n",
       "      <td>4.276565e+06</td>\n",
       "      <td>4.276565e+06</td>\n",
       "      <td>4.276565e+06</td>\n",
       "    </tr>\n",
       "    <tr>\n",
       "      <th>mean</th>\n",
       "      <td>1.549420e+00</td>\n",
       "      <td>4.973157e-01</td>\n",
       "      <td>6.853039e-01</td>\n",
       "      <td>2.135318e-01</td>\n",
       "      <td>2.426166e-01</td>\n",
       "      <td>8.169581e-01</td>\n",
       "      <td>1.724285e+00</td>\n",
       "      <td>8.922618e+02</td>\n",
       "      <td>1.185037e+03</td>\n",
       "      <td>8.155439e+00</td>\n",
       "      <td>2.868372e+02</td>\n",
       "      <td>1.897854e+02</td>\n",
       "      <td>1.583868e+00</td>\n",
       "    </tr>\n",
       "    <tr>\n",
       "      <th>std</th>\n",
       "      <td>1.553438e+00</td>\n",
       "      <td>9.936780e-02</td>\n",
       "      <td>2.066608e-01</td>\n",
       "      <td>1.228110e-01</td>\n",
       "      <td>1.581768e-01</td>\n",
       "      <td>1.252243e-01</td>\n",
       "      <td>1.268442e+00</td>\n",
       "      <td>2.916066e+02</td>\n",
       "      <td>3.628137e+02</td>\n",
       "      <td>1.285817e+00</td>\n",
       "      <td>2.143494e+02</td>\n",
       "      <td>1.288673e+02</td>\n",
       "      <td>7.001135e-01</td>\n",
       "    </tr>\n",
       "    <tr>\n",
       "      <th>min</th>\n",
       "      <td>0.000000e+00</td>\n",
       "      <td>2.536230e-02</td>\n",
       "      <td>2.934780e-02</td>\n",
       "      <td>5.000000e-02</td>\n",
       "      <td>4.000000e-02</td>\n",
       "      <td>5.000000e-01</td>\n",
       "      <td>0.000000e+00</td>\n",
       "      <td>5.010000e+02</td>\n",
       "      <td>5.010000e+02</td>\n",
       "      <td>5.000000e+00</td>\n",
       "      <td>5.000000e+01</td>\n",
       "      <td>2.515000e+01</td>\n",
       "      <td>2.500004e-01</td>\n",
       "    </tr>\n",
       "    <tr>\n",
       "      <th>25%</th>\n",
       "      <td>0.000000e+00</td>\n",
       "      <td>4.442030e-01</td>\n",
       "      <td>5.073240e-01</td>\n",
       "      <td>1.101450e-01</td>\n",
       "      <td>1.053140e-01</td>\n",
       "      <td>7.354250e-01</td>\n",
       "      <td>1.000000e+00</td>\n",
       "      <td>6.900000e+02</td>\n",
       "      <td>9.200000e+02</td>\n",
       "      <td>7.000000e+00</td>\n",
       "      <td>1.190002e+02</td>\n",
       "      <td>9.299970e+01</td>\n",
       "      <td>1.052670e+00</td>\n",
       "    </tr>\n",
       "    <tr>\n",
       "      <th>50%</th>\n",
       "      <td>1.000000e+00</td>\n",
       "      <td>4.984360e-01</td>\n",
       "      <td>6.835940e-01</td>\n",
       "      <td>1.880000e-01</td>\n",
       "      <td>2.009380e-01</td>\n",
       "      <td>8.579490e-01</td>\n",
       "      <td>2.000000e+00</td>\n",
       "      <td>6.900000e+02</td>\n",
       "      <td>1.035000e+03</td>\n",
       "      <td>9.000000e+00</td>\n",
       "      <td>2.236635e+02</td>\n",
       "      <td>1.580006e+02</td>\n",
       "      <td>1.457367e+00</td>\n",
       "    </tr>\n",
       "    <tr>\n",
       "      <th>75%</th>\n",
       "      <td>3.000000e+00</td>\n",
       "      <td>5.506940e-01</td>\n",
       "      <td>8.984920e-01</td>\n",
       "      <td>2.929690e-01</td>\n",
       "      <td>3.523740e-01</td>\n",
       "      <td>9.187690e-01</td>\n",
       "      <td>3.000000e+00</td>\n",
       "      <td>1.279000e+03</td>\n",
       "      <td>1.640000e+03</td>\n",
       "      <td>9.000000e+00</td>\n",
       "      <td>3.951303e+02</td>\n",
       "      <td>2.490003e+02</td>\n",
       "      <td>2.001156e+00</td>\n",
       "    </tr>\n",
       "    <tr>\n",
       "      <th>max</th>\n",
       "      <td>5.000000e+00</td>\n",
       "      <td>9.740740e-01</td>\n",
       "      <td>9.800000e-01</td>\n",
       "      <td>1.000000e+00</td>\n",
       "      <td>1.000000e+00</td>\n",
       "      <td>9.866390e-01</td>\n",
       "      <td>6.000000e+00</td>\n",
       "      <td>8.256000e+03</td>\n",
       "      <td>8.192000e+03</td>\n",
       "      <td>1.000000e+01</td>\n",
       "      <td>5.192221e+03</td>\n",
       "      <td>3.150000e+03</td>\n",
       "      <td>4.000000e+00</td>\n",
       "    </tr>\n",
       "  </tbody>\n",
       "</table>\n",
       "</div>"
      ],
      "text/plain": [
       "         label_pred           bx1           bx2           bx3           bx4  \\\n",
       "count  4.276565e+06  4.276565e+06  4.276565e+06  4.276565e+06  4.276565e+06   \n",
       "mean   1.549420e+00  4.973157e-01  6.853039e-01  2.135318e-01  2.426166e-01   \n",
       "std    1.553438e+00  9.936780e-02  2.066608e-01  1.228110e-01  1.581768e-01   \n",
       "min    0.000000e+00  2.536230e-02  2.934780e-02  5.000000e-02  4.000000e-02   \n",
       "25%    0.000000e+00  4.442030e-01  5.073240e-01  1.101450e-01  1.053140e-01   \n",
       "50%    1.000000e+00  4.984360e-01  6.835940e-01  1.880000e-01  2.009380e-01   \n",
       "75%    3.000000e+00  5.506940e-01  8.984920e-01  2.929690e-01  3.523740e-01   \n",
       "max    5.000000e+00  9.740740e-01  9.800000e-01  1.000000e+00  1.000000e+00   \n",
       "\n",
       "               conf       id_crop         width        heigth     conf_show  \\\n",
       "count  4.276565e+06  4.276565e+06  4.276565e+06  4.276565e+06  4.276565e+06   \n",
       "mean   8.169581e-01  1.724285e+00  8.922618e+02  1.185037e+03  8.155439e+00   \n",
       "std    1.252243e-01  1.268442e+00  2.916066e+02  3.628137e+02  1.285817e+00   \n",
       "min    5.000000e-01  0.000000e+00  5.010000e+02  5.010000e+02  5.000000e+00   \n",
       "25%    7.354250e-01  1.000000e+00  6.900000e+02  9.200000e+02  7.000000e+00   \n",
       "50%    8.579490e-01  2.000000e+00  6.900000e+02  1.035000e+03  9.000000e+00   \n",
       "75%    9.187690e-01  3.000000e+00  1.279000e+03  1.640000e+03  9.000000e+00   \n",
       "max    9.866390e-01  6.000000e+00  8.256000e+03  8.192000e+03  1.000000e+01   \n",
       "\n",
       "               bx_h          bx_w           h/w  \n",
       "count  4.276565e+06  4.276565e+06  4.276565e+06  \n",
       "mean   2.868372e+02  1.897854e+02  1.583868e+00  \n",
       "std    2.143494e+02  1.288673e+02  7.001135e-01  \n",
       "min    5.000000e+01  2.515000e+01  2.500004e-01  \n",
       "25%    1.190002e+02  9.299970e+01  1.052670e+00  \n",
       "50%    2.236635e+02  1.580006e+02  1.457367e+00  \n",
       "75%    3.951303e+02  2.490003e+02  2.001156e+00  \n",
       "max    5.192221e+03  3.150000e+03  4.000000e+00  "
      ]
     },
     "execution_count": 240,
     "metadata": {},
     "output_type": "execute_result"
    }
   ],
   "source": [
    "clred_df.describe()"
   ]
  },
  {
   "cell_type": "code",
   "execution_count": null,
   "id": "fdc0b412-eab1-4fa2-b04c-99160cc8099a",
   "metadata": {},
   "outputs": [],
   "source": []
  },
  {
   "cell_type": "code",
   "execution_count": null,
   "id": "25b7af07-a1f8-44a2-8256-2ead6f894eb6",
   "metadata": {},
   "outputs": [],
   "source": []
  },
  {
   "cell_type": "markdown",
   "id": "553b40b9-eb04-4972-96b7-1954a98e8174",
   "metadata": {},
   "source": [
    "### 数据拷贝"
   ]
  },
  {
   "cell_type": "code",
   "execution_count": 14,
   "id": "7fe7dda8-822c-43e7-9fae-d0d6786ae7d0",
   "metadata": {},
   "outputs": [],
   "source": [
    "import sys\n",
    "sys.path.append('../')\n",
    "from utils.data.transfer import copy_data_mkdir, run_task_multithread"
   ]
  },
  {
   "cell_type": "code",
   "execution_count": null,
   "id": "89ad62b4-5813-48b4-997f-bda59c3621a6",
   "metadata": {},
   "outputs": [],
   "source": []
  },
  {
   "cell_type": "code",
   "execution_count": 15,
   "id": "4b1e244b-059a-48d5-8d38-86ce878fc6a7",
   "metadata": {},
   "outputs": [
    {
     "data": {
      "text/html": [
       "<div>\n",
       "<style scoped>\n",
       "    .dataframe tbody tr th:only-of-type {\n",
       "        vertical-align: middle;\n",
       "    }\n",
       "\n",
       "    .dataframe tbody tr th {\n",
       "        vertical-align: top;\n",
       "    }\n",
       "\n",
       "    .dataframe thead th {\n",
       "        text-align: right;\n",
       "    }\n",
       "</style>\n",
       "<table border=\"1\" class=\"dataframe\">\n",
       "  <thead>\n",
       "    <tr style=\"text-align: right;\">\n",
       "      <th></th>\n",
       "      <th>label_pred</th>\n",
       "      <th>bx1</th>\n",
       "      <th>bx2</th>\n",
       "      <th>bx3</th>\n",
       "      <th>bx4</th>\n",
       "      <th>conf</th>\n",
       "      <th>id_crop</th>\n",
       "      <th>label_p</th>\n",
       "      <th>stem</th>\n",
       "      <th>oss_sp</th>\n",
       "      <th>width</th>\n",
       "      <th>heigth</th>\n",
       "      <th>label_eng</th>\n",
       "      <th>crops_sp</th>\n",
       "      <th>crops_tp</th>\n",
       "    </tr>\n",
       "  </thead>\n",
       "  <tbody>\n",
       "    <tr>\n",
       "      <th>0</th>\n",
       "      <td>0</td>\n",
       "      <td>0.373611</td>\n",
       "      <td>0.942361</td>\n",
       "      <td>0.083333</td>\n",
       "      <td>0.115278</td>\n",
       "      <td>0.880866</td>\n",
       "      <td>0</td>\n",
       "      <td>/nas/chenyi/datasets_cls/gallery_detect/galler...</td>\n",
       "      <td>69313640-af52-465e-88c8-c0a0099ca5c7-699544</td>\n",
       "      <td>/nas/oss/gallery/69/31/69313640-af52-465e-88c8...</td>\n",
       "      <td>933</td>\n",
       "      <td>933</td>\n",
       "      <td>shoe</td>\n",
       "      <td>/nas/chenyi/datasets_cls/gallery_detect/galler...</td>\n",
       "      <td>/nas/chenyi/datasets_cls/gallery_detect/galler...</td>\n",
       "    </tr>\n",
       "  </tbody>\n",
       "</table>\n",
       "</div>"
      ],
      "text/plain": [
       "   label_pred       bx1       bx2       bx3       bx4      conf  id_crop  \\\n",
       "0           0  0.373611  0.942361  0.083333  0.115278  0.880866        0   \n",
       "\n",
       "                                             label_p  \\\n",
       "0  /nas/chenyi/datasets_cls/gallery_detect/galler...   \n",
       "\n",
       "                                          stem  \\\n",
       "0  69313640-af52-465e-88c8-c0a0099ca5c7-699544   \n",
       "\n",
       "                                              oss_sp  width  heigth label_eng  \\\n",
       "0  /nas/oss/gallery/69/31/69313640-af52-465e-88c8...    933     933      shoe   \n",
       "\n",
       "                                            crops_sp  \\\n",
       "0  /nas/chenyi/datasets_cls/gallery_detect/galler...   \n",
       "\n",
       "                                            crops_tp  \n",
       "0  /nas/chenyi/datasets_cls/gallery_detect/galler...  "
      ]
     },
     "execution_count": 15,
     "metadata": {},
     "output_type": "execute_result"
    }
   ],
   "source": [
    "clred_df.head(1)"
   ]
  },
  {
   "cell_type": "code",
   "execution_count": 44,
   "id": "00f94f39-9066-4164-b12c-17aabc4b9539",
   "metadata": {},
   "outputs": [],
   "source": [
    "input_list = [list(item) for item in zip(clred_final_df['crops_sp'].values, clred_final_df['crops_tp'].values)]"
   ]
  },
  {
   "cell_type": "code",
   "execution_count": null,
   "id": "6b8f78ed-29f5-49f8-baf4-6a4ac9b3a1bd",
   "metadata": {},
   "outputs": [],
   "source": []
  },
  {
   "cell_type": "code",
   "execution_count": 61,
   "id": "852d0fcb-f926-42fb-80bf-8b45d3ea293b",
   "metadata": {},
   "outputs": [
    {
     "name": "stdout",
     "output_type": "stream",
     "text": [
      "CPU times: user 3 µs, sys: 0 ns, total: 3 µs\n",
      "Wall time: 5.48 µs\n"
     ]
    }
   ],
   "source": [
    "%%time\n",
    "import shutil\n",
    "def copy_data_mkdir(plist, mode='move'):\n",
    "    ps = Path(plist[0])\n",
    "    pt = Path(plist[1])\n",
    "    if not pt.parent.is_dir():\n",
    "        pt.parent.mkdir(parents=True, exist_ok=True)\n",
    "    if ps.is_file() and (not pt.is_file()):\n",
    "        if mode=='move':\n",
    "            Path.rename(ps, pt)\n",
    "        else:\n",
    "            shutil.copyfile(ps, pt)"
   ]
  },
  {
   "cell_type": "code",
   "execution_count": 72,
   "id": "4bc5f49e-78c4-4728-a91d-3d88ffd5fd0d",
   "metadata": {},
   "outputs": [
    {
     "name": "stderr",
     "output_type": "stream",
     "text": [
      "100%|████████████████| 4276565/4276565 [08:50<00:00, 8064.84it/s]\n"
     ]
    }
   ],
   "source": [
    "from tqdm import tqdm\n",
    "for plist in tqdm(input_list):\n",
    "    copy_data_mkdir(plist)\n",
    "    # break"
   ]
  },
  {
   "cell_type": "code",
   "execution_count": 73,
   "id": "5ba4fd5d-89f1-4ad9-bd1a-abd09c06795a",
   "metadata": {},
   "outputs": [],
   "source": [
    "# %%time           \n",
    "# run_task_multithread(input_list[::-1], copy_data_mkdir, 20)"
   ]
  },
  {
   "cell_type": "code",
   "execution_count": null,
   "id": "0b85b958-2c46-4632-87c3-4d5a26df6245",
   "metadata": {},
   "outputs": [],
   "source": []
  },
  {
   "cell_type": "code",
   "execution_count": null,
   "id": "f02a80b9-7245-48ac-add6-dbff80d8fc27",
   "metadata": {},
   "outputs": [],
   "source": []
  },
  {
   "cell_type": "code",
   "execution_count": null,
   "id": "495bb71f-62ea-464c-bc24-54b27e7f4cb2",
   "metadata": {},
   "outputs": [],
   "source": []
  },
  {
   "cell_type": "code",
   "execution_count": null,
   "id": "3a6f07a8-b857-4dd5-9df5-b6b3b5d33e87",
   "metadata": {},
   "outputs": [],
   "source": []
  },
  {
   "cell_type": "code",
   "execution_count": null,
   "id": "9496756f-c9e5-4ef4-b548-57ac4187c65c",
   "metadata": {},
   "outputs": [],
   "source": []
  },
  {
   "cell_type": "code",
   "execution_count": null,
   "id": "d2fbb7a2-bc53-4d1f-b45e-5027a8f639e2",
   "metadata": {},
   "outputs": [],
   "source": []
  },
  {
   "cell_type": "code",
   "execution_count": null,
   "id": "aba65f95-64ac-4002-ae3a-93c67fac134d",
   "metadata": {},
   "outputs": [],
   "source": []
  },
  {
   "cell_type": "code",
   "execution_count": null,
   "id": "00f6125c-2f76-41a0-8251-7d2660c57c5d",
   "metadata": {},
   "outputs": [],
   "source": []
  }
 ],
 "metadata": {
  "kernelspec": {
   "display_name": "Python 3 (ipykernel)",
   "language": "python",
   "name": "python3"
  },
  "language_info": {
   "codemirror_mode": {
    "name": "ipython",
    "version": 3
   },
   "file_extension": ".py",
   "mimetype": "text/x-python",
   "name": "python",
   "nbconvert_exporter": "python",
   "pygments_lexer": "ipython3",
   "version": "3.8.13"
  }
 },
 "nbformat": 4,
 "nbformat_minor": 5
}
