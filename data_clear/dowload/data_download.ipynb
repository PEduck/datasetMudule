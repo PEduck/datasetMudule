{
 "cells": [
  {
   "cell_type": "code",
   "execution_count": 45,
   "id": "30b04c1b-b09b-471d-a4bc-4d2793974d78",
   "metadata": {},
   "outputs": [],
   "source": [
    "import requests\n",
    "import pandas as pd"
   ]
  },
  {
   "cell_type": "code",
   "execution_count": 46,
   "id": "ac835d8d-6f4a-4005-aa75-f28ffc36c730",
   "metadata": {},
   "outputs": [],
   "source": [
    "from tqdm import tqdm"
   ]
  },
  {
   "cell_type": "code",
   "execution_count": 47,
   "id": "bb0d7f77-5908-4603-a006-bce339a82fca",
   "metadata": {},
   "outputs": [],
   "source": [
    "from PIL import Image\n",
    "from io import BytesIO\n",
    "from pathlib import Path"
   ]
  },
  {
   "cell_type": "code",
   "execution_count": null,
   "id": "3bc9a6e6-ad15-4b62-9fac-d0942dbde3d7",
   "metadata": {},
   "outputs": [],
   "source": []
  },
  {
   "cell_type": "code",
   "execution_count": null,
   "id": "2983a921-894e-49bf-95cc-f209d97601b3",
   "metadata": {},
   "outputs": [],
   "source": []
  },
  {
   "cell_type": "code",
   "execution_count": 14,
   "id": "dd76374a-bd87-497d-a0ce-f21f24f5f7f6",
   "metadata": {},
   "outputs": [],
   "source": [
    "root = 'https://oss.xiaoshanchongdie.com/items'\n",
    "troot = '/nas/chenyi/datasets_nas/deploy_sys/dadetv3'\n",
    "url = 'https://oss.xiaoshanchongdie.com/items/76c6d44e-300c-4f85-b8bb-46b87e88f456.jpg'"
   ]
  },
  {
   "cell_type": "code",
   "execution_count": null,
   "id": "57c6e470-9b49-453e-af7a-4229b02d5c31",
   "metadata": {},
   "outputs": [],
   "source": [
    "img_df = pd.read_csv('sys_deploy_query_img_20220622.csv')"
   ]
  },
  {
   "cell_type": "code",
   "execution_count": 48,
   "id": "bcec2eee-2ad0-4f3c-b613-d52a5a9c1179",
   "metadata": {},
   "outputs": [
    {
     "data": {
      "text/html": [
       "<div>\n",
       "<style scoped>\n",
       "    .dataframe tbody tr th:only-of-type {\n",
       "        vertical-align: middle;\n",
       "    }\n",
       "\n",
       "    .dataframe tbody tr th {\n",
       "        vertical-align: top;\n",
       "    }\n",
       "\n",
       "    .dataframe thead th {\n",
       "        text-align: right;\n",
       "    }\n",
       "</style>\n",
       "<table border=\"1\" class=\"dataframe\">\n",
       "  <thead>\n",
       "    <tr style=\"text-align: right;\">\n",
       "      <th></th>\n",
       "      <th>id</th>\n",
       "      <th>user_id</th>\n",
       "      <th>path</th>\n",
       "      <th>width</th>\n",
       "      <th>height</th>\n",
       "      <th>type_id</th>\n",
       "      <th>一级分类</th>\n",
       "      <th>category_id</th>\n",
       "      <th>二级分类</th>\n",
       "      <th>spath</th>\n",
       "      <th>tpath</th>\n",
       "      <th>folder</th>\n",
       "    </tr>\n",
       "  </thead>\n",
       "  <tbody>\n",
       "    <tr>\n",
       "      <th>0</th>\n",
       "      <td>1</td>\n",
       "      <td>1</td>\n",
       "      <td>8435705c-421f-45dc-abd4-c1c23d38cbfb.jpg</td>\n",
       "      <td>690</td>\n",
       "      <td>1034</td>\n",
       "      <td>4</td>\n",
       "      <td>上装</td>\n",
       "      <td>0</td>\n",
       "      <td>NaN</td>\n",
       "      <td>https://oss.xiaoshanchongdie.com/items/8435705...</td>\n",
       "      <td>/nas/chenyi/datasets_nas/deploy_sys/dadetv3/0/...</td>\n",
       "      <td>0</td>\n",
       "    </tr>\n",
       "    <tr>\n",
       "      <th>1</th>\n",
       "      <td>2</td>\n",
       "      <td>3</td>\n",
       "      <td>d943be5f-92aa-4017-abaf-4130621322df.png</td>\n",
       "      <td>2268</td>\n",
       "      <td>4032</td>\n",
       "      <td>7</td>\n",
       "      <td>连体装</td>\n",
       "      <td>0</td>\n",
       "      <td>NaN</td>\n",
       "      <td>https://oss.xiaoshanchongdie.com/items/d943be5...</td>\n",
       "      <td>/nas/chenyi/datasets_nas/deploy_sys/dadetv3/0/...</td>\n",
       "      <td>0</td>\n",
       "    </tr>\n",
       "  </tbody>\n",
       "</table>\n",
       "</div>"
      ],
      "text/plain": [
       "   id  user_id                                      path  width  height  \\\n",
       "0   1        1  8435705c-421f-45dc-abd4-c1c23d38cbfb.jpg    690    1034   \n",
       "1   2        3  d943be5f-92aa-4017-abaf-4130621322df.png   2268    4032   \n",
       "\n",
       "   type_id 一级分类  category_id 二级分类  \\\n",
       "0        4   上装            0  NaN   \n",
       "1        7  连体装            0  NaN   \n",
       "\n",
       "                                               spath  \\\n",
       "0  https://oss.xiaoshanchongdie.com/items/8435705...   \n",
       "1  https://oss.xiaoshanchongdie.com/items/d943be5...   \n",
       "\n",
       "                                               tpath  folder  \n",
       "0  /nas/chenyi/datasets_nas/deploy_sys/dadetv3/0/...       0  \n",
       "1  /nas/chenyi/datasets_nas/deploy_sys/dadetv3/0/...       0  "
      ]
     },
     "execution_count": 48,
     "metadata": {},
     "output_type": "execute_result"
    }
   ],
   "source": [
    "img_df.head(2)"
   ]
  },
  {
   "cell_type": "code",
   "execution_count": 50,
   "id": "924bb969-a3fd-49ad-8113-c6d02cf5da0c",
   "metadata": {},
   "outputs": [],
   "source": []
  },
  {
   "cell_type": "code",
   "execution_count": 49,
   "id": "b644f31c-9767-4acd-ab43-af0a67edfa4f",
   "metadata": {},
   "outputs": [
    {
     "data": {
      "text/plain": [
       "array([[1, 1, '8435705c-421f-45dc-abd4-c1c23d38cbfb.jpg', 690, 1034, 4,\n",
       "        '上装', 0, nan,\n",
       "        'https://oss.xiaoshanchongdie.com/items/8435705c-421f-45dc-abd4-c1c23d38cbfb.jpg',\n",
       "        '/nas/chenyi/datasets_nas/deploy_sys/dadetv3/0/8435705c-421f-45dc-abd4-c1c23d38cbfb_4.jpg',\n",
       "        0],\n",
       "       [2, 3, 'd943be5f-92aa-4017-abaf-4130621322df.png', 2268, 4032, 7,\n",
       "        '连体装', 0, nan,\n",
       "        'https://oss.xiaoshanchongdie.com/items/d943be5f-92aa-4017-abaf-4130621322df.png',\n",
       "        '/nas/chenyi/datasets_nas/deploy_sys/dadetv3/0/d943be5f-92aa-4017-abaf-4130621322df_7.jpg',\n",
       "        0]], dtype=object)"
      ]
     },
     "execution_count": 49,
     "metadata": {},
     "output_type": "execute_result"
    }
   ],
   "source": [
    "img_df.head(2).values"
   ]
  },
  {
   "cell_type": "code",
   "execution_count": null,
   "id": "776087ea-b011-49a6-ad57-93b0902c8995",
   "metadata": {},
   "outputs": [],
   "source": []
  },
  {
   "cell_type": "markdown",
   "id": "78f7492f-9cd8-4771-b42a-5ef3e72cff5a",
   "metadata": {},
   "source": [
    "### 数据下载"
   ]
  },
  {
   "cell_type": "code",
   "execution_count": 39,
   "id": "44665329-d190-406b-a691-7999d6a995b8",
   "metadata": {},
   "outputs": [],
   "source": [
    "img_df['folder'] = img_df['id'].apply(lambda x: int(x//500))"
   ]
  },
  {
   "cell_type": "code",
   "execution_count": 41,
   "id": "2880126c-7fc3-4223-a054-cfdc0d123a96",
   "metadata": {},
   "outputs": [],
   "source": [
    "img_df['spath'] = img_df['path'].apply(lambda x: f'{root}/{x}')\n",
    "# img_df['tpath'] = img_df['path'].apply(lambda x: f'{troot}/{x}')\n",
    "img_df['tpath'] = img_df.apply(lambda row: '{0}/{1}/{2}_{3}.jpg'.format(troot, row['folder'],Path(row['spath']).stem, row['type_id']), axis=1)"
   ]
  },
  {
   "cell_type": "code",
   "execution_count": 9,
   "id": "cb050cc1-45cb-4a32-b057-7a93321aefdb",
   "metadata": {},
   "outputs": [],
   "source": [
    "req=requests.get(url)"
   ]
  },
  {
   "cell_type": "code",
   "execution_count": null,
   "id": "7e0c39e5-0a07-4519-8d85-3315ae04cbed",
   "metadata": {},
   "outputs": [],
   "source": [
    "for ind, row in tqdm(img_df.iterrows()):\n",
    "    sp = row['spath']\n",
    "    tp = row['tpath']\n",
    "    try:\n",
    "        req=requests.get(sp)\n",
    "        img = Image.open(BytesIO(req.content))\n",
    "        if not Path(tp).parent.is_dir():\n",
    "            Path(tp).parent.mkdir(parents=True)\n",
    "        img.save(tp)\n",
    "    except:\n",
    "        print(row.index)\n",
    "    # break"
   ]
  },
  {
   "cell_type": "code",
   "execution_count": null,
   "id": "4d69e976-2cda-491c-94f6-0b47975e5573",
   "metadata": {},
   "outputs": [],
   "source": []
  },
  {
   "cell_type": "code",
   "execution_count": null,
   "id": "b8620ab8-304a-4dc7-a8e4-9e3bef6b8399",
   "metadata": {},
   "outputs": [],
   "source": []
  },
  {
   "cell_type": "markdown",
   "id": "464777c7-6d1c-4404-95b3-2b951490e51b",
   "metadata": {},
   "source": [
    "### 数据去重"
   ]
  },
  {
   "cell_type": "code",
   "execution_count": 60,
   "id": "7f34505c-c3ef-4232-ae87-5e8ec479a87f",
   "metadata": {},
   "outputs": [],
   "source": [
    "import hashlib\n",
    "import os"
   ]
  },
  {
   "cell_type": "code",
   "execution_count": 51,
   "id": "aba4deeb-8c92-42ea-a07f-ffee3c7eca22",
   "metadata": {},
   "outputs": [],
   "source": [
    "# img_df.to_csv('query_img_20220622.csv', index=False)"
   ]
  },
  {
   "cell_type": "code",
   "execution_count": 52,
   "id": "9f32d0a4-04d6-41b1-87d5-16a999092a5f",
   "metadata": {},
   "outputs": [
    {
     "data": {
      "text/html": [
       "<div>\n",
       "<style scoped>\n",
       "    .dataframe tbody tr th:only-of-type {\n",
       "        vertical-align: middle;\n",
       "    }\n",
       "\n",
       "    .dataframe tbody tr th {\n",
       "        vertical-align: top;\n",
       "    }\n",
       "\n",
       "    .dataframe thead th {\n",
       "        text-align: right;\n",
       "    }\n",
       "</style>\n",
       "<table border=\"1\" class=\"dataframe\">\n",
       "  <thead>\n",
       "    <tr style=\"text-align: right;\">\n",
       "      <th></th>\n",
       "      <th>id</th>\n",
       "      <th>user_id</th>\n",
       "      <th>path</th>\n",
       "      <th>width</th>\n",
       "      <th>height</th>\n",
       "      <th>type_id</th>\n",
       "      <th>一级分类</th>\n",
       "      <th>category_id</th>\n",
       "      <th>二级分类</th>\n",
       "      <th>spath</th>\n",
       "      <th>tpath</th>\n",
       "      <th>folder</th>\n",
       "    </tr>\n",
       "  </thead>\n",
       "  <tbody>\n",
       "    <tr>\n",
       "      <th>0</th>\n",
       "      <td>1</td>\n",
       "      <td>1</td>\n",
       "      <td>8435705c-421f-45dc-abd4-c1c23d38cbfb.jpg</td>\n",
       "      <td>690</td>\n",
       "      <td>1034</td>\n",
       "      <td>4</td>\n",
       "      <td>上装</td>\n",
       "      <td>0</td>\n",
       "      <td>NaN</td>\n",
       "      <td>https://oss.xiaoshanchongdie.com/items/8435705...</td>\n",
       "      <td>/nas/chenyi/datasets_nas/deploy_sys/dadetv3/0/...</td>\n",
       "      <td>0</td>\n",
       "    </tr>\n",
       "    <tr>\n",
       "      <th>1</th>\n",
       "      <td>2</td>\n",
       "      <td>3</td>\n",
       "      <td>d943be5f-92aa-4017-abaf-4130621322df.png</td>\n",
       "      <td>2268</td>\n",
       "      <td>4032</td>\n",
       "      <td>7</td>\n",
       "      <td>连体装</td>\n",
       "      <td>0</td>\n",
       "      <td>NaN</td>\n",
       "      <td>https://oss.xiaoshanchongdie.com/items/d943be5...</td>\n",
       "      <td>/nas/chenyi/datasets_nas/deploy_sys/dadetv3/0/...</td>\n",
       "      <td>0</td>\n",
       "    </tr>\n",
       "  </tbody>\n",
       "</table>\n",
       "</div>"
      ],
      "text/plain": [
       "   id  user_id                                      path  width  height  \\\n",
       "0   1        1  8435705c-421f-45dc-abd4-c1c23d38cbfb.jpg    690    1034   \n",
       "1   2        3  d943be5f-92aa-4017-abaf-4130621322df.png   2268    4032   \n",
       "\n",
       "   type_id 一级分类  category_id 二级分类  \\\n",
       "0        4   上装            0  NaN   \n",
       "1        7  连体装            0  NaN   \n",
       "\n",
       "                                               spath  \\\n",
       "0  https://oss.xiaoshanchongdie.com/items/8435705...   \n",
       "1  https://oss.xiaoshanchongdie.com/items/d943be5...   \n",
       "\n",
       "                                               tpath  folder  \n",
       "0  /nas/chenyi/datasets_nas/deploy_sys/dadetv3/0/...       0  \n",
       "1  /nas/chenyi/datasets_nas/deploy_sys/dadetv3/0/...       0  "
      ]
     },
     "execution_count": 52,
     "metadata": {},
     "output_type": "execute_result"
    }
   ],
   "source": [
    "img_df.head(2)"
   ]
  },
  {
   "cell_type": "code",
   "execution_count": null,
   "id": "ee201cc7-20d8-4d81-b8d1-733c4730945f",
   "metadata": {},
   "outputs": [],
   "source": []
  },
  {
   "cell_type": "code",
   "execution_count": 61,
   "id": "86fe7b88-9828-4446-a253-72428baac7ce",
   "metadata": {},
   "outputs": [],
   "source": [
    "# 使用python3.8及以上可以用此方法，写法更简洁。\n",
    "def file_hash(file_path: str, hash_method) -> str:\n",
    "    if not os.path.isfile(file_path):\n",
    "        print('文件不存在。')\n",
    "        return ''\n",
    "    h = hash_method()\n",
    "    with open(file_path, 'rb') as f:\n",
    "        while b := f.read(8192):\n",
    "            h.update(b)\n",
    "    return h.hexdigest()\n",
    "\n",
    "def file_sha256(file_path: str) -> str:\n",
    "    return file_hash(file_path, hashlib.sha256)"
   ]
  },
  {
   "cell_type": "code",
   "execution_count": 56,
   "id": "cd0bcc3f-0dfb-4587-b694-2fea60289c92",
   "metadata": {},
   "outputs": [],
   "source": [
    "imgs_list = img_df['tpath'].values\n",
    "troot = '/nas/chenyi/datasets_nas/dada_det/data/wholebody0602/wholebody/'"
   ]
  },
  {
   "cell_type": "code",
   "execution_count": null,
   "id": "a865d99c-8eb4-4b4b-8e5b-17c2bee7f019",
   "metadata": {},
   "outputs": [],
   "source": [
    "# for path in imgs_list:\n",
    "#     src = path\n",
    "#     dst = '/nas/chenyi/datasets_nas/dada_det/data/wholebody0602/wholebody/' + file_sha256(path) + '.jpg'\n",
    "#     with open('log.txt', 'a', encoding='utf-8') as f:\n",
    "#         f.write(f'{src} -> {dst}\\n')\n",
    "#         shutil.copy(src, dst)"
   ]
  },
  {
   "cell_type": "code",
   "execution_count": 65,
   "id": "06b670bc-4c35-4df4-966c-f70bdb560635",
   "metadata": {
    "collapsed": true,
    "jupyter": {
     "outputs_hidden": true
    },
    "tags": []
   },
   "outputs": [
    {
     "name": "stderr",
     "output_type": "stream",
     "text": [
      "  1%|▍                                                                           | 117/19465 [00:00<01:39, 194.12it/s]"
     ]
    },
    {
     "name": "stdout",
     "output_type": "stream",
     "text": [
      "文件不存在。\n"
     ]
    },
    {
     "name": "stderr",
     "output_type": "stream",
     "text": [
      "  1%|▋                                                                           | 163/19465 [00:00<01:43, 186.59it/s]"
     ]
    },
    {
     "name": "stdout",
     "output_type": "stream",
     "text": [
      "文件不存在。\n"
     ]
    },
    {
     "name": "stderr",
     "output_type": "stream",
     "text": [
      "  4%|██▉                                                                         | 756/19465 [00:03<01:07, 277.42it/s]"
     ]
    },
    {
     "name": "stdout",
     "output_type": "stream",
     "text": [
      "文件不存在。\n"
     ]
    },
    {
     "name": "stderr",
     "output_type": "stream",
     "text": [
      "  5%|███▌                                                                        | 926/19465 [00:04<00:46, 399.89it/s]"
     ]
    },
    {
     "name": "stdout",
     "output_type": "stream",
     "text": [
      "文件不存在。\n",
      "文件不存在。\n",
      "文件不存在。\n",
      "文件不存在。\n",
      "文件不存在。\n",
      "文件不存在。\n",
      "文件不存在。\n",
      "文件不存在。\n",
      "文件不存在。\n",
      "文件不存在。\n",
      "文件不存在。\n",
      "文件不存在。\n",
      "文件不存在。\n"
     ]
    },
    {
     "name": "stderr",
     "output_type": "stream",
     "text": [
      "  9%|██████▋                                                                    | 1744/19465 [00:06<00:44, 399.01it/s]"
     ]
    },
    {
     "name": "stdout",
     "output_type": "stream",
     "text": [
      "文件不存在。\n",
      "文件不存在。\n",
      "文件不存在。\n",
      "文件不存在。\n",
      "文件不存在。\n",
      "文件不存在。\n",
      "文件不存在。\n",
      "文件不存在。\n",
      "文件不存在。\n"
     ]
    },
    {
     "name": "stderr",
     "output_type": "stream",
     "text": [
      " 10%|███████▍                                                                   | 1932/19465 [00:06<00:40, 432.43it/s]"
     ]
    },
    {
     "name": "stdout",
     "output_type": "stream",
     "text": [
      "文件不存在。\n",
      "文件不存在。\n",
      "文件不存在。\n",
      "文件不存在。\n",
      "文件不存在。\n"
     ]
    },
    {
     "name": "stderr",
     "output_type": "stream",
     "text": [
      " 11%|████████▍                                                                  | 2184/19465 [00:07<00:41, 421.23it/s]"
     ]
    },
    {
     "name": "stdout",
     "output_type": "stream",
     "text": [
      "文件不存在。\n",
      "文件不存在。\n",
      "文件不存在。\n",
      "文件不存在。\n",
      "文件不存在。\n"
     ]
    },
    {
     "name": "stderr",
     "output_type": "stream",
     "text": [
      " 12%|████████▋                                                                  | 2267/19465 [00:07<00:52, 329.09it/s]"
     ]
    },
    {
     "name": "stdout",
     "output_type": "stream",
     "text": [
      "文件不存在。\n",
      "文件不存在。\n",
      "文件不存在。\n"
     ]
    },
    {
     "name": "stderr",
     "output_type": "stream",
     "text": [
      " 12%|█████████▏                                                                 | 2388/19465 [00:08<00:49, 345.40it/s]"
     ]
    },
    {
     "name": "stdout",
     "output_type": "stream",
     "text": [
      "文件不存在。\n",
      "文件不存在。\n"
     ]
    },
    {
     "name": "stderr",
     "output_type": "stream",
     "text": [
      " 13%|█████████▌                                                                 | 2485/19465 [00:08<00:47, 358.45it/s]"
     ]
    },
    {
     "name": "stdout",
     "output_type": "stream",
     "text": [
      "文件不存在。\n",
      "文件不存在。\n"
     ]
    },
    {
     "name": "stderr",
     "output_type": "stream",
     "text": [
      " 13%|█████████▉                                                                 | 2580/19465 [00:08<00:42, 401.08it/s]"
     ]
    },
    {
     "name": "stdout",
     "output_type": "stream",
     "text": [
      "文件不存在。\n",
      "文件不存在。\n",
      "文件不存在。\n",
      "文件不存在。\n",
      "文件不存在。\n",
      "文件不存在。\n",
      "文件不存在。\n",
      "文件不存在。\n",
      "文件不存在。\n",
      "文件不存在。\n",
      "文件不存在。\n"
     ]
    },
    {
     "name": "stderr",
     "output_type": "stream",
     "text": [
      " 14%|██████████▎                                                                | 2688/19465 [00:08<00:36, 459.66it/s]"
     ]
    },
    {
     "name": "stdout",
     "output_type": "stream",
     "text": [
      "文件不存在。\n",
      "文件不存在。\n",
      "文件不存在。\n",
      "文件不存在。\n",
      "文件不存在。\n",
      "文件不存在。\n",
      "文件不存在。\n",
      "文件不存在。\n"
     ]
    },
    {
     "name": "stderr",
     "output_type": "stream",
     "text": [
      " 14%|██████████▊                                                                | 2801/19465 [00:09<00:34, 483.64it/s]"
     ]
    },
    {
     "name": "stdout",
     "output_type": "stream",
     "text": [
      "文件不存在。\n",
      "文件不存在。\n"
     ]
    },
    {
     "name": "stderr",
     "output_type": "stream",
     "text": [
      " 15%|███████████▍                                                               | 2973/19465 [00:09<00:30, 541.50it/s]"
     ]
    },
    {
     "name": "stdout",
     "output_type": "stream",
     "text": [
      "文件不存在。\n",
      "文件不存在。\n",
      "文件不存在。\n",
      "文件不存在。\n"
     ]
    },
    {
     "name": "stderr",
     "output_type": "stream",
     "text": [
      " 16%|███████████▊                                                               | 3080/19465 [00:09<00:32, 505.03it/s]"
     ]
    },
    {
     "name": "stdout",
     "output_type": "stream",
     "text": [
      "文件不存在。\n",
      "文件不存在。\n",
      "文件不存在。\n",
      "文件不存在。\n",
      "文件不存在。\n",
      "文件不存在。\n",
      "文件不存在。\n"
     ]
    },
    {
     "name": "stderr",
     "output_type": "stream",
     "text": [
      " 16%|████████████                                                               | 3132/19465 [00:09<00:37, 437.10it/s]"
     ]
    },
    {
     "name": "stdout",
     "output_type": "stream",
     "text": [
      "文件不存在。\n",
      "文件不存在。\n",
      "文件不存在。\n",
      "文件不存在。\n",
      "文件不存在。\n",
      "文件不存在。\n",
      "文件不存在。\n",
      "文件不存在。\n",
      "文件不存在。\n",
      "文件不存在。\n",
      "文件不存在。\n",
      "文件不存在。\n",
      "文件不存在。\n"
     ]
    },
    {
     "name": "stderr",
     "output_type": "stream",
     "text": [
      " 17%|████████████▍                                                              | 3221/19465 [00:10<00:43, 371.48it/s]"
     ]
    },
    {
     "name": "stdout",
     "output_type": "stream",
     "text": [
      "文件不存在。\n",
      "文件不存在。\n",
      "文件不存在。\n"
     ]
    },
    {
     "name": "stderr",
     "output_type": "stream",
     "text": [
      " 17%|█████████████                                                              | 3390/19465 [00:10<00:34, 470.40it/s]"
     ]
    },
    {
     "name": "stdout",
     "output_type": "stream",
     "text": [
      "文件不存在。\n",
      "文件不存在。\n",
      "文件不存在。\n"
     ]
    },
    {
     "name": "stderr",
     "output_type": "stream",
     "text": [
      " 18%|█████████████▋                                                             | 3558/19465 [00:10<00:33, 476.87it/s]"
     ]
    },
    {
     "name": "stdout",
     "output_type": "stream",
     "text": [
      "文件不存在。\n"
     ]
    },
    {
     "name": "stderr",
     "output_type": "stream",
     "text": [
      " 19%|█████████████▉                                                             | 3608/19465 [00:10<00:33, 472.27it/s]"
     ]
    },
    {
     "name": "stdout",
     "output_type": "stream",
     "text": [
      "文件不存在。\n",
      "文件不存在。\n",
      "文件不存在。\n"
     ]
    },
    {
     "name": "stderr",
     "output_type": "stream",
     "text": [
      " 19%|██████████████▎                                                            | 3699/19465 [00:11<00:40, 391.38it/s]"
     ]
    },
    {
     "name": "stdout",
     "output_type": "stream",
     "text": [
      "文件不存在。\n",
      "文件不存在。\n",
      "文件不存在。\n",
      "文件不存在。\n",
      "文件不存在。\n"
     ]
    },
    {
     "name": "stderr",
     "output_type": "stream",
     "text": [
      " 20%|██████████████▊                                                            | 3831/19465 [00:11<00:31, 496.66it/s]"
     ]
    },
    {
     "name": "stdout",
     "output_type": "stream",
     "text": [
      "文件不存在。\n",
      "文件不存在。\n",
      "文件不存在。\n",
      "文件不存在。\n"
     ]
    },
    {
     "name": "stderr",
     "output_type": "stream",
     "text": [
      " 20%|███████████████▏                                                           | 3934/19465 [00:11<00:33, 468.38it/s]"
     ]
    },
    {
     "name": "stdout",
     "output_type": "stream",
     "text": [
      "文件不存在。\n",
      "文件不存在。\n",
      "文件不存在。\n"
     ]
    },
    {
     "name": "stderr",
     "output_type": "stream",
     "text": [
      " 21%|███████████████▌                                                           | 4026/19465 [00:11<00:48, 316.93it/s]"
     ]
    },
    {
     "name": "stdout",
     "output_type": "stream",
     "text": [
      "文件不存在。\n",
      "文件不存在。\n",
      "文件不存在。\n",
      "文件不存在。\n",
      "文件不存在。\n"
     ]
    },
    {
     "name": "stderr",
     "output_type": "stream",
     "text": [
      " 21%|███████████████▉                                                           | 4144/19465 [00:12<00:36, 419.94it/s]"
     ]
    },
    {
     "name": "stdout",
     "output_type": "stream",
     "text": [
      "文件不存在。\n",
      "文件不存在。\n",
      "文件不存在。\n",
      "文件不存在。\n",
      "文件不存在。\n",
      "文件不存在。\n",
      "文件不存在。\n",
      "文件不存在。\n"
     ]
    },
    {
     "name": "stderr",
     "output_type": "stream",
     "text": [
      " 22%|████████████████▋                                                          | 4316/19465 [00:12<00:31, 486.25it/s]"
     ]
    },
    {
     "name": "stdout",
     "output_type": "stream",
     "text": [
      "文件不存在。\n",
      "文件不存在。\n",
      "文件不存在。\n"
     ]
    },
    {
     "name": "stderr",
     "output_type": "stream",
     "text": [
      " 22%|████████████████▊                                                          | 4367/19465 [00:12<00:31, 481.09it/s]"
     ]
    },
    {
     "name": "stdout",
     "output_type": "stream",
     "text": [
      "文件不存在。\n",
      "文件不存在。\n"
     ]
    },
    {
     "name": "stderr",
     "output_type": "stream",
     "text": [
      " 23%|█████████████████▏                                                         | 4469/19465 [00:12<00:34, 430.82it/s]"
     ]
    },
    {
     "name": "stdout",
     "output_type": "stream",
     "text": [
      "文件不存在。\n",
      "文件不存在。\n",
      "文件不存在。\n",
      "文件不存在。\n",
      "文件不存在。\n"
     ]
    },
    {
     "name": "stderr",
     "output_type": "stream",
     "text": [
      " 23%|█████████████████▌                                                         | 4573/19465 [00:13<00:39, 378.42it/s]"
     ]
    },
    {
     "name": "stdout",
     "output_type": "stream",
     "text": [
      "文件不存在。\n"
     ]
    },
    {
     "name": "stderr",
     "output_type": "stream",
     "text": [
      " 25%|██████████████████▍                                                        | 4772/19465 [00:13<00:43, 335.43it/s]"
     ]
    },
    {
     "name": "stdout",
     "output_type": "stream",
     "text": [
      "文件不存在。\n",
      "文件不存在。\n",
      "文件不存在。\n",
      "文件不存在。\n",
      "文件不存在。\n",
      "文件不存在。\n"
     ]
    },
    {
     "name": "stderr",
     "output_type": "stream",
     "text": [
      " 25%|██████████████████▉                                                        | 4916/19465 [00:14<00:37, 386.83it/s]"
     ]
    },
    {
     "name": "stdout",
     "output_type": "stream",
     "text": [
      "文件不存在。\n",
      "文件不存在。\n",
      "文件不存在。\n"
     ]
    },
    {
     "name": "stderr",
     "output_type": "stream",
     "text": [
      " 26%|███████████████████▎                                                       | 5001/19465 [00:14<00:40, 354.98it/s]"
     ]
    },
    {
     "name": "stdout",
     "output_type": "stream",
     "text": [
      "文件不存在。\n",
      "文件不存在。\n",
      "文件不存在。\n"
     ]
    },
    {
     "name": "stderr",
     "output_type": "stream",
     "text": [
      " 26%|███████████████████▋                                                       | 5114/19465 [00:14<00:42, 339.27it/s]"
     ]
    },
    {
     "name": "stdout",
     "output_type": "stream",
     "text": [
      "文件不存在。\n",
      "文件不存在。\n"
     ]
    },
    {
     "name": "stderr",
     "output_type": "stream",
     "text": [
      " 27%|████████████████████                                                       | 5223/19465 [00:14<00:33, 420.15it/s]"
     ]
    },
    {
     "name": "stdout",
     "output_type": "stream",
     "text": [
      "文件不存在。\n",
      "文件不存在。\n",
      "文件不存在。\n"
     ]
    },
    {
     "name": "stderr",
     "output_type": "stream",
     "text": [
      " 27%|████████████████████▍                                                      | 5315/19465 [00:15<00:33, 418.49it/s]"
     ]
    },
    {
     "name": "stdout",
     "output_type": "stream",
     "text": [
      "文件不存在。\n",
      "文件不存在。\n"
     ]
    },
    {
     "name": "stderr",
     "output_type": "stream",
     "text": [
      " 28%|█████████████████████                                                      | 5453/19465 [00:15<00:32, 431.44it/s]"
     ]
    },
    {
     "name": "stdout",
     "output_type": "stream",
     "text": [
      "文件不存在。\n",
      "文件不存在。\n"
     ]
    },
    {
     "name": "stderr",
     "output_type": "stream",
     "text": [
      " 29%|█████████████████████▍                                                     | 5548/19465 [00:15<00:34, 399.14it/s]"
     ]
    },
    {
     "name": "stdout",
     "output_type": "stream",
     "text": [
      "文件不存在。\n"
     ]
    },
    {
     "name": "stderr",
     "output_type": "stream",
     "text": [
      " 29%|█████████████████████▊                                                     | 5657/19465 [00:15<00:29, 469.62it/s]"
     ]
    },
    {
     "name": "stdout",
     "output_type": "stream",
     "text": [
      "文件不存在。\n",
      "文件不存在。\n",
      "文件不存在。\n"
     ]
    },
    {
     "name": "stderr",
     "output_type": "stream",
     "text": [
      " 30%|██████████████████████▍                                                    | 5809/19465 [00:16<00:29, 467.08it/s]"
     ]
    },
    {
     "name": "stdout",
     "output_type": "stream",
     "text": [
      "文件不存在。\n",
      "文件不存在。\n",
      "文件不存在。\n",
      "文件不存在。\n",
      "文件不存在。\n",
      "文件不存在。\n",
      "文件不存在。\n",
      "文件不存在。\n"
     ]
    },
    {
     "name": "stderr",
     "output_type": "stream",
     "text": [
      " 31%|███████████████████████▏                                                   | 6018/19465 [00:16<00:28, 474.47it/s]"
     ]
    },
    {
     "name": "stdout",
     "output_type": "stream",
     "text": [
      "文件不存在。\n",
      "文件不存在。\n",
      "文件不存在。\n",
      "文件不存在。\n",
      "文件不存在。\n"
     ]
    },
    {
     "name": "stderr",
     "output_type": "stream",
     "text": [
      " 32%|███████████████████████▋                                                   | 6155/19465 [00:17<00:35, 377.99it/s]"
     ]
    },
    {
     "name": "stdout",
     "output_type": "stream",
     "text": [
      "文件不存在。\n",
      "文件不存在。\n",
      "文件不存在。\n",
      "文件不存在。\n",
      "文件不存在。\n",
      "文件不存在。\n",
      "文件不存在。\n",
      "文件不存在。\n",
      "文件不存在。\n",
      "文件不存在。\n",
      "文件不存在。\n",
      "文件不存在。\n",
      "文件不存在。\n",
      "文件不存在。\n",
      "文件不存在。\n"
     ]
    },
    {
     "name": "stderr",
     "output_type": "stream",
     "text": [
      " 32%|████████████████████████▏                                                  | 6292/19465 [00:17<00:33, 397.24it/s]"
     ]
    },
    {
     "name": "stdout",
     "output_type": "stream",
     "text": [
      "文件不存在。\n",
      "文件不存在。\n",
      "文件不存在。\n"
     ]
    },
    {
     "name": "stderr",
     "output_type": "stream",
     "text": [
      " 34%|█████████████████████████▎                                                 | 6579/19465 [00:18<00:38, 337.38it/s]"
     ]
    },
    {
     "name": "stdout",
     "output_type": "stream",
     "text": [
      "文件不存在。\n",
      "文件不存在。\n",
      "文件不存在。\n",
      "文件不存在。\n"
     ]
    },
    {
     "name": "stderr",
     "output_type": "stream",
     "text": [
      " 34%|█████████████████████████▌                                                 | 6619/19465 [00:18<00:44, 287.15it/s]"
     ]
    },
    {
     "name": "stdout",
     "output_type": "stream",
     "text": [
      "文件不存在。\n",
      "文件不存在。\n",
      "文件不存在。\n",
      "文件不存在。\n",
      "文件不存在。\n"
     ]
    },
    {
     "name": "stderr",
     "output_type": "stream",
     "text": [
      " 34%|█████████████████████████▊                                                 | 6698/19465 [00:19<00:41, 308.14it/s]"
     ]
    },
    {
     "name": "stdout",
     "output_type": "stream",
     "text": [
      "文件不存在。\n",
      "文件不存在。\n",
      "文件不存在。\n"
     ]
    },
    {
     "name": "stderr",
     "output_type": "stream",
     "text": [
      " 35%|██████████████████████████▏                                                | 6783/19465 [00:19<00:35, 355.79it/s]"
     ]
    },
    {
     "name": "stdout",
     "output_type": "stream",
     "text": [
      "文件不存在。\n",
      "文件不存在。\n",
      "文件不存在。\n",
      "文件不存在。\n",
      "文件不存在。\n",
      "文件不存在。\n",
      "文件不存在。\n",
      "文件不存在。\n",
      "文件不存在。\n",
      "文件不存在。\n",
      "文件不存在。\n",
      "文件不存在。\n"
     ]
    },
    {
     "name": "stderr",
     "output_type": "stream",
     "text": [
      " 36%|██████████████████████████▋                                                | 6919/19465 [00:19<00:25, 500.94it/s]"
     ]
    },
    {
     "name": "stdout",
     "output_type": "stream",
     "text": [
      "文件不存在。\n",
      "文件不存在。\n",
      "文件不存在。\n",
      "文件不存在。\n",
      "文件不存在。\n",
      "文件不存在。\n",
      "文件不存在。\n"
     ]
    },
    {
     "name": "stderr",
     "output_type": "stream",
     "text": [
      " 36%|███████████████████████████                                                | 7017/19465 [00:19<00:31, 398.93it/s]"
     ]
    },
    {
     "name": "stdout",
     "output_type": "stream",
     "text": [
      "文件不存在。\n",
      "文件不存在。\n"
     ]
    },
    {
     "name": "stderr",
     "output_type": "stream",
     "text": [
      " 37%|███████████████████████████▍                                               | 7136/19465 [00:20<00:46, 266.68it/s]"
     ]
    },
    {
     "name": "stdout",
     "output_type": "stream",
     "text": [
      "文件不存在。\n",
      "文件不存在。\n"
     ]
    },
    {
     "name": "stderr",
     "output_type": "stream",
     "text": [
      " 37%|████████████████████████████                                               | 7287/19465 [00:20<00:31, 389.45it/s]"
     ]
    },
    {
     "name": "stdout",
     "output_type": "stream",
     "text": [
      "文件不存在。\n",
      "文件不存在。\n",
      "文件不存在。\n"
     ]
    },
    {
     "name": "stderr",
     "output_type": "stream",
     "text": [
      " 38%|████████████████████████████▍                                              | 7390/19465 [00:21<00:27, 443.94it/s]"
     ]
    },
    {
     "name": "stdout",
     "output_type": "stream",
     "text": [
      "文件不存在。\n",
      "文件不存在。\n",
      "文件不存在。\n",
      "文件不存在。\n",
      "文件不存在。\n",
      "文件不存在。\n",
      "文件不存在。\n",
      "文件不存在。\n",
      "文件不存在。\n"
     ]
    },
    {
     "name": "stderr",
     "output_type": "stream",
     "text": [
      " 39%|████████████████████████████▉                                              | 7500/19465 [00:21<00:24, 482.71it/s]"
     ]
    },
    {
     "name": "stdout",
     "output_type": "stream",
     "text": [
      "文件不存在。\n",
      "文件不存在。\n",
      "文件不存在。\n"
     ]
    },
    {
     "name": "stderr",
     "output_type": "stream",
     "text": [
      " 39%|█████████████████████████████▍                                             | 7636/19465 [00:21<00:40, 292.86it/s]"
     ]
    },
    {
     "name": "stdout",
     "output_type": "stream",
     "text": [
      "文件不存在。\n"
     ]
    },
    {
     "name": "stderr",
     "output_type": "stream",
     "text": [
      " 39%|█████████████████████████████▌                                             | 7677/19465 [00:21<00:37, 317.44it/s]"
     ]
    },
    {
     "name": "stdout",
     "output_type": "stream",
     "text": [
      "文件不存在。\n",
      "文件不存在。\n",
      "文件不存在。\n",
      "文件不存在。\n",
      "文件不存在。\n",
      "文件不存在。\n"
     ]
    },
    {
     "name": "stderr",
     "output_type": "stream",
     "text": [
      " 40%|██████████████████████████████                                             | 7795/19465 [00:22<00:41, 281.04it/s]"
     ]
    },
    {
     "name": "stdout",
     "output_type": "stream",
     "text": [
      "文件不存在。\n",
      "文件不存在。\n",
      "文件不存在。\n",
      "文件不存在。\n",
      "文件不存在。\n"
     ]
    },
    {
     "name": "stderr",
     "output_type": "stream",
     "text": [
      " 41%|██████████████████████████████▌                                            | 7946/19465 [00:22<00:35, 327.15it/s]"
     ]
    },
    {
     "name": "stdout",
     "output_type": "stream",
     "text": [
      "文件不存在。\n",
      "文件不存在。\n"
     ]
    },
    {
     "name": "stderr",
     "output_type": "stream",
     "text": [
      " 42%|███████████████████████████████▏                                           | 8079/19465 [00:23<00:28, 399.77it/s]"
     ]
    },
    {
     "name": "stdout",
     "output_type": "stream",
     "text": [
      "文件不存在。\n",
      "文件不存在。\n",
      "文件不存在。\n",
      "文件不存在。\n",
      "文件不存在。\n",
      "文件不存在。\n",
      "文件不存在。\n",
      "文件不存在。\n",
      "文件不存在。\n"
     ]
    },
    {
     "name": "stderr",
     "output_type": "stream",
     "text": [
      " 42%|███████████████████████████████▌                                           | 8200/19465 [00:23<00:34, 329.34it/s]"
     ]
    },
    {
     "name": "stdout",
     "output_type": "stream",
     "text": [
      "文件不存在。\n",
      "文件不存在。\n",
      "文件不存在。\n"
     ]
    },
    {
     "name": "stderr",
     "output_type": "stream",
     "text": [
      " 43%|████████████████████████████████                                           | 8314/19465 [00:23<00:25, 444.04it/s]"
     ]
    },
    {
     "name": "stdout",
     "output_type": "stream",
     "text": [
      "文件不存在。\n"
     ]
    },
    {
     "name": "stderr",
     "output_type": "stream",
     "text": [
      " 44%|████████████████████████████████▊                                          | 8505/19465 [00:24<00:19, 566.80it/s]"
     ]
    },
    {
     "name": "stdout",
     "output_type": "stream",
     "text": [
      "文件不存在。\n",
      "文件不存在。\n",
      "文件不存在。\n",
      "文件不存在。\n",
      "文件不存在。\n",
      "文件不存在。\n",
      "文件不存在。\n",
      "文件不存在。\n",
      "文件不存在。\n",
      "文件不存在。\n",
      "文件不存在。\n",
      "文件不存在。\n"
     ]
    },
    {
     "name": "stderr",
     "output_type": "stream",
     "text": [
      " 44%|█████████████████████████████████▏                                         | 8614/19465 [00:24<00:24, 447.98it/s]"
     ]
    },
    {
     "name": "stdout",
     "output_type": "stream",
     "text": [
      "文件不存在。\n",
      "文件不存在。\n",
      "文件不存在。\n",
      "文件不存在。\n",
      "文件不存在。\n"
     ]
    },
    {
     "name": "stderr",
     "output_type": "stream",
     "text": [
      " 44%|█████████████████████████████████▎                                         | 8661/19465 [00:24<00:26, 402.06it/s]"
     ]
    },
    {
     "name": "stdout",
     "output_type": "stream",
     "text": [
      "文件不存在。\n"
     ]
    },
    {
     "name": "stderr",
     "output_type": "stream",
     "text": [
      " 45%|█████████████████████████████████▋                                         | 8741/19465 [00:25<00:49, 215.28it/s]"
     ]
    },
    {
     "name": "stdout",
     "output_type": "stream",
     "text": [
      "文件不存在。\n",
      "文件不存在。\n"
     ]
    },
    {
     "name": "stderr",
     "output_type": "stream",
     "text": [
      " 45%|█████████████████████████████████▉                                         | 8820/19465 [00:25<00:55, 193.24it/s]"
     ]
    },
    {
     "name": "stdout",
     "output_type": "stream",
     "text": [
      "文件不存在。\n",
      "文件不存在。\n"
     ]
    },
    {
     "name": "stderr",
     "output_type": "stream",
     "text": [
      " 46%|██████████████████████████████████▌                                        | 8970/19465 [00:26<00:59, 176.32it/s]"
     ]
    },
    {
     "name": "stdout",
     "output_type": "stream",
     "text": [
      "文件不存在。\n",
      "文件不存在。\n"
     ]
    },
    {
     "name": "stderr",
     "output_type": "stream",
     "text": [
      " 47%|██████████████████████████████████▉                                        | 9058/19465 [00:26<00:47, 220.44it/s]"
     ]
    },
    {
     "name": "stdout",
     "output_type": "stream",
     "text": [
      "文件不存在。\n",
      "文件不存在。\n",
      "文件不存在。\n"
     ]
    },
    {
     "name": "stderr",
     "output_type": "stream",
     "text": [
      " 47%|███████████████████████████████████                                        | 9104/19465 [00:27<00:59, 175.10it/s]"
     ]
    },
    {
     "name": "stdout",
     "output_type": "stream",
     "text": [
      "文件不存在。\n",
      "文件不存在。\n",
      "文件不存在。\n",
      "文件不存在。\n",
      "文件不存在。\n",
      "文件不存在。\n"
     ]
    },
    {
     "name": "stderr",
     "output_type": "stream",
     "text": [
      " 47%|███████████████████████████████████▍                                       | 9186/19465 [00:27<00:45, 225.26it/s]"
     ]
    },
    {
     "name": "stdout",
     "output_type": "stream",
     "text": [
      "文件不存在。\n"
     ]
    },
    {
     "name": "stderr",
     "output_type": "stream",
     "text": [
      " 48%|███████████████████████████████████▉                                       | 9317/19465 [00:27<00:37, 271.72it/s]"
     ]
    },
    {
     "name": "stdout",
     "output_type": "stream",
     "text": [
      "文件不存在。\n",
      "文件不存在。\n",
      "文件不存在。\n",
      "文件不存在。\n",
      "文件不存在。\n",
      "文件不存在。\n",
      "文件不存在。\n",
      "文件不存在。\n",
      "文件不存在。\n"
     ]
    },
    {
     "name": "stderr",
     "output_type": "stream",
     "text": [
      " 48%|████████████████████████████████████▏                                      | 9404/19465 [00:28<00:44, 223.86it/s]"
     ]
    },
    {
     "name": "stdout",
     "output_type": "stream",
     "text": [
      "文件不存在。\n"
     ]
    },
    {
     "name": "stderr",
     "output_type": "stream",
     "text": [
      " 49%|████████████████████████████████████▍                                      | 9455/19465 [00:28<00:48, 206.96it/s]"
     ]
    },
    {
     "name": "stdout",
     "output_type": "stream",
     "text": [
      "文件不存在。\n",
      "文件不存在。\n",
      "文件不存在。\n"
     ]
    },
    {
     "name": "stderr",
     "output_type": "stream",
     "text": [
      " 49%|█████████████████████████████████████                                      | 9629/19465 [00:29<00:38, 252.89it/s]"
     ]
    },
    {
     "name": "stdout",
     "output_type": "stream",
     "text": [
      "文件不存在。\n",
      "文件不存在。\n",
      "文件不存在。\n",
      "文件不存在。\n"
     ]
    },
    {
     "name": "stderr",
     "output_type": "stream",
     "text": [
      " 50%|█████████████████████████████████████▋                                     | 9785/19465 [00:29<00:28, 335.83it/s]"
     ]
    },
    {
     "name": "stdout",
     "output_type": "stream",
     "text": [
      "文件不存在。\n",
      "文件不存在。\n",
      "文件不存在。\n",
      "文件不存在。\n"
     ]
    },
    {
     "name": "stderr",
     "output_type": "stream",
     "text": [
      " 51%|██████████████████████████████████████▏                                    | 9922/19465 [00:30<00:24, 383.83it/s]"
     ]
    },
    {
     "name": "stdout",
     "output_type": "stream",
     "text": [
      "文件不存在。\n",
      "文件不存在。\n",
      "文件不存在。\n",
      "文件不存在。\n",
      "文件不存在。\n",
      "文件不存在。\n",
      "文件不存在。\n"
     ]
    },
    {
     "name": "stderr",
     "output_type": "stream",
     "text": [
      " 52%|██████████████████████████████████████▍                                   | 10099/19465 [00:30<00:23, 391.29it/s]"
     ]
    },
    {
     "name": "stdout",
     "output_type": "stream",
     "text": [
      "文件不存在。\n",
      "文件不存在。\n",
      "文件不存在。\n",
      "文件不存在。\n"
     ]
    },
    {
     "name": "stderr",
     "output_type": "stream",
     "text": [
      " 53%|██████████████████████████████████████▉                                   | 10231/19465 [00:30<00:22, 404.36it/s]"
     ]
    },
    {
     "name": "stdout",
     "output_type": "stream",
     "text": [
      "文件不存在。\n",
      "文件不存在。\n",
      "文件不存在。\n",
      "文件不存在。\n"
     ]
    },
    {
     "name": "stderr",
     "output_type": "stream",
     "text": [
      " 53%|███████████████████████████████████████▏                                  | 10313/19465 [00:31<00:23, 384.35it/s]"
     ]
    },
    {
     "name": "stdout",
     "output_type": "stream",
     "text": [
      "文件不存在。\n",
      "文件不存在。\n",
      "文件不存在。\n",
      "文件不存在。\n",
      "文件不存在。\n",
      "文件不存在。\n"
     ]
    },
    {
     "name": "stderr",
     "output_type": "stream",
     "text": [
      " 53%|███████████████████████████████████████▍                                  | 10373/19465 [00:31<00:20, 443.50it/s]"
     ]
    },
    {
     "name": "stdout",
     "output_type": "stream",
     "text": [
      "文件不存在。\n",
      "文件不存在。\n",
      "文件不存在。\n",
      "文件不存在。\n",
      "文件不存在。\n",
      "文件不存在。\n",
      "文件不存在。\n"
     ]
    },
    {
     "name": "stderr",
     "output_type": "stream",
     "text": [
      " 54%|███████████████████████████████████████▉                                  | 10506/19465 [00:31<00:25, 346.91it/s]"
     ]
    },
    {
     "name": "stdout",
     "output_type": "stream",
     "text": [
      "文件不存在。\n",
      "文件不存在。\n",
      "文件不存在。\n"
     ]
    },
    {
     "name": "stderr",
     "output_type": "stream",
     "text": [
      " 55%|████████████████████████████████████████▊                                 | 10733/19465 [00:32<00:20, 430.56it/s]"
     ]
    },
    {
     "name": "stdout",
     "output_type": "stream",
     "text": [
      "文件不存在。\n",
      "文件不存在。\n"
     ]
    },
    {
     "name": "stderr",
     "output_type": "stream",
     "text": [
      " 56%|█████████████████████████████████████████▏                                | 10824/19465 [00:32<00:22, 389.08it/s]"
     ]
    },
    {
     "name": "stdout",
     "output_type": "stream",
     "text": [
      "文件不存在。\n",
      "文件不存在。\n",
      "文件不存在。\n"
     ]
    },
    {
     "name": "stderr",
     "output_type": "stream",
     "text": [
      " 56%|█████████████████████████████████████████▌                                | 10938/19465 [00:32<00:17, 475.36it/s]"
     ]
    },
    {
     "name": "stdout",
     "output_type": "stream",
     "text": [
      "文件不存在。\n",
      "文件不存在。\n",
      "文件不存在。\n",
      "文件不存在。\n",
      "文件不存在。\n",
      "文件不存在。\n",
      "文件不存在。\n",
      "文件不存在。\n",
      "文件不存在。\n",
      "文件不存在。\n"
     ]
    },
    {
     "name": "stderr",
     "output_type": "stream",
     "text": [
      " 57%|█████████████████████████████████████████▉                                | 11033/19465 [00:33<00:19, 421.75it/s]"
     ]
    },
    {
     "name": "stdout",
     "output_type": "stream",
     "text": [
      "文件不存在。\n",
      "文件不存在。\n",
      "文件不存在。\n",
      "文件不存在。\n",
      "文件不存在。\n",
      "文件不存在。\n",
      "文件不存在。\n",
      "文件不存在。\n",
      "文件不存在。\n"
     ]
    },
    {
     "name": "stderr",
     "output_type": "stream",
     "text": [
      " 57%|██████████████████████████████████████████▌                               | 11180/19465 [00:33<00:20, 408.91it/s]"
     ]
    },
    {
     "name": "stdout",
     "output_type": "stream",
     "text": [
      "文件不存在。\n",
      "文件不存在。\n",
      "文件不存在。\n",
      "文件不存在。\n",
      "文件不存在。\n",
      "文件不存在。\n"
     ]
    },
    {
     "name": "stderr",
     "output_type": "stream",
     "text": [
      " 58%|██████████████████████████████████████████▊                               | 11264/19465 [00:33<00:23, 351.03it/s]"
     ]
    },
    {
     "name": "stdout",
     "output_type": "stream",
     "text": [
      "文件不存在。\n",
      "文件不存在。\n",
      "文件不存在。\n"
     ]
    },
    {
     "name": "stderr",
     "output_type": "stream",
     "text": [
      " 58%|███████████████████████████████████████████▎                              | 11386/19465 [00:33<00:19, 404.22it/s]"
     ]
    },
    {
     "name": "stdout",
     "output_type": "stream",
     "text": [
      "文件不存在。\n",
      "文件不存在。\n",
      "文件不存在。\n",
      "文件不存在。\n",
      "文件不存在。\n",
      "文件不存在。\n",
      "文件不存在。\n",
      "文件不存在。\n",
      "文件不存在。\n",
      "文件不存在。\n",
      "文件不存在。\n",
      "文件不存在。\n",
      "文件不存在。\n",
      "文件不存在。\n"
     ]
    },
    {
     "name": "stderr",
     "output_type": "stream",
     "text": [
      " 59%|███████████████████████████████████████████▋                              | 11495/19465 [00:34<00:17, 452.41it/s]"
     ]
    },
    {
     "name": "stdout",
     "output_type": "stream",
     "text": [
      "文件不存在。\n",
      "文件不存在。\n"
     ]
    },
    {
     "name": "stderr",
     "output_type": "stream",
     "text": [
      " 60%|████████████████████████████████████████████                              | 11590/19465 [00:34<00:17, 440.90it/s]"
     ]
    },
    {
     "name": "stdout",
     "output_type": "stream",
     "text": [
      "文件不存在。\n",
      "文件不存在。\n",
      "文件不存在。\n",
      "文件不存在。\n",
      "文件不存在。\n",
      "文件不存在。\n"
     ]
    },
    {
     "name": "stderr",
     "output_type": "stream",
     "text": [
      " 61%|█████████████████████████████████████████████                             | 11868/19465 [00:34<00:17, 437.71it/s]"
     ]
    },
    {
     "name": "stdout",
     "output_type": "stream",
     "text": [
      "文件不存在。\n"
     ]
    },
    {
     "name": "stderr",
     "output_type": "stream",
     "text": [
      " 61%|█████████████████████████████████████████████▍                            | 11968/19465 [00:35<00:17, 438.99it/s]"
     ]
    },
    {
     "name": "stdout",
     "output_type": "stream",
     "text": [
      "文件不存在。\n",
      "文件不存在。\n",
      "文件不存在。\n",
      "文件不存在。\n",
      "文件不存在。\n",
      "文件不存在。\n"
     ]
    },
    {
     "name": "stderr",
     "output_type": "stream",
     "text": [
      " 63%|██████████████████████████████████████████████▍                           | 12213/19465 [00:35<00:15, 464.69it/s]"
     ]
    },
    {
     "name": "stdout",
     "output_type": "stream",
     "text": [
      "文件不存在。\n",
      "文件不存在。\n",
      "文件不存在。\n",
      "文件不存在。\n"
     ]
    },
    {
     "name": "stderr",
     "output_type": "stream",
     "text": [
      " 63%|██████████████████████████████████████████████▉                           | 12356/19465 [00:36<00:15, 447.65it/s]"
     ]
    },
    {
     "name": "stdout",
     "output_type": "stream",
     "text": [
      "文件不存在。\n",
      "文件不存在。\n",
      "文件不存在。\n",
      "文件不存在。\n"
     ]
    },
    {
     "name": "stderr",
     "output_type": "stream",
     "text": [
      " 64%|███████████████████████████████████████████████▎                          | 12445/19465 [00:36<00:18, 383.69it/s]"
     ]
    },
    {
     "name": "stdout",
     "output_type": "stream",
     "text": [
      "文件不存在。\n",
      "文件不存在。\n",
      "文件不存在。\n",
      "文件不存在。\n",
      "文件不存在。\n"
     ]
    },
    {
     "name": "stderr",
     "output_type": "stream",
     "text": [
      " 65%|███████████████████████████████████████████████▊                          | 12562/19465 [00:36<00:24, 287.23it/s]"
     ]
    },
    {
     "name": "stdout",
     "output_type": "stream",
     "text": [
      "文件不存在。\n",
      "文件不存在。\n",
      "文件不存在。\n"
     ]
    },
    {
     "name": "stderr",
     "output_type": "stream",
     "text": [
      " 65%|████████████████████████████████████████████████▏                         | 12666/19465 [00:37<00:18, 375.21it/s]"
     ]
    },
    {
     "name": "stdout",
     "output_type": "stream",
     "text": [
      "文件不存在。\n",
      "文件不存在。\n",
      "文件不存在。\n"
     ]
    },
    {
     "name": "stderr",
     "output_type": "stream",
     "text": [
      " 66%|████████████████████████████████████████████████▍                         | 12756/19465 [00:37<00:22, 298.90it/s]"
     ]
    },
    {
     "name": "stdout",
     "output_type": "stream",
     "text": [
      "文件不存在。\n",
      "文件不存在。\n"
     ]
    },
    {
     "name": "stderr",
     "output_type": "stream",
     "text": [
      " 66%|████████████████████████████████████████████████▉                         | 12869/19465 [00:37<00:16, 394.95it/s]"
     ]
    },
    {
     "name": "stdout",
     "output_type": "stream",
     "text": [
      "文件不存在。\n",
      "文件不存在。\n",
      "文件不存在。\n",
      "文件不存在。\n",
      "文件不存在。\n",
      "文件不存在。\n",
      "文件不存在。\n",
      "文件不存在。\n"
     ]
    },
    {
     "name": "stderr",
     "output_type": "stream",
     "text": [
      " 67%|█████████████████████████████████████████████████▌                        | 13022/19465 [00:38<00:14, 443.72it/s]"
     ]
    },
    {
     "name": "stdout",
     "output_type": "stream",
     "text": [
      "文件不存在。\n",
      "文件不存在。\n",
      "文件不存在。\n",
      "文件不存在。\n"
     ]
    },
    {
     "name": "stderr",
     "output_type": "stream",
     "text": [
      " 68%|██████████████████████████████████████████████████                        | 13179/19465 [00:38<00:14, 447.35it/s]"
     ]
    },
    {
     "name": "stdout",
     "output_type": "stream",
     "text": [
      "文件不存在。\n",
      "文件不存在。\n",
      "文件不存在。\n",
      "文件不存在。\n",
      "文件不存在。\n",
      "文件不存在。\n",
      "文件不存在。\n",
      "文件不存在。\n",
      "文件不存在。\n",
      "文件不存在。\n",
      "文件不存在。\n",
      "文件不存在。\n",
      "文件不存在。\n",
      "文件不存在。\n",
      "文件不存在。\n",
      "文件不存在。\n"
     ]
    },
    {
     "name": "stderr",
     "output_type": "stream",
     "text": [
      " 69%|██████████████████████████████████████████████████▉                       | 13402/19465 [00:38<00:12, 503.65it/s]"
     ]
    },
    {
     "name": "stdout",
     "output_type": "stream",
     "text": [
      "文件不存在。\n",
      "文件不存在。\n",
      "文件不存在。\n",
      "文件不存在。\n",
      "文件不存在。\n",
      "文件不存在。\n",
      "文件不存在。\n"
     ]
    },
    {
     "name": "stderr",
     "output_type": "stream",
     "text": [
      " 69%|███████████████████████████████████████████████████▎                      | 13504/19465 [00:39<00:17, 335.94it/s]"
     ]
    },
    {
     "name": "stdout",
     "output_type": "stream",
     "text": [
      "文件不存在。\n",
      "文件不存在。\n",
      "文件不存在。\n",
      "文件不存在。\n"
     ]
    },
    {
     "name": "stderr",
     "output_type": "stream",
     "text": [
      " 70%|███████████████████████████████████████████████████▌                      | 13548/19465 [00:39<00:17, 341.68it/s]"
     ]
    },
    {
     "name": "stdout",
     "output_type": "stream",
     "text": [
      "文件不存在。\n",
      "文件不存在。\n",
      "文件不存在。\n"
     ]
    },
    {
     "name": "stderr",
     "output_type": "stream",
     "text": [
      " 70%|████████████████████████████████████████████████████                      | 13681/19465 [00:39<00:15, 375.48it/s]"
     ]
    },
    {
     "name": "stdout",
     "output_type": "stream",
     "text": [
      "文件不存在。\n"
     ]
    },
    {
     "name": "stderr",
     "output_type": "stream",
     "text": [
      " 71%|████████████████████████████████████████████████████▋                     | 13873/19465 [00:40<00:12, 454.03it/s]"
     ]
    },
    {
     "name": "stdout",
     "output_type": "stream",
     "text": [
      "文件不存在。\n",
      "文件不存在。\n",
      "文件不存在。\n"
     ]
    },
    {
     "name": "stderr",
     "output_type": "stream",
     "text": [
      " 72%|█████████████████████████████████████████████████████▋                    | 14111/19465 [00:40<00:12, 440.33it/s]"
     ]
    },
    {
     "name": "stdout",
     "output_type": "stream",
     "text": [
      "文件不存在。\n"
     ]
    },
    {
     "name": "stderr",
     "output_type": "stream",
     "text": [
      " 74%|██████████████████████████████████████████████████████▋                   | 14397/19465 [00:41<00:13, 389.60it/s]"
     ]
    },
    {
     "name": "stdout",
     "output_type": "stream",
     "text": [
      "文件不存在。\n"
     ]
    },
    {
     "name": "stderr",
     "output_type": "stream",
     "text": [
      " 74%|███████████████████████████████████████████████████████                   | 14480/19465 [00:41<00:13, 383.37it/s]"
     ]
    },
    {
     "name": "stdout",
     "output_type": "stream",
     "text": [
      "文件不存在。\n",
      "文件不存在。\n",
      "文件不存在。\n",
      "文件不存在。\n",
      "文件不存在。\n",
      "文件不存在。\n"
     ]
    },
    {
     "name": "stderr",
     "output_type": "stream",
     "text": [
      " 75%|███████████████████████████████████████████████████████▍                  | 14568/19465 [00:41<00:12, 404.71it/s]"
     ]
    },
    {
     "name": "stdout",
     "output_type": "stream",
     "text": [
      "文件不存在。\n",
      "文件不存在。\n",
      "文件不存在。\n",
      "文件不存在。\n",
      "文件不存在。\n",
      "文件不存在。\n",
      "文件不存在。\n"
     ]
    },
    {
     "name": "stderr",
     "output_type": "stream",
     "text": [
      " 76%|████████████████████████████████████████████████████████▎                 | 14821/19465 [00:42<00:12, 385.88it/s]"
     ]
    },
    {
     "name": "stdout",
     "output_type": "stream",
     "text": [
      "文件不存在。\n",
      "文件不存在。\n",
      "文件不存在。\n",
      "文件不存在。\n",
      "文件不存在。\n",
      "文件不存在。\n",
      "文件不存在。\n"
     ]
    },
    {
     "name": "stderr",
     "output_type": "stream",
     "text": [
      " 77%|█████████████████████████████████████████████████████████                 | 15022/19465 [00:43<00:09, 450.46it/s]"
     ]
    },
    {
     "name": "stdout",
     "output_type": "stream",
     "text": [
      "文件不存在。\n",
      "文件不存在。\n",
      "文件不存在。\n"
     ]
    },
    {
     "name": "stderr",
     "output_type": "stream",
     "text": [
      " 78%|██████████████████████████████████████████████████████████                | 15264/19465 [00:43<00:10, 410.03it/s]"
     ]
    },
    {
     "name": "stdout",
     "output_type": "stream",
     "text": [
      "文件不存在。\n",
      "文件不存在。\n",
      "文件不存在。\n",
      "文件不存在。\n"
     ]
    },
    {
     "name": "stderr",
     "output_type": "stream",
     "text": [
      " 79%|██████████████████████████████████████████████████████████▌               | 15419/19465 [00:44<00:08, 458.89it/s]"
     ]
    },
    {
     "name": "stdout",
     "output_type": "stream",
     "text": [
      "文件不存在。\n",
      "文件不存在。\n",
      "文件不存在。\n",
      "文件不存在。\n"
     ]
    },
    {
     "name": "stderr",
     "output_type": "stream",
     "text": [
      " 81%|████████████████████████████████████████████████████████████▎             | 15858/19465 [00:45<00:11, 312.50it/s]"
     ]
    },
    {
     "name": "stdout",
     "output_type": "stream",
     "text": [
      "文件不存在。\n",
      "文件不存在。\n",
      "文件不存在。\n",
      "文件不存在。\n",
      "文件不存在。\n",
      "文件不存在。\n",
      "文件不存在。\n",
      "文件不存在。\n",
      "文件不存在。\n"
     ]
    },
    {
     "name": "stderr",
     "output_type": "stream",
     "text": [
      " 82%|████████████████████████████████████████████████████████████▋             | 15948/19465 [00:46<00:09, 373.73it/s]"
     ]
    },
    {
     "name": "stdout",
     "output_type": "stream",
     "text": [
      "文件不存在。\n",
      "文件不存在。\n",
      "文件不存在。\n",
      "文件不存在。\n",
      "文件不存在。\n",
      "文件不存在。\n",
      "文件不存在。\n",
      "文件不存在。\n"
     ]
    },
    {
     "name": "stderr",
     "output_type": "stream",
     "text": [
      " 83%|█████████████████████████████████████████████████████████████             | 16073/19465 [00:46<00:09, 359.85it/s]"
     ]
    },
    {
     "name": "stdout",
     "output_type": "stream",
     "text": [
      "文件不存在。\n",
      "文件不存在。\n",
      "文件不存在。\n",
      "文件不存在。\n",
      "文件不存在。\n",
      "文件不存在。\n",
      "文件不存在。\n",
      "文件不存在。\n",
      "文件不存在。\n"
     ]
    },
    {
     "name": "stderr",
     "output_type": "stream",
     "text": [
      " 84%|█████████████████████████████████████████████████████████████▉            | 16295/19465 [00:46<00:08, 390.81it/s]"
     ]
    },
    {
     "name": "stdout",
     "output_type": "stream",
     "text": [
      "文件不存在。\n",
      "文件不存在。\n",
      "文件不存在。\n",
      "文件不存在。\n",
      "文件不存在。\n",
      "文件不存在。\n",
      "文件不存在。\n",
      "文件不存在。\n"
     ]
    },
    {
     "name": "stderr",
     "output_type": "stream",
     "text": [
      " 85%|██████████████████████████████████████████████████████████████▌           | 16448/19465 [00:47<00:06, 431.07it/s]"
     ]
    },
    {
     "name": "stdout",
     "output_type": "stream",
     "text": [
      "文件不存在。\n",
      "文件不存在。\n",
      "文件不存在。\n",
      "文件不存在。\n"
     ]
    },
    {
     "name": "stderr",
     "output_type": "stream",
     "text": [
      " 85%|███████████████████████████████████████████████████████████████▎          | 16641/19465 [00:47<00:06, 417.11it/s]"
     ]
    },
    {
     "name": "stdout",
     "output_type": "stream",
     "text": [
      "文件不存在。\n",
      "文件不存在。\n",
      "文件不存在。\n",
      "文件不存在。\n",
      "文件不存在。\n",
      "文件不存在。\n",
      "文件不存在。\n",
      "文件不存在。\n"
     ]
    },
    {
     "name": "stderr",
     "output_type": "stream",
     "text": [
      " 86%|███████████████████████████████████████████████████████████████▌          | 16731/19465 [00:48<00:06, 396.96it/s]"
     ]
    },
    {
     "name": "stdout",
     "output_type": "stream",
     "text": [
      "文件不存在。\n"
     ]
    },
    {
     "name": "stderr",
     "output_type": "stream",
     "text": [
      " 88%|████████████████████████████████████████████████████████████████▉         | 17070/19465 [00:49<00:06, 362.59it/s]"
     ]
    },
    {
     "name": "stdout",
     "output_type": "stream",
     "text": [
      "文件不存在。\n"
     ]
    },
    {
     "name": "stderr",
     "output_type": "stream",
     "text": [
      " 89%|█████████████████████████████████████████████████████████████████▌        | 17254/19465 [00:49<00:05, 390.17it/s]"
     ]
    },
    {
     "name": "stdout",
     "output_type": "stream",
     "text": [
      "文件不存在。\n"
     ]
    },
    {
     "name": "stderr",
     "output_type": "stream",
     "text": [
      " 90%|██████████████████████████████████████████████████████████████████▎       | 17456/19465 [00:50<00:06, 332.66it/s]"
     ]
    },
    {
     "name": "stdout",
     "output_type": "stream",
     "text": [
      "文件不存在。\n",
      "文件不存在。\n"
     ]
    },
    {
     "name": "stderr",
     "output_type": "stream",
     "text": [
      " 91%|███████████████████████████████████████████████████████████████████▎      | 17695/19465 [00:50<00:04, 383.63it/s]"
     ]
    },
    {
     "name": "stdout",
     "output_type": "stream",
     "text": [
      "文件不存在。\n",
      "文件不存在。\n",
      "文件不存在。\n"
     ]
    },
    {
     "name": "stderr",
     "output_type": "stream",
     "text": [
      " 91%|███████████████████████████████████████████████████████████████████▌      | 17787/19465 [00:51<00:04, 395.97it/s]"
     ]
    },
    {
     "name": "stdout",
     "output_type": "stream",
     "text": [
      "文件不存在。\n"
     ]
    },
    {
     "name": "stderr",
     "output_type": "stream",
     "text": [
      " 93%|████████████████████████████████████████████████████████████████████▋     | 18057/19465 [00:52<00:05, 251.83it/s]"
     ]
    },
    {
     "name": "stdout",
     "output_type": "stream",
     "text": [
      "文件不存在。\n"
     ]
    },
    {
     "name": "stderr",
     "output_type": "stream",
     "text": [
      " 93%|████████████████████████████████████████████████████████████████████▉     | 18148/19465 [00:52<00:04, 327.98it/s]"
     ]
    },
    {
     "name": "stdout",
     "output_type": "stream",
     "text": [
      "文件不存在。\n",
      "文件不存在。\n",
      "文件不存在。\n",
      "文件不存在。\n"
     ]
    },
    {
     "name": "stderr",
     "output_type": "stream",
     "text": [
      " 94%|█████████████████████████████████████████████████████████████████████▍    | 18280/19465 [00:52<00:03, 367.86it/s]"
     ]
    },
    {
     "name": "stdout",
     "output_type": "stream",
     "text": [
      "文件不存在。\n",
      "文件不存在。\n",
      "文件不存在。\n",
      "文件不存在。\n"
     ]
    },
    {
     "name": "stderr",
     "output_type": "stream",
     "text": [
      " 94%|█████████████████████████████████████████████████████████████████████▉    | 18387/19465 [00:53<00:03, 328.30it/s]"
     ]
    },
    {
     "name": "stdout",
     "output_type": "stream",
     "text": [
      "文件不存在。\n",
      "文件不存在。\n"
     ]
    },
    {
     "name": "stderr",
     "output_type": "stream",
     "text": [
      " 95%|██████████████████████████████████████████████████████████████████████▍   | 18533/19465 [00:53<00:02, 328.70it/s]"
     ]
    },
    {
     "name": "stdout",
     "output_type": "stream",
     "text": [
      "文件不存在。\n"
     ]
    },
    {
     "name": "stderr",
     "output_type": "stream",
     "text": [
      " 96%|██████████████████████████████████████████████████████████████████████▊   | 18620/19465 [00:53<00:02, 369.58it/s]"
     ]
    },
    {
     "name": "stdout",
     "output_type": "stream",
     "text": [
      "文件不存在。\n",
      "文件不存在。\n"
     ]
    },
    {
     "name": "stderr",
     "output_type": "stream",
     "text": [
      " 97%|███████████████████████████████████████████████████████████████████████▊  | 18886/19465 [00:54<00:01, 426.09it/s]"
     ]
    },
    {
     "name": "stdout",
     "output_type": "stream",
     "text": [
      "文件不存在。\n",
      "文件不存在。\n",
      "文件不存在。\n",
      "文件不存在。\n",
      "文件不存在。\n",
      "文件不存在。\n",
      "文件不存在。\n"
     ]
    },
    {
     "name": "stderr",
     "output_type": "stream",
     "text": [
      " 98%|████████████████████████████████████████████████████████████████████████▍ | 19059/19465 [00:54<00:00, 492.74it/s]"
     ]
    },
    {
     "name": "stdout",
     "output_type": "stream",
     "text": [
      "文件不存在。\n",
      "文件不存在。\n",
      "文件不存在。\n",
      "文件不存在。\n",
      "文件不存在。\n",
      "文件不存在。\n",
      "文件不存在。\n"
     ]
    },
    {
     "name": "stderr",
     "output_type": "stream",
     "text": [
      " 99%|████████████████████████████████████████████████████████████████████████▉ | 19198/19465 [00:55<00:00, 410.01it/s]"
     ]
    },
    {
     "name": "stdout",
     "output_type": "stream",
     "text": [
      "文件不存在。\n"
     ]
    },
    {
     "name": "stderr",
     "output_type": "stream",
     "text": [
      " 99%|█████████████████████████████████████████████████████████████████████████▌| 19341/19465 [00:55<00:00, 451.04it/s]"
     ]
    },
    {
     "name": "stdout",
     "output_type": "stream",
     "text": [
      "文件不存在。\n"
     ]
    },
    {
     "name": "stderr",
     "output_type": "stream",
     "text": [
      "100%|██████████████████████████████████████████████████████████████████████████| 19465/19465 [00:55<00:00, 349.34it/s]"
     ]
    },
    {
     "name": "stdout",
     "output_type": "stream",
     "text": [
      "文件不存在。\n",
      "文件不存在。\n"
     ]
    },
    {
     "name": "stderr",
     "output_type": "stream",
     "text": [
      "\n"
     ]
    }
   ],
   "source": [
    "hash_list = []\n",
    "for path in tqdm(imgs_list):\n",
    "    hash_list.append(file_sha256(path))\n",
    "    # break"
   ]
  },
  {
   "cell_type": "code",
   "execution_count": 66,
   "id": "08204c54-9c09-4b63-8581-e22acc28dede",
   "metadata": {},
   "outputs": [],
   "source": [
    "img_df['hash'] = hash_list"
   ]
  },
  {
   "cell_type": "code",
   "execution_count": 71,
   "id": "7dc61caf-a041-4890-a978-5ea71c32f6b2",
   "metadata": {},
   "outputs": [
    {
     "data": {
      "text/plain": [
       "(19465, 19465, 17436)"
      ]
     },
     "execution_count": 71,
     "metadata": {},
     "output_type": "execute_result"
    }
   ],
   "source": [
    "len(hash_list), len(img_df), len(img_df.drop_duplicates('hash'))"
   ]
  },
  {
   "cell_type": "code",
   "execution_count": 74,
   "id": "fe1cfe53-3b3a-4335-ba08-d32a1b53c7e0",
   "metadata": {},
   "outputs": [
    {
     "data": {
      "text/html": [
       "<div>\n",
       "<style scoped>\n",
       "    .dataframe tbody tr th:only-of-type {\n",
       "        vertical-align: middle;\n",
       "    }\n",
       "\n",
       "    .dataframe tbody tr th {\n",
       "        vertical-align: top;\n",
       "    }\n",
       "\n",
       "    .dataframe thead th {\n",
       "        text-align: right;\n",
       "    }\n",
       "</style>\n",
       "<table border=\"1\" class=\"dataframe\">\n",
       "  <thead>\n",
       "    <tr style=\"text-align: right;\">\n",
       "      <th></th>\n",
       "      <th>id</th>\n",
       "      <th>user_id</th>\n",
       "      <th>path</th>\n",
       "      <th>width</th>\n",
       "      <th>height</th>\n",
       "      <th>type_id</th>\n",
       "      <th>一级分类</th>\n",
       "      <th>category_id</th>\n",
       "      <th>二级分类</th>\n",
       "      <th>spath</th>\n",
       "      <th>tpath</th>\n",
       "      <th>folder</th>\n",
       "      <th>hash</th>\n",
       "      <th>label_eng</th>\n",
       "    </tr>\n",
       "  </thead>\n",
       "  <tbody>\n",
       "    <tr>\n",
       "      <th>0</th>\n",
       "      <td>1</td>\n",
       "      <td>1</td>\n",
       "      <td>8435705c-421f-45dc-abd4-c1c23d38cbfb.jpg</td>\n",
       "      <td>690</td>\n",
       "      <td>1034</td>\n",
       "      <td>4</td>\n",
       "      <td>上装</td>\n",
       "      <td>0</td>\n",
       "      <td>NaN</td>\n",
       "      <td>https://oss.xiaoshanchongdie.com/items/8435705...</td>\n",
       "      <td>/nas/chenyi/datasets_nas/deploy_sys/dadetv3/0/...</td>\n",
       "      <td>0</td>\n",
       "      <td>2c4c0495ee10f7e3691249a1db5c6eeb7c2616099b6124...</td>\n",
       "      <td>NaN</td>\n",
       "    </tr>\n",
       "    <tr>\n",
       "      <th>1</th>\n",
       "      <td>2</td>\n",
       "      <td>3</td>\n",
       "      <td>d943be5f-92aa-4017-abaf-4130621322df.png</td>\n",
       "      <td>2268</td>\n",
       "      <td>4032</td>\n",
       "      <td>7</td>\n",
       "      <td>连体装</td>\n",
       "      <td>0</td>\n",
       "      <td>NaN</td>\n",
       "      <td>https://oss.xiaoshanchongdie.com/items/d943be5...</td>\n",
       "      <td>/nas/chenyi/datasets_nas/deploy_sys/dadetv3/0/...</td>\n",
       "      <td>0</td>\n",
       "      <td>79d123e113ba021915f0296993729be66133fecbeb9592...</td>\n",
       "      <td>NaN</td>\n",
       "    </tr>\n",
       "    <tr>\n",
       "      <th>2</th>\n",
       "      <td>3</td>\n",
       "      <td>5</td>\n",
       "      <td>25fc8e21-e522-4dba-9438-4b7c0e86069d.jpg</td>\n",
       "      <td>960</td>\n",
       "      <td>444</td>\n",
       "      <td>4</td>\n",
       "      <td>上装</td>\n",
       "      <td>0</td>\n",
       "      <td>NaN</td>\n",
       "      <td>https://oss.xiaoshanchongdie.com/items/25fc8e2...</td>\n",
       "      <td>/nas/chenyi/datasets_nas/deploy_sys/dadetv3/0/...</td>\n",
       "      <td>0</td>\n",
       "      <td>be3bdb0eefd5c1f7ab895db20ff210263441c9cbe10fcc...</td>\n",
       "      <td>NaN</td>\n",
       "    </tr>\n",
       "    <tr>\n",
       "      <th>3</th>\n",
       "      <td>4</td>\n",
       "      <td>3</td>\n",
       "      <td>bd2fab02-e026-47e3-ab35-bde7865a4eb0.png</td>\n",
       "      <td>2268</td>\n",
       "      <td>4032</td>\n",
       "      <td>4</td>\n",
       "      <td>上装</td>\n",
       "      <td>0</td>\n",
       "      <td>NaN</td>\n",
       "      <td>https://oss.xiaoshanchongdie.com/items/bd2fab0...</td>\n",
       "      <td>/nas/chenyi/datasets_nas/deploy_sys/dadetv3/0/...</td>\n",
       "      <td>0</td>\n",
       "      <td>a6d8660a066b0173495db6a14eb5b660d31e9c7e46d9cb...</td>\n",
       "      <td>NaN</td>\n",
       "    </tr>\n",
       "    <tr>\n",
       "      <th>4</th>\n",
       "      <td>5</td>\n",
       "      <td>3</td>\n",
       "      <td>d616a39a-3f16-4bcc-9a12-e8ce745cc80a.png</td>\n",
       "      <td>2268</td>\n",
       "      <td>4032</td>\n",
       "      <td>5</td>\n",
       "      <td>裤子</td>\n",
       "      <td>0</td>\n",
       "      <td>NaN</td>\n",
       "      <td>https://oss.xiaoshanchongdie.com/items/d616a39...</td>\n",
       "      <td>/nas/chenyi/datasets_nas/deploy_sys/dadetv3/0/...</td>\n",
       "      <td>0</td>\n",
       "      <td>42f9a78bd178de188d6b095a22492f3ef20422613afa0c...</td>\n",
       "      <td>NaN</td>\n",
       "    </tr>\n",
       "  </tbody>\n",
       "</table>\n",
       "</div>"
      ],
      "text/plain": [
       "   id  user_id                                      path  width  height  \\\n",
       "0   1        1  8435705c-421f-45dc-abd4-c1c23d38cbfb.jpg    690    1034   \n",
       "1   2        3  d943be5f-92aa-4017-abaf-4130621322df.png   2268    4032   \n",
       "2   3        5  25fc8e21-e522-4dba-9438-4b7c0e86069d.jpg    960     444   \n",
       "3   4        3  bd2fab02-e026-47e3-ab35-bde7865a4eb0.png   2268    4032   \n",
       "4   5        3  d616a39a-3f16-4bcc-9a12-e8ce745cc80a.png   2268    4032   \n",
       "\n",
       "   type_id 一级分类  category_id 二级分类  \\\n",
       "0        4   上装            0  NaN   \n",
       "1        7  连体装            0  NaN   \n",
       "2        4   上装            0  NaN   \n",
       "3        4   上装            0  NaN   \n",
       "4        5   裤子            0  NaN   \n",
       "\n",
       "                                               spath  \\\n",
       "0  https://oss.xiaoshanchongdie.com/items/8435705...   \n",
       "1  https://oss.xiaoshanchongdie.com/items/d943be5...   \n",
       "2  https://oss.xiaoshanchongdie.com/items/25fc8e2...   \n",
       "3  https://oss.xiaoshanchongdie.com/items/bd2fab0...   \n",
       "4  https://oss.xiaoshanchongdie.com/items/d616a39...   \n",
       "\n",
       "                                               tpath  folder  \\\n",
       "0  /nas/chenyi/datasets_nas/deploy_sys/dadetv3/0/...       0   \n",
       "1  /nas/chenyi/datasets_nas/deploy_sys/dadetv3/0/...       0   \n",
       "2  /nas/chenyi/datasets_nas/deploy_sys/dadetv3/0/...       0   \n",
       "3  /nas/chenyi/datasets_nas/deploy_sys/dadetv3/0/...       0   \n",
       "4  /nas/chenyi/datasets_nas/deploy_sys/dadetv3/0/...       0   \n",
       "\n",
       "                                                hash label_eng  \n",
       "0  2c4c0495ee10f7e3691249a1db5c6eeb7c2616099b6124...       NaN  \n",
       "1  79d123e113ba021915f0296993729be66133fecbeb9592...       NaN  \n",
       "2  be3bdb0eefd5c1f7ab895db20ff210263441c9cbe10fcc...       NaN  \n",
       "3  a6d8660a066b0173495db6a14eb5b660d31e9c7e46d9cb...       NaN  \n",
       "4  42f9a78bd178de188d6b095a22492f3ef20422613afa0c...       NaN  "
      ]
     },
     "execution_count": 74,
     "metadata": {},
     "output_type": "execute_result"
    }
   ],
   "source": []
  },
  {
   "cell_type": "code",
   "execution_count": null,
   "id": "37142d4b-67b5-4cfa-bdf0-d90e314f6af2",
   "metadata": {},
   "outputs": [],
   "source": []
  },
  {
   "cell_type": "code",
   "execution_count": null,
   "id": "d838f2c6-1b70-4146-a85a-a7fe78da91ec",
   "metadata": {},
   "outputs": [],
   "source": []
  },
  {
   "cell_type": "markdown",
   "id": "2ec1e558-edc3-4e54-ac46-0508e2f96ebe",
   "metadata": {},
   "source": [
    "### 重新整理folder"
   ]
  },
  {
   "cell_type": "code",
   "execution_count": null,
   "id": "c787108e-16b9-451c-a7b0-d56d83e213c6",
   "metadata": {},
   "outputs": [],
   "source": [
    "model_label_map = {\n",
    "    0: 10,  # 鞋子\n",
    "    1: 8,  # 包包\n",
    "    2: 4,  # 上装\n",
    "    3: 5,  # 裤子\n",
    "    4: 6,  # 裙子\n",
    "    5: 7,  # 连体装\n",
    "}"
   ]
  },
  {
   "cell_type": "code",
   "execution_count": 72,
   "id": "ea40ecbc-6155-4388-8646-685a7423120d",
   "metadata": {},
   "outputs": [],
   "source": [
    "model_label_map = {\n",
    "    10: 'shoe',  # 鞋子\n",
    "    8: 'bag',  # 包包\n",
    "    4: 'upperbody',  # 上装\n",
    "    5: 'paints',  # 裤子\n",
    "    6: 'skirt',  # 裙子\n",
    "    7: 'wholebody',  # 连体装\n",
    "}"
   ]
  },
  {
   "cell_type": "code",
   "execution_count": 73,
   "id": "e9c16761-3407-445b-940b-91d339fe7329",
   "metadata": {},
   "outputs": [],
   "source": [
    "# img_df['label_eng'] = img_df['category_id'].map(model_label_map)"
   ]
  },
  {
   "cell_type": "code",
   "execution_count": 86,
   "id": "c89c544f-6be7-4070-8f32-2c45a06d0779",
   "metadata": {},
   "outputs": [
    {
     "data": {
      "text/plain": [
       "array([[1, 1, '8435705c-421f-45dc-abd4-c1c23d38cbfb.jpg', 690, 1034, 4,\n",
       "        '上装', 0, nan,\n",
       "        'https://oss.xiaoshanchongdie.com/items/8435705c-421f-45dc-abd4-c1c23d38cbfb.jpg',\n",
       "        '/nas/chenyi/datasets_nas/deploy_sys/dadetv3/0/8435705c-421f-45dc-abd4-c1c23d38cbfb_4.jpg',\n",
       "        0,\n",
       "        '2c4c0495ee10f7e3691249a1db5c6eeb7c2616099b6124b593be33f2bd68f9bf',\n",
       "        nan,\n",
       "        '/nas/chenyi/datasets_nas/deploy_sys/dadetv3_cls/上装/0/8435705c-421f-45dc-abd4-c1c23d38cbfb.jpg']],\n",
       "      dtype=object)"
      ]
     },
     "execution_count": 86,
     "metadata": {},
     "output_type": "execute_result"
    }
   ],
   "source": [
    "img_df.head(1).values"
   ]
  },
  {
   "cell_type": "code",
   "execution_count": 94,
   "id": "f046f7e4-0386-4437-986d-e7e060762e76",
   "metadata": {},
   "outputs": [],
   "source": [
    "troot = '/nas/chenyi/datasets_nas/deploy_sys/dadetv3_cls_bak'"
   ]
  },
  {
   "cell_type": "code",
   "execution_count": 95,
   "id": "73d57d13-5d33-4374-8b8f-92de2615189f",
   "metadata": {},
   "outputs": [],
   "source": [
    "img_df['new_path'] = img_df.apply(lambda row: '{0}/{1}/{2}/{3}.jpg'.format(troot, row['一级分类'], row['folder'], Path(row['spath']).stem), \n",
    "                                  axis=1)"
   ]
  },
  {
   "cell_type": "code",
   "execution_count": 96,
   "id": "76a9fed6-fbe3-4771-bd8a-f7cf93bad8ed",
   "metadata": {},
   "outputs": [],
   "source": [
    "df = img_df.drop_duplicates('hash')"
   ]
  },
  {
   "cell_type": "code",
   "execution_count": 97,
   "id": "cfce5685-cf25-4c80-a69a-6f2bd3769aaa",
   "metadata": {
    "tags": []
   },
   "outputs": [
    {
     "name": "stderr",
     "output_type": "stream",
     "text": [
      "17436it [00:37, 470.57it/s]\n"
     ]
    }
   ],
   "source": [
    "import shutil\n",
    "for ind, row in tqdm(df.iterrows()):\n",
    "    sp = row['tpath']\n",
    "    tp = row['new_path']\n",
    "    if not Path(tp).parent.is_dir():\n",
    "        Path(tp).parent.mkdir(parents=True)\n",
    "    if Path(sp).is_file() and (not Path(tp).is_file()):\n",
    "        shutil.copyfile(sp, tp)\n",
    "    # break"
   ]
  },
  {
   "cell_type": "code",
   "execution_count": null,
   "id": "8288c543-9283-4df5-ae54-0bd82d69940e",
   "metadata": {},
   "outputs": [],
   "source": [
    "dataset/trainset_generate/data"
   ]
  },
  {
   "cell_type": "code",
   "execution_count": 98,
   "id": "3adbf4b8-363b-446d-8cfe-aacf9d1f9441",
   "metadata": {},
   "outputs": [
    {
     "name": "stdout",
     "output_type": "stream",
     "text": [
      "/home/chenyi/workspace/myPyModule99/dataset\n"
     ]
    }
   ],
   "source": [
    "!pwd"
   ]
  },
  {
   "cell_type": "code",
   "execution_count": 99,
   "id": "d537a315-56ac-45a1-8fd9-7043c95cbc01",
   "metadata": {},
   "outputs": [],
   "source": [
    "# !mkdir -p /nas/chenyi/workspace/myPyModule/dataset/trainset_generate/"
   ]
  },
  {
   "cell_type": "code",
   "execution_count": 100,
   "id": "7dd99fbf-4de2-4220-a29c-c864972d4e3b",
   "metadata": {},
   "outputs": [],
   "source": [
    "# !cp -r /home/chenyi/workspace/myPyModule99/dataset/trainset_generate/data/ \\\n",
    "#         /nas/chenyi/workspace/myPyModule/dataset/trainset_generate/"
   ]
  },
  {
   "cell_type": "code",
   "execution_count": null,
   "id": "1e9f6687-9522-4112-8941-3ff1b629c334",
   "metadata": {},
   "outputs": [],
   "source": []
  }
 ],
 "metadata": {
  "kernelspec": {
   "display_name": "Python 3 (ipykernel)",
   "language": "python",
   "name": "python3"
  },
  "language_info": {
   "codemirror_mode": {
    "name": "ipython",
    "version": 3
   },
   "file_extension": ".py",
   "mimetype": "text/x-python",
   "name": "python",
   "nbconvert_exporter": "python",
   "pygments_lexer": "ipython3",
   "version": "3.8.13"
  }
 },
 "nbformat": 4,
 "nbformat_minor": 5
}
