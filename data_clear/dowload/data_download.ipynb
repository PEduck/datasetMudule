{
 "cells": [
  {
   "cell_type": "code",
   "execution_count": 2,
   "id": "bb0d7f77-5908-4603-a006-bce339a82fca",
   "metadata": {},
   "outputs": [],
   "source": [
    "from tqdm import tqdm\n",
    "from PIL import Image\n",
    "from io import BytesIO\n",
    "from pathlib import Path\n",
    "import requests\n",
    "import pandas as pd"
   ]
  },
  {
   "cell_type": "code",
   "execution_count": null,
   "id": "9522ef7a-9d8f-4075-9ce4-d86b0203a83f",
   "metadata": {},
   "outputs": [],
   "source": []
  },
  {
   "cell_type": "markdown",
   "id": "3a64b36b-b4e9-443f-ae84-2045b2b39937",
   "metadata": {},
   "source": [
    "### Dataloader"
   ]
  },
  {
   "cell_type": "code",
   "execution_count": 27,
   "id": "dd76374a-bd87-497d-a0ce-f21f24f5f7f6",
   "metadata": {},
   "outputs": [],
   "source": [
    "root = 'https://oss.xiaoshanchongdie.com/items'\n",
    "troot = Path('/nas/chenyi/datasets_nas/deploy_system/anomaly/20220902/')\n",
    "# url = 'https://oss.xiaoshanchongdie.com/items/76c6d44e-300c-4f85-b8bb-46b87e88f456.jpg'"
   ]
  },
  {
   "cell_type": "code",
   "execution_count": 35,
   "id": "57c6e470-9b49-453e-af7a-4229b02d5c31",
   "metadata": {},
   "outputs": [],
   "source": [
    "img_exist_df = pd.read_csv('/nas/chenyi/datasets_nas/deploy_system/csv/image_name_list/anomaly0823_deploy.csv')\n",
    "img_new_df = pd.read_csv('/nas/chenyi/datasets_nas/deploy_system/csv/image_name_list/anomaly0902_deploy.csv')\n",
    "img_new_df.rename(columns={'单品文件名': 'fname'}, inplace=True)\n",
    "img_exist_df.rename(columns={'单品文件名': 'fname'}, inplace=True)\n",
    "img_cross_df = img_new_df[~img_new_df['fname'].isin(img_exist_df['fname'])].copy(deep=True)\n",
    "img_cross_df['spath'] = img_cross_df['fname'].apply(lambda x: f'{root}/{x}')"
   ]
  },
  {
   "cell_type": "markdown",
   "id": "950b8c46-95f5-4867-9c28-eb3b3626b589",
   "metadata": {
    "jp-MarkdownHeadingCollapsed": true,
    "tags": []
   },
   "source": [
    "##### xlsx"
   ]
  },
  {
   "cell_type": "code",
   "execution_count": 13,
   "id": "655f825e-cec7-47e7-84a5-a842852f59a8",
   "metadata": {},
   "outputs": [],
   "source": [
    "xlsx_df = pd.read_excel('/nas/chenyi/datasets_nas/deploy_system/csv/image_name_list/anomaly0902_deploy.xlsx')\n",
    "xlsx_df.to_csv('/nas/chenyi/datasets_nas/deploy_system/csv/image_name_list/anomaly0902_deploy.csv', index=False)"
   ]
  },
  {
   "cell_type": "markdown",
   "id": "d0d6d1d4-766d-4c43-b105-0a65fa38569c",
   "metadata": {
    "jp-MarkdownHeadingCollapsed": true,
    "tags": []
   },
   "source": [
    "##### TXT"
   ]
  },
  {
   "cell_type": "code",
   "execution_count": null,
   "id": "4b585ac0-7361-40de-9ea4-672877c8c35f",
   "metadata": {},
   "outputs": [],
   "source": [
    "txt_p = Path('/nas/chenyi/datasets_nas/deploy_system/csv/image_name_list/anomaly0823_deploy.txt')\n",
    "with open(txt_p, 'r') as f:\n",
    "    t = f.readlines()\n",
    "img_df = pd.DataFrame()\n",
    "img_df['fname'] = t\n",
    "img_df['fname'] = img_df['fname'].apply(lambda x: x.strip())\n",
    "img_df['spath'] = img_df['fname'].apply(lambda x: f'{root}/{x}')\n",
    "len(img_df)"
   ]
  },
  {
   "cell_type": "code",
   "execution_count": 11,
   "id": "1f864ebd-77a6-4dbc-b619-bc0efe5bcf23",
   "metadata": {},
   "outputs": [],
   "source": [
    "img_df.to_csv('/nas/chenyi/datasets_nas/deploy_system/csv/image_name_list/anomaly0823_deploy.csv', index=False)"
   ]
  },
  {
   "cell_type": "code",
   "execution_count": 9,
   "id": "aa59bba3-8721-4238-bb80-ed3da1dd9e41",
   "metadata": {},
   "outputs": [],
   "source": []
  },
  {
   "cell_type": "code",
   "execution_count": null,
   "id": "776087ea-b011-49a6-ad57-93b0902c8995",
   "metadata": {},
   "outputs": [],
   "source": []
  },
  {
   "cell_type": "markdown",
   "id": "ca38d935-4c90-4754-a9ee-a2f3ed4b9b59",
   "metadata": {},
   "source": [
    "### 数据下载"
   ]
  },
  {
   "cell_type": "markdown",
   "id": "78f7492f-9cd8-4771-b42a-5ef3e72cff5a",
   "metadata": {},
   "source": [
    "#### 全部数据下载"
   ]
  },
  {
   "cell_type": "code",
   "execution_count": 36,
   "id": "493b3ede-357a-4724-a39b-9cec7e1ace9b",
   "metadata": {},
   "outputs": [],
   "source": [
    "img_df = img_cross_df\n",
    "img_df['id'] =  list(img_df.index)\n",
    "img_df['folder'] = img_df['id'].apply(lambda x: int(x//500))\n",
    "img_df['tpath'] = img_df.apply(lambda row: '{0}/{1}/{2}'.format(troot, row['folder'], row['fname']), axis=1)\n",
    "show_root = Path(img_df['tpath'].values[0]).parents[2]\n",
    "if not show_root.is_dir(): show_root.mkdir(parents=True)\n",
    "!ls $show_root"
   ]
  },
  {
   "cell_type": "code",
   "execution_count": 37,
   "id": "7e0c39e5-0a07-4519-8d85-3315ae04cbed",
   "metadata": {
    "tags": []
   },
   "outputs": [
    {
     "name": "stderr",
     "output_type": "stream",
     "text": [
      "5299it [19:32,  3.62it/s]"
     ]
    },
    {
     "name": "stdout",
     "output_type": "stream",
     "text": [
      "https://oss.xiaoshanchongdie.com/items/f23c1d01-2831-4dab-93b6-a138ff459b68.jpg\n"
     ]
    },
    {
     "name": "stderr",
     "output_type": "stream",
     "text": [
      "6218it [23:49, 15.47s/it]"
     ]
    },
    {
     "name": "stdout",
     "output_type": "stream",
     "text": [
      "https://oss.xiaoshanchongdie.com/items/98fddab7-db5a-4e01-8eda-afaa3c2f7bd4.jpg\n"
     ]
    },
    {
     "name": "stderr",
     "output_type": "stream",
     "text": [
      "7025it [26:53,  4.35it/s]\n"
     ]
    }
   ],
   "source": [
    "for ind, row in tqdm(img_df.iterrows()):\n",
    "    sp = row['spath']\n",
    "    tp = Path(row['tpath'])\n",
    "    if tp.is_file():\n",
    "        continue\n",
    "    try:\n",
    "        req = requests.get(sp)\n",
    "        img = Image.open(BytesIO(req.content))\n",
    "        if not Path(tp).parent.is_dir():\n",
    "            Path(tp).parent.mkdir(parents=True)\n",
    "        img.save(tp)\n",
    "    except:\n",
    "        print(row['spath'])\n",
    "        # print('\\n')\n",
    "    # break"
   ]
  },
  {
   "cell_type": "code",
   "execution_count": null,
   "id": "a2c5bd03-c013-49f8-bf67-dd6b4be09dc7",
   "metadata": {},
   "outputs": [],
   "source": []
  },
  {
   "cell_type": "code",
   "execution_count": null,
   "id": "2698c09e-c0ed-4fdb-ad87-59b12d0c3069",
   "metadata": {},
   "outputs": [],
   "source": []
  },
  {
   "cell_type": "code",
   "execution_count": null,
   "id": "72323be0-9760-4789-b1da-171097bab457",
   "metadata": {},
   "outputs": [],
   "source": []
  },
  {
   "cell_type": "markdown",
   "id": "7cd3632a-4761-44ac-b402-1220f47ac754",
   "metadata": {},
   "source": [
    "#### 部分数据下载"
   ]
  },
  {
   "cell_type": "code",
   "execution_count": 61,
   "id": "387122f9-6bcd-436a-b38b-fd66d367907c",
   "metadata": {},
   "outputs": [
    {
     "data": {
      "text/plain": [
       "191"
      ]
     },
     "execution_count": 61,
     "metadata": {},
     "output_type": "execute_result"
    }
   ],
   "source": [
    "img_0_df = img_cross_df[~(img_cross_df['origin_type_id']==0)]\n",
    "img_df = img_0_df.copy(deep=True)\n",
    "len(img_0_df)"
   ]
  },
  {
   "cell_type": "code",
   "execution_count": 62,
   "id": "b8620ab8-304a-4dc7-a8e4-9e3bef6b8399",
   "metadata": {},
   "outputs": [],
   "source": [
    "img_df['folder'] = 'origin_type_id0'"
   ]
  },
  {
   "cell_type": "code",
   "execution_count": 64,
   "id": "10bbe788-6c35-4fe2-b21f-1e1f17d27d5e",
   "metadata": {},
   "outputs": [],
   "source": [
    "img_df['spath'] = img_df['path'].apply(lambda x: f'{root}/{x}')\n",
    "# img_df['tpath'] = img_df['path'].apply(lambda x: f'{troot}/{x}')\n",
    "img_df['tpath'] = img_df.apply(lambda row: '{0}/{1}/{2}_{3}{4}'.format(troot, row['folder'],Path(row['spath']).stem, row['type_id'], Path(row['spath']).suffix), axis=1)"
   ]
  },
  {
   "cell_type": "code",
   "execution_count": null,
   "id": "a2666682-b643-49f2-8699-c6530aecccf5",
   "metadata": {},
   "outputs": [],
   "source": []
  },
  {
   "cell_type": "code",
   "execution_count": null,
   "id": "05de3af4-cb19-4a1c-b4ce-bd3b7c133cbc",
   "metadata": {},
   "outputs": [],
   "source": []
  },
  {
   "cell_type": "code",
   "execution_count": 90,
   "id": "a68cd742-0c6f-4b73-a727-0cca9d16f587",
   "metadata": {},
   "outputs": [
    {
     "name": "stderr",
     "output_type": "stream",
     "text": [
      "191it [00:28,  6.75it/s]\n"
     ]
    }
   ],
   "source": [
    "save_df = img_df[:]\n",
    "for ind, row in tqdm(save_df.iterrows()):\n",
    "    sp = row['spath']\n",
    "    tp = Path(row['tpath'])\n",
    "    if tp.is_file():\n",
    "        continue\n",
    "    try:\n",
    "        req = requests.get(sp)\n",
    "        img = Image.open(BytesIO(req.content))\n",
    "        if not Path(tp).parent.is_dir():\n",
    "            Path(tp).parent.mkdir(parents=True)\n",
    "        img.save(tp)\n",
    "    except:\n",
    "        print(row['spath'])\n",
    "        # print('\\n')\n",
    "    # break"
   ]
  },
  {
   "cell_type": "code",
   "execution_count": null,
   "id": "d78b5d15-284c-4163-81ca-d0d95f6c5358",
   "metadata": {},
   "outputs": [],
   "source": []
  },
  {
   "cell_type": "code",
   "execution_count": null,
   "id": "de733bc4-1af2-4f1a-ad0f-c5254180fd96",
   "metadata": {},
   "outputs": [],
   "source": []
  },
  {
   "cell_type": "markdown",
   "id": "464777c7-6d1c-4404-95b3-2b951490e51b",
   "metadata": {},
   "source": [
    "### 数据去重"
   ]
  },
  {
   "cell_type": "code",
   "execution_count": 60,
   "id": "7f34505c-c3ef-4232-ae87-5e8ec479a87f",
   "metadata": {},
   "outputs": [],
   "source": [
    "import hashlib\n",
    "import os"
   ]
  },
  {
   "cell_type": "code",
   "execution_count": 51,
   "id": "aba4deeb-8c92-42ea-a07f-ffee3c7eca22",
   "metadata": {},
   "outputs": [],
   "source": [
    "# img_df.to_csv('query_img_20220622.csv', index=False)"
   ]
  },
  {
   "cell_type": "code",
   "execution_count": 52,
   "id": "9f32d0a4-04d6-41b1-87d5-16a999092a5f",
   "metadata": {},
   "outputs": [
    {
     "data": {
      "text/html": [
       "<div>\n",
       "<style scoped>\n",
       "    .dataframe tbody tr th:only-of-type {\n",
       "        vertical-align: middle;\n",
       "    }\n",
       "\n",
       "    .dataframe tbody tr th {\n",
       "        vertical-align: top;\n",
       "    }\n",
       "\n",
       "    .dataframe thead th {\n",
       "        text-align: right;\n",
       "    }\n",
       "</style>\n",
       "<table border=\"1\" class=\"dataframe\">\n",
       "  <thead>\n",
       "    <tr style=\"text-align: right;\">\n",
       "      <th></th>\n",
       "      <th>id</th>\n",
       "      <th>user_id</th>\n",
       "      <th>path</th>\n",
       "      <th>width</th>\n",
       "      <th>height</th>\n",
       "      <th>type_id</th>\n",
       "      <th>一级分类</th>\n",
       "      <th>category_id</th>\n",
       "      <th>二级分类</th>\n",
       "      <th>spath</th>\n",
       "      <th>tpath</th>\n",
       "      <th>folder</th>\n",
       "    </tr>\n",
       "  </thead>\n",
       "  <tbody>\n",
       "    <tr>\n",
       "      <th>0</th>\n",
       "      <td>1</td>\n",
       "      <td>1</td>\n",
       "      <td>8435705c-421f-45dc-abd4-c1c23d38cbfb.jpg</td>\n",
       "      <td>690</td>\n",
       "      <td>1034</td>\n",
       "      <td>4</td>\n",
       "      <td>上装</td>\n",
       "      <td>0</td>\n",
       "      <td>NaN</td>\n",
       "      <td>https://oss.xiaoshanchongdie.com/items/8435705...</td>\n",
       "      <td>/nas/chenyi/datasets_nas/deploy_sys/dadetv3/0/...</td>\n",
       "      <td>0</td>\n",
       "    </tr>\n",
       "    <tr>\n",
       "      <th>1</th>\n",
       "      <td>2</td>\n",
       "      <td>3</td>\n",
       "      <td>d943be5f-92aa-4017-abaf-4130621322df.png</td>\n",
       "      <td>2268</td>\n",
       "      <td>4032</td>\n",
       "      <td>7</td>\n",
       "      <td>连体装</td>\n",
       "      <td>0</td>\n",
       "      <td>NaN</td>\n",
       "      <td>https://oss.xiaoshanchongdie.com/items/d943be5...</td>\n",
       "      <td>/nas/chenyi/datasets_nas/deploy_sys/dadetv3/0/...</td>\n",
       "      <td>0</td>\n",
       "    </tr>\n",
       "  </tbody>\n",
       "</table>\n",
       "</div>"
      ],
      "text/plain": [
       "   id  user_id                                      path  width  height  \\\n",
       "0   1        1  8435705c-421f-45dc-abd4-c1c23d38cbfb.jpg    690    1034   \n",
       "1   2        3  d943be5f-92aa-4017-abaf-4130621322df.png   2268    4032   \n",
       "\n",
       "   type_id 一级分类  category_id 二级分类  \\\n",
       "0        4   上装            0  NaN   \n",
       "1        7  连体装            0  NaN   \n",
       "\n",
       "                                               spath  \\\n",
       "0  https://oss.xiaoshanchongdie.com/items/8435705...   \n",
       "1  https://oss.xiaoshanchongdie.com/items/d943be5...   \n",
       "\n",
       "                                               tpath  folder  \n",
       "0  /nas/chenyi/datasets_nas/deploy_sys/dadetv3/0/...       0  \n",
       "1  /nas/chenyi/datasets_nas/deploy_sys/dadetv3/0/...       0  "
      ]
     },
     "execution_count": 52,
     "metadata": {},
     "output_type": "execute_result"
    }
   ],
   "source": [
    "img_df.head(2)"
   ]
  },
  {
   "cell_type": "code",
   "execution_count": null,
   "id": "ee201cc7-20d8-4d81-b8d1-733c4730945f",
   "metadata": {},
   "outputs": [],
   "source": []
  },
  {
   "cell_type": "code",
   "execution_count": 61,
   "id": "86fe7b88-9828-4446-a253-72428baac7ce",
   "metadata": {},
   "outputs": [],
   "source": [
    "# 使用python3.8及以上可以用此方法，写法更简洁。\n",
    "def file_hash(file_path: str, hash_method) -> str:\n",
    "    if not os.path.isfile(file_path):\n",
    "        print('文件不存在。')\n",
    "        return ''\n",
    "    h = hash_method()\n",
    "    with open(file_path, 'rb') as f:\n",
    "        while b := f.read(8192):\n",
    "            h.update(b)\n",
    "    return h.hexdigest()\n",
    "\n",
    "def file_sha256(file_path: str) -> str:\n",
    "    return file_hash(file_path, hashlib.sha256)"
   ]
  },
  {
   "cell_type": "code",
   "execution_count": 56,
   "id": "cd0bcc3f-0dfb-4587-b694-2fea60289c92",
   "metadata": {},
   "outputs": [],
   "source": [
    "imgs_list = img_df['tpath'].values\n",
    "troot = '/nas/chenyi/datasets_nas/dada_det/data/wholebody0602/wholebody/'"
   ]
  },
  {
   "cell_type": "code",
   "execution_count": null,
   "id": "a865d99c-8eb4-4b4b-8e5b-17c2bee7f019",
   "metadata": {},
   "outputs": [],
   "source": [
    "# for path in imgs_list:\n",
    "#     src = path\n",
    "#     dst = '/nas/chenyi/datasets_nas/dada_det/data/wholebody0602/wholebody/' + file_sha256(path) + '.jpg'\n",
    "#     with open('log.txt', 'a', encoding='utf-8') as f:\n",
    "#         f.write(f'{src} -> {dst}\\n')\n",
    "#         shutil.copy(src, dst)"
   ]
  },
  {
   "cell_type": "code",
   "execution_count": null,
   "id": "06b670bc-4c35-4df4-966c-f70bdb560635",
   "metadata": {
    "tags": []
   },
   "outputs": [],
   "source": [
    "hash_list = []\n",
    "for path in tqdm(imgs_list):\n",
    "    hash_list.append(file_sha256(path))\n",
    "    # break"
   ]
  },
  {
   "cell_type": "code",
   "execution_count": 66,
   "id": "08204c54-9c09-4b63-8581-e22acc28dede",
   "metadata": {},
   "outputs": [],
   "source": [
    "img_df['hash'] = hash_list"
   ]
  },
  {
   "cell_type": "code",
   "execution_count": 71,
   "id": "7dc61caf-a041-4890-a978-5ea71c32f6b2",
   "metadata": {},
   "outputs": [
    {
     "data": {
      "text/plain": [
       "(19465, 19465, 17436)"
      ]
     },
     "execution_count": 71,
     "metadata": {},
     "output_type": "execute_result"
    }
   ],
   "source": [
    "len(hash_list), len(img_df), len(img_df.drop_duplicates('hash'))"
   ]
  },
  {
   "cell_type": "code",
   "execution_count": 74,
   "id": "fe1cfe53-3b3a-4335-ba08-d32a1b53c7e0",
   "metadata": {},
   "outputs": [
    {
     "data": {
      "text/html": [
       "<div>\n",
       "<style scoped>\n",
       "    .dataframe tbody tr th:only-of-type {\n",
       "        vertical-align: middle;\n",
       "    }\n",
       "\n",
       "    .dataframe tbody tr th {\n",
       "        vertical-align: top;\n",
       "    }\n",
       "\n",
       "    .dataframe thead th {\n",
       "        text-align: right;\n",
       "    }\n",
       "</style>\n",
       "<table border=\"1\" class=\"dataframe\">\n",
       "  <thead>\n",
       "    <tr style=\"text-align: right;\">\n",
       "      <th></th>\n",
       "      <th>id</th>\n",
       "      <th>user_id</th>\n",
       "      <th>path</th>\n",
       "      <th>width</th>\n",
       "      <th>height</th>\n",
       "      <th>type_id</th>\n",
       "      <th>一级分类</th>\n",
       "      <th>category_id</th>\n",
       "      <th>二级分类</th>\n",
       "      <th>spath</th>\n",
       "      <th>tpath</th>\n",
       "      <th>folder</th>\n",
       "      <th>hash</th>\n",
       "      <th>label_eng</th>\n",
       "    </tr>\n",
       "  </thead>\n",
       "  <tbody>\n",
       "    <tr>\n",
       "      <th>0</th>\n",
       "      <td>1</td>\n",
       "      <td>1</td>\n",
       "      <td>8435705c-421f-45dc-abd4-c1c23d38cbfb.jpg</td>\n",
       "      <td>690</td>\n",
       "      <td>1034</td>\n",
       "      <td>4</td>\n",
       "      <td>上装</td>\n",
       "      <td>0</td>\n",
       "      <td>NaN</td>\n",
       "      <td>https://oss.xiaoshanchongdie.com/items/8435705...</td>\n",
       "      <td>/nas/chenyi/datasets_nas/deploy_sys/dadetv3/0/...</td>\n",
       "      <td>0</td>\n",
       "      <td>2c4c0495ee10f7e3691249a1db5c6eeb7c2616099b6124...</td>\n",
       "      <td>NaN</td>\n",
       "    </tr>\n",
       "    <tr>\n",
       "      <th>1</th>\n",
       "      <td>2</td>\n",
       "      <td>3</td>\n",
       "      <td>d943be5f-92aa-4017-abaf-4130621322df.png</td>\n",
       "      <td>2268</td>\n",
       "      <td>4032</td>\n",
       "      <td>7</td>\n",
       "      <td>连体装</td>\n",
       "      <td>0</td>\n",
       "      <td>NaN</td>\n",
       "      <td>https://oss.xiaoshanchongdie.com/items/d943be5...</td>\n",
       "      <td>/nas/chenyi/datasets_nas/deploy_sys/dadetv3/0/...</td>\n",
       "      <td>0</td>\n",
       "      <td>79d123e113ba021915f0296993729be66133fecbeb9592...</td>\n",
       "      <td>NaN</td>\n",
       "    </tr>\n",
       "    <tr>\n",
       "      <th>2</th>\n",
       "      <td>3</td>\n",
       "      <td>5</td>\n",
       "      <td>25fc8e21-e522-4dba-9438-4b7c0e86069d.jpg</td>\n",
       "      <td>960</td>\n",
       "      <td>444</td>\n",
       "      <td>4</td>\n",
       "      <td>上装</td>\n",
       "      <td>0</td>\n",
       "      <td>NaN</td>\n",
       "      <td>https://oss.xiaoshanchongdie.com/items/25fc8e2...</td>\n",
       "      <td>/nas/chenyi/datasets_nas/deploy_sys/dadetv3/0/...</td>\n",
       "      <td>0</td>\n",
       "      <td>be3bdb0eefd5c1f7ab895db20ff210263441c9cbe10fcc...</td>\n",
       "      <td>NaN</td>\n",
       "    </tr>\n",
       "    <tr>\n",
       "      <th>3</th>\n",
       "      <td>4</td>\n",
       "      <td>3</td>\n",
       "      <td>bd2fab02-e026-47e3-ab35-bde7865a4eb0.png</td>\n",
       "      <td>2268</td>\n",
       "      <td>4032</td>\n",
       "      <td>4</td>\n",
       "      <td>上装</td>\n",
       "      <td>0</td>\n",
       "      <td>NaN</td>\n",
       "      <td>https://oss.xiaoshanchongdie.com/items/bd2fab0...</td>\n",
       "      <td>/nas/chenyi/datasets_nas/deploy_sys/dadetv3/0/...</td>\n",
       "      <td>0</td>\n",
       "      <td>a6d8660a066b0173495db6a14eb5b660d31e9c7e46d9cb...</td>\n",
       "      <td>NaN</td>\n",
       "    </tr>\n",
       "    <tr>\n",
       "      <th>4</th>\n",
       "      <td>5</td>\n",
       "      <td>3</td>\n",
       "      <td>d616a39a-3f16-4bcc-9a12-e8ce745cc80a.png</td>\n",
       "      <td>2268</td>\n",
       "      <td>4032</td>\n",
       "      <td>5</td>\n",
       "      <td>裤子</td>\n",
       "      <td>0</td>\n",
       "      <td>NaN</td>\n",
       "      <td>https://oss.xiaoshanchongdie.com/items/d616a39...</td>\n",
       "      <td>/nas/chenyi/datasets_nas/deploy_sys/dadetv3/0/...</td>\n",
       "      <td>0</td>\n",
       "      <td>42f9a78bd178de188d6b095a22492f3ef20422613afa0c...</td>\n",
       "      <td>NaN</td>\n",
       "    </tr>\n",
       "  </tbody>\n",
       "</table>\n",
       "</div>"
      ],
      "text/plain": [
       "   id  user_id                                      path  width  height  \\\n",
       "0   1        1  8435705c-421f-45dc-abd4-c1c23d38cbfb.jpg    690    1034   \n",
       "1   2        3  d943be5f-92aa-4017-abaf-4130621322df.png   2268    4032   \n",
       "2   3        5  25fc8e21-e522-4dba-9438-4b7c0e86069d.jpg    960     444   \n",
       "3   4        3  bd2fab02-e026-47e3-ab35-bde7865a4eb0.png   2268    4032   \n",
       "4   5        3  d616a39a-3f16-4bcc-9a12-e8ce745cc80a.png   2268    4032   \n",
       "\n",
       "   type_id 一级分类  category_id 二级分类  \\\n",
       "0        4   上装            0  NaN   \n",
       "1        7  连体装            0  NaN   \n",
       "2        4   上装            0  NaN   \n",
       "3        4   上装            0  NaN   \n",
       "4        5   裤子            0  NaN   \n",
       "\n",
       "                                               spath  \\\n",
       "0  https://oss.xiaoshanchongdie.com/items/8435705...   \n",
       "1  https://oss.xiaoshanchongdie.com/items/d943be5...   \n",
       "2  https://oss.xiaoshanchongdie.com/items/25fc8e2...   \n",
       "3  https://oss.xiaoshanchongdie.com/items/bd2fab0...   \n",
       "4  https://oss.xiaoshanchongdie.com/items/d616a39...   \n",
       "\n",
       "                                               tpath  folder  \\\n",
       "0  /nas/chenyi/datasets_nas/deploy_sys/dadetv3/0/...       0   \n",
       "1  /nas/chenyi/datasets_nas/deploy_sys/dadetv3/0/...       0   \n",
       "2  /nas/chenyi/datasets_nas/deploy_sys/dadetv3/0/...       0   \n",
       "3  /nas/chenyi/datasets_nas/deploy_sys/dadetv3/0/...       0   \n",
       "4  /nas/chenyi/datasets_nas/deploy_sys/dadetv3/0/...       0   \n",
       "\n",
       "                                                hash label_eng  \n",
       "0  2c4c0495ee10f7e3691249a1db5c6eeb7c2616099b6124...       NaN  \n",
       "1  79d123e113ba021915f0296993729be66133fecbeb9592...       NaN  \n",
       "2  be3bdb0eefd5c1f7ab895db20ff210263441c9cbe10fcc...       NaN  \n",
       "3  a6d8660a066b0173495db6a14eb5b660d31e9c7e46d9cb...       NaN  \n",
       "4  42f9a78bd178de188d6b095a22492f3ef20422613afa0c...       NaN  "
      ]
     },
     "execution_count": 74,
     "metadata": {},
     "output_type": "execute_result"
    }
   ],
   "source": []
  },
  {
   "cell_type": "code",
   "execution_count": null,
   "id": "37142d4b-67b5-4cfa-bdf0-d90e314f6af2",
   "metadata": {},
   "outputs": [],
   "source": []
  },
  {
   "cell_type": "code",
   "execution_count": null,
   "id": "d838f2c6-1b70-4146-a85a-a7fe78da91ec",
   "metadata": {},
   "outputs": [],
   "source": []
  },
  {
   "cell_type": "markdown",
   "id": "2ec1e558-edc3-4e54-ac46-0508e2f96ebe",
   "metadata": {},
   "source": [
    "### 重新整理folder"
   ]
  },
  {
   "cell_type": "code",
   "execution_count": null,
   "id": "c787108e-16b9-451c-a7b0-d56d83e213c6",
   "metadata": {},
   "outputs": [],
   "source": [
    "model_label_map = {\n",
    "    0: 10,  # 鞋子\n",
    "    1: 8,  # 包包\n",
    "    2: 4,  # 上装\n",
    "    3: 5,  # 裤子\n",
    "    4: 6,  # 裙子\n",
    "    5: 7,  # 连体装\n",
    "}"
   ]
  },
  {
   "cell_type": "code",
   "execution_count": 72,
   "id": "ea40ecbc-6155-4388-8646-685a7423120d",
   "metadata": {},
   "outputs": [],
   "source": [
    "model_label_map = {\n",
    "    10: 'shoe',  # 鞋子\n",
    "    8: 'bag',  # 包包\n",
    "    4: 'upperbody',  # 上装\n",
    "    5: 'paints',  # 裤子\n",
    "    6: 'skirt',  # 裙子\n",
    "    7: 'wholebody',  # 连体装\n",
    "}"
   ]
  },
  {
   "cell_type": "code",
   "execution_count": 73,
   "id": "e9c16761-3407-445b-940b-91d339fe7329",
   "metadata": {},
   "outputs": [],
   "source": [
    "# img_df['label_eng'] = img_df['category_id'].map(model_label_map)"
   ]
  },
  {
   "cell_type": "code",
   "execution_count": 94,
   "id": "f046f7e4-0386-4437-986d-e7e060762e76",
   "metadata": {},
   "outputs": [],
   "source": [
    "troot = '/nas/chenyi/datasets_nas/deploy_sys/dadetv3_cls_bak'"
   ]
  },
  {
   "cell_type": "code",
   "execution_count": 95,
   "id": "73d57d13-5d33-4374-8b8f-92de2615189f",
   "metadata": {},
   "outputs": [],
   "source": [
    "img_df['new_path'] = img_df.apply(lambda row: '{0}/{1}/{2}/{3}.jpg'.format(troot, row['一级分类'], row['folder'], Path(row['spath']).stem), \n",
    "                                  axis=1)"
   ]
  },
  {
   "cell_type": "code",
   "execution_count": 96,
   "id": "76a9fed6-fbe3-4771-bd8a-f7cf93bad8ed",
   "metadata": {},
   "outputs": [],
   "source": [
    "df = img_df.drop_duplicates('hash')"
   ]
  },
  {
   "cell_type": "code",
   "execution_count": 97,
   "id": "cfce5685-cf25-4c80-a69a-6f2bd3769aaa",
   "metadata": {
    "tags": []
   },
   "outputs": [
    {
     "name": "stderr",
     "output_type": "stream",
     "text": [
      "17436it [00:37, 470.57it/s]\n"
     ]
    }
   ],
   "source": [
    "import shutil\n",
    "for ind, row in tqdm(df.iterrows()):\n",
    "    sp = row['tpath']\n",
    "    tp = row['new_path']\n",
    "    if not Path(tp).parent.is_dir():\n",
    "        Path(tp).parent.mkdir(parents=True)\n",
    "    if Path(sp).is_file() and (not Path(tp).is_file()):\n",
    "        shutil.copyfile(sp, tp)\n",
    "    # break"
   ]
  },
  {
   "cell_type": "code",
   "execution_count": 99,
   "id": "d537a315-56ac-45a1-8fd9-7043c95cbc01",
   "metadata": {},
   "outputs": [],
   "source": [
    "# !mkdir -p /nas/chenyi/workspace/myPyModule/dataset/trainset_generate/"
   ]
  },
  {
   "cell_type": "code",
   "execution_count": 100,
   "id": "7dd99fbf-4de2-4220-a29c-c864972d4e3b",
   "metadata": {},
   "outputs": [],
   "source": [
    "# !cp -r /home/chenyi/workspace/myPyModule99/dataset/trainset_generate/data/ \\\n",
    "#         /nas/chenyi/workspace/myPyModule/dataset/trainset_generate/"
   ]
  },
  {
   "cell_type": "code",
   "execution_count": null,
   "id": "1e9f6687-9522-4112-8941-3ff1b629c334",
   "metadata": {},
   "outputs": [],
   "source": []
  }
 ],
 "metadata": {
  "kernelspec": {
   "display_name": "Python 3 (ipykernel)",
   "language": "python",
   "name": "python3"
  },
  "language_info": {
   "codemirror_mode": {
    "name": "ipython",
    "version": 3
   },
   "file_extension": ".py",
   "mimetype": "text/x-python",
   "name": "python",
   "nbconvert_exporter": "python",
   "pygments_lexer": "ipython3",
   "version": "3.8.13"
  }
 },
 "nbformat": 4,
 "nbformat_minor": 5
}
