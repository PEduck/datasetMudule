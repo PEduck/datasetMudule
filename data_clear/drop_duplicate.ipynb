{
 "cells": [
  {
   "cell_type": "code",
   "execution_count": 13,
   "id": "c617f06d-e78d-4e1f-87a4-1d64f1a76eed",
   "metadata": {},
   "outputs": [],
   "source": [
    "from tqdm import tqdm\n",
    "from pathlib import Path\n",
    "import numpy as np\n",
    "import re\n",
    "\n",
    "from utils.dataset import data_load,source_data_clear"
   ]
  },
  {
   "cell_type": "code",
   "execution_count": null,
   "id": "596100d0-83c8-4488-a4c0-c84e74a9d082",
   "metadata": {},
   "outputs": [],
   "source": []
  },
  {
   "cell_type": "code",
   "execution_count": null,
   "id": "7c0d611e-216c-47a8-9e1e-3236f5f7ddcd",
   "metadata": {},
   "outputs": [],
   "source": []
  },
  {
   "cell_type": "markdown",
   "id": "0dae86ab-9806-439d-bf0a-370fa9f9f6f6",
   "metadata": {},
   "source": [
    "### API"
   ]
  },
  {
   "cell_type": "code",
   "execution_count": 8,
   "id": "3d328093-fb81-48cb-9c91-4c75416cdd77",
   "metadata": {},
   "outputs": [],
   "source": [
    "model_label_map = {\n",
    "    0: 10,  # 鞋子\n",
    "    1: 8,  # 包包\n",
    "    2: 4,  # 上装\n",
    "    3: 5,  # 裤子\n",
    "    4: 6,  # 裙子\n",
    "    5: 7,  # 连体装\n",
    "}"
   ]
  },
  {
   "cell_type": "code",
   "execution_count": null,
   "id": "c0f16f6b-ae4e-45d2-a100-44a37ef64ae5",
   "metadata": {},
   "outputs": [],
   "source": []
  },
  {
   "cell_type": "code",
   "execution_count": 9,
   "id": "453724b8-203c-4c03-96ce-7a22f7f5ba16",
   "metadata": {},
   "outputs": [],
   "source": [
    "id2chi = {\n",
    "    10: '鞋子',\n",
    "    8: '包包',\n",
    "    4: '上装',\n",
    "    5: '裤子',  # 裤子\n",
    "    6: '半身裙',  # 裙子\n",
    "    7: '连体装',  # 连体装\n",
    "}"
   ]
  },
  {
   "cell_type": "code",
   "execution_count": null,
   "id": "100d87a0-f1dd-4d75-b47f-782d6b1c8df6",
   "metadata": {},
   "outputs": [],
   "source": []
  },
  {
   "cell_type": "code",
   "execution_count": 10,
   "id": "45c5de48-87b6-4be3-a047-224454bf8d2d",
   "metadata": {},
   "outputs": [],
   "source": [
    "logic_id2model_id = {\n",
    "    10: 0,\n",
    "    8: 1,\n",
    "    4: 2,\n",
    "    5: 3,\n",
    "    6: 4,  \n",
    "    7: 5\n",
    "}"
   ]
  },
  {
   "cell_type": "code",
   "execution_count": null,
   "id": "e9ef2880-41b3-4786-8eab-3588b734adca",
   "metadata": {},
   "outputs": [],
   "source": []
  },
  {
   "cell_type": "markdown",
   "id": "733eea50-f021-4adc-a3dc-e85ceebdad4c",
   "metadata": {},
   "source": [
    "### PIPELINE"
   ]
  },
  {
   "cell_type": "code",
   "execution_count": 21,
   "id": "c31abecd-0084-4cae-a854-2a2ec8a805b7",
   "metadata": {},
   "outputs": [],
   "source": [
    "img_origin = Path('/home/chenyi/workspace/dataset/data/data_fashionpedia/')"
   ]
  },
  {
   "cell_type": "code",
   "execution_count": 22,
   "id": "443f42ff-4d74-4fe5-8f2c-9e9608112d56",
   "metadata": {},
   "outputs": [
    {
     "name": "stdout",
     "output_type": "stream",
     "text": [
      "CPU times: user 273 ms, sys: 15.8 ms, total: 289 ms\n",
      "Wall time: 379 ms\n"
     ]
    }
   ],
   "source": [
    "%%time\n",
    "df = data_load(img_origin, depth=2)"
   ]
  },
  {
   "cell_type": "code",
   "execution_count": 23,
   "id": "40625f30-1a21-43b3-ab2f-33a4183f5912",
   "metadata": {},
   "outputs": [
    {
     "name": "stdout",
     "output_type": "stream",
     "text": [
      "检查图片是否损坏...\n"
     ]
    },
    {
     "name": "stderr",
     "output_type": "stream",
     "text": [
      "100%|███████████████████████████████████████████████| 48823/48823 [00:52<00:00, 929.20it/s]\n"
     ]
    },
    {
     "name": "stdout",
     "output_type": "stream",
     "text": [
      "完成图片损坏检查.\n",
      "完成图片分辨率检查.\n"
     ]
    },
    {
     "name": "stderr",
     "output_type": "stream",
     "text": [
      "100%|█████████████████████████████████████████████| 48654/48654 [00:01<00:00, 26635.71it/s]\n"
     ]
    },
    {
     "name": "stdout",
     "output_type": "stream",
     "text": [
      "完成图片去重,去重后图片数量是48654.\n",
      "CPU times: user 1.93 s, sys: 214 ms, total: 2.15 s\n",
      "Wall time: 55.3 s\n"
     ]
    }
   ],
   "source": [
    "%%time\n",
    "df = source_data_clear(df, thres=400)"
   ]
  },
  {
   "cell_type": "code",
   "execution_count": null,
   "id": "27643467-f40d-4a84-b8b9-f7beaacd11db",
   "metadata": {},
   "outputs": [],
   "source": []
  },
  {
   "cell_type": "code",
   "execution_count": 20,
   "id": "820c0dc2-f8c3-4b4b-ac3d-765f5d502b18",
   "metadata": {},
   "outputs": [],
   "source": [
    "df.to_csv('./data/drop_dup.csv', index=False)"
   ]
  },
  {
   "cell_type": "code",
   "execution_count": null,
   "id": "f81e1e4e-f726-4cc1-ad25-87b0028e3c54",
   "metadata": {},
   "outputs": [],
   "source": []
  },
  {
   "cell_type": "code",
   "execution_count": null,
   "id": "51ed44b1-9ffb-44a8-8089-eea351ea7a34",
   "metadata": {},
   "outputs": [],
   "source": []
  },
  {
   "cell_type": "code",
   "execution_count": 8,
   "id": "ccb570b9-0dc6-4e3c-b8cf-413f626eb85b",
   "metadata": {},
   "outputs": [],
   "source": [
    "df['stem_id'] = df['path'].apply(lambda x: Path(x).stem)\n",
    "df['id'] = df['stem_id'].apply(lambda x: int(re.findall(r'_([0-9]{1,2})', x)[0]))\n",
    "df['stem'] = df['stem_id'].apply(lambda x: re.findall(r'(.*?)_[0-9]{1,2}', x)[0])\n",
    "df['catg_chi'] = df['id'].map(id2chi)"
   ]
  },
  {
   "cell_type": "code",
   "execution_count": 9,
   "id": "a93bea15-fd0c-486c-9d64-df4f03773285",
   "metadata": {},
   "outputs": [
    {
     "name": "stderr",
     "output_type": "stream",
     "text": [
      "100%|████████████████████████████████████████████████████████████████████████████████████████████████████████████████████████████████| 75445/75445 [00:00<00:00, 3375208.15it/s]\n"
     ]
    }
   ],
   "source": [
    "counter_list = [0]*6\n",
    "ids_list = []\n",
    "for id_ in tqdm(df['id'].values):\n",
    "    id_model = logic_id2model_id[int(id_)]\n",
    "    ids_list.append(counter_list[id_model])\n",
    "    counter_list[id_model] += 1"
   ]
  },
  {
   "cell_type": "code",
   "execution_count": 10,
   "id": "09237f19-bdb3-4128-9ddc-60f899bb49de",
   "metadata": {},
   "outputs": [],
   "source": [
    "folder_num = 100\n",
    "root_target = Path('/nas/chenyi/datasets_cls/deploy_data/20220803/category/')\n",
    "df['catg_id'] = ids_list\n",
    "df['f_target'] = df['catg_id'].apply(lambda x: x//folder_num)\n",
    "df['img_tp'] = df.apply(lambda row: '{0}/{1}/{2}/{3}_{4}.jpg'.format(root_target, row['catg_chi'], row['f_target'], row['stem'], row['catg_chi']), axis=1)"
   ]
  },
  {
   "cell_type": "code",
   "execution_count": 11,
   "id": "2e372294-750e-407c-8427-6066f782b1dd",
   "metadata": {},
   "outputs": [],
   "source": [
    "# df.to_csv('/nas/chenyi/datasets_cls/deploy_data/20220803/category/drop_duplicate_df.csv', index=False)"
   ]
  },
  {
   "cell_type": "code",
   "execution_count": null,
   "id": "3564cbf4-5f8d-4883-a347-829134316f0a",
   "metadata": {},
   "outputs": [],
   "source": []
  },
  {
   "cell_type": "markdown",
   "id": "3570b53d-9b45-4e8d-88a0-ac751f49e0fb",
   "metadata": {},
   "source": [
    "### "
   ]
  },
  {
   "cell_type": "code",
   "execution_count": 203,
   "id": "6de63954-d87a-497a-be79-ce2786c47481",
   "metadata": {},
   "outputs": [
    {
     "name": "stdout",
     "output_type": "stream",
     "text": [
      "INFO: Pandarallel will run on 20 workers.\n",
      "INFO: Pandarallel will use Memory file system to transfer data between the main process and workers.\n"
     ]
    }
   ],
   "source": [
    "from pandarallel import pandarallel\n",
    "pandarallel.initialize(nb_workers=20)"
   ]
  },
  {
   "cell_type": "code",
   "execution_count": 204,
   "id": "4d0ee62a-fd83-4418-8df8-6df995f9c5f2",
   "metadata": {},
   "outputs": [],
   "source": [
    "def img_df_save(row):\n",
    "    sp = Path(row['path'])\n",
    "    tp = Path(row['img_tp'])\n",
    "    if tp.is_file(): return\n",
    "    if not tp.parent.is_dir():\n",
    "        tp.parent.mkdir(parents=True, exist_ok=True)\n",
    "    if sp.suffix == 'jpg':\n",
    "        shutil.copyfile(sp, tp)\n",
    "    else:\n",
    "        cv2.imwrite(str(tp), cv2.imread(str(sp)))"
   ]
  },
  {
   "cell_type": "code",
   "execution_count": 205,
   "id": "4eacb349-0de5-4f03-b7cc-f58903240d57",
   "metadata": {},
   "outputs": [
    {
     "name": "stdout",
     "output_type": "stream",
     "text": [
      "CPU times: user 89.1 ms, sys: 179 ms, total: 268 ms\n",
      "Wall time: 3min 6s\n"
     ]
    }
   ],
   "source": [
    "%%time\n",
    "df1 = df\n",
    "_ = df1.parallel_apply(lambda row: img_df_save(row), axis=1)"
   ]
  },
  {
   "cell_type": "code",
   "execution_count": null,
   "id": "f188b21c-0a64-48c9-acd6-f5e3ed422694",
   "metadata": {},
   "outputs": [],
   "source": []
  },
  {
   "cell_type": "code",
   "execution_count": null,
   "id": "b23d9ca3-cfdd-48de-a476-b13032ffaa4e",
   "metadata": {},
   "outputs": [],
   "source": [
    "import shutil\n",
    "import cv2\n",
    "for ind, row in tqdm(df.iterrows()):\n",
    "    sp = Path(row['path'])\n",
    "    tp = Path(row['img_tp'])\n",
    "    if tp.is_file(): continue\n",
    "    if not tp.parent.is_dir():\n",
    "        tp.parent.mkdir(parents=True, exist_ok=True)\n",
    "    if sp.suffix == 'jpg':\n",
    "        shutil.copyfile(sp, tp)\n",
    "    else:\n",
    "        cv2.imwrite(str(tp), cv2.imread(str(sp)))\n",
    "    # break"
   ]
  },
  {
   "cell_type": "code",
   "execution_count": null,
   "id": "7fc8d298-8b22-4922-906b-0993b3d12a94",
   "metadata": {},
   "outputs": [],
   "source": []
  },
  {
   "cell_type": "code",
   "execution_count": null,
   "id": "4ba21882-a4ff-4e36-a0a9-741f695be3e1",
   "metadata": {},
   "outputs": [],
   "source": []
  },
  {
   "cell_type": "code",
   "execution_count": null,
   "id": "2d7aecab-5119-4596-9b9f-ce761dade958",
   "metadata": {},
   "outputs": [],
   "source": []
  }
 ],
 "metadata": {
  "kernelspec": {
   "display_name": "Python 3 (ipykernel)",
   "language": "python",
   "name": "python3"
  },
  "language_info": {
   "codemirror_mode": {
    "name": "ipython",
    "version": 3
   },
   "file_extension": ".py",
   "mimetype": "text/x-python",
   "name": "python",
   "nbconvert_exporter": "python",
   "pygments_lexer": "ipython3",
   "version": "3.8.13"
  }
 },
 "nbformat": 4,
 "nbformat_minor": 5
}
