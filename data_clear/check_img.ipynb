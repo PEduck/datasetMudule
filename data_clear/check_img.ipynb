{
 "cells": [
  {
   "cell_type": "code",
   "execution_count": 6,
   "id": "8ebb66dd-c08c-44f2-96ef-c33231b88f09",
   "metadata": {},
   "outputs": [],
   "source": [
    "import glob\n",
    "import pandas as pd\n",
    "from pathlib import Path\n",
    "from PIL import Image\n",
    "import cv2"
   ]
  },
  {
   "cell_type": "code",
   "execution_count": 8,
   "id": "ac47284a-b3ac-4a32-bd67-e1dafbbc1ca8",
   "metadata": {},
   "outputs": [
    {
     "name": "stdout",
     "output_type": "stream",
     "text": [
      "INFO: Pandarallel will run on 8 workers.\n",
      "INFO: Pandarallel will use Memory file system to transfer data between the main process and workers.\n"
     ]
    }
   ],
   "source": [
    "from pandarallel import pandarallel\n",
    "pandarallel.initialize(8)"
   ]
  },
  {
   "cell_type": "code",
   "execution_count": 49,
   "id": "3d0dd401-31a2-4cd4-988f-cd7da7685c76",
   "metadata": {},
   "outputs": [],
   "source": [
    "def img2jpeg(p):\n",
    "    try:\n",
    "        img = Image.open(p)\n",
    "        img.verify()\n",
    "        if img.format!='JPEG':\n",
    "            img.save(p)\n",
    "            print(img.format)\n",
    "    except:\n",
    "        try:\n",
    "            p = str(p)\n",
    "            img = cv2.imread(p)\n",
    "            cv2.imwrite(p, img)\n",
    "        except:\n",
    "            dirty_list.append(p)"
   ]
  },
  {
   "cell_type": "code",
   "execution_count": 50,
   "id": "8574153f-0569-4223-aadc-6731f74ad6a4",
   "metadata": {},
   "outputs": [
    {
     "name": "stdout",
     "output_type": "stream",
     "text": [
      "CPU times: user 52.2 ms, sys: 69.2 ms, total: 121 ms\n",
      "Wall time: 497 ms\n"
     ]
    }
   ],
   "source": [
    "%%time\n",
    "df_test = df1.drop_duplicates('img_sp')\n",
    "dirty_list = []\n",
    "_ = df_test['img_sp'].parallel_apply(lambda x: img2jpeg(x))\n",
    "# _ = df_test['img_sp'].apply(lambda x: img2jpeg(x))"
   ]
  },
  {
   "cell_type": "code",
   "execution_count": 53,
   "id": "e25ad39a-9f34-480b-a57f-4f9f8d20e90c",
   "metadata": {},
   "outputs": [
    {
     "name": "stdout",
     "output_type": "stream",
     "text": [
      "INFO: Pandarallel will run on 8 workers.\n",
      "INFO: Pandarallel will use Memory file system to transfer data between the main process and workers.\n",
      "CPU times: user 123 ms, sys: 57.4 ms, total: 181 ms\n",
      "Wall time: 1min 30s\n"
     ]
    },
    {
     "name": "stderr",
     "output_type": "stream",
     "text": [
      "<timed exec>:10: SettingWithCopyWarning: \n",
      "A value is trying to be set on a copy of a slice from a DataFrame.\n",
      "Try using .loc[row_indexer,col_indexer] = value instead\n",
      "\n",
      "See the caveats in the documentation: https://pandas.pydata.org/pandas-docs/stable/user_guide/indexing.html#returning-a-view-versus-a-copy\n"
     ]
    },
    {
     "data": {
      "text/plain": [
       "flag\n",
       "True    45529\n",
       "dtype: int64"
      ]
     },
     "execution_count": 53,
     "metadata": {},
     "output_type": "execute_result"
    }
   ],
   "source": [
    "%%time\n",
    "def cv2_isNone(p):\n",
    "    img = cv2.imread(p)\n",
    "    flag = False if img is None else True\n",
    "    return flag\n",
    "\n",
    "df_test = df1.drop_duplicates('img_sp')\n",
    "pandarallel.initialize(8)\n",
    "df_test = df1.drop_duplicates('img_sp')\n",
    "dirty_list = df_test['img_sp'].parallel_apply(lambda x: cv2_isNone(x))\n",
    "df_test['flag'] = dirty_list\n",
    "dirty_df = df_test[~df_test['flag']]\n",
    "df_test.value_counts('flag')"
   ]
  },
  {
   "cell_type": "code",
   "execution_count": null,
   "id": "1c9a9fb8-ad92-4d4f-97e6-4f8bb66bf9a5",
   "metadata": {},
   "outputs": [],
   "source": []
  },
  {
   "cell_type": "code",
   "execution_count": 47,
   "id": "2a3a269f-a9af-49ad-b808-1f7905337dbe",
   "metadata": {},
   "outputs": [],
   "source": [
    "csv_p = '/home/chenyi/workspace/dataset/labels/labels6/fashionpedia/csv/fashionpedia6_l1_cat.csv'\n",
    "df1 = pd.read_csv(csv_p)"
   ]
  },
  {
   "cell_type": "code",
   "execution_count": 48,
   "id": "5479223f-8f63-4337-afc7-ec1570922e31",
   "metadata": {},
   "outputs": [
    {
     "data": {
      "text/html": [
       "<div>\n",
       "<style scoped>\n",
       "    .dataframe tbody tr th:only-of-type {\n",
       "        vertical-align: middle;\n",
       "    }\n",
       "\n",
       "    .dataframe tbody tr th {\n",
       "        vertical-align: top;\n",
       "    }\n",
       "\n",
       "    .dataframe thead th {\n",
       "        text-align: right;\n",
       "    }\n",
       "</style>\n",
       "<table border=\"1\" class=\"dataframe\">\n",
       "  <thead>\n",
       "    <tr style=\"text-align: right;\">\n",
       "      <th></th>\n",
       "      <th>source</th>\n",
       "      <th>img_sp</th>\n",
       "      <th>width</th>\n",
       "      <th>height</th>\n",
       "      <th>bx1</th>\n",
       "      <th>bx2</th>\n",
       "      <th>bx3</th>\n",
       "      <th>bx4</th>\n",
       "      <th>label_model</th>\n",
       "      <th>mode</th>\n",
       "    </tr>\n",
       "  </thead>\n",
       "  <tbody>\n",
       "    <tr>\n",
       "      <th>0</th>\n",
       "      <td>fashionpedia</td>\n",
       "      <td>/home/chenyi/workspace/dataset/data/data_fashi...</td>\n",
       "      <td>681</td>\n",
       "      <td>1024</td>\n",
       "      <td>0.551395</td>\n",
       "      <td>0.898926</td>\n",
       "      <td>0.077827</td>\n",
       "      <td>0.124023</td>\n",
       "      <td>0</td>\n",
       "      <td>train</td>\n",
       "    </tr>\n",
       "    <tr>\n",
       "      <th>1</th>\n",
       "      <td>fashionpedia</td>\n",
       "      <td>/home/chenyi/workspace/dataset/data/data_fashi...</td>\n",
       "      <td>681</td>\n",
       "      <td>1024</td>\n",
       "      <td>0.477974</td>\n",
       "      <td>0.869629</td>\n",
       "      <td>0.063142</td>\n",
       "      <td>0.038086</td>\n",
       "      <td>0</td>\n",
       "      <td>train</td>\n",
       "    </tr>\n",
       "    <tr>\n",
       "      <th>2</th>\n",
       "      <td>fashionpedia</td>\n",
       "      <td>/home/chenyi/workspace/dataset/data/data_fashi...</td>\n",
       "      <td>682</td>\n",
       "      <td>1024</td>\n",
       "      <td>0.565249</td>\n",
       "      <td>0.833008</td>\n",
       "      <td>0.095308</td>\n",
       "      <td>0.130859</td>\n",
       "      <td>0</td>\n",
       "      <td>val</td>\n",
       "    </tr>\n",
       "    <tr>\n",
       "      <th>3</th>\n",
       "      <td>fashionpedia</td>\n",
       "      <td>/home/chenyi/workspace/dataset/data/data_fashi...</td>\n",
       "      <td>682</td>\n",
       "      <td>1024</td>\n",
       "      <td>0.489003</td>\n",
       "      <td>0.843750</td>\n",
       "      <td>0.086510</td>\n",
       "      <td>0.138672</td>\n",
       "      <td>0</td>\n",
       "      <td>val</td>\n",
       "    </tr>\n",
       "    <tr>\n",
       "      <th>4</th>\n",
       "      <td>fashionpedia</td>\n",
       "      <td>/home/chenyi/workspace/dataset/data/data_fashi...</td>\n",
       "      <td>683</td>\n",
       "      <td>1024</td>\n",
       "      <td>0.445827</td>\n",
       "      <td>0.887695</td>\n",
       "      <td>0.185944</td>\n",
       "      <td>0.099609</td>\n",
       "      <td>0</td>\n",
       "      <td>val</td>\n",
       "    </tr>\n",
       "    <tr>\n",
       "      <th>...</th>\n",
       "      <td>...</td>\n",
       "      <td>...</td>\n",
       "      <td>...</td>\n",
       "      <td>...</td>\n",
       "      <td>...</td>\n",
       "      <td>...</td>\n",
       "      <td>...</td>\n",
       "      <td>...</td>\n",
       "      <td>...</td>\n",
       "      <td>...</td>\n",
       "    </tr>\n",
       "    <tr>\n",
       "      <th>125604</th>\n",
       "      <td>fashionpedia</td>\n",
       "      <td>/home/chenyi/workspace/dataset/data/data_fashi...</td>\n",
       "      <td>682</td>\n",
       "      <td>1024</td>\n",
       "      <td>0.559384</td>\n",
       "      <td>0.616699</td>\n",
       "      <td>0.200880</td>\n",
       "      <td>0.415039</td>\n",
       "      <td>5</td>\n",
       "      <td>val</td>\n",
       "    </tr>\n",
       "    <tr>\n",
       "      <th>125605</th>\n",
       "      <td>fashionpedia</td>\n",
       "      <td>/home/chenyi/workspace/dataset/data/data_fashi...</td>\n",
       "      <td>579</td>\n",
       "      <td>1024</td>\n",
       "      <td>0.479275</td>\n",
       "      <td>0.419922</td>\n",
       "      <td>0.502591</td>\n",
       "      <td>0.386719</td>\n",
       "      <td>5</td>\n",
       "      <td>train</td>\n",
       "    </tr>\n",
       "    <tr>\n",
       "      <th>125606</th>\n",
       "      <td>fashionpedia</td>\n",
       "      <td>/home/chenyi/workspace/dataset/data/data_fashi...</td>\n",
       "      <td>682</td>\n",
       "      <td>1024</td>\n",
       "      <td>0.409091</td>\n",
       "      <td>0.511719</td>\n",
       "      <td>0.275660</td>\n",
       "      <td>0.386719</td>\n",
       "      <td>5</td>\n",
       "      <td>train</td>\n",
       "    </tr>\n",
       "    <tr>\n",
       "      <th>125607</th>\n",
       "      <td>fashionpedia</td>\n",
       "      <td>/home/chenyi/workspace/dataset/data/data_fashi...</td>\n",
       "      <td>682</td>\n",
       "      <td>1024</td>\n",
       "      <td>0.496334</td>\n",
       "      <td>0.480957</td>\n",
       "      <td>0.332845</td>\n",
       "      <td>0.385742</td>\n",
       "      <td>5</td>\n",
       "      <td>train</td>\n",
       "    </tr>\n",
       "    <tr>\n",
       "      <th>125608</th>\n",
       "      <td>fashionpedia</td>\n",
       "      <td>/home/chenyi/workspace/dataset/data/data_fashi...</td>\n",
       "      <td>768</td>\n",
       "      <td>1024</td>\n",
       "      <td>0.565104</td>\n",
       "      <td>0.557617</td>\n",
       "      <td>0.458333</td>\n",
       "      <td>0.656250</td>\n",
       "      <td>5</td>\n",
       "      <td>val</td>\n",
       "    </tr>\n",
       "  </tbody>\n",
       "</table>\n",
       "<p>125609 rows × 10 columns</p>\n",
       "</div>"
      ],
      "text/plain": [
       "              source                                             img_sp  \\\n",
       "0       fashionpedia  /home/chenyi/workspace/dataset/data/data_fashi...   \n",
       "1       fashionpedia  /home/chenyi/workspace/dataset/data/data_fashi...   \n",
       "2       fashionpedia  /home/chenyi/workspace/dataset/data/data_fashi...   \n",
       "3       fashionpedia  /home/chenyi/workspace/dataset/data/data_fashi...   \n",
       "4       fashionpedia  /home/chenyi/workspace/dataset/data/data_fashi...   \n",
       "...              ...                                                ...   \n",
       "125604  fashionpedia  /home/chenyi/workspace/dataset/data/data_fashi...   \n",
       "125605  fashionpedia  /home/chenyi/workspace/dataset/data/data_fashi...   \n",
       "125606  fashionpedia  /home/chenyi/workspace/dataset/data/data_fashi...   \n",
       "125607  fashionpedia  /home/chenyi/workspace/dataset/data/data_fashi...   \n",
       "125608  fashionpedia  /home/chenyi/workspace/dataset/data/data_fashi...   \n",
       "\n",
       "        width  height       bx1       bx2       bx3       bx4  label_model  \\\n",
       "0         681    1024  0.551395  0.898926  0.077827  0.124023            0   \n",
       "1         681    1024  0.477974  0.869629  0.063142  0.038086            0   \n",
       "2         682    1024  0.565249  0.833008  0.095308  0.130859            0   \n",
       "3         682    1024  0.489003  0.843750  0.086510  0.138672            0   \n",
       "4         683    1024  0.445827  0.887695  0.185944  0.099609            0   \n",
       "...       ...     ...       ...       ...       ...       ...          ...   \n",
       "125604    682    1024  0.559384  0.616699  0.200880  0.415039            5   \n",
       "125605    579    1024  0.479275  0.419922  0.502591  0.386719            5   \n",
       "125606    682    1024  0.409091  0.511719  0.275660  0.386719            5   \n",
       "125607    682    1024  0.496334  0.480957  0.332845  0.385742            5   \n",
       "125608    768    1024  0.565104  0.557617  0.458333  0.656250            5   \n",
       "\n",
       "         mode  \n",
       "0       train  \n",
       "1       train  \n",
       "2         val  \n",
       "3         val  \n",
       "4         val  \n",
       "...       ...  \n",
       "125604    val  \n",
       "125605  train  \n",
       "125606  train  \n",
       "125607  train  \n",
       "125608    val  \n",
       "\n",
       "[125609 rows x 10 columns]"
      ]
     },
     "execution_count": 48,
     "metadata": {},
     "output_type": "execute_result"
    }
   ],
   "source": []
  },
  {
   "cell_type": "code",
   "execution_count": 13,
   "id": "2f6cfe25-4c9e-45fa-b6cc-da1116ec6934",
   "metadata": {},
   "outputs": [],
   "source": [
    "dup_df = pd.read_csv('./data/drop_dup.csv')\n",
    "# df1.to_csv(csv_p, index=False)"
   ]
  },
  {
   "cell_type": "code",
   "execution_count": 42,
   "id": "d0afeda6-76ed-48dc-993a-68fce8c9068a",
   "metadata": {},
   "outputs": [],
   "source": [
    "df1['img_sp'] = df1['img_sp'].apply(lambda x: Path(x))"
   ]
  },
  {
   "cell_type": "code",
   "execution_count": 35,
   "id": "a4bb2677-ed80-4b81-bd7f-1b0881f77c4d",
   "metadata": {},
   "outputs": [
    {
     "data": {
      "text/plain": [
       "30893"
      ]
     },
     "execution_count": 35,
     "metadata": {},
     "output_type": "execute_result"
    }
   ],
   "source": [
    "img_df = pd.DataFrame()\n",
    "img_df['img_sp'] = list(Path('/home/chenyi/workspace/dataset/data/haowei34k/images/').rglob('*.jpg'))\n",
    "len(img_df)"
   ]
  },
  {
   "cell_type": "code",
   "execution_count": 43,
   "id": "0f322452-669b-4328-b6be-5efdf39b6e06",
   "metadata": {},
   "outputs": [
    {
     "data": {
      "text/plain": [
       "(143966, 130663)"
      ]
     },
     "execution_count": 43,
     "metadata": {},
     "output_type": "execute_result"
    }
   ],
   "source": [
    "cross_df = df1[df1['img_sp'].isin(img_df['img_sp'])]\n",
    "len(df1), len(cross_df)"
   ]
  },
  {
   "cell_type": "code",
   "execution_count": 45,
   "id": "97de0ff7-e8df-433f-b8c5-bb5abfb2c797",
   "metadata": {},
   "outputs": [
    {
     "data": {
      "text/plain": [
       "30284"
      ]
     },
     "execution_count": 45,
     "metadata": {},
     "output_type": "execute_result"
    }
   ],
   "source": [
    "len(cross_df.drop_duplicates('img_sp'))"
   ]
  },
  {
   "cell_type": "code",
   "execution_count": 56,
   "id": "aa233547-bc8f-4e24-82db-bad0a884200e",
   "metadata": {},
   "outputs": [
    {
     "data": {
      "text/plain": [
       "(100455, 25154)"
      ]
     },
     "execution_count": 56,
     "metadata": {},
     "output_type": "execute_result"
    }
   ],
   "source": [
    "cross_df = df1\n",
    "fname = 'fashionpedia'\n",
    "root_tran = Path(f'/home/chenyi/workspace/dataset/trainsets/single/{fname}')\n",
    "if not root_tran.is_dir(): root_tran.mkdir(parents=True)\n",
    "\n",
    "train_df = cross_df[cross_df['mode']=='train']\n",
    "val_df = cross_df[cross_df['mode']=='val']\n",
    "train_df.to_csv(root_tran /f'{fname}_label6_train.csv', index=False)\n",
    "val_df.to_csv(root_tran /f'{fname}_label6_val.csv', index=False)\n",
    "len(train_df), len(val_df)"
   ]
  },
  {
   "cell_type": "code",
   "execution_count": 46,
   "id": "8bd8fc71-6d36-4609-abb7-9d32c153ebf4",
   "metadata": {},
   "outputs": [],
   "source": [
    "# cross_df.to_csv('/home/chenyi/workspace/dataset/data/haowei34k/annotations/csv/bboxes_yolo_clear30k', index=False)"
   ]
  },
  {
   "cell_type": "markdown",
   "id": "4cadd69e-c31b-409b-8956-a84226e64ba0",
   "metadata": {
    "tags": []
   },
   "source": [
    "### CHECK"
   ]
  },
  {
   "cell_type": "code",
   "execution_count": null,
   "id": "37861121-1c97-42dd-81df-8d9d7997c931",
   "metadata": {},
   "outputs": [],
   "source": [
    "len(list(Path('/home/chenyi/workspace/dataset/data/haowei34k/images/').rglob('*.jpg')))"
   ]
  },
  {
   "cell_type": "markdown",
   "id": "77120a48-79f7-4f99-a1db-7e619c41538b",
   "metadata": {},
   "source": [
    "### 删除多余数据"
   ]
  },
  {
   "cell_type": "code",
   "execution_count": 17,
   "id": "0b34126e-d9f8-46dc-a369-e76a158dbdef",
   "metadata": {},
   "outputs": [
    {
     "data": {
      "text/html": [
       "<div>\n",
       "<style scoped>\n",
       "    .dataframe tbody tr th:only-of-type {\n",
       "        vertical-align: middle;\n",
       "    }\n",
       "\n",
       "    .dataframe tbody tr th {\n",
       "        vertical-align: top;\n",
       "    }\n",
       "\n",
       "    .dataframe thead th {\n",
       "        text-align: right;\n",
       "    }\n",
       "</style>\n",
       "<table border=\"1\" class=\"dataframe\">\n",
       "  <thead>\n",
       "    <tr style=\"text-align: right;\">\n",
       "      <th></th>\n",
       "      <th>source</th>\n",
       "      <th>img_sp</th>\n",
       "      <th>width</th>\n",
       "      <th>height</th>\n",
       "      <th>bx1</th>\n",
       "      <th>bx2</th>\n",
       "      <th>bx3</th>\n",
       "      <th>bx4</th>\n",
       "      <th>label_model</th>\n",
       "      <th>mode</th>\n",
       "      <th>flag</th>\n",
       "    </tr>\n",
       "  </thead>\n",
       "  <tbody>\n",
       "    <tr>\n",
       "      <th>55590</th>\n",
       "      <td>haowei34k</td>\n",
       "      <td>/home/chenyi/workspace/dataset/data/haowei34k/...</td>\n",
       "      <td>300</td>\n",
       "      <td>400</td>\n",
       "      <td>0.540000</td>\n",
       "      <td>0.310000</td>\n",
       "      <td>0.280000</td>\n",
       "      <td>0.320000</td>\n",
       "      <td>2</td>\n",
       "      <td>train</td>\n",
       "      <td>False</td>\n",
       "    </tr>\n",
       "    <tr>\n",
       "      <th>124142</th>\n",
       "      <td>haowei34k</td>\n",
       "      <td>/home/chenyi/workspace/dataset/data/haowei34k/...</td>\n",
       "      <td>400</td>\n",
       "      <td>600</td>\n",
       "      <td>0.487500</td>\n",
       "      <td>0.525833</td>\n",
       "      <td>0.230000</td>\n",
       "      <td>0.661667</td>\n",
       "      <td>5</td>\n",
       "      <td>train</td>\n",
       "      <td>False</td>\n",
       "    </tr>\n",
       "    <tr>\n",
       "      <th>125361</th>\n",
       "      <td>haowei34k</td>\n",
       "      <td>/home/chenyi/workspace/dataset/data/haowei34k/...</td>\n",
       "      <td>640</td>\n",
       "      <td>960</td>\n",
       "      <td>0.439844</td>\n",
       "      <td>0.323437</td>\n",
       "      <td>0.429688</td>\n",
       "      <td>0.263542</td>\n",
       "      <td>2</td>\n",
       "      <td>train</td>\n",
       "      <td>False</td>\n",
       "    </tr>\n",
       "  </tbody>\n",
       "</table>\n",
       "</div>"
      ],
      "text/plain": [
       "           source                                             img_sp  width  \\\n",
       "55590   haowei34k  /home/chenyi/workspace/dataset/data/haowei34k/...    300   \n",
       "124142  haowei34k  /home/chenyi/workspace/dataset/data/haowei34k/...    400   \n",
       "125361  haowei34k  /home/chenyi/workspace/dataset/data/haowei34k/...    640   \n",
       "\n",
       "        height       bx1       bx2       bx3       bx4  label_model   mode  \\\n",
       "55590      400  0.540000  0.310000  0.280000  0.320000            2  train   \n",
       "124142     600  0.487500  0.525833  0.230000  0.661667            5  train   \n",
       "125361     960  0.439844  0.323437  0.429688  0.263542            2  train   \n",
       "\n",
       "         flag  \n",
       "55590   False  \n",
       "124142  False  \n",
       "125361  False  "
      ]
     },
     "execution_count": 17,
     "metadata": {},
     "output_type": "execute_result"
    }
   ],
   "source": [
    "dirty_df"
   ]
  },
  {
   "cell_type": "code",
   "execution_count": 23,
   "id": "1184101b-4a74-4ef0-a7eb-8738e3ea7d8f",
   "metadata": {},
   "outputs": [],
   "source": [
    "!ls /nas/chenyi/datasets_cls/img_remove/"
   ]
  },
  {
   "cell_type": "code",
   "execution_count": 31,
   "id": "e7d7b2c1-083e-467d-b7b8-842f0e7c1572",
   "metadata": {},
   "outputs": [
    {
     "name": "stderr",
     "output_type": "stream",
     "text": [
      "100%|███████████████████████████████████████| 3127/3127 [00:03<00:00, 784.05it/s]\n"
     ]
    }
   ],
   "source": [
    "from tqdm import tqdm\n",
    "import shutil\n",
    "\n",
    "del_df = drop_dup_df.drop_duplicates('img_sp')\n",
    "troot = Path('/nas/chenyi/datasets_cls/img_remove')\n",
    "if not troot.is_dir(): troot.mkdir(parents=True)\n",
    "for p in tqdm(del_df['img_sp'].values):\n",
    "    p_lib = Path(p)\n",
    "    if p_lib.is_file():\n",
    "        tp = troot /p_lib.name\n",
    "        shutil.move(p_lib, tp)"
   ]
  },
  {
   "cell_type": "code",
   "execution_count": null,
   "id": "945974db-e688-47b9-8c94-df2ed50801c1",
   "metadata": {},
   "outputs": [],
   "source": []
  },
  {
   "cell_type": "code",
   "execution_count": null,
   "id": "ab06a312-cff8-423f-b130-2d12bd682d6d",
   "metadata": {},
   "outputs": [],
   "source": []
  }
 ],
 "metadata": {
  "kernelspec": {
   "display_name": "Python 3 (ipykernel)",
   "language": "python",
   "name": "python3"
  },
  "language_info": {
   "codemirror_mode": {
    "name": "ipython",
    "version": 3
   },
   "file_extension": ".py",
   "mimetype": "text/x-python",
   "name": "python",
   "nbconvert_exporter": "python",
   "pygments_lexer": "ipython3",
   "version": "3.8.13"
  }
 },
 "nbformat": 4,
 "nbformat_minor": 5
}
