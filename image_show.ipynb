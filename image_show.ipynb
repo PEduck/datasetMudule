{
 "cells": [
  {
   "cell_type": "code",
   "execution_count": null,
   "id": "3cf6c6c2-d5f9-4ce4-abd2-2e9386f982e7",
   "metadata": {},
   "outputs": [],
   "source": [
    "import numpy as np\n",
    "import pandas as pd\n",
    "import glob\n",
    "from pathlib import Path\n",
    "import cv2\n",
    "from PIL import Image\n",
    "import matplotlib.pyplot as plt"
   ]
  },
  {
   "cell_type": "code",
   "execution_count": null,
   "id": "2513fda8-6814-4d44-898e-3d1229c0f6ca",
   "metadata": {},
   "outputs": [],
   "source": []
  },
  {
   "cell_type": "code",
   "execution_count": null,
   "id": "54851dd4-9c0e-4488-95ab-1520c83d526d",
   "metadata": {},
   "outputs": [],
   "source": []
  },
  {
   "cell_type": "code",
   "execution_count": null,
   "id": "90b72a47-3b63-4c85-bdf9-dcd5e75e504e",
   "metadata": {},
   "outputs": [],
   "source": [
    "def bbox_yolo2voc(bx, w, h):\n",
    "    x_c = float(bx[0])*w\n",
    "    y_c = float(bx[1])*h\n",
    "    wbbox = float(bx[2])*w\n",
    "    hbbox = float(bx[3])*h\n",
    "    x1 = int(x_c - wbbox/2)\n",
    "    y1 = int(y_c - hbbox/2)\n",
    "    x2 = int(x_c + wbbox/2)\n",
    "    y2 = int(y_c + hbbox/2)\n",
    "    bbox = [x1, y1, x2, y2]\n",
    "    return bbox"
   ]
  },
  {
   "cell_type": "code",
   "execution_count": null,
   "id": "50473f50-8841-4683-8ede-283d972c815d",
   "metadata": {},
   "outputs": [],
   "source": []
  },
  {
   "cell_type": "code",
   "execution_count": null,
   "id": "d9e89845-fcff-496b-a675-b098f4e9c734",
   "metadata": {},
   "outputs": [],
   "source": [
    "def bbox_voc2yolo(bx, w, h):\n",
    "    x1 = bx[0]\n",
    "    y1 = bx[1]\n",
    "    x2 = bx[2]\n",
    "    y2 = bx[3]\n",
    "    w_bbox = x2 - x1\n",
    "    h_bbox = y2 - y1\n",
    "    x_c = x1 + w_bbox/2\n",
    "    y_c = y1 + h_bbox/2\n",
    "    bbox = [x_c/w, y_c/h, w_bbox/w, h_bbox/h]\n",
    "    return bbox"
   ]
  },
  {
   "cell_type": "code",
   "execution_count": null,
   "id": "adcabd68-268b-425f-bcdd-c6998e3eff59",
   "metadata": {},
   "outputs": [],
   "source": []
  },
  {
   "cell_type": "code",
   "execution_count": null,
   "id": "e674c0df-548b-4bf7-b41d-6845baf0299b",
   "metadata": {},
   "outputs": [],
   "source": [
    "def bbox_coco2voc(bbox):\n",
    "    bbox[2] = bbox[0] + bbox[2]\n",
    "    bbox[3] = bbox[1] + bbox[3]\n",
    "    return bbox"
   ]
  },
  {
   "cell_type": "code",
   "execution_count": null,
   "id": "8697499a-7ba7-4aa1-b2b0-da2cb2455751",
   "metadata": {},
   "outputs": [],
   "source": []
  },
  {
   "cell_type": "code",
   "execution_count": null,
   "id": "6efd9f0b-d076-4b05-946a-3c4587247248",
   "metadata": {},
   "outputs": [],
   "source": [
    "# def bbox_2coco2voc(bbox):\n",
    "#     w, h = bbox[2] - bbox[0], bbox[3] - bbox[1]\n",
    "#     bbox[0] = int(bbox[0] + w/2)\n",
    "#     bbox[1] = int(bbox[1] + h/2)\n",
    "#     bbox[2] = int(bbox[2] + w/2)\n",
    "#     bbox[3] = int(bbox[3] + h/2)\n",
    "#     return bbox"
   ]
  },
  {
   "cell_type": "code",
   "execution_count": null,
   "id": "387f0e0c-94ac-43a0-acf6-106f64988863",
   "metadata": {},
   "outputs": [],
   "source": []
  },
  {
   "cell_type": "code",
   "execution_count": null,
   "id": "f48a1064-e71a-48a1-a432-94bdb7ab991c",
   "metadata": {},
   "outputs": [],
   "source": []
  },
  {
   "cell_type": "code",
   "execution_count": null,
   "id": "5cbaf51d-f2e7-4f7d-a408-4e39122f6603",
   "metadata": {},
   "outputs": [],
   "source": [
    "def draw_bbox(img_np, box_coco):\n",
    "    id_ = int(box_coco[0])\n",
    "    x1 = int(box_coco[1])\n",
    "    y1 = int(box_coco[2])\n",
    "    x2 = int(box_coco[3])\n",
    "    y2 = int(box_coco[4])\n",
    "    font = cv2.FONT_HERSHEY_SIMPLEX\n",
    "    cv2.rectangle(img_np,(x1, y1),(x2, y2),(0,0,255),thickness=2)\n",
    "    f = cv2.putText(img_np, text=str(id_), org=(x1 + 5, y1 + 5), fontFace=font, fontScale=1, \n",
    "        thickness=2, lineType=cv2.LINE_AA, color=(0, 255, 0))\n",
    "    return img_np"
   ]
  },
  {
   "cell_type": "code",
   "execution_count": null,
   "id": "4a9be42a-b6b1-4be8-b46f-a5799934a58d",
   "metadata": {},
   "outputs": [],
   "source": []
  },
  {
   "cell_type": "code",
   "execution_count": null,
   "id": "d2fab5ef-c00b-4a96-b5ac-80d6745e7033",
   "metadata": {},
   "outputs": [],
   "source": []
  },
  {
   "cell_type": "code",
   "execution_count": null,
   "id": "a31fc643-37b4-4bf1-a84a-31c6f46010f8",
   "metadata": {},
   "outputs": [],
   "source": [
    "Path.cwd()"
   ]
  },
  {
   "cell_type": "code",
   "execution_count": null,
   "id": "eb227e57-b1f5-4f7a-a319-1415966c9edc",
   "metadata": {},
   "outputs": [],
   "source": [
    "ROOT = Path('/nas/chenyi/dataset_apparel_nas/')"
   ]
  },
  {
   "cell_type": "code",
   "execution_count": null,
   "id": "5a76d31d-7d4d-455c-ac8d-a4cc93b3f4bf",
   "metadata": {},
   "outputs": [],
   "source": []
  },
  {
   "cell_type": "code",
   "execution_count": null,
   "id": "ee3a96de-7c16-4265-9c6d-6c5f6cc107bb",
   "metadata": {},
   "outputs": [],
   "source": []
  },
  {
   "cell_type": "markdown",
   "id": "f4bfc726-a598-447b-9dab-84b3ec2a26c9",
   "metadata": {},
   "source": [
    "#### pandas数据画图"
   ]
  },
  {
   "cell_type": "code",
   "execution_count": null,
   "id": "5f2662b8-7da7-4557-943e-c0fe3c7843fa",
   "metadata": {},
   "outputs": [],
   "source": [
    "of_df = pd.read_csv('/nas/lichangjian/open_fashion/df_OpenFashion.csv')"
   ]
  },
  {
   "cell_type": "code",
   "execution_count": null,
   "id": "2c53e7fd-722c-481c-adba-cdc2d748927b",
   "metadata": {},
   "outputs": [],
   "source": [
    "ind = 490311\n",
    "p = of_df.loc[ind]['path']\n",
    "bboxes = [of_df.loc[ind][['label_2', 'x_1','y_1', 'x_2', 'y_2']].values.tolist()]\n",
    "of_df.loc[ind]['source']"
   ]
  },
  {
   "cell_type": "code",
   "execution_count": null,
   "id": "052ff0ed-ddfe-408c-ad88-eb3990da3900",
   "metadata": {},
   "outputs": [],
   "source": [
    "# p = '/nas/lichangjian/open_fashion/DeepFashion/Category and Attribute Prediction Benchmark/Img/img/Sheer_Pleated-Front_Blouse/img_00000012.jpg' \n",
    "# bboxes = [[1, 68, 82, 190, 290]]"
   ]
  },
  {
   "cell_type": "code",
   "execution_count": null,
   "id": "3ed6dd2f-249e-46c2-924b-9dfafc4b1cf6",
   "metadata": {},
   "outputs": [],
   "source": [
    "bboxes"
   ]
  },
  {
   "cell_type": "code",
   "execution_count": null,
   "id": "674bbe4c-c2b0-40a1-903c-4e63c9259ef4",
   "metadata": {},
   "outputs": [],
   "source": [
    "img_np = cv2.imread(str(p))\n",
    "img_np = cv2.cvtColor(img_np, cv2.COLOR_BGR2RGB)\n",
    "w = img_np.shape[0]\n",
    "h = img_np.shape[1]"
   ]
  },
  {
   "cell_type": "code",
   "execution_count": null,
   "id": "e7ad13b7-9c18-490c-b126-bbb0d7f8d5b4",
   "metadata": {},
   "outputs": [],
   "source": [
    "for bx in bboxes:\n",
    "    # bx[1:] = bbox_coco2voc(bx[1:])\n",
    "    draw_bbox(img_np, bx)"
   ]
  },
  {
   "cell_type": "code",
   "execution_count": null,
   "id": "68b5e238-c2f1-4cd8-ad55-6e0c4657a78a",
   "metadata": {},
   "outputs": [],
   "source": [
    "Image.fromarray(img_np)"
   ]
  },
  {
   "cell_type": "code",
   "execution_count": null,
   "id": "eba5322a-f12b-4bc4-8770-a07c34a7a60d",
   "metadata": {},
   "outputs": [],
   "source": []
  },
  {
   "cell_type": "code",
   "execution_count": null,
   "id": "f91b114a-0f5e-4d3a-9bb8-76b855060e04",
   "metadata": {},
   "outputs": [],
   "source": []
  },
  {
   "cell_type": "markdown",
   "id": "bfd8d985-4681-4da5-9bd4-31479cf04940",
   "metadata": {},
   "source": [
    "#### 路径画图"
   ]
  },
  {
   "cell_type": "code",
   "execution_count": null,
   "id": "d3379ea7-056a-4ce0-abea-779195ceec90",
   "metadata": {},
   "outputs": [],
   "source": [
    "f_id = '003a6ca3eaa7886da61ed2de2c5e8d27'\n",
    "fname = f_id + '.jpg'\n",
    "row = data_pd[data_pd['file_name'] == fname]"
   ]
  },
  {
   "cell_type": "code",
   "execution_count": null,
   "id": "96b0e72e-5db0-459d-b16c-7b97ac12cc63",
   "metadata": {},
   "outputs": [],
   "source": [
    "bboxes = row['bbox'].values[0]\n",
    "mode = row['train'].values[0]\n",
    "p = ROOT/ 'images' / mode / fname"
   ]
  },
  {
   "cell_type": "code",
   "execution_count": null,
   "id": "ed4477d3-8807-44b4-893a-e7b6db0159b8",
   "metadata": {},
   "outputs": [],
   "source": []
  },
  {
   "cell_type": "code",
   "execution_count": null,
   "id": "04247db3-e375-4e20-a1c0-42d492998b04",
   "metadata": {},
   "outputs": [],
   "source": [
    "p = '/nas/lichangjian/open_fashion/DeepFashion/Category and Attribute Prediction Benchmark/Img/img/Abstract_Print_Woven_Cardigan/img_00000021.jpg'"
   ]
  },
  {
   "cell_type": "code",
   "execution_count": null,
   "id": "c949b321-6029-4bed-94e8-52d36d66a98c",
   "metadata": {},
   "outputs": [],
   "source": [
    "img_np = cv2.imread(str(p))\n",
    "img_np = cv2.cvtColor(img_np, cv2.COLOR_BGR2RGB)"
   ]
  },
  {
   "cell_type": "code",
   "execution_count": null,
   "id": "3a0df164-a7ac-4c5b-bd19-19f763532e83",
   "metadata": {},
   "outputs": [],
   "source": [
    "bboxes = [[1, 68.0, 9.0, 168.0, 152.0]]\n",
    "\n",
    "for bx in bboxes:\n",
    "    w = img_np.shape[0]\n",
    "    h = img_np.shape[1]\n",
    "    # bx[1:] = bbox_coco2voc(bx[1:])\n",
    "    draw_bbox(img_np, bx)"
   ]
  },
  {
   "cell_type": "code",
   "execution_count": null,
   "id": "ecd89956-0744-4b72-bf82-2f0d877aa91f",
   "metadata": {},
   "outputs": [],
   "source": [
    "Image.fromarray(img_np)"
   ]
  },
  {
   "cell_type": "code",
   "execution_count": null,
   "id": "f5fd2991-59b4-4709-87cf-d3ec7ff293ad",
   "metadata": {},
   "outputs": [],
   "source": []
  },
  {
   "cell_type": "code",
   "execution_count": null,
   "id": "79235322-8524-46d4-a6b9-de54bfcc1051",
   "metadata": {},
   "outputs": [],
   "source": []
  },
  {
   "cell_type": "markdown",
   "id": "9b5f7a3d-3856-4710-b5bb-f0eac07a5dea",
   "metadata": {
    "tags": []
   },
   "source": [
    "### HTML Display"
   ]
  },
  {
   "cell_type": "code",
   "execution_count": null,
   "id": "96d2040b-c0d7-400e-94c2-cdcb10942d2d",
   "metadata": {},
   "outputs": [],
   "source": [
    "import sys\n",
    "sys.path.append('../../')\n",
    "from utils.display.html import *\n",
    "from IPython.display import HTML\n",
    "from io import BytesIO"
   ]
  },
  {
   "cell_type": "code",
   "execution_count": null,
   "id": "b4dd0d70-8178-405c-9be5-f23231dc6675",
   "metadata": {},
   "outputs": [],
   "source": [
    "img_list = glob.glob('/home/chenyi/workspace/yolov5/yolov5_ours/results/dect_results/det_hwpedia/all1/*.jpg')\n",
    "len(img_list), img_list[-1]"
   ]
  },
  {
   "cell_type": "code",
   "execution_count": null,
   "id": "f4c1d435-e07a-4970-b5aa-3e19931b033f",
   "metadata": {},
   "outputs": [],
   "source": [
    "df_drawed = pd.DataFrame()\n",
    "df_drawed['path'] = img_list[-1100:-1000]"
   ]
  },
  {
   "cell_type": "code",
   "execution_count": null,
   "id": "cf5b7af8-89b6-4943-9074-3fba6d8e6109",
   "metadata": {},
   "outputs": [],
   "source": [
    "size = 500\n",
    "df_drawed['res'] = df_drawed['path'].map(lambda x: get_thumbnail(x, size))"
   ]
  },
  {
   "cell_type": "code",
   "execution_count": null,
   "id": "b2ad6101-d408-4b22-a5fb-7528f368c614",
   "metadata": {},
   "outputs": [],
   "source": [
    "f = df_drawed[['res', 'path']].to_html(formatters={'res': image_formatter}, escape=False)"
   ]
  },
  {
   "cell_type": "code",
   "execution_count": null,
   "id": "40f3a356-014e-4e7e-a540-cde765e9fd75",
   "metadata": {},
   "outputs": [],
   "source": []
  },
  {
   "cell_type": "code",
   "execution_count": null,
   "id": "a2e4e944-f7d8-494b-9651-38045a4b669f",
   "metadata": {},
   "outputs": [],
   "source": [
    "HTML(f)"
   ]
  },
  {
   "cell_type": "code",
   "execution_count": null,
   "id": "f1462add-16f6-4b53-a38d-53640552ca36",
   "metadata": {},
   "outputs": [],
   "source": []
  },
  {
   "cell_type": "code",
   "execution_count": null,
   "id": "42ea200a-2622-4001-b19e-9d81609adb0a",
   "metadata": {},
   "outputs": [],
   "source": []
  }
 ],
 "metadata": {
  "kernelspec": {
   "display_name": "Python 3 (ipykernel)",
   "language": "python",
   "name": "python3"
  },
  "language_info": {
   "codemirror_mode": {
    "name": "ipython",
    "version": 3
   },
   "file_extension": ".py",
   "mimetype": "text/x-python",
   "name": "python",
   "nbconvert_exporter": "python",
   "pygments_lexer": "ipython3",
   "version": "3.8.13"
  }
 },
 "nbformat": 4,
 "nbformat_minor": 5
}
