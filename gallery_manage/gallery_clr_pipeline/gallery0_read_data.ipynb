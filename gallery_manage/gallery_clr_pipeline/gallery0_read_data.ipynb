{
 "cells": [
  {
   "cell_type": "code",
   "execution_count": 1,
   "id": "1f4b18ed-0348-46dc-a6b1-d323d7b59009",
   "metadata": {},
   "outputs": [],
   "source": [
    "import glob\n",
    "import pandas as pd\n",
    "from pathlib import Path"
   ]
  },
  {
   "cell_type": "code",
   "execution_count": null,
   "id": "8a303f01-da97-40de-b64b-5db83729531b",
   "metadata": {},
   "outputs": [],
   "source": []
  },
  {
   "cell_type": "code",
   "execution_count": null,
   "id": "a4010c73-0963-4484-829d-fbdac50f973a",
   "metadata": {},
   "outputs": [],
   "source": []
  },
  {
   "cell_type": "code",
   "execution_count": 2,
   "id": "4b17fa03-ba07-440d-91f9-554d63210dcc",
   "metadata": {},
   "outputs": [],
   "source": [
    "folder_name = 'gall7kv6'\n",
    "root = Path('/nas/chenyi/datasets_cls/gallery_detect/')\n",
    "det_root = Path(f'/nas/chenyi/datasets_cls/gallery_detect/gallery_oss/{folder_name}/')"
   ]
  },
  {
   "cell_type": "code",
   "execution_count": null,
   "id": "53976ba9-c3f5-4b52-92c4-310ed6fb6890",
   "metadata": {},
   "outputs": [],
   "source": [
    "%%time\n",
    "imgs_det_list = glob.glob(str(det_root /'images/*/*/*.jpg'))\n",
    "# imgs_det_list = glob.glob(str(det_root /'images/00/00/*.jpg'))\n",
    "len(imgs_det_list)"
   ]
  },
  {
   "cell_type": "code",
   "execution_count": 3,
   "id": "a5f0a6a9-59a1-4fff-a719-5d027365fade",
   "metadata": {},
   "outputs": [
    {
     "name": "stdout",
     "output_type": "stream",
     "text": [
      "CPU times: user 5.19 s, sys: 7.76 s, total: 13 s\n",
      "Wall time: 6min 40s\n"
     ]
    },
    {
     "data": {
      "text/plain": [
       "2189265"
      ]
     },
     "execution_count": 3,
     "metadata": {},
     "output_type": "execute_result"
    }
   ],
   "source": [
    "%%time\n",
    "txt_det_list = glob.glob(str(det_root /'labels/*/*/*.txt'))\n",
    "# imgs_det_list = glob.glob(str(det_root /'images/00/00/*.jpg'))\n",
    "len(txt_det_list)"
   ]
  },
  {
   "cell_type": "code",
   "execution_count": 4,
   "id": "0b74d0d3-94a4-41d0-94aa-6518586ef354",
   "metadata": {},
   "outputs": [],
   "source": [
    "txt_det_df = pd.DataFrame()\n",
    "txt_det_df['txt_path'] =  txt_det_list"
   ]
  },
  {
   "cell_type": "code",
   "execution_count": 5,
   "id": "18a0312d-6f36-45d3-976d-1f0669cf1092",
   "metadata": {},
   "outputs": [],
   "source": [
    "txt_det_df.to_csv('/nas/chenyi/datasets_cls/gallery_detect/gallery_oss/gall7kv6/info/txts_gall_df.csv', index=False)"
   ]
  },
  {
   "cell_type": "code",
   "execution_count": null,
   "id": "d4b924c3-5e96-434f-b8b1-6f5c46629eca",
   "metadata": {},
   "outputs": [],
   "source": []
  }
 ],
 "metadata": {
  "kernelspec": {
   "display_name": "Python 3 (ipykernel)",
   "language": "python",
   "name": "python3"
  },
  "language_info": {
   "codemirror_mode": {
    "name": "ipython",
    "version": 3
   },
   "file_extension": ".py",
   "mimetype": "text/x-python",
   "name": "python",
   "nbconvert_exporter": "python",
   "pygments_lexer": "ipython3",
   "version": "3.8.13"
  }
 },
 "nbformat": 4,
 "nbformat_minor": 5
}
