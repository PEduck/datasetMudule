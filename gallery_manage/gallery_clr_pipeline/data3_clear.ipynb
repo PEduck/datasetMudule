{
 "cells": [
  {
   "cell_type": "code",
   "execution_count": null,
   "id": "b644b373-a7ae-47e1-bb9e-7390d2f19a77",
   "metadata": {},
   "outputs": [],
   "source": [
    "# 数据清洗"
   ]
  },
  {
   "cell_type": "code",
   "execution_count": null,
   "id": "f26bbd31-ddae-43b6-aa60-bc3ed59d49b6",
   "metadata": {},
   "outputs": [],
   "source": [
    "import glob\n",
    "import pandas as pd\n",
    "from pathlib import Path\n",
    "import re"
   ]
  },
  {
   "cell_type": "code",
   "execution_count": null,
   "id": "06c657c6-5e37-4a05-a5fe-c22161afee77",
   "metadata": {},
   "outputs": [],
   "source": [
    "from PIL import Image"
   ]
  },
  {
   "cell_type": "code",
   "execution_count": null,
   "id": "72525a3e-472f-417c-a013-32bfb7a58511",
   "metadata": {},
   "outputs": [],
   "source": []
  },
  {
   "cell_type": "code",
   "execution_count": null,
   "id": "780fdfc3-4b53-495f-aec9-9cc5adad4e8b",
   "metadata": {},
   "outputs": [],
   "source": []
  },
  {
   "cell_type": "code",
   "execution_count": null,
   "id": "2e6976f2-021f-4394-a996-a783d1f3a6b5",
   "metadata": {},
   "outputs": [],
   "source": [
    "model_label_map = {\n",
    "    0: 10,  # 鞋子\n",
    "    1: 8,  # 包包\n",
    "    2: 4,  # 上装\n",
    "    3: 5,  # 裤子\n",
    "    4: 6,  # 裙子\n",
    "    5: 7,  # 连体装\n",
    "}"
   ]
  },
  {
   "cell_type": "code",
   "execution_count": null,
   "id": "ebadcc78-8fa8-407f-bceb-79c4f1efd616",
   "metadata": {},
   "outputs": [],
   "source": []
  },
  {
   "cell_type": "code",
   "execution_count": null,
   "id": "625c2083-1e40-4b0a-bdea-f7ff375747c5",
   "metadata": {},
   "outputs": [],
   "source": [
    "model_label_map = {\n",
    "    0: 'shoe',\n",
    "    1: 'bag',\n",
    "    2: 'upperbody',\n",
    "    3: 'lowerbody',  # 裤子\n",
    "    4: 'skirt',  # 裙子\n",
    "    5: 'wholebody',  # 连体装\n",
    "}"
   ]
  },
  {
   "cell_type": "code",
   "execution_count": null,
   "id": "17c77d39-f610-411d-b1b4-c53092c1c0af",
   "metadata": {},
   "outputs": [],
   "source": [
    "from tqdm import tqdm\n",
    "def df_map(df):\n",
    "    names = df.columns\n",
    "    k_list = df[df.columns[0]].values.tolist()\n",
    "    v_list = df[df.columns[1]].values.tolist()\n",
    "    d = {}\n",
    "    for k, v in tqdm(zip(k_list, v_list)):\n",
    "        d[k] = v\n",
    "    return d"
   ]
  },
  {
   "cell_type": "code",
   "execution_count": null,
   "id": "c9f47c1e-035c-4865-b74d-49342d1f71d8",
   "metadata": {},
   "outputs": [],
   "source": [
    "#  dataframe multi-thread\n",
    "from pandarallel import pandarallel\n",
    "# Initialization\n",
    "pandarallel.initialize()\n",
    "# df.parallel_apply(func, progress_bar=True)"
   ]
  },
  {
   "cell_type": "code",
   "execution_count": null,
   "id": "92858d0e-1ec7-4cb3-8916-440d073b0bc4",
   "metadata": {},
   "outputs": [],
   "source": []
  },
  {
   "cell_type": "markdown",
   "id": "16a5b9e5-bb29-45ef-bec1-ba5e5f54890b",
   "metadata": {
    "tags": []
   },
   "source": [
    "### 1.LOAD DATA"
   ]
  },
  {
   "cell_type": "code",
   "execution_count": null,
   "id": "73ce45c5-93ae-4b25-949c-eeb697f25e94",
   "metadata": {},
   "outputs": [],
   "source": [
    "bboxes_all_df = pd.read_csv('/home/chenyi/workspace/myPyModule99/gallery_manage/gallery_clr_pipeline/data_temp/bboxes_clred_temp.csv')\n",
    "# bboxes_all_df.to_csv('./data_temp/bboxes_all_df.csv', index=False)\n",
    "len(bboxes_all_df)"
   ]
  },
  {
   "cell_type": "code",
   "execution_count": null,
   "id": "62ad9609-af7b-437f-8920-b263d9fb2c7e",
   "metadata": {},
   "outputs": [],
   "source": [
    "len(bboxes_all_df)"
   ]
  },
  {
   "cell_type": "code",
   "execution_count": null,
   "id": "c7a6c381-05ea-4ecc-b2cc-d571aed2af28",
   "metadata": {},
   "outputs": [],
   "source": [
    "# %%time\n",
    "# bboxes_all_df['stem_crop'] = bboxes_all_df['crop_path'].parallel_apply(lambda x: Path(x).stem)"
   ]
  },
  {
   "cell_type": "code",
   "execution_count": null,
   "id": "b33bbb9d-3ade-4f79-befc-cbc16da077fb",
   "metadata": {},
   "outputs": [],
   "source": [
    "# clred_df = pd.read_csv('./data_temp/bboxes_clred_upper.csv')\n",
    "# clred_df.to_csv('./data_temp/bboxes_clred_final.csv', index=False)\n",
    "# len(clred_df)"
   ]
  },
  {
   "cell_type": "code",
   "execution_count": null,
   "id": "c58e5f95-540b-43bf-b6a2-0b2415a37e58",
   "metadata": {},
   "outputs": [],
   "source": [
    "# bboxes_all_df.value_counts('label_pred').sort_index()"
   ]
  },
  {
   "cell_type": "code",
   "execution_count": null,
   "id": "d2471245-6437-4d81-90f6-e7d4aedd8308",
   "metadata": {},
   "outputs": [],
   "source": []
  },
  {
   "cell_type": "code",
   "execution_count": null,
   "id": "7f7b5a63-1623-4680-86b1-7eff08ad9a5c",
   "metadata": {},
   "outputs": [],
   "source": []
  },
  {
   "cell_type": "markdown",
   "id": "cea098b2-a0c1-4292-bcbb-fcf80539ea61",
   "metadata": {
    "tags": []
   },
   "source": [
    "#### det drawed image"
   ]
  },
  {
   "cell_type": "code",
   "execution_count": null,
   "id": "1d58f16b-fd43-4822-9ddd-c1e6ce213fce",
   "metadata": {},
   "outputs": [],
   "source": [
    "# imgs_det_df.to_csv('/nas/chenyi/datasets_cls/gallery_detect/gallery_oss/gall7kv6/info/imgs_gall_df.csv', index=False)\n",
    "imgs_gall_df = pd.read_csv('/nas/chenyi/datasets_cls/gallery_detect/gallery_oss/gall7kv6/info/imgs_gall_df.csv')\n",
    "len(imgs_gall_df)"
   ]
  },
  {
   "cell_type": "code",
   "execution_count": null,
   "id": "57a61f18-497c-44e7-aefa-e62fe153611b",
   "metadata": {},
   "outputs": [],
   "source": [
    "df = imgs_gall_df.loc[:, ['stem', 'det_path']]\n",
    "stem2det_path = df_map(df)\n",
    "del imgs_gall_df"
   ]
  },
  {
   "cell_type": "code",
   "execution_count": null,
   "id": "79d7a0e6-451d-423f-8d32-9883473d2316",
   "metadata": {},
   "outputs": [],
   "source": []
  },
  {
   "cell_type": "code",
   "execution_count": null,
   "id": "f64d5b13-3437-4fbb-95cc-e1a8d7a15f81",
   "metadata": {},
   "outputs": [],
   "source": []
  },
  {
   "cell_type": "markdown",
   "id": "d78a93d9-4a3e-4d32-806d-6c73eeb846e2",
   "metadata": {
    "jp-MarkdownHeadingCollapsed": true,
    "tags": []
   },
   "source": [
    "#### crops target path."
   ]
  },
  {
   "cell_type": "code",
   "execution_count": null,
   "id": "9e5785c8-dba4-4dca-aa1c-836c26d5af28",
   "metadata": {},
   "outputs": [],
   "source": [
    "# crops_det_df = pd.read_csv('/nas/chenyi/datasets_cls/gallery_detect/gallery_oss/gall7kv6/info/crops_det_df.csv')\n",
    "# txts_gall_df = pd.read_csv('/nas/chenyi/datasets_cls/gallery_detect/gallery_oss/gall7kv6/info/txts_gall_df.csv')"
   ]
  },
  {
   "cell_type": "code",
   "execution_count": null,
   "id": "b07b1882-8544-4686-a476-410866965f35",
   "metadata": {},
   "outputs": [],
   "source": []
  },
  {
   "cell_type": "markdown",
   "id": "7b5e00fc-3e8c-47c6-a8e2-ef541d1ef905",
   "metadata": {
    "tags": []
   },
   "source": [
    "#### df预处理"
   ]
  },
  {
   "cell_type": "code",
   "execution_count": null,
   "id": "eb112924-d474-45ac-970c-d55caa647802",
   "metadata": {},
   "outputs": [],
   "source": [
    "import pickle\n",
    "with open('/nas/chenyi/datasets_cls/map/gallery/stem2width_gallery2m20220728.pickle', 'rb') as f:\n",
    "    stem2width = pickle.load(f)\n",
    "with open('/nas/chenyi/datasets_cls/map/gallery/stem2height_gallery2m20220728.pickle', 'rb') as f:\n",
    "    stem2height = pickle.load(f)"
   ]
  },
  {
   "cell_type": "code",
   "execution_count": null,
   "id": "2c2fc562-6af5-43da-ba97-261e086a270a",
   "metadata": {},
   "outputs": [],
   "source": [
    "bboxes_all_df['width'] = bboxes_all_df['stem'].map(stem2width)\n",
    "bboxes_all_df['height'] = bboxes_all_df['stem'].map(stem2height)"
   ]
  },
  {
   "cell_type": "code",
   "execution_count": null,
   "id": "ac237821-1b7a-4841-9d6a-4d4c938342bd",
   "metadata": {},
   "outputs": [],
   "source": [
    "bboxes_all_df.columns"
   ]
  },
  {
   "cell_type": "code",
   "execution_count": null,
   "id": "5055f814-a153-415c-916b-820494186614",
   "metadata": {},
   "outputs": [],
   "source": []
  },
  {
   "cell_type": "code",
   "execution_count": null,
   "id": "7aedf911-3f9e-4a16-aa24-1791389de881",
   "metadata": {},
   "outputs": [],
   "source": [
    "## oss path cleared image.\n",
    "gall_df = pd.read_csv('/nas/chenyi/datasets_cls/gallery_detect/gallery_csv/gall2m_hw_df20220725.csv')\n",
    "len(gall_df)\n",
    "gall_clred_df = gall_df[gall_df['state']>=0]\n",
    "len(gall_clred_df)"
   ]
  },
  {
   "cell_type": "code",
   "execution_count": null,
   "id": "22ad8a09-15a8-49c8-954f-e5f881c1dc2b",
   "metadata": {},
   "outputs": [],
   "source": [
    "clred_df = bboxes_all_df[bboxes_all_df['stem'].isin(gall_clred_df['stem'])]\n",
    "len(clred_df)"
   ]
  },
  {
   "cell_type": "code",
   "execution_count": null,
   "id": "d1084610-1c92-4bae-926a-09eb8690478e",
   "metadata": {},
   "outputs": [],
   "source": [
    "# crop image exist.\n",
    "clred_df = clred_df[clred_df['crop_exist']]\n",
    "len(clred_df)"
   ]
  },
  {
   "cell_type": "code",
   "execution_count": null,
   "id": "df7ca1e5-1a59-4a34-8cd8-158a03f59b8d",
   "metadata": {},
   "outputs": [],
   "source": [
    "# clred_df.drop(columns='crop_exist', inplace=True)"
   ]
  },
  {
   "cell_type": "code",
   "execution_count": null,
   "id": "766278a7-0d1c-408d-b85b-a66649a7f180",
   "metadata": {},
   "outputs": [],
   "source": [
    "clred_df['bx_w'] = clred_df['width'].values*clred_df['bx3'].values\n",
    "clred_df['bx_h'] = clred_df['height'].values*clred_df['bx4'].values\n",
    "clred_df['h/w'] = clred_df['bx_h'].values/clred_df['bx_w'].values"
   ]
  },
  {
   "cell_type": "code",
   "execution_count": null,
   "id": "fde3e8ea-7f83-4720-bf94-ec565a051e07",
   "metadata": {},
   "outputs": [],
   "source": []
  },
  {
   "cell_type": "code",
   "execution_count": null,
   "id": "65ada9ef-e04c-4834-95a4-960d7120bbbc",
   "metadata": {},
   "outputs": [],
   "source": []
  },
  {
   "cell_type": "markdown",
   "id": "6db10521-5040-497f-a6f0-7f50c71e947d",
   "metadata": {
    "jp-MarkdownHeadingCollapsed": true,
    "tags": []
   },
   "source": [
    "### 2.图片清洗"
   ]
  },
  {
   "cell_type": "code",
   "execution_count": null,
   "id": "f1cc43b8-fbaa-427a-9948-e6b6cd9896a1",
   "metadata": {},
   "outputs": [],
   "source": [
    "# clred_df = bboxes_all_df\n",
    "# len(clred_df)"
   ]
  },
  {
   "cell_type": "markdown",
   "id": "899f740d-eae6-41b5-99a9-bd3b02047daf",
   "metadata": {
    "jp-MarkdownHeadingCollapsed": true,
    "tags": []
   },
   "source": [
    "#### 图片太小"
   ]
  },
  {
   "cell_type": "code",
   "execution_count": null,
   "id": "ba3ec3cc-29d2-45a8-873b-2382affc24ea",
   "metadata": {},
   "outputs": [],
   "source": [
    "thres = 300\n",
    "temp = clred_df[(clred_df['width']<thres) | (clred_df['height']<thres)]\n",
    "len(temp)"
   ]
  },
  {
   "cell_type": "code",
   "execution_count": null,
   "id": "8d697b25-146c-4d3e-8b61-45459fb9707a",
   "metadata": {},
   "outputs": [],
   "source": [
    "clred_df = clred_df[~clred_df['stem'].isin(temp['stem'])]\n",
    "len(temp)/len(bboxes_all_df), len(clred_df), len(bboxes_all_df)"
   ]
  },
  {
   "cell_type": "code",
   "execution_count": null,
   "id": "e53af374-aeef-4deb-85d7-496099cd9c62",
   "metadata": {},
   "outputs": [],
   "source": [
    "thres = 400\n",
    "temp = clred_df[(clred_df['width']<thres) & (clred_df['height']<thres)]\n",
    "len(temp)"
   ]
  },
  {
   "cell_type": "code",
   "execution_count": null,
   "id": "743a7617-2776-4dad-8209-243e550bd9c4",
   "metadata": {},
   "outputs": [],
   "source": [
    "clred_df = clred_df[~clred_df['stem'].isin(temp['stem'])]\n",
    "len(temp)/len(bboxes_all_df), len(clred_df), len(bboxes_all_df)"
   ]
  },
  {
   "cell_type": "code",
   "execution_count": null,
   "id": "5e95eda2-7e75-4d89-98df-ecde48a01814",
   "metadata": {},
   "outputs": [],
   "source": []
  },
  {
   "cell_type": "code",
   "execution_count": null,
   "id": "0099fc90-bdda-4f07-89f8-e421bbc06fef",
   "metadata": {},
   "outputs": [],
   "source": []
  },
  {
   "cell_type": "markdown",
   "id": "43935d54-2bc5-44a7-8581-96d6dacb82b2",
   "metadata": {
    "jp-MarkdownHeadingCollapsed": true,
    "tags": []
   },
   "source": [
    "#### 去除置信度太小的"
   ]
  },
  {
   "cell_type": "code",
   "execution_count": null,
   "id": "97cc9c60-50bd-4215-99fc-8142f03de518",
   "metadata": {},
   "outputs": [],
   "source": [
    "clred_df['conf_show'] = clred_df['conf'].apply(lambda x: round(x*10))"
   ]
  },
  {
   "cell_type": "code",
   "execution_count": null,
   "id": "af13531b-208e-4a5a-9c6e-809ca0f90602",
   "metadata": {},
   "outputs": [],
   "source": [
    "clred_df.value_counts('conf_show').sort_index()"
   ]
  },
  {
   "cell_type": "code",
   "execution_count": null,
   "id": "ab12b337-25eb-4560-abe0-70e3e5e32e0f",
   "metadata": {},
   "outputs": [],
   "source": [
    "thres = 0.5\n",
    "clred_df =  clred_df[(clred_df['conf']>=thres)]\n",
    "len(clred_df)"
   ]
  },
  {
   "cell_type": "code",
   "execution_count": null,
   "id": "09fa14d6-1330-4346-9c4a-0e9c09de4d58",
   "metadata": {},
   "outputs": [],
   "source": [
    "clred_df.drop(columns='conf_show', inplace=True)"
   ]
  },
  {
   "cell_type": "code",
   "execution_count": null,
   "id": "3fe6422b-3bc6-4204-bf4b-8c317f04883c",
   "metadata": {},
   "outputs": [],
   "source": []
  },
  {
   "cell_type": "code",
   "execution_count": null,
   "id": "1476b8a1-d449-465e-829b-02a1fcbec412",
   "metadata": {},
   "outputs": [],
   "source": []
  },
  {
   "cell_type": "markdown",
   "id": "81f5112e-2359-4f3c-89d5-2be84ee740f9",
   "metadata": {
    "jp-MarkdownHeadingCollapsed": true,
    "tags": []
   },
   "source": [
    "#### 去掉图片目标太多的"
   ]
  },
  {
   "cell_type": "code",
   "execution_count": null,
   "id": "478430e7-a1b1-4966-9024-f2ee7c60061d",
   "metadata": {},
   "outputs": [],
   "source": [
    "thres = 7\n",
    "temp = clred_df[clred_df['crop_id']>7]\n",
    "len(temp)"
   ]
  },
  {
   "cell_type": "code",
   "execution_count": null,
   "id": "e5122662-a957-4989-a9b4-792330bba416",
   "metadata": {},
   "outputs": [],
   "source": [
    "clred_df = clred_df[~clred_df['stem'].isin(temp['stem'])]\n",
    "len(temp)/len(bboxes_all_df), len(clred_df), len(bboxes_all_df)"
   ]
  },
  {
   "cell_type": "code",
   "execution_count": null,
   "id": "e22163fb-6807-4114-af92-39fdbf57200e",
   "metadata": {},
   "outputs": [],
   "source": []
  },
  {
   "cell_type": "markdown",
   "id": "02bc30f1-0c5c-4cf8-96b3-ebae2bf48be3",
   "metadata": {
    "jp-MarkdownHeadingCollapsed": true,
    "tags": []
   },
   "source": [
    "### 3.bbox整体处理"
   ]
  },
  {
   "cell_type": "code",
   "execution_count": null,
   "id": "ec56c533-60c8-43af-b862-c4a71851704d",
   "metadata": {},
   "outputs": [],
   "source": [
    "# bboxes_all_df = clred_df"
   ]
  },
  {
   "cell_type": "markdown",
   "id": "b28d0263-a000-441d-a34d-6f5644b5ca62",
   "metadata": {
    "jp-MarkdownHeadingCollapsed": true,
    "tags": []
   },
   "source": [
    "#### 目标太小"
   ]
  },
  {
   "cell_type": "code",
   "execution_count": null,
   "id": "df98e7ee-d73c-4e02-9238-e9fd76c681c8",
   "metadata": {
    "tags": []
   },
   "outputs": [],
   "source": [
    "thres = 20\n",
    "clred_df = clred_df[(clred_df['bx_w']>thres) & (clred_df['bx_h']>thres)]"
   ]
  },
  {
   "cell_type": "code",
   "execution_count": null,
   "id": "6e2f8c12-d298-4330-85cb-9d7c612a421c",
   "metadata": {},
   "outputs": [],
   "source": [
    "len(bboxes_all_df), len(clred_df), len(clred_df)/len(bboxes_all_df)"
   ]
  },
  {
   "cell_type": "code",
   "execution_count": null,
   "id": "73df74e5-13cb-4107-8738-6850e5d40afe",
   "metadata": {},
   "outputs": [],
   "source": []
  },
  {
   "cell_type": "code",
   "execution_count": null,
   "id": "f5e7bf7e-8e40-4667-b61f-659e72bedae5",
   "metadata": {},
   "outputs": [],
   "source": []
  },
  {
   "cell_type": "markdown",
   "id": "91c5babe-8470-4741-a9d4-7197436e09a4",
   "metadata": {
    "jp-MarkdownHeadingCollapsed": true,
    "tags": []
   },
   "source": [
    "#### bbox h/w"
   ]
  },
  {
   "cell_type": "code",
   "execution_count": null,
   "id": "ddc570a5-d921-4835-b59e-1f972502e5f2",
   "metadata": {},
   "outputs": [],
   "source": [
    "thres = 10\n",
    "temp = clred_df[(clred_df['h/w']>thres) | (clred_df['h/w']<1/thres)]\n",
    "len(temp)"
   ]
  },
  {
   "cell_type": "code",
   "execution_count": null,
   "id": "57321b28-4e45-41f9-8935-cc7abc11b748",
   "metadata": {},
   "outputs": [],
   "source": [
    "clred_df = clred_df[~clred_df['stem_crop'].isin(temp['stem_crop'])]\n",
    "len(temp)/len(bboxes_all_df), len(clred_df)/len(bboxes_all_df),  len(bboxes_all_df)"
   ]
  },
  {
   "cell_type": "code",
   "execution_count": null,
   "id": "cdb0c7f4-f978-44e7-a843-fe29fc06a298",
   "metadata": {},
   "outputs": [],
   "source": []
  },
  {
   "cell_type": "code",
   "execution_count": null,
   "id": "a18a55f7-3e2a-4134-a137-5cb278e78080",
   "metadata": {},
   "outputs": [],
   "source": []
  },
  {
   "cell_type": "markdown",
   "id": "9441aca6-93e0-41fc-ae98-39f4e6ddcbd8",
   "metadata": {
    "tags": []
   },
   "source": [
    "### 4.类别单独处理"
   ]
  },
  {
   "cell_type": "code",
   "execution_count": null,
   "id": "21406ce6-5099-4363-b24d-fa3f7af656b1",
   "metadata": {},
   "outputs": [],
   "source": []
  },
  {
   "cell_type": "markdown",
   "id": "d6618b90-c9f5-4922-abf6-055adac2b4b8",
   "metadata": {
    "jp-MarkdownHeadingCollapsed": true,
    "tags": []
   },
   "source": [
    "#### 4.0 Shoe"
   ]
  },
  {
   "cell_type": "code",
   "execution_count": null,
   "id": "4e1d56be-1fb6-48ac-8412-c5b3b9734d05",
   "metadata": {},
   "outputs": [],
   "source": [
    "# clred_df = bboxes_all_df\n",
    "cls_check = 0"
   ]
  },
  {
   "cell_type": "markdown",
   "id": "19809b17-a0ee-43b1-9fba-87e329d42ffe",
   "metadata": {},
   "source": [
    "##### confidence"
   ]
  },
  {
   "cell_type": "code",
   "execution_count": null,
   "id": "8aedcd60-cad5-496e-ac76-377c7d299f80",
   "metadata": {},
   "outputs": [],
   "source": [
    "thres = 0.7\n",
    "temp = clred_df[(clred_df['conf']<thres)\n",
    "               & (clred_df['label_pred']==cls_check)]\n",
    "len(temp),len(clred_df[clred_df['label_pred']==cls_check])"
   ]
  },
  {
   "cell_type": "code",
   "execution_count": null,
   "id": "d1c09e04-149d-4349-b875-316925f96fb7",
   "metadata": {},
   "outputs": [],
   "source": [
    "clred_df = clred_df[~clred_df['stem_crop'].isin(temp['stem_crop'])]\n",
    "len(temp)/len(bboxes_all_df), len(clred_df)/len(bboxes_all_df),  len(bboxes_all_df)"
   ]
  },
  {
   "cell_type": "code",
   "execution_count": null,
   "id": "3e740784-63c4-41be-818c-ce649e50d181",
   "metadata": {},
   "outputs": [],
   "source": []
  },
  {
   "cell_type": "markdown",
   "id": "96c1c1f4-a647-439d-b9cd-b43040b1e447",
   "metadata": {
    "jp-MarkdownHeadingCollapsed": true,
    "tags": []
   },
   "source": [
    "##### 类别bbox太小"
   ]
  },
  {
   "cell_type": "code",
   "execution_count": null,
   "id": "a4190e4b-4cc6-4ca4-abb3-563e16d6e694",
   "metadata": {},
   "outputs": [],
   "source": [
    "thres = 20\n",
    "temp = clred_df[(clred_df['bx_h']<thres) | (clred_df['bx_w']<thres) \n",
    "             & (clred_df['label_pred']==cls_check)]\n",
    "len(temp)"
   ]
  },
  {
   "cell_type": "code",
   "execution_count": null,
   "id": "5f307d45-af21-4076-81de-fae35aa837fc",
   "metadata": {},
   "outputs": [],
   "source": [
    "clred_df = clred_df[~clred_df['stem_crop'].isin(temp['stem_crop'])]\n",
    "len(temp)/len(bboxes_all_df), len(clred_df)/len(bboxes_all_df),  len(bboxes_all_df)"
   ]
  },
  {
   "cell_type": "code",
   "execution_count": null,
   "id": "87bc6929-8997-4e7a-a5bd-06fe88e1d977",
   "metadata": {},
   "outputs": [],
   "source": []
  },
  {
   "cell_type": "code",
   "execution_count": null,
   "id": "5888adae-75c2-40dc-a1dd-a3b42f1a79c6",
   "metadata": {},
   "outputs": [],
   "source": [
    "# bbox相对值大小\n",
    "w_thres = 0.02\n",
    "h_thres = 0.025\n",
    "temp = clred_df[(clred_df['bx3']<w_thres) | (clred_df['bx4']<h_thres) \n",
    "             & (clred_df['label_pred']==cls_check)]\n",
    "len(temp)"
   ]
  },
  {
   "cell_type": "code",
   "execution_count": null,
   "id": "565ec472-cf66-48b3-b3bb-971275c576e3",
   "metadata": {},
   "outputs": [],
   "source": [
    "clred_df = clred_df[~clred_df['stem_crop'].isin(temp['stem_crop'])]\n",
    "len(temp)/len(bboxes_all_df), len(clred_df)/len(bboxes_all_df),  len(bboxes_all_df)"
   ]
  },
  {
   "cell_type": "code",
   "execution_count": null,
   "id": "962a1405-e095-4084-a31a-75f2ebd60513",
   "metadata": {},
   "outputs": [],
   "source": []
  },
  {
   "cell_type": "markdown",
   "id": "588ead17-8d7e-4a3f-bb0a-a026e31ceccd",
   "metadata": {
    "jp-MarkdownHeadingCollapsed": true,
    "tags": []
   },
   "source": [
    "##### 长宽比"
   ]
  },
  {
   "cell_type": "code",
   "execution_count": null,
   "id": "7e5cd83e-5a9c-400b-b523-a153c8c31663",
   "metadata": {},
   "outputs": [],
   "source": [
    "# thres_max = 7\n",
    "# thres_min = 0.25\n",
    "# temp = clred_df[((clred_df['h/w']>thres_max) | (clred_df['h/w']<thres_min ))\n",
    "#              & (clred_df['label_pred']==cls_check)]\n",
    "# len(temp)"
   ]
  },
  {
   "cell_type": "code",
   "execution_count": null,
   "id": "e3af7497-a5c9-4fa0-8c21-f181f11d3c97",
   "metadata": {},
   "outputs": [],
   "source": [
    "# clred_df = clred_df[~clred_df['stem_crop'].isin(temp['stem_crop'])]\n",
    "# len(temp)/len(bboxes_all_df), len(clred_df)/len(bboxes_all_df),  len(bboxes_all_df)"
   ]
  },
  {
   "cell_type": "code",
   "execution_count": null,
   "id": "138fdc62-bf11-4b71-964e-516fcde2c41d",
   "metadata": {},
   "outputs": [],
   "source": []
  },
  {
   "cell_type": "markdown",
   "id": "f3ef0875-4304-4c30-b711-e950cdceb84b",
   "metadata": {
    "jp-MarkdownHeadingCollapsed": true,
    "tags": []
   },
   "source": [
    "##### 鞋子的位置"
   ]
  },
  {
   "cell_type": "code",
   "execution_count": null,
   "id": "412c7adb-122f-4539-8fe6-74f62b72acd0",
   "metadata": {},
   "outputs": [],
   "source": [
    "h_max_thres = 0.98\n",
    "h_min_thres = 0.55\n",
    "w_max_thres = 0.95\n",
    "w_min_thres = 0.05\n",
    "\n",
    "temp = clred_df[((clred_df['bx1']>w_max_thres) | \n",
    "                (clred_df['bx1']<w_min_thres) |\n",
    "                (clred_df['bx2']>h_max_thres) | \n",
    "                (clred_df['bx2']<h_min_thres) )\n",
    "             & (clred_df['label_pred']==cls_check)]\n",
    "len(temp)"
   ]
  },
  {
   "cell_type": "code",
   "execution_count": null,
   "id": "d5113411-bd66-473d-90c9-0d39f302f52b",
   "metadata": {},
   "outputs": [],
   "source": [
    "clred_df = clred_df[~clred_df['stem_crop'].isin(temp['stem_crop'])]\n",
    "len(temp)/len(bboxes_all_df), len(clred_df)/len(bboxes_all_df),  len(bboxes_all_df)"
   ]
  },
  {
   "cell_type": "code",
   "execution_count": null,
   "id": "790ece2d-3c59-4b21-94bd-46f98b2d2916",
   "metadata": {},
   "outputs": [],
   "source": []
  },
  {
   "cell_type": "markdown",
   "id": "c7dc9ecb-3381-4aeb-8713-dff202e5f687",
   "metadata": {
    "jp-MarkdownHeadingCollapsed": true,
    "tags": []
   },
   "source": [
    "##### 只要一双鞋"
   ]
  },
  {
   "cell_type": "code",
   "execution_count": null,
   "id": "4cd22f51-b2e8-4ca4-8e57-19c68c98f05a",
   "metadata": {},
   "outputs": [],
   "source": [
    "# 该版本暂时不管鞋子"
   ]
  },
  {
   "cell_type": "code",
   "execution_count": null,
   "id": "0855e0d7-90a2-4cf9-8871-894715b250d9",
   "metadata": {},
   "outputs": [],
   "source": [
    "clred_df.head(1)"
   ]
  },
  {
   "cell_type": "code",
   "execution_count": null,
   "id": "4bcd4318-66a4-4886-9fb5-11fd4e72ccdb",
   "metadata": {},
   "outputs": [],
   "source": [
    "# temp = clred_df[(clred_df['crop_id']>=2)  & \n",
    "#                 (clred_df['label_pred']==cls_check)]\n",
    "# len(temp)"
   ]
  },
  {
   "cell_type": "code",
   "execution_count": null,
   "id": "fff6a8f0-0156-4ebe-b79a-604c0797b7de",
   "metadata": {},
   "outputs": [],
   "source": [
    "# temp1 = clred_df[clred_df['stem'].isin(temp['stem'])]\n",
    "# len(temp1)"
   ]
  },
  {
   "cell_type": "code",
   "execution_count": null,
   "id": "a27968e3-4e63-4fdf-8ad9-296bed7c9b76",
   "metadata": {},
   "outputs": [],
   "source": []
  },
  {
   "cell_type": "code",
   "execution_count": null,
   "id": "fedd1e0f-cacb-4727-aed2-477a6cb3d8ec",
   "metadata": {},
   "outputs": [],
   "source": [
    "temp1.sort_values(['stem', 'conf'], inplace=True)"
   ]
  },
  {
   "cell_type": "code",
   "execution_count": null,
   "id": "a92faae8-2b01-4014-9d10-f565ae67f8b8",
   "metadata": {},
   "outputs": [],
   "source": [
    "temp.head(10)"
   ]
  },
  {
   "cell_type": "code",
   "execution_count": null,
   "id": "56f37634-3537-4c2b-9910-956d67d5813d",
   "metadata": {},
   "outputs": [],
   "source": []
  },
  {
   "cell_type": "markdown",
   "id": "392d542d-29d4-47d6-9699-691cc591ac41",
   "metadata": {
    "jp-MarkdownHeadingCollapsed": true,
    "tags": []
   },
   "source": [
    "##### csv保存"
   ]
  },
  {
   "cell_type": "code",
   "execution_count": null,
   "id": "fdc0b412-eab1-4fa2-b04c-99160cc8099a",
   "metadata": {},
   "outputs": [],
   "source": [
    "clred_df.to_csv('./data_temp/bboxes_clred_shoe.csv', index=False)"
   ]
  },
  {
   "cell_type": "code",
   "execution_count": null,
   "id": "7ef0f6f9-4900-46a2-887e-4f5e3233159a",
   "metadata": {},
   "outputs": [],
   "source": []
  },
  {
   "cell_type": "code",
   "execution_count": null,
   "id": "7e8c6ef8-a9f1-421e-b81f-0d942afd86d7",
   "metadata": {},
   "outputs": [],
   "source": []
  },
  {
   "cell_type": "markdown",
   "id": "def90369-9650-4724-a6c1-2c10751713c4",
   "metadata": {
    "jp-MarkdownHeadingCollapsed": true,
    "tags": []
   },
   "source": [
    "#### 4.1 bag"
   ]
  },
  {
   "cell_type": "code",
   "execution_count": null,
   "id": "68cc39e8-4540-4a8e-bfd5-690508d91f3b",
   "metadata": {},
   "outputs": [],
   "source": [
    "# clred_df = pd.read_csv('./data_temp/bboxes_clred_bag.csv')"
   ]
  },
  {
   "cell_type": "code",
   "execution_count": null,
   "id": "c87d2510-b36d-4ff9-8c91-187a22c75771",
   "metadata": {},
   "outputs": [],
   "source": [
    "# bboxes_all_df = clred_df"
   ]
  },
  {
   "cell_type": "code",
   "execution_count": null,
   "id": "f60087f4-c13f-4949-a578-78a250d4528c",
   "metadata": {},
   "outputs": [],
   "source": [
    "cls_check = 1"
   ]
  },
  {
   "cell_type": "code",
   "execution_count": null,
   "id": "43ea22dd-f12d-4c34-9c4a-b42e96c017e8",
   "metadata": {},
   "outputs": [],
   "source": []
  },
  {
   "cell_type": "markdown",
   "id": "bf526ecf-2942-48b8-8f22-0cdb2fb560d8",
   "metadata": {
    "jp-MarkdownHeadingCollapsed": true,
    "tags": []
   },
   "source": [
    "##### confidence"
   ]
  },
  {
   "cell_type": "code",
   "execution_count": null,
   "id": "0a21ba90-1be0-4c08-a20d-239d9c61e0d6",
   "metadata": {},
   "outputs": [],
   "source": [
    "thres = 0.68\n",
    "temp = clred_df[(clred_df['conf']<thres)\n",
    "               & (clred_df['label_pred']==cls_check)]\n",
    "len(temp),len(clred_df[clred_df['label_pred']==cls_check])"
   ]
  },
  {
   "cell_type": "code",
   "execution_count": null,
   "id": "fb15481b-8c45-469b-99a8-f99b9199efe3",
   "metadata": {},
   "outputs": [],
   "source": [
    "clred_df = clred_df[~clred_df['stem_crop'].isin(temp['stem_crop'])]\n",
    "len(temp)/len(bboxes_all_df), len(clred_df)/len(bboxes_all_df),  len(bboxes_all_df)"
   ]
  },
  {
   "cell_type": "code",
   "execution_count": null,
   "id": "162b80f1-7bbf-4cfa-a1c8-2f6a3ab46a0e",
   "metadata": {},
   "outputs": [],
   "source": []
  },
  {
   "cell_type": "markdown",
   "id": "b940c43c-c947-4935-9471-421f9bf95133",
   "metadata": {
    "jp-MarkdownHeadingCollapsed": true,
    "tags": []
   },
   "source": [
    "##### 类别bbox太小"
   ]
  },
  {
   "cell_type": "code",
   "execution_count": null,
   "id": "e400d315-ba4b-4681-9f5d-e61bfbbb29b1",
   "metadata": {},
   "outputs": [],
   "source": [
    "#  bbox绝对值大小\n",
    "thres = 20\n",
    "temp = clred_df[(clred_df['bx_h']<thres) | (clred_df['bx_w']<thres) \n",
    "             & (clred_df['label_pred']==cls_check)]\n",
    "len(temp)"
   ]
  },
  {
   "cell_type": "code",
   "execution_count": null,
   "id": "9704dd1a-b1c0-4504-b01d-7c6ecba922d1",
   "metadata": {},
   "outputs": [],
   "source": [
    "clred_df = clred_df[~clred_df['stem_crop'].isin(temp['stem_crop'])]\n",
    "len(temp)/len(bboxes_all_df), len(clred_df)/len(bboxes_all_df),  len(bboxes_all_df)"
   ]
  },
  {
   "cell_type": "code",
   "execution_count": null,
   "id": "cd9ce0b9-d91c-47d5-a8c3-2b65902f995f",
   "metadata": {},
   "outputs": [],
   "source": []
  },
  {
   "cell_type": "code",
   "execution_count": null,
   "id": "5e9c5034-2896-4c42-98d6-61e218a27929",
   "metadata": {},
   "outputs": [],
   "source": [
    "# bbox相对值大小\n",
    "thres_h = 0.075\n",
    "thres_w = 0.05\n",
    "temp = clred_df[(clred_df['bx3']<thres_h) & (clred_df['bx4']<thres_w )\n",
    "             & (clred_df['label_pred']==cls_check)]\n",
    "len(temp)"
   ]
  },
  {
   "cell_type": "code",
   "execution_count": null,
   "id": "a280fff5-758b-4af4-ad1c-47e0391bbd64",
   "metadata": {},
   "outputs": [],
   "source": [
    "clred_df = clred_df[~clred_df['stem_crop'].isin(temp['stem_crop'])]\n",
    "len(temp)/len(bboxes_all_df), len(clred_df)/len(bboxes_all_df)"
   ]
  },
  {
   "cell_type": "code",
   "execution_count": null,
   "id": "e1f8ef87-936f-44e8-acab-a0385841fcf9",
   "metadata": {},
   "outputs": [],
   "source": []
  },
  {
   "cell_type": "markdown",
   "id": "34d8613a-a68a-4e6c-a322-6a55d78816c4",
   "metadata": {
    "jp-MarkdownHeadingCollapsed": true,
    "tags": []
   },
   "source": [
    "##### 长宽比"
   ]
  },
  {
   "cell_type": "code",
   "execution_count": null,
   "id": "a7f2dcd1-28d1-4f2f-991f-522940b1e3c4",
   "metadata": {},
   "outputs": [],
   "source": [
    "thres_max = 7\n",
    "thres_min = 1/2.5\n",
    "temp = clred_df[((clred_df['h/w']>thres_max) | (clred_df['h/w']<thres_min ))\n",
    "             & (clred_df['label_pred']==cls_check)]\n",
    "len(temp)"
   ]
  },
  {
   "cell_type": "code",
   "execution_count": null,
   "id": "6730af10-3731-4990-a0f9-746e9498459b",
   "metadata": {},
   "outputs": [],
   "source": [
    "clred_df = clred_df[~clred_df['stem_crop'].isin(temp['stem_crop'])]\n",
    "len(temp)/len(bboxes_all_df), len(clred_df)/len(bboxes_all_df)"
   ]
  },
  {
   "cell_type": "code",
   "execution_count": null,
   "id": "70c100cb-52c6-484b-9fb4-a6259e0bfbb3",
   "metadata": {},
   "outputs": [],
   "source": []
  },
  {
   "cell_type": "code",
   "execution_count": null,
   "id": "d529f0db-25cd-472e-a7f9-6578b574100c",
   "metadata": {},
   "outputs": [],
   "source": []
  },
  {
   "cell_type": "markdown",
   "id": "e3d4a847-7db5-4263-869f-a5b5c86801ea",
   "metadata": {
    "jp-MarkdownHeadingCollapsed": true,
    "tags": []
   },
   "source": [
    "##### 位置"
   ]
  },
  {
   "cell_type": "code",
   "execution_count": null,
   "id": "52e5a410-bfbf-4e53-9e6a-5838c3723901",
   "metadata": {},
   "outputs": [],
   "source": [
    "h_max_thres = 0.925\n",
    "h_min_thres = 0.25\n",
    "w_max_thres = 0.95\n",
    "w_min_thres = 0.05\n",
    "\n",
    "temp = clred_df[((clred_df['bx1']>w_max_thres) | \n",
    "                (clred_df['bx1']<w_min_thres) |\n",
    "                (clred_df['bx2']>h_max_thres) | \n",
    "                (clred_df['bx2']<h_min_thres) )\n",
    "             & (clred_df['label_pred']==cls_check)]\n",
    "len(temp)"
   ]
  },
  {
   "cell_type": "code",
   "execution_count": null,
   "id": "a1393bd5-a025-449a-b895-f40ee88fc276",
   "metadata": {},
   "outputs": [],
   "source": [
    "clred_df = clred_df[~clred_df['stem_crop'].isin(temp['stem_crop'])]\n",
    "len(temp)/len(bboxes_all_df), len(clred_df)/len(bboxes_all_df)"
   ]
  },
  {
   "cell_type": "code",
   "execution_count": null,
   "id": "30b27c29-e844-445f-b78b-5481e0ccd640",
   "metadata": {},
   "outputs": [],
   "source": []
  },
  {
   "cell_type": "code",
   "execution_count": null,
   "id": "5c01b6b8-f651-4d9f-bd11-266823f497e8",
   "metadata": {},
   "outputs": [],
   "source": []
  },
  {
   "cell_type": "markdown",
   "id": "58364ea7-cc0b-4bf4-9d49-b9f46ad71826",
   "metadata": {
    "tags": []
   },
   "source": [
    "##### 只能有一个bag"
   ]
  },
  {
   "cell_type": "code",
   "execution_count": null,
   "id": "0da6bbff-ea84-43f0-a3d3-f62c8744e76c",
   "metadata": {},
   "outputs": [],
   "source": [
    "clred_bag_df = clred_df[clred_df['label_pred']==cls_check]"
   ]
  },
  {
   "cell_type": "code",
   "execution_count": null,
   "id": "c6e54824-e925-4abb-a706-23c8b53ee7c3",
   "metadata": {},
   "outputs": [],
   "source": [
    "# clred_bag_df.sort_values(['len', 'stem'], ascending=False, inplace=True)"
   ]
  },
  {
   "cell_type": "code",
   "execution_count": null,
   "id": "128d35ae-7820-4a03-852e-82ef71d26d2d",
   "metadata": {},
   "outputs": [],
   "source": [
    "bag_gp = dict(list(clred_bag_df.groupby('stem')))"
   ]
  },
  {
   "cell_type": "code",
   "execution_count": null,
   "id": "e17b957f-7883-4f67-9fb5-3234ea32c1b0",
   "metadata": {},
   "outputs": [],
   "source": [
    "%%time\n",
    "stem_crop_list = []\n",
    "for stem, v in tqdm(bag_gp.items()):\n",
    "    if len(v)>=2:\n",
    "        v.sort_values('conf', ascending=False, inplace=True)\n",
    "        item = v.drop_duplicates('stem', keep='first')\n",
    "    else:\n",
    "        item = v\n",
    "    stem_crop_list.append(item['stem_crop'].values[0])\n",
    "    # break"
   ]
  },
  {
   "cell_type": "code",
   "execution_count": null,
   "id": "9b63659b-20f9-4ee8-8be3-4aa61e8a06aa",
   "metadata": {},
   "outputs": [],
   "source": []
  },
  {
   "cell_type": "code",
   "execution_count": null,
   "id": "5b1de90b-322b-4e9f-88e7-be9fa40e19c7",
   "metadata": {},
   "outputs": [],
   "source": [
    "temp = clred_bag_df[~clred_bag_df['stem_crop'].isin(stem_crop_list)]\n",
    "len(temp)"
   ]
  },
  {
   "cell_type": "code",
   "execution_count": null,
   "id": "25b7af07-a1f8-44a2-8256-2ead6f894eb6",
   "metadata": {},
   "outputs": [],
   "source": [
    "clred_df = clred_df[~clred_df['stem_crop'].isin(temp['stem_crop'])]\n",
    "len(temp)/len(bboxes_all_df), len(clred_df)/len(bboxes_all_df)"
   ]
  },
  {
   "cell_type": "code",
   "execution_count": null,
   "id": "8d060ecc-d443-489d-a1a7-ed6a2b0916d8",
   "metadata": {},
   "outputs": [],
   "source": []
  },
  {
   "cell_type": "markdown",
   "id": "028e5ad3-67e8-4dd6-86ce-663463d8636a",
   "metadata": {
    "tags": []
   },
   "source": [
    "##### bag csv save"
   ]
  },
  {
   "cell_type": "code",
   "execution_count": null,
   "id": "faacee94-e5bf-4918-aaf5-dd0f350fb443",
   "metadata": {},
   "outputs": [],
   "source": [
    "clred_df.to_csv('./data_temp/bboxes_clred_bag.csv', index=False)"
   ]
  },
  {
   "cell_type": "code",
   "execution_count": null,
   "id": "6d138c00-bd6d-473a-9187-ced70b06f8fe",
   "metadata": {},
   "outputs": [],
   "source": []
  },
  {
   "cell_type": "markdown",
   "id": "7806fdab-607b-4e2e-ab97-7f110d3a33ad",
   "metadata": {
    "jp-MarkdownHeadingCollapsed": true,
    "tags": []
   },
   "source": [
    "#### 4.2 upperbody"
   ]
  },
  {
   "cell_type": "code",
   "execution_count": null,
   "id": "c2c0ef92-430a-4702-994b-d054fc920360",
   "metadata": {},
   "outputs": [],
   "source": [
    "# clred_df = pd.read_csv('./data_temp/bboxes_clred_bag.csv')\n",
    "clred_df.to_csv('./data_temp/bboxes_clred_temp1.csv', index=False)"
   ]
  },
  {
   "cell_type": "code",
   "execution_count": null,
   "id": "5f56e505-717f-4ac1-817c-63aad99841d8",
   "metadata": {},
   "outputs": [],
   "source": [
    "cls_check = 2"
   ]
  },
  {
   "cell_type": "code",
   "execution_count": null,
   "id": "24f89130-bb67-43ec-a811-c580a0fa6f24",
   "metadata": {},
   "outputs": [],
   "source": []
  },
  {
   "cell_type": "markdown",
   "id": "62fe8a0d-617b-4eb6-9bfb-ad968f53f8b2",
   "metadata": {},
   "source": [
    "##### confidence"
   ]
  },
  {
   "cell_type": "code",
   "execution_count": null,
   "id": "95676945-c4e8-4b39-b149-27ab3d71315a",
   "metadata": {},
   "outputs": [],
   "source": [
    "thres = 0.75\n",
    "temp = clred_df[(clred_df['conf']<thres)\n",
    "               & (clred_df['label_pred']==cls_check)]\n",
    "len(temp),len(clred_df[clred_df['label_pred']==cls_check])"
   ]
  },
  {
   "cell_type": "code",
   "execution_count": null,
   "id": "8d222468-01b6-4dd3-bb1f-f9601b378cf0",
   "metadata": {},
   "outputs": [],
   "source": [
    "clred_df = clred_df[~clred_df['stem_crop'].isin(temp['stem_crop'])]\n",
    "len(temp)/len(bboxes_all_df), len(clred_df)/len(bboxes_all_df),  len(bboxes_all_df)"
   ]
  },
  {
   "cell_type": "code",
   "execution_count": null,
   "id": "067d9abb-bd78-4e1e-b6d9-b0f34bb03bcd",
   "metadata": {},
   "outputs": [],
   "source": []
  },
  {
   "cell_type": "markdown",
   "id": "4b82a62b-9ffe-4cc9-a4a3-db0c435db8ac",
   "metadata": {
    "tags": []
   },
   "source": [
    "##### bbox大小"
   ]
  },
  {
   "cell_type": "code",
   "execution_count": null,
   "id": "c2fdd19d-abe1-497d-957d-5a7decd216da",
   "metadata": {},
   "outputs": [],
   "source": [
    "#  bbox绝对值大小 or\n",
    "thres_h = 40\n",
    "thres_w = 40\n",
    "temp = upperbody_df[(upperbody_df['bx_h']<thres_h) | (upperbody_df['bx_w']<thres_w)]\n",
    "len(temp)"
   ]
  },
  {
   "cell_type": "code",
   "execution_count": null,
   "id": "43e20fe6-61ef-4349-b16e-95aac714b647",
   "metadata": {},
   "outputs": [],
   "source": [
    "clred_df = clred_df[~clred_df['stem_crop'].isin(temp['stem_crop'])]\n",
    "len(temp)/len(bboxes_all_df), len(clred_df)/len(bboxes_all_df),  len(bboxes_all_df)"
   ]
  },
  {
   "cell_type": "code",
   "execution_count": null,
   "id": "c86cec80-a2bb-407f-b4ac-0201ccaaa982",
   "metadata": {},
   "outputs": [],
   "source": [
    "#  bbox绝对值大小 and\n",
    "thres_w = 50\n",
    "thres_h = 65\n",
    "temp = upperbody_df[(upperbody_df['bx_h']<thres_h) & (upperbody_df['bx_w']<thres_w)]\n",
    "len(temp)"
   ]
  },
  {
   "cell_type": "code",
   "execution_count": null,
   "id": "cbedec56-49f6-4ec2-b5db-b10b18a840e7",
   "metadata": {},
   "outputs": [],
   "source": [
    "clred_df = clred_df[~clred_df['stem_crop'].isin(temp['stem_crop'])]\n",
    "len(temp)/len(bboxes_all_df), len(clred_df)/len(bboxes_all_df),  len(bboxes_all_df)"
   ]
  },
  {
   "cell_type": "code",
   "execution_count": null,
   "id": "7b74ba97-da56-4d32-8437-08d655265956",
   "metadata": {},
   "outputs": [],
   "source": []
  },
  {
   "cell_type": "code",
   "execution_count": null,
   "id": "3227d067-bc84-4def-a610-2e9d576dbdc3",
   "metadata": {},
   "outputs": [],
   "source": [
    "# bbox相对值大小\n",
    "w_thres = 0.1\n",
    "h_thres = 0.07\n",
    "temp = upperbody_df[(upperbody_df['bx3']<w_thres) | (upperbody_df['bx4']<h_thres)]\n",
    "len(temp)"
   ]
  },
  {
   "cell_type": "code",
   "execution_count": null,
   "id": "0124e2a1-16ee-4006-b82b-e4f33c14da5e",
   "metadata": {},
   "outputs": [],
   "source": [
    "clred_df = clred_df[~clred_df['stem_crop'].isin(temp['stem_crop'])]\n",
    "len(temp)/len(bboxes_all_df), len(clred_df)/len(bboxes_all_df),  len(bboxes_all_df)"
   ]
  },
  {
   "cell_type": "code",
   "execution_count": null,
   "id": "0e63d1f0-6e1c-4c11-b3c5-89c82be7c317",
   "metadata": {},
   "outputs": [],
   "source": [
    "# bbox相对值大小\n",
    "w_thres = 0.1\n",
    "h_thres = 0.07\n",
    "temp = upperbody_df[(upperbody_df['bx3']<w_thres) & (upperbody_df['bx4']<h_thres)]\n",
    "len(temp)"
   ]
  },
  {
   "cell_type": "code",
   "execution_count": null,
   "id": "d0ecace0-dc50-468f-a9d0-1b94ca0cc934",
   "metadata": {},
   "outputs": [],
   "source": []
  },
  {
   "cell_type": "code",
   "execution_count": null,
   "id": "537ca740-14d1-465b-a98e-81af62491823",
   "metadata": {},
   "outputs": [],
   "source": [
    "clred_df = clred_df[~clred_df['stem_crop'].isin(temp['stem_crop'])]\n",
    "len(temp)/len(bboxes_all_df), len(clred_df)/len(bboxes_all_df),  len(bboxes_all_df)"
   ]
  },
  {
   "cell_type": "code",
   "execution_count": null,
   "id": "469d04de-8d86-4ff9-aced-d4f57976f010",
   "metadata": {},
   "outputs": [],
   "source": []
  },
  {
   "cell_type": "markdown",
   "id": "87736135-0c58-4492-9b92-c9ece4a8dd9e",
   "metadata": {
    "tags": []
   },
   "source": [
    "##### 长宽比"
   ]
  },
  {
   "cell_type": "code",
   "execution_count": null,
   "id": "a365d1de-6b10-4547-b6ed-923dd134fdc1",
   "metadata": {},
   "outputs": [],
   "source": [
    "thres_max = 3\n",
    "thres_min = 0.25\n",
    "temp = clred_df[((clred_df['h/w']>thres_max) | (clred_df['h/w']<thres_min )) \n",
    "                # & (clred_df['bx_h']>500) \n",
    "                # & (clred_df['bx_w']<50 )\n",
    "             & (clred_df['label_pred']==cls_check)]\n",
    "len(temp)"
   ]
  },
  {
   "cell_type": "code",
   "execution_count": null,
   "id": "3b63c3b1-48c0-4454-9547-a7e2b6e62e27",
   "metadata": {},
   "outputs": [],
   "source": [
    "clred_df = clred_df[~clred_df['stem_crop'].isin(temp['stem_crop'])]\n",
    "len(temp)/len(bboxes_all_df), len(clred_df)/len(bboxes_all_df),  len(bboxes_all_df)"
   ]
  },
  {
   "cell_type": "code",
   "execution_count": null,
   "id": "b35b19b1-ac6b-441a-836e-36520791eb4e",
   "metadata": {},
   "outputs": [],
   "source": []
  },
  {
   "cell_type": "markdown",
   "id": "f62cc87a-cdbf-43f3-8c24-43662b7ce400",
   "metadata": {
    "tags": []
   },
   "source": [
    "##### 位置"
   ]
  },
  {
   "cell_type": "code",
   "execution_count": null,
   "id": "ce6b6525-6e58-4aa0-b791-a27379f1ec05",
   "metadata": {},
   "outputs": [],
   "source": [
    "h_max_thres = 0.85\n",
    "h_min_thres = 0.175\n",
    "w_max_thres = 0.95\n",
    "w_min_thres = 0.05\n",
    "\n",
    "temp = clred_df[((clred_df['bx1']>w_max_thres) | \n",
    "                (clred_df['bx1']<w_min_thres) |\n",
    "                (clred_df['bx2']>h_max_thres) | \n",
    "                (clred_df['bx2']<h_min_thres) )\n",
    "             & (clred_df['label_pred']==cls_check)]\n",
    "len(temp)"
   ]
  },
  {
   "cell_type": "code",
   "execution_count": null,
   "id": "a040e59a-0622-4a50-b829-3c42cf0f8612",
   "metadata": {},
   "outputs": [],
   "source": [
    "clred_df = clred_df[~clred_df['stem_crop'].isin(temp['stem_crop'])]\n",
    "len(temp)/len(bboxes_all_df), len(clred_df)/len(bboxes_all_df),  len(bboxes_all_df)"
   ]
  },
  {
   "cell_type": "code",
   "execution_count": null,
   "id": "bee2e044-9c9b-428a-8160-c950a6bec45e",
   "metadata": {},
   "outputs": [],
   "source": []
  },
  {
   "cell_type": "markdown",
   "id": "f932e98f-336e-4e15-9c8a-74c87ecd88d8",
   "metadata": {
    "tags": []
   },
   "source": [
    "##### 上装数目太多"
   ]
  },
  {
   "cell_type": "code",
   "execution_count": null,
   "id": "b0ce1e8c-6028-4103-ae76-9eb69fa091b6",
   "metadata": {},
   "outputs": [],
   "source": [
    "# 可以考虑只保留中心的衣服"
   ]
  },
  {
   "cell_type": "code",
   "execution_count": null,
   "id": "625ec38e-dc4a-4cbd-b6c6-9da804695a2c",
   "metadata": {},
   "outputs": [],
   "source": [
    "upper_gp = dict(list(upperbody_df.groupby('stem')))"
   ]
  },
  {
   "cell_type": "code",
   "execution_count": null,
   "id": "f29d3e10-1e3c-436c-891d-304627662992",
   "metadata": {},
   "outputs": [],
   "source": [
    "%%time\n",
    "thres = 3\n",
    "much_item_list = []\n",
    "len_list = []\n",
    "for stem, v in tqdm(upper_gp.items()):\n",
    "    if len(v)>=thres:\n",
    "        much_item_list.append(stem)\n",
    "        len_list.append(len(v))\n",
    "        # break"
   ]
  },
  {
   "cell_type": "code",
   "execution_count": null,
   "id": "de5b097f-0444-4237-b213-d332ec6919aa",
   "metadata": {},
   "outputs": [],
   "source": [
    "len(much_item_list)"
   ]
  },
  {
   "cell_type": "code",
   "execution_count": null,
   "id": "749403b7-52fc-470b-976d-05fe40f765d7",
   "metadata": {},
   "outputs": [],
   "source": [
    "temp = upperbody_df[upperbody_df['stem'].isin(much_item_list)]\n",
    "len(temp)"
   ]
  },
  {
   "cell_type": "code",
   "execution_count": null,
   "id": "0aeb8501-b6a4-4f7c-b65c-ef22c92b3cc2",
   "metadata": {},
   "outputs": [],
   "source": [
    "clred_df = clred_df[~clred_df['stem_crop'].isin(temp['stem_crop'])]\n",
    "len(temp)/len(bboxes_all_df), len(clred_df)/len(bboxes_all_df)"
   ]
  },
  {
   "cell_type": "code",
   "execution_count": null,
   "id": "ba678611-aa3e-4a36-a5d6-9f8a15687a68",
   "metadata": {},
   "outputs": [],
   "source": []
  },
  {
   "cell_type": "markdown",
   "id": "2dcebe44-3eee-4209-9dd2-2f4e3a8ccc99",
   "metadata": {
    "tags": []
   },
   "source": [
    "##### CSV SAVE"
   ]
  },
  {
   "cell_type": "code",
   "execution_count": null,
   "id": "13c55e3b-a303-4914-b6d9-28c4c4387932",
   "metadata": {},
   "outputs": [],
   "source": [
    "clred_df.to_csv('./data_temp/bboxes_clred_upper.csv', index=False)"
   ]
  },
  {
   "cell_type": "code",
   "execution_count": null,
   "id": "0f3839cf-7521-43a3-bd8b-f3c9a89b37b3",
   "metadata": {},
   "outputs": [],
   "source": []
  },
  {
   "cell_type": "markdown",
   "id": "fe16562a-5c47-46ba-b28f-9768fd5eb40b",
   "metadata": {
    "jp-MarkdownHeadingCollapsed": true,
    "tags": []
   },
   "source": [
    "#### 4.3 lowerbody"
   ]
  },
  {
   "cell_type": "code",
   "execution_count": null,
   "id": "a56c9509-0d16-4bb0-80c9-51d70d5c1394",
   "metadata": {},
   "outputs": [],
   "source": [
    "cls_check = 3"
   ]
  },
  {
   "cell_type": "code",
   "execution_count": null,
   "id": "f3f8cc1e-7d1f-4064-8312-55f89ae1a286",
   "metadata": {},
   "outputs": [],
   "source": [
    "# bboxes_all_df = clred_df"
   ]
  },
  {
   "cell_type": "code",
   "execution_count": null,
   "id": "9cbd1cbb-49ea-4cae-8340-a81c10050978",
   "metadata": {},
   "outputs": [],
   "source": []
  },
  {
   "cell_type": "markdown",
   "id": "ee193e44-c4dc-4c97-b7d0-98a5b5dd2677",
   "metadata": {},
   "source": [
    "##### confidence"
   ]
  },
  {
   "cell_type": "code",
   "execution_count": null,
   "id": "417cbaf9-7685-485a-a0fd-716bd16cfb85",
   "metadata": {},
   "outputs": [],
   "source": [
    "thres = 0.75\n",
    "temp = clred_df[(clred_df['conf']<thres)\n",
    "               & (clred_df['label_pred']==cls_check)]\n",
    "len(temp),len(clred_df[clred_df['label_pred']==cls_check])"
   ]
  },
  {
   "cell_type": "code",
   "execution_count": null,
   "id": "2aa452dd-744b-4efc-b2fd-960599593070",
   "metadata": {},
   "outputs": [],
   "source": [
    "clred_df = clred_df[~clred_df['stem_crop'].isin(temp['stem_crop'])]\n",
    "len(temp)/len(bboxes_all_df), len(clred_df)/len(bboxes_all_df),  len(bboxes_all_df)"
   ]
  },
  {
   "cell_type": "code",
   "execution_count": null,
   "id": "acff1c7f-07be-4969-a979-dfb1af6a5727",
   "metadata": {},
   "outputs": [],
   "source": []
  },
  {
   "cell_type": "markdown",
   "id": "a44ba9a0-c938-497c-b765-9eb28b727e54",
   "metadata": {
    "jp-MarkdownHeadingCollapsed": true,
    "tags": []
   },
   "source": [
    "##### bbox大小"
   ]
  },
  {
   "cell_type": "code",
   "execution_count": null,
   "id": "4d6b3e14-b46a-4a13-93e2-d0281980439b",
   "metadata": {},
   "outputs": [],
   "source": [
    "#  bbox绝对值大小 or\n",
    "thres_h = 30\n",
    "thres_w = 40\n",
    "temp = clred_df[((clred_df['bx_h']<thres_h) | (clred_df['bx_w']<thres_w))\n",
    "               & (clred_df['label_pred']==cls_check)]\n",
    "len(temp)"
   ]
  },
  {
   "cell_type": "code",
   "execution_count": null,
   "id": "c2ed4845-7b36-464f-9989-0b1bfaf134f2",
   "metadata": {},
   "outputs": [],
   "source": [
    "clred_df = clred_df[~clred_df['stem_crop'].isin(temp['stem_crop'])]\n",
    "len(temp)/len(bboxes_all_df), len(clred_df)/len(bboxes_all_df),  len(bboxes_all_df)"
   ]
  },
  {
   "cell_type": "code",
   "execution_count": null,
   "id": "4dad7d9e-b1af-4fdc-beb9-8515b76b381b",
   "metadata": {},
   "outputs": [],
   "source": [
    "#  bbox绝对值大小 and\n",
    "thres_w = 45\n",
    "thres_h = 55\n",
    "temp = clred_df[((clred_df['bx_h']<thres_h) & (clred_df['bx_w']<thres_w))\n",
    "               & (clred_df['label_pred']==cls_check)]\n",
    "len(temp)"
   ]
  },
  {
   "cell_type": "code",
   "execution_count": null,
   "id": "a400d86b-8ccc-4653-b28f-154887e257a1",
   "metadata": {},
   "outputs": [],
   "source": [
    "clred_df = clred_df[~clred_df['stem_crop'].isin(temp['stem_crop'])]\n",
    "len(temp)/len(bboxes_all_df), len(clred_df)/len(bboxes_all_df),  len(bboxes_all_df)"
   ]
  },
  {
   "cell_type": "code",
   "execution_count": null,
   "id": "f76fb921-5f97-44d6-9736-82e73d4339c5",
   "metadata": {},
   "outputs": [],
   "source": [
    "# bbox相对值大小\n",
    "w_thres = 0.1\n",
    "h_thres = 0.05\n",
    "temp = clred_df[((clred_df['bx3']<w_thres) | (clred_df['bx4']<h_thres))\n",
    "                   & (clred_df['label_pred']==cls_check)]\n",
    "len(temp)"
   ]
  },
  {
   "cell_type": "code",
   "execution_count": null,
   "id": "e33c82f3-6751-41fd-8173-b649ac97c9c0",
   "metadata": {},
   "outputs": [],
   "source": [
    "clred_df = clred_df[~clred_df['stem_crop'].isin(temp['stem_crop'])]\n",
    "len(temp)/len(bboxes_all_df), len(clred_df)/len(bboxes_all_df),  len(bboxes_all_df)"
   ]
  },
  {
   "cell_type": "code",
   "execution_count": null,
   "id": "c08c2a06-c179-44ad-bbf0-2426ea61b496",
   "metadata": {},
   "outputs": [],
   "source": []
  },
  {
   "cell_type": "code",
   "execution_count": null,
   "id": "9225e2d0-dbc4-40ce-a990-9beab9783b52",
   "metadata": {},
   "outputs": [],
   "source": []
  },
  {
   "cell_type": "markdown",
   "id": "e4d50c6b-5490-4dcf-9f38-1da74a36f36e",
   "metadata": {
    "jp-MarkdownHeadingCollapsed": true,
    "tags": []
   },
   "source": [
    "##### 位置"
   ]
  },
  {
   "cell_type": "code",
   "execution_count": null,
   "id": "205db553-35c4-44d7-8219-6cc35bee1c82",
   "metadata": {},
   "outputs": [],
   "source": [
    "h_min_thres = 0.3\n",
    "h_max_thres = 0.9\n",
    "w_max_thres = 0.95\n",
    "w_min_thres = 0.05\n",
    "\n",
    "temp = clred_df[((clred_df['bx1']>w_max_thres) | \n",
    "                (clred_df['bx1']<w_min_thres) |\n",
    "                (clred_df['bx2']>h_max_thres) | \n",
    "                (clred_df['bx2']<h_min_thres) )\n",
    "             & (clred_df['label_pred']==cls_check)]\n",
    "len(temp)"
   ]
  },
  {
   "cell_type": "code",
   "execution_count": null,
   "id": "b12562b1-0ad5-4650-9ec7-2d0a7ce31d1d",
   "metadata": {},
   "outputs": [],
   "source": [
    "clred_df = clred_df[~clred_df['stem_crop'].isin(temp['stem_crop'])]\n",
    "len(temp)/len(bboxes_all_df), len(clred_df)/len(bboxes_all_df),  len(bboxes_all_df)"
   ]
  },
  {
   "cell_type": "markdown",
   "id": "8037af8f-48f3-43a0-b5e2-555497137bda",
   "metadata": {
    "jp-MarkdownHeadingCollapsed": true,
    "tags": []
   },
   "source": [
    "##### 长宽比"
   ]
  },
  {
   "cell_type": "code",
   "execution_count": null,
   "id": "34a96bb5-df39-4abf-9e34-1fd27a7f4ca2",
   "metadata": {},
   "outputs": [],
   "source": [
    "thres_max = 4.5\n",
    "thres_min = 0.35\n",
    "temp = clred_df[((clred_df['h/w']>thres_max) | (clred_df['h/w']<thres_min )) \n",
    "             & (clred_df['label_pred']==cls_check)]\n",
    "len(temp)"
   ]
  },
  {
   "cell_type": "code",
   "execution_count": null,
   "id": "f5dc19bf-69f0-4141-92cf-2bc2c5f8dde7",
   "metadata": {},
   "outputs": [],
   "source": []
  },
  {
   "cell_type": "code",
   "execution_count": null,
   "id": "d2fc8b0b-1ca3-401e-a8fe-35f3f158ca3a",
   "metadata": {},
   "outputs": [],
   "source": [
    "clred_df = clred_df[~clred_df['stem_crop'].isin(temp['stem_crop'])]\n",
    "len(temp)/len(bboxes_all_df), len(clred_df)/len(bboxes_all_df),  len(bboxes_all_df)"
   ]
  },
  {
   "cell_type": "code",
   "execution_count": null,
   "id": "3c32acfc-0f14-4e28-9cb3-2024d92517ce",
   "metadata": {},
   "outputs": [],
   "source": []
  },
  {
   "cell_type": "markdown",
   "id": "70469eb1-d916-4af0-b1f1-3fd13f4b6ed5",
   "metadata": {
    "jp-MarkdownHeadingCollapsed": true,
    "tags": []
   },
   "source": [
    "##### 数目太多"
   ]
  },
  {
   "cell_type": "code",
   "execution_count": null,
   "id": "0dd8eeb8-82ec-4be0-b1bc-3fd200676e84",
   "metadata": {},
   "outputs": [],
   "source": [
    "lower_df = clred_df[clred_df['label_pred']==cls_check]"
   ]
  },
  {
   "cell_type": "code",
   "execution_count": null,
   "id": "84053152-59a5-4005-a467-d30c79c2f9c3",
   "metadata": {},
   "outputs": [],
   "source": [
    "lower_gp = dict(list(lower_df.groupby('stem')))"
   ]
  },
  {
   "cell_type": "code",
   "execution_count": null,
   "id": "f43c33cc-cf42-4c1f-89ac-3736033c9ff9",
   "metadata": {},
   "outputs": [],
   "source": [
    "%%time\n",
    "thres = 2\n",
    "much_item_list = []\n",
    "len_list = []\n",
    "for stem, v in tqdm(lower_gp.items()):\n",
    "    if len(v)>=thres:\n",
    "        much_item_list.append(stem)\n",
    "        len_list.append(len(v))\n",
    "        # break"
   ]
  },
  {
   "cell_type": "code",
   "execution_count": null,
   "id": "e289ffb3-1f3f-4633-876f-479657b2db7c",
   "metadata": {},
   "outputs": [],
   "source": [
    "len(much_item_list)"
   ]
  },
  {
   "cell_type": "code",
   "execution_count": null,
   "id": "172b861e-6dc0-42a3-b925-9faf7497abfc",
   "metadata": {},
   "outputs": [],
   "source": [
    "temp = lower_df[lower_df['stem'].isin(much_item_list)]\n",
    "len(temp)"
   ]
  },
  {
   "cell_type": "code",
   "execution_count": null,
   "id": "056a9b06-30bb-4ee8-9dfc-f9a851b2fa7b",
   "metadata": {},
   "outputs": [],
   "source": [
    "clred_df = clred_df[~clred_df['stem_crop'].isin(temp['stem_crop'])]\n",
    "len(temp)/len(bboxes_all_df), len(clred_df)/len(bboxes_all_df)"
   ]
  },
  {
   "cell_type": "code",
   "execution_count": null,
   "id": "2ddc179d-f82c-4c2b-a5c2-ad16253ee5a0",
   "metadata": {},
   "outputs": [],
   "source": []
  },
  {
   "cell_type": "code",
   "execution_count": null,
   "id": "3fd079cb-f925-404d-a82e-5dba297719cc",
   "metadata": {},
   "outputs": [],
   "source": [
    "# clred_df.to_csv('./data_temp/bboxes_clred_lower.csv', index=False)"
   ]
  },
  {
   "cell_type": "code",
   "execution_count": null,
   "id": "251fb496-f009-4b34-9b0f-005f039fdf9c",
   "metadata": {},
   "outputs": [],
   "source": []
  },
  {
   "cell_type": "markdown",
   "id": "d6dac6e6-52c0-4242-b7a3-07d8e811af98",
   "metadata": {
    "jp-MarkdownHeadingCollapsed": true,
    "tags": []
   },
   "source": [
    "#### 4.4 SKIRT"
   ]
  },
  {
   "cell_type": "code",
   "execution_count": null,
   "id": "2d3509d2-210b-46ce-8ed8-b44fbf59cea9",
   "metadata": {},
   "outputs": [],
   "source": [
    "# clred_df = pd.read_csv('./data_temp/bboxes_clred_lower.csv')\n",
    "# bboxes_all_df = clred_df"
   ]
  },
  {
   "cell_type": "code",
   "execution_count": null,
   "id": "a0b97281-a11d-49d0-ac0c-720458086ffb",
   "metadata": {},
   "outputs": [],
   "source": [
    "cls_check = 4"
   ]
  },
  {
   "cell_type": "markdown",
   "id": "e6c7fc1d-1015-49a2-9669-3f3946848e8a",
   "metadata": {
    "jp-MarkdownHeadingCollapsed": true,
    "tags": []
   },
   "source": [
    "##### confidence"
   ]
  },
  {
   "cell_type": "code",
   "execution_count": null,
   "id": "03b98c0e-968a-47c0-8595-112075096c55",
   "metadata": {},
   "outputs": [],
   "source": [
    "thres = 0.8\n",
    "temp = clred_df[(clred_df['conf']<thres)\n",
    "               & (clred_df['label_pred']==cls_check)]\n",
    "len(temp)"
   ]
  },
  {
   "cell_type": "code",
   "execution_count": null,
   "id": "e49ff010-6735-475f-b195-a6110c8d8f84",
   "metadata": {},
   "outputs": [],
   "source": [
    "clred_df = clred_df[~clred_df['stem_crop'].isin(temp['stem_crop'])]\n",
    "len(temp)/len(bboxes_all_df), len(clred_df)/len(bboxes_all_df),  len(bboxes_all_df)"
   ]
  },
  {
   "cell_type": "code",
   "execution_count": null,
   "id": "0410197a-6800-47c1-884a-ae264e3439c3",
   "metadata": {},
   "outputs": [],
   "source": []
  },
  {
   "cell_type": "code",
   "execution_count": null,
   "id": "9ce00a7a-ca3b-431c-a13a-4b8fe041944e",
   "metadata": {},
   "outputs": [],
   "source": []
  },
  {
   "cell_type": "markdown",
   "id": "75028185-bc13-4226-860f-2c681e91ce7a",
   "metadata": {
    "jp-MarkdownHeadingCollapsed": true,
    "tags": []
   },
   "source": [
    "##### bbox大小"
   ]
  },
  {
   "cell_type": "code",
   "execution_count": null,
   "id": "2c02a747-9141-4a76-a53c-b0c10f669e28",
   "metadata": {},
   "outputs": [],
   "source": [
    "#  bbox绝对值大小 or\n",
    "thres_h = 30\n",
    "thres_w = 40\n",
    "temp = clred_df[((clred_df['bx_h']<thres_h) | (clred_df['bx_w']<thres_w))\n",
    "               & (clred_df['label_pred']==cls_check)]\n",
    "len(temp)"
   ]
  },
  {
   "cell_type": "code",
   "execution_count": null,
   "id": "91ff3eca-02a5-4e46-ada7-18471837a66e",
   "metadata": {},
   "outputs": [],
   "source": [
    "clred_df = clred_df[~clred_df['stem_crop'].isin(temp['stem_crop'])]\n",
    "len(temp)/len(bboxes_all_df), len(clred_df)/len(bboxes_all_df),  len(bboxes_all_df)"
   ]
  },
  {
   "cell_type": "code",
   "execution_count": null,
   "id": "7e8bd8fb-ba98-48c5-a069-b8446099a2cb",
   "metadata": {},
   "outputs": [],
   "source": [
    "#  bbox绝对值大小 and\n",
    "thres_w = 45\n",
    "thres_h = 55\n",
    "temp = clred_df[((clred_df['bx_h']<thres_h) & (clred_df['bx_w']<thres_w))\n",
    "               & (clred_df['label_pred']==cls_check)]\n",
    "len(temp)"
   ]
  },
  {
   "cell_type": "code",
   "execution_count": null,
   "id": "636a2e5b-77d6-469e-84fd-e6f06ac14e89",
   "metadata": {},
   "outputs": [],
   "source": [
    "clred_df = clred_df[~clred_df['stem_crop'].isin(temp['stem_crop'])]\n",
    "len(temp)/len(bboxes_all_df), len(clred_df)/len(bboxes_all_df),  len(bboxes_all_df)"
   ]
  },
  {
   "cell_type": "code",
   "execution_count": null,
   "id": "547d9ec0-2c4f-4088-8651-6df46c54f4e0",
   "metadata": {},
   "outputs": [],
   "source": [
    "# bbox相对值大小\n",
    "w_thres = 0.1\n",
    "h_thres = 0.05\n",
    "temp = clred_df[((clred_df['bx3']<w_thres) | (clred_df['bx4']<h_thres))\n",
    "                   & (clred_df['label_pred']==cls_check)]\n",
    "len(temp)"
   ]
  },
  {
   "cell_type": "code",
   "execution_count": null,
   "id": "580001e1-99b4-456d-8d75-a0331eb6151b",
   "metadata": {},
   "outputs": [],
   "source": [
    "clred_df = clred_df[~clred_df['stem_crop'].isin(temp['stem_crop'])]\n",
    "len(temp)/len(bboxes_all_df), len(clred_df)/len(bboxes_all_df),  len(bboxes_all_df)"
   ]
  },
  {
   "cell_type": "code",
   "execution_count": null,
   "id": "572facf4-6210-4813-a704-747a48338073",
   "metadata": {},
   "outputs": [],
   "source": []
  },
  {
   "cell_type": "markdown",
   "id": "8c831e06-3120-451a-bd54-749bcb2a4054",
   "metadata": {
    "jp-MarkdownHeadingCollapsed": true,
    "tags": []
   },
   "source": [
    "##### 长宽比"
   ]
  },
  {
   "cell_type": "code",
   "execution_count": null,
   "id": "efb518da-cab4-45c5-b48d-d4f704e643a8",
   "metadata": {},
   "outputs": [],
   "source": [
    "thres_max = 4.5\n",
    "thres_min = 0.35\n",
    "temp = clred_df[((clred_df['h/w']>thres_max) | (clred_df['h/w']<thres_min )) \n",
    "             & (clred_df['label_pred']==cls_check)]\n",
    "len(temp)"
   ]
  },
  {
   "cell_type": "code",
   "execution_count": null,
   "id": "a0dfd16c-f472-4969-9e6a-b4836eb292b4",
   "metadata": {},
   "outputs": [],
   "source": [
    "clred_df = clred_df[~clred_df['stem_crop'].isin(temp['stem_crop'])]\n",
    "len(temp)/len(bboxes_all_df), len(clred_df)/len(bboxes_all_df),  len(bboxes_all_df)"
   ]
  },
  {
   "cell_type": "markdown",
   "id": "337a9c26-85f8-472b-984e-20a3d716eb7b",
   "metadata": {
    "jp-MarkdownHeadingCollapsed": true,
    "tags": []
   },
   "source": [
    "##### 位置"
   ]
  },
  {
   "cell_type": "code",
   "execution_count": null,
   "id": "cb569b99-c45a-495d-8e75-6aedf6043d79",
   "metadata": {},
   "outputs": [],
   "source": [
    "h_min_thres = 0.4\n",
    "h_max_thres = 0.9\n",
    "w_max_thres = 0.95\n",
    "w_min_thres = 0.05\n",
    "\n",
    "temp = clred_df[((clred_df['bx1']>w_max_thres) | \n",
    "                (clred_df['bx1']<w_min_thres) |\n",
    "                (clred_df['bx2']>h_max_thres) | \n",
    "                (clred_df['bx2']<h_min_thres) )\n",
    "             & (clred_df['label_pred']==cls_check)]\n",
    "len(temp)"
   ]
  },
  {
   "cell_type": "code",
   "execution_count": null,
   "id": "7972c7cf-e83f-46b7-bb66-b59b5cd45c41",
   "metadata": {},
   "outputs": [],
   "source": [
    "clred_df = clred_df[~clred_df['stem_crop'].isin(temp['stem_crop'])]\n",
    "len(temp)/len(bboxes_all_df), len(clred_df)/len(bboxes_all_df),  len(bboxes_all_df)"
   ]
  },
  {
   "cell_type": "markdown",
   "id": "f30a4288-42e8-4ae1-abe0-fec92c9537a0",
   "metadata": {
    "jp-MarkdownHeadingCollapsed": true,
    "tags": []
   },
   "source": [
    "##### 数目"
   ]
  },
  {
   "cell_type": "code",
   "execution_count": null,
   "id": "cc7597ef-8d13-4923-813a-6aaa038de3b5",
   "metadata": {},
   "outputs": [],
   "source": [
    "lower_df = clred_df[clred_df['label_pred']==cls_check]"
   ]
  },
  {
   "cell_type": "code",
   "execution_count": null,
   "id": "269fd69f-5c55-4269-ab4d-e6aad8015660",
   "metadata": {},
   "outputs": [],
   "source": [
    "lower_gp = dict(list(lower_df.groupby('stem')))"
   ]
  },
  {
   "cell_type": "code",
   "execution_count": null,
   "id": "f14f045a-9a62-4aad-81bb-95b16e20a640",
   "metadata": {},
   "outputs": [],
   "source": [
    "%%time\n",
    "thres = 2\n",
    "much_item_list = []\n",
    "len_list = []\n",
    "for stem, v in tqdm(lower_gp.items()):\n",
    "    if len(v)>=thres:\n",
    "        much_item_list.append(stem)\n",
    "        len_list.append(len(v))\n",
    "        # break"
   ]
  },
  {
   "cell_type": "code",
   "execution_count": null,
   "id": "41f66158-beb1-47a9-a20c-38cc13a570dd",
   "metadata": {},
   "outputs": [],
   "source": [
    "len(much_item_list)"
   ]
  },
  {
   "cell_type": "code",
   "execution_count": null,
   "id": "02c1b38b-313d-4df1-95f5-e7e006406a37",
   "metadata": {},
   "outputs": [],
   "source": [
    "temp = lower_df[lower_df['stem'].isin(much_item_list)]\n",
    "len(temp)"
   ]
  },
  {
   "cell_type": "code",
   "execution_count": null,
   "id": "42ffdf11-01fc-444b-a920-f88d2de56b1d",
   "metadata": {},
   "outputs": [],
   "source": [
    "clred_df = clred_df[~clred_df['stem_crop'].isin(temp['stem_crop'])]\n",
    "len(temp)/len(bboxes_all_df), len(clred_df)/len(bboxes_all_df)"
   ]
  },
  {
   "cell_type": "code",
   "execution_count": null,
   "id": "27eefd27-26bf-4bde-b8cf-dcd90ee6399d",
   "metadata": {},
   "outputs": [],
   "source": []
  },
  {
   "cell_type": "code",
   "execution_count": null,
   "id": "1dbe2782-189d-4c95-896e-825115b6a379",
   "metadata": {},
   "outputs": [],
   "source": []
  },
  {
   "cell_type": "markdown",
   "id": "888f5a8d-7472-43a8-a6bd-c10145ca4f6d",
   "metadata": {},
   "source": [
    "#### 4.5 wholebody"
   ]
  },
  {
   "cell_type": "code",
   "execution_count": null,
   "id": "b43d5461-1d20-479c-bc65-6753bd531c51",
   "metadata": {},
   "outputs": [],
   "source": [
    "cls_check = 5"
   ]
  },
  {
   "cell_type": "code",
   "execution_count": null,
   "id": "47caa5a5-b739-4eab-b69d-a8eec2d4c7a9",
   "metadata": {},
   "outputs": [],
   "source": []
  },
  {
   "cell_type": "code",
   "execution_count": null,
   "id": "61e051a3-f875-4579-bfaf-97df9d3752c6",
   "metadata": {},
   "outputs": [],
   "source": [
    "thres = 0.7\n",
    "temp = clred_df[(clred_df['conf']<thres)\n",
    "               & (clred_df['label_pred']==cls_check)]\n",
    "len(temp), len(clred_df[clred_df['label_pred']==cls_check])"
   ]
  },
  {
   "cell_type": "code",
   "execution_count": null,
   "id": "142502bd-1b52-4922-a34c-b5f568dfd114",
   "metadata": {},
   "outputs": [],
   "source": [
    "clred_df = clred_df[~clred_df['stem_crop'].isin(temp['stem_crop'])]\n",
    "len(temp)/len(bboxes_all_df), len(clred_df)/len(bboxes_all_df),  len(bboxes_all_df)"
   ]
  },
  {
   "cell_type": "code",
   "execution_count": null,
   "id": "1e26adb2-6b58-42bc-a92c-3e1811458026",
   "metadata": {},
   "outputs": [],
   "source": []
  },
  {
   "cell_type": "markdown",
   "id": "fa9f359a-5a95-447f-a46c-0722794c018a",
   "metadata": {
    "tags": []
   },
   "source": [
    "##### bbox大小"
   ]
  },
  {
   "cell_type": "code",
   "execution_count": null,
   "id": "be7444c4-66ec-4192-ab6c-3a238c346821",
   "metadata": {},
   "outputs": [],
   "source": [
    "#  bbox绝对值大小 or\n",
    "thres_h = 150\n",
    "thres_w = 60\n",
    "temp = clred_df[((clred_df['bx_h']<thres_h) | (clred_df['bx_w']<thres_w))\n",
    "               & (clred_df['label_pred']==cls_check)]\n",
    "len(temp)"
   ]
  },
  {
   "cell_type": "code",
   "execution_count": null,
   "id": "1d526153-7d05-48f9-b416-7001c038c18f",
   "metadata": {},
   "outputs": [],
   "source": [
    "clred_df = clred_df[~clred_df['stem_crop'].isin(temp['stem_crop'])]\n",
    "len(temp)/len(bboxes_all_df), len(clred_df)/len(bboxes_all_df),  len(bboxes_all_df)"
   ]
  },
  {
   "cell_type": "code",
   "execution_count": null,
   "id": "f62927e8-4928-4969-82e6-510c5bd69279",
   "metadata": {},
   "outputs": [],
   "source": [
    "#  bbox绝对值大小 and\n",
    "thres_w = 75\n",
    "thres_h = 200\n",
    "temp = clred_df[((clred_df['bx_h']<thres_h) & (clred_df['bx_w']<thres_w))\n",
    "               & (clred_df['label_pred']==cls_check)]\n",
    "len(temp)"
   ]
  },
  {
   "cell_type": "code",
   "execution_count": null,
   "id": "90034fe3-d922-4169-8ccf-d4acaedc058a",
   "metadata": {},
   "outputs": [],
   "source": [
    "clred_df = clred_df[~clred_df['stem_crop'].isin(temp['stem_crop'])]\n",
    "len(temp)/len(bboxes_all_df), len(clred_df)/len(bboxes_all_df),  len(bboxes_all_df)"
   ]
  },
  {
   "cell_type": "code",
   "execution_count": null,
   "id": "40d3da8a-f2f5-4702-9c7c-e3eb42fd9fdf",
   "metadata": {},
   "outputs": [],
   "source": [
    "# bbox相对值大小\n",
    "w_thres = 0.1\n",
    "h_thres = 0.2\n",
    "temp = clred_df[((clred_df['bx3']<w_thres) | (clred_df['bx4']<h_thres))\n",
    "                   & (clred_df['label_pred']==cls_check)]\n",
    "len(temp)"
   ]
  },
  {
   "cell_type": "code",
   "execution_count": null,
   "id": "b66ec92b-830d-4ba7-b46d-6f24bbad4ffd",
   "metadata": {},
   "outputs": [],
   "source": [
    "clred_df = clred_df[~clred_df['stem_crop'].isin(temp['stem_crop'])]\n",
    "len(temp)/len(bboxes_all_df), len(clred_df)/len(bboxes_all_df),  len(bboxes_all_df)"
   ]
  },
  {
   "cell_type": "code",
   "execution_count": null,
   "id": "ec0f3044-cf62-488a-a5d6-a4955bd61f63",
   "metadata": {},
   "outputs": [],
   "source": []
  },
  {
   "cell_type": "markdown",
   "id": "03bfdc29-994b-4d45-8862-1ade642c396d",
   "metadata": {
    "jp-MarkdownHeadingCollapsed": true,
    "tags": []
   },
   "source": [
    "##### 长宽比"
   ]
  },
  {
   "cell_type": "code",
   "execution_count": null,
   "id": "c913dc0e-3b39-42f6-895e-96b6cdbc2d26",
   "metadata": {},
   "outputs": [],
   "source": [
    "thres_max = 4\n",
    "thres_min = 1\n",
    "temp = clred_df[((clred_df['h/w']>thres_max) | (clred_df['h/w']<thres_min )) \n",
    "             & (clred_df['label_pred']==cls_check)]\n",
    "len(temp)"
   ]
  },
  {
   "cell_type": "code",
   "execution_count": null,
   "id": "87535b17-c1fe-47d0-92a5-71fb2be6fc20",
   "metadata": {},
   "outputs": [],
   "source": [
    "clred_df = clred_df[~clred_df['stem_crop'].isin(temp['stem_crop'])]\n",
    "len(temp)/len(bboxes_all_df), len(clred_df)/len(bboxes_all_df),  len(bboxes_all_df)"
   ]
  },
  {
   "cell_type": "markdown",
   "id": "7742ca7a-1154-4447-87d6-b8b71ed6b962",
   "metadata": {
    "jp-MarkdownHeadingCollapsed": true,
    "tags": []
   },
   "source": [
    "##### 位置"
   ]
  },
  {
   "cell_type": "code",
   "execution_count": null,
   "id": "c71968b0-ae7c-44eb-be3e-3473e1ec8d5a",
   "metadata": {},
   "outputs": [],
   "source": [
    "h_min_thres = 0.3\n",
    "h_max_thres = 0.85\n",
    "w_max_thres = 0.95\n",
    "w_min_thres = 0.05\n",
    "\n",
    "temp = clred_df[((clred_df['bx1']>w_max_thres) | \n",
    "                (clred_df['bx1']<w_min_thres) |\n",
    "                (clred_df['bx2']>h_max_thres) | \n",
    "                (clred_df['bx2']<h_min_thres) )\n",
    "             & (clred_df['label_pred']==cls_check)]\n",
    "len(temp)"
   ]
  },
  {
   "cell_type": "code",
   "execution_count": null,
   "id": "ecd64d8e-a1cd-4e1e-be37-570b417fe51f",
   "metadata": {},
   "outputs": [],
   "source": [
    "clred_df = clred_df[~clred_df['stem_crop'].isin(temp['stem_crop'])]\n",
    "len(temp)/len(bboxes_all_df), len(clred_df)/len(bboxes_all_df),  len(bboxes_all_df)"
   ]
  },
  {
   "cell_type": "markdown",
   "id": "4875c8d1-fd59-4499-8b5d-a139510c2e67",
   "metadata": {
    "jp-MarkdownHeadingCollapsed": true,
    "tags": []
   },
   "source": [
    "##### 数目"
   ]
  },
  {
   "cell_type": "code",
   "execution_count": null,
   "id": "2eaf1a1c-286b-4fe9-9993-c83bd87d358d",
   "metadata": {},
   "outputs": [],
   "source": [
    "lower_df = clred_df[clred_df['label_pred']==cls_check]"
   ]
  },
  {
   "cell_type": "code",
   "execution_count": null,
   "id": "a22f345a-c6c9-41a1-9e6e-046b3ea8d816",
   "metadata": {},
   "outputs": [],
   "source": [
    "lower_gp = dict(list(lower_df.groupby('stem')))"
   ]
  },
  {
   "cell_type": "code",
   "execution_count": null,
   "id": "a5b889ab-a5a8-47df-9b64-0cc521ef1918",
   "metadata": {},
   "outputs": [],
   "source": [
    "%%time\n",
    "thres = 2\n",
    "much_item_list = []\n",
    "len_list = []\n",
    "for stem, v in tqdm(lower_gp.items()):\n",
    "    if len(v)>=thres:\n",
    "        much_item_list.append(stem)\n",
    "        len_list.append(len(v))\n",
    "        # break"
   ]
  },
  {
   "cell_type": "code",
   "execution_count": null,
   "id": "b99430f7-3b54-4e2f-acdf-a901bed10136",
   "metadata": {},
   "outputs": [],
   "source": [
    "len(much_item_list)"
   ]
  },
  {
   "cell_type": "code",
   "execution_count": null,
   "id": "ec4b0395-aa86-46ba-a773-39d71041f5a6",
   "metadata": {},
   "outputs": [],
   "source": [
    "temp = lower_df[lower_df['stem'].isin(much_item_list)]\n",
    "len(temp)"
   ]
  },
  {
   "cell_type": "code",
   "execution_count": null,
   "id": "6cd04840-2abe-407d-a4a0-56db09076d8d",
   "metadata": {},
   "outputs": [],
   "source": []
  },
  {
   "cell_type": "code",
   "execution_count": null,
   "id": "f44fd0fb-0fe8-404f-a0a9-0905006dea82",
   "metadata": {},
   "outputs": [],
   "source": [
    "clred_df = clred_df[~clred_df['stem_crop'].isin(temp['stem_crop'])]\n",
    "len(temp)/len(bboxes_all_df), len(clred_df)/len(bboxes_all_df)"
   ]
  },
  {
   "cell_type": "code",
   "execution_count": null,
   "id": "e5a09008-56c0-4a98-98d3-1333afe06acd",
   "metadata": {},
   "outputs": [],
   "source": [
    "clred_df.to_csv('./data_temp/bboxes_clred_wholebody.csv', index=False)"
   ]
  },
  {
   "cell_type": "code",
   "execution_count": null,
   "id": "b0f8fae6-ab4b-4726-8355-9970ca133b93",
   "metadata": {},
   "outputs": [],
   "source": [
    "len(clred_df)"
   ]
  },
  {
   "cell_type": "code",
   "execution_count": null,
   "id": "75812cbc-9720-4288-af98-5bbc23233930",
   "metadata": {},
   "outputs": [],
   "source": []
  },
  {
   "cell_type": "code",
   "execution_count": null,
   "id": "8ccf7b9c-3720-46ad-8f31-297d01617da8",
   "metadata": {},
   "outputs": [],
   "source": []
  },
  {
   "cell_type": "markdown",
   "id": "553b40b9-eb04-4972-96b7-1954a98e8174",
   "metadata": {
    "tags": []
   },
   "source": [
    "### 5.html display"
   ]
  },
  {
   "cell_type": "code",
   "execution_count": null,
   "id": "84f0645c-8cfb-4d98-97ae-da7f380e6ad9",
   "metadata": {},
   "outputs": [],
   "source": [
    "# stem = '1be17c97-4671-4914-a047-94b021788a79-762233'\n",
    "# bboxes_all_df[bboxes_all_df['stem']==stem]\n",
    "# !cat /nas/chenyi/datasets_cls/gallery_detect/gallery_oss/gall7kv6/labels/1b/e1/1be17c97-4671-4914-a047-94b021788a79-762233.txt"
   ]
  },
  {
   "cell_type": "markdown",
   "id": "a4ba09db-e5a8-49b1-8630-eedd792afbc4",
   "metadata": {},
   "source": [
    "##### 预处理"
   ]
  },
  {
   "cell_type": "code",
   "execution_count": null,
   "id": "7fe7dda8-822c-43e7-9fae-d0d6786ae7d0",
   "metadata": {},
   "outputs": [],
   "source": [
    "import sys\n",
    "sys.path.append('../../')\n",
    "from utils.display.html import *"
   ]
  },
  {
   "cell_type": "code",
   "execution_count": null,
   "id": "2a351c3f-cb67-4c8d-a5d7-964a98c01c48",
   "metadata": {},
   "outputs": [],
   "source": []
  },
  {
   "cell_type": "code",
   "execution_count": null,
   "id": "d367fb91-7771-4ca4-bae1-ccbdaac4e660",
   "metadata": {},
   "outputs": [],
   "source": [
    "clred_df = bboxes_all_df"
   ]
  },
  {
   "cell_type": "code",
   "execution_count": null,
   "id": "d0799d16-3b98-4ae7-950a-e4c2ec5186f3",
   "metadata": {},
   "outputs": [],
   "source": [
    "len(clred_df)"
   ]
  },
  {
   "cell_type": "code",
   "execution_count": null,
   "id": "dca3c441-f020-479b-afb8-67890d6e36be",
   "metadata": {},
   "outputs": [],
   "source": [
    "clred_df.sort_values('conf', ascending=True, inplace=True)"
   ]
  },
  {
   "cell_type": "code",
   "execution_count": null,
   "id": "23c4a485-bcce-46ea-b42f-c1772b46de6f",
   "metadata": {},
   "outputs": [],
   "source": [
    "cls_check = 5"
   ]
  },
  {
   "cell_type": "code",
   "execution_count": null,
   "id": "0ff56c67-b9f9-46ca-9d2e-fe589201192a",
   "metadata": {},
   "outputs": [],
   "source": [
    "thres = 0.65\n",
    "temp = clred_df[(clred_df['conf']<thres)\n",
    "               & (clred_df['label_pred']==cls_check)]\n",
    "len(temp), len(clred_df[clred_df['label_pred']==cls_check])"
   ]
  },
  {
   "cell_type": "code",
   "execution_count": null,
   "id": "0b85b958-2c46-4632-87c3-4d5a26df6245",
   "metadata": {},
   "outputs": [],
   "source": [
    "dis_df = temp.sort_values('conf', ascending=False)[0:50]\n",
    "# dis_df = clred_df[0:20]"
   ]
  },
  {
   "cell_type": "code",
   "execution_count": null,
   "id": "a3911767-aa30-48a7-aee9-0cb302278cdd",
   "metadata": {},
   "outputs": [],
   "source": [
    "dis_df = dis_df.drop_duplicates('stem')"
   ]
  },
  {
   "cell_type": "code",
   "execution_count": null,
   "id": "207a5b5e-c1ce-4f45-94ec-72270ea2b0b7",
   "metadata": {},
   "outputs": [],
   "source": [
    "!du -h ./data_temp/*"
   ]
  },
  {
   "cell_type": "code",
   "execution_count": null,
   "id": "94ff3da9-7d44-4a3d-a045-6830074e7b6e",
   "metadata": {},
   "outputs": [],
   "source": []
  },
  {
   "cell_type": "code",
   "execution_count": null,
   "id": "edf7a250-4a5a-4ba1-aec5-00803447a293",
   "metadata": {},
   "outputs": [],
   "source": []
  },
  {
   "cell_type": "markdown",
   "id": "bf387bac-7299-4bad-9cd6-540b054ba998",
   "metadata": {
    "tags": []
   },
   "source": [
    "#### Display"
   ]
  },
  {
   "cell_type": "code",
   "execution_count": null,
   "id": "22a14e3f-d40a-400e-bdd5-996880d97dea",
   "metadata": {},
   "outputs": [],
   "source": [
    "dis_df['img_path'] = dis_df['stem'].map(stem2det_path)"
   ]
  },
  {
   "cell_type": "code",
   "execution_count": null,
   "id": "467e6b47-92c2-4ad2-909b-0bc58f3e98f3",
   "metadata": {},
   "outputs": [],
   "source": [
    "dis_df['image'] = dis_df['img_path'].apply(lambda x: get_thumbnail(x, size=640))\n",
    "dis_df['crop_img'] = dis_df['crop_path'].apply(lambda x: get_thumbnail(x, size=200))"
   ]
  },
  {
   "cell_type": "code",
   "execution_count": null,
   "id": "097a0f85-04aa-4c6f-9c0e-1bc1fda512a9",
   "metadata": {},
   "outputs": [],
   "source": []
  },
  {
   "cell_type": "code",
   "execution_count": null,
   "id": "76a26f56-bba3-4fe7-829a-446305f0e1fb",
   "metadata": {},
   "outputs": [],
   "source": []
  },
  {
   "cell_type": "code",
   "execution_count": null,
   "id": "cf6dbcda-26d5-41a0-87f8-b2043fcca136",
   "metadata": {},
   "outputs": [],
   "source": []
  },
  {
   "cell_type": "code",
   "execution_count": null,
   "id": "8bb36024-8ff6-446f-aef4-4bfb1e86c03a",
   "metadata": {
    "tags": []
   },
   "outputs": [],
   "source": [
    "HTML(dis_df[['label_pred', 'crop_img', 'image', 'conf', 'stem']].to_html(formatters={'crop_img': image_formatter,\n",
    "                                                                                             'image': image_formatter}, escape=False))"
   ]
  },
  {
   "cell_type": "code",
   "execution_count": null,
   "id": "00f6125c-2f76-41a0-8251-7d2660c57c5d",
   "metadata": {},
   "outputs": [],
   "source": []
  },
  {
   "cell_type": "code",
   "execution_count": null,
   "id": "d9b2c881-2645-4d59-9311-058578dc39ca",
   "metadata": {},
   "outputs": [],
   "source": []
  },
  {
   "cell_type": "markdown",
   "id": "0f6a67b9-7e83-429c-876a-90f705a86689",
   "metadata": {},
   "source": [
    "##### Data copy"
   ]
  },
  {
   "cell_type": "code",
   "execution_count": null,
   "id": "3cd0eec1-d23f-4472-b657-07d6529517e2",
   "metadata": {},
   "outputs": [],
   "source": [
    "copy_df = temp"
   ]
  },
  {
   "cell_type": "code",
   "execution_count": null,
   "id": "767615e0-8cbc-48d7-acc2-c49da073858a",
   "metadata": {},
   "outputs": [],
   "source": [
    "copy_df.head(1)"
   ]
  },
  {
   "cell_type": "code",
   "execution_count": null,
   "id": "c9315bfe-95f8-41fd-80c9-5d7337fff63c",
   "metadata": {},
   "outputs": [],
   "source": [
    "import shutil\n",
    "\n",
    "root_source = Path('/nas/chenyi/datasets_cls/gallery_detect/gallery_oss/gall7kv6/images/')\n",
    "root_target = Path('/nas/chenyi/datasets_cls/gallery_detect/gallery_oss/gall7kv6/clear/image_conf/wholebody/63_65/')\n",
    "for stem in tqdm(copy_df['stem'].values):\n",
    "    sp = root_source / stem[:2] / stem[2:4] / stem\n",
    "    tp = root_target / stem[:2] / stem\n",
    "    sp = sp.with_suffix('.jpg')\n",
    "    tp = tp.with_suffix('.jpg')\n",
    "    if tp.is_file() or not sp.is_file():\n",
    "        continue\n",
    "    if not tp.parent.is_dir():\n",
    "        tp.parent.mkdir(parents=True, exist_ok=True)\n",
    "    shutil.copyfile(sp, tp)\n",
    "    # break"
   ]
  },
  {
   "cell_type": "code",
   "execution_count": null,
   "id": "c6bb773e-2ab9-4e98-88bc-179af3dfa81f",
   "metadata": {},
   "outputs": [],
   "source": []
  },
  {
   "cell_type": "code",
   "execution_count": null,
   "id": "9e7c49ce-7b4e-4276-aa8d-aace13066db0",
   "metadata": {},
   "outputs": [],
   "source": []
  },
  {
   "cell_type": "code",
   "execution_count": null,
   "id": "8583896e-c1e9-421a-9483-ba1432bab0dd",
   "metadata": {},
   "outputs": [],
   "source": []
  }
 ],
 "metadata": {
  "kernelspec": {
   "display_name": "Python 3 (ipykernel)",
   "language": "python",
   "name": "python3"
  },
  "language_info": {
   "codemirror_mode": {
    "name": "ipython",
    "version": 3
   },
   "file_extension": ".py",
   "mimetype": "text/x-python",
   "name": "python",
   "nbconvert_exporter": "python",
   "pygments_lexer": "ipython3",
   "version": "3.8.13"
  }
 },
 "nbformat": 4,
 "nbformat_minor": 5
}
