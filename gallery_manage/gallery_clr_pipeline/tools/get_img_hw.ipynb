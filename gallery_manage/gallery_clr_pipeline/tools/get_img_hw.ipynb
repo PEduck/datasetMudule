{
 "cells": [
  {
   "cell_type": "code",
   "execution_count": 1,
   "id": "a2e2771e-bbff-4a7e-a4ae-5ec7b2bf9248",
   "metadata": {},
   "outputs": [],
   "source": [
    "import glob\n",
    "import pandas as pd\n",
    "from pathlib import Path\n",
    "import pickle"
   ]
  },
  {
   "cell_type": "code",
   "execution_count": 2,
   "id": "19d80540-0680-4114-bfcd-4542f49aff09",
   "metadata": {},
   "outputs": [],
   "source": [
    "from PIL import Image\n",
    "from tqdm import tqdm"
   ]
  },
  {
   "cell_type": "code",
   "execution_count": null,
   "id": "25871a42-e51f-4688-937a-0828d82ee1ab",
   "metadata": {},
   "outputs": [],
   "source": []
  },
  {
   "cell_type": "code",
   "execution_count": null,
   "id": "1fc13af0-773d-45e7-9761-9c79b9d303eb",
   "metadata": {},
   "outputs": [],
   "source": []
  },
  {
   "cell_type": "code",
   "execution_count": 3,
   "id": "c6d9e3da-fd4f-4825-ba77-5b06f47da26f",
   "metadata": {},
   "outputs": [
    {
     "name": "stdout",
     "output_type": "stream",
     "text": [
      "INFO: Pandarallel will run on 8 workers.\n",
      "INFO: Pandarallel will use Memory file system to transfer data between the main process and workers.\n"
     ]
    }
   ],
   "source": [
    "#  dataframe multi-thread\n",
    "from pandarallel import pandarallel\n",
    "# Initialization\n",
    "pandarallel.initialize()\n",
    "# Standard pandas apply\n",
    "# Parallel apply\n",
    "# df.parallel_apply(func, progress_bar=True)\n",
    "# progress_bar=True"
   ]
  },
  {
   "cell_type": "code",
   "execution_count": 4,
   "id": "130971e1-4803-4986-8190-aa9f8e476c36",
   "metadata": {},
   "outputs": [],
   "source": [
    "with open('/nas/chenyi/datasets_cls/map/gallery/stem2path_gallery2mw202208.pickle', 'rb') as f:\n",
    "    stem2path = pickle.load(f)"
   ]
  },
  {
   "cell_type": "code",
   "execution_count": 5,
   "id": "451f384b-ad68-4a3e-b5e1-aa168ade0324",
   "metadata": {},
   "outputs": [],
   "source": [
    "gall_df = pd.read_csv('/nas/chenyi/datasets_cls/gallery_detect/gallery_csv/gall2m_df20220725.csv')\n",
    "# gall_df.to_csv('/nas/chenyi/datasets_cls/gallery_detect/gallery_csv/gall2m_hw_df20220725.csv', index=False)"
   ]
  },
  {
   "cell_type": "code",
   "execution_count": null,
   "id": "4dd1f561-ddac-415c-8c69-fc064b5a782f",
   "metadata": {},
   "outputs": [],
   "source": []
  },
  {
   "cell_type": "code",
   "execution_count": 26,
   "id": "1b725635-097d-4a42-b5a9-0bd3c12f1208",
   "metadata": {},
   "outputs": [],
   "source": [
    "width_df = pd.DataFrame()\n",
    "width_df['stem'] = stem2width.keys()\n",
    "width_df['width'] = stem2width.values()\n",
    "height_df = pd.DataFrame()\n",
    "height_df['stem'] = stem2height.keys()\n",
    "height_df['height'] = stem2height.values()"
   ]
  },
  {
   "cell_type": "code",
   "execution_count": 27,
   "id": "9dbec451-bb76-4ed6-898e-0e594e0ccfd1",
   "metadata": {},
   "outputs": [],
   "source": [
    "path_df = pd.DataFrame()\n",
    "path_df['stem'] = stem2path.keys()\n",
    "path_df['path'] = stem2path.values()"
   ]
  },
  {
   "cell_type": "code",
   "execution_count": 28,
   "id": "0d066dd8-283e-4d5c-a747-b38c229d20d5",
   "metadata": {},
   "outputs": [],
   "source": [
    "cross_df = path_df[~path_df['stem'].isin(width_df['stem'])]"
   ]
  },
  {
   "cell_type": "code",
   "execution_count": 29,
   "id": "c2759dc6-ff25-491b-94d3-beec07550893",
   "metadata": {},
   "outputs": [
    {
     "data": {
      "text/html": [
       "<div>\n",
       "<style scoped>\n",
       "    .dataframe tbody tr th:only-of-type {\n",
       "        vertical-align: middle;\n",
       "    }\n",
       "\n",
       "    .dataframe tbody tr th {\n",
       "        vertical-align: top;\n",
       "    }\n",
       "\n",
       "    .dataframe thead th {\n",
       "        text-align: right;\n",
       "    }\n",
       "</style>\n",
       "<table border=\"1\" class=\"dataframe\">\n",
       "  <thead>\n",
       "    <tr style=\"text-align: right;\">\n",
       "      <th></th>\n",
       "      <th>stem</th>\n",
       "      <th>width</th>\n",
       "    </tr>\n",
       "  </thead>\n",
       "  <tbody>\n",
       "    <tr>\n",
       "      <th>2391033</th>\n",
       "      <td>ffffb9d9-d2a5-11ec-820f-5cfb3aa6f5e6</td>\n",
       "      <td>1279</td>\n",
       "    </tr>\n",
       "  </tbody>\n",
       "</table>\n",
       "</div>"
      ],
      "text/plain": [
       "                                         stem  width\n",
       "2391033  ffffb9d9-d2a5-11ec-820f-5cfb3aa6f5e6   1279"
      ]
     },
     "execution_count": 29,
     "metadata": {},
     "output_type": "execute_result"
    }
   ],
   "source": [
    "width_df.tail(1)"
   ]
  },
  {
   "cell_type": "code",
   "execution_count": 30,
   "id": "3780bb75-3de2-48d3-8905-841691515b25",
   "metadata": {},
   "outputs": [
    {
     "data": {
      "text/html": [
       "<div>\n",
       "<style scoped>\n",
       "    .dataframe tbody tr th:only-of-type {\n",
       "        vertical-align: middle;\n",
       "    }\n",
       "\n",
       "    .dataframe tbody tr th {\n",
       "        vertical-align: top;\n",
       "    }\n",
       "\n",
       "    .dataframe thead th {\n",
       "        text-align: right;\n",
       "    }\n",
       "</style>\n",
       "<table border=\"1\" class=\"dataframe\">\n",
       "  <thead>\n",
       "    <tr style=\"text-align: right;\">\n",
       "      <th></th>\n",
       "      <th>stem</th>\n",
       "      <th>height</th>\n",
       "    </tr>\n",
       "  </thead>\n",
       "  <tbody>\n",
       "    <tr>\n",
       "      <th>2391033</th>\n",
       "      <td>ffffb9d9-d2a5-11ec-820f-5cfb3aa6f5e6</td>\n",
       "      <td>1706</td>\n",
       "    </tr>\n",
       "  </tbody>\n",
       "</table>\n",
       "</div>"
      ],
      "text/plain": [
       "                                         stem  height\n",
       "2391033  ffffb9d9-d2a5-11ec-820f-5cfb3aa6f5e6    1706"
      ]
     },
     "execution_count": 30,
     "metadata": {},
     "output_type": "execute_result"
    }
   ],
   "source": [
    "height_df.tail(1)"
   ]
  },
  {
   "cell_type": "code",
   "execution_count": null,
   "id": "535ccc31-657a-4310-9a26-635137015dab",
   "metadata": {},
   "outputs": [],
   "source": []
  },
  {
   "cell_type": "code",
   "execution_count": null,
   "id": "632b1720-3409-4f7f-bf55-bfae2bbb25cb",
   "metadata": {},
   "outputs": [],
   "source": []
  },
  {
   "cell_type": "code",
   "execution_count": 6,
   "id": "f13e4723-1de0-4b32-a2be-c2f92485d9fa",
   "metadata": {},
   "outputs": [],
   "source": [
    "def get_hw(p):\n",
    "    img = Image.open(p)\n",
    "    w, h = img.size\n",
    "    # w_list.append(w)\n",
    "    # h_list.append(h)\n",
    "    return w,h"
   ]
  },
  {
   "cell_type": "code",
   "execution_count": null,
   "id": "da83d697-228c-4e8e-93d0-c882f387f3ff",
   "metadata": {},
   "outputs": [],
   "source": []
  },
  {
   "cell_type": "code",
   "execution_count": 8,
   "id": "fa75f7cb-bb9a-4415-909a-1e08ee42a81e",
   "metadata": {},
   "outputs": [],
   "source": [
    "test_df = gall_df"
   ]
  },
  {
   "cell_type": "code",
   "execution_count": 7,
   "id": "685a1405-0188-43aa-b493-fefa330b2cb1",
   "metadata": {},
   "outputs": [],
   "source": [
    "# %%time\n",
    "# w_list, h_list = [], []\n",
    "# w_list, h_list = zip(*test_df['path'].apply(lambda x: get_hw(x) ))\n",
    "# test_df['width'] = w_list\n",
    "# test_df['height'] = h_list"
   ]
  },
  {
   "cell_type": "code",
   "execution_count": 12,
   "id": "0843406e-a4a3-4456-8ec7-78ae9fad6ca3",
   "metadata": {},
   "outputs": [
    {
     "name": "stdout",
     "output_type": "stream",
     "text": [
      "CPU times: user 1.94 s, sys: 2.04 s, total: 3.98 s\n",
      "Wall time: 19min 28s\n"
     ]
    }
   ],
   "source": [
    "%%time\n",
    "w_list, h_list = zip(*test_df['oss_path'].parallel_apply(lambda x: get_hw(x)))\n",
    "test_df['width'] = w_list\n",
    "test_df['height'] = h_list"
   ]
  },
  {
   "cell_type": "code",
   "execution_count": null,
   "id": "70169fb6-961d-4a92-93d8-1debd81add7a",
   "metadata": {},
   "outputs": [],
   "source": []
  },
  {
   "cell_type": "code",
   "execution_count": 13,
   "id": "83e65bf3-573f-470b-9625-f2ad1d4bf2d1",
   "metadata": {},
   "outputs": [],
   "source": [
    "test_df.to_csv('/nas/chenyi/datasets_cls/map/gallery/gall2m_df.csv', index=False)"
   ]
  },
  {
   "cell_type": "code",
   "execution_count": null,
   "id": "b612a8c2-77bc-4864-9909-d79269dc2ac9",
   "metadata": {},
   "outputs": [],
   "source": []
  },
  {
   "cell_type": "code",
   "execution_count": null,
   "id": "30897800-1543-47b5-b675-cd40b2199514",
   "metadata": {},
   "outputs": [],
   "source": []
  },
  {
   "cell_type": "code",
   "execution_count": 21,
   "id": "9cc5c3f4-707a-453a-b6c2-166317f7f0a2",
   "metadata": {},
   "outputs": [
    {
     "name": "stderr",
     "output_type": "stream",
     "text": [
      " ... (more hidden) ...\n"
     ]
    }
   ],
   "source": [
    "stay_dict = {}\n",
    "map_df = test_df.loc[:, ['stem', 'width']]\n",
    "for k, v in tqdm(zip(map_df[map_df.columns[0]].values, test_df[map_df.columns[1]].values)):\n",
    "    if k not in stay_dict.keys():\n",
    "        stay_dict[k] = v"
   ]
  },
  {
   "cell_type": "code",
   "execution_count": 22,
   "id": "12b6bf3f-dfd0-4298-b292-68d9faad540a",
   "metadata": {},
   "outputs": [],
   "source": [
    "with open('/nas/chenyi/datasets_cls/map/gallery/stem2width_gallery2m20220728.pickle', 'wb') as f:\n",
    "    pickle.dump(stay_dict, f)"
   ]
  },
  {
   "cell_type": "code",
   "execution_count": 23,
   "id": "6763c031-a973-4d31-a753-f45cede7cee3",
   "metadata": {},
   "outputs": [
    {
     "name": "stderr",
     "output_type": "stream",
     "text": [
      " ... (more hidden) ...\n"
     ]
    }
   ],
   "source": [
    "stay_dict = {}\n",
    "map_df = test_df.loc[:, ['stem', 'height']]\n",
    "for k, v in tqdm(zip(map_df[map_df.columns[0]].values, test_df[map_df.columns[1]].values)):\n",
    "    if k not in stay_dict.keys():\n",
    "        stay_dict[k] = v"
   ]
  },
  {
   "cell_type": "code",
   "execution_count": 24,
   "id": "e70eb0b7-4490-454a-9dc9-37e403729fa1",
   "metadata": {},
   "outputs": [],
   "source": [
    "with open('/nas/chenyi/datasets_cls/map/gallery/stem2height_gallery2m20220728.pickle', 'wb') as f:\n",
    "    pickle.dump(stay_dict, f)"
   ]
  },
  {
   "cell_type": "code",
   "execution_count": null,
   "id": "7fb15675-60a2-4019-9205-afeec624c5a2",
   "metadata": {},
   "outputs": [],
   "source": []
  },
  {
   "cell_type": "code",
   "execution_count": 103,
   "id": "738a1da7-831a-4875-9212-0b14cf8832bc",
   "metadata": {},
   "outputs": [],
   "source": [
    "width_df = pd.DataFrame()\n",
    "width_df['stem'] = stem2width.keys()\n",
    "width_df['width'] = stem2width.values()"
   ]
  },
  {
   "cell_type": "code",
   "execution_count": null,
   "id": "1b663b63-ec52-4afb-b661-000ace50fe31",
   "metadata": {},
   "outputs": [],
   "source": []
  },
  {
   "cell_type": "code",
   "execution_count": null,
   "id": "406cdf1c-4b92-4166-a2b3-0e3439875299",
   "metadata": {},
   "outputs": [],
   "source": []
  },
  {
   "cell_type": "markdown",
   "id": "60b44384-2b45-45b5-98f7-fe0881c4b90e",
   "metadata": {},
   "source": [
    "#### 生成gallery目标df"
   ]
  },
  {
   "cell_type": "code",
   "execution_count": null,
   "id": "878a54a2-5330-45f0-9b29-3df4a8e60896",
   "metadata": {},
   "outputs": [],
   "source": [
    "with open('/nas/chenyi/datasets_cls/map/gallery/stem2width_gallery2m202208.pickle', 'rb') as f:\n",
    "    stem2width = pickle.load(f)\n",
    "with open('/nas/chenyi/datasets_cls/map/gallery/stem2height_gallery2m202208.pickle', 'rb') as f:\n",
    "    stem2height = pickle.load(f)"
   ]
  },
  {
   "cell_type": "code",
   "execution_count": 27,
   "id": "8db81d10-f3fd-4b18-987b-f765c14f4cab",
   "metadata": {},
   "outputs": [],
   "source": [
    "# gall_df['width'] = gall_df['stem'].map(stem2width)"
   ]
  },
  {
   "cell_type": "code",
   "execution_count": 126,
   "id": "69908994-9ba0-47c3-afbf-34b4b77db281",
   "metadata": {},
   "outputs": [],
   "source": [
    "gall_df['height'] = gall_df['stem'].map(stay_dict)"
   ]
  },
  {
   "cell_type": "code",
   "execution_count": null,
   "id": "a556c020-8591-49ae-a197-857c03572b8f",
   "metadata": {},
   "outputs": [],
   "source": []
  }
 ],
 "metadata": {
  "kernelspec": {
   "display_name": "Python 3 (ipykernel)",
   "language": "python",
   "name": "python3"
  },
  "language_info": {
   "codemirror_mode": {
    "name": "ipython",
    "version": 3
   },
   "file_extension": ".py",
   "mimetype": "text/x-python",
   "name": "python",
   "nbconvert_exporter": "python",
   "pygments_lexer": "ipython3",
   "version": "3.8.13"
  }
 },
 "nbformat": 4,
 "nbformat_minor": 5
}
