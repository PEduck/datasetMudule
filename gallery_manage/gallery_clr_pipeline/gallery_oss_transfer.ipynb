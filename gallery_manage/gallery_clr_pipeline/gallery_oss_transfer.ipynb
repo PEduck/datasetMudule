{
 "cells": [
  {
   "cell_type": "code",
   "execution_count": 1,
   "id": "34757be3-e34b-4b0e-90c4-edbeae1cb8c2",
   "metadata": {},
   "outputs": [],
   "source": [
    "import glob\n",
    "import pandas as pd\n",
    "from pathlib import Path"
   ]
  },
  {
   "cell_type": "code",
   "execution_count": 2,
   "id": "a67256e7-65c5-4f4a-966f-e4731f691238",
   "metadata": {},
   "outputs": [],
   "source": [
    "import re"
   ]
  },
  {
   "cell_type": "code",
   "execution_count": null,
   "id": "eabf7d4f-e1e3-4bf5-8305-3a8f906b745e",
   "metadata": {},
   "outputs": [],
   "source": []
  },
  {
   "cell_type": "code",
   "execution_count": null,
   "id": "cc26d3a9-340d-4cc9-861e-66e9ad8f4985",
   "metadata": {},
   "outputs": [],
   "source": []
  },
  {
   "cell_type": "markdown",
   "id": "6be1b9d4-dd8b-4f67-848d-3579a6475d35",
   "metadata": {},
   "source": [
    "### API"
   ]
  },
  {
   "cell_type": "code",
   "execution_count": 3,
   "id": "dab63198-f638-49e6-b3d9-a63c5adcceb2",
   "metadata": {},
   "outputs": [],
   "source": [
    "import sys\n",
    "sys.path.append('../../')\n",
    "from utils.data.transfer import copy_data_mkdir, run_task_multithread"
   ]
  },
  {
   "cell_type": "markdown",
   "id": "363a0cd9-50bb-4f41-af20-35cba0afd156",
   "metadata": {},
   "source": [
    "#### Data Infomation"
   ]
  },
  {
   "cell_type": "code",
   "execution_count": 4,
   "id": "bc34345e-1ef4-40c5-b599-7dae7452372b",
   "metadata": {},
   "outputs": [],
   "source": [
    "root = Path('/nas/chenyi/datasets_cls/gallery_detect/')\n",
    "det_root = Path('/nas/chenyi/datasets_cls/gallery_detect/gallery_oss/dadetv4/')"
   ]
  },
  {
   "cell_type": "code",
   "execution_count": 26,
   "id": "9614dad9-5d82-4027-87ae-cabcc0a0fad1",
   "metadata": {},
   "outputs": [
    {
     "name": "stdout",
     "output_type": "stream",
     "text": [
      "crops_manual  @eaDir  gall_dadetv4_all\tgall_dadetv4_rev  info\n"
     ]
    }
   ],
   "source": [
    "show_root = root /'gallery_oss/dadetv4'\n",
    "!ls $show_root/"
   ]
  },
  {
   "cell_type": "code",
   "execution_count": 47,
   "id": "bcf9a68e-bf68-4fe4-8da8-710f50d79fe0",
   "metadata": {},
   "outputs": [
    {
     "name": "stdout",
     "output_type": "stream",
     "text": [
      "01  02\t0a  0b\t0c  0d\t0e  0f\t1a  1b\t1c  1d\t1e  1f\t2a  2b\t2c  2d\t2e  2f\n"
     ]
    }
   ],
   "source": [
    "show_root = root /'gallery_oss/dadetv4/crops_manual/skirt/skirt'\n",
    "!ls $show_root"
   ]
  },
  {
   "cell_type": "code",
   "execution_count": 45,
   "id": "8d960a8f-a72d-4117-acb9-1bf4b8b1fb80",
   "metadata": {},
   "outputs": [
    {
     "name": "stdout",
     "output_type": "stream",
     "text": [
      "01  02\t0a  0b\t0c  0d\t0e  0f\t1a  1b\t1c  1d\t1e  1f\t2a  2b\t2c  2d\t2e  2f\n"
     ]
    }
   ],
   "source": [
    "show_root = root /'gallery_oss/dadetv4/gall_dadetv4_all/crops4clear/skirt'\n",
    "!ls $show_root"
   ]
  },
  {
   "cell_type": "code",
   "execution_count": null,
   "id": "45fbd460-50b0-4a5d-b411-0918a2875223",
   "metadata": {},
   "outputs": [],
   "source": []
  },
  {
   "cell_type": "code",
   "execution_count": null,
   "id": "f54baf7d-2c13-417f-982b-48fce2895449",
   "metadata": {},
   "outputs": [],
   "source": []
  },
  {
   "cell_type": "code",
   "execution_count": 37,
   "id": "ca44e1e5-8796-45b8-91b7-d545e02a0802",
   "metadata": {},
   "outputs": [],
   "source": [
    "img_org = glob.glob(str(root /'gallery_oss/dadetv4/gall_dadetv4_all/crops4clear/bag/*/*/*'))"
   ]
  },
  {
   "cell_type": "code",
   "execution_count": 39,
   "id": "5bb5f285-35a1-4dc9-8724-21990dca1b06",
   "metadata": {},
   "outputs": [],
   "source": [
    "img_clr = glob.glob(str(root /'gallery_oss/dadetv4/crops_manual/bag/*/*/*'))"
   ]
  },
  {
   "cell_type": "code",
   "execution_count": 40,
   "id": "8002ddf4-603f-4369-ac29-0bd14f816a5d",
   "metadata": {},
   "outputs": [
    {
     "data": {
      "text/plain": [
       "20014"
      ]
     },
     "execution_count": 40,
     "metadata": {},
     "output_type": "execute_result"
    }
   ],
   "source": [
    "len(img_clr)"
   ]
  },
  {
   "cell_type": "code",
   "execution_count": 41,
   "id": "cc93d934-9a7c-4744-af67-3329c5ff6550",
   "metadata": {},
   "outputs": [
    {
     "data": {
      "text/plain": [
       "0.8576448405896469"
      ]
     },
     "execution_count": 41,
     "metadata": {},
     "output_type": "execute_result"
    }
   ],
   "source": [
    "len(img_clr)/len(img_org)"
   ]
  },
  {
   "cell_type": "code",
   "execution_count": 43,
   "id": "c082d4b1-cd74-46b6-a510-ec82ac67539d",
   "metadata": {},
   "outputs": [
    {
     "data": {
      "text/plain": [
       "0.9833566154460187"
      ]
     },
     "execution_count": 43,
     "metadata": {},
     "output_type": "execute_result"
    }
   ],
   "source": [
    "img_org = glob.glob(str(root /'gallery_oss/dadetv4/gall_dadetv4_all/crops4clear/lowerbody/*/*/*'))\n",
    "img_clr = glob.glob(str(root /'gallery_oss/dadetv4/crops_manual/lowerbody/*/*/*'))\n",
    "len(img_clr)/len(img_org)"
   ]
  },
  {
   "cell_type": "code",
   "execution_count": 48,
   "id": "ddbb26de-88c9-43b3-84b5-f3126efefb0e",
   "metadata": {},
   "outputs": [
    {
     "data": {
      "text/plain": [
       "0.9478269193949838"
      ]
     },
     "execution_count": 48,
     "metadata": {},
     "output_type": "execute_result"
    }
   ],
   "source": [
    "img_org = glob.glob(str(root /'gallery_oss/dadetv4/gall_dadetv4_all/crops4clear/skirt/*/*/*'))\n",
    "img_clr = glob.glob(str(root /'gallery_oss/dadetv4/crops_manual/skirt/*/*/*'))\n",
    "len(img_clr)/len(img_org)"
   ]
  },
  {
   "cell_type": "code",
   "execution_count": null,
   "id": "b36faa74-7c0b-4d57-bc5e-c6d0f1c40f98",
   "metadata": {},
   "outputs": [],
   "source": []
  },
  {
   "cell_type": "code",
   "execution_count": null,
   "id": "f158e247-506e-4d04-9b7f-3c044feb0e08",
   "metadata": {},
   "outputs": [],
   "source": []
  },
  {
   "cell_type": "code",
   "execution_count": null,
   "id": "074c6928-a6df-4576-9e4f-865a06a5ed5c",
   "metadata": {},
   "outputs": [],
   "source": []
  },
  {
   "cell_type": "markdown",
   "id": "391ffe5a-48b7-479d-8e0d-45650fa6cb92",
   "metadata": {},
   "source": [
    "##### Dataload"
   ]
  },
  {
   "cell_type": "code",
   "execution_count": 43,
   "id": "e2a176b6-f9c4-48cd-bf45-34f3fb9233f1",
   "metadata": {},
   "outputs": [],
   "source": [
    "# imgs_gall_df = pd.read_csv('/nas/chenyi/datasets_cls/gallery_detect/csv/gall_df.csv')\n",
    "# imgs_gall_df.to_csv('/nas/chenyi/datasets_cls/gallery_detect/csv/gall_df.csv', index=False)"
   ]
  },
  {
   "cell_type": "code",
   "execution_count": null,
   "id": "017ecaab-bac9-4d82-883e-17e993d7598b",
   "metadata": {},
   "outputs": [],
   "source": [
    "%%time\n",
    "imgs_rev_list = glob.glob(str(det_root /'gall_dadetv4_rev/imgs_det/*.jpg'))"
   ]
  },
  {
   "cell_type": "code",
   "execution_count": 34,
   "id": "e32fee0a-6986-4246-bba7-c8f490f16618",
   "metadata": {},
   "outputs": [
    {
     "data": {
      "text/plain": [
       "0.6520115300557302"
      ]
     },
     "execution_count": 34,
     "metadata": {},
     "output_type": "execute_result"
    }
   ],
   "source": [
    "1083250/1661397"
   ]
  },
  {
   "cell_type": "code",
   "execution_count": 35,
   "id": "5023f348-8c69-447d-9b6b-640bc3926832",
   "metadata": {},
   "outputs": [],
   "source": [
    "imgs_gall_rev = imgs_gall_df[1083250:]"
   ]
  },
  {
   "cell_type": "code",
   "execution_count": 44,
   "id": "d05b3a23-537c-4688-b0d1-250d030c00e3",
   "metadata": {},
   "outputs": [
    {
     "data": {
      "text/html": [
       "<div>\n",
       "<style scoped>\n",
       "    .dataframe tbody tr th:only-of-type {\n",
       "        vertical-align: middle;\n",
       "    }\n",
       "\n",
       "    .dataframe tbody tr th {\n",
       "        vertical-align: top;\n",
       "    }\n",
       "\n",
       "    .dataframe thead th {\n",
       "        text-align: right;\n",
       "    }\n",
       "</style>\n",
       "<table border=\"1\" class=\"dataframe\">\n",
       "  <thead>\n",
       "    <tr style=\"text-align: right;\">\n",
       "      <th></th>\n",
       "      <th>oss_sp</th>\n",
       "      <th>stem</th>\n",
       "    </tr>\n",
       "  </thead>\n",
       "  <tbody>\n",
       "    <tr>\n",
       "      <th>0</th>\n",
       "      <td>/nas/oss/gallery/69/31/69313640-af52-465e-88c8...</td>\n",
       "      <td>69313640-af52-465e-88c8-c0a0099ca5c7-699544</td>\n",
       "    </tr>\n",
       "    <tr>\n",
       "      <th>1</th>\n",
       "      <td>/nas/oss/gallery/69/31/69314608-5ca4-4891-8a72...</td>\n",
       "      <td>69314608-5ca4-4891-8a72-ac4cbbc7033a-445882</td>\n",
       "    </tr>\n",
       "    <tr>\n",
       "      <th>2</th>\n",
       "      <td>/nas/oss/gallery/69/31/6931afe9-4e7a-4c49-8a87...</td>\n",
       "      <td>6931afe9-4e7a-4c49-8a87-72630dfbf5d2-345767</td>\n",
       "    </tr>\n",
       "    <tr>\n",
       "      <th>3</th>\n",
       "      <td>/nas/oss/gallery/69/31/6931a1dc-76d5-4de9-9827...</td>\n",
       "      <td>6931a1dc-76d5-4de9-9827-3c5b4841fd26-674980</td>\n",
       "    </tr>\n",
       "    <tr>\n",
       "      <th>4</th>\n",
       "      <td>/nas/oss/gallery/69/31/6931d292-4a64-4b28-97a0...</td>\n",
       "      <td>6931d292-4a64-4b28-97a0-64ace65c87e4-411370</td>\n",
       "    </tr>\n",
       "  </tbody>\n",
       "</table>\n",
       "</div>"
      ],
      "text/plain": [
       "                                              oss_sp  \\\n",
       "0  /nas/oss/gallery/69/31/69313640-af52-465e-88c8...   \n",
       "1  /nas/oss/gallery/69/31/69314608-5ca4-4891-8a72...   \n",
       "2  /nas/oss/gallery/69/31/6931afe9-4e7a-4c49-8a87...   \n",
       "3  /nas/oss/gallery/69/31/6931a1dc-76d5-4de9-9827...   \n",
       "4  /nas/oss/gallery/69/31/6931d292-4a64-4b28-97a0...   \n",
       "\n",
       "                                          stem  \n",
       "0  69313640-af52-465e-88c8-c0a0099ca5c7-699544  \n",
       "1  69314608-5ca4-4891-8a72-ac4cbbc7033a-445882  \n",
       "2  6931afe9-4e7a-4c49-8a87-72630dfbf5d2-345767  \n",
       "3  6931a1dc-76d5-4de9-9827-3c5b4841fd26-674980  \n",
       "4  6931d292-4a64-4b28-97a0-64ace65c87e4-411370  "
      ]
     },
     "execution_count": 44,
     "metadata": {},
     "output_type": "execute_result"
    }
   ],
   "source": [
    "imgs_gall_df.head()"
   ]
  },
  {
   "cell_type": "code",
   "execution_count": 41,
   "id": "8c1b43aa-14a3-4294-91e9-d14cfaa71cfe",
   "metadata": {},
   "outputs": [
    {
     "name": "stdout",
     "output_type": "stream",
     "text": [
      "CPU times: user 4.59 s, sys: 24.3 ms, total: 4.61 s\n",
      "Wall time: 4.61 s\n"
     ]
    }
   ],
   "source": [
    "%%time\n",
    "imgs_gall_df['stem'] = imgs_gall_df['oss_sp'].apply(lambda x: Path(x).stem)"
   ]
  },
  {
   "cell_type": "code",
   "execution_count": 6,
   "id": "b2d465ec-78bd-4413-a023-61724b2aa1a3",
   "metadata": {},
   "outputs": [
    {
     "name": "stdout",
     "output_type": "stream",
     "text": [
      "crops  imgs_det  labels\n"
     ]
    }
   ],
   "source": [
    "!ls /nas/chenyi/datasets_cls/gallery_detect/gallery_oss/dadetv4/gall_dadetv4_all"
   ]
  },
  {
   "cell_type": "code",
   "execution_count": 9,
   "id": "66e927de-1a96-43a1-82ff-e2fd59c15d5f",
   "metadata": {},
   "outputs": [],
   "source": [
    "gall = pd.read_csv('/nas/chenyi/datasets_cls/gallery_detect/csv/gallery00.csv')"
   ]
  },
  {
   "cell_type": "code",
   "execution_count": 11,
   "id": "e763eb13-e30d-4766-8dd2-b5a1f57447f4",
   "metadata": {},
   "outputs": [
    {
     "data": {
      "text/plain": [
       "array([['/nas/oss/gallery/00/00/000006d9-d433-4d50-80b1-2c88518e9f5e-481515.jpg'],\n",
       "       ['/nas/oss/gallery/00/00/00004b07-40c8-488a-a408-b7e7faace3c7-819801.jpg']],\n",
       "      dtype=object)"
      ]
     },
     "execution_count": 11,
     "metadata": {},
     "output_type": "execute_result"
    }
   ],
   "source": [
    "gall.head(2).values"
   ]
  },
  {
   "cell_type": "code",
   "execution_count": null,
   "id": "0e35d5e2-a592-4a34-add2-ca6ad7126a67",
   "metadata": {},
   "outputs": [],
   "source": []
  },
  {
   "cell_type": "code",
   "execution_count": null,
   "id": "ae933f26-339a-4cfd-a2f9-37263d8d8515",
   "metadata": {},
   "outputs": [],
   "source": []
  },
  {
   "cell_type": "markdown",
   "id": "c1fb9674-5542-421d-bc03-a8e8b49b5f6c",
   "metadata": {},
   "source": [
    "#### 数据拷贝"
   ]
  },
  {
   "cell_type": "code",
   "execution_count": 74,
   "id": "8ba2b828-bcd8-4412-a0d7-0e1dc6907a50",
   "metadata": {},
   "outputs": [],
   "source": [
    "import json\n",
    "with open('/nas/chenyi/datasets_cls/gallery_detect/gallery_oss/dadetv4/info/.json', 'r') as f:\n",
    "    crops_rev_list = json.load(f)"
   ]
  },
  {
   "cell_type": "code",
   "execution_count": 86,
   "id": "e0689881-ef77-480e-beab-30e8135de316",
   "metadata": {},
   "outputs": [
    {
     "data": {
      "text/plain": [
       "577959"
      ]
     },
     "execution_count": 86,
     "metadata": {},
     "output_type": "execute_result"
    }
   ],
   "source": [
    "labels_rev_list = glob.glob('/nas/chenyi/datasets_cls/gallery_detect/gallery_oss/dadetv4/gall_dadetv4_rev/labels/*')\n",
    "len(labels_rev_list)"
   ]
  },
  {
   "cell_type": "code",
   "execution_count": 61,
   "id": "a7d93466-107c-457b-88ef-f9117a4ab78f",
   "metadata": {},
   "outputs": [],
   "source": [
    "# labels_rev_list = [p.replace('dadetv4/gall_dadetv4_rev/crops/', 'dadetv4/gall_dadetv4_rev/labels/') for p in crops_rev_list]\n",
    "# labels_rev_list = [p.replace('.jpg', '.txt') for p in labels_rev_list]"
   ]
  },
  {
   "cell_type": "code",
   "execution_count": 88,
   "id": "1854f91d-15c0-4b72-8376-df17ebfc5050",
   "metadata": {},
   "outputs": [],
   "source": [
    "labels_list = [p.replace('dadetv4/gall_dadetv4_rev/labels', 'dadetv4/gall_dadetv4_all/labels') for p in labels_rev_list]"
   ]
  },
  {
   "cell_type": "code",
   "execution_count": null,
   "id": "550b974c-d42b-40bd-986b-4971ce5a7f0f",
   "metadata": {},
   "outputs": [],
   "source": []
  },
  {
   "cell_type": "code",
   "execution_count": 89,
   "id": "01b7508e-9fdd-4838-b480-6f1c397922d3",
   "metadata": {},
   "outputs": [
    {
     "data": {
      "text/plain": [
       "('/nas/chenyi/datasets_cls/gallery_detect/gallery_oss/dadetv4/gall_dadetv4_rev/labels/ffa73c89-b27a-4c6e-b377-c12b49ee0aec-441022.txt',\n",
       " '/nas/chenyi/datasets_cls/gallery_detect/gallery_oss/dadetv4/gall_dadetv4_all/labels/ffa73c89-b27a-4c6e-b377-c12b49ee0aec-441022.txt')"
      ]
     },
     "execution_count": 89,
     "metadata": {},
     "output_type": "execute_result"
    }
   ],
   "source": [
    "labels_rev_list[0], labels_list[0]"
   ]
  },
  {
   "cell_type": "code",
   "execution_count": null,
   "id": "3976839f-4b64-424a-a9ec-92eb9152f664",
   "metadata": {},
   "outputs": [],
   "source": []
  },
  {
   "cell_type": "code",
   "execution_count": 90,
   "id": "c292b876-779f-4796-b6a9-b58f5c3dd93f",
   "metadata": {},
   "outputs": [],
   "source": [
    "input_list = [list(item) for item in zip(labels_rev_list, labels_list)]"
   ]
  },
  {
   "cell_type": "code",
   "execution_count": null,
   "id": "d01e2e18-eda6-415a-89af-55c5267189dd",
   "metadata": {},
   "outputs": [],
   "source": []
  },
  {
   "cell_type": "code",
   "execution_count": 91,
   "id": "bbbc9b01-afdf-4527-a972-6e475ff642a8",
   "metadata": {},
   "outputs": [
    {
     "name": "stdout",
     "output_type": "stream",
     "text": [
      "CPU times: user 3 µs, sys: 0 ns, total: 3 µs\n",
      "Wall time: 4.53 µs\n"
     ]
    }
   ],
   "source": [
    "%%time\n",
    "import shutil\n",
    "def copy_data_mkdir(plist, mode='move'):\n",
    "    ps = Path(plist[0])\n",
    "    pt = Path(plist[1])\n",
    "    if not pt.parent.is_dir():\n",
    "        pt.parent.mkdir(parents=True, exist_ok=True)\n",
    "    if (not pt.is_file()) and (ps.is_file()):\n",
    "        if mode=='move':\n",
    "            Path.rename(ps, pt)\n",
    "        else:\n",
    "            shutil.copyfile(ps, pt)"
   ]
  },
  {
   "cell_type": "code",
   "execution_count": 92,
   "id": "2d070922-bb05-47d9-87da-097bb57d8284",
   "metadata": {},
   "outputs": [
    {
     "data": {
      "text/plain": [
       "['/nas/chenyi/datasets_cls/gallery_detect/gallery_oss/dadetv4/gall_dadetv4_rev/labels/ffa73c89-b27a-4c6e-b377-c12b49ee0aec-441022.txt',\n",
       " '/nas/chenyi/datasets_cls/gallery_detect/gallery_oss/dadetv4/gall_dadetv4_all/labels/ffa73c89-b27a-4c6e-b377-c12b49ee0aec-441022.txt']"
      ]
     },
     "execution_count": 92,
     "metadata": {},
     "output_type": "execute_result"
    }
   ],
   "source": [
    "input_list[0]"
   ]
  },
  {
   "cell_type": "code",
   "execution_count": 93,
   "id": "6fabbce2-8fae-49f3-9def-5c74f48db229",
   "metadata": {},
   "outputs": [
    {
     "name": "stdout",
     "output_type": "stream",
     "text": [
      "CPU times: user 37.9 s, sys: 47.3 s, total: 1min 25s\n",
      "Wall time: 5min 29s\n"
     ]
    }
   ],
   "source": [
    "%%time           \n",
    "run_task_multithread(input_list, copy_data_mkdir, 20)"
   ]
  },
  {
   "cell_type": "code",
   "execution_count": null,
   "id": "71f97679-0b5a-44c9-a775-35fb3d948ff8",
   "metadata": {},
   "outputs": [],
   "source": []
  },
  {
   "cell_type": "code",
   "execution_count": null,
   "id": "a170139d-e0bb-49d8-8dbb-19210df422ce",
   "metadata": {},
   "outputs": [],
   "source": []
  },
  {
   "cell_type": "markdown",
   "id": "fe5cbfdf-29c3-4f67-a7da-df9f9f292394",
   "metadata": {
    "tags": []
   },
   "source": [
    "#### 数据删除"
   ]
  },
  {
   "cell_type": "code",
   "execution_count": 19,
   "id": "6a015b43-e183-474e-98c4-ae9417378684",
   "metadata": {},
   "outputs": [],
   "source": [
    "det_root = Path('/nas/chenyi/datasets_cls/gallery_detect/gallery_oss/dadetv4')"
   ]
  },
  {
   "cell_type": "code",
   "execution_count": 14,
   "id": "e4a64cb1-6b6b-4eb9-834d-4e017d6878a8",
   "metadata": {},
   "outputs": [
    {
     "data": {
      "text/plain": [
       "1661397"
      ]
     },
     "execution_count": 14,
     "metadata": {},
     "output_type": "execute_result"
    }
   ],
   "source": [
    "len(imgs_gall_df)"
   ]
  },
  {
   "cell_type": "code",
   "execution_count": 23,
   "id": "f1afc617-3c14-4580-9ebd-71462bdcc0f5",
   "metadata": {},
   "outputs": [],
   "source": [
    "imgs_gall1m_df = imgs_gall_df[:int(1e6)]\n",
    "imgs_gall_rev_df = imgs_gall_df[int(1e6):]"
   ]
  },
  {
   "cell_type": "code",
   "execution_count": 22,
   "id": "19e0f06f-3380-47b0-b8e8-9a75d0cf3d30",
   "metadata": {},
   "outputs": [
    {
     "data": {
      "text/plain": [
       "1000000"
      ]
     },
     "execution_count": 22,
     "metadata": {},
     "output_type": "execute_result"
    }
   ],
   "source": [
    "len(imgs_gall1m_df)"
   ]
  },
  {
   "cell_type": "code",
   "execution_count": null,
   "id": "1bd34b06-ea36-4ebe-95c6-7d957db3c7a6",
   "metadata": {},
   "outputs": [],
   "source": []
  },
  {
   "cell_type": "code",
   "execution_count": null,
   "id": "e05ade0f-850f-41a5-bb06-751c34617693",
   "metadata": {},
   "outputs": [],
   "source": [
    "%%time\n",
    "import shutil\n",
    "def copy_data_mkdir(plist, mode='copy'):\n",
    "    ps = Path(plist[0])\n",
    "    pt = Path(plist[1])\n",
    "    if not pt.parent.is_dir():\n",
    "        pt.parent.mkdir(parents=True, exist_ok=True)\n",
    "    if not pt.is_file():\n",
    "        if mode=='move':\n",
    "            Path.rename(ps, pt)\n",
    "        else:\n",
    "            shutil.copyfile(ps, pt)\n",
    "            \n",
    "run_task_multithread(input_list, copy_data_mkdir)"
   ]
  },
  {
   "cell_type": "code",
   "execution_count": null,
   "id": "2d59a8a1-ef15-476e-8132-de6b7616227e",
   "metadata": {},
   "outputs": [],
   "source": []
  },
  {
   "cell_type": "markdown",
   "id": "87a7bbf6-bd01-4cd6-93dd-250ccb10f0f0",
   "metadata": {},
   "source": [
    "### 分析img和label的数据"
   ]
  },
  {
   "cell_type": "code",
   "execution_count": 76,
   "id": "7fde4ba0-1d70-4758-88f0-2786aaa3ed71",
   "metadata": {},
   "outputs": [],
   "source": [
    "imgs_df['stem'] = imgs_df['path'].apply(lambda x: Path(x).stem)"
   ]
  },
  {
   "cell_type": "code",
   "execution_count": 77,
   "id": "5bf8a5bb-d095-41e0-af4b-77cbfc19e689",
   "metadata": {},
   "outputs": [],
   "source": [
    "txt_df['stem'] = txt_df['path'].apply(lambda x: Path(x).stem)"
   ]
  },
  {
   "cell_type": "code",
   "execution_count": 88,
   "id": "b13c3cd3-8bea-4436-bddf-6561a7b4e035",
   "metadata": {},
   "outputs": [],
   "source": [
    "imgs_cross = imgs_df[imgs_df['stem'].isin(txt_df['stem'])]"
   ]
  },
  {
   "cell_type": "code",
   "execution_count": 91,
   "id": "fc796313-152f-42ba-aa8c-a2c18e421540",
   "metadata": {},
   "outputs": [],
   "source": [
    "txt_cross = txt_df[txt_df['stem'].isin(imgs_df['stem'])]"
   ]
  },
  {
   "cell_type": "code",
   "execution_count": 80,
   "id": "d313151a-433d-406d-9327-898257cbd818",
   "metadata": {},
   "outputs": [],
   "source": [
    "imgs_df.sort_values('stem',inplace=True)\n",
    "txt_df.sort_values('stem',inplace=True)"
   ]
  },
  {
   "cell_type": "code",
   "execution_count": 92,
   "id": "76653b4c-db2b-4668-852c-ea764ddbcb08",
   "metadata": {},
   "outputs": [
    {
     "data": {
      "text/plain": [
       "(478504, 453275, 453275, 453275)"
      ]
     },
     "execution_count": 92,
     "metadata": {},
     "output_type": "execute_result"
    }
   ],
   "source": [
    "len(imgs_df),len(txt_df), len(imgs_cross), len(txt_cross)"
   ]
  },
  {
   "cell_type": "code",
   "execution_count": 93,
   "id": "e669b1af-9904-4cfa-9ea6-01410c5e0c19",
   "metadata": {},
   "outputs": [
    {
     "name": "stderr",
     "output_type": "stream",
     "text": [
      "/tmp/ipykernel_411860/859653631.py:1: SettingWithCopyWarning: \n",
      "A value is trying to be set on a copy of a slice from a DataFrame\n",
      "\n",
      "See the caveats in the documentation: https://pandas.pydata.org/pandas-docs/stable/user_guide/indexing.html#returning-a-view-versus-a-copy\n",
      "  imgs_cross.sort_values('stem',inplace=True)\n"
     ]
    }
   ],
   "source": [
    "imgs_cross.sort_values('stem',inplace=True)\n",
    "txt_cross.sort_values('stem',inplace=True)"
   ]
  },
  {
   "cell_type": "code",
   "execution_count": 94,
   "id": "072a3785-1f7c-485f-b29f-3744ca13602c",
   "metadata": {},
   "outputs": [],
   "source": [
    "watoo_df = pd.DataFrame()\n",
    "watoo_df['img_p'] = imgs_cross['path'].values\n",
    "watoo_df['label_p'] = txt_cross['path'].values"
   ]
  },
  {
   "cell_type": "code",
   "execution_count": null,
   "id": "fe600dae-384f-4472-91c0-dc7e12f37511",
   "metadata": {},
   "outputs": [],
   "source": []
  },
  {
   "cell_type": "code",
   "execution_count": null,
   "id": "60d98e12-de46-4e4d-969a-6528cfee1c3a",
   "metadata": {},
   "outputs": [],
   "source": []
  },
  {
   "cell_type": "code",
   "execution_count": null,
   "id": "e37875df-0b4e-4207-95bb-7aa310d53e87",
   "metadata": {},
   "outputs": [],
   "source": []
  },
  {
   "cell_type": "markdown",
   "id": "29119115-0c6e-4fe1-ac87-e46508c24d7e",
   "metadata": {},
   "source": [
    "#### 未被检测的数据"
   ]
  },
  {
   "cell_type": "code",
   "execution_count": 98,
   "id": "5ff4f165-683c-42a1-9a06-1abc68031780",
   "metadata": {},
   "outputs": [],
   "source": [
    "imgs_nodet = imgs_df[~imgs_df['stem'].isin(txt_df['stem'])]"
   ]
  },
  {
   "cell_type": "code",
   "execution_count": 99,
   "id": "4255002a-1684-4aff-af8c-a6d0b7e7263a",
   "metadata": {},
   "outputs": [
    {
     "data": {
      "text/plain": [
       "25229"
      ]
     },
     "execution_count": 99,
     "metadata": {},
     "output_type": "execute_result"
    }
   ],
   "source": [
    "len(imgs_nodet)"
   ]
  },
  {
   "cell_type": "code",
   "execution_count": 134,
   "id": "03f6dd6c-929c-457a-847f-74760ea307e5",
   "metadata": {},
   "outputs": [],
   "source": [
    "# imgs_nodet.to_csv('./data/watoo470k/imgs_nodet.csv', index=False)"
   ]
  },
  {
   "cell_type": "code",
   "execution_count": 119,
   "id": "8c3c5406-dd22-487d-a2c3-060a0c2bf084",
   "metadata": {},
   "outputs": [],
   "source": [
    "p = imgs_nodet['path'].values[9]"
   ]
  },
  {
   "cell_type": "code",
   "execution_count": null,
   "id": "6514d55a-8e64-4076-8d08-e27838f2b4fd",
   "metadata": {},
   "outputs": [],
   "source": []
  },
  {
   "cell_type": "code",
   "execution_count": null,
   "id": "71f83ad0-c0d1-48a8-a688-3573d3268bac",
   "metadata": {},
   "outputs": [],
   "source": []
  },
  {
   "cell_type": "markdown",
   "id": "f524ad5f-313c-4cf3-b6a0-915265da72f0",
   "metadata": {},
   "source": [
    "#### 解析labels txt"
   ]
  },
  {
   "cell_type": "code",
   "execution_count": 13,
   "id": "cdb8c681-36ca-47a6-9533-b657be38242c",
   "metadata": {},
   "outputs": [
    {
     "name": "stdout",
     "output_type": "stream",
     "text": [
      "2 0.505992 0.516117 0.985353 0.78036 0.810297\n"
     ]
    }
   ],
   "source": [
    "p = txt_df.head(1).values[0][0]\n",
    "!cat $p"
   ]
  },
  {
   "cell_type": "code",
   "execution_count": null,
   "id": "9ebb6bac-715c-4db3-921c-16e0d280f424",
   "metadata": {},
   "outputs": [],
   "source": []
  },
  {
   "cell_type": "code",
   "execution_count": 49,
   "id": "ecb31567-dd69-4bdc-8c82-8154207ef2b4",
   "metadata": {},
   "outputs": [
    {
     "name": "stdout",
     "output_type": "stream",
     "text": [
      "3 0.506 0.923333 0.305333 0.153333 0.707341\n",
      "2 0.464667 0.59 0.572 0.545333 0.958252\n"
     ]
    }
   ],
   "source": [
    "p = txt_df.head(10).values[-4][0]\n",
    "!cat $p"
   ]
  },
  {
   "cell_type": "code",
   "execution_count": 74,
   "id": "9b0755ed-4546-4367-8f27-9928bf030c2d",
   "metadata": {},
   "outputs": [],
   "source": [
    "with open(p,'r') as f:\n",
    "    txt = f.readlines()"
   ]
  },
  {
   "cell_type": "code",
   "execution_count": 75,
   "id": "319286f4-0932-4960-91ed-cd94e1f7efd4",
   "metadata": {},
   "outputs": [
    {
     "data": {
      "text/plain": [
       "['3 0.506 0.923333 0.305333 0.153333 0.707341\\n',\n",
       " '2 0.464667 0.59 0.572 0.545333 0.958252\\n']"
      ]
     },
     "execution_count": 75,
     "metadata": {},
     "output_type": "execute_result"
    }
   ],
   "source": [
    "txt"
   ]
  },
  {
   "cell_type": "code",
   "execution_count": 69,
   "id": "cfece277-cfdd-4a7e-aa32-095385e491b9",
   "metadata": {},
   "outputs": [],
   "source": [
    "for item in txt:\n",
    "    list1 = re.split(r'\\n', item)\n",
    "    list2 = list1[0].split(' ')\n",
    "    "
   ]
  },
  {
   "cell_type": "code",
   "execution_count": null,
   "id": "5bdb2d9e-08df-49a9-817f-fbff45d0e052",
   "metadata": {},
   "outputs": [],
   "source": []
  },
  {
   "cell_type": "code",
   "execution_count": null,
   "id": "7309d015-19e2-4db4-8c77-bf2b81c7e027",
   "metadata": {},
   "outputs": [],
   "source": []
  },
  {
   "cell_type": "markdown",
   "id": "2edb329f-7dd0-4d8c-a50f-f9a843eebcc9",
   "metadata": {},
   "source": [
    "#### 获取图片宽高"
   ]
  },
  {
   "cell_type": "code",
   "execution_count": 13,
   "id": "f44eb7b1-eb4f-49d7-b73e-5d261508c9a6",
   "metadata": {},
   "outputs": [
    {
     "name": "stdout",
     "output_type": "stream",
     "text": [
      "crops_all_df.csv\timgs_det_df.csv     rewrite_labels_plist.json\n",
      "crops_imgs1m_list.json\timgs_rev_list.json\n",
      "crops_rev_list.json\tlabels_df.csv\n"
     ]
    }
   ],
   "source": [
    "!ls /nas/chenyi/datasets_cls/gallery_detect/gallery_oss/dadetv4/info/"
   ]
  },
  {
   "cell_type": "code",
   "execution_count": 30,
   "id": "d6991d98-91fd-4fff-952a-6b44b7cadbe5",
   "metadata": {},
   "outputs": [],
   "source": [
    "# imgs_df = pd.read_csv('/nas/chenyi/datasets_cls/gallery_detect/gallery_oss/dadetv4/info/imgs_det_df.csv')\n",
    "imgs_df.to_csv('/nas/chenyi/datasets_cls/gallery_detect/gallery_oss/dadetv4/info/imgs_det_df.csv', index=False)"
   ]
  },
  {
   "cell_type": "code",
   "execution_count": 15,
   "id": "f401ec6c-d8b5-4f2b-af78-191813bc581f",
   "metadata": {},
   "outputs": [
    {
     "data": {
      "text/plain": [
       "1661397"
      ]
     },
     "execution_count": 15,
     "metadata": {},
     "output_type": "execute_result"
    }
   ],
   "source": [
    "len(imgs_df)"
   ]
  },
  {
   "cell_type": "code",
   "execution_count": 20,
   "id": "0f64de3a-38c0-44e4-9e57-4a110048da38",
   "metadata": {},
   "outputs": [],
   "source": [
    "imgs_df['crops_p'] = imgs_df['crops_p'].apply(lambda x: Path(x))\n",
    "imgs_df['stem'] = imgs_df['crops_p'].apply(lambda x: x.stem)"
   ]
  },
  {
   "cell_type": "code",
   "execution_count": 23,
   "id": "87055636-135a-4fa8-87ef-1d5fb7039103",
   "metadata": {},
   "outputs": [],
   "source": []
  },
  {
   "cell_type": "code",
   "execution_count": null,
   "id": "271455b4-aca4-4d80-8c67-cc364cc38537",
   "metadata": {},
   "outputs": [],
   "source": [
    "# from tqdm import tqdm\n",
    "# from PIL import Image\n",
    "# for p in tqdm(imgs_df['det_p'].values):\n",
    "#     img = Image.open(p)\n",
    "#     w, h = img.size\n",
    "#     w_list.append(w)\n",
    "#     h_list.append(h)"
   ]
  },
  {
   "cell_type": "code",
   "execution_count": 40,
   "id": "5fb58c19-db51-47be-be05-79a85f21b357",
   "metadata": {},
   "outputs": [],
   "source": [
    "from PIL import Image\n",
    "def get_img_hw(p):\n",
    "    img = Image.open(p)\n",
    "    w, h = img.size\n",
    "    w_list.append(w)\n",
    "    h_list.append(h)"
   ]
  },
  {
   "cell_type": "code",
   "execution_count": 43,
   "id": "87f6cd17-9a53-4460-ac86-9e86789959be",
   "metadata": {},
   "outputs": [
    {
     "name": "stdout",
     "output_type": "stream",
     "text": [
      "CPU times: user 3min 56s, sys: 3min 5s, total: 7min 1s\n",
      "Wall time: 42min 57s\n"
     ]
    }
   ],
   "source": [
    "%%time\n",
    "w_list = []\n",
    "h_list = []\n",
    "run_task_multithread(imgs_df['det_p'].values.tolist(), get_img_hw, 20)"
   ]
  },
  {
   "cell_type": "code",
   "execution_count": 44,
   "id": "b1097111-d495-45a1-bd85-dd2795ac4a28",
   "metadata": {},
   "outputs": [],
   "source": [
    "imgs_df['width'] = w_list\n",
    "imgs_df['height'] = h_list"
   ]
  },
  {
   "cell_type": "code",
   "execution_count": 45,
   "id": "3437db6d-5dac-4bd2-8acd-576c472a3efa",
   "metadata": {},
   "outputs": [],
   "source": [
    "imgs_df.to_csv('/nas/chenyi/datasets_cls/gallery_detect/gallery_oss/dadetv4/info/imgs_det_df.csv', \n",
    "               index=False)"
   ]
  },
  {
   "cell_type": "code",
   "execution_count": null,
   "id": "3991d393-01df-4f54-9ba8-6026c77a2430",
   "metadata": {},
   "outputs": [],
   "source": []
  },
  {
   "cell_type": "code",
   "execution_count": 46,
   "id": "6be666ee-e10d-4e35-9614-16d9dbeed6fb",
   "metadata": {},
   "outputs": [
    {
     "data": {
      "text/html": [
       "<div>\n",
       "<style scoped>\n",
       "    .dataframe tbody tr th:only-of-type {\n",
       "        vertical-align: middle;\n",
       "    }\n",
       "\n",
       "    .dataframe tbody tr th {\n",
       "        vertical-align: top;\n",
       "    }\n",
       "\n",
       "    .dataframe thead th {\n",
       "        text-align: right;\n",
       "    }\n",
       "</style>\n",
       "<table border=\"1\" class=\"dataframe\">\n",
       "  <thead>\n",
       "    <tr style=\"text-align: right;\">\n",
       "      <th></th>\n",
       "      <th>det_p</th>\n",
       "      <th>stem</th>\n",
       "      <th>width</th>\n",
       "      <th>height</th>\n",
       "    </tr>\n",
       "  </thead>\n",
       "  <tbody>\n",
       "    <tr>\n",
       "      <th>0</th>\n",
       "      <td>/nas/chenyi/datasets_cls/gallery_detect/galler...</td>\n",
       "      <td>69313640-af52-465e-88c8-c0a0099ca5c7-699544</td>\n",
       "      <td>933</td>\n",
       "      <td>933</td>\n",
       "    </tr>\n",
       "    <tr>\n",
       "      <th>1</th>\n",
       "      <td>/nas/chenyi/datasets_cls/gallery_detect/galler...</td>\n",
       "      <td>69314608-5ca4-4891-8a72-ac4cbbc7033a-445882</td>\n",
       "      <td>1080</td>\n",
       "      <td>1441</td>\n",
       "    </tr>\n",
       "    <tr>\n",
       "      <th>2</th>\n",
       "      <td>/nas/chenyi/datasets_cls/gallery_detect/galler...</td>\n",
       "      <td>6931afe9-4e7a-4c49-8a87-72630dfbf5d2-345767</td>\n",
       "      <td>450</td>\n",
       "      <td>450</td>\n",
       "    </tr>\n",
       "    <tr>\n",
       "      <th>3</th>\n",
       "      <td>/nas/chenyi/datasets_cls/gallery_detect/galler...</td>\n",
       "      <td>6931a1dc-76d5-4de9-9827-3c5b4841fd26-674980</td>\n",
       "      <td>1440</td>\n",
       "      <td>1800</td>\n",
       "    </tr>\n",
       "    <tr>\n",
       "      <th>4</th>\n",
       "      <td>/nas/chenyi/datasets_cls/gallery_detect/galler...</td>\n",
       "      <td>6931d292-4a64-4b28-97a0-64ace65c87e4-411370</td>\n",
       "      <td>690</td>\n",
       "      <td>1051</td>\n",
       "    </tr>\n",
       "  </tbody>\n",
       "</table>\n",
       "</div>"
      ],
      "text/plain": [
       "                                               det_p  \\\n",
       "0  /nas/chenyi/datasets_cls/gallery_detect/galler...   \n",
       "1  /nas/chenyi/datasets_cls/gallery_detect/galler...   \n",
       "2  /nas/chenyi/datasets_cls/gallery_detect/galler...   \n",
       "3  /nas/chenyi/datasets_cls/gallery_detect/galler...   \n",
       "4  /nas/chenyi/datasets_cls/gallery_detect/galler...   \n",
       "\n",
       "                                          stem  width  height  \n",
       "0  69313640-af52-465e-88c8-c0a0099ca5c7-699544    933     933  \n",
       "1  69314608-5ca4-4891-8a72-ac4cbbc7033a-445882   1080    1441  \n",
       "2  6931afe9-4e7a-4c49-8a87-72630dfbf5d2-345767    450     450  \n",
       "3  6931a1dc-76d5-4de9-9827-3c5b4841fd26-674980   1440    1800  \n",
       "4  6931d292-4a64-4b28-97a0-64ace65c87e4-411370    690    1051  "
      ]
     },
     "execution_count": 46,
     "metadata": {},
     "output_type": "execute_result"
    }
   ],
   "source": [
    "imgs_df.head()"
   ]
  },
  {
   "cell_type": "code",
   "execution_count": null,
   "id": "e6ce3ee0-80f9-45a3-b186-5c33b149c6a1",
   "metadata": {},
   "outputs": [],
   "source": []
  },
  {
   "cell_type": "code",
   "execution_count": null,
   "id": "245dc410-c419-47a9-b0a7-aee9b9ad01e8",
   "metadata": {},
   "outputs": [],
   "source": []
  },
  {
   "cell_type": "markdown",
   "id": "c26deb4f-3202-4f43-a11d-5ac6e66292b7",
   "metadata": {},
   "source": [
    "### 画图"
   ]
  },
  {
   "cell_type": "code",
   "execution_count": 29,
   "id": "e62cbab9-d03c-4612-a400-cb12b8692225",
   "metadata": {},
   "outputs": [
    {
     "name": "stdout",
     "output_type": "stream",
     "text": [
      "/home/chenyi/workspace/myPyModule99/gallery_manage\n"
     ]
    }
   ],
   "source": [
    "!pwd"
   ]
  },
  {
   "cell_type": "code",
   "execution_count": 31,
   "id": "8b72445f-29a4-4d92-84bd-08f896691135",
   "metadata": {},
   "outputs": [],
   "source": [
    "import sys\n",
    "sys.path.append('../')"
   ]
  },
  {
   "cell_type": "code",
   "execution_count": 36,
   "id": "8b667dbb-d668-4373-9c93-9fcf5a1cd5e3",
   "metadata": {},
   "outputs": [],
   "source": [
    "from utils.plots.plots import draw_bbox\n",
    "from utils.bbox.conversation import *\n",
    "from utils.display.html import *"
   ]
  },
  {
   "cell_type": "code",
   "execution_count": null,
   "id": "921242cf-25ed-4697-a511-c6d681915a81",
   "metadata": {},
   "outputs": [],
   "source": []
  },
  {
   "cell_type": "code",
   "execution_count": null,
   "id": "85657026-a0bb-426e-af9c-2402d8c87a65",
   "metadata": {},
   "outputs": [],
   "source": []
  },
  {
   "cell_type": "markdown",
   "id": "0febede8-30cf-4e83-97ed-781b0c3402db",
   "metadata": {
    "tags": []
   },
   "source": [
    "#### 数据拷贝"
   ]
  },
  {
   "cell_type": "code",
   "execution_count": 124,
   "id": "4f0cbb20-c2e8-48df-bb3a-8e1696706814",
   "metadata": {},
   "outputs": [],
   "source": [
    "import sys\n",
    "sys.path.append('../')\n",
    "from utils.data.transfer import copy_data_mkdir, run_task_multithread"
   ]
  },
  {
   "cell_type": "code",
   "execution_count": null,
   "id": "1a94bb33-e15b-47dc-a86a-c461b85c3901",
   "metadata": {},
   "outputs": [],
   "source": []
  },
  {
   "cell_type": "code",
   "execution_count": null,
   "id": "a402aefd-edec-4dc9-be98-4a6d599bbc17",
   "metadata": {},
   "outputs": [],
   "source": []
  },
  {
   "cell_type": "markdown",
   "id": "4f4cd1ff-f116-400f-898e-8015c6d4d8dd",
   "metadata": {},
   "source": [
    "#### target path"
   ]
  },
  {
   "cell_type": "code",
   "execution_count": 133,
   "id": "a091188a-247e-4a11-a4ac-8f039d73a918",
   "metadata": {},
   "outputs": [
    {
     "data": {
      "text/plain": [
       "array([[PosixPath('/nas/chenyi/datasets_cls/gallery_detect/watoo400k/hwpedia_all/hwpedia_folder/卫衣/150/005a2302-330b-4afc-ae19-5d0e513ee14a.jpg'),\n",
       "        '005a2302-330b-4afc-ae19-5d0e513ee14a',\n",
       "        '/nas/lichangjian/wardrobe_2/done_/卫衣/005a2302-330b-4afc-ae19-5d0e513ee14a.jpg'],\n",
       "       [PosixPath('/nas/chenyi/datasets_cls/gallery_detect/watoo400k/hwpedia_all/hwpedia_folder/牛仔裤/80/009dcf1b-1bb6-435e-b30c-0678ada49aee.jpg'),\n",
       "        '009dcf1b-1bb6-435e-b30c-0678ada49aee',\n",
       "        '/nas/lichangjian/wardrobe_2/done_/牛仔裤/009dcf1b-1bb6-435e-b30c-0678ada49aee.jpg']],\n",
       "      dtype=object)"
      ]
     },
     "execution_count": 133,
     "metadata": {},
     "output_type": "execute_result"
    }
   ],
   "source": [
    "imgs_nodet.head(2).values"
   ]
  },
  {
   "cell_type": "code",
   "execution_count": 177,
   "id": "c94d35c5-3c91-402d-978f-66c38f22af85",
   "metadata": {},
   "outputs": [],
   "source": [
    "sroot = '/nas/lichangjian/wardrobe_2/done_'\n",
    "troot = '/nas/chenyi/datasets_cls/gallery_detect/watoo400k/analysis/hwpedia/nodet_kfolder'"
   ]
  },
  {
   "cell_type": "code",
   "execution_count": 146,
   "id": "d1197b76-fdbb-425d-a350-c1070c3e03b1",
   "metadata": {},
   "outputs": [
    {
     "name": "stdout",
     "output_type": "stream",
     "text": [
      "nodet\n"
     ]
    }
   ],
   "source": [
    "!ls /nas/chenyi/datasets_cls/gallery_detect/watoo400k/analysis/hwpedia/"
   ]
  },
  {
   "cell_type": "code",
   "execution_count": null,
   "id": "5755072d-6a4d-4265-ba08-fa2cc5631566",
   "metadata": {},
   "outputs": [],
   "source": []
  },
  {
   "cell_type": "code",
   "execution_count": null,
   "id": "44db2227-1412-40c3-95e2-aff2d00066a8",
   "metadata": {},
   "outputs": [],
   "source": []
  },
  {
   "cell_type": "code",
   "execution_count": 136,
   "id": "6254fc3c-b8c9-439f-8295-cc73c72bfde3",
   "metadata": {},
   "outputs": [
    {
     "name": "stderr",
     "output_type": "stream",
     "text": [
      "/tmp/ipykernel_411860/2584459815.py:1: SettingWithCopyWarning: \n",
      "A value is trying to be set on a copy of a slice from a DataFrame.\n",
      "Try using .loc[row_indexer,col_indexer] = value instead\n",
      "\n",
      "See the caveats in the documentation: https://pandas.pydata.org/pandas-docs/stable/user_guide/indexing.html#returning-a-view-versus-a-copy\n",
      "  imgs_nodet['path'] = imgs_nodet['path'].apply(lambda x: Path(x))\n"
     ]
    }
   ],
   "source": [
    "imgs_nodet['path'] = imgs_nodet['path'].apply(lambda x: Path(x))"
   ]
  },
  {
   "cell_type": "code",
   "execution_count": 137,
   "id": "688c977b-8ca2-4b11-90af-056c25ad4c2f",
   "metadata": {},
   "outputs": [
    {
     "name": "stderr",
     "output_type": "stream",
     "text": [
      "/tmp/ipykernel_411860/1833358304.py:1: SettingWithCopyWarning: \n",
      "A value is trying to be set on a copy of a slice from a DataFrame.\n",
      "Try using .loc[row_indexer,col_indexer] = value instead\n",
      "\n",
      "See the caveats in the documentation: https://pandas.pydata.org/pandas-docs/stable/user_guide/indexing.html#returning-a-view-versus-a-copy\n",
      "  imgs_nodet['img_sp'] = imgs_nodet['path'].apply(lambda x: '{0}/{1}/{2}'.format(sroot, x.parts[-3], x.name))\n"
     ]
    }
   ],
   "source": [
    "imgs_nodet['img_sp'] = imgs_nodet['path'].apply(lambda x: '{0}/{1}/{2}'.format(sroot, x.parts[-3], x.name))"
   ]
  },
  {
   "cell_type": "code",
   "execution_count": 178,
   "id": "21090e22-17b7-4bd4-ad5c-ca44b3817d6d",
   "metadata": {},
   "outputs": [
    {
     "name": "stderr",
     "output_type": "stream",
     "text": [
      "/tmp/ipykernel_411860/361264578.py:1: SettingWithCopyWarning: \n",
      "A value is trying to be set on a copy of a slice from a DataFrame.\n",
      "Try using .loc[row_indexer,col_indexer] = value instead\n",
      "\n",
      "See the caveats in the documentation: https://pandas.pydata.org/pandas-docs/stable/user_guide/indexing.html#returning-a-view-versus-a-copy\n",
      "  imgs_nodet['img_tp'] = imgs_nodet['path'].apply(lambda x: '{0}/{1}_{2}/{3}'.format(troot, folder2key[x.parts[-3]], x.parts[-3], x.name))\n"
     ]
    }
   ],
   "source": [
    "imgs_nodet['img_tp'] = imgs_nodet['path'].apply(lambda x: '{0}/{1}_{2}/{3}'.format(troot, folder2key[x.parts[-3]], x.parts[-3], x.name))"
   ]
  },
  {
   "cell_type": "code",
   "execution_count": 179,
   "id": "313092cc-602c-46c4-a601-7c204a38e036",
   "metadata": {},
   "outputs": [],
   "source": []
  },
  {
   "cell_type": "code",
   "execution_count": 180,
   "id": "e521f4a8-11cd-49c3-b0f9-d9701dc7042c",
   "metadata": {},
   "outputs": [
    {
     "data": {
      "text/plain": [
       "['/nas/lichangjian/wardrobe_2/done_/卫衣/005a2302-330b-4afc-ae19-5d0e513ee14a.jpg',\n",
       " '/nas/chenyi/datasets_cls/gallery_detect/watoo400k/analysis/hwpedia/nodet_kfolder/10_卫衣/005a2302-330b-4afc-ae19-5d0e513ee14a.jpg']"
      ]
     },
     "execution_count": 180,
     "metadata": {},
     "output_type": "execute_result"
    }
   ],
   "source": [
    "input_list[0]"
   ]
  },
  {
   "cell_type": "code",
   "execution_count": 181,
   "id": "eb095ea5-5359-4b06-8b2b-9ee40626b573",
   "metadata": {},
   "outputs": [
    {
     "name": "stdout",
     "output_type": "stream",
     "text": [
      "CPU times: user 5.52 s, sys: 31.3 s, total: 36.9 s\n",
      "Wall time: 37.1 s\n"
     ]
    }
   ],
   "source": [
    "%%time\n",
    "import shutil\n",
    "input_list = [list(item) for item in zip(imgs_nodet['img_sp'].values, imgs_nodet['img_tp'].values)]\n",
    "def copy_data_mkdir(plist, mode='copy'):\n",
    "    ps = Path(plist[0])\n",
    "    pt = Path(plist[1])\n",
    "    if not pt.parent.is_dir():\n",
    "        pt.parent.mkdir(parents=True, exist_ok=True)\n",
    "    if not pt.is_file():\n",
    "        if mode=='move':\n",
    "            Path.rename(ps, pt)\n",
    "        else:\n",
    "            shutil.copyfile(ps, pt)\n",
    "            \n",
    "run_task_multithread(input_list, copy_data_mkdir)"
   ]
  },
  {
   "cell_type": "code",
   "execution_count": null,
   "id": "a2d58183-0386-406f-8819-76665c6b0ace",
   "metadata": {},
   "outputs": [],
   "source": []
  },
  {
   "cell_type": "code",
   "execution_count": null,
   "id": "7e7d9ac6-d046-464f-8dca-4bac8e548c83",
   "metadata": {},
   "outputs": [],
   "source": []
  },
  {
   "cell_type": "code",
   "execution_count": null,
   "id": "c33e7bde-cddd-47d8-af5c-347b6ed68cc6",
   "metadata": {},
   "outputs": [],
   "source": []
  },
  {
   "cell_type": "code",
   "execution_count": null,
   "id": "334a6769-92e3-47f4-95cd-5d15624cfea2",
   "metadata": {},
   "outputs": [],
   "source": []
  }
 ],
 "metadata": {
  "kernelspec": {
   "display_name": "Python 3 (ipykernel)",
   "language": "python",
   "name": "python3"
  },
  "language_info": {
   "codemirror_mode": {
    "name": "ipython",
    "version": 3
   },
   "file_extension": ".py",
   "mimetype": "text/x-python",
   "name": "python",
   "nbconvert_exporter": "python",
   "pygments_lexer": "ipython3",
   "version": "3.8.13"
  }
 },
 "nbformat": 4,
 "nbformat_minor": 5
}
