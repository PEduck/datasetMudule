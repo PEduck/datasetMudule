{
 "cells": [
  {
   "cell_type": "code",
   "execution_count": 2,
   "id": "34757be3-e34b-4b0e-90c4-edbeae1cb8c2",
   "metadata": {},
   "outputs": [],
   "source": [
    "import glob\n",
    "import pandas as pd\n",
    "from pathlib import Path"
   ]
  },
  {
   "cell_type": "code",
   "execution_count": null,
   "id": "eabf7d4f-e1e3-4bf5-8305-3a8f906b745e",
   "metadata": {},
   "outputs": [],
   "source": []
  },
  {
   "cell_type": "code",
   "execution_count": null,
   "id": "46068740-064c-4805-a3b3-d3eaa6c8dd78",
   "metadata": {},
   "outputs": [],
   "source": []
  },
  {
   "cell_type": "markdown",
   "id": "6be1b9d4-dd8b-4f67-848d-3579a6475d35",
   "metadata": {},
   "source": [
    "### API"
   ]
  },
  {
   "cell_type": "code",
   "execution_count": 3,
   "id": "2070f851-fa60-441b-9e79-c154ea9b595f",
   "metadata": {},
   "outputs": [
    {
     "name": "stdout",
     "output_type": "stream",
     "text": [
      "INFO: Pandarallel will run on 8 workers.\n",
      "INFO: Pandarallel will use Memory file system to transfer data between the main process and workers.\n"
     ]
    }
   ],
   "source": [
    "#  dataframe multi-thread\n",
    "from pandarallel import pandarallel\n",
    "# Initialization\n",
    "pandarallel.initialize()\n",
    "# df.parallel_apply(func, progress_bar=True)"
   ]
  },
  {
   "cell_type": "code",
   "execution_count": 4,
   "id": "44e30d4d-a2b0-412a-90eb-424253b559ac",
   "metadata": {},
   "outputs": [],
   "source": [
    "from tqdm import tqdm\n",
    "def df_map(df):\n",
    "    names = df.columns\n",
    "    k_list = df[df.columns[0]].values.tolist()\n",
    "    v_list = df[df.columns[1]].values.tolist()\n",
    "    d = {}\n",
    "    for k, v in tqdm(zip(k_list, v_list)):\n",
    "        d[k] = v\n",
    "    return d"
   ]
  },
  {
   "cell_type": "markdown",
   "id": "36b1e0c2-4916-442d-a347-7b65390b1281",
   "metadata": {
    "tags": []
   },
   "source": [
    "##### pickle"
   ]
  },
  {
   "cell_type": "code",
   "execution_count": 5,
   "id": "2e2b412c-1737-4329-aaa6-316088be8f66",
   "metadata": {},
   "outputs": [],
   "source": [
    "# import pickle\n",
    "# with open('/nas/chenyi/datasets_cls/map/gallery/stem2height_gallery2mw202208.pickle', 'wb') as f:\n",
    "#     pickle.dump(stem2width_gallery2m, f)"
   ]
  },
  {
   "cell_type": "code",
   "execution_count": null,
   "id": "858aa762-0548-4cac-b2c2-c8e86102104a",
   "metadata": {},
   "outputs": [],
   "source": []
  },
  {
   "cell_type": "code",
   "execution_count": null,
   "id": "b5565b81-198d-4892-97fc-2f8df875951f",
   "metadata": {},
   "outputs": [],
   "source": []
  },
  {
   "cell_type": "markdown",
   "id": "363a0cd9-50bb-4f41-af20-35cba0afd156",
   "metadata": {},
   "source": [
    "### Data Infomation"
   ]
  },
  {
   "cell_type": "code",
   "execution_count": 6,
   "id": "cb2115d7-91de-433d-8be0-70d97070cf8d",
   "metadata": {},
   "outputs": [],
   "source": [
    "folder_name = 'gallery_clear'"
   ]
  },
  {
   "cell_type": "code",
   "execution_count": 7,
   "id": "bc34345e-1ef4-40c5-b599-7dae7452372b",
   "metadata": {},
   "outputs": [],
   "source": [
    "root = Path('/nas/chenyi/datasets_cls/gallery_detect/gallery_csv')\n",
    "det_root = Path(f'/nas/chenyi/datasets_cls/gallery_detect/gallery_oss/{folder_name}/')"
   ]
  },
  {
   "cell_type": "code",
   "execution_count": 8,
   "id": "14e70948-df27-4d6b-8741-30a00d0f2631",
   "metadata": {},
   "outputs": [
    {
     "name": "stdout",
     "output_type": "stream",
     "text": [
      "gall2m_df20220725.csv  gall2m_hw_df20220725.csv  july\n"
     ]
    }
   ],
   "source": [
    "!ls $root"
   ]
  },
  {
   "cell_type": "code",
   "execution_count": null,
   "id": "b2b0f8dd-9404-4e23-9571-7483c03bfdd1",
   "metadata": {},
   "outputs": [],
   "source": []
  },
  {
   "cell_type": "code",
   "execution_count": null,
   "id": "0bd75c6d-8391-443e-b578-c83bea3081da",
   "metadata": {},
   "outputs": [],
   "source": []
  },
  {
   "cell_type": "markdown",
   "id": "391ffe5a-48b7-479d-8e0d-45650fa6cb92",
   "metadata": {
    "tags": []
   },
   "source": [
    "#### Dataload"
   ]
  },
  {
   "cell_type": "markdown",
   "id": "6a2b9c3e-aad2-40b5-b3cc-34aaf1608c30",
   "metadata": {},
   "source": [
    "##### OSS path"
   ]
  },
  {
   "cell_type": "code",
   "execution_count": 9,
   "id": "218557aa-d8cc-4d19-9b82-ab9406894979",
   "metadata": {},
   "outputs": [
    {
     "name": "stdout",
     "output_type": "stream",
     "text": [
      "clred_final.csv       clred_temp.csv\t    dadetv4\t    dirty_data\n",
      "clred_labels_oss.csv  clred_temp_final.csv  data_cls.ipynb\n"
     ]
    }
   ],
   "source": [
    "!ls /nas/chenyi/datasets_cls/gallery_detect/gallery_oss/dadetv4/info/"
   ]
  },
  {
   "cell_type": "code",
   "execution_count": 10,
   "id": "e2a176b6-f9c4-48cd-bf45-34f3fb9233f1",
   "metadata": {},
   "outputs": [
    {
     "name": "stdout",
     "output_type": "stream",
     "text": [
      "CPU times: user 5.72 s, sys: 666 ms, total: 6.39 s\n",
      "Wall time: 16.1 s\n"
     ]
    }
   ],
   "source": [
    "%%time\n",
    "# oss 图片信息\n",
    "# bboxes_all_df = pd.read_csv('/home/chenyi/workspace/myPyModule99/gallery_manage/gallery_clr_pipeline/data_temp/bboxes_clred_temp.csv')\n",
    "bboxes_all_df = pd.read_csv('/home/chenyi/workspace/myPyModule99/gallery_manage/gallery_clr_pipeline/data_temp/bboxes_all_df.csv')\n",
    "\n",
    "# bboxes_all_df.to_csv('/home/chenyi/workspace/myPyModule99/gallery_manage/gallery_clr_pipeline/data_temp/bboxes_all_df.csv'), index=False)\n",
    "# len(gall_df), "
   ]
  },
  {
   "cell_type": "code",
   "execution_count": null,
   "id": "d251e4ce-b996-4b30-911f-b7e7b8f9d62e",
   "metadata": {},
   "outputs": [],
   "source": []
  },
  {
   "cell_type": "code",
   "execution_count": null,
   "id": "96761edf-417e-48f3-ae93-c4d58fc1f88c",
   "metadata": {},
   "outputs": [],
   "source": []
  },
  {
   "cell_type": "markdown",
   "id": "17e5acbc-b064-4c22-bdff-c699612acb1f",
   "metadata": {},
   "source": [
    "### df处理"
   ]
  },
  {
   "cell_type": "code",
   "execution_count": 11,
   "id": "9e0fbb70-f01a-44b0-8d91-91ee978b1b46",
   "metadata": {},
   "outputs": [
    {
     "data": {
      "text/plain": [
       "Index(['label_pred', 'bx1', 'bx2', 'bx3', 'bx4', 'conf', 'crop_id', 'txt_sp'], dtype='object')"
      ]
     },
     "execution_count": 11,
     "metadata": {},
     "output_type": "execute_result"
    }
   ],
   "source": [
    "bboxes_all_df.columns"
   ]
  },
  {
   "cell_type": "code",
   "execution_count": 12,
   "id": "95e4fe95-dacf-4716-acdf-1cb5cb5a40e4",
   "metadata": {},
   "outputs": [],
   "source": [
    "bboxes_all_df['stem'] = bboxes_all_df['txt_sp'].apply(lambda x: Path(x).stem)"
   ]
  },
  {
   "cell_type": "code",
   "execution_count": 13,
   "id": "d1c55d50-1c5d-4d3d-995c-c8af73f2cf45",
   "metadata": {},
   "outputs": [],
   "source": [
    "bboxes_all_df['crop_path'] = bboxes_all_df.apply(lambda row: '/nas/chenyi/datasets_cls/gallery_detect/gallery_oss/gall7kv6/crops/{0}/{1}/{2}_{3}.jpg'.format(\n",
    "                                   row['stem'][:2],\n",
    "                                   row['stem'][2:4],\n",
    "                                   row['stem'],\n",
    "                                   row['crop_id']), axis=1)"
   ]
  },
  {
   "cell_type": "code",
   "execution_count": 14,
   "id": "fb7cbeed-b123-4882-9eec-54d0c59044c3",
   "metadata": {},
   "outputs": [
    {
     "name": "stdout",
     "output_type": "stream",
     "text": [
      "CPU times: user 793 ms, sys: 371 ms, total: 1.16 s\n",
      "Wall time: 2min 34s\n"
     ]
    }
   ],
   "source": [
    "%%time\n",
    "bboxes_all_df['crop_exist'] = bboxes_all_df['crop_path'].parallel_apply(lambda x: Path(x).is_file())"
   ]
  },
  {
   "cell_type": "code",
   "execution_count": 15,
   "id": "d3e05607-1c66-4e7f-8a91-e15325dbc274",
   "metadata": {},
   "outputs": [
    {
     "data": {
      "text/plain": [
       "crop_exist\n",
       "True     7570719\n",
       "False      40214\n",
       "dtype: int64"
      ]
     },
     "execution_count": 15,
     "metadata": {},
     "output_type": "execute_result"
    }
   ],
   "source": [
    "bboxes_all_df.value_counts('crop_exist')"
   ]
  },
  {
   "cell_type": "code",
   "execution_count": 17,
   "id": "8f9bbbbe-36f2-444b-ada5-27df962f7d2a",
   "metadata": {},
   "outputs": [],
   "source": [
    "# bboxes_all_df.to_csv('/home/chenyi/workspace/myPyModule99/gallery_manage/gallery_clr_pipeline/data_temp/bboxes_all_df.csv', index=False)"
   ]
  },
  {
   "cell_type": "code",
   "execution_count": null,
   "id": "eb659a92-99e9-4c3a-a7a2-0478eda4a2d6",
   "metadata": {},
   "outputs": [],
   "source": []
  },
  {
   "cell_type": "code",
   "execution_count": null,
   "id": "9186b8fb-3b93-4eb9-bdae-777ff6e8644f",
   "metadata": {},
   "outputs": [],
   "source": []
  },
  {
   "cell_type": "markdown",
   "id": "9e033439-b22a-44f1-b258-fffce889ebbd",
   "metadata": {},
   "source": [
    "#### 图片宽高"
   ]
  },
  {
   "cell_type": "code",
   "execution_count": 27,
   "id": "def197c0-3ac4-43d5-9bce-0ea5ef4f7813",
   "metadata": {},
   "outputs": [],
   "source": [
    "import pickle\n",
    "with open('/nas/chenyi/datasets_cls/map/gallery/stem2width_gallery2m202208.pickle', 'rb') as f:\n",
    "    stem2width = pickle.load(f)\n",
    "with open('/nas/chenyi/datasets_cls/map/gallery/stem2height_gallery2m202208.pickle', 'rb') as f:\n",
    "    stem2height = pickle.load(f)"
   ]
  },
  {
   "cell_type": "code",
   "execution_count": 30,
   "id": "d92c77ce-3538-472a-9adf-43fc7d0df09e",
   "metadata": {},
   "outputs": [],
   "source": [
    "gall_old_df['width'] = gall_old_df['stem'].map(stem2width)\n",
    "gall_old_df['height'] = gall_old_df['stem'].map(stem2height)"
   ]
  },
  {
   "cell_type": "code",
   "execution_count": 35,
   "id": "4db3b88f-8c11-452e-922c-0c2339474459",
   "metadata": {},
   "outputs": [],
   "source": [
    "gall_all_df = pd.concat([gall_df, gall_df], axis=0)\n",
    "gall_all_df.drop_duplicates('stem', inplace=True)"
   ]
  },
  {
   "cell_type": "code",
   "execution_count": 37,
   "id": "f3a05b56-218d-4b81-a9e4-f6376bd39a01",
   "metadata": {},
   "outputs": [
    {
     "data": {
      "text/plain": [
       "(2193480, 2193480)"
      ]
     },
     "execution_count": 37,
     "metadata": {},
     "output_type": "execute_result"
    }
   ],
   "source": [
    "len(gall_all_df), len(gall_df)"
   ]
  },
  {
   "cell_type": "code",
   "execution_count": null,
   "id": "bc4b4ce7-6586-498b-b753-f0ac45614f15",
   "metadata": {},
   "outputs": [],
   "source": []
  },
  {
   "cell_type": "code",
   "execution_count": null,
   "id": "adc40450-0d08-4e47-897c-6b0b224c8d92",
   "metadata": {},
   "outputs": [],
   "source": []
  },
  {
   "cell_type": "markdown",
   "id": "e4edcc03-d62e-4c24-babe-2b5ff68ddf84",
   "metadata": {},
   "source": [
    "### 数据清洗"
   ]
  },
  {
   "cell_type": "code",
   "execution_count": 47,
   "id": "da40c7a8-ed86-426e-bc40-0cf260d3a669",
   "metadata": {},
   "outputs": [],
   "source": [
    "# state=0:未确认；state=1:确认干净； state=-1:脏数据\n",
    "gall_df['state'] = 0"
   ]
  },
  {
   "cell_type": "code",
   "execution_count": null,
   "id": "71e4659b-04a7-40b6-b129-d415006db925",
   "metadata": {},
   "outputs": [],
   "source": []
  },
  {
   "cell_type": "markdown",
   "id": "6e8d5d95-35aa-49d9-af5e-fc999128b1ba",
   "metadata": {},
   "source": [
    "#### 图片尺寸"
   ]
  },
  {
   "cell_type": "code",
   "execution_count": 41,
   "id": "676aab2e-8791-41aa-a7ac-bee010d4516a",
   "metadata": {},
   "outputs": [
    {
     "data": {
      "text/plain": [
       "2193480"
      ]
     },
     "execution_count": 41,
     "metadata": {},
     "output_type": "execute_result"
    }
   ],
   "source": [
    "clred_df = gall_df \n",
    "len(clred_df)"
   ]
  },
  {
   "cell_type": "markdown",
   "id": "84c49590-9a77-4167-9688-14843edf51a5",
   "metadata": {},
   "source": [
    "##### 尺寸大小"
   ]
  },
  {
   "cell_type": "code",
   "execution_count": 43,
   "id": "df645219-eb04-46d7-9345-45f1f51ce1b6",
   "metadata": {},
   "outputs": [
    {
     "data": {
      "text/plain": [
       "2322"
      ]
     },
     "execution_count": 43,
     "metadata": {},
     "output_type": "execute_result"
    }
   ],
   "source": [
    "thres = 300\n",
    "temp = clred_df[(clred_df['width']<thres) | (clred_df['height']<thres)]\n",
    "len(temp)"
   ]
  },
  {
   "cell_type": "code",
   "execution_count": 44,
   "id": "1ab83fed-1950-4620-991a-a0bb77e854a5",
   "metadata": {},
   "outputs": [
    {
     "data": {
      "text/plain": [
       "0.0010597136308746335"
      ]
     },
     "execution_count": 44,
     "metadata": {},
     "output_type": "execute_result"
    }
   ],
   "source": [
    "clred_df = clred_df[~clred_df['stem'].isin(temp['stem'])]\n",
    "len(temp)/len(clred_df)"
   ]
  },
  {
   "cell_type": "code",
   "execution_count": 45,
   "id": "37509183-10ed-47cf-868a-81af078e3368",
   "metadata": {
    "tags": []
   },
   "outputs": [
    {
     "data": {
      "text/plain": [
       "165"
      ]
     },
     "execution_count": 45,
     "metadata": {},
     "output_type": "execute_result"
    }
   ],
   "source": [
    "thres = 350\n",
    "temp = clred_df[(clred_df['width']<thres) & (clred_df['height']<thres)]\n",
    "len(temp)"
   ]
  },
  {
   "cell_type": "code",
   "execution_count": 46,
   "id": "7bfcc444-fd10-4bda-bef7-6271e5b68820",
   "metadata": {},
   "outputs": [
    {
     "data": {
      "text/plain": [
       "7.530831910462516e-05"
      ]
     },
     "execution_count": 46,
     "metadata": {},
     "output_type": "execute_result"
    }
   ],
   "source": [
    "clred_df = clred_df[~clred_df['stem'].isin(temp['stem'])]\n",
    "len(temp)/len(clred_df)"
   ]
  },
  {
   "cell_type": "code",
   "execution_count": null,
   "id": "c692ac13-fd95-4e79-8e88-da9065ec0f49",
   "metadata": {},
   "outputs": [],
   "source": []
  },
  {
   "cell_type": "code",
   "execution_count": 59,
   "id": "5809a0b0-d7ca-498a-ad97-4d01fdcdd635",
   "metadata": {},
   "outputs": [
    {
     "data": {
      "text/html": [
       "<div>\n",
       "<style scoped>\n",
       "    .dataframe tbody tr th:only-of-type {\n",
       "        vertical-align: middle;\n",
       "    }\n",
       "\n",
       "    .dataframe tbody tr th {\n",
       "        vertical-align: top;\n",
       "    }\n",
       "\n",
       "    .dataframe thead th {\n",
       "        text-align: right;\n",
       "    }\n",
       "</style>\n",
       "<table border=\"1\" class=\"dataframe\">\n",
       "  <thead>\n",
       "    <tr style=\"text-align: right;\">\n",
       "      <th></th>\n",
       "      <th>width</th>\n",
       "      <th>height</th>\n",
       "      <th>state</th>\n",
       "    </tr>\n",
       "  </thead>\n",
       "  <tbody>\n",
       "    <tr>\n",
       "      <th>count</th>\n",
       "      <td>2.190993e+06</td>\n",
       "      <td>1.461834e+06</td>\n",
       "      <td>2190993.0</td>\n",
       "    </tr>\n",
       "    <tr>\n",
       "      <th>mean</th>\n",
       "      <td>8.654231e+02</td>\n",
       "      <td>1.137830e+03</td>\n",
       "      <td>0.0</td>\n",
       "    </tr>\n",
       "    <tr>\n",
       "      <th>std</th>\n",
       "      <td>2.981538e+02</td>\n",
       "      <td>3.745505e+02</td>\n",
       "      <td>0.0</td>\n",
       "    </tr>\n",
       "    <tr>\n",
       "      <th>min</th>\n",
       "      <td>3.000000e+02</td>\n",
       "      <td>3.000000e+02</td>\n",
       "      <td>0.0</td>\n",
       "    </tr>\n",
       "    <tr>\n",
       "      <th>25%</th>\n",
       "      <td>6.900000e+02</td>\n",
       "      <td>9.200000e+02</td>\n",
       "      <td>0.0</td>\n",
       "    </tr>\n",
       "    <tr>\n",
       "      <th>50%</th>\n",
       "      <td>6.900000e+02</td>\n",
       "      <td>1.035000e+03</td>\n",
       "      <td>0.0</td>\n",
       "    </tr>\n",
       "    <tr>\n",
       "      <th>75%</th>\n",
       "      <td>1.080000e+03</td>\n",
       "      <td>1.439000e+03</td>\n",
       "      <td>0.0</td>\n",
       "    </tr>\n",
       "    <tr>\n",
       "      <th>max</th>\n",
       "      <td>8.256000e+03</td>\n",
       "      <td>8.192000e+03</td>\n",
       "      <td>0.0</td>\n",
       "    </tr>\n",
       "  </tbody>\n",
       "</table>\n",
       "</div>"
      ],
      "text/plain": [
       "              width        height      state\n",
       "count  2.190993e+06  1.461834e+06  2190993.0\n",
       "mean   8.654231e+02  1.137830e+03        0.0\n",
       "std    2.981538e+02  3.745505e+02        0.0\n",
       "min    3.000000e+02  3.000000e+02        0.0\n",
       "25%    6.900000e+02  9.200000e+02        0.0\n",
       "50%    6.900000e+02  1.035000e+03        0.0\n",
       "75%    1.080000e+03  1.439000e+03        0.0\n",
       "max    8.256000e+03  8.192000e+03        0.0"
      ]
     },
     "execution_count": 59,
     "metadata": {},
     "output_type": "execute_result"
    }
   ],
   "source": [
    "gall_clred_df.describe()"
   ]
  },
  {
   "cell_type": "code",
   "execution_count": 58,
   "id": "f83320bd-dbff-4793-a866-a59c26000125",
   "metadata": {},
   "outputs": [
    {
     "data": {
      "text/plain": [
       "2190993"
      ]
     },
     "execution_count": 58,
     "metadata": {},
     "output_type": "execute_result"
    }
   ],
   "source": [
    "gall_clred_df = gall_df[gall_df['state']>=0]\n",
    "len(gall_clred_df)"
   ]
  },
  {
   "cell_type": "code",
   "execution_count": null,
   "id": "40d8a034-dc53-401e-8032-13b8aed39eb6",
   "metadata": {},
   "outputs": [],
   "source": []
  },
  {
   "cell_type": "code",
   "execution_count": null,
   "id": "11dd10a1-4f9f-4d6d-a77b-93570eb61fe9",
   "metadata": {},
   "outputs": [],
   "source": []
  },
  {
   "cell_type": "markdown",
   "id": "b8a0ee2e-f6de-4fa8-8396-6b536bbfcdca",
   "metadata": {},
   "source": [
    "#### 数据标记"
   ]
  },
  {
   "cell_type": "code",
   "execution_count": 48,
   "id": "ac3af813-ab91-431c-814e-0f69491af871",
   "metadata": {},
   "outputs": [],
   "source": [
    "dirty_df = gall_df[~gall_df['stem'].isin(clred_df['stem'])]"
   ]
  },
  {
   "cell_type": "code",
   "execution_count": 49,
   "id": "b72d2c50-8c08-4bd2-845b-da0ac1c22ce8",
   "metadata": {},
   "outputs": [],
   "source": [
    "gall_df.loc[dirty_df.index, 'state'] = -1"
   ]
  },
  {
   "cell_type": "code",
   "execution_count": 50,
   "id": "1b984fe7-130a-4b6d-b580-d3d9b7cf930f",
   "metadata": {},
   "outputs": [
    {
     "data": {
      "text/plain": [
       "state\n",
       " 0    2190993\n",
       "-1       2487\n",
       "dtype: int64"
      ]
     },
     "execution_count": 50,
     "metadata": {},
     "output_type": "execute_result"
    }
   ],
   "source": [
    "gall_df.value_counts('state')"
   ]
  },
  {
   "cell_type": "markdown",
   "id": "1c696d51-0c69-46a6-8664-0a25b5554678",
   "metadata": {},
   "source": [
    "##### 保存df"
   ]
  },
  {
   "cell_type": "code",
   "execution_count": null,
   "id": "4f586e84-1b8e-484f-9171-ad6de2c9b032",
   "metadata": {},
   "outputs": [],
   "source": []
  },
  {
   "cell_type": "code",
   "execution_count": null,
   "id": "e10820eb-e258-41d6-a6e4-2b30a55f6c72",
   "metadata": {},
   "outputs": [],
   "source": []
  },
  {
   "cell_type": "code",
   "execution_count": 65,
   "id": "8ba2b828-bcd8-4412-a0d7-0e1dc6907a50",
   "metadata": {},
   "outputs": [],
   "source": [
    "import json\n",
    "with open('/nas/chenyi/datasets_cls/gallery_detect/gallery_oss/dadetv4/info/crops_rev_list.json', 'r') as f:\n",
    "    crops_rev_list = json.load(f)"
   ]
  },
  {
   "cell_type": "code",
   "execution_count": 66,
   "id": "66526a04-db80-4dd3-9155-e472179779c9",
   "metadata": {},
   "outputs": [],
   "source": [
    "import json\n",
    "with open('/nas/chenyi/datasets_cls/gallery_detect/gallery_oss/dadetv4/info/crops_imgs1m_list.json', 'r') as f:\n",
    "    crops_1m_list = json.load(f)"
   ]
  },
  {
   "cell_type": "code",
   "execution_count": null,
   "id": "00761955-b3eb-4781-bd51-0e13b3502408",
   "metadata": {},
   "outputs": [],
   "source": []
  },
  {
   "cell_type": "code",
   "execution_count": 67,
   "id": "1e718a57-854c-4ed7-8da3-ba18470b29ee",
   "metadata": {},
   "outputs": [
    {
     "data": {
      "text/plain": [
       "(4906804, 2302277)"
      ]
     },
     "execution_count": 67,
     "metadata": {},
     "output_type": "execute_result"
    }
   ],
   "source": [
    "len(crops_1m_list), len(crops_rev_list)"
   ]
  },
  {
   "cell_type": "code",
   "execution_count": 69,
   "id": "1854f91d-15c0-4b72-8376-df17ebfc5050",
   "metadata": {},
   "outputs": [],
   "source": [
    "crops_chg_list = [p.replace('dadetv4/gall_dadetv4_rev/crops/', 'dadetv4/gall_dadetv4_all/crops/') for p in crops_rev_list]"
   ]
  },
  {
   "cell_type": "code",
   "execution_count": 70,
   "id": "01b7508e-9fdd-4838-b480-6f1c397922d3",
   "metadata": {},
   "outputs": [
    {
     "data": {
      "text/plain": [
       "('/nas/chenyi/datasets_cls/gallery_detect/gallery_oss/dadetv4/gall_dadetv4_rev/crops/shoe/ffa73c89-b27a-4c6e-b377-c12b49ee0aec-441022_0.jpg',\n",
       " '/nas/chenyi/datasets_cls/gallery_detect/gallery_oss/dadetv4/gall_dadetv4_all/crops/shoe/ffa73c89-b27a-4c6e-b377-c12b49ee0aec-441022_0.jpg')"
      ]
     },
     "execution_count": 70,
     "metadata": {},
     "output_type": "execute_result"
    }
   ],
   "source": [
    "crops_rev_list[0], crops_chg_list[0]"
   ]
  },
  {
   "cell_type": "code",
   "execution_count": 71,
   "id": "ad994563-3a75-4603-bbb0-fc58782daf80",
   "metadata": {},
   "outputs": [],
   "source": [
    "crops_list = crops_1m_list + crops_chg_list"
   ]
  },
  {
   "cell_type": "code",
   "execution_count": 72,
   "id": "7a6faeed-248c-4e5a-86ba-c9f1974da0c2",
   "metadata": {},
   "outputs": [],
   "source": [
    "crops_df = pd.DataFrame()\n",
    "crops_df['crops_p'] = crops_list"
   ]
  },
  {
   "cell_type": "code",
   "execution_count": 73,
   "id": "42d0113b-44db-45b3-93f8-2adbc141e66f",
   "metadata": {},
   "outputs": [
    {
     "data": {
      "text/plain": [
       "(6605629, 7209081)"
      ]
     },
     "execution_count": 73,
     "metadata": {},
     "output_type": "execute_result"
    }
   ],
   "source": [
    "len(crops_df.drop_duplicates('crops_p')), len(crops_df)"
   ]
  },
  {
   "cell_type": "code",
   "execution_count": 130,
   "id": "d5ca1959-5a50-4bb4-a8a7-a37b074a7f38",
   "metadata": {},
   "outputs": [],
   "source": [
    "# crops_df.to_csv('/nas/chenyi/datasets_cls/gallery_detect/gallery_oss/dadetv4/info/crops_all_df.csv', index=False)\n",
    "crops_df = pd.read_csv('/nas/chenyi/datasets_cls/gallery_detect/gallery_oss/dadetv4/info/crops_all_df.csv')"
   ]
  },
  {
   "cell_type": "code",
   "execution_count": 129,
   "id": "e7ba03f0-9c53-40a5-8967-66ffb8d7224f",
   "metadata": {},
   "outputs": [
    {
     "data": {
      "text/plain": [
       "array([['/nas/chenyi/datasets_cls/gallery_detect/gallery_oss/dadetv4/gall_dadetv4_all/crops/shoe/69313640-af52-465e-88c8-c0a0099ca5c7-699544_0.jpg',\n",
       "        'shoe'],\n",
       "       ['/nas/chenyi/datasets_cls/gallery_detect/gallery_oss/dadetv4/gall_dadetv4_all/crops/shoe/69313640-af52-465e-88c8-c0a0099ca5c7-699544_2.jpg',\n",
       "        'shoe']], dtype=object)"
      ]
     },
     "execution_count": 129,
     "metadata": {},
     "output_type": "execute_result"
    }
   ],
   "source": [
    "crops_df.head(2).values"
   ]
  },
  {
   "cell_type": "code",
   "execution_count": null,
   "id": "8eb66be3-923d-4caf-8c85-6cd0b999fca7",
   "metadata": {},
   "outputs": [],
   "source": []
  },
  {
   "cell_type": "code",
   "execution_count": 131,
   "id": "5760aecb-c20c-493e-8234-eb662b721b74",
   "metadata": {},
   "outputs": [],
   "source": [
    "crops_df['class'] = crops_df['crops_p'].apply(lambda x: Path(x).parts[-2])"
   ]
  },
  {
   "cell_type": "code",
   "execution_count": 132,
   "id": "393ed0d6-70a0-41d9-b159-7267a40ee433",
   "metadata": {},
   "outputs": [
    {
     "data": {
      "text/plain": [
       "class\n",
       "shoe         2789456\n",
       "upperbody    1390175\n",
       "lowerbody     813196\n",
       "bag           786924\n",
       "wholebody     490417\n",
       "skirt         335461\n",
       "dtype: int64"
      ]
     },
     "execution_count": 132,
     "metadata": {},
     "output_type": "execute_result"
    }
   ],
   "source": [
    "crops_df.value_counts('class')"
   ]
  },
  {
   "cell_type": "code",
   "execution_count": null,
   "id": "4114261a-423d-4b6d-816e-a1116f6332a9",
   "metadata": {},
   "outputs": [],
   "source": []
  },
  {
   "cell_type": "code",
   "execution_count": null,
   "id": "a2827210-e341-4aad-806b-cca0f6e89ef1",
   "metadata": {},
   "outputs": [],
   "source": []
  },
  {
   "cell_type": "code",
   "execution_count": 50,
   "id": "c292b876-779f-4796-b6a9-b58f5c3dd93f",
   "metadata": {},
   "outputs": [],
   "source": [
    "input_list = [list(item) for item in zip(crops_rev_list, crops_list)]"
   ]
  },
  {
   "cell_type": "code",
   "execution_count": 12,
   "id": "bbbc9b01-afdf-4527-a972-6e475ff642a8",
   "metadata": {},
   "outputs": [
    {
     "name": "stdout",
     "output_type": "stream",
     "text": [
      "CPU times: user 2 µs, sys: 0 ns, total: 2 µs\n",
      "Wall time: 3.34 µs\n"
     ]
    }
   ],
   "source": [
    "%%time\n",
    "import shutil\n",
    "def copy_data_mkdir(plist, mode='move'):\n",
    "    ps = Path(plist[0])\n",
    "    pt = Path(plist[1])\n",
    "    if not pt.parent.is_dir():\n",
    "        pt.parent.mkdir(parents=True, exist_ok=True)\n",
    "    if not pt.is_file():\n",
    "        if mode=='move':\n",
    "            Path.rename(ps, pt)\n",
    "        else:\n",
    "            shutil.copyfile(ps, pt)"
   ]
  },
  {
   "cell_type": "code",
   "execution_count": null,
   "id": "6fabbce2-8fae-49f3-9def-5c74f48db229",
   "metadata": {},
   "outputs": [],
   "source": [
    "%%time           \n",
    "run_task_multithread(input_list, copy_data_mkdir, 20)"
   ]
  },
  {
   "cell_type": "code",
   "execution_count": null,
   "id": "324515a2-923d-48bf-bf06-b28c50d6fe9b",
   "metadata": {},
   "outputs": [],
   "source": []
  },
  {
   "cell_type": "code",
   "execution_count": null,
   "id": "a170139d-e0bb-49d8-8dbb-19210df422ce",
   "metadata": {},
   "outputs": [],
   "source": []
  },
  {
   "cell_type": "code",
   "execution_count": 19,
   "id": "6a015b43-e183-474e-98c4-ae9417378684",
   "metadata": {},
   "outputs": [],
   "source": [
    "det_root = Path('/nas/chenyi/datasets_cls/gallery_detect/gallery_oss/dadetv4')"
   ]
  },
  {
   "cell_type": "code",
   "execution_count": 14,
   "id": "e4a64cb1-6b6b-4eb9-834d-4e017d6878a8",
   "metadata": {},
   "outputs": [
    {
     "data": {
      "text/plain": [
       "1661397"
      ]
     },
     "execution_count": 14,
     "metadata": {},
     "output_type": "execute_result"
    }
   ],
   "source": [
    "len(imgs_gall_df)"
   ]
  },
  {
   "cell_type": "code",
   "execution_count": 23,
   "id": "f1afc617-3c14-4580-9ebd-71462bdcc0f5",
   "metadata": {},
   "outputs": [],
   "source": [
    "imgs_gall1m_df = imgs_gall_df[:int(1e6)]\n",
    "imgs_gall_rev_df = imgs_gall_df[int(1e6):]"
   ]
  },
  {
   "cell_type": "code",
   "execution_count": 22,
   "id": "19e0f06f-3380-47b0-b8e8-9a75d0cf3d30",
   "metadata": {},
   "outputs": [
    {
     "data": {
      "text/plain": [
       "1000000"
      ]
     },
     "execution_count": 22,
     "metadata": {},
     "output_type": "execute_result"
    }
   ],
   "source": [
    "len(imgs_gall1m_df)"
   ]
  },
  {
   "cell_type": "code",
   "execution_count": null,
   "id": "1bd34b06-ea36-4ebe-95c6-7d957db3c7a6",
   "metadata": {},
   "outputs": [],
   "source": []
  },
  {
   "cell_type": "code",
   "execution_count": null,
   "id": "e05ade0f-850f-41a5-bb06-751c34617693",
   "metadata": {},
   "outputs": [],
   "source": [
    "%%time\n",
    "import shutil\n",
    "def copy_data_mkdir(plist, mode='copy'):\n",
    "    ps = Path(plist[0])\n",
    "    pt = Path(plist[1])\n",
    "    if not pt.parent.is_dir():\n",
    "        pt.parent.mkdir(parents=True, exist_ok=True)\n",
    "    if not pt.is_file():\n",
    "        if mode=='move':\n",
    "            Path.rename(ps, pt)\n",
    "        else:\n",
    "            shutil.copyfile(ps, pt)\n",
    "            \n",
    "run_task_multithread(input_list, copy_data_mkdir)"
   ]
  },
  {
   "cell_type": "code",
   "execution_count": null,
   "id": "53016fb7-f5cc-4437-b83f-d435d9f8facf",
   "metadata": {},
   "outputs": [],
   "source": []
  },
  {
   "cell_type": "code",
   "execution_count": null,
   "id": "64f4a2dd-97b2-4146-a64f-8564d19bd4ed",
   "metadata": {},
   "outputs": [],
   "source": []
  },
  {
   "cell_type": "code",
   "execution_count": 186,
   "id": "3de4be85-b3c9-4568-8c0c-44feca944069",
   "metadata": {},
   "outputs": [],
   "source": [
    "def read_txt(p):\n",
    "    with open(str(p), 'r') as f:\n",
    "        label_lines = f.readlines()\n",
    "    return label_lines"
   ]
  },
  {
   "cell_type": "code",
   "execution_count": 187,
   "id": "458e426b-e826-4a89-b63a-32ce7a3f4505",
   "metadata": {},
   "outputs": [],
   "source": [
    "def get_bboxes_info(p):\n",
    "    import numpy as np\n",
    "    lines_list = []\n",
    "    for ind,line in enumerate(read_txt(p)):\n",
    "        line_list = line.split('\\n')[0].split(' ')\n",
    "        line_list.append(ind)\n",
    "        line_list.append(p)\n",
    "        lines_list.append(line_list)\n",
    "    return lines_list"
   ]
  },
  {
   "cell_type": "code",
   "execution_count": null,
   "id": "86a98bda-4cfb-48a2-aef2-7e24a5caf72c",
   "metadata": {},
   "outputs": [],
   "source": []
  },
  {
   "cell_type": "code",
   "execution_count": 192,
   "id": "5e9e96f2-41b2-4ca8-bd59-86f981172825",
   "metadata": {},
   "outputs": [
    {
     "data": {
      "text/html": [
       "<div>\n",
       "<style scoped>\n",
       "    .dataframe tbody tr th:only-of-type {\n",
       "        vertical-align: middle;\n",
       "    }\n",
       "\n",
       "    .dataframe tbody tr th {\n",
       "        vertical-align: top;\n",
       "    }\n",
       "\n",
       "    .dataframe thead th {\n",
       "        text-align: right;\n",
       "    }\n",
       "</style>\n",
       "<table border=\"1\" class=\"dataframe\">\n",
       "  <thead>\n",
       "    <tr style=\"text-align: right;\">\n",
       "      <th></th>\n",
       "      <th>txt_path</th>\n",
       "    </tr>\n",
       "  </thead>\n",
       "  <tbody>\n",
       "    <tr>\n",
       "      <th>0</th>\n",
       "      <td>/nas/chenyi/datasets_cls/gallery_detect/galler...</td>\n",
       "    </tr>\n",
       "  </tbody>\n",
       "</table>\n",
       "</div>"
      ],
      "text/plain": [
       "                                            txt_path\n",
       "0  /nas/chenyi/datasets_cls/gallery_detect/galler..."
      ]
     },
     "execution_count": 192,
     "metadata": {},
     "output_type": "execute_result"
    }
   ],
   "source": [
    "txts_gall_df.head(1)"
   ]
  },
  {
   "cell_type": "code",
   "execution_count": 195,
   "id": "8c2688db-e14f-4163-bec7-64a4bee6b92a",
   "metadata": {},
   "outputs": [],
   "source": [
    "def get_bboxes_multithread(p):\n",
    "    bboxes_info = get_bboxes_info(p)\n",
    "    bboxes_all += bboxes_info"
   ]
  },
  {
   "cell_type": "code",
   "execution_count": null,
   "id": "fe837708-e38d-44eb-a5f5-67038bfd8feb",
   "metadata": {},
   "outputs": [],
   "source": []
  },
  {
   "cell_type": "code",
   "execution_count": 211,
   "id": "ef479bc4-534a-4f5d-a9a7-85325d9b64a8",
   "metadata": {},
   "outputs": [
    {
     "name": "stderr",
     "output_type": "stream",
     "text": [
      "100%|████████████████████████████| 2189265/2189265 [19:53<00:00, 1834.50it/s]\n"
     ]
    }
   ],
   "source": [
    "from tqdm import tqdm\n",
    "bboxes_all = []\n",
    "for p in tqdm(txts_gall_df['txt_path']):\n",
    "    bboxes_info = get_bboxes_info(p)\n",
    "    bboxes_all += bboxes_info\n",
    "    # break"
   ]
  },
  {
   "cell_type": "code",
   "execution_count": 212,
   "id": "e9aca440-0e0a-4e7a-85c0-6f7256cddf43",
   "metadata": {},
   "outputs": [],
   "source": [
    "# %%time\n",
    "# global bboxes_all\n",
    "# bboxes_all = []\n",
    "# run_task_multithread(txts_gall_df['txt_path'][:10], get_bboxes_multithread, 20)"
   ]
  },
  {
   "cell_type": "code",
   "execution_count": null,
   "id": "6cb36c44-5f5c-4401-9a69-ba3d762f0368",
   "metadata": {},
   "outputs": [],
   "source": []
  },
  {
   "cell_type": "code",
   "execution_count": 7,
   "id": "d54ad739-8f82-44ce-8912-019fbb1f6157",
   "metadata": {},
   "outputs": [],
   "source": [
    "# bboxes_df = pd.read_csv('./data_temp/bboxes_all_df.csv')\n",
    "# bboxes_df = pd.DataFrame(bboxes_all)"
   ]
  },
  {
   "cell_type": "code",
   "execution_count": 13,
   "id": "483995e3-9e3c-4e13-b6e1-e50ee4e8f461",
   "metadata": {},
   "outputs": [
    {
     "data": {
      "text/html": [
       "<div>\n",
       "<style scoped>\n",
       "    .dataframe tbody tr th:only-of-type {\n",
       "        vertical-align: middle;\n",
       "    }\n",
       "\n",
       "    .dataframe tbody tr th {\n",
       "        vertical-align: top;\n",
       "    }\n",
       "\n",
       "    .dataframe thead th {\n",
       "        text-align: right;\n",
       "    }\n",
       "</style>\n",
       "<table border=\"1\" class=\"dataframe\">\n",
       "  <thead>\n",
       "    <tr style=\"text-align: right;\">\n",
       "      <th></th>\n",
       "      <th>label_pred</th>\n",
       "      <th>bx1</th>\n",
       "      <th>bx2</th>\n",
       "      <th>bx3</th>\n",
       "      <th>bx4</th>\n",
       "      <th>conf</th>\n",
       "      <th>crop_id</th>\n",
       "      <th>txt_sp</th>\n",
       "    </tr>\n",
       "  </thead>\n",
       "  <tbody>\n",
       "    <tr>\n",
       "      <th>0</th>\n",
       "      <td>1</td>\n",
       "      <td>0.391667</td>\n",
       "      <td>0.750694</td>\n",
       "      <td>0.083333</td>\n",
       "      <td>0.123611</td>\n",
       "      <td>0.79473</td>\n",
       "      <td>0</td>\n",
       "      <td>/nas/chenyi/datasets_cls/gallery_detect/galler...</td>\n",
       "    </tr>\n",
       "  </tbody>\n",
       "</table>\n",
       "</div>"
      ],
      "text/plain": [
       "   label_pred       bx1       bx2       bx3       bx4     conf  crop_id  \\\n",
       "0           1  0.391667  0.750694  0.083333  0.123611  0.79473        0   \n",
       "\n",
       "                                              txt_sp  \n",
       "0  /nas/chenyi/datasets_cls/gallery_detect/galler...  "
      ]
     },
     "execution_count": 13,
     "metadata": {},
     "output_type": "execute_result"
    }
   ],
   "source": [
    "bboxes_df.head(1)"
   ]
  },
  {
   "cell_type": "code",
   "execution_count": null,
   "id": "9e54252c-e948-488d-ae6a-0263661f388e",
   "metadata": {},
   "outputs": [],
   "source": [
    "bboxes_df['stem'] = stem"
   ]
  },
  {
   "cell_type": "code",
   "execution_count": 12,
   "id": "4c9273f1-fa76-4448-9345-cd2d65b2ba90",
   "metadata": {},
   "outputs": [
    {
     "data": {
      "text/plain": [
       "Index(['label_pred', 'bx1', 'bx2', 'bx3', 'bx4', 'conf', 'crop_id', 'txt_sp'], dtype='object')"
      ]
     },
     "execution_count": 12,
     "metadata": {},
     "output_type": "execute_result"
    }
   ],
   "source": [
    "bboxes_df.columns"
   ]
  },
  {
   "cell_type": "code",
   "execution_count": 11,
   "id": "96b6f144-7f39-4763-b689-98936939ccac",
   "metadata": {},
   "outputs": [],
   "source": [
    "name_stand = ['label_pred', 'bx1', 'bx2', 'bx3', 'bx4', 'conf','crop_id', 'txt_sp']\n",
    "bboxes_df.rename(columns={bboxes_df.columns[0]:name_stand[0],\n",
    "                          bboxes_df.columns[1]:name_stand[1],\n",
    "                          bboxes_df.columns[2]:name_stand[2],\n",
    "                          bboxes_df.columns[3]:name_stand[3],\n",
    "                          bboxes_df.columns[4]:name_stand[4],\n",
    "                          bboxes_df.columns[5]:name_stand[5],\n",
    "                          bboxes_df.columns[6]:name_stand[6],\n",
    "                          bboxes_df.columns[7]:name_stand[7],\n",
    "                         },\n",
    "                          inplace=True)"
   ]
  },
  {
   "cell_type": "code",
   "execution_count": null,
   "id": "df3a91c8-6728-4eed-9d3f-3fd1fd2a9706",
   "metadata": {},
   "outputs": [],
   "source": []
  },
  {
   "cell_type": "code",
   "execution_count": 14,
   "id": "b4528d35-8862-4814-abd2-170e11885a38",
   "metadata": {},
   "outputs": [],
   "source": [
    "bboxes_df.to_csv('./data_temp/bboxes_all_df.csv', index=False)"
   ]
  },
  {
   "cell_type": "code",
   "execution_count": null,
   "id": "a7529cf8-ced1-4f46-8da9-c61b74283f71",
   "metadata": {},
   "outputs": [],
   "source": []
  },
  {
   "cell_type": "code",
   "execution_count": null,
   "id": "156f24d6-2e22-433b-b5a4-d716b9dcc35f",
   "metadata": {},
   "outputs": [],
   "source": []
  },
  {
   "cell_type": "code",
   "execution_count": 76,
   "id": "7fde4ba0-1d70-4758-88f0-2786aaa3ed71",
   "metadata": {},
   "outputs": [],
   "source": [
    "imgs_df['stem'] = imgs_df['path'].apply(lambda x: Path(x).stem)"
   ]
  },
  {
   "cell_type": "code",
   "execution_count": 77,
   "id": "5bf8a5bb-d095-41e0-af4b-77cbfc19e689",
   "metadata": {},
   "outputs": [],
   "source": [
    "txt_df['stem'] = txt_df['path'].apply(lambda x: Path(x).stem)"
   ]
  },
  {
   "cell_type": "code",
   "execution_count": 88,
   "id": "b13c3cd3-8bea-4436-bddf-6561a7b4e035",
   "metadata": {},
   "outputs": [],
   "source": [
    "imgs_cross = imgs_df[imgs_df['stem'].isin(txt_df['stem'])]"
   ]
  },
  {
   "cell_type": "code",
   "execution_count": 91,
   "id": "fc796313-152f-42ba-aa8c-a2c18e421540",
   "metadata": {},
   "outputs": [],
   "source": [
    "txt_cross = txt_df[txt_df['stem'].isin(imgs_df['stem'])]"
   ]
  },
  {
   "cell_type": "code",
   "execution_count": 80,
   "id": "d313151a-433d-406d-9327-898257cbd818",
   "metadata": {},
   "outputs": [],
   "source": [
    "imgs_df.sort_values('stem',inplace=True)\n",
    "txt_df.sort_values('stem',inplace=True)"
   ]
  },
  {
   "cell_type": "code",
   "execution_count": 92,
   "id": "76653b4c-db2b-4668-852c-ea764ddbcb08",
   "metadata": {},
   "outputs": [
    {
     "data": {
      "text/plain": [
       "(478504, 453275, 453275, 453275)"
      ]
     },
     "execution_count": 92,
     "metadata": {},
     "output_type": "execute_result"
    }
   ],
   "source": [
    "len(imgs_df),len(txt_df), len(imgs_cross), len(txt_cross)"
   ]
  },
  {
   "cell_type": "code",
   "execution_count": 93,
   "id": "e669b1af-9904-4cfa-9ea6-01410c5e0c19",
   "metadata": {},
   "outputs": [
    {
     "name": "stderr",
     "output_type": "stream",
     "text": [
      "/tmp/ipykernel_411860/859653631.py:1: SettingWithCopyWarning: \n",
      "A value is trying to be set on a copy of a slice from a DataFrame\n",
      "\n",
      "See the caveats in the documentation: https://pandas.pydata.org/pandas-docs/stable/user_guide/indexing.html#returning-a-view-versus-a-copy\n",
      "  imgs_cross.sort_values('stem',inplace=True)\n"
     ]
    }
   ],
   "source": [
    "imgs_cross.sort_values('stem',inplace=True)\n",
    "txt_cross.sort_values('stem',inplace=True)"
   ]
  },
  {
   "cell_type": "code",
   "execution_count": 94,
   "id": "072a3785-1f7c-485f-b29f-3744ca13602c",
   "metadata": {},
   "outputs": [],
   "source": [
    "watoo_df = pd.DataFrame()\n",
    "watoo_df['img_p'] = imgs_cross['path'].values\n",
    "watoo_df['label_p'] = txt_cross['path'].values"
   ]
  },
  {
   "cell_type": "code",
   "execution_count": 97,
   "id": "420f6269-abc9-49eb-a0f4-2eb5834809e7",
   "metadata": {},
   "outputs": [
    {
     "data": {
      "text/plain": [
       "array([['/nas/chenyi/datasets_cls/gallery_detect/watoo400k/hwpedia_all/hwpedia_folder/牛仔裤/92/fff77871-de9f-4776-9424-f41b48cc0a49.jpg',\n",
       "        '/nas/chenyi/datasets_cls/gallery_detect/watoo400k/hwpedia_all/labels/fff77871-de9f-4776-9424-f41b48cc0a49.txt'],\n",
       "       ['/nas/chenyi/datasets_cls/gallery_detect/watoo400k/hwpedia_all/hwpedia_folder/女衫类/2/fffadbff-226c-4108-9673-f7a41a24a53b.jpg',\n",
       "        '/nas/chenyi/datasets_cls/gallery_detect/watoo400k/hwpedia_all/labels/fffadbff-226c-4108-9673-f7a41a24a53b.txt']],\n",
       "      dtype=object)"
      ]
     },
     "execution_count": 97,
     "metadata": {},
     "output_type": "execute_result"
    }
   ],
   "source": [
    "watoo_df.tail(2).values"
   ]
  },
  {
   "cell_type": "code",
   "execution_count": null,
   "id": "fe600dae-384f-4472-91c0-dc7e12f37511",
   "metadata": {},
   "outputs": [],
   "source": []
  },
  {
   "cell_type": "code",
   "execution_count": null,
   "id": "60d98e12-de46-4e4d-969a-6528cfee1c3a",
   "metadata": {},
   "outputs": [],
   "source": []
  },
  {
   "cell_type": "code",
   "execution_count": null,
   "id": "e37875df-0b4e-4207-95bb-7aa310d53e87",
   "metadata": {},
   "outputs": [],
   "source": []
  },
  {
   "cell_type": "code",
   "execution_count": 98,
   "id": "5ff4f165-683c-42a1-9a06-1abc68031780",
   "metadata": {},
   "outputs": [],
   "source": [
    "imgs_nodet = imgs_df[~imgs_df['stem'].isin(txt_df['stem'])]"
   ]
  },
  {
   "cell_type": "code",
   "execution_count": 99,
   "id": "4255002a-1684-4aff-af8c-a6d0b7e7263a",
   "metadata": {},
   "outputs": [
    {
     "data": {
      "text/plain": [
       "25229"
      ]
     },
     "execution_count": 99,
     "metadata": {},
     "output_type": "execute_result"
    }
   ],
   "source": [
    "len(imgs_nodet)"
   ]
  },
  {
   "cell_type": "code",
   "execution_count": 134,
   "id": "03f6dd6c-929c-457a-847f-74760ea307e5",
   "metadata": {},
   "outputs": [],
   "source": [
    "# imgs_nodet.to_csv('./data/watoo470k/imgs_nodet.csv', index=False)"
   ]
  },
  {
   "cell_type": "code",
   "execution_count": 119,
   "id": "8c3c5406-dd22-487d-a2c3-060a0c2bf084",
   "metadata": {},
   "outputs": [],
   "source": [
    "p = imgs_nodet['path'].values[9]"
   ]
  },
  {
   "cell_type": "code",
   "execution_count": null,
   "id": "6514d55a-8e64-4076-8d08-e27838f2b4fd",
   "metadata": {},
   "outputs": [],
   "source": []
  },
  {
   "cell_type": "code",
   "execution_count": null,
   "id": "71f83ad0-c0d1-48a8-a688-3573d3268bac",
   "metadata": {},
   "outputs": [],
   "source": []
  },
  {
   "cell_type": "code",
   "execution_count": 13,
   "id": "cdb8c681-36ca-47a6-9533-b657be38242c",
   "metadata": {},
   "outputs": [
    {
     "name": "stdout",
     "output_type": "stream",
     "text": [
      "2 0.505992 0.516117 0.985353 0.78036 0.810297\n"
     ]
    }
   ],
   "source": [
    "p = txt_df.head(1).values[0][0]\n",
    "!cat $p"
   ]
  },
  {
   "cell_type": "code",
   "execution_count": null,
   "id": "9ebb6bac-715c-4db3-921c-16e0d280f424",
   "metadata": {},
   "outputs": [],
   "source": []
  },
  {
   "cell_type": "code",
   "execution_count": 49,
   "id": "ecb31567-dd69-4bdc-8c82-8154207ef2b4",
   "metadata": {},
   "outputs": [
    {
     "name": "stdout",
     "output_type": "stream",
     "text": [
      "3 0.506 0.923333 0.305333 0.153333 0.707341\n",
      "2 0.464667 0.59 0.572 0.545333 0.958252\n"
     ]
    }
   ],
   "source": [
    "p = txt_df.head(10).values[-4][0]\n",
    "!cat $p"
   ]
  },
  {
   "cell_type": "code",
   "execution_count": 74,
   "id": "9b0755ed-4546-4367-8f27-9928bf030c2d",
   "metadata": {},
   "outputs": [],
   "source": [
    "with open(p,'r') as f:\n",
    "    txt = f.readlines()"
   ]
  },
  {
   "cell_type": "code",
   "execution_count": 75,
   "id": "319286f4-0932-4960-91ed-cd94e1f7efd4",
   "metadata": {},
   "outputs": [
    {
     "data": {
      "text/plain": [
       "['3 0.506 0.923333 0.305333 0.153333 0.707341\\n',\n",
       " '2 0.464667 0.59 0.572 0.545333 0.958252\\n']"
      ]
     },
     "execution_count": 75,
     "metadata": {},
     "output_type": "execute_result"
    }
   ],
   "source": [
    "txt"
   ]
  },
  {
   "cell_type": "code",
   "execution_count": 69,
   "id": "cfece277-cfdd-4a7e-aa32-095385e491b9",
   "metadata": {},
   "outputs": [],
   "source": [
    "for item in txt:\n",
    "    list1 = re.split(r'\\n', item)\n",
    "    list2 = list1[0].split(' ')\n",
    "    "
   ]
  },
  {
   "cell_type": "code",
   "execution_count": 70,
   "id": "aac5a13b-24f3-48d5-a83c-84deae667a8d",
   "metadata": {},
   "outputs": [
    {
     "data": {
      "text/plain": [
       "['2', '0.464667', '0.59', '0.572', '0.545333', '0.958252']"
      ]
     },
     "execution_count": 70,
     "metadata": {},
     "output_type": "execute_result"
    }
   ],
   "source": [
    "list2"
   ]
  },
  {
   "cell_type": "code",
   "execution_count": null,
   "id": "f401ec6c-d8b5-4f2b-af78-191813bc581f",
   "metadata": {},
   "outputs": [],
   "source": []
  },
  {
   "cell_type": "code",
   "execution_count": null,
   "id": "245dc410-c419-47a9-b0a7-aee9b9ad01e8",
   "metadata": {},
   "outputs": [],
   "source": []
  },
  {
   "cell_type": "code",
   "execution_count": 31,
   "id": "8b72445f-29a4-4d92-84bd-08f896691135",
   "metadata": {},
   "outputs": [],
   "source": [
    "import sys\n",
    "sys.path.append('../')"
   ]
  },
  {
   "cell_type": "code",
   "execution_count": 36,
   "id": "8b667dbb-d668-4373-9c93-9fcf5a1cd5e3",
   "metadata": {},
   "outputs": [],
   "source": [
    "from utils.plots.plots import draw_bbox\n",
    "from utils.bbox.conversation import *\n",
    "from utils.display.html import *"
   ]
  },
  {
   "cell_type": "code",
   "execution_count": null,
   "id": "05611ee2-d8e7-440d-8c9c-97dcd1217b2b",
   "metadata": {},
   "outputs": [],
   "source": []
  },
  {
   "cell_type": "code",
   "execution_count": null,
   "id": "85657026-a0bb-426e-af9c-2402d8c87a65",
   "metadata": {},
   "outputs": [],
   "source": []
  },
  {
   "cell_type": "code",
   "execution_count": 124,
   "id": "4f0cbb20-c2e8-48df-bb3a-8e1696706814",
   "metadata": {},
   "outputs": [],
   "source": [
    "import sys\n",
    "sys.path.append('../')\n",
    "from utils.data.transfer import copy_data_mkdir, run_task_multithread"
   ]
  },
  {
   "cell_type": "code",
   "execution_count": null,
   "id": "1a94bb33-e15b-47dc-a86a-c461b85c3901",
   "metadata": {},
   "outputs": [],
   "source": []
  },
  {
   "cell_type": "code",
   "execution_count": null,
   "id": "a402aefd-edec-4dc9-be98-4a6d599bbc17",
   "metadata": {},
   "outputs": [],
   "source": []
  },
  {
   "cell_type": "code",
   "execution_count": 133,
   "id": "a091188a-247e-4a11-a4ac-8f039d73a918",
   "metadata": {},
   "outputs": [
    {
     "data": {
      "text/plain": [
       "array([[PosixPath('/nas/chenyi/datasets_cls/gallery_detect/watoo400k/hwpedia_all/hwpedia_folder/卫衣/150/005a2302-330b-4afc-ae19-5d0e513ee14a.jpg'),\n",
       "        '005a2302-330b-4afc-ae19-5d0e513ee14a',\n",
       "        '/nas/lichangjian/wardrobe_2/done_/卫衣/005a2302-330b-4afc-ae19-5d0e513ee14a.jpg'],\n",
       "       [PosixPath('/nas/chenyi/datasets_cls/gallery_detect/watoo400k/hwpedia_all/hwpedia_folder/牛仔裤/80/009dcf1b-1bb6-435e-b30c-0678ada49aee.jpg'),\n",
       "        '009dcf1b-1bb6-435e-b30c-0678ada49aee',\n",
       "        '/nas/lichangjian/wardrobe_2/done_/牛仔裤/009dcf1b-1bb6-435e-b30c-0678ada49aee.jpg']],\n",
       "      dtype=object)"
      ]
     },
     "execution_count": 133,
     "metadata": {},
     "output_type": "execute_result"
    }
   ],
   "source": [
    "imgs_nodet.head(2).values"
   ]
  },
  {
   "cell_type": "code",
   "execution_count": 177,
   "id": "c94d35c5-3c91-402d-978f-66c38f22af85",
   "metadata": {},
   "outputs": [],
   "source": [
    "sroot = '/nas/lichangjian/wardrobe_2/done_'\n",
    "troot = '/nas/chenyi/datasets_cls/gallery_detect/watoo400k/analysis/hwpedia/nodet_kfolder'"
   ]
  },
  {
   "cell_type": "code",
   "execution_count": null,
   "id": "5755072d-6a4d-4265-ba08-fa2cc5631566",
   "metadata": {},
   "outputs": [],
   "source": []
  },
  {
   "cell_type": "code",
   "execution_count": null,
   "id": "44db2227-1412-40c3-95e2-aff2d00066a8",
   "metadata": {},
   "outputs": [],
   "source": []
  },
  {
   "cell_type": "code",
   "execution_count": 136,
   "id": "6254fc3c-b8c9-439f-8295-cc73c72bfde3",
   "metadata": {},
   "outputs": [
    {
     "name": "stderr",
     "output_type": "stream",
     "text": [
      "/tmp/ipykernel_411860/2584459815.py:1: SettingWithCopyWarning: \n",
      "A value is trying to be set on a copy of a slice from a DataFrame.\n",
      "Try using .loc[row_indexer,col_indexer] = value instead\n",
      "\n",
      "See the caveats in the documentation: https://pandas.pydata.org/pandas-docs/stable/user_guide/indexing.html#returning-a-view-versus-a-copy\n",
      "  imgs_nodet['path'] = imgs_nodet['path'].apply(lambda x: Path(x))\n"
     ]
    }
   ],
   "source": [
    "imgs_nodet['path'] = imgs_nodet['path'].apply(lambda x: Path(x))"
   ]
  },
  {
   "cell_type": "code",
   "execution_count": 137,
   "id": "688c977b-8ca2-4b11-90af-056c25ad4c2f",
   "metadata": {},
   "outputs": [
    {
     "name": "stderr",
     "output_type": "stream",
     "text": [
      "/tmp/ipykernel_411860/1833358304.py:1: SettingWithCopyWarning: \n",
      "A value is trying to be set on a copy of a slice from a DataFrame.\n",
      "Try using .loc[row_indexer,col_indexer] = value instead\n",
      "\n",
      "See the caveats in the documentation: https://pandas.pydata.org/pandas-docs/stable/user_guide/indexing.html#returning-a-view-versus-a-copy\n",
      "  imgs_nodet['img_sp'] = imgs_nodet['path'].apply(lambda x: '{0}/{1}/{2}'.format(sroot, x.parts[-3], x.name))\n"
     ]
    }
   ],
   "source": [
    "imgs_nodet['img_sp'] = imgs_nodet['path'].apply(lambda x: '{0}/{1}/{2}'.format(sroot, x.parts[-3], x.name))"
   ]
  },
  {
   "cell_type": "code",
   "execution_count": 178,
   "id": "21090e22-17b7-4bd4-ad5c-ca44b3817d6d",
   "metadata": {},
   "outputs": [
    {
     "name": "stderr",
     "output_type": "stream",
     "text": [
      "/tmp/ipykernel_411860/361264578.py:1: SettingWithCopyWarning: \n",
      "A value is trying to be set on a copy of a slice from a DataFrame.\n",
      "Try using .loc[row_indexer,col_indexer] = value instead\n",
      "\n",
      "See the caveats in the documentation: https://pandas.pydata.org/pandas-docs/stable/user_guide/indexing.html#returning-a-view-versus-a-copy\n",
      "  imgs_nodet['img_tp'] = imgs_nodet['path'].apply(lambda x: '{0}/{1}_{2}/{3}'.format(troot, folder2key[x.parts[-3]], x.parts[-3], x.name))\n"
     ]
    }
   ],
   "source": [
    "imgs_nodet['img_tp'] = imgs_nodet['path'].apply(lambda x: '{0}/{1}_{2}/{3}'.format(troot, folder2key[x.parts[-3]], x.parts[-3], x.name))"
   ]
  },
  {
   "cell_type": "code",
   "execution_count": 179,
   "id": "313092cc-602c-46c4-a601-7c204a38e036",
   "metadata": {},
   "outputs": [],
   "source": []
  },
  {
   "cell_type": "code",
   "execution_count": 180,
   "id": "e521f4a8-11cd-49c3-b0f9-d9701dc7042c",
   "metadata": {},
   "outputs": [
    {
     "data": {
      "text/plain": [
       "['/nas/lichangjian/wardrobe_2/done_/卫衣/005a2302-330b-4afc-ae19-5d0e513ee14a.jpg',\n",
       " '/nas/chenyi/datasets_cls/gallery_detect/watoo400k/analysis/hwpedia/nodet_kfolder/10_卫衣/005a2302-330b-4afc-ae19-5d0e513ee14a.jpg']"
      ]
     },
     "execution_count": 180,
     "metadata": {},
     "output_type": "execute_result"
    }
   ],
   "source": [
    "input_list[0]"
   ]
  },
  {
   "cell_type": "code",
   "execution_count": 181,
   "id": "eb095ea5-5359-4b06-8b2b-9ee40626b573",
   "metadata": {},
   "outputs": [
    {
     "name": "stdout",
     "output_type": "stream",
     "text": [
      "CPU times: user 5.52 s, sys: 31.3 s, total: 36.9 s\n",
      "Wall time: 37.1 s\n"
     ]
    }
   ],
   "source": [
    "%%time\n",
    "import shutil\n",
    "input_list = [list(item) for item in zip(imgs_nodet['img_sp'].values, imgs_nodet['img_tp'].values)]\n",
    "def copy_data_mkdir(plist, mode='copy'):\n",
    "    ps = Path(plist[0])\n",
    "    pt = Path(plist[1])\n",
    "    if not pt.parent.is_dir():\n",
    "        pt.parent.mkdir(parents=True, exist_ok=True)\n",
    "    if not pt.is_file():\n",
    "        if mode=='move':\n",
    "            Path.rename(ps, pt)\n",
    "        else:\n",
    "            shutil.copyfile(ps, pt)\n",
    "            \n",
    "run_task_multithread(input_list, copy_data_mkdir)"
   ]
  },
  {
   "cell_type": "code",
   "execution_count": null,
   "id": "a2d58183-0386-406f-8819-76665c6b0ace",
   "metadata": {},
   "outputs": [],
   "source": []
  },
  {
   "cell_type": "code",
   "execution_count": null,
   "id": "7e7d9ac6-d046-464f-8dca-4bac8e548c83",
   "metadata": {},
   "outputs": [],
   "source": []
  },
  {
   "cell_type": "code",
   "execution_count": null,
   "id": "c33e7bde-cddd-47d8-af5c-347b6ed68cc6",
   "metadata": {},
   "outputs": [],
   "source": []
  },
  {
   "cell_type": "code",
   "execution_count": null,
   "id": "334a6769-92e3-47f4-95cd-5d15624cfea2",
   "metadata": {},
   "outputs": [],
   "source": []
  }
 ],
 "metadata": {
  "kernelspec": {
   "display_name": "Python 3 (ipykernel)",
   "language": "python",
   "name": "python3"
  },
  "language_info": {
   "codemirror_mode": {
    "name": "ipython",
    "version": 3
   },
   "file_extension": ".py",
   "mimetype": "text/x-python",
   "name": "python",
   "nbconvert_exporter": "python",
   "pygments_lexer": "ipython3",
   "version": "3.8.13"
  }
 },
 "nbformat": 4,
 "nbformat_minor": 5
}
