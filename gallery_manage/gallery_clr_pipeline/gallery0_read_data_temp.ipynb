{
 "cells": [
  {
   "cell_type": "code",
   "execution_count": 1,
   "id": "1f4b18ed-0348-46dc-a6b1-d323d7b59009",
   "metadata": {},
   "outputs": [],
   "source": [
    "import glob\n",
    "import pandas as pd\n",
    "from pathlib import Path"
   ]
  },
  {
   "cell_type": "code",
   "execution_count": null,
   "id": "8a303f01-da97-40de-b64b-5db83729531b",
   "metadata": {},
   "outputs": [],
   "source": []
  },
  {
   "cell_type": "code",
   "execution_count": null,
   "id": "a4010c73-0963-4484-829d-fbdac50f973a",
   "metadata": {},
   "outputs": [],
   "source": []
  },
  {
   "cell_type": "code",
   "execution_count": 2,
   "id": "4b17fa03-ba07-440d-91f9-554d63210dcc",
   "metadata": {},
   "outputs": [],
   "source": [
    "folder_name = 'gall7kv6'\n",
    "root = Path('/nas/chenyi/datasets_cls/gallery_detect/')\n",
    "det_root = Path(f'/nas/chenyi/datasets_cls/gallery_detect/gallery_oss/{folder_name}/')"
   ]
  },
  {
   "cell_type": "code",
   "execution_count": 5,
   "id": "12b1318d-c952-413f-928a-901134d0addd",
   "metadata": {},
   "outputs": [
    {
     "name": "stdout",
     "output_type": "stream",
     "text": [
      "00  0d\t1a  27\t34  41\t4e  5b\t68  75\t82  8f\t9c  a9\tb6  c3\td0  dd\tea  f7\n",
      "01  0e\t1b  28\t35  42\t4f  5c\t69  76\t83  90\t9d  aa\tb7  c4\td1  de\teb  f8\n",
      "02  0f\t1c  29\t36  43\t50  5d\t6a  77\t84  91\t9e  ab\tb8  c5\td2  df\tec  f9\n",
      "03  10\t1d  2a\t37  44\t51  5e\t6b  78\t85  92\t9f  ac\tb9  c6\td3  e0\ted  fa\n",
      "04  11\t1e  2b\t38  45\t52  5f\t6c  79\t86  93\ta0  ad\tba  c7\td4  e1\tee  fb\n",
      "05  12\t1f  2c\t39  46\t53  60\t6d  7a\t87  94\ta1  ae\tbb  c8\td5  e2\tef  fc\n",
      "06  13\t20  2d\t3a  47\t54  61\t6e  7b\t88  95\ta2  af\tbc  c9\td6  e3\tf0  fd\n",
      "07  14\t21  2e\t3b  48\t55  62\t6f  7c\t89  96\ta3  b0\tbd  ca\td7  e4\tf1  fe\n",
      "08  15\t22  2f\t3c  49\t56  63\t70  7d\t8a  97\ta4  b1\tbe  cb\td8  e5\tf2  ff\n",
      "09  16\t23  30\t3d  4a\t57  64\t71  7e\t8b  98\ta5  b2\tbf  cc\td9  e6\tf3\n",
      "0a  17\t24  31\t3e  4b\t58  65\t72  7f\t8c  99\ta6  b3\tc0  cd\tda  e7\tf4\n",
      "0b  18\t25  32\t3f  4c\t59  66\t73  80\t8d  9a\ta7  b4\tc1  ce\tdb  e8\tf5\n",
      "0c  19\t26  33\t40  4d\t5a  67\t74  81\t8e  9b\ta8  b5\tc2  cf\tdc  e9\tf6\n"
     ]
    }
   ],
   "source": [
    "root_show = det_root /'crops'\n",
    "!ls $root_show"
   ]
  },
  {
   "cell_type": "code",
   "execution_count": null,
   "id": "53976ba9-c3f5-4b52-92c4-310ed6fb6890",
   "metadata": {},
   "outputs": [],
   "source": [
    "%%time\n",
    "imgs_det_list = glob.glob(str(det_root /'images/*/*/*.jpg'))\n",
    "# imgs_det_list = glob.glob(str(det_root /'images/00/00/*.jpg'))\n",
    "len(imgs_det_list)"
   ]
  },
  {
   "cell_type": "code",
   "execution_count": null,
   "id": "a5f0a6a9-59a1-4fff-a719-5d027365fade",
   "metadata": {},
   "outputs": [],
   "source": [
    "%%time\n",
    "txt_det_list = glob.glob(str(det_root /'labels/*/*/*.txt'))\n",
    "# imgs_det_list = glob.glob(str(det_root /'images/00/00/*.jpg'))\n",
    "len(txt_det_list)"
   ]
  },
  {
   "cell_type": "code",
   "execution_count": 11,
   "id": "0b74d0d3-94a4-41d0-94aa-6518586ef354",
   "metadata": {},
   "outputs": [
    {
     "name": "stdout",
     "output_type": "stream",
     "text": [
      "CPU times: user 12.8 s, sys: 15.8 s, total: 28.6 s\n",
      "Wall time: 5min 47s\n"
     ]
    },
    {
     "data": {
      "text/plain": [
       "7570719"
      ]
     },
     "execution_count": 11,
     "metadata": {},
     "output_type": "execute_result"
    }
   ],
   "source": [
    "%%time\n",
    "crops_det_list = glob.glob(str(det_root /'crops/*/*/*.jpg'))\n",
    "# imgs_det_list = glob.glob(str(det_root /'images/00/00/*.jpg'))\n",
    "len(crops_det_list)"
   ]
  },
  {
   "cell_type": "code",
   "execution_count": null,
   "id": "6c7b3eaa-8bf3-4c18-a6ad-c3c8bd74d5a5",
   "metadata": {},
   "outputs": [],
   "source": []
  },
  {
   "cell_type": "code",
   "execution_count": 12,
   "id": "c8c9c5d3-b9c3-4aea-bf8b-b54e0d36ef8c",
   "metadata": {},
   "outputs": [],
   "source": [
    "crops_det_df = pd.DataFrame()\n",
    "crops_det_df['crop_path'] =  crops_det_list"
   ]
  },
  {
   "cell_type": "code",
   "execution_count": 13,
   "id": "18a0312d-6f36-45d3-976d-1f0669cf1092",
   "metadata": {},
   "outputs": [],
   "source": [
    "crops_det_df.to_csv('/nas/chenyi/datasets_cls/gallery_detect/gallery_oss/gall7kv6/info/crops_det_df.csv', index=False)"
   ]
  },
  {
   "cell_type": "code",
   "execution_count": 10,
   "id": "f79a425d-341f-4cf8-834e-1ce58bb1de3f",
   "metadata": {},
   "outputs": [
    {
     "name": "stdout",
     "output_type": "stream",
     "text": [
      "crops_det_df.csv  txts_gall_df.csv\n"
     ]
    }
   ],
   "source": [
    "!ls /nas/chenyi/datasets_cls/gallery_detect/gallery_oss/gall7kv6/info/"
   ]
  },
  {
   "cell_type": "code",
   "execution_count": null,
   "id": "981cbd73-0bba-4b83-bf55-d25c2d78ee86",
   "metadata": {},
   "outputs": [],
   "source": []
  }
 ],
 "metadata": {
  "kernelspec": {
   "display_name": "Python 3 (ipykernel)",
   "language": "python",
   "name": "python3"
  },
  "language_info": {
   "codemirror_mode": {
    "name": "ipython",
    "version": 3
   },
   "file_extension": ".py",
   "mimetype": "text/x-python",
   "name": "python",
   "nbconvert_exporter": "python",
   "pygments_lexer": "ipython3",
   "version": "3.8.13"
  }
 },
 "nbformat": 4,
 "nbformat_minor": 5
}
