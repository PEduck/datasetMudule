{
 "cells": [
  {
   "cell_type": "code",
   "execution_count": 1,
   "id": "bcc880cd-e67d-40d2-afb9-1afdaf8a41db",
   "metadata": {},
   "outputs": [],
   "source": [
    "import glob\n",
    "import pandas as pd\n",
    "from pathlib import Path"
   ]
  },
  {
   "cell_type": "code",
   "execution_count": null,
   "id": "26bcc6bb-1a32-4fde-a2b8-2a4998cac8dd",
   "metadata": {},
   "outputs": [],
   "source": []
  },
  {
   "cell_type": "code",
   "execution_count": null,
   "id": "eae042c5-3c91-4350-8964-09574ad1fc5a",
   "metadata": {},
   "outputs": [],
   "source": []
  },
  {
   "cell_type": "code",
   "execution_count": null,
   "id": "8275d329-e551-4177-aa8c-6b3c15f5926d",
   "metadata": {},
   "outputs": [],
   "source": []
  },
  {
   "cell_type": "code",
   "execution_count": 23,
   "id": "cda31e54-f93e-4654-8fbb-f8235e58396c",
   "metadata": {},
   "outputs": [],
   "source": [
    "root = Path('/nas/lichangjian/wardrobe_2/done_/')"
   ]
  },
  {
   "cell_type": "code",
   "execution_count": 5,
   "id": "75c1d1c7-c9a8-4039-9c55-d6265234136d",
   "metadata": {},
   "outputs": [
    {
     "name": "stdout",
     "output_type": "stream",
     "text": [
      "crops  hwpedia_folder  labels\n"
     ]
    }
   ],
   "source": [
    "target_root  = root / 'hwpedia_all'\n",
    "!ls $target_root"
   ]
  },
  {
   "cell_type": "code",
   "execution_count": 7,
   "id": "358ef9b9-b913-433e-a838-f2eeec7007ad",
   "metadata": {},
   "outputs": [
    {
     "name": "stdout",
     "output_type": "stream",
     "text": [
      "T恤\t\t吊带\t   斗篷\t\t     牛仔裤  裙子    马甲\n",
      "休闲裤\t\t大衣\t   棉衣_羊羔绒\t     皮草    西装    马甲_背心\n",
      "休闲鞋\t\t夹克_外套  棒球服\t     皮衣    西装裤\n",
      "休闲鞋_setdiff\t女衫类\t   正装女鞋\t     皮鞋    运动裤\n",
      "包包\t\t小西装\t   正装女鞋_setdiff  羽绒服  连衣裙\n",
      "包包_setdiff\t打底裤\t   毛衣_绒衣_针织衫  背心    连衣裤\n",
      "卫衣\t\t抹胸\t   牛仔\t\t     衬衫    风衣\n"
     ]
    }
   ],
   "source": [
    "!ls /nas/chenyi/datasets_cls/gallery_detect/watoo400k/hwpedia_all/hwpedia_folder/"
   ]
  },
  {
   "cell_type": "code",
   "execution_count": null,
   "id": "be7112e0-4cfb-43e6-bafc-7572ba90ef9f",
   "metadata": {},
   "outputs": [],
   "source": []
  },
  {
   "cell_type": "code",
   "execution_count": 28,
   "id": "8d545ed2-1137-4aaf-8190-565f008810d0",
   "metadata": {},
   "outputs": [
    {
     "name": "stdout",
     "output_type": "stream",
     "text": [
      "CPU times: user 762 ms, sys: 95.2 ms, total: 858 ms\n",
      "Wall time: 866 ms\n"
     ]
    }
   ],
   "source": [
    "%%time\n",
    "imgs_list = glob.glob(str(root /'*/*'))\n",
    "# imgs_list = glob.glob(str(target_root /'*/*'))"
   ]
  },
  {
   "cell_type": "code",
   "execution_count": 29,
   "id": "82725fbd-653e-41ce-b5c8-467300c28fa6",
   "metadata": {},
   "outputs": [
    {
     "data": {
      "text/plain": [
       "(478509, '/nas/lichangjian/wardrobe_2/done_/T恤/2018082201120949598.jpg')"
      ]
     },
     "execution_count": 29,
     "metadata": {},
     "output_type": "execute_result"
    }
   ],
   "source": [
    "len(imgs_list), imgs_list[0]"
   ]
  },
  {
   "cell_type": "code",
   "execution_count": null,
   "id": "8d4efa59-7f08-45b8-ac26-f7472735f980",
   "metadata": {},
   "outputs": [],
   "source": []
  },
  {
   "cell_type": "code",
   "execution_count": null,
   "id": "3d3d046d-20ff-480f-bb3d-24c08a0a0000",
   "metadata": {},
   "outputs": [],
   "source": []
  },
  {
   "cell_type": "code",
   "execution_count": 17,
   "id": "cfbb454e-3d7a-4c30-bfb2-75cadad03ccc",
   "metadata": {},
   "outputs": [
    {
     "name": "stdout",
     "output_type": "stream",
     "text": [
      "CPU times: user 665 ms, sys: 118 ms, total: 783 ms\n",
      "Wall time: 782 ms\n"
     ]
    }
   ],
   "source": [
    "%%time\n",
    "# imgs_list = glob.glob(str(root /'*/*.jpg'))\n",
    "imgs_list = glob.glob(str(target_root /'labels/*.txt'))"
   ]
  },
  {
   "cell_type": "code",
   "execution_count": null,
   "id": "67af026d-c6f9-4e3d-b67e-e3eefc434136",
   "metadata": {},
   "outputs": [],
   "source": []
  },
  {
   "cell_type": "code",
   "execution_count": 30,
   "id": "8111fd1e-8e7b-4553-8764-0301f497f2c1",
   "metadata": {},
   "outputs": [],
   "source": [
    "gall_df = pd.DataFrame()"
   ]
  },
  {
   "cell_type": "code",
   "execution_count": 31,
   "id": "8623d0df-3a81-4690-b03f-3ece0b01cc58",
   "metadata": {},
   "outputs": [],
   "source": [
    "gall_df['path'] = imgs_list"
   ]
  },
  {
   "cell_type": "code",
   "execution_count": 32,
   "id": "b97c155f-12ed-4339-9998-f31e26f23e98",
   "metadata": {},
   "outputs": [],
   "source": [
    "gall_df.to_csv('./data/watoo470k/imgs_origin_watoo470k.csv',index=False)"
   ]
  },
  {
   "cell_type": "code",
   "execution_count": null,
   "id": "12b5456f-07bc-4441-8bc9-0a25fc91b8f1",
   "metadata": {},
   "outputs": [],
   "source": []
  },
  {
   "cell_type": "code",
   "execution_count": 33,
   "id": "186a3e0b-2e1c-498a-a926-a33ec54200b9",
   "metadata": {},
   "outputs": [
    {
     "data": {
      "text/plain": [
       "array([['/nas/lichangjian/wardrobe_2/done_/T恤/2018082201120949598.jpg'],\n",
       "       ['/nas/lichangjian/wardrobe_2/done_/T恤/2017083017334726315.jpg']],\n",
       "      dtype=object)"
      ]
     },
     "execution_count": 33,
     "metadata": {},
     "output_type": "execute_result"
    }
   ],
   "source": [
    "gall_df.head(2).values"
   ]
  },
  {
   "cell_type": "code",
   "execution_count": 34,
   "id": "a5b54ddb-edb6-4e6c-aefe-8d0c9ce961f3",
   "metadata": {},
   "outputs": [
    {
     "data": {
      "text/plain": [
       "478509"
      ]
     },
     "execution_count": 34,
     "metadata": {},
     "output_type": "execute_result"
    }
   ],
   "source": [
    "len(gall_df)"
   ]
  },
  {
   "cell_type": "code",
   "execution_count": null,
   "id": "82e5f0e7-c230-4541-82e6-a9ac1be4e687",
   "metadata": {},
   "outputs": [],
   "source": []
  },
  {
   "cell_type": "code",
   "execution_count": null,
   "id": "ff2f250e-3703-4c1a-9521-43b7e4cf1a63",
   "metadata": {},
   "outputs": [],
   "source": []
  },
  {
   "cell_type": "code",
   "execution_count": 37,
   "id": "39cef658-b725-4fcc-a6b7-f978a2e8fab0",
   "metadata": {},
   "outputs": [
    {
     "name": "stdout",
     "output_type": "stream",
     "text": [
      "CPU times: user 7.96 s, sys: 10.8 s, total: 18.8 s\n",
      "Wall time: 9min 56s\n"
     ]
    }
   ],
   "source": [
    "%%time\n",
    "# imgs_list = glob.glob(str(root /'*/*.jpg'))\n",
    "imgs_list = glob.glob(str('/nas/oss/gallery/*/*/*'))"
   ]
  },
  {
   "cell_type": "code",
   "execution_count": 38,
   "id": "3e139337-9507-44b7-858c-e85ea050cdcd",
   "metadata": {},
   "outputs": [
    {
     "data": {
      "text/plain": [
       "(2278623,\n",
       " '/nas/oss/gallery/69/31/69313640-af52-465e-88c8-c0a0099ca5c7-699544.jpg')"
      ]
     },
     "execution_count": 38,
     "metadata": {},
     "output_type": "execute_result"
    }
   ],
   "source": [
    "len(imgs_list), imgs_list[0]"
   ]
  },
  {
   "cell_type": "code",
   "execution_count": null,
   "id": "27cd9349-fd16-437a-92f0-6be9cc2eb686",
   "metadata": {},
   "outputs": [],
   "source": []
  },
  {
   "cell_type": "code",
   "execution_count": null,
   "id": "963c5a25-770a-4560-8fd8-5a0d3da47aae",
   "metadata": {},
   "outputs": [],
   "source": []
  },
  {
   "cell_type": "code",
   "execution_count": null,
   "id": "5bb01e37-e3bf-41e2-87cb-1f14f5b7dbd2",
   "metadata": {},
   "outputs": [],
   "source": []
  }
 ],
 "metadata": {
  "kernelspec": {
   "display_name": "Python 3 (ipykernel)",
   "language": "python",
   "name": "python3"
  },
  "language_info": {
   "codemirror_mode": {
    "name": "ipython",
    "version": 3
   },
   "file_extension": ".py",
   "mimetype": "text/x-python",
   "name": "python",
   "nbconvert_exporter": "python",
   "pygments_lexer": "ipython3",
   "version": "3.8.13"
  }
 },
 "nbformat": 4,
 "nbformat_minor": 5
}
