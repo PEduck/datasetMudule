{
 "cells": [
  {
   "cell_type": "code",
   "execution_count": 53,
   "id": "da1dba61-1aec-4d4b-91f7-4f521931bf40",
   "metadata": {},
   "outputs": [],
   "source": [
    "# 合并原图、和bbox，labels的数据"
   ]
  },
  {
   "cell_type": "code",
   "execution_count": 1,
   "id": "9d047ba9-507e-4e43-a147-54e1c974f808",
   "metadata": {},
   "outputs": [],
   "source": [
    "import glob\n",
    "import pandas as pd\n",
    "from pathlib import Path\n",
    "import re"
   ]
  },
  {
   "cell_type": "code",
   "execution_count": null,
   "id": "b0fe6a6a-7128-4f26-9617-35574cf5890a",
   "metadata": {},
   "outputs": [],
   "source": []
  },
  {
   "cell_type": "markdown",
   "id": "96272dcc-ed49-4e91-b173-e9c9bd2c6521",
   "metadata": {},
   "source": [
    "### API"
   ]
  },
  {
   "cell_type": "code",
   "execution_count": 113,
   "id": "d8bb9b12-68dc-4061-ba47-896199e89f42",
   "metadata": {},
   "outputs": [],
   "source": [
    "def get_list2dict(k_list, v_list):\n",
    "    d = {}\n",
    "    for item in zip(k_list, v_list):\n",
    "        d[item[0]] = item[1]\n",
    "    return d"
   ]
  },
  {
   "cell_type": "code",
   "execution_count": null,
   "id": "6f67c039-2613-4ba3-a80d-7ef6e48dde17",
   "metadata": {},
   "outputs": [],
   "source": []
  },
  {
   "cell_type": "code",
   "execution_count": null,
   "id": "8d32b7cb-e158-4731-bd68-0bdef5a5ef23",
   "metadata": {},
   "outputs": [],
   "source": []
  },
  {
   "cell_type": "markdown",
   "id": "d0756082-0895-4110-8e98-0eb761178422",
   "metadata": {},
   "source": [
    "### 加载数据"
   ]
  },
  {
   "cell_type": "code",
   "execution_count": null,
   "id": "f3ede256-2036-477b-b248-de12a44d1ad4",
   "metadata": {},
   "outputs": [],
   "source": [
    "# 合并"
   ]
  },
  {
   "cell_type": "code",
   "execution_count": null,
   "id": "be5254fc-c9fa-4014-8293-db391ba0e9f0",
   "metadata": {},
   "outputs": [],
   "source": [
    "# !mkdir /nas/chenyi/datasets_cls/gallery_detect/gallery_oss/dadetv4/info/"
   ]
  },
  {
   "cell_type": "code",
   "execution_count": 48,
   "id": "a1e9afb5-2c8b-4c99-84dc-47e18079b2f9",
   "metadata": {},
   "outputs": [
    {
     "name": "stdout",
     "output_type": "stream",
     "text": [
      "crops_imgs1m_list.json\tdadetv4\t\t    rewrite_labels_plist.json\n",
      "crops_rev_list.json\timgs_rev_list.json\n"
     ]
    }
   ],
   "source": [
    "!ls /nas/chenyi/datasets_cls/gallery_detect/gallery_oss/dadetv4/info/"
   ]
  },
  {
   "cell_type": "code",
   "execution_count": 83,
   "id": "00df25e4-6935-43fc-b584-80d6f37af6bd",
   "metadata": {},
   "outputs": [
    {
     "name": "stdout",
     "output_type": "stream",
     "text": [
      "\u001b[34;42m/nas/chenyi/datasets_cls/gallery_detect/gallery_oss/dadetv4/info/dadetv4/\u001b[00m\n",
      "├── \u001b[01;32mbboxes_all_df.csv\u001b[00m\n",
      "├── \u001b[01;32mcrops_all_df.csv\u001b[00m\n",
      "├── \u001b[01;32mimgs_det_df.csv\u001b[00m\n",
      "├── \u001b[01;32mimgs_org_df.csv\u001b[00m\n",
      "└── \u001b[01;32mlabels_df.csv\u001b[00m\n",
      "\n",
      "0 directories, 5 files\n"
     ]
    }
   ],
   "source": [
    "!tree -L 1 /nas/chenyi/datasets_cls/gallery_detect/gallery_oss/dadetv4/info/dadetv4/"
   ]
  },
  {
   "cell_type": "code",
   "execution_count": 49,
   "id": "b270568c-290f-424a-ae3e-7e2a431ab617",
   "metadata": {},
   "outputs": [],
   "source": [
    "img_org_df = pd.read_csv('/nas/chenyi/datasets_cls/gallery_detect/csv/gall_df.csv')"
   ]
  },
  {
   "cell_type": "code",
   "execution_count": 43,
   "id": "6fa5599b-62b7-4ce4-9276-2d383f0aaa51",
   "metadata": {},
   "outputs": [],
   "source": [
    "bboxes_all_df = pd.read_csv('/nas/chenyi/datasets_cls/gallery_detect/gallery_oss/dadetv4/info/dadetv4/bboxes_all_df.csv')"
   ]
  },
  {
   "cell_type": "code",
   "execution_count": 45,
   "id": "f201eccb-ee41-44e7-8b2b-ceddf4060c3f",
   "metadata": {},
   "outputs": [],
   "source": [
    "crops_df = pd.read_csv('/nas/chenyi/datasets_cls/gallery_detect/gallery_oss/dadetv4/info/dadetv4/crops_all_df.csv')"
   ]
  },
  {
   "cell_type": "code",
   "execution_count": 46,
   "id": "d35eae4f-1ea8-4f73-b01f-edbce3c98eff",
   "metadata": {},
   "outputs": [
    {
     "data": {
      "text/plain": [
       "(1661397, 6605289, 6605629)"
      ]
     },
     "execution_count": 46,
     "metadata": {},
     "output_type": "execute_result"
    }
   ],
   "source": [
    "len(img_df), len(bboxes_all_df),len(crops_df)"
   ]
  },
  {
   "cell_type": "code",
   "execution_count": null,
   "id": "b3118bfd-8109-4f96-b571-aaf349b96966",
   "metadata": {},
   "outputs": [],
   "source": []
  },
  {
   "cell_type": "code",
   "execution_count": null,
   "id": "1bd5e65b-006a-4fca-9041-0c30e241d7ed",
   "metadata": {},
   "outputs": [],
   "source": [
    "# img_org_df.to_csv('/nas/chenyi/datasets_cls/gallery_detect/gallery_oss/dadetv4/info/dadetv4/imgs_org_df.csv', index=False)"
   ]
  },
  {
   "cell_type": "code",
   "execution_count": 90,
   "id": "921605eb-935d-4fd0-b183-5e93add80e99",
   "metadata": {},
   "outputs": [],
   "source": [
    "bboxes_all_df.to_csv('/nas/chenyi/datasets_cls/gallery_detect/gallery_oss/dadetv4/info/dadetv4/bboxes_all_df.csv', \n",
    "                     index=False)"
   ]
  },
  {
   "cell_type": "code",
   "execution_count": null,
   "id": "ff483a3f-34a5-4dd6-ba9a-d33badd5ae21",
   "metadata": {},
   "outputs": [],
   "source": []
  },
  {
   "cell_type": "code",
   "execution_count": null,
   "id": "bc536e24-4569-455e-a3a3-748c7484da1c",
   "metadata": {},
   "outputs": [],
   "source": []
  },
  {
   "cell_type": "markdown",
   "id": "0ed8dad9-b644-4325-bbb0-9ed083b8f8e9",
   "metadata": {},
   "source": [
    "### 构建原图信息"
   ]
  },
  {
   "cell_type": "code",
   "execution_count": 65,
   "id": "a625c071-2142-4275-ac50-e4d33d54d7fe",
   "metadata": {},
   "outputs": [],
   "source": []
  },
  {
   "cell_type": "code",
   "execution_count": 58,
   "id": "8f33c433-35dd-4b27-8d1c-645cd95f445f",
   "metadata": {},
   "outputs": [
    {
     "data": {
      "text/plain": [
       "array([['/nas/chenyi/datasets_cls/gallery_detect/gallery_oss/dadetv4/gall_dadetv4_all/imgs_det/ffffdea9-74ea-4fdf-b86e-6e77bb7d7979-494872.jpg',\n",
       "        'ffffdea9-74ea-4fdf-b86e-6e77bb7d7979-494872', 690, 856]],\n",
       "      dtype=object)"
      ]
     },
     "execution_count": 58,
     "metadata": {},
     "output_type": "execute_result"
    }
   ],
   "source": [
    "img_df.tail(1).values"
   ]
  },
  {
   "cell_type": "code",
   "execution_count": 59,
   "id": "f6a7a0cc-7368-4e25-912f-e19176bb10cd",
   "metadata": {},
   "outputs": [
    {
     "data": {
      "text/plain": [
       "array([['/nas/oss/gallery/ff/ff/ffffdea9-74ea-4fdf-b86e-6e77bb7d7979-494872.jpg',\n",
       "        'ffffdea9-74ea-4fdf-b86e-6e77bb7d7979-494872']], dtype=object)"
      ]
     },
     "execution_count": 59,
     "metadata": {},
     "output_type": "execute_result"
    }
   ],
   "source": [
    "img_org_df.tail(1).values"
   ]
  },
  {
   "cell_type": "code",
   "execution_count": null,
   "id": "c555a886-653b-4f98-8399-58e5a8b15df5",
   "metadata": {},
   "outputs": [],
   "source": [
    "img_org_df"
   ]
  },
  {
   "cell_type": "code",
   "execution_count": 54,
   "id": "abe5842a-c66b-4672-8824-0cd93ec0510c",
   "metadata": {},
   "outputs": [
    {
     "data": {
      "text/plain": [
       "(1661397, 1661397)"
      ]
     },
     "execution_count": 54,
     "metadata": {},
     "output_type": "execute_result"
    }
   ],
   "source": [
    "len(img_df), len(img_org_df)"
   ]
  },
  {
   "cell_type": "code",
   "execution_count": 55,
   "id": "05806400-4644-497d-9d84-3ea0414605bb",
   "metadata": {},
   "outputs": [],
   "source": [
    "img_org_df.sort_values('stem', inplace=True)\n",
    "img_df.sort_values('stem', inplace=True)"
   ]
  },
  {
   "cell_type": "code",
   "execution_count": 61,
   "id": "adc8d23d-fd11-475d-a72f-39336a4cc7f7",
   "metadata": {},
   "outputs": [],
   "source": [
    "img_org_df['width'] = img_df['width'].values"
   ]
  },
  {
   "cell_type": "code",
   "execution_count": 63,
   "id": "680f4ab3-ef1a-451a-9e13-70f6ee3093c0",
   "metadata": {},
   "outputs": [],
   "source": [
    "img_org_df['height'] = img_df['height'].values"
   ]
  },
  {
   "cell_type": "code",
   "execution_count": null,
   "id": "f342a377-9a36-4ecf-9050-74522f11aaef",
   "metadata": {},
   "outputs": [],
   "source": []
  },
  {
   "cell_type": "code",
   "execution_count": null,
   "id": "02c7ab6c-108b-4406-b0f5-04b796c70ef4",
   "metadata": {},
   "outputs": [],
   "source": []
  },
  {
   "cell_type": "markdown",
   "id": "d8e3a193-c065-48d3-b90e-8eb87630f692",
   "metadata": {},
   "source": [
    "### Bboxes信息合成"
   ]
  },
  {
   "cell_type": "code",
   "execution_count": 73,
   "id": "76aa3a68-6ead-4d69-a64b-35784ddab173",
   "metadata": {},
   "outputs": [
    {
     "data": {
      "text/plain": [
       "(6605289, 6605629)"
      ]
     },
     "execution_count": 73,
     "metadata": {},
     "output_type": "execute_result"
    }
   ],
   "source": [
    "len(bboxes_all_df),len(crops_df)"
   ]
  },
  {
   "cell_type": "code",
   "execution_count": 104,
   "id": "5c205e44-8af0-4299-9309-53997fa7ab81",
   "metadata": {},
   "outputs": [
    {
     "data": {
      "text/plain": [
       "6599176"
      ]
     },
     "execution_count": 104,
     "metadata": {},
     "output_type": "execute_result"
    }
   ],
   "source": [
    "len(label_cross_df)"
   ]
  },
  {
   "cell_type": "code",
   "execution_count": 87,
   "id": "67292cb8-545d-4c1a-94b2-ac2b89b7da35",
   "metadata": {},
   "outputs": [],
   "source": [
    "# bboxes_all_df.rename(columns={bboxes_all_df.columns[0]:'label_pred',\n",
    "#                              bboxes_all_df.columns[1]:'bx1',\n",
    "#                               bboxes_all_df.columns[2]:'bx2',\n",
    "#                               bboxes_all_df.columns[3]:'bx3',\n",
    "#                               bboxes_all_df.columns[4]:'bx4',\n",
    "#                               bboxes_all_df.columns[5]:'conf',\n",
    "#                               bboxes_all_df.columns[6]:'id_crop',\n",
    "#                               bboxes_all_df.columns[7]:'label_p',\n",
    "#                              }, inplace=True)"
   ]
  },
  {
   "cell_type": "code",
   "execution_count": null,
   "id": "bec832fe-6425-4169-ab3a-9e1671a0717e",
   "metadata": {},
   "outputs": [],
   "source": []
  },
  {
   "cell_type": "markdown",
   "id": "28e49e8f-78d9-4e48-a30b-8e2c4d14d100",
   "metadata": {},
   "source": [
    "#### label和crops的交集"
   ]
  },
  {
   "cell_type": "code",
   "execution_count": 97,
   "id": "93875b81-8617-4d78-9b8e-321998091178",
   "metadata": {},
   "outputs": [
    {
     "data": {
      "text/html": [
       "<div>\n",
       "<style scoped>\n",
       "    .dataframe tbody tr th:only-of-type {\n",
       "        vertical-align: middle;\n",
       "    }\n",
       "\n",
       "    .dataframe tbody tr th {\n",
       "        vertical-align: top;\n",
       "    }\n",
       "\n",
       "    .dataframe thead th {\n",
       "        text-align: right;\n",
       "    }\n",
       "</style>\n",
       "<table border=\"1\" class=\"dataframe\">\n",
       "  <thead>\n",
       "    <tr style=\"text-align: right;\">\n",
       "      <th></th>\n",
       "      <th>crops_p</th>\n",
       "      <th>crops_path</th>\n",
       "      <th>stem</th>\n",
       "    </tr>\n",
       "  </thead>\n",
       "  <tbody>\n",
       "    <tr>\n",
       "      <th>0</th>\n",
       "      <td>/nas/chenyi/datasets_cls/gallery_detect/galler...</td>\n",
       "      <td>/nas/chenyi/datasets_cls/gallery_detect/galler...</td>\n",
       "      <td>69313640-af52-465e-88c8-c0a0099ca5c7-699544_0</td>\n",
       "    </tr>\n",
       "    <tr>\n",
       "      <th>1</th>\n",
       "      <td>/nas/chenyi/datasets_cls/gallery_detect/galler...</td>\n",
       "      <td>/nas/chenyi/datasets_cls/gallery_detect/galler...</td>\n",
       "      <td>69313640-af52-465e-88c8-c0a0099ca5c7-699544_2</td>\n",
       "    </tr>\n",
       "  </tbody>\n",
       "</table>\n",
       "</div>"
      ],
      "text/plain": [
       "                                             crops_p  \\\n",
       "0  /nas/chenyi/datasets_cls/gallery_detect/galler...   \n",
       "1  /nas/chenyi/datasets_cls/gallery_detect/galler...   \n",
       "\n",
       "                                          crops_path  \\\n",
       "0  /nas/chenyi/datasets_cls/gallery_detect/galler...   \n",
       "1  /nas/chenyi/datasets_cls/gallery_detect/galler...   \n",
       "\n",
       "                                            stem  \n",
       "0  69313640-af52-465e-88c8-c0a0099ca5c7-699544_0  \n",
       "1  69313640-af52-465e-88c8-c0a0099ca5c7-699544_2  "
      ]
     },
     "execution_count": 97,
     "metadata": {},
     "output_type": "execute_result"
    }
   ],
   "source": [
    "crops_df.head(2)"
   ]
  },
  {
   "cell_type": "code",
   "execution_count": 93,
   "id": "c3506fb8-03dc-478f-b266-d21d08c36076",
   "metadata": {},
   "outputs": [
    {
     "data": {
      "text/html": [
       "<div>\n",
       "<style scoped>\n",
       "    .dataframe tbody tr th:only-of-type {\n",
       "        vertical-align: middle;\n",
       "    }\n",
       "\n",
       "    .dataframe tbody tr th {\n",
       "        vertical-align: top;\n",
       "    }\n",
       "\n",
       "    .dataframe thead th {\n",
       "        text-align: right;\n",
       "    }\n",
       "</style>\n",
       "<table border=\"1\" class=\"dataframe\">\n",
       "  <thead>\n",
       "    <tr style=\"text-align: right;\">\n",
       "      <th></th>\n",
       "      <th>label_pred</th>\n",
       "      <th>bx1</th>\n",
       "      <th>bx2</th>\n",
       "      <th>bx3</th>\n",
       "      <th>bx4</th>\n",
       "      <th>conf</th>\n",
       "      <th>id_crop</th>\n",
       "      <th>label_p</th>\n",
       "      <th>stem</th>\n",
       "    </tr>\n",
       "  </thead>\n",
       "  <tbody>\n",
       "    <tr>\n",
       "      <th>0</th>\n",
       "      <td>0</td>\n",
       "      <td>0.373611</td>\n",
       "      <td>0.942361</td>\n",
       "      <td>0.083333</td>\n",
       "      <td>0.115278</td>\n",
       "      <td>0.880866</td>\n",
       "      <td>0</td>\n",
       "      <td>/nas/chenyi/datasets_cls/gallery_detect/galler...</td>\n",
       "      <td>69313640-af52-465e-88c8-c0a0099ca5c7-699544_0</td>\n",
       "    </tr>\n",
       "  </tbody>\n",
       "</table>\n",
       "</div>"
      ],
      "text/plain": [
       "   label_pred       bx1       bx2       bx3       bx4      conf  id_crop  \\\n",
       "0           0  0.373611  0.942361  0.083333  0.115278  0.880866        0   \n",
       "\n",
       "                                             label_p  \\\n",
       "0  /nas/chenyi/datasets_cls/gallery_detect/galler...   \n",
       "\n",
       "                                            stem  \n",
       "0  69313640-af52-465e-88c8-c0a0099ca5c7-699544_0  "
      ]
     },
     "execution_count": 93,
     "metadata": {},
     "output_type": "execute_result"
    }
   ],
   "source": [
    "bboxes_all_df.head(1)"
   ]
  },
  {
   "cell_type": "code",
   "execution_count": 92,
   "id": "284b311e-dae3-4510-8a61-a05915896734",
   "metadata": {},
   "outputs": [],
   "source": [
    "bboxes_all_df['stem'] = bboxes_all_df.apply(lambda x: Path(x['label_p']).stem + '_' + str(x['id_crop']), axis=1)"
   ]
  },
  {
   "cell_type": "code",
   "execution_count": 94,
   "id": "cce77fb7-ddf5-4f7f-ab9b-2ee14d403b89",
   "metadata": {},
   "outputs": [
    {
     "data": {
      "text/html": [
       "<div>\n",
       "<style scoped>\n",
       "    .dataframe tbody tr th:only-of-type {\n",
       "        vertical-align: middle;\n",
       "    }\n",
       "\n",
       "    .dataframe tbody tr th {\n",
       "        vertical-align: top;\n",
       "    }\n",
       "\n",
       "    .dataframe thead th {\n",
       "        text-align: right;\n",
       "    }\n",
       "</style>\n",
       "<table border=\"1\" class=\"dataframe\">\n",
       "  <thead>\n",
       "    <tr style=\"text-align: right;\">\n",
       "      <th></th>\n",
       "      <th>label_pred</th>\n",
       "      <th>bx1</th>\n",
       "      <th>bx2</th>\n",
       "      <th>bx3</th>\n",
       "      <th>bx4</th>\n",
       "      <th>conf</th>\n",
       "      <th>id_crop</th>\n",
       "      <th>label_p</th>\n",
       "      <th>stem</th>\n",
       "    </tr>\n",
       "  </thead>\n",
       "  <tbody>\n",
       "    <tr>\n",
       "      <th>0</th>\n",
       "      <td>0</td>\n",
       "      <td>0.373611</td>\n",
       "      <td>0.942361</td>\n",
       "      <td>0.083333</td>\n",
       "      <td>0.115278</td>\n",
       "      <td>0.880866</td>\n",
       "      <td>0</td>\n",
       "      <td>/nas/chenyi/datasets_cls/gallery_detect/galler...</td>\n",
       "      <td>69313640-af52-465e-88c8-c0a0099ca5c7-699544_0</td>\n",
       "    </tr>\n",
       "    <tr>\n",
       "      <th>1</th>\n",
       "      <td>5</td>\n",
       "      <td>0.601389</td>\n",
       "      <td>0.402778</td>\n",
       "      <td>0.325000</td>\n",
       "      <td>0.463889</td>\n",
       "      <td>0.911707</td>\n",
       "      <td>1</td>\n",
       "      <td>/nas/chenyi/datasets_cls/gallery_detect/galler...</td>\n",
       "      <td>69313640-af52-465e-88c8-c0a0099ca5c7-699544_1</td>\n",
       "    </tr>\n",
       "  </tbody>\n",
       "</table>\n",
       "</div>"
      ],
      "text/plain": [
       "   label_pred       bx1       bx2       bx3       bx4      conf  id_crop  \\\n",
       "0           0  0.373611  0.942361  0.083333  0.115278  0.880866        0   \n",
       "1           5  0.601389  0.402778  0.325000  0.463889  0.911707        1   \n",
       "\n",
       "                                             label_p  \\\n",
       "0  /nas/chenyi/datasets_cls/gallery_detect/galler...   \n",
       "1  /nas/chenyi/datasets_cls/gallery_detect/galler...   \n",
       "\n",
       "                                            stem  \n",
       "0  69313640-af52-465e-88c8-c0a0099ca5c7-699544_0  \n",
       "1  69313640-af52-465e-88c8-c0a0099ca5c7-699544_1  "
      ]
     },
     "execution_count": 94,
     "metadata": {},
     "output_type": "execute_result"
    }
   ],
   "source": [
    "bboxes_all_df.head(2)"
   ]
  },
  {
   "cell_type": "code",
   "execution_count": 96,
   "id": "5e23e1f1-6cbb-4f93-84b1-d632615b4c22",
   "metadata": {},
   "outputs": [],
   "source": [
    "crops_df['stem'] = crops_df['crops_p'].apply(lambda x: Path(x).stem)"
   ]
  },
  {
   "cell_type": "code",
   "execution_count": 102,
   "id": "0f2a3425-6733-40ac-b696-1ec039f69e92",
   "metadata": {},
   "outputs": [],
   "source": [
    "label_cross_df = bboxes_all_df[bboxes_all_df['stem'].isin(crops_df['stem'])]"
   ]
  },
  {
   "cell_type": "code",
   "execution_count": null,
   "id": "f213d521-3ad1-4b32-b4f9-61e69765a2b9",
   "metadata": {},
   "outputs": [],
   "source": []
  },
  {
   "cell_type": "code",
   "execution_count": null,
   "id": "28aaf19e-1fce-46cc-8886-371d9cea63ed",
   "metadata": {},
   "outputs": [],
   "source": []
  },
  {
   "cell_type": "markdown",
   "id": "87025988-0528-4ef4-afaa-a17f6b788724",
   "metadata": {},
   "source": [
    "#### 获取原图的宽高"
   ]
  },
  {
   "cell_type": "code",
   "execution_count": 108,
   "id": "5e0ec4c0-0717-4d52-9f39-02da3297edff",
   "metadata": {},
   "outputs": [],
   "source": [
    "label_cross_df = pd.read_csv('/nas/chenyi/datasets_cls/gallery_detect/gallery_oss/dadetv4/info/dadetv4/bboxes_detv4_df.csv')"
   ]
  },
  {
   "cell_type": "code",
   "execution_count": 125,
   "id": "2e1fc3ea-4b01-47c3-a0b1-84fd321a3064",
   "metadata": {},
   "outputs": [],
   "source": [
    "label_cross_df.to_csv('/nas/chenyi/datasets_cls/gallery_detect/gallery_oss/dadetv4/info/dadetv4/bboxes_detv4_df.csv', \n",
    "                     index=False)"
   ]
  },
  {
   "cell_type": "code",
   "execution_count": 109,
   "id": "83a7c89e-2a2f-497e-a142-a2d7b8cdad88",
   "metadata": {},
   "outputs": [],
   "source": [
    "label_cross_df['stem'] = label_cross_df['label_p'].apply(lambda x: Path(x).stem)"
   ]
  },
  {
   "cell_type": "code",
   "execution_count": 119,
   "id": "26f41e87-00c4-45ec-b7c3-e1b872ae6dce",
   "metadata": {},
   "outputs": [
    {
     "data": {
      "text/html": [
       "<div>\n",
       "<style scoped>\n",
       "    .dataframe tbody tr th:only-of-type {\n",
       "        vertical-align: middle;\n",
       "    }\n",
       "\n",
       "    .dataframe tbody tr th {\n",
       "        vertical-align: top;\n",
       "    }\n",
       "\n",
       "    .dataframe thead th {\n",
       "        text-align: right;\n",
       "    }\n",
       "</style>\n",
       "<table border=\"1\" class=\"dataframe\">\n",
       "  <thead>\n",
       "    <tr style=\"text-align: right;\">\n",
       "      <th></th>\n",
       "      <th>label_pred</th>\n",
       "      <th>bx1</th>\n",
       "      <th>bx2</th>\n",
       "      <th>bx3</th>\n",
       "      <th>bx4</th>\n",
       "      <th>conf</th>\n",
       "      <th>id_crop</th>\n",
       "      <th>label_p</th>\n",
       "      <th>stem</th>\n",
       "      <th>oss_sp</th>\n",
       "      <th>width</th>\n",
       "      <th>heigth</th>\n",
       "    </tr>\n",
       "  </thead>\n",
       "  <tbody>\n",
       "    <tr>\n",
       "      <th>0</th>\n",
       "      <td>0</td>\n",
       "      <td>0.373611</td>\n",
       "      <td>0.942361</td>\n",
       "      <td>0.083333</td>\n",
       "      <td>0.115278</td>\n",
       "      <td>0.880866</td>\n",
       "      <td>0</td>\n",
       "      <td>/nas/chenyi/datasets_cls/gallery_detect/galler...</td>\n",
       "      <td>69313640-af52-465e-88c8-c0a0099ca5c7-699544</td>\n",
       "      <td>/nas/oss/gallery/69/31/69313640-af52-465e-88c8...</td>\n",
       "      <td>933</td>\n",
       "      <td>933</td>\n",
       "    </tr>\n",
       "  </tbody>\n",
       "</table>\n",
       "</div>"
      ],
      "text/plain": [
       "   label_pred       bx1       bx2       bx3       bx4      conf  id_crop  \\\n",
       "0           0  0.373611  0.942361  0.083333  0.115278  0.880866        0   \n",
       "\n",
       "                                             label_p  \\\n",
       "0  /nas/chenyi/datasets_cls/gallery_detect/galler...   \n",
       "\n",
       "                                          stem  \\\n",
       "0  69313640-af52-465e-88c8-c0a0099ca5c7-699544   \n",
       "\n",
       "                                              oss_sp  width  heigth  \n",
       "0  /nas/oss/gallery/69/31/69313640-af52-465e-88c8...    933     933  "
      ]
     },
     "execution_count": 119,
     "metadata": {},
     "output_type": "execute_result"
    }
   ],
   "source": [
    "label_cross_df.head(1)"
   ]
  },
  {
   "cell_type": "code",
   "execution_count": 112,
   "id": "1c4ccfff-2247-48bb-9636-b6edad457a7c",
   "metadata": {},
   "outputs": [
    {
     "data": {
      "text/html": [
       "<div>\n",
       "<style scoped>\n",
       "    .dataframe tbody tr th:only-of-type {\n",
       "        vertical-align: middle;\n",
       "    }\n",
       "\n",
       "    .dataframe tbody tr th {\n",
       "        vertical-align: top;\n",
       "    }\n",
       "\n",
       "    .dataframe thead th {\n",
       "        text-align: right;\n",
       "    }\n",
       "</style>\n",
       "<table border=\"1\" class=\"dataframe\">\n",
       "  <thead>\n",
       "    <tr style=\"text-align: right;\">\n",
       "      <th></th>\n",
       "      <th>oss_sp</th>\n",
       "      <th>stem</th>\n",
       "      <th>width</th>\n",
       "      <th>height</th>\n",
       "    </tr>\n",
       "  </thead>\n",
       "  <tbody>\n",
       "    <tr>\n",
       "      <th>152500</th>\n",
       "      <td>/nas/oss/gallery/00/00/000000c3-920d-43ea-8ef7...</td>\n",
       "      <td>000000c3-920d-43ea-8ef7-35090987f963-839405</td>\n",
       "      <td>1279</td>\n",
       "      <td>1706</td>\n",
       "    </tr>\n",
       "    <tr>\n",
       "      <th>152487</th>\n",
       "      <td>/nas/oss/gallery/00/00/000006d9-d433-4d50-80b1...</td>\n",
       "      <td>000006d9-d433-4d50-80b1-2c88518e9f5e-481515</td>\n",
       "      <td>690</td>\n",
       "      <td>993</td>\n",
       "    </tr>\n",
       "    <tr>\n",
       "      <th>152517</th>\n",
       "      <td>/nas/oss/gallery/00/00/0000071d-bc81-11ec-9683...</td>\n",
       "      <td>0000071d-bc81-11ec-9683-50814025d3e9</td>\n",
       "      <td>690</td>\n",
       "      <td>1034</td>\n",
       "    </tr>\n",
       "    <tr>\n",
       "      <th>152501</th>\n",
       "      <td>/nas/oss/gallery/00/00/00001746-68dd-470f-bd04...</td>\n",
       "      <td>00001746-68dd-470f-bd04-a45489eb1cae-414619</td>\n",
       "      <td>1440</td>\n",
       "      <td>1754</td>\n",
       "    </tr>\n",
       "    <tr>\n",
       "      <th>152512</th>\n",
       "      <td>/nas/oss/gallery/00/00/00002245-90c8-11ec-8ace...</td>\n",
       "      <td>00002245-90c8-11ec-8ace-5cfb3aa6f5e6</td>\n",
       "      <td>500</td>\n",
       "      <td>600</td>\n",
       "    </tr>\n",
       "  </tbody>\n",
       "</table>\n",
       "</div>"
      ],
      "text/plain": [
       "                                                   oss_sp  \\\n",
       "152500  /nas/oss/gallery/00/00/000000c3-920d-43ea-8ef7...   \n",
       "152487  /nas/oss/gallery/00/00/000006d9-d433-4d50-80b1...   \n",
       "152517  /nas/oss/gallery/00/00/0000071d-bc81-11ec-9683...   \n",
       "152501  /nas/oss/gallery/00/00/00001746-68dd-470f-bd04...   \n",
       "152512  /nas/oss/gallery/00/00/00002245-90c8-11ec-8ace...   \n",
       "\n",
       "                                               stem  width  height  \n",
       "152500  000000c3-920d-43ea-8ef7-35090987f963-839405   1279    1706  \n",
       "152487  000006d9-d433-4d50-80b1-2c88518e9f5e-481515    690     993  \n",
       "152517         0000071d-bc81-11ec-9683-50814025d3e9    690    1034  \n",
       "152501  00001746-68dd-470f-bd04-a45489eb1cae-414619   1440    1754  \n",
       "152512         00002245-90c8-11ec-8ace-5cfb3aa6f5e6    500     600  "
      ]
     },
     "execution_count": 112,
     "metadata": {},
     "output_type": "execute_result"
    }
   ],
   "source": [
    "img_org_df.head()"
   ]
  },
  {
   "cell_type": "code",
   "execution_count": 114,
   "id": "37467a74-9bab-4e87-9cc2-44c037eec24c",
   "metadata": {},
   "outputs": [],
   "source": [
    "stem2oss_dict = get_list2dict(img_org_df['stem'], img_org_df['oss_sp'])"
   ]
  },
  {
   "cell_type": "code",
   "execution_count": 117,
   "id": "8070f059-5bb6-4f9f-a670-79877b263e75",
   "metadata": {},
   "outputs": [],
   "source": [
    "stem2width_dict = get_list2dict(img_org_df['stem'], img_org_df['width'])\n",
    "stem2height_dict = get_list2dict(img_org_df['stem'], img_org_df['height'])"
   ]
  },
  {
   "cell_type": "code",
   "execution_count": null,
   "id": "9e9a11aa-2311-4a71-b5c0-32d3aa62b15a",
   "metadata": {},
   "outputs": [],
   "source": []
  },
  {
   "cell_type": "code",
   "execution_count": 115,
   "id": "9dea25d3-80f8-4d97-89eb-7fe950f51672",
   "metadata": {},
   "outputs": [],
   "source": [
    "label_cross_df['oss_sp'] = label_cross_df['stem'].map(stem2oss_dict)"
   ]
  },
  {
   "cell_type": "code",
   "execution_count": 118,
   "id": "a5322e08-e55b-498a-953a-a9574ae8ab8c",
   "metadata": {},
   "outputs": [],
   "source": [
    "label_cross_df['width'] = label_cross_df['stem'].map(stem2width_dict)\n",
    "label_cross_df['heigth'] = label_cross_df['stem'].map(stem2height_dict)"
   ]
  },
  {
   "cell_type": "code",
   "execution_count": 124,
   "id": "94f21062-be9e-4238-b470-e7da281d176b",
   "metadata": {},
   "outputs": [
    {
     "name": "stdout",
     "output_type": "stream",
     "text": [
      "bag  lowerbody\tshoe  skirt  upperbody\twholebody\n"
     ]
    }
   ],
   "source": [
    "!ls /nas/chenyi/datasets_cls/gallery_detect/gallery_oss/dadetv4/gall_dadetv4_all/crops/"
   ]
  },
  {
   "cell_type": "code",
   "execution_count": 121,
   "id": "9c360667-993b-46b2-b876-afebb3a0644f",
   "metadata": {},
   "outputs": [],
   "source": [
    "model_label_map = {\n",
    "    0: 10,  # 鞋子\n",
    "    1: 8,  # 包包\n",
    "    2: 4,  # 上装\n",
    "    3: 5,  # 裤子\n",
    "    4: 6,  # 裙子\n",
    "    5: 7,  # 连体装\n",
    "}"
   ]
  },
  {
   "cell_type": "code",
   "execution_count": null,
   "id": "9d9374db-3bc5-4413-aca8-c5a6e4cdb491",
   "metadata": {},
   "outputs": [],
   "source": []
  },
  {
   "cell_type": "code",
   "execution_count": null,
   "id": "640fe386-6cec-4a96-aed0-310e3f3b8980",
   "metadata": {},
   "outputs": [],
   "source": []
  },
  {
   "cell_type": "code",
   "execution_count": null,
   "id": "dd6c5651-239f-4d2d-892d-c193c01beee7",
   "metadata": {},
   "outputs": [],
   "source": []
  }
 ],
 "metadata": {
  "kernelspec": {
   "display_name": "Python 3 (ipykernel)",
   "language": "python",
   "name": "python3"
  },
  "language_info": {
   "codemirror_mode": {
    "name": "ipython",
    "version": 3
   },
   "file_extension": ".py",
   "mimetype": "text/x-python",
   "name": "python",
   "nbconvert_exporter": "python",
   "pygments_lexer": "ipython3",
   "version": "3.8.13"
  }
 },
 "nbformat": 4,
 "nbformat_minor": 5
}
