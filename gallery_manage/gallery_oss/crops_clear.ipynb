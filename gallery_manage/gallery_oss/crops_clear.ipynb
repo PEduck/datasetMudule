{
 "cells": [
  {
   "cell_type": "code",
   "execution_count": 1,
   "id": "430bc7a0-78fc-4d50-bfcd-197bf2ac961f",
   "metadata": {},
   "outputs": [],
   "source": [
    "import glob\n",
    "import pandas as pd\n",
    "from pathlib import Path\n",
    "import re"
   ]
  },
  {
   "cell_type": "code",
   "execution_count": null,
   "id": "2af829fe-02eb-485c-a0e2-722fce1e2c35",
   "metadata": {},
   "outputs": [],
   "source": []
  },
  {
   "cell_type": "code",
   "execution_count": null,
   "id": "b557d0de-9f9c-46b1-a31f-a9891120a79c",
   "metadata": {},
   "outputs": [],
   "source": []
  },
  {
   "cell_type": "code",
   "execution_count": null,
   "id": "8fbdd754-7872-451e-a1aa-d615f5f30716",
   "metadata": {},
   "outputs": [],
   "source": []
  },
  {
   "cell_type": "markdown",
   "id": "5b5e96c4-d57f-488c-9631-632832a11b11",
   "metadata": {},
   "source": [
    "### 加载数据"
   ]
  },
  {
   "cell_type": "code",
   "execution_count": 6,
   "id": "9c333e0b-b6a7-4cbc-9d38-5bf7d371949e",
   "metadata": {},
   "outputs": [],
   "source": [
    "label_cross_df = pd.read_csv('/nas/chenyi/datasets_cls/gallery_detect/gallery_oss/dadetv4/info/dadetv4/bboxes_detv4_df.csv')"
   ]
  },
  {
   "cell_type": "code",
   "execution_count": 7,
   "id": "1aaf8deb-cd1f-4e5d-8b26-a4f1fd30225b",
   "metadata": {},
   "outputs": [
    {
     "data": {
      "text/plain": [
       "6599176"
      ]
     },
     "execution_count": 7,
     "metadata": {},
     "output_type": "execute_result"
    }
   ],
   "source": [
    "len(label_cross_df)"
   ]
  },
  {
   "cell_type": "code",
   "execution_count": null,
   "id": "16503cd8-1631-4964-b016-58aede3973e3",
   "metadata": {},
   "outputs": [],
   "source": []
  },
  {
   "cell_type": "markdown",
   "id": "9b44ee46-74f2-4e8a-b731-4c332d34bc51",
   "metadata": {},
   "source": [
    "### Datacls"
   ]
  },
  {
   "cell_type": "code",
   "execution_count": 10,
   "id": "b3dc6bb3-ee5b-4936-9a69-20f4e0d1428a",
   "metadata": {},
   "outputs": [
    {
     "data": {
      "text/html": [
       "<div>\n",
       "<style scoped>\n",
       "    .dataframe tbody tr th:only-of-type {\n",
       "        vertical-align: middle;\n",
       "    }\n",
       "\n",
       "    .dataframe tbody tr th {\n",
       "        vertical-align: top;\n",
       "    }\n",
       "\n",
       "    .dataframe thead th {\n",
       "        text-align: right;\n",
       "    }\n",
       "</style>\n",
       "<table border=\"1\" class=\"dataframe\">\n",
       "  <thead>\n",
       "    <tr style=\"text-align: right;\">\n",
       "      <th></th>\n",
       "      <th>label_pred</th>\n",
       "      <th>bx1</th>\n",
       "      <th>bx2</th>\n",
       "      <th>bx3</th>\n",
       "      <th>bx4</th>\n",
       "      <th>conf</th>\n",
       "      <th>id_crop</th>\n",
       "      <th>label_p</th>\n",
       "      <th>stem</th>\n",
       "      <th>oss_sp</th>\n",
       "      <th>width</th>\n",
       "      <th>heigth</th>\n",
       "    </tr>\n",
       "  </thead>\n",
       "  <tbody>\n",
       "    <tr>\n",
       "      <th>0</th>\n",
       "      <td>0</td>\n",
       "      <td>0.373611</td>\n",
       "      <td>0.942361</td>\n",
       "      <td>0.083333</td>\n",
       "      <td>0.115278</td>\n",
       "      <td>0.880866</td>\n",
       "      <td>0</td>\n",
       "      <td>/nas/chenyi/datasets_cls/gallery_detect/galler...</td>\n",
       "      <td>69313640-af52-465e-88c8-c0a0099ca5c7-699544</td>\n",
       "      <td>/nas/oss/gallery/69/31/69313640-af52-465e-88c8...</td>\n",
       "      <td>933</td>\n",
       "      <td>933</td>\n",
       "    </tr>\n",
       "  </tbody>\n",
       "</table>\n",
       "</div>"
      ],
      "text/plain": [
       "   label_pred       bx1       bx2       bx3       bx4      conf  id_crop  \\\n",
       "0           0  0.373611  0.942361  0.083333  0.115278  0.880866        0   \n",
       "\n",
       "                                             label_p  \\\n",
       "0  /nas/chenyi/datasets_cls/gallery_detect/galler...   \n",
       "\n",
       "                                          stem  \\\n",
       "0  69313640-af52-465e-88c8-c0a0099ca5c7-699544   \n",
       "\n",
       "                                              oss_sp  width  heigth  \n",
       "0  /nas/oss/gallery/69/31/69313640-af52-465e-88c8...    933     933  "
      ]
     },
     "execution_count": 10,
     "metadata": {},
     "output_type": "execute_result"
    }
   ],
   "source": [
    "label_cross_df.head(1)"
   ]
  },
  {
   "cell_type": "code",
   "execution_count": 12,
   "id": "983931a8-5627-45a9-b500-409f563175b1",
   "metadata": {},
   "outputs": [
    {
     "data": {
      "text/plain": [
       "6599176"
      ]
     },
     "execution_count": 12,
     "metadata": {},
     "output_type": "execute_result"
    }
   ],
   "source": [
    "len(label_cross_df)"
   ]
  },
  {
   "cell_type": "code",
   "execution_count": null,
   "id": "590df0d0-df2b-4d4d-b335-e457c5513b8d",
   "metadata": {},
   "outputs": [],
   "source": []
  },
  {
   "cell_type": "markdown",
   "id": "1b005aff-915a-47fe-aaec-c430f2e4e771",
   "metadata": {},
   "source": [
    "#### 统计信息"
   ]
  },
  {
   "cell_type": "code",
   "execution_count": 9,
   "id": "1b900153-6617-48cc-804d-aae5dc17ebb4",
   "metadata": {},
   "outputs": [
    {
     "data": {
      "text/html": [
       "<div>\n",
       "<style scoped>\n",
       "    .dataframe tbody tr th:only-of-type {\n",
       "        vertical-align: middle;\n",
       "    }\n",
       "\n",
       "    .dataframe tbody tr th {\n",
       "        vertical-align: top;\n",
       "    }\n",
       "\n",
       "    .dataframe thead th {\n",
       "        text-align: right;\n",
       "    }\n",
       "</style>\n",
       "<table border=\"1\" class=\"dataframe\">\n",
       "  <thead>\n",
       "    <tr style=\"text-align: right;\">\n",
       "      <th></th>\n",
       "      <th>label_pred</th>\n",
       "      <th>bx1</th>\n",
       "      <th>bx2</th>\n",
       "      <th>bx3</th>\n",
       "      <th>bx4</th>\n",
       "      <th>conf</th>\n",
       "      <th>id_crop</th>\n",
       "      <th>width</th>\n",
       "      <th>heigth</th>\n",
       "    </tr>\n",
       "  </thead>\n",
       "  <tbody>\n",
       "    <tr>\n",
       "      <th>count</th>\n",
       "      <td>6.599176e+06</td>\n",
       "      <td>6.599176e+06</td>\n",
       "      <td>6.599176e+06</td>\n",
       "      <td>6.599176e+06</td>\n",
       "      <td>6.599176e+06</td>\n",
       "      <td>6.599176e+06</td>\n",
       "      <td>6.599176e+06</td>\n",
       "      <td>6.599176e+06</td>\n",
       "      <td>6.599176e+06</td>\n",
       "    </tr>\n",
       "    <tr>\n",
       "      <th>mean</th>\n",
       "      <td>1.483710e+00</td>\n",
       "      <td>4.969360e-01</td>\n",
       "      <td>6.937482e-01</td>\n",
       "      <td>2.044186e-01</td>\n",
       "      <td>2.301000e-01</td>\n",
       "      <td>7.927807e-01</td>\n",
       "      <td>1.619278e+00</td>\n",
       "      <td>8.591836e+02</td>\n",
       "      <td>1.136688e+03</td>\n",
       "    </tr>\n",
       "    <tr>\n",
       "      <th>std</th>\n",
       "      <td>1.592532e+00</td>\n",
       "      <td>1.102698e-01</td>\n",
       "      <td>2.098692e-01</td>\n",
       "      <td>1.265324e-01</td>\n",
       "      <td>1.587237e-01</td>\n",
       "      <td>1.501299e-01</td>\n",
       "      <td>1.311247e+00</td>\n",
       "      <td>2.944614e+02</td>\n",
       "      <td>3.750485e+02</td>\n",
       "    </tr>\n",
       "    <tr>\n",
       "      <th>min</th>\n",
       "      <td>0.000000e+00</td>\n",
       "      <td>6.521740e-03</td>\n",
       "      <td>6.388890e-03</td>\n",
       "      <td>1.304350e-02</td>\n",
       "      <td>1.055100e-02</td>\n",
       "      <td>4.000000e-01</td>\n",
       "      <td>0.000000e+00</td>\n",
       "      <td>1.450000e+02</td>\n",
       "      <td>1.400000e+02</td>\n",
       "    </tr>\n",
       "    <tr>\n",
       "      <th>25%</th>\n",
       "      <td>0.000000e+00</td>\n",
       "      <td>4.405800e-01</td>\n",
       "      <td>5.106490e-01</td>\n",
       "      <td>1.010250e-01</td>\n",
       "      <td>9.673910e-02</td>\n",
       "      <td>6.967000e-01</td>\n",
       "      <td>0.000000e+00</td>\n",
       "      <td>6.900000e+02</td>\n",
       "      <td>9.200000e+02</td>\n",
       "    </tr>\n",
       "    <tr>\n",
       "      <th>50%</th>\n",
       "      <td>1.000000e+00</td>\n",
       "      <td>4.980470e-01</td>\n",
       "      <td>7.002840e-01</td>\n",
       "      <td>1.724640e-01</td>\n",
       "      <td>1.812980e-01</td>\n",
       "      <td>8.442370e-01</td>\n",
       "      <td>2.000000e+00</td>\n",
       "      <td>6.900000e+02</td>\n",
       "      <td>1.035000e+03</td>\n",
       "    </tr>\n",
       "    <tr>\n",
       "      <th>75%</th>\n",
       "      <td>2.000000e+00</td>\n",
       "      <td>5.536230e-01</td>\n",
       "      <td>9.043480e-01</td>\n",
       "      <td>2.826090e-01</td>\n",
       "      <td>3.395890e-01</td>\n",
       "      <td>9.143760e-01</td>\n",
       "      <td>3.000000e+00</td>\n",
       "      <td>1.080000e+03</td>\n",
       "      <td>1.439000e+03</td>\n",
       "    </tr>\n",
       "    <tr>\n",
       "      <th>max</th>\n",
       "      <td>5.000000e+00</td>\n",
       "      <td>9.927540e-01</td>\n",
       "      <td>9.947250e-01</td>\n",
       "      <td>1.000000e+00</td>\n",
       "      <td>1.000000e+00</td>\n",
       "      <td>9.866390e-01</td>\n",
       "      <td>1.300000e+01</td>\n",
       "      <td>8.256000e+03</td>\n",
       "      <td>8.192000e+03</td>\n",
       "    </tr>\n",
       "  </tbody>\n",
       "</table>\n",
       "</div>"
      ],
      "text/plain": [
       "         label_pred           bx1           bx2           bx3           bx4  \\\n",
       "count  6.599176e+06  6.599176e+06  6.599176e+06  6.599176e+06  6.599176e+06   \n",
       "mean   1.483710e+00  4.969360e-01  6.937482e-01  2.044186e-01  2.301000e-01   \n",
       "std    1.592532e+00  1.102698e-01  2.098692e-01  1.265324e-01  1.587237e-01   \n",
       "min    0.000000e+00  6.521740e-03  6.388890e-03  1.304350e-02  1.055100e-02   \n",
       "25%    0.000000e+00  4.405800e-01  5.106490e-01  1.010250e-01  9.673910e-02   \n",
       "50%    1.000000e+00  4.980470e-01  7.002840e-01  1.724640e-01  1.812980e-01   \n",
       "75%    2.000000e+00  5.536230e-01  9.043480e-01  2.826090e-01  3.395890e-01   \n",
       "max    5.000000e+00  9.927540e-01  9.947250e-01  1.000000e+00  1.000000e+00   \n",
       "\n",
       "               conf       id_crop         width        heigth  \n",
       "count  6.599176e+06  6.599176e+06  6.599176e+06  6.599176e+06  \n",
       "mean   7.927807e-01  1.619278e+00  8.591836e+02  1.136688e+03  \n",
       "std    1.501299e-01  1.311247e+00  2.944614e+02  3.750485e+02  \n",
       "min    4.000000e-01  0.000000e+00  1.450000e+02  1.400000e+02  \n",
       "25%    6.967000e-01  0.000000e+00  6.900000e+02  9.200000e+02  \n",
       "50%    8.442370e-01  2.000000e+00  6.900000e+02  1.035000e+03  \n",
       "75%    9.143760e-01  3.000000e+00  1.080000e+03  1.439000e+03  \n",
       "max    9.866390e-01  1.300000e+01  8.256000e+03  8.192000e+03  "
      ]
     },
     "execution_count": 9,
     "metadata": {},
     "output_type": "execute_result"
    }
   ],
   "source": [
    "label_cross_df.describe()"
   ]
  },
  {
   "cell_type": "code",
   "execution_count": 11,
   "id": "e79ceb5f-e0ac-4aca-a383-99f2be38ca48",
   "metadata": {},
   "outputs": [
    {
     "data": {
      "text/plain": [
       "label_pred\n",
       "0    2786713\n",
       "2    1388800\n",
       "3     812387\n",
       "1     786189\n",
       "5     489965\n",
       "4     335122\n",
       "dtype: int64"
      ]
     },
     "execution_count": 11,
     "metadata": {},
     "output_type": "execute_result"
    }
   ],
   "source": [
    "label_cross_df.value_counts('label_pred')"
   ]
  },
  {
   "cell_type": "code",
   "execution_count": null,
   "id": "d0f88a55-7c61-499b-8293-f72b981abb07",
   "metadata": {},
   "outputs": [],
   "source": []
  },
  {
   "cell_type": "code",
   "execution_count": null,
   "id": "0140f9ea-baff-468c-85ef-b105b363a054",
   "metadata": {},
   "outputs": [],
   "source": []
  },
  {
   "cell_type": "markdown",
   "id": "e9743e2b-c51a-473e-9a01-a63a6a702d45",
   "metadata": {},
   "source": [
    "#### 去除图片太小的"
   ]
  },
  {
   "cell_type": "code",
   "execution_count": 16,
   "id": "ad7922ad-d870-48b6-8253-bbb8b2aee502",
   "metadata": {},
   "outputs": [],
   "source": [
    "clred_df = label_cross_df"
   ]
  },
  {
   "cell_type": "code",
   "execution_count": 15,
   "id": "121599e5-5949-4e3d-a5ea-8013e0b54db0",
   "metadata": {},
   "outputs": [
    {
     "data": {
      "text/plain": [
       "8258"
      ]
     },
     "execution_count": 15,
     "metadata": {},
     "output_type": "execute_result"
    }
   ],
   "source": [
    "len(label_cross_df[(label_cross_df['width']<300) | (label_cross_df['heigth']<300)])"
   ]
  },
  {
   "cell_type": "code",
   "execution_count": 18,
   "id": "b91c6a31-ddf5-4a96-8f6f-2df02689a311",
   "metadata": {},
   "outputs": [],
   "source": [
    "clred_df = clred_df[(clred_df['width']>300) | (clred_df['heigth']>300)]"
   ]
  },
  {
   "cell_type": "code",
   "execution_count": 23,
   "id": "b4bf3471-f1b7-4e31-9eb0-ff2760e93fd0",
   "metadata": {},
   "outputs": [
    {
     "data": {
      "text/plain": [
       "46714"
      ]
     },
     "execution_count": 23,
     "metadata": {},
     "output_type": "execute_result"
    }
   ],
   "source": [
    "thres = 500\n",
    "len( clred_df[(clred_df['width']<thres) & (clred_df['heigth']<thres)])"
   ]
  },
  {
   "cell_type": "code",
   "execution_count": 24,
   "id": "7fb78ee3-26ed-42b2-b8cf-5b9c8f2dcfaa",
   "metadata": {},
   "outputs": [],
   "source": [
    "thres = 500\n",
    "clred_df =  clred_df[(clred_df['width']>thres) & (clred_df['heigth']>thres)]"
   ]
  },
  {
   "cell_type": "code",
   "execution_count": 25,
   "id": "837359c0-4f56-4e5c-8736-97b93281dfc9",
   "metadata": {},
   "outputs": [
    {
     "data": {
      "text/plain": [
       "6302384"
      ]
     },
     "execution_count": 25,
     "metadata": {},
     "output_type": "execute_result"
    }
   ],
   "source": [
    "len(clred_df)"
   ]
  },
  {
   "cell_type": "code",
   "execution_count": null,
   "id": "43c47759-8991-45a3-8dd3-93aec3576908",
   "metadata": {},
   "outputs": [],
   "source": []
  },
  {
   "cell_type": "markdown",
   "id": "936e1939-ae4b-4715-a7ef-9c1720169afe",
   "metadata": {},
   "source": [
    "#### 去除置信度太小的"
   ]
  },
  {
   "cell_type": "code",
   "execution_count": null,
   "id": "09476b36-cf07-4840-9c30-3f41dd373bba",
   "metadata": {},
   "outputs": [],
   "source": []
  }
 ],
 "metadata": {
  "kernelspec": {
   "display_name": "Python 3 (ipykernel)",
   "language": "python",
   "name": "python3"
  },
  "language_info": {
   "codemirror_mode": {
    "name": "ipython",
    "version": 3
   },
   "file_extension": ".py",
   "mimetype": "text/x-python",
   "name": "python",
   "nbconvert_exporter": "python",
   "pygments_lexer": "ipython3",
   "version": "3.8.13"
  }
 },
 "nbformat": 4,
 "nbformat_minor": 5
}
