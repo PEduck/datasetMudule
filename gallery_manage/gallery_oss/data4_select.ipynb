{
 "cells": [
  {
   "cell_type": "code",
   "execution_count": 1,
   "id": "2acb92fe-5fcb-4acb-b6bd-3837509a127e",
   "metadata": {},
   "outputs": [],
   "source": [
    "import glob\n",
    "import pandas as pd\n",
    "from pathlib import Path\n",
    "import re"
   ]
  },
  {
   "cell_type": "code",
   "execution_count": 2,
   "id": "fd4aa7cf-3c72-4623-8a96-c8fa068cef81",
   "metadata": {},
   "outputs": [],
   "source": [
    "from PIL import Image"
   ]
  },
  {
   "cell_type": "code",
   "execution_count": null,
   "id": "ce8312bd-1b97-4265-a793-d899ba107789",
   "metadata": {},
   "outputs": [],
   "source": []
  },
  {
   "cell_type": "code",
   "execution_count": null,
   "id": "26d55c44-818f-4edb-aae2-3fd1b60728b5",
   "metadata": {},
   "outputs": [],
   "source": []
  },
  {
   "cell_type": "code",
   "execution_count": 22,
   "id": "978314cd-890d-4270-afa1-70918c0ba686",
   "metadata": {},
   "outputs": [
    {
     "name": "stdout",
     "output_type": "stream",
     "text": [
      "/nas/chenyi/share/weights/detector_query/deploy/detector_query_dav4_1.pt\n"
     ]
    }
   ],
   "source": [
    "!ls /nas/chenyi/share/weights/detector_query/deploy/detector_query_dav4_1.pt"
   ]
  },
  {
   "cell_type": "code",
   "execution_count": 3,
   "id": "a9b4c077-9b78-4b0b-b9d9-9e8db7d3997a",
   "metadata": {},
   "outputs": [],
   "source": [
    "root = Path('/nas/chenyi/datasets_cls/gallery_detect/')\n",
    "det_root = Path('/nas/chenyi/datasets_cls/gallery_detect/gallery_oss/dadetv4/')"
   ]
  },
  {
   "cell_type": "code",
   "execution_count": 4,
   "id": "2cfb09ff-e0f4-403d-a3c0-c30435c9738a",
   "metadata": {},
   "outputs": [
    {
     "name": "stdout",
     "output_type": "stream",
     "text": [
      "clred_final.csv       crops_imgs1m_list.json  dirty_data\n",
      "clred_labels_oss.csv  crops_rev_list.json     @eaDir\n",
      "clred_temp.csv\t      dadetv4\t\t      imgs_rev_list.json\n",
      "clred_temp_final.csv  data_cls.ipynb\t      rewrite_labels_plist.json\n"
     ]
    }
   ],
   "source": [
    "show_root = root /'gallery_oss/dadetv4/info/'\n",
    "!ls $show_root"
   ]
  },
  {
   "cell_type": "code",
   "execution_count": 6,
   "id": "450589d3-4930-4591-bca6-0c65886c4165",
   "metadata": {},
   "outputs": [
    {
     "name": "stdout",
     "output_type": "stream",
     "text": [
      "bboxes_all_df.csv    bboxes_detv4_temp_df.csv  imgs_det_df.csv\tlabels_df.csv\n",
      "bboxes_detv4_df.csv  crops_all_df.csv\t       imgs_org_df.csv\n"
     ]
    }
   ],
   "source": [
    "show_root = root /'gallery_oss/dadetv4/info/dadetv4/'\n",
    "!ls $show_root"
   ]
  },
  {
   "cell_type": "code",
   "execution_count": 5,
   "id": "60097209-95f5-4c43-b77c-9481f5706b43",
   "metadata": {},
   "outputs": [],
   "source": [
    "clred_df = pd.read_csv('/nas/chenyi/datasets_cls/gallery_detect/gallery_oss/dadetv4/info/clred_labels_oss.csv')"
   ]
  },
  {
   "cell_type": "code",
   "execution_count": 41,
   "id": "390defb1-0ff6-439c-901b-c0312b4b7b01",
   "metadata": {},
   "outputs": [],
   "source": [
    "# bboxes_df = pd.read_csv('/nas/chenyi/datasets_cls/gallery_detect/gallery_oss/dadetv4/info/dadetv4/bboxes_all_df.csv')"
   ]
  },
  {
   "cell_type": "code",
   "execution_count": 42,
   "id": "dcc51e87-0c61-4e3c-a392-9ff5c8802680",
   "metadata": {},
   "outputs": [],
   "source": [
    "bboxes_df = pd.read_csv('/nas/chenyi/datasets_cls/gallery_detect/gallery_oss/dadetv4/info/dadetv4/bboxes_detv4_df.csv')"
   ]
  },
  {
   "cell_type": "code",
   "execution_count": 43,
   "id": "f49bb6f9-89bf-4784-bea6-0496b6c9f84d",
   "metadata": {},
   "outputs": [
    {
     "data": {
      "text/plain": [
       "6599176"
      ]
     },
     "execution_count": 43,
     "metadata": {},
     "output_type": "execute_result"
    }
   ],
   "source": [
    "len(bboxes_df)"
   ]
  },
  {
   "cell_type": "code",
   "execution_count": 44,
   "id": "368fca47-d6ac-49de-a937-102a1bea8479",
   "metadata": {},
   "outputs": [
    {
     "data": {
      "text/html": [
       "<div>\n",
       "<style scoped>\n",
       "    .dataframe tbody tr th:only-of-type {\n",
       "        vertical-align: middle;\n",
       "    }\n",
       "\n",
       "    .dataframe tbody tr th {\n",
       "        vertical-align: top;\n",
       "    }\n",
       "\n",
       "    .dataframe thead th {\n",
       "        text-align: right;\n",
       "    }\n",
       "</style>\n",
       "<table border=\"1\" class=\"dataframe\">\n",
       "  <thead>\n",
       "    <tr style=\"text-align: right;\">\n",
       "      <th></th>\n",
       "      <th>label_pred</th>\n",
       "      <th>bx1</th>\n",
       "      <th>bx2</th>\n",
       "      <th>bx3</th>\n",
       "      <th>bx4</th>\n",
       "      <th>conf</th>\n",
       "      <th>id_crop</th>\n",
       "      <th>label_p</th>\n",
       "      <th>stem</th>\n",
       "      <th>oss_sp</th>\n",
       "      <th>width</th>\n",
       "      <th>heigth</th>\n",
       "    </tr>\n",
       "  </thead>\n",
       "  <tbody>\n",
       "    <tr>\n",
       "      <th>0</th>\n",
       "      <td>0</td>\n",
       "      <td>0.373611</td>\n",
       "      <td>0.942361</td>\n",
       "      <td>0.083333</td>\n",
       "      <td>0.115278</td>\n",
       "      <td>0.880866</td>\n",
       "      <td>0</td>\n",
       "      <td>/nas/chenyi/datasets_cls/gallery_detect/galler...</td>\n",
       "      <td>69313640-af52-465e-88c8-c0a0099ca5c7-699544</td>\n",
       "      <td>/nas/oss/gallery/69/31/69313640-af52-465e-88c8...</td>\n",
       "      <td>933</td>\n",
       "      <td>933</td>\n",
       "    </tr>\n",
       "  </tbody>\n",
       "</table>\n",
       "</div>"
      ],
      "text/plain": [
       "   label_pred       bx1       bx2       bx3       bx4      conf  id_crop  \\\n",
       "0           0  0.373611  0.942361  0.083333  0.115278  0.880866        0   \n",
       "\n",
       "                                             label_p  \\\n",
       "0  /nas/chenyi/datasets_cls/gallery_detect/galler...   \n",
       "\n",
       "                                          stem  \\\n",
       "0  69313640-af52-465e-88c8-c0a0099ca5c7-699544   \n",
       "\n",
       "                                              oss_sp  width  heigth  \n",
       "0  /nas/oss/gallery/69/31/69313640-af52-465e-88c8...    933     933  "
      ]
     },
     "execution_count": 44,
     "metadata": {},
     "output_type": "execute_result"
    }
   ],
   "source": [
    "bboxes_df.head(1)"
   ]
  },
  {
   "cell_type": "code",
   "execution_count": null,
   "id": "5302e82d-eaa1-4796-bb56-e28f9474aa21",
   "metadata": {},
   "outputs": [],
   "source": []
  },
  {
   "cell_type": "code",
   "execution_count": null,
   "id": "02515743-8f96-4dd6-836c-c08d11aaf15b",
   "metadata": {},
   "outputs": [],
   "source": []
  },
  {
   "cell_type": "markdown",
   "id": "ce406bd0-f1a8-4a95-ad48-b9a557c2fbde",
   "metadata": {},
   "source": [
    "### Dataselect"
   ]
  },
  {
   "cell_type": "code",
   "execution_count": 45,
   "id": "9fe738f8-2175-49b0-a3aa-5cb2d89fb77b",
   "metadata": {},
   "outputs": [
    {
     "data": {
      "text/html": [
       "<div>\n",
       "<style scoped>\n",
       "    .dataframe tbody tr th:only-of-type {\n",
       "        vertical-align: middle;\n",
       "    }\n",
       "\n",
       "    .dataframe tbody tr th {\n",
       "        vertical-align: top;\n",
       "    }\n",
       "\n",
       "    .dataframe thead th {\n",
       "        text-align: right;\n",
       "    }\n",
       "</style>\n",
       "<table border=\"1\" class=\"dataframe\">\n",
       "  <thead>\n",
       "    <tr style=\"text-align: right;\">\n",
       "      <th></th>\n",
       "      <th>label_pred</th>\n",
       "      <th>bx1</th>\n",
       "      <th>bx2</th>\n",
       "      <th>bx3</th>\n",
       "      <th>bx4</th>\n",
       "      <th>conf</th>\n",
       "      <th>id_crop</th>\n",
       "      <th>label_p</th>\n",
       "      <th>stem</th>\n",
       "      <th>oss_sp</th>\n",
       "      <th>width</th>\n",
       "      <th>heigth</th>\n",
       "    </tr>\n",
       "  </thead>\n",
       "  <tbody>\n",
       "    <tr>\n",
       "      <th>0</th>\n",
       "      <td>0</td>\n",
       "      <td>0.373611</td>\n",
       "      <td>0.942361</td>\n",
       "      <td>0.083333</td>\n",
       "      <td>0.115278</td>\n",
       "      <td>0.880866</td>\n",
       "      <td>0</td>\n",
       "      <td>/nas/chenyi/datasets_cls/gallery_detect/galler...</td>\n",
       "      <td>69313640-af52-465e-88c8-c0a0099ca5c7-699544</td>\n",
       "      <td>/nas/oss/gallery/69/31/69313640-af52-465e-88c8...</td>\n",
       "      <td>933</td>\n",
       "      <td>933</td>\n",
       "    </tr>\n",
       "  </tbody>\n",
       "</table>\n",
       "</div>"
      ],
      "text/plain": [
       "   label_pred       bx1       bx2       bx3       bx4      conf  id_crop  \\\n",
       "0           0  0.373611  0.942361  0.083333  0.115278  0.880866        0   \n",
       "\n",
       "                                             label_p  \\\n",
       "0  /nas/chenyi/datasets_cls/gallery_detect/galler...   \n",
       "\n",
       "                                          stem  \\\n",
       "0  69313640-af52-465e-88c8-c0a0099ca5c7-699544   \n",
       "\n",
       "                                              oss_sp  width  heigth  \n",
       "0  /nas/oss/gallery/69/31/69313640-af52-465e-88c8...    933     933  "
      ]
     },
     "execution_count": 45,
     "metadata": {},
     "output_type": "execute_result"
    }
   ],
   "source": [
    "bboxes_df.head(1)"
   ]
  },
  {
   "cell_type": "code",
   "execution_count": 46,
   "id": "e1250aab-37ee-4b7f-8ce6-248ac2111df1",
   "metadata": {},
   "outputs": [],
   "source": [
    "bboxes_df['fid'] = bboxes_df.apply(lambda x: '{0}_{1}'.format(Path(x['label_p']).stem, x['id_crop']), axis=1)"
   ]
  },
  {
   "cell_type": "code",
   "execution_count": 47,
   "id": "3a66d05b-a397-4063-929c-43041c16839f",
   "metadata": {},
   "outputs": [
    {
     "data": {
      "text/html": [
       "<div>\n",
       "<style scoped>\n",
       "    .dataframe tbody tr th:only-of-type {\n",
       "        vertical-align: middle;\n",
       "    }\n",
       "\n",
       "    .dataframe tbody tr th {\n",
       "        vertical-align: top;\n",
       "    }\n",
       "\n",
       "    .dataframe thead th {\n",
       "        text-align: right;\n",
       "    }\n",
       "</style>\n",
       "<table border=\"1\" class=\"dataframe\">\n",
       "  <thead>\n",
       "    <tr style=\"text-align: right;\">\n",
       "      <th></th>\n",
       "      <th>label_pred</th>\n",
       "      <th>bx1</th>\n",
       "      <th>bx2</th>\n",
       "      <th>bx3</th>\n",
       "      <th>bx4</th>\n",
       "      <th>conf</th>\n",
       "      <th>id_crop</th>\n",
       "      <th>label_p</th>\n",
       "      <th>stem</th>\n",
       "      <th>oss_sp</th>\n",
       "      <th>width</th>\n",
       "      <th>heigth</th>\n",
       "      <th>label_eng</th>\n",
       "      <th>crops_sp</th>\n",
       "      <th>crops_tp</th>\n",
       "      <th>fid</th>\n",
       "    </tr>\n",
       "  </thead>\n",
       "  <tbody>\n",
       "    <tr>\n",
       "      <th>0</th>\n",
       "      <td>0</td>\n",
       "      <td>0.373611</td>\n",
       "      <td>0.942361</td>\n",
       "      <td>0.083333</td>\n",
       "      <td>0.115278</td>\n",
       "      <td>0.880866</td>\n",
       "      <td>0</td>\n",
       "      <td>/nas/chenyi/datasets_cls/gallery_detect/galler...</td>\n",
       "      <td>69313640-af52-465e-88c8-c0a0099ca5c7-699544</td>\n",
       "      <td>/nas/oss/gallery/69/31/69313640-af52-465e-88c8...</td>\n",
       "      <td>933</td>\n",
       "      <td>933</td>\n",
       "      <td>shoe</td>\n",
       "      <td>/nas/chenyi/datasets_cls/gallery_detect/galler...</td>\n",
       "      <td>/nas/chenyi/datasets_cls/gallery_detect/galler...</td>\n",
       "      <td>69313640-af52-465e-88c8-c0a0099ca5c7-699544_0</td>\n",
       "    </tr>\n",
       "  </tbody>\n",
       "</table>\n",
       "</div>"
      ],
      "text/plain": [
       "   label_pred       bx1       bx2       bx3       bx4      conf  id_crop  \\\n",
       "0           0  0.373611  0.942361  0.083333  0.115278  0.880866        0   \n",
       "\n",
       "                                             label_p  \\\n",
       "0  /nas/chenyi/datasets_cls/gallery_detect/galler...   \n",
       "\n",
       "                                          stem  \\\n",
       "0  69313640-af52-465e-88c8-c0a0099ca5c7-699544   \n",
       "\n",
       "                                              oss_sp  width  heigth label_eng  \\\n",
       "0  /nas/oss/gallery/69/31/69313640-af52-465e-88c8...    933     933      shoe   \n",
       "\n",
       "                                            crops_sp  \\\n",
       "0  /nas/chenyi/datasets_cls/gallery_detect/galler...   \n",
       "\n",
       "                                            crops_tp  \\\n",
       "0  /nas/chenyi/datasets_cls/gallery_detect/galler...   \n",
       "\n",
       "                                             fid  \n",
       "0  69313640-af52-465e-88c8-c0a0099ca5c7-699544_0  "
      ]
     },
     "execution_count": 47,
     "metadata": {},
     "output_type": "execute_result"
    }
   ],
   "source": [
    "clred_df.head(1)"
   ]
  },
  {
   "cell_type": "code",
   "execution_count": 48,
   "id": "d97921c3-183b-4c3e-8ec3-da91f61a2f75",
   "metadata": {},
   "outputs": [],
   "source": [
    "clred_df['fid'] = clred_df.apply(lambda x: '{0}_{1}'.format(x['stem'], x['id_crop']), axis=1)"
   ]
  },
  {
   "cell_type": "code",
   "execution_count": null,
   "id": "a2bab314-9c5b-43a3-94bd-7a0ee8b3fe4a",
   "metadata": {},
   "outputs": [],
   "source": []
  },
  {
   "cell_type": "code",
   "execution_count": 49,
   "id": "86a57401-fc8c-4623-b28e-514bca781fcb",
   "metadata": {},
   "outputs": [],
   "source": [
    "dirty_df = bboxes_df[~bboxes_df['fid'].isin(clred_df['fid'])]"
   ]
  },
  {
   "cell_type": "code",
   "execution_count": 50,
   "id": "ff9c6714-fb9e-401b-a4fc-d3747e6bc207",
   "metadata": {},
   "outputs": [
    {
     "data": {
      "text/plain": [
       "(4276565, 6599176, 2322611)"
      ]
     },
     "execution_count": 50,
     "metadata": {},
     "output_type": "execute_result"
    }
   ],
   "source": [
    "len(clred_df), len(bboxes_df), len(dirty_df)"
   ]
  },
  {
   "cell_type": "code",
   "execution_count": 52,
   "id": "7d761734-e612-4cc5-bb86-48f5c1b7d89f",
   "metadata": {},
   "outputs": [],
   "source": []
  },
  {
   "cell_type": "code",
   "execution_count": 53,
   "id": "37ff80c0-994d-4915-bd0d-bbc123e6e8a1",
   "metadata": {},
   "outputs": [
    {
     "data": {
      "text/plain": [
       "label_pred\n",
       "0    1116545\n",
       "2     379363\n",
       "1     299133\n",
       "3     223523\n",
       "5     220452\n",
       "4      83595\n",
       "dtype: int64"
      ]
     },
     "execution_count": 53,
     "metadata": {},
     "output_type": "execute_result"
    }
   ],
   "source": [
    "dirty_df.value_counts('label_pred')"
   ]
  },
  {
   "cell_type": "code",
   "execution_count": null,
   "id": "330e8aa8-b44d-40c5-b8c1-f6cd1e52160c",
   "metadata": {},
   "outputs": [],
   "source": []
  },
  {
   "cell_type": "code",
   "execution_count": 56,
   "id": "6f1fae16-5a0e-40ca-a7bb-cd80d9326043",
   "metadata": {},
   "outputs": [
    {
     "data": {
      "text/html": [
       "<div>\n",
       "<style scoped>\n",
       "    .dataframe tbody tr th:only-of-type {\n",
       "        vertical-align: middle;\n",
       "    }\n",
       "\n",
       "    .dataframe tbody tr th {\n",
       "        vertical-align: top;\n",
       "    }\n",
       "\n",
       "    .dataframe thead th {\n",
       "        text-align: right;\n",
       "    }\n",
       "</style>\n",
       "<table border=\"1\" class=\"dataframe\">\n",
       "  <thead>\n",
       "    <tr style=\"text-align: right;\">\n",
       "      <th></th>\n",
       "      <th>label_pred</th>\n",
       "      <th>bx1</th>\n",
       "      <th>bx2</th>\n",
       "      <th>bx3</th>\n",
       "      <th>bx4</th>\n",
       "      <th>conf</th>\n",
       "      <th>id_crop</th>\n",
       "      <th>label_p</th>\n",
       "      <th>stem</th>\n",
       "      <th>oss_sp</th>\n",
       "      <th>width</th>\n",
       "      <th>heigth</th>\n",
       "      <th>fid</th>\n",
       "    </tr>\n",
       "  </thead>\n",
       "  <tbody>\n",
       "    <tr>\n",
       "      <th>8</th>\n",
       "      <td>1</td>\n",
       "      <td>0.80761</td>\n",
       "      <td>0.589496</td>\n",
       "      <td>0.230439</td>\n",
       "      <td>0.233655</td>\n",
       "      <td>0.479052</td>\n",
       "      <td>0</td>\n",
       "      <td>/nas/chenyi/datasets_cls/gallery_detect/galler...</td>\n",
       "      <td>6931afe9-4e7a-4c49-8a87-72630dfbf5d2-345767</td>\n",
       "      <td>/nas/oss/gallery/69/31/6931afe9-4e7a-4c49-8a87...</td>\n",
       "      <td>450</td>\n",
       "      <td>450</td>\n",
       "      <td>6931afe9-4e7a-4c49-8a87-72630dfbf5d2-345767_0</td>\n",
       "    </tr>\n",
       "    <tr>\n",
       "      <th>9</th>\n",
       "      <td>0</td>\n",
       "      <td>0.28671</td>\n",
       "      <td>0.987674</td>\n",
       "      <td>0.058950</td>\n",
       "      <td>0.024652</td>\n",
       "      <td>0.649600</td>\n",
       "      <td>1</td>\n",
       "      <td>/nas/chenyi/datasets_cls/gallery_detect/galler...</td>\n",
       "      <td>6931afe9-4e7a-4c49-8a87-72630dfbf5d2-345767</td>\n",
       "      <td>/nas/oss/gallery/69/31/6931afe9-4e7a-4c49-8a87...</td>\n",
       "      <td>450</td>\n",
       "      <td>450</td>\n",
       "      <td>6931afe9-4e7a-4c49-8a87-72630dfbf5d2-345767_1</td>\n",
       "    </tr>\n",
       "  </tbody>\n",
       "</table>\n",
       "</div>"
      ],
      "text/plain": [
       "   label_pred      bx1       bx2       bx3       bx4      conf  id_crop  \\\n",
       "8           1  0.80761  0.589496  0.230439  0.233655  0.479052        0   \n",
       "9           0  0.28671  0.987674  0.058950  0.024652  0.649600        1   \n",
       "\n",
       "                                             label_p  \\\n",
       "8  /nas/chenyi/datasets_cls/gallery_detect/galler...   \n",
       "9  /nas/chenyi/datasets_cls/gallery_detect/galler...   \n",
       "\n",
       "                                          stem  \\\n",
       "8  6931afe9-4e7a-4c49-8a87-72630dfbf5d2-345767   \n",
       "9  6931afe9-4e7a-4c49-8a87-72630dfbf5d2-345767   \n",
       "\n",
       "                                              oss_sp  width  heigth  \\\n",
       "8  /nas/oss/gallery/69/31/6931afe9-4e7a-4c49-8a87...    450     450   \n",
       "9  /nas/oss/gallery/69/31/6931afe9-4e7a-4c49-8a87...    450     450   \n",
       "\n",
       "                                             fid  \n",
       "8  6931afe9-4e7a-4c49-8a87-72630dfbf5d2-345767_0  \n",
       "9  6931afe9-4e7a-4c49-8a87-72630dfbf5d2-345767_1  "
      ]
     },
     "execution_count": 56,
     "metadata": {},
     "output_type": "execute_result"
    }
   ],
   "source": []
  },
  {
   "cell_type": "code",
   "execution_count": null,
   "id": "21b95f87-120f-4f15-9753-d133a8f8fd80",
   "metadata": {},
   "outputs": [],
   "source": []
  },
  {
   "cell_type": "code",
   "execution_count": null,
   "id": "043bb961-3ec4-424d-a118-2e0c7bc1e049",
   "metadata": {},
   "outputs": [],
   "source": []
  },
  {
   "cell_type": "markdown",
   "id": "1785238e-96a5-433c-9286-27b930084e91",
   "metadata": {},
   "source": [
    "#### 脏数据图片"
   ]
  },
  {
   "cell_type": "code",
   "execution_count": 54,
   "id": "3760ad8f-e464-46cf-be48-39f1512d2236",
   "metadata": {},
   "outputs": [
    {
     "data": {
      "text/plain": [
       "801151"
      ]
     },
     "execution_count": 54,
     "metadata": {},
     "output_type": "execute_result"
    }
   ],
   "source": [
    "len(dirty_df.drop_duplicates('stem'))"
   ]
  },
  {
   "cell_type": "code",
   "execution_count": null,
   "id": "311f4856-8938-4dc4-b544-c6880590f12f",
   "metadata": {},
   "outputs": [],
   "source": [
    "# dirty_df['crops_tp'] = "
   ]
  },
  {
   "cell_type": "code",
   "execution_count": null,
   "id": "97c373b9-3b60-436f-a232-76f450ca531f",
   "metadata": {},
   "outputs": [],
   "source": []
  },
  {
   "cell_type": "code",
   "execution_count": null,
   "id": "218ffa91-98d6-4eeb-921c-56d37abce66f",
   "metadata": {},
   "outputs": [],
   "source": []
  },
  {
   "cell_type": "markdown",
   "id": "a516ad05-1e36-4ab0-9e10-599979a6ae2a",
   "metadata": {},
   "source": [
    "#### 处理小图"
   ]
  },
  {
   "cell_type": "code",
   "execution_count": 19,
   "id": "7ddf2d35-da45-455e-912e-e47a00aa30a4",
   "metadata": {},
   "outputs": [
    {
     "name": "stdout",
     "output_type": "stream",
     "text": [
      "dirty_crops_df.csv  select_candidate_df.csv\n"
     ]
    }
   ],
   "source": [
    "!ls /nas/chenyi/datasets_cls/gallery_detect/gallery_oss/dadetv4/info/dirty_data/"
   ]
  },
  {
   "cell_type": "code",
   "execution_count": null,
   "id": "eb4e0f0b-d451-46e5-81c5-780166301acf",
   "metadata": {},
   "outputs": [],
   "source": []
  },
  {
   "cell_type": "code",
   "execution_count": 3,
   "id": "6a4ab4c6-6418-40be-bccf-579f3d7b17ab",
   "metadata": {},
   "outputs": [],
   "source": [
    "dirty_df = pd.read_csv('/nas/chenyi/datasets_cls/gallery_detect/gallery_oss/dadetv4/info/dirty_data/dirty_crops_df.csv')\n",
    "# dirty_df.to_csv('/nas/chenyi/datasets_cls/gallery_detect/gallery_oss/dadetv4/info/dirty_crops_df.csv', index=False)"
   ]
  },
  {
   "cell_type": "code",
   "execution_count": 4,
   "id": "9907e917-2c9d-4e3e-b2b0-afc6caf4688a",
   "metadata": {},
   "outputs": [],
   "source": [
    "def get_list2dict(k_list, v_list):\n",
    "    d = {}\n",
    "    for item in zip(k_list, v_list):\n",
    "        d[item[0]] = item[1]\n",
    "    return d"
   ]
  },
  {
   "cell_type": "code",
   "execution_count": 5,
   "id": "bd3909c3-b476-464d-8e1e-ef6b074f55ad",
   "metadata": {},
   "outputs": [],
   "source": [
    "model_label_map = {\n",
    "    0: 'shoe',\n",
    "    1: 'bag',\n",
    "    2: 'upperbody',\n",
    "    3: 'lowerbody',  # 裤子\n",
    "    4: 'skirt',  # 裙子\n",
    "    5: 'wholebody',  # 连体装\n",
    "}"
   ]
  },
  {
   "cell_type": "code",
   "execution_count": null,
   "id": "646c7e68-967a-4e1c-8983-0b1d9e971fd9",
   "metadata": {},
   "outputs": [],
   "source": []
  },
  {
   "cell_type": "code",
   "execution_count": 6,
   "id": "05ec0859-6405-481c-b2fb-15b4d02f7afc",
   "metadata": {},
   "outputs": [
    {
     "data": {
      "text/html": [
       "<div>\n",
       "<style scoped>\n",
       "    .dataframe tbody tr th:only-of-type {\n",
       "        vertical-align: middle;\n",
       "    }\n",
       "\n",
       "    .dataframe tbody tr th {\n",
       "        vertical-align: top;\n",
       "    }\n",
       "\n",
       "    .dataframe thead th {\n",
       "        text-align: right;\n",
       "    }\n",
       "</style>\n",
       "<table border=\"1\" class=\"dataframe\">\n",
       "  <thead>\n",
       "    <tr style=\"text-align: right;\">\n",
       "      <th></th>\n",
       "      <th>label_pred</th>\n",
       "      <th>bx1</th>\n",
       "      <th>bx2</th>\n",
       "      <th>bx3</th>\n",
       "      <th>bx4</th>\n",
       "      <th>conf</th>\n",
       "      <th>id_crop</th>\n",
       "      <th>label_p</th>\n",
       "      <th>stem</th>\n",
       "      <th>oss_sp</th>\n",
       "      <th>width</th>\n",
       "      <th>heigth</th>\n",
       "      <th>fid</th>\n",
       "    </tr>\n",
       "  </thead>\n",
       "  <tbody>\n",
       "    <tr>\n",
       "      <th>0</th>\n",
       "      <td>1</td>\n",
       "      <td>0.80761</td>\n",
       "      <td>0.589496</td>\n",
       "      <td>0.230439</td>\n",
       "      <td>0.233655</td>\n",
       "      <td>0.479052</td>\n",
       "      <td>0</td>\n",
       "      <td>/nas/chenyi/datasets_cls/gallery_detect/galler...</td>\n",
       "      <td>6931afe9-4e7a-4c49-8a87-72630dfbf5d2-345767</td>\n",
       "      <td>/nas/oss/gallery/69/31/6931afe9-4e7a-4c49-8a87...</td>\n",
       "      <td>450</td>\n",
       "      <td>450</td>\n",
       "      <td>6931afe9-4e7a-4c49-8a87-72630dfbf5d2-345767_0</td>\n",
       "    </tr>\n",
       "    <tr>\n",
       "      <th>1</th>\n",
       "      <td>0</td>\n",
       "      <td>0.28671</td>\n",
       "      <td>0.987674</td>\n",
       "      <td>0.058950</td>\n",
       "      <td>0.024652</td>\n",
       "      <td>0.649600</td>\n",
       "      <td>1</td>\n",
       "      <td>/nas/chenyi/datasets_cls/gallery_detect/galler...</td>\n",
       "      <td>6931afe9-4e7a-4c49-8a87-72630dfbf5d2-345767</td>\n",
       "      <td>/nas/oss/gallery/69/31/6931afe9-4e7a-4c49-8a87...</td>\n",
       "      <td>450</td>\n",
       "      <td>450</td>\n",
       "      <td>6931afe9-4e7a-4c49-8a87-72630dfbf5d2-345767_1</td>\n",
       "    </tr>\n",
       "  </tbody>\n",
       "</table>\n",
       "</div>"
      ],
      "text/plain": [
       "   label_pred      bx1       bx2       bx3       bx4      conf  id_crop  \\\n",
       "0           1  0.80761  0.589496  0.230439  0.233655  0.479052        0   \n",
       "1           0  0.28671  0.987674  0.058950  0.024652  0.649600        1   \n",
       "\n",
       "                                             label_p  \\\n",
       "0  /nas/chenyi/datasets_cls/gallery_detect/galler...   \n",
       "1  /nas/chenyi/datasets_cls/gallery_detect/galler...   \n",
       "\n",
       "                                          stem  \\\n",
       "0  6931afe9-4e7a-4c49-8a87-72630dfbf5d2-345767   \n",
       "1  6931afe9-4e7a-4c49-8a87-72630dfbf5d2-345767   \n",
       "\n",
       "                                              oss_sp  width  heigth  \\\n",
       "0  /nas/oss/gallery/69/31/6931afe9-4e7a-4c49-8a87...    450     450   \n",
       "1  /nas/oss/gallery/69/31/6931afe9-4e7a-4c49-8a87...    450     450   \n",
       "\n",
       "                                             fid  \n",
       "0  6931afe9-4e7a-4c49-8a87-72630dfbf5d2-345767_0  \n",
       "1  6931afe9-4e7a-4c49-8a87-72630dfbf5d2-345767_1  "
      ]
     },
     "execution_count": 6,
     "metadata": {},
     "output_type": "execute_result"
    }
   ],
   "source": [
    "dirty_df.head(2)"
   ]
  },
  {
   "cell_type": "code",
   "execution_count": null,
   "id": "36b4e6c9-14ab-4aa1-b92c-ee4826badbf3",
   "metadata": {},
   "outputs": [],
   "source": []
  },
  {
   "cell_type": "code",
   "execution_count": 7,
   "id": "7a1028a6-66ea-4809-926d-fd247758fd8f",
   "metadata": {},
   "outputs": [],
   "source": [
    "dirty_df['label_eng'] = dirty_df['label_pred'].map(model_label_map)"
   ]
  },
  {
   "cell_type": "code",
   "execution_count": null,
   "id": "7e4d37bc-6d99-46e7-8e88-28cb8cc8dcef",
   "metadata": {},
   "outputs": [],
   "source": []
  },
  {
   "cell_type": "code",
   "execution_count": 8,
   "id": "11135021-76d7-4746-9424-b06d76b726c4",
   "metadata": {},
   "outputs": [
    {
     "data": {
      "text/plain": [
       "label_eng\n",
       "shoe         1116545\n",
       "upperbody     379363\n",
       "bag           299133\n",
       "lowerbody     223523\n",
       "wholebody     220452\n",
       "skirt          83595\n",
       "dtype: int64"
      ]
     },
     "execution_count": 8,
     "metadata": {},
     "output_type": "execute_result"
    }
   ],
   "source": [
    "dirty_df.value_counts('label_eng')"
   ]
  },
  {
   "cell_type": "code",
   "execution_count": 9,
   "id": "ab327505-01e5-4dba-8187-64c77614cc99",
   "metadata": {},
   "outputs": [
    {
     "data": {
      "text/html": [
       "<div>\n",
       "<style scoped>\n",
       "    .dataframe tbody tr th:only-of-type {\n",
       "        vertical-align: middle;\n",
       "    }\n",
       "\n",
       "    .dataframe tbody tr th {\n",
       "        vertical-align: top;\n",
       "    }\n",
       "\n",
       "    .dataframe thead th {\n",
       "        text-align: right;\n",
       "    }\n",
       "</style>\n",
       "<table border=\"1\" class=\"dataframe\">\n",
       "  <thead>\n",
       "    <tr style=\"text-align: right;\">\n",
       "      <th></th>\n",
       "      <th>label_pred</th>\n",
       "      <th>bx1</th>\n",
       "      <th>bx2</th>\n",
       "      <th>bx3</th>\n",
       "      <th>bx4</th>\n",
       "      <th>conf</th>\n",
       "      <th>id_crop</th>\n",
       "      <th>label_p</th>\n",
       "      <th>stem</th>\n",
       "      <th>oss_sp</th>\n",
       "      <th>width</th>\n",
       "      <th>heigth</th>\n",
       "      <th>fid</th>\n",
       "      <th>label_eng</th>\n",
       "    </tr>\n",
       "  </thead>\n",
       "  <tbody>\n",
       "    <tr>\n",
       "      <th>0</th>\n",
       "      <td>1</td>\n",
       "      <td>0.80761</td>\n",
       "      <td>0.589496</td>\n",
       "      <td>0.230439</td>\n",
       "      <td>0.233655</td>\n",
       "      <td>0.479052</td>\n",
       "      <td>0</td>\n",
       "      <td>/nas/chenyi/datasets_cls/gallery_detect/galler...</td>\n",
       "      <td>6931afe9-4e7a-4c49-8a87-72630dfbf5d2-345767</td>\n",
       "      <td>/nas/oss/gallery/69/31/6931afe9-4e7a-4c49-8a87...</td>\n",
       "      <td>450</td>\n",
       "      <td>450</td>\n",
       "      <td>6931afe9-4e7a-4c49-8a87-72630dfbf5d2-345767_0</td>\n",
       "      <td>bag</td>\n",
       "    </tr>\n",
       "    <tr>\n",
       "      <th>1</th>\n",
       "      <td>0</td>\n",
       "      <td>0.28671</td>\n",
       "      <td>0.987674</td>\n",
       "      <td>0.058950</td>\n",
       "      <td>0.024652</td>\n",
       "      <td>0.649600</td>\n",
       "      <td>1</td>\n",
       "      <td>/nas/chenyi/datasets_cls/gallery_detect/galler...</td>\n",
       "      <td>6931afe9-4e7a-4c49-8a87-72630dfbf5d2-345767</td>\n",
       "      <td>/nas/oss/gallery/69/31/6931afe9-4e7a-4c49-8a87...</td>\n",
       "      <td>450</td>\n",
       "      <td>450</td>\n",
       "      <td>6931afe9-4e7a-4c49-8a87-72630dfbf5d2-345767_1</td>\n",
       "      <td>shoe</td>\n",
       "    </tr>\n",
       "  </tbody>\n",
       "</table>\n",
       "</div>"
      ],
      "text/plain": [
       "   label_pred      bx1       bx2       bx3       bx4      conf  id_crop  \\\n",
       "0           1  0.80761  0.589496  0.230439  0.233655  0.479052        0   \n",
       "1           0  0.28671  0.987674  0.058950  0.024652  0.649600        1   \n",
       "\n",
       "                                             label_p  \\\n",
       "0  /nas/chenyi/datasets_cls/gallery_detect/galler...   \n",
       "1  /nas/chenyi/datasets_cls/gallery_detect/galler...   \n",
       "\n",
       "                                          stem  \\\n",
       "0  6931afe9-4e7a-4c49-8a87-72630dfbf5d2-345767   \n",
       "1  6931afe9-4e7a-4c49-8a87-72630dfbf5d2-345767   \n",
       "\n",
       "                                              oss_sp  width  heigth  \\\n",
       "0  /nas/oss/gallery/69/31/6931afe9-4e7a-4c49-8a87...    450     450   \n",
       "1  /nas/oss/gallery/69/31/6931afe9-4e7a-4c49-8a87...    450     450   \n",
       "\n",
       "                                             fid label_eng  \n",
       "0  6931afe9-4e7a-4c49-8a87-72630dfbf5d2-345767_0       bag  \n",
       "1  6931afe9-4e7a-4c49-8a87-72630dfbf5d2-345767_1      shoe  "
      ]
     },
     "execution_count": 9,
     "metadata": {},
     "output_type": "execute_result"
    }
   ],
   "source": [
    "dirty_df.head(2)"
   ]
  },
  {
   "cell_type": "code",
   "execution_count": null,
   "id": "f852f19a-9c44-43f7-8757-6c12204ad627",
   "metadata": {},
   "outputs": [],
   "source": []
  },
  {
   "cell_type": "markdown",
   "id": "fe3f9d99-2049-4045-85f1-23879a6d7149",
   "metadata": {},
   "source": [
    "##### 小图路径"
   ]
  },
  {
   "cell_type": "code",
   "execution_count": 9,
   "id": "d6fd506a-693f-4237-89f4-96480e17e14e",
   "metadata": {},
   "outputs": [],
   "source": [
    "# dirty_df['label_eng'] = dirty_df['label_pred'].map(model_label_map)"
   ]
  },
  {
   "cell_type": "code",
   "execution_count": 10,
   "id": "6ca6627a-efa4-4d40-9483-dd45870abcd5",
   "metadata": {},
   "outputs": [],
   "source": [
    "crops_root = '/nas/chenyi/datasets_cls/gallery_detect/gallery_oss/dadetv4/gall_dadetv4_all/crops'\n",
    "dirty_df['crops_sp'] = dirty_df.apply(lambda row:\n",
    "                                                '{0}/{1}/{2}_{3}.jpg'.format(crops_root, row['label_eng'], row['stem'], row['id_crop']),\n",
    "                                                axis=1)"
   ]
  },
  {
   "cell_type": "code",
   "execution_count": null,
   "id": "fe3f03f1-e326-4572-9f92-841fca612aa5",
   "metadata": {},
   "outputs": [],
   "source": []
  },
  {
   "cell_type": "code",
   "execution_count": 11,
   "id": "c4f689f4-2484-4b9a-9162-e6f44fdfbdd1",
   "metadata": {},
   "outputs": [],
   "source": [
    "crops_troot = '/nas/chenyi/datasets_cls/gallery_detect/gallery_oss/dadetv4/gall_dadetv4_all/crops_dirty'\n",
    "dirty_df['crops_tp'] = dirty_df.apply(lambda x:\n",
    "                                                '{0}/{1}/{2}/{3}'.format(crops_troot, x['label_eng'], x['stem'][:2], Path(x['crops_sp']).name),\n",
    "                                                axis=1)"
   ]
  },
  {
   "cell_type": "code",
   "execution_count": null,
   "id": "50774646-acf6-45fd-8b6d-eb6337e1c660",
   "metadata": {},
   "outputs": [],
   "source": []
  },
  {
   "cell_type": "code",
   "execution_count": 12,
   "id": "c517ba18-21ab-436c-bc84-d4c66b30918f",
   "metadata": {},
   "outputs": [
    {
     "data": {
      "text/plain": [
       "array([[1, 0.80761, 0.589496, 0.230439, 0.233655, 0.479052, 0,\n",
       "        '/nas/chenyi/datasets_cls/gallery_detect/gallery_oss/dadetv4/gall_dadetv4_all/labels/6931afe9-4e7a-4c49-8a87-72630dfbf5d2-345767.txt',\n",
       "        '6931afe9-4e7a-4c49-8a87-72630dfbf5d2-345767',\n",
       "        '/nas/oss/gallery/69/31/6931afe9-4e7a-4c49-8a87-72630dfbf5d2-345767.jpg',\n",
       "        450, 450, '6931afe9-4e7a-4c49-8a87-72630dfbf5d2-345767_0', 'bag',\n",
       "        '/nas/chenyi/datasets_cls/gallery_detect/gallery_oss/dadetv4/gall_dadetv4_all/crops/bag/6931afe9-4e7a-4c49-8a87-72630dfbf5d2-345767_0.jpg',\n",
       "        '/nas/chenyi/datasets_cls/gallery_detect/gallery_oss/dadetv4/gall_dadetv4_all/crops_dirty/bag/69/6931afe9-4e7a-4c49-8a87-72630dfbf5d2-345767_0.jpg'],\n",
       "       [0, 0.28671, 0.987674, 0.0589496, 0.0246517, 0.6496, 1,\n",
       "        '/nas/chenyi/datasets_cls/gallery_detect/gallery_oss/dadetv4/gall_dadetv4_all/labels/6931afe9-4e7a-4c49-8a87-72630dfbf5d2-345767.txt',\n",
       "        '6931afe9-4e7a-4c49-8a87-72630dfbf5d2-345767',\n",
       "        '/nas/oss/gallery/69/31/6931afe9-4e7a-4c49-8a87-72630dfbf5d2-345767.jpg',\n",
       "        450, 450, '6931afe9-4e7a-4c49-8a87-72630dfbf5d2-345767_1',\n",
       "        'shoe',\n",
       "        '/nas/chenyi/datasets_cls/gallery_detect/gallery_oss/dadetv4/gall_dadetv4_all/crops/shoe/6931afe9-4e7a-4c49-8a87-72630dfbf5d2-345767_1.jpg',\n",
       "        '/nas/chenyi/datasets_cls/gallery_detect/gallery_oss/dadetv4/gall_dadetv4_all/crops_dirty/shoe/69/6931afe9-4e7a-4c49-8a87-72630dfbf5d2-345767_1.jpg']],\n",
       "      dtype=object)"
      ]
     },
     "execution_count": 12,
     "metadata": {},
     "output_type": "execute_result"
    }
   ],
   "source": [
    "dirty_df.head(2).values"
   ]
  },
  {
   "cell_type": "code",
   "execution_count": null,
   "id": "33931b7e-6a38-4c8a-9469-134348239df2",
   "metadata": {},
   "outputs": [],
   "source": []
  },
  {
   "cell_type": "code",
   "execution_count": null,
   "id": "bbf1d794-28bf-43f8-8c9f-461a8dac7ebf",
   "metadata": {},
   "outputs": [],
   "source": []
  },
  {
   "cell_type": "markdown",
   "id": "3e561e6e-9ca3-488d-bed2-a595bbaefb24",
   "metadata": {},
   "source": [
    "### 数据拷贝"
   ]
  },
  {
   "cell_type": "code",
   "execution_count": 13,
   "id": "c0b22291-3bc1-4ebc-8903-9a17e2916eb4",
   "metadata": {},
   "outputs": [],
   "source": [
    "import sys\n",
    "sys.path.append('../../')\n",
    "from utils.data.transfer import copy_data_mkdir, run_task_multithread"
   ]
  },
  {
   "cell_type": "code",
   "execution_count": null,
   "id": "4796ad06-186f-49a4-9144-c15b18726318",
   "metadata": {},
   "outputs": [],
   "source": []
  },
  {
   "cell_type": "code",
   "execution_count": 14,
   "id": "0e1ebc72-daeb-4797-96d2-9ce79f07ec53",
   "metadata": {},
   "outputs": [],
   "source": [
    "input_list = [list(item) for item in zip(dirty_df['crops_sp'].values, dirty_df['crops_tp'].values)]"
   ]
  },
  {
   "cell_type": "code",
   "execution_count": null,
   "id": "c44906d6-f723-4b14-8c0d-cfda69d15ae7",
   "metadata": {},
   "outputs": [],
   "source": []
  },
  {
   "cell_type": "code",
   "execution_count": 15,
   "id": "f38e2115-87af-4567-b09f-f3f1f04b346e",
   "metadata": {},
   "outputs": [
    {
     "name": "stdout",
     "output_type": "stream",
     "text": [
      "CPU times: user 3 µs, sys: 0 ns, total: 3 µs\n",
      "Wall time: 3.58 µs\n"
     ]
    }
   ],
   "source": [
    "%%time\n",
    "import shutil\n",
    "def copy_data_mkdir(plist, mode='move'):\n",
    "    ps = Path(plist[0])\n",
    "    pt = Path(plist[1])\n",
    "    if not pt.parent.is_dir():\n",
    "        pt.parent.mkdir(parents=True, exist_ok=True)\n",
    "    if ps.is_file() and (not pt.is_file()):\n",
    "        if mode=='move':\n",
    "            Path.rename(ps, pt)\n",
    "        else:\n",
    "            shutil.copyfile(ps, pt)"
   ]
  },
  {
   "cell_type": "code",
   "execution_count": null,
   "id": "c0d6eaaf-3425-4a5b-99df-0cef71c78189",
   "metadata": {},
   "outputs": [],
   "source": []
  },
  {
   "cell_type": "code",
   "execution_count": 18,
   "id": "d8ad7e2c-b3e4-4902-9478-c72d2c807d75",
   "metadata": {},
   "outputs": [
    {
     "name": "stderr",
     "output_type": "stream",
     "text": [
      "100%|███████████████████████████████| 2322611/2322611 [18:09:30<00:00, 35.53it/s]\n"
     ]
    }
   ],
   "source": [
    "from tqdm import tqdm\n",
    "for plist in tqdm(input_list):\n",
    "    copy_data_mkdir(plist)\n",
    "#     # break"
   ]
  },
  {
   "cell_type": "code",
   "execution_count": 17,
   "id": "1494e571-96d6-4ba6-a1ae-649b98d5b20c",
   "metadata": {},
   "outputs": [
    {
     "data": {
      "text/plain": [
       "['/nas/chenyi/datasets_cls/gallery_detect/gallery_oss/dadetv4/gall_dadetv4_all/crops/bag/6931afe9-4e7a-4c49-8a87-72630dfbf5d2-345767_0.jpg',\n",
       " '/nas/chenyi/datasets_cls/gallery_detect/gallery_oss/dadetv4/gall_dadetv4_all/crops_dirty/bag/69/6931afe9-4e7a-4c49-8a87-72630dfbf5d2-345767_0.jpg']"
      ]
     },
     "execution_count": 17,
     "metadata": {},
     "output_type": "execute_result"
    }
   ],
   "source": [
    "input_list[0]"
   ]
  },
  {
   "cell_type": "code",
   "execution_count": null,
   "id": "b2a47db9-11dc-476f-9b8d-7d85c99f89c9",
   "metadata": {},
   "outputs": [],
   "source": []
  },
  {
   "cell_type": "code",
   "execution_count": 18,
   "id": "0ba2a907-6b5d-4525-b7a8-97263bd6b441",
   "metadata": {},
   "outputs": [],
   "source": [
    "# %%time           \n",
    "# run_task_multithread(input_list[::-1], copy_data_mkdir, 20)"
   ]
  },
  {
   "cell_type": "code",
   "execution_count": null,
   "id": "144c16ba-77c4-41f5-99e4-046854763918",
   "metadata": {},
   "outputs": [],
   "source": []
  }
 ],
 "metadata": {
  "kernelspec": {
   "display_name": "Python 3 (ipykernel)",
   "language": "python",
   "name": "python3"
  },
  "language_info": {
   "codemirror_mode": {
    "name": "ipython",
    "version": 3
   },
   "file_extension": ".py",
   "mimetype": "text/x-python",
   "name": "python",
   "nbconvert_exporter": "python",
   "pygments_lexer": "ipython3",
   "version": "3.8.13"
  }
 },
 "nbformat": 4,
 "nbformat_minor": 5
}
