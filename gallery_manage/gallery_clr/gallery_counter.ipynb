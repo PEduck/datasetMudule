{
 "cells": [
  {
   "cell_type": "code",
   "execution_count": null,
   "id": "3ffc2dc3-dc1b-4479-8db6-1cdae3fb214a",
   "metadata": {},
   "outputs": [],
   "source": [
    "import glob\n",
    "import pandas as pd\n",
    "from pathlib import Path\n",
    "import re"
   ]
  },
  {
   "cell_type": "code",
   "execution_count": null,
   "id": "229e8fb6-d495-4924-aa6e-d118bc388744",
   "metadata": {},
   "outputs": [],
   "source": []
  },
  {
   "cell_type": "code",
   "execution_count": null,
   "id": "3748d66c-84c9-41a0-afbb-b67b8c7ae81d",
   "metadata": {},
   "outputs": [],
   "source": []
  },
  {
   "cell_type": "code",
   "execution_count": 63,
   "id": "586de90e-ec64-4105-b8c4-baf9e0711348",
   "metadata": {},
   "outputs": [],
   "source": [
    "def get_list2dict(k_list, v_list):\n",
    "    d = {}\n",
    "    for item in zip(k_list, v_list):\n",
    "        d[item[0]] = item[1]\n",
    "    return d"
   ]
  },
  {
   "cell_type": "code",
   "execution_count": null,
   "id": "b76b955e-f798-495b-95c2-1cd83065006c",
   "metadata": {},
   "outputs": [],
   "source": []
  },
  {
   "cell_type": "code",
   "execution_count": null,
   "id": "2cdba0f2-94a4-4768-9998-c9ee1637585a",
   "metadata": {},
   "outputs": [],
   "source": []
  },
  {
   "cell_type": "markdown",
   "id": "dc3f00f9-c6a1-481c-a740-e7c1bcc4c198",
   "metadata": {},
   "source": [
    "### Data Information"
   ]
  },
  {
   "cell_type": "code",
   "execution_count": null,
   "id": "d4947e22-23ec-4d8a-baf1-6f07292a44bd",
   "metadata": {},
   "outputs": [],
   "source": [
    "root = Path('/nas/chenyi/datasets_cls/gallery_detect/gallery_oss/dadetv4/')"
   ]
  },
  {
   "cell_type": "code",
   "execution_count": null,
   "id": "fb520717-c38b-4dff-8b79-218fe6e46a03",
   "metadata": {},
   "outputs": [],
   "source": [
    "!ls $root"
   ]
  },
  {
   "cell_type": "code",
   "execution_count": 25,
   "id": "e151f9a9-348f-464c-a922-aaf5831b7fda",
   "metadata": {},
   "outputs": [
    {
     "name": "stdout",
     "output_type": "stream",
     "text": [
      "00\t       crops_dirty_manual   gall_dadetv4_all\t   info\n",
      "crops_confuse  crops_manual_return  gall_dadetv4_rev_last\n"
     ]
    }
   ],
   "source": [
    "!ls $root"
   ]
  },
  {
   "cell_type": "code",
   "execution_count": null,
   "id": "11f4c89f-cb91-4783-b75c-ce6599739d96",
   "metadata": {},
   "outputs": [],
   "source": [
    "!ls $root/gall_dadetv4_all/crops4clear"
   ]
  },
  {
   "cell_type": "code",
   "execution_count": null,
   "id": "e06cf691-3050-4197-884e-44803351c8c7",
   "metadata": {},
   "outputs": [],
   "source": []
  },
  {
   "cell_type": "code",
   "execution_count": 22,
   "id": "da94fdfc-875d-45a8-ada8-b028a9cb4688",
   "metadata": {},
   "outputs": [],
   "source": [
    "root_org = root /'gall_dadetv4_all/crops4clear_ai'"
   ]
  },
  {
   "cell_type": "code",
   "execution_count": null,
   "id": "5991b020-f255-46f7-9a0b-5c62a4077790",
   "metadata": {},
   "outputs": [],
   "source": [
    "len(glob.glob(root_org /''))"
   ]
  },
  {
   "cell_type": "code",
   "execution_count": null,
   "id": "74291496-978a-48f7-9dc4-0998d03da6e0",
   "metadata": {},
   "outputs": [],
   "source": [
    "len(manual_df)"
   ]
  },
  {
   "cell_type": "code",
   "execution_count": 21,
   "id": "8302c647-cb93-41ec-9b83-418bef2c24d4",
   "metadata": {},
   "outputs": [
    {
     "name": "stdout",
     "output_type": "stream",
     "text": [
      "crops\t\tcrops_dirty_ai\t crops_oss\t   imgs_det\n",
      "crops4clear_ai\tcrops_folder_ai  crops_oss.tar.gz  labels\n"
     ]
    }
   ],
   "source": [
    "!ls $root_org.parent"
   ]
  },
  {
   "cell_type": "code",
   "execution_count": null,
   "id": "31551bf4-4d37-4246-a365-a0153fedf96c",
   "metadata": {},
   "outputs": [],
   "source": []
  },
  {
   "cell_type": "markdown",
   "id": "557c3278-f626-424f-bfc2-df9f0e237291",
   "metadata": {},
   "source": [
    "#### 每个类counter"
   ]
  },
  {
   "cell_type": "code",
   "execution_count": null,
   "id": "336019bf-1844-49d1-a287-f54a76f0e676",
   "metadata": {},
   "outputs": [],
   "source": [
    "# folder_name = 'bag'\n",
    "org_list = glob.glob(str(root_org /f'*/*/*/*.jpg'))\n",
    "manual_list = glob.glob(str(root /f'crops_manual_return/*/*/*/*.jpg'))\n",
    "len(manual_list)/len(org_list), len(manual_list), len(org_list)"
   ]
  },
  {
   "cell_type": "code",
   "execution_count": null,
   "id": "5b73db89-ce9b-4671-88c8-50016b66f458",
   "metadata": {},
   "outputs": [],
   "source": []
  },
  {
   "cell_type": "code",
   "execution_count": null,
   "id": "18463e52-b91d-4e00-8d7d-7ebb35d5c801",
   "metadata": {
    "tags": []
   },
   "outputs": [],
   "source": [
    "folder_name = 'bag'\n",
    "org_list = glob.glob(str(root_org /f'{folder_name}/*/*/*.jpg'))\n",
    "manual_list = glob.glob(str(root /f'crops_manual_return/{folder_name}/*/*/*.jpg'))\n",
    "len(manual_list)/len(org_list), len(manual_list), len(org_list)"
   ]
  },
  {
   "cell_type": "code",
   "execution_count": null,
   "id": "41996491-7a75-42cd-9628-a4595b2dbd33",
   "metadata": {},
   "outputs": [],
   "source": []
  },
  {
   "cell_type": "code",
   "execution_count": 23,
   "id": "2947890c-2a61-463b-bbe6-6e20759cf605",
   "metadata": {},
   "outputs": [
    {
     "data": {
      "text/plain": [
       "0.0"
      ]
     },
     "execution_count": 23,
     "metadata": {},
     "output_type": "execute_result"
    }
   ],
   "source": [
    "%%time\n",
    "folder_name = 'lowerbody'\n",
    "org_list = glob.glob(str(root_org /f'{folder_name}/*/*/*'))\n",
    "manual_list = glob.glob(str(root /f'crops_manual_return/{folder_name}/*/*/*'))\n",
    "len(manual_list)/len(org_list)"
   ]
  },
  {
   "cell_type": "code",
   "execution_count": null,
   "id": "a9302e9e-d98a-4b08-896d-56f628658a13",
   "metadata": {},
   "outputs": [],
   "source": [
    "folder_name = 'shoe'\n",
    "org_list = glob.glob(str(root_org /f'{folder_name}/*/*/*'))\n",
    "manual_list = glob.glob(str(root /f'crops_manual_return/{folder_name}/*/*/*'))\n",
    "len(manual_list)/len(org_list)"
   ]
  },
  {
   "cell_type": "code",
   "execution_count": null,
   "id": "a5f91386-1b72-46f6-b4d8-b494a5a786aa",
   "metadata": {},
   "outputs": [],
   "source": []
  },
  {
   "cell_type": "code",
   "execution_count": null,
   "id": "cfc7da68-fb98-4f63-ba13-279de67cb937",
   "metadata": {},
   "outputs": [],
   "source": [
    "folder_name = 'skirt'\n",
    "org_list = glob.glob(str(root_org /f'{folder_name}/*/*/*'))\n",
    "manual_list = glob.glob(str(root /f'crops_manual_return/{folder_name}/*/*/*'))\n",
    "len(manual_list)/len(org_list), len(manual_list),len(org_list)"
   ]
  },
  {
   "cell_type": "code",
   "execution_count": null,
   "id": "c529bacf-ec9a-467e-810f-1aba60b398f2",
   "metadata": {},
   "outputs": [],
   "source": []
  },
  {
   "cell_type": "code",
   "execution_count": 28,
   "id": "48005b91-2bde-4452-8d2c-37dac6493d67",
   "metadata": {},
   "outputs": [
    {
     "name": "stdout",
     "output_type": "stream",
     "text": [
      "CPU times: user 168 ms, sys: 194 ms, total: 363 ms\n",
      "Wall time: 1.24 s\n"
     ]
    },
    {
     "data": {
      "text/plain": [
       "(0.9076865983207311, 19567, 21557)"
      ]
     },
     "execution_count": 28,
     "metadata": {},
     "output_type": "execute_result"
    }
   ],
   "source": [
    "%%time\n",
    "folder_name = 'upperbody'\n",
    "org_list = glob.glob(str(root_org /f'{folder_name}/*/*/*'))\n",
    "manual_list = glob.glob(str(root /f'crops_manual_return/{folder_name}/*/*/*'))\n",
    "len(manual_list)/len(org_list), len(manual_list), len(org_list)"
   ]
  },
  {
   "cell_type": "code",
   "execution_count": null,
   "id": "e4865d8d-11cf-4874-93d9-87700e7f3840",
   "metadata": {},
   "outputs": [],
   "source": []
  },
  {
   "cell_type": "code",
   "execution_count": null,
   "id": "ebd53d31-01ce-4375-8ad2-f83889fbd66a",
   "metadata": {},
   "outputs": [],
   "source": [
    "folder_name = 'wholebody'\n",
    "org_list = glob.glob(str(root_org /f'{folder_name}/*/*/*'))\n",
    "manual_list = glob.glob(str(root /f'crops_manual_return/{folder_name}/*/*/*'))\n",
    "len(manual_list)/len(org_list), len(manual_list),len(org_list)"
   ]
  },
  {
   "cell_type": "code",
   "execution_count": null,
   "id": "142a563a-72cc-484d-9e96-264a3dc4e34e",
   "metadata": {},
   "outputs": [],
   "source": []
  },
  {
   "cell_type": "markdown",
   "id": "9abb5b1a-e5fe-4d6e-95e4-2eb9b2baefdf",
   "metadata": {},
   "source": [
    "##### 总体acc"
   ]
  },
  {
   "cell_type": "code",
   "execution_count": null,
   "id": "2f112f27-8096-4ad6-9269-e7f8d1df7730",
   "metadata": {},
   "outputs": [],
   "source": [
    "name = ['bag',  'lowerbody', 'shoe',  'skirt', 'wholebody']\n",
    "# name = ['bag',  'lowerbody', 'shoe',  'skirt',  'upperbody', 'wholebody']\n",
    "o_l = 0\n",
    "m_l = 0\n",
    "for n in name:\n",
    "    folder_name = n\n",
    "    o_l += len(glob.glob(str(root_org /f'{folder_name}/*/*/*')))\n",
    "    m_l += len(glob.glob(str(root /f'crops_manual_return/{folder_name}/*/*/*')))"
   ]
  },
  {
   "cell_type": "code",
   "execution_count": null,
   "id": "2ef80a22-ebb2-4869-bb30-78048b32036a",
   "metadata": {},
   "outputs": [],
   "source": []
  },
  {
   "cell_type": "code",
   "execution_count": null,
   "id": "6d1a9653-77bb-4570-9880-ea09ab18489d",
   "metadata": {},
   "outputs": [],
   "source": [
    "m_l /o_l"
   ]
  },
  {
   "cell_type": "code",
   "execution_count": null,
   "id": "2e8387fc-7cdb-4d3c-b749-dbe24717dfe8",
   "metadata": {},
   "outputs": [],
   "source": []
  },
  {
   "cell_type": "code",
   "execution_count": null,
   "id": "28477fee-1632-40f6-b2d8-52256228e1de",
   "metadata": {},
   "outputs": [],
   "source": []
  },
  {
   "cell_type": "markdown",
   "id": "c5e42d60-4a5e-4484-a3d7-7da372b46e23",
   "metadata": {},
   "source": [
    "#### 反选手工挑选错误的"
   ]
  },
  {
   "cell_type": "code",
   "execution_count": 29,
   "id": "1518dab2-abb9-4c34-87fb-5ee786b6cc44",
   "metadata": {},
   "outputs": [],
   "source": [
    "root_dirty = root /'crops_dirty_manual'"
   ]
  },
  {
   "cell_type": "code",
   "execution_count": 30,
   "id": "f85e66ca-bcf7-4dd8-a36f-8d29985c5484",
   "metadata": {},
   "outputs": [],
   "source": [
    "org_df = pd.DataFrame()\n",
    "org_df['path'] = org_list\n",
    "manual_df = pd.DataFrame()\n",
    "manual_df['path'] = manual_list\n",
    "org_df['stem'] = org_df['path'].apply(lambda x: Path(x).stem)\n",
    "manual_df['stem'] = manual_df['path'].apply(lambda x: Path(x).stem)"
   ]
  },
  {
   "cell_type": "code",
   "execution_count": 31,
   "id": "c0d765a3-4980-48f7-9e75-1f1e6bf4cf08",
   "metadata": {},
   "outputs": [],
   "source": [
    "dirty_df = org_df[~org_df['stem'].isin(manual_df['stem'])]"
   ]
  },
  {
   "cell_type": "code",
   "execution_count": 32,
   "id": "a177979e-0257-4160-8925-ddc49c6b50de",
   "metadata": {},
   "outputs": [
    {
     "data": {
      "text/plain": [
       "1990"
      ]
     },
     "execution_count": 32,
     "metadata": {},
     "output_type": "execute_result"
    }
   ],
   "source": [
    "len(dirty_df)"
   ]
  },
  {
   "cell_type": "code",
   "execution_count": 33,
   "id": "b6ce69f9-39f4-4c3b-945a-0d934b15fc2f",
   "metadata": {},
   "outputs": [
    {
     "data": {
      "text/plain": [
       "PosixPath('/nas/chenyi/datasets_cls/gallery_detect/gallery_oss/dadetv4/crops_dirty_manual')"
      ]
     },
     "execution_count": 33,
     "metadata": {},
     "output_type": "execute_result"
    }
   ],
   "source": [
    "root_dirty"
   ]
  },
  {
   "cell_type": "code",
   "execution_count": 34,
   "id": "d6ac7bf1-2712-4e98-baa4-4156b1b2386d",
   "metadata": {},
   "outputs": [
    {
     "name": "stderr",
     "output_type": "stream",
     "text": [
      "100%|██████████████████████████████████████████████████████████████████████████████████████████████████████| 1990/1990 [00:04<00:00, 469.75it/s]\n"
     ]
    }
   ],
   "source": [
    "from tqdm import tqdm\n",
    "import shutil\n",
    "for p in tqdm(dirty_df['path'].values):\n",
    "    sp = Path(p)\n",
    "    tp = Path('{0}/{1}/{2}/{3}'.format(root_dirty, sp.parts[-4], sp.parts[-3], sp.name))\n",
    "    if not tp.parent.is_dir():\n",
    "        tp.parent.mkdir(exist_ok=True, parents=True)\n",
    "    shutil.copyfile(sp, tp)\n",
    "    # break"
   ]
  },
  {
   "cell_type": "code",
   "execution_count": null,
   "id": "311c493e-bdad-4ea0-af59-7f47d1137f6b",
   "metadata": {},
   "outputs": [],
   "source": []
  },
  {
   "cell_type": "code",
   "execution_count": null,
   "id": "e41ad99b-2b30-4a6f-83cd-7af55ad2b56d",
   "metadata": {},
   "outputs": [],
   "source": []
  },
  {
   "cell_type": "markdown",
   "id": "42589d50-b980-4301-9580-94fed286d80b",
   "metadata": {},
   "source": [
    "#### bbox反查原图"
   ]
  },
  {
   "cell_type": "code",
   "execution_count": 56,
   "id": "a68f96bb-061b-4002-bcde-26d796be4baa",
   "metadata": {},
   "outputs": [
    {
     "name": "stdout",
     "output_type": "stream",
     "text": [
      "00\t       crops_dirty_manual   gall_dadetv4_all\t   info\n",
      "crops_confuse  crops_manual_return  gall_dadetv4_rev_last\n"
     ]
    }
   ],
   "source": [
    "!ls $root"
   ]
  },
  {
   "cell_type": "code",
   "execution_count": 103,
   "id": "4df5e8cd-33bc-436a-b209-1418a07f571e",
   "metadata": {},
   "outputs": [
    {
     "name": "stdout",
     "output_type": "stream",
     "text": [
      "bboxes_detv4_df.csv\t  crops_all_df.csv  labels_df.csv\n",
      "bboxes_detv4_info_df.csv  imgs_det_df.csv\n",
      "bboxes_only_all_df.csv\t  imgs_org_df.csv\n"
     ]
    }
   ],
   "source": [
    "!ls $root/'info/dadetv4'"
   ]
  },
  {
   "cell_type": "code",
   "execution_count": null,
   "id": "6726a28b-1671-4953-8b85-1f784701932a",
   "metadata": {},
   "outputs": [],
   "source": []
  },
  {
   "cell_type": "code",
   "execution_count": 74,
   "id": "6f84333a-069b-4ad8-b915-f9532d526f4c",
   "metadata": {},
   "outputs": [
    {
     "name": "stdout",
     "output_type": "stream",
     "text": [
      "bag  lowerbody\tshoe  skirt  upperbody\twholebody\n"
     ]
    }
   ],
   "source": [
    "root_dirty = root /'crops_dirty_manual'\n",
    "!ls $root_dirty"
   ]
  },
  {
   "cell_type": "code",
   "execution_count": 76,
   "id": "52417a22-b19a-4807-b64b-aae37fd79f04",
   "metadata": {},
   "outputs": [
    {
     "name": "stdout",
     "output_type": "stream",
     "text": [
      "CPU times: user 22.7 ms, sys: 3.48 ms, total: 26.2 ms\n",
      "Wall time: 36.7 ms\n"
     ]
    },
    {
     "data": {
      "text/plain": [
       "7845"
      ]
     },
     "execution_count": 76,
     "metadata": {},
     "output_type": "execute_result"
    }
   ],
   "source": [
    "%%time\n",
    "dirty_list = glob.glob(str(root_dirty /'*/*/*'))\n",
    "len(dirty_list)"
   ]
  },
  {
   "cell_type": "code",
   "execution_count": null,
   "id": "8d2149de-972e-4539-bffe-451aec44ecc4",
   "metadata": {},
   "outputs": [],
   "source": []
  },
  {
   "cell_type": "code",
   "execution_count": 79,
   "id": "ac281b31-507f-4fcb-b079-06b68c3a3d55",
   "metadata": {},
   "outputs": [],
   "source": [
    "dirty_all_df = pd.DataFrame()\n",
    "dirty_all_df['dirty_sp'] = dirty_list"
   ]
  },
  {
   "cell_type": "code",
   "execution_count": 94,
   "id": "3bbe389f-ea1f-4a6a-8e55-a6cb00bb8bdc",
   "metadata": {},
   "outputs": [],
   "source": [
    "import re\n",
    "dirty_all_df['stem'] = dirty_all_df['dirty_sp'].apply(lambda x: Path(x).stem)\n",
    "dirty_all_df['stem'] = dirty_all_df['stem'].apply(lambda x: re.findall('(.*?)_[0-9]{1,2}', x)[0])"
   ]
  },
  {
   "cell_type": "code",
   "execution_count": null,
   "id": "7cf14251-4a0d-49a1-ae7b-e3d8930f5aae",
   "metadata": {},
   "outputs": [],
   "source": []
  },
  {
   "cell_type": "code",
   "execution_count": null,
   "id": "6d810d92-2fb3-4bac-80f4-e9fd69c20588",
   "metadata": {},
   "outputs": [],
   "source": []
  },
  {
   "cell_type": "code",
   "execution_count": 107,
   "id": "e7f16c1d-c543-4c1f-b2b3-c1353ae1e64d",
   "metadata": {},
   "outputs": [],
   "source": [
    "candidate_df = pd.read_csv(root/'info/dadetv4/imgs_org_df.csv')"
   ]
  },
  {
   "cell_type": "code",
   "execution_count": 109,
   "id": "de82ed5b-d2fe-46ca-bd1d-24f0fdde153b",
   "metadata": {},
   "outputs": [],
   "source": [
    "stem2img_gallery = get_list2dict(candidate_df['stem'].values, candidate_df['oss_sp'].values)"
   ]
  },
  {
   "cell_type": "code",
   "execution_count": 110,
   "id": "365e2535-6d78-444a-b7b7-b9459af12691",
   "metadata": {},
   "outputs": [
    {
     "data": {
      "text/plain": [
       "1661397"
      ]
     },
     "execution_count": 110,
     "metadata": {},
     "output_type": "execute_result"
    }
   ],
   "source": [
    "len(stem2img_gallery)"
   ]
  },
  {
   "cell_type": "code",
   "execution_count": 111,
   "id": "370e8f69-9cb2-46e2-9d1e-9e8fd988a16f",
   "metadata": {},
   "outputs": [],
   "source": [
    "dirty_all_df['oss_sp'] = dirty_all_df['stem'].map(stem2img_gallery)"
   ]
  },
  {
   "cell_type": "code",
   "execution_count": 115,
   "id": "755e30d2-4dd3-4b45-b6ae-fb0959a92b75",
   "metadata": {},
   "outputs": [
    {
     "data": {
      "text/plain": [
       "0"
      ]
     },
     "execution_count": 115,
     "metadata": {},
     "output_type": "execute_result"
    }
   ],
   "source": [
    "len(dirty_all_df[~dirty_all_df['stem'].isin(candidate_df['stem'])])"
   ]
  },
  {
   "cell_type": "code",
   "execution_count": 117,
   "id": "9f1b9074-6e7e-467a-b1ea-ed08fdf0834a",
   "metadata": {},
   "outputs": [
    {
     "data": {
      "text/html": [
       "<div>\n",
       "<style scoped>\n",
       "    .dataframe tbody tr th:only-of-type {\n",
       "        vertical-align: middle;\n",
       "    }\n",
       "\n",
       "    .dataframe tbody tr th {\n",
       "        vertical-align: top;\n",
       "    }\n",
       "\n",
       "    .dataframe thead th {\n",
       "        text-align: right;\n",
       "    }\n",
       "</style>\n",
       "<table border=\"1\" class=\"dataframe\">\n",
       "  <thead>\n",
       "    <tr style=\"text-align: right;\">\n",
       "      <th></th>\n",
       "      <th>dirty_sp</th>\n",
       "      <th>stem</th>\n",
       "      <th>oss_sp</th>\n",
       "    </tr>\n",
       "  </thead>\n",
       "  <tbody>\n",
       "    <tr>\n",
       "      <th>0</th>\n",
       "      <td>/nas/chenyi/datasets_cls/gallery_detect/galler...</td>\n",
       "      <td>0cf3f012-121e-40cb-9844-5e4b76ca360b-829051</td>\n",
       "      <td>/nas/oss/gallery/0c/f3/0cf3f012-121e-40cb-9844...</td>\n",
       "    </tr>\n",
       "  </tbody>\n",
       "</table>\n",
       "</div>"
      ],
      "text/plain": [
       "                                            dirty_sp  \\\n",
       "0  /nas/chenyi/datasets_cls/gallery_detect/galler...   \n",
       "\n",
       "                                          stem  \\\n",
       "0  0cf3f012-121e-40cb-9844-5e4b76ca360b-829051   \n",
       "\n",
       "                                              oss_sp  \n",
       "0  /nas/oss/gallery/0c/f3/0cf3f012-121e-40cb-9844...  "
      ]
     },
     "execution_count": 117,
     "metadata": {},
     "output_type": "execute_result"
    }
   ],
   "source": [
    "dirty_all_df.head(1)"
   ]
  },
  {
   "cell_type": "code",
   "execution_count": null,
   "id": "a11a50cc-00d8-4d7e-ac1a-58cdfcc3b8ad",
   "metadata": {},
   "outputs": [],
   "source": []
  },
  {
   "cell_type": "markdown",
   "id": "42444945-f141-4e5f-9b19-b880aa8a269f",
   "metadata": {},
   "source": [
    "##### det img."
   ]
  },
  {
   "cell_type": "code",
   "execution_count": 118,
   "id": "a37885bf-0b4f-4256-a850-a4daf2f952a0",
   "metadata": {},
   "outputs": [
    {
     "name": "stdout",
     "output_type": "stream",
     "text": [
      "00\t       crops_dirty_manual   gall_dadetv4_all\t   info\n",
      "crops_confuse  crops_manual_return  gall_dadetv4_rev_last\n"
     ]
    }
   ],
   "source": [
    "!ls $root"
   ]
  },
  {
   "cell_type": "code",
   "execution_count": 122,
   "id": "9647ae2a-fb8a-4912-91c4-33d30799cecc",
   "metadata": {},
   "outputs": [
    {
     "name": "stdout",
     "output_type": "stream",
     "text": [
      "crops\t\tcrops_dirty_ai\t crops_oss\t   imgs_det\n",
      "crops4clear_ai\tcrops_folder_ai  crops_oss.tar.gz  labels\n"
     ]
    }
   ],
   "source": [
    "!ls $root/'gall_dadetv4_all/'"
   ]
  },
  {
   "cell_type": "code",
   "execution_count": 123,
   "id": "db751f7d-53e0-4506-9788-75e9d2ddedd3",
   "metadata": {},
   "outputs": [],
   "source": [
    "det_root = root/'gall_dadetv4_all/imgs_det'"
   ]
  },
  {
   "cell_type": "code",
   "execution_count": 124,
   "id": "da3b65d2-57ce-43f4-82c6-235629f7832d",
   "metadata": {},
   "outputs": [],
   "source": [
    "dirty_all_df['det_sp'] = dirty_all_df['stem'].apply(lambda x: f'{det_root}/{x}.jpg')"
   ]
  },
  {
   "cell_type": "code",
   "execution_count": 128,
   "id": "08c0f7ea-faa2-4241-9687-b029e3a5b7d5",
   "metadata": {},
   "outputs": [
    {
     "data": {
      "text/plain": [
       "(7845, 7320)"
      ]
     },
     "execution_count": 128,
     "metadata": {},
     "output_type": "execute_result"
    }
   ],
   "source": [
    "len(dirty_all_df), len(dirty_all_df.drop_duplicates('stem'))"
   ]
  },
  {
   "cell_type": "code",
   "execution_count": null,
   "id": "6621eb06-6fa9-4da1-bc06-d3304f7d61e9",
   "metadata": {},
   "outputs": [],
   "source": []
  },
  {
   "cell_type": "code",
   "execution_count": 125,
   "id": "266a95ca-26f0-41b2-a0ef-5808cf6c83ac",
   "metadata": {},
   "outputs": [],
   "source": [
    "detp = dirty_all_df.iloc[0, 3]"
   ]
  },
  {
   "cell_type": "code",
   "execution_count": 129,
   "id": "7555e766-3d45-4d43-85af-6e222317cc52",
   "metadata": {},
   "outputs": [],
   "source": [
    "from PIL import Image\n",
    "# Image.open(detp)"
   ]
  },
  {
   "cell_type": "code",
   "execution_count": 133,
   "id": "5d0e21b7-ad54-4d06-bccf-5cca7954e1ae",
   "metadata": {},
   "outputs": [
    {
     "data": {
      "text/html": [
       "<div>\n",
       "<style scoped>\n",
       "    .dataframe tbody tr th:only-of-type {\n",
       "        vertical-align: middle;\n",
       "    }\n",
       "\n",
       "    .dataframe tbody tr th {\n",
       "        vertical-align: top;\n",
       "    }\n",
       "\n",
       "    .dataframe thead th {\n",
       "        text-align: right;\n",
       "    }\n",
       "</style>\n",
       "<table border=\"1\" class=\"dataframe\">\n",
       "  <thead>\n",
       "    <tr style=\"text-align: right;\">\n",
       "      <th></th>\n",
       "      <th>dirty_sp</th>\n",
       "      <th>stem</th>\n",
       "      <th>oss_sp</th>\n",
       "      <th>det_sp</th>\n",
       "    </tr>\n",
       "  </thead>\n",
       "  <tbody>\n",
       "    <tr>\n",
       "      <th>0</th>\n",
       "      <td>/nas/chenyi/datasets_cls/gallery_detect/galler...</td>\n",
       "      <td>0cf3f012-121e-40cb-9844-5e4b76ca360b-829051</td>\n",
       "      <td>/nas/oss/gallery/0c/f3/0cf3f012-121e-40cb-9844...</td>\n",
       "      <td>/nas/chenyi/datasets_cls/gallery_detect/galler...</td>\n",
       "    </tr>\n",
       "  </tbody>\n",
       "</table>\n",
       "</div>"
      ],
      "text/plain": [
       "                                            dirty_sp  \\\n",
       "0  /nas/chenyi/datasets_cls/gallery_detect/galler...   \n",
       "\n",
       "                                          stem  \\\n",
       "0  0cf3f012-121e-40cb-9844-5e4b76ca360b-829051   \n",
       "\n",
       "                                              oss_sp  \\\n",
       "0  /nas/oss/gallery/0c/f3/0cf3f012-121e-40cb-9844...   \n",
       "\n",
       "                                              det_sp  \n",
       "0  /nas/chenyi/datasets_cls/gallery_detect/galler...  "
      ]
     },
     "execution_count": 133,
     "metadata": {},
     "output_type": "execute_result"
    }
   ],
   "source": [
    "dirty_all_df.head(1)"
   ]
  },
  {
   "cell_type": "code",
   "execution_count": 137,
   "id": "571133a9-e679-473d-8388-ac6abf43bf7f",
   "metadata": {},
   "outputs": [
    {
     "data": {
      "text/plain": [
       "array([['/nas/chenyi/datasets_cls/gallery_detect/gallery_oss/dadetv4/crops_dirty_manual/wholebody/0c/0cf3f012-121e-40cb-9844-5e4b76ca360b-829051_4.jpg',\n",
       "        '0cf3f012-121e-40cb-9844-5e4b76ca360b-829051',\n",
       "        '/nas/oss/gallery/0c/f3/0cf3f012-121e-40cb-9844-5e4b76ca360b-829051.jpg',\n",
       "        '/nas/chenyi/datasets_cls/gallery_detect/gallery_oss/dadetv4/gall_dadetv4_all/imgs_det/0cf3f012-121e-40cb-9844-5e4b76ca360b-829051.jpg',\n",
       "        '/nas/chenyi/datasets_cls/gallery_detect/gallery_oss/dadetv4/dirty_org_img/0c/0cf3f012-121e-40cb-9844-5e4b76ca360b-829051.jpg']],\n",
       "      dtype=object)"
      ]
     },
     "execution_count": 137,
     "metadata": {},
     "output_type": "execute_result"
    }
   ],
   "source": [
    "dirty_all_df.head(1).values"
   ]
  },
  {
   "cell_type": "code",
   "execution_count": null,
   "id": "9cff61c0-369e-4409-8218-4ffda704a67a",
   "metadata": {},
   "outputs": [],
   "source": []
  },
  {
   "cell_type": "code",
   "execution_count": 136,
   "id": "6a40e33b-3a88-437a-9ceb-b9f35adce8db",
   "metadata": {},
   "outputs": [],
   "source": [
    "dirty_org_root = root/'dirty_org_img'\n",
    "dirty_all_df['img_tp'] = dirty_all_df['oss_sp'].apply(lambda x: '{0}/{1}/{2}'.format(dirty_org_root, Path(x).name[:2], Path(x).name))"
   ]
  },
  {
   "cell_type": "code",
   "execution_count": 140,
   "id": "74596c25-e1e8-4762-8c61-d64ceba00d82",
   "metadata": {},
   "outputs": [
    {
     "name": "stderr",
     "output_type": "stream",
     "text": [
      "7845it [03:06, 42.11it/s]\n"
     ]
    }
   ],
   "source": [
    "import shutil\n",
    "from tqdm import tqdm\n",
    "for ind, row in tqdm(dirty_all_df.iterrows()):\n",
    "    sp = Path(row['oss_sp'])\n",
    "    tp = Path(row['img_tp'])\n",
    "    if not tp.parent.is_dir():\n",
    "        tp.parent.mkdir(parents=True, exist_ok=True)\n",
    "    if sp.is_file() and not tp.is_file():\n",
    "        shutil.copyfile(sp, tp)\n",
    "    # break"
   ]
  },
  {
   "cell_type": "code",
   "execution_count": null,
   "id": "3e3669a9-f926-4897-b0d8-9ab2330576f8",
   "metadata": {},
   "outputs": [],
   "source": []
  },
  {
   "cell_type": "code",
   "execution_count": null,
   "id": "407f7600-dca2-4fed-951a-d3f839b4e100",
   "metadata": {},
   "outputs": [],
   "source": []
  }
 ],
 "metadata": {
  "kernelspec": {
   "display_name": "Python 3 (ipykernel)",
   "language": "python",
   "name": "python3"
  },
  "language_info": {
   "codemirror_mode": {
    "name": "ipython",
    "version": 3
   },
   "file_extension": ".py",
   "mimetype": "text/x-python",
   "name": "python",
   "nbconvert_exporter": "python",
   "pygments_lexer": "ipython3",
   "version": "3.8.13"
  }
 },
 "nbformat": 4,
 "nbformat_minor": 5
}
