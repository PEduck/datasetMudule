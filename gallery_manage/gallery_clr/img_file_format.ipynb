{
 "cells": [
  {
   "cell_type": "code",
   "execution_count": null,
   "id": "d7ba7681-b2dc-431e-a408-ad36a9bb418b",
   "metadata": {},
   "outputs": [],
   "source": [
    "import piexif\n",
    "from pathlib import Path"
   ]
  },
  {
   "cell_type": "code",
   "execution_count": 73,
   "id": "3ea771c3-129b-4ea3-ac55-754bf1190448",
   "metadata": {},
   "outputs": [],
   "source": [
    "import pandas as pd\n",
    "from xml.dom.minidom import Document\n",
    "import os\n",
    "import cv2\n",
    "from pathlib import Path\n",
    "import glob\n",
    "from tqdm import tqdm"
   ]
  },
  {
   "cell_type": "code",
   "execution_count": null,
   "id": "6bc2f6ef-3a7a-449f-95fb-309c8fed4fa9",
   "metadata": {},
   "outputs": [],
   "source": []
  },
  {
   "cell_type": "code",
   "execution_count": null,
   "id": "8b97ec72-f2a1-4ee1-af19-431cbe03dced",
   "metadata": {},
   "outputs": [],
   "source": []
  },
  {
   "cell_type": "code",
   "execution_count": 22,
   "id": "05b08318-f38c-4aef-a471-0c18abea6f04",
   "metadata": {},
   "outputs": [],
   "source": [
    "def bytes2hex(bytes):\n",
    "    print('关键码转码……');\n",
    "    num = len(bytes)\n",
    "    hexstr = u\"\"\n",
    "    for i in range(num):\n",
    "        t = u\"%x\" % bytes[i]\n",
    "        if len(t) % 2:\n",
    "            hexstr += u\"0\"\n",
    "        hexstr += t\n",
    "    return hexstr.upper()"
   ]
  },
  {
   "cell_type": "code",
   "execution_count": 45,
   "id": "73413859-500c-47a6-8ad3-e1d6b038e12f",
   "metadata": {},
   "outputs": [],
   "source": [
    "with open('test.jpg', 'rb') as f:\n",
    "    img_bin20 = f.read(16)"
   ]
  },
  {
   "cell_type": "code",
   "execution_count": null,
   "id": "562b6afe-a5bb-4c19-958f-abacb2f3af62",
   "metadata": {},
   "outputs": [],
   "source": []
  },
  {
   "cell_type": "code",
   "execution_count": 38,
   "id": "5e58703f-af2e-4222-baaf-05d089b0b833",
   "metadata": {},
   "outputs": [],
   "source": [
    "def is_jpg(filename):\n",
    "    data = open(filename,'rb').read(11)\n",
    "    if data[:4] != b'\\xff\\xd8\\xff\\xe0' and data[:4]!=b'\\xff\\xd8\\xff\\xe1': \n",
    "        return False\n",
    "    if data[6:] != b'JFIF\\0' and data[6:] != b'Exif\\0': \n",
    "        return False\n",
    "    return True"
   ]
  },
  {
   "cell_type": "code",
   "execution_count": null,
   "id": "2c4e195a-e062-4cd3-aab2-ce05541afc49",
   "metadata": {},
   "outputs": [],
   "source": []
  },
  {
   "cell_type": "code",
   "execution_count": null,
   "id": "d8540f0b-296f-4532-80b9-8c7bab3a0b52",
   "metadata": {},
   "outputs": [],
   "source": []
  },
  {
   "cell_type": "code",
   "execution_count": 71,
   "id": "cc7765b4-caf8-438e-b56b-6b97f9200ccd",
   "metadata": {},
   "outputs": [
    {
     "name": "stdout",
     "output_type": "stream",
     "text": [
      "gall_df.csv  gallery00.csv  test.csv\n"
     ]
    }
   ],
   "source": [
    "!ls /nas/chenyi/datasets_cls/gallery_detect/gallery_csv"
   ]
  },
  {
   "cell_type": "code",
   "execution_count": 74,
   "id": "c4fd8df3-8bc1-407c-887d-c8a10189e698",
   "metadata": {},
   "outputs": [],
   "source": [
    "csv_path = '/nas/chenyi/datasets_cls/gallery_detect/gallery_csv/gall_df.csv'\n",
    "gall_df = pd.read_csv(csv_path)"
   ]
  },
  {
   "cell_type": "code",
   "execution_count": 76,
   "id": "027816c6-2e19-4cb6-88a1-7fa37e2fd44d",
   "metadata": {},
   "outputs": [
    {
     "data": {
      "text/html": [
       "<div>\n",
       "<style scoped>\n",
       "    .dataframe tbody tr th:only-of-type {\n",
       "        vertical-align: middle;\n",
       "    }\n",
       "\n",
       "    .dataframe tbody tr th {\n",
       "        vertical-align: top;\n",
       "    }\n",
       "\n",
       "    .dataframe thead th {\n",
       "        text-align: right;\n",
       "    }\n",
       "</style>\n",
       "<table border=\"1\" class=\"dataframe\">\n",
       "  <thead>\n",
       "    <tr style=\"text-align: right;\">\n",
       "      <th></th>\n",
       "      <th>oss_sp</th>\n",
       "      <th>stem</th>\n",
       "    </tr>\n",
       "  </thead>\n",
       "  <tbody>\n",
       "    <tr>\n",
       "      <th>0</th>\n",
       "      <td>/nas/oss/gallery/69/31/69313640-af52-465e-88c8...</td>\n",
       "      <td>69313640-af52-465e-88c8-c0a0099ca5c7-699544</td>\n",
       "    </tr>\n",
       "  </tbody>\n",
       "</table>\n",
       "</div>"
      ],
      "text/plain": [
       "                                              oss_sp  \\\n",
       "0  /nas/oss/gallery/69/31/69313640-af52-465e-88c8...   \n",
       "\n",
       "                                          stem  \n",
       "0  69313640-af52-465e-88c8-c0a0099ca5c7-699544  "
      ]
     },
     "execution_count": 76,
     "metadata": {},
     "output_type": "execute_result"
    }
   ],
   "source": [
    "gall_df.head(1)"
   ]
  },
  {
   "cell_type": "code",
   "execution_count": 75,
   "id": "208a29e8-e615-439b-9c2a-63b2248721d9",
   "metadata": {},
   "outputs": [
    {
     "data": {
      "text/plain": [
       "1661397"
      ]
     },
     "execution_count": 75,
     "metadata": {},
     "output_type": "execute_result"
    }
   ],
   "source": [
    "len(gall_df)"
   ]
  },
  {
   "cell_type": "code",
   "execution_count": null,
   "id": "8bd55e4a-6cde-46c6-89dc-55767cb2c8f3",
   "metadata": {},
   "outputs": [],
   "source": [
    "myPyModule99/utils/data"
   ]
  },
  {
   "cell_type": "code",
   "execution_count": 79,
   "id": "ddcb6bd3-3dbf-457f-bd05-6365961e4941",
   "metadata": {},
   "outputs": [],
   "source": [
    "import sys,os\n",
    "sys.path.append('../../')\n",
    "from utils.data.transfer import run_task_multithread"
   ]
  },
  {
   "cell_type": "code",
   "execution_count": null,
   "id": "8b5e0427-1b4c-46db-beba-0c187df92590",
   "metadata": {},
   "outputs": [],
   "source": []
  },
  {
   "cell_type": "code",
   "execution_count": null,
   "id": "5f871fd1-5544-48a6-a328-59d985dcccf1",
   "metadata": {},
   "outputs": [],
   "source": []
  },
  {
   "cell_type": "code",
   "execution_count": 80,
   "id": "2ad256c5-0037-466f-a581-d1ee76129979",
   "metadata": {},
   "outputs": [],
   "source": [
    "def get_jpeg(sp):\n",
    "    return is_jpg(sp)"
   ]
  },
  {
   "cell_type": "code",
   "execution_count": null,
   "id": "55dd4a16-17b7-4234-aec0-4cf9664d89aa",
   "metadata": {},
   "outputs": [],
   "source": []
  },
  {
   "cell_type": "code",
   "execution_count": 82,
   "id": "58b21fca-5d98-4cce-ad80-907423889581",
   "metadata": {},
   "outputs": [
    {
     "name": "stderr",
     "output_type": "stream",
     "text": [
      "100%|████████████████████████████████████████████████████████████| 1661397/1661397 [2:54:01<00:00, 159.12it/s]"
     ]
    },
    {
     "name": "stdout",
     "output_type": "stream",
     "text": [
      "CPU times: user 2min 7s, sys: 2min 43s, total: 4min 51s\n",
      "Wall time: 2h 54min 1s\n"
     ]
    },
    {
     "name": "stderr",
     "output_type": "stream",
     "text": [
      "\n"
     ]
    }
   ],
   "source": [
    "%%time\n",
    "flag_list = []\n",
    "for p in tqdm(gall_df['oss_sp'].values):\n",
    "    flag_list.append(get_jpeg(p))\n",
    "    # break"
   ]
  },
  {
   "cell_type": "code",
   "execution_count": 83,
   "id": "f5e27530-906f-49c9-bc10-b0a4f183dc80",
   "metadata": {},
   "outputs": [],
   "source": [
    "gall_df['jpeg'] = flag_list"
   ]
  },
  {
   "cell_type": "code",
   "execution_count": 84,
   "id": "19f5ef15-1f48-43f1-8f1d-437ceadbbc75",
   "metadata": {},
   "outputs": [],
   "source": [
    "gall_df.to_csv('gall_df.csv', index=False)"
   ]
  },
  {
   "cell_type": "code",
   "execution_count": 85,
   "id": "c2e4600f-5db2-4bfc-a6df-d0c257bba5a3",
   "metadata": {},
   "outputs": [
    {
     "data": {
      "text/plain": [
       "jpeg\n",
       "True     1477501\n",
       "False     183896\n",
       "dtype: int64"
      ]
     },
     "execution_count": 85,
     "metadata": {},
     "output_type": "execute_result"
    }
   ],
   "source": [
    "gall_df.value_counts('jpeg')"
   ]
  },
  {
   "cell_type": "code",
   "execution_count": 88,
   "id": "16e8333a-4a5e-41fe-ad76-6c24843a6c78",
   "metadata": {},
   "outputs": [
    {
     "data": {
      "text/plain": [
       "183896"
      ]
     },
     "execution_count": 88,
     "metadata": {},
     "output_type": "execute_result"
    }
   ],
   "source": [
    "format_clr_df = gall_df[~gall_df['jpeg']].copy(deep=True)\n",
    "len(format_clr_df)"
   ]
  },
  {
   "cell_type": "code",
   "execution_count": 96,
   "id": "a8c13ceb-964d-4ff6-87f6-2fa3dd5f9cac",
   "metadata": {},
   "outputs": [
    {
     "data": {
      "text/html": [
       "<div>\n",
       "<style scoped>\n",
       "    .dataframe tbody tr th:only-of-type {\n",
       "        vertical-align: middle;\n",
       "    }\n",
       "\n",
       "    .dataframe tbody tr th {\n",
       "        vertical-align: top;\n",
       "    }\n",
       "\n",
       "    .dataframe thead th {\n",
       "        text-align: right;\n",
       "    }\n",
       "</style>\n",
       "<table border=\"1\" class=\"dataframe\">\n",
       "  <thead>\n",
       "    <tr style=\"text-align: right;\">\n",
       "      <th></th>\n",
       "      <th>oss_sp</th>\n",
       "      <th>stem</th>\n",
       "      <th>jpeg</th>\n",
       "      <th>oss_tp</th>\n",
       "    </tr>\n",
       "  </thead>\n",
       "  <tbody>\n",
       "    <tr>\n",
       "      <th>7</th>\n",
       "      <td>/nas/oss/gallery/69/31/69313024-7305-4862-b853...</td>\n",
       "      <td>69313024-7305-4862-b853-96f2029d32df-303224</td>\n",
       "      <td>False</td>\n",
       "      <td>/nas/chenyi/datasets_cls/gallery_detect/gall_n...</td>\n",
       "    </tr>\n",
       "  </tbody>\n",
       "</table>\n",
       "</div>"
      ],
      "text/plain": [
       "                                              oss_sp  \\\n",
       "7  /nas/oss/gallery/69/31/69313024-7305-4862-b853...   \n",
       "\n",
       "                                          stem   jpeg  \\\n",
       "7  69313024-7305-4862-b853-96f2029d32df-303224  False   \n",
       "\n",
       "                                              oss_tp  \n",
       "7  /nas/chenyi/datasets_cls/gallery_detect/gall_n...  "
      ]
     },
     "execution_count": 96,
     "metadata": {},
     "output_type": "execute_result"
    }
   ],
   "source": [
    "format_clr_df.head(1)"
   ]
  },
  {
   "cell_type": "code",
   "execution_count": 97,
   "id": "346d33cd-ca47-499f-a2ea-2e2614a5c166",
   "metadata": {},
   "outputs": [
    {
     "data": {
      "text/plain": [
       "array([['/nas/oss/gallery/69/31/69313024-7305-4862-b853-96f2029d32df-303224.jpg',\n",
       "        '69313024-7305-4862-b853-96f2029d32df-303224', False,\n",
       "        PosixPath('/nas/chenyi/datasets_cls/gallery_detect/gall_nojpeg/69/31/69313024-7305-4862-b853-96f2029d32df-303224.jpg')]],\n",
       "      dtype=object)"
      ]
     },
     "execution_count": 97,
     "metadata": {},
     "output_type": "execute_result"
    }
   ],
   "source": [
    "format_clr_df.head(1).values"
   ]
  },
  {
   "cell_type": "code",
   "execution_count": 124,
   "id": "aba38df3-1554-4e3e-912a-b80209769b0f",
   "metadata": {},
   "outputs": [],
   "source": [
    "root_save = Path('/nas/chenyi/datasets_cls/gallery_detect/gall_nojpeg')\n",
    "root_chg_jpeg = Path('/nas/chenyi/datasets_cls/gallery_detect/chg2jpeg')"
   ]
  },
  {
   "cell_type": "code",
   "execution_count": 95,
   "id": "cde64ce3-1489-4868-b542-97f56f18ed57",
   "metadata": {},
   "outputs": [],
   "source": [
    "format_clr_df['oss_tp'] = format_clr_df['oss_sp'].apply(lambda x: root_save /Path(x).parts[-3]/Path(x).parts[-2]/Path(x).name)"
   ]
  },
  {
   "cell_type": "code",
   "execution_count": 125,
   "id": "b5204618-0da7-438c-bbeb-f3485495dbb2",
   "metadata": {},
   "outputs": [],
   "source": [
    "format_clr_df['jpeg_tp'] = format_clr_df['oss_tp'].apply(lambda x: root_chg_jpeg /Path(x).parts[-3]/Path(x).parts[-2]/Path(x).name)"
   ]
  },
  {
   "cell_type": "code",
   "execution_count": null,
   "id": "e623816d-afc0-4e59-bdd6-0f3b8718ed93",
   "metadata": {},
   "outputs": [],
   "source": []
  },
  {
   "cell_type": "code",
   "execution_count": 146,
   "id": "52ee3da2-d9c8-478f-93a1-0692ffff7f3d",
   "metadata": {},
   "outputs": [],
   "source": [
    "df_chg = format_clr_df[int(8e4):]"
   ]
  },
  {
   "cell_type": "code",
   "execution_count": 147,
   "id": "0fbc1942-fcbd-4ee6-94b4-909fbfd8072b",
   "metadata": {},
   "outputs": [
    {
     "name": "stderr",
     "output_type": "stream",
     "text": [
      "100%|█████████████████████████████████████████████████████████████████| 103896/103896 [36:18<00:00, 47.68it/s]\n"
     ]
    }
   ],
   "source": [
    "import shutil\n",
    "sp_noexist_list = []\n",
    "for p in tqdm(df_chg['oss_sp'].values):\n",
    "    sp = Path(p)\n",
    "    tp = root_save /sp.parts[-3] /sp.parts[-2] /sp.name\n",
    "    if not sp.is_file():\n",
    "        sp_noexist_list.append(sp)\n",
    "        continue\n",
    "    if not tp.parent.is_dir():\n",
    "        tp.parent.mkdir(parents=True, exist_ok=True)\n",
    "    if tp.is_file():\n",
    "        continue\n",
    "    shutil.copyfile(sp, tp)\n",
    "    # break"
   ]
  },
  {
   "cell_type": "code",
   "execution_count": null,
   "id": "a2f5b243-2ea8-4b7c-8c42-d954177ff42c",
   "metadata": {},
   "outputs": [],
   "source": []
  },
  {
   "cell_type": "code",
   "execution_count": null,
   "id": "d29a2363-360d-47b3-b573-7c8bc1702fa9",
   "metadata": {},
   "outputs": [],
   "source": []
  },
  {
   "cell_type": "code",
   "execution_count": 148,
   "id": "7e19fb21-c45b-45d5-9e69-7d70e7660cfc",
   "metadata": {},
   "outputs": [],
   "source": [
    "def copy_error_file(sp):\n",
    "    tp = root_save /sp.parts[-3] /sp.parts[-2] /sp.name\n",
    "    if not tp.parent.is_dir():\n",
    "        tp.parent.mkdir(parents=True, exist_ok=True)\n",
    "    if not tp.is_file():\n",
    "        shutil.copyfile(sp, tp)"
   ]
  },
  {
   "cell_type": "code",
   "execution_count": null,
   "id": "6c0f9ff5-921b-42a1-9523-422405774677",
   "metadata": {},
   "outputs": [],
   "source": []
  },
  {
   "cell_type": "code",
   "execution_count": null,
   "id": "bd93ac34-de34-4b15-9d6a-515448dd4caf",
   "metadata": {},
   "outputs": [],
   "source": []
  },
  {
   "cell_type": "markdown",
   "id": "a65c1d54-090b-47e0-9313-09fefe507ee6",
   "metadata": {},
   "source": [
    "##### change 2 jpeg"
   ]
  },
  {
   "cell_type": "code",
   "execution_count": null,
   "id": "a68474dc-8ecd-4959-93f0-2833e0754752",
   "metadata": {},
   "outputs": [
    {
     "name": "stderr",
     "output_type": "stream",
     "text": [
      "  4%|██▊                                                              | 7863/183896 [13:44<4:18:16, 11.36it/s]libpng warning: iCCP: known incorrect sRGB profile\n",
      "  8%|█████▏                                                          | 14849/183896 [23:56<4:20:18, 10.82it/s]libpng warning: iCCP: known incorrect sRGB profile\n",
      " 10%|██████▎                                                         | 18072/183896 [28:45<3:30:44, 13.11it/s]libpng warning: iCCP: known incorrect sRGB profile\n",
      " 16%|██████████▎                                                     | 29539/183896 [49:24<5:36:14,  7.65it/s]libpng warning: iCCP: known incorrect sRGB profile\n",
      " 36%|██████████████████████▍                                       | 66680/183896 [1:52:15<2:52:30, 11.32it/s]libpng warning: iCCP: known incorrect sRGB profile\n",
      " 55%|█████████████████████████████████▊                           | 101966/183896 [2:47:42<2:14:31, 10.15it/s]libpng warning: iCCP: known incorrect sRGB profile\n",
      " 71%|███████████████████████████████████████████▍                 | 130861/183896 [3:37:47<1:03:04, 14.02it/s]"
     ]
    }
   ],
   "source": [
    "except_list = []\n",
    "df_chg = format_clr_df\n",
    "for p in tqdm(df_chg['oss_tp'].values):\n",
    "    sp = Path(p)\n",
    "    tp = root_chg_jpeg /sp.parts[-3] /sp.parts[-2] /sp.name\n",
    "    if not sp.is_file():\n",
    "        continue\n",
    "    if not tp.parent.is_dir():\n",
    "        tp.parent.mkdir(parents=True, exist_ok=True)\n",
    "    if tp.is_file():\n",
    "        continue\n",
    "    img_cv2 = cv2.imread(str(sp))\n",
    "    try:\n",
    "        cv2.imwrite(str(tp), img_cv2)\n",
    "    except:\n",
    "        except_list.append(sp)\n",
    "    # break"
   ]
  },
  {
   "cell_type": "code",
   "execution_count": null,
   "id": "1c379191-b6d4-48d5-b12c-b8cee553210e",
   "metadata": {},
   "outputs": [],
   "source": [
    "len(except_list)"
   ]
  },
  {
   "cell_type": "code",
   "execution_count": null,
   "id": "63c1d944-c59b-4b71-bdde-38a932c299fb",
   "metadata": {},
   "outputs": [],
   "source": []
  },
  {
   "cell_type": "code",
   "execution_count": null,
   "id": "2c1d9014-3274-4822-86c7-867300115fc2",
   "metadata": {},
   "outputs": [],
   "source": []
  }
 ],
 "metadata": {
  "kernelspec": {
   "display_name": "Python 3 (ipykernel)",
   "language": "python",
   "name": "python3"
  },
  "language_info": {
   "codemirror_mode": {
    "name": "ipython",
    "version": 3
   },
   "file_extension": ".py",
   "mimetype": "text/x-python",
   "name": "python",
   "nbconvert_exporter": "python",
   "pygments_lexer": "ipython3",
   "version": "3.8.13"
  }
 },
 "nbformat": 4,
 "nbformat_minor": 5
}
