{
 "cells": [
  {
   "cell_type": "code",
   "execution_count": 4,
   "id": "554e4a38-f84c-4128-a29d-fd2c40f1c4e7",
   "metadata": {},
   "outputs": [],
   "source": [
    "import pandas as pd\n",
    "import os\n",
    "import cv2\n",
    "from pathlib import Path\n",
    "import glob\n",
    "from tqdm import tqdm"
   ]
  },
  {
   "cell_type": "code",
   "execution_count": null,
   "id": "ae202a49-26b9-4140-9003-69893129d233",
   "metadata": {},
   "outputs": [],
   "source": []
  },
  {
   "cell_type": "code",
   "execution_count": null,
   "id": "446b9b42-f457-4c9e-a385-c338cc304b79",
   "metadata": {},
   "outputs": [],
   "source": []
  },
  {
   "cell_type": "code",
   "execution_count": 16,
   "id": "6f3f5c45-e122-4160-847a-b7d850997919",
   "metadata": {},
   "outputs": [],
   "source": [
    "def is_jpg(filename):\n",
    "    data = open(filename,'rb').read(11)\n",
    "    if data[:4] != b'\\xff\\xd8\\xff\\xe0' and data[:4]!=b'\\xff\\xd8\\xff\\xe1': \n",
    "        return False\n",
    "    if data[6:] != b'JFIF\\0' and data[6:] != b'Exif\\0': \n",
    "        return False\n",
    "    return True"
   ]
  },
  {
   "cell_type": "code",
   "execution_count": null,
   "id": "35cd2bb7-4193-41c6-aadf-b86a149c9ec0",
   "metadata": {},
   "outputs": [],
   "source": []
  },
  {
   "cell_type": "code",
   "execution_count": 3,
   "id": "0c236892-f836-4f0a-a608-7b8537baa27e",
   "metadata": {},
   "outputs": [
    {
     "name": "stdout",
     "output_type": "stream",
     "text": [
      "CPU times: user 9.03 s, sys: 11.6 s, total: 20.6 s\n",
      "Wall time: 17min 7s\n"
     ]
    }
   ],
   "source": [
    "%%time\n",
    "imgs_list = glob.glob('/nas/oss/gallery/*/*/*.jpg')"
   ]
  },
  {
   "cell_type": "code",
   "execution_count": 5,
   "id": "5ea7d1b9-325f-437f-9357-735fde4d8d26",
   "metadata": {},
   "outputs": [],
   "source": [
    "gall_all_df = pd.DataFrame()\n",
    "gall_all_df['oss_sp'] = imgs_list\n",
    "gall_all_df.to_csv('/nas/chenyi/datasets_cls/gallery_detect/gallery_csv/gall_all_df20220714.csv', index=False)"
   ]
  },
  {
   "cell_type": "code",
   "execution_count": null,
   "id": "c1b1fa96-cc39-4731-bd8c-1ef9430e447c",
   "metadata": {},
   "outputs": [],
   "source": []
  },
  {
   "cell_type": "code",
   "execution_count": null,
   "id": "837198aa-7331-4b03-9008-635881e7a62b",
   "metadata": {},
   "outputs": [],
   "source": []
  },
  {
   "cell_type": "code",
   "execution_count": 10,
   "id": "cade6d55-2b60-4a3c-8144-dabee344373d",
   "metadata": {},
   "outputs": [],
   "source": [
    "root_save = Path('/nas/oss/gallery/')\n",
    "root_chg_jpeg = Path('/nas/chenyi/datasets_cls/gallery_detect/chg2jpeg')"
   ]
  },
  {
   "cell_type": "code",
   "execution_count": 7,
   "id": "0a8369f1-09cf-4323-b495-d6f228cae064",
   "metadata": {},
   "outputs": [],
   "source": [
    "imgs_jpeg = glob.glob(str(root_chg_jpeg /'*/*/*.jpg'))"
   ]
  },
  {
   "cell_type": "code",
   "execution_count": 8,
   "id": "f2110b81-4779-4fda-b17f-91745c175310",
   "metadata": {},
   "outputs": [
    {
     "data": {
      "text/plain": [
       "112104"
      ]
     },
     "execution_count": 8,
     "metadata": {},
     "output_type": "execute_result"
    }
   ],
   "source": [
    "len(imgs_jpeg)"
   ]
  },
  {
   "cell_type": "code",
   "execution_count": null,
   "id": "9f098c61-3b8a-4b52-8303-c4081bff740a",
   "metadata": {},
   "outputs": [],
   "source": []
  },
  {
   "cell_type": "code",
   "execution_count": null,
   "id": "7962690f-a367-400d-803d-65b9b9f6a4f5",
   "metadata": {},
   "outputs": [],
   "source": []
  },
  {
   "cell_type": "code",
   "execution_count": null,
   "id": "cf9253cf-fba6-403f-8ae0-89bf191f6402",
   "metadata": {},
   "outputs": [
    {
     "name": "stderr",
     "output_type": "stream",
     "text": [
      " 16%|██████████▎                                                     | 18027/112104 [15:19<1:23:50, 18.70it/s]"
     ]
    }
   ],
   "source": [
    "import shutil\n",
    "sp_noexist_list = []\n",
    "for p in tqdm(imgs_jpeg):\n",
    "    sp = Path(p)\n",
    "    tp = root_save /sp.parts[-3] /sp.parts[-2] /sp.name\n",
    "    if not sp.is_file():\n",
    "        sp_noexist_list.append(sp)\n",
    "        print(sp)\n",
    "        continue\n",
    "    if tp.is_file() and not is_jpg(tp):\n",
    "        shutil.copyfile(sp, tp)\n",
    "    # break"
   ]
  },
  {
   "cell_type": "code",
   "execution_count": null,
   "id": "68ab8a9e-0eac-411b-9f74-2fd6e1a8b04b",
   "metadata": {},
   "outputs": [],
   "source": []
  },
  {
   "cell_type": "code",
   "execution_count": null,
   "id": "7658d5fe-39b4-416f-8f7b-a45fac892416",
   "metadata": {},
   "outputs": [],
   "source": []
  },
  {
   "cell_type": "code",
   "execution_count": 12,
   "id": "7b6922fe-09f9-4317-9a6d-c98524c286c2",
   "metadata": {},
   "outputs": [
    {
     "data": {
      "text/plain": [
       "PosixPath('/nas/chenyi/datasets_cls/gallery_detect/chg2jpeg/69/31/69313024-7305-4862-b853-96f2029d32df-303224.jpg')"
      ]
     },
     "execution_count": 12,
     "metadata": {},
     "output_type": "execute_result"
    }
   ],
   "source": [
    "sp"
   ]
  },
  {
   "cell_type": "code",
   "execution_count": 13,
   "id": "6cc5f7b6-f7a8-4260-bc25-e056fb60bdc9",
   "metadata": {},
   "outputs": [
    {
     "data": {
      "text/plain": [
       "PosixPath('/nas/oss/gallery/69/31/69313024-7305-4862-b853-96f2029d32df-303224.jpg')"
      ]
     },
     "execution_count": 13,
     "metadata": {},
     "output_type": "execute_result"
    }
   ],
   "source": [
    "tp"
   ]
  },
  {
   "cell_type": "code",
   "execution_count": 18,
   "id": "72e01b3e-9f2f-4d8d-9a81-e99292d18afa",
   "metadata": {},
   "outputs": [
    {
     "data": {
      "text/plain": [
       "(True, False)"
      ]
     },
     "execution_count": 18,
     "metadata": {},
     "output_type": "execute_result"
    }
   ],
   "source": [
    "is_jpg(sp), is_jpg(tp)"
   ]
  },
  {
   "cell_type": "code",
   "execution_count": null,
   "id": "d324d818-f731-4640-adbd-b1e272a02419",
   "metadata": {},
   "outputs": [],
   "source": []
  },
  {
   "cell_type": "code",
   "execution_count": null,
   "id": "9d865e4c-3ab5-4e30-8677-373639682345",
   "metadata": {},
   "outputs": [],
   "source": []
  }
 ],
 "metadata": {
  "kernelspec": {
   "display_name": "Python 3 (ipykernel)",
   "language": "python",
   "name": "python3"
  },
  "language_info": {
   "codemirror_mode": {
    "name": "ipython",
    "version": 3
   },
   "file_extension": ".py",
   "mimetype": "text/x-python",
   "name": "python",
   "nbconvert_exporter": "python",
   "pygments_lexer": "ipython3",
   "version": "3.8.13"
  }
 },
 "nbformat": 4,
 "nbformat_minor": 5
}
