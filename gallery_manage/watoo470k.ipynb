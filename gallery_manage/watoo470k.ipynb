{
 "cells": [
  {
   "cell_type": "code",
   "execution_count": 164,
   "id": "34757be3-e34b-4b0e-90c4-edbeae1cb8c2",
   "metadata": {},
   "outputs": [],
   "source": [
    "import glob\n",
    "import pandas as pd\n",
    "from pathlib import Path"
   ]
  },
  {
   "cell_type": "code",
   "execution_count": 54,
   "id": "a67256e7-65c5-4f4a-966f-e4731f691238",
   "metadata": {},
   "outputs": [],
   "source": [
    "import re"
   ]
  },
  {
   "cell_type": "code",
   "execution_count": null,
   "id": "eabf7d4f-e1e3-4bf5-8305-3a8f906b745e",
   "metadata": {},
   "outputs": [],
   "source": []
  },
  {
   "cell_type": "code",
   "execution_count": null,
   "id": "cc26d3a9-340d-4cc9-861e-66e9ad8f4985",
   "metadata": {},
   "outputs": [],
   "source": []
  },
  {
   "cell_type": "markdown",
   "id": "6be1b9d4-dd8b-4f67-848d-3579a6475d35",
   "metadata": {},
   "source": [
    "### API"
   ]
  },
  {
   "cell_type": "code",
   "execution_count": 173,
   "id": "9ea630fa-c009-44f1-9121-b293f1b82d8e",
   "metadata": {},
   "outputs": [],
   "source": [
    "import json\n",
    "with open('./data/watoo470k/key2folder.json', 'r') as f:\n",
    "    key2folder = json.load(f)"
   ]
  },
  {
   "cell_type": "code",
   "execution_count": null,
   "id": "a0b990ec-56b4-4ced-96c5-78322274f58b",
   "metadata": {},
   "outputs": [],
   "source": []
  },
  {
   "cell_type": "code",
   "execution_count": null,
   "id": "2fdcbf9d-39e8-4d68-85ef-fd128caafd4d",
   "metadata": {},
   "outputs": [],
   "source": []
  },
  {
   "cell_type": "code",
   "execution_count": 2,
   "id": "20862830-3134-4196-9d94-d3602cbdd821",
   "metadata": {},
   "outputs": [
    {
     "name": "stdout",
     "output_type": "stream",
     "text": [
      "crops  hwpedia_folder  labels\n"
     ]
    }
   ],
   "source": [
    "root = Path('/nas/chenyi/datasets_cls/gallery_detect/watoo400k/')\n",
    "target_root  = root / 'hwpedia_all'\n",
    "!ls $target_root"
   ]
  },
  {
   "cell_type": "code",
   "execution_count": 3,
   "id": "ff10c471-769d-4520-aef7-1c1037dd4c1b",
   "metadata": {},
   "outputs": [
    {
     "name": "stdout",
     "output_type": "stream",
     "text": [
      "T恤\t\t吊带\t   斗篷\t\t     牛仔裤  裙子    马甲\n",
      "休闲裤\t\t大衣\t   棉衣_羊羔绒\t     皮草    西装    马甲_背心\n",
      "休闲鞋\t\t夹克_外套  棒球服\t     皮衣    西装裤\n",
      "休闲鞋_setdiff\t女衫类\t   正装女鞋\t     皮鞋    运动裤\n",
      "包包\t\t小西装\t   正装女鞋_setdiff  羽绒服  连衣裙\n",
      "包包_setdiff\t打底裤\t   毛衣_绒衣_针织衫  背心    连衣裤\n",
      "卫衣\t\t抹胸\t   牛仔\t\t     衬衫    风衣\n"
     ]
    }
   ],
   "source": [
    "!ls /nas/chenyi/datasets_cls/gallery_detect/watoo400k/hwpedia_all/hwpedia_folder/"
   ]
  },
  {
   "cell_type": "code",
   "execution_count": 4,
   "id": "017ecaab-bac9-4d82-883e-17e993d7598b",
   "metadata": {},
   "outputs": [
    {
     "name": "stdout",
     "output_type": "stream",
     "text": [
      "CPU times: user 163 ms, sys: 16.3 ms, total: 179 ms\n",
      "Wall time: 260 ms\n"
     ]
    }
   ],
   "source": [
    "%%time\n",
    "# imgs_list = glob.glob(str(root /'*/*.jpg'))\n",
    "imgs_list = glob.glob(str(target_root /'hwpedia_folder/T恤/*/*'))"
   ]
  },
  {
   "cell_type": "code",
   "execution_count": 158,
   "id": "278a14a6-205f-497e-a6aa-565212202919",
   "metadata": {},
   "outputs": [],
   "source": [
    "f_list = glob.glob('/nas/chenyi/datasets_cls/gallery_detect/watoo400k/hwpedia_all/hwpedia_folder/*')"
   ]
  },
  {
   "cell_type": "code",
   "execution_count": 160,
   "id": "5c395e8e-c460-4af4-b160-14bae1c38dfa",
   "metadata": {},
   "outputs": [
    {
     "data": {
      "text/plain": [
       "37"
      ]
     },
     "execution_count": 160,
     "metadata": {},
     "output_type": "execute_result"
    }
   ],
   "source": [
    "len(f_list)"
   ]
  },
  {
   "cell_type": "code",
   "execution_count": 162,
   "id": "a57be355-151f-4924-92f0-8b8eccd2798e",
   "metadata": {},
   "outputs": [],
   "source": [
    "df = pd.DataFrame()\n",
    "df['path'] = f_list"
   ]
  },
  {
   "cell_type": "code",
   "execution_count": 165,
   "id": "49e7e76e-4a09-434e-901e-3d98b19f5c53",
   "metadata": {},
   "outputs": [],
   "source": [
    "df['folder'] = df['path'].apply(lambda x: Path(x).parts[-1])"
   ]
  },
  {
   "cell_type": "code",
   "execution_count": 169,
   "id": "af98e418-040a-48ca-87d8-b6c063946e40",
   "metadata": {},
   "outputs": [],
   "source": [
    "folder2key = {}\n",
    "for k, f in enumerate(df['folder'].values):\n",
    "    folder2key[f] = k"
   ]
  },
  {
   "cell_type": "code",
   "execution_count": 172,
   "id": "4a597364-1d16-42ef-9219-376fb7c28404",
   "metadata": {},
   "outputs": [],
   "source": []
  },
  {
   "cell_type": "code",
   "execution_count": null,
   "id": "07b31b40-2c3e-4869-8a54-190ca84eebca",
   "metadata": {},
   "outputs": [],
   "source": []
  },
  {
   "cell_type": "code",
   "execution_count": 8,
   "id": "430149ab-b828-40a8-889a-722cffbce4b4",
   "metadata": {},
   "outputs": [],
   "source": [
    "imgs_df = pd.read_csv('./data/watoo470k/imgs_watoo470k.csv')"
   ]
  },
  {
   "cell_type": "code",
   "execution_count": 7,
   "id": "83cd0d8e-313d-4819-bd44-3c660a7470d6",
   "metadata": {},
   "outputs": [],
   "source": [
    "txt_df = pd.read_csv('./data/watoo470k/labels_watoo470k.csv')"
   ]
  },
  {
   "cell_type": "code",
   "execution_count": 83,
   "id": "ca9145ea-2118-4ae9-91f7-7ff62e646865",
   "metadata": {},
   "outputs": [
    {
     "data": {
      "text/plain": [
       "array([['/nas/chenyi/datasets_cls/gallery_detect/watoo400k/hwpedia_all/labels/fffadbff-226c-4108-9673-f7a41a24a53b.txt',\n",
       "        'fffadbff-226c-4108-9673-f7a41a24a53b']], dtype=object)"
      ]
     },
     "execution_count": 83,
     "metadata": {},
     "output_type": "execute_result"
    }
   ],
   "source": [
    "txt_df.tail(1).values"
   ]
  },
  {
   "cell_type": "code",
   "execution_count": 84,
   "id": "ac0cce6c-b77a-43fa-aa95-23475e17216e",
   "metadata": {},
   "outputs": [
    {
     "data": {
      "text/plain": [
       "array([['/nas/chenyi/datasets_cls/gallery_detect/watoo400k/hwpedia_all/hwpedia_folder/女衫类/2/fffadbff-226c-4108-9673-f7a41a24a53b.jpg',\n",
       "        'fffadbff-226c-4108-9673-f7a41a24a53b']], dtype=object)"
      ]
     },
     "execution_count": 84,
     "metadata": {},
     "output_type": "execute_result"
    }
   ],
   "source": [
    "imgs_df.tail(1).values"
   ]
  },
  {
   "cell_type": "code",
   "execution_count": null,
   "id": "e05ade0f-850f-41a5-bb06-751c34617693",
   "metadata": {},
   "outputs": [],
   "source": []
  },
  {
   "cell_type": "code",
   "execution_count": null,
   "id": "2d59a8a1-ef15-476e-8132-de6b7616227e",
   "metadata": {},
   "outputs": [],
   "source": []
  },
  {
   "cell_type": "markdown",
   "id": "87a7bbf6-bd01-4cd6-93dd-250ccb10f0f0",
   "metadata": {},
   "source": [
    "### 分析img和label的数据"
   ]
  },
  {
   "cell_type": "code",
   "execution_count": 76,
   "id": "7fde4ba0-1d70-4758-88f0-2786aaa3ed71",
   "metadata": {},
   "outputs": [],
   "source": [
    "imgs_df['stem'] = imgs_df['path'].apply(lambda x: Path(x).stem)"
   ]
  },
  {
   "cell_type": "code",
   "execution_count": 77,
   "id": "5bf8a5bb-d095-41e0-af4b-77cbfc19e689",
   "metadata": {},
   "outputs": [],
   "source": [
    "txt_df['stem'] = txt_df['path'].apply(lambda x: Path(x).stem)"
   ]
  },
  {
   "cell_type": "code",
   "execution_count": 88,
   "id": "b13c3cd3-8bea-4436-bddf-6561a7b4e035",
   "metadata": {},
   "outputs": [],
   "source": [
    "imgs_cross = imgs_df[imgs_df['stem'].isin(txt_df['stem'])]"
   ]
  },
  {
   "cell_type": "code",
   "execution_count": 91,
   "id": "fc796313-152f-42ba-aa8c-a2c18e421540",
   "metadata": {},
   "outputs": [],
   "source": [
    "txt_cross = txt_df[txt_df['stem'].isin(imgs_df['stem'])]"
   ]
  },
  {
   "cell_type": "code",
   "execution_count": 80,
   "id": "d313151a-433d-406d-9327-898257cbd818",
   "metadata": {},
   "outputs": [],
   "source": [
    "imgs_df.sort_values('stem',inplace=True)\n",
    "txt_df.sort_values('stem',inplace=True)"
   ]
  },
  {
   "cell_type": "code",
   "execution_count": 92,
   "id": "76653b4c-db2b-4668-852c-ea764ddbcb08",
   "metadata": {},
   "outputs": [
    {
     "data": {
      "text/plain": [
       "(478504, 453275, 453275, 453275)"
      ]
     },
     "execution_count": 92,
     "metadata": {},
     "output_type": "execute_result"
    }
   ],
   "source": [
    "len(imgs_df),len(txt_df), len(imgs_cross), len(txt_cross)"
   ]
  },
  {
   "cell_type": "code",
   "execution_count": 93,
   "id": "e669b1af-9904-4cfa-9ea6-01410c5e0c19",
   "metadata": {},
   "outputs": [
    {
     "name": "stderr",
     "output_type": "stream",
     "text": [
      "/tmp/ipykernel_411860/859653631.py:1: SettingWithCopyWarning: \n",
      "A value is trying to be set on a copy of a slice from a DataFrame\n",
      "\n",
      "See the caveats in the documentation: https://pandas.pydata.org/pandas-docs/stable/user_guide/indexing.html#returning-a-view-versus-a-copy\n",
      "  imgs_cross.sort_values('stem',inplace=True)\n"
     ]
    }
   ],
   "source": [
    "imgs_cross.sort_values('stem',inplace=True)\n",
    "txt_cross.sort_values('stem',inplace=True)"
   ]
  },
  {
   "cell_type": "code",
   "execution_count": 94,
   "id": "072a3785-1f7c-485f-b29f-3744ca13602c",
   "metadata": {},
   "outputs": [],
   "source": [
    "watoo_df = pd.DataFrame()\n",
    "watoo_df['img_p'] = imgs_cross['path'].values\n",
    "watoo_df['label_p'] = txt_cross['path'].values"
   ]
  },
  {
   "cell_type": "code",
   "execution_count": 97,
   "id": "420f6269-abc9-49eb-a0f4-2eb5834809e7",
   "metadata": {},
   "outputs": [
    {
     "data": {
      "text/plain": [
       "array([['/nas/chenyi/datasets_cls/gallery_detect/watoo400k/hwpedia_all/hwpedia_folder/牛仔裤/92/fff77871-de9f-4776-9424-f41b48cc0a49.jpg',\n",
       "        '/nas/chenyi/datasets_cls/gallery_detect/watoo400k/hwpedia_all/labels/fff77871-de9f-4776-9424-f41b48cc0a49.txt'],\n",
       "       ['/nas/chenyi/datasets_cls/gallery_detect/watoo400k/hwpedia_all/hwpedia_folder/女衫类/2/fffadbff-226c-4108-9673-f7a41a24a53b.jpg',\n",
       "        '/nas/chenyi/datasets_cls/gallery_detect/watoo400k/hwpedia_all/labels/fffadbff-226c-4108-9673-f7a41a24a53b.txt']],\n",
       "      dtype=object)"
      ]
     },
     "execution_count": 97,
     "metadata": {},
     "output_type": "execute_result"
    }
   ],
   "source": [
    "watoo_df.tail(2).values"
   ]
  },
  {
   "cell_type": "code",
   "execution_count": null,
   "id": "fe600dae-384f-4472-91c0-dc7e12f37511",
   "metadata": {},
   "outputs": [],
   "source": []
  },
  {
   "cell_type": "code",
   "execution_count": null,
   "id": "60d98e12-de46-4e4d-969a-6528cfee1c3a",
   "metadata": {},
   "outputs": [],
   "source": []
  },
  {
   "cell_type": "code",
   "execution_count": null,
   "id": "e37875df-0b4e-4207-95bb-7aa310d53e87",
   "metadata": {},
   "outputs": [],
   "source": []
  },
  {
   "cell_type": "markdown",
   "id": "29119115-0c6e-4fe1-ac87-e46508c24d7e",
   "metadata": {},
   "source": [
    "#### 未被检测的数据"
   ]
  },
  {
   "cell_type": "code",
   "execution_count": 98,
   "id": "5ff4f165-683c-42a1-9a06-1abc68031780",
   "metadata": {},
   "outputs": [],
   "source": [
    "imgs_nodet = imgs_df[~imgs_df['stem'].isin(txt_df['stem'])]"
   ]
  },
  {
   "cell_type": "code",
   "execution_count": 99,
   "id": "4255002a-1684-4aff-af8c-a6d0b7e7263a",
   "metadata": {},
   "outputs": [
    {
     "data": {
      "text/plain": [
       "25229"
      ]
     },
     "execution_count": 99,
     "metadata": {},
     "output_type": "execute_result"
    }
   ],
   "source": [
    "len(imgs_nodet)"
   ]
  },
  {
   "cell_type": "code",
   "execution_count": 134,
   "id": "03f6dd6c-929c-457a-847f-74760ea307e5",
   "metadata": {},
   "outputs": [],
   "source": [
    "# imgs_nodet.to_csv('./data/watoo470k/imgs_nodet.csv', index=False)"
   ]
  },
  {
   "cell_type": "code",
   "execution_count": 119,
   "id": "8c3c5406-dd22-487d-a2c3-060a0c2bf084",
   "metadata": {},
   "outputs": [],
   "source": [
    "p = imgs_nodet['path'].values[9]"
   ]
  },
  {
   "cell_type": "code",
   "execution_count": null,
   "id": "6514d55a-8e64-4076-8d08-e27838f2b4fd",
   "metadata": {},
   "outputs": [],
   "source": []
  },
  {
   "cell_type": "code",
   "execution_count": null,
   "id": "71f83ad0-c0d1-48a8-a688-3573d3268bac",
   "metadata": {},
   "outputs": [],
   "source": []
  },
  {
   "cell_type": "markdown",
   "id": "f524ad5f-313c-4cf3-b6a0-915265da72f0",
   "metadata": {},
   "source": [
    "#### 解析labels txt"
   ]
  },
  {
   "cell_type": "code",
   "execution_count": 13,
   "id": "cdb8c681-36ca-47a6-9533-b657be38242c",
   "metadata": {},
   "outputs": [
    {
     "name": "stdout",
     "output_type": "stream",
     "text": [
      "2 0.505992 0.516117 0.985353 0.78036 0.810297\n"
     ]
    }
   ],
   "source": [
    "p = txt_df.head(1).values[0][0]\n",
    "!cat $p"
   ]
  },
  {
   "cell_type": "code",
   "execution_count": null,
   "id": "9ebb6bac-715c-4db3-921c-16e0d280f424",
   "metadata": {},
   "outputs": [],
   "source": []
  },
  {
   "cell_type": "code",
   "execution_count": 49,
   "id": "ecb31567-dd69-4bdc-8c82-8154207ef2b4",
   "metadata": {},
   "outputs": [
    {
     "name": "stdout",
     "output_type": "stream",
     "text": [
      "3 0.506 0.923333 0.305333 0.153333 0.707341\n",
      "2 0.464667 0.59 0.572 0.545333 0.958252\n"
     ]
    }
   ],
   "source": [
    "p = txt_df.head(10).values[-4][0]\n",
    "!cat $p"
   ]
  },
  {
   "cell_type": "code",
   "execution_count": 74,
   "id": "9b0755ed-4546-4367-8f27-9928bf030c2d",
   "metadata": {},
   "outputs": [],
   "source": [
    "with open(p,'r') as f:\n",
    "    txt = f.readlines()"
   ]
  },
  {
   "cell_type": "code",
   "execution_count": 75,
   "id": "319286f4-0932-4960-91ed-cd94e1f7efd4",
   "metadata": {},
   "outputs": [
    {
     "data": {
      "text/plain": [
       "['3 0.506 0.923333 0.305333 0.153333 0.707341\\n',\n",
       " '2 0.464667 0.59 0.572 0.545333 0.958252\\n']"
      ]
     },
     "execution_count": 75,
     "metadata": {},
     "output_type": "execute_result"
    }
   ],
   "source": [
    "txt"
   ]
  },
  {
   "cell_type": "code",
   "execution_count": 69,
   "id": "cfece277-cfdd-4a7e-aa32-095385e491b9",
   "metadata": {},
   "outputs": [],
   "source": [
    "for item in txt:\n",
    "    list1 = re.split(r'\\n', item)\n",
    "    list2 = list1[0].split(' ')\n",
    "    "
   ]
  },
  {
   "cell_type": "code",
   "execution_count": 70,
   "id": "aac5a13b-24f3-48d5-a83c-84deae667a8d",
   "metadata": {},
   "outputs": [
    {
     "data": {
      "text/plain": [
       "['2', '0.464667', '0.59', '0.572', '0.545333', '0.958252']"
      ]
     },
     "execution_count": 70,
     "metadata": {},
     "output_type": "execute_result"
    }
   ],
   "source": [
    "list2"
   ]
  },
  {
   "cell_type": "code",
   "execution_count": null,
   "id": "f401ec6c-d8b5-4f2b-af78-191813bc581f",
   "metadata": {},
   "outputs": [],
   "source": []
  },
  {
   "cell_type": "code",
   "execution_count": null,
   "id": "245dc410-c419-47a9-b0a7-aee9b9ad01e8",
   "metadata": {},
   "outputs": [],
   "source": []
  },
  {
   "cell_type": "markdown",
   "id": "c26deb4f-3202-4f43-a11d-5ac6e66292b7",
   "metadata": {},
   "source": [
    "### 画图"
   ]
  },
  {
   "cell_type": "code",
   "execution_count": 29,
   "id": "e62cbab9-d03c-4612-a400-cb12b8692225",
   "metadata": {},
   "outputs": [
    {
     "name": "stdout",
     "output_type": "stream",
     "text": [
      "/home/chenyi/workspace/myPyModule99/gallery_manage\n"
     ]
    }
   ],
   "source": [
    "!pwd"
   ]
  },
  {
   "cell_type": "code",
   "execution_count": 31,
   "id": "8b72445f-29a4-4d92-84bd-08f896691135",
   "metadata": {},
   "outputs": [],
   "source": [
    "import sys\n",
    "sys.path.append('../')"
   ]
  },
  {
   "cell_type": "code",
   "execution_count": 36,
   "id": "8b667dbb-d668-4373-9c93-9fcf5a1cd5e3",
   "metadata": {},
   "outputs": [],
   "source": [
    "from utils.plots.plots import draw_bbox\n",
    "from utils.bbox.conversation import *\n",
    "from utils.display.html import *"
   ]
  },
  {
   "cell_type": "code",
   "execution_count": null,
   "id": "921242cf-25ed-4697-a511-c6d681915a81",
   "metadata": {},
   "outputs": [],
   "source": []
  },
  {
   "cell_type": "code",
   "execution_count": null,
   "id": "85657026-a0bb-426e-af9c-2402d8c87a65",
   "metadata": {},
   "outputs": [],
   "source": []
  },
  {
   "cell_type": "markdown",
   "id": "0febede8-30cf-4e83-97ed-781b0c3402db",
   "metadata": {},
   "source": [
    "### 数据拷贝"
   ]
  },
  {
   "cell_type": "code",
   "execution_count": 121,
   "id": "35fe7891-d22b-4e1d-81c5-f11e5f6a913d",
   "metadata": {},
   "outputs": [],
   "source": [
    "import sys\n",
    "sys.path.append('../')"
   ]
  },
  {
   "cell_type": "code",
   "execution_count": 124,
   "id": "28977011-abf2-48d1-9910-070186482426",
   "metadata": {},
   "outputs": [],
   "source": [
    "from utils.data.transfer import copy_data_mkdir, run_task_multithread"
   ]
  },
  {
   "cell_type": "code",
   "execution_count": null,
   "id": "1a94bb33-e15b-47dc-a86a-c461b85c3901",
   "metadata": {},
   "outputs": [],
   "source": []
  },
  {
   "cell_type": "code",
   "execution_count": null,
   "id": "a402aefd-edec-4dc9-be98-4a6d599bbc17",
   "metadata": {},
   "outputs": [],
   "source": []
  },
  {
   "cell_type": "markdown",
   "id": "4f4cd1ff-f116-400f-898e-8015c6d4d8dd",
   "metadata": {},
   "source": [
    "#### target path"
   ]
  },
  {
   "cell_type": "code",
   "execution_count": 133,
   "id": "a091188a-247e-4a11-a4ac-8f039d73a918",
   "metadata": {},
   "outputs": [
    {
     "data": {
      "text/plain": [
       "array([[PosixPath('/nas/chenyi/datasets_cls/gallery_detect/watoo400k/hwpedia_all/hwpedia_folder/卫衣/150/005a2302-330b-4afc-ae19-5d0e513ee14a.jpg'),\n",
       "        '005a2302-330b-4afc-ae19-5d0e513ee14a',\n",
       "        '/nas/lichangjian/wardrobe_2/done_/卫衣/005a2302-330b-4afc-ae19-5d0e513ee14a.jpg'],\n",
       "       [PosixPath('/nas/chenyi/datasets_cls/gallery_detect/watoo400k/hwpedia_all/hwpedia_folder/牛仔裤/80/009dcf1b-1bb6-435e-b30c-0678ada49aee.jpg'),\n",
       "        '009dcf1b-1bb6-435e-b30c-0678ada49aee',\n",
       "        '/nas/lichangjian/wardrobe_2/done_/牛仔裤/009dcf1b-1bb6-435e-b30c-0678ada49aee.jpg']],\n",
       "      dtype=object)"
      ]
     },
     "execution_count": 133,
     "metadata": {},
     "output_type": "execute_result"
    }
   ],
   "source": [
    "imgs_nodet.head(2).values"
   ]
  },
  {
   "cell_type": "code",
   "execution_count": 177,
   "id": "c94d35c5-3c91-402d-978f-66c38f22af85",
   "metadata": {},
   "outputs": [],
   "source": [
    "sroot = '/nas/lichangjian/wardrobe_2/done_'\n",
    "troot = '/nas/chenyi/datasets_cls/gallery_detect/watoo400k/analysis/hwpedia/nodet_kfolder'"
   ]
  },
  {
   "cell_type": "code",
   "execution_count": 146,
   "id": "d1197b76-fdbb-425d-a350-c1070c3e03b1",
   "metadata": {},
   "outputs": [
    {
     "name": "stdout",
     "output_type": "stream",
     "text": [
      "nodet\n"
     ]
    }
   ],
   "source": [
    "!ls /nas/chenyi/datasets_cls/gallery_detect/watoo400k/analysis/hwpedia/"
   ]
  },
  {
   "cell_type": "code",
   "execution_count": null,
   "id": "5755072d-6a4d-4265-ba08-fa2cc5631566",
   "metadata": {},
   "outputs": [],
   "source": []
  },
  {
   "cell_type": "code",
   "execution_count": null,
   "id": "44db2227-1412-40c3-95e2-aff2d00066a8",
   "metadata": {},
   "outputs": [],
   "source": []
  },
  {
   "cell_type": "code",
   "execution_count": 136,
   "id": "6254fc3c-b8c9-439f-8295-cc73c72bfde3",
   "metadata": {},
   "outputs": [
    {
     "name": "stderr",
     "output_type": "stream",
     "text": [
      "/tmp/ipykernel_411860/2584459815.py:1: SettingWithCopyWarning: \n",
      "A value is trying to be set on a copy of a slice from a DataFrame.\n",
      "Try using .loc[row_indexer,col_indexer] = value instead\n",
      "\n",
      "See the caveats in the documentation: https://pandas.pydata.org/pandas-docs/stable/user_guide/indexing.html#returning-a-view-versus-a-copy\n",
      "  imgs_nodet['path'] = imgs_nodet['path'].apply(lambda x: Path(x))\n"
     ]
    }
   ],
   "source": [
    "imgs_nodet['path'] = imgs_nodet['path'].apply(lambda x: Path(x))"
   ]
  },
  {
   "cell_type": "code",
   "execution_count": 137,
   "id": "688c977b-8ca2-4b11-90af-056c25ad4c2f",
   "metadata": {},
   "outputs": [
    {
     "name": "stderr",
     "output_type": "stream",
     "text": [
      "/tmp/ipykernel_411860/1833358304.py:1: SettingWithCopyWarning: \n",
      "A value is trying to be set on a copy of a slice from a DataFrame.\n",
      "Try using .loc[row_indexer,col_indexer] = value instead\n",
      "\n",
      "See the caveats in the documentation: https://pandas.pydata.org/pandas-docs/stable/user_guide/indexing.html#returning-a-view-versus-a-copy\n",
      "  imgs_nodet['img_sp'] = imgs_nodet['path'].apply(lambda x: '{0}/{1}/{2}'.format(sroot, x.parts[-3], x.name))\n"
     ]
    }
   ],
   "source": [
    "imgs_nodet['img_sp'] = imgs_nodet['path'].apply(lambda x: '{0}/{1}/{2}'.format(sroot, x.parts[-3], x.name))"
   ]
  },
  {
   "cell_type": "code",
   "execution_count": 178,
   "id": "21090e22-17b7-4bd4-ad5c-ca44b3817d6d",
   "metadata": {},
   "outputs": [
    {
     "name": "stderr",
     "output_type": "stream",
     "text": [
      "/tmp/ipykernel_411860/361264578.py:1: SettingWithCopyWarning: \n",
      "A value is trying to be set on a copy of a slice from a DataFrame.\n",
      "Try using .loc[row_indexer,col_indexer] = value instead\n",
      "\n",
      "See the caveats in the documentation: https://pandas.pydata.org/pandas-docs/stable/user_guide/indexing.html#returning-a-view-versus-a-copy\n",
      "  imgs_nodet['img_tp'] = imgs_nodet['path'].apply(lambda x: '{0}/{1}_{2}/{3}'.format(troot, folder2key[x.parts[-3]], x.parts[-3], x.name))\n"
     ]
    }
   ],
   "source": [
    "imgs_nodet['img_tp'] = imgs_nodet['path'].apply(lambda x: '{0}/{1}_{2}/{3}'.format(troot, folder2key[x.parts[-3]], x.parts[-3], x.name))"
   ]
  },
  {
   "cell_type": "code",
   "execution_count": 179,
   "id": "313092cc-602c-46c4-a601-7c204a38e036",
   "metadata": {},
   "outputs": [],
   "source": [
    "input_list = [list(item) for item in zip(imgs_nodet['img_sp'].values, imgs_nodet['img_tp'].values)]"
   ]
  },
  {
   "cell_type": "code",
   "execution_count": 180,
   "id": "e521f4a8-11cd-49c3-b0f9-d9701dc7042c",
   "metadata": {},
   "outputs": [
    {
     "data": {
      "text/plain": [
       "['/nas/lichangjian/wardrobe_2/done_/卫衣/005a2302-330b-4afc-ae19-5d0e513ee14a.jpg',\n",
       " '/nas/chenyi/datasets_cls/gallery_detect/watoo400k/analysis/hwpedia/nodet_kfolder/10_卫衣/005a2302-330b-4afc-ae19-5d0e513ee14a.jpg']"
      ]
     },
     "execution_count": 180,
     "metadata": {},
     "output_type": "execute_result"
    }
   ],
   "source": [
    "input_list[0]"
   ]
  },
  {
   "cell_type": "code",
   "execution_count": 181,
   "id": "eb095ea5-5359-4b06-8b2b-9ee40626b573",
   "metadata": {},
   "outputs": [
    {
     "name": "stdout",
     "output_type": "stream",
     "text": [
      "CPU times: user 5.52 s, sys: 31.3 s, total: 36.9 s\n",
      "Wall time: 37.1 s\n"
     ]
    }
   ],
   "source": [
    "%%time\n",
    "import shutil\n",
    "def copy_data_mkdir(plist, mode='copy'):\n",
    "    ps = Path(plist[0])\n",
    "    pt = Path(plist[1])\n",
    "    if not pt.parent.is_dir():\n",
    "        pt.parent.mkdir(parents=True, exist_ok=True)\n",
    "    if not pt.is_file():\n",
    "        if mode=='move':\n",
    "            Path.rename(ps, pt)\n",
    "        else:\n",
    "            shutil.copyfile(ps, pt)\n",
    "            \n",
    "run_task_multithread(input_list, copy_data_mkdir)"
   ]
  },
  {
   "cell_type": "code",
   "execution_count": null,
   "id": "a2d58183-0386-406f-8819-76665c6b0ace",
   "metadata": {},
   "outputs": [],
   "source": []
  },
  {
   "cell_type": "code",
   "execution_count": null,
   "id": "7e7d9ac6-d046-464f-8dca-4bac8e548c83",
   "metadata": {},
   "outputs": [],
   "source": []
  },
  {
   "cell_type": "code",
   "execution_count": null,
   "id": "c33e7bde-cddd-47d8-af5c-347b6ed68cc6",
   "metadata": {},
   "outputs": [],
   "source": []
  },
  {
   "cell_type": "code",
   "execution_count": null,
   "id": "334a6769-92e3-47f4-95cd-5d15624cfea2",
   "metadata": {},
   "outputs": [],
   "source": []
  }
 ],
 "metadata": {
  "kernelspec": {
   "display_name": "Python 3 (ipykernel)",
   "language": "python",
   "name": "python3"
  },
  "language_info": {
   "codemirror_mode": {
    "name": "ipython",
    "version": 3
   },
   "file_extension": ".py",
   "mimetype": "text/x-python",
   "name": "python",
   "nbconvert_exporter": "python",
   "pygments_lexer": "ipython3",
   "version": "3.8.13"
  }
 },
 "nbformat": 4,
 "nbformat_minor": 5
}
