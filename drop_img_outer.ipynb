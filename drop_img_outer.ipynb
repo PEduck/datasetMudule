{
 "cells": [
  {
   "cell_type": "code",
   "execution_count": 4,
   "id": "69e187c6-0e2b-4c24-ab6d-3f865333bb7a",
   "metadata": {},
   "outputs": [],
   "source": [
    "from skimage import io"
   ]
  },
  {
   "cell_type": "code",
   "execution_count": 2,
   "id": "56b02b11-a415-49c1-887a-14b32ec9b485",
   "metadata": {},
   "outputs": [],
   "source": [
    "from PIL import Image"
   ]
  },
  {
   "cell_type": "code",
   "execution_count": null,
   "id": "c37a4607-a3a4-49fc-a02a-43a165dfa853",
   "metadata": {},
   "outputs": [],
   "source": []
  },
  {
   "cell_type": "code",
   "execution_count": null,
   "id": "c7aeb96c-1b8e-451c-b09a-8de7159d567f",
   "metadata": {},
   "outputs": [],
   "source": []
  },
  {
   "cell_type": "code",
   "execution_count": 14,
   "id": "3abb2416-762b-419e-884b-ff9e4879e912",
   "metadata": {},
   "outputs": [],
   "source": [
    "\n",
    "def corp_margin(img, thres = 765):\n",
    "        img2=img.sum(axis=2)\n",
    "        (row, col)=img2.shape\n",
    "        row_top=0\n",
    "        raw_down=0\n",
    "        col_top=0\n",
    "        col_down=0\n",
    "        for r in range(0,row):\n",
    "                if img2.sum(axis=1)[r]<thres*col:\n",
    "                        row_top=r\n",
    "                        break\n",
    " \n",
    "        for r in range(row-1,0,-1):\n",
    "                if img2.sum(axis=1)[r]<thres*col:\n",
    "                        raw_down=r\n",
    "                        break\n",
    " \n",
    "        for c in range(0,col):\n",
    "                if img2.sum(axis=0)[c]<thres*row:\n",
    "                        col_top=c\n",
    "                        break\n",
    " \n",
    "        for c in range(col-1,0,-1):\n",
    "                if img2.sum(axis=0)[c]<thres*row:\n",
    "                        col_down=c\n",
    "                        break\n",
    " \n",
    "        new_img=img[row_top:raw_down+1,col_top:col_down+1,0:3]\n",
    "        return new_img"
   ]
  },
  {
   "cell_type": "code",
   "execution_count": null,
   "id": "4168567e-e91b-46f3-944b-846e27e0e228",
   "metadata": {},
   "outputs": [],
   "source": [
    "if __name__ == \"__main__\":\n",
    "    p = '/nas/chenyi/1198165-20181105162751925-1626078917.jpeg'\n",
    "    # p = '/nas/chenyi/1.png'\n",
    "    im = io.imread(p)\n",
    "    img_re = corp_margin(im)\n",
    "    io.imsave('result.png',img_re)\n",
    "    io.imshow(img_re)"
   ]
  },
  {
   "cell_type": "code",
   "execution_count": null,
   "id": "38c2ff90-b47a-4f83-b01e-2ed5b0bd8da5",
   "metadata": {},
   "outputs": [],
   "source": []
  },
  {
   "cell_type": "code",
   "execution_count": 18,
   "id": "f3cf8726-4157-4d50-ae53-afbaf662edc7",
   "metadata": {},
   "outputs": [],
   "source": [
    "p = '/nas/chenyi/1198165-20181105162751925-1626078917.jpeg'\n",
    "# p = '/nas/chenyi/1.png'\n",
    "im = io.imread(p)\n",
    "img_re = corp_margin(im)"
   ]
  },
  {
   "cell_type": "code",
   "execution_count": null,
   "id": "fb42edb1-4953-4091-8e40-53290e8145e0",
   "metadata": {},
   "outputs": [],
   "source": [
    "io.imsave('result.png',img_re)\n",
    "io.imshow(img_re)"
   ]
  },
  {
   "cell_type": "code",
   "execution_count": null,
   "id": "b0530bcc-eef7-4378-b2e6-604c7f70fb07",
   "metadata": {},
   "outputs": [],
   "source": [
    "Image.fromarray(img_re)"
   ]
  },
  {
   "cell_type": "code",
   "execution_count": null,
   "id": "cabec5a9-b4df-45c1-8a54-6db243a67dbb",
   "metadata": {},
   "outputs": [],
   "source": []
  }
 ],
 "metadata": {
  "kernelspec": {
   "display_name": "Python 3 (ipykernel)",
   "language": "python",
   "name": "python3"
  },
  "language_info": {
   "codemirror_mode": {
    "name": "ipython",
    "version": 3
   },
   "file_extension": ".py",
   "mimetype": "text/x-python",
   "name": "python",
   "nbconvert_exporter": "python",
   "pygments_lexer": "ipython3",
   "version": "3.8.13"
  }
 },
 "nbformat": 4,
 "nbformat_minor": 5
}
