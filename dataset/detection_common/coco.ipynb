{
 "cells": [
  {
   "cell_type": "code",
   "execution_count": 1,
   "id": "fc9c9c13-4282-418b-ab19-5564a82ed697",
   "metadata": {},
   "outputs": [],
   "source": [
    "import glob\n",
    "import pandas as pd\n",
    "from pathlib import Path"
   ]
  },
  {
   "cell_type": "code",
   "execution_count": null,
   "id": "7645c031-625e-4678-b1c1-48bcdc4cb6f2",
   "metadata": {},
   "outputs": [],
   "source": []
  },
  {
   "cell_type": "code",
   "execution_count": null,
   "id": "62d43ad1-1e25-40ad-846f-5edd3dbdd813",
   "metadata": {},
   "outputs": [],
   "source": []
  },
  {
   "cell_type": "code",
   "execution_count": 4,
   "id": "698934d4-e1cd-4003-82ed-b62083f9910b",
   "metadata": {},
   "outputs": [],
   "source": [
    "root_nas = Path('/nas/chenyi/datasets_nas/detection_common/images/COCO2017/package/')"
   ]
  },
  {
   "cell_type": "code",
   "execution_count": 3,
   "id": "22cd9d54-193b-47b9-87a2-0466d0d1c9d4",
   "metadata": {},
   "outputs": [
    {
     "name": "stdout",
     "output_type": "stream",
     "text": [
      "CPU times: user 133 ms, sys: 12 ms, total: 145 ms\n",
      "Wall time: 145 ms\n"
     ]
    },
    {
     "data": {
      "text/plain": [
       "118287"
      ]
     },
     "execution_count": 3,
     "metadata": {},
     "output_type": "execute_result"
    }
   ],
   "source": [
    "%%time \n",
    "img_tran_list = glob.glob(str(root_nas /'train2017/*.jpg'))\n",
    "len(img_tran_list)"
   ]
  },
  {
   "cell_type": "code",
   "execution_count": 7,
   "id": "65c2b913-c157-43f6-af74-2289eaea8d19",
   "metadata": {},
   "outputs": [
    {
     "name": "stdout",
     "output_type": "stream",
     "text": [
      "CPU times: user 114 ms, sys: 11.6 ms, total: 126 ms\n",
      "Wall time: 126 ms\n"
     ]
    },
    {
     "data": {
      "text/plain": [
       "118287"
      ]
     },
     "execution_count": 7,
     "metadata": {},
     "output_type": "execute_result"
    }
   ],
   "source": [
    "%%time \n",
    "img_tran_list = glob.glob(str(root_nas /'train2017/*'))\n",
    "len(img_tran_list)"
   ]
  },
  {
   "cell_type": "code",
   "execution_count": 5,
   "id": "5db51c2e-04ba-4d2e-bec7-c18a671e7091",
   "metadata": {},
   "outputs": [
    {
     "name": "stdout",
     "output_type": "stream",
     "text": [
      "CPU times: user 9.48 ms, sys: 7.71 ms, total: 17.2 ms\n",
      "Wall time: 62 ms\n"
     ]
    },
    {
     "data": {
      "text/plain": [
       "5000"
      ]
     },
     "execution_count": 5,
     "metadata": {},
     "output_type": "execute_result"
    }
   ],
   "source": [
    "%%time \n",
    "img_tran_list = glob.glob(str(root_nas /'val2017/*.jpg'))\n",
    "len(img_tran_list)"
   ]
  },
  {
   "cell_type": "code",
   "execution_count": 6,
   "id": "5e7aab32-70a3-4224-8d92-2f6045dbec26",
   "metadata": {},
   "outputs": [
    {
     "name": "stdout",
     "output_type": "stream",
     "text": [
      "CPU times: user 37.4 ms, sys: 10.8 ms, total: 48.3 ms\n",
      "Wall time: 129 ms\n"
     ]
    },
    {
     "data": {
      "text/plain": [
       "40670"
      ]
     },
     "execution_count": 6,
     "metadata": {},
     "output_type": "execute_result"
    }
   ],
   "source": [
    "%%time \n",
    "img_tran_list = glob.glob(str(root_nas /'test2017/*.jpg'))\n",
    "len(img_tran_list)"
   ]
  },
  {
   "cell_type": "code",
   "execution_count": null,
   "id": "a46b4369-5b57-4ed0-9929-3a827b595595",
   "metadata": {},
   "outputs": [],
   "source": []
  },
  {
   "cell_type": "code",
   "execution_count": null,
   "id": "b9db1214-d36b-4daa-bc3d-e8db395fcda1",
   "metadata": {},
   "outputs": [],
   "source": []
  },
  {
   "cell_type": "code",
   "execution_count": null,
   "id": "7e61b5f9-3f2d-461e-83b7-da7546caf650",
   "metadata": {},
   "outputs": [],
   "source": []
  }
 ],
 "metadata": {
  "kernelspec": {
   "display_name": "Python 3 (ipykernel)",
   "language": "python",
   "name": "python3"
  },
  "language_info": {
   "codemirror_mode": {
    "name": "ipython",
    "version": 3
   },
   "file_extension": ".py",
   "mimetype": "text/x-python",
   "name": "python",
   "nbconvert_exporter": "python",
   "pygments_lexer": "ipython3",
   "version": "3.8.13"
  }
 },
 "nbformat": 4,
 "nbformat_minor": 5
}
