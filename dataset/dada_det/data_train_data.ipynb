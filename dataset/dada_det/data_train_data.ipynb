{
 "cells": [
  {
   "cell_type": "code",
   "execution_count": 1,
   "id": "965f48f1-99e7-49f5-a091-4d5f05a888f1",
   "metadata": {},
   "outputs": [],
   "source": [
    "import numpy as np\n",
    "import pandas as pd\n",
    "import glob\n",
    "import sys,os"
   ]
  },
  {
   "cell_type": "code",
   "execution_count": 2,
   "id": "59cb6ecd-1684-449f-af66-47030f806724",
   "metadata": {},
   "outputs": [],
   "source": [
    "from PIL import Image\n",
    "import cv2\n",
    "import matplotlib.pyplot as plt"
   ]
  },
  {
   "cell_type": "code",
   "execution_count": 3,
   "id": "f1b52e83-327d-42ce-a6d3-87eaa8ceded5",
   "metadata": {},
   "outputs": [],
   "source": [
    "import pandas as pd"
   ]
  },
  {
   "cell_type": "code",
   "execution_count": 4,
   "id": "ca4f84b4-1181-46d2-b76b-4ebee47a3c21",
   "metadata": {},
   "outputs": [],
   "source": [
    "import json\n",
    "import pickle\n",
    "import re\n",
    "from tqdm import tqdm\n",
    "from pathlib import Path"
   ]
  },
  {
   "cell_type": "code",
   "execution_count": null,
   "id": "7a829f7f-5463-4b41-b869-5f96708c84f2",
   "metadata": {},
   "outputs": [],
   "source": []
  },
  {
   "cell_type": "code",
   "execution_count": null,
   "id": "b4eeffb1-2937-4087-ac85-c2b5977fcc8e",
   "metadata": {},
   "outputs": [],
   "source": []
  },
  {
   "cell_type": "markdown",
   "id": "7ef16afd-d8b3-45d3-bc2e-4e3ba09c0023",
   "metadata": {},
   "source": [
    "### 0.API"
   ]
  },
  {
   "cell_type": "code",
   "execution_count": 5,
   "id": "2abb2d2c-53d0-4671-8e47-208be0c7f542",
   "metadata": {},
   "outputs": [],
   "source": [
    "# id_standard_df.to_csv('/home/chenyi/workspace/myPyModule99/dataset/labelMap/standard/id2class99_chenyi.csv', index=False)"
   ]
  },
  {
   "cell_type": "code",
   "execution_count": 6,
   "id": "71d019b3-5cae-4d16-b06f-f88c1acc6ccd",
   "metadata": {},
   "outputs": [],
   "source": [
    "id_standard_df = pd.read_csv('/home/chenyi/workspace/myPyModule99/dataset/labelMap/standard/id2class99_chenyi.csv')\n",
    "id_use_df = id_standard_df[id_standard_df['use']>=0]"
   ]
  },
  {
   "cell_type": "code",
   "execution_count": 7,
   "id": "73091c58-fc0c-42c1-9947-d8a025d4c569",
   "metadata": {},
   "outputs": [],
   "source": [
    "with open('/home/chenyi/workspace/myPyModule99/dataset/labelMap/standard/haowei34k_map_stand.json', 'r') as f:\n",
    "    hw2stand = json.load(f)"
   ]
  },
  {
   "cell_type": "code",
   "execution_count": 8,
   "id": "a0e85c87-3c9c-4719-9e21-4bc83d5fc568",
   "metadata": {},
   "outputs": [],
   "source": [
    "shbg_map = pd.read_excel('./data/shoe_bag11k_map.xlsx')"
   ]
  },
  {
   "cell_type": "code",
   "execution_count": 9,
   "id": "ddca4f12-25d6-43c5-ad9a-f05117e7e839",
   "metadata": {},
   "outputs": [],
   "source": [
    "def get_list2dict(k_list, v_list):\n",
    "    d = {}\n",
    "    for item in zip(k_list, v_list):\n",
    "        d[item[0]] = item[1]\n",
    "    return d"
   ]
  },
  {
   "cell_type": "code",
   "execution_count": 10,
   "id": "8c39d8f0-d8c2-4566-a251-a599024e82e1",
   "metadata": {},
   "outputs": [],
   "source": [
    "def write_txt(input_list):\n",
    "    label_path, text = input_list[0], input_list[1]\n",
    "    with open(label_path, 'a+') as f:\n",
    "        f.write(text)"
   ]
  },
  {
   "cell_type": "code",
   "execution_count": 11,
   "id": "84c6b63f-ed24-45ac-ac02-0fdcf68980b2",
   "metadata": {},
   "outputs": [],
   "source": [
    "model_label_map = {\n",
    "    0: 10,  # 鞋子\n",
    "    1: 8,  # 包包\n",
    "    2: 4,  # 上装\n",
    "    3: 5,  # 裤子\n",
    "    4: 6,  # 裙子\n",
    "    5: 7,  # 连体装\n",
    "}"
   ]
  },
  {
   "cell_type": "code",
   "execution_count": null,
   "id": "19fdbf71-a7f4-4b0b-802d-e5235f308327",
   "metadata": {},
   "outputs": [],
   "source": []
  },
  {
   "cell_type": "code",
   "execution_count": null,
   "id": "74117c96-9cf7-4a61-9aed-406bb416abb7",
   "metadata": {},
   "outputs": [],
   "source": []
  },
  {
   "cell_type": "code",
   "execution_count": 12,
   "id": "7db49836-ff79-4792-b18c-da59a1131162",
   "metadata": {},
   "outputs": [],
   "source": [
    "l2_map_l1 = get_list2dict( id_use_df['label99'].values, id_use_df['label_l1'].values)"
   ]
  },
  {
   "cell_type": "code",
   "execution_count": 13,
   "id": "11f95050-6947-46fa-954c-a06b5aa762e6",
   "metadata": {},
   "outputs": [],
   "source": [
    "id2chi_l2 = get_list2dict(id_use_df['label2_chi'].values, id_use_df['label99'].values)"
   ]
  },
  {
   "cell_type": "code",
   "execution_count": 14,
   "id": "f70934c2-7133-48d9-b790-f365259e6474",
   "metadata": {},
   "outputs": [],
   "source": [
    "id2eng_l2 = get_list2dict(id_use_df['label99'].values, id_use_df['label2_eng'].values)"
   ]
  },
  {
   "cell_type": "code",
   "execution_count": 15,
   "id": "142c1662-9ae3-4ead-a037-3c7191273b4d",
   "metadata": {},
   "outputs": [],
   "source": [
    "id2chi_l1 = get_list2dict(id_use_df['label_l1'].values, id_use_df['label1_chi'].values)"
   ]
  },
  {
   "cell_type": "code",
   "execution_count": 16,
   "id": "ef28a99f-05e7-422b-a8f3-cc9afa50725c",
   "metadata": {},
   "outputs": [],
   "source": [
    "id2eng_l1 = get_list2dict(id_use_df['label_l1'].values, id_use_df['label1_eng'].values)"
   ]
  },
  {
   "cell_type": "code",
   "execution_count": 17,
   "id": "b74e9691-15cc-44c3-bd67-66707045c4be",
   "metadata": {},
   "outputs": [],
   "source": [
    "id2model_l1 = get_list2dict(model_label_map.values(), model_label_map.keys())"
   ]
  },
  {
   "cell_type": "code",
   "execution_count": 18,
   "id": "bdac8d2e-5a1a-45cd-8a98-297a32272659",
   "metadata": {},
   "outputs": [],
   "source": [
    "shbg_map_dict = get_list2dict(shbg_map[shbg_map.columns[0]], shbg_map[shbg_map.columns[1]])"
   ]
  },
  {
   "cell_type": "code",
   "execution_count": null,
   "id": "6c2f791f-6f66-4d91-bf8c-53a511c2306a",
   "metadata": {},
   "outputs": [],
   "source": []
  },
  {
   "cell_type": "markdown",
   "id": "1354d993-c902-4efa-b5a0-4c9bc0bdfede",
   "metadata": {},
   "source": [
    "### 1.Dataset Information."
   ]
  },
  {
   "cell_type": "code",
   "execution_count": 19,
   "id": "539012cf-b527-4dca-9c9b-acc6468aa541",
   "metadata": {},
   "outputs": [],
   "source": [
    "import numpy as np"
   ]
  },
  {
   "cell_type": "code",
   "execution_count": 20,
   "id": "e9c44857-76ff-4b41-86ac-55675eab1ea0",
   "metadata": {},
   "outputs": [],
   "source": [
    "df = pd.read_csv('./data/shoe_bag11k_Jul.csv')"
   ]
  },
  {
   "cell_type": "code",
   "execution_count": 21,
   "id": "d686c50f-736e-453b-aa8a-3b0ce27350d6",
   "metadata": {},
   "outputs": [],
   "source": [
    "# p = '/home/chenyi/workspace/myPyModule99/data_format/haowei34k_voc_bboxes_relabel.csv'\n",
    "# openfashion_pd.to_csv(p, index=False)"
   ]
  },
  {
   "cell_type": "code",
   "execution_count": 22,
   "id": "9241b947-d928-4a73-b3b9-47e193c2bc3a",
   "metadata": {
    "tags": []
   },
   "outputs": [],
   "source": [
    "df['label_model'] = -1\n",
    "df['label_model'] =  df[df.columns[3]].apply(lambda x: shbg_map_dict[str(x)])"
   ]
  },
  {
   "cell_type": "code",
   "execution_count": 23,
   "id": "db5c7da4-be82-46bc-9021-d62e753cccf0",
   "metadata": {},
   "outputs": [],
   "source": [
    "df = df[df['label_model']>=0]"
   ]
  },
  {
   "cell_type": "code",
   "execution_count": null,
   "id": "6143f7ea-225b-4a9a-9c1a-ea5f6cedca56",
   "metadata": {},
   "outputs": [],
   "source": []
  },
  {
   "cell_type": "code",
   "execution_count": null,
   "id": "bb62b25d-36f6-41d9-8fc8-e90c82608b79",
   "metadata": {},
   "outputs": [],
   "source": []
  },
  {
   "cell_type": "markdown",
   "id": "69334bed-a545-4cfd-b00c-a6a44aac3ef3",
   "metadata": {
    "tags": []
   },
   "source": [
    "### 2.统计数据集"
   ]
  },
  {
   "cell_type": "code",
   "execution_count": 24,
   "id": "40f8d057-cc5b-4d06-be33-3c735678d737",
   "metadata": {},
   "outputs": [
    {
     "data": {
      "text/html": [
       "<div>\n",
       "<style scoped>\n",
       "    .dataframe tbody tr th:only-of-type {\n",
       "        vertical-align: middle;\n",
       "    }\n",
       "\n",
       "    .dataframe tbody tr th {\n",
       "        vertical-align: top;\n",
       "    }\n",
       "\n",
       "    .dataframe thead th {\n",
       "        text-align: right;\n",
       "    }\n",
       "</style>\n",
       "<table border=\"1\" class=\"dataframe\">\n",
       "  <thead>\n",
       "    <tr style=\"text-align: right;\">\n",
       "      <th></th>\n",
       "      <th>0</th>\n",
       "      <th>1</th>\n",
       "      <th>2</th>\n",
       "      <th>3</th>\n",
       "      <th>4</th>\n",
       "      <th>5</th>\n",
       "      <th>6</th>\n",
       "      <th>7</th>\n",
       "      <th>man</th>\n",
       "      <th>stem</th>\n",
       "      <th>path</th>\n",
       "      <th>label_model</th>\n",
       "    </tr>\n",
       "  </thead>\n",
       "  <tbody>\n",
       "    <tr>\n",
       "      <th>0</th>\n",
       "      <td>/nas/chenyi/datasets_nas/dada_labelme/labelme_...</td>\n",
       "      <td>3024</td>\n",
       "      <td>4032</td>\n",
       "      <td>包</td>\n",
       "      <td>685</td>\n",
       "      <td>719</td>\n",
       "      <td>2231</td>\n",
       "      <td>3806</td>\n",
       "      <td>lifengju</td>\n",
       "      <td>2018053014441155222</td>\n",
       "      <td>/home/chenyi/workspace/dataset/data/dada/shoe_...</td>\n",
       "      <td>1</td>\n",
       "    </tr>\n",
       "    <tr>\n",
       "      <th>1</th>\n",
       "      <td>/nas/chenyi/datasets_nas/dada_labelme/labelme_...</td>\n",
       "      <td>800</td>\n",
       "      <td>800</td>\n",
       "      <td>包</td>\n",
       "      <td>206</td>\n",
       "      <td>1</td>\n",
       "      <td>650</td>\n",
       "      <td>778</td>\n",
       "      <td>lifengju</td>\n",
       "      <td>2018031823531012935</td>\n",
       "      <td>/home/chenyi/workspace/dataset/data/dada/shoe_...</td>\n",
       "      <td>1</td>\n",
       "    </tr>\n",
       "    <tr>\n",
       "      <th>2</th>\n",
       "      <td>/nas/chenyi/datasets_nas/dada_labelme/labelme_...</td>\n",
       "      <td>800</td>\n",
       "      <td>800</td>\n",
       "      <td>包</td>\n",
       "      <td>197</td>\n",
       "      <td>103</td>\n",
       "      <td>724</td>\n",
       "      <td>431</td>\n",
       "      <td>lifengju</td>\n",
       "      <td>2018050611334121830</td>\n",
       "      <td>/home/chenyi/workspace/dataset/data/dada/shoe_...</td>\n",
       "      <td>1</td>\n",
       "    </tr>\n",
       "    <tr>\n",
       "      <th>3</th>\n",
       "      <td>/nas/chenyi/datasets_nas/dada_labelme/labelme_...</td>\n",
       "      <td>750</td>\n",
       "      <td>750</td>\n",
       "      <td>包</td>\n",
       "      <td>74</td>\n",
       "      <td>2</td>\n",
       "      <td>698</td>\n",
       "      <td>724</td>\n",
       "      <td>lifengju</td>\n",
       "      <td>2018050416361575803</td>\n",
       "      <td>/home/chenyi/workspace/dataset/data/dada/shoe_...</td>\n",
       "      <td>1</td>\n",
       "    </tr>\n",
       "    <tr>\n",
       "      <th>4</th>\n",
       "      <td>/nas/chenyi/datasets_nas/dada_labelme/labelme_...</td>\n",
       "      <td>800</td>\n",
       "      <td>800</td>\n",
       "      <td>包</td>\n",
       "      <td>76</td>\n",
       "      <td>198</td>\n",
       "      <td>755</td>\n",
       "      <td>731</td>\n",
       "      <td>lifengju</td>\n",
       "      <td>2018030623232873287</td>\n",
       "      <td>/home/chenyi/workspace/dataset/data/dada/shoe_...</td>\n",
       "      <td>1</td>\n",
       "    </tr>\n",
       "  </tbody>\n",
       "</table>\n",
       "</div>"
      ],
      "text/plain": [
       "                                                   0     1     2  3    4    5  \\\n",
       "0  /nas/chenyi/datasets_nas/dada_labelme/labelme_...  3024  4032  包  685  719   \n",
       "1  /nas/chenyi/datasets_nas/dada_labelme/labelme_...   800   800  包  206    1   \n",
       "2  /nas/chenyi/datasets_nas/dada_labelme/labelme_...   800   800  包  197  103   \n",
       "3  /nas/chenyi/datasets_nas/dada_labelme/labelme_...   750   750  包   74    2   \n",
       "4  /nas/chenyi/datasets_nas/dada_labelme/labelme_...   800   800  包   76  198   \n",
       "\n",
       "      6     7       man                 stem  \\\n",
       "0  2231  3806  lifengju  2018053014441155222   \n",
       "1   650   778  lifengju  2018031823531012935   \n",
       "2   724   431  lifengju  2018050611334121830   \n",
       "3   698   724  lifengju  2018050416361575803   \n",
       "4   755   731  lifengju  2018030623232873287   \n",
       "\n",
       "                                                path  label_model  \n",
       "0  /home/chenyi/workspace/dataset/data/dada/shoe_...            1  \n",
       "1  /home/chenyi/workspace/dataset/data/dada/shoe_...            1  \n",
       "2  /home/chenyi/workspace/dataset/data/dada/shoe_...            1  \n",
       "3  /home/chenyi/workspace/dataset/data/dada/shoe_...            1  \n",
       "4  /home/chenyi/workspace/dataset/data/dada/shoe_...            1  "
      ]
     },
     "execution_count": 24,
     "metadata": {},
     "output_type": "execute_result"
    }
   ],
   "source": [
    "df.head()"
   ]
  },
  {
   "cell_type": "code",
   "execution_count": 25,
   "id": "215f6ab6-e332-44f9-b6fc-daa14be4946b",
   "metadata": {},
   "outputs": [
    {
     "data": {
      "text/plain": [
       "label_model\n",
       "0    8859\n",
       "1    5022\n",
       "2     115\n",
       "3      58\n",
       "4      42\n",
       "5      23\n",
       "dtype: int64"
      ]
     },
     "execution_count": 25,
     "metadata": {},
     "output_type": "execute_result"
    }
   ],
   "source": [
    "df.value_counts('label_model')"
   ]
  },
  {
   "cell_type": "code",
   "execution_count": null,
   "id": "5b3b122b-3456-4b6c-9166-261b67936378",
   "metadata": {},
   "outputs": [],
   "source": []
  },
  {
   "cell_type": "code",
   "execution_count": null,
   "id": "09359bd1-92ed-42f1-b42f-d7e8e5b8e1ca",
   "metadata": {},
   "outputs": [],
   "source": []
  },
  {
   "cell_type": "markdown",
   "id": "d230ef38-2cfc-4c6d-b7bf-5fdc57710399",
   "metadata": {
    "tags": []
   },
   "source": [
    "#### 二级标签"
   ]
  },
  {
   "cell_type": "code",
   "execution_count": null,
   "id": "96d21617-f6df-47fc-ac60-4f6053816c85",
   "metadata": {},
   "outputs": [],
   "source": [
    "openfashion_pd.head(2)"
   ]
  },
  {
   "cell_type": "code",
   "execution_count": null,
   "id": "25de85bc-1d67-479b-92d2-283daaf59cb9",
   "metadata": {},
   "outputs": [],
   "source": [
    "openfashion_pd[openfashion_pd['label8']==5].value_counts('label43')"
   ]
  },
  {
   "cell_type": "code",
   "execution_count": null,
   "id": "ffe554d4-3b7f-47b8-872d-9ce6a85274fc",
   "metadata": {},
   "outputs": [],
   "source": [
    "counter = openfashion_pd.value_counts('label_num').sort_index()"
   ]
  },
  {
   "cell_type": "code",
   "execution_count": null,
   "id": "9c020168-21ef-481c-bc92-0d20ffede26d",
   "metadata": {},
   "outputs": [],
   "source": [
    "id_list = np.array(counter.axes)[0]\n",
    "numbers = counter.values\n",
    "name_list = [str(x) + ':' + str(id2eng_l2[hw2stand[str(x)][0]]) for x in id_list]"
   ]
  },
  {
   "cell_type": "code",
   "execution_count": null,
   "id": "a5e3199e-bad8-4196-9397-afd04fcde19d",
   "metadata": {
    "tags": []
   },
   "outputs": [],
   "source": [
    "plt.figure(figsize=(25, 7))\n",
    "plt.xticks(list(range(len(name_list))), name_list, rotation=75, fontsize=14)\n",
    "plt.bar(name_list, numbers, width=0.5)  # 绘制y刻度标签\n",
    "for a, b in zip(name_list, numbers):\n",
    "    plt.text(a, b, b, ha='center', va='bottom')\n",
    "plt.show()"
   ]
  },
  {
   "cell_type": "code",
   "execution_count": null,
   "id": "ef796178-9f6c-408f-9b4a-98d23658e25d",
   "metadata": {},
   "outputs": [],
   "source": []
  },
  {
   "cell_type": "code",
   "execution_count": null,
   "id": "90c55790-5885-4d6b-9d8e-89e9bff526e4",
   "metadata": {},
   "outputs": [],
   "source": []
  },
  {
   "cell_type": "markdown",
   "id": "9eb7f2d0-68d5-4f5f-b3db-ea2761fe466d",
   "metadata": {
    "jp-MarkdownHeadingCollapsed": true,
    "tags": []
   },
   "source": [
    "#### 一级标签"
   ]
  },
  {
   "cell_type": "code",
   "execution_count": null,
   "id": "6b8a3f18-4e44-4946-9414-08e44d0d3b9a",
   "metadata": {},
   "outputs": [],
   "source": [
    "openfashion_pd.head()"
   ]
  },
  {
   "cell_type": "code",
   "execution_count": null,
   "id": "820bb490-4b68-4262-9596-d2dbfbd25eea",
   "metadata": {},
   "outputs": [],
   "source": [
    "counter = openfashion_pd.value_counts('label8').sort_index()"
   ]
  },
  {
   "cell_type": "code",
   "execution_count": null,
   "id": "da7d0eea-24f5-49db-9639-616a284747a7",
   "metadata": {},
   "outputs": [],
   "source": [
    "id_list = np.array(counter.axes)[0]\n",
    "numbers = counter.values\n",
    "name_list = [str(x) + ':' + id2eng_l1[x] for x in id_list]"
   ]
  },
  {
   "cell_type": "code",
   "execution_count": null,
   "id": "84250c81-b29c-42c7-9b1f-93249ca93722",
   "metadata": {},
   "outputs": [],
   "source": [
    "plt.figure(figsize=(25, 7))\n",
    "plt.xticks(list(range(len(name_list))), name_list, rotation=75, fontsize=14)\n",
    "plt.bar(name_list, numbers, width=0.5)  # 绘制y刻度标签\n",
    "for a, b in zip(name_list, numbers):\n",
    "    plt.text(a, b, b, ha='center', va='bottom')\n",
    "plt.show()"
   ]
  },
  {
   "cell_type": "code",
   "execution_count": null,
   "id": "90624d36-dd31-4e7a-9978-30f393fa57fa",
   "metadata": {},
   "outputs": [],
   "source": []
  },
  {
   "cell_type": "code",
   "execution_count": null,
   "id": "7c209f3c-2110-44b0-a4d3-d7abd6af494c",
   "metadata": {},
   "outputs": [],
   "source": []
  },
  {
   "cell_type": "markdown",
   "id": "273eaaf3-f51b-4a7a-af9c-908fc136eda6",
   "metadata": {
    "jp-MarkdownHeadingCollapsed": true,
    "tags": []
   },
   "source": [
    "#### Haowei34k_conf"
   ]
  },
  {
   "cell_type": "code",
   "execution_count": null,
   "id": "043b3f70-6585-4faf-89c8-07ef597f21fd",
   "metadata": {},
   "outputs": [],
   "source": [
    "!ls /nas/chenyi/dataset_apparel_nas/"
   ]
  },
  {
   "cell_type": "code",
   "execution_count": null,
   "id": "76028d4c-2d19-4cb9-8bbc-0dac6b29b140",
   "metadata": {},
   "outputs": [],
   "source": [
    "hw_data_p = '/nas/chenyi/dataset_apparel_nas/haowei34k_conf7.csv'"
   ]
  },
  {
   "cell_type": "code",
   "execution_count": null,
   "id": "47ec4326-9828-4caa-a685-07982bad5b7c",
   "metadata": {},
   "outputs": [],
   "source": [
    "hw_data_df = pd.read_csv(hw_data_p)"
   ]
  },
  {
   "cell_type": "code",
   "execution_count": null,
   "id": "670a5f53-932a-408f-9bb9-42b05094b2d5",
   "metadata": {},
   "outputs": [],
   "source": [
    "hw_data_df.head()"
   ]
  },
  {
   "cell_type": "code",
   "execution_count": null,
   "id": "db5905e7-3087-49c3-9399-1fd8fa2959ce",
   "metadata": {},
   "outputs": [],
   "source": []
  },
  {
   "cell_type": "code",
   "execution_count": null,
   "id": "2686bd84-e2bb-4fbd-8c1e-5c57db48e8f7",
   "metadata": {},
   "outputs": [],
   "source": []
  },
  {
   "cell_type": "code",
   "execution_count": null,
   "id": "9d1c0fed-ec06-49d1-a2c3-08d83b8e28e4",
   "metadata": {},
   "outputs": [],
   "source": [
    "counter_hw = hw_data_df['label_2'].value_counts()"
   ]
  },
  {
   "cell_type": "code",
   "execution_count": null,
   "id": "aeb76497-8988-4952-a18b-4abacbfeb0cc",
   "metadata": {},
   "outputs": [],
   "source": [
    "id_list = np.array(counter_hw.axes)[0]\n",
    "numbers = counter_hw.values\n",
    "name_list = [str(x) + ':' + names[x][1] for x in id_list]"
   ]
  },
  {
   "cell_type": "code",
   "execution_count": null,
   "id": "74000810-7d61-4773-86b6-6d9109797c54",
   "metadata": {},
   "outputs": [],
   "source": [
    "plt.figure(figsize=(25, 7))\n",
    "plt.xticks(list(range(len(name_list))), name_list, rotation=50, fontsize=14)\n",
    "plt.bar(name_list, numbers, width=0.5)  # 绘制y刻度标签\n",
    "for a, b in zip(name_list, numbers):\n",
    "    plt.text(a, b, b, ha='center', va='bottom')\n",
    "plt.show()"
   ]
  },
  {
   "cell_type": "code",
   "execution_count": null,
   "id": "d81f9689-5ad3-48d3-9841-81ed3814b6c8",
   "metadata": {},
   "outputs": [],
   "source": []
  },
  {
   "cell_type": "code",
   "execution_count": null,
   "id": "08ccdfb9-fbda-4051-9188-692ec9575695",
   "metadata": {},
   "outputs": [],
   "source": []
  },
  {
   "cell_type": "markdown",
   "id": "ccb9c20f-8bc5-4c9f-a7d6-bff7121e9c5a",
   "metadata": {
    "tags": []
   },
   "source": [
    "### target label"
   ]
  },
  {
   "cell_type": "code",
   "execution_count": null,
   "id": "247d71f0-bfea-41c5-b88e-504840e806b9",
   "metadata": {},
   "outputs": [],
   "source": [
    "df = openfashion_pd[openfashion_pd['label8']>=0].copy(deep=True)"
   ]
  },
  {
   "cell_type": "code",
   "execution_count": null,
   "id": "b0f6dcc9-de38-493a-aa39-d2f50522f8c6",
   "metadata": {},
   "outputs": [],
   "source": [
    "len(df),len(openfashion_pd)"
   ]
  },
  {
   "cell_type": "code",
   "execution_count": null,
   "id": "40a8cb41-1988-4b81-bd6c-377ebd0230be",
   "metadata": {},
   "outputs": [],
   "source": [
    "df['label_model'] = -1"
   ]
  },
  {
   "cell_type": "code",
   "execution_count": null,
   "id": "ecc816d6-b52d-4134-a937-5e6321658002",
   "metadata": {},
   "outputs": [],
   "source": [
    "df['label_model'] = df['label8'].map(lambda x: id2model_l1[x])"
   ]
  },
  {
   "cell_type": "code",
   "execution_count": null,
   "id": "00f32a8f-2a3e-4deb-b0f6-9a3639724b52",
   "metadata": {},
   "outputs": [],
   "source": []
  },
  {
   "cell_type": "code",
   "execution_count": null,
   "id": "9baa695b-4137-4f0d-abba-a95b7c38bd47",
   "metadata": {},
   "outputs": [],
   "source": []
  },
  {
   "cell_type": "markdown",
   "id": "b922a49e-e0ca-4dc8-88d2-adbf67262d8e",
   "metadata": {},
   "source": [
    "#### target label path"
   ]
  },
  {
   "cell_type": "code",
   "execution_count": null,
   "id": "2dad0da4-a120-4e03-975f-2d9f7534cedf",
   "metadata": {},
   "outputs": [],
   "source": [
    "!ls /home/chenyi/workspace/dataset/hw_pedia_true/"
   ]
  },
  {
   "cell_type": "code",
   "execution_count": null,
   "id": "69701ef5-7405-4093-bb8b-556caac25cf1",
   "metadata": {},
   "outputs": [],
   "source": [
    "root = '/home/chenyi/workspace/dataset/hw_pedia_may/labels6/'"
   ]
  },
  {
   "cell_type": "code",
   "execution_count": null,
   "id": "9b6d19d1-47a0-4187-a165-ee80acecbbdc",
   "metadata": {},
   "outputs": [],
   "source": [
    "df['label_tpath'] = df.apply(lambda row: Path('{0}{1}/{2}.txt'.format(root, row['mode'], row['fname'])), axis=1)"
   ]
  },
  {
   "cell_type": "code",
   "execution_count": 73,
   "id": "1c3887cd-0ad2-452b-9a92-bf7fcf55dffa",
   "metadata": {},
   "outputs": [
    {
     "data": {
      "text/html": [
       "<div>\n",
       "<style scoped>\n",
       "    .dataframe tbody tr th:only-of-type {\n",
       "        vertical-align: middle;\n",
       "    }\n",
       "\n",
       "    .dataframe tbody tr th {\n",
       "        vertical-align: top;\n",
       "    }\n",
       "\n",
       "    .dataframe thead th {\n",
       "        text-align: right;\n",
       "    }\n",
       "</style>\n",
       "<table border=\"1\" class=\"dataframe\">\n",
       "  <thead>\n",
       "    <tr style=\"text-align: right;\">\n",
       "      <th></th>\n",
       "      <th>0</th>\n",
       "      <th>1</th>\n",
       "      <th>2</th>\n",
       "      <th>3</th>\n",
       "      <th>4</th>\n",
       "      <th>5</th>\n",
       "      <th>6</th>\n",
       "      <th>7</th>\n",
       "      <th>man</th>\n",
       "      <th>stem</th>\n",
       "      <th>path</th>\n",
       "      <th>label_model</th>\n",
       "    </tr>\n",
       "  </thead>\n",
       "  <tbody>\n",
       "    <tr>\n",
       "      <th>0</th>\n",
       "      <td>/nas/chenyi/datasets_nas/dada_labelme/labelme_...</td>\n",
       "      <td>3024</td>\n",
       "      <td>4032</td>\n",
       "      <td>包</td>\n",
       "      <td>685</td>\n",
       "      <td>719</td>\n",
       "      <td>2231</td>\n",
       "      <td>3806</td>\n",
       "      <td>lifengju</td>\n",
       "      <td>2018053014441155222</td>\n",
       "      <td>/home/chenyi/workspace/dataset/data/dada/shoe_...</td>\n",
       "      <td>1</td>\n",
       "    </tr>\n",
       "    <tr>\n",
       "      <th>1</th>\n",
       "      <td>/nas/chenyi/datasets_nas/dada_labelme/labelme_...</td>\n",
       "      <td>800</td>\n",
       "      <td>800</td>\n",
       "      <td>包</td>\n",
       "      <td>206</td>\n",
       "      <td>1</td>\n",
       "      <td>650</td>\n",
       "      <td>778</td>\n",
       "      <td>lifengju</td>\n",
       "      <td>2018031823531012935</td>\n",
       "      <td>/home/chenyi/workspace/dataset/data/dada/shoe_...</td>\n",
       "      <td>1</td>\n",
       "    </tr>\n",
       "    <tr>\n",
       "      <th>2</th>\n",
       "      <td>/nas/chenyi/datasets_nas/dada_labelme/labelme_...</td>\n",
       "      <td>800</td>\n",
       "      <td>800</td>\n",
       "      <td>包</td>\n",
       "      <td>197</td>\n",
       "      <td>103</td>\n",
       "      <td>724</td>\n",
       "      <td>431</td>\n",
       "      <td>lifengju</td>\n",
       "      <td>2018050611334121830</td>\n",
       "      <td>/home/chenyi/workspace/dataset/data/dada/shoe_...</td>\n",
       "      <td>1</td>\n",
       "    </tr>\n",
       "    <tr>\n",
       "      <th>3</th>\n",
       "      <td>/nas/chenyi/datasets_nas/dada_labelme/labelme_...</td>\n",
       "      <td>750</td>\n",
       "      <td>750</td>\n",
       "      <td>包</td>\n",
       "      <td>74</td>\n",
       "      <td>2</td>\n",
       "      <td>698</td>\n",
       "      <td>724</td>\n",
       "      <td>lifengju</td>\n",
       "      <td>2018050416361575803</td>\n",
       "      <td>/home/chenyi/workspace/dataset/data/dada/shoe_...</td>\n",
       "      <td>1</td>\n",
       "    </tr>\n",
       "    <tr>\n",
       "      <th>4</th>\n",
       "      <td>/nas/chenyi/datasets_nas/dada_labelme/labelme_...</td>\n",
       "      <td>800</td>\n",
       "      <td>800</td>\n",
       "      <td>包</td>\n",
       "      <td>76</td>\n",
       "      <td>198</td>\n",
       "      <td>755</td>\n",
       "      <td>731</td>\n",
       "      <td>lifengju</td>\n",
       "      <td>2018030623232873287</td>\n",
       "      <td>/home/chenyi/workspace/dataset/data/dada/shoe_...</td>\n",
       "      <td>1</td>\n",
       "    </tr>\n",
       "  </tbody>\n",
       "</table>\n",
       "</div>"
      ],
      "text/plain": [
       "                                                   0     1     2  3    4    5  \\\n",
       "0  /nas/chenyi/datasets_nas/dada_labelme/labelme_...  3024  4032  包  685  719   \n",
       "1  /nas/chenyi/datasets_nas/dada_labelme/labelme_...   800   800  包  206    1   \n",
       "2  /nas/chenyi/datasets_nas/dada_labelme/labelme_...   800   800  包  197  103   \n",
       "3  /nas/chenyi/datasets_nas/dada_labelme/labelme_...   750   750  包   74    2   \n",
       "4  /nas/chenyi/datasets_nas/dada_labelme/labelme_...   800   800  包   76  198   \n",
       "\n",
       "      6     7       man                 stem  \\\n",
       "0  2231  3806  lifengju  2018053014441155222   \n",
       "1   650   778  lifengju  2018031823531012935   \n",
       "2   724   431  lifengju  2018050611334121830   \n",
       "3   698   724  lifengju  2018050416361575803   \n",
       "4   755   731  lifengju  2018030623232873287   \n",
       "\n",
       "                                                path  label_model  \n",
       "0  /home/chenyi/workspace/dataset/data/dada/shoe_...            1  \n",
       "1  /home/chenyi/workspace/dataset/data/dada/shoe_...            1  \n",
       "2  /home/chenyi/workspace/dataset/data/dada/shoe_...            1  \n",
       "3  /home/chenyi/workspace/dataset/data/dada/shoe_...            1  \n",
       "4  /home/chenyi/workspace/dataset/data/dada/shoe_...            1  "
      ]
     },
     "execution_count": 73,
     "metadata": {},
     "output_type": "execute_result"
    }
   ],
   "source": [
    "df.head()"
   ]
  },
  {
   "cell_type": "code",
   "execution_count": 33,
   "id": "5b46f5b1-6be5-4ed8-847b-a3e96c7c8fe9",
   "metadata": {},
   "outputs": [
    {
     "name": "stdout",
     "output_type": "stream",
     "text": [
      "benchmark  code  datasets_cls  datasets_nas  scripts_data  share  tools\n"
     ]
    }
   ],
   "source": [
    "!ls /nas/chenyi/"
   ]
  },
  {
   "cell_type": "code",
   "execution_count": null,
   "id": "5d493ec6-17f8-45c9-b7fc-928982f34c4b",
   "metadata": {},
   "outputs": [],
   "source": []
  },
  {
   "cell_type": "markdown",
   "id": "ae551ebb-adcd-43ef-a074-16f4d2f2a320",
   "metadata": {
    "tags": []
   },
   "source": [
    "#### 生成txt"
   ]
  },
  {
   "cell_type": "code",
   "execution_count": 26,
   "id": "7abe5cbf-ef96-461a-a35a-40592f069cc4",
   "metadata": {},
   "outputs": [],
   "source": [
    "sys.path.append('../../')"
   ]
  },
  {
   "cell_type": "code",
   "execution_count": 27,
   "id": "3a7be887-a584-499d-ae17-371372d74315",
   "metadata": {},
   "outputs": [],
   "source": [
    "from utils.bbox.conversation import bbox_coco2voc,bbox_voc2yolo,bbox_yolo2voc"
   ]
  },
  {
   "cell_type": "code",
   "execution_count": null,
   "id": "028a429c-47e6-41b9-9ba6-ea0943121048",
   "metadata": {},
   "outputs": [],
   "source": []
  },
  {
   "cell_type": "code",
   "execution_count": 28,
   "id": "47b5d2f8-647a-4397-b3ce-3c88aad22cff",
   "metadata": {},
   "outputs": [
    {
     "data": {
      "text/plain": [
       "Index(['0', '1', '2', '3', '4', '5', '6', '7', 'man', 'stem', 'path',\n",
       "       'label_model'],\n",
       "      dtype='object')"
      ]
     },
     "execution_count": 28,
     "metadata": {},
     "output_type": "execute_result"
    }
   ],
   "source": [
    "df.columns[]"
   ]
  },
  {
   "cell_type": "code",
   "execution_count": 29,
   "id": "db0f5140-8acb-423f-ad3b-ab609c4d4381",
   "metadata": {},
   "outputs": [
    {
     "name": "stderr",
     "output_type": "stream",
     "text": [
      "0it [00:00, ?it/s]\n"
     ]
    }
   ],
   "source": [
    "bboxes_list = []\n",
    "for ind,row in tqdm(df.iterrows()):\n",
    "    bbox7 = row.loc[['label_model', '4', '5', '6', '7', '1', '2']].values.tolist()\n",
    "    bbox5 = bbox7[:6]\n",
    "    bbox5[1:] = bbox_voc2yolo(bbox5[1:], bbox7[5], bbox7[6])\n",
    "    bbox5_str = '{0:.0f} {1:.6f} {2:.6f} {3:.6f} {4:.6f}\\n'.format(*bbox5)\n",
    "    bboxes_list.append(bbox5_str)\n",
    "    break"
   ]
  },
  {
   "cell_type": "code",
   "execution_count": null,
   "id": "0ee60995-1580-4b8b-a38a-4df40f397d30",
   "metadata": {},
   "outputs": [],
   "source": []
  },
  {
   "cell_type": "code",
   "execution_count": null,
   "id": "0aa6944a-22a4-4ec9-a44c-b7b239acef39",
   "metadata": {},
   "outputs": [],
   "source": []
  },
  {
   "cell_type": "code",
   "execution_count": null,
   "id": "61356de9-cf2e-4dca-852f-426ff9828e86",
   "metadata": {},
   "outputs": [],
   "source": [
    "%%time\n",
    "input_list = df.apply(lambda x: \n",
    "                        [x['label_sp'], \n",
    "                         '{0:.0f} {1:.6f} {2:.6f} {3:.6f} {4:.6f}\\n'.format(\n",
    "                             *x.loc[['label8', 'bx1','bx2', 'bx3', 'bx4',]])], \n",
    "                        axis=1)"
   ]
  },
  {
   "cell_type": "code",
   "execution_count": null,
   "id": "867e7ab2-a34c-4dd5-b36c-f70f8a0f0189",
   "metadata": {},
   "outputs": [],
   "source": []
  },
  {
   "cell_type": "code",
   "execution_count": null,
   "id": "e1f3ac86-6d97-4e82-800e-a84458413e8f",
   "metadata": {},
   "outputs": [],
   "source": [
    "def write_txt(label_path, text):\n",
    "    # label_path, text = input_list[0], input_list[1]\n",
    "    label_path = Path(label_path)\n",
    "    p_parent = label_path.parent\n",
    "    if not p_parent.is_dir():\n",
    "        p_parent.mkdir()\n",
    "    if not p_parent.is_file():\n",
    "        with open(label_path, 'a+') as f:\n",
    "            f.write(text)"
   ]
  },
  {
   "cell_type": "code",
   "execution_count": null,
   "id": "b608ed89-10e1-4bfe-a235-d5239ab108c7",
   "metadata": {},
   "outputs": [],
   "source": [
    "for label_path, text in tqdm(zip(df['label_tpath'].values, bboxes_list)):\n",
    "    write_txt(label_path, text)\n",
    "    # break"
   ]
  },
  {
   "cell_type": "code",
   "execution_count": null,
   "id": "9d5c5dbd-a872-4819-8446-ecec1ec17b55",
   "metadata": {},
   "outputs": [],
   "source": [
    "label_path,text"
   ]
  },
  {
   "cell_type": "code",
   "execution_count": null,
   "id": "549a5700-86aa-4f37-8010-7213253765be",
   "metadata": {},
   "outputs": [],
   "source": [
    "!cat $label_path"
   ]
  },
  {
   "cell_type": "code",
   "execution_count": null,
   "id": "6e23d96d-ede0-421c-9d19-f43ea6e6047f",
   "metadata": {},
   "outputs": [],
   "source": []
  },
  {
   "cell_type": "code",
   "execution_count": null,
   "id": "b00c7078-1c8a-43b6-9bce-5889fca1d0a1",
   "metadata": {},
   "outputs": [],
   "source": []
  },
  {
   "cell_type": "markdown",
   "id": "0e265dd4-82a0-46b8-b756-a59f13b88c4f",
   "metadata": {
    "tags": []
   },
   "source": [
    "#### 生成软连接的path"
   ]
  },
  {
   "cell_type": "code",
   "execution_count": null,
   "id": "0b2f8086-c149-4e44-8c55-65ca15a7df90",
   "metadata": {},
   "outputs": [],
   "source": [
    "!tree -d L 2 /home/chenyi/workspace/dataset/data/haowei34k/images/"
   ]
  },
  {
   "cell_type": "code",
   "execution_count": null,
   "id": "eff0a8b5-a0bd-4260-ae68-5ef6dd2c0185",
   "metadata": {},
   "outputs": [],
   "source": [
    "!tree -d L 2 /home/chenyi/workspace/yolov5/datasets/hw_pedia_may/"
   ]
  },
  {
   "cell_type": "code",
   "execution_count": null,
   "id": "dab763c7-ca9c-478d-80e0-9756520afc76",
   "metadata": {},
   "outputs": [],
   "source": [
    "# !mkdir -p /home/chenyi/workspace/yolov5/datasets/hw_pedia_may/labels/train"
   ]
  },
  {
   "cell_type": "code",
   "execution_count": null,
   "id": "2cd56dc5-d717-40bb-ad09-8d0050378fc0",
   "metadata": {},
   "outputs": [],
   "source": []
  },
  {
   "cell_type": "code",
   "execution_count": null,
   "id": "7a9161f4-29f2-4c47-84cc-ccbdc3e772e8",
   "metadata": {},
   "outputs": [],
   "source": [
    "drop_df = df.drop_duplicates('label_tpath')"
   ]
  },
  {
   "cell_type": "code",
   "execution_count": null,
   "id": "bac5c320-bb01-4e9a-8af3-1debe4c06d1d",
   "metadata": {},
   "outputs": [],
   "source": [
    "slink_df = pd.DataFrame()\n",
    "slink_df['fname'] = drop_df['fname']\n",
    "slink_df['label_spath'] = drop_df['label_tpath']"
   ]
  },
  {
   "cell_type": "code",
   "execution_count": null,
   "id": "19c3d3e2-a947-4072-9229-83ac2699ed02",
   "metadata": {},
   "outputs": [],
   "source": [
    "root = Path('/home/chenyi/workspace/yolov5/datasets/hw_pedia_true/')\n",
    "data_root = Path('/home/chenyi/workspace/dataset/data/haowei34k/')"
   ]
  },
  {
   "cell_type": "code",
   "execution_count": null,
   "id": "602075eb-0bf2-41c0-94d3-1cc80e46ed0c",
   "metadata": {},
   "outputs": [],
   "source": []
  },
  {
   "cell_type": "code",
   "execution_count": null,
   "id": "29e2fef9-bb6c-4b0c-90ec-ca02e590d4b9",
   "metadata": {},
   "outputs": [],
   "source": [
    "slink_df['label_tpath'] = slink_df['label_spath'].apply(lambda x: root /'labels' /x.parts[-2]/x.parts[-1])"
   ]
  },
  {
   "cell_type": "code",
   "execution_count": null,
   "id": "0aafdd3b-f86c-4efd-8761-2be9521fdb48",
   "metadata": {},
   "outputs": [],
   "source": [
    "slink_df['image_tpath'] = slink_df['label_spath'].apply(lambda x: root /'images' /x.parts[-2]/x.parts[-1])\n",
    "slink_df['image_tpath'] = slink_df['image_tpath'].apply(lambda x: x.with_suffix('.jpg'))"
   ]
  },
  {
   "cell_type": "code",
   "execution_count": null,
   "id": "06cc3840-449b-4e3a-89b0-97a30a0acb35",
   "metadata": {},
   "outputs": [],
   "source": [
    "slink_df['image_spath'] = slink_df['image_tpath'].apply(lambda x: troot /'images' /x.parts[-2]/x.parts[-1])"
   ]
  },
  {
   "cell_type": "code",
   "execution_count": null,
   "id": "78343685-b1a7-4c41-8cb2-05dbd1b8ae5d",
   "metadata": {},
   "outputs": [],
   "source": []
  },
  {
   "cell_type": "code",
   "execution_count": null,
   "id": "05e60805-2b38-4fa5-abd2-8e8242907dfb",
   "metadata": {},
   "outputs": [],
   "source": []
  },
  {
   "cell_type": "markdown",
   "id": "67827dd9-ace5-47ec-acdb-71e72ffc88e1",
   "metadata": {},
   "source": [
    "#### 直接读取slink.csv"
   ]
  },
  {
   "cell_type": "code",
   "execution_count": null,
   "id": "803e6039-ed46-4081-94b3-d7a2b75ef36a",
   "metadata": {},
   "outputs": [],
   "source": [
    "slink_df = pd.read_csv('./data/hw34k_level1_slink.csv')"
   ]
  },
  {
   "cell_type": "code",
   "execution_count": null,
   "id": "26ba4ee3-9a92-4990-8bd9-e7194c443176",
   "metadata": {},
   "outputs": [],
   "source": [
    "slink_df.head(2).values"
   ]
  },
  {
   "cell_type": "code",
   "execution_count": null,
   "id": "55c2b867-b7af-467b-9646-99fb5d110ca5",
   "metadata": {},
   "outputs": [],
   "source": [
    "slink_df['image_tpath'] = slink_df['image_tpath'].apply(lambda x:x.replace('/datasets/hw_pedia_may/images/', '/datasets/hw_pedia_true/images/'))"
   ]
  },
  {
   "cell_type": "code",
   "execution_count": null,
   "id": "d54c79a6-c4d9-41b5-a44a-7a5e53e3646e",
   "metadata": {},
   "outputs": [],
   "source": [
    "slink_df['label_tpath'] = slink_df['label_tpath'].apply(lambda x:x.replace('/datasets/hw_pedia_may/labels/', '/datasets/hw_pedia_true/labels/'))"
   ]
  },
  {
   "cell_type": "code",
   "execution_count": null,
   "id": "7c92db77-46fd-4c2b-8894-a6c266d05909",
   "metadata": {},
   "outputs": [],
   "source": [
    "slink_df.head(2)"
   ]
  },
  {
   "cell_type": "code",
   "execution_count": null,
   "id": "3db94b75-23ab-4eb8-9aa9-67c1b55eadd6",
   "metadata": {},
   "outputs": [],
   "source": []
  },
  {
   "cell_type": "markdown",
   "id": "31456e3a-4b13-41d1-b3f3-29f0a4e9c7f2",
   "metadata": {},
   "source": [
    "#### 生成sym link"
   ]
  },
  {
   "cell_type": "code",
   "execution_count": null,
   "id": "6bfbd252-58d0-4a7b-b404-adefeb1dcd85",
   "metadata": {},
   "outputs": [],
   "source": [
    "!tree  -d -L 2 /home/chenyi/workspace/yolov5/datasets/hw_pedia_true/"
   ]
  },
  {
   "cell_type": "code",
   "execution_count": null,
   "id": "671b3af9-6384-40ee-8726-c169908984e6",
   "metadata": {},
   "outputs": [],
   "source": [
    "slink_df.head(2)"
   ]
  },
  {
   "cell_type": "code",
   "execution_count": null,
   "id": "6b5a0227-b70b-4e43-b834-04234550a536",
   "metadata": {},
   "outputs": [],
   "source": [
    "%%time\n",
    "# _ = slink_df.apply(lambda row: Path.li(row['image_spath'], row['image_tpath']), axis=1)\n",
    "_ = slink_df.apply(lambda row: Path.link_to(Path(row['image_spath']), Path(row['image_tpath'])), axis=1)"
   ]
  },
  {
   "cell_type": "code",
   "execution_count": null,
   "id": "5f2dfc8e-2177-4a62-96ff-bc7d334dbc1c",
   "metadata": {},
   "outputs": [],
   "source": [
    "%%time\n",
    "_ = slink_df.apply(lambda row: Path.link_to(Path(row['label_spath']), Path(row['label_tpath'])), axis=1)"
   ]
  },
  {
   "cell_type": "code",
   "execution_count": null,
   "id": "c4668dc3-4c5c-4c1b-8d93-d44f92a30dfa",
   "metadata": {},
   "outputs": [],
   "source": []
  },
  {
   "cell_type": "code",
   "execution_count": null,
   "id": "c44cc7de-a1a9-424c-9bd6-dbe694361464",
   "metadata": {},
   "outputs": [],
   "source": [
    "len(glob.glob('/home/chenyi/workspace/yolov5/datasets/hw_pedia_true/images/*/*.jpg'))"
   ]
  },
  {
   "cell_type": "code",
   "execution_count": null,
   "id": "c803d067-ece4-4de3-a1c0-7ee18a6fc9aa",
   "metadata": {},
   "outputs": [],
   "source": [
    "len(glob.glob('/home/chenyi/workspace/yolov5/datasets/hw_pedia_true/labels/*/*.txt'))"
   ]
  },
  {
   "cell_type": "code",
   "execution_count": null,
   "id": "1fc942ac-1f23-4c91-a364-ec900458d987",
   "metadata": {},
   "outputs": [],
   "source": [
    "p = str(slink_df['label_tpath'][0])\n",
    "!cat $p"
   ]
  },
  {
   "cell_type": "code",
   "execution_count": null,
   "id": "8cffff69-01d6-4a6b-a8c4-8fa86f156cad",
   "metadata": {},
   "outputs": [],
   "source": [
    "Image.open(slink_df['image_tpath'][0])"
   ]
  },
  {
   "cell_type": "code",
   "execution_count": null,
   "id": "92c05cad-3694-4a3f-b1ad-2366ef04c22a",
   "metadata": {},
   "outputs": [],
   "source": []
  },
  {
   "cell_type": "code",
   "execution_count": null,
   "id": "3b801bd9-4199-4bc7-9326-eaf3b23ab77f",
   "metadata": {},
   "outputs": [],
   "source": []
  }
 ],
 "metadata": {
  "kernelspec": {
   "display_name": "Python 3 (ipykernel)",
   "language": "python",
   "name": "python3"
  },
  "language_info": {
   "codemirror_mode": {
    "name": "ipython",
    "version": 3
   },
   "file_extension": ".py",
   "mimetype": "text/x-python",
   "name": "python",
   "nbconvert_exporter": "python",
   "pygments_lexer": "ipython3",
   "version": "3.8.13"
  }
 },
 "nbformat": 4,
 "nbformat_minor": 5
}
