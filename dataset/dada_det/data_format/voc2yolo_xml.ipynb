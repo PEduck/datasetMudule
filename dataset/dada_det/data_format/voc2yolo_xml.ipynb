{
 "cells": [
  {
   "cell_type": "code",
   "execution_count": 1,
   "id": "61440fc4-64c2-4347-b092-b921a1ffdced",
   "metadata": {},
   "outputs": [],
   "source": [
    "import shutil\n",
    "import optparse\n",
    "from os import listdir, mkdir\n",
    "from os.path import abspath, join, exists\n",
    "from codecs import open\n",
    "from lxml import etree\n",
    "from math import floor\n",
    "import glob"
   ]
  },
  {
   "cell_type": "code",
   "execution_count": 2,
   "id": "0c977c2d-9e98-4ff3-9028-ddb6d67ccfb2",
   "metadata": {},
   "outputs": [],
   "source": [
    "from pathlib import Path\n",
    "from tqdm import tqdm"
   ]
  },
  {
   "cell_type": "code",
   "execution_count": 3,
   "id": "363626fe-f1f4-4068-831f-322a201c8730",
   "metadata": {},
   "outputs": [],
   "source": [
    "import pandas as pd\n",
    "import os,sys"
   ]
  },
  {
   "cell_type": "code",
   "execution_count": null,
   "id": "6e949893-e57a-40c2-b22b-3ccace0fce88",
   "metadata": {},
   "outputs": [],
   "source": []
  },
  {
   "cell_type": "code",
   "execution_count": null,
   "id": "67b62593-bc5c-4dcc-b9a7-72771451aa66",
   "metadata": {},
   "outputs": [],
   "source": []
  },
  {
   "cell_type": "markdown",
   "id": "6d44faae-33d0-45f8-80ec-94e02ec61eff",
   "metadata": {
    "tags": []
   },
   "source": [
    "### 整合数据集"
   ]
  },
  {
   "cell_type": "code",
   "execution_count": 6,
   "id": "ba7439dd-665d-4f23-ab50-82798dd1cb53",
   "metadata": {},
   "outputs": [],
   "source": [
    "import shutil\n",
    "def copy_data(plist, mode='copy'):\n",
    "    ps = plist[0]\n",
    "    pt = plist[1]\n",
    "    if mode=='move':\n",
    "        shutil.move(ps, pt)\n",
    "    else:\n",
    "        shutil.copyfile(ps, pt)"
   ]
  },
  {
   "cell_type": "code",
   "execution_count": 162,
   "id": "f28da41f-de5c-4dc7-802e-8785ee0a8452",
   "metadata": {},
   "outputs": [],
   "source": [
    "names = {0: ['小西装', 'Suit_xizhuang'],  \n",
    " 1: ['毛衣/绒衣/针织衫', 'Sweater/knit'],   \n",
    " 2: ['女衫类', 'Blouses '],   \n",
    " 3: ['皮衣外套', 'Leather coat'],   \n",
    " 4: ['夹克外套', 'Jacket/coat '],    \n",
    " 5: ['风衣', 'dust coat'],    \n",
    " 6: ['背心', 'vest'],    \n",
    " 7: ['吊带', 'harness'],    \n",
    " 8: ['牛仔外套', 'Denim jacket'],    \n",
    " 9: ['羽绒服', 'Down jacket'],    \n",
    " 10: ['大衣', 'coat'],   \n",
    " 11: ['皮草', 'fur'],    \n",
    " 12: ['卫衣', 'fleece'],     \n",
    " 13: ['棉衣/羊羔绒', 'Padded coat'],    \n",
    " 14: ['斗篷', 'cloak'],    \n",
    " 15: ['半身裙', 'skirt'],\n",
    " 16: ['西装裤', 'Suit pants'],    \n",
    " 17: ['牛仔裤', 'Jeans'],     \n",
    " 18: ['休闲裤', 'Slacks'],      \n",
    " 19: ['打底裤', 'Leggings'],    \n",
    " 20: ['运动裤', 'Sweatpants'],\n",
    "21: ['连衣裙', 'Dress'],     \n",
    " 22: ['连衣裤', 'Jumpsuit'],    \n",
    " 23: ['正装女鞋', 'Suits shoes'],   \n",
    " 24: ['帆布鞋', 'Canvas shoes'],     \n",
    " 25: ['松糕鞋', 'Platform shoes'],    \n",
    " 26: ['洞洞鞋', 'Hole shoes'],     \n",
    " 27: ['懒人鞋', 'Lazy shoes'],     \n",
    " 28: ['板鞋', 'board shoes'],    \n",
    " 29: ['拖鞋', 'slippers'],     \n",
    " 30: ['凉鞋', 'sandals'],    \n",
    " 31: ['运动鞋', 'Sports shoes'],    \n",
    " 32: ['雪地靴', 'Ugg boots'],   \n",
    " 33: ['豆豆鞋', 'Doug shoes'],    \n",
    " 34: ['网鞋', 'Net shoes'],      \n",
    "35: ['包', 'bag'],   \n",
    "36:['衬衫', 'shirt'],  \n",
    "37:['T恤', 'T-shirt'],\n",
    "38:['POLO衫','POLO shirt'],\n",
    "39:['马甲', 'Vest'] ,\n",
    "40:['棒球服', 'Baseball uniform'], \n",
    "41:['抹胸', 'Bandeau'],\n",
    "42:['皮裤','Leather pants'],\n",
    "43:['休闲鞋','Leisure shoes'],\n",
    "44:['帽子','Hat'],}"
   ]
  },
  {
   "cell_type": "code",
   "execution_count": null,
   "id": "f00da77d-50d2-4fe7-9ac3-c479896ecdfa",
   "metadata": {},
   "outputs": [],
   "source": []
  },
  {
   "cell_type": "code",
   "execution_count": null,
   "id": "b0ea6bbe-4813-4b85-9e4d-0f0b07727048",
   "metadata": {},
   "outputs": [],
   "source": []
  },
  {
   "cell_type": "code",
   "execution_count": null,
   "id": "234b4548-e3ba-4c6c-8937-f9809e1d24a3",
   "metadata": {},
   "outputs": [],
   "source": []
  },
  {
   "cell_type": "markdown",
   "id": "e5b03a78-28f5-4f6d-9b41-9434c9407667",
   "metadata": {},
   "source": [
    "### XML"
   ]
  },
  {
   "cell_type": "code",
   "execution_count": 7,
   "id": "1e8d5a0a-f04c-4910-b706-d586685975eb",
   "metadata": {},
   "outputs": [],
   "source": [
    "def voc2yolo(output_p, imgs_p, labels_p, split_ratios = None):\n",
    "    img_filetype = ['.jpg',  '.jpeg', '.png', '.tiff', '.tif']\n",
    "    classes_name = {} # store unique class name {class_name:0}\n",
    "    yolo_labels = {} # {file_name:file_content}\n",
    "    xmlFiles = list(filter(lambda x: x.endswith('.xml'), listdir(labels_p)))\n",
    "    n_imgs = len(xmlFiles)\n",
    "    counter = 0\n",
    "    for xmlFile in xmlFiles:\n",
    "        trees = etree.parse(labels_p + '/' + xmlFile)\n",
    "        width, height = int(trees.find('size/width').text), int(trees.find('size/height').text)\n",
    "        yolo_labels[xmlFile[:-4]] = ''\n",
    "        for obj in trees.findall('object'):\n",
    "            bdb = obj.find('bndbox')\n",
    "            name = obj.find('name').text\n",
    "            xmin = int(bdb.find('xmin').text)\n",
    "            ymin = int(bdb.find('ymin').text)\n",
    "            xmax = int(bdb.find('xmax').text)\n",
    "            ymax = int(bdb.find('ymax').text)\n",
    "            center_x = (xmin + (xmax-xmin)/2)/width\n",
    "            center_y = (ymin + (ymax-ymin)/2)/height\n",
    "            bdb_w = (xmax-xmin)/width\n",
    "            bdb_h = (ymax-ymin)/height\n",
    "            if name not in classes_name.keys():\n",
    "                classes_name[name] = len(classes_name)\n",
    "            yolo_labels[xmlFile[:-4]] += '{} {:6f} {:6f} {:6f} {:6f}\\n'.format(\n",
    "                    classes_name[name], center_x, center_y, bdb_w, bdb_h)\n",
    "    if split_ratios == None:\n",
    "        for filename in yolo_labels:\n",
    "            save_path = join(output_p, 'labels')\n",
    "            open(join(save_path, filename+'.txt'), 'w', encoding='utf-8').write(yolo_labels[filename])\n",
    "            for ft in img_filetype:\n",
    "                src = join(imgs_p, f'{filename}{ft}')\n",
    "                dst = join(output_p, f'images/{filename}{ft}')\n",
    "                if exists(src):\n",
    "                    shutil.copy(src, dst)\n",
    "                    break\n",
    "    else:\n",
    "        n_train = floor(n_imgs*(split_ratios[0]/10))\n",
    "        n_val = round(n_train*(split_ratios[2]/10))\n",
    "        for filename in yolo_labels:\n",
    "            if counter < n_train:\n",
    "                if counter < n_train - n_val:\n",
    "                    split_to = 'train'\n",
    "                else:\n",
    "                    split_to = 'val'\n",
    "            else:\n",
    "                split_to = 'test'\n",
    "            save_path = join(output_p, f'labels/{split_to}')\n",
    "            open(join(save_path, f'{filename}.txt'), 'w', encoding='utf-8').write(yolo_labels[filename])\n",
    "            for ft in img_filetype:\n",
    "                src = join(imgs_p, f'{filename}{ft}')\n",
    "                dst = join(output_p, f'images/{split_to}/{filename}{ft}')\n",
    "                if exists(src):\n",
    "                    shutil.copy(src, dst)\n",
    "                    break\n",
    "            counter += 1\n",
    "    with open(f'{output_p}/dataset_meta.txt', 'w', encoding='utf-8') as f:\n",
    "        content = 'Class Name\\tID\\n'\n",
    "        for class_name in classes_name:\n",
    "            content += f'{class_name}\\t{classes_name[class_name]}\\n'\n",
    "        if split_ratios != None:\n",
    "            content += f'Number of Training Set : {floor(n_imgs*(split_ratios[0]/10))-round(floor(n_imgs*(split_ratios[0]/10))*(split_ratios[2]/10))}\\nNumber of Testing Set : {counter-floor((n_imgs*(split_ratios[0]/10)))}\\nNumber of Validation Set : {round(floor(n_imgs*(split_ratios[0]/10))*(split_ratios[2]/10))}'\n",
    "        else:\n",
    "            content += f'Number of Dataset : {n_imgs}'\n",
    "        f.write(content)\n",
    "    print('Convert completed!')"
   ]
  },
  {
   "cell_type": "code",
   "execution_count": null,
   "id": "94b804cf-25eb-46f7-a977-e307e36a53b7",
   "metadata": {},
   "outputs": [],
   "source": []
  },
  {
   "cell_type": "code",
   "execution_count": 8,
   "id": "0814fbaa-1f95-41ac-bbea-2fed30dd9469",
   "metadata": {},
   "outputs": [],
   "source": [
    "def voc2yolo_xml(output_p, labels_p, split_ratios = None):\n",
    "    classes_name = {} # store unique class name {class_name:0}\n",
    "    yolo_labels = {} # {file_name:file_content}\n",
    "    xmlFiles = list(filter(lambda x: x.endswith('.xml'), listdir(labels_p)))\n",
    "    counter = 0\n",
    "    COUNTER = 0\n",
    "    for ind,xmlFile in tqdm(enumerate(xmlFiles)):\n",
    "        trees = etree.parse(labels_p + '/' + xmlFile)\n",
    "        width, height = int(trees.find('size/width').text), int(trees.find('size/height').text)\n",
    "        yolo_labels[xmlFile[:-4]] = ''\n",
    "        if width*height==0:\n",
    "            # print(xmlFile, width, height)\n",
    "            COUNTER += 1\n",
    "            continue\n",
    "\n",
    "        for obj in trees.findall('object'):\n",
    "            bdb = obj.find('bndbox')\n",
    "            name = obj.find('name').text\n",
    "            xmin = int(bdb.find('xmin').text)\n",
    "            ymin = int(bdb.find('ymin').text)\n",
    "            xmax = int(bdb.find('xmax').text)\n",
    "            ymax = int(bdb.find('ymax').text)\n",
    "            center_x = (xmin + (xmax-xmin)/2)/width\n",
    "            center_y = (ymin + (ymax-ymin)/2)/height\n",
    "            bdb_w = (xmax-xmin)/width\n",
    "            bdb_h = (ymax-ymin)/height\n",
    "            if name not in classes_name.keys():\n",
    "                classes_name[name] = len(classes_name)\n",
    "            yolo_labels[xmlFile[:-4]] += '{} {:6f} {:6f} {:6f} {:6f}\\n'.format(\n",
    "                    classes_name[name], center_x, center_y, bdb_w, bdb_h)\n",
    "    return yolo_labels"
   ]
  },
  {
   "cell_type": "code",
   "execution_count": null,
   "id": "29733543-36c2-4f2f-8037-fdd8703f4d14",
   "metadata": {},
   "outputs": [],
   "source": []
  },
  {
   "cell_type": "code",
   "execution_count": null,
   "id": "0c2239dc-1ee8-4b6d-b6c5-94f9227393c8",
   "metadata": {},
   "outputs": [],
   "source": []
  },
  {
   "cell_type": "code",
   "execution_count": null,
   "id": "5593997e-b7ad-4ecb-bcd5-c503917e7b46",
   "metadata": {},
   "outputs": [],
   "source": [
    "labels_p = Path('../../dataset/haowei34k_labelImg/annotations_labelme/')\n",
    "output_p = Path('../../dataset/haowei34k_labelImg/labels_voc')\n",
    "Path.mkdir(output_p, parents=True, exist_ok=True)"
   ]
  },
  {
   "cell_type": "code",
   "execution_count": null,
   "id": "33c71fb3-d9c7-45c7-88bc-bd0d97af544a",
   "metadata": {},
   "outputs": [],
   "source": []
  },
  {
   "cell_type": "code",
   "execution_count": null,
   "id": "93ab988a-1ab9-4a47-aed8-639b65b62f1a",
   "metadata": {},
   "outputs": [],
   "source": []
  },
  {
   "cell_type": "code",
   "execution_count": null,
   "id": "b0e14ec3-9a51-4c81-bf9b-cb420e38dbf3",
   "metadata": {},
   "outputs": [],
   "source": [
    "import re"
   ]
  },
  {
   "cell_type": "code",
   "execution_count": null,
   "id": "a38d42e5-24c9-4158-aab8-aefaad4ef5ed",
   "metadata": {},
   "outputs": [],
   "source": [
    "classes_name = {} # store unique class name {class_name:0}\n",
    "yolo_labels = {} # {file_name:file_content}\n",
    "# xmlFiles = list(filter(lambda x: x.endswith('.xml'), listdir(labels_p)))\n",
    "xml_list = glob.glob(str(labels_p /'*/*.xml'))\n",
    "xmlFiles = [re.findall(r'/[0-9]{1,3}/(.*?.xml)',x)[0] for x in xml_list]\n",
    "len(xmlFiles)"
   ]
  },
  {
   "cell_type": "code",
   "execution_count": null,
   "id": "ef709d39-3bce-404d-8bd8-2e814682ffd9",
   "metadata": {},
   "outputs": [],
   "source": []
  },
  {
   "cell_type": "markdown",
   "id": "721010e9-c692-4115-8c2f-3134f5ad9625",
   "metadata": {
    "tags": []
   },
   "source": [
    "##### voc2yolo"
   ]
  },
  {
   "cell_type": "code",
   "execution_count": null,
   "id": "9ae92b9c-3ebe-4a6d-9154-4f49e241d9f6",
   "metadata": {},
   "outputs": [],
   "source": [
    "counter = 0\n",
    "COUNTER = 0\n",
    "xml_erros = []"
   ]
  },
  {
   "cell_type": "code",
   "execution_count": null,
   "id": "923d2553-5aea-4a2b-819c-224f7e5317fe",
   "metadata": {},
   "outputs": [],
   "source": [
    "classes_name = {} # store unique class name {class_name:0}\n",
    "yolo_labels = {} # {file_name:file_content}\n",
    "# xmlFiles = list(filter(lambda x: x.endswith('.xml'), listdir(labels_p)))\n",
    "xml_list = glob.glob(str(labels_p /'*/*.xml'))\n",
    "xmlFiles = [re.findall(r'/([0-9]{1,3}/.*?.xml)',x)[0] for x in xml_list]\n",
    "\n",
    "for ind,xmlFile in tqdm(enumerate(xmlFiles)):\n",
    "    trees = etree.parse(labels_p /xmlFile)\n",
    "    width, height = int(trees.find('size/width').text), int(trees.find('size/height').text)\n",
    "    if width*height==0:\n",
    "        # print(xmlFile, width, height)\n",
    "        xml_erros.append(xmlFile)\n",
    "        COUNTER += 1\n",
    "        continue\n",
    "    fname = re.findall(r'[0-9]{1,3}/(.*?).xml',xmlFile)[0]\n",
    "    yolo_labels[fname] = ''\n",
    "        \n",
    "    for obj in trees.findall('object'):\n",
    "        bdb = obj.find('bndbox')\n",
    "        name = obj.find('name').text\n",
    "        xmin = int(bdb.find('xmin').text)\n",
    "        ymin = int(bdb.find('ymin').text)\n",
    "        xmax = int(bdb.find('xmax').text)\n",
    "        ymax = int(bdb.find('ymax').text)\n",
    "        center_x = (xmin + (xmax-xmin)/2)/width\n",
    "        center_y = (ymin + (ymax-ymin)/2)/height\n",
    "        bdb_w = (xmax-xmin)/width\n",
    "        bdb_h = (ymax-ymin)/height\n",
    "        if name not in classes_name.keys():\n",
    "            classes_name[name] = len(classes_name)\n",
    "        yolo_labels[fname] += '{} {:6f} {:6f} {:6f} {:6f}\\n'.format(\n",
    "                classes_name[name], center_x, center_y, bdb_w, bdb_h)"
   ]
  },
  {
   "cell_type": "markdown",
   "id": "119aad53-6afb-4be7-aadb-8452a7c8cc03",
   "metadata": {},
   "source": [
    "### get voc"
   ]
  },
  {
   "cell_type": "code",
   "execution_count": 13,
   "id": "53f7f945-6917-4713-becb-3a4190906f88",
   "metadata": {},
   "outputs": [],
   "source": [
    "import re"
   ]
  },
  {
   "cell_type": "code",
   "execution_count": 16,
   "id": "fdba424e-12f3-4552-ab7d-bc5c54b65a89",
   "metadata": {},
   "outputs": [],
   "source": [
    "labels_p = Path('../../dataset/haowei34k_labelImg/haowei34k_catg45/xml/')\n",
    "xml_list = glob.glob(str(labels_p /'*.xml'))\n",
    "xmlFiles = [re.findall(r'/xml/(.*?.xml)',x)[0] for x in xml_list]"
   ]
  },
  {
   "cell_type": "code",
   "execution_count": 17,
   "id": "49c73302-b17b-4c38-bc8c-9901af3633fe",
   "metadata": {},
   "outputs": [
    {
     "data": {
      "text/plain": [
       "'../../dataset/haowei34k_labelImg/haowei34k_catg45/xml/20160425101358677.xml'"
      ]
     },
     "execution_count": 17,
     "metadata": {},
     "output_type": "execute_result"
    }
   ],
   "source": [
    "xml_list[0]"
   ]
  },
  {
   "cell_type": "code",
   "execution_count": 18,
   "id": "ff8ce375-df8c-476d-ac76-61b6d35ca931",
   "metadata": {},
   "outputs": [
    {
     "data": {
      "text/plain": [
       "'20160425101358677.xml'"
      ]
     },
     "execution_count": 18,
     "metadata": {},
     "output_type": "execute_result"
    }
   ],
   "source": [
    "xmlFiles[0]"
   ]
  },
  {
   "cell_type": "code",
   "execution_count": 22,
   "id": "d60e2597-851e-41c1-bd7c-c03cbab233cc",
   "metadata": {},
   "outputs": [
    {
     "name": "stderr",
     "output_type": "stream",
     "text": [
      "33411it [00:01, 18600.87it/s]\n"
     ]
    }
   ],
   "source": [
    "classes_name = {} # store unique class name {class_name:0}\n",
    "yolo_labels = {} # {file_name:file_content}\n",
    "# xmlFiles = list(filter(lambda x: x.endswith('.xml'), listdir(labels_p)))\n",
    "\n",
    "\n",
    "\n",
    "for ind,xmlFile in tqdm(enumerate(xmlFiles)):\n",
    "    trees = etree.parse(labels_p /xmlFile)\n",
    "    width, height = int(trees.find('size/width').text), int(trees.find('size/height').text)\n",
    "    # fname = re.findall(r'[0-9]{1,3}/(.*?).xml',xmlFile)[0]\n",
    "    fname = xmlFile[:-4]\n",
    "    yolo_labels[fname] = ''\n",
    "        \n",
    "    for obj in trees.findall('object'):\n",
    "        bdb = obj.find('bndbox')\n",
    "        name = obj.find('name').text\n",
    "        xmin = int(bdb.find('xmin').text)\n",
    "        ymin = int(bdb.find('ymin').text)\n",
    "        xmax = int(bdb.find('xmax').text)\n",
    "        ymax = int(bdb.find('ymax').text)\n",
    "        # center_x = (xmin + (xmax-xmin)/2)/width\n",
    "        # center_y = (ymin + (ymax-ymin)/2)/height\n",
    "        # bdb_w = (xmax-xmin)/width\n",
    "        # bdb_h = (ymax-ymin)/height\n",
    "        if name not in classes_name.keys():\n",
    "            classes_name[name] = len(classes_name)\n",
    "        yolo_labels[fname] += '{} {:6f} {:6f} {:6f} {:6f}\\n'.format(\n",
    "                classes_name[name], xmin, ymin, xmax, ymax)\n",
    "    # break"
   ]
  },
  {
   "cell_type": "code",
   "execution_count": null,
   "id": "70eff457-221d-4e0d-8149-fa28a3f1589c",
   "metadata": {},
   "outputs": [],
   "source": []
  },
  {
   "cell_type": "code",
   "execution_count": null,
   "id": "571401e8-bc6b-4dfa-8b40-6d566f17e66f",
   "metadata": {},
   "outputs": [],
   "source": [
    "# write labels text.\n",
    "for filename in tqdm(yolo_labels.keys()):\n",
    "    save_path = join(output_p, 'labels')\n",
    "    open(join(save_path, filename+'.txt'), 'w', encoding='utf-8').write(yolo_labels[filename])\n",
    "    # break"
   ]
  },
  {
   "cell_type": "code",
   "execution_count": null,
   "id": "b8d2261e-e6f7-45e8-81b1-b141027ee11a",
   "metadata": {},
   "outputs": [],
   "source": []
  },
  {
   "cell_type": "code",
   "execution_count": null,
   "id": "c6b8b170-b0be-4e0b-b7f2-beea6b2c82c3",
   "metadata": {},
   "outputs": [],
   "source": [
    "txt_df = pd.DataFrame()"
   ]
  },
  {
   "cell_type": "code",
   "execution_count": null,
   "id": "58237981-e05f-4cd1-a8dd-8ed8f790e5a9",
   "metadata": {},
   "outputs": [],
   "source": [
    "txt_df['fname']  = yolo_labels.keys()"
   ]
  },
  {
   "cell_type": "code",
   "execution_count": null,
   "id": "2ab9c82b-46f1-44ae-925f-1afbc7ba16b0",
   "metadata": {},
   "outputs": [],
   "source": [
    "fname_df = pd.DataFrame()\n",
    "fname_df['fname'] = fname_list"
   ]
  },
  {
   "cell_type": "code",
   "execution_count": null,
   "id": "72fc2c2f-53f1-4897-873e-7a27e660f7e3",
   "metadata": {},
   "outputs": [],
   "source": [
    "empty_df = pd.DataFrame()\n",
    "empty_df = errors_df[~(errors_df['errors_fname'].isin(txt_df['fname']))]"
   ]
  },
  {
   "cell_type": "code",
   "execution_count": null,
   "id": "b2e306af-33ea-4ba2-bf83-898429bf0c3e",
   "metadata": {},
   "outputs": [],
   "source": [
    "fname_df['fname'].drop_duplicates().info()"
   ]
  },
  {
   "cell_type": "code",
   "execution_count": null,
   "id": "7bdc04e3-de36-46b9-9878-3f0661772eb2",
   "metadata": {},
   "outputs": [],
   "source": [
    "len(yolo_labels.keys()),len(fname_list)"
   ]
  },
  {
   "cell_type": "code",
   "execution_count": null,
   "id": "b1a00cc0-a9f5-4b65-946c-531ee57c3e69",
   "metadata": {},
   "outputs": [],
   "source": []
  },
  {
   "cell_type": "code",
   "execution_count": null,
   "id": "0fb67062-aff9-4634-91ce-e4865e6ecced",
   "metadata": {},
   "outputs": [],
   "source": []
  },
  {
   "cell_type": "code",
   "execution_count": null,
   "id": "8731d735-bb83-4ee4-b00a-8fdb338a0ba8",
   "metadata": {
    "tags": []
   },
   "outputs": [],
   "source": [
    "# p = labels_p + '/' + xml_erros[0]\n",
    "name = filename+'.txt'\n",
    "p = Path(save_path) / name\n",
    "!cat $p"
   ]
  },
  {
   "cell_type": "markdown",
   "id": "6eb6fc37-beae-432b-baf2-c97ad87eb3f6",
   "metadata": {},
   "source": [
    "### 解析json文件"
   ]
  },
  {
   "cell_type": "code",
   "execution_count": null,
   "id": "2e298eac-ac72-44e9-831c-8695c9e5824d",
   "metadata": {},
   "outputs": [],
   "source": [
    "!ls /home/chenyi/workspace/dataset/haowei34k_labelImg/"
   ]
  },
  {
   "cell_type": "code",
   "execution_count": null,
   "id": "7feef4f7-bb58-4a93-81b1-277786422b88",
   "metadata": {
    "tags": []
   },
   "outputs": [],
   "source": [
    "!ls /home/chenyi/workspace/dataset/haowei34k_labelImg/annotations_labelme/"
   ]
  },
  {
   "cell_type": "code",
   "execution_count": null,
   "id": "aca59b59-4b6b-48c1-8deb-04ee8f7d6fcb",
   "metadata": {},
   "outputs": [],
   "source": [
    "json_list = glob.glob('/home/chenyi/workspace/dataset/haowei34k_labelImg/xml_label/*/*.json')"
   ]
  },
  {
   "cell_type": "code",
   "execution_count": null,
   "id": "34502f83-9962-4379-8e26-df83895df0ec",
   "metadata": {},
   "outputs": [],
   "source": [
    "json_df = pd.DataFrame()\n",
    "json_df['spath'] = json_list"
   ]
  },
  {
   "cell_type": "code",
   "execution_count": null,
   "id": "2c67d62f-8b80-469a-8f3c-e67530694950",
   "metadata": {},
   "outputs": [],
   "source": [
    "xml_dir = Path('/home/chenyi/workspace/dataset/haowei34k_labelImg/json2xml/')"
   ]
  },
  {
   "cell_type": "code",
   "execution_count": null,
   "id": "d5466bb0-1a94-40a4-b5af-ec713dc397b4",
   "metadata": {},
   "outputs": [],
   "source": [
    "json_df['tpath'] = json_df['spath'].apply(lambda x:\n",
    "                                         '{0}/{1}'.format(xml_dir, re.findall(r'/[0-9]{1,3}/(.*?.json)',x)[0]))"
   ]
  },
  {
   "cell_type": "code",
   "execution_count": null,
   "id": "662f79f1-f1ec-45e1-aad7-d6a033a88c8c",
   "metadata": {},
   "outputs": [],
   "source": [
    "json_df[1:3].values"
   ]
  },
  {
   "cell_type": "code",
   "execution_count": null,
   "id": "d121830a-b8f5-4155-8fc7-821ad4b6dde4",
   "metadata": {},
   "outputs": [],
   "source": []
  },
  {
   "cell_type": "code",
   "execution_count": null,
   "id": "19a13f39-80e6-4b21-b82d-4262dfbc5d68",
   "metadata": {},
   "outputs": [],
   "source": [
    "# input_list = list(zip(json_df['spath'], json_df['tpath']))\n",
    "# for ps in tqdm(input_list):\n",
    "#     copy_data(ps)"
   ]
  },
  {
   "cell_type": "code",
   "execution_count": null,
   "id": "9b65a305-f623-484b-b202-547300d5dc93",
   "metadata": {
    "tags": []
   },
   "outputs": [],
   "source": [
    "# p = '/home/chenyi/workspace/dataset/haowei34k_labelImg/json2xml/20150409182919078.json'\n",
    "# !cat $p\n"
   ]
  },
  {
   "cell_type": "code",
   "execution_count": null,
   "id": "c47a119e-8e35-40d6-b733-7cbe675a8d68",
   "metadata": {},
   "outputs": [],
   "source": [
    "sys.path.append('/home/chenyi/workspace/myPyModule99/data_format/json_to_xml')\n",
    "from json_to_xml.main import *"
   ]
  },
  {
   "cell_type": "code",
   "execution_count": null,
   "id": "12262dbe-7ae5-4d9d-92ae-aaae157ac712",
   "metadata": {},
   "outputs": [],
   "source": [
    "root_json_dir = xml_dir\n",
    "root_save_xml_dir = '/home/chenyi/workspace/dataset/haowei34k_labelImg/json2xml/xml'"
   ]
  },
  {
   "cell_type": "code",
   "execution_count": null,
   "id": "e5dac5c4-62c7-4361-9f0a-2690adfc5585",
   "metadata": {},
   "outputs": [],
   "source": [
    "import json\n",
    "for json_filename in tqdm(os.listdir(root_json_dir)):\n",
    "    json_path = os.path.join(root_json_dir, json_filename)\n",
    "    json_data = json.load(open(json_path))\n",
    "    break"
   ]
  },
  {
   "cell_type": "code",
   "execution_count": null,
   "id": "88ff2655-1bda-44eb-af31-f1adda355380",
   "metadata": {},
   "outputs": [],
   "source": [
    "json_data.keys()"
   ]
  },
  {
   "cell_type": "code",
   "execution_count": null,
   "id": "c5ae269c-9272-4824-aa7b-9ccc2bba1539",
   "metadata": {},
   "outputs": [],
   "source": [
    "json_data['shapes'][0]['points']"
   ]
  },
  {
   "cell_type": "code",
   "execution_count": null,
   "id": "4bfefd3f-7b51-4593-8dbe-c39f6763df85",
   "metadata": {},
   "outputs": [],
   "source": [
    "json_df = pd.DataFrame()"
   ]
  },
  {
   "cell_type": "code",
   "execution_count": null,
   "id": "b9f17866-a018-419e-94ce-4df7a22fcf8b",
   "metadata": {},
   "outputs": [],
   "source": [
    "root_json_dir"
   ]
  },
  {
   "cell_type": "code",
   "execution_count": null,
   "id": "8a1e6b6d-baa6-453f-8cbb-897a3b4e09a2",
   "metadata": {},
   "outputs": [],
   "source": [
    "json_df['path'] = glob.glob(str(root_json_dir/'*.json'))"
   ]
  },
  {
   "cell_type": "code",
   "execution_count": null,
   "id": "c970a63b-7aa5-41b0-a61b-c0f1886bb02a",
   "metadata": {},
   "outputs": [],
   "source": [
    "json_df['fname'] =  json_df['path'].apply(lambda x: re.findall(r'/json2xml/(.*?).json',x)[0])"
   ]
  },
  {
   "cell_type": "code",
   "execution_count": null,
   "id": "c7161092-2a20-472b-964a-49c270e3836d",
   "metadata": {},
   "outputs": [],
   "source": [
    "json_labels = {}\n",
    "for ind,row in tqdm(json_df.iterrows()):\n",
    "    json_path = row['path']\n",
    "    fname = row['fname']\n",
    "    json_data = json.load(open(json_path))\n",
    "    json_labels[fname] = ''\n",
    "    for item in json_data['shapes']:\n",
    "        name = item['label']\n",
    "        points = item['points']\n",
    "        xmin, ymin = points[0]\n",
    "        xmax, ymax = points[1]\n",
    "        \n",
    "        if name not in classes_name.keys():\n",
    "            classes_name[name] = len(classes_name)\n",
    "        json_labels[fname] += '{} {:6f} {:6f} {:6f} {:6f}\\n'.format(\n",
    "            classes_name[name], xmin, ymin, xmax, ymax)"
   ]
  },
  {
   "cell_type": "code",
   "execution_count": null,
   "id": "0ddb0257-5234-458d-9a7c-2c745c264904",
   "metadata": {},
   "outputs": [],
   "source": [
    "fname_list = []\n",
    "xmin_list = []\n",
    "ymin_list = []\n",
    "xmax_list = []\n",
    "ymax_list = []\n",
    "labels_list = []\n",
    "for ind,row in tqdm(json_df.iterrows()):\n",
    "    json_path = row['path']\n",
    "    fname = row['fname']\n",
    "    json_data = json.load(open(json_path))\n",
    "    for item in json_data['shapes']:\n",
    "        name = item['label']\n",
    "        points = item['points']\n",
    "        xmin, ymin = points[0]\n",
    "        xmax, ymax = points[1]\n",
    "        \n",
    "        fname_list.append(fname)\n",
    "        labels_list.append(name)\n",
    "        xmin_list.append(xmin)\n",
    "        ymin_list.append(ymin)\n",
    "        ymax_list.append(ymax)\n",
    "        xmax_list.append(xmax)"
   ]
  },
  {
   "cell_type": "code",
   "execution_count": null,
   "id": "a00d56b5-2ef9-4847-89d6-fac027872628",
   "metadata": {},
   "outputs": [],
   "source": []
  },
  {
   "cell_type": "code",
   "execution_count": null,
   "id": "37fe7824-bca8-4620-868a-a3403d43208a",
   "metadata": {},
   "outputs": [],
   "source": [
    "json_bboxes = pd.DataFrame()"
   ]
  },
  {
   "cell_type": "code",
   "execution_count": null,
   "id": "b10f1d61-3113-48bb-9797-028a9d4e7e6e",
   "metadata": {},
   "outputs": [],
   "source": [
    "json_bboxes['fname'] = fname_list\n",
    "json_bboxes['label'] = labels_list\n",
    "json_bboxes['xmin'] = xmin_list\n",
    "json_bboxes['ymin'] = ymin_list\n",
    "json_bboxes['xmax'] = xmax_list\n",
    "json_bboxes['ymax'] = ymax_list"
   ]
  },
  {
   "cell_type": "code",
   "execution_count": null,
   "id": "15d7e83a-e675-417d-843e-492c83ef5187",
   "metadata": {},
   "outputs": [],
   "source": [
    "json_bboxes.head()"
   ]
  },
  {
   "cell_type": "code",
   "execution_count": null,
   "id": "48b1fe30-7b0c-4913-a171-06310c9027fe",
   "metadata": {},
   "outputs": [],
   "source": []
  },
  {
   "cell_type": "code",
   "execution_count": null,
   "id": "21f7a2f9-2898-4113-b150-531bafe7d64b",
   "metadata": {},
   "outputs": [],
   "source": []
  },
  {
   "cell_type": "markdown",
   "id": "cbe8f7ca-a76c-4f9d-b66b-9f0aa68270a7",
   "metadata": {},
   "source": [
    "### pandas处理"
   ]
  },
  {
   "cell_type": "code",
   "execution_count": 23,
   "id": "53dbea67-583f-40aa-959b-540e5f9f8d7e",
   "metadata": {},
   "outputs": [
    {
     "data": {
      "text/plain": [
       "PosixPath('../../dataset/haowei34k_labelImg/haowei34k_catg45/xml')"
      ]
     },
     "execution_count": 23,
     "metadata": {},
     "output_type": "execute_result"
    }
   ],
   "source": [
    "labels_p"
   ]
  },
  {
   "cell_type": "code",
   "execution_count": 24,
   "id": "205722ec-75c0-48db-8301-fc71cbca561f",
   "metadata": {},
   "outputs": [
    {
     "name": "stderr",
     "output_type": "stream",
     "text": [
      "33411it [00:01, 20297.55it/s]\n"
     ]
    }
   ],
   "source": [
    "xml_list = glob.glob(str(labels_p /'*.xml'))\n",
    "xmlFiles = [re.findall(r'/xml/(.*?.xml)',x)[0] for x in xml_list]\n",
    "fname_list = []\n",
    "xmin_list = []\n",
    "ymin_list = []\n",
    "xmax_list = []\n",
    "ymax_list = []\n",
    "labels_list = []\n",
    "for ind,xmlFile in tqdm(enumerate(xmlFiles)):\n",
    "    trees = etree.parse(labels_p /xmlFile)\n",
    "    width, height = int(trees.find('size/width').text), int(trees.find('size/height').text)\n",
    "    # fname = re.findall(r'[0-9]{1,3}/(.*?).xml',xmlFile)[0]     \n",
    "    fname = xmlFile[:-4]     \n",
    "\n",
    "    for obj in trees.findall('object'):\n",
    "        bdb = obj.find('bndbox')\n",
    "        name = obj.find('name').text\n",
    "        xmin = int(bdb.find('xmin').text)\n",
    "        ymin = int(bdb.find('ymin').text)\n",
    "        xmax = int(bdb.find('xmax').text)\n",
    "        ymax = int(bdb.find('ymax').text)\n",
    "        \n",
    "        fname_list.append(fname)\n",
    "        labels_list.append(name)\n",
    "        xmin_list.append(xmin)\n",
    "        ymin_list.append(ymin)\n",
    "        ymax_list.append(ymax)\n",
    "        xmax_list.append(xmax)"
   ]
  },
  {
   "cell_type": "code",
   "execution_count": 25,
   "id": "6cb55ea5-8ea9-4af8-b149-fabec0846def",
   "metadata": {},
   "outputs": [],
   "source": [
    "xml_bboxes = pd.DataFrame()\n",
    "xml_bboxes['fname'] = fname_list\n",
    "xml_bboxes['label'] = labels_list\n",
    "xml_bboxes['xmin'] = xmin_list\n",
    "xml_bboxes['ymin'] = ymin_list\n",
    "xml_bboxes['xmax'] = xmax_list\n",
    "xml_bboxes['ymax'] = ymax_list"
   ]
  },
  {
   "cell_type": "code",
   "execution_count": 26,
   "id": "b656f6c2-4d31-4dfd-9e1c-35a40415c5fd",
   "metadata": {},
   "outputs": [
    {
     "data": {
      "text/html": [
       "<div>\n",
       "<style scoped>\n",
       "    .dataframe tbody tr th:only-of-type {\n",
       "        vertical-align: middle;\n",
       "    }\n",
       "\n",
       "    .dataframe tbody tr th {\n",
       "        vertical-align: top;\n",
       "    }\n",
       "\n",
       "    .dataframe thead th {\n",
       "        text-align: right;\n",
       "    }\n",
       "</style>\n",
       "<table border=\"1\" class=\"dataframe\">\n",
       "  <thead>\n",
       "    <tr style=\"text-align: right;\">\n",
       "      <th></th>\n",
       "      <th>fname</th>\n",
       "      <th>label</th>\n",
       "      <th>xmin</th>\n",
       "      <th>ymin</th>\n",
       "      <th>xmax</th>\n",
       "      <th>ymax</th>\n",
       "    </tr>\n",
       "  </thead>\n",
       "  <tbody>\n",
       "    <tr>\n",
       "      <th>0</th>\n",
       "      <td>20160425101358677</td>\n",
       "      <td>正装女鞋</td>\n",
       "      <td>225</td>\n",
       "      <td>584</td>\n",
       "      <td>258</td>\n",
       "      <td>669</td>\n",
       "    </tr>\n",
       "    <tr>\n",
       "      <th>1</th>\n",
       "      <td>20160425101358677</td>\n",
       "      <td>正装女鞋</td>\n",
       "      <td>256</td>\n",
       "      <td>672</td>\n",
       "      <td>305</td>\n",
       "      <td>768</td>\n",
       "    </tr>\n",
       "    <tr>\n",
       "      <th>2</th>\n",
       "      <td>20160425101358677</td>\n",
       "      <td>连衣裙</td>\n",
       "      <td>157</td>\n",
       "      <td>136</td>\n",
       "      <td>357</td>\n",
       "      <td>468</td>\n",
       "    </tr>\n",
       "    <tr>\n",
       "      <th>3</th>\n",
       "      <td>20160425101358677</td>\n",
       "      <td>包</td>\n",
       "      <td>118</td>\n",
       "      <td>135</td>\n",
       "      <td>222</td>\n",
       "      <td>413</td>\n",
       "    </tr>\n",
       "    <tr>\n",
       "      <th>4</th>\n",
       "      <td>20170818201332676</td>\n",
       "      <td>牛仔</td>\n",
       "      <td>447</td>\n",
       "      <td>308</td>\n",
       "      <td>745</td>\n",
       "      <td>767</td>\n",
       "    </tr>\n",
       "  </tbody>\n",
       "</table>\n",
       "</div>"
      ],
      "text/plain": [
       "               fname label  xmin  ymin  xmax  ymax\n",
       "0  20160425101358677  正装女鞋   225   584   258   669\n",
       "1  20160425101358677  正装女鞋   256   672   305   768\n",
       "2  20160425101358677   连衣裙   157   136   357   468\n",
       "3  20160425101358677     包   118   135   222   413\n",
       "4  20170818201332676    牛仔   447   308   745   767"
      ]
     },
     "execution_count": 26,
     "metadata": {},
     "output_type": "execute_result"
    }
   ],
   "source": [
    "xml_bboxes.head()"
   ]
  },
  {
   "cell_type": "code",
   "execution_count": 27,
   "id": "535216b0-37bd-426d-95e5-baebd1f424ae",
   "metadata": {},
   "outputs": [
    {
     "name": "stdout",
     "output_type": "stream",
     "text": [
      "<class 'pandas.core.frame.DataFrame'>\n",
      "RangeIndex: 144122 entries, 0 to 144121\n",
      "Data columns (total 6 columns):\n",
      " #   Column  Non-Null Count   Dtype \n",
      "---  ------  --------------   ----- \n",
      " 0   fname   144122 non-null  object\n",
      " 1   label   144122 non-null  object\n",
      " 2   xmin    144122 non-null  int64 \n",
      " 3   ymin    144122 non-null  int64 \n",
      " 4   xmax    144122 non-null  int64 \n",
      " 5   ymax    144122 non-null  int64 \n",
      "dtypes: int64(4), object(2)\n",
      "memory usage: 6.6+ MB\n"
     ]
    }
   ],
   "source": [
    "xml_bboxes.info()"
   ]
  },
  {
   "cell_type": "code",
   "execution_count": null,
   "id": "0f0cc328-f66e-457f-b2c0-669430982295",
   "metadata": {},
   "outputs": [],
   "source": []
  },
  {
   "cell_type": "code",
   "execution_count": 28,
   "id": "84a0226c-30aa-4748-9204-8f823b30abb2",
   "metadata": {},
   "outputs": [],
   "source": [
    "labelme_df = xml_bboxes"
   ]
  },
  {
   "cell_type": "code",
   "execution_count": null,
   "id": "0251dd15-8139-43ec-aa36-c7dd976caebd",
   "metadata": {},
   "outputs": [],
   "source": [
    "# labelme_df.to_csv('/home/chenyi/workspace/dataset/haowei34k_labelImg/labelme_hw34k.csv', index=False)"
   ]
  },
  {
   "cell_type": "code",
   "execution_count": 30,
   "id": "727517a8-c7cb-4450-9ca1-5afcdc42162e",
   "metadata": {},
   "outputs": [
    {
     "data": {
      "text/plain": [
       "([Index(['正装女鞋', '正装女鞋（宽容型）', '包', '裙子', '休闲裤', '毛衣/绒衣/针织衫', '牛仔裤', '休闲裤（宽容型）',\n",
       "         '连衣裙', '连衣裙（严格型）',\n",
       "         ...\n",
       "         '正装你学', '毛衣/绒衣/针织衫衫', '版鞋', '毛衣/绒衣//针织衫', '/外套', '板鞋\\t', '女衫 ', '羊羔毛',\n",
       "         '牛', '衬衫 '],\n",
       "        dtype='object', length=149)],\n",
       " 149)"
      ]
     },
     "execution_count": 30,
     "metadata": {},
     "output_type": "execute_result"
    }
   ],
   "source": [
    "labelme_df['label'].value_counts().axes,len(labelme_df['label'].value_counts().axes[0])"
   ]
  },
  {
   "cell_type": "code",
   "execution_count": 31,
   "id": "f053a4a4-92f7-4c09-b9cc-2a4bdba6d628",
   "metadata": {},
   "outputs": [],
   "source": [
    "import pickle\n",
    "with open('labelme_names_dict.pickle', 'rb') as f:\n",
    "    names_dict = pickle.load(f)"
   ]
  },
  {
   "cell_type": "code",
   "execution_count": 53,
   "id": "67e39a7a-0876-41bd-abc8-5542e828d946",
   "metadata": {},
   "outputs": [],
   "source": [
    "# import pickle\n",
    "# # with open('labelme_names_dict.pickle', 'wb') as f:\n",
    "#     pickle.dump(names_dict, f)"
   ]
  },
  {
   "cell_type": "code",
   "execution_count": 52,
   "id": "4d0fefc0-741c-4a21-b9d1-a7bbe64990d5",
   "metadata": {},
   "outputs": [],
   "source": [
    "labelme_df['label43'] = labelme_df['label'].apply(lambda x: names_dict[x])"
   ]
  },
  {
   "cell_type": "code",
   "execution_count": 63,
   "id": "49854e6f-dcb8-4582-88bd-c3cf253ebe00",
   "metadata": {},
   "outputs": [],
   "source": [
    "labelme_df.to_csv('labelme_voc_bboxes_relabel.csv', index=False)"
   ]
  },
  {
   "cell_type": "code",
   "execution_count": 55,
   "id": "68c8376c-ee8d-4296-8f53-96ebd50d1e66",
   "metadata": {
    "collapsed": true,
    "jupyter": {
     "outputs_hidden": true
    },
    "tags": []
   },
   "outputs": [
    {
     "data": {
      "text/plain": [
       "正装女鞋         44481\n",
       "包            20515\n",
       "休闲裤           8833\n",
       "半身裙           7625\n",
       "毛衣/绒衣/针织衫     7225\n",
       "连衣裙           6941\n",
       "牛仔裤           6875\n",
       "女衫类           4035\n",
       "帆布鞋           3767\n",
       "凉鞋            3225\n",
       "板鞋            2888\n",
       "小西装           2670\n",
       "夹克外套          2355\n",
       "运动鞋           2182\n",
       "背心            2180\n",
       "皮衣外套          1741\n",
       "拖鞋            1495\n",
       "卫衣            1490\n",
       "大衣            1449\n",
       "打底裤           1305\n",
       "懒人鞋           1294\n",
       "牛仔外套          1046\n",
       "西装裤           1001\n",
       "T恤             932\n",
       "豆豆鞋            836\n",
       "松糕鞋            663\n",
       "衬衫             576\n",
       "皮裤             522\n",
       "吊带             504\n",
       "连衣裤            426\n",
       "雪地靴            422\n",
       "风衣             417\n",
       "棉衣/羊羔绒         386\n",
       "马甲             376\n",
       "休闲鞋            343\n",
       "皮草             321\n",
       "羽绒服            246\n",
       "运动裤            166\n",
       "帽子             156\n",
       "网鞋              60\n",
       "抹胸              47\n",
       "棒球服             46\n",
       "斗篷              36\n",
       "洞洞鞋             12\n",
       "POLO衫           11\n",
       "Name: label43, dtype: int64"
      ]
     },
     "execution_count": 55,
     "metadata": {},
     "output_type": "execute_result"
    }
   ],
   "source": [
    "labelme_df['label43'].value_counts()"
   ]
  },
  {
   "cell_type": "code",
   "execution_count": 76,
   "id": "df49a1c7-d150-4171-acad-57d9407aba08",
   "metadata": {},
   "outputs": [],
   "source": [
    "root = Path('/home/chenyi/workspace/dataset/haowei34k/')"
   ]
  },
  {
   "cell_type": "code",
   "execution_count": 77,
   "id": "b9b62fa7-778e-4d46-aa01-1c560180fbbb",
   "metadata": {},
   "outputs": [],
   "source": [
    "imgs_list = glob.glob(str(root /'images/*/*.jpg'))"
   ]
  },
  {
   "cell_type": "code",
   "execution_count": 78,
   "id": "e7513c47-3c20-46b2-b5af-ecd641dfb5fb",
   "metadata": {},
   "outputs": [],
   "source": [
    "imgs_df = pd.DataFrame()\n",
    "imgs_df['path'] = imgs_list"
   ]
  },
  {
   "cell_type": "code",
   "execution_count": 98,
   "id": "d627571e-3873-4690-bee2-811951b82d6e",
   "metadata": {},
   "outputs": [],
   "source": [
    "import re"
   ]
  },
  {
   "cell_type": "code",
   "execution_count": 102,
   "id": "ae70ed49-dab4-4167-8495-03d0b5237a24",
   "metadata": {},
   "outputs": [],
   "source": [
    "imgs_df['fname']= imgs_df['path'].apply(lambda x: re.findall(r'images/.*?/(.*?).jpg', x)[0])"
   ]
  },
  {
   "cell_type": "code",
   "execution_count": 103,
   "id": "217f30dc-0109-4928-9a87-5dd174355188",
   "metadata": {},
   "outputs": [
    {
     "data": {
      "text/plain": [
       "array([['/home/chenyi/workspace/dataset/haowei34k/images/train/20160406001119728.jpg',\n",
       "        '20160406001119728'],\n",
       "       ['/home/chenyi/workspace/dataset/haowei34k/images/train/20141110184352626.jpg',\n",
       "        '20141110184352626']], dtype=object)"
      ]
     },
     "execution_count": 103,
     "metadata": {},
     "output_type": "execute_result"
    }
   ],
   "source": [
    "imgs_df.head(2).values"
   ]
  },
  {
   "cell_type": "code",
   "execution_count": null,
   "id": "0cb6a881-3969-4c02-af5f-17bb7f1bc1ac",
   "metadata": {},
   "outputs": [],
   "source": []
  },
  {
   "cell_type": "code",
   "execution_count": null,
   "id": "05c8dfb2-2be4-40a0-90cf-cfc3030fd22d",
   "metadata": {},
   "outputs": [],
   "source": [
    "_ = [os.symlink(p, p.replace()) for p in imgs_list]"
   ]
  },
  {
   "cell_type": "code",
   "execution_count": null,
   "id": "eedd2191-006f-4565-a1ea-51f4fcbb0376",
   "metadata": {},
   "outputs": [],
   "source": []
  },
  {
   "cell_type": "code",
   "execution_count": 114,
   "id": "0f126afa-0b47-4e66-bf7c-06cec9d5f000",
   "metadata": {},
   "outputs": [],
   "source": [
    "labelme_df['fname'] = labelme_df['fname'].astype(str)"
   ]
  },
  {
   "cell_type": "code",
   "execution_count": 120,
   "id": "bbaa305e-f8de-4ccd-be03-19a2160fbadb",
   "metadata": {},
   "outputs": [
    {
     "name": "stdout",
     "output_type": "stream",
     "text": [
      "<class 'pandas.core.frame.DataFrame'>\n",
      "RangeIndex: 34020 entries, 0 to 34019\n",
      "Data columns (total 2 columns):\n",
      " #   Column  Non-Null Count  Dtype \n",
      "---  ------  --------------  ----- \n",
      " 0   path    34020 non-null  object\n",
      " 1   fname   34020 non-null  object\n",
      "dtypes: object(2)\n",
      "memory usage: 531.7+ KB\n"
     ]
    }
   ],
   "source": [
    "imgs_df.info()"
   ]
  },
  {
   "cell_type": "code",
   "execution_count": 115,
   "id": "5e4ada23-7137-4b1b-9b6a-b766928c047f",
   "metadata": {},
   "outputs": [
    {
     "name": "stdout",
     "output_type": "stream",
     "text": [
      "<class 'pandas.core.frame.DataFrame'>\n",
      "Int64Index: 33411 entries, 0 to 144118\n",
      "Data columns (total 7 columns):\n",
      " #   Column   Non-Null Count  Dtype \n",
      "---  ------   --------------  ----- \n",
      " 0   fname    33411 non-null  object\n",
      " 1   label    33411 non-null  object\n",
      " 2   xmin     33411 non-null  int64 \n",
      " 3   ymin     33411 non-null  int64 \n",
      " 4   xmax     33411 non-null  int64 \n",
      " 5   ymax     33411 non-null  int64 \n",
      " 6   label43  33411 non-null  object\n",
      "dtypes: int64(4), object(3)\n",
      "memory usage: 2.0+ MB\n"
     ]
    }
   ],
   "source": [
    "labelme_df.drop_duplicates('fname').info()"
   ]
  },
  {
   "cell_type": "code",
   "execution_count": 110,
   "id": "5f7cdae6-6071-4d10-9171-30f73dd46653",
   "metadata": {},
   "outputs": [],
   "source": [
    "x = labelme_df[~labelme_df['fname'].isin(imgs_df['fname'])]"
   ]
  },
  {
   "cell_type": "code",
   "execution_count": 116,
   "id": "502b5aa9-a1c9-4bc7-8d7b-a32bc8e41c3b",
   "metadata": {},
   "outputs": [],
   "source": [
    "y = imgs_df[~imgs_df['fname'].isin(labelme_df['fname'])]"
   ]
  },
  {
   "cell_type": "code",
   "execution_count": 122,
   "id": "44fffb52-8f58-47d5-aad0-c99e5dbb72e2",
   "metadata": {},
   "outputs": [
    {
     "name": "stdout",
     "output_type": "stream",
     "text": [
      "<class 'pandas.core.frame.DataFrame'>\n",
      "Int64Index: 609 entries, 194 to 33973\n",
      "Data columns (total 2 columns):\n",
      " #   Column  Non-Null Count  Dtype \n",
      "---  ------  --------------  ----- \n",
      " 0   path    609 non-null    object\n",
      " 1   fname   609 non-null    object\n",
      "dtypes: object(2)\n",
      "memory usage: 14.3+ KB\n"
     ]
    }
   ],
   "source": [
    "y.info()"
   ]
  },
  {
   "cell_type": "code",
   "execution_count": null,
   "id": "ff1d94e7-f9a8-4f20-9a1d-21fc8a790802",
   "metadata": {},
   "outputs": [],
   "source": []
  },
  {
   "cell_type": "code",
   "execution_count": 125,
   "id": "535676cc-790b-4247-93ca-da64541e15d2",
   "metadata": {},
   "outputs": [
    {
     "data": {
      "text/html": [
       "<div>\n",
       "<style scoped>\n",
       "    .dataframe tbody tr th:only-of-type {\n",
       "        vertical-align: middle;\n",
       "    }\n",
       "\n",
       "    .dataframe tbody tr th {\n",
       "        vertical-align: top;\n",
       "    }\n",
       "\n",
       "    .dataframe thead th {\n",
       "        text-align: right;\n",
       "    }\n",
       "</style>\n",
       "<table border=\"1\" class=\"dataframe\">\n",
       "  <thead>\n",
       "    <tr style=\"text-align: right;\">\n",
       "      <th></th>\n",
       "      <th>fname</th>\n",
       "      <th>label</th>\n",
       "      <th>xmin</th>\n",
       "      <th>ymin</th>\n",
       "      <th>xmax</th>\n",
       "      <th>ymax</th>\n",
       "      <th>label43</th>\n",
       "    </tr>\n",
       "  </thead>\n",
       "  <tbody>\n",
       "    <tr>\n",
       "      <th>0</th>\n",
       "      <td>20160425101358677</td>\n",
       "      <td>正装女鞋</td>\n",
       "      <td>225</td>\n",
       "      <td>584</td>\n",
       "      <td>258</td>\n",
       "      <td>669</td>\n",
       "      <td>正装女鞋</td>\n",
       "    </tr>\n",
       "    <tr>\n",
       "      <th>1</th>\n",
       "      <td>20160425101358677</td>\n",
       "      <td>正装女鞋</td>\n",
       "      <td>256</td>\n",
       "      <td>672</td>\n",
       "      <td>305</td>\n",
       "      <td>768</td>\n",
       "      <td>正装女鞋</td>\n",
       "    </tr>\n",
       "    <tr>\n",
       "      <th>2</th>\n",
       "      <td>20160425101358677</td>\n",
       "      <td>连衣裙</td>\n",
       "      <td>157</td>\n",
       "      <td>136</td>\n",
       "      <td>357</td>\n",
       "      <td>468</td>\n",
       "      <td>连衣裙</td>\n",
       "    </tr>\n",
       "    <tr>\n",
       "      <th>3</th>\n",
       "      <td>20160425101358677</td>\n",
       "      <td>包</td>\n",
       "      <td>118</td>\n",
       "      <td>135</td>\n",
       "      <td>222</td>\n",
       "      <td>413</td>\n",
       "      <td>包</td>\n",
       "    </tr>\n",
       "    <tr>\n",
       "      <th>4</th>\n",
       "      <td>20170818201332676</td>\n",
       "      <td>牛仔</td>\n",
       "      <td>447</td>\n",
       "      <td>308</td>\n",
       "      <td>745</td>\n",
       "      <td>767</td>\n",
       "      <td>牛仔外套</td>\n",
       "    </tr>\n",
       "  </tbody>\n",
       "</table>\n",
       "</div>"
      ],
      "text/plain": [
       "               fname label  xmin  ymin  xmax  ymax label43\n",
       "0  20160425101358677  正装女鞋   225   584   258   669    正装女鞋\n",
       "1  20160425101358677  正装女鞋   256   672   305   768    正装女鞋\n",
       "2  20160425101358677   连衣裙   157   136   357   468     连衣裙\n",
       "3  20160425101358677     包   118   135   222   413       包\n",
       "4  20170818201332676    牛仔   447   308   745   767    牛仔外套"
      ]
     },
     "execution_count": 125,
     "metadata": {},
     "output_type": "execute_result"
    }
   ],
   "source": [
    "labelme_df.head()"
   ]
  },
  {
   "cell_type": "code",
   "execution_count": 127,
   "id": "f002c151-b38f-4eb7-b841-dd6dfa3c5dab",
   "metadata": {},
   "outputs": [
    {
     "data": {
      "text/plain": [
       "array([['/home/chenyi/workspace/dataset/haowei34k/images/train/20160406001119728.jpg',\n",
       "        '20160406001119728'],\n",
       "       ['/home/chenyi/workspace/dataset/haowei34k/images/train/20141110184352626.jpg',\n",
       "        '20141110184352626']], dtype=object)"
      ]
     },
     "execution_count": 127,
     "metadata": {},
     "output_type": "execute_result"
    }
   ],
   "source": [
    "imgs_df.head(2).values"
   ]
  },
  {
   "cell_type": "code",
   "execution_count": 132,
   "id": "58435978-aa32-424d-9ecd-f3922df3722c",
   "metadata": {},
   "outputs": [
    {
     "name": "stdout",
     "output_type": "stream",
     "text": [
      "<class 'pandas.core.frame.DataFrame'>\n",
      "RangeIndex: 34020 entries, 0 to 34019\n",
      "Data columns (total 2 columns):\n",
      " #   Column  Non-Null Count  Dtype \n",
      "---  ------  --------------  ----- \n",
      " 0   path    34020 non-null  object\n",
      " 1   fname   34020 non-null  object\n",
      "dtypes: object(2)\n",
      "memory usage: 531.7+ KB\n"
     ]
    }
   ],
   "source": [
    "imgs_df.info()"
   ]
  },
  {
   "cell_type": "code",
   "execution_count": 123,
   "id": "82ea03e0-fcd8-4784-a377-11783de9c97a",
   "metadata": {},
   "outputs": [
    {
     "data": {
      "text/plain": [
       "PosixPath('/home/chenyi/workspace/dataset/haowei34k')"
      ]
     },
     "execution_count": 123,
     "metadata": {},
     "output_type": "execute_result"
    }
   ],
   "source": [
    "root"
   ]
  },
  {
   "cell_type": "code",
   "execution_count": 58,
   "id": "80bd2741-df94-48cb-a9a7-0b39d8f5241c",
   "metadata": {},
   "outputs": [],
   "source": [
    "from PIL import Image"
   ]
  },
  {
   "cell_type": "code",
   "execution_count": 128,
   "id": "1a0b18be-2441-4cbd-b9cf-0a826b3610ce",
   "metadata": {
    "tags": []
   },
   "outputs": [
    {
     "name": "stderr",
     "output_type": "stream",
     "text": [
      "34020it [00:06, 5175.93it/s]\n"
     ]
    }
   ],
   "source": [
    "w_list = []\n",
    "h_list = []\n",
    "for ind, row in tqdm(imgs_df.iterrows()):\n",
    "    p_ = row['path']\n",
    "    try:\n",
    "        img = Image.open(str(p_))\n",
    "        w,h = img.size\n",
    "    except:\n",
    "        w,h = 0,0\n",
    "        print(p_)\n",
    "    w_list.append(w)\n",
    "    h_list.append(h)  "
   ]
  },
  {
   "cell_type": "code",
   "execution_count": null,
   "id": "fe77bed7-a6ba-4080-8d8a-e1d7c9805ce7",
   "metadata": {},
   "outputs": [],
   "source": []
  },
  {
   "cell_type": "code",
   "execution_count": 133,
   "id": "ff9830bd-78f0-4989-8bb4-ff3684ce227c",
   "metadata": {},
   "outputs": [],
   "source": [
    "imgs_df['width'] = w_list\n",
    "imgs_df['height'] = h_list"
   ]
  },
  {
   "cell_type": "code",
   "execution_count": 139,
   "id": "8c9b5576-3552-4c75-988d-a374976a01fa",
   "metadata": {},
   "outputs": [],
   "source": [
    "imgs_df['mode'] = imgs_df['path'].apply(lambda x: re.findall(r'/images/([a-z]{3,5})/', x)[0])"
   ]
  },
  {
   "cell_type": "code",
   "execution_count": 143,
   "id": "76557b12-cd82-4d4d-9560-4deb90160292",
   "metadata": {},
   "outputs": [],
   "source": [
    "val_df = imgs_df[imgs_df['mode']=='val']"
   ]
  },
  {
   "cell_type": "code",
   "execution_count": 144,
   "id": "00e9a652-9b1a-4866-b775-f3c3313649fa",
   "metadata": {},
   "outputs": [],
   "source": [
    "labelme_df['mode'] = 'train'"
   ]
  },
  {
   "cell_type": "code",
   "execution_count": 150,
   "id": "bbca1003-06a9-43ab-91f4-4711aab22a67",
   "metadata": {},
   "outputs": [],
   "source": [
    "labelme_df.loc[labelme_df[labelme_df['fname'].isin(val_df['fname'])].index,'mode'] = 'val'"
   ]
  },
  {
   "cell_type": "code",
   "execution_count": null,
   "id": "417d986d-4ad9-45bc-87ed-32039df62724",
   "metadata": {},
   "outputs": [],
   "source": []
  },
  {
   "cell_type": "code",
   "execution_count": 155,
   "id": "21ed77df-1e96-48db-a732-f54a1465cfa6",
   "metadata": {},
   "outputs": [
    {
     "name": "stderr",
     "output_type": "stream",
     "text": [
      "144122it [00:07, 18863.25it/s]\n"
     ]
    }
   ],
   "source": [
    "w_list = []\n",
    "h_list = []\n",
    "for ind, row in tqdm(labelme_df.iterrows()):\n",
    "    fname = row['fname']\n",
    "    mode = row['mode']\n",
    "    p_ = f'/home/chenyi/workspace/dataset/haowei34k/images/{mode}/{fname}.jpg'\n",
    "    try:\n",
    "        img = Image.open(str(p_))\n",
    "        w,h = img.size\n",
    "    except:\n",
    "        w,h = 0,0\n",
    "        print(p_)\n",
    "    w_list.append(w)\n",
    "    h_list.append(h)  \n",
    "    # break"
   ]
  },
  {
   "cell_type": "code",
   "execution_count": 156,
   "id": "451a0138-3d3d-4fc2-b3b2-03fd4be67cb5",
   "metadata": {},
   "outputs": [],
   "source": [
    "labelme_df['width'] = w_list\n",
    "labelme_df['height'] = h_list"
   ]
  },
  {
   "cell_type": "code",
   "execution_count": 163,
   "id": "d9589ce2-0120-4a99-ac94-670e35df6cc0",
   "metadata": {},
   "outputs": [],
   "source": [
    "names_lab2num = {}\n",
    "for k,v in names.items():\n",
    "    names_lab2num[v[0]] = k"
   ]
  },
  {
   "cell_type": "code",
   "execution_count": 168,
   "id": "7bbd3119-5c40-4761-9ab7-56f7f066509c",
   "metadata": {},
   "outputs": [],
   "source": [
    "labelme_df.to_csv('haowei34k_voc_bboxes_relabel.csv', index=False)"
   ]
  },
  {
   "cell_type": "code",
   "execution_count": 166,
   "id": "a051ebd6-4be8-4360-b849-f3cdf5419810",
   "metadata": {},
   "outputs": [],
   "source": [
    "labelme_df['label_num'] = labelme_df['label43'].apply(lambda x:\n",
    "                                                     names_lab2num[x])"
   ]
  },
  {
   "cell_type": "code",
   "execution_count": 159,
   "id": "6b7eb11f-7348-4c03-8811-d6118d097aa6",
   "metadata": {},
   "outputs": [
    {
     "data": {
      "text/html": [
       "<div>\n",
       "<style scoped>\n",
       "    .dataframe tbody tr th:only-of-type {\n",
       "        vertical-align: middle;\n",
       "    }\n",
       "\n",
       "    .dataframe tbody tr th {\n",
       "        vertical-align: top;\n",
       "    }\n",
       "\n",
       "    .dataframe thead th {\n",
       "        text-align: right;\n",
       "    }\n",
       "</style>\n",
       "<table border=\"1\" class=\"dataframe\">\n",
       "  <thead>\n",
       "    <tr style=\"text-align: right;\">\n",
       "      <th></th>\n",
       "      <th>xmin</th>\n",
       "      <th>ymin</th>\n",
       "      <th>xmax</th>\n",
       "      <th>ymax</th>\n",
       "      <th>width</th>\n",
       "      <th>height</th>\n",
       "    </tr>\n",
       "  </thead>\n",
       "  <tbody>\n",
       "    <tr>\n",
       "      <th>count</th>\n",
       "      <td>144122.000000</td>\n",
       "      <td>144122.000000</td>\n",
       "      <td>144122.000000</td>\n",
       "      <td>144122.000000</td>\n",
       "      <td>144122.000000</td>\n",
       "      <td>144122.000000</td>\n",
       "    </tr>\n",
       "    <tr>\n",
       "      <th>mean</th>\n",
       "      <td>250.523896</td>\n",
       "      <td>519.374481</td>\n",
       "      <td>385.157339</td>\n",
       "      <td>731.878110</td>\n",
       "      <td>640.558131</td>\n",
       "      <td>937.019539</td>\n",
       "    </tr>\n",
       "    <tr>\n",
       "      <th>std</th>\n",
       "      <td>152.861918</td>\n",
       "      <td>403.082670</td>\n",
       "      <td>214.729285</td>\n",
       "      <td>430.394688</td>\n",
       "      <td>332.120837</td>\n",
       "      <td>486.387922</td>\n",
       "    </tr>\n",
       "    <tr>\n",
       "      <th>min</th>\n",
       "      <td>0.000000</td>\n",
       "      <td>0.000000</td>\n",
       "      <td>34.000000</td>\n",
       "      <td>27.000000</td>\n",
       "      <td>173.000000</td>\n",
       "      <td>214.000000</td>\n",
       "    </tr>\n",
       "    <tr>\n",
       "      <th>25%</th>\n",
       "      <td>161.000000</td>\n",
       "      <td>235.000000</td>\n",
       "      <td>263.000000</td>\n",
       "      <td>484.000000</td>\n",
       "      <td>450.000000</td>\n",
       "      <td>657.000000</td>\n",
       "    </tr>\n",
       "    <tr>\n",
       "      <th>50%</th>\n",
       "      <td>216.000000</td>\n",
       "      <td>452.000000</td>\n",
       "      <td>336.000000</td>\n",
       "      <td>637.000000</td>\n",
       "      <td>599.000000</td>\n",
       "      <td>852.000000</td>\n",
       "    </tr>\n",
       "    <tr>\n",
       "      <th>75%</th>\n",
       "      <td>293.000000</td>\n",
       "      <td>701.000000</td>\n",
       "      <td>434.000000</td>\n",
       "      <td>860.000000</td>\n",
       "      <td>720.000000</td>\n",
       "      <td>1000.000000</td>\n",
       "    </tr>\n",
       "    <tr>\n",
       "      <th>max</th>\n",
       "      <td>3013.000000</td>\n",
       "      <td>5513.000000</td>\n",
       "      <td>3534.000000</td>\n",
       "      <td>6031.000000</td>\n",
       "      <td>4195.000000</td>\n",
       "      <td>6286.000000</td>\n",
       "    </tr>\n",
       "  </tbody>\n",
       "</table>\n",
       "</div>"
      ],
      "text/plain": [
       "                xmin           ymin           xmax           ymax  \\\n",
       "count  144122.000000  144122.000000  144122.000000  144122.000000   \n",
       "mean      250.523896     519.374481     385.157339     731.878110   \n",
       "std       152.861918     403.082670     214.729285     430.394688   \n",
       "min         0.000000       0.000000      34.000000      27.000000   \n",
       "25%       161.000000     235.000000     263.000000     484.000000   \n",
       "50%       216.000000     452.000000     336.000000     637.000000   \n",
       "75%       293.000000     701.000000     434.000000     860.000000   \n",
       "max      3013.000000    5513.000000    3534.000000    6031.000000   \n",
       "\n",
       "               width         height  \n",
       "count  144122.000000  144122.000000  \n",
       "mean      640.558131     937.019539  \n",
       "std       332.120837     486.387922  \n",
       "min       173.000000     214.000000  \n",
       "25%       450.000000     657.000000  \n",
       "50%       599.000000     852.000000  \n",
       "75%       720.000000    1000.000000  \n",
       "max      4195.000000    6286.000000  "
      ]
     },
     "execution_count": 159,
     "metadata": {},
     "output_type": "execute_result"
    }
   ],
   "source": [
    "labelme_df.describe()"
   ]
  },
  {
   "cell_type": "code",
   "execution_count": 175,
   "id": "70397938-a72b-4682-b642-5dc86195d426",
   "metadata": {},
   "outputs": [
    {
     "data": {
      "text/html": [
       "<div>\n",
       "<style scoped>\n",
       "    .dataframe tbody tr th:only-of-type {\n",
       "        vertical-align: middle;\n",
       "    }\n",
       "\n",
       "    .dataframe tbody tr th {\n",
       "        vertical-align: top;\n",
       "    }\n",
       "\n",
       "    .dataframe thead th {\n",
       "        text-align: right;\n",
       "    }\n",
       "</style>\n",
       "<table border=\"1\" class=\"dataframe\">\n",
       "  <thead>\n",
       "    <tr style=\"text-align: right;\">\n",
       "      <th></th>\n",
       "      <th>fname</th>\n",
       "      <th>label</th>\n",
       "      <th>xmin</th>\n",
       "      <th>ymin</th>\n",
       "      <th>xmax</th>\n",
       "      <th>ymax</th>\n",
       "      <th>label43</th>\n",
       "      <th>mode</th>\n",
       "      <th>width</th>\n",
       "      <th>height</th>\n",
       "      <th>label_num</th>\n",
       "    </tr>\n",
       "  </thead>\n",
       "  <tbody>\n",
       "    <tr>\n",
       "      <th>6211</th>\n",
       "      <td>20150409155840687</td>\n",
       "      <td>连衣裙（严格型）</td>\n",
       "      <td>71</td>\n",
       "      <td>46</td>\n",
       "      <td>170</td>\n",
       "      <td>204</td>\n",
       "      <td>连衣裙</td>\n",
       "      <td>train</td>\n",
       "      <td>210</td>\n",
       "      <td>280</td>\n",
       "      <td>21</td>\n",
       "    </tr>\n",
       "    <tr>\n",
       "      <th>6212</th>\n",
       "      <td>20150409155840687</td>\n",
       "      <td>包</td>\n",
       "      <td>117</td>\n",
       "      <td>95</td>\n",
       "      <td>179</td>\n",
       "      <td>162</td>\n",
       "      <td>包</td>\n",
       "      <td>train</td>\n",
       "      <td>210</td>\n",
       "      <td>280</td>\n",
       "      <td>35</td>\n",
       "    </tr>\n",
       "    <tr>\n",
       "      <th>19330</th>\n",
       "      <td>20140305214501056</td>\n",
       "      <td>皮衣</td>\n",
       "      <td>59</td>\n",
       "      <td>56</td>\n",
       "      <td>129</td>\n",
       "      <td>130</td>\n",
       "      <td>皮衣外套</td>\n",
       "      <td>train</td>\n",
       "      <td>200</td>\n",
       "      <td>299</td>\n",
       "      <td>3</td>\n",
       "    </tr>\n",
       "    <tr>\n",
       "      <th>19331</th>\n",
       "      <td>20140305214501056</td>\n",
       "      <td>休闲裤</td>\n",
       "      <td>76</td>\n",
       "      <td>124</td>\n",
       "      <td>123</td>\n",
       "      <td>265</td>\n",
       "      <td>休闲裤</td>\n",
       "      <td>train</td>\n",
       "      <td>200</td>\n",
       "      <td>299</td>\n",
       "      <td>18</td>\n",
       "    </tr>\n",
       "    <tr>\n",
       "      <th>19332</th>\n",
       "      <td>20140305214501056</td>\n",
       "      <td>包</td>\n",
       "      <td>81</td>\n",
       "      <td>151</td>\n",
       "      <td>134</td>\n",
       "      <td>203</td>\n",
       "      <td>包</td>\n",
       "      <td>train</td>\n",
       "      <td>200</td>\n",
       "      <td>299</td>\n",
       "      <td>35</td>\n",
       "    </tr>\n",
       "    <tr>\n",
       "      <th>...</th>\n",
       "      <td>...</td>\n",
       "      <td>...</td>\n",
       "      <td>...</td>\n",
       "      <td>...</td>\n",
       "      <td>...</td>\n",
       "      <td>...</td>\n",
       "      <td>...</td>\n",
       "      <td>...</td>\n",
       "      <td>...</td>\n",
       "      <td>...</td>\n",
       "      <td>...</td>\n",
       "    </tr>\n",
       "    <tr>\n",
       "      <th>136950</th>\n",
       "      <td>20141022224902760</td>\n",
       "      <td>小西装（严格型）</td>\n",
       "      <td>58</td>\n",
       "      <td>43</td>\n",
       "      <td>135</td>\n",
       "      <td>144</td>\n",
       "      <td>小西装</td>\n",
       "      <td>train</td>\n",
       "      <td>190</td>\n",
       "      <td>280</td>\n",
       "      <td>0</td>\n",
       "    </tr>\n",
       "    <tr>\n",
       "      <th>136951</th>\n",
       "      <td>20141022224902760</td>\n",
       "      <td>休闲裤（宽容型）</td>\n",
       "      <td>69</td>\n",
       "      <td>131</td>\n",
       "      <td>122</td>\n",
       "      <td>150</td>\n",
       "      <td>休闲裤</td>\n",
       "      <td>train</td>\n",
       "      <td>190</td>\n",
       "      <td>280</td>\n",
       "      <td>18</td>\n",
       "    </tr>\n",
       "    <tr>\n",
       "      <th>136952</th>\n",
       "      <td>20141022224902760</td>\n",
       "      <td>包</td>\n",
       "      <td>48</td>\n",
       "      <td>151</td>\n",
       "      <td>82</td>\n",
       "      <td>233</td>\n",
       "      <td>包</td>\n",
       "      <td>train</td>\n",
       "      <td>190</td>\n",
       "      <td>280</td>\n",
       "      <td>35</td>\n",
       "    </tr>\n",
       "    <tr>\n",
       "      <th>136953</th>\n",
       "      <td>20141022224902760</td>\n",
       "      <td>正装女鞋（宽容型）</td>\n",
       "      <td>78</td>\n",
       "      <td>234</td>\n",
       "      <td>93</td>\n",
       "      <td>278</td>\n",
       "      <td>正装女鞋</td>\n",
       "      <td>train</td>\n",
       "      <td>190</td>\n",
       "      <td>280</td>\n",
       "      <td>23</td>\n",
       "    </tr>\n",
       "    <tr>\n",
       "      <th>136954</th>\n",
       "      <td>20141022224902760</td>\n",
       "      <td>正装女鞋（宽容型）</td>\n",
       "      <td>102</td>\n",
       "      <td>233</td>\n",
       "      <td>122</td>\n",
       "      <td>274</td>\n",
       "      <td>正装女鞋</td>\n",
       "      <td>train</td>\n",
       "      <td>190</td>\n",
       "      <td>280</td>\n",
       "      <td>23</td>\n",
       "    </tr>\n",
       "  </tbody>\n",
       "</table>\n",
       "<p>75 rows × 11 columns</p>\n",
       "</div>"
      ],
      "text/plain": [
       "                    fname      label  xmin  ymin  xmax  ymax label43   mode  \\\n",
       "6211    20150409155840687   连衣裙（严格型）    71    46   170   204     连衣裙  train   \n",
       "6212    20150409155840687          包   117    95   179   162       包  train   \n",
       "19330   20140305214501056         皮衣    59    56   129   130    皮衣外套  train   \n",
       "19331   20140305214501056        休闲裤    76   124   123   265     休闲裤  train   \n",
       "19332   20140305214501056          包    81   151   134   203       包  train   \n",
       "...                   ...        ...   ...   ...   ...   ...     ...    ...   \n",
       "136950  20141022224902760   小西装（严格型）    58    43   135   144     小西装  train   \n",
       "136951  20141022224902760   休闲裤（宽容型）    69   131   122   150     休闲裤  train   \n",
       "136952  20141022224902760          包    48   151    82   233       包  train   \n",
       "136953  20141022224902760  正装女鞋（宽容型）    78   234    93   278    正装女鞋  train   \n",
       "136954  20141022224902760  正装女鞋（宽容型）   102   233   122   274    正装女鞋  train   \n",
       "\n",
       "        width  height  label_num  \n",
       "6211      210     280         21  \n",
       "6212      210     280         35  \n",
       "19330     200     299          3  \n",
       "19331     200     299         18  \n",
       "19332     200     299         35  \n",
       "...       ...     ...        ...  \n",
       "136950    190     280          0  \n",
       "136951    190     280         18  \n",
       "136952    190     280         35  \n",
       "136953    190     280         23  \n",
       "136954    190     280         23  \n",
       "\n",
       "[75 rows x 11 columns]"
      ]
     },
     "execution_count": 175,
     "metadata": {},
     "output_type": "execute_result"
    }
   ],
   "source": [
    "labelme_df[labelme_df['height']<300]"
   ]
  },
  {
   "cell_type": "code",
   "execution_count": null,
   "id": "4db4f8ae-eeb8-41c3-aed3-9be8ac29ff91",
   "metadata": {},
   "outputs": [],
   "source": []
  }
 ],
 "metadata": {
  "kernelspec": {
   "display_name": "Python 3 (ipykernel)",
   "language": "python",
   "name": "python3"
  },
  "language_info": {
   "codemirror_mode": {
    "name": "ipython",
    "version": 3
   },
   "file_extension": ".py",
   "mimetype": "text/x-python",
   "name": "python",
   "nbconvert_exporter": "python",
   "pygments_lexer": "ipython3",
   "version": "3.8.13"
  }
 },
 "nbformat": 4,
 "nbformat_minor": 5
}
