{
 "cells": [
  {
   "cell_type": "code",
   "execution_count": null,
   "id": "61440fc4-64c2-4347-b092-b921a1ffdced",
   "metadata": {},
   "outputs": [],
   "source": [
    "from lxml import etree\n",
    "import glob"
   ]
  },
  {
   "cell_type": "code",
   "execution_count": null,
   "id": "0c977c2d-9e98-4ff3-9028-ddb6d67ccfb2",
   "metadata": {},
   "outputs": [],
   "source": [
    "from pathlib import Path\n",
    "from tqdm import tqdm"
   ]
  },
  {
   "cell_type": "code",
   "execution_count": null,
   "id": "363626fe-f1f4-4068-831f-322a201c8730",
   "metadata": {},
   "outputs": [],
   "source": [
    "import pandas as pd\n",
    "import numpy as np\n",
    "import os,sys"
   ]
  },
  {
   "cell_type": "code",
   "execution_count": null,
   "id": "6e949893-e57a-40c2-b22b-3ccace0fce88",
   "metadata": {},
   "outputs": [],
   "source": [
    "import re\n",
    "from PIL import Image"
   ]
  },
  {
   "cell_type": "code",
   "execution_count": null,
   "id": "838ae80f-ae36-468d-9579-8f3a2c5061f3",
   "metadata": {},
   "outputs": [],
   "source": []
  },
  {
   "cell_type": "code",
   "execution_count": null,
   "id": "67b62593-bc5c-4dcc-b9a7-72771451aa66",
   "metadata": {},
   "outputs": [],
   "source": []
  },
  {
   "cell_type": "markdown",
   "id": "92447f6e-fe11-48e1-affa-81bd55d61d11",
   "metadata": {},
   "source": [
    "### 1.Data Loader."
   ]
  },
  {
   "cell_type": "code",
   "execution_count": 13,
   "id": "27fee964-1a5d-4704-b25e-997a39d65749",
   "metadata": {},
   "outputs": [],
   "source": [
    "root = Path('/nas/chenyi/datasets_nas/dada_det/xml/sys_hard_sample_xml/hard_sample_xml_0610/')"
   ]
  },
  {
   "cell_type": "code",
   "execution_count": 14,
   "id": "0e7cf03f-050d-42fd-948d-7fed33a11af6",
   "metadata": {},
   "outputs": [
    {
     "data": {
      "text/plain": [
       "60"
      ]
     },
     "execution_count": 14,
     "metadata": {},
     "output_type": "execute_result"
    }
   ],
   "source": [
    "xml_list = glob.glob(str(root /'*.xml'))\n",
    "# xml_list += glob.glob(str(root /'*/*/*.xml'))\n",
    "# xml_list += glob.glob(str(root /'*/*/*/*.xml'))\n",
    "len(xml_list)"
   ]
  },
  {
   "cell_type": "code",
   "execution_count": 15,
   "id": "79200e7e-697e-407f-838e-b3be421f170d",
   "metadata": {},
   "outputs": [
    {
     "data": {
      "text/plain": [
       "(60, 60)"
      ]
     },
     "execution_count": 15,
     "metadata": {},
     "output_type": "execute_result"
    }
   ],
   "source": [
    "# 核查xml是否有重复\n",
    "xml_df = pd.DataFrame()\n",
    "xml_df['path'] = xml_list\n",
    "xml_df['stem'] = xml_df['path'].apply(lambda x: Path(x).stem)\n",
    "len(xml_df),len(xml_df.drop_duplicates('stem'))"
   ]
  },
  {
   "cell_type": "code",
   "execution_count": null,
   "id": "a6a220a4-569d-4880-a1d5-8186c6ff66a6",
   "metadata": {},
   "outputs": [],
   "source": []
  },
  {
   "cell_type": "code",
   "execution_count": null,
   "id": "4c71a135-9385-419c-814c-32ed98d17445",
   "metadata": {},
   "outputs": [],
   "source": []
  },
  {
   "cell_type": "markdown",
   "id": "e5b03a78-28f5-4f6d-9b41-9434c9407667",
   "metadata": {
    "tags": []
   },
   "source": [
    "### 接口"
   ]
  },
  {
   "cell_type": "code",
   "execution_count": 16,
   "id": "c6cc979d-19ba-4f76-a8d5-55e81e7c06f1",
   "metadata": {},
   "outputs": [],
   "source": [
    "def voc2yolo():\n",
    "    center_x = (xmin + (xmax-xmin)/2)/width\n",
    "    center_y = (ymin + (ymax-ymin)/2)/height\n",
    "    bdb_w = (xmax-xmin)/width\n",
    "    bdb_h = (ymax-ymin)/height"
   ]
  },
  {
   "cell_type": "code",
   "execution_count": null,
   "id": "7dc0f195-518d-4a57-b7a6-8e6cf041128c",
   "metadata": {},
   "outputs": [],
   "source": []
  },
  {
   "cell_type": "code",
   "execution_count": 17,
   "id": "97623b2d-8cdd-44a4-9ae5-e0e725aec4d7",
   "metadata": {},
   "outputs": [],
   "source": [
    "def parse_xml(p):\n",
    "    trees = etree.parse(p)\n",
    "    width, height = int(trees.find('size/width').text), int(trees.find('size/height').text)\n",
    "    bboxes = []\n",
    "    for obj in trees.findall('object'):\n",
    "        bx = []\n",
    "        bx.append(p)\n",
    "        bx.append(int(width))\n",
    "        bx.append(int(height))\n",
    "        bdb = obj.find('bndbox')\n",
    "        bx.append(obj.find('name').text)\n",
    "        bx.append(int(bdb.find('xmin').text))\n",
    "        bx.append(int(bdb.find('ymin').text))\n",
    "        bx.append(int(bdb.find('xmax').text))\n",
    "        bx.append(int(bdb.find('ymax').text))\n",
    "        bboxes.append(bx)\n",
    "    return bboxes"
   ]
  },
  {
   "cell_type": "code",
   "execution_count": null,
   "id": "7bce8dd9-9bf5-4ce1-b66f-96e07a700582",
   "metadata": {},
   "outputs": [],
   "source": []
  },
  {
   "cell_type": "code",
   "execution_count": 97,
   "id": "704f6442-96c7-4164-951f-8cea12752231",
   "metadata": {},
   "outputs": [],
   "source": [
    "model_label_map = {\n",
    "    0: 10,  # 鞋子\n",
    "    1: 8,  # 包包\n",
    "    2: 4,  # 上装\n",
    "    3: 5,  # 裤子\n",
    "    4: 6,  # 裙子\n",
    "    5: 7,  # 连体装\n",
    "}"
   ]
  },
  {
   "cell_type": "code",
   "execution_count": null,
   "id": "a3024e83-ee63-426f-a9d2-b01eb125bc23",
   "metadata": {},
   "outputs": [],
   "source": []
  },
  {
   "cell_type": "code",
   "execution_count": null,
   "id": "9d80a8d1-fbe8-4c53-9fac-18a9ab39211a",
   "metadata": {},
   "outputs": [],
   "source": []
  },
  {
   "cell_type": "markdown",
   "id": "5533659e-cedd-4d6d-8705-2fb79b0631cc",
   "metadata": {},
   "source": [
    "### 解析XML"
   ]
  },
  {
   "cell_type": "code",
   "execution_count": 18,
   "id": "f8af3451-e6ed-4451-a5dc-3ff56b001fd9",
   "metadata": {},
   "outputs": [
    {
     "name": "stderr",
     "output_type": "stream",
     "text": [
      "100%|████████████████████████████████████████████████████████████████████████████████| 60/60 [00:00<00:00, 228.01it/s]\n"
     ]
    }
   ],
   "source": [
    "bboxes_list = []\n",
    "for p in tqdm(xml_list):\n",
    "    row = parse_xml(p)\n",
    "    bboxes_list += row\n",
    "    # break"
   ]
  },
  {
   "cell_type": "code",
   "execution_count": null,
   "id": "211b6837-1886-4da7-8b8c-fc8324065651",
   "metadata": {},
   "outputs": [],
   "source": []
  },
  {
   "cell_type": "code",
   "execution_count": null,
   "id": "141121ce-21f1-4f2e-ac07-2f77b7aedcc8",
   "metadata": {},
   "outputs": [],
   "source": []
  },
  {
   "cell_type": "code",
   "execution_count": 19,
   "id": "7cc5c467-d0f7-49f8-8ffb-eb0ac07a2dc1",
   "metadata": {},
   "outputs": [],
   "source": [
    "df = pd.DataFrame(bboxes_list)"
   ]
  },
  {
   "cell_type": "code",
   "execution_count": 20,
   "id": "53e036de-4786-4902-85f3-f00de22d9f9d",
   "metadata": {},
   "outputs": [
    {
     "data": {
      "text/plain": [
       "array([['/nas/chenyi/datasets_nas/dada_det/xml/sys_hard_sample_xml/hard_sample_xml_0610/0bd04a4b-cef0-48d6-8fd2-d5a399012059.xml',\n",
       "        3024, 4032, '连衣裙', 170, 220, 2588, 3890],\n",
       "       ['/nas/chenyi/datasets_nas/dada_det/xml/sys_hard_sample_xml/hard_sample_xml_0610/lQDPDht0B1atyB7NBwDNBUCw0OcCfSxkGL8CjsZJ5kDJAA_1344_1792.jpg_720x720g.xml',\n",
       "        540, 720, '连衣裙', 170, 78, 461, 709]], dtype=object)"
      ]
     },
     "execution_count": 20,
     "metadata": {},
     "output_type": "execute_result"
    }
   ],
   "source": [
    "df.head(2).values"
   ]
  },
  {
   "cell_type": "code",
   "execution_count": 22,
   "id": "20a56e47-d3e4-46f4-a974-c02643801679",
   "metadata": {},
   "outputs": [],
   "source": [
    "# df['man'] = df[int(df.columns[0])].apply(lambda x: re.findall('wholebody0609_xml/.*?_(.*?)/', x)[0])"
   ]
  },
  {
   "cell_type": "code",
   "execution_count": null,
   "id": "249d490c-5b84-4973-87b3-7a0d768bbf2e",
   "metadata": {},
   "outputs": [],
   "source": [
    "df.value_counts('man')"
   ]
  },
  {
   "cell_type": "code",
   "execution_count": 137,
   "id": "048b0e1c-bd6a-4d98-9232-d7f18dbea204",
   "metadata": {},
   "outputs": [],
   "source": [
    "# df.to_csv('../data/sys_error_sample/sys_error_june.csv', index=False)"
   ]
  },
  {
   "cell_type": "code",
   "execution_count": null,
   "id": "8b3024eb-ea21-43cc-a555-0e53b028e4ae",
   "metadata": {},
   "outputs": [],
   "source": []
  },
  {
   "cell_type": "code",
   "execution_count": null,
   "id": "3ee21a7d-36a6-4c7e-a430-a5cc76cbace7",
   "metadata": {},
   "outputs": [],
   "source": []
  },
  {
   "cell_type": "markdown",
   "id": "eedbf1f9-c36d-4fdb-a653-947f1ac620bb",
   "metadata": {
    "tags": []
   },
   "source": [
    "### 数据展示"
   ]
  },
  {
   "cell_type": "code",
   "execution_count": 24,
   "id": "2931b06c-5132-4f1f-98da-9b03642c1dca",
   "metadata": {},
   "outputs": [
    {
     "name": "stdout",
     "output_type": "stream",
     "text": [
      "\u001b[01;34m/home/chenyi/workspace/dataset/data/dada_det\u001b[00m\n",
      "├── \u001b[01;34mhard_sample_0610\u001b[00m\n",
      "├── \u001b[01;34m__MACOSX\u001b[00m\n",
      "├── \u001b[01;34mshoe_bag11k_may\u001b[00m\n",
      "├── \u001b[01;34mshoeBag5k0515\u001b[00m\n",
      "└── \u001b[01;34mwholebody0601_all\u001b[00m\n",
      "\n",
      "5 directories\n"
     ]
    }
   ],
   "source": [
    "!tree -d -L 1 /home/chenyi/workspace/dataset/data/dada_det"
   ]
  },
  {
   "cell_type": "code",
   "execution_count": 25,
   "id": "ef350f3a-f985-4478-a6d3-881ebebc22d2",
   "metadata": {},
   "outputs": [],
   "source": [
    "ROOT = Path('/home/chenyi/workspace/dataset/data/dada_det/hard_sample_0610/')"
   ]
  },
  {
   "cell_type": "code",
   "execution_count": null,
   "id": "1384bc35-7a3c-4aa7-b20b-785e3c8f3d26",
   "metadata": {},
   "outputs": [],
   "source": []
  },
  {
   "cell_type": "markdown",
   "id": "ce87577c-3515-4c62-8514-76c7336d8aa8",
   "metadata": {
    "tags": []
   },
   "source": [
    "#### 获取对应的图像路径"
   ]
  },
  {
   "cell_type": "code",
   "execution_count": null,
   "id": "232eaebd-6f1f-4538-9908-7d812dff0a13",
   "metadata": {},
   "outputs": [],
   "source": [
    "!tree -d -L 1 /home/chenyi/workspace/dataset/data/dada_det/"
   ]
  },
  {
   "cell_type": "code",
   "execution_count": 26,
   "id": "9b22a89d-9a9e-494e-83f8-24468ea45b94",
   "metadata": {},
   "outputs": [],
   "source": [
    "bboxes_df = pd.read_csv('../data/sys_error_sample/sys_error_june.csv')"
   ]
  },
  {
   "cell_type": "code",
   "execution_count": 27,
   "id": "75a24ca3-697f-47e2-b2a7-4126d879fb10",
   "metadata": {},
   "outputs": [],
   "source": [
    "bboxes_df['stem'] = bboxes_df[bboxes_df.columns[0]].apply(lambda x: Path(x).stem)"
   ]
  },
  {
   "cell_type": "code",
   "execution_count": 35,
   "id": "f7128987-2795-45f6-aef0-a367cd8bb58f",
   "metadata": {},
   "outputs": [],
   "source": [
    "img_list = glob.glob(str(ROOT /'*.jpg'))"
   ]
  },
  {
   "cell_type": "code",
   "execution_count": 36,
   "id": "5efdb98d-a09f-40f6-bdd0-372bf65a2c26",
   "metadata": {},
   "outputs": [],
   "source": [
    "img_df = pd.DataFrame()\n",
    "img_df['path'] = img_list"
   ]
  },
  {
   "cell_type": "code",
   "execution_count": 37,
   "id": "847e2489-2e48-4408-9984-e24f3ea05e1e",
   "metadata": {},
   "outputs": [],
   "source": [
    "img_df['stem'] = img_df['path'].apply(lambda x: Path(x).stem)"
   ]
  },
  {
   "cell_type": "code",
   "execution_count": 38,
   "id": "e64540e2-0fb5-44b1-8a4c-e6c8cdeb025a",
   "metadata": {},
   "outputs": [
    {
     "data": {
      "text/plain": [
       "(60, 60, 60, 60)"
      ]
     },
     "execution_count": 38,
     "metadata": {},
     "output_type": "execute_result"
    }
   ],
   "source": [
    "# xml是否都有对应的图片\n",
    "cross_df = bboxes_df[bboxes_df['stem'].isin(img_df['stem'])]\n",
    "len(cross_df), len(bboxes_df), len(cross_df.drop_duplicates('stem')), len(bboxes_df.drop_duplicates('stem'))"
   ]
  },
  {
   "cell_type": "code",
   "execution_count": 39,
   "id": "e1fc9963-904f-42be-bbeb-ab96e854e2f0",
   "metadata": {},
   "outputs": [
    {
     "data": {
      "text/plain": [
       "(60, 60)"
      ]
     },
     "execution_count": 39,
     "metadata": {},
     "output_type": "execute_result"
    }
   ],
   "source": [
    "# 图片是否有重复\n",
    "len(img_df), len(img_df.drop_duplicates('stem'))"
   ]
  },
  {
   "cell_type": "code",
   "execution_count": null,
   "id": "095fa1f0-f976-41c9-b6e9-a879e7d308bb",
   "metadata": {},
   "outputs": [],
   "source": []
  },
  {
   "cell_type": "code",
   "execution_count": null,
   "id": "a73e20f6-1e10-4f23-80ad-1d25dca21d81",
   "metadata": {},
   "outputs": [],
   "source": []
  },
  {
   "cell_type": "markdown",
   "id": "ab9370ae-ebd9-43d0-b0a8-03f140c5222b",
   "metadata": {},
   "source": [
    "##### 获取bbox对应的图片"
   ]
  },
  {
   "cell_type": "code",
   "execution_count": 130,
   "id": "8cb3eb35-62c1-4795-a228-ea229bfb6430",
   "metadata": {},
   "outputs": [],
   "source": [
    "# 对应的图片\n",
    "img_df = img_df[img_df['stem'].isin(bboxes_df['stem'])]"
   ]
  },
  {
   "cell_type": "code",
   "execution_count": 131,
   "id": "da5eb758-0bce-4f1f-8254-e21607eaf95f",
   "metadata": {},
   "outputs": [],
   "source": [
    "gp = dict(list(img_df.groupby('stem')))"
   ]
  },
  {
   "cell_type": "code",
   "execution_count": 132,
   "id": "56aca408-79c4-4f79-b8d6-9436e56cca1e",
   "metadata": {},
   "outputs": [],
   "source": [
    "stem2path = {}\n",
    "for path,stem in zip(img_df['path'].values, img_df['stem'].values):\n",
    "    stem2path[stem] = path"
   ]
  },
  {
   "cell_type": "code",
   "execution_count": 133,
   "id": "f0ff9619-170d-4416-acd0-d13a59d48ca0",
   "metadata": {},
   "outputs": [],
   "source": [
    "df = bboxes_df\n",
    "p_list = []\n",
    "for ind, row in df.iterrows():\n",
    "    stem = row['stem']\n",
    "    p = stem2path[stem]\n",
    "    p_list.append(p)"
   ]
  },
  {
   "cell_type": "code",
   "execution_count": 134,
   "id": "fca92b7b-f09c-42cf-9466-d85b9998ed8d",
   "metadata": {},
   "outputs": [
    {
     "data": {
      "text/plain": [
       "'/home/chenyi/workspace/dataset/data/dada_det/hard_sample_0610/3da34321-75d6-4415-8fd3-a88b83bf9dd8.jpg'"
      ]
     },
     "execution_count": 134,
     "metadata": {},
     "output_type": "execute_result"
    }
   ],
   "source": [
    "stem2path[stem]"
   ]
  },
  {
   "cell_type": "code",
   "execution_count": 135,
   "id": "ebf8863d-9fa3-4f1a-8536-65d3d72366c0",
   "metadata": {},
   "outputs": [],
   "source": [
    "df['img_sp'] = p_list"
   ]
  },
  {
   "cell_type": "code",
   "execution_count": null,
   "id": "1045d76a-d3ea-402d-9deb-bc9224892ddc",
   "metadata": {},
   "outputs": [],
   "source": []
  },
  {
   "cell_type": "code",
   "execution_count": null,
   "id": "faf709b9-4d45-417a-95a6-aa36b1170dde",
   "metadata": {},
   "outputs": [],
   "source": []
  },
  {
   "cell_type": "markdown",
   "id": "e7ee1cb4-bc9f-4cec-a1d1-507c518c8b6e",
   "metadata": {},
   "source": [
    "##### 获取图片的宽和高"
   ]
  },
  {
   "cell_type": "code",
   "execution_count": 138,
   "id": "4ca80adc-108e-4ceb-bb51-ba8a7ca7ff48",
   "metadata": {},
   "outputs": [
    {
     "name": "stderr",
     "output_type": "stream",
     "text": [
      "60it [00:00, 879.36it/s]\n"
     ]
    }
   ],
   "source": [
    "w_list = []\n",
    "h_list = []\n",
    "for ind,row in tqdm(df.iterrows()):\n",
    "    img_sp = row['img_sp']\n",
    "    img = Image.open(img_sp)\n",
    "    w, h = img.size\n",
    "    w_list.append(w)\n",
    "    h_list.append(h)\n",
    "    # break"
   ]
  },
  {
   "cell_type": "code",
   "execution_count": 139,
   "id": "1500a6bd-b342-467f-b948-6720cd2b182e",
   "metadata": {},
   "outputs": [],
   "source": [
    "df[df.columns[1]] = w_list\n",
    "df[df.columns[2]] = h_list"
   ]
  },
  {
   "cell_type": "code",
   "execution_count": 140,
   "id": "ce825b38-f2bf-4d25-b596-fe79bf654253",
   "metadata": {},
   "outputs": [
    {
     "data": {
      "text/html": [
       "<div>\n",
       "<style scoped>\n",
       "    .dataframe tbody tr th:only-of-type {\n",
       "        vertical-align: middle;\n",
       "    }\n",
       "\n",
       "    .dataframe tbody tr th {\n",
       "        vertical-align: top;\n",
       "    }\n",
       "\n",
       "    .dataframe thead th {\n",
       "        text-align: right;\n",
       "    }\n",
       "</style>\n",
       "<table border=\"1\" class=\"dataframe\">\n",
       "  <thead>\n",
       "    <tr style=\"text-align: right;\">\n",
       "      <th></th>\n",
       "      <th>0</th>\n",
       "      <th>1</th>\n",
       "      <th>2</th>\n",
       "      <th>3</th>\n",
       "      <th>4</th>\n",
       "      <th>5</th>\n",
       "      <th>6</th>\n",
       "      <th>7</th>\n",
       "      <th>stem</th>\n",
       "      <th>label_model</th>\n",
       "      <th>label6</th>\n",
       "      <th>img_sp</th>\n",
       "    </tr>\n",
       "  </thead>\n",
       "  <tbody>\n",
       "    <tr>\n",
       "      <th>0</th>\n",
       "      <td>/nas/chenyi/datasets_nas/dada_det/xml/sys_hard_sample_xml/hard_sample_xml_0610/0bd04a4b-cef0-48d6-8fd2-d5a399012059.xml</td>\n",
       "      <td>3024</td>\n",
       "      <td>4032</td>\n",
       "      <td>连衣裙</td>\n",
       "      <td>170</td>\n",
       "      <td>220</td>\n",
       "      <td>2588</td>\n",
       "      <td>3890</td>\n",
       "      <td>0bd04a4b-cef0-48d6-8fd2-d5a399012059</td>\n",
       "      <td>5</td>\n",
       "      <td>7</td>\n",
       "      <td>/home/chenyi/workspace/dataset/data/dada_det/hard_sample_0610/0bd04a4b-cef0-48d6-8fd2-d5a399012059.jpg</td>\n",
       "    </tr>\n",
       "    <tr>\n",
       "      <th>1</th>\n",
       "      <td>/nas/chenyi/datasets_nas/dada_det/xml/sys_hard_sample_xml/hard_sample_xml_0610/lQDPDht0B1atyB7NBwDNBUCw0OcCfSxkGL8CjsZJ5kDJAA_1344_1792.jpg_720x720g.xml</td>\n",
       "      <td>540</td>\n",
       "      <td>720</td>\n",
       "      <td>连衣裙</td>\n",
       "      <td>170</td>\n",
       "      <td>78</td>\n",
       "      <td>461</td>\n",
       "      <td>709</td>\n",
       "      <td>lQDPDht0B1atyB7NBwDNBUCw0OcCfSxkGL8CjsZJ5kDJAA_1344_1792.jpg_720x720g</td>\n",
       "      <td>5</td>\n",
       "      <td>7</td>\n",
       "      <td>/home/chenyi/workspace/dataset/data/dada_det/hard_sample_0610/lQDPDht0B1atyB7NBwDNBUCw0OcCfSxkGL8CjsZJ5kDJAA_1344_1792.jpg_720x720g.jpg</td>\n",
       "    </tr>\n",
       "  </tbody>\n",
       "</table>\n",
       "</div>"
      ],
      "text/plain": [
       "                                                                                                                                                          0  \\\n",
       "0  /nas/chenyi/datasets_nas/dada_det/xml/sys_hard_sample_xml/hard_sample_xml_0610/0bd04a4b-cef0-48d6-8fd2-d5a399012059.xml                                    \n",
       "1  /nas/chenyi/datasets_nas/dada_det/xml/sys_hard_sample_xml/hard_sample_xml_0610/lQDPDht0B1atyB7NBwDNBUCw0OcCfSxkGL8CjsZJ5kDJAA_1344_1792.jpg_720x720g.xml   \n",
       "\n",
       "      1     2    3    4    5     6     7  \\\n",
       "0  3024  4032  连衣裙  170  220  2588  3890   \n",
       "1  540   720   连衣裙  170  78   461   709    \n",
       "\n",
       "                                                                    stem  \\\n",
       "0  0bd04a4b-cef0-48d6-8fd2-d5a399012059                                    \n",
       "1  lQDPDht0B1atyB7NBwDNBUCw0OcCfSxkGL8CjsZJ5kDJAA_1344_1792.jpg_720x720g   \n",
       "\n",
       "   label_model  label6  \\\n",
       "0  5            7        \n",
       "1  5            7        \n",
       "\n",
       "                                                                                                                                    img_sp  \n",
       "0  /home/chenyi/workspace/dataset/data/dada_det/hard_sample_0610/0bd04a4b-cef0-48d6-8fd2-d5a399012059.jpg                                   \n",
       "1  /home/chenyi/workspace/dataset/data/dada_det/hard_sample_0610/lQDPDht0B1atyB7NBwDNBUCw0OcCfSxkGL8CjsZJ5kDJAA_1344_1792.jpg_720x720g.jpg  "
      ]
     },
     "execution_count": 140,
     "metadata": {},
     "output_type": "execute_result"
    }
   ],
   "source": [
    "df.head(2)"
   ]
  },
  {
   "cell_type": "code",
   "execution_count": 141,
   "id": "9bef437f-3cd3-4979-9b76-bc41ee5c70d2",
   "metadata": {},
   "outputs": [],
   "source": [
    "# df.to_csv('../data/sys_error_sample/sys_error_june.csv', index=False)"
   ]
  },
  {
   "cell_type": "code",
   "execution_count": null,
   "id": "72082e66-3958-4e04-a9fc-dc2126dd9757",
   "metadata": {},
   "outputs": [],
   "source": []
  },
  {
   "cell_type": "code",
   "execution_count": null,
   "id": "c6f9a15d-c80e-4392-bd11-10c18feabd52",
   "metadata": {},
   "outputs": [],
   "source": []
  },
  {
   "cell_type": "markdown",
   "id": "ba088f5d-b947-4e39-bf8b-22c0b85a98c8",
   "metadata": {},
   "source": [
    "#### 处理打标标签"
   ]
  },
  {
   "cell_type": "markdown",
   "id": "54e6205f-e920-4de9-acd3-02102fa5d90f",
   "metadata": {},
   "source": [
    "##### 构建中文标签和业务id映射"
   ]
  },
  {
   "cell_type": "code",
   "execution_count": 45,
   "id": "de66ce83-47a7-49c0-bc6f-3d22318a95d9",
   "metadata": {},
   "outputs": [],
   "source": [
    "# counter = df.value_counts(df.columns[3])\n",
    "# name_list = [item[0] for item in list(counter.index)]\n",
    "# name_df = pd.DataFrame()\n",
    "# name_df['name'] = name_list"
   ]
  },
  {
   "cell_type": "code",
   "execution_count": 121,
   "id": "edcb2d1f-0e63-43f5-a60c-d963c99e2cba",
   "metadata": {},
   "outputs": [],
   "source": [
    "import json\n",
    "with open('../../../data/dict/name_chi2l1.json', 'r') as f:\n",
    "    name_chi2l1 = json.load(f)"
   ]
  },
  {
   "cell_type": "code",
   "execution_count": null,
   "id": "df8e65ee-d5ec-4c84-85a4-a25f68ed2fb9",
   "metadata": {},
   "outputs": [],
   "source": []
  },
  {
   "cell_type": "code",
   "execution_count": 55,
   "id": "04b73d86-c61c-405c-ad2e-3b32905eaaa2",
   "metadata": {},
   "outputs": [],
   "source": [
    "def get_list2dict(k_list, v_list):\n",
    "    d = {}\n",
    "    for item in zip(k_list, v_list):\n",
    "        d[item[0]] = item[1]\n",
    "    return d"
   ]
  },
  {
   "cell_type": "code",
   "execution_count": 122,
   "id": "3a947902-51fd-4592-a16e-ea74b23ab06a",
   "metadata": {},
   "outputs": [],
   "source": [
    "df['label6'] = df[df.columns[3]].map(name_chi2l1)"
   ]
  },
  {
   "cell_type": "code",
   "execution_count": 123,
   "id": "ecbb5a7c-5bff-44a3-99a4-0d6bd58ef012",
   "metadata": {},
   "outputs": [
    {
     "data": {
      "text/plain": [
       "label6\n",
       "4    27\n",
       "7    19\n",
       "6    8 \n",
       "8    4 \n",
       "5    2 \n",
       "dtype: int64"
      ]
     },
     "execution_count": 123,
     "metadata": {},
     "output_type": "execute_result"
    }
   ],
   "source": [
    "df.value_counts('label6')"
   ]
  },
  {
   "cell_type": "code",
   "execution_count": 115,
   "id": "6562d839-3b5e-4b1c-8fcd-e5041592f7af",
   "metadata": {},
   "outputs": [],
   "source": [
    "# 增加多出的中文标签映射\n",
    "# name_chi2l1['皮衣外套'] = 4"
   ]
  },
  {
   "cell_type": "code",
   "execution_count": 116,
   "id": "de2c52c6-3354-4868-9c64-1c1428412a77",
   "metadata": {},
   "outputs": [],
   "source": [
    "import json\n",
    "with open('../../../data/dict/name_chi2l1.json', 'w') as f:\n",
    "    json.dump(name_chi2l1, f)"
   ]
  },
  {
   "cell_type": "code",
   "execution_count": null,
   "id": "940a29f4-82a7-4e98-970e-56298bb56f6a",
   "metadata": {},
   "outputs": [],
   "source": []
  },
  {
   "cell_type": "code",
   "execution_count": 124,
   "id": "134a0a31-23c7-4cb7-a7e2-67ea49446677",
   "metadata": {},
   "outputs": [
    {
     "data": {
      "text/plain": [
       "{0: 10, 1: 8, 2: 4, 3: 5, 4: 6, 5: 7}"
      ]
     },
     "execution_count": 124,
     "metadata": {},
     "output_type": "execute_result"
    }
   ],
   "source": [
    "model_label_map"
   ]
  },
  {
   "cell_type": "code",
   "execution_count": 126,
   "id": "e8058c8e-84cc-4092-8ad7-3803cd79eaa9",
   "metadata": {},
   "outputs": [],
   "source": [
    "l1_map_model = get_list2dict(model_label_map.values(), model_label_map.keys())\n",
    "df['label_model'] = df['label6'].map(l1_map_model)"
   ]
  },
  {
   "cell_type": "code",
   "execution_count": null,
   "id": "e7c46ea0-ba3d-4f3f-b7b4-68f574c3ca97",
   "metadata": {},
   "outputs": [],
   "source": []
  },
  {
   "cell_type": "markdown",
   "id": "63cec4fb-c4ef-408b-821e-4b59e24b4c33",
   "metadata": {},
   "source": [
    "##### 存储目标index"
   ]
  },
  {
   "cell_type": "code",
   "execution_count": null,
   "id": "17c69c67-c6d1-496e-8f31-e327fe3a3c98",
   "metadata": {},
   "outputs": [],
   "source": [
    "# df = pd.read_csv('../data/wh.csv')"
   ]
  },
  {
   "cell_type": "code",
   "execution_count": null,
   "id": "e57e1daf-0657-4d24-8515-0ea350a219cb",
   "metadata": {},
   "outputs": [],
   "source": [
    "!ls /nas/chenyi/datasets_cls/dada_det_drawed/wholebody_jul_drawed"
   ]
  },
  {
   "cell_type": "code",
   "execution_count": null,
   "id": "34540dea-c130-4954-aeee-1c6209166b9e",
   "metadata": {},
   "outputs": [],
   "source": [
    "!mkdir -p /nas/chenyi/datasets_cls/dada_det_drawed/wholebody_jul_drawed"
   ]
  },
  {
   "cell_type": "code",
   "execution_count": null,
   "id": "ef7716cd-64d6-4073-a6b0-5191e274c122",
   "metadata": {},
   "outputs": [],
   "source": [
    "draw_root = Path('/nas/chenyi/datasets_cls/dada_det_drawed/wholebody_jul_drawed')"
   ]
  },
  {
   "cell_type": "code",
   "execution_count": null,
   "id": "daea1e05-4f61-4c1d-91fd-b038e8afbaa9",
   "metadata": {},
   "outputs": [],
   "source": [
    "df.head(2).values"
   ]
  },
  {
   "cell_type": "code",
   "execution_count": null,
   "id": "b0ba177b-be71-4003-9996-3219f14a43b0",
   "metadata": {},
   "outputs": [],
   "source": [
    "df['img_tp'] = df['img_sp'].apply(lambda x:'{0}/{1}/{2}'.format(draw_root, Path(x).parts[-2], Path(x).name))"
   ]
  },
  {
   "cell_type": "code",
   "execution_count": null,
   "id": "4717ccee-c91c-4220-9c94-32d638b844e6",
   "metadata": {},
   "outputs": [],
   "source": [
    "sys.path.append('../../../')\n",
    "from utils.plots.plots import draw_bbox\n",
    "import cv2\n",
    "from PIL import Image"
   ]
  },
  {
   "cell_type": "code",
   "execution_count": null,
   "id": "e08d41fe-5d11-429c-bf5c-9e2964c345d6",
   "metadata": {},
   "outputs": [],
   "source": []
  },
  {
   "cell_type": "code",
   "execution_count": null,
   "id": "63484868-f555-4a69-918e-a5d6d004755a",
   "metadata": {
    "tags": []
   },
   "outputs": [],
   "source": [
    "# error_p_list = []\n",
    "# for ind, row in tqdm(df.iterrows()):\n",
    "#     row_info = row.loc[df.columns[:8]].values\n",
    "#     w,h = row_info[1], row_info[2]\n",
    "#     name = row.loc[['label_model']].values[0]\n",
    "#     bbox = list(row_info[4:8])\n",
    "#     bbox.insert(0,name)\n",
    "#     tp = Path(row.loc[['img_tp']].values[0])\n",
    "#     if not tp.parent.is_dir():\n",
    "#         tp.parent.mkdir()\n",
    "#     rp = tp if tp.is_file() else row.loc[['img_sp']].values[0]\n",
    "#     img = cv2.imread(str(rp))\n",
    "#     img = draw_bbox(img, bbox)\n",
    "#     try:\n",
    "#         cv2.imwrite(str(tp), img)\n",
    "#     except:\n",
    "#         error_p_list.append(tp)\n",
    "#     # break"
   ]
  },
  {
   "cell_type": "code",
   "execution_count": null,
   "id": "013ac242-b801-4fd3-b433-76a8b5fffbcf",
   "metadata": {},
   "outputs": [],
   "source": [
    "error_p_list"
   ]
  },
  {
   "cell_type": "code",
   "execution_count": null,
   "id": "0c1688b8-ffd1-4f7c-a1a3-53909e599267",
   "metadata": {},
   "outputs": [],
   "source": [
    "error_df = pd.DataFrame()\n",
    "error_df['path'] = error_p_list\n",
    "error_df['stem'] = error_df['path'].apply(lambda x: Path(x).stem)"
   ]
  },
  {
   "cell_type": "code",
   "execution_count": null,
   "id": "fd73f5cc-f153-46d5-900c-3a66b5a6a3a2",
   "metadata": {},
   "outputs": [],
   "source": [
    "df.head()"
   ]
  },
  {
   "cell_type": "code",
   "execution_count": null,
   "id": "002171fe-87b6-47d6-9c70-e704b0430d4a",
   "metadata": {},
   "outputs": [],
   "source": [
    "df = df[~df['stem'].isin(error_df['stem'])]"
   ]
  },
  {
   "cell_type": "code",
   "execution_count": null,
   "id": "8d13963f-967e-478d-a009-015e480219ee",
   "metadata": {},
   "outputs": [],
   "source": [
    "# df.to_csv('../data/wholebody5k0610/wholebody5k_july.csv', index=False)"
   ]
  },
  {
   "cell_type": "code",
   "execution_count": null,
   "id": "65c0f50a-eb1d-4325-b4d5-597b2abf3f6a",
   "metadata": {},
   "outputs": [],
   "source": []
  },
  {
   "cell_type": "code",
   "execution_count": null,
   "id": "62312931-e2da-4b0b-a51c-5960f8c49645",
   "metadata": {},
   "outputs": [],
   "source": []
  },
  {
   "cell_type": "code",
   "execution_count": null,
   "id": "d74c0335-9a39-4aa6-ab77-30cb4d1561d7",
   "metadata": {
    "tags": []
   },
   "outputs": [],
   "source": [
    "Image.fromarray(img)"
   ]
  },
  {
   "cell_type": "code",
   "execution_count": null,
   "id": "27d1933f-8224-4f24-8d9c-6e00ad9b4ad3",
   "metadata": {},
   "outputs": [],
   "source": []
  },
  {
   "cell_type": "markdown",
   "id": "97e563ff-f2d5-43f6-a448-e4278b70eb3d",
   "metadata": {},
   "source": [
    "### Display Html"
   ]
  },
  {
   "cell_type": "code",
   "execution_count": null,
   "id": "48b3d126-c890-4cc7-9057-102d0f533d7b",
   "metadata": {},
   "outputs": [],
   "source": [
    "sys.path.append('../../../')\n",
    "from utils.display.html import *\n",
    "from IPython.display import HTML\n",
    "from io import BytesIO"
   ]
  },
  {
   "cell_type": "code",
   "execution_count": null,
   "id": "0b20d79f-f437-462e-ba27-4776f2ccfe3d",
   "metadata": {},
   "outputs": [],
   "source": []
  },
  {
   "cell_type": "code",
   "execution_count": null,
   "id": "ebb552c2-de49-4f4b-974e-f59aa1dded74",
   "metadata": {},
   "outputs": [],
   "source": [
    "draw_root = Path('/nas/chenyi/datasets_cls/dada_det_drawed/wholebody_jul_drawed/')"
   ]
  },
  {
   "cell_type": "code",
   "execution_count": null,
   "id": "ff9ed71b-848c-4699-a3b4-2a3b7903ecf7",
   "metadata": {},
   "outputs": [],
   "source": [
    "img_list = glob.glob(str(draw_root/'*/*.jpg'))\n",
    "len(img_list), img_list[-1]"
   ]
  },
  {
   "cell_type": "code",
   "execution_count": null,
   "id": "04f37ffe-caa3-4cf3-a491-022dffff22a5",
   "metadata": {},
   "outputs": [],
   "source": [
    "# img_list = glob.glob(draw_root + '*.jpg')\n",
    "df_drawed = pd.DataFrame()\n",
    "df_drawed['path'] = img_list[-100:]"
   ]
  },
  {
   "cell_type": "code",
   "execution_count": null,
   "id": "d0bb42e5-04fc-4b52-b34d-b042951684e7",
   "metadata": {},
   "outputs": [],
   "source": [
    "size = 500\n",
    "df_drawed['res'] = df_drawed['path'].map(lambda x: get_thumbnail(x, size))"
   ]
  },
  {
   "cell_type": "code",
   "execution_count": null,
   "id": "bc425c17-a92a-4073-a6f2-03066e468b3a",
   "metadata": {},
   "outputs": [],
   "source": [
    "f = df_drawed[['res', 'path']].to_html(formatters={'res': image_formatter}, escape=False)"
   ]
  },
  {
   "cell_type": "code",
   "execution_count": null,
   "id": "62c53518-cc43-4093-b23a-7d4a2c81c15e",
   "metadata": {
    "tags": []
   },
   "outputs": [],
   "source": [
    "HTML(f)"
   ]
  },
  {
   "cell_type": "code",
   "execution_count": null,
   "id": "11580563-4320-418f-88ed-3a25f81497f7",
   "metadata": {},
   "outputs": [],
   "source": []
  },
  {
   "cell_type": "code",
   "execution_count": null,
   "id": "89a24775-4558-40ef-9be6-11e6c548a805",
   "metadata": {},
   "outputs": [],
   "source": []
  },
  {
   "cell_type": "markdown",
   "id": "6eb6fc37-beae-432b-baf2-c97ad87eb3f6",
   "metadata": {
    "jp-MarkdownHeadingCollapsed": true,
    "tags": []
   },
   "source": [
    "### 解析json文件"
   ]
  },
  {
   "cell_type": "code",
   "execution_count": null,
   "id": "aca59b59-4b6b-48c1-8deb-04ee8f7d6fcb",
   "metadata": {},
   "outputs": [],
   "source": [
    "json_list = glob.glob('/home/chenyi/workspace/dataset/haowei34k_labelImg/xml_label/*/*.json')"
   ]
  },
  {
   "cell_type": "code",
   "execution_count": null,
   "id": "34502f83-9962-4379-8e26-df83895df0ec",
   "metadata": {},
   "outputs": [],
   "source": [
    "json_df = pd.DataFrame()\n",
    "json_df['spath'] = json_list"
   ]
  },
  {
   "cell_type": "code",
   "execution_count": null,
   "id": "2c67d62f-8b80-469a-8f3c-e67530694950",
   "metadata": {},
   "outputs": [],
   "source": [
    "xml_dir = Path('/home/chenyi/workspace/dataset/haowei34k_labelImg/json2xml/')"
   ]
  },
  {
   "cell_type": "code",
   "execution_count": null,
   "id": "d5466bb0-1a94-40a4-b5af-ec713dc397b4",
   "metadata": {},
   "outputs": [],
   "source": [
    "json_df['tpath'] = json_df['spath'].apply(lambda x:\n",
    "                                         '{0}/{1}'.format(xml_dir, re.findall(r'/[0-9]{1,3}/(.*?.json)',x)[0]))"
   ]
  },
  {
   "cell_type": "code",
   "execution_count": null,
   "id": "c47a119e-8e35-40d6-b733-7cbe675a8d68",
   "metadata": {},
   "outputs": [],
   "source": [
    "sys.path.append('/home/chenyi/workspace/myPyModule99/data_format/json_to_xml')\n",
    "from json_to_xml.main import *"
   ]
  },
  {
   "cell_type": "code",
   "execution_count": null,
   "id": "12262dbe-7ae5-4d9d-92ae-aaae157ac712",
   "metadata": {},
   "outputs": [],
   "source": [
    "root_json_dir = xml_dir\n",
    "root_save_xml_dir = '/home/chenyi/workspace/dataset/haowei34k_labelImg/json2xml/xml'"
   ]
  },
  {
   "cell_type": "code",
   "execution_count": null,
   "id": "e5dac5c4-62c7-4361-9f0a-2690adfc5585",
   "metadata": {},
   "outputs": [],
   "source": [
    "import json\n",
    "for json_filename in tqdm(os.listdir(root_json_dir)):\n",
    "    json_path = os.path.join(root_json_dir, json_filename)\n",
    "    json_data = json.load(open(json_path))\n",
    "    break"
   ]
  },
  {
   "cell_type": "code",
   "execution_count": null,
   "id": "8a1e6b6d-baa6-453f-8cbb-897a3b4e09a2",
   "metadata": {},
   "outputs": [],
   "source": [
    "json_df['path'] = glob.glob(str(root_json_dir/'*.json'))"
   ]
  },
  {
   "cell_type": "code",
   "execution_count": null,
   "id": "c970a63b-7aa5-41b0-a61b-c0f1886bb02a",
   "metadata": {},
   "outputs": [],
   "source": [
    "json_df['fname'] =  json_df['path'].apply(lambda x: re.findall(r'/json2xml/(.*?).json',x)[0])"
   ]
  },
  {
   "cell_type": "code",
   "execution_count": null,
   "id": "c7161092-2a20-472b-964a-49c270e3836d",
   "metadata": {},
   "outputs": [],
   "source": [
    "json_labels = {}\n",
    "for ind,row in tqdm(json_df.iterrows()):\n",
    "    json_path = row['path']\n",
    "    fname = row['fname']\n",
    "    json_data = json.load(open(json_path))\n",
    "    json_labels[fname] = ''\n",
    "    for item in json_data['shapes']:\n",
    "        name = item['label']\n",
    "        points = item['points']\n",
    "        xmin, ymin = points[0]\n",
    "        xmax, ymax = points[1]\n",
    "        \n",
    "        if name not in classes_name.keys():\n",
    "            classes_name[name] = len(classes_name)\n",
    "        json_labels[fname] += '{} {:6f} {:6f} {:6f} {:6f}\\n'.format(\n",
    "            classes_name[name], xmin, ymin, xmax, ymax)"
   ]
  },
  {
   "cell_type": "code",
   "execution_count": null,
   "id": "0ddb0257-5234-458d-9a7c-2c745c264904",
   "metadata": {},
   "outputs": [],
   "source": [
    "fname_list = []\n",
    "xmin_list = []\n",
    "ymin_list = []\n",
    "xmax_list = []\n",
    "ymax_list = []\n",
    "labels_list = []\n",
    "for ind,row in tqdm(json_df.iterrows()):\n",
    "    json_path = row['path']\n",
    "    fname = row['fname']\n",
    "    json_data = json.load(open(json_path))\n",
    "    for item in json_data['shapes']:\n",
    "        name = item['label']\n",
    "        points = item['points']\n",
    "        xmin, ymin = points[0]\n",
    "        xmax, ymax = points[1]\n",
    "        \n",
    "        fname_list.append(fname)\n",
    "        labels_list.append(name)\n",
    "        xmin_list.append(xmin)\n",
    "        ymin_list.append(ymin)\n",
    "        ymax_list.append(ymax)\n",
    "        xmax_list.append(xmax)"
   ]
  },
  {
   "cell_type": "code",
   "execution_count": null,
   "id": "a00d56b5-2ef9-4847-89d6-fac027872628",
   "metadata": {},
   "outputs": [],
   "source": []
  },
  {
   "cell_type": "code",
   "execution_count": null,
   "id": "37fe7824-bca8-4620-868a-a3403d43208a",
   "metadata": {},
   "outputs": [],
   "source": [
    "json_bboxes = pd.DataFrame()"
   ]
  },
  {
   "cell_type": "code",
   "execution_count": null,
   "id": "b10f1d61-3113-48bb-9797-028a9d4e7e6e",
   "metadata": {},
   "outputs": [],
   "source": [
    "json_bboxes['fname'] = fname_list\n",
    "json_bboxes['label'] = labels_list\n",
    "json_bboxes['xmin'] = xmin_list\n",
    "json_bboxes['ymin'] = ymin_list\n",
    "json_bboxes['xmax'] = xmax_list\n",
    "json_bboxes['ymax'] = ymax_list"
   ]
  },
  {
   "cell_type": "code",
   "execution_count": null,
   "id": "15d7e83a-e675-417d-843e-492c83ef5187",
   "metadata": {},
   "outputs": [],
   "source": [
    "json_bboxes.head()"
   ]
  },
  {
   "cell_type": "code",
   "execution_count": null,
   "id": "48b1fe30-7b0c-4913-a171-06310c9027fe",
   "metadata": {},
   "outputs": [],
   "source": []
  },
  {
   "cell_type": "code",
   "execution_count": null,
   "id": "21f7a2f9-2898-4113-b150-531bafe7d64b",
   "metadata": {},
   "outputs": [],
   "source": []
  },
  {
   "cell_type": "markdown",
   "id": "cbe8f7ca-a76c-4f9d-b66b-9f0aa68270a7",
   "metadata": {
    "tags": []
   },
   "source": [
    "### pandas处理"
   ]
  },
  {
   "cell_type": "code",
   "execution_count": null,
   "id": "53dbea67-583f-40aa-959b-540e5f9f8d7e",
   "metadata": {},
   "outputs": [],
   "source": [
    "labels_p"
   ]
  },
  {
   "cell_type": "code",
   "execution_count": null,
   "id": "205722ec-75c0-48db-8301-fc71cbca561f",
   "metadata": {},
   "outputs": [],
   "source": [
    "xml_list = glob.glob(str(labels_p /'*.xml'))\n",
    "xmlFiles = [re.findall(r'/xml/(.*?.xml)',x)[0] for x in xml_list]\n",
    "fname_list = []\n",
    "xmin_list = []\n",
    "ymin_list = []\n",
    "xmax_list = []\n",
    "ymax_list = []\n",
    "labels_list = []\n",
    "for ind,xmlFile in tqdm(enumerate(xmlFiles)):\n",
    "    trees = etree.parse(labels_p /xmlFile)\n",
    "    width, height = int(trees.find('size/width').text), int(trees.find('size/height').text)\n",
    "    # fname = re.findall(r'[0-9]{1,3}/(.*?).xml',xmlFile)[0]     \n",
    "    fname = xmlFile[:-4]     \n",
    "\n",
    "    for obj in trees.findall('object'):\n",
    "        bdb = obj.find('bndbox')\n",
    "        name = obj.find('name').text\n",
    "        xmin = int(bdb.find('xmin').text)\n",
    "        ymin = int(bdb.find('ymin').text)\n",
    "        xmax = int(bdb.find('xmax').text)\n",
    "        ymax = int(bdb.find('ymax').text)\n",
    "        \n",
    "        fname_list.append(fname)\n",
    "        labels_list.append(name)\n",
    "        xmin_list.append(xmin)\n",
    "        ymin_list.append(ymin)\n",
    "        ymax_list.append(ymax)\n",
    "        xmax_list.append(xmax)"
   ]
  },
  {
   "cell_type": "code",
   "execution_count": null,
   "id": "6cb55ea5-8ea9-4af8-b149-fabec0846def",
   "metadata": {},
   "outputs": [],
   "source": [
    "xml_bboxes = pd.DataFrame()\n",
    "xml_bboxes['fname'] = fname_list\n",
    "xml_bboxes['label'] = labels_list\n",
    "xml_bboxes['xmin'] = xmin_list\n",
    "xml_bboxes['ymin'] = ymin_list\n",
    "xml_bboxes['xmax'] = xmax_list\n",
    "xml_bboxes['ymax'] = ymax_list"
   ]
  },
  {
   "cell_type": "code",
   "execution_count": null,
   "id": "b656f6c2-4d31-4dfd-9e1c-35a40415c5fd",
   "metadata": {},
   "outputs": [],
   "source": [
    "xml_bboxes.head()"
   ]
  },
  {
   "cell_type": "code",
   "execution_count": null,
   "id": "37f63572-8a89-45af-a203-27897b406a34",
   "metadata": {},
   "outputs": [],
   "source": []
  },
  {
   "cell_type": "code",
   "execution_count": null,
   "id": "35e583a6-26d1-4eb0-8a46-b677efcbdd95",
   "metadata": {},
   "outputs": [],
   "source": []
  },
  {
   "cell_type": "code",
   "execution_count": null,
   "id": "535216b0-37bd-426d-95e5-baebd1f424ae",
   "metadata": {},
   "outputs": [],
   "source": [
    "xml_bboxes.info()"
   ]
  },
  {
   "cell_type": "code",
   "execution_count": null,
   "id": "0f0cc328-f66e-457f-b2c0-669430982295",
   "metadata": {},
   "outputs": [],
   "source": []
  },
  {
   "cell_type": "code",
   "execution_count": null,
   "id": "84a0226c-30aa-4748-9204-8f823b30abb2",
   "metadata": {},
   "outputs": [],
   "source": [
    "labelme_df = xml_bboxes"
   ]
  },
  {
   "cell_type": "code",
   "execution_count": null,
   "id": "0251dd15-8139-43ec-aa36-c7dd976caebd",
   "metadata": {},
   "outputs": [],
   "source": [
    "# labelme_df.to_csv('/home/chenyi/workspace/dataset/haowei34k_labelImg/labelme_hw34k.csv', index=False)"
   ]
  },
  {
   "cell_type": "code",
   "execution_count": null,
   "id": "727517a8-c7cb-4450-9ca1-5afcdc42162e",
   "metadata": {},
   "outputs": [],
   "source": [
    "labelme_df['label'].value_counts().axes,len(labelme_df['label'].value_counts().axes[0])"
   ]
  },
  {
   "cell_type": "code",
   "execution_count": null,
   "id": "f053a4a4-92f7-4c09-b9cc-2a4bdba6d628",
   "metadata": {},
   "outputs": [],
   "source": [
    "import pickle\n",
    "with open('labelme_names_dict.pickle', 'rb') as f:\n",
    "    names_dict = pickle.load(f)"
   ]
  },
  {
   "cell_type": "code",
   "execution_count": null,
   "id": "67e39a7a-0876-41bd-abc8-5542e828d946",
   "metadata": {},
   "outputs": [],
   "source": [
    "# import pickle\n",
    "# # with open('labelme_names_dict.pickle', 'wb') as f:\n",
    "#     pickle.dump(names_dict, f)"
   ]
  },
  {
   "cell_type": "code",
   "execution_count": null,
   "id": "4d0fefc0-741c-4a21-b9d1-a7bbe64990d5",
   "metadata": {},
   "outputs": [],
   "source": [
    "labelme_df['label43'] = labelme_df['label'].apply(lambda x: names_dict[x])"
   ]
  },
  {
   "cell_type": "code",
   "execution_count": null,
   "id": "49854e6f-dcb8-4582-88bd-c3cf253ebe00",
   "metadata": {},
   "outputs": [],
   "source": [
    "labelme_df.to_csv('labelme_voc_bboxes_relabel.csv', index=False)"
   ]
  },
  {
   "cell_type": "code",
   "execution_count": null,
   "id": "68c8376c-ee8d-4296-8f53-96ebd50d1e66",
   "metadata": {
    "tags": []
   },
   "outputs": [],
   "source": [
    "labelme_df['label43'].value_counts()"
   ]
  },
  {
   "cell_type": "code",
   "execution_count": null,
   "id": "df49a1c7-d150-4171-acad-57d9407aba08",
   "metadata": {},
   "outputs": [],
   "source": [
    "root = Path('/home/chenyi/workspace/dataset/haowei34k/')"
   ]
  },
  {
   "cell_type": "code",
   "execution_count": null,
   "id": "b9b62fa7-778e-4d46-aa01-1c560180fbbb",
   "metadata": {},
   "outputs": [],
   "source": [
    "imgs_list = glob.glob(str(root /'images/*/*.jpg'))"
   ]
  },
  {
   "cell_type": "code",
   "execution_count": null,
   "id": "e7513c47-3c20-46b2-b5af-ecd641dfb5fb",
   "metadata": {},
   "outputs": [],
   "source": [
    "imgs_df = pd.DataFrame()\n",
    "imgs_df['path'] = imgs_list"
   ]
  },
  {
   "cell_type": "code",
   "execution_count": null,
   "id": "d627571e-3873-4690-bee2-811951b82d6e",
   "metadata": {},
   "outputs": [],
   "source": [
    "import re"
   ]
  },
  {
   "cell_type": "code",
   "execution_count": null,
   "id": "ae70ed49-dab4-4167-8495-03d0b5237a24",
   "metadata": {},
   "outputs": [],
   "source": [
    "imgs_df['fname']= imgs_df['path'].apply(lambda x: re.findall(r'images/.*?/(.*?).jpg', x)[0])"
   ]
  },
  {
   "cell_type": "code",
   "execution_count": null,
   "id": "217f30dc-0109-4928-9a87-5dd174355188",
   "metadata": {},
   "outputs": [],
   "source": [
    "imgs_df.head(2).values"
   ]
  },
  {
   "cell_type": "code",
   "execution_count": null,
   "id": "0cb6a881-3969-4c02-af5f-17bb7f1bc1ac",
   "metadata": {},
   "outputs": [],
   "source": []
  },
  {
   "cell_type": "code",
   "execution_count": null,
   "id": "05c8dfb2-2be4-40a0-90cf-cfc3030fd22d",
   "metadata": {},
   "outputs": [],
   "source": [
    "_ = [os.symlink(p, p.replace()) for p in imgs_list]"
   ]
  },
  {
   "cell_type": "code",
   "execution_count": null,
   "id": "eedd2191-006f-4565-a1ea-51f4fcbb0376",
   "metadata": {},
   "outputs": [],
   "source": []
  },
  {
   "cell_type": "code",
   "execution_count": null,
   "id": "0f126afa-0b47-4e66-bf7c-06cec9d5f000",
   "metadata": {},
   "outputs": [],
   "source": [
    "labelme_df['fname'] = labelme_df['fname'].astype(str)"
   ]
  },
  {
   "cell_type": "code",
   "execution_count": null,
   "id": "bbaa305e-f8de-4ccd-be03-19a2160fbadb",
   "metadata": {},
   "outputs": [],
   "source": [
    "imgs_df.info()"
   ]
  },
  {
   "cell_type": "code",
   "execution_count": null,
   "id": "5e4ada23-7137-4b1b-9b6a-b766928c047f",
   "metadata": {},
   "outputs": [],
   "source": [
    "labelme_df.drop_duplicates('fname').info()"
   ]
  },
  {
   "cell_type": "code",
   "execution_count": null,
   "id": "5f7cdae6-6071-4d10-9171-30f73dd46653",
   "metadata": {},
   "outputs": [],
   "source": [
    "x = labelme_df[~labelme_df['fname'].isin(imgs_df['fname'])]"
   ]
  },
  {
   "cell_type": "code",
   "execution_count": null,
   "id": "502b5aa9-a1c9-4bc7-8d7b-a32bc8e41c3b",
   "metadata": {},
   "outputs": [],
   "source": [
    "y = imgs_df[~imgs_df['fname'].isin(labelme_df['fname'])]"
   ]
  },
  {
   "cell_type": "code",
   "execution_count": null,
   "id": "44fffb52-8f58-47d5-aad0-c99e5dbb72e2",
   "metadata": {},
   "outputs": [],
   "source": [
    "y.info()"
   ]
  },
  {
   "cell_type": "code",
   "execution_count": null,
   "id": "ff1d94e7-f9a8-4f20-9a1d-21fc8a790802",
   "metadata": {},
   "outputs": [],
   "source": []
  },
  {
   "cell_type": "code",
   "execution_count": null,
   "id": "535676cc-790b-4247-93ca-da64541e15d2",
   "metadata": {},
   "outputs": [],
   "source": [
    "labelme_df.head()"
   ]
  },
  {
   "cell_type": "code",
   "execution_count": null,
   "id": "82ea03e0-fcd8-4784-a377-11783de9c97a",
   "metadata": {},
   "outputs": [],
   "source": [
    "root"
   ]
  },
  {
   "cell_type": "code",
   "execution_count": null,
   "id": "80bd2741-df94-48cb-a9a7-0b39d8f5241c",
   "metadata": {},
   "outputs": [],
   "source": [
    "from PIL import Image"
   ]
  },
  {
   "cell_type": "code",
   "execution_count": null,
   "id": "1a0b18be-2441-4cbd-b9cf-0a826b3610ce",
   "metadata": {
    "tags": []
   },
   "outputs": [],
   "source": [
    "w_list = []\n",
    "h_list = []\n",
    "for ind, row in tqdm(imgs_df.iterrows()):\n",
    "    p_ = row['path']\n",
    "    try:\n",
    "        img = Image.open(str(p_))\n",
    "        w,h = img.size\n",
    "    except:\n",
    "        w,h = 0,0\n",
    "        print(p_)\n",
    "    w_list.append(w)\n",
    "    h_list.append(h)  "
   ]
  },
  {
   "cell_type": "code",
   "execution_count": null,
   "id": "fe77bed7-a6ba-4080-8d8a-e1d7c9805ce7",
   "metadata": {},
   "outputs": [],
   "source": []
  },
  {
   "cell_type": "code",
   "execution_count": null,
   "id": "ff9830bd-78f0-4989-8bb4-ff3684ce227c",
   "metadata": {},
   "outputs": [],
   "source": [
    "imgs_df['width'] = w_list\n",
    "imgs_df['height'] = h_list"
   ]
  },
  {
   "cell_type": "code",
   "execution_count": null,
   "id": "8c9b5576-3552-4c75-988d-a374976a01fa",
   "metadata": {},
   "outputs": [],
   "source": [
    "imgs_df['mode'] = imgs_df['path'].apply(lambda x: re.findall(r'/images/([a-z]{3,5})/', x)[0])"
   ]
  },
  {
   "cell_type": "code",
   "execution_count": null,
   "id": "76557b12-cd82-4d4d-9560-4deb90160292",
   "metadata": {},
   "outputs": [],
   "source": [
    "val_df = imgs_df[imgs_df['mode']=='val']"
   ]
  },
  {
   "cell_type": "code",
   "execution_count": null,
   "id": "00e9a652-9b1a-4866-b775-f3c3313649fa",
   "metadata": {},
   "outputs": [],
   "source": [
    "labelme_df['mode'] = 'train'"
   ]
  },
  {
   "cell_type": "code",
   "execution_count": null,
   "id": "bbca1003-06a9-43ab-91f4-4711aab22a67",
   "metadata": {},
   "outputs": [],
   "source": [
    "labelme_df.loc[labelme_df[labelme_df['fname'].isin(val_df['fname'])].index,'mode'] = 'val'"
   ]
  },
  {
   "cell_type": "code",
   "execution_count": null,
   "id": "417d986d-4ad9-45bc-87ed-32039df62724",
   "metadata": {},
   "outputs": [],
   "source": []
  },
  {
   "cell_type": "code",
   "execution_count": null,
   "id": "451a0138-3d3d-4fc2-b3b2-03fd4be67cb5",
   "metadata": {},
   "outputs": [],
   "source": [
    "labelme_df['width'] = w_list\n",
    "labelme_df['height'] = h_list"
   ]
  },
  {
   "cell_type": "code",
   "execution_count": null,
   "id": "d9589ce2-0120-4a99-ac94-670e35df6cc0",
   "metadata": {},
   "outputs": [],
   "source": [
    "names_lab2num = {}\n",
    "for k,v in names.items():\n",
    "    names_lab2num[v[0]] = k"
   ]
  },
  {
   "cell_type": "code",
   "execution_count": null,
   "id": "7bbd3119-5c40-4761-9ab7-56f7f066509c",
   "metadata": {},
   "outputs": [],
   "source": [
    "labelme_df.to_csv('haowei34k_voc_bboxes_relabel.csv', index=False)"
   ]
  },
  {
   "cell_type": "code",
   "execution_count": null,
   "id": "a051ebd6-4be8-4360-b849-f3cdf5419810",
   "metadata": {},
   "outputs": [],
   "source": [
    "labelme_df['label_num'] = labelme_df['label43'].apply(lambda x:\n",
    "                                                     names_lab2num[x])"
   ]
  },
  {
   "cell_type": "code",
   "execution_count": null,
   "id": "4db4f8ae-eeb8-41c3-aed3-9be8ac29ff91",
   "metadata": {},
   "outputs": [],
   "source": []
  },
  {
   "cell_type": "code",
   "execution_count": null,
   "id": "a3d7abdf-8ef0-49cd-91f8-1754aa34bf90",
   "metadata": {},
   "outputs": [],
   "source": []
  },
  {
   "cell_type": "code",
   "execution_count": null,
   "id": "f38fb03d-5a00-439f-b48e-5caf27d7c2a5",
   "metadata": {},
   "outputs": [],
   "source": []
  }
 ],
 "metadata": {
  "kernelspec": {
   "display_name": "Python 3 (ipykernel)",
   "language": "python",
   "name": "python3"
  },
  "language_info": {
   "codemirror_mode": {
    "name": "ipython",
    "version": 3
   },
   "file_extension": ".py",
   "mimetype": "text/x-python",
   "name": "python",
   "nbconvert_exporter": "python",
   "pygments_lexer": "ipython3",
   "version": "3.8.13"
  }
 },
 "nbformat": 4,
 "nbformat_minor": 5
}
