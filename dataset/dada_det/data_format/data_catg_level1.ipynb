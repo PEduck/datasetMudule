{
 "cells": [
  {
   "cell_type": "code",
   "execution_count": null,
   "id": "f5c5e853-6fb8-4dbf-9ebc-e5f9b6573d8d",
   "metadata": {},
   "outputs": [],
   "source": [
    "import glob\n",
    "from pathlib import Path\n",
    "from tqdm import tqdm\n",
    "import pandas as pd\n",
    "import os,sys"
   ]
  },
  {
   "cell_type": "code",
   "execution_count": null,
   "id": "bf6b8659-8f68-411d-a477-04adbcaf2849",
   "metadata": {},
   "outputs": [],
   "source": [
    "import cv2\n",
    "from PIL import Image\n",
    "import re\n",
    "import pickle"
   ]
  },
  {
   "cell_type": "code",
   "execution_count": null,
   "id": "2b9bdabb-d088-478e-97ba-6162c32dedef",
   "metadata": {},
   "outputs": [],
   "source": []
  },
  {
   "cell_type": "code",
   "execution_count": null,
   "id": "a5dff773-0280-4e1b-94f8-fa1e7d5bab86",
   "metadata": {},
   "outputs": [],
   "source": []
  },
  {
   "cell_type": "code",
   "execution_count": null,
   "id": "beffe92d-8db2-42f3-b6fa-5d9c7c5a5704",
   "metadata": {},
   "outputs": [],
   "source": [
    "def bbox_voc2yolo(bx, w, h):\n",
    "    x1 = bx[0]\n",
    "    y1 = bx[1]\n",
    "    x2 = bx[2]\n",
    "    y2 = bx[3]\n",
    "    w_bbox = x2 - x1\n",
    "    h_bbox = y2 - y1\n",
    "    x_c = x1 + w_bbox/2\n",
    "    y_c = y1 + h_bbox/2\n",
    "    bbox = [x_c/w, y_c/h, w_bbox/w, h_bbox/h]\n",
    "    return bbox\n",
    "\n",
    "def bbox_yolo2voc(bx, w, h):\n",
    "    x_c = float(bx[0])*w\n",
    "    y_c = float(bx[1])*h\n",
    "    wbbox = float(bx[2])*w\n",
    "    hbbox = float(bx[3])*h\n",
    "    x1 = int(x_c - wbbox/2)\n",
    "    y1 = int(y_c - hbbox/2)\n",
    "    x2 = int(x_c + wbbox/2)\n",
    "    y2 = int(y_c + hbbox/2)\n",
    "    bbox = [x1, y1, x2, y2]\n",
    "    return bbox\n",
    "\n",
    "def bbox_coco2voc(bbox):\n",
    "    bbox[2] = bbox[0] + bbox[2]\n",
    "    bbox[3] = bbox[1] + bbox[3]\n",
    "    return bbox"
   ]
  },
  {
   "cell_type": "code",
   "execution_count": null,
   "id": "f0d280d2-818d-4cfd-855f-f0b634dcbcff",
   "metadata": {},
   "outputs": [],
   "source": []
  },
  {
   "cell_type": "code",
   "execution_count": null,
   "id": "2230d432-0d0d-49b9-a242-80f7eb22c792",
   "metadata": {},
   "outputs": [],
   "source": [
    "def draw_bbox(img_np, box_coco):\n",
    "    id_ = box_coco[0]\n",
    "    if not isinstance(id_, str):\n",
    "        id_ = int(id_)\n",
    "    x1 = int(box_coco[1])\n",
    "    y1 = int(box_coco[2])\n",
    "    x2 = int(box_coco[3])\n",
    "    y2 = int(box_coco[4])\n",
    "    font = cv2.FONT_HERSHEY_SIMPLEX\n",
    "    cv2.rectangle(img_np,(x1, y1),(x2, y2),(0,0,255),thickness=2)\n",
    "    f = cv2.putText(img_np, text=str(id_), org=(x1 + 5, y1 + 5), fontFace=font, fontScale=0.7, \n",
    "        thickness=2, lineType=cv2.LINE_AA, color=(0, 255, 0))\n",
    "    return img_np"
   ]
  },
  {
   "cell_type": "code",
   "execution_count": null,
   "id": "28c71151-19b7-4540-9ed9-7794f2778e9e",
   "metadata": {},
   "outputs": [],
   "source": []
  },
  {
   "cell_type": "code",
   "execution_count": null,
   "id": "38f05aba-3b53-4204-9666-3547695475bc",
   "metadata": {},
   "outputs": [],
   "source": [
    "def read_bboxes(txtp):\n",
    "    with open(txtp, 'r') as f:\n",
    "        txt = f.readlines()\n",
    "    return txt\n",
    "\n",
    "def get_bboxes_text(txtp):\n",
    "    import re\n",
    "    tx_str = read_bboxes(txtp)\n",
    "    bboxes = []\n",
    "    for line in tx_str:\n",
    "        line_list = re.split(r'[\\s\\n\\t]',line)\n",
    "        bx = []\n",
    "        bx.append(int(line_list[0]))\n",
    "        for item in line_list[1:]:\n",
    "            if len(item.strip())>0:\n",
    "                bx.append(float(item))\n",
    "        bboxes.append(bx)\n",
    "    return bboxes"
   ]
  },
  {
   "cell_type": "code",
   "execution_count": null,
   "id": "5723c218-293e-4dd8-b537-0a8afe75d54e",
   "metadata": {},
   "outputs": [],
   "source": []
  },
  {
   "cell_type": "code",
   "execution_count": null,
   "id": "b84fd145-e3a3-4414-83bf-2fe0e90e0573",
   "metadata": {},
   "outputs": [],
   "source": [
    "def bbox_str2num(line):\n",
    "    import re\n",
    "    line_list = re.split(r'[\\s\\n\\t]',line)\n",
    "    bx = []\n",
    "    bx.append(int(line_list[0]))\n",
    "    for item in line_list[1:]:\n",
    "        if len(item.strip())>0:\n",
    "            bx.append(float(item))\n",
    "    bboxes.append(bx)\n",
    "    return bboxes"
   ]
  },
  {
   "cell_type": "code",
   "execution_count": null,
   "id": "51b51102-65e1-4951-ba16-ab8506b47591",
   "metadata": {},
   "outputs": [],
   "source": []
  },
  {
   "cell_type": "code",
   "execution_count": null,
   "id": "e83cb82d-835d-4538-a868-5a137ce1402e",
   "metadata": {},
   "outputs": [],
   "source": []
  },
  {
   "cell_type": "code",
   "execution_count": null,
   "id": "1b77c420-88ef-4c9c-98bf-9f91ed773dfe",
   "metadata": {},
   "outputs": [],
   "source": [
    "def copy_data(plist, mode='copy'):\n",
    "    ps = plist[0]\n",
    "    pt = plist[1]\n",
    "    shutil.copyfile(ps, pt)\n",
    "    \n",
    "def write_txt(input_list):\n",
    "    label_path, text = input_list[0], input_list[1]\n",
    "    with open(label_path, 'a+') as f:\n",
    "        f.write(text)"
   ]
  },
  {
   "cell_type": "code",
   "execution_count": null,
   "id": "a10db42b-825c-4f24-bece-92ac530ab683",
   "metadata": {},
   "outputs": [],
   "source": []
  },
  {
   "cell_type": "code",
   "execution_count": null,
   "id": "dc2e138d-0c76-4ac7-b8fb-c108d52aa015",
   "metadata": {},
   "outputs": [],
   "source": [
    "# label_1_map = {'其他': -1, '腰带': 0, '帽子': 1, '鞋子': 2, '包': 3, '上装': 4, '裤子': 5, '裙子': 6, '连体装': 7}\n",
    "label_1_map = {'其他': -1, '腰带': 0, '帽子': 1, '鞋子': 2, '包': 3, '上装': 4, '裤子': 5, '裙子': 6, '连体装': 7}"
   ]
  },
  {
   "cell_type": "code",
   "execution_count": null,
   "id": "a4a21add-ae57-4a82-aba3-c54c5323b7d6",
   "metadata": {},
   "outputs": [],
   "source": [
    "l2_map_l1 = {23: 2,\n",
    " 24: 2, 25: 2,\n",
    " 26: 2,\n",
    " 27: 2,\n",
    " 28: 2,\n",
    " 29: 2,\n",
    " 30: 2,\n",
    " 31: 2,\n",
    " 32: 2,\n",
    " 33: 2,\n",
    " 34: 2,\n",
    " 35: 3,\n",
    " 43: 2,\n",
    " 0: 4,\n",
    " 1: 4,\n",
    " 2: 4,\n",
    " 3: 4,\n",
    " 4: 4,\n",
    " 5: 4,\n",
    " 6: 4,\n",
    " 7: 4,\n",
    " 8: 4,\n",
    " 9: 4,\n",
    " 10: 4,\n",
    " 11: 4,\n",
    " 12: 4,\n",
    " 13: 4,\n",
    " 14: 4,\n",
    " 15: 6,\n",
    " 16: 5,\n",
    " 17: 5,\n",
    " 18: 5,\n",
    " 19: 5,\n",
    " 20: 5,\n",
    " 21: 7,\n",
    " 22: 7,\n",
    " 36: 4,\n",
    " 37: 4,\n",
    " 38: 4,\n",
    " 39: 4,\n",
    " 40: 4,\n",
    " 41: 4,\n",
    " 42: 4,\n",
    "43: 2}"
   ]
  },
  {
   "cell_type": "code",
   "execution_count": null,
   "id": "d11731a1-e56a-469c-9cdb-b479956bdbc0",
   "metadata": {},
   "outputs": [],
   "source": [
    "label_2_map = {\n",
    "    '其他': -1,\n",
    "    \n",
    "    # 上装\n",
    "    '小西装': 0, '毛衣/绒衣/针织衫': 1, '女衫类': 2, '皮衣': 3, '夹克/外套': 4, '风衣': 5, '马甲/背心': 6, '吊带': 7, '牛仔': 8, '羽绒服': 9, '大衣': 10, '皮草': 11, '卫衣': 12, '棉衣/羊羔绒': 13, '斗篷': 14,\n",
    "    \n",
    "    # 裙子\n",
    "    '裙子': 15,\n",
    "    \n",
    "    # 裤子\n",
    "    '西装裤': 16, '牛仔裤': 17, '休闲裤': 18, '打底裤': 19, '运动裤': 20,\n",
    "    \n",
    "    # 连体装\n",
    "    '连衣裙': 21, '连衣裤': 22,\n",
    "    # 包\n",
    "    '包': 23,\n",
    "    \n",
    "    # 鞋子\n",
    "    '正装女鞋': 24, '休闲鞋': 25,\n",
    "}"
   ]
  },
  {
   "cell_type": "code",
   "execution_count": null,
   "id": "0d05c040-9077-41a6-9616-bddd641b2ff7",
   "metadata": {},
   "outputs": [],
   "source": []
  },
  {
   "cell_type": "code",
   "execution_count": null,
   "id": "941d165e-4712-4938-8d8f-7246a4116e16",
   "metadata": {},
   "outputs": [],
   "source": [
    "with open('/home/chenyi/workspace/myPyModule99/class_mapping/dfashion2_map_l1.dict', 'rb') as f:\n",
    "    dfashon2_map_l1 = pickle.load(f)"
   ]
  },
  {
   "cell_type": "code",
   "execution_count": null,
   "id": "3d1fe0d8-95b8-4f17-9085-db6bb11af4ad",
   "metadata": {},
   "outputs": [],
   "source": [
    "with open('/home/chenyi/workspace/myPyModule99/class_mapping/pedia_map_l1.dict', 'rb') as f:\n",
    "    dfashon2_map_l1 = pickle.load(f)"
   ]
  },
  {
   "cell_type": "code",
   "execution_count": null,
   "id": "05547ca5-c0b4-43dc-8496-d43f413aa31b",
   "metadata": {},
   "outputs": [],
   "source": []
  },
  {
   "cell_type": "code",
   "execution_count": null,
   "id": "0e3077d7-4b1c-46fd-8511-907e36a95008",
   "metadata": {},
   "outputs": [],
   "source": []
  },
  {
   "cell_type": "code",
   "execution_count": null,
   "id": "ca6a92eb-e26e-4740-b3b3-755c2bf73c5f",
   "metadata": {},
   "outputs": [],
   "source": [
    "with open('/home/chenyi/workspace/myPyModule99/class_mapping/category45.dict', 'rb') as f:\n",
    "    names = pickle.load(f)"
   ]
  },
  {
   "cell_type": "code",
   "execution_count": null,
   "id": "1f141f02-c331-40b8-9c48-c3f857fe102f",
   "metadata": {},
   "outputs": [],
   "source": []
  },
  {
   "cell_type": "code",
   "execution_count": null,
   "id": "d8e530f5-ec5e-47c9-86fe-10903c476f97",
   "metadata": {},
   "outputs": [],
   "source": [
    "eng2chi = {}\n",
    "for k,v in names.items():\n",
    "    eng2chi[v[1]] = v[0]\n",
    "    # print(v)\n",
    "    # break\n",
    "\n",
    "eng2num = {}\n",
    "for k,v in names.items():\n",
    "    eng2num[v[1]] = k\n",
    "    # break"
   ]
  },
  {
   "cell_type": "code",
   "execution_count": null,
   "id": "ab72f59d-6e7e-429e-b189-b226f99659b3",
   "metadata": {},
   "outputs": [],
   "source": []
  },
  {
   "cell_type": "code",
   "execution_count": null,
   "id": "17f49363-e10c-4d70-aada-045f2822c1e6",
   "metadata": {},
   "outputs": [],
   "source": []
  },
  {
   "cell_type": "markdown",
   "id": "569083f5-cb36-47e3-bae6-f18aeec3dae4",
   "metadata": {
    "tags": []
   },
   "source": [
    "### Image Show"
   ]
  },
  {
   "cell_type": "code",
   "execution_count": null,
   "id": "2dce1eff-27c0-4f4d-bf67-f3eaa6928671",
   "metadata": {},
   "outputs": [],
   "source": [
    "# with open('/home/chenyi/workspace/dataset/gallery_detect/csv/bboxes_df.csv', 'rb') as f:\n",
    "#     bboxes_df = pickle.load(f)"
   ]
  },
  {
   "cell_type": "code",
   "execution_count": null,
   "id": "b1f0ccdd-213c-4235-b5a2-08ca05f27cb6",
   "metadata": {},
   "outputs": [],
   "source": [
    "# with open('/home/chenyi/workspace/dataset/gallery_detect/csv/bboxes_df_temp.pickle', 'wb') as f:\n",
    "#     pickle.dump(bboxes_df,f)"
   ]
  },
  {
   "cell_type": "code",
   "execution_count": null,
   "id": "27b8aed2-739c-4af3-9d99-7fb3cbf5df0a",
   "metadata": {},
   "outputs": [],
   "source": [
    "df = dp_bx[dp_bx['source']=='fashionpedia']\n",
    "df['bx3'] = df['bx3'].values/df['width'].values\n",
    "df['bx4'] = df['bx4'].values/df['height'].values \n",
    "df = df[df['label8'] == 6]"
   ]
  },
  {
   "cell_type": "code",
   "execution_count": null,
   "id": "878a7c42-1d98-4b0e-858a-6067b07c17b3",
   "metadata": {},
   "outputs": [],
   "source": [
    "df.head(2)"
   ]
  },
  {
   "cell_type": "code",
   "execution_count": null,
   "id": "a39a196e-3ac3-4057-a753-ddab9b2d94c2",
   "metadata": {},
   "outputs": [],
   "source": [
    "# ind = 1000\n",
    "# # fname = str(df.loc[ind]['fname'])\n",
    "# # p = root /'images/train'/fname\n",
    "# p = str(df.loc[ind]['img_path'])\n",
    "# # bboxes = [df.loc[ind][['label_num', 'xmin','ymin', 'xmax', 'ymax']].values.tolist()]\n",
    "# # df.loc[ind]['label43']"
   ]
  },
  {
   "cell_type": "code",
   "execution_count": null,
   "id": "61267c7b-9b75-4124-8d65-41b67730ef6e",
   "metadata": {},
   "outputs": [],
   "source": [
    "label_1_map"
   ]
  },
  {
   "cell_type": "code",
   "execution_count": null,
   "id": "165cfc91-0b51-47cf-875b-5909941eaec3",
   "metadata": {},
   "outputs": [],
   "source": [
    "i = 0\n",
    "ind = df.index[i]\n",
    "p = str(df.loc[ind]['img_sp'])\n",
    "w,h = df.loc[ind][['width', 'height']].values.tolist()\n",
    "bboxes = [df.loc[ind][['label8', 'bx1','bx2', 'bx3', 'bx4']].values.tolist()]\n",
    "# df.loc[ind]['label43']"
   ]
  },
  {
   "cell_type": "code",
   "execution_count": null,
   "id": "8e356167-c8f7-4a63-9a05-f707dd2cb773",
   "metadata": {},
   "outputs": [],
   "source": [
    "w,h"
   ]
  },
  {
   "cell_type": "code",
   "execution_count": null,
   "id": "09229ac1-7607-4f10-95af-8eecc18255d0",
   "metadata": {},
   "outputs": [],
   "source": [
    "bboxes"
   ]
  },
  {
   "cell_type": "code",
   "execution_count": null,
   "id": "ae8f8724-28f0-4cd2-a49d-eb7c1e2f7551",
   "metadata": {},
   "outputs": [],
   "source": [
    "img_np = cv2.imread(str(p))\n",
    "img_np = cv2.cvtColor(img_np, cv2.COLOR_BGR2RGB)\n",
    "h = img_np.shape[0]\n",
    "w = img_np.shape[1]\n",
    "for bx in bboxes:\n",
    "    bx[1:5] = bbox_yolo2voc(bx[1:], w, h)\n",
    "    # bx[1:5] = bbox_coco2voc(bx[1:5])\n",
    "    draw_bbox(img_np, bx)"
   ]
  },
  {
   "cell_type": "code",
   "execution_count": null,
   "id": "09511bbc-42e0-43ec-beab-bb09a51449ac",
   "metadata": {},
   "outputs": [],
   "source": [
    "Image.fromarray(img_np)"
   ]
  },
  {
   "cell_type": "code",
   "execution_count": null,
   "id": "97f384c9-f21c-4df6-a716-4f6dbea5481b",
   "metadata": {},
   "outputs": [],
   "source": []
  },
  {
   "cell_type": "code",
   "execution_count": null,
   "id": "8bf696b4-f8d5-43e0-9c84-c020e07f0057",
   "metadata": {},
   "outputs": [],
   "source": []
  },
  {
   "cell_type": "code",
   "execution_count": null,
   "id": "3d0fb875-9de5-49f5-8dd8-b77c632d48c4",
   "metadata": {},
   "outputs": [],
   "source": []
  },
  {
   "cell_type": "code",
   "execution_count": null,
   "id": "1ccbd80b-5576-407c-a20f-4b46c3641865",
   "metadata": {},
   "outputs": [],
   "source": []
  },
  {
   "cell_type": "markdown",
   "id": "599cc59c-f28e-49df-a68a-c198543931fc",
   "metadata": {
    "jp-MarkdownHeadingCollapsed": true,
    "tags": []
   },
   "source": [
    "### 批量转yolo"
   ]
  },
  {
   "cell_type": "code",
   "execution_count": null,
   "id": "e46338c5-2251-4608-9e1b-ecb80dafdfa7",
   "metadata": {},
   "outputs": [],
   "source": [
    "def get_yolo_bbox(row):\n",
    "    w,h = row['width'], row['height']\n",
    "    bbox = row.loc[[ 'xmin','ymin', 'xmax', 'ymax']].values\n",
    "    bbox = bbox_voc2yolo(bbox, w, h)\n",
    "    bboxes_list.append(bbox)"
   ]
  },
  {
   "cell_type": "code",
   "execution_count": null,
   "id": "606ae22d-c527-4c93-850f-a897c2cd6b21",
   "metadata": {},
   "outputs": [],
   "source": []
  },
  {
   "cell_type": "code",
   "execution_count": null,
   "id": "6d216652-4068-400e-9d34-991476a9c664",
   "metadata": {},
   "outputs": [],
   "source": [
    "# %%time\n",
    "# df = hw_df\n",
    "# bboxes_list = []\n",
    "# _ = df.apply(lambda row: get_yolo_bbox(row), axis=1)"
   ]
  },
  {
   "cell_type": "code",
   "execution_count": null,
   "id": "becd8a16-2c82-4eb5-8c15-b3379db17c87",
   "metadata": {},
   "outputs": [],
   "source": [
    "# col_name = 'xmin'\n",
    "# ind = 0\n",
    "# df[col_name] = [x[ind] for x in bboxes_list]"
   ]
  },
  {
   "cell_type": "code",
   "execution_count": null,
   "id": "841615b2-e18c-47ee-9547-b99611ef4363",
   "metadata": {},
   "outputs": [],
   "source": []
  },
  {
   "cell_type": "code",
   "execution_count": null,
   "id": "926e5c2d-eefc-4b09-ae9f-5b0588fa86eb",
   "metadata": {},
   "outputs": [],
   "source": []
  },
  {
   "cell_type": "code",
   "execution_count": null,
   "id": "9a3ad229-03a9-4b10-8c24-17260b66682f",
   "metadata": {
    "tags": []
   },
   "outputs": [],
   "source": [
    "!ls /nas/chenyi/datasets_nas/openfashion"
   ]
  },
  {
   "cell_type": "code",
   "execution_count": null,
   "id": "09da21db-3729-4ca9-a9a0-68e0315bdae7",
   "metadata": {},
   "outputs": [],
   "source": []
  },
  {
   "cell_type": "code",
   "execution_count": null,
   "id": "2d91075a-9b1d-4794-b408-a55f5b56e272",
   "metadata": {},
   "outputs": [],
   "source": [
    "dp23 = pd.read_csv('/nas/chenyi/datasets_nas/openfashion/deepedia2/deepedia_catg23_yolo.csv')"
   ]
  },
  {
   "cell_type": "code",
   "execution_count": null,
   "id": "2799ef40-1db4-4903-80f9-0ef694fa0787",
   "metadata": {},
   "outputs": [],
   "source": [
    "dp23.head()"
   ]
  },
  {
   "cell_type": "code",
   "execution_count": null,
   "id": "868842f8-c274-47d6-b93f-ecc0fdccb4ae",
   "metadata": {},
   "outputs": [],
   "source": [
    "dp23.describe()"
   ]
  },
  {
   "cell_type": "code",
   "execution_count": null,
   "id": "cf1b325e-3a09-42af-b687-59a91efeca28",
   "metadata": {},
   "outputs": [],
   "source": [
    "dp23.value_counts('source')"
   ]
  },
  {
   "cell_type": "code",
   "execution_count": null,
   "id": "a9b20cfc-9373-43a0-aea9-1cd2c57d08f1",
   "metadata": {},
   "outputs": [],
   "source": [
    "dp23[dp23['source']==dp23.value_counts('source').axes[0][0]].describe()"
   ]
  },
  {
   "cell_type": "code",
   "execution_count": null,
   "id": "5fc7a43a-fc62-4c0e-9c46-6907bc714075",
   "metadata": {},
   "outputs": [],
   "source": []
  },
  {
   "cell_type": "code",
   "execution_count": null,
   "id": "11c83245-f1aa-4e51-8390-170102fd576b",
   "metadata": {},
   "outputs": [],
   "source": [
    "opf = pd.read_csv('/nas/chenyi/datasets_nas/openfashion/openfashion45_coco.csv')"
   ]
  },
  {
   "cell_type": "code",
   "execution_count": null,
   "id": "bb72c03e-e391-4323-8b39-31e208d92251",
   "metadata": {},
   "outputs": [],
   "source": [
    "# /nas/chenyi/datasets_nas/openfashion/openfashion_info.csv"
   ]
  },
  {
   "cell_type": "code",
   "execution_count": null,
   "id": "10b54f8c-8230-44f1-abcd-9d2686d4c8f1",
   "metadata": {},
   "outputs": [],
   "source": [
    "opf.head()"
   ]
  },
  {
   "cell_type": "code",
   "execution_count": null,
   "id": "1068c8f7-faf5-4f9e-92f4-2dbde73c58a5",
   "metadata": {},
   "outputs": [],
   "source": []
  },
  {
   "cell_type": "code",
   "execution_count": null,
   "id": "9397782e-8ebc-4820-860d-49ed8eac4ad2",
   "metadata": {},
   "outputs": [],
   "source": [
    "len(opf)"
   ]
  },
  {
   "cell_type": "code",
   "execution_count": null,
   "id": "f191d193-0465-4eb2-978b-c44abf108bc5",
   "metadata": {},
   "outputs": [],
   "source": [
    "opf.value_counts('source')"
   ]
  },
  {
   "cell_type": "code",
   "execution_count": null,
   "id": "70edeb5f-b999-4e97-8cf9-eff8caae928e",
   "metadata": {},
   "outputs": [],
   "source": [
    "opf.value_counts('source').axes[0][0]"
   ]
  },
  {
   "cell_type": "code",
   "execution_count": null,
   "id": "04ae7826-76ac-466b-a92e-151fcbb4a4cf",
   "metadata": {},
   "outputs": [],
   "source": [
    "opf.describe()"
   ]
  },
  {
   "cell_type": "code",
   "execution_count": null,
   "id": "430eed13-65c9-4f3c-a9c2-ee1ed6dd919f",
   "metadata": {},
   "outputs": [],
   "source": [
    "opf[opf['source']==opf.value_counts('source').axes[0][0]].describe()"
   ]
  },
  {
   "cell_type": "code",
   "execution_count": null,
   "id": "8f40566c-02a3-4196-ad9d-7dfccf63c9ad",
   "metadata": {},
   "outputs": [],
   "source": [
    "opf[opf['source']==opf.value_counts('source').axes[0][1]].describe()"
   ]
  },
  {
   "cell_type": "code",
   "execution_count": null,
   "id": "527de835-6ebd-4539-b3a7-b0d6456ec143",
   "metadata": {},
   "outputs": [],
   "source": [
    "opf[opf['source']==opf.value_counts('source').axes[0][2]].describe()"
   ]
  },
  {
   "cell_type": "code",
   "execution_count": null,
   "id": "c4926a4c-1f20-44d7-ba81-bcdc7b3f06f8",
   "metadata": {},
   "outputs": [],
   "source": [
    "fp_df = opf[opf['source']==opf.value_counts('source').axes[0][2]]"
   ]
  },
  {
   "cell_type": "code",
   "execution_count": null,
   "id": "15f88e1c-53e0-428d-a78b-25303fef93d4",
   "metadata": {},
   "outputs": [],
   "source": []
  },
  {
   "cell_type": "code",
   "execution_count": null,
   "id": "f531e3cf-d192-4dfe-b309-a809cf60669b",
   "metadata": {},
   "outputs": [],
   "source": [
    "opf.columns"
   ]
  },
  {
   "cell_type": "code",
   "execution_count": null,
   "id": "84d1722c-635d-44c9-9fa6-fba4ee350a15",
   "metadata": {},
   "outputs": [],
   "source": [
    "dp23.loc[dp23[dp23['source']==dp23.value_counts('source').axes[0][1]].index, ['x_1', 'y_1', 'x_2', 'y_2', 'path']].head(2).values"
   ]
  },
  {
   "cell_type": "code",
   "execution_count": null,
   "id": "c4969a43-8edc-4d79-9488-2174dd1a55d4",
   "metadata": {},
   "outputs": [],
   "source": [
    "opf.loc[opf[opf['source']==opf.value_counts('source').axes[0][2]].index, ['xmin', 'ymin', 'xmax', 'ymax', 'path']].head(2).values"
   ]
  },
  {
   "cell_type": "code",
   "execution_count": null,
   "id": "58354847-ffd4-4fe0-9127-6e0ba00d6112",
   "metadata": {},
   "outputs": [],
   "source": [
    "# opf.loc[opf[opf['source']==opf.value_counts('source').axes[0][2]].index, ['xmin', 'ymin', 'xmax', 'ymax', 'path']] = dp23.loc[dp23[dp23['source']==dp23.value_counts('source').axes[0][1]].index, ['x_1', 'y_1', 'x_2', 'y_2', 'path']].values"
   ]
  },
  {
   "cell_type": "code",
   "execution_count": null,
   "id": "69af1ca8-98a4-41a0-b1fd-68e668b1900b",
   "metadata": {},
   "outputs": [],
   "source": []
  },
  {
   "cell_type": "code",
   "execution_count": null,
   "id": "b5684a1c-9dda-465f-b051-555c75b88880",
   "metadata": {},
   "outputs": [],
   "source": [
    "opf = pd.read_csv('/nas/chenyi/datasets_nas/openfashion/allfashion/openfashion45_data_clear.csv')"
   ]
  },
  {
   "cell_type": "code",
   "execution_count": null,
   "id": "760b2295-4385-4b78-8a49-8295bee615a6",
   "metadata": {},
   "outputs": [],
   "source": [
    "# opf.loc[opf[opf['source']==opf.value_counts('source').axes[0][2]].index, ['xmin']] = \\\n",
    "#             opf.loc[opf[opf['source']==opf.value_counts('source').axes[0][2]].index, ['xmin']].values* opf.loc[opf[opf['source']==opf.value_counts('source').axes[0][2]].index, ['width']].values"
   ]
  },
  {
   "cell_type": "code",
   "execution_count": null,
   "id": "b45fe798-7d4e-4851-87da-ab471cbfe60d",
   "metadata": {},
   "outputs": [],
   "source": [
    "opf.loc[:, ['ymin']] = \\\n",
    "            opf.loc[:, ['ymin']].values/ opf.loc[:, ['height']].values"
   ]
  },
  {
   "cell_type": "code",
   "execution_count": null,
   "id": "896a94c0-4745-4e4d-9f70-29bdc2e75ea1",
   "metadata": {},
   "outputs": [],
   "source": [
    "opf[opf['source']==opf.value_counts('source').axes[0][2]].head(2)"
   ]
  },
  {
   "cell_type": "code",
   "execution_count": null,
   "id": "77318ea1-0927-41fb-9956-9bff4f3b8c74",
   "metadata": {},
   "outputs": [],
   "source": [
    "opf.describe()"
   ]
  },
  {
   "cell_type": "code",
   "execution_count": null,
   "id": "b4f35f8b-0204-4ab9-9993-41a6306ca17b",
   "metadata": {},
   "outputs": [],
   "source": [
    "# opf.to_csv('/nas/chenyi/datasets_nas/openfashion/allfashion/openfashion45_data_clear.csv', index=False)"
   ]
  },
  {
   "cell_type": "code",
   "execution_count": null,
   "id": "cfa404a4-ee84-4623-bc57-7fd68107ac89",
   "metadata": {},
   "outputs": [],
   "source": []
  },
  {
   "cell_type": "markdown",
   "id": "c796002d-4b3d-4183-b7d1-83986166093b",
   "metadata": {
    "tags": []
   },
   "source": [
    "### 数据分析"
   ]
  },
  {
   "cell_type": "code",
   "execution_count": null,
   "id": "cb9221bd-4e0d-4607-9f97-93e85238a8f4",
   "metadata": {},
   "outputs": [],
   "source": [
    "!tree -L 2 /home/chenyi/workspace/dataset/data"
   ]
  },
  {
   "cell_type": "code",
   "execution_count": null,
   "id": "4b8cea9d-43d0-4dd1-a4f2-e1f810b239a5",
   "metadata": {},
   "outputs": [],
   "source": [
    "!tree -L 2 /home/chenyi/workspace/dataset/deepedia/info"
   ]
  },
  {
   "cell_type": "code",
   "execution_count": null,
   "id": "c1fedbaa-6f2d-42c4-acca-aff31019745a",
   "metadata": {},
   "outputs": [],
   "source": [
    "!tree -L 2 /home/chenyi/workspace/yolov5/datasets/deepedia_catg8"
   ]
  },
  {
   "cell_type": "code",
   "execution_count": null,
   "id": "c341207f-57cf-404b-9ce7-b6fe94bb3210",
   "metadata": {},
   "outputs": [],
   "source": [
    "!tree -L 2 /home/chenyi/workspace/yolov5/datasets/deepedia_catg8"
   ]
  },
  {
   "cell_type": "code",
   "execution_count": null,
   "id": "880d5534-5e2c-4944-bb7e-8a1b71b5940b",
   "metadata": {},
   "outputs": [],
   "source": [
    "dpedia_bx4 = pd.read_csv('/home/chenyi/workspace/dataset/deepedia/info/deepedia/dpedia_bx4.csv')"
   ]
  },
  {
   "cell_type": "code",
   "execution_count": null,
   "id": "1ab9a7fd-34dd-4846-951b-a14a5dbbeef6",
   "metadata": {},
   "outputs": [],
   "source": [
    "dpedia_bx4.head(2)"
   ]
  },
  {
   "cell_type": "code",
   "execution_count": null,
   "id": "893b3bb4-fa74-4411-bcc8-9565d5912506",
   "metadata": {},
   "outputs": [],
   "source": [
    "len(dpedia_bx4)"
   ]
  },
  {
   "cell_type": "code",
   "execution_count": null,
   "id": "a4bf34ad-b565-4f7b-88e6-05d6084d633e",
   "metadata": {},
   "outputs": [],
   "source": []
  },
  {
   "cell_type": "code",
   "execution_count": null,
   "id": "104b50e9-274a-496c-a9be-04b117e29cbb",
   "metadata": {},
   "outputs": [],
   "source": []
  },
  {
   "cell_type": "markdown",
   "id": "bc5729d5-4dbb-46ef-91ac-0ffe8c1cc9b3",
   "metadata": {},
   "source": [
    "#### fashionpedia的数据"
   ]
  },
  {
   "cell_type": "code",
   "execution_count": null,
   "id": "08ee72b1-6ca1-4c8e-a335-6445d43b446b",
   "metadata": {},
   "outputs": [],
   "source": [
    "import pickle"
   ]
  },
  {
   "cell_type": "code",
   "execution_count": null,
   "id": "4bd806b7-0352-4eda-88fe-0314635f92e3",
   "metadata": {},
   "outputs": [],
   "source": [
    "# of_df  = pd.read_csv('/nas/lichangjian/open_fashion/df_OpenFashion.csv')"
   ]
  },
  {
   "cell_type": "code",
   "execution_count": null,
   "id": "7efb9959-24f8-444a-91ff-5f6dba518a37",
   "metadata": {},
   "outputs": [],
   "source": [
    "dp_bx_df.to_csv('/home/chenyi/workspace/dataset/deepedia/info/deepedia/pedia94.csv', index=False)"
   ]
  },
  {
   "cell_type": "code",
   "execution_count": null,
   "id": "93f8c4f5-8316-4eaf-ad88-7a9d908b6494",
   "metadata": {},
   "outputs": [],
   "source": []
  },
  {
   "cell_type": "code",
   "execution_count": null,
   "id": "80e77b11-a4a8-448e-976b-8678b62fda07",
   "metadata": {},
   "outputs": [],
   "source": [
    "with open('/home/chenyi/workspace/dataset/deepedia/info/pickle/pedia_train_dict.pickle', 'rb') as f:\n",
    "    dp_dict = pickle.load(f)"
   ]
  },
  {
   "cell_type": "code",
   "execution_count": null,
   "id": "dc29b00b-d3c3-4418-bb92-db15615ddf7f",
   "metadata": {},
   "outputs": [],
   "source": []
  },
  {
   "cell_type": "code",
   "execution_count": null,
   "id": "287ce05a-0e73-44c6-997c-8c117397af29",
   "metadata": {},
   "outputs": [],
   "source": [
    "!ls /home/chenyi/workspace/dataset/deepedia/info"
   ]
  },
  {
   "cell_type": "code",
   "execution_count": null,
   "id": "e3a83058-4c34-40af-bdee-6e4b67e386d0",
   "metadata": {},
   "outputs": [],
   "source": [
    "pedia_map_l1.keys()"
   ]
  },
  {
   "cell_type": "code",
   "execution_count": null,
   "id": "6175c225-c658-458f-af13-c308cc158192",
   "metadata": {},
   "outputs": [],
   "source": [
    "pedia2yolo_df.tail(2)"
   ]
  },
  {
   "cell_type": "code",
   "execution_count": null,
   "id": "c1836389-bdd6-419f-8858-b004fb3059ea",
   "metadata": {},
   "outputs": [],
   "source": [
    "pedia_map_l1 = {19: 0,\n",
    " 14: 1,\n",
    " 23: 2,\n",
    " 24: 3,\n",
    " 0: 4,\n",
    " 1: 4,\n",
    " 2: 4,\n",
    " 3: 4,\n",
    " 4: 4,\n",
    " 5: 4,\n",
    " 6: 5,\n",
    " 7: 5,\n",
    " 8: 6,\n",
    " 9: 4,\n",
    " 10: 7,\n",
    " 11: 7}"
   ]
  },
  {
   "cell_type": "code",
   "execution_count": null,
   "id": "4a061b0f-ea1f-434e-bc56-b2fcaa9b5a98",
   "metadata": {},
   "outputs": [],
   "source": []
  },
  {
   "cell_type": "code",
   "execution_count": null,
   "id": "0aff3c98-f239-406a-82ab-01d93c9ce0fd",
   "metadata": {},
   "outputs": [],
   "source": [
    "dp_df = pd.DataFrame()"
   ]
  },
  {
   "cell_type": "code",
   "execution_count": null,
   "id": "3791e1cb-68bd-451f-935c-85cae9869923",
   "metadata": {},
   "outputs": [],
   "source": [
    "dp_df['fname'] = dp_dict['file_name']\n",
    "dp_df['bbox'] = dp_dict['bbox']\n",
    "dp_df['width'] = dp_dict['width']\n",
    "dp_df['height'] = dp_dict['height']"
   ]
  },
  {
   "cell_type": "code",
   "execution_count": null,
   "id": "c0b6aa85-6a72-4f82-9ccd-84ca27eca336",
   "metadata": {},
   "outputs": [],
   "source": [
    "dpedia_df = dp_df"
   ]
  },
  {
   "cell_type": "code",
   "execution_count": null,
   "id": "a48e5d30-2a3f-42d3-9893-1e8e8617b225",
   "metadata": {},
   "outputs": [],
   "source": [
    "img_sp_list = []\n",
    "bboxes_list = []\n",
    "w_list = []\n",
    "h_list = []\n",
    "mode_list = []\n",
    "bx_id_list = []\n",
    "for ind, row in tqdm(dpedia_df.iterrows()):\n",
    "    bboxes = row['bbox']\n",
    "    p = row['fname']\n",
    "    w = row['width']\n",
    "    h = row['height']\n",
    "    # mode = row['train']\n",
    "    bx_id = 0\n",
    "    for bx in bboxes:\n",
    "        bboxes_list.append(bx)\n",
    "        img_sp_list.append(p)\n",
    "        w_list.append(w)\n",
    "        h_list.append(h)\n",
    "        # mode_list.append(mode)\n",
    "        bx_id_list.append(bx_id)\n",
    "        bx_id += 1\n",
    "dp_bx_df = pd.DataFrame()\n",
    "dp_bx_df['fname'] = img_sp_list\n",
    "dp_bx_df['bbox'] = bboxes_list\n",
    "dp_bx_df['id_bbox'] = bx_id_list\n",
    "dp_bx_df['width'] = w_list\n",
    "dp_bx_df['height'] = h_list\n",
    "# dp_bx_df['mode'] = mode_list"
   ]
  },
  {
   "cell_type": "code",
   "execution_count": null,
   "id": "eb942f2e-1a3c-403d-b603-ec4754488a27",
   "metadata": {},
   "outputs": [],
   "source": []
  },
  {
   "cell_type": "code",
   "execution_count": null,
   "id": "dc5333dd-e2c5-4e05-b2d1-d7349b9cf311",
   "metadata": {},
   "outputs": [],
   "source": []
  },
  {
   "cell_type": "code",
   "execution_count": null,
   "id": "cba1fc87-500d-445a-be47-a0b237c2db4c",
   "metadata": {},
   "outputs": [],
   "source": [
    "dp_bx_df['label8'] = dp_bx_df['bbox'].apply(lambda x: int(x[0]))"
   ]
  },
  {
   "cell_type": "code",
   "execution_count": null,
   "id": "679c9de3-5671-4ab5-9d33-b36a813bfdcc",
   "metadata": {},
   "outputs": [],
   "source": [
    "dp_bx_df['bx3'] = dp_bx_df['bbox'].apply(lambda x: x[3])"
   ]
  },
  {
   "cell_type": "code",
   "execution_count": null,
   "id": "acedb192-f500-4d2e-9c11-a951cdf71c86",
   "metadata": {},
   "outputs": [],
   "source": [
    "dp_bx_df['bx4'] = dp_bx_df['bbox'].apply(lambda x: x[4])"
   ]
  },
  {
   "cell_type": "code",
   "execution_count": null,
   "id": "5b842c25-8714-4fa2-84c2-685e9adfc2ef",
   "metadata": {},
   "outputs": [],
   "source": [
    "for ind in dp_bx_df.value_counts('label8').index:\n",
    "    if ind not in pedia_map_l1.keys():\n",
    "        pedia_map_l1[ind] = -1"
   ]
  },
  {
   "cell_type": "code",
   "execution_count": null,
   "id": "1bb31dc3-efec-4951-8d27-e6a99b238ec7",
   "metadata": {},
   "outputs": [],
   "source": [
    "dp_bx_df.rename(columns={'label8':'label_l2'}, inplace=True)"
   ]
  },
  {
   "cell_type": "code",
   "execution_count": null,
   "id": "aa599c51-94f3-4f22-a39d-7c1b0557b421",
   "metadata": {},
   "outputs": [],
   "source": [
    "dp_bx_df['label8'] = dp_bx_df['bbox'].apply(lambda x: pedia_map_l1[int(x[0])])"
   ]
  },
  {
   "cell_type": "code",
   "execution_count": null,
   "id": "0f92ac64-ad0c-4f20-8f7c-baf6f2948349",
   "metadata": {},
   "outputs": [],
   "source": [
    "dp_bx_df.value_counts('label8').sort_index()"
   ]
  },
  {
   "cell_type": "code",
   "execution_count": null,
   "id": "a097200c-a139-4601-ad63-f0ef817f436b",
   "metadata": {},
   "outputs": [],
   "source": [
    "pedia_df =  dp_bx_df"
   ]
  },
  {
   "cell_type": "code",
   "execution_count": null,
   "id": "c7b59d55-45a8-4136-b91c-003253603c17",
   "metadata": {},
   "outputs": [],
   "source": [
    "pedia_df.tail(2)"
   ]
  },
  {
   "cell_type": "code",
   "execution_count": null,
   "id": "8fe009d4-5b6f-42a7-98f0-bae656ee1835",
   "metadata": {},
   "outputs": [],
   "source": []
  },
  {
   "cell_type": "code",
   "execution_count": null,
   "id": "b63f8c62-45e5-4bf4-a0f3-4dbe963cc7b7",
   "metadata": {},
   "outputs": [],
   "source": []
  },
  {
   "cell_type": "code",
   "execution_count": null,
   "id": "310c1fcd-7381-4db7-8d60-62c94c2e25ee",
   "metadata": {},
   "outputs": [],
   "source": [
    "pedia_df['img_sp'] = pedia_df['fname'].apply(lambda x: f'/home/chenyi/workspace/dataset/data/data_fashionpedia/train/{x}')"
   ]
  },
  {
   "cell_type": "code",
   "execution_count": null,
   "id": "94825b81-d30e-4ceb-9aa2-457e3d53aaeb",
   "metadata": {},
   "outputs": [],
   "source": [
    "!ls /home/chenyi/workspace/dataset/deepedia/info/deepedia/dpedia_bx4.csv /home/chenyi/workspace/dataset/deepedia/info/deepedia/dpedia_bx4_old.csv"
   ]
  },
  {
   "cell_type": "code",
   "execution_count": null,
   "id": "3059dadd-9812-4947-a1ee-33a6f6d7241e",
   "metadata": {},
   "outputs": [],
   "source": [
    "dp_bx_old = pd.read_csv('/home/chenyi/workspace/dataset/deepedia/info/deepedia/dpedia_bx4.csv')"
   ]
  },
  {
   "cell_type": "code",
   "execution_count": null,
   "id": "7e40bd2d-df17-4b13-b8b6-072864b42852",
   "metadata": {},
   "outputs": [],
   "source": [
    "len(dp_bx_old)"
   ]
  },
  {
   "cell_type": "code",
   "execution_count": null,
   "id": "587481dc-ff0b-43c7-b9c1-e42774440f5b",
   "metadata": {},
   "outputs": [],
   "source": [
    "df2_df = dp_bx_old[dp_bx_old['source']=='deepfashion2']\n",
    "fp_df2 = dp_bx_old[dp_bx_old['source']=='fashionpedia']"
   ]
  },
  {
   "cell_type": "code",
   "execution_count": null,
   "id": "295bd8d1-a432-429a-898f-67bbbd2107a3",
   "metadata": {},
   "outputs": [],
   "source": [
    "len(df2_df),len(fp_df2)"
   ]
  },
  {
   "cell_type": "code",
   "execution_count": null,
   "id": "8ba4d757-5888-4ff9-9206-271c6fb0cf35",
   "metadata": {},
   "outputs": [],
   "source": [
    "fp_df2.value_counts('label8')"
   ]
  },
  {
   "cell_type": "code",
   "execution_count": null,
   "id": "90480561-daf2-4e29-a1c7-edc883d554f8",
   "metadata": {},
   "outputs": [],
   "source": []
  },
  {
   "cell_type": "code",
   "execution_count": null,
   "id": "e7f096f5-c64f-4e45-8da3-f15797213359",
   "metadata": {},
   "outputs": [],
   "source": []
  },
  {
   "cell_type": "code",
   "execution_count": null,
   "id": "cabaa9c9-8b0b-40aa-8309-412f41c377ff",
   "metadata": {},
   "outputs": [],
   "source": []
  },
  {
   "cell_type": "code",
   "execution_count": null,
   "id": "7adf7119-226e-4271-99fe-e3959a5d8e87",
   "metadata": {},
   "outputs": [],
   "source": [
    "dp_bx = pd.concat([df2_df, pedia_df])"
   ]
  },
  {
   "cell_type": "code",
   "execution_count": null,
   "id": "8c02f3bc-2066-4ab6-8653-f21c4480ffcc",
   "metadata": {},
   "outputs": [],
   "source": [
    "dp_bx.tail()"
   ]
  },
  {
   "cell_type": "code",
   "execution_count": null,
   "id": "740011fb-4dfd-48a8-b4a6-e91cf041e692",
   "metadata": {},
   "outputs": [],
   "source": [
    "len(df2_df),len(dp_bx)"
   ]
  },
  {
   "cell_type": "code",
   "execution_count": null,
   "id": "fa545995-134d-426e-99f4-c95451be1d83",
   "metadata": {},
   "outputs": [],
   "source": []
  },
  {
   "cell_type": "markdown",
   "id": "7576e70d-2132-4293-bbd5-9e0f6cd6284f",
   "metadata": {
    "jp-MarkdownHeadingCollapsed": true,
    "tags": []
   },
   "source": [
    "#### deepfashon2"
   ]
  },
  {
   "cell_type": "code",
   "execution_count": null,
   "id": "d400b53d-81b6-4707-94c0-cb1945027496",
   "metadata": {},
   "outputs": [],
   "source": [
    "!tree -L 1 /home/chenyi/workspace/dataset/deepedia/info"
   ]
  },
  {
   "cell_type": "code",
   "execution_count": null,
   "id": "0ab6a834-da82-4ee3-9afd-653206b2536c",
   "metadata": {},
   "outputs": [],
   "source": [
    "fashion2_df.head()"
   ]
  },
  {
   "cell_type": "code",
   "execution_count": null,
   "id": "d891cdca-a006-4ae7-9f06-cc45a33b3789",
   "metadata": {},
   "outputs": [],
   "source": [
    "# fashion2_df.to_csv('/home/chenyi/workspace/dataset/deepedia/info/fashion2_img.csv', index=False)"
   ]
  },
  {
   "cell_type": "code",
   "execution_count": null,
   "id": "e1e10cdc-4c2a-4bc4-a0a6-05dbc7ca4b11",
   "metadata": {},
   "outputs": [],
   "source": [
    "def get_wh(p):\n",
    "    img = Image.open(p)\n",
    "    w,h = img.size\n",
    "    w_list.append(w)\n",
    "    h_list.append(h)"
   ]
  },
  {
   "cell_type": "code",
   "execution_count": null,
   "id": "7aa3df89-9ff7-4b4c-8591-814eeb3eb063",
   "metadata": {},
   "outputs": [],
   "source": [
    "h_list = []\n",
    "w_list = []\n",
    "for p in tqdm(fashion2_df['img_path']):\n",
    "    get_wh(p)\n",
    "    # break"
   ]
  },
  {
   "cell_type": "code",
   "execution_count": null,
   "id": "700eebf7-6fb4-479a-8dad-41dd1e6d45a0",
   "metadata": {},
   "outputs": [],
   "source": [
    "# fashion2_df['width'] = w_list"
   ]
  },
  {
   "cell_type": "code",
   "execution_count": null,
   "id": "834f2c3e-8977-4743-a0b2-e18ed4a2f5da",
   "metadata": {},
   "outputs": [],
   "source": [
    "# fashion2_df['height'] = h_list"
   ]
  },
  {
   "cell_type": "code",
   "execution_count": null,
   "id": "6235919e-608d-4822-a9d5-c17b7c505f3d",
   "metadata": {},
   "outputs": [],
   "source": [
    "fashion2_df = pd.concat([f2yolo_train, f2yolo_val], axis=0)"
   ]
  },
  {
   "cell_type": "code",
   "execution_count": null,
   "id": "eadd947b-753f-4dc7-8510-663c5bb71cca",
   "metadata": {},
   "outputs": [],
   "source": [
    "fashion2_df.tail(2)"
   ]
  },
  {
   "cell_type": "code",
   "execution_count": null,
   "id": "616a623f-b025-4862-9483-cca326aac04b",
   "metadata": {},
   "outputs": [],
   "source": [
    "import re"
   ]
  },
  {
   "cell_type": "code",
   "execution_count": null,
   "id": "44a66083-1ddd-41ff-b34e-739a7265fa15",
   "metadata": {},
   "outputs": [],
   "source": [
    "fashion2_df['train'] = fashion2_df['img_path'].apply(lambda x: re.findall(r'/images/([a-z]{3,5})/', x)[0])"
   ]
  },
  {
   "cell_type": "code",
   "execution_count": null,
   "id": "0c8a24ad-779d-4824-a3dd-8ee01cf76c2d",
   "metadata": {},
   "outputs": [],
   "source": [
    "len(fashion2_df)"
   ]
  },
  {
   "cell_type": "code",
   "execution_count": null,
   "id": "59bd36a1-6ffd-4eeb-b65b-462899b6174a",
   "metadata": {},
   "outputs": [],
   "source": [
    "fashion2_df.head()"
   ]
  },
  {
   "cell_type": "code",
   "execution_count": null,
   "id": "4b6ec782-82d1-45a9-ac0d-2ce94f3ff611",
   "metadata": {},
   "outputs": [],
   "source": []
  },
  {
   "cell_type": "code",
   "execution_count": null,
   "id": "86dcbd59-a49e-4037-bda4-659a2b709e15",
   "metadata": {},
   "outputs": [],
   "source": []
  },
  {
   "cell_type": "code",
   "execution_count": null,
   "id": "41e5ca4d-b5f9-495b-bc88-330a0b110a6e",
   "metadata": {},
   "outputs": [],
   "source": []
  },
  {
   "cell_type": "markdown",
   "id": "687d7a4b-d1d6-497c-a2cc-4c81f7a89150",
   "metadata": {
    "jp-MarkdownHeadingCollapsed": true,
    "tags": []
   },
   "source": [
    "#### deepedia BBox"
   ]
  },
  {
   "cell_type": "code",
   "execution_count": null,
   "id": "51146b93-ee27-4ad6-a65d-e900a1c561cc",
   "metadata": {},
   "outputs": [],
   "source": [
    "!tree -L 2 /home/chenyi/workspace/dataset/deepedia/info/"
   ]
  },
  {
   "cell_type": "code",
   "execution_count": null,
   "id": "b39da907-6145-4d09-9011-f84f78c965d0",
   "metadata": {},
   "outputs": [],
   "source": [
    "dpedia_df.head(2)"
   ]
  },
  {
   "cell_type": "code",
   "execution_count": null,
   "id": "abdeb834-0465-4300-a9dc-1565da44966f",
   "metadata": {},
   "outputs": [],
   "source": []
  },
  {
   "cell_type": "code",
   "execution_count": null,
   "id": "5db4eb2a-909d-4361-92db-75c9a62731ef",
   "metadata": {},
   "outputs": [],
   "source": []
  },
  {
   "cell_type": "code",
   "execution_count": null,
   "id": "2ad948b6-989c-4d75-a1a4-68623a715f5d",
   "metadata": {},
   "outputs": [],
   "source": [
    "dpedia_df = pd.DataFrame()"
   ]
  },
  {
   "cell_type": "code",
   "execution_count": null,
   "id": "a9de018f-fc20-42c2-bf0c-eadb78562aee",
   "metadata": {},
   "outputs": [],
   "source": [
    "dpedia_df['img_sp'] = pedia2yolo_df['img_path'].values.tolist() + fashion2_df['img_path'].values.tolist()"
   ]
  },
  {
   "cell_type": "code",
   "execution_count": null,
   "id": "ecb64273-99fc-4777-9281-dcb50a16ddb9",
   "metadata": {},
   "outputs": [],
   "source": [
    "dpedia_df['bboxes'] = pedia2yolo_df['bbox'].values.tolist() + fashion2_df['bbox'].values.tolist()"
   ]
  },
  {
   "cell_type": "code",
   "execution_count": null,
   "id": "fc045b6a-0ee9-433b-bc5a-be9ba39e9bea",
   "metadata": {},
   "outputs": [],
   "source": [
    "dpedia_df['width'] = pedia2yolo_df['width'].values.tolist() + fashion2_df['width'].values.tolist()"
   ]
  },
  {
   "cell_type": "code",
   "execution_count": null,
   "id": "9e62dc86-58f5-4c6a-8335-9d75a889e31e",
   "metadata": {},
   "outputs": [],
   "source": [
    "dpedia_df['height'] = pedia2yolo_df['height'].values.tolist() + fashion2_df['height'].values.tolist()"
   ]
  },
  {
   "cell_type": "code",
   "execution_count": null,
   "id": "3358a30c-8a07-43b4-99aa-5c40742b213c",
   "metadata": {},
   "outputs": [],
   "source": [
    "dpedia_df['mode'] = pedia2yolo_df['train'].values.tolist() + fashion2_df['train'].values.tolist()"
   ]
  },
  {
   "cell_type": "code",
   "execution_count": null,
   "id": "afd2bbff-e13d-4a3d-bbf0-953a501802b5",
   "metadata": {},
   "outputs": [],
   "source": [
    "len(dpedia_df), len(pedia2yolo_df), len(fashion2_df)"
   ]
  },
  {
   "cell_type": "code",
   "execution_count": null,
   "id": "36dc00c6-b71b-4f3b-b3bc-9abb68a1563e",
   "metadata": {},
   "outputs": [],
   "source": [
    "dpedia_df.tail()"
   ]
  },
  {
   "cell_type": "code",
   "execution_count": null,
   "id": "e5e75d88-38d8-4198-91a5-12796afc71b4",
   "metadata": {},
   "outputs": [],
   "source": [
    "dpedia_df['len'] = dpedia_df['bboxes'].apply(lambda x: len(x))"
   ]
  },
  {
   "cell_type": "code",
   "execution_count": null,
   "id": "08248412-5a82-4086-9948-ce33c4aebad5",
   "metadata": {},
   "outputs": [],
   "source": [
    "dpedia_df.to_csv('/home/chenyi/workspace/dataset/deepedia/info/dpedia_img.csv', index=False)"
   ]
  },
  {
   "cell_type": "code",
   "execution_count": null,
   "id": "0c4a8ae8-77fc-4b1c-a833-636bd393bc4d",
   "metadata": {},
   "outputs": [],
   "source": [
    "dp_bx4_df.to_csv('/home/chenyi/workspace/dataset/deepedia/info/deepedia/dpedia_bx4.csv', index=False)"
   ]
  },
  {
   "cell_type": "code",
   "execution_count": null,
   "id": "8670a702-8f57-4f12-ba70-6f4609fdfe5c",
   "metadata": {},
   "outputs": [],
   "source": [
    "# with open('/home/chenyi/workspace/dataset/deepedia/info/dp_bxes_df.pickle', 'wb') as f:\n",
    "#     pickle.dump(dp_bx_df, f)"
   ]
  },
  {
   "cell_type": "code",
   "execution_count": null,
   "id": "3588153a-bd07-4965-9019-06ee52d96159",
   "metadata": {},
   "outputs": [],
   "source": [
    "img_sp_list = []\n",
    "bboxes_list = []\n",
    "w_list = []\n",
    "h_list = []\n",
    "mode_list = []\n",
    "bx_id_list = []\n",
    "for ind, row in tqdm(dpedia_df.iterrows()):\n",
    "    bboxes = row['bboxes']\n",
    "    p = row['img_sp']\n",
    "    w = row['width']\n",
    "    h = row['height']\n",
    "    mode = row['mode']\n",
    "    bx_id = 0\n",
    "    for bx in bboxes:\n",
    "        bboxes_list.append(bx)\n",
    "        img_sp_list.append(p)\n",
    "        w_list.append(w)\n",
    "        h_list.append(h)\n",
    "        mode_list.append(mode)\n",
    "        bx_id_list.append(bx_id)\n",
    "        bx_id += 1\n",
    "dp_bx_df = pd.DataFrame()\n",
    "dp_bx_df['img_sp'] = img_sp_list\n",
    "dp_bx_df['bbox'] = bboxes_list\n",
    "dp_bx_df['id_bbox'] = bx_id_list\n",
    "dp_bx_df['width'] = w_list\n",
    "dp_bx_df['height'] = h_list\n",
    "dp_bx_df['mode'] = mode_list"
   ]
  },
  {
   "cell_type": "code",
   "execution_count": null,
   "id": "c9683237-9043-4eb6-b9b8-ae7cc1cecbed",
   "metadata": {},
   "outputs": [],
   "source": []
  },
  {
   "cell_type": "code",
   "execution_count": null,
   "id": "b91e1322-c037-41b6-bbf5-6e584c1f89e3",
   "metadata": {},
   "outputs": [],
   "source": [
    "dp_bx_df.head(2)"
   ]
  },
  {
   "cell_type": "code",
   "execution_count": null,
   "id": "aabd02a4-c3ba-48ba-8b20-912c16ba0b90",
   "metadata": {},
   "outputs": [],
   "source": [
    "dp_bx_df['source'] = dp_bx_df['img_sp'].apply(lambda x:re.findall('/data/(.*?)/', x)[0])"
   ]
  },
  {
   "cell_type": "code",
   "execution_count": null,
   "id": "5fdff2d2-9beb-4173-8254-43e024e1add8",
   "metadata": {},
   "outputs": [],
   "source": [
    "dp_bx_df[dp_bx_df['source']=='fashionpedia'].value_counts('label8').sort_index()"
   ]
  },
  {
   "cell_type": "code",
   "execution_count": null,
   "id": "87cd4455-ac2d-4479-ba68-890a2742eb01",
   "metadata": {},
   "outputs": [],
   "source": [
    "dp_bx_df[dp_bx_df['source']=='deepfashion2'].value_counts('label8').sort_index()"
   ]
  },
  {
   "cell_type": "code",
   "execution_count": null,
   "id": "f8f2d508-3b09-4663-b680-971a7df33a93",
   "metadata": {},
   "outputs": [],
   "source": []
  },
  {
   "cell_type": "code",
   "execution_count": null,
   "id": "27e5ad01-e86a-4b1f-8b08-468205a77e59",
   "metadata": {},
   "outputs": [],
   "source": []
  },
  {
   "cell_type": "code",
   "execution_count": null,
   "id": "d8521edd-eb2b-4938-b931-29a806d97098",
   "metadata": {},
   "outputs": [],
   "source": []
  },
  {
   "cell_type": "code",
   "execution_count": null,
   "id": "2995663e-2578-4cb5-b940-8113ae0206a6",
   "metadata": {},
   "outputs": [],
   "source": [
    "len(dp_bx_df)"
   ]
  },
  {
   "cell_type": "code",
   "execution_count": null,
   "id": "95c6a32b-78a9-480a-b9cc-d7bcd288850b",
   "metadata": {},
   "outputs": [],
   "source": []
  },
  {
   "cell_type": "code",
   "execution_count": null,
   "id": "4d7d7111-d9dc-47a6-920c-16238c37553a",
   "metadata": {},
   "outputs": [],
   "source": [
    "dp_bx_df['label8'] = dp_bx_df['bbox'].apply(lambda x: int(x[0]))\n",
    "dp_bx_df['bx4'] = dp_bx_df['bbox'].apply(lambda x: x[4])"
   ]
  },
  {
   "cell_type": "code",
   "execution_count": null,
   "id": "eedec153-aebb-4026-94ca-c780ec255354",
   "metadata": {},
   "outputs": [],
   "source": []
  },
  {
   "cell_type": "code",
   "execution_count": null,
   "id": "12406f6e-d442-49af-9f5f-0aff90ba9d1b",
   "metadata": {},
   "outputs": [],
   "source": [
    "dp_bx4_df = dp_bx_df.drop(columns='bbox')"
   ]
  },
  {
   "cell_type": "code",
   "execution_count": null,
   "id": "fe2e3940-d500-45e4-a441-4c34e59fcdc3",
   "metadata": {},
   "outputs": [],
   "source": [
    "dp_bx_df['bx3'] = dp_bx_df['bx3'].values*dp_bx_df['width'].values"
   ]
  },
  {
   "cell_type": "code",
   "execution_count": null,
   "id": "c90caa2e-0b67-4374-ae7d-ad04bf744071",
   "metadata": {},
   "outputs": [],
   "source": [
    "dp_bx_df['bx4'] = dp_bx_df['bx4'].values*dp_bx_df['height'].values"
   ]
  },
  {
   "cell_type": "code",
   "execution_count": null,
   "id": "266080d7-97a9-4517-b0b9-fdc461e2e322",
   "metadata": {},
   "outputs": [],
   "source": [
    "dp6_bx_df = dp_bx_df[dp_bx_df['label8']>=2]"
   ]
  },
  {
   "cell_type": "code",
   "execution_count": null,
   "id": "0a516dff-f26b-41fa-9af5-ff1a8ca31b5c",
   "metadata": {},
   "outputs": [],
   "source": [
    "len(dp6_bx_df)"
   ]
  },
  {
   "cell_type": "code",
   "execution_count": null,
   "id": "aed8e2bd-5a9e-4b4f-a107-c604267c2632",
   "metadata": {},
   "outputs": [],
   "source": [
    "dp_bx4_df.head()"
   ]
  },
  {
   "cell_type": "code",
   "execution_count": null,
   "id": "3e0b32e2-a6f5-42ba-838d-f60b640d5504",
   "metadata": {},
   "outputs": [],
   "source": [
    "df2 = dp_bx4_df[dp_bx4_df['source']=='deepfashion2']"
   ]
  },
  {
   "cell_type": "code",
   "execution_count": null,
   "id": "ec4fd99c-5a1b-437d-88bc-03ed2ac89b85",
   "metadata": {},
   "outputs": [],
   "source": [
    "dp_df = dp_bx4_df[dp_bx4_df['source']=='fashionpedia']"
   ]
  },
  {
   "cell_type": "code",
   "execution_count": null,
   "id": "b33c8bda-e94a-4f28-9513-946a1a67db80",
   "metadata": {},
   "outputs": [],
   "source": [
    "dp_df.head(2)"
   ]
  },
  {
   "cell_type": "code",
   "execution_count": null,
   "id": "6a8404b7-0088-4955-9821-851d6b7fb40b",
   "metadata": {},
   "outputs": [],
   "source": [
    "label_df2 = df2['label8'].apply(lambda x: dfashon2_map_l1[x])"
   ]
  },
  {
   "cell_type": "code",
   "execution_count": null,
   "id": "5fecc51a-8320-4c6a-b4f9-ed2cc2eecab9",
   "metadata": {},
   "outputs": [],
   "source": [
    "len(label_df2), len(dp_bx4_df),len(dp_df)"
   ]
  },
  {
   "cell_type": "code",
   "execution_count": null,
   "id": "3ae0a194-2eb2-4f16-a4e6-50e9249cdb3a",
   "metadata": {},
   "outputs": [],
   "source": [
    "dp_bx4_df.loc[label_df2.index, 'label8'] = label_df2.values"
   ]
  },
  {
   "cell_type": "code",
   "execution_count": null,
   "id": "dd0a3391-0b22-403b-84eb-f9f2490b131c",
   "metadata": {},
   "outputs": [],
   "source": [
    "dp_bx4_df['label8'] = dp_bx_df['label8'].values"
   ]
  },
  {
   "cell_type": "code",
   "execution_count": null,
   "id": "46baa14b-5af8-427f-be85-d763e2a0b696",
   "metadata": {},
   "outputs": [],
   "source": [
    "dp_df.value_counts('label8')"
   ]
  },
  {
   "cell_type": "code",
   "execution_count": null,
   "id": "578fe6bc-34f1-4cb4-b59a-0d255bfa621f",
   "metadata": {},
   "outputs": [],
   "source": [
    "dp_df.value_counts('label8').sort_index()"
   ]
  },
  {
   "cell_type": "code",
   "execution_count": null,
   "id": "8a711c85-ac88-42b7-a598-032bcf54fcaa",
   "metadata": {},
   "outputs": [],
   "source": [
    "dp_bx4_df.value_counts('label8').sort_index()"
   ]
  },
  {
   "cell_type": "code",
   "execution_count": null,
   "id": "ac7e3487-35e4-46f2-8cd0-91d71016f81a",
   "metadata": {},
   "outputs": [],
   "source": [
    "dp_bx4_df.head()"
   ]
  },
  {
   "cell_type": "code",
   "execution_count": null,
   "id": "da47bbfa-bcb5-4737-9c73-2f5c1393191a",
   "metadata": {},
   "outputs": [],
   "source": []
  },
  {
   "cell_type": "markdown",
   "id": "9353b0b2-e20e-4ba2-9276-7d2936075c89",
   "metadata": {
    "tags": []
   },
   "source": [
    "### 整体数据清洗"
   ]
  },
  {
   "cell_type": "code",
   "execution_count": null,
   "id": "909c0bde-97c7-4ca5-ac5c-480efbd2c94b",
   "metadata": {},
   "outputs": [],
   "source": [
    "dp_bx = pd.read_csv('/home/chenyi/workspace/dataset/deepedia/info/deepedia/dpedia_bx_94.csv')"
   ]
  },
  {
   "cell_type": "code",
   "execution_count": null,
   "id": "f0fdb6ec-4cd9-4620-9a25-bf7898124dfd",
   "metadata": {},
   "outputs": [],
   "source": [
    "# dp_bx.to_csv('/home/chenyi/workspace/dataset/deepedia/info/deepedia/dpedia_bx_94.csv', index=False)"
   ]
  },
  {
   "cell_type": "code",
   "execution_count": null,
   "id": "b7c0f6f5-d345-46e6-8e2d-c17ee23ae1c6",
   "metadata": {},
   "outputs": [],
   "source": [
    "dp_clr_temp.to_csv('/home/chenyi/workspace/dataset/deepedia/info/deepedia/dpedia_clr_temp.csv', index=False)"
   ]
  },
  {
   "cell_type": "code",
   "execution_count": null,
   "id": "4e83654f-ddd8-45af-b1d0-1f0a042a5d0a",
   "metadata": {},
   "outputs": [],
   "source": [
    "dp_bx.value_counts('label8').sort_index()"
   ]
  },
  {
   "cell_type": "code",
   "execution_count": null,
   "id": "8b8ea069-044a-42e3-bc44-64d1f442d33c",
   "metadata": {},
   "outputs": [],
   "source": [
    "dp_bx_temp  = dp_bx[dp_bx['label8']>=0]"
   ]
  },
  {
   "cell_type": "code",
   "execution_count": null,
   "id": "4b2f4042-b22c-4874-8525-9e85b9709a11",
   "metadata": {},
   "outputs": [],
   "source": [
    "len(dp_bx_temp), len(dp_bx_temp.drop_duplicates('img_sp'))"
   ]
  },
  {
   "cell_type": "code",
   "execution_count": null,
   "id": "dedc73ba-7d17-412d-98e3-a8d2495cf2f4",
   "metadata": {},
   "outputs": [],
   "source": [
    "dp_bx_temp.head()"
   ]
  },
  {
   "cell_type": "code",
   "execution_count": null,
   "id": "acaba2f1-ee4e-44eb-ad85-a8fcfd5d9a79",
   "metadata": {},
   "outputs": [],
   "source": [
    "dp_bx_temp.describe()"
   ]
  },
  {
   "cell_type": "code",
   "execution_count": null,
   "id": "6b5f87b1-67fc-4a49-9008-8fcb11912182",
   "metadata": {},
   "outputs": [],
   "source": []
  },
  {
   "cell_type": "code",
   "execution_count": null,
   "id": "80938695-3ce3-46d2-bde6-d7f283e0f608",
   "metadata": {},
   "outputs": [],
   "source": []
  },
  {
   "cell_type": "markdown",
   "id": "4702e1a9-f8d2-4e6b-bdae-60727cc98164",
   "metadata": {
    "tags": []
   },
   "source": [
    "#### 图片大小"
   ]
  },
  {
   "cell_type": "code",
   "execution_count": null,
   "id": "f9405020-fd86-4682-a734-cf9dcda063c7",
   "metadata": {},
   "outputs": [],
   "source": [
    "dp_bx_temp = dp_bx_temp[(dp_bx_temp['height']>300) & (dp_bx_temp['width']>300)]"
   ]
  },
  {
   "cell_type": "code",
   "execution_count": null,
   "id": "d27fee4d-ed11-4687-8c5d-893511f96bc3",
   "metadata": {},
   "outputs": [],
   "source": []
  },
  {
   "cell_type": "markdown",
   "id": "90fd33e7-2406-41e0-983f-dc54d7b65f5a",
   "metadata": {
    "tags": []
   },
   "source": [
    "#### BBOX大小"
   ]
  },
  {
   "cell_type": "code",
   "execution_count": null,
   "id": "3267f6ca-b7a5-4165-b368-0db2a89ff4a3",
   "metadata": {},
   "outputs": [],
   "source": [
    "dp_bx_small = dp_bx_temp[(dp_bx_temp['bx3']<10) & (dp_bx_temp['bx4']<10)]"
   ]
  },
  {
   "cell_type": "code",
   "execution_count": null,
   "id": "77f02e9e-a84b-45b5-b266-2f000fa37817",
   "metadata": {},
   "outputs": [],
   "source": [
    "len(dp_bx_small)"
   ]
  },
  {
   "cell_type": "code",
   "execution_count": null,
   "id": "dee7a16f-7339-418d-9c98-992ee7820f71",
   "metadata": {},
   "outputs": [],
   "source": [
    "dp_bx_small.value_counts('label8')"
   ]
  },
  {
   "cell_type": "code",
   "execution_count": null,
   "id": "d5711579-03db-4c4d-a62f-54156c0c99c7",
   "metadata": {},
   "outputs": [],
   "source": [
    "dp_bx_temp = dp_bx_temp[(dp_bx_temp['bx3']>10) & (dp_bx_temp['bx4']>10)]"
   ]
  },
  {
   "cell_type": "code",
   "execution_count": null,
   "id": "4365b95e-660d-4318-9ee1-a3c2e36491eb",
   "metadata": {},
   "outputs": [],
   "source": [
    "dp_bx_temp.describe()"
   ]
  },
  {
   "cell_type": "code",
   "execution_count": null,
   "id": "781bb57b-d314-4ea6-8b8a-63ebf1a95469",
   "metadata": {},
   "outputs": [],
   "source": []
  },
  {
   "cell_type": "code",
   "execution_count": null,
   "id": "83a47ad5-e931-4ac0-b796-807cf72009c1",
   "metadata": {},
   "outputs": [],
   "source": []
  },
  {
   "cell_type": "markdown",
   "id": "e73e75f3-12b8-4a9b-804c-bdbd0c9be9de",
   "metadata": {
    "tags": []
   },
   "source": [
    "#### 位置"
   ]
  },
  {
   "cell_type": "code",
   "execution_count": null,
   "id": "cdb10c3f-4495-4db1-8008-172b9dbd4f17",
   "metadata": {},
   "outputs": [],
   "source": [
    "thred = 0.01\n",
    "dp_bx_temp = dp_bx_temp[~(((dp_bx_temp['bx1']<thred) | (dp_bx_temp['bx2']<thred) | \n",
    "                     (dp_bx_temp['bx1']>1-thred) | (dp_bx_temp['bx2']>1-thred)))]"
   ]
  },
  {
   "cell_type": "code",
   "execution_count": null,
   "id": "a82140eb-9aa2-4451-beea-5087e1f051f3",
   "metadata": {},
   "outputs": [],
   "source": [
    "dp_bx_temp.describe()"
   ]
  },
  {
   "cell_type": "code",
   "execution_count": null,
   "id": "e8841221-d259-4670-9f72-35cb57687fc1",
   "metadata": {},
   "outputs": [],
   "source": [
    "dp_bx_temp.value_counts('label8').sort_index()"
   ]
  },
  {
   "cell_type": "code",
   "execution_count": null,
   "id": "b58f4f82-8008-46b8-b0aa-74e957efbbe5",
   "metadata": {},
   "outputs": [],
   "source": [
    "len(dp_bx_temp),len(dp_bx)"
   ]
  },
  {
   "cell_type": "code",
   "execution_count": null,
   "id": "81ea5957-6002-4dd3-b984-64095425891c",
   "metadata": {},
   "outputs": [],
   "source": []
  },
  {
   "cell_type": "code",
   "execution_count": null,
   "id": "5d44329b-7d04-4479-8499-26c13898339a",
   "metadata": {},
   "outputs": [],
   "source": []
  },
  {
   "cell_type": "markdown",
   "id": "fca5fc56-7ae7-4ace-8c51-14d4599f30bd",
   "metadata": {},
   "source": [
    "### 每个类的清洗"
   ]
  },
  {
   "cell_type": "code",
   "execution_count": null,
   "id": "9f1efb73-8bf4-4b37-b9be-9f091595ec7a",
   "metadata": {},
   "outputs": [],
   "source": [
    "dp_bx_temp.value_counts('label8').sort_index()"
   ]
  },
  {
   "cell_type": "code",
   "execution_count": null,
   "id": "2badf18a-7138-4fe7-ad1c-16eb799197aa",
   "metadata": {},
   "outputs": [],
   "source": [
    "dp_bx_shoe = dp_bx_temp[dp_bx_temp['label8']==2]\n",
    "\n",
    "dp_bx_bag = dp_bx_temp[dp_bx_temp['label8']==3]\n",
    "\n",
    "dp_bx_456 = dp_bx_temp[(dp_bx_temp['label8']>=4) & (dp_bx_temp['label8']<=6)]\n",
    "\n",
    "dp_bx_lt = dp_bx_temp[dp_bx_temp['label8']==7]"
   ]
  },
  {
   "cell_type": "code",
   "execution_count": null,
   "id": "682bb23c-b24e-4362-a79a-f76b5ac9e2d3",
   "metadata": {},
   "outputs": [],
   "source": [
    "dp_bx_bag.describe()"
   ]
  },
  {
   "cell_type": "code",
   "execution_count": null,
   "id": "ae23e7ac-f102-48df-828f-64ba872491f4",
   "metadata": {},
   "outputs": [],
   "source": []
  },
  {
   "cell_type": "markdown",
   "id": "f5ad0454-892a-45cd-962c-a2f27d9e95e9",
   "metadata": {
    "tags": []
   },
   "source": [
    "##### 大物体"
   ]
  },
  {
   "cell_type": "code",
   "execution_count": null,
   "id": "691cc340-81da-4f1d-aef2-1977d5733810",
   "metadata": {},
   "outputs": [],
   "source": [
    "dp_bx_456.describe()"
   ]
  },
  {
   "cell_type": "code",
   "execution_count": null,
   "id": "8dcb33bc-92f8-4968-803f-a1faefb10db7",
   "metadata": {},
   "outputs": [],
   "source": []
  },
  {
   "cell_type": "code",
   "execution_count": null,
   "id": "8b2b47da-c82d-41d2-8bf7-451122adfb5c",
   "metadata": {},
   "outputs": [],
   "source": []
  },
  {
   "cell_type": "code",
   "execution_count": null,
   "id": "823fe343-fbd5-4ac0-919f-f90317848aa8",
   "metadata": {},
   "outputs": [],
   "source": [
    "thred = 32\n",
    "dp_bx_456_temp = dp_bx_456[((dp_bx_456['bx3']>thred) & (dp_bx_456['bx4']>thred))]"
   ]
  },
  {
   "cell_type": "code",
   "execution_count": null,
   "id": "9ab94b82-fc17-4c5a-a5db-d2868e8063cd",
   "metadata": {},
   "outputs": [],
   "source": [
    "thred = 32\n",
    "len(dp_bx_456[~((dp_bx_456['bx3']>thred) & (dp_bx_456['bx4']>thred))])"
   ]
  },
  {
   "cell_type": "code",
   "execution_count": null,
   "id": "8d9414cc-bdab-4c27-95ea-1f7a50e5049f",
   "metadata": {},
   "outputs": [],
   "source": []
  },
  {
   "cell_type": "markdown",
   "id": "94fe9560-3f4f-46a3-b2fa-1f57fc4ee0aa",
   "metadata": {},
   "source": [
    "##### 连体装"
   ]
  },
  {
   "cell_type": "code",
   "execution_count": null,
   "id": "4d3abbc8-fe45-42b4-a44c-87c13fd9447f",
   "metadata": {},
   "outputs": [],
   "source": [
    "dp_bx_lt.describe()"
   ]
  },
  {
   "cell_type": "code",
   "execution_count": null,
   "id": "2140600c-6057-4993-a8ac-a8a0d6c4ce84",
   "metadata": {},
   "outputs": [],
   "source": [
    "thred = 40\n",
    "dp_bx_lt_temp = dp_bx_lt[((dp_bx_lt['bx3']>thred) & (dp_bx_lt['bx4']>thred))]"
   ]
  },
  {
   "cell_type": "code",
   "execution_count": null,
   "id": "fa9bf414-c69c-424b-8957-307cdb0f8866",
   "metadata": {},
   "outputs": [],
   "source": [
    "len(dp_bx_lt[~((dp_bx_lt['bx3']>thred) & (dp_bx_lt['bx4']>thred))])"
   ]
  },
  {
   "cell_type": "code",
   "execution_count": null,
   "id": "9f86dd2b-8f4d-4209-a50e-4fcfb3aadbe3",
   "metadata": {},
   "outputs": [],
   "source": []
  },
  {
   "cell_type": "markdown",
   "id": "3ede7d19-5d71-4128-81bd-d9c9ac820f55",
   "metadata": {},
   "source": [
    "##### 包"
   ]
  },
  {
   "cell_type": "code",
   "execution_count": null,
   "id": "6b64067f-0c73-40a1-9095-6f61025e268c",
   "metadata": {},
   "outputs": [],
   "source": [
    "dp_bx_bag.describe()"
   ]
  },
  {
   "cell_type": "code",
   "execution_count": null,
   "id": "86e494f4-a9e2-45a2-90f8-555e1b732a8e",
   "metadata": {},
   "outputs": [],
   "source": [
    "thred = 24\n",
    "dp_bx_bag_temp = dp_bx_bag[~((dp_bx_bag['bx3']<thred) | (dp_bx_bag['bx4']<thred))]"
   ]
  },
  {
   "cell_type": "code",
   "execution_count": null,
   "id": "1c8be5a4-a3a0-45e7-b601-ca23854d01c0",
   "metadata": {},
   "outputs": [],
   "source": [
    "dp_bx_bag_temp.describe()"
   ]
  },
  {
   "cell_type": "code",
   "execution_count": null,
   "id": "7c1fec54-5d5e-4a8b-95db-685645110cf9",
   "metadata": {},
   "outputs": [],
   "source": []
  },
  {
   "cell_type": "markdown",
   "id": "8b51144a-82aa-4eb0-a4b4-6b672a6f7897",
   "metadata": {},
   "source": [
    "##### 鞋"
   ]
  },
  {
   "cell_type": "code",
   "execution_count": null,
   "id": "abc4ccf7-e4c5-4fbd-83e1-2f33ceda9269",
   "metadata": {},
   "outputs": [],
   "source": [
    "dp_bx_shoe.describe()"
   ]
  },
  {
   "cell_type": "code",
   "execution_count": null,
   "id": "d5c03f2f-16cc-4663-bb84-62884163fb57",
   "metadata": {},
   "outputs": [],
   "source": [
    "thred = 24\n",
    "dp_bx_shoe_temp = dp_bx_shoe[~((dp_bx_shoe['bx3']<thred) | (dp_bx_shoe['bx4']<thred))]"
   ]
  },
  {
   "cell_type": "code",
   "execution_count": null,
   "id": "4ffb7ea6-932c-4d59-945c-5a40f1c12b21",
   "metadata": {},
   "outputs": [],
   "source": []
  },
  {
   "cell_type": "code",
   "execution_count": null,
   "id": "1b60d87e-80a6-4497-ad0a-57f54053d352",
   "metadata": {},
   "outputs": [],
   "source": [
    "dp_bx_shoe = dp_bx_temp[dp_bx_temp['label8']==2]\n",
    "\n",
    "dp_bx_bag = dp_bx_temp[dp_bx_temp['label8']==3]\n",
    "\n",
    "dp_bx_456 = dp_bx_temp[(dp_bx_temp['label8']>=4) & (dp_bx_temp['label8']<=6)]\n",
    "\n",
    "dp_bx_lt = dp_bx_temp[dp_bx_temp['label8']==7]"
   ]
  },
  {
   "cell_type": "code",
   "execution_count": null,
   "id": "eaf698c9-ddf6-454b-a19c-f7f9de43a1a9",
   "metadata": {},
   "outputs": [],
   "source": [
    "dp_clr_temp = pd.concat([dp_bx_shoe_temp, dp_bx_bag_temp, dp_bx_456_temp, dp_bx_lt_temp], axis=0)"
   ]
  },
  {
   "cell_type": "code",
   "execution_count": null,
   "id": "7ae6c1a4-d29a-47f8-b98a-0033c4b5884f",
   "metadata": {},
   "outputs": [],
   "source": [
    "dp_clr_temp.describe()"
   ]
  },
  {
   "cell_type": "code",
   "execution_count": null,
   "id": "69557aa1-f4ed-45f9-8856-4ab21e881464",
   "metadata": {},
   "outputs": [],
   "source": [
    "len(dp_bx_temp), len(dp_clr_temp)"
   ]
  },
  {
   "cell_type": "code",
   "execution_count": null,
   "id": "416a6876-be9c-43fd-b602-98216f40b025",
   "metadata": {},
   "outputs": [],
   "source": [
    "dp_clr_temp.value_counts('label8').sort_index()"
   ]
  },
  {
   "cell_type": "code",
   "execution_count": null,
   "id": "f7ba3d34-84d2-45a0-840a-554a2968913d",
   "metadata": {},
   "outputs": [],
   "source": []
  },
  {
   "cell_type": "code",
   "execution_count": null,
   "id": "ab2525e5-6754-4c4f-a7ff-2b3f9e757ffb",
   "metadata": {},
   "outputs": [],
   "source": []
  },
  {
   "cell_type": "markdown",
   "id": "8a9b35a1-964a-41f5-8612-d78d77afc72e",
   "metadata": {
    "jp-MarkdownHeadingCollapsed": true,
    "tags": []
   },
   "source": [
    "##### CHECK Area"
   ]
  },
  {
   "cell_type": "code",
   "execution_count": null,
   "id": "41c90ea1-b18c-4898-bdf6-959b3a6f8012",
   "metadata": {},
   "outputs": [],
   "source": [
    "%%time\n",
    "# 计算bbox的面积\n",
    "df = ofashion43\n",
    "area_list = []\n",
    "for ind,row in tqdm(df.iterrows()):\n",
    "    whWH = row.loc[['xmax', 'ymax']].values\n",
    "    area  = 1\n",
    "    for item in whWH:\n",
    "        area *= item\n",
    "    area_list.append(area)\n",
    "    # break"
   ]
  },
  {
   "cell_type": "code",
   "execution_count": null,
   "id": "dcfd4ab4-ac52-4857-886f-14eee2c1873c",
   "metadata": {},
   "outputs": [],
   "source": [
    "ofashion43['area'] = area_list"
   ]
  },
  {
   "cell_type": "code",
   "execution_count": null,
   "id": "722ba9bf-a374-42dd-8724-ddaf055ac253",
   "metadata": {},
   "outputs": [],
   "source": []
  },
  {
   "cell_type": "code",
   "execution_count": null,
   "id": "8c9ec64c-05c7-4c20-a43f-b2e34a63a105",
   "metadata": {},
   "outputs": [],
   "source": []
  },
  {
   "cell_type": "markdown",
   "id": "5b88f7fc-f5d3-4ee0-81d6-d845707ec8ae",
   "metadata": {
    "jp-MarkdownHeadingCollapsed": true,
    "tags": []
   },
   "source": [
    "##### bbox的个数"
   ]
  },
  {
   "cell_type": "code",
   "execution_count": null,
   "id": "d03cb68f-6d5d-457a-8037-8b636ff51266",
   "metadata": {},
   "outputs": [],
   "source": [
    "# %%time\n",
    "# 计算bbox的个数\n",
    "# ofashion43['len'] = 0\n",
    "# for ind,p_ in tqdm(enumerate(pcounter.index)):\n",
    "#     num = pcounter.values[ind]\n",
    "#     ofashion43.loc[ofashion43[ofashion43['path'] == p_].index, 'len'] = num"
   ]
  },
  {
   "cell_type": "code",
   "execution_count": null,
   "id": "cf96bc9f-6e88-4722-aa3d-2ed22c734e51",
   "metadata": {},
   "outputs": [],
   "source": [
    "len(ofashion31_clr.value_counts('label43'))"
   ]
  },
  {
   "cell_type": "code",
   "execution_count": null,
   "id": "20508534-6df4-48cb-8e08-1cc6efbfa217",
   "metadata": {},
   "outputs": [],
   "source": [
    "ofashion31_clr.value_counts('label43').sort_index()"
   ]
  },
  {
   "cell_type": "code",
   "execution_count": null,
   "id": "3e219331-d0ce-4c47-87b3-4f6094490fa1",
   "metadata": {},
   "outputs": [],
   "source": [
    "hw_df[hw_df['len']==1].value_counts('label8').sort_index()"
   ]
  },
  {
   "cell_type": "code",
   "execution_count": null,
   "id": "40b3290f-479c-4f79-9e1e-e3c6f1b80c57",
   "metadata": {},
   "outputs": [],
   "source": []
  },
  {
   "cell_type": "code",
   "execution_count": null,
   "id": "a39c5842-e238-48d8-859f-c3106a027fd2",
   "metadata": {},
   "outputs": [],
   "source": []
  },
  {
   "cell_type": "code",
   "execution_count": null,
   "id": "2849e1c6-2725-4b44-a473-90323c5093ee",
   "metadata": {},
   "outputs": [],
   "source": [
    "dp_df = ofashion31_clr[~(ofashion31_clr['source'] == 'haowei34k')]\n",
    "dp_len1 = dp_df[dp_df['len']==1]"
   ]
  },
  {
   "cell_type": "code",
   "execution_count": null,
   "id": "8b90079a-e243-467f-81ef-4e33bff746ad",
   "metadata": {},
   "outputs": [],
   "source": [
    "num2eng[1]"
   ]
  },
  {
   "cell_type": "code",
   "execution_count": null,
   "id": "d2da3d36-e419-42ec-82ce-9a74f8ca4b4d",
   "metadata": {},
   "outputs": [],
   "source": [
    "dp_len1.value_counts('label43').sort_index()"
   ]
  },
  {
   "cell_type": "code",
   "execution_count": null,
   "id": "54bd920d-0d20-4603-9ebf-14dbbcb9e114",
   "metadata": {},
   "outputs": [],
   "source": [
    "len(dp_len1)"
   ]
  },
  {
   "cell_type": "code",
   "execution_count": null,
   "id": "75b0015b-909f-44f1-bd87-c79eb2f84e1b",
   "metadata": {},
   "outputs": [],
   "source": [
    "ofashion31_clr_temp = ofashion31_clr[~ofashion31_clr['path'].isin(dp_len1['path'])]"
   ]
  },
  {
   "cell_type": "code",
   "execution_count": null,
   "id": "deafac6c-ac52-47e8-a43c-77ab0a8b5c5b",
   "metadata": {},
   "outputs": [],
   "source": [
    "len(ofashion31_clr_temp)"
   ]
  },
  {
   "cell_type": "code",
   "execution_count": null,
   "id": "05997c05-88cb-41a0-b5e3-e5eeb1cb694f",
   "metadata": {},
   "outputs": [],
   "source": [
    "ofashion31_clr_temp.to_csv('/nas/chenyi/datasets_nas/openfashion/allfashion/openfashion31_clr_temp.csv', index=False)"
   ]
  },
  {
   "cell_type": "code",
   "execution_count": null,
   "id": "b9a98783-d0b2-4b8d-a81b-225a007a1358",
   "metadata": {},
   "outputs": [],
   "source": []
  },
  {
   "cell_type": "markdown",
   "id": "e158144a-2a76-4932-8763-bd68052b9a8f",
   "metadata": {
    "tags": []
   },
   "source": [
    "##### 类别均衡"
   ]
  },
  {
   "cell_type": "code",
   "execution_count": null,
   "id": "cd5eadc3-69c0-4a39-9d61-aec385da4b08",
   "metadata": {},
   "outputs": [],
   "source": [
    "len(catg_df)"
   ]
  },
  {
   "cell_type": "code",
   "execution_count": null,
   "id": "ed029386-0aaa-4f49-aba0-dbaa54b73e54",
   "metadata": {},
   "outputs": [],
   "source": [
    "catg_df.describe()"
   ]
  },
  {
   "cell_type": "code",
   "execution_count": null,
   "id": "e209ed25-7ca9-4b88-a481-9cb675c4523c",
   "metadata": {
    "tags": []
   },
   "outputs": [],
   "source": [
    "catg_df.value_counts('label43')"
   ]
  },
  {
   "cell_type": "code",
   "execution_count": null,
   "id": "1b435992-32e3-4a44-8e42-4cf54123d617",
   "metadata": {},
   "outputs": [],
   "source": [
    "counter_index = counter_hw[(counter_hw.values<7000) & (counter_hw.values>500)].index.tolist()"
   ]
  },
  {
   "cell_type": "code",
   "execution_count": null,
   "id": "c306638d-84d4-4669-a4ca-ef792e1bd49d",
   "metadata": {},
   "outputs": [],
   "source": [
    "hw_stay3000_df = hw_df[hw_df['label43'].isin(counter_index)]"
   ]
  },
  {
   "cell_type": "code",
   "execution_count": null,
   "id": "34766c21-ea90-497c-8a34-2b4292f5a509",
   "metadata": {},
   "outputs": [],
   "source": [
    "hw_stay_df = hw_df[hw_df['path'].isin(hw_stay3000_df['path'])]"
   ]
  },
  {
   "cell_type": "code",
   "execution_count": null,
   "id": "5049dfe7-2bb1-417f-b2a5-6fa87ad3836a",
   "metadata": {},
   "outputs": [],
   "source": [
    "len(hw_stay3000_df), len(hw_stay_df), len(hw_stay3000_df.drop_duplicates('path')), len(hw_df.drop_duplicates('path'))"
   ]
  },
  {
   "cell_type": "code",
   "execution_count": null,
   "id": "2ac5f635-d564-4264-9eed-b4e9da5b9705",
   "metadata": {},
   "outputs": [],
   "source": [
    "counter_stay = hw_stay_df.value_counts('label43')"
   ]
  },
  {
   "cell_type": "code",
   "execution_count": null,
   "id": "b37103c8-6fd1-40ff-9c7a-693190a9dc00",
   "metadata": {},
   "outputs": [],
   "source": [
    "counter_hw[(counter_hw.values>5000)], len(counter_hw)"
   ]
  },
  {
   "cell_type": "code",
   "execution_count": null,
   "id": "41ff268d-0d9d-477e-a6a5-2b5ed53935a5",
   "metadata": {},
   "outputs": [],
   "source": [
    "counter_stay[counter_stay.values>3000], len(counter_stay)"
   ]
  },
  {
   "cell_type": "code",
   "execution_count": null,
   "id": "4d245c6c-40ff-4ed0-8888-2464921613cb",
   "metadata": {},
   "outputs": [],
   "source": [
    "len(hw_stay_df[hw_stay_df['len']==1])"
   ]
  },
  {
   "cell_type": "code",
   "execution_count": null,
   "id": "e745e85a-e358-42a5-852f-63996ad5f430",
   "metadata": {},
   "outputs": [],
   "source": [
    "hw_stay_df[hw_stay_df['len']==1].value_counts('label43')"
   ]
  },
  {
   "cell_type": "code",
   "execution_count": null,
   "id": "347558bc-2113-4a6f-8485-a829c5c396dc",
   "metadata": {},
   "outputs": [],
   "source": [
    "names[3]"
   ]
  },
  {
   "cell_type": "code",
   "execution_count": null,
   "id": "e10d8677-bf9b-4ca2-895a-6da44916bbc8",
   "metadata": {},
   "outputs": [],
   "source": [
    "hw_stay_df"
   ]
  },
  {
   "cell_type": "code",
   "execution_count": null,
   "id": "c89a6748-5d53-4778-960f-31156e23b51e",
   "metadata": {},
   "outputs": [],
   "source": [
    "len(counter_hw[(counter_hw.values>300)].axes[0]), len(counter_stay[(counter_stay.values>300)].axes[0])"
   ]
  },
  {
   "cell_type": "code",
   "execution_count": null,
   "id": "72261003-1a43-40ab-8962-8381946d30e2",
   "metadata": {},
   "outputs": [],
   "source": []
  },
  {
   "cell_type": "code",
   "execution_count": null,
   "id": "50dc8b7e-7d7e-4faf-b483-d4458f4564f3",
   "metadata": {},
   "outputs": [],
   "source": []
  },
  {
   "cell_type": "code",
   "execution_count": null,
   "id": "9987cfe6-1165-4962-9bee-7651a16631e9",
   "metadata": {},
   "outputs": [],
   "source": [
    "of_cls_df = ofashion43[ofashion43['label43']>0]"
   ]
  },
  {
   "cell_type": "markdown",
   "id": "fa260f95-025a-4fbf-b3d6-826eccc8a8bb",
   "metadata": {
    "jp-MarkdownHeadingCollapsed": true,
    "tags": []
   },
   "source": [
    "### Display"
   ]
  },
  {
   "cell_type": "code",
   "execution_count": null,
   "id": "72c10c35-3ab5-41fd-a4b9-c3efc148135b",
   "metadata": {},
   "outputs": [],
   "source": [
    "hw_df = ofashion43[ofashion43['source']=='haowei34k']"
   ]
  },
  {
   "cell_type": "code",
   "execution_count": null,
   "id": "14567420-7d30-4025-afd1-b4885c7e6d25",
   "metadata": {},
   "outputs": [],
   "source": [
    "hw_df.describe()"
   ]
  },
  {
   "cell_type": "code",
   "execution_count": null,
   "id": "c2a4554b-e5fc-41eb-a07a-86ccbcb6ccdc",
   "metadata": {},
   "outputs": [],
   "source": [
    "df = df[df['source']=='Fashionpedia']"
   ]
  },
  {
   "cell_type": "code",
   "execution_count": null,
   "id": "fe4ec9f5-a378-4cab-835d-116431ffa75a",
   "metadata": {},
   "outputs": [],
   "source": [
    "def bbox_coco2voc(bbox):\n",
    "    # bbox[0] = bbox[0] - bbox[2]/2\n",
    "    # bbox[1] = bbox[1] - bbox[3]/2\n",
    "    bbox[2] = bbox[0] + bbox[2]\n",
    "    bbox[3] = bbox[1] + bbox[3]\n",
    "    return bbox"
   ]
  },
  {
   "cell_type": "code",
   "execution_count": null,
   "id": "09fafeee-4374-475a-a498-615cbfc160b9",
   "metadata": {},
   "outputs": [],
   "source": [
    "p = df.iloc[300,1]"
   ]
  },
  {
   "cell_type": "code",
   "execution_count": null,
   "id": "7e50761c-0c23-4e40-8d4d-8fa3e5ca6447",
   "metadata": {},
   "outputs": [],
   "source": [
    "df.head(3)"
   ]
  },
  {
   "cell_type": "code",
   "execution_count": null,
   "id": "940b6482-116e-45af-8cca-cd48ff31722c",
   "metadata": {},
   "outputs": [],
   "source": [
    "x"
   ]
  },
  {
   "cell_type": "code",
   "execution_count": null,
   "id": "1f100440-ed7a-4d95-83c2-a362789d39cd",
   "metadata": {},
   "outputs": [],
   "source": [
    "bboxes = []\n",
    "x = df[df['path']==p]\n",
    "for ind, row in x.iterrows():\n",
    "    bbox = row.loc[['label_2', 'x_1','y_1', 'x_2', 'y_2']].values.tolist()\n",
    "    # bbox[1:] = bbox_coco2voc(bbox[1:])\n",
    "    # bbox[0] = row['label2_eng']\n",
    "    bboxes.append(bbox)"
   ]
  },
  {
   "cell_type": "code",
   "execution_count": null,
   "id": "4dee1519-81ac-4cdd-870b-7d28518f08eb",
   "metadata": {},
   "outputs": [],
   "source": [
    "# bboxes = []\n",
    "# x = df[df['path']==p]\n",
    "# for ind, row in x.iterrows():\n",
    "#     bbox = row.loc[['label43', 'xmin','ymin', 'xmax', 'ymax']].values.tolist()\n",
    "#     bbox[1:] = bbox_coco2voc(bbox[1:])\n",
    "#     bbox[0] = row['label2_eng']\n",
    "#     bboxes.append(bbox)"
   ]
  },
  {
   "cell_type": "code",
   "execution_count": null,
   "id": "33880fe8-052a-4217-8229-64a14973b8f5",
   "metadata": {},
   "outputs": [],
   "source": [
    "img_np = cv2.imread(str(p))\n",
    "img_np = cv2.cvtColor(img_np, cv2.COLOR_BGR2RGB)\n",
    "h = img_np.shape[0]\n",
    "w = img_np.shape[1]\n",
    "for bx in bboxes:\n",
    "    bx[1:] = bbox_coco2voc(bx[1:])\n",
    "    draw_bbox(img_np, bx)"
   ]
  },
  {
   "cell_type": "code",
   "execution_count": null,
   "id": "c03b987d-b1d8-4df0-aa25-c9f192f54d1a",
   "metadata": {},
   "outputs": [],
   "source": [
    "bboxes"
   ]
  },
  {
   "cell_type": "code",
   "execution_count": null,
   "id": "5320312b-9b3d-4a55-99f5-8baf91ec3e18",
   "metadata": {},
   "outputs": [],
   "source": [
    "Image.fromarray(img_np)"
   ]
  },
  {
   "cell_type": "code",
   "execution_count": null,
   "id": "5b869bfc-c5f1-4063-8b03-b50c13648016",
   "metadata": {},
   "outputs": [],
   "source": []
  },
  {
   "cell_type": "markdown",
   "id": "209234cd-e91f-4c7f-8221-e4d9339a938f",
   "metadata": {
    "jp-MarkdownHeadingCollapsed": true,
    "tags": []
   },
   "source": [
    "#### Pandas画图"
   ]
  },
  {
   "cell_type": "code",
   "execution_count": null,
   "id": "b735cbcf-3018-45b8-b48c-4acd77bb79f4",
   "metadata": {},
   "outputs": [],
   "source": [
    "ofashion43_small.head()"
   ]
  },
  {
   "cell_type": "code",
   "execution_count": null,
   "id": "d1078e35-eb71-4b96-934b-b75b0f5697d7",
   "metadata": {},
   "outputs": [],
   "source": [
    "df = ofashion43_small\n",
    "i = 1100"
   ]
  },
  {
   "cell_type": "code",
   "execution_count": null,
   "id": "cc437984-9ea5-4e51-ae54-0b1f67927905",
   "metadata": {},
   "outputs": [],
   "source": [
    "ind = df.index[i]\n",
    "p = df.loc[ind]['path']\n",
    "bboxes = [df.loc[ind][['label43', 'xmin','ymin', 'xmax', 'ymax']].values.tolist()]\n",
    "id_ = df.loc[ind, 'label2_eng']\n",
    "df.loc[ind, 'source']"
   ]
  },
  {
   "cell_type": "code",
   "execution_count": null,
   "id": "7cbcf577-66e2-40aa-a9f8-e9573580fc6c",
   "metadata": {},
   "outputs": [],
   "source": [
    "img_np = cv2.imread(str(p))\n",
    "img_np = cv2.cvtColor(img_np, cv2.COLOR_BGR2RGB)\n",
    "h = img_np.shape[0]\n",
    "w = img_np.shape[1]\n",
    "for bx in bboxes:\n",
    "    bx[0] = id_\n",
    "    bx[1:] = bbox_coco2voc(bx[1:])\n",
    "    draw_bbox(img_np, bx)"
   ]
  },
  {
   "cell_type": "code",
   "execution_count": null,
   "id": "2374e89e-71de-45b5-88d0-5f86d2199bda",
   "metadata": {},
   "outputs": [],
   "source": [
    "Image.fromarray(img_np)"
   ]
  },
  {
   "cell_type": "code",
   "execution_count": null,
   "id": "4ae4fdb2-19ed-4164-bac3-2668dff13ca3",
   "metadata": {
    "tags": []
   },
   "outputs": [],
   "source": []
  },
  {
   "cell_type": "code",
   "execution_count": null,
   "id": "f27699e3-247d-4aef-b28c-1d04af22782f",
   "metadata": {},
   "outputs": [],
   "source": []
  },
  {
   "cell_type": "markdown",
   "id": "23ce35fb-226c-4852-89ef-d2467c2dd033",
   "metadata": {
    "tags": []
   },
   "source": [
    "### Display HTML"
   ]
  },
  {
   "cell_type": "code",
   "execution_count": null,
   "id": "f8f4b9fb-8b6a-4f05-bca8-7ccdadfbfbad",
   "metadata": {},
   "outputs": [],
   "source": [
    "\n",
    "len(dp_bx_lt[~((dp_bx_lt['bx3']>thred) & (dp_bx_lt['bx4']>thred))])"
   ]
  },
  {
   "cell_type": "code",
   "execution_count": null,
   "id": "7dcd84a0-8100-4028-a81b-5246b2947d40",
   "metadata": {},
   "outputs": [],
   "source": [
    "dis_df = dp_bx_bag_temp.sort_values('bx3',ascending=False)"
   ]
  },
  {
   "cell_type": "code",
   "execution_count": null,
   "id": "73d01e11-631e-41e8-b2a2-fd98d0a2a535",
   "metadata": {},
   "outputs": [],
   "source": [
    "dis_df.head(2)"
   ]
  },
  {
   "cell_type": "code",
   "execution_count": null,
   "id": "9f41dbdd-67ce-4b2c-8026-776ccdc30876",
   "metadata": {},
   "outputs": [],
   "source": [
    "dis_img_df = dis_df.drop_duplicates('img_sp')"
   ]
  },
  {
   "cell_type": "code",
   "execution_count": null,
   "id": "cfbb0c10-64fa-4def-86f8-b833a79a029d",
   "metadata": {},
   "outputs": [],
   "source": [
    "len(dis_df), len(dis_img_df)"
   ]
  },
  {
   "cell_type": "code",
   "execution_count": null,
   "id": "63b83d99-c4a8-41ec-9e83-cdcddfa592d6",
   "metadata": {},
   "outputs": [],
   "source": []
  },
  {
   "cell_type": "code",
   "execution_count": null,
   "id": "0261c955-c93f-4540-8c2d-3bcd4f395195",
   "metadata": {},
   "outputs": [],
   "source": [
    "ind = 0\n",
    "p = dis_img_df['img_sp'].values[ind]\n",
    "df_temp = dp_bx_temp[dp_bx_temp['img_sp'] == p]\n",
    "df_temp.loc[:,'bx3'] = df_temp.loc[:,'bx3'].values/df_temp.loc[:,'width'].values\n",
    "df_temp.loc[:,'bx4'] = df_temp.loc[:,'bx4'].values/df_temp.loc[:,'height'].values\n",
    "bboxes = df_temp.loc[:,['label8', 'bx1', 'bx2', 'bx3', 'bx4']].values.tolist()\n",
    "df_temp.loc[:,['source']].values[0]"
   ]
  },
  {
   "cell_type": "code",
   "execution_count": null,
   "id": "93e81e22-853e-4b08-a4eb-f6d663e1a51e",
   "metadata": {},
   "outputs": [],
   "source": []
  },
  {
   "cell_type": "code",
   "execution_count": null,
   "id": "af71a54c-282b-4291-ac79-a047608b67c5",
   "metadata": {},
   "outputs": [],
   "source": [
    "label_1_map"
   ]
  },
  {
   "cell_type": "code",
   "execution_count": null,
   "id": "6b191352-9593-4c9c-8ccb-d1043ac59c71",
   "metadata": {},
   "outputs": [],
   "source": [
    "df_temp[df_temp['img_sp'] == p]"
   ]
  },
  {
   "cell_type": "code",
   "execution_count": null,
   "id": "c0e88f65-20f9-43bd-b357-c0f4e959d2e7",
   "metadata": {},
   "outputs": [],
   "source": [
    "img_np = cv2.imread(str(p))\n",
    "img_np = cv2.cvtColor(img_np, cv2.COLOR_BGR2RGB)\n",
    "h = img_np.shape[0]\n",
    "w = img_np.shape[1]\n",
    "for bx in bboxes:\n",
    "    bx[1:] = bbox_yolo2voc(bx[1:], w, h)\n",
    "    draw_bbox(img_np, bx)"
   ]
  },
  {
   "cell_type": "code",
   "execution_count": null,
   "id": "d89c1a1f-046e-4215-a1d2-6009ef151af0",
   "metadata": {},
   "outputs": [],
   "source": [
    "Image.fromarray(img_np)"
   ]
  },
  {
   "cell_type": "code",
   "execution_count": null,
   "id": "bdef8654-7ed7-4a66-9fcb-ca5252340245",
   "metadata": {},
   "outputs": [],
   "source": []
  },
  {
   "cell_type": "code",
   "execution_count": null,
   "id": "957abd43-76c6-4762-8b71-5d6e62cf6f30",
   "metadata": {},
   "outputs": [],
   "source": []
  },
  {
   "cell_type": "code",
   "execution_count": null,
   "id": "ad9f8bea-7b7d-46e8-aa10-cd74414f36dd",
   "metadata": {},
   "outputs": [],
   "source": []
  },
  {
   "cell_type": "code",
   "execution_count": null,
   "id": "8a29d6e1-44a6-4a3f-a9bd-40e68dfa1914",
   "metadata": {},
   "outputs": [],
   "source": []
  },
  {
   "cell_type": "markdown",
   "id": "c71f72e4-2426-4fe5-ac54-66776d6ae61d",
   "metadata": {},
   "source": [
    "#### Recording Delete Dirty image by Dispalye"
   ]
  },
  {
   "cell_type": "code",
   "execution_count": null,
   "id": "8270bbab-91f0-4db7-ae50-f17f5b37ee00",
   "metadata": {},
   "outputs": [],
   "source": [
    "# if 0:\n",
    "#     del_df = pd.read_csv('/nas/chenyi/datasets_nas/openfashion/allfashion/del_df_temp0511.csv')\n",
    "#     p_del_list = del_df['path'].values.tolist()"
   ]
  },
  {
   "cell_type": "code",
   "execution_count": null,
   "id": "c52f2c03-1120-4c04-a53e-1b70da3863f7",
   "metadata": {},
   "outputs": [],
   "source": [
    "# del_df = pd.DataFrame()\n",
    "# del_df['path'] = ''\n",
    "# p_del_list = []"
   ]
  },
  {
   "cell_type": "code",
   "execution_count": null,
   "id": "c247759a-b53d-4aaf-b517-6cc2cce51774",
   "metadata": {},
   "outputs": [],
   "source": [
    "# p_del_list.pop(0)"
   ]
  },
  {
   "cell_type": "code",
   "execution_count": null,
   "id": "81031f90-65d3-4d62-8211-ba4ba2051c4c",
   "metadata": {},
   "outputs": [],
   "source": [
    "p_del_list += dis_img_df['path'].values.tolist()"
   ]
  },
  {
   "cell_type": "code",
   "execution_count": null,
   "id": "1feb1c05-a976-46b0-adca-a53b52069be4",
   "metadata": {},
   "outputs": [],
   "source": [
    "len(p_del_list)"
   ]
  },
  {
   "cell_type": "code",
   "execution_count": null,
   "id": "e435e130-e127-4279-849e-13367118b865",
   "metadata": {},
   "outputs": [],
   "source": [
    "p_del = p\n",
    "p_del_list.append(p)\n",
    "p_del_list = list(set(p_del_list))\n",
    "len(p_del_list)"
   ]
  },
  {
   "cell_type": "code",
   "execution_count": null,
   "id": "2a464afc-d6dc-41d3-8277-90120a45556c",
   "metadata": {},
   "outputs": [],
   "source": [
    "del_df = pd.DataFrame()\n",
    "del_df['path'] = ''\n",
    "del_df['path'] = p_del_list"
   ]
  },
  {
   "cell_type": "code",
   "execution_count": null,
   "id": "457acd88-1a1f-47f9-953a-6504d7126a1e",
   "metadata": {},
   "outputs": [],
   "source": [
    "del_df.tail().values, len(del_df)"
   ]
  },
  {
   "cell_type": "code",
   "execution_count": null,
   "id": "d28fc0c9-1d64-4d3a-ade2-d9c528e763b4",
   "metadata": {},
   "outputs": [],
   "source": []
  },
  {
   "cell_type": "code",
   "execution_count": null,
   "id": "d1dd34ac-da27-4b58-8f58-91751b60acc1",
   "metadata": {},
   "outputs": [],
   "source": []
  },
  {
   "cell_type": "code",
   "execution_count": null,
   "id": "7898502c-7a66-4287-91a2-d67c0232d0bd",
   "metadata": {},
   "outputs": [],
   "source": [
    "if 1:\n",
    "    del_df.to_csv('/nas/chenyi/datasets_nas/openfashion/allfashion/del_df_temp0511.csv', index=False)"
   ]
  },
  {
   "cell_type": "code",
   "execution_count": null,
   "id": "8ec493e9-3728-4419-b872-9b8c669a5a1b",
   "metadata": {},
   "outputs": [],
   "source": []
  },
  {
   "cell_type": "code",
   "execution_count": null,
   "id": "2ec4a910-46f0-4b20-abbd-8549ebdd0ec0",
   "metadata": {},
   "outputs": [],
   "source": []
  },
  {
   "cell_type": "code",
   "execution_count": null,
   "id": "74aca19d-4bd2-4dd1-a2b2-9a272a9cf2e4",
   "metadata": {},
   "outputs": [],
   "source": []
  }
 ],
 "metadata": {
  "kernelspec": {
   "display_name": "Python 3 (ipykernel)",
   "language": "python",
   "name": "python3"
  },
  "language_info": {
   "codemirror_mode": {
    "name": "ipython",
    "version": 3
   },
   "file_extension": ".py",
   "mimetype": "text/x-python",
   "name": "python",
   "nbconvert_exporter": "python",
   "pygments_lexer": "ipython3",
   "version": "3.8.13"
  }
 },
 "nbformat": 4,
 "nbformat_minor": 5
}
