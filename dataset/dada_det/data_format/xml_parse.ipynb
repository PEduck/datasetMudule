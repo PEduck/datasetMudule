{
 "cells": [
  {
   "cell_type": "code",
   "execution_count": 4,
   "id": "61440fc4-64c2-4347-b092-b921a1ffdced",
   "metadata": {},
   "outputs": [],
   "source": [
    "from lxml import etree\n",
    "import glob"
   ]
  },
  {
   "cell_type": "code",
   "execution_count": 68,
   "id": "0c977c2d-9e98-4ff3-9028-ddb6d67ccfb2",
   "metadata": {},
   "outputs": [],
   "source": [
    "from pathlib import Path\n",
    "from tqdm import tqdm\n",
    "from PIL import Image\n",
    "import cv2"
   ]
  },
  {
   "cell_type": "code",
   "execution_count": 6,
   "id": "363626fe-f1f4-4068-831f-322a201c8730",
   "metadata": {},
   "outputs": [],
   "source": [
    "import pandas as pd\n",
    "import numpy as np\n",
    "import os,sys"
   ]
  },
  {
   "cell_type": "code",
   "execution_count": 7,
   "id": "6e949893-e57a-40c2-b22b-3ccace0fce88",
   "metadata": {},
   "outputs": [],
   "source": [
    "import re"
   ]
  },
  {
   "cell_type": "code",
   "execution_count": null,
   "id": "838ae80f-ae36-468d-9579-8f3a2c5061f3",
   "metadata": {},
   "outputs": [],
   "source": []
  },
  {
   "cell_type": "code",
   "execution_count": null,
   "id": "67b62593-bc5c-4dcc-b9a7-72771451aa66",
   "metadata": {},
   "outputs": [],
   "source": []
  },
  {
   "cell_type": "markdown",
   "id": "92447f6e-fe11-48e1-affa-81bd55d61d11",
   "metadata": {},
   "source": [
    "### 1.Data Loader."
   ]
  },
  {
   "cell_type": "code",
   "execution_count": 8,
   "id": "27fee964-1a5d-4704-b25e-997a39d65749",
   "metadata": {},
   "outputs": [],
   "source": [
    "root = Path('/nas/chenyi/datasets_nas/dada_labelme/labelme_shoebag_may/labelme_chunyu_shoebag0601/')"
   ]
  },
  {
   "cell_type": "code",
   "execution_count": 9,
   "id": "0e7cf03f-050d-42fd-948d-7fed33a11af6",
   "metadata": {},
   "outputs": [
    {
     "data": {
      "text/plain": [
       "9837"
      ]
     },
     "execution_count": 9,
     "metadata": {},
     "output_type": "execute_result"
    }
   ],
   "source": [
    "xml_list = glob.glob(str(root /'*/*.xml'))\n",
    "xml_list += glob.glob(str(root /'*/*/*.xml'))\n",
    "xml_list += glob.glob(str(root /'*/*/*/*.xml'))\n",
    "len(xml_list)"
   ]
  },
  {
   "cell_type": "code",
   "execution_count": null,
   "id": "79200e7e-697e-407f-838e-b3be421f170d",
   "metadata": {},
   "outputs": [],
   "source": []
  },
  {
   "cell_type": "code",
   "execution_count": null,
   "id": "4c71a135-9385-419c-814c-32ed98d17445",
   "metadata": {},
   "outputs": [],
   "source": []
  },
  {
   "cell_type": "markdown",
   "id": "e5b03a78-28f5-4f6d-9b41-9434c9407667",
   "metadata": {},
   "source": [
    "### XML"
   ]
  },
  {
   "cell_type": "code",
   "execution_count": 10,
   "id": "c6cc979d-19ba-4f76-a8d5-55e81e7c06f1",
   "metadata": {},
   "outputs": [],
   "source": [
    "def voc2yolo():\n",
    "    center_x = (xmin + (xmax-xmin)/2)/width\n",
    "    center_y = (ymin + (ymax-ymin)/2)/height\n",
    "    bdb_w = (xmax-xmin)/width\n",
    "    bdb_h = (ymax-ymin)/height"
   ]
  },
  {
   "cell_type": "code",
   "execution_count": null,
   "id": "7dc0f195-518d-4a57-b7a6-8e6cf041128c",
   "metadata": {},
   "outputs": [],
   "source": []
  },
  {
   "cell_type": "code",
   "execution_count": 11,
   "id": "97623b2d-8cdd-44a4-9ae5-e0e725aec4d7",
   "metadata": {},
   "outputs": [],
   "source": [
    "def parse_xml(p):\n",
    "    trees = etree.parse(p)\n",
    "    width, height = int(trees.find('size/width').text), int(trees.find('size/height').text)\n",
    "    bboxes = []\n",
    "    for obj in trees.findall('object'):\n",
    "        bx = []\n",
    "        bx.append(p)\n",
    "        bx.append(int(width))\n",
    "        bx.append(int(height))\n",
    "        bdb = obj.find('bndbox')\n",
    "        bx.append(obj.find('name').text)\n",
    "        bx.append(int(bdb.find('xmin').text))\n",
    "        bx.append(int(bdb.find('ymin').text))\n",
    "        bx.append(int(bdb.find('xmax').text))\n",
    "        bx.append(int(bdb.find('ymax').text))\n",
    "        bboxes.append(bx)\n",
    "    return bboxes"
   ]
  },
  {
   "cell_type": "code",
   "execution_count": null,
   "id": "634a9dce-5626-447f-a7b9-401acc622a29",
   "metadata": {},
   "outputs": [],
   "source": []
  },
  {
   "cell_type": "code",
   "execution_count": null,
   "id": "a3024e83-ee63-426f-a9d2-b01eb125bc23",
   "metadata": {},
   "outputs": [],
   "source": []
  },
  {
   "cell_type": "markdown",
   "id": "5533659e-cedd-4d6d-8705-2fb79b0631cc",
   "metadata": {},
   "source": [
    "### 解析XML"
   ]
  },
  {
   "cell_type": "code",
   "execution_count": 12,
   "id": "f8af3451-e6ed-4451-a5dc-3ff56b001fd9",
   "metadata": {},
   "outputs": [
    {
     "name": "stderr",
     "output_type": "stream",
     "text": [
      "100%|███████████████████████████████████████████████████████████████████████████| 9837/9837 [00:07<00:00, 1378.53it/s]\n"
     ]
    }
   ],
   "source": [
    "bboxes_list = []\n",
    "for p in tqdm(xml_list):\n",
    "    row = parse_xml(p)\n",
    "    bboxes_list += row\n",
    "    # break"
   ]
  },
  {
   "cell_type": "code",
   "execution_count": 13,
   "id": "7cc5c467-d0f7-49f8-8ffb-eb0ac07a2dc1",
   "metadata": {},
   "outputs": [],
   "source": [
    "df = pd.DataFrame(bboxes_list)"
   ]
  },
  {
   "cell_type": "code",
   "execution_count": 14,
   "id": "c6537d33-ee9e-4ccb-af33-fd4c7e673a91",
   "metadata": {},
   "outputs": [
    {
     "data": {
      "text/html": [
       "<div>\n",
       "<style scoped>\n",
       "    .dataframe tbody tr th:only-of-type {\n",
       "        vertical-align: middle;\n",
       "    }\n",
       "\n",
       "    .dataframe tbody tr th {\n",
       "        vertical-align: top;\n",
       "    }\n",
       "\n",
       "    .dataframe thead th {\n",
       "        text-align: right;\n",
       "    }\n",
       "</style>\n",
       "<table border=\"1\" class=\"dataframe\">\n",
       "  <thead>\n",
       "    <tr style=\"text-align: right;\">\n",
       "      <th></th>\n",
       "      <th>0</th>\n",
       "      <th>1</th>\n",
       "      <th>2</th>\n",
       "      <th>3</th>\n",
       "      <th>4</th>\n",
       "      <th>5</th>\n",
       "      <th>6</th>\n",
       "      <th>7</th>\n",
       "    </tr>\n",
       "  </thead>\n",
       "  <tbody>\n",
       "    <tr>\n",
       "      <th>0</th>\n",
       "      <td>/nas/chenyi/datasets_nas/dada_labelme/labelme_...</td>\n",
       "      <td>3024</td>\n",
       "      <td>4032</td>\n",
       "      <td>包</td>\n",
       "      <td>685</td>\n",
       "      <td>719</td>\n",
       "      <td>2231</td>\n",
       "      <td>3806</td>\n",
       "    </tr>\n",
       "    <tr>\n",
       "      <th>1</th>\n",
       "      <td>/nas/chenyi/datasets_nas/dada_labelme/labelme_...</td>\n",
       "      <td>800</td>\n",
       "      <td>800</td>\n",
       "      <td>包</td>\n",
       "      <td>206</td>\n",
       "      <td>1</td>\n",
       "      <td>650</td>\n",
       "      <td>778</td>\n",
       "    </tr>\n",
       "  </tbody>\n",
       "</table>\n",
       "</div>"
      ],
      "text/plain": [
       "                                                   0     1     2  3    4    5  \\\n",
       "0  /nas/chenyi/datasets_nas/dada_labelme/labelme_...  3024  4032  包  685  719   \n",
       "1  /nas/chenyi/datasets_nas/dada_labelme/labelme_...   800   800  包  206    1   \n",
       "\n",
       "      6     7  \n",
       "0  2231  3806  \n",
       "1   650   778  "
      ]
     },
     "execution_count": 14,
     "metadata": {},
     "output_type": "execute_result"
    }
   ],
   "source": [
    "df.head(2)"
   ]
  },
  {
   "cell_type": "code",
   "execution_count": null,
   "id": "6d8fa718-a211-425c-95fc-58312bf637ab",
   "metadata": {},
   "outputs": [],
   "source": []
  },
  {
   "cell_type": "code",
   "execution_count": 15,
   "id": "8efb102c-327a-4d11-b86a-6b4a7e80faf3",
   "metadata": {},
   "outputs": [
    {
     "data": {
      "text/plain": [
       "array([['/nas/chenyi/datasets_nas/dada_labelme/labelme_shoebag_may/labelme_chunyu_shoebag0601/lifengju_bag_1000/2018053014441155222.xml',\n",
       "        3024, 4032, '包', 685, 719, 2231, 3806],\n",
       "       ['/nas/chenyi/datasets_nas/dada_labelme/labelme_shoebag_may/labelme_chunyu_shoebag0601/lifengju_bag_1000/2018031823531012935.xml',\n",
       "        800, 800, '包', 206, 1, 650, 778]], dtype=object)"
      ]
     },
     "execution_count": 15,
     "metadata": {},
     "output_type": "execute_result"
    }
   ],
   "source": [
    "df.head(2).values"
   ]
  },
  {
   "cell_type": "code",
   "execution_count": 16,
   "id": "20a56e47-d3e4-46f4-a974-c02643801679",
   "metadata": {},
   "outputs": [],
   "source": [
    "df['man'] = df[int(df.columns[0])].apply(lambda x: re.findall('labelme_chunyu_shoebag0601/(.*?)_', x)[0])"
   ]
  },
  {
   "cell_type": "code",
   "execution_count": 17,
   "id": "249d490c-5b84-4973-87b3-7a0d768bbf2e",
   "metadata": {},
   "outputs": [
    {
     "data": {
      "text/plain": [
       "man\n",
       "liwucheng       4441\n",
       "liuxunguang     3451\n",
       "wuxingjuan      2026\n",
       "huangxiaofei    1501\n",
       "lifengju        1030\n",
       "wanqi           1022\n",
       "wuzhanjing       649\n",
       "dtype: int64"
      ]
     },
     "execution_count": 17,
     "metadata": {},
     "output_type": "execute_result"
    }
   ],
   "source": [
    "df.value_counts('man')"
   ]
  },
  {
   "cell_type": "code",
   "execution_count": 107,
   "id": "048b0e1c-bd6a-4d98-9232-d7f18dbea204",
   "metadata": {},
   "outputs": [],
   "source": [
    "# df.to_csv('./data/shoe_bag11k_Jul.csv', index=False)"
   ]
  },
  {
   "cell_type": "code",
   "execution_count": null,
   "id": "8b3024eb-ea21-43cc-a555-0e53b028e4ae",
   "metadata": {},
   "outputs": [],
   "source": []
  },
  {
   "cell_type": "code",
   "execution_count": null,
   "id": "3ee21a7d-36a6-4c7e-a430-a5cc76cbace7",
   "metadata": {},
   "outputs": [],
   "source": []
  },
  {
   "cell_type": "markdown",
   "id": "eedbf1f9-c36d-4fdb-a653-947f1ac620bb",
   "metadata": {},
   "source": [
    "### 数据展示"
   ]
  },
  {
   "cell_type": "code",
   "execution_count": 18,
   "id": "799d0498-db38-4084-98dd-2c1ba4212fd3",
   "metadata": {},
   "outputs": [],
   "source": [
    "sys.path.append('../../')"
   ]
  },
  {
   "cell_type": "code",
   "execution_count": null,
   "id": "9da70bce-2eca-49ec-a3e4-7562a4d7c78c",
   "metadata": {},
   "outputs": [],
   "source": []
  },
  {
   "cell_type": "code",
   "execution_count": 77,
   "id": "b017d902-ae96-40bd-a2e8-e53f2d148f07",
   "metadata": {},
   "outputs": [],
   "source": []
  },
  {
   "cell_type": "code",
   "execution_count": null,
   "id": "c8ceea2d-3078-44a7-ab9d-abcef2dd56d1",
   "metadata": {},
   "outputs": [],
   "source": []
  },
  {
   "cell_type": "code",
   "execution_count": 63,
   "id": "b73ec1d3-bd86-4ec8-8c93-95787781d7d6",
   "metadata": {},
   "outputs": [
    {
     "data": {
      "text/plain": [
       "3707"
      ]
     },
     "execution_count": 63,
     "metadata": {},
     "output_type": "execute_result"
    }
   ],
   "source": [
    "img_list = glob.glob('/home/chenyi/workspace/yolov5/datasets/dadet_v1/images/*/*')\n",
    "len(img_list)"
   ]
  },
  {
   "cell_type": "code",
   "execution_count": null,
   "id": "512cd986-4c47-4876-a428-c272f55676ef",
   "metadata": {},
   "outputs": [],
   "source": []
  },
  {
   "cell_type": "code",
   "execution_count": 64,
   "id": "4cf128a5-b933-4f4d-8f53-d044aca8d3fa",
   "metadata": {},
   "outputs": [
    {
     "data": {
      "text/plain": [
       "'/home/chenyi/workspace/yolov5/datasets/dadet_v1/images/val/cda8817ab1db68c8088fcb3d5f1993b3.jpg'"
      ]
     },
     "execution_count": 64,
     "metadata": {},
     "output_type": "execute_result"
    }
   ],
   "source": [
    "img_list[0]"
   ]
  },
  {
   "cell_type": "code",
   "execution_count": null,
   "id": "aa9bd771-7f8d-481a-a82e-fea5a4ac41b4",
   "metadata": {},
   "outputs": [],
   "source": []
  },
  {
   "cell_type": "code",
   "execution_count": null,
   "id": "ebdce986-fbce-466a-8fbc-b9b32181fcb8",
   "metadata": {},
   "outputs": [],
   "source": []
  },
  {
   "cell_type": "markdown",
   "id": "ce87577c-3515-4c62-8514-76c7336d8aa8",
   "metadata": {},
   "source": [
    "#### 图像路径"
   ]
  },
  {
   "cell_type": "code",
   "execution_count": 91,
   "id": "9b22a89d-9a9e-494e-83f8-24468ea45b94",
   "metadata": {},
   "outputs": [],
   "source": [
    "df = pd.read_csv('./data/shoe_bag11k_Jul.csv')"
   ]
  },
  {
   "cell_type": "code",
   "execution_count": 92,
   "id": "75a24ca3-697f-47e2-b2a7-4126d879fb10",
   "metadata": {},
   "outputs": [],
   "source": [
    "df['stem'] = df[df.columns[0]].apply(lambda x: Path(x).stem)"
   ]
  },
  {
   "cell_type": "code",
   "execution_count": 93,
   "id": "ffdfb1e3-bf20-49cf-b6d3-dd040b1afdee",
   "metadata": {},
   "outputs": [],
   "source": [
    "ROOT = Path('/home/chenyi/workspace/dataset/data/dada/shoe_bag11k_may')"
   ]
  },
  {
   "cell_type": "code",
   "execution_count": 94,
   "id": "f7128987-2795-45f6-aef0-a367cd8bb58f",
   "metadata": {},
   "outputs": [],
   "source": [
    "img_list = glob.glob(str(ROOT /'*/*.jpg'))"
   ]
  },
  {
   "cell_type": "code",
   "execution_count": 95,
   "id": "5efdb98d-a09f-40f6-bdd0-372bf65a2c26",
   "metadata": {},
   "outputs": [],
   "source": [
    "img_df = pd.DataFrame()\n",
    "img_df['path'] = img_list"
   ]
  },
  {
   "cell_type": "code",
   "execution_count": 96,
   "id": "847e2489-2e48-4408-9984-e24f3ea05e1e",
   "metadata": {},
   "outputs": [],
   "source": [
    "img_df['stem'] = img_df['path'].apply(lambda x: Path(x).stem)"
   ]
  },
  {
   "cell_type": "code",
   "execution_count": 97,
   "id": "e64540e2-0fb5-44b1-8a4c-e6c8cdeb025a",
   "metadata": {},
   "outputs": [],
   "source": [
    "cross_df = df[df['stem'].isin(img_df['stem'])]"
   ]
  },
  {
   "cell_type": "code",
   "execution_count": 98,
   "id": "e1fc9963-904f-42be-bbeb-ab96e854e2f0",
   "metadata": {},
   "outputs": [
    {
     "data": {
      "text/plain": [
       "(11172, 14120, 14120)"
      ]
     },
     "execution_count": 98,
     "metadata": {},
     "output_type": "execute_result"
    }
   ],
   "source": [
    "len(img_df), len(cross_df), len(df)"
   ]
  },
  {
   "cell_type": "code",
   "execution_count": null,
   "id": "8cb3eb35-62c1-4795-a228-ea229bfb6430",
   "metadata": {},
   "outputs": [],
   "source": []
  },
  {
   "cell_type": "code",
   "execution_count": 100,
   "id": "da5eb758-0bce-4f1f-8254-e21607eaf95f",
   "metadata": {},
   "outputs": [],
   "source": [
    "gp = dict(list(img_df.groupby('stem')))"
   ]
  },
  {
   "cell_type": "code",
   "execution_count": 101,
   "id": "56aca408-79c4-4f79-b8d6-9436e56cca1e",
   "metadata": {},
   "outputs": [],
   "source": [
    "stem2path = {}\n",
    "for path,stem in zip(img_df['path'].values, img_df['stem'].values):\n",
    "    stem2path[stem] = path"
   ]
  },
  {
   "cell_type": "code",
   "execution_count": null,
   "id": "3c3b7b44-a669-45fb-b35c-f3ce7625406e",
   "metadata": {},
   "outputs": [],
   "source": []
  },
  {
   "cell_type": "code",
   "execution_count": 102,
   "id": "f0ff9619-170d-4416-acd0-d13a59d48ca0",
   "metadata": {},
   "outputs": [],
   "source": [
    "p_list = []\n",
    "for ind, row in df.iterrows():\n",
    "    stem = row['stem']\n",
    "    p = stem2path[stem]\n",
    "    p_list.append(p)"
   ]
  },
  {
   "cell_type": "code",
   "execution_count": 105,
   "id": "20b8617f-b4a9-4f22-93c1-6297ba9f6b31",
   "metadata": {},
   "outputs": [],
   "source": [
    "df['path'] = p_list"
   ]
  },
  {
   "cell_type": "code",
   "execution_count": null,
   "id": "8b8d2723-6b86-4d24-88bb-be972f9e7ed0",
   "metadata": {},
   "outputs": [],
   "source": []
  },
  {
   "cell_type": "code",
   "execution_count": 106,
   "id": "9f550413-f4de-4399-ac79-d5992dc805d1",
   "metadata": {},
   "outputs": [
    {
     "data": {
      "text/html": [
       "<div>\n",
       "<style scoped>\n",
       "    .dataframe tbody tr th:only-of-type {\n",
       "        vertical-align: middle;\n",
       "    }\n",
       "\n",
       "    .dataframe tbody tr th {\n",
       "        vertical-align: top;\n",
       "    }\n",
       "\n",
       "    .dataframe thead th {\n",
       "        text-align: right;\n",
       "    }\n",
       "</style>\n",
       "<table border=\"1\" class=\"dataframe\">\n",
       "  <thead>\n",
       "    <tr style=\"text-align: right;\">\n",
       "      <th></th>\n",
       "      <th>0</th>\n",
       "      <th>1</th>\n",
       "      <th>2</th>\n",
       "      <th>3</th>\n",
       "      <th>4</th>\n",
       "      <th>5</th>\n",
       "      <th>6</th>\n",
       "      <th>7</th>\n",
       "      <th>man</th>\n",
       "      <th>stem</th>\n",
       "      <th>path</th>\n",
       "    </tr>\n",
       "  </thead>\n",
       "  <tbody>\n",
       "    <tr>\n",
       "      <th>0</th>\n",
       "      <td>/nas/chenyi/datasets_nas/dada_labelme/labelme_shoebag_may/labelme_chunyu_shoebag0601/lifengju_bag_1000/2018053014441155222.xml</td>\n",
       "      <td>3024</td>\n",
       "      <td>4032</td>\n",
       "      <td>包</td>\n",
       "      <td>685</td>\n",
       "      <td>719</td>\n",
       "      <td>2231</td>\n",
       "      <td>3806</td>\n",
       "      <td>lifengju</td>\n",
       "      <td>2018053014441155222</td>\n",
       "      <td>/home/chenyi/workspace/dataset/data/dada/shoe_bag11k_may/bag_setdiff/2018053014441155222.jpg</td>\n",
       "    </tr>\n",
       "    <tr>\n",
       "      <th>1</th>\n",
       "      <td>/nas/chenyi/datasets_nas/dada_labelme/labelme_shoebag_may/labelme_chunyu_shoebag0601/lifengju_bag_1000/2018031823531012935.xml</td>\n",
       "      <td>800</td>\n",
       "      <td>800</td>\n",
       "      <td>包</td>\n",
       "      <td>206</td>\n",
       "      <td>1</td>\n",
       "      <td>650</td>\n",
       "      <td>778</td>\n",
       "      <td>lifengju</td>\n",
       "      <td>2018031823531012935</td>\n",
       "      <td>/home/chenyi/workspace/dataset/data/dada/shoe_bag11k_may/bag_setdiff/2018031823531012935.jpg</td>\n",
       "    </tr>\n",
       "    <tr>\n",
       "      <th>2</th>\n",
       "      <td>/nas/chenyi/datasets_nas/dada_labelme/labelme_shoebag_may/labelme_chunyu_shoebag0601/lifengju_bag_1000/2018050611334121830.xml</td>\n",
       "      <td>800</td>\n",
       "      <td>800</td>\n",
       "      <td>包</td>\n",
       "      <td>197</td>\n",
       "      <td>103</td>\n",
       "      <td>724</td>\n",
       "      <td>431</td>\n",
       "      <td>lifengju</td>\n",
       "      <td>2018050611334121830</td>\n",
       "      <td>/home/chenyi/workspace/dataset/data/dada/shoe_bag11k_may/bag_setdiff/2018050611334121830.jpg</td>\n",
       "    </tr>\n",
       "    <tr>\n",
       "      <th>3</th>\n",
       "      <td>/nas/chenyi/datasets_nas/dada_labelme/labelme_shoebag_may/labelme_chunyu_shoebag0601/lifengju_bag_1000/2018050416361575803.xml</td>\n",
       "      <td>750</td>\n",
       "      <td>750</td>\n",
       "      <td>包</td>\n",
       "      <td>74</td>\n",
       "      <td>2</td>\n",
       "      <td>698</td>\n",
       "      <td>724</td>\n",
       "      <td>lifengju</td>\n",
       "      <td>2018050416361575803</td>\n",
       "      <td>/home/chenyi/workspace/dataset/data/dada/shoe_bag11k_may/bag_setdiff/2018050416361575803.jpg</td>\n",
       "    </tr>\n",
       "    <tr>\n",
       "      <th>4</th>\n",
       "      <td>/nas/chenyi/datasets_nas/dada_labelme/labelme_shoebag_may/labelme_chunyu_shoebag0601/lifengju_bag_1000/2018030623232873287.xml</td>\n",
       "      <td>800</td>\n",
       "      <td>800</td>\n",
       "      <td>包</td>\n",
       "      <td>76</td>\n",
       "      <td>198</td>\n",
       "      <td>755</td>\n",
       "      <td>731</td>\n",
       "      <td>lifengju</td>\n",
       "      <td>2018030623232873287</td>\n",
       "      <td>/home/chenyi/workspace/dataset/data/dada/shoe_bag11k_may/bag_setdiff/2018030623232873287.jpg</td>\n",
       "    </tr>\n",
       "  </tbody>\n",
       "</table>\n",
       "</div>"
      ],
      "text/plain": [
       "                                                                                                                                0  \\\n",
       "0  /nas/chenyi/datasets_nas/dada_labelme/labelme_shoebag_may/labelme_chunyu_shoebag0601/lifengju_bag_1000/2018053014441155222.xml   \n",
       "1  /nas/chenyi/datasets_nas/dada_labelme/labelme_shoebag_may/labelme_chunyu_shoebag0601/lifengju_bag_1000/2018031823531012935.xml   \n",
       "2  /nas/chenyi/datasets_nas/dada_labelme/labelme_shoebag_may/labelme_chunyu_shoebag0601/lifengju_bag_1000/2018050611334121830.xml   \n",
       "3  /nas/chenyi/datasets_nas/dada_labelme/labelme_shoebag_may/labelme_chunyu_shoebag0601/lifengju_bag_1000/2018050416361575803.xml   \n",
       "4  /nas/chenyi/datasets_nas/dada_labelme/labelme_shoebag_may/labelme_chunyu_shoebag0601/lifengju_bag_1000/2018030623232873287.xml   \n",
       "\n",
       "      1     2  3    4    5     6     7       man                 stem  \\\n",
       "0  3024  4032  包  685  719  2231  3806  lifengju  2018053014441155222   \n",
       "1  800   800   包  206  1    650   778   lifengju  2018031823531012935   \n",
       "2  800   800   包  197  103  724   431   lifengju  2018050611334121830   \n",
       "3  750   750   包  74   2    698   724   lifengju  2018050416361575803   \n",
       "4  800   800   包  76   198  755   731   lifengju  2018030623232873287   \n",
       "\n",
       "                                                                                           path  \n",
       "0  /home/chenyi/workspace/dataset/data/dada/shoe_bag11k_may/bag_setdiff/2018053014441155222.jpg  \n",
       "1  /home/chenyi/workspace/dataset/data/dada/shoe_bag11k_may/bag_setdiff/2018031823531012935.jpg  \n",
       "2  /home/chenyi/workspace/dataset/data/dada/shoe_bag11k_may/bag_setdiff/2018050611334121830.jpg  \n",
       "3  /home/chenyi/workspace/dataset/data/dada/shoe_bag11k_may/bag_setdiff/2018050416361575803.jpg  \n",
       "4  /home/chenyi/workspace/dataset/data/dada/shoe_bag11k_may/bag_setdiff/2018030623232873287.jpg  "
      ]
     },
     "execution_count": 106,
     "metadata": {},
     "output_type": "execute_result"
    }
   ],
   "source": [
    "df.head()"
   ]
  },
  {
   "cell_type": "code",
   "execution_count": null,
   "id": "e585c1db-88dc-4b9d-b7da-eb23e71ceaa9",
   "metadata": {},
   "outputs": [],
   "source": [
    "df.value_counts(df.columns[3])"
   ]
  },
  {
   "cell_type": "code",
   "execution_count": null,
   "id": "819b6c5f-ca24-42fd-a927-49aa1d0e7529",
   "metadata": {},
   "outputs": [],
   "source": []
  },
  {
   "cell_type": "code",
   "execution_count": null,
   "id": "09ae2940-b068-4f81-b4f4-a2e686ebadeb",
   "metadata": {},
   "outputs": [],
   "source": []
  },
  {
   "cell_type": "markdown",
   "id": "63cec4fb-c4ef-408b-821e-4b59e24b4c33",
   "metadata": {
    "jp-MarkdownHeadingCollapsed": true,
    "tags": []
   },
   "source": [
    "##### 存储目标"
   ]
  },
  {
   "cell_type": "code",
   "execution_count": 55,
   "id": "e57e1daf-0657-4d24-8515-0ea350a219cb",
   "metadata": {},
   "outputs": [
    {
     "name": "stdout",
     "output_type": "stream",
     "text": [
      "\u001b[01;34m/home/chenyi/workspace/dataset_clr\u001b[00m\n",
      "└── \u001b[01;34mdeepfashion2_drawed\u001b[00m\n",
      "\n",
      "1 directory\n"
     ]
    }
   ],
   "source": [
    "!tree -d -L 1 /home/chenyi/workspace/dataset_clr/"
   ]
  },
  {
   "cell_type": "code",
   "execution_count": 57,
   "id": "ef7716cd-64d6-4073-a6b0-5191e274c122",
   "metadata": {},
   "outputs": [],
   "source": [
    "draw_root = Path('/home/chenyi/workspace/dataset_clr/haowei34k/shoe_bag11k_drawed')"
   ]
  },
  {
   "cell_type": "code",
   "execution_count": 104,
   "id": "a37de46d-8a23-48af-9b44-961bace9b161",
   "metadata": {},
   "outputs": [],
   "source": [
    "name2id = {}\n",
    "for ind, item in enumerate(df.value_counts(df.columns[3]).index):\n",
    "    k = item[0]\n",
    "    name2id[k] = ind"
   ]
  },
  {
   "cell_type": "code",
   "execution_count": 105,
   "id": "62be0a6a-4b00-42ce-82b3-236fc8b583f4",
   "metadata": {},
   "outputs": [],
   "source": [
    "df['id'] = df[df.columns[3]].map(name2id)"
   ]
  },
  {
   "cell_type": "code",
   "execution_count": 59,
   "id": "9287fcba-d165-4789-9348-eb1134ba291b",
   "metadata": {},
   "outputs": [],
   "source": [
    "df['img_tpath'] = df['img_path'].apply(lambda x: '{0}/{1}'.format(draw_root, Path(x).name))"
   ]
  },
  {
   "cell_type": "code",
   "execution_count": 75,
   "id": "79556ebc-de3b-476b-b1fa-33ee67a44325",
   "metadata": {},
   "outputs": [],
   "source": [
    "df0 = df[(df[df.columns[1]]==0) | (df[df.columns[2]]==0)]"
   ]
  },
  {
   "cell_type": "code",
   "execution_count": null,
   "id": "8164b81a-f5d9-4489-9bf8-dddab88be2fc",
   "metadata": {},
   "outputs": [],
   "source": []
  },
  {
   "cell_type": "code",
   "execution_count": 10,
   "id": "17c69c67-c6d1-496e-8f31-e327fe3a3c98",
   "metadata": {},
   "outputs": [],
   "source": [
    "df = pd.read_csv('./data/shoe_bag11k_may.csv')"
   ]
  },
  {
   "cell_type": "code",
   "execution_count": null,
   "id": "712c84e5-bfde-45f3-8287-25c036f21230",
   "metadata": {},
   "outputs": [],
   "source": []
  },
  {
   "cell_type": "code",
   "execution_count": null,
   "id": "31b41a13-cb39-4fa4-9481-3e0990b0b618",
   "metadata": {},
   "outputs": [],
   "source": []
  },
  {
   "cell_type": "code",
   "execution_count": 11,
   "id": "0134fdba-42e3-472b-8d28-c741111468e6",
   "metadata": {},
   "outputs": [
    {
     "name": "stderr",
     "output_type": "stream",
     "text": [
      "/home/chenyi/workspace/myPyModule99/dataset/dada/../../utils/display/html.py:8: FutureWarning: Passing a negative integer is deprecated in version 1.0 and will not be supported in future version. Instead, use None to not limit the column width.\n",
      "  pd.set_option('display.max_colwidth', -1)\n"
     ]
    }
   ],
   "source": [
    "sys.path.append('../../')\n",
    "from utils.display.html import *\n",
    "from IPython.display import HTML\n",
    "from io import BytesIO"
   ]
  },
  {
   "cell_type": "code",
   "execution_count": 12,
   "id": "5b9808ca-3a7f-4825-ab2c-75b0820dda84",
   "metadata": {},
   "outputs": [],
   "source": [
    "from utils.plots.plots import draw_bbox"
   ]
  },
  {
   "cell_type": "code",
   "execution_count": 13,
   "id": "4717ccee-c91c-4220-9c94-32d638b844e6",
   "metadata": {},
   "outputs": [],
   "source": [
    "import cv2\n",
    "from PIL import Image"
   ]
  },
  {
   "cell_type": "code",
   "execution_count": 30,
   "id": "63484868-f555-4a69-918e-a5d6d004755a",
   "metadata": {
    "tags": []
   },
   "outputs": [
    {
     "name": "stderr",
     "output_type": "stream",
     "text": [
      "10669it [28:16,  6.29it/s]\n"
     ]
    }
   ],
   "source": [
    "for ind, row in tqdm(df.iterrows()):\n",
    "    row_info = row.loc[df.columns[:8]].values\n",
    "    w,h = row_info[1], row_info[2]\n",
    "    name = row.loc[['id']].values[0]\n",
    "    bbox = list(row_info[4:8])\n",
    "    bbox.insert(0,0)\n",
    "    tp = Path(row.loc[['img_tpath']].values[0])\n",
    "    p = tp if tp.is_file() else row.loc[['img_path']].values[0]\n",
    "    img = cv2.imread(str(p))\n",
    "    img = draw_bbox(img, bbox)\n",
    "    cv2.imwrite(str(tp), img)\n",
    "    # break"
   ]
  },
  {
   "cell_type": "code",
   "execution_count": null,
   "id": "50642723-78a9-4349-8e4d-499b9b248506",
   "metadata": {},
   "outputs": [],
   "source": []
  },
  {
   "cell_type": "code",
   "execution_count": 28,
   "id": "59cb5e76-df62-4e1c-bd3e-1481001b74da",
   "metadata": {},
   "outputs": [
    {
     "data": {
      "text/plain": [
       "PosixPath('/home/chenyi/workspace/dataset_clr/haowei34k/shoe_bag11k_drawed/2018053014441155222.jpg')"
      ]
     },
     "execution_count": 28,
     "metadata": {},
     "output_type": "execute_result"
    }
   ],
   "source": [
    "p"
   ]
  },
  {
   "cell_type": "code",
   "execution_count": null,
   "id": "1ca1ab31-25e3-408f-92a7-db0362b110a9",
   "metadata": {
    "tags": []
   },
   "outputs": [],
   "source": [
    "Image.open(p)"
   ]
  },
  {
   "cell_type": "code",
   "execution_count": null,
   "id": "27d1933f-8224-4f24-8d9c-6e00ad9b4ad3",
   "metadata": {},
   "outputs": [],
   "source": [
    "'/nas/chenyi/benchmark/benchmark_cy_may/shoes/20200428204431_87.jpeg'"
   ]
  },
  {
   "cell_type": "code",
   "execution_count": null,
   "id": "cf0b790b-11b8-42eb-a8e4-494dd887b6bf",
   "metadata": {},
   "outputs": [],
   "source": []
  },
  {
   "cell_type": "code",
   "execution_count": null,
   "id": "62c53518-cc43-4093-b23a-7d4a2c81c15e",
   "metadata": {},
   "outputs": [],
   "source": []
  },
  {
   "cell_type": "markdown",
   "id": "6eb6fc37-beae-432b-baf2-c97ad87eb3f6",
   "metadata": {
    "jp-MarkdownHeadingCollapsed": true,
    "tags": []
   },
   "source": [
    "### 解析json文件"
   ]
  },
  {
   "cell_type": "code",
   "execution_count": null,
   "id": "aca59b59-4b6b-48c1-8deb-04ee8f7d6fcb",
   "metadata": {},
   "outputs": [],
   "source": [
    "json_list = glob.glob('/home/chenyi/workspace/dataset/haowei34k_labelImg/xml_label/*/*.json')"
   ]
  },
  {
   "cell_type": "code",
   "execution_count": null,
   "id": "34502f83-9962-4379-8e26-df83895df0ec",
   "metadata": {},
   "outputs": [],
   "source": [
    "json_df = pd.DataFrame()\n",
    "json_df['spath'] = json_list"
   ]
  },
  {
   "cell_type": "code",
   "execution_count": null,
   "id": "2c67d62f-8b80-469a-8f3c-e67530694950",
   "metadata": {},
   "outputs": [],
   "source": [
    "xml_dir = Path('/home/chenyi/workspace/dataset/haowei34k_labelImg/json2xml/')"
   ]
  },
  {
   "cell_type": "code",
   "execution_count": null,
   "id": "d5466bb0-1a94-40a4-b5af-ec713dc397b4",
   "metadata": {},
   "outputs": [],
   "source": [
    "json_df['tpath'] = json_df['spath'].apply(lambda x:\n",
    "                                         '{0}/{1}'.format(xml_dir, re.findall(r'/[0-9]{1,3}/(.*?.json)',x)[0]))"
   ]
  },
  {
   "cell_type": "code",
   "execution_count": null,
   "id": "c47a119e-8e35-40d6-b733-7cbe675a8d68",
   "metadata": {},
   "outputs": [],
   "source": [
    "sys.path.append('/home/chenyi/workspace/myPyModule99/data_format/json_to_xml')\n",
    "from json_to_xml.main import *"
   ]
  },
  {
   "cell_type": "code",
   "execution_count": null,
   "id": "12262dbe-7ae5-4d9d-92ae-aaae157ac712",
   "metadata": {},
   "outputs": [],
   "source": [
    "root_json_dir = xml_dir\n",
    "root_save_xml_dir = '/home/chenyi/workspace/dataset/haowei34k_labelImg/json2xml/xml'"
   ]
  },
  {
   "cell_type": "code",
   "execution_count": null,
   "id": "e5dac5c4-62c7-4361-9f0a-2690adfc5585",
   "metadata": {},
   "outputs": [],
   "source": [
    "import json\n",
    "for json_filename in tqdm(os.listdir(root_json_dir)):\n",
    "    json_path = os.path.join(root_json_dir, json_filename)\n",
    "    json_data = json.load(open(json_path))\n",
    "    break"
   ]
  },
  {
   "cell_type": "code",
   "execution_count": null,
   "id": "8a1e6b6d-baa6-453f-8cbb-897a3b4e09a2",
   "metadata": {},
   "outputs": [],
   "source": [
    "json_df['path'] = glob.glob(str(root_json_dir/'*.json'))"
   ]
  },
  {
   "cell_type": "code",
   "execution_count": null,
   "id": "c970a63b-7aa5-41b0-a61b-c0f1886bb02a",
   "metadata": {},
   "outputs": [],
   "source": [
    "json_df['fname'] =  json_df['path'].apply(lambda x: re.findall(r'/json2xml/(.*?).json',x)[0])"
   ]
  },
  {
   "cell_type": "code",
   "execution_count": null,
   "id": "c7161092-2a20-472b-964a-49c270e3836d",
   "metadata": {},
   "outputs": [],
   "source": [
    "json_labels = {}\n",
    "for ind,row in tqdm(json_df.iterrows()):\n",
    "    json_path = row['path']\n",
    "    fname = row['fname']\n",
    "    json_data = json.load(open(json_path))\n",
    "    json_labels[fname] = ''\n",
    "    for item in json_data['shapes']:\n",
    "        name = item['label']\n",
    "        points = item['points']\n",
    "        xmin, ymin = points[0]\n",
    "        xmax, ymax = points[1]\n",
    "        \n",
    "        if name not in classes_name.keys():\n",
    "            classes_name[name] = len(classes_name)\n",
    "        json_labels[fname] += '{} {:6f} {:6f} {:6f} {:6f}\\n'.format(\n",
    "            classes_name[name], xmin, ymin, xmax, ymax)"
   ]
  },
  {
   "cell_type": "code",
   "execution_count": null,
   "id": "0ddb0257-5234-458d-9a7c-2c745c264904",
   "metadata": {},
   "outputs": [],
   "source": [
    "fname_list = []\n",
    "xmin_list = []\n",
    "ymin_list = []\n",
    "xmax_list = []\n",
    "ymax_list = []\n",
    "labels_list = []\n",
    "for ind,row in tqdm(json_df.iterrows()):\n",
    "    json_path = row['path']\n",
    "    fname = row['fname']\n",
    "    json_data = json.load(open(json_path))\n",
    "    for item in json_data['shapes']:\n",
    "        name = item['label']\n",
    "        points = item['points']\n",
    "        xmin, ymin = points[0]\n",
    "        xmax, ymax = points[1]\n",
    "        \n",
    "        fname_list.append(fname)\n",
    "        labels_list.append(name)\n",
    "        xmin_list.append(xmin)\n",
    "        ymin_list.append(ymin)\n",
    "        ymax_list.append(ymax)\n",
    "        xmax_list.append(xmax)"
   ]
  },
  {
   "cell_type": "code",
   "execution_count": null,
   "id": "a00d56b5-2ef9-4847-89d6-fac027872628",
   "metadata": {},
   "outputs": [],
   "source": []
  },
  {
   "cell_type": "code",
   "execution_count": null,
   "id": "37fe7824-bca8-4620-868a-a3403d43208a",
   "metadata": {},
   "outputs": [],
   "source": [
    "json_bboxes = pd.DataFrame()"
   ]
  },
  {
   "cell_type": "code",
   "execution_count": null,
   "id": "b10f1d61-3113-48bb-9797-028a9d4e7e6e",
   "metadata": {},
   "outputs": [],
   "source": [
    "json_bboxes['fname'] = fname_list\n",
    "json_bboxes['label'] = labels_list\n",
    "json_bboxes['xmin'] = xmin_list\n",
    "json_bboxes['ymin'] = ymin_list\n",
    "json_bboxes['xmax'] = xmax_list\n",
    "json_bboxes['ymax'] = ymax_list"
   ]
  },
  {
   "cell_type": "code",
   "execution_count": null,
   "id": "15d7e83a-e675-417d-843e-492c83ef5187",
   "metadata": {},
   "outputs": [],
   "source": [
    "json_bboxes.head()"
   ]
  },
  {
   "cell_type": "code",
   "execution_count": null,
   "id": "48b1fe30-7b0c-4913-a171-06310c9027fe",
   "metadata": {},
   "outputs": [],
   "source": []
  },
  {
   "cell_type": "code",
   "execution_count": null,
   "id": "21f7a2f9-2898-4113-b150-531bafe7d64b",
   "metadata": {},
   "outputs": [],
   "source": []
  },
  {
   "cell_type": "markdown",
   "id": "cbe8f7ca-a76c-4f9d-b66b-9f0aa68270a7",
   "metadata": {
    "jp-MarkdownHeadingCollapsed": true,
    "tags": []
   },
   "source": [
    "### pandas处理"
   ]
  },
  {
   "cell_type": "code",
   "execution_count": 23,
   "id": "53dbea67-583f-40aa-959b-540e5f9f8d7e",
   "metadata": {
    "collapsed": true,
    "jupyter": {
     "outputs_hidden": true
    },
    "tags": []
   },
   "outputs": [
    {
     "data": {
      "text/plain": [
       "PosixPath('../../dataset/haowei34k_labelImg/haowei34k_catg45/xml')"
      ]
     },
     "execution_count": 23,
     "metadata": {},
     "output_type": "execute_result"
    }
   ],
   "source": [
    "labels_p"
   ]
  },
  {
   "cell_type": "code",
   "execution_count": 24,
   "id": "205722ec-75c0-48db-8301-fc71cbca561f",
   "metadata": {},
   "outputs": [
    {
     "name": "stderr",
     "output_type": "stream",
     "text": [
      "33411it [00:01, 20297.55it/s]\n"
     ]
    }
   ],
   "source": [
    "xml_list = glob.glob(str(labels_p /'*.xml'))\n",
    "xmlFiles = [re.findall(r'/xml/(.*?.xml)',x)[0] for x in xml_list]\n",
    "fname_list = []\n",
    "xmin_list = []\n",
    "ymin_list = []\n",
    "xmax_list = []\n",
    "ymax_list = []\n",
    "labels_list = []\n",
    "for ind,xmlFile in tqdm(enumerate(xmlFiles)):\n",
    "    trees = etree.parse(labels_p /xmlFile)\n",
    "    width, height = int(trees.find('size/width').text), int(trees.find('size/height').text)\n",
    "    # fname = re.findall(r'[0-9]{1,3}/(.*?).xml',xmlFile)[0]     \n",
    "    fname = xmlFile[:-4]     \n",
    "\n",
    "    for obj in trees.findall('object'):\n",
    "        bdb = obj.find('bndbox')\n",
    "        name = obj.find('name').text\n",
    "        xmin = int(bdb.find('xmin').text)\n",
    "        ymin = int(bdb.find('ymin').text)\n",
    "        xmax = int(bdb.find('xmax').text)\n",
    "        ymax = int(bdb.find('ymax').text)\n",
    "        \n",
    "        fname_list.append(fname)\n",
    "        labels_list.append(name)\n",
    "        xmin_list.append(xmin)\n",
    "        ymin_list.append(ymin)\n",
    "        ymax_list.append(ymax)\n",
    "        xmax_list.append(xmax)"
   ]
  },
  {
   "cell_type": "code",
   "execution_count": 25,
   "id": "6cb55ea5-8ea9-4af8-b149-fabec0846def",
   "metadata": {},
   "outputs": [],
   "source": [
    "xml_bboxes = pd.DataFrame()\n",
    "xml_bboxes['fname'] = fname_list\n",
    "xml_bboxes['label'] = labels_list\n",
    "xml_bboxes['xmin'] = xmin_list\n",
    "xml_bboxes['ymin'] = ymin_list\n",
    "xml_bboxes['xmax'] = xmax_list\n",
    "xml_bboxes['ymax'] = ymax_list"
   ]
  },
  {
   "cell_type": "code",
   "execution_count": 26,
   "id": "b656f6c2-4d31-4dfd-9e1c-35a40415c5fd",
   "metadata": {},
   "outputs": [
    {
     "data": {
      "text/html": [
       "<div>\n",
       "<style scoped>\n",
       "    .dataframe tbody tr th:only-of-type {\n",
       "        vertical-align: middle;\n",
       "    }\n",
       "\n",
       "    .dataframe tbody tr th {\n",
       "        vertical-align: top;\n",
       "    }\n",
       "\n",
       "    .dataframe thead th {\n",
       "        text-align: right;\n",
       "    }\n",
       "</style>\n",
       "<table border=\"1\" class=\"dataframe\">\n",
       "  <thead>\n",
       "    <tr style=\"text-align: right;\">\n",
       "      <th></th>\n",
       "      <th>fname</th>\n",
       "      <th>label</th>\n",
       "      <th>xmin</th>\n",
       "      <th>ymin</th>\n",
       "      <th>xmax</th>\n",
       "      <th>ymax</th>\n",
       "    </tr>\n",
       "  </thead>\n",
       "  <tbody>\n",
       "    <tr>\n",
       "      <th>0</th>\n",
       "      <td>20160425101358677</td>\n",
       "      <td>正装女鞋</td>\n",
       "      <td>225</td>\n",
       "      <td>584</td>\n",
       "      <td>258</td>\n",
       "      <td>669</td>\n",
       "    </tr>\n",
       "    <tr>\n",
       "      <th>1</th>\n",
       "      <td>20160425101358677</td>\n",
       "      <td>正装女鞋</td>\n",
       "      <td>256</td>\n",
       "      <td>672</td>\n",
       "      <td>305</td>\n",
       "      <td>768</td>\n",
       "    </tr>\n",
       "    <tr>\n",
       "      <th>2</th>\n",
       "      <td>20160425101358677</td>\n",
       "      <td>连衣裙</td>\n",
       "      <td>157</td>\n",
       "      <td>136</td>\n",
       "      <td>357</td>\n",
       "      <td>468</td>\n",
       "    </tr>\n",
       "    <tr>\n",
       "      <th>3</th>\n",
       "      <td>20160425101358677</td>\n",
       "      <td>包</td>\n",
       "      <td>118</td>\n",
       "      <td>135</td>\n",
       "      <td>222</td>\n",
       "      <td>413</td>\n",
       "    </tr>\n",
       "    <tr>\n",
       "      <th>4</th>\n",
       "      <td>20170818201332676</td>\n",
       "      <td>牛仔</td>\n",
       "      <td>447</td>\n",
       "      <td>308</td>\n",
       "      <td>745</td>\n",
       "      <td>767</td>\n",
       "    </tr>\n",
       "  </tbody>\n",
       "</table>\n",
       "</div>"
      ],
      "text/plain": [
       "               fname label  xmin  ymin  xmax  ymax\n",
       "0  20160425101358677  正装女鞋   225   584   258   669\n",
       "1  20160425101358677  正装女鞋   256   672   305   768\n",
       "2  20160425101358677   连衣裙   157   136   357   468\n",
       "3  20160425101358677     包   118   135   222   413\n",
       "4  20170818201332676    牛仔   447   308   745   767"
      ]
     },
     "execution_count": 26,
     "metadata": {},
     "output_type": "execute_result"
    }
   ],
   "source": [
    "xml_bboxes.head()"
   ]
  },
  {
   "cell_type": "code",
   "execution_count": 27,
   "id": "535216b0-37bd-426d-95e5-baebd1f424ae",
   "metadata": {},
   "outputs": [
    {
     "name": "stdout",
     "output_type": "stream",
     "text": [
      "<class 'pandas.core.frame.DataFrame'>\n",
      "RangeIndex: 144122 entries, 0 to 144121\n",
      "Data columns (total 6 columns):\n",
      " #   Column  Non-Null Count   Dtype \n",
      "---  ------  --------------   ----- \n",
      " 0   fname   144122 non-null  object\n",
      " 1   label   144122 non-null  object\n",
      " 2   xmin    144122 non-null  int64 \n",
      " 3   ymin    144122 non-null  int64 \n",
      " 4   xmax    144122 non-null  int64 \n",
      " 5   ymax    144122 non-null  int64 \n",
      "dtypes: int64(4), object(2)\n",
      "memory usage: 6.6+ MB\n"
     ]
    }
   ],
   "source": [
    "xml_bboxes.info()"
   ]
  },
  {
   "cell_type": "code",
   "execution_count": null,
   "id": "0f0cc328-f66e-457f-b2c0-669430982295",
   "metadata": {},
   "outputs": [],
   "source": []
  },
  {
   "cell_type": "code",
   "execution_count": 28,
   "id": "84a0226c-30aa-4748-9204-8f823b30abb2",
   "metadata": {},
   "outputs": [],
   "source": [
    "labelme_df = xml_bboxes"
   ]
  },
  {
   "cell_type": "code",
   "execution_count": null,
   "id": "0251dd15-8139-43ec-aa36-c7dd976caebd",
   "metadata": {},
   "outputs": [],
   "source": [
    "# labelme_df.to_csv('/home/chenyi/workspace/dataset/haowei34k_labelImg/labelme_hw34k.csv', index=False)"
   ]
  },
  {
   "cell_type": "code",
   "execution_count": 30,
   "id": "727517a8-c7cb-4450-9ca1-5afcdc42162e",
   "metadata": {},
   "outputs": [
    {
     "data": {
      "text/plain": [
       "([Index(['正装女鞋', '正装女鞋（宽容型）', '包', '裙子', '休闲裤', '毛衣/绒衣/针织衫', '牛仔裤', '休闲裤（宽容型）',\n",
       "         '连衣裙', '连衣裙（严格型）',\n",
       "         ...\n",
       "         '正装你学', '毛衣/绒衣/针织衫衫', '版鞋', '毛衣/绒衣//针织衫', '/外套', '板鞋\\t', '女衫 ', '羊羔毛',\n",
       "         '牛', '衬衫 '],\n",
       "        dtype='object', length=149)],\n",
       " 149)"
      ]
     },
     "execution_count": 30,
     "metadata": {},
     "output_type": "execute_result"
    }
   ],
   "source": [
    "labelme_df['label'].value_counts().axes,len(labelme_df['label'].value_counts().axes[0])"
   ]
  },
  {
   "cell_type": "code",
   "execution_count": 31,
   "id": "f053a4a4-92f7-4c09-b9cc-2a4bdba6d628",
   "metadata": {},
   "outputs": [],
   "source": [
    "import pickle\n",
    "with open('labelme_names_dict.pickle', 'rb') as f:\n",
    "    names_dict = pickle.load(f)"
   ]
  },
  {
   "cell_type": "code",
   "execution_count": 53,
   "id": "67e39a7a-0876-41bd-abc8-5542e828d946",
   "metadata": {},
   "outputs": [],
   "source": [
    "# import pickle\n",
    "# # with open('labelme_names_dict.pickle', 'wb') as f:\n",
    "#     pickle.dump(names_dict, f)"
   ]
  },
  {
   "cell_type": "code",
   "execution_count": 52,
   "id": "4d0fefc0-741c-4a21-b9d1-a7bbe64990d5",
   "metadata": {},
   "outputs": [],
   "source": [
    "labelme_df['label43'] = labelme_df['label'].apply(lambda x: names_dict[x])"
   ]
  },
  {
   "cell_type": "code",
   "execution_count": 63,
   "id": "49854e6f-dcb8-4582-88bd-c3cf253ebe00",
   "metadata": {},
   "outputs": [],
   "source": [
    "labelme_df.to_csv('labelme_voc_bboxes_relabel.csv', index=False)"
   ]
  },
  {
   "cell_type": "code",
   "execution_count": 55,
   "id": "68c8376c-ee8d-4296-8f53-96ebd50d1e66",
   "metadata": {
    "collapsed": true,
    "jupyter": {
     "outputs_hidden": true
    },
    "tags": []
   },
   "outputs": [
    {
     "data": {
      "text/plain": [
       "正装女鞋         44481\n",
       "包            20515\n",
       "休闲裤           8833\n",
       "半身裙           7625\n",
       "毛衣/绒衣/针织衫     7225\n",
       "连衣裙           6941\n",
       "牛仔裤           6875\n",
       "女衫类           4035\n",
       "帆布鞋           3767\n",
       "凉鞋            3225\n",
       "板鞋            2888\n",
       "小西装           2670\n",
       "夹克外套          2355\n",
       "运动鞋           2182\n",
       "背心            2180\n",
       "皮衣外套          1741\n",
       "拖鞋            1495\n",
       "卫衣            1490\n",
       "大衣            1449\n",
       "打底裤           1305\n",
       "懒人鞋           1294\n",
       "牛仔外套          1046\n",
       "西装裤           1001\n",
       "T恤             932\n",
       "豆豆鞋            836\n",
       "松糕鞋            663\n",
       "衬衫             576\n",
       "皮裤             522\n",
       "吊带             504\n",
       "连衣裤            426\n",
       "雪地靴            422\n",
       "风衣             417\n",
       "棉衣/羊羔绒         386\n",
       "马甲             376\n",
       "休闲鞋            343\n",
       "皮草             321\n",
       "羽绒服            246\n",
       "运动裤            166\n",
       "帽子             156\n",
       "网鞋              60\n",
       "抹胸              47\n",
       "棒球服             46\n",
       "斗篷              36\n",
       "洞洞鞋             12\n",
       "POLO衫           11\n",
       "Name: label43, dtype: int64"
      ]
     },
     "execution_count": 55,
     "metadata": {},
     "output_type": "execute_result"
    }
   ],
   "source": [
    "labelme_df['label43'].value_counts()"
   ]
  },
  {
   "cell_type": "code",
   "execution_count": 76,
   "id": "df49a1c7-d150-4171-acad-57d9407aba08",
   "metadata": {},
   "outputs": [],
   "source": [
    "root = Path('/home/chenyi/workspace/dataset/haowei34k/')"
   ]
  },
  {
   "cell_type": "code",
   "execution_count": 77,
   "id": "b9b62fa7-778e-4d46-aa01-1c560180fbbb",
   "metadata": {},
   "outputs": [],
   "source": [
    "imgs_list = glob.glob(str(root /'images/*/*.jpg'))"
   ]
  },
  {
   "cell_type": "code",
   "execution_count": 78,
   "id": "e7513c47-3c20-46b2-b5af-ecd641dfb5fb",
   "metadata": {},
   "outputs": [],
   "source": [
    "imgs_df = pd.DataFrame()\n",
    "imgs_df['path'] = imgs_list"
   ]
  },
  {
   "cell_type": "code",
   "execution_count": 98,
   "id": "d627571e-3873-4690-bee2-811951b82d6e",
   "metadata": {},
   "outputs": [],
   "source": [
    "import re"
   ]
  },
  {
   "cell_type": "code",
   "execution_count": 102,
   "id": "ae70ed49-dab4-4167-8495-03d0b5237a24",
   "metadata": {},
   "outputs": [],
   "source": [
    "imgs_df['fname']= imgs_df['path'].apply(lambda x: re.findall(r'images/.*?/(.*?).jpg', x)[0])"
   ]
  },
  {
   "cell_type": "code",
   "execution_count": 103,
   "id": "217f30dc-0109-4928-9a87-5dd174355188",
   "metadata": {},
   "outputs": [
    {
     "data": {
      "text/plain": [
       "array([['/home/chenyi/workspace/dataset/haowei34k/images/train/20160406001119728.jpg',\n",
       "        '20160406001119728'],\n",
       "       ['/home/chenyi/workspace/dataset/haowei34k/images/train/20141110184352626.jpg',\n",
       "        '20141110184352626']], dtype=object)"
      ]
     },
     "execution_count": 103,
     "metadata": {},
     "output_type": "execute_result"
    }
   ],
   "source": [
    "imgs_df.head(2).values"
   ]
  },
  {
   "cell_type": "code",
   "execution_count": null,
   "id": "0cb6a881-3969-4c02-af5f-17bb7f1bc1ac",
   "metadata": {},
   "outputs": [],
   "source": []
  },
  {
   "cell_type": "code",
   "execution_count": null,
   "id": "05c8dfb2-2be4-40a0-90cf-cfc3030fd22d",
   "metadata": {},
   "outputs": [],
   "source": [
    "_ = [os.symlink(p, p.replace()) for p in imgs_list]"
   ]
  },
  {
   "cell_type": "code",
   "execution_count": null,
   "id": "eedd2191-006f-4565-a1ea-51f4fcbb0376",
   "metadata": {},
   "outputs": [],
   "source": []
  },
  {
   "cell_type": "code",
   "execution_count": 114,
   "id": "0f126afa-0b47-4e66-bf7c-06cec9d5f000",
   "metadata": {},
   "outputs": [],
   "source": [
    "labelme_df['fname'] = labelme_df['fname'].astype(str)"
   ]
  },
  {
   "cell_type": "code",
   "execution_count": 120,
   "id": "bbaa305e-f8de-4ccd-be03-19a2160fbadb",
   "metadata": {},
   "outputs": [
    {
     "name": "stdout",
     "output_type": "stream",
     "text": [
      "<class 'pandas.core.frame.DataFrame'>\n",
      "RangeIndex: 34020 entries, 0 to 34019\n",
      "Data columns (total 2 columns):\n",
      " #   Column  Non-Null Count  Dtype \n",
      "---  ------  --------------  ----- \n",
      " 0   path    34020 non-null  object\n",
      " 1   fname   34020 non-null  object\n",
      "dtypes: object(2)\n",
      "memory usage: 531.7+ KB\n"
     ]
    }
   ],
   "source": [
    "imgs_df.info()"
   ]
  },
  {
   "cell_type": "code",
   "execution_count": 115,
   "id": "5e4ada23-7137-4b1b-9b6a-b766928c047f",
   "metadata": {},
   "outputs": [
    {
     "name": "stdout",
     "output_type": "stream",
     "text": [
      "<class 'pandas.core.frame.DataFrame'>\n",
      "Int64Index: 33411 entries, 0 to 144118\n",
      "Data columns (total 7 columns):\n",
      " #   Column   Non-Null Count  Dtype \n",
      "---  ------   --------------  ----- \n",
      " 0   fname    33411 non-null  object\n",
      " 1   label    33411 non-null  object\n",
      " 2   xmin     33411 non-null  int64 \n",
      " 3   ymin     33411 non-null  int64 \n",
      " 4   xmax     33411 non-null  int64 \n",
      " 5   ymax     33411 non-null  int64 \n",
      " 6   label43  33411 non-null  object\n",
      "dtypes: int64(4), object(3)\n",
      "memory usage: 2.0+ MB\n"
     ]
    }
   ],
   "source": [
    "labelme_df.drop_duplicates('fname').info()"
   ]
  },
  {
   "cell_type": "code",
   "execution_count": 110,
   "id": "5f7cdae6-6071-4d10-9171-30f73dd46653",
   "metadata": {},
   "outputs": [],
   "source": [
    "x = labelme_df[~labelme_df['fname'].isin(imgs_df['fname'])]"
   ]
  },
  {
   "cell_type": "code",
   "execution_count": 116,
   "id": "502b5aa9-a1c9-4bc7-8d7b-a32bc8e41c3b",
   "metadata": {},
   "outputs": [],
   "source": [
    "y = imgs_df[~imgs_df['fname'].isin(labelme_df['fname'])]"
   ]
  },
  {
   "cell_type": "code",
   "execution_count": 122,
   "id": "44fffb52-8f58-47d5-aad0-c99e5dbb72e2",
   "metadata": {},
   "outputs": [
    {
     "name": "stdout",
     "output_type": "stream",
     "text": [
      "<class 'pandas.core.frame.DataFrame'>\n",
      "Int64Index: 609 entries, 194 to 33973\n",
      "Data columns (total 2 columns):\n",
      " #   Column  Non-Null Count  Dtype \n",
      "---  ------  --------------  ----- \n",
      " 0   path    609 non-null    object\n",
      " 1   fname   609 non-null    object\n",
      "dtypes: object(2)\n",
      "memory usage: 14.3+ KB\n"
     ]
    }
   ],
   "source": [
    "y.info()"
   ]
  },
  {
   "cell_type": "code",
   "execution_count": null,
   "id": "ff1d94e7-f9a8-4f20-9a1d-21fc8a790802",
   "metadata": {},
   "outputs": [],
   "source": []
  },
  {
   "cell_type": "code",
   "execution_count": 125,
   "id": "535676cc-790b-4247-93ca-da64541e15d2",
   "metadata": {},
   "outputs": [
    {
     "data": {
      "text/html": [
       "<div>\n",
       "<style scoped>\n",
       "    .dataframe tbody tr th:only-of-type {\n",
       "        vertical-align: middle;\n",
       "    }\n",
       "\n",
       "    .dataframe tbody tr th {\n",
       "        vertical-align: top;\n",
       "    }\n",
       "\n",
       "    .dataframe thead th {\n",
       "        text-align: right;\n",
       "    }\n",
       "</style>\n",
       "<table border=\"1\" class=\"dataframe\">\n",
       "  <thead>\n",
       "    <tr style=\"text-align: right;\">\n",
       "      <th></th>\n",
       "      <th>fname</th>\n",
       "      <th>label</th>\n",
       "      <th>xmin</th>\n",
       "      <th>ymin</th>\n",
       "      <th>xmax</th>\n",
       "      <th>ymax</th>\n",
       "      <th>label43</th>\n",
       "    </tr>\n",
       "  </thead>\n",
       "  <tbody>\n",
       "    <tr>\n",
       "      <th>0</th>\n",
       "      <td>20160425101358677</td>\n",
       "      <td>正装女鞋</td>\n",
       "      <td>225</td>\n",
       "      <td>584</td>\n",
       "      <td>258</td>\n",
       "      <td>669</td>\n",
       "      <td>正装女鞋</td>\n",
       "    </tr>\n",
       "    <tr>\n",
       "      <th>1</th>\n",
       "      <td>20160425101358677</td>\n",
       "      <td>正装女鞋</td>\n",
       "      <td>256</td>\n",
       "      <td>672</td>\n",
       "      <td>305</td>\n",
       "      <td>768</td>\n",
       "      <td>正装女鞋</td>\n",
       "    </tr>\n",
       "    <tr>\n",
       "      <th>2</th>\n",
       "      <td>20160425101358677</td>\n",
       "      <td>连衣裙</td>\n",
       "      <td>157</td>\n",
       "      <td>136</td>\n",
       "      <td>357</td>\n",
       "      <td>468</td>\n",
       "      <td>连衣裙</td>\n",
       "    </tr>\n",
       "    <tr>\n",
       "      <th>3</th>\n",
       "      <td>20160425101358677</td>\n",
       "      <td>包</td>\n",
       "      <td>118</td>\n",
       "      <td>135</td>\n",
       "      <td>222</td>\n",
       "      <td>413</td>\n",
       "      <td>包</td>\n",
       "    </tr>\n",
       "    <tr>\n",
       "      <th>4</th>\n",
       "      <td>20170818201332676</td>\n",
       "      <td>牛仔</td>\n",
       "      <td>447</td>\n",
       "      <td>308</td>\n",
       "      <td>745</td>\n",
       "      <td>767</td>\n",
       "      <td>牛仔外套</td>\n",
       "    </tr>\n",
       "  </tbody>\n",
       "</table>\n",
       "</div>"
      ],
      "text/plain": [
       "               fname label  xmin  ymin  xmax  ymax label43\n",
       "0  20160425101358677  正装女鞋   225   584   258   669    正装女鞋\n",
       "1  20160425101358677  正装女鞋   256   672   305   768    正装女鞋\n",
       "2  20160425101358677   连衣裙   157   136   357   468     连衣裙\n",
       "3  20160425101358677     包   118   135   222   413       包\n",
       "4  20170818201332676    牛仔   447   308   745   767    牛仔外套"
      ]
     },
     "execution_count": 125,
     "metadata": {},
     "output_type": "execute_result"
    }
   ],
   "source": [
    "labelme_df.head()"
   ]
  },
  {
   "cell_type": "code",
   "execution_count": 123,
   "id": "82ea03e0-fcd8-4784-a377-11783de9c97a",
   "metadata": {},
   "outputs": [
    {
     "data": {
      "text/plain": [
       "PosixPath('/home/chenyi/workspace/dataset/haowei34k')"
      ]
     },
     "execution_count": 123,
     "metadata": {},
     "output_type": "execute_result"
    }
   ],
   "source": [
    "root"
   ]
  },
  {
   "cell_type": "code",
   "execution_count": 58,
   "id": "80bd2741-df94-48cb-a9a7-0b39d8f5241c",
   "metadata": {},
   "outputs": [],
   "source": [
    "from PIL import Image"
   ]
  },
  {
   "cell_type": "code",
   "execution_count": 128,
   "id": "1a0b18be-2441-4cbd-b9cf-0a826b3610ce",
   "metadata": {
    "tags": []
   },
   "outputs": [
    {
     "name": "stderr",
     "output_type": "stream",
     "text": [
      "34020it [00:06, 5175.93it/s]\n"
     ]
    }
   ],
   "source": [
    "w_list = []\n",
    "h_list = []\n",
    "for ind, row in tqdm(imgs_df.iterrows()):\n",
    "    p_ = row['path']\n",
    "    try:\n",
    "        img = Image.open(str(p_))\n",
    "        w,h = img.size\n",
    "    except:\n",
    "        w,h = 0,0\n",
    "        print(p_)\n",
    "    w_list.append(w)\n",
    "    h_list.append(h)  "
   ]
  },
  {
   "cell_type": "code",
   "execution_count": null,
   "id": "fe77bed7-a6ba-4080-8d8a-e1d7c9805ce7",
   "metadata": {},
   "outputs": [],
   "source": []
  },
  {
   "cell_type": "code",
   "execution_count": 133,
   "id": "ff9830bd-78f0-4989-8bb4-ff3684ce227c",
   "metadata": {},
   "outputs": [],
   "source": [
    "imgs_df['width'] = w_list\n",
    "imgs_df['height'] = h_list"
   ]
  },
  {
   "cell_type": "code",
   "execution_count": 139,
   "id": "8c9b5576-3552-4c75-988d-a374976a01fa",
   "metadata": {},
   "outputs": [],
   "source": [
    "imgs_df['mode'] = imgs_df['path'].apply(lambda x: re.findall(r'/images/([a-z]{3,5})/', x)[0])"
   ]
  },
  {
   "cell_type": "code",
   "execution_count": 143,
   "id": "76557b12-cd82-4d4d-9560-4deb90160292",
   "metadata": {},
   "outputs": [],
   "source": [
    "val_df = imgs_df[imgs_df['mode']=='val']"
   ]
  },
  {
   "cell_type": "code",
   "execution_count": 144,
   "id": "00e9a652-9b1a-4866-b775-f3c3313649fa",
   "metadata": {},
   "outputs": [],
   "source": [
    "labelme_df['mode'] = 'train'"
   ]
  },
  {
   "cell_type": "code",
   "execution_count": 150,
   "id": "bbca1003-06a9-43ab-91f4-4711aab22a67",
   "metadata": {},
   "outputs": [],
   "source": [
    "labelme_df.loc[labelme_df[labelme_df['fname'].isin(val_df['fname'])].index,'mode'] = 'val'"
   ]
  },
  {
   "cell_type": "code",
   "execution_count": null,
   "id": "417d986d-4ad9-45bc-87ed-32039df62724",
   "metadata": {},
   "outputs": [],
   "source": []
  },
  {
   "cell_type": "code",
   "execution_count": 156,
   "id": "451a0138-3d3d-4fc2-b3b2-03fd4be67cb5",
   "metadata": {},
   "outputs": [],
   "source": [
    "labelme_df['width'] = w_list\n",
    "labelme_df['height'] = h_list"
   ]
  },
  {
   "cell_type": "code",
   "execution_count": 163,
   "id": "d9589ce2-0120-4a99-ac94-670e35df6cc0",
   "metadata": {},
   "outputs": [],
   "source": [
    "names_lab2num = {}\n",
    "for k,v in names.items():\n",
    "    names_lab2num[v[0]] = k"
   ]
  },
  {
   "cell_type": "code",
   "execution_count": 168,
   "id": "7bbd3119-5c40-4761-9ab7-56f7f066509c",
   "metadata": {},
   "outputs": [],
   "source": [
    "labelme_df.to_csv('haowei34k_voc_bboxes_relabel.csv', index=False)"
   ]
  },
  {
   "cell_type": "code",
   "execution_count": 166,
   "id": "a051ebd6-4be8-4360-b849-f3cdf5419810",
   "metadata": {},
   "outputs": [],
   "source": [
    "labelme_df['label_num'] = labelme_df['label43'].apply(lambda x:\n",
    "                                                     names_lab2num[x])"
   ]
  },
  {
   "cell_type": "code",
   "execution_count": null,
   "id": "4db4f8ae-eeb8-41c3-aed3-9be8ac29ff91",
   "metadata": {},
   "outputs": [],
   "source": []
  },
  {
   "cell_type": "code",
   "execution_count": null,
   "id": "a3d7abdf-8ef0-49cd-91f8-1754aa34bf90",
   "metadata": {},
   "outputs": [],
   "source": []
  },
  {
   "cell_type": "code",
   "execution_count": null,
   "id": "f38fb03d-5a00-439f-b48e-5caf27d7c2a5",
   "metadata": {},
   "outputs": [],
   "source": []
  }
 ],
 "metadata": {
  "kernelspec": {
   "display_name": "Python 3 (ipykernel)",
   "language": "python",
   "name": "python3"
  },
  "language_info": {
   "codemirror_mode": {
    "name": "ipython",
    "version": 3
   },
   "file_extension": ".py",
   "mimetype": "text/x-python",
   "name": "python",
   "nbconvert_exporter": "python",
   "pygments_lexer": "ipython3",
   "version": "3.8.13"
  }
 },
 "nbformat": 4,
 "nbformat_minor": 5
}
