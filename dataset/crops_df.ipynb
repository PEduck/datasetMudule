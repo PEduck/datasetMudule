{
 "cells": [
  {
   "cell_type": "code",
   "execution_count": 15,
   "id": "2bee89e5-1462-4966-951e-3ee20e527bab",
   "metadata": {},
   "outputs": [],
   "source": [
    "import pandas as pd\n",
    "import numpy as np\n",
    "from pathlib2 import Path\n",
    "from tqdm import tqdm\n",
    "from PIL import Image\n",
    "import cv2"
   ]
  },
  {
   "cell_type": "code",
   "execution_count": null,
   "id": "aa3457fb-b8ac-4e04-a409-92c1de1884fa",
   "metadata": {},
   "outputs": [],
   "source": []
  },
  {
   "cell_type": "code",
   "execution_count": null,
   "id": "09fa97b6-7c59-49dd-ac63-a07b02ad37f2",
   "metadata": {},
   "outputs": [],
   "source": []
  },
  {
   "cell_type": "code",
   "execution_count": 2,
   "id": "941e4b44-33b0-453f-8dfe-24305264d473",
   "metadata": {},
   "outputs": [],
   "source": [
    "p = Path('/home/chenyi/workspace/dataset/labels/labels6/gallery2m/csv/sample100/txt_gall7k_100sample_20220729.csv')\n",
    "df = pd.read_csv(p)"
   ]
  },
  {
   "cell_type": "code",
   "execution_count": null,
   "id": "9d4ac80b-a80d-45d5-9a36-dc6d3790762c",
   "metadata": {},
   "outputs": [],
   "source": [
    "root_target = Path('/nas/chenyi/datasets_nas/classification/benchmark/gallery7k_100sample')\n",
    "stem2cropsnum = {}\n",
    "for ind, row in tqdm(df.iterrows()):\n",
    "    img_sp = Path(row['img_sp'])\n",
    "    stem = img_sp.stem\n",
    "    label_model = row['label_model']\n",
    "    id_num = stem2cropsnum[stem]+ 1 if stem in stem2cropsnum.keys() else 0\n",
    "    stem2cropsnum[stem] = id_num\n",
    "    fname = f'{img_sp.stem}_{id_num}.jpg'\n",
    "    img_tp = root_target / str(label_model)/ fname\n",
    "    bbox = row.loc[['bx1', 'bx2', 'bx3', 'bx4']].values\n",
    "    if img_tp.is_file(): continue\n",
    "    if Path(img_tp).parent.is_dir(): img_tp.mkdir(parents=True)\n",
    "    img = cv2.imread(str(img_sp))\n",
    "    crops = img[bbox[1]:bbox[3], bbox[0]:bbox[2], :]\n",
    "    cv2.imwrite(str(img_tp), crops)\n",
    "    # break"
   ]
  },
  {
   "cell_type": "code",
   "execution_count": null,
   "id": "9b29cf4b-2be9-41b9-ab01-296a5378f510",
   "metadata": {},
   "outputs": [],
   "source": []
  }
 ],
 "metadata": {
  "kernelspec": {
   "display_name": "Python 3 (ipykernel)",
   "language": "python",
   "name": "python3"
  },
  "language_info": {
   "codemirror_mode": {
    "name": "ipython",
    "version": 3
   },
   "file_extension": ".py",
   "mimetype": "text/x-python",
   "name": "python",
   "nbconvert_exporter": "python",
   "pygments_lexer": "ipython3",
   "version": "3.8.13"
  }
 },
 "nbformat": 4,
 "nbformat_minor": 5
}
