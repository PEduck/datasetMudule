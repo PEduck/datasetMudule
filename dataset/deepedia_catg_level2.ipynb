{
 "cells": [
  {
   "cell_type": "code",
   "execution_count": 68,
   "metadata": {},
   "outputs": [],
   "source": [
    "import numpy as np\n",
    "from PIL import Image\n",
    "import matplotlib.pyplot as plt\n",
    "import pandas as pd\n",
    "import pickle\n",
    "import glob\n",
    "import re\n",
    "from pathlib import Path\n",
    "import cv2\n",
    "import os,sys"
   ]
  },
  {
   "cell_type": "code",
   "execution_count": 2,
   "metadata": {},
   "outputs": [],
   "source": [
    "from tqdm import tqdm"
   ]
  },
  {
   "cell_type": "code",
   "execution_count": null,
   "metadata": {},
   "outputs": [],
   "source": []
  },
  {
   "cell_type": "code",
   "execution_count": null,
   "metadata": {},
   "outputs": [],
   "source": []
  },
  {
   "cell_type": "code",
   "execution_count": 3,
   "metadata": {},
   "outputs": [],
   "source": [
    "def bbox_yolo2voc(bx, w, h):\n",
    "    x_c = float(bx[0])*w\n",
    "    y_c = float(bx[1])*h\n",
    "    wbbox = float(bx[2])*w\n",
    "    hbbox = float(bx[3])*h\n",
    "    x1 = int(x_c - wbbox/2)\n",
    "    y1 = int(y_c - hbbox/2)\n",
    "    x2 = int(x_c + wbbox/2)\n",
    "    y2 = int(y_c + hbbox/2)\n",
    "    bbox = [x1, y1, x2, y2]\n",
    "    return bbox"
   ]
  },
  {
   "cell_type": "code",
   "execution_count": null,
   "metadata": {},
   "outputs": [],
   "source": []
  },
  {
   "cell_type": "code",
   "execution_count": 4,
   "metadata": {},
   "outputs": [],
   "source": [
    "def bbox_voc2yolo(bx, w, h):\n",
    "    x1 = bx[0]\n",
    "    y1 = bx[1]\n",
    "    x2 = bx[2]\n",
    "    y2 = bx[3]\n",
    "    w_bbox = x2 - x1\n",
    "    h_bbox = y2 - y1\n",
    "    x_c = x1 + w_bbox/2\n",
    "    y_c = y1 + h_bbox/2\n",
    "    bbox = [x_c/w, y_c/h, w_bbox/w, h_bbox/h]\n",
    "    return bbox"
   ]
  },
  {
   "cell_type": "code",
   "execution_count": null,
   "metadata": {},
   "outputs": [],
   "source": []
  },
  {
   "cell_type": "code",
   "execution_count": 5,
   "metadata": {},
   "outputs": [],
   "source": [
    "def bbox_coco2voc(bbox):\n",
    "    bbox[2] = bbox[0] + bbox[2]\n",
    "    bbox[3] = bbox[1] + bbox[3]\n",
    "    return bbox"
   ]
  },
  {
   "cell_type": "code",
   "execution_count": null,
   "metadata": {},
   "outputs": [],
   "source": []
  },
  {
   "cell_type": "code",
   "execution_count": 6,
   "metadata": {},
   "outputs": [],
   "source": [
    "def draw_bbox(img_np, box_coco):\n",
    "    id_ = int(box_coco[0])\n",
    "    x1 = int(box_coco[1])\n",
    "    y1 = int(box_coco[2])\n",
    "    x2 = int(box_coco[3])\n",
    "    y2 = int(box_coco[4])\n",
    "    font = cv2.FONT_HERSHEY_SIMPLEX\n",
    "    cv2.rectangle(img_np,(x1, y1),(x2, y2),(0,0,255),thickness=2)\n",
    "    f = cv2.putText(img_np, text=str(id_), org=(x1 + 5, y1 + 5), fontFace=font, fontScale=1, \n",
    "        thickness=2, lineType=cv2.LINE_AA, color=(0, 255, 0))\n",
    "    return img_np"
   ]
  },
  {
   "cell_type": "code",
   "execution_count": null,
   "metadata": {},
   "outputs": [],
   "source": []
  },
  {
   "cell_type": "code",
   "execution_count": 7,
   "metadata": {},
   "outputs": [],
   "source": [
    "def bboxes2string(bboxes):\n",
    "    text = \"\"\n",
    "    for bx in bboxes:\n",
    "        text += str(int(bx[0]))\n",
    "        for item in bx[1:]:\n",
    "            text = text + ' ' + str(item)\n",
    "        text += '\\n'\n",
    "    return text\n",
    "\n",
    "def write_bboxes(p, bboxes_text):\n",
    "    with open(p, 'w') as f:\n",
    "        f.write(bboxes_text)"
   ]
  },
  {
   "cell_type": "code",
   "execution_count": null,
   "metadata": {},
   "outputs": [],
   "source": []
  },
  {
   "cell_type": "code",
   "execution_count": null,
   "metadata": {},
   "outputs": [],
   "source": []
  },
  {
   "cell_type": "code",
   "execution_count": 69,
   "metadata": {},
   "outputs": [],
   "source": [
    "names = {0: ['小西装', 'Suit_xizhuang'],\n",
    " 1: ['毛衣/绒衣/针织衫', 'Sweater/knit'],\n",
    " 2: ['女衫类', 'Blouses '],\n",
    " 3: ['皮衣', 'leather'],\n",
    " 4: ['夹克/外套', 'Jacket/coat '],\n",
    " 5: ['风衣', 'dust coat'],\n",
    " 6: ['背心', 'vest'],\n",
    " 7: ['吊带', 'harness'],\n",
    " 8: ['牛仔', 'cowboy'],\n",
    " 9: ['羽绒服', 'Down jacket'],\n",
    " 10: ['大衣', 'coat'],\n",
    " 11: ['皮草', 'fur'],\n",
    " 12: ['卫衣', 'fleece'],\n",
    " 13: ['棉衣/羊羔绒', 'Padded coat'],\n",
    " 14: ['斗篷', 'cloak'],\n",
    " 15: ['裙子', 'skirt'],\n",
    " 16: ['西装裤', 'Suit pants'],\n",
    " 17: ['牛仔裤', 'Jeans'],\n",
    " 18: ['休闲裤', 'Slacks'],\n",
    " 19: ['打底裤', 'Leggings'],\n",
    " 20: ['运动裤', 'Sweatpants'],\n",
    " 21: ['连衣裙', 'Dress'],\n",
    " 22: ['连衣裤', 'Jumpsuit'],\n",
    " 23: ['包', 'Bag'],\n",
    " 24: ['鞋', 'Shoe']\n",
    " }"
   ]
  },
  {
   "cell_type": "code",
   "execution_count": 208,
   "metadata": {},
   "outputs": [],
   "source": [
    "names_en = []\n",
    "for k,v in names.items():\n",
    "    names_en.append(v[1])"
   ]
  },
  {
   "cell_type": "code",
   "execution_count": 209,
   "metadata": {},
   "outputs": [
    {
     "data": {
      "text/plain": [
       "['Suit_xizhuang',\n",
       " 'Sweater/knit',\n",
       " 'Blouses ',\n",
       " 'leather',\n",
       " 'Jacket/coat ',\n",
       " 'dust coat',\n",
       " 'vest',\n",
       " 'harness',\n",
       " 'cowboy',\n",
       " 'Down jacket',\n",
       " 'coat',\n",
       " 'fur',\n",
       " 'fleece',\n",
       " 'Padded coat',\n",
       " 'cloak',\n",
       " 'skirt',\n",
       " 'Suit pants',\n",
       " 'Jeans',\n",
       " 'Slacks',\n",
       " 'Leggings',\n",
       " 'Sweatpants',\n",
       " 'Dress',\n",
       " 'Jumpsuit',\n",
       " 'Bag',\n",
       " 'Shoe']"
      ]
     },
     "execution_count": 209,
     "metadata": {},
     "output_type": "execute_result"
    }
   ],
   "source": [
    "names_en"
   ]
  },
  {
   "cell_type": "code",
   "execution_count": null,
   "metadata": {},
   "outputs": [],
   "source": []
  },
  {
   "cell_type": "markdown",
   "metadata": {},
   "source": [
    "### Show image."
   ]
  },
  {
   "cell_type": "code",
   "execution_count": 8,
   "metadata": {},
   "outputs": [
    {
     "data": {
      "text/plain": [
       "PosixPath('/home/chenyi/workspace/myPyModule99')"
      ]
     },
     "execution_count": 8,
     "metadata": {},
     "output_type": "execute_result"
    }
   ],
   "source": [
    "ROOT = Path.cwd()\n",
    "# ROOT = ROOT / 'deepedia/'\n",
    "ROOT"
   ]
  },
  {
   "cell_type": "code",
   "execution_count": null,
   "metadata": {},
   "outputs": [],
   "source": [
    "fname = '0000fe7c9191fba733c8a69cfaf962b7'\n",
    "imgp = ROOT / 'images/train' /fname "
   ]
  },
  {
   "cell_type": "code",
   "execution_count": null,
   "metadata": {},
   "outputs": [],
   "source": [
    "Image.open(imgp)"
   ]
  },
  {
   "cell_type": "code",
   "execution_count": null,
   "metadata": {},
   "outputs": [],
   "source": [
    "img_np = cv2.imread(str(p))\n",
    "img_np = cv2.cvtColor(img_np, cv2.COLOR_BGR2RGB)"
   ]
  },
  {
   "cell_type": "code",
   "execution_count": null,
   "metadata": {},
   "outputs": [],
   "source": [
    "for bx in bboxes:\n",
    "    bx[1:] = bbox_coco2voc(bx[1:])\n",
    "    draw_bbox(img_np, bx)"
   ]
  },
  {
   "cell_type": "code",
   "execution_count": null,
   "metadata": {},
   "outputs": [],
   "source": [
    "Image.fromarray(img_np)"
   ]
  },
  {
   "cell_type": "code",
   "execution_count": null,
   "metadata": {},
   "outputs": [],
   "source": []
  },
  {
   "cell_type": "code",
   "execution_count": null,
   "metadata": {},
   "outputs": [],
   "source": []
  },
  {
   "cell_type": "markdown",
   "metadata": {},
   "source": [
    "### Dataset infomation"
   ]
  },
  {
   "cell_type": "code",
   "execution_count": 16,
   "metadata": {},
   "outputs": [],
   "source": [
    "root = Path('/home/chenyi/workspace/dataset/deepedia_l2/')"
   ]
  },
  {
   "cell_type": "code",
   "execution_count": 25,
   "metadata": {},
   "outputs": [
    {
     "name": "stdout",
     "output_type": "stream",
     "text": [
      "\u001b[01;34m/home/chenyi/workspace/dataset/deepedia_l2\u001b[00m\n",
      "└── \u001b[01;34mlabels\u001b[00m\n",
      "    ├── \u001b[01;34mtrain\u001b[00m\n",
      "    └── \u001b[01;34mval\u001b[00m\n",
      "\n",
      "3 directories, 0 files\n"
     ]
    }
   ],
   "source": [
    "!tree -L 2 $root"
   ]
  },
  {
   "cell_type": "code",
   "execution_count": 26,
   "metadata": {},
   "outputs": [],
   "source": [
    "dpedia2_labels_dir = root /'labels/'"
   ]
  },
  {
   "cell_type": "code",
   "execution_count": 27,
   "metadata": {},
   "outputs": [],
   "source": [
    "deepedia_root = '/home/chenyi/workspace/dataset/deepedia/info/'"
   ]
  },
  {
   "cell_type": "code",
   "execution_count": 29,
   "metadata": {},
   "outputs": [
    {
     "name": "stdout",
     "output_type": "stream",
     "text": [
      "\u001b[01;34m/home/chenyi/workspace/dataset/deepedia/info/\u001b[00m\n",
      "├── cat_pedia2ours.pickle\n",
      "├── fashion2_id2name.pickle\n",
      "├── fashion2info_train_pd.pickle\n",
      "├── fashion2info_val_pd.pickle\n",
      "├── pedia2yolo_train.pickle\n",
      "├── pedia2yolo_val.pickle\n",
      "├── pedia_info_pd.pickle\n",
      "└── pedia_train_dict.pickle\n",
      "\n",
      "0 directories, 8 files\n"
     ]
    }
   ],
   "source": [
    "!tree  -L 2 $deepedia_root"
   ]
  },
  {
   "cell_type": "code",
   "execution_count": 70,
   "metadata": {},
   "outputs": [],
   "source": [
    "with open(f'{deepedia_root}/pedia2yolo_train.pickle', 'rb') as f:\n",
    "    pedia1_pd = pickle.load(f)"
   ]
  },
  {
   "cell_type": "code",
   "execution_count": 32,
   "metadata": {},
   "outputs": [
    {
     "data": {
      "text/html": [
       "<div>\n",
       "<style scoped>\n",
       "    .dataframe tbody tr th:only-of-type {\n",
       "        vertical-align: middle;\n",
       "    }\n",
       "\n",
       "    .dataframe tbody tr th {\n",
       "        vertical-align: top;\n",
       "    }\n",
       "\n",
       "    .dataframe thead th {\n",
       "        text-align: right;\n",
       "    }\n",
       "</style>\n",
       "<table border=\"1\" class=\"dataframe\">\n",
       "  <thead>\n",
       "    <tr style=\"text-align: right;\">\n",
       "      <th></th>\n",
       "      <th>img_id</th>\n",
       "      <th>bbox</th>\n",
       "      <th>width</th>\n",
       "      <th>height</th>\n",
       "      <th>file_name</th>\n",
       "      <th>train</th>\n",
       "      <th>img_path</th>\n",
       "      <th>img_target</th>\n",
       "      <th>label_target</th>\n",
       "    </tr>\n",
       "  </thead>\n",
       "  <tbody>\n",
       "    <tr>\n",
       "      <th>0</th>\n",
       "      <td>46226</td>\n",
       "      <td>[[5.0, 0.544382801664355, 0.8759765625, 0.4563...</td>\n",
       "      <td>721</td>\n",
       "      <td>1024</td>\n",
       "      <td>00000663ed1ff0c4e0132b9b9ac53f6e.jpg</td>\n",
       "      <td>train</td>\n",
       "      <td>/home/chenyi/workspace/dataset/data_fashionped...</td>\n",
       "      <td>/home/chenyi/workspace/dataset/deepedia/images...</td>\n",
       "      <td>/home/chenyi/workspace/dataset/deepedia/labels...</td>\n",
       "    </tr>\n",
       "    <tr>\n",
       "      <th>1</th>\n",
       "      <td>29130</td>\n",
       "      <td>[[4.0, 0.50927734375, 0.544921875, 0.571289062...</td>\n",
       "      <td>1024</td>\n",
       "      <td>1024</td>\n",
       "      <td>0000fe7c9191fba733c8a69cfaf962b7.jpg</td>\n",
       "      <td>train</td>\n",
       "      <td>/home/chenyi/workspace/dataset/data_fashionped...</td>\n",
       "      <td>/home/chenyi/workspace/dataset/deepedia/images...</td>\n",
       "      <td>/home/chenyi/workspace/dataset/deepedia/labels...</td>\n",
       "    </tr>\n",
       "    <tr>\n",
       "      <th>2</th>\n",
       "      <td>32175</td>\n",
       "      <td>[[7.0, 0.5058737151248165, 0.447265625, 0.2511...</td>\n",
       "      <td>681</td>\n",
       "      <td>1024</td>\n",
       "      <td>0002ec21ddb8477e98b2cbb87ea2e269.jpg</td>\n",
       "      <td>train</td>\n",
       "      <td>/home/chenyi/workspace/dataset/data_fashionped...</td>\n",
       "      <td>/home/chenyi/workspace/dataset/deepedia/images...</td>\n",
       "      <td>/home/chenyi/workspace/dataset/deepedia/labels...</td>\n",
       "    </tr>\n",
       "    <tr>\n",
       "      <th>4</th>\n",
       "      <td>38187</td>\n",
       "      <td>[[7.0, 0.623900293255132, 0.60009765625, 0.543...</td>\n",
       "      <td>682</td>\n",
       "      <td>1024</td>\n",
       "      <td>0004467156e47b0eb6de4aa6479cbd15.jpg</td>\n",
       "      <td>train</td>\n",
       "      <td>/home/chenyi/workspace/dataset/data_fashionped...</td>\n",
       "      <td>/home/chenyi/workspace/dataset/deepedia/images...</td>\n",
       "      <td>/home/chenyi/workspace/dataset/deepedia/labels...</td>\n",
       "    </tr>\n",
       "    <tr>\n",
       "      <th>7</th>\n",
       "      <td>2501</td>\n",
       "      <td>[[4.0, 0.5725806451612904, 0.6533203125, 0.784...</td>\n",
       "      <td>682</td>\n",
       "      <td>1024</td>\n",
       "      <td>000775b6b5e27b011dc8bba2d7b85211.jpg</td>\n",
       "      <td>train</td>\n",
       "      <td>/home/chenyi/workspace/dataset/data_fashionped...</td>\n",
       "      <td>/home/chenyi/workspace/dataset/deepedia/images...</td>\n",
       "      <td>/home/chenyi/workspace/dataset/deepedia/labels...</td>\n",
       "    </tr>\n",
       "  </tbody>\n",
       "</table>\n",
       "</div>"
      ],
      "text/plain": [
       "   img_id                                               bbox  width  height  \\\n",
       "0   46226  [[5.0, 0.544382801664355, 0.8759765625, 0.4563...    721    1024   \n",
       "1   29130  [[4.0, 0.50927734375, 0.544921875, 0.571289062...   1024    1024   \n",
       "2   32175  [[7.0, 0.5058737151248165, 0.447265625, 0.2511...    681    1024   \n",
       "4   38187  [[7.0, 0.623900293255132, 0.60009765625, 0.543...    682    1024   \n",
       "7    2501  [[4.0, 0.5725806451612904, 0.6533203125, 0.784...    682    1024   \n",
       "\n",
       "                              file_name  train  \\\n",
       "0  00000663ed1ff0c4e0132b9b9ac53f6e.jpg  train   \n",
       "1  0000fe7c9191fba733c8a69cfaf962b7.jpg  train   \n",
       "2  0002ec21ddb8477e98b2cbb87ea2e269.jpg  train   \n",
       "4  0004467156e47b0eb6de4aa6479cbd15.jpg  train   \n",
       "7  000775b6b5e27b011dc8bba2d7b85211.jpg  train   \n",
       "\n",
       "                                            img_path  \\\n",
       "0  /home/chenyi/workspace/dataset/data_fashionped...   \n",
       "1  /home/chenyi/workspace/dataset/data_fashionped...   \n",
       "2  /home/chenyi/workspace/dataset/data_fashionped...   \n",
       "4  /home/chenyi/workspace/dataset/data_fashionped...   \n",
       "7  /home/chenyi/workspace/dataset/data_fashionped...   \n",
       "\n",
       "                                          img_target  \\\n",
       "0  /home/chenyi/workspace/dataset/deepedia/images...   \n",
       "1  /home/chenyi/workspace/dataset/deepedia/images...   \n",
       "2  /home/chenyi/workspace/dataset/deepedia/images...   \n",
       "4  /home/chenyi/workspace/dataset/deepedia/images...   \n",
       "7  /home/chenyi/workspace/dataset/deepedia/images...   \n",
       "\n",
       "                                        label_target  \n",
       "0  /home/chenyi/workspace/dataset/deepedia/labels...  \n",
       "1  /home/chenyi/workspace/dataset/deepedia/labels...  \n",
       "2  /home/chenyi/workspace/dataset/deepedia/labels...  \n",
       "4  /home/chenyi/workspace/dataset/deepedia/labels...  \n",
       "7  /home/chenyi/workspace/dataset/deepedia/labels...  "
      ]
     },
     "execution_count": 32,
     "metadata": {},
     "output_type": "execute_result"
    }
   ],
   "source": [
    "pedia1_pd.head()"
   ]
  },
  {
   "cell_type": "code",
   "execution_count": null,
   "metadata": {},
   "outputs": [],
   "source": []
  },
  {
   "cell_type": "code",
   "execution_count": 71,
   "metadata": {},
   "outputs": [],
   "source": [
    "dpedia_catg23 =pd.read_csv('/nas/chenyi/dataset_apparel_nas/openfashion/deepedia_catg23.csv')"
   ]
  },
  {
   "cell_type": "code",
   "execution_count": 83,
   "metadata": {},
   "outputs": [
    {
     "data": {
      "text/plain": [
       "array(['nas/lichangjian/open_fashion/Fashionpedia/train/fffc631acce2e28e1628de685d40c980.jpg',\n",
       "       'nas/lichangjian/open_fashion/Fashionpedia/train/fffc631acce2e28e1628de685d40c980.jpg',\n",
       "       'nas/lichangjian/open_fashion/Fashionpedia/train/fffe20b555b98c3c1f26c8dfff275cbc.jpg',\n",
       "       'nas/lichangjian/open_fashion/Fashionpedia/train/fffe20b555b98c3c1f26c8dfff275cbc.jpg',\n",
       "       'nas/lichangjian/open_fashion/Fashionpedia/train/ffffbf7014a9e408bfbb81a75bc70638.jpg'],\n",
       "      dtype=object)"
      ]
     },
     "execution_count": 83,
     "metadata": {},
     "output_type": "execute_result"
    }
   ],
   "source": [
    "dpedia_catg23['fname'][-5:].values"
   ]
  },
  {
   "cell_type": "code",
   "execution_count": null,
   "metadata": {},
   "outputs": [
    {
     "data": {
      "text/plain": [
       "['this is first label</a>/<a>the second label</a>']"
      ]
     },
     "execution_count": 131,
     "metadata": {},
     "output_type": "execute_result"
    }
   ],
   "source": [
    "re.findall(r'/(.*).jpg', str)"
   ]
  },
  {
   "cell_type": "code",
   "execution_count": 192,
   "metadata": {},
   "outputs": [],
   "source": [
    "dpedia_catg23['fname'] = dpedia_catg23['path'].apply(lambda x: re.findall(r'/nas/.*/(.*?).jpg', x)[0])"
   ]
  },
  {
   "cell_type": "code",
   "execution_count": 197,
   "metadata": {},
   "outputs": [
    {
     "data": {
      "text/html": [
       "<div>\n",
       "<style scoped>\n",
       "    .dataframe tbody tr th:only-of-type {\n",
       "        vertical-align: middle;\n",
       "    }\n",
       "\n",
       "    .dataframe tbody tr th {\n",
       "        vertical-align: top;\n",
       "    }\n",
       "\n",
       "    .dataframe thead th {\n",
       "        text-align: right;\n",
       "    }\n",
       "</style>\n",
       "<table border=\"1\" class=\"dataframe\">\n",
       "  <thead>\n",
       "    <tr style=\"text-align: right;\">\n",
       "      <th></th>\n",
       "      <th>source</th>\n",
       "      <th>path</th>\n",
       "      <th>label</th>\n",
       "      <th>label_1</th>\n",
       "      <th>一级分类</th>\n",
       "      <th>label_2</th>\n",
       "      <th>二级分类</th>\n",
       "      <th>x_1</th>\n",
       "      <th>y_1</th>\n",
       "      <th>x_2</th>\n",
       "      <th>y_2</th>\n",
       "      <th>len</th>\n",
       "      <th>mode</th>\n",
       "      <th>fname</th>\n",
       "    </tr>\n",
       "  </thead>\n",
       "  <tbody>\n",
       "    <tr>\n",
       "      <th>0</th>\n",
       "      <td>DeepFashion2</td>\n",
       "      <td>/nas/lichangjian/open_fashion/DeepFashion2/tra...</td>\n",
       "      <td>long sleeve dress</td>\n",
       "      <td>7</td>\n",
       "      <td>连体装</td>\n",
       "      <td>21</td>\n",
       "      <td>连衣裙</td>\n",
       "      <td>1.0</td>\n",
       "      <td>52.0</td>\n",
       "      <td>467.0</td>\n",
       "      <td>831.0</td>\n",
       "      <td>1</td>\n",
       "      <td>train</td>\n",
       "      <td>000003</td>\n",
       "    </tr>\n",
       "    <tr>\n",
       "      <th>1</th>\n",
       "      <td>DeepFashion2</td>\n",
       "      <td>/nas/lichangjian/open_fashion/DeepFashion2/tra...</td>\n",
       "      <td>long sleeve dress</td>\n",
       "      <td>7</td>\n",
       "      <td>连体装</td>\n",
       "      <td>21</td>\n",
       "      <td>连衣裙</td>\n",
       "      <td>0.0</td>\n",
       "      <td>113.0</td>\n",
       "      <td>467.0</td>\n",
       "      <td>623.0</td>\n",
       "      <td>1</td>\n",
       "      <td>train</td>\n",
       "      <td>000004</td>\n",
       "    </tr>\n",
       "    <tr>\n",
       "      <th>2</th>\n",
       "      <td>DeepFashion2</td>\n",
       "      <td>/nas/lichangjian/open_fashion/DeepFashion2/tra...</td>\n",
       "      <td>long sleeve dress</td>\n",
       "      <td>7</td>\n",
       "      <td>连体装</td>\n",
       "      <td>21</td>\n",
       "      <td>连衣裙</td>\n",
       "      <td>1.0</td>\n",
       "      <td>98.0</td>\n",
       "      <td>467.0</td>\n",
       "      <td>814.0</td>\n",
       "      <td>1</td>\n",
       "      <td>train</td>\n",
       "      <td>000005</td>\n",
       "    </tr>\n",
       "    <tr>\n",
       "      <th>3</th>\n",
       "      <td>DeepFashion2</td>\n",
       "      <td>/nas/lichangjian/open_fashion/DeepFashion2/tra...</td>\n",
       "      <td>long sleeve dress</td>\n",
       "      <td>7</td>\n",
       "      <td>连体装</td>\n",
       "      <td>21</td>\n",
       "      <td>连衣裙</td>\n",
       "      <td>0.0</td>\n",
       "      <td>324.0</td>\n",
       "      <td>466.0</td>\n",
       "      <td>831.0</td>\n",
       "      <td>1</td>\n",
       "      <td>train</td>\n",
       "      <td>000006</td>\n",
       "    </tr>\n",
       "    <tr>\n",
       "      <th>4</th>\n",
       "      <td>DeepFashion2</td>\n",
       "      <td>/nas/lichangjian/open_fashion/DeepFashion2/tra...</td>\n",
       "      <td>long sleeve dress</td>\n",
       "      <td>7</td>\n",
       "      <td>连体装</td>\n",
       "      <td>21</td>\n",
       "      <td>连衣裙</td>\n",
       "      <td>23.0</td>\n",
       "      <td>106.0</td>\n",
       "      <td>430.0</td>\n",
       "      <td>696.0</td>\n",
       "      <td>1</td>\n",
       "      <td>train</td>\n",
       "      <td>000007</td>\n",
       "    </tr>\n",
       "  </tbody>\n",
       "</table>\n",
       "</div>"
      ],
      "text/plain": [
       "         source                                               path  \\\n",
       "0  DeepFashion2  /nas/lichangjian/open_fashion/DeepFashion2/tra...   \n",
       "1  DeepFashion2  /nas/lichangjian/open_fashion/DeepFashion2/tra...   \n",
       "2  DeepFashion2  /nas/lichangjian/open_fashion/DeepFashion2/tra...   \n",
       "3  DeepFashion2  /nas/lichangjian/open_fashion/DeepFashion2/tra...   \n",
       "4  DeepFashion2  /nas/lichangjian/open_fashion/DeepFashion2/tra...   \n",
       "\n",
       "               label  label_1 一级分类  label_2 二级分类   x_1    y_1    x_2    y_2  \\\n",
       "0  long sleeve dress        7  连体装       21  连衣裙   1.0   52.0  467.0  831.0   \n",
       "1  long sleeve dress        7  连体装       21  连衣裙   0.0  113.0  467.0  623.0   \n",
       "2  long sleeve dress        7  连体装       21  连衣裙   1.0   98.0  467.0  814.0   \n",
       "3  long sleeve dress        7  连体装       21  连衣裙   0.0  324.0  466.0  831.0   \n",
       "4  long sleeve dress        7  连体装       21  连衣裙  23.0  106.0  430.0  696.0   \n",
       "\n",
       "   len   mode   fname  \n",
       "0    1  train  000003  \n",
       "1    1  train  000004  \n",
       "2    1  train  000005  \n",
       "3    1  train  000006  \n",
       "4    1  train  000007  "
      ]
     },
     "execution_count": 197,
     "metadata": {},
     "output_type": "execute_result"
    }
   ],
   "source": [
    "dpedia_catg23.head()"
   ]
  },
  {
   "cell_type": "code",
   "execution_count": null,
   "metadata": {},
   "outputs": [],
   "source": []
  },
  {
   "cell_type": "code",
   "execution_count": null,
   "metadata": {},
   "outputs": [],
   "source": []
  },
  {
   "cell_type": "code",
   "execution_count": 199,
   "metadata": {},
   "outputs": [],
   "source": [
    "x = dpedia_catg23[dpedia_catg23['len']==1]"
   ]
  },
  {
   "cell_type": "code",
   "execution_count": 200,
   "metadata": {},
   "outputs": [
    {
     "data": {
      "text/plain": [
       "137589"
      ]
     },
     "execution_count": 200,
     "metadata": {},
     "output_type": "execute_result"
    }
   ],
   "source": [
    "len(x)"
   ]
  },
  {
   "cell_type": "code",
   "execution_count": 185,
   "metadata": {},
   "outputs": [],
   "source": [
    "pedia_lcj = dpedia_catg23[dpedia_catg23['source']=='Fashionpedia']"
   ]
  },
  {
   "cell_type": "code",
   "execution_count": 188,
   "metadata": {},
   "outputs": [],
   "source": [
    "imgs_list = glob.glob('/home/chenyi/workspace/dataset/deepedia/images/*/*.jpg')"
   ]
  },
  {
   "cell_type": "code",
   "execution_count": 189,
   "metadata": {},
   "outputs": [
    {
     "data": {
      "text/plain": [
       "269664"
      ]
     },
     "execution_count": 189,
     "metadata": {},
     "output_type": "execute_result"
    }
   ],
   "source": [
    "len(imgs_list)"
   ]
  },
  {
   "cell_type": "code",
   "execution_count": null,
   "metadata": {},
   "outputs": [],
   "source": []
  },
  {
   "cell_type": "code",
   "execution_count": 190,
   "metadata": {},
   "outputs": [],
   "source": [
    "pedia_cy = pd.DataFrame()"
   ]
  },
  {
   "cell_type": "code",
   "execution_count": 191,
   "metadata": {},
   "outputs": [],
   "source": [
    "pedia_cy['img_sp'] = imgs_list"
   ]
  },
  {
   "cell_type": "code",
   "execution_count": 196,
   "metadata": {},
   "outputs": [
    {
     "data": {
      "text/html": [
       "<div>\n",
       "<style scoped>\n",
       "    .dataframe tbody tr th:only-of-type {\n",
       "        vertical-align: middle;\n",
       "    }\n",
       "\n",
       "    .dataframe tbody tr th {\n",
       "        vertical-align: top;\n",
       "    }\n",
       "\n",
       "    .dataframe thead th {\n",
       "        text-align: right;\n",
       "    }\n",
       "</style>\n",
       "<table border=\"1\" class=\"dataframe\">\n",
       "  <thead>\n",
       "    <tr style=\"text-align: right;\">\n",
       "      <th></th>\n",
       "      <th>img_sp</th>\n",
       "      <th>fname</th>\n",
       "    </tr>\n",
       "  </thead>\n",
       "  <tbody>\n",
       "    <tr>\n",
       "      <th>0</th>\n",
       "      <td>/home/chenyi/workspace/dataset/deepedia/images...</td>\n",
       "      <td>148589</td>\n",
       "    </tr>\n",
       "    <tr>\n",
       "      <th>1</th>\n",
       "      <td>/home/chenyi/workspace/dataset/deepedia/images...</td>\n",
       "      <td>102679</td>\n",
       "    </tr>\n",
       "    <tr>\n",
       "      <th>2</th>\n",
       "      <td>/home/chenyi/workspace/dataset/deepedia/images...</td>\n",
       "      <td>106021</td>\n",
       "    </tr>\n",
       "    <tr>\n",
       "      <th>3</th>\n",
       "      <td>/home/chenyi/workspace/dataset/deepedia/images...</td>\n",
       "      <td>131280</td>\n",
       "    </tr>\n",
       "    <tr>\n",
       "      <th>4</th>\n",
       "      <td>/home/chenyi/workspace/dataset/deepedia/images...</td>\n",
       "      <td>cbcc6cb04821176839d1e90a6f8f89b5</td>\n",
       "    </tr>\n",
       "  </tbody>\n",
       "</table>\n",
       "</div>"
      ],
      "text/plain": [
       "                                              img_sp  \\\n",
       "0  /home/chenyi/workspace/dataset/deepedia/images...   \n",
       "1  /home/chenyi/workspace/dataset/deepedia/images...   \n",
       "2  /home/chenyi/workspace/dataset/deepedia/images...   \n",
       "3  /home/chenyi/workspace/dataset/deepedia/images...   \n",
       "4  /home/chenyi/workspace/dataset/deepedia/images...   \n",
       "\n",
       "                              fname  \n",
       "0                            148589  \n",
       "1                            102679  \n",
       "2                            106021  \n",
       "3                            131280  \n",
       "4  cbcc6cb04821176839d1e90a6f8f89b5  "
      ]
     },
     "execution_count": 196,
     "metadata": {},
     "output_type": "execute_result"
    }
   ],
   "source": [
    "pedia_cy.head()"
   ]
  },
  {
   "cell_type": "code",
   "execution_count": 195,
   "metadata": {},
   "outputs": [],
   "source": [
    "pedia_cy['fname'] =  pedia_cy['img_sp'].apply(lambda x: re.findall(r'/.*/(.*?).jpg', x)[0])"
   ]
  },
  {
   "cell_type": "code",
   "execution_count": null,
   "metadata": {},
   "outputs": [],
   "source": []
  },
  {
   "cell_type": "code",
   "execution_count": null,
   "metadata": {},
   "outputs": [],
   "source": []
  },
  {
   "cell_type": "code",
   "execution_count": null,
   "metadata": {},
   "outputs": [],
   "source": []
  },
  {
   "cell_type": "code",
   "execution_count": null,
   "metadata": {},
   "outputs": [],
   "source": []
  },
  {
   "cell_type": "code",
   "execution_count": null,
   "metadata": {},
   "outputs": [],
   "source": []
  },
  {
   "cell_type": "markdown",
   "metadata": {},
   "source": [
    "### fashion2 label."
   ]
  },
  {
   "cell_type": "code",
   "execution_count": 45,
   "metadata": {},
   "outputs": [],
   "source": [
    "of_df =pd.read_csv('/nas/chenyi/dataset_apparel_nas/openfashion/openfashion_info.csv')"
   ]
  },
  {
   "cell_type": "code",
   "execution_count": null,
   "metadata": {},
   "outputs": [],
   "source": []
  },
  {
   "cell_type": "code",
   "execution_count": 66,
   "metadata": {},
   "outputs": [],
   "source": [
    "# import os\n",
    "# src = of_df.loc[345844]['path']\n",
    "# dst = '1.jpg'\n",
    "# os.symlink(src, dst)\n",
    "# os.unlink(dst)"
   ]
  },
  {
   "cell_type": "code",
   "execution_count": 67,
   "metadata": {},
   "outputs": [],
   "source": []
  },
  {
   "cell_type": "code",
   "execution_count": null,
   "metadata": {},
   "outputs": [],
   "source": []
  },
  {
   "cell_type": "code",
   "execution_count": 41,
   "metadata": {},
   "outputs": [],
   "source": []
  },
  {
   "cell_type": "code",
   "execution_count": 43,
   "metadata": {},
   "outputs": [
    {
     "data": {
      "text/html": [
       "<div>\n",
       "<style scoped>\n",
       "    .dataframe tbody tr th:only-of-type {\n",
       "        vertical-align: middle;\n",
       "    }\n",
       "\n",
       "    .dataframe tbody tr th {\n",
       "        vertical-align: top;\n",
       "    }\n",
       "\n",
       "    .dataframe thead th {\n",
       "        text-align: right;\n",
       "    }\n",
       "</style>\n",
       "<table border=\"1\" class=\"dataframe\">\n",
       "  <thead>\n",
       "    <tr style=\"text-align: right;\">\n",
       "      <th></th>\n",
       "      <th>source</th>\n",
       "      <th>path</th>\n",
       "      <th>label</th>\n",
       "      <th>label_1</th>\n",
       "      <th>一级分类</th>\n",
       "      <th>label_2</th>\n",
       "      <th>二级分类</th>\n",
       "      <th>x_1</th>\n",
       "      <th>y_1</th>\n",
       "      <th>x_2</th>\n",
       "      <th>y_2</th>\n",
       "      <th>len</th>\n",
       "      <th>mode</th>\n",
       "    </tr>\n",
       "  </thead>\n",
       "  <tbody>\n",
       "    <tr>\n",
       "      <th>0</th>\n",
       "      <td>DeepFashion2</td>\n",
       "      <td>/nas/lichangjian/open_fashion/DeepFashion2/tra...</td>\n",
       "      <td>long sleeve dress</td>\n",
       "      <td>7</td>\n",
       "      <td>连体装</td>\n",
       "      <td>21</td>\n",
       "      <td>连衣裙</td>\n",
       "      <td>1.0</td>\n",
       "      <td>52.0</td>\n",
       "      <td>467.0</td>\n",
       "      <td>831.0</td>\n",
       "      <td>1</td>\n",
       "      <td>train</td>\n",
       "    </tr>\n",
       "    <tr>\n",
       "      <th>1</th>\n",
       "      <td>DeepFashion2</td>\n",
       "      <td>/nas/lichangjian/open_fashion/DeepFashion2/tra...</td>\n",
       "      <td>long sleeve dress</td>\n",
       "      <td>7</td>\n",
       "      <td>连体装</td>\n",
       "      <td>21</td>\n",
       "      <td>连衣裙</td>\n",
       "      <td>0.0</td>\n",
       "      <td>113.0</td>\n",
       "      <td>467.0</td>\n",
       "      <td>623.0</td>\n",
       "      <td>1</td>\n",
       "      <td>train</td>\n",
       "    </tr>\n",
       "    <tr>\n",
       "      <th>2</th>\n",
       "      <td>DeepFashion2</td>\n",
       "      <td>/nas/lichangjian/open_fashion/DeepFashion2/tra...</td>\n",
       "      <td>long sleeve dress</td>\n",
       "      <td>7</td>\n",
       "      <td>连体装</td>\n",
       "      <td>21</td>\n",
       "      <td>连衣裙</td>\n",
       "      <td>1.0</td>\n",
       "      <td>98.0</td>\n",
       "      <td>467.0</td>\n",
       "      <td>814.0</td>\n",
       "      <td>1</td>\n",
       "      <td>train</td>\n",
       "    </tr>\n",
       "    <tr>\n",
       "      <th>3</th>\n",
       "      <td>DeepFashion2</td>\n",
       "      <td>/nas/lichangjian/open_fashion/DeepFashion2/tra...</td>\n",
       "      <td>long sleeve dress</td>\n",
       "      <td>7</td>\n",
       "      <td>连体装</td>\n",
       "      <td>21</td>\n",
       "      <td>连衣裙</td>\n",
       "      <td>0.0</td>\n",
       "      <td>324.0</td>\n",
       "      <td>466.0</td>\n",
       "      <td>831.0</td>\n",
       "      <td>1</td>\n",
       "      <td>train</td>\n",
       "    </tr>\n",
       "    <tr>\n",
       "      <th>4</th>\n",
       "      <td>DeepFashion2</td>\n",
       "      <td>/nas/lichangjian/open_fashion/DeepFashion2/tra...</td>\n",
       "      <td>long sleeve dress</td>\n",
       "      <td>7</td>\n",
       "      <td>连体装</td>\n",
       "      <td>21</td>\n",
       "      <td>连衣裙</td>\n",
       "      <td>23.0</td>\n",
       "      <td>106.0</td>\n",
       "      <td>430.0</td>\n",
       "      <td>696.0</td>\n",
       "      <td>1</td>\n",
       "      <td>train</td>\n",
       "    </tr>\n",
       "  </tbody>\n",
       "</table>\n",
       "</div>"
      ],
      "text/plain": [
       "         source                                               path  \\\n",
       "0  DeepFashion2  /nas/lichangjian/open_fashion/DeepFashion2/tra...   \n",
       "1  DeepFashion2  /nas/lichangjian/open_fashion/DeepFashion2/tra...   \n",
       "2  DeepFashion2  /nas/lichangjian/open_fashion/DeepFashion2/tra...   \n",
       "3  DeepFashion2  /nas/lichangjian/open_fashion/DeepFashion2/tra...   \n",
       "4  DeepFashion2  /nas/lichangjian/open_fashion/DeepFashion2/tra...   \n",
       "\n",
       "               label  label_1 一级分类  label_2 二级分类   x_1    y_1    x_2    y_2  \\\n",
       "0  long sleeve dress        7  连体装       21  连衣裙   1.0   52.0  467.0  831.0   \n",
       "1  long sleeve dress        7  连体装       21  连衣裙   0.0  113.0  467.0  623.0   \n",
       "2  long sleeve dress        7  连体装       21  连衣裙   1.0   98.0  467.0  814.0   \n",
       "3  long sleeve dress        7  连体装       21  连衣裙   0.0  324.0  466.0  831.0   \n",
       "4  long sleeve dress        7  连体装       21  连衣裙  23.0  106.0  430.0  696.0   \n",
       "\n",
       "   len   mode  \n",
       "0    1  train  \n",
       "1    1  train  \n",
       "2    1  train  \n",
       "3    1  train  \n",
       "4    1  train  "
      ]
     },
     "execution_count": 43,
     "metadata": {},
     "output_type": "execute_result"
    }
   ],
   "source": [
    "dpedia_catg23.head()"
   ]
  },
  {
   "cell_type": "code",
   "execution_count": null,
   "metadata": {},
   "outputs": [],
   "source": [
    "dpedia_catg23[dpedia_catg23['']]"
   ]
  },
  {
   "cell_type": "code",
   "execution_count": null,
   "metadata": {},
   "outputs": [],
   "source": []
  },
  {
   "cell_type": "code",
   "execution_count": 18,
   "metadata": {},
   "outputs": [
    {
     "name": "stdout",
     "output_type": "stream",
     "text": [
      "\u001b[01;34m/home/chenyi/workspace/dataset/deepedia/info\u001b[00m\n",
      "├── cat_pedia2ours.pickle\n",
      "├── fashion2info_train_pd.pickle\n",
      "├── fashion2info_val_pd.pickle\n",
      "├── id2name.pickle\n",
      "├── pedia2yolo_train.pickle\n",
      "├── pedia2yolo_val.pickle\n",
      "├── pedia_info_pd.pickle\n",
      "└── pedia_train_dict.pickle\n",
      "\n",
      "0 directories, 8 files\n"
     ]
    }
   ],
   "source": [
    "!tree -L 1 $info_root"
   ]
  },
  {
   "cell_type": "code",
   "execution_count": 6,
   "metadata": {},
   "outputs": [],
   "source": [
    "fashion2_ours = \\\n",
    "            {0: 4, 1: 4,  2:4, 3:4, 4:4, 5:4,  6:5,  7:5,  8:6,  9:7, 10:7,  11:7,  12:7}"
   ]
  },
  {
   "cell_type": "code",
   "execution_count": 166,
   "metadata": {},
   "outputs": [],
   "source": [
    "with open(f'{root}/info/fashion2info_val_pd.pickle', 'rb') as f:\n",
    "    data_pd = pickle.load(f)"
   ]
  },
  {
   "cell_type": "code",
   "execution_count": 167,
   "metadata": {},
   "outputs": [
    {
     "data": {
      "text/html": [
       "<div>\n",
       "<style scoped>\n",
       "    .dataframe tbody tr th:only-of-type {\n",
       "        vertical-align: middle;\n",
       "    }\n",
       "\n",
       "    .dataframe tbody tr th {\n",
       "        vertical-align: top;\n",
       "    }\n",
       "\n",
       "    .dataframe thead th {\n",
       "        text-align: right;\n",
       "    }\n",
       "</style>\n",
       "<table border=\"1\" class=\"dataframe\">\n",
       "  <thead>\n",
       "    <tr style=\"text-align: right;\">\n",
       "      <th></th>\n",
       "      <th>path</th>\n",
       "      <th>id</th>\n",
       "      <th>bbox</th>\n",
       "      <th>label_path</th>\n",
       "      <th>img_path</th>\n",
       "    </tr>\n",
       "  </thead>\n",
       "  <tbody>\n",
       "    <tr>\n",
       "      <th>0</th>\n",
       "      <td>/Users/chenyi/Desktop/code/dataset/deepfashion...</td>\n",
       "      <td>019065</td>\n",
       "      <td>[[7.0, 0.6474359, 0.7685185, 0.6581197, 0.4601...</td>\n",
       "      <td>/home/chenyi/workspace/dataset/deepedia/labels...</td>\n",
       "      <td>/home/chenyi/workspace/dataset/deepedia/images...</td>\n",
       "    </tr>\n",
       "    <tr>\n",
       "      <th>1</th>\n",
       "      <td>/Users/chenyi/Desktop/code/dataset/deepfashion...</td>\n",
       "      <td>016356</td>\n",
       "      <td>[[11.0, 0.54, 0.5800395, 0.176, 0.4486166]]</td>\n",
       "      <td>/home/chenyi/workspace/dataset/deepedia/labels...</td>\n",
       "      <td>/home/chenyi/workspace/dataset/deepedia/images...</td>\n",
       "    </tr>\n",
       "    <tr>\n",
       "      <th>2</th>\n",
       "      <td>/Users/chenyi/Desktop/code/dataset/deepfashion...</td>\n",
       "      <td>011439</td>\n",
       "      <td>[[0.0, 0.52136755, 0.6448664, 0.8333333, 0.687...</td>\n",
       "      <td>/home/chenyi/workspace/dataset/deepedia/labels...</td>\n",
       "      <td>/home/chenyi/workspace/dataset/deepedia/images...</td>\n",
       "    </tr>\n",
       "    <tr>\n",
       "      <th>3</th>\n",
       "      <td>/Users/chenyi/Desktop/code/dataset/deepfashion...</td>\n",
       "      <td>009276</td>\n",
       "      <td>[[10.0, 0.49786323, 0.5608974, 0.99572647, 0.7...</td>\n",
       "      <td>/home/chenyi/workspace/dataset/deepedia/labels...</td>\n",
       "      <td>/home/chenyi/workspace/dataset/deepedia/images...</td>\n",
       "    </tr>\n",
       "    <tr>\n",
       "      <th>4</th>\n",
       "      <td>/Users/chenyi/Desktop/code/dataset/deepfashion...</td>\n",
       "      <td>026295</td>\n",
       "      <td>[[8.0, 0.5117521, 0.47079772, 0.9465812, 0.551...</td>\n",
       "      <td>/home/chenyi/workspace/dataset/deepedia/labels...</td>\n",
       "      <td>/home/chenyi/workspace/dataset/deepedia/images...</td>\n",
       "    </tr>\n",
       "  </tbody>\n",
       "</table>\n",
       "</div>"
      ],
      "text/plain": [
       "                                                path      id  \\\n",
       "0  /Users/chenyi/Desktop/code/dataset/deepfashion...  019065   \n",
       "1  /Users/chenyi/Desktop/code/dataset/deepfashion...  016356   \n",
       "2  /Users/chenyi/Desktop/code/dataset/deepfashion...  011439   \n",
       "3  /Users/chenyi/Desktop/code/dataset/deepfashion...  009276   \n",
       "4  /Users/chenyi/Desktop/code/dataset/deepfashion...  026295   \n",
       "\n",
       "                                                bbox  \\\n",
       "0  [[7.0, 0.6474359, 0.7685185, 0.6581197, 0.4601...   \n",
       "1        [[11.0, 0.54, 0.5800395, 0.176, 0.4486166]]   \n",
       "2  [[0.0, 0.52136755, 0.6448664, 0.8333333, 0.687...   \n",
       "3  [[10.0, 0.49786323, 0.5608974, 0.99572647, 0.7...   \n",
       "4  [[8.0, 0.5117521, 0.47079772, 0.9465812, 0.551...   \n",
       "\n",
       "                                          label_path  \\\n",
       "0  /home/chenyi/workspace/dataset/deepedia/labels...   \n",
       "1  /home/chenyi/workspace/dataset/deepedia/labels...   \n",
       "2  /home/chenyi/workspace/dataset/deepedia/labels...   \n",
       "3  /home/chenyi/workspace/dataset/deepedia/labels...   \n",
       "4  /home/chenyi/workspace/dataset/deepedia/labels...   \n",
       "\n",
       "                                            img_path  \n",
       "0  /home/chenyi/workspace/dataset/deepedia/images...  \n",
       "1  /home/chenyi/workspace/dataset/deepedia/images...  \n",
       "2  /home/chenyi/workspace/dataset/deepedia/images...  \n",
       "3  /home/chenyi/workspace/dataset/deepedia/images...  \n",
       "4  /home/chenyi/workspace/dataset/deepedia/images...  "
      ]
     },
     "execution_count": 167,
     "metadata": {},
     "output_type": "execute_result"
    }
   ],
   "source": [
    "data_pd.head()"
   ]
  },
  {
   "cell_type": "code",
   "execution_count": 168,
   "metadata": {},
   "outputs": [],
   "source": [
    "fashion2info_pd = data_pd"
   ]
  },
  {
   "cell_type": "code",
   "execution_count": 169,
   "metadata": {
    "tags": []
   },
   "outputs": [
    {
     "name": "stderr",
     "output_type": "stream",
     "text": [
      "32153it [00:01, 31652.25it/s]\n"
     ]
    }
   ],
   "source": [
    "# %%time\n",
    "# maping to model catgory id.\n",
    "bboxes_newlist = []\n",
    "for ind,row in tqdm(fashion2info_pd.iterrows()):\n",
    "    bboxes = row['bbox']\n",
    "    bboxes_list = []\n",
    "    for bx in bboxes:\n",
    "        id_ = int(bx[0])\n",
    "        id_new = fashion2_ours[id_]\n",
    "        bx[0] = int(id_new)\n",
    "        bboxes_list.append(bx)\n",
    "    bboxes_newlist.append(bboxes_list)"
   ]
  },
  {
   "cell_type": "code",
   "execution_count": 170,
   "metadata": {},
   "outputs": [],
   "source": [
    "data_pd['bbox'] = bboxes_newlist"
   ]
  },
  {
   "cell_type": "code",
   "execution_count": null,
   "metadata": {},
   "outputs": [],
   "source": []
  },
  {
   "cell_type": "code",
   "execution_count": null,
   "metadata": {},
   "outputs": [],
   "source": []
  },
  {
   "cell_type": "code",
   "execution_count": 171,
   "metadata": {},
   "outputs": [
    {
     "data": {
      "text/plain": [
       "array(['/home/chenyi/workspace/dataset/deepedia/labels/val/019065.txt',\n",
       "       '/home/chenyi/workspace/dataset/deepedia/labels/val/016356.txt'],\n",
       "      dtype=object)"
      ]
     },
     "execution_count": 171,
     "metadata": {},
     "output_type": "execute_result"
    }
   ],
   "source": [
    "data_pd['label_path'][:2].values"
   ]
  },
  {
   "cell_type": "code",
   "execution_count": 172,
   "metadata": {},
   "outputs": [],
   "source": [
    "# data_pd['label_path'] =  data_pd['label_path'].apply(lambda x: x.replace('/labels/', '/labels_catg6/'))"
   ]
  },
  {
   "cell_type": "code",
   "execution_count": null,
   "metadata": {},
   "outputs": [],
   "source": []
  },
  {
   "cell_type": "code",
   "execution_count": 173,
   "metadata": {},
   "outputs": [
    {
     "name": "stderr",
     "output_type": "stream",
     "text": [
      "32153it [00:02, 11019.23it/s]\n"
     ]
    }
   ],
   "source": [
    "for ind,row in tqdm(fashion2info_pd.iterrows()):\n",
    "    bboxes = row['bbox']\n",
    "    label_p = row['label_path']\n",
    "    text = bboxes2string(bboxes)\n",
    "    write_bboxes(label_p, text)\n",
    "    # break"
   ]
  },
  {
   "cell_type": "code",
   "execution_count": null,
   "metadata": {},
   "outputs": [],
   "source": []
  },
  {
   "cell_type": "code",
   "execution_count": null,
   "metadata": {},
   "outputs": [],
   "source": []
  },
  {
   "cell_type": "markdown",
   "metadata": {},
   "source": [
    "### pedia的label问题"
   ]
  },
  {
   "cell_type": "code",
   "execution_count": null,
   "metadata": {},
   "outputs": [],
   "source": [
    "with open('/home/chenyi/workspace/dataset/deepedia/info/pedia_train_dict.pickle', 'rb') as f:\n",
    "    pedia_info = pickle.load(f)"
   ]
  },
  {
   "cell_type": "code",
   "execution_count": null,
   "metadata": {},
   "outputs": [],
   "source": [
    "with open('/home/chenyi/workspace/dataset/deepedia/info/pedia_info_pd.pickle', 'rb') as f:\n",
    "    pedia_info_pd = pickle.load(f)"
   ]
  },
  {
   "cell_type": "code",
   "execution_count": null,
   "metadata": {},
   "outputs": [],
   "source": [
    "train_root = '/home/chenyi/workspace/dataset/data_fashionpedia/train/'"
   ]
  },
  {
   "cell_type": "code",
   "execution_count": null,
   "metadata": {},
   "outputs": [],
   "source": [
    "pedia_info_pd['img_path'] = train_root + pedia_info_pd['file_name'].values"
   ]
  },
  {
   "cell_type": "code",
   "execution_count": null,
   "metadata": {},
   "outputs": [],
   "source": [
    "pedia_info_pd.head()"
   ]
  },
  {
   "cell_type": "code",
   "execution_count": null,
   "metadata": {},
   "outputs": [],
   "source": [
    "ind = 20113\n",
    "row_pd = pedia_info_pd.iloc[ind,:]"
   ]
  },
  {
   "cell_type": "code",
   "execution_count": null,
   "metadata": {},
   "outputs": [],
   "source": [
    "img_np = cv2.imread(row_pd['img_path'])\n",
    "h,w,c = img_np.shape\n",
    "row = row_pd['bbox'][3]\n",
    "id_ = row[0]\n",
    "box_coco = row[1:]\n",
    "box_item = []\n",
    "for item in box_coco:\n",
    "    box_item.append(int(item))\n",
    "bbox_item = bbox_coco2voc(box_item)\n",
    "img_np = bbox_draw(img_np, box_item)\n",
    "Image.fromarray(img_np)"
   ]
  },
  {
   "cell_type": "code",
   "execution_count": null,
   "metadata": {},
   "outputs": [],
   "source": []
  },
  {
   "cell_type": "code",
   "execution_count": null,
   "metadata": {},
   "outputs": [],
   "source": []
  },
  {
   "cell_type": "markdown",
   "metadata": {},
   "source": [
    "### 写操作"
   ]
  },
  {
   "cell_type": "code",
   "execution_count": 122,
   "metadata": {},
   "outputs": [],
   "source": [
    "def write_bboxes_text(bboxes, p):\n",
    "    bboxes_str = ''\n",
    "    for bx in bboxes:\n",
    "        bboxes_str += f'{str(int(bx[0]))} \\\n",
    "                        {str(bx[1])}  \\\n",
    "                        {str(bx[2])} \\\n",
    "                        {str(bx[3])} \\\n",
    "                        {str(bx[4])} \\n'\n",
    "            \n",
    "    with open(p, 'w') as f:\n",
    "        f.write(bboxes_str)"
   ]
  },
  {
   "cell_type": "code",
   "execution_count": null,
   "metadata": {},
   "outputs": [],
   "source": []
  },
  {
   "cell_type": "code",
   "execution_count": null,
   "metadata": {},
   "outputs": [],
   "source": []
  },
  {
   "cell_type": "code",
   "execution_count": 191,
   "metadata": {},
   "outputs": [],
   "source": [
    "with open('/home/chenyi/workspace/dataset/deepedia/info/pedia_train_dict.pickle', 'rb') as f:\n",
    "    data_dict = pickle.load(f)\n",
    "with open(f'{root}/info/pedia_info_pd.pickle', 'rb') as f:\n",
    "    data_pd = pickle.load(f)\n",
    "with open(f'{root}/info/cat_pedia2ours.pickle', 'rb') as f:\n",
    "    id2name = pickle.load(f)\n",
    "data_pd['bbox'] = data_dict['bbox']\n",
    "pedia_info_pd = data_pd"
   ]
  },
  {
   "cell_type": "code",
   "execution_count": 192,
   "metadata": {},
   "outputs": [
    {
     "data": {
      "text/html": [
       "<div>\n",
       "<style scoped>\n",
       "    .dataframe tbody tr th:only-of-type {\n",
       "        vertical-align: middle;\n",
       "    }\n",
       "\n",
       "    .dataframe tbody tr th {\n",
       "        vertical-align: top;\n",
       "    }\n",
       "\n",
       "    .dataframe thead th {\n",
       "        text-align: right;\n",
       "    }\n",
       "</style>\n",
       "<table border=\"1\" class=\"dataframe\">\n",
       "  <thead>\n",
       "    <tr style=\"text-align: right;\">\n",
       "      <th></th>\n",
       "      <th>img_id</th>\n",
       "      <th>bbox</th>\n",
       "      <th>width</th>\n",
       "      <th>height</th>\n",
       "      <th>file_name</th>\n",
       "      <th>train</th>\n",
       "    </tr>\n",
       "  </thead>\n",
       "  <tbody>\n",
       "    <tr>\n",
       "      <th>0</th>\n",
       "      <td>46226</td>\n",
       "      <td>[[6.0, 228.0, 771.0, 329.0, 252.0], [0.0, 237....</td>\n",
       "      <td>721</td>\n",
       "      <td>1024</td>\n",
       "      <td>00000663ed1ff0c4e0132b9b9ac53f6e.jpg</td>\n",
       "      <td>train</td>\n",
       "    </tr>\n",
       "    <tr>\n",
       "      <th>1</th>\n",
       "      <td>29130</td>\n",
       "      <td>[[33.0, 376.0, 170.0, 254.0, 108.0], [1.0, 229...</td>\n",
       "      <td>1024</td>\n",
       "      <td>1024</td>\n",
       "      <td>0000fe7c9191fba733c8a69cfaf962b7.jpg</td>\n",
       "      <td>train</td>\n",
       "    </tr>\n",
       "    <tr>\n",
       "      <th>2</th>\n",
       "      <td>32175</td>\n",
       "      <td>[[33.0, 303.0, 245.0, 83.0, 32.0], [10.0, 259....</td>\n",
       "      <td>681</td>\n",
       "      <td>1024</td>\n",
       "      <td>0002ec21ddb8477e98b2cbb87ea2e269.jpg</td>\n",
       "      <td>train</td>\n",
       "    </tr>\n",
       "    <tr>\n",
       "      <th>3</th>\n",
       "      <td>43328</td>\n",
       "      <td>[[10.0, 0.0, 202.0, 720.0, 820.0], [33.0, 341....</td>\n",
       "      <td>722</td>\n",
       "      <td>1024</td>\n",
       "      <td>0002f5a0ebc162ecfb73e2c91e3b8f62.jpg</td>\n",
       "      <td>val</td>\n",
       "    </tr>\n",
       "    <tr>\n",
       "      <th>4</th>\n",
       "      <td>38187</td>\n",
       "      <td>[[10.0, 240.0, 256.0, 371.0, 717.0], [33.0, 33...</td>\n",
       "      <td>682</td>\n",
       "      <td>1024</td>\n",
       "      <td>0004467156e47b0eb6de4aa6479cbd15.jpg</td>\n",
       "      <td>train</td>\n",
       "    </tr>\n",
       "  </tbody>\n",
       "</table>\n",
       "</div>"
      ],
      "text/plain": [
       "   img_id                                               bbox  width  height  \\\n",
       "0   46226  [[6.0, 228.0, 771.0, 329.0, 252.0], [0.0, 237....    721    1024   \n",
       "1   29130  [[33.0, 376.0, 170.0, 254.0, 108.0], [1.0, 229...   1024    1024   \n",
       "2   32175  [[33.0, 303.0, 245.0, 83.0, 32.0], [10.0, 259....    681    1024   \n",
       "3   43328  [[10.0, 0.0, 202.0, 720.0, 820.0], [33.0, 341....    722    1024   \n",
       "4   38187  [[10.0, 240.0, 256.0, 371.0, 717.0], [33.0, 33...    682    1024   \n",
       "\n",
       "                              file_name  train  \n",
       "0  00000663ed1ff0c4e0132b9b9ac53f6e.jpg  train  \n",
       "1  0000fe7c9191fba733c8a69cfaf962b7.jpg  train  \n",
       "2  0002ec21ddb8477e98b2cbb87ea2e269.jpg  train  \n",
       "3  0002f5a0ebc162ecfb73e2c91e3b8f62.jpg    val  \n",
       "4  0004467156e47b0eb6de4aa6479cbd15.jpg  train  "
      ]
     },
     "execution_count": 192,
     "metadata": {},
     "output_type": "execute_result"
    }
   ],
   "source": [
    "pedia_info_pd.head()"
   ]
  },
  {
   "cell_type": "code",
   "execution_count": 193,
   "metadata": {},
   "outputs": [
    {
     "data": {
      "text/plain": [
       "{19: 0,\n",
       " 14: 1,\n",
       " 23: 2,\n",
       " 24: 3,\n",
       " 0: 4,\n",
       " 1: 4,\n",
       " 2: 4,\n",
       " 3: 4,\n",
       " 4: 4,\n",
       " 5: 4,\n",
       " 6: 5,\n",
       " 7: 5,\n",
       " 8: 6,\n",
       " 9: 7,\n",
       " 10: 7,\n",
       " 11: 7}"
      ]
     },
     "execution_count": 193,
     "metadata": {},
     "output_type": "execute_result"
    }
   ],
   "source": [
    "id2name"
   ]
  },
  {
   "cell_type": "code",
   "execution_count": 194,
   "metadata": {},
   "outputs": [],
   "source": [
    "# id2name[9] = 4\n",
    "# del id2name[14]\n",
    "# del id2name[19]"
   ]
  },
  {
   "cell_type": "code",
   "execution_count": 195,
   "metadata": {},
   "outputs": [
    {
     "data": {
      "text/plain": [
       "{23: 2,\n",
       " 24: 3,\n",
       " 0: 4,\n",
       " 1: 4,\n",
       " 2: 4,\n",
       " 3: 4,\n",
       " 4: 4,\n",
       " 5: 4,\n",
       " 6: 5,\n",
       " 7: 5,\n",
       " 8: 6,\n",
       " 9: 4,\n",
       " 10: 7,\n",
       " 11: 7}"
      ]
     },
     "execution_count": 195,
     "metadata": {},
     "output_type": "execute_result"
    }
   ],
   "source": [
    "id2name"
   ]
  },
  {
   "cell_type": "code",
   "execution_count": null,
   "metadata": {},
   "outputs": [],
   "source": []
  },
  {
   "cell_type": "code",
   "execution_count": null,
   "metadata": {},
   "outputs": [],
   "source": []
  },
  {
   "cell_type": "code",
   "execution_count": 196,
   "metadata": {},
   "outputs": [
    {
     "name": "stdout",
     "output_type": "stream",
     "text": [
      "CPU times: user 2 s, sys: 400 µs, total: 2 s\n",
      "Wall time: 2 s\n"
     ]
    }
   ],
   "source": [
    "%%time\n",
    "ks = id2name.keys()\n",
    "bboxes_list = []\n",
    "for ind, row in pedia_info_pd.iterrows():\n",
    "    bboxes = row['bbox']\n",
    "    w,h = row['width'], row['height']\n",
    "    bx_new = []\n",
    "    for bx in bboxes:\n",
    "        k_new = int(bx[0])\n",
    "        if k_new in ks:\n",
    "            bx[0] = id2name[k_new] - 2\n",
    "            bx[1:] = bbox_coco2voc(bx[1:])\n",
    "            bx[1:] = bbox_voc2yolo(bx[1:], w, h)\n",
    "            bx_new.append(bx)\n",
    "    bboxes_list.append(bx_new)"
   ]
  },
  {
   "cell_type": "code",
   "execution_count": 197,
   "metadata": {},
   "outputs": [],
   "source": [
    "pedia_info_pd['bbox'] = bboxes_list"
   ]
  },
  {
   "cell_type": "code",
   "execution_count": 198,
   "metadata": {},
   "outputs": [
    {
     "data": {
      "text/html": [
       "<div>\n",
       "<style scoped>\n",
       "    .dataframe tbody tr th:only-of-type {\n",
       "        vertical-align: middle;\n",
       "    }\n",
       "\n",
       "    .dataframe tbody tr th {\n",
       "        vertical-align: top;\n",
       "    }\n",
       "\n",
       "    .dataframe thead th {\n",
       "        text-align: right;\n",
       "    }\n",
       "</style>\n",
       "<table border=\"1\" class=\"dataframe\">\n",
       "  <thead>\n",
       "    <tr style=\"text-align: right;\">\n",
       "      <th></th>\n",
       "      <th>img_id</th>\n",
       "      <th>bbox</th>\n",
       "      <th>width</th>\n",
       "      <th>height</th>\n",
       "      <th>file_name</th>\n",
       "      <th>train</th>\n",
       "    </tr>\n",
       "  </thead>\n",
       "  <tbody>\n",
       "    <tr>\n",
       "      <th>0</th>\n",
       "      <td>46226</td>\n",
       "      <td>[[3.0, 0.544382801664355, 0.8759765625, 0.4563...</td>\n",
       "      <td>721</td>\n",
       "      <td>1024</td>\n",
       "      <td>00000663ed1ff0c4e0132b9b9ac53f6e.jpg</td>\n",
       "      <td>train</td>\n",
       "    </tr>\n",
       "    <tr>\n",
       "      <th>1</th>\n",
       "      <td>29130</td>\n",
       "      <td>[[2.0, 0.50927734375, 0.544921875, 0.571289062...</td>\n",
       "      <td>1024</td>\n",
       "      <td>1024</td>\n",
       "      <td>0000fe7c9191fba733c8a69cfaf962b7.jpg</td>\n",
       "      <td>train</td>\n",
       "    </tr>\n",
       "    <tr>\n",
       "      <th>2</th>\n",
       "      <td>32175</td>\n",
       "      <td>[[5.0, 0.5058737151248165, 0.447265625, 0.2511...</td>\n",
       "      <td>681</td>\n",
       "      <td>1024</td>\n",
       "      <td>0002ec21ddb8477e98b2cbb87ea2e269.jpg</td>\n",
       "      <td>train</td>\n",
       "    </tr>\n",
       "    <tr>\n",
       "      <th>3</th>\n",
       "      <td>43328</td>\n",
       "      <td>[[5.0, 0.4986149584487535, 0.59765625, 0.99722...</td>\n",
       "      <td>722</td>\n",
       "      <td>1024</td>\n",
       "      <td>0002f5a0ebc162ecfb73e2c91e3b8f62.jpg</td>\n",
       "      <td>val</td>\n",
       "    </tr>\n",
       "    <tr>\n",
       "      <th>4</th>\n",
       "      <td>38187</td>\n",
       "      <td>[[5.0, 0.623900293255132, 0.60009765625, 0.543...</td>\n",
       "      <td>682</td>\n",
       "      <td>1024</td>\n",
       "      <td>0004467156e47b0eb6de4aa6479cbd15.jpg</td>\n",
       "      <td>train</td>\n",
       "    </tr>\n",
       "  </tbody>\n",
       "</table>\n",
       "</div>"
      ],
      "text/plain": [
       "   img_id                                               bbox  width  height  \\\n",
       "0   46226  [[3.0, 0.544382801664355, 0.8759765625, 0.4563...    721    1024   \n",
       "1   29130  [[2.0, 0.50927734375, 0.544921875, 0.571289062...   1024    1024   \n",
       "2   32175  [[5.0, 0.5058737151248165, 0.447265625, 0.2511...    681    1024   \n",
       "3   43328  [[5.0, 0.4986149584487535, 0.59765625, 0.99722...    722    1024   \n",
       "4   38187  [[5.0, 0.623900293255132, 0.60009765625, 0.543...    682    1024   \n",
       "\n",
       "                              file_name  train  \n",
       "0  00000663ed1ff0c4e0132b9b9ac53f6e.jpg  train  \n",
       "1  0000fe7c9191fba733c8a69cfaf962b7.jpg  train  \n",
       "2  0002ec21ddb8477e98b2cbb87ea2e269.jpg  train  \n",
       "3  0002f5a0ebc162ecfb73e2c91e3b8f62.jpg    val  \n",
       "4  0004467156e47b0eb6de4aa6479cbd15.jpg  train  "
      ]
     },
     "execution_count": 198,
     "metadata": {},
     "output_type": "execute_result"
    }
   ],
   "source": [
    "pedia_info_pd.head()"
   ]
  },
  {
   "cell_type": "code",
   "execution_count": null,
   "metadata": {},
   "outputs": [],
   "source": []
  },
  {
   "cell_type": "code",
   "execution_count": 199,
   "metadata": {},
   "outputs": [],
   "source": [
    "# !cp -r /home/chenyi/workspace/dataset/deepedia/labels /home/chenyi/workspace/dataset/deepedia/labels_catg6"
   ]
  },
  {
   "cell_type": "code",
   "execution_count": null,
   "metadata": {},
   "outputs": [],
   "source": []
  },
  {
   "cell_type": "code",
   "execution_count": 200,
   "metadata": {},
   "outputs": [],
   "source": [
    "mode = 'val'\n",
    "pedia_train = pedia_info_pd[pedia_info_pd['train']==mode]"
   ]
  },
  {
   "cell_type": "code",
   "execution_count": 201,
   "metadata": {},
   "outputs": [],
   "source": [
    "# train_t_root = '/home/chenyi/workspace/dataset/deepedia/images/val/'\n",
    "label_t_root = f'/home/chenyi/workspace/dataset/deepedia/labels_catg6/{mode}/'\n",
    "# pedia_train['img_path'] = train_s_root +  pedia_train['file_name'].values\n",
    "# pedia_train['label_path'] = train_s_root +  pedia_train['file_name'].values\n",
    "# pedia_train['label_target'] = pedia_train['label_target'].apply(\n",
    "#     lambda x:x.replace('.jpg', '.txt')\n",
    "# )"
   ]
  },
  {
   "cell_type": "code",
   "execution_count": 202,
   "metadata": {},
   "outputs": [
    {
     "name": "stderr",
     "output_type": "stream",
     "text": [
      "/tmp/ipykernel_403767/360313808.py:1: SettingWithCopyWarning: \n",
      "A value is trying to be set on a copy of a slice from a DataFrame.\n",
      "Try using .loc[row_indexer,col_indexer] = value instead\n",
      "\n",
      "See the caveats in the documentation: https://pandas.pydata.org/pandas-docs/stable/user_guide/indexing.html#returning-a-view-versus-a-copy\n",
      "  pedia_train['label_tp'] = pedia_train['file_name'].apply(\n"
     ]
    }
   ],
   "source": [
    "pedia_train['label_tp'] = pedia_train['file_name'].apply(\n",
    "    lambda x:f'{label_t_root}{x}'\n",
    ")"
   ]
  },
  {
   "cell_type": "code",
   "execution_count": 203,
   "metadata": {},
   "outputs": [
    {
     "name": "stderr",
     "output_type": "stream",
     "text": [
      "/tmp/ipykernel_403767/1035783826.py:1: SettingWithCopyWarning: \n",
      "A value is trying to be set on a copy of a slice from a DataFrame.\n",
      "Try using .loc[row_indexer,col_indexer] = value instead\n",
      "\n",
      "See the caveats in the documentation: https://pandas.pydata.org/pandas-docs/stable/user_guide/indexing.html#returning-a-view-versus-a-copy\n",
      "  pedia_train['label_tp'] = pedia_train['label_tp'].apply(\n"
     ]
    }
   ],
   "source": [
    "pedia_train['label_tp'] = pedia_train['label_tp'].apply(\n",
    "    lambda x:x.replace('.jpg', '.txt')\n",
    ")"
   ]
  },
  {
   "cell_type": "code",
   "execution_count": 204,
   "metadata": {},
   "outputs": [
    {
     "data": {
      "text/plain": [
       "array(['/home/chenyi/workspace/dataset/deepedia/labels_catg6/val/0002f5a0ebc162ecfb73e2c91e3b8f62.txt',\n",
       "       '/home/chenyi/workspace/dataset/deepedia/labels_catg6/val/00048c3a2fb9c29340473c4cfc06424a.txt'],\n",
       "      dtype=object)"
      ]
     },
     "execution_count": 204,
     "metadata": {},
     "output_type": "execute_result"
    }
   ],
   "source": [
    "pedia_train['label_tp'][:2].values"
   ]
  },
  {
   "cell_type": "code",
   "execution_count": null,
   "metadata": {},
   "outputs": [],
   "source": []
  },
  {
   "cell_type": "code",
   "execution_count": null,
   "metadata": {},
   "outputs": [],
   "source": []
  },
  {
   "cell_type": "code",
   "execution_count": 205,
   "metadata": {},
   "outputs": [],
   "source": [
    "import shutil"
   ]
  },
  {
   "cell_type": "code",
   "execution_count": 206,
   "metadata": {},
   "outputs": [
    {
     "name": "stderr",
     "output_type": "stream",
     "text": [
      "9087it [00:00, 10946.64it/s]\n"
     ]
    }
   ],
   "source": [
    "for ind,row in tqdm(pedia_train.iterrows()):\n",
    "    bboxes = row['bbox']\n",
    "    # img_s_path = row['img_path']\n",
    "    # img_t_path = row['img_target']\n",
    "    label_path = row['label_tp']\n",
    "    write_bboxes_text(bboxes, label_path)\n",
    "    # shutil.copyfile(img_s_path, img_t_path)\n",
    "    # break"
   ]
  },
  {
   "cell_type": "code",
   "execution_count": null,
   "metadata": {},
   "outputs": [],
   "source": []
  },
  {
   "cell_type": "code",
   "execution_count": null,
   "metadata": {},
   "outputs": [],
   "source": []
  },
  {
   "cell_type": "markdown",
   "metadata": {
    "tags": []
   },
   "source": [
    "### 软链接"
   ]
  },
  {
   "cell_type": "code",
   "execution_count": null,
   "metadata": {},
   "outputs": [],
   "source": [
    "# !mkdir /home/chenyi/workspace/yolov5/datasets/deepedia_catg6/"
   ]
  },
  {
   "cell_type": "code",
   "execution_count": 207,
   "metadata": {},
   "outputs": [
    {
     "name": "stdout",
     "output_type": "stream",
     "text": [
      "\u001b[01;34m/home/chenyi/workspace/yolov5/datasets/deepedia_catg6/\u001b[00m\n",
      "├── \u001b[01;34mimages\u001b[00m\n",
      "│   ├── \u001b[01;36mtrain\u001b[00m -> \u001b[01;34m/home/chenyi/workspace/dataset/deepedia/images/train/\u001b[00m\n",
      "│   └── \u001b[01;36mval\u001b[00m -> \u001b[01;34m/home/chenyi/workspace/dataset/deepedia/images/val/\u001b[00m\n",
      "└── \u001b[01;34mlabels\u001b[00m\n",
      "    ├── \u001b[01;36mtrain\u001b[00m -> \u001b[01;34m/home/chenyi/workspace/dataset/deepedia/labels_catg6/train/\u001b[00m\n",
      "    └── \u001b[01;36mval\u001b[00m -> \u001b[01;34m/home/chenyi/workspace/dataset/deepedia/labels_catg6/val/\u001b[00m\n",
      "\n",
      "6 directories\n"
     ]
    }
   ],
   "source": [
    "!tree -d -L 2 /home/chenyi/workspace/yolov5/datasets/deepedia_catg6/"
   ]
  },
  {
   "cell_type": "code",
   "execution_count": 156,
   "metadata": {},
   "outputs": [],
   "source": [
    "!ln -s /home/chenyi/workspace/dataset/deepedia/labels_catg6/val/ /home/chenyi/workspace/yolov5/datasets/deepedia_catg6/labels/"
   ]
  },
  {
   "cell_type": "code",
   "execution_count": 151,
   "metadata": {},
   "outputs": [],
   "source": [
    "# !unlink  /home/chenyi/workspace/yolov5/datasets/deepedia_catg6/images/train"
   ]
  },
  {
   "cell_type": "code",
   "execution_count": null,
   "metadata": {},
   "outputs": [],
   "source": []
  },
  {
   "cell_type": "code",
   "execution_count": null,
   "metadata": {},
   "outputs": [],
   "source": []
  }
 ],
 "metadata": {
  "interpreter": {
   "hash": "1ffca71e81262eb9f1fbd4476efe675f91eb9e841b011875f195064bfb13ae24"
  },
  "kernelspec": {
   "display_name": "Python 3 (ipykernel)",
   "language": "python",
   "name": "python3"
  },
  "language_info": {
   "codemirror_mode": {
    "name": "ipython",
    "version": 3
   },
   "file_extension": ".py",
   "mimetype": "text/x-python",
   "name": "python",
   "nbconvert_exporter": "python",
   "pygments_lexer": "ipython3",
   "version": "3.9.7"
  }
 },
 "nbformat": 4,
 "nbformat_minor": 4
}
