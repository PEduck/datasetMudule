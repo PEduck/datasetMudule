{
 "cells": [
  {
   "cell_type": "code",
   "execution_count": 1,
   "id": "2fb80264-2465-44a3-9980-649af493ecd5",
   "metadata": {},
   "outputs": [],
   "source": [
    "import glob\n",
    "from pathlib import Path"
   ]
  },
  {
   "cell_type": "code",
   "execution_count": null,
   "id": "4caa810c-d81a-4779-adc5-0319ac7d8444",
   "metadata": {},
   "outputs": [],
   "source": []
  },
  {
   "cell_type": "code",
   "execution_count": null,
   "id": "5ee48211-bebe-4d0d-9f5b-57574d9f1cee",
   "metadata": {},
   "outputs": [],
   "source": []
  },
  {
   "cell_type": "code",
   "execution_count": 12,
   "id": "def58eef-00a3-4e11-94d5-b789f639b6b0",
   "metadata": {},
   "outputs": [
    {
     "name": "stdout",
     "output_type": "stream",
     "text": [
      " 67+45.ipynb\n",
      " coco.json\n",
      "'Consumer-to-shop Clothes Retrieval Benchmark.tar.gz'\n",
      " DeepFashion\n",
      " DeepFashion2\n",
      " DeepFashion2_html\n",
      " DeepFashion_html\n",
      " deepfashion_landmark_to_coco.ipynb\n",
      " df_DeepFashion2.csv\n",
      " df_DeepFashion.csv\n",
      " df_Fashionpedia.csv\n",
      " df_OpenFashion.csv\n",
      " draw.ipynb\n",
      " extra.sh\n",
      "'Fashion Landmark Detection Benchmark.tar.gz'\n",
      " Fashionpedia\n",
      " Fashionpedia_html\n",
      "'In-shop Clothes Retrieval Benchmark.tar.gz'\n",
      " open_fashion.ipynb\n",
      " test_coco.json\n",
      " train_coco.json\n",
      " train-coco_style-32.json\n",
      " train-coco_style.json\n",
      " val_coco.json\n"
     ]
    }
   ],
   "source": [
    "!ls /nas/lichangjian/open_fashion/"
   ]
  },
  {
   "cell_type": "code",
   "execution_count": 12,
   "id": "a97fb65c-1687-4f3d-87a5-64a1d3966e6a",
   "metadata": {},
   "outputs": [
    {
     "name": "stdout",
     "output_type": "stream",
     "text": [
      "data_labelme  wholebody_jul_drawed\n"
     ]
    }
   ],
   "source": [
    "!ls /nas/chenyi/datasets_cls/dada_det_drawed"
   ]
  },
  {
   "cell_type": "code",
   "execution_count": 11,
   "id": "b35ec2bb-0367-45d1-8f25-61de3e61f7df",
   "metadata": {},
   "outputs": [
    {
     "name": "stdout",
     "output_type": "stream",
     "text": [
      "dada_clr\t deepfashion2_drawed  gallery_detect\n",
      "dada_det_drawed  det_res\t      haowei34k_drawed\n"
     ]
    }
   ],
   "source": [
    "!ls /nas/chenyi/datasets_cls/"
   ]
  },
  {
   "cell_type": "code",
   "execution_count": 10,
   "id": "b4e34313-010a-48b5-aac7-faa7af40f32d",
   "metadata": {},
   "outputs": [
    {
     "name": "stdout",
     "output_type": "stream",
     "text": [
      "train  val\n"
     ]
    }
   ],
   "source": [
    "!ls /nas/chenyi/datasets_cls/haowei34k_drawed/images/"
   ]
  },
  {
   "cell_type": "code",
   "execution_count": null,
   "id": "3addff71-1eae-4947-b16d-902b712591b8",
   "metadata": {},
   "outputs": [],
   "source": []
  },
  {
   "cell_type": "markdown",
   "id": "75b70b4a-9463-4a57-ab90-f42eeca13f09",
   "metadata": {
    "tags": []
   },
   "source": [
    "#### image number"
   ]
  },
  {
   "cell_type": "code",
   "execution_count": null,
   "id": "2118960d-3f9b-4d16-8225-a4771aa42380",
   "metadata": {},
   "outputs": [],
   "source": []
  },
  {
   "cell_type": "code",
   "execution_count": null,
   "id": "058737ce-7742-4cd6-bf0b-fda1ec15814a",
   "metadata": {},
   "outputs": [],
   "source": []
  },
  {
   "cell_type": "code",
   "execution_count": null,
   "id": "600bfaa9-73c0-49ec-ba77-bfeceeada82e",
   "metadata": {},
   "outputs": [],
   "source": []
  },
  {
   "cell_type": "markdown",
   "id": "5bbf0740-1ba5-4857-85dc-aa7a7748d569",
   "metadata": {},
   "source": [
    "##### DEEP FASHION2"
   ]
  },
  {
   "cell_type": "code",
   "execution_count": 9,
   "id": "e6285779-656b-4662-9df4-129f879a079a",
   "metadata": {},
   "outputs": [],
   "source": [
    "root_dataset = Path('/nas/lichangjian/open_fashion/DeepFashion2')"
   ]
  },
  {
   "cell_type": "code",
   "execution_count": 5,
   "id": "7655f273-6952-4b80-bf6e-d9ad441c7521",
   "metadata": {},
   "outputs": [],
   "source": [
    "train_list = glob.glob(str(root_dataset /'train/image/*.jpg'))\n",
    "val_list = glob.glob(str(root_dataset /'validation/image/*.jpg'))"
   ]
  },
  {
   "cell_type": "code",
   "execution_count": 11,
   "id": "07d61fb7-912c-49f5-8d40-393b8beb3def",
   "metadata": {},
   "outputs": [
    {
     "data": {
      "text/plain": [
       "(191961, 32153)"
      ]
     },
     "execution_count": 11,
     "metadata": {},
     "output_type": "execute_result"
    }
   ],
   "source": [
    "len(train_list), len(val_list)"
   ]
  },
  {
   "cell_type": "code",
   "execution_count": null,
   "id": "ba7f22b9-b831-4e45-833a-ac8c2df7211c",
   "metadata": {},
   "outputs": [],
   "source": []
  },
  {
   "cell_type": "code",
   "execution_count": null,
   "id": "8650550b-fc56-442e-a1af-406965b3e6ae",
   "metadata": {},
   "outputs": [],
   "source": []
  },
  {
   "cell_type": "markdown",
   "id": "a0eca77f-07c1-4fae-b37f-5e270074da7b",
   "metadata": {},
   "source": [
    "##### FASHIONPEDIA"
   ]
  },
  {
   "cell_type": "code",
   "execution_count": 15,
   "id": "262bf5e6-2586-4e32-abba-7c37dd9d7300",
   "metadata": {},
   "outputs": [],
   "source": [
    "root_dataset = Path('/nas/lichangjian/open_fashion/Fashionpedia/')"
   ]
  },
  {
   "cell_type": "code",
   "execution_count": 20,
   "id": "84099e73-6f12-4336-a28a-dd61ceb11ae1",
   "metadata": {},
   "outputs": [
    {
     "data": {
      "text/plain": [
       "45623"
      ]
     },
     "execution_count": 20,
     "metadata": {},
     "output_type": "execute_result"
    }
   ],
   "source": [
    "train_list = glob.glob(str(root_dataset /'train/*.jpg'))\n",
    "len(train_list)"
   ]
  },
  {
   "cell_type": "code",
   "execution_count": 21,
   "id": "fde06e89-bf0f-41f4-8f33-b05b054609e3",
   "metadata": {},
   "outputs": [
    {
     "data": {
      "text/plain": [
       "3200"
      ]
     },
     "execution_count": 21,
     "metadata": {},
     "output_type": "execute_result"
    }
   ],
   "source": [
    "val_list = glob.glob(str(root_dataset /'test/*.jpg'))\n",
    "len(val_list)"
   ]
  },
  {
   "cell_type": "code",
   "execution_count": null,
   "id": "1c165280-dd27-43c5-876e-aaee9de695c8",
   "metadata": {},
   "outputs": [],
   "source": []
  },
  {
   "cell_type": "code",
   "execution_count": null,
   "id": "5c6901d7-4616-4909-81f4-cb9e384a9642",
   "metadata": {},
   "outputs": [],
   "source": []
  },
  {
   "cell_type": "code",
   "execution_count": null,
   "id": "8c4b4603-4fd8-4474-b44c-3a6622554903",
   "metadata": {},
   "outputs": [],
   "source": []
  },
  {
   "cell_type": "code",
   "execution_count": null,
   "id": "97c3125d-e91c-4fcd-ad82-06af45da2689",
   "metadata": {},
   "outputs": [],
   "source": []
  },
  {
   "cell_type": "code",
   "execution_count": null,
   "id": "002be584-9551-4174-a006-27c31f0321ff",
   "metadata": {},
   "outputs": [],
   "source": []
  }
 ],
 "metadata": {
  "kernelspec": {
   "display_name": "Python 3 (ipykernel)",
   "language": "python",
   "name": "python3"
  },
  "language_info": {
   "codemirror_mode": {
    "name": "ipython",
    "version": 3
   },
   "file_extension": ".py",
   "mimetype": "text/x-python",
   "name": "python",
   "nbconvert_exporter": "python",
   "pygments_lexer": "ipython3",
   "version": "3.8.13"
  }
 },
 "nbformat": 4,
 "nbformat_minor": 5
}
