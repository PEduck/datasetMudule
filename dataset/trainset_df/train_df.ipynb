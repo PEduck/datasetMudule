{
 "cells": [
  {
   "cell_type": "markdown",
   "id": "502997db-1b81-45a4-8c14-4e1de4d5246b",
   "metadata": {},
   "source": [
    "'''\n",
    "Author: Chen y\n",
    "Date: Sep\n",
    "Project:\n",
    "    用于生成yolo的训练数据集，格式是DataFrame\n",
    "'''"
   ]
  },
  {
   "cell_type": "code",
   "execution_count": 4,
   "id": "561c07a1-37d8-4b6c-99db-49e4588be6aa",
   "metadata": {},
   "outputs": [],
   "source": [
    "import glob\n",
    "import pandas as pd\n",
    "from pathlib import Path\n",
    "from PIL import Image"
   ]
  },
  {
   "cell_type": "code",
   "execution_count": null,
   "id": "a9f0817b-4c58-492e-8291-9a070132e4ef",
   "metadata": {},
   "outputs": [],
   "source": []
  },
  {
   "cell_type": "markdown",
   "id": "f24f6cda-86c6-42e7-bd7e-ce9de38e81db",
   "metadata": {},
   "source": [
    "### DATASET"
   ]
  },
  {
   "cell_type": "code",
   "execution_count": 2,
   "id": "c60c916e-1576-4890-a2a0-e1f83ef51a58",
   "metadata": {},
   "outputs": [
    {
     "name": "stdout",
     "output_type": "stream",
     "text": [
      "\u001b[01;34m/home/chenyi/workspace/dataset/data/\u001b[00m\n",
      "├── \u001b[01;34mbenchmark\u001b[00m\n",
      "│   └── \u001b[01;34mquery1k_labelimg0707\u001b[00m\n",
      "├── \u001b[01;34mclassification\u001b[00m\n",
      "│   ├── \u001b[01;34mclean_data\u001b[00m\n",
      "│   ├── \u001b[01;34mclean_shoe\u001b[00m\n",
      "│   ├── \u001b[01;34merror\u001b[00m\n",
      "│   └── \u001b[01;34mgallery2m_v6\u001b[00m\n",
      "├── \u001b[01;34mdada_det\u001b[00m\n",
      "│   ├── \u001b[01;34mhard_sample_0610\u001b[00m\n",
      "│   ├── \u001b[01;34mshoe_bag11k_may\u001b[00m\n",
      "│   ├── \u001b[01;34mshoeBag5k0515\u001b[00m\n",
      "│   └── \u001b[01;34mwholebody0601_all\u001b[00m\n",
      "├── \u001b[01;34mdata_fashionpedia\u001b[00m\n",
      "│   ├── \u001b[01;34mannotations\u001b[00m\n",
      "│   ├── pedia_train_info.pickle\n",
      "│   ├── \u001b[01;34mtest\u001b[00m\n",
      "│   └── \u001b[01;34mtrain\u001b[00m\n",
      "├── \u001b[01;34mDeepFashion2\u001b[00m\n",
      "│   ├── \u001b[01;34mjson_for_test\u001b[00m\n",
      "│   ├── \u001b[01;34mjson_for_validation\u001b[00m\n",
      "│   ├── \u001b[01;34mtest\u001b[00m\n",
      "│   ├── \u001b[01;34mtrain\u001b[00m\n",
      "│   └── \u001b[01;34mvalidation\u001b[00m\n",
      "├── \u001b[01;34mdeploy_system\u001b[00m\n",
      "│   ├── \u001b[01;34mdeploy_manual_sep\u001b[00m\n",
      "│   ├── \u001b[01;32mdeploy_manual_sep.zip\u001b[00m\n",
      "│   ├── \u001b[01;34mimages\u001b[00m\n",
      "│   └── \u001b[01;34mimages_rename\u001b[00m\n",
      "├── \u001b[01;34mgallery2m\u001b[00m\n",
      "│   ├── \u001b[01;34mgallery2m500_wholebody\u001b[00m\n",
      "│   └── \u001b[01;34mgallery2m_7k_20220715\u001b[00m\n",
      "├── \u001b[01;34mhaowei34k\u001b[00m\n",
      "│   ├── \u001b[01;34mannotations\u001b[00m\n",
      "│   └── \u001b[01;34mimages\u001b[00m\n",
      "└── \u001b[01;34mwardrobe500k\u001b[00m\n",
      "    ├── \u001b[01;34mwardrobe20k_img_hard20220705\u001b[00m\n",
      "    └── \u001b[01;34mwardrobe500k_hard\u001b[00m\n",
      "\n",
      "35 directories, 2 files\n"
     ]
    }
   ],
   "source": [
    "!tree -L 2 /home/chenyi/workspace/dataset/data/"
   ]
  },
  {
   "cell_type": "code",
   "execution_count": null,
   "id": "f6978e30-1fa7-4071-94a6-824cb821f758",
   "metadata": {},
   "outputs": [],
   "source": []
  },
  {
   "cell_type": "markdown",
   "id": "aa4f63e2-66a2-4d98-80c6-9cdfcc18c81d",
   "metadata": {},
   "source": [
    "#### DATALOADER"
   ]
  },
  {
   "cell_type": "code",
   "execution_count": 3,
   "id": "0cc9aca0-b427-4f50-824b-00259ca92b7b",
   "metadata": {},
   "outputs": [],
   "source": [
    "root = Path('/home/chenyi/workspace/dataset/data/')"
   ]
  },
  {
   "cell_type": "code",
   "execution_count": 8,
   "id": "6ee9d54d-432e-4009-b2fa-d789814fe37e",
   "metadata": {},
   "outputs": [],
   "source": [
    "hw_df = pd.read_csv('/home/chenyi/workspace/dataset/data/haowei34k/annotations/csv/bboxes_yolo_clear30k.csv')\n",
    "fpedia_df = pd.read_csv('/home/chenyi/workspace/dataset/data/data_fashionpedia/annotations/csv/fashionpedia6_l1_cat.csv')"
   ]
  },
  {
   "cell_type": "code",
   "execution_count": null,
   "id": "5d8c50b9-4908-470e-96d0-d645f01270ca",
   "metadata": {},
   "outputs": [],
   "source": []
  },
  {
   "cell_type": "markdown",
   "id": "d6d1a946-ab8e-405c-8907-f9e7079058e0",
   "metadata": {},
   "source": [
    "### Dataset Combination"
   ]
  },
  {
   "cell_type": "code",
   "execution_count": 13,
   "id": "0fc8e064-b96f-48a8-80d9-0922f2080d7b",
   "metadata": {},
   "outputs": [
    {
     "data": {
      "text/plain": [
       "(256272, 75813)"
      ]
     },
     "execution_count": 13,
     "metadata": {},
     "output_type": "execute_result"
    }
   ],
   "source": [
    "hwpedia_df = pd.concat([hw_df, fpedia_df], axis=0)\n",
    "len(hwpedia_df), len(hwpedia_df.drop_duplicates('img_sp'))"
   ]
  },
  {
   "cell_type": "code",
   "execution_count": null,
   "id": "0f4b8755-e3c4-44eb-8141-36fc7a77de61",
   "metadata": {},
   "outputs": [],
   "source": []
  },
  {
   "cell_type": "code",
   "execution_count": null,
   "id": "dae0a4da-fd22-48dc-8810-8e2deaa78ce7",
   "metadata": {},
   "outputs": [],
   "source": []
  },
  {
   "cell_type": "markdown",
   "id": "cd8d18a6-7d0a-4209-bc58-f120250fe9cb",
   "metadata": {},
   "source": [
    "### Trainset Generate"
   ]
  },
  {
   "cell_type": "code",
   "execution_count": 17,
   "id": "5d4e0862-81a9-4e23-8919-24d7292735c9",
   "metadata": {},
   "outputs": [
    {
     "data": {
      "text/plain": [
       "(224772, 31500)"
      ]
     },
     "execution_count": 17,
     "metadata": {},
     "output_type": "execute_result"
    }
   ],
   "source": [
    "fname = 'hwpedia'\n",
    "root_train = Path(f'/home/chenyi/workspace/dataset/trainsets/combination/{fname}')\n",
    "if not root_tran.is_dir(): root_tran.mkdir(parents=True)\n",
    "gen_df = hwpedia_df\n",
    "train_df = gen_df[gen_df['mode']=='train']\n",
    "val_df = gen_df[gen_df['mode']=='val']\n",
    "train_df.to_csv(root_train /f'{fname}_label6_train.csv', index=False)\n",
    "val_df.to_csv(root_train /f'{fname}_label6_val.csv', index=False)\n",
    "len(train_df), len(val_df)"
   ]
  },
  {
   "cell_type": "code",
   "execution_count": 18,
   "id": "ac25d7e8-bd48-4521-9a77-1340bfec9996",
   "metadata": {},
   "outputs": [
    {
     "data": {
      "text/plain": [
       "PosixPath('/home/chenyi/workspace/dataset/trainsets/combination/hwpedia')"
      ]
     },
     "execution_count": 18,
     "metadata": {},
     "output_type": "execute_result"
    }
   ],
   "source": [
    "root_train"
   ]
  },
  {
   "cell_type": "code",
   "execution_count": null,
   "id": "371755f9-756a-49d2-98b7-5b6f4d401135",
   "metadata": {},
   "outputs": [],
   "source": [
    "hwpedia_label6_train.csv"
   ]
  }
 ],
 "metadata": {
  "kernelspec": {
   "display_name": "Python 3 (ipykernel)",
   "language": "python",
   "name": "python3"
  },
  "language_info": {
   "codemirror_mode": {
    "name": "ipython",
    "version": 3
   },
   "file_extension": ".py",
   "mimetype": "text/x-python",
   "name": "python",
   "nbconvert_exporter": "python",
   "pygments_lexer": "ipython3",
   "version": "3.8.13"
  }
 },
 "nbformat": 4,
 "nbformat_minor": 5
}
