{
 "cells": [
  {
   "cell_type": "code",
   "execution_count": 1,
   "id": "965f48f1-99e7-49f5-a091-4d5f05a888f1",
   "metadata": {},
   "outputs": [],
   "source": [
    "import numpy as np\n",
    "import pandas as pd\n",
    "import glob\n",
    "import sys,os"
   ]
  },
  {
   "cell_type": "code",
   "execution_count": 2,
   "id": "59cb6ecd-1684-449f-af66-47030f806724",
   "metadata": {},
   "outputs": [],
   "source": [
    "from PIL import Image\n",
    "import cv2\n",
    "import matplotlib.pyplot as plt"
   ]
  },
  {
   "cell_type": "code",
   "execution_count": 3,
   "id": "f1b52e83-327d-42ce-a6d3-87eaa8ceded5",
   "metadata": {},
   "outputs": [],
   "source": [
    "import pandas as pd"
   ]
  },
  {
   "cell_type": "code",
   "execution_count": 4,
   "id": "ca4f84b4-1181-46d2-b76b-4ebee47a3c21",
   "metadata": {},
   "outputs": [],
   "source": [
    "import json\n",
    "import pickle\n",
    "import re\n",
    "from tqdm import tqdm\n",
    "from pathlib import Path"
   ]
  },
  {
   "cell_type": "code",
   "execution_count": null,
   "id": "7a829f7f-5463-4b41-b869-5f96708c84f2",
   "metadata": {},
   "outputs": [],
   "source": []
  },
  {
   "cell_type": "code",
   "execution_count": null,
   "id": "b4eeffb1-2937-4087-ac85-c2b5977fcc8e",
   "metadata": {},
   "outputs": [],
   "source": []
  },
  {
   "cell_type": "markdown",
   "id": "7ef16afd-d8b3-45d3-bc2e-4e3ba09c0023",
   "metadata": {},
   "source": [
    "### 0.API"
   ]
  },
  {
   "cell_type": "code",
   "execution_count": 5,
   "id": "71d019b3-5cae-4d16-b06f-f88c1acc6ccd",
   "metadata": {},
   "outputs": [],
   "source": [
    "id_standard_df = pd.read_csv('/nas/chenyi/datasets_nas/labelMap/standard/id2class99_chenyi.csv')\n",
    "id_use_df = id_standard_df[id_standard_df['use']>=0]"
   ]
  },
  {
   "cell_type": "code",
   "execution_count": 6,
   "id": "73091c58-fc0c-42c1-9947-d8a025d4c569",
   "metadata": {},
   "outputs": [],
   "source": [
    "# with open('/home/chenyi/workspace/myPyModule99/dataset/labelMap/standard/haowei34k_map_stand.json', 'r') as f:\n",
    "#     hw2stand = json.load(f)"
   ]
  },
  {
   "cell_type": "code",
   "execution_count": 7,
   "id": "2912733f-8748-4d04-9b9c-678e8ca6a64a",
   "metadata": {},
   "outputs": [],
   "source": [
    "# with open('./data/haowei34k_map_stand.json', 'w') as f:\n",
    "#     json.dump(hw2stand, f)"
   ]
  },
  {
   "cell_type": "code",
   "execution_count": null,
   "id": "bcac885b-3169-4193-a770-c924123744df",
   "metadata": {},
   "outputs": [],
   "source": []
  },
  {
   "cell_type": "code",
   "execution_count": 8,
   "id": "ddca4f12-25d6-43c5-ad9a-f05117e7e839",
   "metadata": {},
   "outputs": [],
   "source": [
    "def get_list2dict(k_list, v_list):\n",
    "    d = {}\n",
    "    for item in zip(k_list, v_list):\n",
    "        d[item[0]] = item[1]\n",
    "    return d"
   ]
  },
  {
   "cell_type": "code",
   "execution_count": 9,
   "id": "8c39d8f0-d8c2-4566-a251-a599024e82e1",
   "metadata": {},
   "outputs": [],
   "source": [
    "def write_txt(input_list):\n",
    "    label_path, text = input_list[0], input_list[1]\n",
    "    with open(label_path, 'a+') as f:\n",
    "        f.write(text)"
   ]
  },
  {
   "cell_type": "code",
   "execution_count": null,
   "id": "283eaa90-d034-4d31-b3f2-d5b3ba7bebec",
   "metadata": {},
   "outputs": [],
   "source": []
  },
  {
   "cell_type": "code",
   "execution_count": null,
   "id": "48091978-ced5-4bd0-bbf2-ef0037c43870",
   "metadata": {},
   "outputs": [],
   "source": []
  },
  {
   "cell_type": "code",
   "execution_count": 11,
   "id": "7db49836-ff79-4792-b18c-da59a1131162",
   "metadata": {},
   "outputs": [],
   "source": [
    "l2_map_l1 = get_list2dict( id_use_df['label99'].values, id_use_df['label_l1'].values)"
   ]
  },
  {
   "cell_type": "code",
   "execution_count": 12,
   "id": "11f95050-6947-46fa-954c-a06b5aa762e6",
   "metadata": {},
   "outputs": [],
   "source": [
    "id2chi_l2 = get_list2dict(id_use_df['label2_chi'].values, id_use_df['label99'].values)"
   ]
  },
  {
   "cell_type": "code",
   "execution_count": 17,
   "id": "f70934c2-7133-48d9-b790-f365259e6474",
   "metadata": {},
   "outputs": [],
   "source": [
    "id2eng_l2 = get_list2dict(id_use_df['label99'].values, id_use_df['label2_eng'].values)"
   ]
  },
  {
   "cell_type": "code",
   "execution_count": 18,
   "id": "142c1662-9ae3-4ead-a037-3c7191273b4d",
   "metadata": {},
   "outputs": [],
   "source": [
    "id2chi_l1 = get_list2dict(id_use_df['label_l1'].values, id_use_df['label1_chi'].values)"
   ]
  },
  {
   "cell_type": "code",
   "execution_count": 19,
   "id": "ef28a99f-05e7-422b-a8f3-cc9afa50725c",
   "metadata": {},
   "outputs": [],
   "source": [
    "id2eng_l1 = get_list2dict(id_use_df['label_l1'].values, id_use_df['label1_eng'].values)"
   ]
  },
  {
   "cell_type": "code",
   "execution_count": 180,
   "id": "b74e9691-15cc-44c3-bd67-66707045c4be",
   "metadata": {},
   "outputs": [],
   "source": [
    "id2model_l1 = get_list2dict(model_label_map.values(), model_label_map.keys())"
   ]
  },
  {
   "cell_type": "code",
   "execution_count": null,
   "id": "9a526866-04cb-4d35-aa10-f7b51c92d1c2",
   "metadata": {},
   "outputs": [],
   "source": []
  },
  {
   "cell_type": "code",
   "execution_count": 13,
   "id": "5217c5dc-bbe2-49b1-92a1-51317232110b",
   "metadata": {},
   "outputs": [],
   "source": [
    "id2eng_df2 = {0:'short sleeve top', 1:  'long sleeve top',  2:'short sleeve outwear', 3:'long sleeve outwear', 4:'vest', \n",
    "              5:'sling',  6:'shorts',  7:'trousers',  \n",
    "              8:'skirt',  \n",
    "              9:'long sleeve dress', 10:'short sleeve dress',  11:'vest dress',  12:'sling dress'}\n",
    "eng2id_df2 = get_list2dict(id2eng_df2.values(), id2eng_df2.keys())"
   ]
  },
  {
   "cell_type": "code",
   "execution_count": 10,
   "id": "84c6b63f-ed24-45ac-ac02-0fdcf68980b2",
   "metadata": {},
   "outputs": [],
   "source": [
    "model_label_map = {\n",
    "    0: 10,  # 鞋子\n",
    "    1: 8,  # 包包\n",
    "    2: 4,  # 上装\n",
    "    3: 5,  # 裤子\n",
    "    4: 6,  # 裙子\n",
    "    5: 7,  # 连体装\n",
    "}"
   ]
  },
  {
   "cell_type": "code",
   "execution_count": 201,
   "id": "caa273b3-61c5-4f3f-8700-e271823264a0",
   "metadata": {},
   "outputs": [],
   "source": [
    "deep2model = {0:2, 1:2, 2:2, 3:2, 4:2,\n",
    "             5:3, 6:3, 7:3,\n",
    "             8:4,\n",
    "             9:5, 10:5, 11:5, 12:5}"
   ]
  },
  {
   "cell_type": "code",
   "execution_count": null,
   "id": "265a79c0-f63c-4cbc-83e8-94030a1ea71d",
   "metadata": {},
   "outputs": [],
   "source": []
  },
  {
   "cell_type": "code",
   "execution_count": null,
   "id": "5b4376fe-a941-4923-bc05-9f4a9b7b92da",
   "metadata": {},
   "outputs": [],
   "source": []
  },
  {
   "cell_type": "markdown",
   "id": "1354d993-c902-4efa-b5a0-4c9bc0bdfede",
   "metadata": {
    "tags": []
   },
   "source": [
    "### 1.Dataset Information."
   ]
  },
  {
   "cell_type": "code",
   "execution_count": 14,
   "id": "6e14bac8-306d-4837-8ac4-d140fa112240",
   "metadata": {},
   "outputs": [],
   "source": [
    "# clr_df.to_csv('/nas/chenyi/datasets_cls/dada_clr/shirt_cy_0602/skirt_bbox_clr_0602.csv', index=False)"
   ]
  },
  {
   "cell_type": "code",
   "execution_count": 42,
   "id": "e9c44857-76ff-4b41-86ac-55675eab1ea0",
   "metadata": {},
   "outputs": [],
   "source": [
    "p = '/nas/lichangjian/open_fashion/df_DeepFashion2.csv'"
   ]
  },
  {
   "cell_type": "code",
   "execution_count": 43,
   "id": "0a43f436-b2a9-4481-b607-6dbd67384464",
   "metadata": {},
   "outputs": [],
   "source": [
    "openfashion_pd = pd.read_csv(p)"
   ]
  },
  {
   "cell_type": "code",
   "execution_count": 53,
   "id": "56aa3c75-618c-4ce5-9588-5808d12030d8",
   "metadata": {},
   "outputs": [],
   "source": [
    "openfashion_pd['label12'] = openfashion_pd['label'].map(eng2id_df2)\n",
    "openfashion_pd['label12'] = openfashion_pd['label12'].astype(int)"
   ]
  },
  {
   "cell_type": "code",
   "execution_count": 55,
   "id": "4a582970-08cd-4d1e-b357-d218cbc82f94",
   "metadata": {},
   "outputs": [],
   "source": [
    "df8 = openfashion_pd[openfashion_pd['label12']==8]\n",
    "df8 = openfashion_pd[openfashion_pd['path'].isin(df8['path'])].copy(deep=True)"
   ]
  },
  {
   "cell_type": "code",
   "execution_count": null,
   "id": "7c6cc5fc-d1b7-4086-9ea0-0e798787fcb3",
   "metadata": {},
   "outputs": [],
   "source": []
  },
  {
   "cell_type": "code",
   "execution_count": 47,
   "id": "b7185c6c-f16a-4877-a613-075f70d9f62a",
   "metadata": {},
   "outputs": [],
   "source": [
    "skirt_list = glob.glob('/nas/chenyi/datasets_cls/dada_clr/shirt_cy_0602/*/image/*/*.jpg')"
   ]
  },
  {
   "cell_type": "code",
   "execution_count": 48,
   "id": "71f82655-4d7d-4cfe-8676-7af77fe33f7b",
   "metadata": {},
   "outputs": [],
   "source": [
    "skirt_df = pd.DataFrame()\n",
    "skirt_df['path'] = skirt_list"
   ]
  },
  {
   "cell_type": "code",
   "execution_count": 58,
   "id": "52c48080-ce65-4393-8b48-ae8fe6aaf103",
   "metadata": {},
   "outputs": [
    {
     "data": {
      "text/html": [
       "<div>\n",
       "<style scoped>\n",
       "    .dataframe tbody tr th:only-of-type {\n",
       "        vertical-align: middle;\n",
       "    }\n",
       "\n",
       "    .dataframe tbody tr th {\n",
       "        vertical-align: top;\n",
       "    }\n",
       "\n",
       "    .dataframe thead th {\n",
       "        text-align: right;\n",
       "    }\n",
       "</style>\n",
       "<table border=\"1\" class=\"dataframe\">\n",
       "  <thead>\n",
       "    <tr style=\"text-align: right;\">\n",
       "      <th></th>\n",
       "      <th>path</th>\n",
       "      <th>label</th>\n",
       "      <th>x_1</th>\n",
       "      <th>y_1</th>\n",
       "      <th>x_2</th>\n",
       "      <th>y_2</th>\n",
       "      <th>label12</th>\n",
       "      <th>stem</th>\n",
       "      <th>re_p</th>\n",
       "    </tr>\n",
       "  </thead>\n",
       "  <tbody>\n",
       "    <tr>\n",
       "      <th>16</th>\n",
       "      <td>/nas/lichangjian/open_fashion/DeepFashion2/tra...</td>\n",
       "      <td>skirt</td>\n",
       "      <td>32</td>\n",
       "      <td>481</td>\n",
       "      <td>344</td>\n",
       "      <td>701</td>\n",
       "      <td>8</td>\n",
       "      <td>000013</td>\n",
       "      <td>train/image/000013.jpg</td>\n",
       "    </tr>\n",
       "    <tr>\n",
       "      <th>17</th>\n",
       "      <td>/nas/lichangjian/open_fashion/DeepFashion2/tra...</td>\n",
       "      <td>long sleeve top</td>\n",
       "      <td>50</td>\n",
       "      <td>120</td>\n",
       "      <td>440</td>\n",
       "      <td>590</td>\n",
       "      <td>1</td>\n",
       "      <td>000013</td>\n",
       "      <td>train/image/000013.jpg</td>\n",
       "    </tr>\n",
       "  </tbody>\n",
       "</table>\n",
       "</div>"
      ],
      "text/plain": [
       "                                                 path            label  x_1  \\\n",
       "16  /nas/lichangjian/open_fashion/DeepFashion2/tra...            skirt   32   \n",
       "17  /nas/lichangjian/open_fashion/DeepFashion2/tra...  long sleeve top   50   \n",
       "\n",
       "    y_1  x_2  y_2  label12    stem                    re_p  \n",
       "16  481  344  701        8  000013  train/image/000013.jpg  \n",
       "17  120  440  590        1  000013  train/image/000013.jpg  "
      ]
     },
     "execution_count": 58,
     "metadata": {},
     "output_type": "execute_result"
    }
   ],
   "source": [
    "df8.head(2)"
   ]
  },
  {
   "cell_type": "code",
   "execution_count": 50,
   "id": "2fba416e-bde0-43a5-af4f-585ddd4bb07a",
   "metadata": {},
   "outputs": [],
   "source": [
    "skirt_df['stem'] = skirt_df['path'].apply(lambda x: Path(x).stem)"
   ]
  },
  {
   "cell_type": "code",
   "execution_count": 51,
   "id": "657866fc-868a-46c3-9f69-e033c4c64076",
   "metadata": {},
   "outputs": [],
   "source": [
    "skirt_df['mode'] = skirt_df['path'].apply(lambda x: re.findall(r'/shirt_cy_0602/(.*?)/image/[0-9]{1,2}', x)[0])"
   ]
  },
  {
   "cell_type": "code",
   "execution_count": 52,
   "id": "56cb18c6-0c51-4303-958c-3f9f57c86d54",
   "metadata": {},
   "outputs": [],
   "source": [
    "skirt_df['re_p'] = skirt_df.apply(lambda row: '{0}/image/{1}.jpg'.format(row['mode'], row['stem']), axis=1)"
   ]
  },
  {
   "cell_type": "code",
   "execution_count": 56,
   "id": "da15466b-0315-40b6-8a07-c4fe5cc9c650",
   "metadata": {},
   "outputs": [],
   "source": [
    "df8['stem'] = df8['path'].apply(lambda x: Path(x).stem)"
   ]
  },
  {
   "cell_type": "code",
   "execution_count": 57,
   "id": "e964d6a2-7811-4c46-871a-f60e9ca08721",
   "metadata": {},
   "outputs": [],
   "source": [
    "df8['re_p'] = df8['path'].apply(lambda x: re.findall(r'/DeepFashion2/(.*?/image/[0-9]{6}.jpg)', x)[0])"
   ]
  },
  {
   "cell_type": "code",
   "execution_count": 59,
   "id": "e0e29af6-06fd-4f0f-89e4-6edfff981a86",
   "metadata": {},
   "outputs": [],
   "source": [
    "clr_df = df8[df8['re_p'].isin(skirt_df['re_p'])]"
   ]
  },
  {
   "cell_type": "code",
   "execution_count": 60,
   "id": "6345dc16-d0e5-450c-b7f7-29d6b6ab87c1",
   "metadata": {},
   "outputs": [],
   "source": [
    "# cross_df = skirt_df[skirt_df['re_p'].isin(df8['re_p'])]"
   ]
  },
  {
   "cell_type": "code",
   "execution_count": 61,
   "id": "553776f6-38ec-4abe-a0fa-feeadfc36f22",
   "metadata": {},
   "outputs": [
    {
     "data": {
      "text/plain": [
       "(73936, 37124, 9179, 4814, 4814)"
      ]
     },
     "execution_count": 61,
     "metadata": {},
     "output_type": "execute_result"
    }
   ],
   "source": [
    "len(df8), len(clr_df), len(skirt_df), len(cross_df)"
   ]
  },
  {
   "cell_type": "code",
   "execution_count": null,
   "id": "f1fc87a5-1aa5-4806-b877-65a73644ed34",
   "metadata": {},
   "outputs": [],
   "source": []
  },
  {
   "cell_type": "code",
   "execution_count": 134,
   "id": "589cb8a9-e528-46e2-9fcf-6587464fca31",
   "metadata": {},
   "outputs": [
    {
     "data": {
      "text/html": [
       "<div>\n",
       "<style scoped>\n",
       "    .dataframe tbody tr th:only-of-type {\n",
       "        vertical-align: middle;\n",
       "    }\n",
       "\n",
       "    .dataframe tbody tr th {\n",
       "        vertical-align: top;\n",
       "    }\n",
       "\n",
       "    .dataframe thead th {\n",
       "        text-align: right;\n",
       "    }\n",
       "</style>\n",
       "<table border=\"1\" class=\"dataframe\">\n",
       "  <thead>\n",
       "    <tr style=\"text-align: right;\">\n",
       "      <th></th>\n",
       "      <th>path</th>\n",
       "      <th>label</th>\n",
       "      <th>x_1</th>\n",
       "      <th>y_1</th>\n",
       "      <th>x_2</th>\n",
       "      <th>y_2</th>\n",
       "      <th>label12</th>\n",
       "      <th>stem</th>\n",
       "      <th>re_p</th>\n",
       "      <th>width</th>\n",
       "      <th>height</th>\n",
       "    </tr>\n",
       "  </thead>\n",
       "  <tbody>\n",
       "    <tr>\n",
       "      <th>1504</th>\n",
       "      <td>/nas/lichangjian/open_fashion/DeepFashion2/tra...</td>\n",
       "      <td>skirt</td>\n",
       "      <td>138</td>\n",
       "      <td>409</td>\n",
       "      <td>330</td>\n",
       "      <td>575</td>\n",
       "      <td>8</td>\n",
       "      <td>000936</td>\n",
       "      <td>train/image/000936.jpg</td>\n",
       "      <td>468</td>\n",
       "      <td>705</td>\n",
       "    </tr>\n",
       "    <tr>\n",
       "      <th>1505</th>\n",
       "      <td>/nas/lichangjian/open_fashion/DeepFashion2/tra...</td>\n",
       "      <td>long sleeve outwear</td>\n",
       "      <td>29</td>\n",
       "      <td>188</td>\n",
       "      <td>417</td>\n",
       "      <td>704</td>\n",
       "      <td>3</td>\n",
       "      <td>000936</td>\n",
       "      <td>train/image/000936.jpg</td>\n",
       "      <td>468</td>\n",
       "      <td>705</td>\n",
       "    </tr>\n",
       "    <tr>\n",
       "      <th>1636</th>\n",
       "      <td>/nas/lichangjian/open_fashion/DeepFashion2/tra...</td>\n",
       "      <td>skirt</td>\n",
       "      <td>70</td>\n",
       "      <td>480</td>\n",
       "      <td>405</td>\n",
       "      <td>623</td>\n",
       "      <td>8</td>\n",
       "      <td>001014</td>\n",
       "      <td>train/image/001014.jpg</td>\n",
       "      <td>468</td>\n",
       "      <td>624</td>\n",
       "    </tr>\n",
       "    <tr>\n",
       "      <th>1637</th>\n",
       "      <td>/nas/lichangjian/open_fashion/DeepFashion2/tra...</td>\n",
       "      <td>short sleeve top</td>\n",
       "      <td>0</td>\n",
       "      <td>10</td>\n",
       "      <td>466</td>\n",
       "      <td>550</td>\n",
       "      <td>0</td>\n",
       "      <td>001014</td>\n",
       "      <td>train/image/001014.jpg</td>\n",
       "      <td>468</td>\n",
       "      <td>624</td>\n",
       "    </tr>\n",
       "    <tr>\n",
       "      <th>2587</th>\n",
       "      <td>/nas/lichangjian/open_fashion/DeepFashion2/tra...</td>\n",
       "      <td>skirt</td>\n",
       "      <td>258</td>\n",
       "      <td>637</td>\n",
       "      <td>457</td>\n",
       "      <td>728</td>\n",
       "      <td>8</td>\n",
       "      <td>001575</td>\n",
       "      <td>train/image/001575.jpg</td>\n",
       "      <td>750</td>\n",
       "      <td>729</td>\n",
       "    </tr>\n",
       "  </tbody>\n",
       "</table>\n",
       "</div>"
      ],
      "text/plain": [
       "                                                   path                label  \\\n",
       "1504  /nas/lichangjian/open_fashion/DeepFashion2/tra...                skirt   \n",
       "1505  /nas/lichangjian/open_fashion/DeepFashion2/tra...  long sleeve outwear   \n",
       "1636  /nas/lichangjian/open_fashion/DeepFashion2/tra...                skirt   \n",
       "1637  /nas/lichangjian/open_fashion/DeepFashion2/tra...     short sleeve top   \n",
       "2587  /nas/lichangjian/open_fashion/DeepFashion2/tra...                skirt   \n",
       "\n",
       "      x_1  y_1  x_2  y_2  label12    stem                    re_p  width  \\\n",
       "1504  138  409  330  575        8  000936  train/image/000936.jpg    468   \n",
       "1505   29  188  417  704        3  000936  train/image/000936.jpg    468   \n",
       "1636   70  480  405  623        8  001014  train/image/001014.jpg    468   \n",
       "1637    0   10  466  550        0  001014  train/image/001014.jpg    468   \n",
       "2587  258  637  457  728        8  001575  train/image/001575.jpg    750   \n",
       "\n",
       "      height  \n",
       "1504     705  \n",
       "1505     705  \n",
       "1636     624  \n",
       "1637     624  \n",
       "2587     729  "
      ]
     },
     "execution_count": 134,
     "metadata": {},
     "output_type": "execute_result"
    }
   ],
   "source": [
    "clr_df.head()"
   ]
  },
  {
   "cell_type": "code",
   "execution_count": null,
   "id": "7c0217c4-8105-4139-a96e-c3d8073068de",
   "metadata": {},
   "outputs": [],
   "source": []
  },
  {
   "cell_type": "code",
   "execution_count": null,
   "id": "e2403a33-ecc0-4ea7-8187-b54a0274c5b8",
   "metadata": {},
   "outputs": [],
   "source": []
  },
  {
   "cell_type": "markdown",
   "id": "9b7316f3-1d0a-4988-9dd5-0dabbbac15dd",
   "metadata": {},
   "source": [
    "##### 图片大小"
   ]
  },
  {
   "cell_type": "code",
   "execution_count": 135,
   "id": "b8e545e4-f62e-4403-9c95-086b76c63d71",
   "metadata": {},
   "outputs": [
    {
     "data": {
      "text/plain": [
       "array([['/nas/lichangjian/open_fashion/DeepFashion2/train/image/000936.jpg',\n",
       "        'skirt', 138, 409, 330, 575, 8, '000936',\n",
       "        'train/image/000936.jpg', 468, 705],\n",
       "       ['/nas/lichangjian/open_fashion/DeepFashion2/train/image/000936.jpg',\n",
       "        'long sleeve outwear', 29, 188, 417, 704, 3, '000936',\n",
       "        'train/image/000936.jpg', 468, 705]], dtype=object)"
      ]
     },
     "execution_count": 135,
     "metadata": {},
     "output_type": "execute_result"
    }
   ],
   "source": [
    "df8 = clr_df\n",
    "df8.head(2).values"
   ]
  },
  {
   "cell_type": "code",
   "execution_count": null,
   "id": "2cc06b77-f443-4a77-830a-4fe9c1794407",
   "metadata": {},
   "outputs": [],
   "source": []
  },
  {
   "cell_type": "code",
   "execution_count": 66,
   "id": "a931bf9d-ec86-4f08-8b47-144038ee5ee6",
   "metadata": {},
   "outputs": [
    {
     "name": "stderr",
     "output_type": "stream",
     "text": [
      "100%|███████████████████████████████████████████████████████████████████████████| 9179/9179 [00:04<00:00, 2038.26it/s]\n"
     ]
    }
   ],
   "source": [
    "h_list = []\n",
    "w_list = []\n",
    "for p in tqdm(df8['path'].values):\n",
    "    img = Image.open(p)\n",
    "    w,h = img.size\n",
    "    h_list.append(h)\n",
    "    w_list.append(w)"
   ]
  },
  {
   "cell_type": "code",
   "execution_count": 67,
   "id": "f0456268-3666-4f54-9a5e-120f13f80fb3",
   "metadata": {},
   "outputs": [],
   "source": [
    "df8['width'] = w_list\n",
    "df8['height'] = h_list"
   ]
  },
  {
   "cell_type": "code",
   "execution_count": null,
   "id": "f2ecdc04-94e6-41e6-8376-8f52f9797155",
   "metadata": {},
   "outputs": [],
   "source": []
  },
  {
   "cell_type": "code",
   "execution_count": 69,
   "id": "9c382561-aa6d-438a-8fee-5a1e15ac6add",
   "metadata": {},
   "outputs": [],
   "source": [
    "# df8.to_csv('./data/skirt_df2.csv', index=False)"
   ]
  },
  {
   "cell_type": "code",
   "execution_count": null,
   "id": "3c720717-4f46-4247-8791-d5d10479457d",
   "metadata": {},
   "outputs": [],
   "source": []
  },
  {
   "cell_type": "code",
   "execution_count": null,
   "id": "37f66927-af2c-44e2-bcf4-b99342f2a56d",
   "metadata": {},
   "outputs": [],
   "source": []
  },
  {
   "cell_type": "markdown",
   "id": "69334bed-a545-4cfd-b00c-a6a44aac3ef3",
   "metadata": {
    "jp-MarkdownHeadingCollapsed": true,
    "tags": []
   },
   "source": [
    "### 2.统计数据集"
   ]
  },
  {
   "cell_type": "code",
   "execution_count": null,
   "id": "b95b3e34-6e8c-45db-9b01-af70b6349868",
   "metadata": {},
   "outputs": [],
   "source": [
    "df8 = openfashion_pd[(openfashion_pd['label12']>=8) & (openfashion_pd['label12']<=8)]"
   ]
  },
  {
   "cell_type": "code",
   "execution_count": null,
   "id": "19c1321f-1fb6-44eb-9f60-c51720238a9f",
   "metadata": {},
   "outputs": [],
   "source": [
    "df_skirt = openfashion_pd[openfashion_pd['path'].isin(df8['path'])]"
   ]
  },
  {
   "cell_type": "code",
   "execution_count": null,
   "id": "d2bb438c-38ce-4a3f-a456-1bed19616e59",
   "metadata": {},
   "outputs": [],
   "source": [
    "len(df_skirt), len(openfashion_pd), len(df_skirt.drop_duplicates('path'))"
   ]
  },
  {
   "cell_type": "code",
   "execution_count": null,
   "id": "8100e7f6-f1fa-4808-82af-a23096efe28f",
   "metadata": {},
   "outputs": [],
   "source": [
    "df = df_skirt[(df_skirt['label12']>=9) & (df_skirt['label12']<=12)]"
   ]
  },
  {
   "cell_type": "code",
   "execution_count": null,
   "id": "f207d5cf-7654-4ada-bff5-4a9b27c5dda1",
   "metadata": {},
   "outputs": [],
   "source": [
    "df.value_counts('label')"
   ]
  },
  {
   "cell_type": "code",
   "execution_count": null,
   "id": "1b237feb-b143-4c1d-8ced-53e8b9c693d1",
   "metadata": {},
   "outputs": [],
   "source": [
    "df.value_counts('label').values.sum()/len(df_skirt.drop_duplicates('path'))"
   ]
  },
  {
   "cell_type": "code",
   "execution_count": null,
   "id": "fb0cd5b9-b8bc-427f-baf3-b31383a867ac",
   "metadata": {},
   "outputs": [],
   "source": [
    "gp = df_skirt.groupby('path')"
   ]
  },
  {
   "cell_type": "code",
   "execution_count": null,
   "id": "468c4e12-61be-4235-a303-15dce3c83930",
   "metadata": {},
   "outputs": [],
   "source": [
    "gp_dict = dict(list(gp))"
   ]
  },
  {
   "cell_type": "code",
   "execution_count": null,
   "id": "da69ab20-6cd6-4f45-ba50-6350d30af131",
   "metadata": {},
   "outputs": [],
   "source": [
    "gp_dict[list(gp_dict.keys())[200]].values"
   ]
  },
  {
   "cell_type": "code",
   "execution_count": null,
   "id": "348fd8c4-316f-4f8b-bf87-5dbbf281e474",
   "metadata": {},
   "outputs": [],
   "source": []
  },
  {
   "cell_type": "code",
   "execution_count": null,
   "id": "c655f32e-90a0-4bb5-b79f-7cf5ceeca3c2",
   "metadata": {},
   "outputs": [],
   "source": []
  },
  {
   "cell_type": "markdown",
   "id": "d230ef38-2cfc-4c6d-b7bf-5fdc57710399",
   "metadata": {
    "tags": []
   },
   "source": [
    "#### 二级标签"
   ]
  },
  {
   "cell_type": "code",
   "execution_count": null,
   "id": "96d21617-f6df-47fc-ac60-4f6053816c85",
   "metadata": {},
   "outputs": [],
   "source": [
    "openfashion_pd.head(2)"
   ]
  },
  {
   "cell_type": "code",
   "execution_count": null,
   "id": "25de85bc-1d67-479b-92d2-283daaf59cb9",
   "metadata": {},
   "outputs": [],
   "source": [
    "openfashion_pd[openfashion_pd['label8']==5].value_counts('label43')"
   ]
  },
  {
   "cell_type": "code",
   "execution_count": null,
   "id": "5a3c8082-3e17-4aa8-9042-58ece7a7b4da",
   "metadata": {},
   "outputs": [],
   "source": []
  },
  {
   "cell_type": "code",
   "execution_count": null,
   "id": "4d5ce74c-4d37-423b-9047-b6647a019fdd",
   "metadata": {},
   "outputs": [],
   "source": []
  },
  {
   "cell_type": "code",
   "execution_count": null,
   "id": "ffe554d4-3b7f-47b8-872d-9ce6a85274fc",
   "metadata": {},
   "outputs": [],
   "source": [
    "counter = openfashion_pd.value_counts('label_num').sort_index()"
   ]
  },
  {
   "cell_type": "code",
   "execution_count": null,
   "id": "9c020168-21ef-481c-bc92-0d20ffede26d",
   "metadata": {},
   "outputs": [],
   "source": [
    "id_list = np.array(counter.axes)[0]\n",
    "numbers = counter.values\n",
    "name_list = [str(x) + ':' + str(id2eng_l2[hw2stand[str(x)][0]]) for x in id_list]"
   ]
  },
  {
   "cell_type": "code",
   "execution_count": null,
   "id": "a5e3199e-bad8-4196-9397-afd04fcde19d",
   "metadata": {
    "tags": []
   },
   "outputs": [],
   "source": [
    "plt.figure(figsize=(25, 7))\n",
    "plt.xticks(list(range(len(name_list))), name_list, rotation=75, fontsize=14)\n",
    "plt.bar(name_list, numbers, width=0.5)  # 绘制y刻度标签\n",
    "for a, b in zip(name_list, numbers):\n",
    "    plt.text(a, b, b, ha='center', va='bottom')\n",
    "plt.show()"
   ]
  },
  {
   "cell_type": "code",
   "execution_count": null,
   "id": "ef796178-9f6c-408f-9b4a-98d23658e25d",
   "metadata": {},
   "outputs": [],
   "source": []
  },
  {
   "cell_type": "code",
   "execution_count": null,
   "id": "90c55790-5885-4d6b-9d8e-89e9bff526e4",
   "metadata": {},
   "outputs": [],
   "source": []
  },
  {
   "cell_type": "markdown",
   "id": "9eb7f2d0-68d5-4f5f-b3db-ea2761fe466d",
   "metadata": {
    "tags": []
   },
   "source": [
    "#### 一级标签"
   ]
  },
  {
   "cell_type": "code",
   "execution_count": null,
   "id": "57d11b95-b6f5-4137-bd5b-741eb5a8a8f0",
   "metadata": {},
   "outputs": [],
   "source": [
    "df = openfashion_pd"
   ]
  },
  {
   "cell_type": "code",
   "execution_count": null,
   "id": "820bb490-4b68-4262-9596-d2dbfbd25eea",
   "metadata": {},
   "outputs": [],
   "source": [
    "counter = df.value_counts('label')"
   ]
  },
  {
   "cell_type": "code",
   "execution_count": null,
   "id": "da7d0eea-24f5-49db-9639-616a284747a7",
   "metadata": {},
   "outputs": [],
   "source": [
    "id_list = np.array(counter.axes)[0]\n",
    "numbers = counter.values\n",
    "# name_list = [str(x) + ':' + id2eng_l1[model_label_map[x]] for x in id_list]\n",
    "name_list = counter.index"
   ]
  },
  {
   "cell_type": "code",
   "execution_count": null,
   "id": "84250c81-b29c-42c7-9b1f-93249ca93722",
   "metadata": {},
   "outputs": [],
   "source": [
    "plt.figure(figsize=(25, 7))\n",
    "plt.xticks(list(range(len(name_list))), name_list, rotation=75, fontsize=14)\n",
    "plt.bar(name_list, numbers, width=0.5)  # 绘制y刻度标签\n",
    "for a, b in zip(name_list, numbers):\n",
    "    plt.text(a, b, b, ha='center', va='bottom')\n",
    "plt.show()"
   ]
  },
  {
   "cell_type": "code",
   "execution_count": null,
   "id": "90624d36-dd31-4e7a-9978-30f393fa57fa",
   "metadata": {},
   "outputs": [],
   "source": []
  },
  {
   "cell_type": "code",
   "execution_count": null,
   "id": "7c209f3c-2110-44b0-a4d3-d7abd6af494c",
   "metadata": {},
   "outputs": [],
   "source": []
  },
  {
   "cell_type": "code",
   "execution_count": null,
   "id": "043b3f70-6585-4faf-89c8-07ef597f21fd",
   "metadata": {},
   "outputs": [],
   "source": [
    "!ls /nas/chenyi/dataset_apparel_nas/"
   ]
  },
  {
   "cell_type": "code",
   "execution_count": null,
   "id": "76028d4c-2d19-4cb9-8bbc-0dac6b29b140",
   "metadata": {},
   "outputs": [],
   "source": [
    "hw_data_p = '/nas/chenyi/dataset_apparel_nas/haowei34k_conf7.csv'"
   ]
  },
  {
   "cell_type": "code",
   "execution_count": null,
   "id": "47ec4326-9828-4caa-a685-07982bad5b7c",
   "metadata": {},
   "outputs": [],
   "source": [
    "hw_data_df = pd.read_csv(hw_data_p)"
   ]
  },
  {
   "cell_type": "code",
   "execution_count": null,
   "id": "670a5f53-932a-408f-9bb9-42b05094b2d5",
   "metadata": {},
   "outputs": [],
   "source": [
    "hw_data_df.head()"
   ]
  },
  {
   "cell_type": "code",
   "execution_count": null,
   "id": "9d1c0fed-ec06-49d1-a2c3-08d83b8e28e4",
   "metadata": {},
   "outputs": [],
   "source": [
    "counter_hw = hw_data_df['label_2'].value_counts()"
   ]
  },
  {
   "cell_type": "code",
   "execution_count": null,
   "id": "aeb76497-8988-4952-a18b-4abacbfeb0cc",
   "metadata": {},
   "outputs": [],
   "source": [
    "id_list = np.array(counter_hw.axes)[0]\n",
    "numbers = counter_hw.values\n",
    "name_list = [str(x) + ':' + names[x][1] for x in id_list]"
   ]
  },
  {
   "cell_type": "code",
   "execution_count": null,
   "id": "74000810-7d61-4773-86b6-6d9109797c54",
   "metadata": {},
   "outputs": [],
   "source": [
    "plt.figure(figsize=(25, 7))\n",
    "plt.xticks(list(range(len(name_list))), name_list, rotation=50, fontsize=14)\n",
    "plt.bar(name_list, numbers, width=0.5)  # 绘制y刻度标签\n",
    "for a, b in zip(name_list, numbers):\n",
    "    plt.text(a, b, b, ha='center', va='bottom')\n",
    "plt.show()"
   ]
  },
  {
   "cell_type": "code",
   "execution_count": null,
   "id": "d81f9689-5ad3-48d3-9841-81ed3814b6c8",
   "metadata": {},
   "outputs": [],
   "source": []
  },
  {
   "cell_type": "code",
   "execution_count": null,
   "id": "08ccdfb9-fbda-4051-9188-692ec9575695",
   "metadata": {},
   "outputs": [],
   "source": []
  },
  {
   "cell_type": "markdown",
   "id": "ccb9c20f-8bc5-4c9f-a7d6-bff7121e9c5a",
   "metadata": {
    "tags": []
   },
   "source": [
    "### target label"
   ]
  },
  {
   "cell_type": "markdown",
   "id": "0ba66748-0cb6-4916-8660-1b56c5977a1d",
   "metadata": {},
   "source": [
    "#### 直接读dataframe"
   ]
  },
  {
   "cell_type": "code",
   "execution_count": 372,
   "id": "a5eb3df2-4a43-4830-96e6-777f7d22b914",
   "metadata": {},
   "outputs": [],
   "source": [
    "slink_df = pd.read_csv('./data/skirt_slink.csv')"
   ]
  },
  {
   "cell_type": "code",
   "execution_count": 472,
   "id": "92cae9fc-3180-45cd-9eb2-71c502c11c98",
   "metadata": {},
   "outputs": [],
   "source": [
    "# slink_df.to_csv('./data/skirt_slink.csv', index=False)"
   ]
  },
  {
   "cell_type": "code",
   "execution_count": 471,
   "id": "b1e37f3f-b552-4326-b4eb-c74b36bada04",
   "metadata": {},
   "outputs": [
    {
     "data": {
      "text/plain": [
       "array([[32131,\n",
       "        '/home/chenyi/workspace/dataset/labels/dada_det/labels100k_skirt_df2/validation/032131.txt',\n",
       "        '/home/chenyi/workspace/yolov5/datasets/dadet100kv1/labels/val/032131.txt',\n",
       "        '/home/chenyi/workspace/yolov5/datasets/dadet100kv1/images/val/032131.jpg',\n",
       "        '/home/chenyi/workspace/dataset/data/DeepFashion2/validation/image/032131.jpg',\n",
       "        'val'],\n",
       "       [32132,\n",
       "        '/home/chenyi/workspace/dataset/labels/dada_det/labels100k_skirt_df2/validation/032132.txt',\n",
       "        '/home/chenyi/workspace/yolov5/datasets/dadet100kv1/labels/val/032132.txt',\n",
       "        '/home/chenyi/workspace/yolov5/datasets/dadet100kv1/images/val/032132.jpg',\n",
       "        '/home/chenyi/workspace/dataset/data/DeepFashion2/validation/image/032132.jpg',\n",
       "        'val']], dtype=object)"
      ]
     },
     "execution_count": 471,
     "metadata": {},
     "output_type": "execute_result"
    }
   ],
   "source": [
    "slink_df.tail(2).values"
   ]
  },
  {
   "cell_type": "code",
   "execution_count": 374,
   "id": "4ff21b72-6e79-4405-9873-6a4e2714c275",
   "metadata": {},
   "outputs": [
    {
     "data": {
      "text/plain": [
       "4814"
      ]
     },
     "execution_count": 374,
     "metadata": {},
     "output_type": "execute_result"
    }
   ],
   "source": [
    "len(slink_df)"
   ]
  },
  {
   "cell_type": "code",
   "execution_count": 377,
   "id": "0040bd45-b4ab-44ce-94d1-d93a14462a07",
   "metadata": {},
   "outputs": [
    {
     "data": {
      "text/html": [
       "<div>\n",
       "<style scoped>\n",
       "    .dataframe tbody tr th:only-of-type {\n",
       "        vertical-align: middle;\n",
       "    }\n",
       "\n",
       "    .dataframe tbody tr th {\n",
       "        vertical-align: top;\n",
       "    }\n",
       "\n",
       "    .dataframe thead th {\n",
       "        text-align: right;\n",
       "    }\n",
       "</style>\n",
       "<table border=\"1\" class=\"dataframe\">\n",
       "  <thead>\n",
       "    <tr style=\"text-align: right;\">\n",
       "      <th></th>\n",
       "      <th>stem</th>\n",
       "      <th>label_sp</th>\n",
       "      <th>label_tp</th>\n",
       "      <th>img_tp</th>\n",
       "      <th>img_sp</th>\n",
       "      <th>mode</th>\n",
       "    </tr>\n",
       "  </thead>\n",
       "  <tbody>\n",
       "    <tr>\n",
       "      <th>4812</th>\n",
       "      <td>32131</td>\n",
       "      <td>/home/chenyi/workspace/dataset/labels/dada_det...</td>\n",
       "      <td>/home/chenyi/workspace/yolov5/datasets/dadet10...</td>\n",
       "      <td>/home/chenyi/workspace/yolov5/datasets/dadet10...</td>\n",
       "      <td>/home/chenyi/workspace/dataset/data/DeepFashio...</td>\n",
       "      <td>train</td>\n",
       "    </tr>\n",
       "    <tr>\n",
       "      <th>4813</th>\n",
       "      <td>32132</td>\n",
       "      <td>/home/chenyi/workspace/dataset/labels/dada_det...</td>\n",
       "      <td>/home/chenyi/workspace/yolov5/datasets/dadet10...</td>\n",
       "      <td>/home/chenyi/workspace/yolov5/datasets/dadet10...</td>\n",
       "      <td>/home/chenyi/workspace/dataset/data/DeepFashio...</td>\n",
       "      <td>train</td>\n",
       "    </tr>\n",
       "  </tbody>\n",
       "</table>\n",
       "</div>"
      ],
      "text/plain": [
       "       stem                                           label_sp  \\\n",
       "4812  32131  /home/chenyi/workspace/dataset/labels/dada_det...   \n",
       "4813  32132  /home/chenyi/workspace/dataset/labels/dada_det...   \n",
       "\n",
       "                                               label_tp  \\\n",
       "4812  /home/chenyi/workspace/yolov5/datasets/dadet10...   \n",
       "4813  /home/chenyi/workspace/yolov5/datasets/dadet10...   \n",
       "\n",
       "                                                 img_tp  \\\n",
       "4812  /home/chenyi/workspace/yolov5/datasets/dadet10...   \n",
       "4813  /home/chenyi/workspace/yolov5/datasets/dadet10...   \n",
       "\n",
       "                                                 img_sp   mode  \n",
       "4812  /home/chenyi/workspace/dataset/data/DeepFashio...  train  \n",
       "4813  /home/chenyi/workspace/dataset/data/DeepFashio...  train  "
      ]
     },
     "execution_count": 377,
     "metadata": {},
     "output_type": "execute_result"
    }
   ],
   "source": [
    "slink_df.tail(2)"
   ]
  },
  {
   "cell_type": "code",
   "execution_count": null,
   "id": "41eac168-fa08-4d77-822a-556734b564be",
   "metadata": {},
   "outputs": [],
   "source": []
  },
  {
   "cell_type": "code",
   "execution_count": null,
   "id": "46090fa1-20a6-44fd-9bf4-74c927950066",
   "metadata": {},
   "outputs": [],
   "source": []
  },
  {
   "cell_type": "markdown",
   "id": "b922a49e-e0ca-4dc8-88d2-adbf67262d8e",
   "metadata": {},
   "source": [
    "#### Target label path"
   ]
  },
  {
   "cell_type": "code",
   "execution_count": 30,
   "id": "01de3f36-1986-4aa2-abc3-093784c897da",
   "metadata": {},
   "outputs": [
    {
     "name": "stdout",
     "output_type": "stream",
     "text": [
      "\u001b[01;34m/home/chenyi/workspace/dataset/validation_all/skirt8k_df2\u001b[00m\n",
      "├── \u001b[01;34mimages\u001b[00m\n",
      "└── \u001b[01;34mlabels8\u001b[00m\n",
      "\n",
      "2 directories\n"
     ]
    }
   ],
   "source": [
    "!tree -d -L 1 /home/chenyi/workspace/dataset/validation_all/skirt8k_df2"
   ]
  },
  {
   "cell_type": "code",
   "execution_count": 85,
   "id": "751e482f-2c9f-4e76-bfa0-9869fb597297",
   "metadata": {},
   "outputs": [
    {
     "name": "stdout",
     "output_type": "stream",
     "text": [
      "\u001b[01;34m/home/chenyi/workspace/dataset/labels/dada_det/labels100k_skirt_df2/\u001b[00m\n",
      "├── \u001b[01;34mtrain\u001b[00m\n",
      "└── \u001b[01;34mvalidation\u001b[00m\n",
      "\n",
      "2 directories\n"
     ]
    }
   ],
   "source": [
    "!tree -d -L 1 /home/chenyi/workspace/dataset/labels/dada_det/labels100k_skirt_df2/"
   ]
  },
  {
   "cell_type": "code",
   "execution_count": 77,
   "id": "6a4871b1-c572-4484-8712-ddd2f35462fb",
   "metadata": {},
   "outputs": [
    {
     "name": "stdout",
     "output_type": "stream",
     "text": [
      "\u001b[01;34m/home/chenyi/workspace/yolov5/datasets/validation_all/\u001b[00m\n",
      "└── \u001b[01;34mskirt8k_df2\u001b[00m\n",
      "    ├── \u001b[01;34mimages\u001b[00m\n",
      "    └── \u001b[01;34mlabels\u001b[00m\n",
      "\n",
      "3 directories\n"
     ]
    }
   ],
   "source": [
    "# !tree -d -L 2 /home/chenyi/workspace/yolov5/datasets/validation_all/"
   ]
  },
  {
   "cell_type": "code",
   "execution_count": null,
   "id": "e675b557-197e-4689-8ff7-da82090a81b4",
   "metadata": {},
   "outputs": [],
   "source": []
  },
  {
   "cell_type": "code",
   "execution_count": 475,
   "id": "23105e79-dbde-4b8f-86c3-6bb730e4b7d2",
   "metadata": {},
   "outputs": [],
   "source": [
    "df = pd.read_csv('./data/skirt_df2.csv')\n",
    "# df.to_csv('./data/skirt_df2.csv', index=False)"
   ]
  },
  {
   "cell_type": "code",
   "execution_count": 476,
   "id": "165944e0-f7e2-41f9-b611-ca1d2f4adea9",
   "metadata": {},
   "outputs": [],
   "source": [
    "# df['mode'] = df['path'].apply(lambda x:re.findall(r'DeepFashion2/(.*?)/image', str(x))[0])"
   ]
  },
  {
   "cell_type": "code",
   "execution_count": null,
   "id": "d9231261-5f7b-4777-b4ad-383dddf4e911",
   "metadata": {},
   "outputs": [],
   "source": []
  },
  {
   "cell_type": "code",
   "execution_count": 477,
   "id": "3365766c-feb2-46d0-b1d8-cbfb7ca531f4",
   "metadata": {},
   "outputs": [
    {
     "data": {
      "text/plain": [
       "array([['/nas/lichangjian/open_fashion/DeepFashion2/validation/image/032132.jpg',\n",
       "        'skirt', 91, 116, 584, 587, 8, 32132,\n",
       "        'validation/image/032132.jpg', 640, 960, 4, 'validation',\n",
       "        '/home/chenyi/workspace/dataset/labels/dada_det/labels100k_skirt_df2/validation/032132.txt'],\n",
       "       ['/nas/lichangjian/open_fashion/DeepFashion2/validation/image/032132.jpg',\n",
       "        'long sleeve top', 84, 0, 638, 295, 1, 32132,\n",
       "        'validation/image/032132.jpg', 640, 960, 2, 'validation',\n",
       "        '/home/chenyi/workspace/dataset/labels/dada_det/labels100k_skirt_df2/validation/032132.txt']],\n",
       "      dtype=object)"
      ]
     },
     "execution_count": 477,
     "metadata": {},
     "output_type": "execute_result"
    }
   ],
   "source": [
    "df.tail(2).values"
   ]
  },
  {
   "cell_type": "code",
   "execution_count": 478,
   "id": "f8727cd9-10b3-41a4-856b-166ae4771b97",
   "metadata": {},
   "outputs": [
    {
     "data": {
      "text/html": [
       "<div>\n",
       "<style scoped>\n",
       "    .dataframe tbody tr th:only-of-type {\n",
       "        vertical-align: middle;\n",
       "    }\n",
       "\n",
       "    .dataframe tbody tr th {\n",
       "        vertical-align: top;\n",
       "    }\n",
       "\n",
       "    .dataframe thead th {\n",
       "        text-align: right;\n",
       "    }\n",
       "</style>\n",
       "<table border=\"1\" class=\"dataframe\">\n",
       "  <thead>\n",
       "    <tr style=\"text-align: right;\">\n",
       "      <th></th>\n",
       "      <th>path</th>\n",
       "      <th>label</th>\n",
       "      <th>x_1</th>\n",
       "      <th>y_1</th>\n",
       "      <th>x_2</th>\n",
       "      <th>y_2</th>\n",
       "      <th>label12</th>\n",
       "      <th>stem</th>\n",
       "      <th>re_p</th>\n",
       "      <th>width</th>\n",
       "      <th>height</th>\n",
       "      <th>label_model</th>\n",
       "      <th>mode</th>\n",
       "      <th>label_tp</th>\n",
       "    </tr>\n",
       "  </thead>\n",
       "  <tbody>\n",
       "    <tr>\n",
       "      <th>0</th>\n",
       "      <td>/nas/lichangjian/open_fashion/DeepFashion2/tra...</td>\n",
       "      <td>skirt</td>\n",
       "      <td>138</td>\n",
       "      <td>409</td>\n",
       "      <td>330</td>\n",
       "      <td>575</td>\n",
       "      <td>8</td>\n",
       "      <td>936</td>\n",
       "      <td>train/image/000936.jpg</td>\n",
       "      <td>468</td>\n",
       "      <td>705</td>\n",
       "      <td>4</td>\n",
       "      <td>train</td>\n",
       "      <td>/home/chenyi/workspace/dataset/labels/dada_det...</td>\n",
       "    </tr>\n",
       "    <tr>\n",
       "      <th>1</th>\n",
       "      <td>/nas/lichangjian/open_fashion/DeepFashion2/tra...</td>\n",
       "      <td>long sleeve outwear</td>\n",
       "      <td>29</td>\n",
       "      <td>188</td>\n",
       "      <td>417</td>\n",
       "      <td>704</td>\n",
       "      <td>3</td>\n",
       "      <td>936</td>\n",
       "      <td>train/image/000936.jpg</td>\n",
       "      <td>468</td>\n",
       "      <td>705</td>\n",
       "      <td>2</td>\n",
       "      <td>train</td>\n",
       "      <td>/home/chenyi/workspace/dataset/labels/dada_det...</td>\n",
       "    </tr>\n",
       "  </tbody>\n",
       "</table>\n",
       "</div>"
      ],
      "text/plain": [
       "                                                path                label  \\\n",
       "0  /nas/lichangjian/open_fashion/DeepFashion2/tra...                skirt   \n",
       "1  /nas/lichangjian/open_fashion/DeepFashion2/tra...  long sleeve outwear   \n",
       "\n",
       "   x_1  y_1  x_2  y_2  label12  stem                    re_p  width  height  \\\n",
       "0  138  409  330  575        8   936  train/image/000936.jpg    468     705   \n",
       "1   29  188  417  704        3   936  train/image/000936.jpg    468     705   \n",
       "\n",
       "   label_model   mode                                           label_tp  \n",
       "0            4  train  /home/chenyi/workspace/dataset/labels/dada_det...  \n",
       "1            2  train  /home/chenyi/workspace/dataset/labels/dada_det...  "
      ]
     },
     "execution_count": 478,
     "metadata": {},
     "output_type": "execute_result"
    }
   ],
   "source": [
    "df.head(2)"
   ]
  },
  {
   "cell_type": "code",
   "execution_count": null,
   "id": "72ff70b4-713a-41ba-8d06-7e9ced61657f",
   "metadata": {},
   "outputs": [],
   "source": []
  },
  {
   "cell_type": "code",
   "execution_count": 142,
   "id": "69701ef5-7405-4093-bb8b-556caac25cf1",
   "metadata": {},
   "outputs": [],
   "source": [
    "# root = '/home/chenyi/workspace/dataset/validation_all/skirt8k_df2/labels8/'\n",
    "root = '/home/chenyi/workspace/dataset/labels/dada_det/labels100k_skirt_df2/'"
   ]
  },
  {
   "cell_type": "code",
   "execution_count": 143,
   "id": "aba66bc4-11c5-4ddf-b704-7f870bd7d2ce",
   "metadata": {},
   "outputs": [],
   "source": [
    "df['path'] = df['path'].apply(lambda x: Path(x))"
   ]
  },
  {
   "cell_type": "code",
   "execution_count": 469,
   "id": "9b6d19d1-47a0-4187-a165-ee80acecbbdc",
   "metadata": {},
   "outputs": [],
   "source": [
    "# df['label_tp'] = df.apply(lambda row: Path('{0}/val/{1}.txt'.format(root, row['path'].stem)), axis=1)\n",
    "df['label_tp'] = df.apply(lambda row: Path('{0}/{1}/{2}.txt'.format(root, row['mode'], Path(row['path']).stem)), axis=1)"
   ]
  },
  {
   "cell_type": "code",
   "execution_count": null,
   "id": "7a03651d-3e92-4a94-8fd2-db34840188be",
   "metadata": {},
   "outputs": [],
   "source": []
  },
  {
   "cell_type": "code",
   "execution_count": null,
   "id": "46c49f99-201b-448b-8411-d9fdc531c9b1",
   "metadata": {},
   "outputs": [],
   "source": []
  },
  {
   "cell_type": "markdown",
   "id": "ae551ebb-adcd-43ef-a074-16f4d2f2a320",
   "metadata": {
    "tags": []
   },
   "source": [
    "#### 生成txt"
   ]
  },
  {
   "cell_type": "code",
   "execution_count": 388,
   "id": "7abe5cbf-ef96-461a-a35a-40592f069cc4",
   "metadata": {},
   "outputs": [],
   "source": [
    "sys.path.append('../../')"
   ]
  },
  {
   "cell_type": "code",
   "execution_count": 389,
   "id": "3a7be887-a584-499d-ae17-371372d74315",
   "metadata": {},
   "outputs": [],
   "source": [
    "from utils.bbox.conversation import bbox_coco2voc, bbox_voc2yolo, bbox_yolo2voc"
   ]
  },
  {
   "cell_type": "code",
   "execution_count": 479,
   "id": "3de2548c-5be0-4d76-a6cf-304cf3dd7c33",
   "metadata": {},
   "outputs": [],
   "source": [
    "df = pd.read_csv('./data/skirt_df2.csv')"
   ]
  },
  {
   "cell_type": "code",
   "execution_count": 480,
   "id": "7536a4cd-b01d-4c67-8cdb-a3dc2ba57f4e",
   "metadata": {},
   "outputs": [],
   "source": [
    "# df['label_model'] = df['label12'].map(deep2model)\n",
    "# df.to_csv('./data/skirt_df2.csv', index=False)"
   ]
  },
  {
   "cell_type": "code",
   "execution_count": 481,
   "id": "f2686752-c462-459f-a0a9-de2e1efa0d21",
   "metadata": {},
   "outputs": [
    {
     "data": {
      "text/html": [
       "<div>\n",
       "<style scoped>\n",
       "    .dataframe tbody tr th:only-of-type {\n",
       "        vertical-align: middle;\n",
       "    }\n",
       "\n",
       "    .dataframe tbody tr th {\n",
       "        vertical-align: top;\n",
       "    }\n",
       "\n",
       "    .dataframe thead th {\n",
       "        text-align: right;\n",
       "    }\n",
       "</style>\n",
       "<table border=\"1\" class=\"dataframe\">\n",
       "  <thead>\n",
       "    <tr style=\"text-align: right;\">\n",
       "      <th></th>\n",
       "      <th>path</th>\n",
       "      <th>label</th>\n",
       "      <th>x_1</th>\n",
       "      <th>y_1</th>\n",
       "      <th>x_2</th>\n",
       "      <th>y_2</th>\n",
       "      <th>label12</th>\n",
       "      <th>stem</th>\n",
       "      <th>re_p</th>\n",
       "      <th>width</th>\n",
       "      <th>height</th>\n",
       "      <th>label_model</th>\n",
       "      <th>mode</th>\n",
       "      <th>label_tp</th>\n",
       "    </tr>\n",
       "  </thead>\n",
       "  <tbody>\n",
       "    <tr>\n",
       "      <th>0</th>\n",
       "      <td>/nas/lichangjian/open_fashion/DeepFashion2/tra...</td>\n",
       "      <td>skirt</td>\n",
       "      <td>138</td>\n",
       "      <td>409</td>\n",
       "      <td>330</td>\n",
       "      <td>575</td>\n",
       "      <td>8</td>\n",
       "      <td>936</td>\n",
       "      <td>train/image/000936.jpg</td>\n",
       "      <td>468</td>\n",
       "      <td>705</td>\n",
       "      <td>4</td>\n",
       "      <td>train</td>\n",
       "      <td>/home/chenyi/workspace/dataset/labels/dada_det...</td>\n",
       "    </tr>\n",
       "    <tr>\n",
       "      <th>1</th>\n",
       "      <td>/nas/lichangjian/open_fashion/DeepFashion2/tra...</td>\n",
       "      <td>long sleeve outwear</td>\n",
       "      <td>29</td>\n",
       "      <td>188</td>\n",
       "      <td>417</td>\n",
       "      <td>704</td>\n",
       "      <td>3</td>\n",
       "      <td>936</td>\n",
       "      <td>train/image/000936.jpg</td>\n",
       "      <td>468</td>\n",
       "      <td>705</td>\n",
       "      <td>2</td>\n",
       "      <td>train</td>\n",
       "      <td>/home/chenyi/workspace/dataset/labels/dada_det...</td>\n",
       "    </tr>\n",
       "  </tbody>\n",
       "</table>\n",
       "</div>"
      ],
      "text/plain": [
       "                                                path                label  \\\n",
       "0  /nas/lichangjian/open_fashion/DeepFashion2/tra...                skirt   \n",
       "1  /nas/lichangjian/open_fashion/DeepFashion2/tra...  long sleeve outwear   \n",
       "\n",
       "   x_1  y_1  x_2  y_2  label12  stem                    re_p  width  height  \\\n",
       "0  138  409  330  575        8   936  train/image/000936.jpg    468     705   \n",
       "1   29  188  417  704        3   936  train/image/000936.jpg    468     705   \n",
       "\n",
       "   label_model   mode                                           label_tp  \n",
       "0            4  train  /home/chenyi/workspace/dataset/labels/dada_det...  \n",
       "1            2  train  /home/chenyi/workspace/dataset/labels/dada_det...  "
      ]
     },
     "execution_count": 481,
     "metadata": {},
     "output_type": "execute_result"
    }
   ],
   "source": [
    "df.head(2)"
   ]
  },
  {
   "cell_type": "code",
   "execution_count": 482,
   "id": "a164cebc-0549-4099-8b44-2742ad78ec9d",
   "metadata": {},
   "outputs": [],
   "source": [
    "df_test = df"
   ]
  },
  {
   "cell_type": "code",
   "execution_count": 483,
   "id": "db0f5140-8acb-423f-ad3b-ab609c4d4381",
   "metadata": {},
   "outputs": [
    {
     "name": "stderr",
     "output_type": "stream",
     "text": [
      "9179it [00:03, 2571.53it/s]\n"
     ]
    }
   ],
   "source": [
    "bboxes_list = []\n",
    "for ind,row in tqdm(df_test.iterrows()):\n",
    "    bbox7 = row.loc[['label_model', 'x_1', 'y_1', 'x_2', 'y_2', 'width', 'height']].values.tolist()\n",
    "    bbox5 = bbox7[:6]\n",
    "    bbox5[1:] = bbox_voc2yolo(bbox5[1:], bbox7[5], bbox7[6])\n",
    "    bbox5_str = '{0:.0f} {1:.6f} {2:.6f} {3:.6f} {4:.6f}\\n'.format(*bbox5)\n",
    "    bboxes_list.append(bbox5_str)\n",
    "    # break"
   ]
  },
  {
   "cell_type": "code",
   "execution_count": null,
   "id": "0aa6944a-22a4-4ec9-a44c-b7b239acef39",
   "metadata": {},
   "outputs": [],
   "source": []
  },
  {
   "cell_type": "code",
   "execution_count": 485,
   "id": "e1f3ac86-6d97-4e82-800e-a84458413e8f",
   "metadata": {},
   "outputs": [],
   "source": [
    "def write_txt(label_path, text):\n",
    "    # label_path, text = input_list[0], input_list[1]\n",
    "    label_path = Path(label_path)\n",
    "    p_parent = label_path.parent\n",
    "    if not p_parent.is_dir():\n",
    "        p_parent.mkdir()\n",
    "    if not p_parent.is_file():\n",
    "        with open(label_path, 'a+') as f:\n",
    "            f.write(text)"
   ]
  },
  {
   "cell_type": "code",
   "execution_count": null,
   "id": "ad9f88ab-ee3d-4ab9-858a-5691409b7c0a",
   "metadata": {},
   "outputs": [],
   "source": []
  },
  {
   "cell_type": "code",
   "execution_count": 486,
   "id": "fb96a7ed-2201-4cf7-bfcb-3d1f4170c3be",
   "metadata": {},
   "outputs": [],
   "source": [
    "# troot = Path('/home/chenyi/workspace/dataset/validation_all/skirt8k_df2/labels8/')\n",
    "troot = Path('/home/chenyi/workspace/dataset/labels/dada_det/labels100k_skirt_df2/')"
   ]
  },
  {
   "cell_type": "code",
   "execution_count": 487,
   "id": "b608ed89-10e1-4bfe-a235-d5239ab108c7",
   "metadata": {},
   "outputs": [
    {
     "name": "stderr",
     "output_type": "stream",
     "text": [
      "9179it [00:00, 20630.14it/s]\n"
     ]
    }
   ],
   "source": [
    "import shutil\n",
    "if troot.is_dir():\n",
    "    shutil.rmtree(troot)\n",
    "troot.mkdir(parents=True)\n",
    "for label_path, text in tqdm(zip(df['label_tp'].values, bboxes_list)):\n",
    "    write_txt(label_path, text)\n",
    "    # break"
   ]
  },
  {
   "cell_type": "code",
   "execution_count": null,
   "id": "412e11a4-e226-4dae-9dae-3f8313beecc2",
   "metadata": {},
   "outputs": [],
   "source": []
  },
  {
   "cell_type": "code",
   "execution_count": 488,
   "id": "841cf647-6dbc-44c1-b935-d6054459c4f4",
   "metadata": {},
   "outputs": [
    {
     "data": {
      "text/plain": [
       "'/home/chenyi/workspace/dataset/labels/dada_det/labels100k_skirt_df2/validation/032132.txt'"
      ]
     },
     "execution_count": 488,
     "metadata": {},
     "output_type": "execute_result"
    }
   ],
   "source": [
    "label_path"
   ]
  },
  {
   "cell_type": "code",
   "execution_count": 489,
   "id": "549a5700-86aa-4f37-8010-7213253765be",
   "metadata": {},
   "outputs": [
    {
     "name": "stdout",
     "output_type": "stream",
     "text": [
      "4 0.527344 0.366146 0.770312 0.490625\n",
      "2 0.564063 0.153646 0.865625 0.307292\n"
     ]
    }
   ],
   "source": [
    "!cat $label_path"
   ]
  },
  {
   "cell_type": "code",
   "execution_count": null,
   "id": "48315003-1a2f-491e-a5e5-7bd51f229df7",
   "metadata": {},
   "outputs": [],
   "source": []
  },
  {
   "cell_type": "code",
   "execution_count": null,
   "id": "516edb0b-50e7-4dba-8bbf-58c523f16022",
   "metadata": {},
   "outputs": [],
   "source": []
  },
  {
   "cell_type": "markdown",
   "id": "0e265dd4-82a0-46b8-b756-a59f13b88c4f",
   "metadata": {
    "tags": []
   },
   "source": [
    "#### 生成所有path"
   ]
  },
  {
   "cell_type": "code",
   "execution_count": 111,
   "id": "eff0a8b5-a0bd-4260-ae68-5ef6dd2c0185",
   "metadata": {},
   "outputs": [
    {
     "name": "stdout",
     "output_type": "stream",
     "text": [
      "\u001b[01;34m/home/chenyi/workspace/yolov5/datasets/validation_all/\u001b[00m\n",
      "└── \u001b[01;34mskirt8k_df2\u001b[00m\n",
      "    ├── \u001b[01;34mimages\u001b[00m\n",
      "    └── \u001b[01;34mlabels\u001b[00m\n",
      "\n",
      "3 directories\n",
      "\u001b[01;34m/home/chenyi/workspace/yolov5/datasets/dadet100kv1/\u001b[00m\n",
      "├── \u001b[01;34mimages\u001b[00m\n",
      "│   ├── \u001b[01;34mtrain\u001b[00m\n",
      "│   └── \u001b[01;34mval\u001b[00m\n",
      "└── \u001b[01;34mlabels\u001b[00m\n",
      "    ├── \u001b[01;34mtrain\u001b[00m\n",
      "    └── \u001b[01;34mval\u001b[00m\n",
      "\n",
      "6 directories\n"
     ]
    }
   ],
   "source": [
    "!tree -d -L 2 /home/chenyi/workspace/yolov5/datasets/validation_all/\n",
    "!tree -d -L 2 /home/chenyi/workspace/yolov5/datasets/dadet100kv1/"
   ]
  },
  {
   "cell_type": "code",
   "execution_count": 490,
   "id": "ddbead81-f764-483a-b24c-5160a20a0c16",
   "metadata": {},
   "outputs": [],
   "source": [
    "slink_df = pd.read_csv('./data/skirt_slink.csv')"
   ]
  },
  {
   "cell_type": "code",
   "execution_count": 491,
   "id": "fb2b1a6d-2a96-4af4-b363-847bf5ed1f06",
   "metadata": {},
   "outputs": [],
   "source": [
    "# slink_df.to_csv('./data/skirt_slink.csv', index=False)"
   ]
  },
  {
   "cell_type": "code",
   "execution_count": 492,
   "id": "9435b7f0-76b6-4e1d-a938-7e56f7ddfe38",
   "metadata": {},
   "outputs": [
    {
     "data": {
      "text/plain": [
       "array([[936,\n",
       "        '/home/chenyi/workspace/dataset/labels/dada_det/labels100k_skirt_df2/train/000936.txt',\n",
       "        '/home/chenyi/workspace/yolov5/datasets/dadet100kv1/labels/train/000936.txt',\n",
       "        '/home/chenyi/workspace/yolov5/datasets/dadet100kv1/images/train/000936.jpg',\n",
       "        '/home/chenyi/workspace/dataset/data/DeepFashion2/train/image/000936.jpg',\n",
       "        'train'],\n",
       "       [1014,\n",
       "        '/home/chenyi/workspace/dataset/labels/dada_det/labels100k_skirt_df2/train/001014.txt',\n",
       "        '/home/chenyi/workspace/yolov5/datasets/dadet100kv1/labels/train/001014.txt',\n",
       "        '/home/chenyi/workspace/yolov5/datasets/dadet100kv1/images/train/001014.jpg',\n",
       "        '/home/chenyi/workspace/dataset/data/DeepFashion2/train/image/001014.jpg',\n",
       "        'train']], dtype=object)"
      ]
     },
     "execution_count": 492,
     "metadata": {},
     "output_type": "execute_result"
    }
   ],
   "source": [
    "slink_df.head(2).values"
   ]
  },
  {
   "cell_type": "code",
   "execution_count": 493,
   "id": "dd6e8c7c-2e0b-4870-9726-bfaeacf24b80",
   "metadata": {},
   "outputs": [
    {
     "data": {
      "text/html": [
       "<div>\n",
       "<style scoped>\n",
       "    .dataframe tbody tr th:only-of-type {\n",
       "        vertical-align: middle;\n",
       "    }\n",
       "\n",
       "    .dataframe tbody tr th {\n",
       "        vertical-align: top;\n",
       "    }\n",
       "\n",
       "    .dataframe thead th {\n",
       "        text-align: right;\n",
       "    }\n",
       "</style>\n",
       "<table border=\"1\" class=\"dataframe\">\n",
       "  <thead>\n",
       "    <tr style=\"text-align: right;\">\n",
       "      <th></th>\n",
       "      <th>stem</th>\n",
       "      <th>label_sp</th>\n",
       "      <th>label_tp</th>\n",
       "      <th>img_tp</th>\n",
       "      <th>img_sp</th>\n",
       "      <th>mode</th>\n",
       "    </tr>\n",
       "  </thead>\n",
       "  <tbody>\n",
       "    <tr>\n",
       "      <th>4812</th>\n",
       "      <td>32131</td>\n",
       "      <td>/home/chenyi/workspace/dataset/labels/dada_det...</td>\n",
       "      <td>/home/chenyi/workspace/yolov5/datasets/dadet10...</td>\n",
       "      <td>/home/chenyi/workspace/yolov5/datasets/dadet10...</td>\n",
       "      <td>/home/chenyi/workspace/dataset/data/DeepFashio...</td>\n",
       "      <td>val</td>\n",
       "    </tr>\n",
       "    <tr>\n",
       "      <th>4813</th>\n",
       "      <td>32132</td>\n",
       "      <td>/home/chenyi/workspace/dataset/labels/dada_det...</td>\n",
       "      <td>/home/chenyi/workspace/yolov5/datasets/dadet10...</td>\n",
       "      <td>/home/chenyi/workspace/yolov5/datasets/dadet10...</td>\n",
       "      <td>/home/chenyi/workspace/dataset/data/DeepFashio...</td>\n",
       "      <td>val</td>\n",
       "    </tr>\n",
       "  </tbody>\n",
       "</table>\n",
       "</div>"
      ],
      "text/plain": [
       "       stem                                           label_sp  \\\n",
       "4812  32131  /home/chenyi/workspace/dataset/labels/dada_det...   \n",
       "4813  32132  /home/chenyi/workspace/dataset/labels/dada_det...   \n",
       "\n",
       "                                               label_tp  \\\n",
       "4812  /home/chenyi/workspace/yolov5/datasets/dadet10...   \n",
       "4813  /home/chenyi/workspace/yolov5/datasets/dadet10...   \n",
       "\n",
       "                                                 img_tp  \\\n",
       "4812  /home/chenyi/workspace/yolov5/datasets/dadet10...   \n",
       "4813  /home/chenyi/workspace/yolov5/datasets/dadet10...   \n",
       "\n",
       "                                                 img_sp mode  \n",
       "4812  /home/chenyi/workspace/dataset/data/DeepFashio...  val  \n",
       "4813  /home/chenyi/workspace/dataset/data/DeepFashio...  val  "
      ]
     },
     "execution_count": 493,
     "metadata": {},
     "output_type": "execute_result"
    }
   ],
   "source": [
    "slink_df.tail(2)"
   ]
  },
  {
   "cell_type": "code",
   "execution_count": 494,
   "id": "e51e740d-94a9-4dd3-a72c-c50efb528467",
   "metadata": {},
   "outputs": [],
   "source": [
    "# slink_df['mode'] = slink_df['label_sp'].apply(lambda x: re.findall('/labels100k_skirt_df2/(.*?)/', x)[0])"
   ]
  },
  {
   "cell_type": "code",
   "execution_count": 397,
   "id": "4dda05ee-68d3-4091-9aa6-26ac7d087c63",
   "metadata": {},
   "outputs": [],
   "source": [
    "slink_df['label_tp'] = slink_df.apply(lambda x: '/home/chenyi/workspace/yolov5/datasets/dadet100kv1/labels/{0}/{1}'.format(x['mode'], Path(x['label_tp']).name), axis=1)"
   ]
  },
  {
   "cell_type": "code",
   "execution_count": 399,
   "id": "324f8ebc-08a5-409f-87da-870629ea8df3",
   "metadata": {},
   "outputs": [],
   "source": [
    "slink_df['img_tp'] = slink_df.apply(lambda x: '/home/chenyi/workspace/yolov5/datasets/dadet100kv1/images/{0}/{1}'.format(x['mode'], Path(x['img_tp']).name), axis=1)"
   ]
  },
  {
   "cell_type": "code",
   "execution_count": 495,
   "id": "358d72e1-8f40-4305-bab2-96b81969fb55",
   "metadata": {},
   "outputs": [
    {
     "data": {
      "text/plain": [
       "mode\n",
       "train    3123\n",
       "val      1691\n",
       "dtype: int64"
      ]
     },
     "execution_count": 495,
     "metadata": {},
     "output_type": "execute_result"
    }
   ],
   "source": [
    "slink_df.value_counts('mode')"
   ]
  },
  {
   "cell_type": "code",
   "execution_count": null,
   "id": "25d711ea-a765-43b4-8345-68a3613856c5",
   "metadata": {},
   "outputs": [],
   "source": []
  },
  {
   "cell_type": "markdown",
   "id": "7e278e38-373d-48a4-b973-ef868bc540ca",
   "metadata": {
    "jp-MarkdownHeadingCollapsed": true,
    "tags": []
   },
   "source": [
    "##### 标准路径生成"
   ]
  },
  {
   "cell_type": "code",
   "execution_count": 256,
   "id": "7a9161f4-29f2-4c47-84cc-ccbdc3e772e8",
   "metadata": {},
   "outputs": [],
   "source": [
    "drop_df = df.drop_duplicates('label_tp')"
   ]
  },
  {
   "cell_type": "code",
   "execution_count": 257,
   "id": "bac5c320-bb01-4e9a-8af3-1debe4c06d1d",
   "metadata": {},
   "outputs": [],
   "source": [
    "slink_df = pd.DataFrame()\n",
    "slink_df['stem'] = drop_df['path'].apply(lambda x: Path(x).stem)\n",
    "slink_df['img_sp'] = drop_df['path']\n",
    "slink_df['label_sp'] = drop_df['label_tp']"
   ]
  },
  {
   "cell_type": "code",
   "execution_count": 258,
   "id": "19c3d3e2-a947-4072-9229-83ac2699ed02",
   "metadata": {},
   "outputs": [],
   "source": [
    "root = Path('/home/chenyi/workspace/yolov5/datasets/dadet100kv1/')\n",
    "# root = Path('/home/chenyi/workspace/yolov5/datasets/validation_all/skirt8k_df2/')\n",
    "troot = Path('/home/chenyi/workspace/dataset/data/DeepFashion2/')"
   ]
  },
  {
   "cell_type": "code",
   "execution_count": 259,
   "id": "29e2fef9-bb6c-4b0c-90ec-ca02e590d4b9",
   "metadata": {},
   "outputs": [],
   "source": [
    "# slink_df['label_tp'] = slink_df['label_sp'].apply(lambda x: root /'labels' /x.parts[-2]/x.parts[-1])\n",
    "# slink_df['label_tp'] = drop_df.apply(lambda x: root /'labels' / x['mode'] /x['label_tp'].name, axis=1)\n",
    "slink_df['label_tp'] = slink_df.apply(lambda x: root /'labels' / x['label_sp'].parts[-2] /x['label_sp'].name, axis=1)"
   ]
  },
  {
   "cell_type": "code",
   "execution_count": 260,
   "id": "0aafdd3b-f86c-4efd-8761-2be9521fdb48",
   "metadata": {},
   "outputs": [],
   "source": [
    "slink_df['img_tp'] = slink_df['label_tp'].apply(lambda x: root /'images' /x.parts[-2]/x.parts[-1])\n",
    "slink_df['img_tp'] = slink_df['img_tp'].apply(lambda x: x.with_suffix('.jpg'))"
   ]
  },
  {
   "cell_type": "code",
   "execution_count": 261,
   "id": "06cc3840-449b-4e3a-89b0-97a30a0acb35",
   "metadata": {},
   "outputs": [],
   "source": [
    "# slink_df['img_sp'] = slink_df['image_tpath'].apply(lambda x: troot /'images' /x.parts[-2]/x.parts[-1])\n",
    "slink_df['img_sp'] = slink_df['img_sp'].apply(lambda x: str(x).replace('/nas/lichangjian/open_fashion/DeepFashion2', str(troot)))"
   ]
  },
  {
   "cell_type": "code",
   "execution_count": 262,
   "id": "a4bfbcdf-b96d-4a91-a38a-797e10d7b55d",
   "metadata": {},
   "outputs": [
    {
     "data": {
      "text/plain": [
       "array([['000936',\n",
       "        '/home/chenyi/workspace/dataset/data/DeepFashion2/train/image/000936.jpg',\n",
       "        PosixPath('/home/chenyi/workspace/dataset/labels/dada_det/labels100k_skirt_df2/train/000936.txt'),\n",
       "        PosixPath('/home/chenyi/workspace/yolov5/datasets/dadet100kv1/labels/train/000936.txt'),\n",
       "        PosixPath('/home/chenyi/workspace/yolov5/datasets/dadet100kv1/images/train/000936.jpg')],\n",
       "       ['001014',\n",
       "        '/home/chenyi/workspace/dataset/data/DeepFashion2/train/image/001014.jpg',\n",
       "        PosixPath('/home/chenyi/workspace/dataset/labels/dada_det/labels100k_skirt_df2/train/001014.txt'),\n",
       "        PosixPath('/home/chenyi/workspace/yolov5/datasets/dadet100kv1/labels/train/001014.txt'),\n",
       "        PosixPath('/home/chenyi/workspace/yolov5/datasets/dadet100kv1/images/train/001014.jpg')]],\n",
       "      dtype=object)"
      ]
     },
     "execution_count": 262,
     "metadata": {},
     "output_type": "execute_result"
    }
   ],
   "source": [
    "slink_df.head(2).values"
   ]
  },
  {
   "cell_type": "code",
   "execution_count": null,
   "id": "57c2de3f-0208-456b-9286-65d42b78dfd3",
   "metadata": {},
   "outputs": [],
   "source": []
  },
  {
   "cell_type": "code",
   "execution_count": null,
   "id": "78343685-b1a7-4c41-8cb2-05dbd1b8ae5d",
   "metadata": {},
   "outputs": [],
   "source": [
    "# slink_df.to_csv('data/skirt_slink.csv', index=False)"
   ]
  },
  {
   "cell_type": "code",
   "execution_count": null,
   "id": "3db94b75-23ab-4eb8-9aa9-67c1b55eadd6",
   "metadata": {},
   "outputs": [],
   "source": []
  },
  {
   "cell_type": "code",
   "execution_count": null,
   "id": "a27c57ae-8c02-486f-b120-6678f8deb9e1",
   "metadata": {},
   "outputs": [],
   "source": []
  },
  {
   "cell_type": "markdown",
   "id": "31456e3a-4b13-41d1-b3f3-29f0a4e9c7f2",
   "metadata": {},
   "source": [
    "#### 生成sym link"
   ]
  },
  {
   "cell_type": "code",
   "execution_count": 511,
   "id": "6bfbd252-58d0-4a7b-b404-adefeb1dcd85",
   "metadata": {},
   "outputs": [
    {
     "name": "stdout",
     "output_type": "stream",
     "text": [
      "\u001b[01;34m/home/chenyi/workspace/yolov5/datasets/dadet100kv1/\u001b[00m\n",
      "├── \u001b[01;34mimages\u001b[00m\n",
      "│   ├── \u001b[01;34mtrain\u001b[00m\n",
      "│   └── \u001b[01;34mval\u001b[00m\n",
      "└── \u001b[01;34mlabels\u001b[00m\n",
      "    ├── \u001b[01;34mtrain\u001b[00m\n",
      "    └── \u001b[01;34mval\u001b[00m\n",
      "\n",
      "6 directories\n"
     ]
    }
   ],
   "source": [
    "root = '/home/chenyi/workspace/yolov5/datasets/validation_all/skirt8k_df2/'\n",
    "root = '/home/chenyi/workspace/yolov5/datasets/dadet100kv1/'\n",
    "!tree  -d -L 2 $root"
   ]
  },
  {
   "cell_type": "code",
   "execution_count": 512,
   "id": "590c6fc0-6113-434f-99a0-028afafde9a7",
   "metadata": {},
   "outputs": [],
   "source": [
    "slink_df = pd.read_csv('./data/skirt_slink.csv')"
   ]
  },
  {
   "cell_type": "code",
   "execution_count": 513,
   "id": "f1e2ece4-5c13-4117-b6e8-a38881869822",
   "metadata": {},
   "outputs": [
    {
     "data": {
      "text/plain": [
       "array([[32131,\n",
       "        '/home/chenyi/workspace/dataset/labels/dada_det/labels100k_skirt_df2/validation/032131.txt',\n",
       "        '/home/chenyi/workspace/yolov5/datasets/dadet100kv1/labels/val/032131.txt',\n",
       "        '/home/chenyi/workspace/yolov5/datasets/dadet100kv1/images/val/032131.jpg',\n",
       "        '/home/chenyi/workspace/dataset/data/DeepFashion2/validation/image/032131.jpg',\n",
       "        'val'],\n",
       "       [32132,\n",
       "        '/home/chenyi/workspace/dataset/labels/dada_det/labels100k_skirt_df2/validation/032132.txt',\n",
       "        '/home/chenyi/workspace/yolov5/datasets/dadet100kv1/labels/val/032132.txt',\n",
       "        '/home/chenyi/workspace/yolov5/datasets/dadet100kv1/images/val/032132.jpg',\n",
       "        '/home/chenyi/workspace/dataset/data/DeepFashion2/validation/image/032132.jpg',\n",
       "        'val']], dtype=object)"
      ]
     },
     "execution_count": 513,
     "metadata": {},
     "output_type": "execute_result"
    }
   ],
   "source": [
    "slink_df.tail(2).values"
   ]
  },
  {
   "cell_type": "code",
   "execution_count": 514,
   "id": "7781f376-9053-48ed-b284-19938fa7e9a5",
   "metadata": {},
   "outputs": [
    {
     "data": {
      "text/html": [
       "<div>\n",
       "<style scoped>\n",
       "    .dataframe tbody tr th:only-of-type {\n",
       "        vertical-align: middle;\n",
       "    }\n",
       "\n",
       "    .dataframe tbody tr th {\n",
       "        vertical-align: top;\n",
       "    }\n",
       "\n",
       "    .dataframe thead th {\n",
       "        text-align: right;\n",
       "    }\n",
       "</style>\n",
       "<table border=\"1\" class=\"dataframe\">\n",
       "  <thead>\n",
       "    <tr style=\"text-align: right;\">\n",
       "      <th></th>\n",
       "      <th>stem</th>\n",
       "      <th>label_sp</th>\n",
       "      <th>label_tp</th>\n",
       "      <th>img_tp</th>\n",
       "      <th>img_sp</th>\n",
       "      <th>mode</th>\n",
       "    </tr>\n",
       "  </thead>\n",
       "  <tbody>\n",
       "    <tr>\n",
       "      <th>4812</th>\n",
       "      <td>32131</td>\n",
       "      <td>/home/chenyi/workspace/dataset/labels/dada_det...</td>\n",
       "      <td>/home/chenyi/workspace/yolov5/datasets/dadet10...</td>\n",
       "      <td>/home/chenyi/workspace/yolov5/datasets/dadet10...</td>\n",
       "      <td>/home/chenyi/workspace/dataset/data/DeepFashio...</td>\n",
       "      <td>val</td>\n",
       "    </tr>\n",
       "    <tr>\n",
       "      <th>4813</th>\n",
       "      <td>32132</td>\n",
       "      <td>/home/chenyi/workspace/dataset/labels/dada_det...</td>\n",
       "      <td>/home/chenyi/workspace/yolov5/datasets/dadet10...</td>\n",
       "      <td>/home/chenyi/workspace/yolov5/datasets/dadet10...</td>\n",
       "      <td>/home/chenyi/workspace/dataset/data/DeepFashio...</td>\n",
       "      <td>val</td>\n",
       "    </tr>\n",
       "  </tbody>\n",
       "</table>\n",
       "</div>"
      ],
      "text/plain": [
       "       stem                                           label_sp  \\\n",
       "4812  32131  /home/chenyi/workspace/dataset/labels/dada_det...   \n",
       "4813  32132  /home/chenyi/workspace/dataset/labels/dada_det...   \n",
       "\n",
       "                                               label_tp  \\\n",
       "4812  /home/chenyi/workspace/yolov5/datasets/dadet10...   \n",
       "4813  /home/chenyi/workspace/yolov5/datasets/dadet10...   \n",
       "\n",
       "                                                 img_tp  \\\n",
       "4812  /home/chenyi/workspace/yolov5/datasets/dadet10...   \n",
       "4813  /home/chenyi/workspace/yolov5/datasets/dadet10...   \n",
       "\n",
       "                                                 img_sp mode  \n",
       "4812  /home/chenyi/workspace/dataset/data/DeepFashio...  val  \n",
       "4813  /home/chenyi/workspace/dataset/data/DeepFashio...  val  "
      ]
     },
     "execution_count": 514,
     "metadata": {},
     "output_type": "execute_result"
    }
   ],
   "source": [
    "slink_df.tail(2)"
   ]
  },
  {
   "cell_type": "code",
   "execution_count": null,
   "id": "bf823309-fae9-4b8b-9bdc-b467eac3d4d2",
   "metadata": {},
   "outputs": [],
   "source": []
  },
  {
   "cell_type": "code",
   "execution_count": 520,
   "id": "801d2020-58ac-4506-92a0-a4f79b7ca4db",
   "metadata": {},
   "outputs": [
    {
     "data": {
      "text/plain": [
       "(4814, 4814)"
      ]
     },
     "execution_count": 520,
     "metadata": {},
     "output_type": "execute_result"
    }
   ],
   "source": [
    "len(glob.glob(f'{root}images/*/*.jpg')), len(glob.glob(f'{root}labels/*/*.txt'))"
   ]
  },
  {
   "cell_type": "code",
   "execution_count": 499,
   "id": "6b5a0227-b70b-4e43-b834-04234550a536",
   "metadata": {
    "tags": []
   },
   "outputs": [
    {
     "name": "stderr",
     "output_type": "stream",
     "text": [
      "0it [00:00, ?it/s]"
     ]
    },
    {
     "name": "stdout",
     "output_type": "stream",
     "text": [
      "CPU times: user 1.29 ms, sys: 258 µs, total: 1.55 ms\n",
      "Wall time: 1.25 ms\n"
     ]
    },
    {
     "name": "stderr",
     "output_type": "stream",
     "text": [
      "\n"
     ]
    }
   ],
   "source": [
    "# %%time\n",
    "# for p in tqdm(glob.glob(f'{root}images/*/*.jpg')+glob.glob(f'{root}labels/*/*.txt')):\n",
    "#     if Path(p).is_file():\n",
    "#         Path(p).unlink()"
   ]
  },
  {
   "cell_type": "code",
   "execution_count": null,
   "id": "9412abf8-47fd-4079-afaa-05f3fa490e31",
   "metadata": {},
   "outputs": [],
   "source": []
  },
  {
   "cell_type": "code",
   "execution_count": 510,
   "id": "f0e43e4f-387d-44c6-8b9d-7c2247e04178",
   "metadata": {
    "tags": []
   },
   "outputs": [
    {
     "name": "stdout",
     "output_type": "stream",
     "text": [
      "CPU times: user 133 ms, sys: 82 ms, total: 215 ms\n",
      "Wall time: 218 ms\n"
     ]
    }
   ],
   "source": [
    "%%time\n",
    "for p in slink_df['img_tp'].values:\n",
    "    if Path(p).is_file():\n",
    "        Path(p).unlink()\n",
    "_ = slink_df.apply(lambda row: Path.symlink_to(Path(row['img_tp']), Path(row['img_sp'])), axis=1)"
   ]
  },
  {
   "cell_type": "code",
   "execution_count": 415,
   "id": "cd630942-08fa-401b-ae2c-959ed8fb58f4",
   "metadata": {},
   "outputs": [],
   "source": []
  },
  {
   "cell_type": "code",
   "execution_count": 516,
   "id": "5f2dfc8e-2177-4a62-96ff-bc7d334dbc1c",
   "metadata": {},
   "outputs": [
    {
     "name": "stdout",
     "output_type": "stream",
     "text": [
      "CPU times: user 169 ms, sys: 85 ms, total: 254 ms\n",
      "Wall time: 272 ms\n"
     ]
    }
   ],
   "source": [
    "%%time\n",
    "for p in slink_df['label_tp'].values:\n",
    "    if Path(p).is_file():\n",
    "        Path(p).unlink()\n",
    "_ = slink_df.apply(lambda row: Path.symlink_to(Path(row['label_tp']), Path(row['label_sp'])), axis=1)\n",
    "# _ = slink_df.apply(lambda row: os.symlink(str(row['label_sp']), str(row['label_tp'])), axis=1)"
   ]
  },
  {
   "cell_type": "code",
   "execution_count": 517,
   "id": "c4668dc3-4c5c-4c1b-8d93-d44f92a30dfa",
   "metadata": {},
   "outputs": [
    {
     "data": {
      "text/plain": [
       "(4814, 4814)"
      ]
     },
     "execution_count": 517,
     "metadata": {},
     "output_type": "execute_result"
    }
   ],
   "source": [
    "len(glob.glob(f'{root}images/*/*.jpg')), len(glob.glob(f'{root}labels/*/*.txt'))"
   ]
  },
  {
   "cell_type": "code",
   "execution_count": 518,
   "id": "1fc942ac-1f23-4c91-a364-ec900458d987",
   "metadata": {},
   "outputs": [
    {
     "name": "stdout",
     "output_type": "stream",
     "text": [
      "4 0.500000 0.697872 0.410256 0.235461\n",
      "2 0.476496 0.632624 0.829060 0.731915\n"
     ]
    }
   ],
   "source": [
    "p = str(slink_df['label_tp'][0])\n",
    "!cat $p"
   ]
  },
  {
   "cell_type": "code",
   "execution_count": 519,
   "id": "8cffff69-01d6-4a6b-a8c4-8fa86f156cad",
   "metadata": {},
   "outputs": [
    {
     "data": {
      "image/png": "[encoded data removed]",
      "text/plain": [
       "<PIL.JpegImagePlugin.JpegImageFile image mode=RGB size=468x705>"
      ]
     },
     "execution_count": 519,
     "metadata": {},
     "output_type": "execute_result"
    }
   ],
   "source": [
    "Image.open(slink_df['img_tp'][0])"
   ]
  },
  {
   "cell_type": "code",
   "execution_count": null,
   "id": "44868d00-477f-4f7d-96d8-4b09556efa0b",
   "metadata": {},
   "outputs": [],
   "source": []
  },
  {
   "cell_type": "markdown",
   "id": "b7e6130b-b727-4113-b2dc-9ad39b532e8e",
   "metadata": {
    "jp-MarkdownHeadingCollapsed": true,
    "tags": []
   },
   "source": [
    "### 数据拷贝"
   ]
  },
  {
   "cell_type": "code",
   "execution_count": null,
   "id": "a22b1936-d32f-4cf1-962d-ce575f5c9cd3",
   "metadata": {},
   "outputs": [],
   "source": [
    "sys.path.append('../../utils/data/')\n",
    "from transferData import run_task_multithread,copy_data, copy_data_mkdir\n",
    "import shutil\n",
    "\n",
    "def copy_data_mkdir(plist, mode='copy'):\n",
    "    ps = Path(plist[0])\n",
    "    pt = Path(plist[1])\n",
    "    if not pt.parent.is_dir():\n",
    "        pt.parent.mkdir(parents=True, exist_ok=True)\n",
    "    if not pt.is_file():\n",
    "        shutil.copyfile(ps, pt)"
   ]
  },
  {
   "cell_type": "code",
   "execution_count": null,
   "id": "0856dc2b-688d-41f5-ac53-c7ccd268bb1e",
   "metadata": {},
   "outputs": [],
   "source": [
    "df8.reset_index(inplace=True)"
   ]
  },
  {
   "cell_type": "code",
   "execution_count": null,
   "id": "16991a93-b2fc-4942-96eb-b2198519dea7",
   "metadata": {},
   "outputs": [],
   "source": [
    "df8.head(2)"
   ]
  },
  {
   "cell_type": "code",
   "execution_count": null,
   "id": "96bfaf42-3f61-4814-8332-feafbd30127c",
   "metadata": {},
   "outputs": [],
   "source": [
    "df8['folder'] = ''"
   ]
  },
  {
   "cell_type": "code",
   "execution_count": null,
   "id": "d23c8c5b-cabe-4c4a-92e7-ceef7aa5f17c",
   "metadata": {},
   "outputs": [],
   "source": [
    "df8['spath'] = df8['path'].apply(lambda x: str(int(Path(x).stem)//2**8))"
   ]
  },
  {
   "cell_type": "code",
   "execution_count": null,
   "id": "2da8e5a1-df5e-43d7-8e12-5980ac81c343",
   "metadata": {},
   "outputs": [],
   "source": [
    "df8['folder'] = df8['path'].apply(lambda x: str(int(Path(x).stem)//2**8))"
   ]
  },
  {
   "cell_type": "code",
   "execution_count": null,
   "id": "e29e0814-26dc-483c-8663-e5ebb72b711e",
   "metadata": {},
   "outputs": [],
   "source": []
  },
  {
   "cell_type": "code",
   "execution_count": null,
   "id": "0063314c-6c4e-4644-bbd9-2bc9c69e234f",
   "metadata": {},
   "outputs": [],
   "source": [
    "!mkdir -p '/home/chenyi/workspace/dataset_clr/deepfashion2_drawed'"
   ]
  },
  {
   "cell_type": "code",
   "execution_count": null,
   "id": "aa0fcc80-0feb-4942-b266-aa9e945004b8",
   "metadata": {},
   "outputs": [],
   "source": [
    "root = '/home/chenyi/workspace/dataset_clr/deepfashion2_drawed/'"
   ]
  },
  {
   "cell_type": "code",
   "execution_count": null,
   "id": "8b3469a7-b5c6-4ed0-b26e-eee9152246a0",
   "metadata": {},
   "outputs": [],
   "source": [
    "df8['spath'] = df8['path'].apply(lambda x: str(x).replace('/nas/lichangjian/open_fashion/DeepFashion2/', '/nas/lichangjian/open_fashion_20220527/DeepFashion2/'))"
   ]
  },
  {
   "cell_type": "code",
   "execution_count": null,
   "id": "98aa4a17-a080-4e1a-ac39-449a86f0a20a",
   "metadata": {},
   "outputs": [],
   "source": [
    "df8.head(2).values"
   ]
  },
  {
   "cell_type": "code",
   "execution_count": null,
   "id": "98938dff-5cbe-4295-9a40-ade6cd866f45",
   "metadata": {},
   "outputs": [],
   "source": [
    "df8['tpath'] = df8.apply(lambda row: '{0}{1}/image/{2}/{3}'.format(root, row['path'].parts[-3], row['folder'], row['path'].name), axis=1)"
   ]
  },
  {
   "cell_type": "code",
   "execution_count": null,
   "id": "7b4efdaf-185b-401a-93a4-3d692d3e07a9",
   "metadata": {},
   "outputs": [],
   "source": [
    "len(df8), len(df8.drop_duplicates('path'))"
   ]
  },
  {
   "cell_type": "code",
   "execution_count": null,
   "id": "56a937e4-ecbc-45d3-82b4-5f457bbce234",
   "metadata": {},
   "outputs": [],
   "source": []
  },
  {
   "cell_type": "code",
   "execution_count": null,
   "id": "ef7a895e-3a3b-48cd-a093-59b01219d3fd",
   "metadata": {},
   "outputs": [],
   "source": []
  },
  {
   "cell_type": "code",
   "execution_count": null,
   "id": "a2d83313-677f-48d6-8de5-ab2ee4d5a444",
   "metadata": {},
   "outputs": [],
   "source": [
    "input_list = list(zip(df8['spath'].values.tolist(), df8['tpath'].values.tolist()))\n",
    "input_list = [list(item) for item in input_list]"
   ]
  },
  {
   "cell_type": "code",
   "execution_count": null,
   "id": "98840e2f-2792-41f2-aa38-ca702798029e",
   "metadata": {},
   "outputs": [],
   "source": [
    "input_list[0]"
   ]
  },
  {
   "cell_type": "code",
   "execution_count": null,
   "id": "ae040624-fe74-4aa3-957e-64411661ec96",
   "metadata": {},
   "outputs": [],
   "source": [
    "%%time\n",
    "run_task_multithread(input_list, func=copy_data_mkdir, thread_num = 20)"
   ]
  },
  {
   "cell_type": "code",
   "execution_count": null,
   "id": "92fe3523-cbf1-4483-8f7e-c35bde9cb73d",
   "metadata": {},
   "outputs": [],
   "source": []
  },
  {
   "cell_type": "code",
   "execution_count": null,
   "id": "2aa16b02-fdd5-44cf-bb15-7429c0ed5249",
   "metadata": {},
   "outputs": [],
   "source": []
  },
  {
   "cell_type": "code",
   "execution_count": null,
   "id": "9e0f9c40-1951-4271-9c69-7fe83896b423",
   "metadata": {},
   "outputs": [],
   "source": []
  },
  {
   "cell_type": "code",
   "execution_count": null,
   "id": "da965f97-5b06-4ff6-8205-66a8cc8236eb",
   "metadata": {},
   "outputs": [],
   "source": []
  }
 ],
 "metadata": {
  "kernelspec": {
   "display_name": "Python 3 (ipykernel)",
   "language": "python",
   "name": "python3"
  },
  "language_info": {
   "codemirror_mode": {
    "name": "ipython",
    "version": 3
   },
   "file_extension": ".py",
   "mimetype": "text/x-python",
   "name": "python",
   "nbconvert_exporter": "python",
   "pygments_lexer": "ipython3",
   "version": "3.8.13"
  }
 },
 "nbformat": 4,
 "nbformat_minor": 5
}
