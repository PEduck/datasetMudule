{
 "cells": [
  {
   "cell_type": "markdown",
   "id": "0036eef0-7aca-4948-8a23-52c1b3e5da86",
   "metadata": {},
   "source": [
    "## Soft Linked"
   ]
  },
  {
   "cell_type": "code",
   "execution_count": 1,
   "id": "4277de02-43d1-4d53-ba29-6c32e003bb65",
   "metadata": {},
   "outputs": [],
   "source": [
    "from pathlib import Path\n",
    "import glob\n",
    "import os\n",
    "import pandas as pd"
   ]
  },
  {
   "cell_type": "code",
   "execution_count": null,
   "id": "5ba97d70-259d-4d16-a44f-77207061fca5",
   "metadata": {},
   "outputs": [],
   "source": []
  },
  {
   "cell_type": "code",
   "execution_count": null,
   "id": "84ed0a08-9609-42d0-b6da-4c0e1203987d",
   "metadata": {},
   "outputs": [],
   "source": []
  },
  {
   "cell_type": "markdown",
   "id": "9cd18a64-bef7-4f0c-bf0b-5a678e903743",
   "metadata": {},
   "source": [
    "### Dataload"
   ]
  },
  {
   "cell_type": "code",
   "execution_count": 12,
   "id": "c3b21d19-a1ba-4a37-963b-7e93accb7975",
   "metadata": {},
   "outputs": [
    {
     "name": "stdout",
     "output_type": "stream",
     "text": [
      "\u001b[01;34m/home/chenyi/workspace/dataset/deepedia/\u001b[00m\n",
      "├── \u001b[01;34mdeepedia6\u001b[00m\n",
      "├── \u001b[01;34minfo\u001b[00m\n",
      "│   ├── \u001b[01;34mcsv\u001b[00m\n",
      "│   ├── \u001b[01;34mdeepedia\u001b[00m\n",
      "│   └── \u001b[01;34mpickle\u001b[00m\n",
      "├── \u001b[01;34mlabels94\u001b[00m\n",
      "│   ├── \u001b[01;34mtrain\u001b[00m\n",
      "│   ├── train.cache\n",
      "│   ├── \u001b[01;34mval\u001b[00m\n",
      "│   └── val.cache\n",
      "├── \u001b[01;31mlabels94.tar\u001b[00m\n",
      "├── \u001b[01;34mlabels_catg8\u001b[00m\n",
      "│   ├── \u001b[01;34mtrain\u001b[00m\n",
      "│   ├── train.cache\n",
      "│   ├── \u001b[01;34mval\u001b[00m\n",
      "│   └── val.cache\n",
      "└── \u001b[01;31mlabels_catg8.tar\u001b[00m\n",
      "\n",
      "11 directories, 6 files\n"
     ]
    }
   ],
   "source": [
    "!tree  -L 2 /home/chenyi/workspace/dataset/deepedia/"
   ]
  },
  {
   "cell_type": "code",
   "execution_count": 11,
   "id": "55eacff8-462e-43c7-8fa7-816a277592ec",
   "metadata": {},
   "outputs": [],
   "source": [
    "!mkdir /home/chenyi/workspace/dataset/deepedia/deepedia6"
   ]
  },
  {
   "cell_type": "code",
   "execution_count": 13,
   "id": "e00e972a-5794-41a2-ad66-ba12aa115e7e",
   "metadata": {},
   "outputs": [],
   "source": [
    "dpedia_clr = pd.read_csv('/home/chenyi/workspace/dataset/deepedia/info/deepedia/dpedia_clr_temp.csv')"
   ]
  },
  {
   "cell_type": "code",
   "execution_count": 15,
   "id": "f82649e0-01b4-4dc9-ab41-73bafa56b5ef",
   "metadata": {},
   "outputs": [
    {
     "data": {
      "text/html": [
       "<div>\n",
       "<style scoped>\n",
       "    .dataframe tbody tr th:only-of-type {\n",
       "        vertical-align: middle;\n",
       "    }\n",
       "\n",
       "    .dataframe tbody tr th {\n",
       "        vertical-align: top;\n",
       "    }\n",
       "\n",
       "    .dataframe thead th {\n",
       "        text-align: right;\n",
       "    }\n",
       "</style>\n",
       "<table border=\"1\" class=\"dataframe\">\n",
       "  <thead>\n",
       "    <tr style=\"text-align: right;\">\n",
       "      <th></th>\n",
       "      <th>img_sp</th>\n",
       "      <th>id_bbox</th>\n",
       "      <th>width</th>\n",
       "      <th>height</th>\n",
       "      <th>mode</th>\n",
       "      <th>label8</th>\n",
       "      <th>bx1</th>\n",
       "      <th>bx2</th>\n",
       "      <th>bx3</th>\n",
       "      <th>bx4</th>\n",
       "      <th>source</th>\n",
       "    </tr>\n",
       "  </thead>\n",
       "  <tbody>\n",
       "    <tr>\n",
       "      <th>0</th>\n",
       "      <td>/home/chenyi/workspace/dataset/data/data_fashi...</td>\n",
       "      <td>2</td>\n",
       "      <td>681</td>\n",
       "      <td>1024</td>\n",
       "      <td>train</td>\n",
       "      <td>2</td>\n",
       "      <td>0.551395</td>\n",
       "      <td>0.898926</td>\n",
       "      <td>53.0</td>\n",
       "      <td>127.0</td>\n",
       "      <td>fashionpedia</td>\n",
       "    </tr>\n",
       "    <tr>\n",
       "      <th>1</th>\n",
       "      <td>/home/chenyi/workspace/dataset/data/data_fashi...</td>\n",
       "      <td>3</td>\n",
       "      <td>681</td>\n",
       "      <td>1024</td>\n",
       "      <td>train</td>\n",
       "      <td>2</td>\n",
       "      <td>0.477974</td>\n",
       "      <td>0.869629</td>\n",
       "      <td>43.0</td>\n",
       "      <td>39.0</td>\n",
       "      <td>fashionpedia</td>\n",
       "    </tr>\n",
       "  </tbody>\n",
       "</table>\n",
       "</div>"
      ],
      "text/plain": [
       "                                              img_sp  id_bbox  width  height  \\\n",
       "0  /home/chenyi/workspace/dataset/data/data_fashi...        2    681    1024   \n",
       "1  /home/chenyi/workspace/dataset/data/data_fashi...        3    681    1024   \n",
       "\n",
       "    mode  label8       bx1       bx2   bx3    bx4        source  \n",
       "0  train       2  0.551395  0.898926  53.0  127.0  fashionpedia  \n",
       "1  train       2  0.477974  0.869629  43.0   39.0  fashionpedia  "
      ]
     },
     "execution_count": 15,
     "metadata": {},
     "output_type": "execute_result"
    }
   ],
   "source": [
    "dpedia_clr.head(2)"
   ]
  },
  {
   "cell_type": "code",
   "execution_count": 20,
   "id": "ea6ac9eb-b477-4669-ae0e-5cf0b12401d7",
   "metadata": {},
   "outputs": [
    {
     "data": {
      "text/plain": [
       "label8\n",
       "0     43178\n",
       "1      7121\n",
       "2    214911\n",
       "3    119410\n",
       "4     41089\n",
       "5     49134\n",
       "dtype: int64"
      ]
     },
     "execution_count": 20,
     "metadata": {},
     "output_type": "execute_result"
    }
   ],
   "source": [
    "dpedia_clr.value_counts('label8').sort_index()"
   ]
  },
  {
   "cell_type": "code",
   "execution_count": null,
   "id": "530925f7-6dc2-40a8-b54f-3175912087c1",
   "metadata": {},
   "outputs": [],
   "source": []
  },
  {
   "cell_type": "code",
   "execution_count": null,
   "id": "210d3323-4162-4852-8641-37be08f3e96b",
   "metadata": {},
   "outputs": [],
   "source": []
  },
  {
   "cell_type": "markdown",
   "id": "35337ef7-8925-43e3-8a59-80e3023cb84c",
   "metadata": {},
   "source": [
    "#### 数据预处理"
   ]
  },
  {
   "cell_type": "code",
   "execution_count": 17,
   "id": "8d148c9f-4374-48c8-8f77-dcd3c512db84",
   "metadata": {},
   "outputs": [],
   "source": [
    "dpedia_clr['label8'] = dpedia_clr['label8'].values-2"
   ]
  },
  {
   "cell_type": "code",
   "execution_count": 22,
   "id": "ad3bdae7-143a-4d59-af5f-48e42a4da897",
   "metadata": {},
   "outputs": [],
   "source": [
    "dpedia_clr['bx3'] = dpedia_clr['bx3'].values / dpedia_clr['width'].values\n",
    "dpedia_clr['bx4'] = dpedia_clr['bx4'].values / dpedia_clr['height'].values"
   ]
  },
  {
   "cell_type": "code",
   "execution_count": null,
   "id": "ab9e7a3c-0699-4ca3-ae68-76156921db0e",
   "metadata": {},
   "outputs": [],
   "source": []
  },
  {
   "cell_type": "code",
   "execution_count": null,
   "id": "bf9b8148-1bdc-44d3-a423-751902296af8",
   "metadata": {},
   "outputs": [],
   "source": []
  },
  {
   "cell_type": "code",
   "execution_count": 32,
   "id": "18b83299-37fb-4fb2-9a45-514ce17bd2a5",
   "metadata": {},
   "outputs": [],
   "source": [
    "dpedia_clr['fname'] = dpedia_clr['img_sp'].apply(\n",
    "    lambda x: Path(x).name)"
   ]
  },
  {
   "cell_type": "code",
   "execution_count": 39,
   "id": "fc230fbe-e156-4643-adda-5ea0b9ceecaa",
   "metadata": {},
   "outputs": [],
   "source": [
    "dpedia_clr['label_sp'] = dpedia_clr.apply(\n",
    "    lambda row:'/home/chenyi/workspace/dataset/deepedia/deepedia6/{0}/{1}'.format(row['mode'], row['fname']), axis=1)"
   ]
  },
  {
   "cell_type": "code",
   "execution_count": 50,
   "id": "9ef4bad3-f645-4217-adbc-f06cb6c9519d",
   "metadata": {},
   "outputs": [],
   "source": [
    "dpedia_clr['label_sp'] =  dpedia_clr['label_sp'].apply(lambda x:x.replace('.jpg', '.txt'))"
   ]
  },
  {
   "cell_type": "code",
   "execution_count": 66,
   "id": "88a6b6e4-94f0-4a97-82a1-832192a30a97",
   "metadata": {},
   "outputs": [
    {
     "data": {
      "text/plain": [
       "array([['/home/chenyi/workspace/dataset/data/data_fashionpedia/train/0002ec21ddb8477e98b2cbb87ea2e269.jpg',\n",
       "        2, 681, 1024, 'train', 0, 0.5513950073421439, 0.89892578125,\n",
       "        0.07782672540381791, 0.1240234375, 'fashionpedia',\n",
       "        '0002ec21ddb8477e98b2cbb87ea2e269.jpg',\n",
       "        '/home/chenyi/workspace/dataset/deepedia/deepedia6/train/0002ec21ddb8477e98b2cbb87ea2e269.txt'],\n",
       "       ['/home/chenyi/workspace/dataset/data/data_fashionpedia/train/0002ec21ddb8477e98b2cbb87ea2e269.jpg',\n",
       "        3, 681, 1024, 'train', 0, 0.4779735682819383, 0.86962890625,\n",
       "        0.0631424375917768, 0.0380859375, 'fashionpedia',\n",
       "        '0002ec21ddb8477e98b2cbb87ea2e269.jpg',\n",
       "        '/home/chenyi/workspace/dataset/deepedia/deepedia6/train/0002ec21ddb8477e98b2cbb87ea2e269.txt']],\n",
       "      dtype=object)"
      ]
     },
     "execution_count": 66,
     "metadata": {},
     "output_type": "execute_result"
    }
   ],
   "source": [
    "dpedia_clr.head(2).values"
   ]
  },
  {
   "cell_type": "code",
   "execution_count": null,
   "id": "72aecf01-d943-487b-870c-42021da95f80",
   "metadata": {},
   "outputs": [],
   "source": []
  },
  {
   "cell_type": "code",
   "execution_count": null,
   "id": "f4b44540-b884-40e1-a6a7-aac46eae4e2d",
   "metadata": {},
   "outputs": [],
   "source": []
  },
  {
   "cell_type": "markdown",
   "id": "a75e2569-9abc-4c45-bae4-1d61f9f45b7e",
   "metadata": {},
   "source": [
    "### 生成label txt"
   ]
  },
  {
   "cell_type": "code",
   "execution_count": 51,
   "id": "806bd806-e9b0-4616-a1f0-4181176ef0ee",
   "metadata": {},
   "outputs": [],
   "source": [
    "df = dpedia_clr"
   ]
  },
  {
   "cell_type": "code",
   "execution_count": 54,
   "id": "d9c7a226-9c68-4528-a49f-e6034b7db0cb",
   "metadata": {},
   "outputs": [
    {
     "name": "stdout",
     "output_type": "stream",
     "text": [
      "CPU times: user 2min 4s, sys: 0 ns, total: 2min 4s\n",
      "Wall time: 2min 10s\n"
     ]
    }
   ],
   "source": [
    "%%time\n",
    "input_list = df.apply(lambda x: \n",
    "                        [x['label_sp'], \n",
    "                         '{0:.0f} {1:.6f} {2:.6f} {3:.6f} {4:.6f}\\n'.format(\n",
    "                             *x.loc[['label8', 'bx1','bx2', 'bx3', 'bx4',]])], \n",
    "                        axis=1)"
   ]
  },
  {
   "cell_type": "code",
   "execution_count": 55,
   "id": "9f36b6a9-09b4-425e-963c-45da40d8a914",
   "metadata": {},
   "outputs": [],
   "source": [
    "input_list = input_list.values.tolist()"
   ]
  },
  {
   "cell_type": "code",
   "execution_count": 56,
   "id": "0ae29aab-e92a-4dad-9bb8-6b5f4cb1a14d",
   "metadata": {},
   "outputs": [
    {
     "data": {
      "text/plain": [
       "['/home/chenyi/workspace/dataset/deepedia/deepedia6/train/0002ec21ddb8477e98b2cbb87ea2e269.txt',\n",
       " '0 0.551395 0.898926 0.077827 0.124023\\n']"
      ]
     },
     "execution_count": 56,
     "metadata": {},
     "output_type": "execute_result"
    }
   ],
   "source": [
    "input_list[0]"
   ]
  },
  {
   "cell_type": "code",
   "execution_count": null,
   "id": "991cefa2-f44e-4ac5-b986-a45a24a756e4",
   "metadata": {},
   "outputs": [],
   "source": []
  },
  {
   "cell_type": "code",
   "execution_count": 61,
   "id": "1a3f758a-e7b5-4abe-a68a-5c9d6c298830",
   "metadata": {},
   "outputs": [],
   "source": [
    "def write_txt(input_list):\n",
    "    label_path, text = input_list[0], input_list[1]\n",
    "    with open(label_path, 'a+') as f:\n",
    "        f.write(text)"
   ]
  },
  {
   "cell_type": "code",
   "execution_count": 62,
   "id": "c2e93941-4536-4de0-b42b-8f70bd71ffd7",
   "metadata": {},
   "outputs": [
    {
     "name": "stdout",
     "output_type": "stream",
     "text": [
      "CPU times: user 19.6 s, sys: 17.3 s, total: 36.8 s\n",
      "Wall time: 36.6 s\n"
     ]
    }
   ],
   "source": [
    "%%time\n",
    "from utils.data.transferData import run_task_multithread\n",
    "run_task_multithread(input_list, write_txt, thread_num=10)"
   ]
  },
  {
   "cell_type": "code",
   "execution_count": 63,
   "id": "22dd4b21-f83f-4b49-afde-0900638f5723",
   "metadata": {},
   "outputs": [
    {
     "data": {
      "text/plain": [
       "260783"
      ]
     },
     "execution_count": 63,
     "metadata": {},
     "output_type": "execute_result"
    }
   ],
   "source": [
    "imgs_list = glob.glob('/home/chenyi/workspace/dataset/deepedia/deepedia6/*/*.txt')\n",
    "len(imgs_list)"
   ]
  },
  {
   "cell_type": "code",
   "execution_count": 64,
   "id": "ce57eca4-284f-4d7f-af81-64dfe93afebb",
   "metadata": {},
   "outputs": [
    {
     "data": {
      "text/plain": [
       "269664"
      ]
     },
     "execution_count": 64,
     "metadata": {},
     "output_type": "execute_result"
    }
   ],
   "source": [
    "imgs_list = glob.glob('/home/chenyi/workspace/dataset/data/deepedia/images/*/*.jpg')\n",
    "len(imgs_list)"
   ]
  },
  {
   "cell_type": "code",
   "execution_count": null,
   "id": "84a25a26-4640-4067-ba73-ff5e278033bd",
   "metadata": {},
   "outputs": [],
   "source": []
  },
  {
   "cell_type": "markdown",
   "id": "4e671a2a-7e1b-4947-acaa-97ebf5edd385",
   "metadata": {},
   "source": [
    "### target path"
   ]
  },
  {
   "cell_type": "code",
   "execution_count": 77,
   "id": "062ee81b-9c66-4fc0-9e36-b7f2433f75ca",
   "metadata": {},
   "outputs": [
    {
     "name": "stdout",
     "output_type": "stream",
     "text": [
      "\u001b[01;34m/home/chenyi/workspace/yolov5/datasets/deepedia6\u001b[00m\n",
      "├── \u001b[01;34mimages\u001b[00m\n",
      "│   ├── \u001b[01;34mtrain\u001b[00m\n",
      "│   └── \u001b[01;34mval\u001b[00m\n",
      "└── \u001b[01;34mlabels\u001b[00m\n",
      "    ├── \u001b[01;34mtrain\u001b[00m\n",
      "    └── \u001b[01;34mval\u001b[00m\n",
      "\n",
      "6 directories\n"
     ]
    }
   ],
   "source": [
    "!tree  -d -L 2 /home/chenyi/workspace/yolov5/datasets/deepedia6"
   ]
  },
  {
   "cell_type": "code",
   "execution_count": 76,
   "id": "a4a1192d-a296-4edd-98fb-e2b197ff5be1",
   "metadata": {},
   "outputs": [],
   "source": [
    "!mkdir -p /home/chenyi/workspace/yolov5/datasets/deepedia6/labels/train"
   ]
  },
  {
   "cell_type": "code",
   "execution_count": null,
   "id": "2fea1ac4-0920-409f-9950-3587b07c7ce3",
   "metadata": {},
   "outputs": [],
   "source": []
  },
  {
   "cell_type": "code",
   "execution_count": 67,
   "id": "a111ee6c-40b4-4067-bbb0-46a78076bd95",
   "metadata": {},
   "outputs": [],
   "source": [
    "df = dpedia_clr.drop_duplicates('img_sp')"
   ]
  },
  {
   "cell_type": "code",
   "execution_count": 79,
   "id": "694b9176-aa4a-405b-9c76-206bb4cbea0f",
   "metadata": {},
   "outputs": [
    {
     "data": {
      "text/html": [
       "<div>\n",
       "<style scoped>\n",
       "    .dataframe tbody tr th:only-of-type {\n",
       "        vertical-align: middle;\n",
       "    }\n",
       "\n",
       "    .dataframe tbody tr th {\n",
       "        vertical-align: top;\n",
       "    }\n",
       "\n",
       "    .dataframe thead th {\n",
       "        text-align: right;\n",
       "    }\n",
       "</style>\n",
       "<table border=\"1\" class=\"dataframe\">\n",
       "  <thead>\n",
       "    <tr style=\"text-align: right;\">\n",
       "      <th></th>\n",
       "      <th>img_sp</th>\n",
       "      <th>id_bbox</th>\n",
       "      <th>width</th>\n",
       "      <th>height</th>\n",
       "      <th>mode</th>\n",
       "      <th>label8</th>\n",
       "      <th>bx1</th>\n",
       "      <th>bx2</th>\n",
       "      <th>bx3</th>\n",
       "      <th>bx4</th>\n",
       "      <th>source</th>\n",
       "      <th>fname</th>\n",
       "      <th>label_sp</th>\n",
       "    </tr>\n",
       "  </thead>\n",
       "  <tbody>\n",
       "    <tr>\n",
       "      <th>0</th>\n",
       "      <td>/home/chenyi/workspace/dataset/data/data_fashi...</td>\n",
       "      <td>2</td>\n",
       "      <td>681</td>\n",
       "      <td>1024</td>\n",
       "      <td>train</td>\n",
       "      <td>0</td>\n",
       "      <td>0.551395</td>\n",
       "      <td>0.898926</td>\n",
       "      <td>0.077827</td>\n",
       "      <td>0.124023</td>\n",
       "      <td>fashionpedia</td>\n",
       "      <td>0002ec21ddb8477e98b2cbb87ea2e269.jpg</td>\n",
       "      <td>/home/chenyi/workspace/dataset/deepedia/deeped...</td>\n",
       "    </tr>\n",
       "    <tr>\n",
       "      <th>2</th>\n",
       "      <td>/home/chenyi/workspace/dataset/data/data_fashi...</td>\n",
       "      <td>6</td>\n",
       "      <td>682</td>\n",
       "      <td>1024</td>\n",
       "      <td>val</td>\n",
       "      <td>0</td>\n",
       "      <td>0.565249</td>\n",
       "      <td>0.833008</td>\n",
       "      <td>0.095308</td>\n",
       "      <td>0.130859</td>\n",
       "      <td>fashionpedia</td>\n",
       "      <td>00048c3a2fb9c29340473c4cfc06424a.jpg</td>\n",
       "      <td>/home/chenyi/workspace/dataset/deepedia/deeped...</td>\n",
       "    </tr>\n",
       "  </tbody>\n",
       "</table>\n",
       "</div>"
      ],
      "text/plain": [
       "                                              img_sp  id_bbox  width  height  \\\n",
       "0  /home/chenyi/workspace/dataset/data/data_fashi...        2    681    1024   \n",
       "2  /home/chenyi/workspace/dataset/data/data_fashi...        6    682    1024   \n",
       "\n",
       "    mode  label8       bx1       bx2       bx3       bx4        source  \\\n",
       "0  train       0  0.551395  0.898926  0.077827  0.124023  fashionpedia   \n",
       "2    val       0  0.565249  0.833008  0.095308  0.130859  fashionpedia   \n",
       "\n",
       "                                  fname  \\\n",
       "0  0002ec21ddb8477e98b2cbb87ea2e269.jpg   \n",
       "2  00048c3a2fb9c29340473c4cfc06424a.jpg   \n",
       "\n",
       "                                            label_sp  \n",
       "0  /home/chenyi/workspace/dataset/deepedia/deeped...  \n",
       "2  /home/chenyi/workspace/dataset/deepedia/deeped...  "
      ]
     },
     "execution_count": 79,
     "metadata": {},
     "output_type": "execute_result"
    }
   ],
   "source": [
    "df.head(2)"
   ]
  },
  {
   "cell_type": "code",
   "execution_count": 83,
   "id": "06b937fa-4499-4ddc-a968-17819da9c893",
   "metadata": {},
   "outputs": [
    {
     "data": {
      "text/plain": [
       "array([['/home/chenyi/workspace/dataset/data/data_fashionpedia/train/0002ec21ddb8477e98b2cbb87ea2e269.jpg',\n",
       "        2, 681, 1024, 'train', 0, 0.5513950073421439, 0.89892578125,\n",
       "        0.07782672540381791, 0.1240234375, 'fashionpedia',\n",
       "        '0002ec21ddb8477e98b2cbb87ea2e269.jpg',\n",
       "        '/home/chenyi/workspace/dataset/deepedia/deepedia6/train/0002ec21ddb8477e98b2cbb87ea2e269.txt',\n",
       "        '/home/chenyi/workspace/yolov5/datasets/deepedia6/images/train/0002ec21ddb8477e98b2cbb87ea2e269.jpg',\n",
       "        '/home/chenyi/workspace/yolov5/datasets/deepedia6/labels/train/0002ec21ddb8477e98b2cbb87ea2e269.txt'],\n",
       "       ['/home/chenyi/workspace/dataset/data/data_fashionpedia/train/00048c3a2fb9c29340473c4cfc06424a.jpg',\n",
       "        6, 682, 1024, 'val', 0, 0.5652492668621701, 0.8330078125,\n",
       "        0.09530791788856305, 0.130859375, 'fashionpedia',\n",
       "        '00048c3a2fb9c29340473c4cfc06424a.jpg',\n",
       "        '/home/chenyi/workspace/dataset/deepedia/deepedia6/val/00048c3a2fb9c29340473c4cfc06424a.txt',\n",
       "        '/home/chenyi/workspace/yolov5/datasets/deepedia6/images/val/00048c3a2fb9c29340473c4cfc06424a.jpg',\n",
       "        '/home/chenyi/workspace/yolov5/datasets/deepedia6/labels/val/00048c3a2fb9c29340473c4cfc06424a.txt']],\n",
       "      dtype=object)"
      ]
     },
     "execution_count": 83,
     "metadata": {},
     "output_type": "execute_result"
    }
   ],
   "source": [
    "df.head(2).values"
   ]
  },
  {
   "cell_type": "code",
   "execution_count": 81,
   "id": "9f5ccaad-d0fa-4c52-8dc3-3e81b90c8f05",
   "metadata": {},
   "outputs": [
    {
     "name": "stderr",
     "output_type": "stream",
     "text": [
      "/tmp/ipykernel_3099/2910940719.py:1: SettingWithCopyWarning: \n",
      "A value is trying to be set on a copy of a slice from a DataFrame.\n",
      "Try using .loc[row_indexer,col_indexer] = value instead\n",
      "\n",
      "See the caveats in the documentation: https://pandas.pydata.org/pandas-docs/stable/user_guide/indexing.html#returning-a-view-versus-a-copy\n",
      "  df['img_tp']  = df.apply(lambda x:\n"
     ]
    }
   ],
   "source": [
    "df['img_tp']  = df.apply(lambda x:\n",
    "                         '/home/chenyi/workspace/yolov5/datasets/deepedia6/images/{0}/{1}'.format(x['mode'],\n",
    "                                                                                                  x['fname']), axis=1)"
   ]
  },
  {
   "cell_type": "code",
   "execution_count": 82,
   "id": "0e137430-a5fb-405e-a489-e409a9cd8073",
   "metadata": {},
   "outputs": [
    {
     "name": "stderr",
     "output_type": "stream",
     "text": [
      "/tmp/ipykernel_3099/998469552.py:1: SettingWithCopyWarning: \n",
      "A value is trying to be set on a copy of a slice from a DataFrame.\n",
      "Try using .loc[row_indexer,col_indexer] = value instead\n",
      "\n",
      "See the caveats in the documentation: https://pandas.pydata.org/pandas-docs/stable/user_guide/indexing.html#returning-a-view-versus-a-copy\n",
      "  df['label_tp']  = df.apply(lambda x:\n"
     ]
    }
   ],
   "source": [
    "df['label_tp']  = df.apply(lambda x:\n",
    "                         '/home/chenyi/workspace/yolov5/datasets/deepedia6/labels/{0}/{1}.txt'.format(x['mode'],\n",
    "                                                                                                  x['fname'][:-4]), axis=1)"
   ]
  },
  {
   "cell_type": "code",
   "execution_count": null,
   "id": "98784808-7ead-4e35-b3bb-1b66a35d7c29",
   "metadata": {},
   "outputs": [],
   "source": []
  },
  {
   "cell_type": "code",
   "execution_count": 295,
   "id": "21613f89-30f3-46f5-bffe-cb7956838f60",
   "metadata": {},
   "outputs": [],
   "source": [
    "# dfk.to_csv('/nas/chenyi/benchmark/deepedia24_val/deepedia_val1000.csv', index=False)"
   ]
  },
  {
   "cell_type": "code",
   "execution_count": 266,
   "id": "cdd9e42b-ef1f-48f0-a926-b3e701dd1eeb",
   "metadata": {},
   "outputs": [],
   "source": [
    "dfk = pd.read_csv('/nas/chenyi/benchmark/deepedia24_val/deepedia_val1000.csv')"
   ]
  },
  {
   "cell_type": "code",
   "execution_count": 273,
   "id": "25421811-8435-41ae-bb19-7a76480c5134",
   "metadata": {},
   "outputs": [],
   "source": [
    "dfk['img_tpath'] = dfk['img_path'].apply(lambda x:\n",
    "                                        x.replace('/home/chenyi/workspace/yolov5/datasets/deepedia_catg24/',\n",
    "                                                  '/nas/chenyi/benchmark/deepedia24_val/deepedia24_val1000/'))"
   ]
  },
  {
   "cell_type": "code",
   "execution_count": null,
   "id": "ae9ab151-8142-4e64-bed8-7869545a6dc5",
   "metadata": {},
   "outputs": [],
   "source": []
  },
  {
   "cell_type": "code",
   "execution_count": null,
   "id": "60776e0d-a6d6-4a1b-8085-d82ae50b3810",
   "metadata": {},
   "outputs": [],
   "source": []
  },
  {
   "cell_type": "markdown",
   "id": "6bd6e462-88c6-46a0-9a63-023a65131adb",
   "metadata": {},
   "source": [
    "### 软连接"
   ]
  },
  {
   "cell_type": "code",
   "execution_count": 84,
   "id": "419b12dd-8b07-4de4-8579-9a0085f16fec",
   "metadata": {},
   "outputs": [
    {
     "name": "stdout",
     "output_type": "stream",
     "text": [
      "\u001b[01;34m/home/chenyi/workspace/yolov5/datasets/deepedia6\u001b[00m\n",
      "├── \u001b[01;34mimages\u001b[00m\n",
      "│   ├── \u001b[01;34mtrain\u001b[00m\n",
      "│   └── \u001b[01;34mval\u001b[00m\n",
      "└── \u001b[01;34mlabels\u001b[00m\n",
      "    ├── \u001b[01;34mtrain\u001b[00m\n",
      "    └── \u001b[01;34mval\u001b[00m\n",
      "\n",
      "6 directories\n"
     ]
    }
   ],
   "source": [
    "!tree  -d -L 2 /home/chenyi/workspace/yolov5/datasets/deepedia6"
   ]
  },
  {
   "cell_type": "code",
   "execution_count": 85,
   "id": "71d11b10-2614-44d7-b5de-d9a8a705745c",
   "metadata": {},
   "outputs": [
    {
     "name": "stdout",
     "output_type": "stream",
     "text": [
      "CPU times: user 3.92 s, sys: 5.22 s, total: 9.14 s\n",
      "Wall time: 11 s\n"
     ]
    }
   ],
   "source": [
    "%%time\n",
    "_ = df.apply(lambda row: os.symlink(row['img_sp'], row['img_tp']), axis=1)"
   ]
  },
  {
   "cell_type": "code",
   "execution_count": 86,
   "id": "4f459130-019c-489f-a4ab-7f0e252acbc3",
   "metadata": {},
   "outputs": [
    {
     "name": "stdout",
     "output_type": "stream",
     "text": [
      "CPU times: user 3.46 s, sys: 6.15 s, total: 9.61 s\n",
      "Wall time: 11.5 s\n"
     ]
    }
   ],
   "source": [
    "%%time\n",
    "_ = df.apply(lambda row: os.symlink(row['label_sp'], row['label_tp']), axis=1)"
   ]
  },
  {
   "cell_type": "code",
   "execution_count": 87,
   "id": "0cd20c33-0858-42c5-8c5d-d97e4352bee4",
   "metadata": {
    "tags": []
   },
   "outputs": [
    {
     "name": "stdout",
     "output_type": "stream",
     "text": [
      "0 0.477974 0.869629 0.063142 0.038086\n",
      "0 0.551395 0.898926 0.077827 0.124023\n",
      "5 0.505874 0.447266 0.251101 0.416016\n"
     ]
    }
   ],
   "source": [
    "lsp = df.loc[0,'label_sp']\n",
    "!cat $lsp"
   ]
  },
  {
   "cell_type": "code",
   "execution_count": null,
   "id": "a60351df-bf7d-4f8f-aad3-5cec7f6121bb",
   "metadata": {},
   "outputs": [],
   "source": []
  },
  {
   "cell_type": "code",
   "execution_count": null,
   "id": "4333e2c2-5197-495f-ba96-97341b38706b",
   "metadata": {},
   "outputs": [],
   "source": []
  },
  {
   "cell_type": "code",
   "execution_count": 88,
   "id": "857363e3-27ec-49ce-b63c-a18a64787a59",
   "metadata": {},
   "outputs": [
    {
     "data": {
      "text/plain": [
       "260783"
      ]
     },
     "execution_count": 88,
     "metadata": {},
     "output_type": "execute_result"
    }
   ],
   "source": [
    "l = glob.glob('/home/chenyi/workspace/yolov5/datasets/deepedia6/images/*/*.jpg')\n",
    "len(l)"
   ]
  },
  {
   "cell_type": "code",
   "execution_count": 90,
   "id": "37c3a34b-b87a-4636-949e-7deba95f5272",
   "metadata": {},
   "outputs": [
    {
     "data": {
      "text/plain": [
       "260783"
      ]
     },
     "execution_count": 90,
     "metadata": {},
     "output_type": "execute_result"
    }
   ],
   "source": [
    "l = glob.glob('/home/chenyi/workspace/yolov5/datasets/deepedia6/labels/*/*.txt')\n",
    "len(l)"
   ]
  },
  {
   "cell_type": "code",
   "execution_count": null,
   "id": "8853bebb-c08c-48f2-b6ee-8ef097cc7e5c",
   "metadata": {},
   "outputs": [],
   "source": []
  }
 ],
 "metadata": {
  "kernelspec": {
   "display_name": "Python 3 (ipykernel)",
   "language": "python",
   "name": "python3"
  },
  "language_info": {
   "codemirror_mode": {
    "name": "ipython",
    "version": 3
   },
   "file_extension": ".py",
   "mimetype": "text/x-python",
   "name": "python",
   "nbconvert_exporter": "python",
   "pygments_lexer": "ipython3",
   "version": "3.8.13"
  }
 },
 "nbformat": 4,
 "nbformat_minor": 5
}
