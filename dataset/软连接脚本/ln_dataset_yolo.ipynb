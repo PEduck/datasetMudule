{
 "cells": [
  {
   "cell_type": "markdown",
   "id": "0036eef0-7aca-4948-8a23-52c1b3e5da86",
   "metadata": {},
   "source": [
    "## Soft Linked"
   ]
  },
  {
   "cell_type": "code",
   "execution_count": 3,
   "id": "4277de02-43d1-4d53-ba29-6c32e003bb65",
   "metadata": {},
   "outputs": [],
   "source": [
    "from pathlib import Path\n",
    "import glob"
   ]
  },
  {
   "cell_type": "code",
   "execution_count": null,
   "id": "5ba97d70-259d-4d16-a44f-77207061fca5",
   "metadata": {},
   "outputs": [],
   "source": []
  },
  {
   "cell_type": "code",
   "execution_count": 14,
   "id": "a8f3c679-b4fa-4dd4-bf96-d93bf5bc880d",
   "metadata": {},
   "outputs": [],
   "source": [
    "root = Path('/home/chenyi/workspace/yolov5/datasets/')\n",
    "fname = f'haowei43k_conf'"
   ]
  },
  {
   "cell_type": "code",
   "execution_count": null,
   "id": "3379b10c-c1ce-440a-b058-10d2642de630",
   "metadata": {},
   "outputs": [],
   "source": []
  },
  {
   "cell_type": "code",
   "execution_count": null,
   "id": "9c0f02d1-c747-438b-afaf-a7228705f1b0",
   "metadata": {},
   "outputs": [],
   "source": []
  },
  {
   "cell_type": "code",
   "execution_count": 15,
   "id": "b41d6f92-4fc4-406f-9a2f-e5d8026e6442",
   "metadata": {},
   "outputs": [],
   "source": [
    "work_dir = root /fname"
   ]
  },
  {
   "cell_type": "code",
   "execution_count": 16,
   "id": "1e646124-6eeb-4283-9fdf-eefcf8f71947",
   "metadata": {},
   "outputs": [
    {
     "data": {
      "text/plain": [
       "PosixPath('/home/chenyi/workspace/yolov5/datasets/haowei43k_conf')"
      ]
     },
     "execution_count": 16,
     "metadata": {},
     "output_type": "execute_result"
    }
   ],
   "source": [
    "work_dir"
   ]
  },
  {
   "cell_type": "code",
   "execution_count": 30,
   "id": "419b12dd-8b07-4de4-8579-9a0085f16fec",
   "metadata": {},
   "outputs": [
    {
     "name": "stdout",
     "output_type": "stream",
     "text": [
      "mkdir: cannot create directory ‘/home/chenyi/workspace/yolov5/datasets/haowei43k_conf/labels/val’: File exists\n",
      "\u001b[01;34m/home/chenyi/workspace/yolov5/datasets/haowei43k_conf\u001b[00m\n",
      "├── \u001b[01;34mimages\u001b[00m\n",
      "└── \u001b[01;34mlabels\u001b[00m\n",
      "\n",
      "2 directories\n"
     ]
    }
   ],
   "source": [
    "gen_dir = work_dir /'labels/val'\n",
    "!mkdir $gen_dir\n",
    "!tree -d -L 2 $work_dir"
   ]
  },
  {
   "cell_type": "code",
   "execution_count": 116,
   "id": "eb9b51f3-7302-4793-a1cf-e5e673b46202",
   "metadata": {},
   "outputs": [
    {
     "name": "stdout",
     "output_type": "stream",
     "text": [
      "\u001b[01;34m/home/chenyi/workspace/dataset/haowei34k_conf07\u001b[00m\n",
      "├── \u001b[01;34mimages\u001b[00m\n",
      "│   ├── \u001b[01;34mtrain\u001b[00m\n",
      "│   └── \u001b[01;34mval\u001b[00m\n",
      "└── \u001b[01;34mlabels\u001b[00m\n",
      "    ├── \u001b[01;34mtrain\u001b[00m\n",
      "    └── \u001b[01;34mval\u001b[00m\n",
      "\n",
      "6 directories\n"
     ]
    }
   ],
   "source": [
    "data_root = Path('/home/chenyi/workspace/dataset/haowei34k_conf07/')\n",
    "!tree -d -L 2 $data_root"
   ]
  },
  {
   "cell_type": "code",
   "execution_count": 129,
   "id": "7f589e46-0e3a-4de6-9b4d-b702de83d540",
   "metadata": {},
   "outputs": [],
   "source": [
    "folder = 'labels'\n",
    "mode = 'train'\n",
    "target_dir = work_dir / folder \n",
    "data_source = data_root /folder /mode\n",
    "!ln -s  $data_source $target_dir"
   ]
  },
  {
   "cell_type": "code",
   "execution_count": 130,
   "id": "36ded056-c5d2-4030-9a98-cb37f286760f",
   "metadata": {},
   "outputs": [
    {
     "name": "stdout",
     "output_type": "stream",
     "text": [
      "\u001b[01;34m/home/chenyi/workspace/yolov5/datasets/haowei43k_conf\u001b[00m\n",
      "├── \u001b[01;34mimages\u001b[00m\n",
      "│   ├── \u001b[01;36mtrain\u001b[00m -> \u001b[01;34m/home/chenyi/workspace/dataset/haowei34k_conf07/images/train\u001b[00m\n",
      "│   └── \u001b[01;36mval\u001b[00m -> \u001b[01;34m/home/chenyi/workspace/dataset/haowei34k_conf07/images/val\u001b[00m\n",
      "└── \u001b[01;34mlabels\u001b[00m\n",
      "    ├── \u001b[01;36mtrain\u001b[00m -> \u001b[01;34m/home/chenyi/workspace/dataset/haowei34k_conf07/labels/train\u001b[00m\n",
      "    └── \u001b[01;36mval\u001b[00m -> \u001b[01;34m/home/chenyi/workspace/dataset/haowei34k_conf07/labels/val\u001b[00m\n",
      "\n",
      "6 directories\n"
     ]
    }
   ],
   "source": [
    "!tree -d -L 2 $work_dir"
   ]
  },
  {
   "cell_type": "code",
   "execution_count": null,
   "id": "a1214b29-2088-4d17-bdd1-f9006a33a833",
   "metadata": {},
   "outputs": [],
   "source": []
  },
  {
   "cell_type": "code",
   "execution_count": null,
   "id": "7eeada06-158c-4ec2-b6ad-f66b3fe5d378",
   "metadata": {},
   "outputs": [],
   "source": []
  },
  {
   "cell_type": "code",
   "execution_count": null,
   "id": "06ec1654-5cb9-46f1-92f1-0b99071584f3",
   "metadata": {},
   "outputs": [],
   "source": [
    "ln -s /home/sa/workspace/chenyi/datasets/deepedia/labels94/val/ /home/sa/workspace/chenyi/datasets/deepedia/deepedia94/labels"
   ]
  },
  {
   "cell_type": "code",
   "execution_count": null,
   "id": "7a186e44-1e54-492f-a534-a421b5d32de6",
   "metadata": {},
   "outputs": [],
   "source": [
    "ln -s /home/sa/workspace/chenyi/datasets/deepedia/labels/val/ /home/sa/workspace/chenyi/datasets/deepedia/deepedia94/images/"
   ]
  },
  {
   "cell_type": "code",
   "execution_count": null,
   "id": "b25d4af5-5bae-4bf8-ac8a-c35717df18f3",
   "metadata": {},
   "outputs": [],
   "source": [
    "ln -s /home/sa/workspace/chenyi/datasets/deepedia/images/train/ /home/sa/workspace/chenyi/datasets/deepedia/deepedia94/images/"
   ]
  },
  {
   "cell_type": "code",
   "execution_count": null,
   "id": "4a1aeb54-b257-487c-8389-b03dba69371d",
   "metadata": {},
   "outputs": [],
   "source": []
  },
  {
   "cell_type": "code",
   "execution_count": null,
   "id": "57e51b5f-d029-4735-9b8f-f398e09b96b8",
   "metadata": {},
   "outputs": [],
   "source": [
    "CUDA_VISIBLE_DEVICES='1' \\\n",
    "python train.py \\\n",
    "    --img 640 \\\n",
    "    --batch 64 \\\n",
    "    --epoch 99 \\\n",
    "    --data data/deepedia_catg8.yaml \\\n",
    "    --cfg models/yolov5s_catg8.yaml\n",
    "    --weights weights/yolov5s.pt"
   ]
  },
  {
   "cell_type": "code",
   "execution_count": null,
   "id": "c7e2f567-d0c9-4d3f-9f2c-015bd4513c31",
   "metadata": {},
   "outputs": [],
   "source": []
  },
  {
   "cell_type": "code",
   "execution_count": null,
   "id": "45a23a59-fdaa-489a-bd72-4725f13860de",
   "metadata": {},
   "outputs": [],
   "source": []
  },
  {
   "cell_type": "code",
   "execution_count": 134,
   "id": "35c78750-cad2-4379-8035-0e267e97cb1c",
   "metadata": {},
   "outputs": [
    {
     "data": {
      "text/plain": [
       "PosixPath('/home/chenyi/workspace/yolov5/datasets/haowei43k_conf/labels')"
      ]
     },
     "execution_count": 134,
     "metadata": {},
     "output_type": "execute_result"
    }
   ],
   "source": [
    "target_dir"
   ]
  },
  {
   "cell_type": "code",
   "execution_count": 135,
   "id": "857363e3-27ec-49ce-b63c-a18a64787a59",
   "metadata": {},
   "outputs": [],
   "source": [
    "l = glob.glob(str(target_dir / mode/ '*.txt'))"
   ]
  },
  {
   "cell_type": "code",
   "execution_count": 146,
   "id": "74527396-3207-4204-8fc9-2d4332e983b8",
   "metadata": {},
   "outputs": [],
   "source": [
    "l = glob.glob('/home/chenyi/workspace/dataset/haowei34k_conf07/images/train/*.jpg')"
   ]
  },
  {
   "cell_type": "code",
   "execution_count": 147,
   "id": "adec7639-9725-4f77-bf86-b8747fb617f6",
   "metadata": {},
   "outputs": [
    {
     "data": {
      "text/plain": [
       "31925"
      ]
     },
     "execution_count": 147,
     "metadata": {},
     "output_type": "execute_result"
    }
   ],
   "source": [
    "len(l)"
   ]
  },
  {
   "cell_type": "code",
   "execution_count": null,
   "id": "37c3a34b-b87a-4636-949e-7deba95f5272",
   "metadata": {},
   "outputs": [],
   "source": []
  }
 ],
 "metadata": {
  "kernelspec": {
   "display_name": "Python 3 (ipykernel)",
   "language": "python",
   "name": "python3"
  },
  "language_info": {
   "codemirror_mode": {
    "name": "ipython",
    "version": 3
   },
   "file_extension": ".py",
   "mimetype": "text/x-python",
   "name": "python",
   "nbconvert_exporter": "python",
   "pygments_lexer": "ipython3",
   "version": "3.8.13"
  }
 },
 "nbformat": 4,
 "nbformat_minor": 5
}
