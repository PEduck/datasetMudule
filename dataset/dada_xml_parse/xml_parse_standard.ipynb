{
 "cells": [
  {
   "cell_type": "code",
   "execution_count": 1,
   "id": "61440fc4-64c2-4347-b092-b921a1ffdced",
   "metadata": {},
   "outputs": [],
   "source": [
    "from lxml import etree\n",
    "import glob"
   ]
  },
  {
   "cell_type": "code",
   "execution_count": 2,
   "id": "0c977c2d-9e98-4ff3-9028-ddb6d67ccfb2",
   "metadata": {},
   "outputs": [],
   "source": [
    "from pathlib import Path\n",
    "from tqdm import tqdm"
   ]
  },
  {
   "cell_type": "code",
   "execution_count": 3,
   "id": "363626fe-f1f4-4068-831f-322a201c8730",
   "metadata": {},
   "outputs": [],
   "source": [
    "import pandas as pd\n",
    "import numpy as np\n",
    "import os,sys"
   ]
  },
  {
   "cell_type": "code",
   "execution_count": 4,
   "id": "6e949893-e57a-40c2-b22b-3ccace0fce88",
   "metadata": {},
   "outputs": [],
   "source": [
    "import re\n",
    "from PIL import Image"
   ]
  },
  {
   "cell_type": "code",
   "execution_count": null,
   "id": "838ae80f-ae36-468d-9579-8f3a2c5061f3",
   "metadata": {},
   "outputs": [],
   "source": []
  },
  {
   "cell_type": "code",
   "execution_count": null,
   "id": "67b62593-bc5c-4dcc-b9a7-72771451aa66",
   "metadata": {},
   "outputs": [],
   "source": []
  },
  {
   "cell_type": "markdown",
   "id": "e5b03a78-28f5-4f6d-9b41-9434c9407667",
   "metadata": {
    "tags": []
   },
   "source": [
    "### 接口"
   ]
  },
  {
   "cell_type": "code",
   "execution_count": 5,
   "id": "c6cc979d-19ba-4f76-a8d5-55e81e7c06f1",
   "metadata": {},
   "outputs": [],
   "source": [
    "def voc2yolo():\n",
    "    center_x = (xmin + (xmax-xmin)/2)/width\n",
    "    center_y = (ymin + (ymax-ymin)/2)/height\n",
    "    bdb_w = (xmax-xmin)/width\n",
    "    bdb_h = (ymax-ymin)/height"
   ]
  },
  {
   "cell_type": "code",
   "execution_count": null,
   "id": "7dc0f195-518d-4a57-b7a6-8e6cf041128c",
   "metadata": {},
   "outputs": [],
   "source": []
  },
  {
   "cell_type": "code",
   "execution_count": 6,
   "id": "97623b2d-8cdd-44a4-9ae5-e0e725aec4d7",
   "metadata": {},
   "outputs": [],
   "source": [
    "def parse_xml(p):\n",
    "    trees = etree.parse(p)\n",
    "    width, height = int(trees.find('size/width').text), int(trees.find('size/height').text)\n",
    "    bboxes = []\n",
    "    for obj in trees.findall('object'):\n",
    "        bx = []\n",
    "        bx.append(p)\n",
    "        bx.append(int(width))\n",
    "        bx.append(int(height))\n",
    "        bdb = obj.find('bndbox')\n",
    "        bx.append(obj.find('name').text)\n",
    "        bx.append(int(bdb.find('xmin').text))\n",
    "        bx.append(int(bdb.find('ymin').text))\n",
    "        bx.append(int(bdb.find('xmax').text))\n",
    "        bx.append(int(bdb.find('ymax').text))\n",
    "        bboxes.append(bx)\n",
    "    return bboxes"
   ]
  },
  {
   "cell_type": "code",
   "execution_count": null,
   "id": "7bce8dd9-9bf5-4ce1-b66f-96e07a700582",
   "metadata": {},
   "outputs": [],
   "source": []
  },
  {
   "cell_type": "code",
   "execution_count": 7,
   "id": "704f6442-96c7-4164-951f-8cea12752231",
   "metadata": {},
   "outputs": [],
   "source": [
    "model_label_map = {\n",
    "    0: 10,  # 鞋子\n",
    "    1: 8,  # 包包\n",
    "    2: 4,  # 上装\n",
    "    3: 5,  # 裤子\n",
    "    4: 6,  # 裙子\n",
    "    5: 7,  # 连体装\n",
    "}\n",
    "model_label_map8 = {\n",
    "    0: 10,  # 鞋子\n",
    "    1: 8,  # 包包\n",
    "    2: 4,  # 上装_短款\n",
    "    3: 5,  # 裤子_短款\n",
    "    4: 6,  # 裙子\n",
    "    5: 7,  # 连体装\n",
    "    6: 4,  # 上装_长款\n",
    "    7: 5,  # 裤子_长款\n",
    "}"
   ]
  },
  {
   "cell_type": "code",
   "execution_count": null,
   "id": "04110e58-c675-4764-af9e-93bb45a81a4c",
   "metadata": {},
   "outputs": [],
   "source": []
  },
  {
   "cell_type": "code",
   "execution_count": 8,
   "id": "859c94b6-4a33-4a72-bad4-8c0727d2617d",
   "metadata": {},
   "outputs": [],
   "source": [
    "chi_label2id8 = {\n",
    "    0: '鞋子',\n",
    "    1: '包包',\n",
    "    2: '上装_短款',\n",
    "    3: '裤子_短款',\n",
    "    4: '裙子',\n",
    "    5: '连体装',\n",
    "    6: '上装_长款',\n",
    "    7: '裤子_长款',\n",
    "}"
   ]
  },
  {
   "cell_type": "code",
   "execution_count": null,
   "id": "d3e58616-1977-4774-a66b-840291677bfd",
   "metadata": {},
   "outputs": [],
   "source": []
  },
  {
   "cell_type": "code",
   "execution_count": 9,
   "id": "a3024e83-ee63-426f-a9d2-b01eb125bc23",
   "metadata": {},
   "outputs": [],
   "source": [
    "def get_list2dict(k_list, v_list):\n",
    "    d = {}\n",
    "    for item in zip(k_list, v_list):\n",
    "        d[item[0]] = item[1]\n",
    "    return d"
   ]
  },
  {
   "cell_type": "code",
   "execution_count": 10,
   "id": "39150fb3-94ce-46bf-bc58-7984153dc746",
   "metadata": {},
   "outputs": [],
   "source": [
    "chi8_map_name8 = get_list2dict(chi_label2id8.values(), chi_label2id8.keys())"
   ]
  },
  {
   "cell_type": "code",
   "execution_count": null,
   "id": "9d80a8d1-fbe8-4c53-9fac-18a9ab39211a",
   "metadata": {},
   "outputs": [],
   "source": []
  },
  {
   "cell_type": "code",
   "execution_count": null,
   "id": "ca308dc1-21ea-4359-b57c-ead792f171ee",
   "metadata": {},
   "outputs": [],
   "source": []
  },
  {
   "cell_type": "markdown",
   "id": "92447f6e-fe11-48e1-affa-81bd55d61d11",
   "metadata": {},
   "source": [
    "### 1.Data Loader."
   ]
  },
  {
   "cell_type": "code",
   "execution_count": 73,
   "id": "27fee964-1a5d-4704-b25e-997a39d65749",
   "metadata": {},
   "outputs": [],
   "source": [
    "# root = Path('/nas/chenyi/benchmark/query1k_labelimg0707/')\n",
    "root = Path('/nas/chenyi/datasets_nas/')"
   ]
  },
  {
   "cell_type": "code",
   "execution_count": 83,
   "id": "aebac36e-af0c-4bc2-8b53-21ad2738b0ac",
   "metadata": {},
   "outputs": [
    {
     "name": "stdout",
     "output_type": "stream",
     "text": [
      "info_csv  xml\n"
     ]
    }
   ],
   "source": [
    "root_show = root /'dada_det/images/wardrobe500k/wardrobe20k_img_hard20220705'\n",
    "root_show = root /'dada_det/xml/wardrobe500k/wardrobe20k_xml_hard20220705'\n",
    "!ls $root_show"
   ]
  },
  {
   "cell_type": "code",
   "execution_count": 84,
   "id": "ed095b62-db1d-48c4-a084-19a08bb16dbb",
   "metadata": {},
   "outputs": [
    {
     "name": "stdout",
     "output_type": "stream",
     "text": [
      "xml_clr_20220705.csv\n"
     ]
    }
   ],
   "source": [
    "root_csv = root/'dada_det/xml/wardrobe500k/wardrobe20k_xml_hard20220705/info_csv'\n",
    "!ls $root_csv"
   ]
  },
  {
   "cell_type": "code",
   "execution_count": 20,
   "id": "0e7cf03f-050d-42fd-948d-7fed33a11af6",
   "metadata": {},
   "outputs": [
    {
     "data": {
      "text/plain": [
       "578"
      ]
     },
     "execution_count": 20,
     "metadata": {},
     "output_type": "execute_result"
    }
   ],
   "source": [
    "xml_list = glob.glob(str(root /'xml/*/*/*.xml'))\n",
    "# xml_list += glob.glob(str(root /'*/*/*.xml'))\n",
    "# xml_list += glob.glob(str(root /'*/*/*/*.xml'))\n",
    "len(xml_list)"
   ]
  },
  {
   "cell_type": "code",
   "execution_count": 21,
   "id": "79200e7e-697e-407f-838e-b3be421f170d",
   "metadata": {},
   "outputs": [
    {
     "data": {
      "text/plain": [
       "578"
      ]
     },
     "execution_count": 21,
     "metadata": {},
     "output_type": "execute_result"
    }
   ],
   "source": [
    "# 核查xml是否有重复\n",
    "xml_df = pd.DataFrame()\n",
    "xml_df['path'] = xml_list\n",
    "xml_df['stem'] = xml_df['path'].apply(lambda x: Path(x).stem)\n",
    "len(xml_df)"
   ]
  },
  {
   "cell_type": "code",
   "execution_count": null,
   "id": "459e8825-1e11-4e32-ad8d-0523d640aeac",
   "metadata": {},
   "outputs": [],
   "source": []
  },
  {
   "cell_type": "code",
   "execution_count": null,
   "id": "4ac83570-2351-40fa-b590-a77d9e7b3f4d",
   "metadata": {},
   "outputs": [],
   "source": []
  },
  {
   "cell_type": "markdown",
   "id": "56f7d3bd-0add-4af4-a3a0-d24428029577",
   "metadata": {},
   "source": [
    "#### csv读取和保存"
   ]
  },
  {
   "cell_type": "code",
   "execution_count": 85,
   "id": "5d48ac3e-52ea-4f7e-b19c-6ee51735e614",
   "metadata": {},
   "outputs": [],
   "source": [
    "bboxes_df = pd.read_csv(root_csv/'xml_clr_20220705.csv')"
   ]
  },
  {
   "cell_type": "code",
   "execution_count": 67,
   "id": "048b0e1c-bd6a-4d98-9232-d7f18dbea204",
   "metadata": {},
   "outputs": [],
   "source": [
    "# !mkdir -p $root/info_csv\n",
    "# bboxes_df.to_csv(root /'info_csv/query1k_xml_20220707.csv', index=False)"
   ]
  },
  {
   "cell_type": "code",
   "execution_count": 25,
   "id": "a6a220a4-569d-4880-a1d5-8186c6ff66a6",
   "metadata": {},
   "outputs": [],
   "source": [
    "# bboxes_df = pd.read_csv(root /'info_csv/query1k_xml_20220705.csv')"
   ]
  },
  {
   "cell_type": "code",
   "execution_count": null,
   "id": "4c71a135-9385-419c-814c-32ed98d17445",
   "metadata": {},
   "outputs": [],
   "source": []
  },
  {
   "cell_type": "markdown",
   "id": "f4649175-bad7-41e9-b7c0-6aa2c013f1e2",
   "metadata": {},
   "source": [
    "#### 数据分析"
   ]
  },
  {
   "cell_type": "code",
   "execution_count": 87,
   "id": "c4d1f660-c5fa-4af8-aa81-25d0bc95c962",
   "metadata": {},
   "outputs": [
    {
     "data": {
      "text/html": [
       "<div>\n",
       "<style scoped>\n",
       "    .dataframe tbody tr th:only-of-type {\n",
       "        vertical-align: middle;\n",
       "    }\n",
       "\n",
       "    .dataframe tbody tr th {\n",
       "        vertical-align: top;\n",
       "    }\n",
       "\n",
       "    .dataframe thead th {\n",
       "        text-align: right;\n",
       "    }\n",
       "</style>\n",
       "<table border=\"1\" class=\"dataframe\">\n",
       "  <thead>\n",
       "    <tr style=\"text-align: right;\">\n",
       "      <th></th>\n",
       "      <th>xml_path</th>\n",
       "      <th>width</th>\n",
       "      <th>height</th>\n",
       "      <th>labelimg</th>\n",
       "      <th>bx1</th>\n",
       "      <th>bx2</th>\n",
       "      <th>bx3</th>\n",
       "      <th>bx4</th>\n",
       "      <th>stem</th>\n",
       "      <th>img_sp</th>\n",
       "      <th>label86</th>\n",
       "    </tr>\n",
       "  </thead>\n",
       "  <tbody>\n",
       "    <tr>\n",
       "      <th>0</th>\n",
       "      <td>/nas/chenyi/datasets_nas/wardrobe20k_labelimg/...</td>\n",
       "      <td>1080</td>\n",
       "      <td>1554</td>\n",
       "      <td>裙子</td>\n",
       "      <td>6</td>\n",
       "      <td>478</td>\n",
       "      <td>1080</td>\n",
       "      <td>1129</td>\n",
       "      <td>2017022320122485968</td>\n",
       "      <td>/nas/chenyi/datasets_nas/wardrobe20k_labelimg/...</td>\n",
       "      <td>4</td>\n",
       "    </tr>\n",
       "  </tbody>\n",
       "</table>\n",
       "</div>"
      ],
      "text/plain": [
       "                                            xml_path  width  height labelimg  \\\n",
       "0  /nas/chenyi/datasets_nas/wardrobe20k_labelimg/...   1080    1554       裙子   \n",
       "\n",
       "   bx1  bx2   bx3   bx4                 stem  \\\n",
       "0    6  478  1080  1129  2017022320122485968   \n",
       "\n",
       "                                              img_sp  label86  \n",
       "0  /nas/chenyi/datasets_nas/wardrobe20k_labelimg/...        4  "
      ]
     },
     "execution_count": 87,
     "metadata": {},
     "output_type": "execute_result"
    }
   ],
   "source": [
    "bboxes_df.head(1)"
   ]
  },
  {
   "cell_type": "code",
   "execution_count": 92,
   "id": "3ec0e876-de41-4d09-b330-e4224826617a",
   "metadata": {},
   "outputs": [
    {
     "data": {
      "text/plain": [
       "(labelimg\n",
       " 上装_短款    8102\n",
       " 裙子       4670\n",
       " 裤子_长款    3171\n",
       " 连体装      1759\n",
       " 裤子_短款    1733\n",
       " 包包        751\n",
       " 鞋子        574\n",
       " 上装_长款     211\n",
       " dtype: int64,\n",
       " 20971,\n",
       " 19947)"
      ]
     },
     "execution_count": 92,
     "metadata": {},
     "output_type": "execute_result"
    }
   ],
   "source": [
    "bboxes_df.value_counts('labelimg'), len(bboxes_df), len(bboxes_df.drop_duplicates('stem'))"
   ]
  },
  {
   "cell_type": "code",
   "execution_count": null,
   "id": "cd8fba9f-becd-4442-b248-07bade33c030",
   "metadata": {},
   "outputs": [],
   "source": []
  },
  {
   "cell_type": "code",
   "execution_count": null,
   "id": "e5c31310-d5bd-40b6-82a0-69b1c25c95ec",
   "metadata": {},
   "outputs": [],
   "source": []
  },
  {
   "cell_type": "markdown",
   "id": "5533659e-cedd-4d6d-8705-2fb79b0631cc",
   "metadata": {},
   "source": [
    "### 解析XML"
   ]
  },
  {
   "cell_type": "markdown",
   "id": "f3021bd2-f077-4c3f-8116-003c310aba3a",
   "metadata": {},
   "source": [
    "#### 解析XML"
   ]
  },
  {
   "cell_type": "code",
   "execution_count": 26,
   "id": "f8af3451-e6ed-4451-a5dc-3ff56b001fd9",
   "metadata": {},
   "outputs": [
    {
     "name": "stderr",
     "output_type": "stream",
     "text": [
      "100%|███████████████████████████████████████████████████| 578/578 [00:00<00:00, 1072.23it/s]\n"
     ]
    }
   ],
   "source": [
    "bboxes_list = []\n",
    "for p in tqdm(xml_list):\n",
    "    row = parse_xml(p)\n",
    "    bboxes_list += row\n",
    "    # break"
   ]
  },
  {
   "cell_type": "code",
   "execution_count": null,
   "id": "211b6837-1886-4da7-8b8c-fc8324065651",
   "metadata": {},
   "outputs": [],
   "source": []
  },
  {
   "cell_type": "code",
   "execution_count": 27,
   "id": "8b0173a0-bce8-4a9a-96ac-19eefc24e266",
   "metadata": {},
   "outputs": [],
   "source": [
    "bboxes_df = pd.DataFrame(bboxes_list)\n",
    "name_stand = ['xml_path', 'width', 'height', 'labelimg', 'bx1', 'bx2','bx3', 'bx4']\n",
    "bboxes_df.rename(columns={bboxes_df.columns[0]:name_stand[0],\n",
    "                          bboxes_df.columns[1]:name_stand[1],\n",
    "                          bboxes_df.columns[2]:name_stand[2],\n",
    "                          bboxes_df.columns[3]:name_stand[3],\n",
    "                          bboxes_df.columns[4]:name_stand[4],\n",
    "                          bboxes_df.columns[5]:name_stand[5],\n",
    "                          bboxes_df.columns[6]:name_stand[6],\n",
    "                          bboxes_df.columns[7]:name_stand[7],\n",
    "                         },\n",
    "                          inplace=True)"
   ]
  },
  {
   "cell_type": "code",
   "execution_count": null,
   "id": "da0124cb-37b2-44bc-82d7-e72f9fbc73ad",
   "metadata": {},
   "outputs": [],
   "source": []
  },
  {
   "cell_type": "code",
   "execution_count": 28,
   "id": "ec953754-517e-4d26-8293-a7e3793bfb05",
   "metadata": {},
   "outputs": [
    {
     "data": {
      "text/html": [
       "<div>\n",
       "<style scoped>\n",
       "    .dataframe tbody tr th:only-of-type {\n",
       "        vertical-align: middle;\n",
       "    }\n",
       "\n",
       "    .dataframe tbody tr th {\n",
       "        vertical-align: top;\n",
       "    }\n",
       "\n",
       "    .dataframe thead th {\n",
       "        text-align: right;\n",
       "    }\n",
       "</style>\n",
       "<table border=\"1\" class=\"dataframe\">\n",
       "  <thead>\n",
       "    <tr style=\"text-align: right;\">\n",
       "      <th></th>\n",
       "      <th>xml_path</th>\n",
       "      <th>width</th>\n",
       "      <th>height</th>\n",
       "      <th>labelimg</th>\n",
       "      <th>bx1</th>\n",
       "      <th>bx2</th>\n",
       "      <th>bx3</th>\n",
       "      <th>bx4</th>\n",
       "    </tr>\n",
       "  </thead>\n",
       "  <tbody>\n",
       "    <tr>\n",
       "      <th>0</th>\n",
       "      <td>/nas/chenyi/benchmark/query1k_labelimg0707/xml...</td>\n",
       "      <td>1862</td>\n",
       "      <td>4032</td>\n",
       "      <td>上装_短款</td>\n",
       "      <td>68</td>\n",
       "      <td>1268</td>\n",
       "      <td>1862</td>\n",
       "      <td>2967</td>\n",
       "    </tr>\n",
       "  </tbody>\n",
       "</table>\n",
       "</div>"
      ],
      "text/plain": [
       "                                            xml_path  width  height labelimg  \\\n",
       "0  /nas/chenyi/benchmark/query1k_labelimg0707/xml...   1862    4032    上装_短款   \n",
       "\n",
       "   bx1   bx2   bx3   bx4  \n",
       "0   68  1268  1862  2967  "
      ]
     },
     "execution_count": 28,
     "metadata": {},
     "output_type": "execute_result"
    }
   ],
   "source": [
    "bboxes_df.head(1)"
   ]
  },
  {
   "cell_type": "code",
   "execution_count": 29,
   "id": "efe9030a-caf0-4079-8566-810f7ab2d88f",
   "metadata": {},
   "outputs": [
    {
     "data": {
      "text/plain": [
       "{0: '鞋子',\n",
       " 1: '包包',\n",
       " 2: '上装_短款',\n",
       " 3: '裤子_短款',\n",
       " 4: '裙子',\n",
       " 5: '连体装',\n",
       " 6: '上装_长款',\n",
       " 7: '裤子_长款'}"
      ]
     },
     "execution_count": 29,
     "metadata": {},
     "output_type": "execute_result"
    }
   ],
   "source": [
    "chi_label2id8"
   ]
  },
  {
   "cell_type": "code",
   "execution_count": 30,
   "id": "14266e48-aacb-42f6-a643-1fbcda59b913",
   "metadata": {},
   "outputs": [
    {
     "data": {
      "text/plain": [
       "(labelimg\n",
       " 上装_短款    161\n",
       " 鞋子       138\n",
       " 裙子        83\n",
       " 裤子_长款     79\n",
       " 裤子_短款     67\n",
       " 包包        64\n",
       " 上装_长款     53\n",
       " 连体装       53\n",
       " dtype: int64,\n",
       " 698,\n",
       " 8)"
      ]
     },
     "execution_count": 30,
     "metadata": {},
     "output_type": "execute_result"
    }
   ],
   "source": [
    "bboxes_df.value_counts('labelimg'), len(bboxes_df), len(bboxes_df.value_counts('labelimg').index)"
   ]
  },
  {
   "cell_type": "code",
   "execution_count": 31,
   "id": "75a24ca3-697f-47e2-b2a7-4126d879fb10",
   "metadata": {},
   "outputs": [],
   "source": [
    "bboxes_df['stem'] = bboxes_df['xml_path'].apply(lambda x: Path(x).stem)"
   ]
  },
  {
   "cell_type": "code",
   "execution_count": 32,
   "id": "6164b557-f7e7-495c-810b-4b58dadbeac1",
   "metadata": {},
   "outputs": [
    {
     "data": {
      "text/plain": [
       "{'鞋子': 0,\n",
       " '包包': 1,\n",
       " '上装_短款': 2,\n",
       " '裤子_短款': 3,\n",
       " '裙子': 4,\n",
       " '连体装': 5,\n",
       " '上装_长款': 6,\n",
       " '裤子_长款': 7}"
      ]
     },
     "execution_count": 32,
     "metadata": {},
     "output_type": "execute_result"
    }
   ],
   "source": [
    "chi8_map_name8"
   ]
  },
  {
   "cell_type": "code",
   "execution_count": 33,
   "id": "60b18449-b615-4d89-86e0-0285a987e601",
   "metadata": {},
   "outputs": [],
   "source": [
    "# bboxes_df['label86'] = bboxes_df['labelimg'].map(chi8_map_name8)"
   ]
  },
  {
   "cell_type": "code",
   "execution_count": null,
   "id": "84a0a6c1-0a38-4e45-b18f-59c148d15f99",
   "metadata": {},
   "outputs": [],
   "source": []
  },
  {
   "cell_type": "markdown",
   "id": "3791b80d-b486-4b95-86fa-1935e326bf5d",
   "metadata": {},
   "source": [
    "##### 修正label"
   ]
  },
  {
   "cell_type": "code",
   "execution_count": 34,
   "id": "59e2eca0-7f4f-40b9-ba9a-e2a09580dcd7",
   "metadata": {},
   "outputs": [
    {
     "data": {
      "text/plain": [
       "8"
      ]
     },
     "execution_count": 34,
     "metadata": {},
     "output_type": "execute_result"
    }
   ],
   "source": [
    "len(bboxes_df.value_counts('labelimg'))"
   ]
  },
  {
   "cell_type": "code",
   "execution_count": 35,
   "id": "6b3e8162-21ac-4e9a-a02e-8e2ca665153f",
   "metadata": {},
   "outputs": [],
   "source": [
    "# bboxes_df[bboxes_df['labelimg']=='上装短款'].values"
   ]
  },
  {
   "cell_type": "code",
   "execution_count": 36,
   "id": "edd53d95-f8cc-4062-8f69-4ccc34e68e45",
   "metadata": {},
   "outputs": [],
   "source": [
    "# bboxes_df.loc[bboxes_df[bboxes_df['labelimg']=='上装短款'].index, 'labelimg'] = '上装_短款'"
   ]
  },
  {
   "cell_type": "code",
   "execution_count": null,
   "id": "783a654c-efc9-4c9e-868f-25a0617d0643",
   "metadata": {},
   "outputs": [],
   "source": []
  },
  {
   "cell_type": "code",
   "execution_count": null,
   "id": "52ce0487-4756-40c4-b8e5-8a18be377e61",
   "metadata": {},
   "outputs": [],
   "source": []
  },
  {
   "cell_type": "markdown",
   "id": "aaf0e981-8037-4425-a943-268bdd0ecbae",
   "metadata": {},
   "source": [
    "#### 获取对应图片信息"
   ]
  },
  {
   "cell_type": "code",
   "execution_count": 37,
   "id": "4294d5cb-096f-4e02-8460-7850da6c8d4e",
   "metadata": {},
   "outputs": [
    {
     "name": "stdout",
     "output_type": "stream",
     "text": [
      "anomaly  object\n"
     ]
    }
   ],
   "source": [
    "!ls $root/images"
   ]
  },
  {
   "cell_type": "code",
   "execution_count": 68,
   "id": "6f9e8982-4e48-4894-ad0b-705430c7572d",
   "metadata": {},
   "outputs": [
    {
     "data": {
      "text/plain": [
       "934"
      ]
     },
     "execution_count": 68,
     "metadata": {},
     "output_type": "execute_result"
    }
   ],
   "source": [
    "img_list = glob.glob(str(root /'images/*/*/*/*'))\n",
    "img_df = pd.DataFrame()\n",
    "img_df['path'] = img_list\n",
    "len(img_df)"
   ]
  },
  {
   "cell_type": "code",
   "execution_count": null,
   "id": "effbaf56-efcd-43e5-80ee-6e94da3cfd4b",
   "metadata": {},
   "outputs": [],
   "source": []
  },
  {
   "cell_type": "code",
   "execution_count": 69,
   "id": "847e2489-2e48-4408-9984-e24f3ea05e1e",
   "metadata": {},
   "outputs": [],
   "source": [
    "img_df['stem'] = img_df['path'].apply(lambda x: Path(x).stem)"
   ]
  },
  {
   "cell_type": "code",
   "execution_count": 70,
   "id": "1227b1d2-751f-4b8e-83cc-6fe5e44f2412",
   "metadata": {},
   "outputs": [],
   "source": [
    "img_df['parts3'] = img_df['path'].apply(lambda x: Path(x).parts[-3])"
   ]
  },
  {
   "cell_type": "code",
   "execution_count": 71,
   "id": "7847fc2f-a119-4959-848b-1b790c7710bd",
   "metadata": {},
   "outputs": [
    {
     "data": {
      "text/plain": [
       "parts3\n",
       "easy        387\n",
       "anomaly     353\n",
       "hard        107\n",
       "rotation     87\n",
       "dtype: int64"
      ]
     },
     "execution_count": 71,
     "metadata": {},
     "output_type": "execute_result"
    }
   ],
   "source": [
    "img_df.value_counts('parts3')"
   ]
  },
  {
   "cell_type": "code",
   "execution_count": 72,
   "id": "1adec7f7-4e4d-47de-be80-0498e1783577",
   "metadata": {
    "tags": []
   },
   "outputs": [
    {
     "data": {
      "text/plain": [
       "934"
      ]
     },
     "execution_count": 72,
     "metadata": {},
     "output_type": "execute_result"
    }
   ],
   "source": [
    "len(img_df)"
   ]
  },
  {
   "cell_type": "code",
   "execution_count": null,
   "id": "f6a6fad6-b55d-4d6a-9441-07ac9374a393",
   "metadata": {},
   "outputs": [],
   "source": []
  },
  {
   "cell_type": "code",
   "execution_count": null,
   "id": "573ab16c-bfcc-4de9-9b86-96fe9fc6b66a",
   "metadata": {},
   "outputs": [],
   "source": []
  },
  {
   "cell_type": "markdown",
   "id": "ab9370ae-ebd9-43d0-b0a8-03f140c5222b",
   "metadata": {},
   "source": [
    "##### 获取bbox对应的图片"
   ]
  },
  {
   "cell_type": "code",
   "execution_count": 43,
   "id": "e64540e2-0fb5-44b1-8a4c-e6c8cdeb025a",
   "metadata": {},
   "outputs": [
    {
     "data": {
      "text/plain": [
       "578"
      ]
     },
     "execution_count": 43,
     "metadata": {},
     "output_type": "execute_result"
    }
   ],
   "source": [
    "# xml是否都有对应的图片\n",
    "cross_df = img_df[img_df['stem'].isin(bboxes_df['stem'])]\n",
    "len(cross_df)"
   ]
  },
  {
   "cell_type": "code",
   "execution_count": 45,
   "id": "56aca408-79c4-4f79-b8d6-9436e56cca1e",
   "metadata": {},
   "outputs": [],
   "source": [
    "stem2path = get_list2dict(cross_df['stem'].values, cross_df['path'].values)"
   ]
  },
  {
   "cell_type": "code",
   "execution_count": 46,
   "id": "a2616eb9-ad65-4015-9b39-c7d4a518039c",
   "metadata": {},
   "outputs": [],
   "source": [
    "bboxes_df['img_sp'] = bboxes_df['stem'].map(stem2path)"
   ]
  },
  {
   "cell_type": "code",
   "execution_count": 47,
   "id": "49dffb2c-c86c-4e08-9c47-21aaeb0cb1f4",
   "metadata": {},
   "outputs": [],
   "source": [
    "bboxes_clr_df = bboxes_df[~bboxes_df['img_sp'].isna()]"
   ]
  },
  {
   "cell_type": "code",
   "execution_count": 48,
   "id": "ca2d7405-51fc-4142-a797-66ca4df2f7db",
   "metadata": {},
   "outputs": [
    {
     "data": {
      "text/plain": [
       "(698, 698)"
      ]
     },
     "execution_count": 48,
     "metadata": {},
     "output_type": "execute_result"
    }
   ],
   "source": [
    "len(bboxes_df), len(bboxes_clr_df)"
   ]
  },
  {
   "cell_type": "code",
   "execution_count": null,
   "id": "17c8042a-50f1-450e-ae6c-009e870b4c09",
   "metadata": {},
   "outputs": [],
   "source": []
  },
  {
   "cell_type": "code",
   "execution_count": null,
   "id": "b70fc13d-7f0d-4a5e-9cc6-6df0f3508b21",
   "metadata": {},
   "outputs": [],
   "source": []
  },
  {
   "cell_type": "markdown",
   "id": "e7ee1cb4-bc9f-4cec-a1d1-507c518c8b6e",
   "metadata": {},
   "source": [
    "##### 获取图片的宽和高"
   ]
  },
  {
   "cell_type": "code",
   "execution_count": 49,
   "id": "9b396cad-8f3e-4191-ab65-6db3a7a151f7",
   "metadata": {},
   "outputs": [],
   "source": [
    "bboxes_df = bboxes_clr_df"
   ]
  },
  {
   "cell_type": "code",
   "execution_count": 50,
   "id": "4ca80adc-108e-4ceb-bb51-ba8a7ca7ff48",
   "metadata": {},
   "outputs": [
    {
     "name": "stderr",
     "output_type": "stream",
     "text": [
      "698it [00:01, 551.81it/s] \n"
     ]
    }
   ],
   "source": [
    "w_list = []\n",
    "h_list = []\n",
    "for ind,row in tqdm(bboxes_df.iterrows()):\n",
    "    img_sp = row['img_sp']\n",
    "    img = Image.open(img_sp)\n",
    "    w, h = img.size\n",
    "    w_list.append(w)\n",
    "    h_list.append(h)\n",
    "    # break"
   ]
  },
  {
   "cell_type": "code",
   "execution_count": 51,
   "id": "0899c03b-4383-4f4e-8676-ae74b85925d1",
   "metadata": {},
   "outputs": [
    {
     "data": {
      "text/html": [
       "<div>\n",
       "<style scoped>\n",
       "    .dataframe tbody tr th:only-of-type {\n",
       "        vertical-align: middle;\n",
       "    }\n",
       "\n",
       "    .dataframe tbody tr th {\n",
       "        vertical-align: top;\n",
       "    }\n",
       "\n",
       "    .dataframe thead th {\n",
       "        text-align: right;\n",
       "    }\n",
       "</style>\n",
       "<table border=\"1\" class=\"dataframe\">\n",
       "  <thead>\n",
       "    <tr style=\"text-align: right;\">\n",
       "      <th></th>\n",
       "      <th>xml_path</th>\n",
       "      <th>width</th>\n",
       "      <th>height</th>\n",
       "      <th>labelimg</th>\n",
       "      <th>bx1</th>\n",
       "      <th>bx2</th>\n",
       "      <th>bx3</th>\n",
       "      <th>bx4</th>\n",
       "      <th>stem</th>\n",
       "      <th>img_sp</th>\n",
       "    </tr>\n",
       "  </thead>\n",
       "  <tbody>\n",
       "    <tr>\n",
       "      <th>0</th>\n",
       "      <td>/nas/chenyi/benchmark/query1k_labelimg0707/xml...</td>\n",
       "      <td>1862</td>\n",
       "      <td>4032</td>\n",
       "      <td>上装_短款</td>\n",
       "      <td>68</td>\n",
       "      <td>1268</td>\n",
       "      <td>1862</td>\n",
       "      <td>2967</td>\n",
       "      <td>c7ebf676-d697-42df-b99a-17a9f6337425</td>\n",
       "      <td>/nas/chenyi/benchmark/query1k_labelimg0707/ima...</td>\n",
       "    </tr>\n",
       "  </tbody>\n",
       "</table>\n",
       "</div>"
      ],
      "text/plain": [
       "                                            xml_path  width  height labelimg  \\\n",
       "0  /nas/chenyi/benchmark/query1k_labelimg0707/xml...   1862    4032    上装_短款   \n",
       "\n",
       "   bx1   bx2   bx3   bx4                                  stem  \\\n",
       "0   68  1268  1862  2967  c7ebf676-d697-42df-b99a-17a9f6337425   \n",
       "\n",
       "                                              img_sp  \n",
       "0  /nas/chenyi/benchmark/query1k_labelimg0707/ima...  "
      ]
     },
     "execution_count": 51,
     "metadata": {},
     "output_type": "execute_result"
    }
   ],
   "source": [
    "bboxes_df.head(1)"
   ]
  },
  {
   "cell_type": "code",
   "execution_count": 52,
   "id": "1500a6bd-b342-467f-b948-6720cd2b182e",
   "metadata": {},
   "outputs": [],
   "source": [
    "bboxes_df['width'] = w_list\n",
    "bboxes_df['height'] = h_list"
   ]
  },
  {
   "cell_type": "code",
   "execution_count": null,
   "id": "55670dd3-92fb-4389-9143-ef1d59cfca55",
   "metadata": {},
   "outputs": [],
   "source": []
  },
  {
   "cell_type": "code",
   "execution_count": null,
   "id": "2ee2f9a3-4030-40ae-b2c1-f6758f4603e5",
   "metadata": {},
   "outputs": [],
   "source": []
  },
  {
   "cell_type": "markdown",
   "id": "88f6942d-808b-4d09-8cd7-3942ab43f9d6",
   "metadata": {},
   "source": [
    "#### label处理"
   ]
  },
  {
   "cell_type": "code",
   "execution_count": 53,
   "id": "3227fbb9-1506-4b8d-bfcc-06607ee47012",
   "metadata": {},
   "outputs": [
    {
     "data": {
      "text/plain": [
       "{'鞋子': 0,\n",
       " '包包': 1,\n",
       " '上装_短款': 2,\n",
       " '裤子_短款': 3,\n",
       " '裙子': 4,\n",
       " '连体装': 5,\n",
       " '上装_长款': 6,\n",
       " '裤子_长款': 7}"
      ]
     },
     "execution_count": 53,
     "metadata": {},
     "output_type": "execute_result"
    }
   ],
   "source": [
    "chi8_map_name8"
   ]
  },
  {
   "cell_type": "code",
   "execution_count": 54,
   "id": "d8916cd8-1709-407d-a206-fc92c0edbb19",
   "metadata": {},
   "outputs": [],
   "source": [
    "bboxes_df['label86'] = bboxes_df['labelimg'].map(chi8_map_name8)"
   ]
  },
  {
   "cell_type": "code",
   "execution_count": 55,
   "id": "5de9991c-9d1b-41a9-ae99-6ac0f5a363f3",
   "metadata": {},
   "outputs": [],
   "source": [
    "bboxes_df['label_model'] = bboxes_df['label86'].values\n",
    "bboxes_df.loc[bboxes_df['label_model']==6, 'label_model'] = 2\n",
    "bboxes_df.loc[bboxes_df['label_model']==7, 'label_model'] = 3"
   ]
  },
  {
   "cell_type": "code",
   "execution_count": 56,
   "id": "ee02b08b-e419-4959-a5ba-373f7626ee15",
   "metadata": {},
   "outputs": [
    {
     "data": {
      "text/html": [
       "<div>\n",
       "<style scoped>\n",
       "    .dataframe tbody tr th:only-of-type {\n",
       "        vertical-align: middle;\n",
       "    }\n",
       "\n",
       "    .dataframe tbody tr th {\n",
       "        vertical-align: top;\n",
       "    }\n",
       "\n",
       "    .dataframe thead th {\n",
       "        text-align: right;\n",
       "    }\n",
       "</style>\n",
       "<table border=\"1\" class=\"dataframe\">\n",
       "  <thead>\n",
       "    <tr style=\"text-align: right;\">\n",
       "      <th></th>\n",
       "      <th>xml_path</th>\n",
       "      <th>width</th>\n",
       "      <th>height</th>\n",
       "      <th>labelimg</th>\n",
       "      <th>bx1</th>\n",
       "      <th>bx2</th>\n",
       "      <th>bx3</th>\n",
       "      <th>bx4</th>\n",
       "      <th>stem</th>\n",
       "      <th>img_sp</th>\n",
       "      <th>label86</th>\n",
       "      <th>label_model</th>\n",
       "    </tr>\n",
       "  </thead>\n",
       "  <tbody>\n",
       "    <tr>\n",
       "      <th>0</th>\n",
       "      <td>/nas/chenyi/benchmark/query1k_labelimg0707/xml...</td>\n",
       "      <td>1862</td>\n",
       "      <td>4032</td>\n",
       "      <td>上装_短款</td>\n",
       "      <td>68</td>\n",
       "      <td>1268</td>\n",
       "      <td>1862</td>\n",
       "      <td>2967</td>\n",
       "      <td>c7ebf676-d697-42df-b99a-17a9f6337425</td>\n",
       "      <td>/nas/chenyi/benchmark/query1k_labelimg0707/ima...</td>\n",
       "      <td>2</td>\n",
       "      <td>2</td>\n",
       "    </tr>\n",
       "  </tbody>\n",
       "</table>\n",
       "</div>"
      ],
      "text/plain": [
       "                                            xml_path  width  height labelimg  \\\n",
       "0  /nas/chenyi/benchmark/query1k_labelimg0707/xml...   1862    4032    上装_短款   \n",
       "\n",
       "   bx1   bx2   bx3   bx4                                  stem  \\\n",
       "0   68  1268  1862  2967  c7ebf676-d697-42df-b99a-17a9f6337425   \n",
       "\n",
       "                                              img_sp  label86  label_model  \n",
       "0  /nas/chenyi/benchmark/query1k_labelimg0707/ima...        2            2  "
      ]
     },
     "execution_count": 56,
     "metadata": {},
     "output_type": "execute_result"
    }
   ],
   "source": [
    "bboxes_df.head(1)"
   ]
  },
  {
   "cell_type": "code",
   "execution_count": 57,
   "id": "6e1070a4-ffcb-4a08-98f3-722b6783e64f",
   "metadata": {},
   "outputs": [
    {
     "data": {
      "text/plain": [
       "label86\n",
       "5     53\n",
       "6     53\n",
       "1     64\n",
       "3     67\n",
       "7     79\n",
       "4     83\n",
       "0    138\n",
       "2    161\n",
       "dtype: int64"
      ]
     },
     "execution_count": 57,
     "metadata": {},
     "output_type": "execute_result"
    }
   ],
   "source": [
    "bboxes_df.value_counts('label86').sort_values()"
   ]
  },
  {
   "cell_type": "code",
   "execution_count": 58,
   "id": "a4d1f189-cf9a-4ea3-90d1-a0e048a5143b",
   "metadata": {},
   "outputs": [
    {
     "data": {
      "text/plain": [
       "labelimg\n",
       "上装_长款     53\n",
       "连体装       53\n",
       "包包        64\n",
       "裤子_短款     67\n",
       "裤子_长款     79\n",
       "裙子        83\n",
       "鞋子       138\n",
       "上装_短款    161\n",
       "dtype: int64"
      ]
     },
     "execution_count": 58,
     "metadata": {},
     "output_type": "execute_result"
    }
   ],
   "source": [
    "bboxes_df.value_counts('labelimg').sort_values()"
   ]
  },
  {
   "cell_type": "code",
   "execution_count": null,
   "id": "911f20c6-0fb2-466e-a00a-247816648fee",
   "metadata": {},
   "outputs": [],
   "source": []
  },
  {
   "cell_type": "markdown",
   "id": "474f66f9-2a14-4907-b3b0-567058522497",
   "metadata": {},
   "source": [
    "##### 统计人员的bbox"
   ]
  },
  {
   "cell_type": "code",
   "execution_count": 59,
   "id": "20a56e47-d3e4-46f4-a974-c02643801679",
   "metadata": {},
   "outputs": [],
   "source": [
    "# df['man'] = df[int(df.columns[0])].apply(lambda x: re.findall('wholebody0609_xml/.*?_(.*?)/', x)[0])\n",
    "# df.value_counts('man')"
   ]
  },
  {
   "cell_type": "code",
   "execution_count": null,
   "id": "249d490c-5b84-4973-87b3-7a0d768bbf2e",
   "metadata": {},
   "outputs": [],
   "source": []
  },
  {
   "cell_type": "code",
   "execution_count": null,
   "id": "cb902a6a-d9eb-4048-aaa2-d4f65a044062",
   "metadata": {},
   "outputs": [],
   "source": []
  },
  {
   "cell_type": "markdown",
   "id": "9c65557e-9c04-4bdc-87f3-6f721b4128fe",
   "metadata": {},
   "source": [
    "### one object."
   ]
  },
  {
   "cell_type": "code",
   "execution_count": 60,
   "id": "d49959aa-d697-49a7-bdb2-af19636f0f7f",
   "metadata": {},
   "outputs": [],
   "source": [
    "eng2num = {'shoe': 0, \n",
    "         'upperbody_short':2,\n",
    "         'bag':1, \n",
    "         'lowbody_long':7, \n",
    "         'upperbody_long':6,\n",
    "         'skirt':4, \n",
    "         'wholebody':5, \n",
    "         'lowbody_short':3}"
   ]
  },
  {
   "cell_type": "code",
   "execution_count": null,
   "id": "4f7600fd-12b5-46d9-b49b-dbdf5917e6a7",
   "metadata": {},
   "outputs": [],
   "source": []
  },
  {
   "cell_type": "code",
   "execution_count": 61,
   "id": "27570432-10fd-44d1-a7a2-c7cea643486f",
   "metadata": {},
   "outputs": [],
   "source": [
    "eng2num_hard = {'0_shoe': 0, \n",
    "                 '1_bag':1, \n",
    "         '2_upperbody_short':2,\n",
    "         '3_lowbody_short':3, \n",
    "         '4_skirt':4, \n",
    "         '5_wholebody':5, \n",
    "         '6_upperbody_long':6,\n",
    "         '7_lowbody_long':7}"
   ]
  },
  {
   "cell_type": "code",
   "execution_count": null,
   "id": "ea8a857b-bc61-4778-8ed1-6a10bf41a00d",
   "metadata": {},
   "outputs": [],
   "source": []
  },
  {
   "cell_type": "code",
   "execution_count": 62,
   "id": "a5536a56-0b33-4e57-a16d-4f31370bdec1",
   "metadata": {},
   "outputs": [],
   "source": [
    "bboxes_df['cls_folder'] = bboxes_df['img_sp'].apply(lambda x: Path(x).parts[-2])"
   ]
  },
  {
   "cell_type": "code",
   "execution_count": 63,
   "id": "83dabc5e-80b7-498a-ae6b-cb7f3fa79629",
   "metadata": {},
   "outputs": [],
   "source": [
    "# bboxes_df['label_folder'] = bboxes_df['cls_folder'].map(eng2num)\n",
    "bboxes_df['label_folder'] = bboxes_df['cls_folder'].map(eng2num_hard)"
   ]
  },
  {
   "cell_type": "code",
   "execution_count": 64,
   "id": "8b3024eb-ea21-43cc-a555-0e53b028e4ae",
   "metadata": {},
   "outputs": [],
   "source": [
    "bboxes_eq_df = bboxes_df[bboxes_df['label_folder']==bboxes_df['label86']]"
   ]
  },
  {
   "cell_type": "code",
   "execution_count": 65,
   "id": "e5044aa4-9451-43af-9d50-7b23f7c9a4da",
   "metadata": {},
   "outputs": [],
   "source": [
    "bboxes_df['label_query'] = bboxes_df['label_folder']==bboxes_df['label86']"
   ]
  },
  {
   "cell_type": "code",
   "execution_count": 66,
   "id": "6a3b537d-5497-479f-8666-36e746720ad7",
   "metadata": {},
   "outputs": [
    {
     "data": {
      "text/plain": [
       "618"
      ]
     },
     "execution_count": 66,
     "metadata": {},
     "output_type": "execute_result"
    }
   ],
   "source": [
    "len(bboxes_eq_df)"
   ]
  },
  {
   "cell_type": "code",
   "execution_count": null,
   "id": "6f8ac5d5-9386-47ad-a419-7fed042f9305",
   "metadata": {},
   "outputs": [],
   "source": []
  },
  {
   "cell_type": "code",
   "execution_count": null,
   "id": "7b9d5c75-2ae2-4e91-bc8d-072ab9b48461",
   "metadata": {},
   "outputs": [],
   "source": []
  },
  {
   "cell_type": "markdown",
   "id": "eedbf1f9-c36d-4fdb-a653-947f1ac620bb",
   "metadata": {
    "jp-MarkdownHeadingCollapsed": true,
    "tags": []
   },
   "source": [
    "### 数据展示"
   ]
  },
  {
   "cell_type": "code",
   "execution_count": 47,
   "id": "2931b06c-5132-4f1f-98da-9b03642c1dca",
   "metadata": {},
   "outputs": [
    {
     "name": "stdout",
     "output_type": "stream",
     "text": [
      "\u001b[01;34m/home/chenyi/workspace/dataset/data/dada_det\u001b[00m\n",
      "├── \u001b[01;34mhard_sample_0610\u001b[00m\n",
      "├── \u001b[01;34m__MACOSX\u001b[00m\n",
      "├── \u001b[01;34mshoe_bag11k_may\u001b[00m\n",
      "├── \u001b[01;34mshoeBag5k0515\u001b[00m\n",
      "└── \u001b[01;34mwholebody0601_all\u001b[00m\n",
      "\n",
      "5 directories\n"
     ]
    }
   ],
   "source": [
    "!tree -d -L 1 /home/chenyi/workspace/dataset/data/dada_det"
   ]
  },
  {
   "cell_type": "code",
   "execution_count": 25,
   "id": "ef350f3a-f985-4478-a6d3-881ebebc22d2",
   "metadata": {},
   "outputs": [],
   "source": [
    "ROOT = Path('/home/chenyi/workspace/dataset/data/dada_det/hard_sample_0610/')"
   ]
  },
  {
   "cell_type": "code",
   "execution_count": null,
   "id": "1384bc35-7a3c-4aa7-b20b-785e3c8f3d26",
   "metadata": {},
   "outputs": [],
   "source": []
  },
  {
   "cell_type": "code",
   "execution_count": null,
   "id": "c6f9a15d-c80e-4392-bd11-10c18feabd52",
   "metadata": {},
   "outputs": [],
   "source": []
  },
  {
   "cell_type": "markdown",
   "id": "ba088f5d-b947-4e39-bf8b-22c0b85a98c8",
   "metadata": {
    "jp-MarkdownHeadingCollapsed": true,
    "tags": []
   },
   "source": [
    "#### 处理打标标签"
   ]
  },
  {
   "cell_type": "markdown",
   "id": "54e6205f-e920-4de9-acd3-02102fa5d90f",
   "metadata": {},
   "source": [
    "##### 构建中文标签和业务id映射"
   ]
  },
  {
   "cell_type": "code",
   "execution_count": 45,
   "id": "de66ce83-47a7-49c0-bc6f-3d22318a95d9",
   "metadata": {},
   "outputs": [],
   "source": [
    "# counter = df.value_counts(df.columns[3])\n",
    "# name_list = [item[0] for item in list(counter.index)]\n",
    "# name_df = pd.DataFrame()\n",
    "# name_df['name'] = name_list"
   ]
  },
  {
   "cell_type": "code",
   "execution_count": 121,
   "id": "edcb2d1f-0e63-43f5-a60c-d963c99e2cba",
   "metadata": {},
   "outputs": [],
   "source": [
    "import json\n",
    "with open('../../../data/dict/name_chi2l1.json', 'r') as f:\n",
    "    name_chi2l1 = json.load(f)"
   ]
  },
  {
   "cell_type": "code",
   "execution_count": null,
   "id": "df8e65ee-d5ec-4c84-85a4-a25f68ed2fb9",
   "metadata": {},
   "outputs": [],
   "source": []
  },
  {
   "cell_type": "code",
   "execution_count": 122,
   "id": "3a947902-51fd-4592-a16e-ea74b23ab06a",
   "metadata": {},
   "outputs": [],
   "source": [
    "df['label6'] = df[df.columns[3]].map(name_chi2l1)"
   ]
  },
  {
   "cell_type": "code",
   "execution_count": 123,
   "id": "ecbb5a7c-5bff-44a3-99a4-0d6bd58ef012",
   "metadata": {},
   "outputs": [
    {
     "data": {
      "text/plain": [
       "label6\n",
       "4    27\n",
       "7    19\n",
       "6    8 \n",
       "8    4 \n",
       "5    2 \n",
       "dtype: int64"
      ]
     },
     "execution_count": 123,
     "metadata": {},
     "output_type": "execute_result"
    }
   ],
   "source": [
    "df.value_counts('label6')"
   ]
  },
  {
   "cell_type": "code",
   "execution_count": 115,
   "id": "6562d839-3b5e-4b1c-8fcd-e5041592f7af",
   "metadata": {},
   "outputs": [],
   "source": [
    "# 增加多出的中文标签映射\n",
    "# name_chi2l1['皮衣外套'] = 4"
   ]
  },
  {
   "cell_type": "code",
   "execution_count": 116,
   "id": "de2c52c6-3354-4868-9c64-1c1428412a77",
   "metadata": {},
   "outputs": [],
   "source": [
    "import json\n",
    "with open('../../../data/dict/name_chi2l1.json', 'w') as f:\n",
    "    json.dump(name_chi2l1, f)"
   ]
  },
  {
   "cell_type": "code",
   "execution_count": null,
   "id": "940a29f4-82a7-4e98-970e-56298bb56f6a",
   "metadata": {},
   "outputs": [],
   "source": []
  },
  {
   "cell_type": "code",
   "execution_count": 124,
   "id": "134a0a31-23c7-4cb7-a7e2-67ea49446677",
   "metadata": {},
   "outputs": [
    {
     "data": {
      "text/plain": [
       "{0: 10, 1: 8, 2: 4, 3: 5, 4: 6, 5: 7}"
      ]
     },
     "execution_count": 124,
     "metadata": {},
     "output_type": "execute_result"
    }
   ],
   "source": [
    "model_label_map"
   ]
  },
  {
   "cell_type": "code",
   "execution_count": 126,
   "id": "e8058c8e-84cc-4092-8ad7-3803cd79eaa9",
   "metadata": {},
   "outputs": [],
   "source": [
    "l1_map_model = get_list2dict(model_label_map.values(), model_label_map.keys())\n",
    "df['label_model'] = df['label6'].map(l1_map_model)"
   ]
  },
  {
   "cell_type": "code",
   "execution_count": null,
   "id": "e7c46ea0-ba3d-4f3f-b7b4-68f574c3ca97",
   "metadata": {},
   "outputs": [],
   "source": []
  },
  {
   "cell_type": "markdown",
   "id": "63cec4fb-c4ef-408b-821e-4b59e24b4c33",
   "metadata": {},
   "source": [
    "##### 存储目标index"
   ]
  },
  {
   "cell_type": "code",
   "execution_count": null,
   "id": "17c69c67-c6d1-496e-8f31-e327fe3a3c98",
   "metadata": {},
   "outputs": [],
   "source": [
    "# df = pd.read_csv('../data/wh.csv')"
   ]
  },
  {
   "cell_type": "code",
   "execution_count": null,
   "id": "e57e1daf-0657-4d24-8515-0ea350a219cb",
   "metadata": {},
   "outputs": [],
   "source": [
    "!ls /nas/chenyi/datasets_cls/dada_det_drawed/wholebody_jul_drawed"
   ]
  },
  {
   "cell_type": "code",
   "execution_count": null,
   "id": "34540dea-c130-4954-aeee-1c6209166b9e",
   "metadata": {},
   "outputs": [],
   "source": [
    "!mkdir -p /nas/chenyi/datasets_cls/dada_det_drawed/wholebody_jul_drawed"
   ]
  },
  {
   "cell_type": "code",
   "execution_count": null,
   "id": "ef7716cd-64d6-4073-a6b0-5191e274c122",
   "metadata": {},
   "outputs": [],
   "source": [
    "draw_root = Path('/nas/chenyi/datasets_cls/dada_det_drawed/wholebody_jul_drawed')"
   ]
  },
  {
   "cell_type": "code",
   "execution_count": null,
   "id": "daea1e05-4f61-4c1d-91fd-b038e8afbaa9",
   "metadata": {},
   "outputs": [],
   "source": [
    "df.head(2).values"
   ]
  },
  {
   "cell_type": "code",
   "execution_count": null,
   "id": "b0ba177b-be71-4003-9996-3219f14a43b0",
   "metadata": {},
   "outputs": [],
   "source": [
    "df['img_tp'] = df['img_sp'].apply(lambda x:'{0}/{1}/{2}'.format(draw_root, Path(x).parts[-2], Path(x).name))"
   ]
  },
  {
   "cell_type": "code",
   "execution_count": null,
   "id": "4717ccee-c91c-4220-9c94-32d638b844e6",
   "metadata": {},
   "outputs": [],
   "source": [
    "sys.path.append('../../../')\n",
    "from utils.plots.plots import draw_bbox\n",
    "import cv2\n",
    "from PIL import Image"
   ]
  },
  {
   "cell_type": "code",
   "execution_count": null,
   "id": "e08d41fe-5d11-429c-bf5c-9e2964c345d6",
   "metadata": {},
   "outputs": [],
   "source": []
  },
  {
   "cell_type": "code",
   "execution_count": null,
   "id": "63484868-f555-4a69-918e-a5d6d004755a",
   "metadata": {
    "tags": []
   },
   "outputs": [],
   "source": [
    "# error_p_list = []\n",
    "# for ind, row in tqdm(df.iterrows()):\n",
    "#     row_info = row.loc[df.columns[:8]].values\n",
    "#     w,h = row_info[1], row_info[2]\n",
    "#     name = row.loc[['label_model']].values[0]\n",
    "#     bbox = list(row_info[4:8])\n",
    "#     bbox.insert(0,name)\n",
    "#     tp = Path(row.loc[['img_tp']].values[0])\n",
    "#     if not tp.parent.is_dir():\n",
    "#         tp.parent.mkdir()\n",
    "#     rp = tp if tp.is_file() else row.loc[['img_sp']].values[0]\n",
    "#     img = cv2.imread(str(rp))\n",
    "#     img = draw_bbox(img, bbox)\n",
    "#     try:\n",
    "#         cv2.imwrite(str(tp), img)\n",
    "#     except:\n",
    "#         error_p_list.append(tp)\n",
    "#     # break"
   ]
  },
  {
   "cell_type": "code",
   "execution_count": null,
   "id": "013ac242-b801-4fd3-b433-76a8b5fffbcf",
   "metadata": {},
   "outputs": [],
   "source": [
    "error_p_list"
   ]
  },
  {
   "cell_type": "code",
   "execution_count": null,
   "id": "0c1688b8-ffd1-4f7c-a1a3-53909e599267",
   "metadata": {},
   "outputs": [],
   "source": [
    "error_df = pd.DataFrame()\n",
    "error_df['path'] = error_p_list\n",
    "error_df['stem'] = error_df['path'].apply(lambda x: Path(x).stem)"
   ]
  },
  {
   "cell_type": "code",
   "execution_count": null,
   "id": "fd73f5cc-f153-46d5-900c-3a66b5a6a3a2",
   "metadata": {},
   "outputs": [],
   "source": [
    "df.head()"
   ]
  },
  {
   "cell_type": "code",
   "execution_count": null,
   "id": "002171fe-87b6-47d6-9c70-e704b0430d4a",
   "metadata": {},
   "outputs": [],
   "source": [
    "df = df[~df['stem'].isin(error_df['stem'])]"
   ]
  },
  {
   "cell_type": "code",
   "execution_count": null,
   "id": "8d13963f-967e-478d-a009-015e480219ee",
   "metadata": {},
   "outputs": [],
   "source": [
    "# df.to_csv('../data/wholebody5k0610/wholebody5k_july.csv', index=False)"
   ]
  },
  {
   "cell_type": "code",
   "execution_count": null,
   "id": "65c0f50a-eb1d-4325-b4d5-597b2abf3f6a",
   "metadata": {},
   "outputs": [],
   "source": []
  },
  {
   "cell_type": "code",
   "execution_count": null,
   "id": "62312931-e2da-4b0b-a51c-5960f8c49645",
   "metadata": {},
   "outputs": [],
   "source": []
  },
  {
   "cell_type": "code",
   "execution_count": null,
   "id": "27d1933f-8224-4f24-8d9c-6e00ad9b4ad3",
   "metadata": {},
   "outputs": [],
   "source": []
  },
  {
   "cell_type": "markdown",
   "id": "97e563ff-f2d5-43f6-a448-e4278b70eb3d",
   "metadata": {
    "tags": []
   },
   "source": [
    "#### Display Html"
   ]
  },
  {
   "cell_type": "code",
   "execution_count": null,
   "id": "48b3d126-c890-4cc7-9057-102d0f533d7b",
   "metadata": {},
   "outputs": [],
   "source": [
    "sys.path.append('../../../')\n",
    "from utils.display.html import *\n",
    "from IPython.display import HTML\n",
    "from io import BytesIO"
   ]
  },
  {
   "cell_type": "code",
   "execution_count": null,
   "id": "0b20d79f-f437-462e-ba27-4776f2ccfe3d",
   "metadata": {},
   "outputs": [],
   "source": []
  },
  {
   "cell_type": "code",
   "execution_count": null,
   "id": "ebb552c2-de49-4f4b-974e-f59aa1dded74",
   "metadata": {},
   "outputs": [],
   "source": [
    "draw_root = Path('/nas/chenyi/datasets_cls/dada_det_drawed/wholebody_jul_drawed/')"
   ]
  },
  {
   "cell_type": "code",
   "execution_count": null,
   "id": "ff9ed71b-848c-4699-a3b4-2a3b7903ecf7",
   "metadata": {},
   "outputs": [],
   "source": [
    "img_list = glob.glob(str(draw_root/'*/*.jpg'))\n",
    "len(img_list), img_list[-1]"
   ]
  },
  {
   "cell_type": "code",
   "execution_count": null,
   "id": "04f37ffe-caa3-4cf3-a491-022dffff22a5",
   "metadata": {},
   "outputs": [],
   "source": [
    "# img_list = glob.glob(draw_root + '*.jpg')\n",
    "df_drawed = pd.DataFrame()\n",
    "df_drawed['path'] = img_list[-100:]"
   ]
  },
  {
   "cell_type": "code",
   "execution_count": null,
   "id": "d0bb42e5-04fc-4b52-b34d-b042951684e7",
   "metadata": {},
   "outputs": [],
   "source": [
    "size = 500\n",
    "df_drawed['res'] = df_drawed['path'].map(lambda x: get_thumbnail(x, size))"
   ]
  },
  {
   "cell_type": "code",
   "execution_count": null,
   "id": "bc425c17-a92a-4073-a6f2-03066e468b3a",
   "metadata": {},
   "outputs": [],
   "source": [
    "f = df_drawed[['res', 'path']].to_html(formatters={'res': image_formatter}, escape=False)"
   ]
  },
  {
   "cell_type": "code",
   "execution_count": null,
   "id": "62c53518-cc43-4093-b23a-7d4a2c81c15e",
   "metadata": {
    "tags": []
   },
   "outputs": [],
   "source": [
    "HTML(f)"
   ]
  },
  {
   "cell_type": "code",
   "execution_count": null,
   "id": "11580563-4320-418f-88ed-3a25f81497f7",
   "metadata": {},
   "outputs": [],
   "source": []
  },
  {
   "cell_type": "code",
   "execution_count": null,
   "id": "89a24775-4558-40ef-9be6-11e6c548a805",
   "metadata": {},
   "outputs": [],
   "source": []
  },
  {
   "cell_type": "markdown",
   "id": "6eb6fc37-beae-432b-baf2-c97ad87eb3f6",
   "metadata": {
    "jp-MarkdownHeadingCollapsed": true,
    "tags": []
   },
   "source": [
    "### 解析json文件"
   ]
  },
  {
   "cell_type": "code",
   "execution_count": null,
   "id": "aca59b59-4b6b-48c1-8deb-04ee8f7d6fcb",
   "metadata": {},
   "outputs": [],
   "source": [
    "json_list = glob.glob('/home/chenyi/workspace/dataset/haowei34k_labelImg/xml_label/*/*.json')"
   ]
  },
  {
   "cell_type": "code",
   "execution_count": null,
   "id": "34502f83-9962-4379-8e26-df83895df0ec",
   "metadata": {},
   "outputs": [],
   "source": [
    "json_df = pd.DataFrame()\n",
    "json_df['spath'] = json_list"
   ]
  },
  {
   "cell_type": "code",
   "execution_count": null,
   "id": "2c67d62f-8b80-469a-8f3c-e67530694950",
   "metadata": {},
   "outputs": [],
   "source": [
    "xml_dir = Path('/home/chenyi/workspace/dataset/haowei34k_labelImg/json2xml/')"
   ]
  },
  {
   "cell_type": "code",
   "execution_count": null,
   "id": "d5466bb0-1a94-40a4-b5af-ec713dc397b4",
   "metadata": {},
   "outputs": [],
   "source": [
    "json_df['tpath'] = json_df['spath'].apply(lambda x:\n",
    "                                         '{0}/{1}'.format(xml_dir, re.findall(r'/[0-9]{1,3}/(.*?.json)',x)[0]))"
   ]
  },
  {
   "cell_type": "code",
   "execution_count": null,
   "id": "c47a119e-8e35-40d6-b733-7cbe675a8d68",
   "metadata": {},
   "outputs": [],
   "source": [
    "sys.path.append('/home/chenyi/workspace/myPyModule99/data_format/json_to_xml')\n",
    "from json_to_xml.main import *"
   ]
  },
  {
   "cell_type": "code",
   "execution_count": null,
   "id": "12262dbe-7ae5-4d9d-92ae-aaae157ac712",
   "metadata": {},
   "outputs": [],
   "source": [
    "root_json_dir = xml_dir\n",
    "root_save_xml_dir = '/home/chenyi/workspace/dataset/haowei34k_labelImg/json2xml/xml'"
   ]
  },
  {
   "cell_type": "code",
   "execution_count": null,
   "id": "e5dac5c4-62c7-4361-9f0a-2690adfc5585",
   "metadata": {},
   "outputs": [],
   "source": [
    "import json\n",
    "for json_filename in tqdm(os.listdir(root_json_dir)):\n",
    "    json_path = os.path.join(root_json_dir, json_filename)\n",
    "    json_data = json.load(open(json_path))\n",
    "    break"
   ]
  },
  {
   "cell_type": "code",
   "execution_count": null,
   "id": "8a1e6b6d-baa6-453f-8cbb-897a3b4e09a2",
   "metadata": {},
   "outputs": [],
   "source": [
    "json_df['path'] = glob.glob(str(root_json_dir/'*.json'))"
   ]
  },
  {
   "cell_type": "code",
   "execution_count": null,
   "id": "c970a63b-7aa5-41b0-a61b-c0f1886bb02a",
   "metadata": {},
   "outputs": [],
   "source": [
    "json_df['fname'] =  json_df['path'].apply(lambda x: re.findall(r'/json2xml/(.*?).json',x)[0])"
   ]
  },
  {
   "cell_type": "code",
   "execution_count": null,
   "id": "c7161092-2a20-472b-964a-49c270e3836d",
   "metadata": {},
   "outputs": [],
   "source": [
    "json_labels = {}\n",
    "for ind,row in tqdm(json_df.iterrows()):\n",
    "    json_path = row['path']\n",
    "    fname = row['fname']\n",
    "    json_data = json.load(open(json_path))\n",
    "    json_labels[fname] = ''\n",
    "    for item in json_data['shapes']:\n",
    "        name = item['label']\n",
    "        points = item['points']\n",
    "        xmin, ymin = points[0]\n",
    "        xmax, ymax = points[1]\n",
    "        \n",
    "        if name not in classes_name.keys():\n",
    "            classes_name[name] = len(classes_name)\n",
    "        json_labels[fname] += '{} {:6f} {:6f} {:6f} {:6f}\\n'.format(\n",
    "            classes_name[name], xmin, ymin, xmax, ymax)"
   ]
  },
  {
   "cell_type": "code",
   "execution_count": null,
   "id": "0ddb0257-5234-458d-9a7c-2c745c264904",
   "metadata": {},
   "outputs": [],
   "source": [
    "fname_list = []\n",
    "xmin_list = []\n",
    "ymin_list = []\n",
    "xmax_list = []\n",
    "ymax_list = []\n",
    "labels_list = []\n",
    "for ind,row in tqdm(json_df.iterrows()):\n",
    "    json_path = row['path']\n",
    "    fname = row['fname']\n",
    "    json_data = json.load(open(json_path))\n",
    "    for item in json_data['shapes']:\n",
    "        name = item['label']\n",
    "        points = item['points']\n",
    "        xmin, ymin = points[0]\n",
    "        xmax, ymax = points[1]\n",
    "        \n",
    "        fname_list.append(fname)\n",
    "        labels_list.append(name)\n",
    "        xmin_list.append(xmin)\n",
    "        ymin_list.append(ymin)\n",
    "        ymax_list.append(ymax)\n",
    "        xmax_list.append(xmax)"
   ]
  },
  {
   "cell_type": "code",
   "execution_count": null,
   "id": "a00d56b5-2ef9-4847-89d6-fac027872628",
   "metadata": {},
   "outputs": [],
   "source": []
  },
  {
   "cell_type": "code",
   "execution_count": null,
   "id": "37fe7824-bca8-4620-868a-a3403d43208a",
   "metadata": {},
   "outputs": [],
   "source": [
    "json_bboxes = pd.DataFrame()"
   ]
  },
  {
   "cell_type": "code",
   "execution_count": null,
   "id": "b10f1d61-3113-48bb-9797-028a9d4e7e6e",
   "metadata": {},
   "outputs": [],
   "source": [
    "json_bboxes['fname'] = fname_list\n",
    "json_bboxes['label'] = labels_list\n",
    "json_bboxes['xmin'] = xmin_list\n",
    "json_bboxes['ymin'] = ymin_list\n",
    "json_bboxes['xmax'] = xmax_list\n",
    "json_bboxes['ymax'] = ymax_list"
   ]
  },
  {
   "cell_type": "code",
   "execution_count": null,
   "id": "15d7e83a-e675-417d-843e-492c83ef5187",
   "metadata": {},
   "outputs": [],
   "source": [
    "json_bboxes.head()"
   ]
  },
  {
   "cell_type": "code",
   "execution_count": null,
   "id": "48b1fe30-7b0c-4913-a171-06310c9027fe",
   "metadata": {},
   "outputs": [],
   "source": []
  },
  {
   "cell_type": "code",
   "execution_count": null,
   "id": "21f7a2f9-2898-4113-b150-531bafe7d64b",
   "metadata": {},
   "outputs": [],
   "source": []
  },
  {
   "cell_type": "code",
   "execution_count": null,
   "id": "37f63572-8a89-45af-a203-27897b406a34",
   "metadata": {},
   "outputs": [],
   "source": []
  },
  {
   "cell_type": "code",
   "execution_count": null,
   "id": "f38fb03d-5a00-439f-b48e-5caf27d7c2a5",
   "metadata": {},
   "outputs": [],
   "source": []
  }
 ],
 "metadata": {
  "kernelspec": {
   "display_name": "Python 3 (ipykernel)",
   "language": "python",
   "name": "python3"
  },
  "language_info": {
   "codemirror_mode": {
    "name": "ipython",
    "version": 3
   },
   "file_extension": ".py",
   "mimetype": "text/x-python",
   "name": "python",
   "nbconvert_exporter": "python",
   "pygments_lexer": "ipython3",
   "version": "3.8.13"
  },
  "toc-showtags": false
 },
 "nbformat": 4,
 "nbformat_minor": 5
}
