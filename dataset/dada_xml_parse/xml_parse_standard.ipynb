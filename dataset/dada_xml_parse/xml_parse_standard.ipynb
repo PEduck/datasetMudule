{
 "cells": [
  {
   "cell_type": "code",
   "execution_count": 7,
   "id": "41e53ff1",
   "metadata": {},
   "outputs": [],
   "source": [
    "from lxml import etree\n",
    "import glob"
   ]
  },
  {
   "cell_type": "code",
   "execution_count": 8,
   "id": "e2513474",
   "metadata": {},
   "outputs": [],
   "source": [
    "from pathlib import Path\n",
    "from tqdm import tqdm"
   ]
  },
  {
   "cell_type": "code",
   "execution_count": 9,
   "id": "9459c0e3",
   "metadata": {},
   "outputs": [],
   "source": [
    "import pandas as pd\n",
    "import numpy as np\n",
    "import os,sys"
   ]
  },
  {
   "cell_type": "code",
   "execution_count": 10,
   "id": "4a2d5fd5",
   "metadata": {},
   "outputs": [],
   "source": [
    "import re\n",
    "from PIL import Image"
   ]
  },
  {
   "cell_type": "code",
   "execution_count": null,
   "id": "42307a49",
   "metadata": {},
   "outputs": [],
   "source": []
  },
  {
   "cell_type": "code",
   "execution_count": null,
   "id": "9f2ecc90",
   "metadata": {},
   "outputs": [],
   "source": []
  },
  {
   "cell_type": "markdown",
   "id": "35bef45b",
   "metadata": {
    "tags": []
   },
   "source": [
    "### 接口"
   ]
  },
  {
   "cell_type": "code",
   "execution_count": 1,
   "id": "bf31ff57",
   "metadata": {},
   "outputs": [],
   "source": [
    "def voc2yolo():\n",
    "    center_x = (xmin + (xmax-xmin)/2)/width\n",
    "    center_y = (ymin + (ymax-ymin)/2)/height\n",
    "    bdb_w = (xmax-xmin)/width\n",
    "    bdb_h = (ymax-ymin)/height"
   ]
  },
  {
   "cell_type": "code",
   "execution_count": null,
   "id": "5d1c17cb",
   "metadata": {},
   "outputs": [],
   "source": []
  },
  {
   "cell_type": "code",
   "execution_count": 2,
   "id": "1a820644",
   "metadata": {},
   "outputs": [],
   "source": [
    "def parse_xml(p):\n",
    "    trees = etree.parse(p)\n",
    "    width, height = int(trees.find('size/width').text), int(trees.find('size/height').text)\n",
    "    bboxes = []\n",
    "    for obj in trees.findall('object'):\n",
    "        bx = []\n",
    "        bx.append(p)\n",
    "        bx.append(int(width))\n",
    "        bx.append(int(height))\n",
    "        bdb = obj.find('bndbox')\n",
    "        bx.append(obj.find('name').text)\n",
    "        bx.append(int(bdb.find('xmin').text))\n",
    "        bx.append(int(bdb.find('ymin').text))\n",
    "        bx.append(int(bdb.find('xmax').text))\n",
    "        bx.append(int(bdb.find('ymax').text))\n",
    "        bboxes.append(bx)\n",
    "    return bboxes"
   ]
  },
  {
   "cell_type": "code",
   "execution_count": null,
   "id": "d7f23ce5",
   "metadata": {},
   "outputs": [],
   "source": []
  },
  {
   "cell_type": "code",
   "execution_count": 64,
   "id": "45a649ee",
   "metadata": {},
   "outputs": [],
   "source": [
    "model_label_map = {\n",
    "    0: 10,  # 鞋子\n",
    "    1: 8,  # 包包\n",
    "    2: 4,  # 上装\n",
    "    3: 5,  # 裤子\n",
    "    4: 6,  # 裙子\n",
    "    5: 7,  # 连体装\n",
    "}\n",
    "model_label_map8 = {\n",
    "    0: 10,  # 鞋子\n",
    "    1: 8,  # 包包\n",
    "    2: 4,  # 上装_短款\n",
    "    3: 5,  # 裤子_短款\n",
    "    4: 6,  # 裙子\n",
    "    5: 7,  # 连体装\n",
    "    6: 4,  # 上装_长款\n",
    "    7: 5,  # 裤子_长款\n",
    "}"
   ]
  },
  {
   "cell_type": "code",
   "execution_count": null,
   "id": "49ae1b9c",
   "metadata": {},
   "outputs": [],
   "source": []
  },
  {
   "cell_type": "code",
   "execution_count": 107,
   "id": "866249a9",
   "metadata": {},
   "outputs": [],
   "source": [
    "model_label_map9 = {\n",
    "    0: 10,  # 鞋子\n",
    "    1: 8,  # 包包\n",
    "    2: 4,  # 上装_短款\n",
    "    3: 5,  # 裤子_长款\n",
    "    4: 6,  # 裙子\n",
    "    5: 7,  # 连体装\n",
    "    6: 4,  # 上装_长款\n",
    "    7: 5,  # 超短裤\n",
    "    8: 4,  # 超短裙\n",
    "}\n",
    "\n",
    "id2chi9 = {\n",
    "    0: '鞋子',\n",
    "    1: '包包',\n",
    "    2: '上装_短款',\n",
    "    3: '裤子',\n",
    "    4: '裙子',\n",
    "    5: '连体装',\n",
    "    6: '上装_长款',\n",
    "    7: '超短裤',\n",
    "    8: '超短裙',\n",
    "}\n",
    "\n",
    "id2eng9 = {\n",
    "    0: 'shoe',  # 鞋子\n",
    "    1: 'bag',  # 包包\n",
    "    2: 'upper_short',  # 上装\n",
    "    3: 'paints',  # 裤子\n",
    "    4: 'skirt',  # 裙子\n",
    "    5: 'wholebody',  # 连体装\n",
    "    6: 'upper_long',\n",
    "    7: 'paints_hot',\n",
    "    8: 'miniskirt',\n",
    "}"
   ]
  },
  {
   "cell_type": "code",
   "execution_count": null,
   "id": "4587f472",
   "metadata": {},
   "outputs": [],
   "source": []
  },
  {
   "cell_type": "code",
   "execution_count": 66,
   "id": "687f1324",
   "metadata": {},
   "outputs": [],
   "source": [
    "def get_list2dict(k_list, v_list):\n",
    "    d = {}\n",
    "    for item in zip(k_list, v_list):\n",
    "        d[item[0]] = item[1]\n",
    "    return d"
   ]
  },
  {
   "cell_type": "code",
   "execution_count": 71,
   "id": "5c2e1961",
   "metadata": {},
   "outputs": [],
   "source": [
    "chi2id9 = get_list2dict(id2chi9.values(), id2chi9.keys())\n",
    "eng2id9 = get_list2dict(id2eng9.values(), id2eng9.keys())"
   ]
  },
  {
   "cell_type": "code",
   "execution_count": null,
   "id": "ecca6794",
   "metadata": {},
   "outputs": [],
   "source": []
  },
  {
   "cell_type": "code",
   "execution_count": null,
   "id": "4d897b15",
   "metadata": {},
   "outputs": [],
   "source": []
  },
  {
   "cell_type": "markdown",
   "id": "04117be7",
   "metadata": {},
   "source": [
    "### 1.Data Loader."
   ]
  },
  {
   "cell_type": "code",
   "execution_count": 13,
   "id": "b802d68f",
   "metadata": {},
   "outputs": [
    {
     "name": "stdout",
     "output_type": "stream",
     "text": [
      "/Users/chenyi/Desktop/code/datasetMudule/dataset/dada_xml_parse\n"
     ]
    }
   ],
   "source": [
    "!pwd"
   ]
  },
  {
   "cell_type": "code",
   "execution_count": 14,
   "id": "a8f9cbb4",
   "metadata": {},
   "outputs": [],
   "source": [
    "sys.path.append('../../../../')"
   ]
  },
  {
   "cell_type": "code",
   "execution_count": 21,
   "id": "91a98301",
   "metadata": {},
   "outputs": [
    {
     "name": "stdout",
     "output_type": "stream",
     "text": [
      "\u001b[34mimages\u001b[m\u001b[m \u001b[34mxml\u001b[m\u001b[m\n"
     ]
    }
   ],
   "source": [
    "root = Path('../../../../dada_data/gallery2m_clr_july/xml_labelimg/part5_img_xml/')\n",
    "!ls $root"
   ]
  },
  {
   "cell_type": "code",
   "execution_count": 22,
   "id": "8856ec55",
   "metadata": {},
   "outputs": [
    {
     "data": {
      "text/plain": [
       "(0, 0)"
      ]
     },
     "execution_count": 22,
     "metadata": {},
     "output_type": "execute_result"
    }
   ],
   "source": [
    "imgs_list = glob.glob(str(root /'*/images/*.jpg'))\n",
    "xml_list = glob.glob(str(root /'*/xml/*.xml'))\n",
    "imgs_list += glob.glob(str(root /'*/images/*/*.jpg'))\n",
    "xml_list += glob.glob(str(root /'*/xml/*/*.xml'))\n",
    "len(imgs_list), len(xml_list)"
   ]
  },
  {
   "cell_type": "code",
   "execution_count": 23,
   "id": "0874b36a",
   "metadata": {},
   "outputs": [
    {
     "data": {
      "text/plain": [
       "(993, 908)"
      ]
     },
     "execution_count": 23,
     "metadata": {},
     "output_type": "execute_result"
    }
   ],
   "source": [
    "imgs_list = glob.glob(str(root /'images/*.jpg'))\n",
    "xml_list = glob.glob(str(root /'xml/*.xml'))\n",
    "len(imgs_list), len(xml_list)"
   ]
  },
  {
   "cell_type": "code",
   "execution_count": 24,
   "id": "0a28ebe6",
   "metadata": {},
   "outputs": [
    {
     "data": {
      "text/plain": [
       "908"
      ]
     },
     "execution_count": 24,
     "metadata": {},
     "output_type": "execute_result"
    }
   ],
   "source": [
    "# 核查xml是否有重复\n",
    "xml_df = pd.DataFrame()\n",
    "xml_df['path'] = xml_list\n",
    "xml_df['stem'] = xml_df['path'].apply(lambda x: Path(x).stem)\n",
    "len(xml_df)"
   ]
  },
  {
   "cell_type": "code",
   "execution_count": null,
   "id": "7b55dc30",
   "metadata": {},
   "outputs": [],
   "source": []
  },
  {
   "cell_type": "code",
   "execution_count": null,
   "id": "cee721d6",
   "metadata": {},
   "outputs": [],
   "source": []
  },
  {
   "cell_type": "markdown",
   "id": "bc3dfc44",
   "metadata": {},
   "source": [
    "#### csv读取和保存"
   ]
  },
  {
   "cell_type": "code",
   "execution_count": 112,
   "id": "77d5e5e1",
   "metadata": {},
   "outputs": [],
   "source": [
    "root_csv = Path('../../data/xml_csv/')\n",
    "bboxes_df = pd.read_csv(root_csv /'gall7k_xml_20220715.csv')\n",
    "# parts_df = pd.read_csv('../../data/xml_csv/gall7k_xml_20220714.csv')"
   ]
  },
  {
   "cell_type": "code",
   "execution_count": null,
   "id": "1c836673-b2d1-433a-8237-b6bbb46bfaee",
   "metadata": {},
   "outputs": [],
   "source": []
  },
  {
   "cell_type": "code",
   "execution_count": 111,
   "id": "07dd3f13",
   "metadata": {},
   "outputs": [],
   "source": [
    "# !mkdir -p $root_csv\n",
    "# bboxes_df = bboxes_all_df\n",
    "bboxes_df.to_csv(str(root_csv /'gall7k_xml_20220715.csv'), index=False)"
   ]
  },
  {
   "cell_type": "code",
   "execution_count": null,
   "id": "c653f6ad-6ebc-499f-be4f-e3ff323c3e77",
   "metadata": {},
   "outputs": [],
   "source": []
  },
  {
   "cell_type": "code",
   "execution_count": 109,
   "id": "291113ea",
   "metadata": {},
   "outputs": [],
   "source": [
    "bboxes_df['label9'] = bboxes_df['labelimg'].map(chi2id9)\n",
    "bboxes_df['label_eng'] = bboxes_df['label9'].map(id2eng9)"
   ]
  },
  {
   "cell_type": "code",
   "execution_count": null,
   "id": "2da28e83",
   "metadata": {},
   "outputs": [],
   "source": []
  },
  {
   "cell_type": "markdown",
   "id": "57ee658e",
   "metadata": {},
   "source": [
    "#### 数据分析"
   ]
  },
  {
   "cell_type": "code",
   "execution_count": 113,
   "id": "8b3a829d",
   "metadata": {},
   "outputs": [
    {
     "data": {
      "text/html": [
       "<div>\n",
       "<style scoped>\n",
       "    .dataframe tbody tr th:only-of-type {\n",
       "        vertical-align: middle;\n",
       "    }\n",
       "\n",
       "    .dataframe tbody tr th {\n",
       "        vertical-align: top;\n",
       "    }\n",
       "\n",
       "    .dataframe thead th {\n",
       "        text-align: right;\n",
       "    }\n",
       "</style>\n",
       "<table border=\"1\" class=\"dataframe\">\n",
       "  <thead>\n",
       "    <tr style=\"text-align: right;\">\n",
       "      <th></th>\n",
       "      <th>xml_path</th>\n",
       "      <th>width</th>\n",
       "      <th>height</th>\n",
       "      <th>labelimg</th>\n",
       "      <th>bx1</th>\n",
       "      <th>bx2</th>\n",
       "      <th>bx3</th>\n",
       "      <th>bx4</th>\n",
       "      <th>stem</th>\n",
       "      <th>img_sp</th>\n",
       "      <th>man</th>\n",
       "      <th>label9</th>\n",
       "      <th>label_eng</th>\n",
       "    </tr>\n",
       "  </thead>\n",
       "  <tbody>\n",
       "    <tr>\n",
       "      <th>0</th>\n",
       "      <td>../../dada_data/gallery2m_clr_july/xml_labelim...</td>\n",
       "      <td>1279</td>\n",
       "      <td>1706</td>\n",
       "      <td>包包</td>\n",
       "      <td>440</td>\n",
       "      <td>596</td>\n",
       "      <td>664</td>\n",
       "      <td>1028</td>\n",
       "      <td>0d99bc28-a05b-11ec-8062-5cfb3aa6f5e6</td>\n",
       "      <td>../../dada_data/gallery2m_clr_july/xml_labelim...</td>\n",
       "      <td>part1_img_xml</td>\n",
       "      <td>1.0</td>\n",
       "      <td>bag</td>\n",
       "    </tr>\n",
       "  </tbody>\n",
       "</table>\n",
       "</div>"
      ],
      "text/plain": [
       "                                            xml_path  width  height labelimg  \\\n",
       "0  ../../dada_data/gallery2m_clr_july/xml_labelim...   1279    1706       包包   \n",
       "\n",
       "   bx1  bx2  bx3   bx4                                  stem  \\\n",
       "0  440  596  664  1028  0d99bc28-a05b-11ec-8062-5cfb3aa6f5e6   \n",
       "\n",
       "                                              img_sp            man  label9  \\\n",
       "0  ../../dada_data/gallery2m_clr_july/xml_labelim...  part1_img_xml     1.0   \n",
       "\n",
       "  label_eng  \n",
       "0       bag  "
      ]
     },
     "execution_count": 113,
     "metadata": {},
     "output_type": "execute_result"
    }
   ],
   "source": [
    "bboxes_df.head(1)"
   ]
  },
  {
   "cell_type": "code",
   "execution_count": null,
   "id": "b69f9058-6d2e-4873-8f69-a5be633829d3",
   "metadata": {},
   "outputs": [],
   "source": []
  },
  {
   "cell_type": "code",
   "execution_count": 94,
   "id": "0c6d1c6b",
   "metadata": {},
   "outputs": [
    {
     "data": {
      "text/plain": [
       "(labelimg\n",
       " 鞋子       10008\n",
       " 上装_短款     5623\n",
       " 包包        3304\n",
       " 裤子        2843\n",
       " 上装_长款     1132\n",
       " 半身裙       1024\n",
       " 连体装        948\n",
       " 超短裤        736\n",
       " 超短裙        723\n",
       " dtype: int64,\n",
       " 26341,\n",
       " 7230,\n",
       " 9)"
      ]
     },
     "execution_count": 94,
     "metadata": {},
     "output_type": "execute_result"
    }
   ],
   "source": [
    "bboxes_df.value_counts('labelimg'), len(bboxes_df), len(bboxes_df.drop_duplicates('stem')), len(bboxes_df.value_counts('labelimg'))"
   ]
  },
  {
   "cell_type": "code",
   "execution_count": null,
   "id": "dc94641f",
   "metadata": {},
   "outputs": [],
   "source": []
  },
  {
   "cell_type": "code",
   "execution_count": null,
   "id": "3203632d",
   "metadata": {},
   "outputs": [],
   "source": []
  },
  {
   "cell_type": "markdown",
   "id": "a170453e",
   "metadata": {},
   "source": [
    "### 解析XML"
   ]
  },
  {
   "cell_type": "markdown",
   "id": "f656156e",
   "metadata": {},
   "source": [
    "#### 解析XML"
   ]
  },
  {
   "cell_type": "code",
   "execution_count": 28,
   "id": "753726a9",
   "metadata": {},
   "outputs": [
    {
     "name": "stderr",
     "output_type": "stream",
     "text": [
      "100%|██████████| 908/908 [00:00<00:00, 1663.56it/s]\n"
     ]
    }
   ],
   "source": [
    "bboxes_list = []\n",
    "for p in tqdm(xml_list):\n",
    "    row = parse_xml(p)\n",
    "    bboxes_list += row\n",
    "    # break"
   ]
  },
  {
   "cell_type": "code",
   "execution_count": null,
   "id": "828ea0a6",
   "metadata": {},
   "outputs": [],
   "source": []
  },
  {
   "cell_type": "code",
   "execution_count": 29,
   "id": "1a26d03c",
   "metadata": {},
   "outputs": [],
   "source": [
    "bboxes_df = pd.DataFrame(bboxes_list)\n",
    "name_stand = ['xml_path', 'width', 'height', 'labelimg', 'bx1', 'bx2','bx3', 'bx4']\n",
    "bboxes_df.rename(columns={bboxes_df.columns[0]:name_stand[0],\n",
    "                          bboxes_df.columns[1]:name_stand[1],\n",
    "                          bboxes_df.columns[2]:name_stand[2],\n",
    "                          bboxes_df.columns[3]:name_stand[3],\n",
    "                          bboxes_df.columns[4]:name_stand[4],\n",
    "                          bboxes_df.columns[5]:name_stand[5],\n",
    "                          bboxes_df.columns[6]:name_stand[6],\n",
    "                          bboxes_df.columns[7]:name_stand[7],\n",
    "                         },\n",
    "                          inplace=True)"
   ]
  },
  {
   "cell_type": "code",
   "execution_count": null,
   "id": "f59695d7",
   "metadata": {},
   "outputs": [],
   "source": []
  },
  {
   "cell_type": "code",
   "execution_count": 114,
   "id": "b561c150",
   "metadata": {},
   "outputs": [
    {
     "data": {
      "text/plain": [
       "(labelimg\n",
       " 鞋子       10008\n",
       " 上装_短款     5623\n",
       " 包包        3304\n",
       " 裤子        2843\n",
       " 上装_长款     1132\n",
       " 半身裙       1024\n",
       " 连体装        948\n",
       " 超短裤        736\n",
       " 超短裙        723\n",
       " dtype: int64,\n",
       " 26341,\n",
       " 9)"
      ]
     },
     "execution_count": 114,
     "metadata": {},
     "output_type": "execute_result"
    }
   ],
   "source": [
    "bboxes_df.value_counts('labelimg'), len(bboxes_df), len(bboxes_df.value_counts('labelimg').index)"
   ]
  },
  {
   "cell_type": "code",
   "execution_count": 32,
   "id": "13e85f69",
   "metadata": {},
   "outputs": [],
   "source": [
    "bboxes_df['stem'] = bboxes_df['xml_path'].apply(lambda x: Path(x).stem)"
   ]
  },
  {
   "cell_type": "code",
   "execution_count": 105,
   "id": "1319a179",
   "metadata": {},
   "outputs": [],
   "source": [
    "# bboxes_df['label86'] = bboxes_df['labelimg'].map(chi8_map_name8)"
   ]
  },
  {
   "cell_type": "code",
   "execution_count": null,
   "id": "30ac6083",
   "metadata": {},
   "outputs": [],
   "source": []
  },
  {
   "cell_type": "markdown",
   "id": "ae822d02",
   "metadata": {},
   "source": [
    "##### 修正label"
   ]
  },
  {
   "cell_type": "code",
   "execution_count": 33,
   "id": "af4e5f44",
   "metadata": {},
   "outputs": [
    {
     "data": {
      "text/plain": [
       "9"
      ]
     },
     "execution_count": 33,
     "metadata": {},
     "output_type": "execute_result"
    }
   ],
   "source": [
    "len(bboxes_df.value_counts('labelimg'))"
   ]
  },
  {
   "cell_type": "code",
   "execution_count": 35,
   "id": "4bbae4c9",
   "metadata": {},
   "outputs": [],
   "source": [
    "# label_name_chi  = '鞋'\n",
    "# sample_df = bboxes_df[bboxes_df['labelimg']==label_name_chi]\n",
    "# p_sample = sample_df['img_sp'].values[0]"
   ]
  },
  {
   "cell_type": "code",
   "execution_count": 121,
   "id": "6e8ee063",
   "metadata": {},
   "outputs": [],
   "source": [
    "# sample_df"
   ]
  },
  {
   "cell_type": "code",
   "execution_count": 122,
   "id": "4d358283",
   "metadata": {},
   "outputs": [
    {
     "data": {
      "text/plain": [
       "'../../dada_data/gallery2m_clr_july/xml_labelimg/part3_img_xml/images/1f/1f936fa2-0a71-4015-b09f-611234c3c327-490343.jpg'"
      ]
     },
     "execution_count": 122,
     "metadata": {},
     "output_type": "execute_result"
    }
   ],
   "source": [
    "p_sample"
   ]
  },
  {
   "cell_type": "code",
   "execution_count": 123,
   "id": "207dc7ac",
   "metadata": {},
   "outputs": [],
   "source": [
    "name_new = '鞋子'\n",
    "bboxes_df.loc[bboxes_df[bboxes_df['labelimg']==label_name_chi].index, 'labelimg'] = name_new"
   ]
  },
  {
   "cell_type": "code",
   "execution_count": null,
   "id": "ba031193",
   "metadata": {},
   "outputs": [],
   "source": []
  },
  {
   "cell_type": "code",
   "execution_count": null,
   "id": "87441e1d",
   "metadata": {},
   "outputs": [],
   "source": []
  },
  {
   "cell_type": "markdown",
   "id": "ff1ff4ef",
   "metadata": {},
   "source": [
    "#### 获取对应图片信息"
   ]
  },
  {
   "cell_type": "code",
   "execution_count": 36,
   "id": "5e5618e7",
   "metadata": {},
   "outputs": [
    {
     "data": {
      "text/plain": [
       "993"
      ]
     },
     "execution_count": 36,
     "metadata": {},
     "output_type": "execute_result"
    }
   ],
   "source": [
    "# imgs_list = glob.glob(str(root /'images/*/*/*/*'))\n",
    "img_df = pd.DataFrame()\n",
    "img_df['path'] = imgs_list\n",
    "len(img_df)"
   ]
  },
  {
   "cell_type": "code",
   "execution_count": 37,
   "id": "0d05b372",
   "metadata": {},
   "outputs": [
    {
     "data": {
      "text/plain": [
       "array([['../../../../dada_data/gallery2m_clr_july/xml_labelimg/part5_img_xml/images/2ec86dde-f8c2-4213-bf67-be170e45ac1f-871416.jpg']],\n",
       "      dtype=object)"
      ]
     },
     "execution_count": 37,
     "metadata": {},
     "output_type": "execute_result"
    }
   ],
   "source": [
    "img_df.head(1).values"
   ]
  },
  {
   "cell_type": "code",
   "execution_count": 38,
   "id": "8fe0f76f",
   "metadata": {},
   "outputs": [],
   "source": [
    "img_df['stem'] = img_df['path'].apply(lambda x: Path(x).stem)"
   ]
  },
  {
   "cell_type": "code",
   "execution_count": 39,
   "id": "2ed4e88a",
   "metadata": {},
   "outputs": [],
   "source": [
    "# img_df['parts3'] = img_df['path'].apply(lambda x: Path(x).parts[-3])"
   ]
  },
  {
   "cell_type": "code",
   "execution_count": 40,
   "id": "05eaeefe",
   "metadata": {},
   "outputs": [],
   "source": [
    "# img_df.value_counts('parts3')"
   ]
  },
  {
   "cell_type": "code",
   "execution_count": 41,
   "id": "54f78dfd",
   "metadata": {
    "tags": []
   },
   "outputs": [
    {
     "data": {
      "text/plain": [
       "993"
      ]
     },
     "execution_count": 41,
     "metadata": {},
     "output_type": "execute_result"
    }
   ],
   "source": [
    "len(img_df)"
   ]
  },
  {
   "cell_type": "code",
   "execution_count": null,
   "id": "08d188d1",
   "metadata": {},
   "outputs": [],
   "source": []
  },
  {
   "cell_type": "code",
   "execution_count": null,
   "id": "de65d1eb",
   "metadata": {},
   "outputs": [],
   "source": []
  },
  {
   "cell_type": "markdown",
   "id": "2f07a602",
   "metadata": {},
   "source": [
    "##### 获取bbox对应的图片"
   ]
  },
  {
   "cell_type": "code",
   "execution_count": 42,
   "id": "5200e14b",
   "metadata": {},
   "outputs": [
    {
     "data": {
      "text/plain": [
       "908"
      ]
     },
     "execution_count": 42,
     "metadata": {},
     "output_type": "execute_result"
    }
   ],
   "source": [
    "# xml是否都有对应的图片\n",
    "cross_df = img_df[img_df['stem'].isin(bboxes_df['stem'])]\n",
    "len(cross_df)"
   ]
  },
  {
   "cell_type": "code",
   "execution_count": 43,
   "id": "0d9e2137",
   "metadata": {},
   "outputs": [],
   "source": [
    "stem2path = get_list2dict(cross_df['stem'].values, cross_df['path'].values)"
   ]
  },
  {
   "cell_type": "code",
   "execution_count": 44,
   "id": "ff1d18a7",
   "metadata": {},
   "outputs": [],
   "source": [
    "bboxes_df['img_sp'] = bboxes_df['stem'].map(stem2path)"
   ]
  },
  {
   "cell_type": "code",
   "execution_count": 45,
   "id": "fc0d271f",
   "metadata": {},
   "outputs": [],
   "source": [
    "bboxes_clr_df = bboxes_df[~bboxes_df['img_sp'].isna()]"
   ]
  },
  {
   "cell_type": "code",
   "execution_count": 46,
   "id": "ca3bc582",
   "metadata": {},
   "outputs": [
    {
     "data": {
      "text/plain": [
       "(3687, 3687)"
      ]
     },
     "execution_count": 46,
     "metadata": {},
     "output_type": "execute_result"
    }
   ],
   "source": [
    "len(bboxes_df), len(bboxes_clr_df)"
   ]
  },
  {
   "cell_type": "code",
   "execution_count": null,
   "id": "16d69af3",
   "metadata": {},
   "outputs": [],
   "source": []
  },
  {
   "cell_type": "code",
   "execution_count": null,
   "id": "71455376",
   "metadata": {},
   "outputs": [],
   "source": []
  },
  {
   "cell_type": "markdown",
   "id": "edb89273",
   "metadata": {},
   "source": [
    "##### 获取图片的宽和高"
   ]
  },
  {
   "cell_type": "code",
   "execution_count": 55,
   "id": "b2c8e458",
   "metadata": {},
   "outputs": [],
   "source": [
    "bboxes_df = bboxes_clr_df "
   ]
  },
  {
   "cell_type": "code",
   "execution_count": 56,
   "id": "bb2c8c4b",
   "metadata": {},
   "outputs": [
    {
     "name": "stderr",
     "output_type": "stream",
     "text": [
      "3687it [00:00, 7000.20it/s]\n"
     ]
    }
   ],
   "source": [
    "w_list = []\n",
    "h_list = []\n",
    "for ind,row in tqdm(bboxes_df.iterrows()):\n",
    "    img_sp = row['img_sp']\n",
    "    try:\n",
    "        img = Image.open(img_sp)\n",
    "        w, h = img.size\n",
    "    except:\n",
    "        try:\n",
    "            img = cv2.imread(sample_p)\n",
    "            w,h = img.shape[1], img.shape[0]\n",
    "        except:\n",
    "            w,h = None, None\n",
    "    w_list.append(w)\n",
    "    h_list.append(h)\n",
    "    # break"
   ]
  },
  {
   "cell_type": "code",
   "execution_count": 62,
   "id": "c86b1189",
   "metadata": {},
   "outputs": [
    {
     "data": {
      "text/plain": [
       "array([['../../../../dada_data/gallery2m_clr_july/xml_labelimg/part5_img_xml/xml/0ebafc7c-a1ce-11ec-aa89-5cfb3aa6f5e6.xml',\n",
       "        1242, 1638, '上装_短款', 658, 677, 807, 896,\n",
       "        '0ebafc7c-a1ce-11ec-aa89-5cfb3aa6f5e6',\n",
       "        '../../../../dada_data/gallery2m_clr_july/xml_labelimg/part5_img_xml/images/0ebafc7c-a1ce-11ec-aa89-5cfb3aa6f5e6.jpg']],\n",
       "      dtype=object)"
      ]
     },
     "execution_count": 62,
     "metadata": {},
     "output_type": "execute_result"
    }
   ],
   "source": [
    "bboxes_df.head(1).values"
   ]
  },
  {
   "cell_type": "code",
   "execution_count": 58,
   "id": "787029c6",
   "metadata": {},
   "outputs": [],
   "source": [
    "bboxes_df['width'] = w_list\n",
    "bboxes_df['height'] = h_list"
   ]
  },
  {
   "cell_type": "code",
   "execution_count": 59,
   "id": "3e809390",
   "metadata": {},
   "outputs": [],
   "source": [
    "na_df = bboxes_df[bboxes_df['width'].isna()]"
   ]
  },
  {
   "cell_type": "code",
   "execution_count": null,
   "id": "e1bdcace",
   "metadata": {},
   "outputs": [],
   "source": []
  },
  {
   "cell_type": "code",
   "execution_count": null,
   "id": "0a28b577",
   "metadata": {},
   "outputs": [],
   "source": []
  },
  {
   "cell_type": "markdown",
   "id": "f52c6a6e",
   "metadata": {},
   "source": [
    "#### label处理"
   ]
  },
  {
   "cell_type": "code",
   "execution_count": null,
   "id": "6d1d3368",
   "metadata": {},
   "outputs": [],
   "source": []
  },
  {
   "cell_type": "code",
   "execution_count": 54,
   "id": "7b29d55d",
   "metadata": {},
   "outputs": [],
   "source": [
    "bboxes_df['label9'] = bboxes_df['labelimg'].map(id2eng9)"
   ]
  },
  {
   "cell_type": "code",
   "execution_count": 55,
   "id": "4ad4e150",
   "metadata": {},
   "outputs": [],
   "source": [
    "bboxes_df['label_model'] = bboxes_df['label86'].values\n",
    "bboxes_df.loc[bboxes_df['label_model']==6, 'label_model'] = 2\n",
    "bboxes_df.loc[bboxes_df['label_model']==7, 'label_model'] = 3"
   ]
  },
  {
   "cell_type": "code",
   "execution_count": 95,
   "id": "4284c65f",
   "metadata": {},
   "outputs": [
    {
     "data": {
      "text/html": [
       "<div>\n",
       "<style scoped>\n",
       "    .dataframe tbody tr th:only-of-type {\n",
       "        vertical-align: middle;\n",
       "    }\n",
       "\n",
       "    .dataframe tbody tr th {\n",
       "        vertical-align: top;\n",
       "    }\n",
       "\n",
       "    .dataframe thead th {\n",
       "        text-align: right;\n",
       "    }\n",
       "</style>\n",
       "<table border=\"1\" class=\"dataframe\">\n",
       "  <thead>\n",
       "    <tr style=\"text-align: right;\">\n",
       "      <th></th>\n",
       "      <th>xml_path</th>\n",
       "      <th>width</th>\n",
       "      <th>height</th>\n",
       "      <th>labelimg</th>\n",
       "      <th>bx1</th>\n",
       "      <th>bx2</th>\n",
       "      <th>bx3</th>\n",
       "      <th>bx4</th>\n",
       "      <th>stem</th>\n",
       "      <th>img_sp</th>\n",
       "      <th>man</th>\n",
       "    </tr>\n",
       "  </thead>\n",
       "  <tbody>\n",
       "    <tr>\n",
       "      <th>0</th>\n",
       "      <td>../../dada_data/gallery2m_clr_july/xml_labelim...</td>\n",
       "      <td>1279</td>\n",
       "      <td>1706</td>\n",
       "      <td>包包</td>\n",
       "      <td>440</td>\n",
       "      <td>596</td>\n",
       "      <td>664</td>\n",
       "      <td>1028</td>\n",
       "      <td>0d99bc28-a05b-11ec-8062-5cfb3aa6f5e6</td>\n",
       "      <td>../../dada_data/gallery2m_clr_july/xml_labelim...</td>\n",
       "      <td>part1_img_xml</td>\n",
       "    </tr>\n",
       "  </tbody>\n",
       "</table>\n",
       "</div>"
      ],
      "text/plain": [
       "                                            xml_path  width  height labelimg  \\\n",
       "0  ../../dada_data/gallery2m_clr_july/xml_labelim...   1279    1706       包包   \n",
       "\n",
       "   bx1  bx2  bx3   bx4                                  stem  \\\n",
       "0  440  596  664  1028  0d99bc28-a05b-11ec-8062-5cfb3aa6f5e6   \n",
       "\n",
       "                                              img_sp            man  \n",
       "0  ../../dada_data/gallery2m_clr_july/xml_labelim...  part1_img_xml  "
      ]
     },
     "execution_count": 95,
     "metadata": {},
     "output_type": "execute_result"
    }
   ],
   "source": [
    "bboxes_df.head(1)"
   ]
  },
  {
   "cell_type": "code",
   "execution_count": 57,
   "id": "81999aa8",
   "metadata": {},
   "outputs": [
    {
     "data": {
      "text/plain": [
       "label86\n",
       "5     53\n",
       "6     53\n",
       "1     64\n",
       "3     67\n",
       "7     79\n",
       "4     83\n",
       "0    138\n",
       "2    161\n",
       "dtype: int64"
      ]
     },
     "execution_count": 57,
     "metadata": {},
     "output_type": "execute_result"
    }
   ],
   "source": [
    "bboxes_df.value_counts('label86').sort_values()"
   ]
  },
  {
   "cell_type": "code",
   "execution_count": 96,
   "id": "ff7d4645",
   "metadata": {},
   "outputs": [
    {
     "data": {
      "text/plain": [
       "labelimg\n",
       "超短裙        723\n",
       "超短裤        736\n",
       "连体装        948\n",
       "半身裙       1024\n",
       "上装_长款     1132\n",
       "裤子        2843\n",
       "包包        3304\n",
       "上装_短款     5623\n",
       "鞋子       10008\n",
       "dtype: int64"
      ]
     },
     "execution_count": 96,
     "metadata": {},
     "output_type": "execute_result"
    }
   ],
   "source": [
    "bboxes_df.value_counts('labelimg').sort_values()"
   ]
  },
  {
   "cell_type": "code",
   "execution_count": null,
   "id": "f4570230",
   "metadata": {},
   "outputs": [],
   "source": []
  },
  {
   "cell_type": "code",
   "execution_count": null,
   "id": "00ad0a16",
   "metadata": {},
   "outputs": [],
   "source": []
  },
  {
   "cell_type": "markdown",
   "id": "23313383",
   "metadata": {},
   "source": [
    "##### 统计人员的bbox"
   ]
  },
  {
   "cell_type": "code",
   "execution_count": 104,
   "id": "d06041fd",
   "metadata": {},
   "outputs": [
    {
     "data": {
      "text/plain": [
       "array([['../../../../dada_data/gallery2m_clr_july/xml_labelimg/part5_img_xml/xml/1edd4d58-3912-4f0c-9647-33c81a3a0eee-406286.xml',\n",
       "        1280, 1706, '鞋子', 458, 1571, 596, 1696,\n",
       "        '1edd4d58-3912-4f0c-9647-33c81a3a0eee-406286',\n",
       "        '../../../../dada_data/gallery2m_clr_july/xml_labelimg/part5_img_xml/images/1edd4d58-3912-4f0c-9647-33c81a3a0eee-406286.jpg',\n",
       "        'part5_img_xml']], dtype=object)"
      ]
     },
     "execution_count": 104,
     "metadata": {},
     "output_type": "execute_result"
    }
   ],
   "source": [
    "df = bboxes_df\n",
    "df.tail(1).values"
   ]
  },
  {
   "cell_type": "code",
   "execution_count": 105,
   "id": "6c0f8869",
   "metadata": {},
   "outputs": [
    {
     "data": {
      "text/html": [
       "<div>\n",
       "<style scoped>\n",
       "    .dataframe tbody tr th:only-of-type {\n",
       "        vertical-align: middle;\n",
       "    }\n",
       "\n",
       "    .dataframe tbody tr th {\n",
       "        vertical-align: top;\n",
       "    }\n",
       "\n",
       "    .dataframe thead th {\n",
       "        text-align: right;\n",
       "    }\n",
       "</style>\n",
       "<table border=\"1\" class=\"dataframe\">\n",
       "  <thead>\n",
       "    <tr style=\"text-align: right;\">\n",
       "      <th></th>\n",
       "      <th>xml_path</th>\n",
       "      <th>width</th>\n",
       "      <th>height</th>\n",
       "      <th>labelimg</th>\n",
       "      <th>bx1</th>\n",
       "      <th>bx2</th>\n",
       "      <th>bx3</th>\n",
       "      <th>bx4</th>\n",
       "      <th>stem</th>\n",
       "      <th>img_sp</th>\n",
       "      <th>man</th>\n",
       "    </tr>\n",
       "  </thead>\n",
       "  <tbody>\n",
       "    <tr>\n",
       "      <th>0</th>\n",
       "      <td>../../dada_data/gallery2m_clr_july/xml_labelim...</td>\n",
       "      <td>1279</td>\n",
       "      <td>1706</td>\n",
       "      <td>包包</td>\n",
       "      <td>440</td>\n",
       "      <td>596</td>\n",
       "      <td>664</td>\n",
       "      <td>1028</td>\n",
       "      <td>0d99bc28-a05b-11ec-8062-5cfb3aa6f5e6</td>\n",
       "      <td>../../dada_data/gallery2m_clr_july/xml_labelim...</td>\n",
       "      <td>part1_img_xml</td>\n",
       "    </tr>\n",
       "  </tbody>\n",
       "</table>\n",
       "</div>"
      ],
      "text/plain": [
       "                                            xml_path  width  height labelimg  \\\n",
       "0  ../../dada_data/gallery2m_clr_july/xml_labelim...   1279    1706       包包   \n",
       "\n",
       "   bx1  bx2  bx3   bx4                                  stem  \\\n",
       "0  440  596  664  1028  0d99bc28-a05b-11ec-8062-5cfb3aa6f5e6   \n",
       "\n",
       "                                              img_sp            man  \n",
       "0  ../../dada_data/gallery2m_clr_july/xml_labelim...  part1_img_xml  "
      ]
     },
     "execution_count": 105,
     "metadata": {},
     "output_type": "execute_result"
    }
   ],
   "source": [
    "df.head(1)"
   ]
  },
  {
   "cell_type": "code",
   "execution_count": 106,
   "id": "062e7f89",
   "metadata": {},
   "outputs": [
    {
     "data": {
      "text/plain": [
       "man\n",
       "part1_img_xml    12034\n",
       "part2_img_xml     5179\n",
       "part3_img_xml     2518\n",
       "part4_img_xml     2923\n",
       "part5_img_xml     3687\n",
       "dtype: int64"
      ]
     },
     "execution_count": 106,
     "metadata": {},
     "output_type": "execute_result"
    }
   ],
   "source": [
    "# df['man'] = df['xml_path'].apply(lambda x: Path(x).parts[5])\n",
    "df.value_counts('man').sort_index()"
   ]
  },
  {
   "cell_type": "code",
   "execution_count": null,
   "id": "871023fb",
   "metadata": {},
   "outputs": [],
   "source": []
  },
  {
   "cell_type": "code",
   "execution_count": null,
   "id": "cecbd514",
   "metadata": {},
   "outputs": [],
   "source": []
  },
  {
   "cell_type": "markdown",
   "id": "3b4e0747",
   "metadata": {},
   "source": [
    "### one object."
   ]
  },
  {
   "cell_type": "code",
   "execution_count": 60,
   "id": "36139d3a",
   "metadata": {},
   "outputs": [],
   "source": [
    "eng2num = {'shoe': 0, \n",
    "         'upperbody_short':2,\n",
    "         'bag':1, \n",
    "         'lowbody_long':7, \n",
    "         'upperbody_long':6,\n",
    "         'skirt':4, \n",
    "         'wholebody':5, \n",
    "         'lowbody_short':3}"
   ]
  },
  {
   "cell_type": "code",
   "execution_count": null,
   "id": "4b8c474d",
   "metadata": {},
   "outputs": [],
   "source": []
  },
  {
   "cell_type": "code",
   "execution_count": 61,
   "id": "b8dc21d0",
   "metadata": {},
   "outputs": [],
   "source": [
    "eng2num_hard = {'0_shoe': 0, \n",
    "                 '1_bag':1, \n",
    "         '2_upperbody_short':2,\n",
    "         '3_lowbody_short':3, \n",
    "         '4_skirt':4, \n",
    "         '5_wholebody':5, \n",
    "         '6_upperbody_long':6,\n",
    "         '7_lowbody_long':7}"
   ]
  },
  {
   "cell_type": "code",
   "execution_count": null,
   "id": "e338c71c",
   "metadata": {},
   "outputs": [],
   "source": []
  },
  {
   "cell_type": "code",
   "execution_count": 62,
   "id": "b3d8e1ba",
   "metadata": {},
   "outputs": [],
   "source": [
    "bboxes_df['cls_folder'] = bboxes_df['img_sp'].apply(lambda x: Path(x).parts[-2])"
   ]
  },
  {
   "cell_type": "code",
   "execution_count": 63,
   "id": "218b505a",
   "metadata": {},
   "outputs": [],
   "source": [
    "# bboxes_df['label_folder'] = bboxes_df['cls_folder'].map(eng2num)\n",
    "bboxes_df['label_folder'] = bboxes_df['cls_folder'].map(eng2num_hard)"
   ]
  },
  {
   "cell_type": "code",
   "execution_count": 64,
   "id": "25cef331",
   "metadata": {},
   "outputs": [],
   "source": [
    "bboxes_eq_df = bboxes_df[bboxes_df['label_folder']==bboxes_df['label86']]"
   ]
  },
  {
   "cell_type": "code",
   "execution_count": 65,
   "id": "198af154",
   "metadata": {},
   "outputs": [],
   "source": [
    "bboxes_df['label_query'] = bboxes_df['label_folder']==bboxes_df['label86']"
   ]
  },
  {
   "cell_type": "code",
   "execution_count": 66,
   "id": "42a4ffd4",
   "metadata": {},
   "outputs": [
    {
     "data": {
      "text/plain": [
       "618"
      ]
     },
     "execution_count": 66,
     "metadata": {},
     "output_type": "execute_result"
    }
   ],
   "source": [
    "len(bboxes_eq_df)"
   ]
  },
  {
   "cell_type": "code",
   "execution_count": null,
   "id": "3079dabc",
   "metadata": {},
   "outputs": [],
   "source": []
  },
  {
   "cell_type": "code",
   "execution_count": null,
   "id": "6851d429",
   "metadata": {},
   "outputs": [],
   "source": []
  },
  {
   "cell_type": "markdown",
   "id": "1de0b93e",
   "metadata": {
    "jp-MarkdownHeadingCollapsed": true,
    "tags": []
   },
   "source": [
    "### 数据展示"
   ]
  },
  {
   "cell_type": "code",
   "execution_count": 47,
   "id": "9c988906",
   "metadata": {},
   "outputs": [
    {
     "name": "stdout",
     "output_type": "stream",
     "text": [
      "\u001b[01;34m/home/chenyi/workspace/dataset/data/dada_det\u001b[00m\n",
      "├── \u001b[01;34mhard_sample_0610\u001b[00m\n",
      "├── \u001b[01;34m__MACOSX\u001b[00m\n",
      "├── \u001b[01;34mshoe_bag11k_may\u001b[00m\n",
      "├── \u001b[01;34mshoeBag5k0515\u001b[00m\n",
      "└── \u001b[01;34mwholebody0601_all\u001b[00m\n",
      "\n",
      "5 directories\n"
     ]
    }
   ],
   "source": [
    "!tree -d -L 1 /home/chenyi/workspace/dataset/data/dada_det"
   ]
  },
  {
   "cell_type": "code",
   "execution_count": 25,
   "id": "19be5995",
   "metadata": {},
   "outputs": [],
   "source": [
    "ROOT = Path('/home/chenyi/workspace/dataset/data/dada_det/hard_sample_0610/')"
   ]
  },
  {
   "cell_type": "code",
   "execution_count": null,
   "id": "2f0fcee5",
   "metadata": {},
   "outputs": [],
   "source": []
  },
  {
   "cell_type": "code",
   "execution_count": null,
   "id": "4152989b",
   "metadata": {},
   "outputs": [],
   "source": []
  },
  {
   "cell_type": "markdown",
   "id": "3dc33500",
   "metadata": {
    "jp-MarkdownHeadingCollapsed": true,
    "tags": []
   },
   "source": [
    "#### 处理打标标签"
   ]
  },
  {
   "cell_type": "markdown",
   "id": "c8bddd85",
   "metadata": {},
   "source": [
    "##### 构建中文标签和业务id映射"
   ]
  },
  {
   "cell_type": "code",
   "execution_count": 45,
   "id": "51862504",
   "metadata": {},
   "outputs": [],
   "source": [
    "# counter = df.value_counts(df.columns[3])\n",
    "# name_list = [item[0] for item in list(counter.index)]\n",
    "# name_df = pd.DataFrame()\n",
    "# name_df['name'] = name_list"
   ]
  },
  {
   "cell_type": "code",
   "execution_count": 121,
   "id": "7f6f34c6",
   "metadata": {},
   "outputs": [],
   "source": [
    "import json\n",
    "with open('../../../data/dict/name_chi2l1.json', 'r') as f:\n",
    "    name_chi2l1 = json.load(f)"
   ]
  },
  {
   "cell_type": "code",
   "execution_count": null,
   "id": "0a2b3670",
   "metadata": {},
   "outputs": [],
   "source": []
  },
  {
   "cell_type": "code",
   "execution_count": 122,
   "id": "8da7ad83",
   "metadata": {},
   "outputs": [],
   "source": [
    "df['label6'] = df[df.columns[3]].map(name_chi2l1)"
   ]
  },
  {
   "cell_type": "code",
   "execution_count": 123,
   "id": "d5928075",
   "metadata": {},
   "outputs": [
    {
     "data": {
      "text/plain": [
       "label6\n",
       "4    27\n",
       "7    19\n",
       "6    8 \n",
       "8    4 \n",
       "5    2 \n",
       "dtype: int64"
      ]
     },
     "execution_count": 123,
     "metadata": {},
     "output_type": "execute_result"
    }
   ],
   "source": [
    "df.value_counts('label6')"
   ]
  },
  {
   "cell_type": "code",
   "execution_count": 115,
   "id": "1abf444f",
   "metadata": {},
   "outputs": [],
   "source": [
    "# 增加多出的中文标签映射\n",
    "# name_chi2l1['皮衣外套'] = 4"
   ]
  },
  {
   "cell_type": "code",
   "execution_count": 116,
   "id": "1fc12d11",
   "metadata": {},
   "outputs": [],
   "source": [
    "import json\n",
    "with open('../../../data/dict/name_chi2l1.json', 'w') as f:\n",
    "    json.dump(name_chi2l1, f)"
   ]
  },
  {
   "cell_type": "code",
   "execution_count": null,
   "id": "b18e2125",
   "metadata": {},
   "outputs": [],
   "source": []
  },
  {
   "cell_type": "code",
   "execution_count": 124,
   "id": "11134e0b",
   "metadata": {},
   "outputs": [
    {
     "data": {
      "text/plain": [
       "{0: 10, 1: 8, 2: 4, 3: 5, 4: 6, 5: 7}"
      ]
     },
     "execution_count": 124,
     "metadata": {},
     "output_type": "execute_result"
    }
   ],
   "source": [
    "model_label_map"
   ]
  },
  {
   "cell_type": "code",
   "execution_count": 126,
   "id": "fa6d9626",
   "metadata": {},
   "outputs": [],
   "source": [
    "l1_map_model = get_list2dict(model_label_map.values(), model_label_map.keys())\n",
    "df['label_model'] = df['label6'].map(l1_map_model)"
   ]
  },
  {
   "cell_type": "code",
   "execution_count": null,
   "id": "01e4b290",
   "metadata": {},
   "outputs": [],
   "source": []
  },
  {
   "cell_type": "markdown",
   "id": "61007da7",
   "metadata": {},
   "source": [
    "##### 存储目标index"
   ]
  },
  {
   "cell_type": "code",
   "execution_count": null,
   "id": "dc74f87a",
   "metadata": {},
   "outputs": [],
   "source": [
    "# df = pd.read_csv('../data/wh.csv')"
   ]
  },
  {
   "cell_type": "code",
   "execution_count": null,
   "id": "3f169529",
   "metadata": {},
   "outputs": [],
   "source": [
    "!ls /nas/chenyi/datasets_cls/dada_det_drawed/wholebody_jul_drawed"
   ]
  },
  {
   "cell_type": "code",
   "execution_count": null,
   "id": "50840fdc",
   "metadata": {},
   "outputs": [],
   "source": [
    "!mkdir -p /nas/chenyi/datasets_cls/dada_det_drawed/wholebody_jul_drawed"
   ]
  },
  {
   "cell_type": "code",
   "execution_count": null,
   "id": "ecf4e92d",
   "metadata": {},
   "outputs": [],
   "source": [
    "draw_root = Path('/nas/chenyi/datasets_cls/dada_det_drawed/wholebody_jul_drawed')"
   ]
  },
  {
   "cell_type": "code",
   "execution_count": null,
   "id": "2a9d7820",
   "metadata": {},
   "outputs": [],
   "source": [
    "df.head(2).values"
   ]
  },
  {
   "cell_type": "code",
   "execution_count": null,
   "id": "296391e2",
   "metadata": {},
   "outputs": [],
   "source": [
    "df['img_tp'] = df['img_sp'].apply(lambda x:'{0}/{1}/{2}'.format(draw_root, Path(x).parts[-2], Path(x).name))"
   ]
  },
  {
   "cell_type": "code",
   "execution_count": null,
   "id": "09dfdbca",
   "metadata": {},
   "outputs": [],
   "source": [
    "sys.path.append('../../../')\n",
    "from utils.plots.plots import draw_bbox\n",
    "import cv2\n",
    "from PIL import Image"
   ]
  },
  {
   "cell_type": "code",
   "execution_count": null,
   "id": "237f1b98",
   "metadata": {},
   "outputs": [],
   "source": []
  },
  {
   "cell_type": "code",
   "execution_count": null,
   "id": "34fa5267",
   "metadata": {
    "tags": []
   },
   "outputs": [],
   "source": [
    "# error_p_list = []\n",
    "# for ind, row in tqdm(df.iterrows()):\n",
    "#     row_info = row.loc[df.columns[:8]].values\n",
    "#     w,h = row_info[1], row_info[2]\n",
    "#     name = row.loc[['label_model']].values[0]\n",
    "#     bbox = list(row_info[4:8])\n",
    "#     bbox.insert(0,name)\n",
    "#     tp = Path(row.loc[['img_tp']].values[0])\n",
    "#     if not tp.parent.is_dir():\n",
    "#         tp.parent.mkdir()\n",
    "#     rp = tp if tp.is_file() else row.loc[['img_sp']].values[0]\n",
    "#     img = cv2.imread(str(rp))\n",
    "#     img = draw_bbox(img, bbox)\n",
    "#     try:\n",
    "#         cv2.imwrite(str(tp), img)\n",
    "#     except:\n",
    "#         error_p_list.append(tp)\n",
    "#     # break"
   ]
  },
  {
   "cell_type": "code",
   "execution_count": null,
   "id": "a5fc685e",
   "metadata": {},
   "outputs": [],
   "source": [
    "error_p_list"
   ]
  },
  {
   "cell_type": "code",
   "execution_count": null,
   "id": "20c09698",
   "metadata": {},
   "outputs": [],
   "source": [
    "error_df = pd.DataFrame()\n",
    "error_df['path'] = error_p_list\n",
    "error_df['stem'] = error_df['path'].apply(lambda x: Path(x).stem)"
   ]
  },
  {
   "cell_type": "code",
   "execution_count": null,
   "id": "1a93bc52",
   "metadata": {},
   "outputs": [],
   "source": [
    "df.head()"
   ]
  },
  {
   "cell_type": "code",
   "execution_count": null,
   "id": "1b80b432",
   "metadata": {},
   "outputs": [],
   "source": [
    "df = df[~df['stem'].isin(error_df['stem'])]"
   ]
  },
  {
   "cell_type": "code",
   "execution_count": null,
   "id": "455ac4cc",
   "metadata": {},
   "outputs": [],
   "source": [
    "# df.to_csv('../data/wholebody5k0610/wholebody5k_july.csv', index=False)"
   ]
  },
  {
   "cell_type": "code",
   "execution_count": null,
   "id": "1c3e9683",
   "metadata": {},
   "outputs": [],
   "source": []
  },
  {
   "cell_type": "code",
   "execution_count": null,
   "id": "efde9100",
   "metadata": {},
   "outputs": [],
   "source": []
  },
  {
   "cell_type": "code",
   "execution_count": null,
   "id": "4f6b6c42",
   "metadata": {},
   "outputs": [],
   "source": []
  },
  {
   "cell_type": "markdown",
   "id": "23838f40",
   "metadata": {
    "tags": []
   },
   "source": [
    "#### Display Html"
   ]
  },
  {
   "cell_type": "code",
   "execution_count": null,
   "id": "cbd67f78",
   "metadata": {},
   "outputs": [],
   "source": [
    "sys.path.append('../../../')\n",
    "from utils.display.html import *\n",
    "from IPython.display import HTML\n",
    "from io import BytesIO"
   ]
  },
  {
   "cell_type": "code",
   "execution_count": null,
   "id": "004fcf90",
   "metadata": {},
   "outputs": [],
   "source": []
  },
  {
   "cell_type": "code",
   "execution_count": null,
   "id": "f3a02bc8",
   "metadata": {},
   "outputs": [],
   "source": [
    "draw_root = Path('/nas/chenyi/datasets_cls/dada_det_drawed/wholebody_jul_drawed/')"
   ]
  },
  {
   "cell_type": "code",
   "execution_count": null,
   "id": "96c8ceec",
   "metadata": {},
   "outputs": [],
   "source": [
    "img_list = glob.glob(str(draw_root/'*/*.jpg'))\n",
    "len(img_list), img_list[-1]"
   ]
  },
  {
   "cell_type": "code",
   "execution_count": null,
   "id": "75e2a835",
   "metadata": {},
   "outputs": [],
   "source": [
    "# img_list = glob.glob(draw_root + '*.jpg')\n",
    "df_drawed = pd.DataFrame()\n",
    "df_drawed['path'] = img_list[-100:]"
   ]
  },
  {
   "cell_type": "code",
   "execution_count": null,
   "id": "3c07b202",
   "metadata": {},
   "outputs": [],
   "source": [
    "size = 500\n",
    "df_drawed['res'] = df_drawed['path'].map(lambda x: get_thumbnail(x, size))"
   ]
  },
  {
   "cell_type": "code",
   "execution_count": null,
   "id": "e87c8f2b",
   "metadata": {},
   "outputs": [],
   "source": [
    "f = df_drawed[['res', 'path']].to_html(formatters={'res': image_formatter}, escape=False)"
   ]
  },
  {
   "cell_type": "code",
   "execution_count": null,
   "id": "b82834cb",
   "metadata": {
    "tags": []
   },
   "outputs": [],
   "source": [
    "HTML(f)"
   ]
  },
  {
   "cell_type": "code",
   "execution_count": null,
   "id": "45c5d004",
   "metadata": {},
   "outputs": [],
   "source": []
  },
  {
   "cell_type": "code",
   "execution_count": null,
   "id": "f44333c2",
   "metadata": {},
   "outputs": [],
   "source": []
  },
  {
   "cell_type": "markdown",
   "id": "614f06db",
   "metadata": {
    "jp-MarkdownHeadingCollapsed": true,
    "tags": []
   },
   "source": [
    "### 解析json文件"
   ]
  },
  {
   "cell_type": "code",
   "execution_count": null,
   "id": "d7de91b6",
   "metadata": {},
   "outputs": [],
   "source": [
    "json_list = glob.glob('/home/chenyi/workspace/dataset/haowei34k_labelImg/xml_label/*/*.json')"
   ]
  },
  {
   "cell_type": "code",
   "execution_count": null,
   "id": "57bc170d",
   "metadata": {},
   "outputs": [],
   "source": [
    "json_df = pd.DataFrame()\n",
    "json_df['spath'] = json_list"
   ]
  },
  {
   "cell_type": "code",
   "execution_count": null,
   "id": "5b257b70",
   "metadata": {},
   "outputs": [],
   "source": [
    "xml_dir = Path('/home/chenyi/workspace/dataset/haowei34k_labelImg/json2xml/')"
   ]
  },
  {
   "cell_type": "code",
   "execution_count": null,
   "id": "42733d59",
   "metadata": {},
   "outputs": [],
   "source": [
    "json_df['tpath'] = json_df['spath'].apply(lambda x:\n",
    "                                         '{0}/{1}'.format(xml_dir, re.findall(r'/[0-9]{1,3}/(.*?.json)',x)[0]))"
   ]
  },
  {
   "cell_type": "code",
   "execution_count": null,
   "id": "e050d980",
   "metadata": {},
   "outputs": [],
   "source": [
    "sys.path.append('/home/chenyi/workspace/myPyModule99/data_format/json_to_xml')\n",
    "from json_to_xml.main import *"
   ]
  },
  {
   "cell_type": "code",
   "execution_count": null,
   "id": "554c1b75",
   "metadata": {},
   "outputs": [],
   "source": [
    "root_json_dir = xml_dir\n",
    "root_save_xml_dir = '/home/chenyi/workspace/dataset/haowei34k_labelImg/json2xml/xml'"
   ]
  },
  {
   "cell_type": "code",
   "execution_count": null,
   "id": "1909aa06",
   "metadata": {},
   "outputs": [],
   "source": [
    "import json\n",
    "for json_filename in tqdm(os.listdir(root_json_dir)):\n",
    "    json_path = os.path.join(root_json_dir, json_filename)\n",
    "    json_data = json.load(open(json_path))\n",
    "    break"
   ]
  },
  {
   "cell_type": "code",
   "execution_count": null,
   "id": "b669e985",
   "metadata": {},
   "outputs": [],
   "source": [
    "json_df['path'] = glob.glob(str(root_json_dir/'*.json'))"
   ]
  },
  {
   "cell_type": "code",
   "execution_count": null,
   "id": "dc98ff4c",
   "metadata": {},
   "outputs": [],
   "source": [
    "json_df['fname'] =  json_df['path'].apply(lambda x: re.findall(r'/json2xml/(.*?).json',x)[0])"
   ]
  },
  {
   "cell_type": "code",
   "execution_count": null,
   "id": "03fd687f",
   "metadata": {},
   "outputs": [],
   "source": [
    "json_labels = {}\n",
    "for ind,row in tqdm(json_df.iterrows()):\n",
    "    json_path = row['path']\n",
    "    fname = row['fname']\n",
    "    json_data = json.load(open(json_path))\n",
    "    json_labels[fname] = ''\n",
    "    for item in json_data['shapes']:\n",
    "        name = item['label']\n",
    "        points = item['points']\n",
    "        xmin, ymin = points[0]\n",
    "        xmax, ymax = points[1]\n",
    "        \n",
    "        if name not in classes_name.keys():\n",
    "            classes_name[name] = len(classes_name)\n",
    "        json_labels[fname] += '{} {:6f} {:6f} {:6f} {:6f}\\n'.format(\n",
    "            classes_name[name], xmin, ymin, xmax, ymax)"
   ]
  },
  {
   "cell_type": "code",
   "execution_count": null,
   "id": "c2974fa9",
   "metadata": {},
   "outputs": [],
   "source": [
    "fname_list = []\n",
    "xmin_list = []\n",
    "ymin_list = []\n",
    "xmax_list = []\n",
    "ymax_list = []\n",
    "labels_list = []\n",
    "for ind,row in tqdm(json_df.iterrows()):\n",
    "    json_path = row['path']\n",
    "    fname = row['fname']\n",
    "    json_data = json.load(open(json_path))\n",
    "    for item in json_data['shapes']:\n",
    "        name = item['label']\n",
    "        points = item['points']\n",
    "        xmin, ymin = points[0]\n",
    "        xmax, ymax = points[1]\n",
    "        \n",
    "        fname_list.append(fname)\n",
    "        labels_list.append(name)\n",
    "        xmin_list.append(xmin)\n",
    "        ymin_list.append(ymin)\n",
    "        ymax_list.append(ymax)\n",
    "        xmax_list.append(xmax)"
   ]
  },
  {
   "cell_type": "code",
   "execution_count": null,
   "id": "edf62c7f",
   "metadata": {},
   "outputs": [],
   "source": []
  },
  {
   "cell_type": "code",
   "execution_count": null,
   "id": "16f1b701",
   "metadata": {},
   "outputs": [],
   "source": [
    "json_bboxes = pd.DataFrame()"
   ]
  },
  {
   "cell_type": "code",
   "execution_count": null,
   "id": "9ed1860e",
   "metadata": {},
   "outputs": [],
   "source": [
    "json_bboxes['fname'] = fname_list\n",
    "json_bboxes['label'] = labels_list\n",
    "json_bboxes['xmin'] = xmin_list\n",
    "json_bboxes['ymin'] = ymin_list\n",
    "json_bboxes['xmax'] = xmax_list\n",
    "json_bboxes['ymax'] = ymax_list"
   ]
  },
  {
   "cell_type": "code",
   "execution_count": null,
   "id": "7d8936ce",
   "metadata": {},
   "outputs": [],
   "source": [
    "json_bboxes.head()"
   ]
  },
  {
   "cell_type": "code",
   "execution_count": null,
   "id": "8233a82d",
   "metadata": {},
   "outputs": [],
   "source": []
  },
  {
   "cell_type": "code",
   "execution_count": null,
   "id": "08c928ef",
   "metadata": {},
   "outputs": [],
   "source": []
  },
  {
   "cell_type": "code",
   "execution_count": null,
   "id": "c6741fbc",
   "metadata": {},
   "outputs": [],
   "source": []
  },
  {
   "cell_type": "code",
   "execution_count": null,
   "id": "43db1f65",
   "metadata": {},
   "outputs": [],
   "source": []
  }
 ],
 "metadata": {
  "kernelspec": {
   "display_name": "Python 3 (ipykernel)",
   "language": "python",
   "name": "python3"
  },
  "language_info": {
   "codemirror_mode": {
    "name": "ipython",
    "version": 3
   },
   "file_extension": ".py",
   "mimetype": "text/x-python",
   "name": "python",
   "nbconvert_exporter": "python",
   "pygments_lexer": "ipython3",
   "version": "3.8.13"
  },
  "toc-showtags": false
 },
 "nbformat": 4,
 "nbformat_minor": 5
}
