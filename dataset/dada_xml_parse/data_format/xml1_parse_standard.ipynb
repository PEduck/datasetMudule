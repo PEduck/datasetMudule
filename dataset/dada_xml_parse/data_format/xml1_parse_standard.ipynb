{
 "cells": [
  {
   "cell_type": "code",
   "execution_count": 1,
   "id": "00bf54b1",
   "metadata": {},
   "outputs": [],
   "source": [
    "from lxml import etree\n",
    "import glob\n",
    "import pandas as pd\n",
    "import numpy as np\n",
    "from pathlib import Path\n",
    "from tqdm import tqdm\n",
    "from PIL import Image\n",
    "import os,sys"
   ]
  },
  {
   "cell_type": "markdown",
   "id": "2bc2a9dc",
   "metadata": {
    "tags": []
   },
   "source": [
    "### 接口"
   ]
  },
  {
   "cell_type": "code",
   "execution_count": 2,
   "id": "9946f2fb",
   "metadata": {},
   "outputs": [],
   "source": [
    "def voc2yolo():\n",
    "    center_x = (xmin + (xmax-xmin)/2)/width\n",
    "    center_y = (ymin + (ymax-ymin)/2)/height\n",
    "    bdb_w = (xmax-xmin)/width\n",
    "    bdb_h = (ymax-ymin)/height"
   ]
  },
  {
   "cell_type": "code",
   "execution_count": 3,
   "id": "3788b9da",
   "metadata": {},
   "outputs": [],
   "source": [
    "def parse_xml(p):\n",
    "    trees = etree.parse(str(p))\n",
    "    width, height = int(trees.find('size/width').text), int(trees.find('size/height').text)\n",
    "    bboxes = []\n",
    "    for obj in trees.findall('object'):\n",
    "        bx = []\n",
    "        bx.append(p)\n",
    "        bx.append(int(width))\n",
    "        bx.append(int(height))\n",
    "        bdb = obj.find('bndbox')\n",
    "        bx.append(obj.find('name').text)\n",
    "        bx.append(int(bdb.find('xmin').text))\n",
    "        bx.append(int(bdb.find('ymin').text))\n",
    "        bx.append(int(bdb.find('xmax').text))\n",
    "        bx.append(int(bdb.find('ymax').text))\n",
    "        bboxes.append(bx)\n",
    "    return bboxes"
   ]
  },
  {
   "cell_type": "code",
   "execution_count": 143,
   "id": "520d58c4",
   "metadata": {},
   "outputs": [],
   "source": [
    "model2logic = {\n",
    "    0: 10,  # 鞋子\n",
    "    1: 8,  # 包包\n",
    "    2: 4,  # 上装\n",
    "    3: 5,  # 裤子\n",
    "    4: 6,  # 裙子\n",
    "    5: 7,  # 连体装\n",
    "}\n",
    "id9_map_logic = {\n",
    "    0: 10,  # 鞋子\n",
    "    1: 8,  # 包包\n",
    "    2: 4,  # 上装_短款\n",
    "    3: 5,  # 裤子_长款\n",
    "    4: 6,  # 裙子\n",
    "    5: 7,  # 连体装\n",
    "    6: 4,  # 上装_长款\n",
    "    7: 5,  # 超短裤\n",
    "    8: 4,  # 超短裙\n",
    "}\n",
    "\n",
    "id2chi9 = {\n",
    "    0: '鞋子',\n",
    "    1: '包包',\n",
    "    2: '上装',\n",
    "    3: '裤子',\n",
    "    4: '半身裙',\n",
    "    5: '连体装',\n",
    "    6: '上装-长款',\n",
    "    7: '超短裤',\n",
    "    8: '超短裙',\n",
    "}\n",
    "\n",
    "id2eng9 = {\n",
    "    0: 'shoe',  # 鞋子\n",
    "    1: 'bag',  # 包包\n",
    "    2: 'upper_short',  # 上装\n",
    "    3: 'paints',  # 裤子\n",
    "    4: 'skirt',  # 裙子\n",
    "    5: 'wholebody',  # 连体装\n",
    "    6: 'upper_long',\n",
    "    7: 'paints_hot',\n",
    "    8: 'miniskirt',\n",
    "}"
   ]
  },
  {
   "cell_type": "code",
   "execution_count": 6,
   "id": "4957fccc",
   "metadata": {},
   "outputs": [],
   "source": [
    "chi2id9 = dict(zip(id2chi9.values(), id2chi9.keys()))"
   ]
  },
  {
   "cell_type": "code",
   "execution_count": null,
   "id": "7ee73e3c",
   "metadata": {},
   "outputs": [],
   "source": []
  },
  {
   "cell_type": "markdown",
   "id": "517e6a3a",
   "metadata": {},
   "source": [
    "### 1.Data Loader."
   ]
  },
  {
   "cell_type": "code",
   "execution_count": 109,
   "id": "c86753f3",
   "metadata": {},
   "outputs": [
    {
     "name": "stdout",
     "output_type": "stream",
     "text": [
      "\u001b[34mcsv\u001b[m\u001b[m \u001b[34mxml\u001b[m\u001b[m\n"
     ]
    }
   ],
   "source": [
    "root = Path('/Users/chenyi/Desktop/data_aug/deploy_manual_sep/')\n",
    "# !ls $root_xml\n",
    "!ls $root/xml_rewrite/anomaly0826_xml"
   ]
  },
  {
   "cell_type": "code",
   "execution_count": 111,
   "id": "35436e9f",
   "metadata": {},
   "outputs": [
    {
     "data": {
      "text/plain": [
       "2081"
      ]
     },
     "execution_count": 111,
     "metadata": {},
     "output_type": "execute_result"
    }
   ],
   "source": [
    "root_img = root /'images/apparel/'\n",
    "img_list = list(root_img.rglob('*.jpg'))\n",
    "img_list += list(root_img.rglob('*.jpeg'))\n",
    "img_list += list(root_img.rglob('*.png'))\n",
    "\n",
    "img_df = pd.DataFrame()\n",
    "img_df['path'] = list(img_list)\n",
    "img_df['stem'] = img_df['path'].apply(lambda x: Path(x).stem)\n",
    "len(img_list)"
   ]
  },
  {
   "cell_type": "code",
   "execution_count": 112,
   "id": "140170a9",
   "metadata": {},
   "outputs": [
    {
     "data": {
      "text/plain": [
       "PosixPath('/Users/chenyi/Desktop/data_aug/deploy_manual_sep/xml_rewrite/anomaly0826_xml/xml')"
      ]
     },
     "execution_count": 112,
     "metadata": {},
     "output_type": "execute_result"
    }
   ],
   "source": [
    "root /'xml_rewrite/anomaly0826_xml/xml'"
   ]
  },
  {
   "cell_type": "code",
   "execution_count": 126,
   "id": "9b2e9d55",
   "metadata": {},
   "outputs": [
    {
     "data": {
      "text/plain": [
       "2069"
      ]
     },
     "execution_count": 126,
     "metadata": {},
     "output_type": "execute_result"
    }
   ],
   "source": [
    "# 核查xml是否有重复\n",
    "root_xml = root /'xml_rewrite/'\n",
    "# root_xml = root /'xml/'\n",
    "xml_list = root_xml.rglob('*.xml')\n",
    "xml_df = pd.DataFrame()\n",
    "xml_df['path'] = list(xml_list)\n",
    "xml_df['stem'] = xml_df['path'].apply(lambda x: Path(x).stem)\n",
    "len(xml_df)"
   ]
  },
  {
   "cell_type": "code",
   "execution_count": null,
   "id": "e440cc83",
   "metadata": {},
   "outputs": [],
   "source": []
  },
  {
   "cell_type": "code",
   "execution_count": null,
   "id": "7b75cca6",
   "metadata": {},
   "outputs": [],
   "source": []
  },
  {
   "cell_type": "markdown",
   "id": "6d1b2e52",
   "metadata": {
    "tags": []
   },
   "source": [
    "#### csv读取和保存"
   ]
  },
  {
   "cell_type": "code",
   "execution_count": 150,
   "id": "14a97b61",
   "metadata": {},
   "outputs": [],
   "source": [
    "csv_fname = 'anomoly2k_aug.csv'\n",
    "root_csv = Path('/Users/chenyi/Desktop/data_aug/deploy_manual_sep/xml_rewrite/anomaly0826_xml/csv/')\n",
    "csv_p = root_csv /csv_fname\n",
    "# bboxes_df = pd.read_csv(root_csv /'gall7k_xml_20220715.csv')\n",
    "# parts_df = pd.read_csv('../../data/xml_csv/gall7k_xml_20220714.csv')"
   ]
  },
  {
   "cell_type": "code",
   "execution_count": 151,
   "id": "be7197a2",
   "metadata": {},
   "outputs": [],
   "source": [
    "# !mkdir -p $root_csv\n",
    "# bboxes_df = bboxes_all_df\n",
    "# bboxes_df.to_csv(str(csv_p), index=False)"
   ]
  },
  {
   "cell_type": "code",
   "execution_count": null,
   "id": "319e586f",
   "metadata": {},
   "outputs": [],
   "source": []
  },
  {
   "cell_type": "markdown",
   "id": "1d4a3b66",
   "metadata": {},
   "source": [
    "### 解析XML"
   ]
  },
  {
   "cell_type": "markdown",
   "id": "07466120",
   "metadata": {},
   "source": [
    "#### 解析XML"
   ]
  },
  {
   "cell_type": "code",
   "execution_count": 127,
   "id": "8a376a3f",
   "metadata": {},
   "outputs": [
    {
     "name": "stderr",
     "output_type": "stream",
     "text": [
      "100%|██████████| 2069/2069 [00:01<00:00, 1749.01it/s]\n"
     ]
    }
   ],
   "source": [
    "bboxes_list = []\n",
    "for p in tqdm(xml_df['path'].values):\n",
    "    try:\n",
    "        row = parse_xml(p)\n",
    "        bboxes_list += row\n",
    "    except:\n",
    "        print('empty xml.')\n",
    "#     break"
   ]
  },
  {
   "cell_type": "code",
   "execution_count": 128,
   "id": "283489d0",
   "metadata": {},
   "outputs": [],
   "source": [
    "bboxes_df = pd.DataFrame(bboxes_list)\n",
    "name_stand = ['xml_path', 'width', 'height', 'labelimg', 'bx1', 'bx2','bx3', 'bx4']\n",
    "bboxes_df.rename(columns={bboxes_df.columns[0]:name_stand[0],\n",
    "                          bboxes_df.columns[1]:name_stand[1],\n",
    "                          bboxes_df.columns[2]:name_stand[2],\n",
    "                          bboxes_df.columns[3]:name_stand[3],\n",
    "                          bboxes_df.columns[4]:name_stand[4],\n",
    "                          bboxes_df.columns[5]:name_stand[5],\n",
    "                          bboxes_df.columns[6]:name_stand[6],\n",
    "                          bboxes_df.columns[7]:name_stand[7],\n",
    "                         },\n",
    "                          inplace=True)"
   ]
  },
  {
   "cell_type": "code",
   "execution_count": 129,
   "id": "cec47c9a",
   "metadata": {},
   "outputs": [],
   "source": [
    "bboxes_df['stem'] = bboxes_df['xml_path'].apply(lambda x: Path(x).stem)"
   ]
  },
  {
   "cell_type": "code",
   "execution_count": null,
   "id": "88e2f8fc",
   "metadata": {},
   "outputs": [],
   "source": []
  },
  {
   "cell_type": "markdown",
   "id": "3a278d12",
   "metadata": {
    "jp-MarkdownHeadingCollapsed": true,
    "tags": []
   },
   "source": [
    "##### 修正label"
   ]
  },
  {
   "cell_type": "code",
   "execution_count": 130,
   "id": "f353c6a6",
   "metadata": {},
   "outputs": [
    {
     "data": {
      "text/plain": [
       "(labelimg\n",
       " 包包       914\n",
       " 上装       592\n",
       " 连体装      288\n",
       " 裤子       131\n",
       " 鞋子        96\n",
       " 超短裙       76\n",
       " 半身裙       66\n",
       " 超短裤       54\n",
       " 上装-长款     21\n",
       " dtype: int64,\n",
       " 9)"
      ]
     },
     "execution_count": 130,
     "metadata": {},
     "output_type": "execute_result"
    }
   ],
   "source": [
    "bboxes_df.value_counts('labelimg'),len(bboxes_df.value_counts('labelimg'))"
   ]
  },
  {
   "cell_type": "code",
   "execution_count": 25,
   "id": "e3de4abf",
   "metadata": {},
   "outputs": [],
   "source": [
    "label_name_chi  = '包'\n",
    "name_new = '包包'\n",
    "sample_df = bboxes_df[bboxes_df['labelimg']==label_name_chi]\n",
    "bboxes_df.loc[bboxes_df[bboxes_df['labelimg']==label_name_chi].index, 'labelimg'] = name_new"
   ]
  },
  {
   "cell_type": "code",
   "execution_count": 131,
   "id": "5788fc82",
   "metadata": {},
   "outputs": [],
   "source": [
    "bboxes_df['label9'] = bboxes_df['labelimg'].map(chi2id9)\n",
    "bboxes_df['label_eng'] = bboxes_df['label9'].map(id2eng9)\n",
    "bboxes_df['label6'] = bboxes_df['label9'].map(id9_map_model6)"
   ]
  },
  {
   "cell_type": "code",
   "execution_count": null,
   "id": "f3bcdb05",
   "metadata": {},
   "outputs": [],
   "source": []
  },
  {
   "cell_type": "markdown",
   "id": "b5df074c",
   "metadata": {},
   "source": [
    "#### 获取对应图片信息"
   ]
  },
  {
   "cell_type": "markdown",
   "id": "954024b0",
   "metadata": {},
   "source": [
    "##### 获取bbox对应的图片"
   ]
  },
  {
   "cell_type": "code",
   "execution_count": 132,
   "id": "4034db45",
   "metadata": {},
   "outputs": [
    {
     "data": {
      "text/plain": [
       "2069"
      ]
     },
     "execution_count": 132,
     "metadata": {},
     "output_type": "execute_result"
    }
   ],
   "source": [
    "# xml是否都有对应的图片\n",
    "cross_df = img_df[img_df['stem'].isin(bboxes_df['stem'])]\n",
    "len(cross_df)"
   ]
  },
  {
   "cell_type": "code",
   "execution_count": 133,
   "id": "40916c52",
   "metadata": {},
   "outputs": [
    {
     "data": {
      "text/plain": [
       "(2238, 2238)"
      ]
     },
     "execution_count": 133,
     "metadata": {},
     "output_type": "execute_result"
    }
   ],
   "source": [
    "stem2path = dict(zip(cross_df['stem'].values, cross_df['path'].values))\n",
    "bboxes_df['img_sp'] = bboxes_df['stem'].map(stem2path)\n",
    "bboxes_clr_df = bboxes_df[~bboxes_df['img_sp'].isna()]\n",
    "len(bboxes_df), len(bboxes_clr_df)"
   ]
  },
  {
   "cell_type": "code",
   "execution_count": null,
   "id": "a703525c",
   "metadata": {},
   "outputs": [],
   "source": []
  },
  {
   "cell_type": "markdown",
   "id": "b8bc64d2",
   "metadata": {},
   "source": [
    "##### 获取图片的宽和高"
   ]
  },
  {
   "cell_type": "code",
   "execution_count": 134,
   "id": "d78c1ae6",
   "metadata": {},
   "outputs": [],
   "source": [
    "bboxes_df = bboxes_clr_df "
   ]
  },
  {
   "cell_type": "code",
   "execution_count": 135,
   "id": "c3c405b0",
   "metadata": {},
   "outputs": [
    {
     "name": "stderr",
     "output_type": "stream",
     "text": [
      "2238it [00:01, 1175.84it/s]\n"
     ]
    }
   ],
   "source": [
    "w_list = []\n",
    "h_list = []\n",
    "for ind,row in tqdm(bboxes_df.iterrows()):\n",
    "    img_sp = row['img_sp']\n",
    "    try:\n",
    "        img = Image.open(img_sp)\n",
    "        w, h = img.size\n",
    "    except:\n",
    "        try:\n",
    "            img = cv2.imread(sample_p)\n",
    "            w,h = img.shape[1], img.shape[0]\n",
    "        except:\n",
    "            w,h = None, None\n",
    "    w_list.append(w)\n",
    "    h_list.append(h)\n",
    "    # break\n",
    "\n",
    "bboxes_df['width'] = w_list\n",
    "bboxes_df['height'] = h_list"
   ]
  },
  {
   "cell_type": "code",
   "execution_count": 136,
   "id": "d76e4f8d",
   "metadata": {},
   "outputs": [
    {
     "data": {
      "text/html": [
       "<div>\n",
       "<style scoped>\n",
       "    .dataframe tbody tr th:only-of-type {\n",
       "        vertical-align: middle;\n",
       "    }\n",
       "\n",
       "    .dataframe tbody tr th {\n",
       "        vertical-align: top;\n",
       "    }\n",
       "\n",
       "    .dataframe thead th {\n",
       "        text-align: right;\n",
       "    }\n",
       "</style>\n",
       "<table border=\"1\" class=\"dataframe\">\n",
       "  <thead>\n",
       "    <tr style=\"text-align: right;\">\n",
       "      <th></th>\n",
       "      <th>xml_path</th>\n",
       "      <th>width</th>\n",
       "      <th>height</th>\n",
       "      <th>labelimg</th>\n",
       "      <th>bx1</th>\n",
       "      <th>bx2</th>\n",
       "      <th>bx3</th>\n",
       "      <th>bx4</th>\n",
       "      <th>stem</th>\n",
       "      <th>label9</th>\n",
       "      <th>label_eng</th>\n",
       "      <th>label6</th>\n",
       "      <th>img_sp</th>\n",
       "    </tr>\n",
       "  </thead>\n",
       "  <tbody>\n",
       "  </tbody>\n",
       "</table>\n",
       "</div>"
      ],
      "text/plain": [
       "Empty DataFrame\n",
       "Columns: [xml_path, width, height, labelimg, bx1, bx2, bx3, bx4, stem, label9, label_eng, label6, img_sp]\n",
       "Index: []"
      ]
     },
     "execution_count": 136,
     "metadata": {},
     "output_type": "execute_result"
    }
   ],
   "source": [
    "na_df = bboxes_df[bboxes_df['width'].isna()]\n",
    "na_df"
   ]
  },
  {
   "cell_type": "code",
   "execution_count": null,
   "id": "d595a9cc",
   "metadata": {},
   "outputs": [],
   "source": []
  },
  {
   "cell_type": "markdown",
   "id": "c31d842d",
   "metadata": {},
   "source": [
    "#### label处理"
   ]
  },
  {
   "cell_type": "code",
   "execution_count": 144,
   "id": "4a239d34",
   "metadata": {},
   "outputs": [],
   "source": [
    "# bboxes_df['label9'] = bboxes_df['labelimg'].map(id2eng9)\n",
    "# bboxes_df['label9'] = bboxes_df['labelimg'].map(eng2id9)\n",
    "logic2model = dict(zip(model2logic.values(), model2logic.keys()))"
   ]
  },
  {
   "cell_type": "code",
   "execution_count": null,
   "id": "133ae3b0",
   "metadata": {},
   "outputs": [],
   "source": []
  },
  {
   "cell_type": "code",
   "execution_count": 145,
   "id": "443831bc",
   "metadata": {},
   "outputs": [],
   "source": [
    "# bboxes_df['label_model'] = bboxes_df['labelimg'].values\n",
    "# bboxes_df['label_model'] = bboxes_df['label96'].values\n",
    "# bboxes_df['label6'] = bboxes_df['label9'].map(id9_map_model6)\n",
    "bboxes_df['label_model'] = bboxes_df['label6'].map(logic2model)\n",
    "# bboxes_df.loc[bboxes_df['label_model']==6, 'label_model'] = 2\n",
    "# bboxes_df.loc[bboxes_df['label_model']==7, 'label_model'] = 3\n",
    "# bboxes_df.loc[bboxes_df['label_model']==8, 'label_model'] = 4"
   ]
  },
  {
   "cell_type": "code",
   "execution_count": 141,
   "id": "6235a48e",
   "metadata": {},
   "outputs": [
    {
     "data": {
      "text/plain": [
       "Index(['xml_path', 'width', 'height', 'labelimg', 'bx1', 'bx2', 'bx3', 'bx4',\n",
       "       'stem', 'label9', 'label_eng', 'label6', 'img_sp'],\n",
       "      dtype='object')"
      ]
     },
     "execution_count": 141,
     "metadata": {},
     "output_type": "execute_result"
    }
   ],
   "source": [
    "bboxes_df.columns"
   ]
  },
  {
   "cell_type": "code",
   "execution_count": 149,
   "id": "88b34705",
   "metadata": {},
   "outputs": [
    {
     "data": {
      "text/plain": [
       "label9\n",
       "0     96\n",
       "1    914\n",
       "2    592\n",
       "3    131\n",
       "4     66\n",
       "5    288\n",
       "6     21\n",
       "7     54\n",
       "8     76\n",
       "dtype: int64"
      ]
     },
     "execution_count": 149,
     "metadata": {},
     "output_type": "execute_result"
    }
   ],
   "source": [
    "bboxes_df.value_counts('label9').sort_index()"
   ]
  },
  {
   "cell_type": "code",
   "execution_count": 147,
   "id": "fe574f65",
   "metadata": {},
   "outputs": [
    {
     "data": {
      "text/plain": [
       "label_model\n",
       "0     96\n",
       "1    914\n",
       "2    689\n",
       "3    185\n",
       "4     66\n",
       "5    288\n",
       "dtype: int64"
      ]
     },
     "execution_count": 147,
     "metadata": {},
     "output_type": "execute_result"
    }
   ],
   "source": [
    "bboxes_df.value_counts('label_model').sort_index()"
   ]
  },
  {
   "cell_type": "code",
   "execution_count": null,
   "id": "c330273c",
   "metadata": {},
   "outputs": [],
   "source": []
  },
  {
   "cell_type": "markdown",
   "id": "91e3a93e",
   "metadata": {
    "jp-MarkdownHeadingCollapsed": true,
    "tags": []
   },
   "source": [
    "### one object."
   ]
  },
  {
   "cell_type": "code",
   "execution_count": null,
   "id": "0e9e0d22",
   "metadata": {},
   "outputs": [],
   "source": [
    "eng2num = {'shoe': 0, \n",
    "         'upperbody_short':2,\n",
    "         'bag':1, \n",
    "         'lowbody_long':7, \n",
    "         'upperbody_long':6,\n",
    "         'skirt':4, \n",
    "         'wholebody':5, \n",
    "         'lowbody_short':3}"
   ]
  },
  {
   "cell_type": "code",
   "execution_count": null,
   "id": "e8a1820f",
   "metadata": {},
   "outputs": [],
   "source": []
  },
  {
   "cell_type": "code",
   "execution_count": null,
   "id": "2297b571",
   "metadata": {},
   "outputs": [],
   "source": [
    "eng2num_hard = {'0_shoe': 0, \n",
    "                 '1_bag':1, \n",
    "         '2_upperbody_short':2,\n",
    "         '3_lowbody_short':3, \n",
    "         '4_skirt':4, \n",
    "         '5_wholebody':5, \n",
    "         '6_upperbody_long':6,\n",
    "         '7_lowbody_long':7}"
   ]
  },
  {
   "cell_type": "code",
   "execution_count": null,
   "id": "37e6f8d2",
   "metadata": {},
   "outputs": [],
   "source": []
  },
  {
   "cell_type": "code",
   "execution_count": null,
   "id": "41bed571",
   "metadata": {},
   "outputs": [],
   "source": [
    "bboxes_df['cls_folder'] = bboxes_df['img_sp'].apply(lambda x: Path(x).parts[-2])"
   ]
  },
  {
   "cell_type": "code",
   "execution_count": null,
   "id": "054f09b2",
   "metadata": {},
   "outputs": [],
   "source": [
    "# bboxes_df['label_folder'] = bboxes_df['cls_folder'].map(eng2num)\n",
    "bboxes_df['label_folder'] = bboxes_df['cls_folder'].map(eng2num_hard)"
   ]
  },
  {
   "cell_type": "code",
   "execution_count": null,
   "id": "46b57054",
   "metadata": {},
   "outputs": [],
   "source": [
    "bboxes_eq_df = bboxes_df[bboxes_df['label_folder']==bboxes_df['label86']]"
   ]
  },
  {
   "cell_type": "code",
   "execution_count": null,
   "id": "3cfcc7ff",
   "metadata": {},
   "outputs": [],
   "source": [
    "bboxes_df['label_query'] = bboxes_df['label_folder']==bboxes_df['label86']"
   ]
  },
  {
   "cell_type": "code",
   "execution_count": null,
   "id": "12f25e94",
   "metadata": {},
   "outputs": [],
   "source": [
    "len(bboxes_eq_df)"
   ]
  },
  {
   "cell_type": "markdown",
   "id": "abbaab27",
   "metadata": {
    "jp-MarkdownHeadingCollapsed": true,
    "tags": []
   },
   "source": [
    "### 计算打标准确率"
   ]
  },
  {
   "cell_type": "code",
   "execution_count": null,
   "id": "e79b1f62",
   "metadata": {},
   "outputs": [],
   "source": [
    "parts_df = pd.read_csv('/nas/chenyi/datasets_nas/gallery2m_clred/gallery2m_7k20220715/csv/gall7k_xml_20220715.csv')"
   ]
  },
  {
   "cell_type": "code",
   "execution_count": null,
   "id": "484e2c6f",
   "metadata": {},
   "outputs": [],
   "source": [
    "parts_df.head(1)"
   ]
  },
  {
   "cell_type": "code",
   "execution_count": null,
   "id": "822a9333",
   "metadata": {},
   "outputs": [],
   "source": [
    "counter = parts_bboxes_df.value_counts('man').sort_index()\n",
    "counter"
   ]
  },
  {
   "cell_type": "code",
   "execution_count": null,
   "id": "f45abcc9",
   "metadata": {},
   "outputs": [],
   "source": [
    "stem2part = get_list2dict(parts_df['stem'].values, parts_df['man'].values)"
   ]
  },
  {
   "cell_type": "code",
   "execution_count": null,
   "id": "527794ee",
   "metadata": {},
   "outputs": [],
   "source": [
    "parts_bboxes_df = parts_df[parts_df['stem'].isin(bboxes_df['stem'])]\n",
    "len(parts_bboxes_df)"
   ]
  },
  {
   "cell_type": "code",
   "execution_count": null,
   "id": "6f2b7b77",
   "metadata": {},
   "outputs": [],
   "source": [
    "bboxes_df['man'] = bboxes_df['stem'].map(stem2part)"
   ]
  },
  {
   "cell_type": "code",
   "execution_count": null,
   "id": "3787f6df",
   "metadata": {},
   "outputs": [],
   "source": [
    "counter_gt = bboxes_df.value_counts('man').sort_index()\n",
    "counter_gt"
   ]
  },
  {
   "cell_type": "code",
   "execution_count": null,
   "id": "e08bf1b4",
   "metadata": {},
   "outputs": [],
   "source": []
  },
  {
   "cell_type": "code",
   "execution_count": null,
   "id": "9c7848b2",
   "metadata": {},
   "outputs": [],
   "source": []
  },
  {
   "cell_type": "code",
   "execution_count": null,
   "id": "da777c04",
   "metadata": {},
   "outputs": [],
   "source": []
  },
  {
   "cell_type": "code",
   "execution_count": null,
   "id": "b537af3f",
   "metadata": {},
   "outputs": [],
   "source": [
    "def get_iou(BBGT, bb):\n",
    "    # intersection\n",
    "    ixmin = np.maximum(BBGT[:, 0], bb[0])\n",
    "    iymin = np.maximum(BBGT[:, 1], bb[1])\n",
    "    ixmax = np.minimum(BBGT[:, 2], bb[2])\n",
    "    iymax = np.minimum(BBGT[:, 3], bb[3])\n",
    "    iw = np.maximum(ixmax - ixmin + 1., 0.)\n",
    "    ih = np.maximum(iymax - iymin + 1., 0.)\n",
    "    inters = iw * ih        # union\n",
    "    uni = ((bb[2] - bb[0] + 1.) * (bb[3] - bb[1] + 1.) +\n",
    "           (BBGT[:, 2] - BBGT[:, 0] + 1.) *\n",
    "           (BBGT[:, 3] - BBGT[:, 1] + 1.) - inters)\n",
    "\n",
    "    return inters / uni"
   ]
  },
  {
   "cell_type": "code",
   "execution_count": null,
   "id": "c0d90ad3",
   "metadata": {},
   "outputs": [],
   "source": []
  },
  {
   "cell_type": "code",
   "execution_count": null,
   "id": "b46a5a57",
   "metadata": {},
   "outputs": [],
   "source": []
  },
  {
   "cell_type": "code",
   "execution_count": null,
   "id": "7b3842c2",
   "metadata": {},
   "outputs": [],
   "source": [
    "label_df1 = parts_bboxes_df[parts_bboxes_df['man']=='part5_img_xml']\n",
    "gt_df1 = bboxes_df[bboxes_df['man']=='part5_img_xml']\n",
    "parts_gp = dict(list(label_df1.groupby('stem')))\n",
    "bboxes_gp = dict(list(gt_df1.groupby('stem')))"
   ]
  },
  {
   "cell_type": "code",
   "execution_count": null,
   "id": "c9b5ca31",
   "metadata": {},
   "outputs": [],
   "source": []
  },
  {
   "cell_type": "code",
   "execution_count": null,
   "id": "e068f84d",
   "metadata": {},
   "outputs": [],
   "source": [
    "tp_all, fp_all = 0, 0\n",
    "stem_list = {}\n",
    "for k in tqdm(bboxes_gp.keys()):\n",
    "    item_part = parts_gp[k]\n",
    "    item_bbox = bboxes_gp[k]\n",
    "    bbx1 = item_part.loc[:, ['bx1', 'bx2', 'bx3', 'bx4', 'label9']].values\n",
    "    bbx_gt = item_bbox.loc[:, ['bx1', 'bx2', 'bx3', 'bx4', 'label9']].values\n",
    "\n",
    "    # bbxes_pred = bbx1\n",
    "    # BBGT = bbx_gt\n",
    "    # ovthresh = 0.90\n",
    "    t, f = eval_one_img(bbx1, bbx_gt, ovthresh = 0.9)\n",
    "    tp_all += t\n",
    "    fp_all += f\n",
    "    stem_list[k] = [t, f]"
   ]
  },
  {
   "cell_type": "code",
   "execution_count": null,
   "id": "edf86633",
   "metadata": {},
   "outputs": [],
   "source": []
  },
  {
   "cell_type": "code",
   "execution_count": null,
   "id": "55cf7b03",
   "metadata": {},
   "outputs": [],
   "source": []
  },
  {
   "cell_type": "code",
   "execution_count": null,
   "id": "9b529882",
   "metadata": {},
   "outputs": [],
   "source": [
    "# part1\n",
    "fn_all = len(gt_df1) - tp_all\n",
    "tp_all / (tp_all + fp_all) , tp_all / (tp_all + fn_all)"
   ]
  },
  {
   "cell_type": "code",
   "execution_count": null,
   "id": "2367f533",
   "metadata": {},
   "outputs": [],
   "source": [
    "# part2\n",
    "fn_all = len(gt_df1) - tp_all\n",
    "tp_all / (tp_all + fp_all) , tp_all / (tp_all + fn_all)"
   ]
  },
  {
   "cell_type": "code",
   "execution_count": null,
   "id": "d9fdde9e",
   "metadata": {},
   "outputs": [],
   "source": [
    "# part3\n",
    "fn_all = len(gt_df1) - tp_all\n",
    "tp_all / (tp_all + fp_all) , tp_all / (tp_all + fn_all)"
   ]
  },
  {
   "cell_type": "code",
   "execution_count": null,
   "id": "c83b3149",
   "metadata": {},
   "outputs": [],
   "source": [
    "# part4\n",
    "fn_all = len(gt_df1) - tp_all\n",
    "tp_all / (tp_all + fp_all) , tp_all / (tp_all + fn_all)"
   ]
  },
  {
   "cell_type": "code",
   "execution_count": null,
   "id": "d7b695b4",
   "metadata": {},
   "outputs": [],
   "source": [
    "# part5\n",
    "fn_all = len(gt_df1) - tp_all\n",
    "tp_all / (tp_all + fp_all) , tp_all / (tp_all + fn_all)"
   ]
  },
  {
   "cell_type": "code",
   "execution_count": null,
   "id": "1e885458",
   "metadata": {},
   "outputs": [],
   "source": []
  },
  {
   "cell_type": "code",
   "execution_count": null,
   "id": "65994887",
   "metadata": {},
   "outputs": [],
   "source": []
  },
  {
   "cell_type": "code",
   "execution_count": null,
   "id": "2f665e8a",
   "metadata": {},
   "outputs": [],
   "source": []
  },
  {
   "cell_type": "code",
   "execution_count": null,
   "id": "188fb66f",
   "metadata": {},
   "outputs": [],
   "source": [
    "fn_all = len(parts_bboxes_df) - tp_all"
   ]
  },
  {
   "cell_type": "code",
   "execution_count": null,
   "id": "fbfdb790",
   "metadata": {},
   "outputs": [],
   "source": [
    "tp_all / (tp_all + fp_all)"
   ]
  },
  {
   "cell_type": "code",
   "execution_count": null,
   "id": "d05bb666",
   "metadata": {},
   "outputs": [],
   "source": [
    "tp_all / (tp_all + fn_all)"
   ]
  },
  {
   "cell_type": "code",
   "execution_count": null,
   "id": "5f2651a6",
   "metadata": {},
   "outputs": [],
   "source": []
  },
  {
   "cell_type": "code",
   "execution_count": null,
   "id": "ae5a758a",
   "metadata": {},
   "outputs": [],
   "source": []
  },
  {
   "cell_type": "code",
   "execution_count": null,
   "id": "c1ffb654",
   "metadata": {},
   "outputs": [],
   "source": [
    "def eval_one_img(bbxes_pred, BBGT, ovthresh = 0.5):\n",
    "    # 按照置信度降序排序sorted_ind = np.argsort(-confidence)\n",
    "    # BB = BB[sorted_ind, :]   # 预测框坐标image_ids = [image_ids[x] for x in sorted_ind] # 各个预测框的对应图片id# 便利预测框，并统计TPs和FPsnd = len(image_ids)\n",
    "\n",
    "    # 获取每个类别的所有bboxes，包括gt和预测结果\n",
    "    # 对于每张图，\n",
    "    # 取检测的一个bbox bb\n",
    "    # bb 和该图gt bbox bxes_gt计算 iou，去最大的iou\n",
    "\n",
    "    ovmax = -np.inf\n",
    "    tp, fp = 0, 0\n",
    "    for bb in bbxes_pred:\n",
    "        if len(BBGT) <= 0: \n",
    "            continue\n",
    "        # 计算IoU\n",
    "        cls_pred = bb[-1]\n",
    "        BBGT_catg = BBGT[BBGT[:, -1]==cls_pred]\n",
    "        if len(BBGT_catg) <=0:\n",
    "            continue\n",
    "        overlaps = get_iou(BBGT_catg, bb)\n",
    "        ovmax = np.max(overlaps)   \n",
    "        jmax = np.argmax(overlaps)    # 取最大的IoU的bbox索引\n",
    "        if ovmax > ovthresh:  # 是否大于阈值\n",
    "            tp += 1\n",
    "#           删除已经匹配的检测框\n",
    "            BBGT = np.concatenate([BBGT[~(BBGT[:, -1]==cls_pred)], \n",
    "                                   np.delete(BBGT_catg, jmax, axis = 0)], \n",
    "                                  axis = 0)\n",
    "        else:\n",
    "            fp += 1.\n",
    "     \n",
    "    return tp, fp"
   ]
  },
  {
   "cell_type": "code",
   "execution_count": null,
   "id": "9b2ff9d3",
   "metadata": {},
   "outputs": [],
   "source": []
  },
  {
   "cell_type": "code",
   "execution_count": null,
   "id": "23dac872",
   "metadata": {},
   "outputs": [],
   "source": []
  },
  {
   "cell_type": "markdown",
   "id": "617719b1",
   "metadata": {},
   "source": [
    "### XML REWRITER"
   ]
  },
  {
   "cell_type": "code",
   "execution_count": 38,
   "id": "28ce4e35",
   "metadata": {},
   "outputs": [],
   "source": [
    "#!/user/bin/env python3\n",
    "# _*_ coding:utf-8 -*_\n",
    "# using: 将数据写成xml标签"
   ]
  },
  {
   "cell_type": "code",
   "execution_count": 45,
   "id": "973e3080",
   "metadata": {},
   "outputs": [],
   "source": [
    "from xml.dom.minidom import Document\n",
    "import os\n",
    "import cv2\n",
    "from pathlib import Path\n",
    "import glob\n",
    "from tqdm import tqdm"
   ]
  },
  {
   "cell_type": "markdown",
   "id": "50f9fb7f",
   "metadata": {},
   "source": [
    "#### df转xml"
   ]
  },
  {
   "cell_type": "code",
   "execution_count": 101,
   "id": "37505c96",
   "metadata": {},
   "outputs": [],
   "source": [
    "xml_write_df = bboxes_df\n",
    "xml_write_df['label_xml'] = xml_write_df['labelimg'].values\n",
    "bboxes_gp = xml_write_df.groupby('stem')\n",
    "dataset = 'deploy_manual_sep'\n",
    "xml_write_df['xml_tp'] = xml_write_df['xml_path'].apply(lambda p: Path(str(p).replace('/deploy_manual_sep/xml/', '/deploy_manual_sep/xml_rewrite/')))"
   ]
  },
  {
   "cell_type": "code",
   "execution_count": 105,
   "id": "967360a3",
   "metadata": {},
   "outputs": [
    {
     "data": {
      "text/plain": [
       "2238"
      ]
     },
     "execution_count": 105,
     "metadata": {},
     "output_type": "execute_result"
    }
   ],
   "source": [
    "len(bboxes_df)"
   ]
  },
  {
   "cell_type": "code",
   "execution_count": null,
   "id": "c32a6aea",
   "metadata": {},
   "outputs": [],
   "source": [
    "# class XMLWriter:\n",
    "#     def __init__(self, data):\n",
    "#         self.data = data\n",
    "    \n",
    "#     def write_xml_df(self):\n",
    "#         xml_write_df = bboxes_df\n",
    "#         label_name = 'labelimg'\n",
    "#         xml_write_df['label_xml'] = xml_write_df['labelimg'].values\n",
    "#         bboxes_gp = xml_write_df.groupby('stem')\n",
    "#     dataset = 'deploy_manual_sep'\n",
    "#     xml_write_df['xml_tp'] = xml_write_df['xml_path'].apply(lambda p: Path(str(p).replace('/deploy_manual_sep/xml/', '/deploy_manual_sep/xml_rewrite/')))"
   ]
  },
  {
   "cell_type": "code",
   "execution_count": 104,
   "id": "cf7a4b4d",
   "metadata": {},
   "outputs": [
    {
     "name": "stderr",
     "output_type": "stream",
     "text": [
      "100%|██████████| 2069/2069 [00:06<00:00, 296.38it/s]\n"
     ]
    }
   ],
   "source": [
    "for item in tqdm(bboxes_gp):\n",
    "    stem = item[0]\n",
    "    rows = item[1]\n",
    "    path, xml_tp, Pheight, Pwidth, Pdepth = rows.loc[:,['xml_path', 'xml_tp', 'width', 'height']].values[0, :].tolist() + [3]\n",
    "    path, xml_tp = Path(path), Path(xml_tp)\n",
    "    name_img = path.name\n",
    "    bboxes = rows.loc[:,['label_xml', 'bx1', 'bx2', 'bx3', 'bx4']].values\n",
    "    \n",
    "    xmlBuilder = Document()\n",
    "    annotation = xmlBuilder.createElement(\"annotation\")  # 创建annotation标签\n",
    "    xmlBuilder.appendChild(annotation)\n",
    "    flag = 0\n",
    "    for oneline in iter(bboxes):\n",
    "        flag += 1\n",
    "        folder = xmlBuilder.createElement(\"folder\")  # folder标签\n",
    "        folderContent = xmlBuilder.createTextNode(dataset)\n",
    "        folder.appendChild(folderContent)\n",
    "        annotation.appendChild(folder)\n",
    "        if flag == 1:\n",
    "            filename = xmlBuilder.createElement(\"filename\")  # filename标签\n",
    "            filenameContent = xmlBuilder.createTextNode(name[0:-4]+\".jpg\")\n",
    "            filename.appendChild(filenameContent)\n",
    "            annotation.appendChild(filename)\n",
    "\n",
    "            size = xmlBuilder.createElement(\"size\")  # size标签\n",
    "            width = xmlBuilder.createElement(\"width\")  # size子标签width\n",
    "            widthContent = xmlBuilder.createTextNode(str(Pwidth))\n",
    "            width.appendChild(widthContent)\n",
    "            size.appendChild(width)\n",
    "            height = xmlBuilder.createElement(\"height\")  # size子标签height\n",
    "            heightContent = xmlBuilder.createTextNode(str(Pheight))\n",
    "            height.appendChild(heightContent)\n",
    "            size.appendChild(height)\n",
    "            depth = xmlBuilder.createElement(\"depth\")  # size子标签depth\n",
    "            depthContent = xmlBuilder.createTextNode(str(Pdepth))\n",
    "            depth.appendChild(depthContent)\n",
    "            size.appendChild(depth)\n",
    "            annotation.appendChild(size)\n",
    "\n",
    "        object = xmlBuilder.createElement(\"object\")\n",
    "        picname = xmlBuilder.createElement(\"name\")\n",
    "        nameContent = xmlBuilder.createTextNode(oneline[0])\n",
    "        picname.appendChild(nameContent)\n",
    "        object.appendChild(picname)\n",
    "        pose = xmlBuilder.createElement(\"pose\")\n",
    "        poseContent = xmlBuilder.createTextNode(\"Unspecified\")\n",
    "        pose.appendChild(poseContent)\n",
    "        object.appendChild(pose)\n",
    "        truncated = xmlBuilder.createElement(\"truncated\")\n",
    "        truncatedContent = xmlBuilder.createTextNode(\"0\")\n",
    "        truncated.appendChild(truncatedContent)\n",
    "        object.appendChild(truncated)\n",
    "        difficult = xmlBuilder.createElement(\"difficult\")\n",
    "        difficultContent = xmlBuilder.createTextNode(\"0\")\n",
    "        difficult.appendChild(difficultContent)\n",
    "        object.appendChild(difficult)\n",
    "        bndbox = xmlBuilder.createElement(\"bndbox\")\n",
    "        xmin = xmlBuilder.createElement(\"xmin\")\n",
    "        mathData=int(oneline[1])\n",
    "        xminContent = xmlBuilder.createTextNode(str(mathData))\n",
    "        xmin.appendChild(xminContent)\n",
    "        bndbox.appendChild(xmin)\n",
    "        ymin = xmlBuilder.createElement(\"ymin\")\n",
    "        mathData = int(oneline[2])\n",
    "        yminContent = xmlBuilder.createTextNode(str(mathData))\n",
    "        ymin.appendChild(yminContent)\n",
    "        bndbox.appendChild(ymin)\n",
    "        xmax = xmlBuilder.createElement(\"xmax\")\n",
    "        mathData = int(oneline[3])\n",
    "        xmaxContent = xmlBuilder.createTextNode(str(mathData))\n",
    "        xmax.appendChild(xmaxContent)\n",
    "        bndbox.appendChild(xmax)\n",
    "        ymax = xmlBuilder.createElement(\"ymax\")\n",
    "        mathData = int(oneline[4])\n",
    "        ymaxContent = xmlBuilder.createTextNode(str(mathData))\n",
    "        ymax.appendChild(ymaxContent)\n",
    "        bndbox.appendChild(ymax)\n",
    "        object.appendChild(bndbox)\n",
    "\n",
    "        annotation.appendChild(object)\n",
    "    \n",
    "    if xml_tp.is_file(): continue\n",
    "    if not xml_tp.parent.is_dir(): xml_tp.parent.mkdir(parents=True)\n",
    "    f = open(xml_tp, 'w')\n",
    "    xmlBuilder.writexml(f, indent='\\t', newl='\\n', addindent='\\t', encoding='utf-8')\n",
    "    f.close()\n",
    "#     break"
   ]
  },
  {
   "cell_type": "code",
   "execution_count": null,
   "id": "a11dceef",
   "metadata": {},
   "outputs": [],
   "source": [
    "#!/user/bin/env python3\n",
    "# _*_ coding:utf-8 -*_\n",
    "# using: 将yolo txt label 转换成xml标签"
   ]
  },
  {
   "cell_type": "code",
   "execution_count": null,
   "id": "094049d5",
   "metadata": {},
   "outputs": [],
   "source": []
  }
 ],
 "metadata": {
  "kernelspec": {
   "display_name": "Python 3 (ipykernel)",
   "language": "python",
   "name": "python3"
  },
  "language_info": {
   "codemirror_mode": {
    "name": "ipython",
    "version": 3
   },
   "file_extension": ".py",
   "mimetype": "text/x-python",
   "name": "python",
   "nbconvert_exporter": "python",
   "pygments_lexer": "ipython3",
   "version": "3.8.13"
  },
  "toc-showtags": false
 },
 "nbformat": 4,
 "nbformat_minor": 5
}
