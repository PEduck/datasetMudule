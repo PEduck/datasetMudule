{
 "cells": [
  {
   "cell_type": "code",
   "execution_count": 1,
   "id": "f5c5e853-6fb8-4dbf-9ebc-e5f9b6573d8d",
   "metadata": {},
   "outputs": [],
   "source": [
    "import glob\n",
    "from pathlib import Path\n",
    "from tqdm import tqdm\n",
    "import pandas as pd\n",
    "import os,sys"
   ]
  },
  {
   "cell_type": "code",
   "execution_count": 2,
   "id": "bf6b8659-8f68-411d-a477-04adbcaf2849",
   "metadata": {},
   "outputs": [],
   "source": [
    "import cv2\n",
    "from PIL import Image"
   ]
  },
  {
   "cell_type": "code",
   "execution_count": null,
   "id": "2b9bdabb-d088-478e-97ba-6162c32dedef",
   "metadata": {},
   "outputs": [],
   "source": []
  },
  {
   "cell_type": "code",
   "execution_count": null,
   "id": "a5dff773-0280-4e1b-94f8-fa1e7d5bab86",
   "metadata": {},
   "outputs": [],
   "source": []
  },
  {
   "cell_type": "code",
   "execution_count": 3,
   "id": "beffe92d-8db2-42f3-b6fa-5d9c7c5a5704",
   "metadata": {},
   "outputs": [],
   "source": [
    "def bbox_voc2yolo(bx, w, h):\n",
    "    x1 = bx[0]\n",
    "    y1 = bx[1]\n",
    "    x2 = bx[2]\n",
    "    y2 = bx[3]\n",
    "    w_bbox = x2 - x1\n",
    "    h_bbox = y2 - y1\n",
    "    x_c = x1 + w_bbox/2\n",
    "    y_c = y1 + h_bbox/2\n",
    "    bbox = [x_c/w, y_c/h, w_bbox/w, h_bbox/h]\n",
    "    return bbox\n",
    "\n",
    "def bbox_yolo2voc(bx, w, h):\n",
    "    x_c = float(bx[0])*w\n",
    "    y_c = float(bx[1])*h\n",
    "    wbbox = float(bx[2])*w\n",
    "    hbbox = float(bx[3])*h\n",
    "    x1 = int(x_c - wbbox/2)\n",
    "    y1 = int(y_c - hbbox/2)\n",
    "    x2 = int(x_c + wbbox/2)\n",
    "    y2 = int(y_c + hbbox/2)\n",
    "    bbox = [x1, y1, x2, y2]\n",
    "    return bbox\n",
    "\n",
    "def bbox_coco2voc(bbox):\n",
    "    # bbox[0] = bbox[0] - bbox[2]/2\n",
    "    # bbox[1] = bbox[1] - bbox[3]/2\n",
    "    bbox[2] = bbox[0] + bbox[2]\n",
    "    bbox[3] = bbox[1] + bbox[3]\n",
    "    return bbox"
   ]
  },
  {
   "cell_type": "code",
   "execution_count": null,
   "id": "f0d280d2-818d-4cfd-855f-f0b634dcbcff",
   "metadata": {},
   "outputs": [],
   "source": []
  },
  {
   "cell_type": "code",
   "execution_count": 4,
   "id": "2230d432-0d0d-49b9-a242-80f7eb22c792",
   "metadata": {},
   "outputs": [],
   "source": [
    "def draw_bbox(img_np, box_coco):\n",
    "    id_ = box_coco[0]\n",
    "    if not isinstance(id_, str):\n",
    "        id_ = int(id_)\n",
    "    x1 = int(box_coco[1])\n",
    "    y1 = int(box_coco[2])\n",
    "    x2 = int(box_coco[3])\n",
    "    y2 = int(box_coco[4])\n",
    "    font = cv2.FONT_HERSHEY_SIMPLEX\n",
    "    cv2.rectangle(img_np,(x1, y1),(x2, y2),(0,0,255),thickness=2)\n",
    "    f = cv2.putText(img_np, text=str(id_), org=(x1 + 5, y1 + 5), fontFace=font, fontScale=0.7, \n",
    "        thickness=2, lineType=cv2.LINE_AA, color=(0, 255, 0))\n",
    "    return img_np"
   ]
  },
  {
   "cell_type": "code",
   "execution_count": null,
   "id": "28c71151-19b7-4540-9ed9-7794f2778e9e",
   "metadata": {},
   "outputs": [],
   "source": []
  },
  {
   "cell_type": "code",
   "execution_count": 5,
   "id": "38f05aba-3b53-4204-9666-3547695475bc",
   "metadata": {},
   "outputs": [],
   "source": [
    "def read_bboxes(txtp):\n",
    "    with open(txtp, 'r') as f:\n",
    "        txt = f.readlines()\n",
    "    return txt\n",
    "\n",
    "def get_bboxes_text(txtp):\n",
    "    import re\n",
    "    tx_str = read_bboxes(txtp)\n",
    "    bboxes = []\n",
    "    for line in tx_str:\n",
    "        line_list = re.split(r'[\\s\\n\\t]',line)\n",
    "        bx = []\n",
    "        bx.append(int(line_list[0]))\n",
    "        for item in line_list[1:]:\n",
    "            if len(item.strip())>0:\n",
    "                bx.append(float(item))\n",
    "        bboxes.append(bx)\n",
    "    return bboxes"
   ]
  },
  {
   "cell_type": "code",
   "execution_count": null,
   "id": "e83cb82d-835d-4538-a868-5a137ce1402e",
   "metadata": {},
   "outputs": [],
   "source": []
  },
  {
   "cell_type": "code",
   "execution_count": 6,
   "id": "1b77c420-88ef-4c9c-98bf-9f91ed773dfe",
   "metadata": {},
   "outputs": [],
   "source": [
    "def copy_data(plist, mode='copy'):\n",
    "    ps = plist[0]\n",
    "    pt = plist[1]\n",
    "    shutil.copyfile(ps, pt)\n",
    "    \n",
    "def write_txt(input_list):\n",
    "    label_path, text = input_list[0], input_list[1]\n",
    "    with open(label_path, 'a+') as f:\n",
    "        f.write(text)"
   ]
  },
  {
   "cell_type": "code",
   "execution_count": null,
   "id": "a10db42b-825c-4f24-bece-92ac530ab683",
   "metadata": {},
   "outputs": [],
   "source": []
  },
  {
   "cell_type": "code",
   "execution_count": 7,
   "id": "dc2e138d-0c76-4ac7-b8fb-c108d52aa015",
   "metadata": {},
   "outputs": [],
   "source": [
    "# label_1_map = {'其他': -1, '腰带': 0, '帽子': 1, '鞋子': 2, '包': 3, '上装': 4, '裤子': 5, '裙子': 6, '连体装': 7}\n",
    "label_1_map = {'其他': -1, '腰带': 0, '帽子': 1, '鞋子': 2, '包': 3, '上装': 4, '裤子': 5, '裙子': 6, '连体装': 7}"
   ]
  },
  {
   "cell_type": "code",
   "execution_count": 269,
   "id": "a4a21add-ae57-4a82-aba3-c54c5323b7d6",
   "metadata": {},
   "outputs": [],
   "source": [
    "l2_map_l1 = {23: 2,\n",
    " 24: 2, 25: 2,\n",
    " 26: 2,\n",
    " 27: 2,\n",
    " 28: 2,\n",
    " 29: 2,\n",
    " 30: 2,\n",
    " 31: 2,\n",
    " 32: 2,\n",
    " 33: 2,\n",
    " 34: 2,\n",
    " 35: 3,\n",
    " 43: 2,\n",
    " 0: 4,\n",
    " 1: 4,\n",
    " 2: 4,\n",
    " 3: 4,\n",
    " 4: 4,\n",
    " 5: 4,\n",
    " 6: 4,\n",
    " 7: 4,\n",
    " 8: 4,\n",
    " 9: 4,\n",
    " 10: 4,\n",
    " 11: 4,\n",
    " 12: 4,\n",
    " 13: 4,\n",
    " 14: 4,\n",
    " 15: 6,\n",
    " 16: 5,\n",
    " 17: 5,\n",
    " 18: 5,\n",
    " 19: 5,\n",
    " 20: 5,\n",
    " 21: 7,\n",
    " 22: 7,\n",
    " 36: 4,\n",
    " 37: 4,\n",
    " 38: 4,\n",
    " 39: 4,\n",
    " 40: 4,\n",
    " 41: 4,\n",
    " 42: 4,\n",
    "43: 2}"
   ]
  },
  {
   "cell_type": "code",
   "execution_count": 2,
   "id": "ff36f698-ac48-46ea-894b-315a01af56ed",
   "metadata": {},
   "outputs": [],
   "source": [
    "import glob"
   ]
  },
  {
   "cell_type": "code",
   "execution_count": 11,
   "id": "969fcd1f-efd5-4e0e-af73-01854c53ed54",
   "metadata": {},
   "outputs": [],
   "source": [
    "img = glob.glob('/home/chenyi/workspace/dataset/gallery_detect/clothes/gallery_crop0/crops/*/*.jpg')"
   ]
  },
  {
   "cell_type": "code",
   "execution_count": 12,
   "id": "fe2c6309-5c24-46a1-ac0b-2f12ff0a92f1",
   "metadata": {},
   "outputs": [
    {
     "data": {
      "text/plain": [
       "45416"
      ]
     },
     "execution_count": 12,
     "metadata": {},
     "output_type": "execute_result"
    }
   ],
   "source": [
    "len(img)"
   ]
  },
  {
   "cell_type": "code",
   "execution_count": 8,
   "id": "d11731a1-e56a-469c-9cdb-b479956bdbc0",
   "metadata": {},
   "outputs": [],
   "source": [
    "label_2_map = {\n",
    "    '其他': -1,\n",
    "    \n",
    "    # 上装\n",
    "    '小西装': 0, '毛衣/绒衣/针织衫': 1, '女衫类': 2, '皮衣': 3, '夹克/外套': 4, '风衣': 5, '马甲/背心': 6, '吊带': 7, '牛仔': 8, '羽绒服': 9, '大衣': 10, '皮草': 11, '卫衣': 12, '棉衣/羊羔绒': 13, '斗篷': 14,\n",
    "    \n",
    "    # 裙子\n",
    "    '裙子': 15,\n",
    "    \n",
    "    # 裤子\n",
    "    '西装裤': 16, '牛仔裤': 17, '休闲裤': 18, '打底裤': 19, '运动裤': 20,\n",
    "    \n",
    "    # 连体装\n",
    "    '连衣裙': 21, '连衣裤': 22,\n",
    "    # 包\n",
    "    '包': 23,\n",
    "    \n",
    "    # 鞋子\n",
    "    '正装女鞋': 24, '休闲鞋': 25,\n",
    "}"
   ]
  },
  {
   "cell_type": "code",
   "execution_count": null,
   "id": "0c58ffef-b1b4-4296-adae-647656b8d062",
   "metadata": {},
   "outputs": [],
   "source": []
  },
  {
   "cell_type": "code",
   "execution_count": 653,
   "id": "bdd477ef-a05f-46c0-9680-7faa03e56295",
   "metadata": {},
   "outputs": [],
   "source": [
    "names = {0: ['小西装', 'Suit_xizhuang'],  \n",
    " 1: ['毛衣/绒衣/针织衫', 'Sweater/knit'],   \n",
    " 2: ['女衫类', 'Blouses'],   \n",
    " 3: ['皮衣外套', 'Leather coat'],   \n",
    " 4: ['夹克外套', 'Jacket/coat '],    \n",
    " 5: ['风衣', 'dust coat'],    \n",
    " 6: ['背心', 'vest'],    \n",
    " 7: ['吊带', 'harness'],    \n",
    " 8: ['牛仔外套', 'Denim jacket'],    \n",
    " 9: ['羽绒服', 'Down jacket'],    \n",
    " 10: ['大衣', 'coat'],   \n",
    " 11: ['皮草', 'fur'],    \n",
    " 12: ['卫衣', 'fleece'],     \n",
    " 13: ['棉衣/羊羔绒', 'Padded coat'],    \n",
    " 14: ['斗篷', 'cloak'],    \n",
    " 15: ['半身裙', 'skirt'],\n",
    " 16: ['西装裤', 'Suit pants'],    \n",
    " 17: ['牛仔裤', 'Jeans'],     \n",
    " 18: ['休闲裤', 'Slacks'],      \n",
    " 19: ['打底裤', 'Leggings'],    \n",
    " 20: ['运动裤', 'Sweatpants'],\n",
    "21: ['连衣裙', 'Dress'],     \n",
    " 22: ['连衣裤', 'Jumpsuit'],    \n",
    " 23: ['正装女鞋', 'Suits shoes'],   \n",
    " 24: ['帆布鞋', 'Canvas shoes'],     \n",
    " 25: ['松糕鞋', 'Platform shoes'],    \n",
    " 26: ['洞洞鞋', 'Hole shoes'],     \n",
    " 27: ['懒人鞋', 'Lazy shoes'],     \n",
    " 28: ['板鞋', 'board shoes'],    \n",
    " 29: ['拖鞋', 'slippers'],     \n",
    " 30: ['凉鞋', 'sandals'],    \n",
    " 31: ['运动鞋', 'Sports shoes'],    \n",
    " 32: ['雪地靴', 'Ugg boots'],   \n",
    " 33: ['豆豆鞋', 'Doug shoes'],    \n",
    " 34: ['网鞋', 'Net shoes'],      \n",
    "35: ['包', 'bag'],   \n",
    "36:['衬衫', 'shirt'],  \n",
    "37:['T恤', 'T-shirt'],\n",
    "38:['POLO衫','POLO shirt'],\n",
    "39:['马甲', 'Vest'] ,\n",
    "40:['棒球服', 'Baseball uniform'], \n",
    "41:['抹胸', 'Bandeau'],\n",
    "42:['皮裤','Leather pants'],\n",
    "43:['休闲鞋','Leisure shoes'],\n",
    "44:['帽子','Hat'],}"
   ]
  },
  {
   "cell_type": "code",
   "execution_count": null,
   "id": "1f141f02-c331-40b8-9c48-c3f857fe102f",
   "metadata": {},
   "outputs": [],
   "source": []
  },
  {
   "cell_type": "code",
   "execution_count": 654,
   "id": "d8e530f5-ec5e-47c9-86fe-10903c476f97",
   "metadata": {},
   "outputs": [],
   "source": [
    "eng2chi = {}\n",
    "for k,v in names.items():\n",
    "    eng2chi[v[1]] = v[0]\n",
    "    # print(v)\n",
    "    # break\n",
    "\n",
    "eng2num = {}\n",
    "for k,v in names.items():\n",
    "    eng2num[v[1]] = k\n",
    "    # break"
   ]
  },
  {
   "cell_type": "code",
   "execution_count": null,
   "id": "ab72f59d-6e7e-429e-b189-b226f99659b3",
   "metadata": {},
   "outputs": [],
   "source": []
  },
  {
   "cell_type": "markdown",
   "id": "599cc59c-f28e-49df-a68a-c198543931fc",
   "metadata": {
    "jp-MarkdownHeadingCollapsed": true,
    "tags": []
   },
   "source": [
    "### 转yolo"
   ]
  },
  {
   "cell_type": "code",
   "execution_count": 11,
   "id": "e46338c5-2251-4608-9e1b-ecb80dafdfa7",
   "metadata": {},
   "outputs": [],
   "source": [
    "def get_yolo_bbox(row):\n",
    "    w,h = row['width'], row['height']\n",
    "    bbox = row.loc[[ 'xmin','ymin', 'xmax', 'ymax']].values\n",
    "    bbox = bbox_voc2yolo(bbox, w, h)\n",
    "    bboxes_list.append(bbox)"
   ]
  },
  {
   "cell_type": "code",
   "execution_count": null,
   "id": "606ae22d-c527-4c93-850f-a897c2cd6b21",
   "metadata": {},
   "outputs": [],
   "source": []
  },
  {
   "cell_type": "code",
   "execution_count": 12,
   "id": "6d216652-4068-400e-9d34-991476a9c664",
   "metadata": {},
   "outputs": [],
   "source": [
    "# %%time\n",
    "# df = hw_df\n",
    "# bboxes_list = []\n",
    "# _ = df.apply(lambda row: get_yolo_bbox(row), axis=1)"
   ]
  },
  {
   "cell_type": "code",
   "execution_count": 13,
   "id": "becd8a16-2c82-4eb5-8c15-b3379db17c87",
   "metadata": {},
   "outputs": [],
   "source": [
    "# col_name = 'xmin'\n",
    "# ind = 0\n",
    "# df[col_name] = [x[ind] for x in bboxes_list]"
   ]
  },
  {
   "cell_type": "code",
   "execution_count": null,
   "id": "841615b2-e18c-47ee-9547-b99611ef4363",
   "metadata": {},
   "outputs": [],
   "source": []
  },
  {
   "cell_type": "code",
   "execution_count": null,
   "id": "926e5c2d-eefc-4b09-ae9f-5b0588fa86eb",
   "metadata": {},
   "outputs": [],
   "source": []
  },
  {
   "cell_type": "code",
   "execution_count": null,
   "id": "9a3ad229-03a9-4b10-8c24-17260b66682f",
   "metadata": {
    "tags": []
   },
   "outputs": [],
   "source": [
    "!ls /nas/chenyi/datasets_nas/openfashion"
   ]
  },
  {
   "cell_type": "code",
   "execution_count": null,
   "id": "09da21db-3729-4ca9-a9a0-68e0315bdae7",
   "metadata": {},
   "outputs": [],
   "source": []
  },
  {
   "cell_type": "code",
   "execution_count": null,
   "id": "2d91075a-9b1d-4794-b408-a55f5b56e272",
   "metadata": {},
   "outputs": [],
   "source": [
    "dp23 = pd.read_csv('/nas/chenyi/datasets_nas/openfashion/deepedia2/deepedia_catg23_yolo.csv')"
   ]
  },
  {
   "cell_type": "code",
   "execution_count": null,
   "id": "2799ef40-1db4-4903-80f9-0ef694fa0787",
   "metadata": {},
   "outputs": [],
   "source": [
    "dp23.head()"
   ]
  },
  {
   "cell_type": "code",
   "execution_count": null,
   "id": "868842f8-c274-47d6-b93f-ecc0fdccb4ae",
   "metadata": {},
   "outputs": [],
   "source": [
    "dp23.describe()"
   ]
  },
  {
   "cell_type": "code",
   "execution_count": null,
   "id": "cf1b325e-3a09-42af-b687-59a91efeca28",
   "metadata": {},
   "outputs": [],
   "source": [
    "dp23.value_counts('source')"
   ]
  },
  {
   "cell_type": "code",
   "execution_count": null,
   "id": "a9b20cfc-9373-43a0-aea9-1cd2c57d08f1",
   "metadata": {},
   "outputs": [],
   "source": [
    "dp23[dp23['source']==dp23.value_counts('source').axes[0][0]].describe()"
   ]
  },
  {
   "cell_type": "code",
   "execution_count": null,
   "id": "5fc7a43a-fc62-4c0e-9c46-6907bc714075",
   "metadata": {},
   "outputs": [],
   "source": []
  },
  {
   "cell_type": "code",
   "execution_count": null,
   "id": "11c83245-f1aa-4e51-8390-170102fd576b",
   "metadata": {},
   "outputs": [],
   "source": [
    "opf = pd.read_csv('/nas/chenyi/datasets_nas/openfashion/openfashion45_coco.csv')"
   ]
  },
  {
   "cell_type": "code",
   "execution_count": null,
   "id": "bb72c03e-e391-4323-8b39-31e208d92251",
   "metadata": {},
   "outputs": [],
   "source": [
    "# /nas/chenyi/datasets_nas/openfashion/openfashion_info.csv"
   ]
  },
  {
   "cell_type": "code",
   "execution_count": null,
   "id": "10b54f8c-8230-44f1-abcd-9d2686d4c8f1",
   "metadata": {},
   "outputs": [],
   "source": [
    "opf.head()"
   ]
  },
  {
   "cell_type": "code",
   "execution_count": null,
   "id": "1068c8f7-faf5-4f9e-92f4-2dbde73c58a5",
   "metadata": {},
   "outputs": [],
   "source": []
  },
  {
   "cell_type": "code",
   "execution_count": null,
   "id": "9397782e-8ebc-4820-860d-49ed8eac4ad2",
   "metadata": {},
   "outputs": [],
   "source": [
    "len(opf)"
   ]
  },
  {
   "cell_type": "code",
   "execution_count": null,
   "id": "f191d193-0465-4eb2-978b-c44abf108bc5",
   "metadata": {},
   "outputs": [],
   "source": [
    "opf.value_counts('source')"
   ]
  },
  {
   "cell_type": "code",
   "execution_count": null,
   "id": "70edeb5f-b999-4e97-8cf9-eff8caae928e",
   "metadata": {},
   "outputs": [],
   "source": [
    "opf.value_counts('source').axes[0][0]"
   ]
  },
  {
   "cell_type": "code",
   "execution_count": null,
   "id": "04ae7826-76ac-466b-a92e-151fcbb4a4cf",
   "metadata": {},
   "outputs": [],
   "source": [
    "opf.describe()"
   ]
  },
  {
   "cell_type": "code",
   "execution_count": null,
   "id": "430eed13-65c9-4f3c-a9c2-ee1ed6dd919f",
   "metadata": {},
   "outputs": [],
   "source": [
    "opf[opf['source']==opf.value_counts('source').axes[0][0]].describe()"
   ]
  },
  {
   "cell_type": "code",
   "execution_count": null,
   "id": "8f40566c-02a3-4196-ad9d-7dfccf63c9ad",
   "metadata": {},
   "outputs": [],
   "source": [
    "opf[opf['source']==opf.value_counts('source').axes[0][1]].describe()"
   ]
  },
  {
   "cell_type": "code",
   "execution_count": null,
   "id": "527de835-6ebd-4539-b3a7-b0d6456ec143",
   "metadata": {},
   "outputs": [],
   "source": [
    "opf[opf['source']==opf.value_counts('source').axes[0][2]].describe()"
   ]
  },
  {
   "cell_type": "code",
   "execution_count": null,
   "id": "c4926a4c-1f20-44d7-ba81-bcdc7b3f06f8",
   "metadata": {},
   "outputs": [],
   "source": [
    "fp_df = opf[opf['source']==opf.value_counts('source').axes[0][2]]"
   ]
  },
  {
   "cell_type": "code",
   "execution_count": null,
   "id": "15f88e1c-53e0-428d-a78b-25303fef93d4",
   "metadata": {},
   "outputs": [],
   "source": []
  },
  {
   "cell_type": "code",
   "execution_count": null,
   "id": "f531e3cf-d192-4dfe-b309-a809cf60669b",
   "metadata": {},
   "outputs": [],
   "source": [
    "opf.columns"
   ]
  },
  {
   "cell_type": "code",
   "execution_count": null,
   "id": "84d1722c-635d-44c9-9fa6-fba4ee350a15",
   "metadata": {},
   "outputs": [],
   "source": [
    "dp23.loc[dp23[dp23['source']==dp23.value_counts('source').axes[0][1]].index, ['x_1', 'y_1', 'x_2', 'y_2', 'path']].head(2).values"
   ]
  },
  {
   "cell_type": "code",
   "execution_count": null,
   "id": "c4969a43-8edc-4d79-9488-2174dd1a55d4",
   "metadata": {},
   "outputs": [],
   "source": [
    "opf.loc[opf[opf['source']==opf.value_counts('source').axes[0][2]].index, ['xmin', 'ymin', 'xmax', 'ymax', 'path']].head(2).values"
   ]
  },
  {
   "cell_type": "code",
   "execution_count": null,
   "id": "58354847-ffd4-4fe0-9127-6e0ba00d6112",
   "metadata": {},
   "outputs": [],
   "source": [
    "# opf.loc[opf[opf['source']==opf.value_counts('source').axes[0][2]].index, ['xmin', 'ymin', 'xmax', 'ymax', 'path']] = dp23.loc[dp23[dp23['source']==dp23.value_counts('source').axes[0][1]].index, ['x_1', 'y_1', 'x_2', 'y_2', 'path']].values"
   ]
  },
  {
   "cell_type": "code",
   "execution_count": null,
   "id": "69af1ca8-98a4-41a0-b1fd-68e668b1900b",
   "metadata": {},
   "outputs": [],
   "source": []
  },
  {
   "cell_type": "code",
   "execution_count": null,
   "id": "b5684a1c-9dda-465f-b051-555c75b88880",
   "metadata": {},
   "outputs": [],
   "source": [
    "opf = pd.read_csv('/nas/chenyi/datasets_nas/openfashion/allfashion/openfashion45_data_clear.csv')"
   ]
  },
  {
   "cell_type": "code",
   "execution_count": null,
   "id": "760b2295-4385-4b78-8a49-8295bee615a6",
   "metadata": {},
   "outputs": [],
   "source": [
    "# opf.loc[opf[opf['source']==opf.value_counts('source').axes[0][2]].index, ['xmin']] = \\\n",
    "#             opf.loc[opf[opf['source']==opf.value_counts('source').axes[0][2]].index, ['xmin']].values* opf.loc[opf[opf['source']==opf.value_counts('source').axes[0][2]].index, ['width']].values"
   ]
  },
  {
   "cell_type": "code",
   "execution_count": null,
   "id": "b45fe798-7d4e-4851-87da-ab471cbfe60d",
   "metadata": {},
   "outputs": [],
   "source": [
    "opf.loc[:, ['ymin']] = \\\n",
    "            opf.loc[:, ['ymin']].values/ opf.loc[:, ['height']].values"
   ]
  },
  {
   "cell_type": "code",
   "execution_count": null,
   "id": "896a94c0-4745-4e4d-9f70-29bdc2e75ea1",
   "metadata": {},
   "outputs": [],
   "source": [
    "opf[opf['source']==opf.value_counts('source').axes[0][2]].head(2)"
   ]
  },
  {
   "cell_type": "code",
   "execution_count": null,
   "id": "77318ea1-0927-41fb-9956-9bff4f3b8c74",
   "metadata": {},
   "outputs": [],
   "source": [
    "opf.describe()"
   ]
  },
  {
   "cell_type": "code",
   "execution_count": null,
   "id": "b4f35f8b-0204-4ab9-9993-41a6306ca17b",
   "metadata": {},
   "outputs": [],
   "source": [
    "# opf.to_csv('/nas/chenyi/datasets_nas/openfashion/allfashion/openfashion45_data_clear.csv', index=False)"
   ]
  },
  {
   "cell_type": "code",
   "execution_count": null,
   "id": "cfa404a4-ee84-4623-bc57-7fd68107ac89",
   "metadata": {},
   "outputs": [],
   "source": []
  },
  {
   "cell_type": "markdown",
   "id": "c796002d-4b3d-4183-b7d1-83986166093b",
   "metadata": {
    "jp-MarkdownHeadingCollapsed": true,
    "tags": []
   },
   "source": [
    "### 数据分析"
   ]
  },
  {
   "cell_type": "code",
   "execution_count": 10,
   "id": "4b8cea9d-43d0-4dd1-a4f2-e1f810b239a5",
   "metadata": {},
   "outputs": [
    {
     "name": "stdout",
     "output_type": "stream",
     "text": [
      "del_df_temp0511.csv  openfashion31_clr_temp.csv  openfashion45_bbox_yolo.csv\n",
      "del_df_temp.csv      openfashion43_clear.csv\t openfashion45_data_clear.csv\n"
     ]
    }
   ],
   "source": [
    "!ls /nas/chenyi/datasets_nas/openfashion/allfashion/"
   ]
  },
  {
   "cell_type": "code",
   "execution_count": 286,
   "id": "bf7735aa-a308-43ce-baa1-f485a219759c",
   "metadata": {},
   "outputs": [
    {
     "name": "stderr",
     "output_type": "stream",
     "text": [
      "/tmp/ipykernel_2871/1613460321.py:1: DtypeWarning: Columns (3,12,13) have mixed types. Specify dtype option on import or set low_memory=False.\n",
      "  ofashion43 = pd.read_csv('/nas/chenyi/datasets_nas/openfashion/allfashion/openfashion45_data_clear.csv')\n"
     ]
    }
   ],
   "source": [
    "ofashion43 = pd.read_csv('/nas/chenyi/datasets_nas/openfashion/allfashion/openfashion45_data_clear.csv')"
   ]
  },
  {
   "cell_type": "code",
   "execution_count": 287,
   "id": "57747e10-6fb4-4875-9dc2-c1fdd6619140",
   "metadata": {},
   "outputs": [],
   "source": [
    "# ofashion43_clr.to_csv('/nas/chenyi/datasets_nas/openfashion/openfashion43_clr.csv', index=False)"
   ]
  },
  {
   "cell_type": "code",
   "execution_count": 288,
   "id": "0c8a24ad-779d-4824-a3dd-8ee01cf76c2d",
   "metadata": {},
   "outputs": [
    {
     "data": {
      "text/html": [
       "<div>\n",
       "<style scoped>\n",
       "    .dataframe tbody tr th:only-of-type {\n",
       "        vertical-align: middle;\n",
       "    }\n",
       "\n",
       "    .dataframe tbody tr th {\n",
       "        vertical-align: top;\n",
       "    }\n",
       "\n",
       "    .dataframe thead th {\n",
       "        text-align: right;\n",
       "    }\n",
       "</style>\n",
       "<table border=\"1\" class=\"dataframe\">\n",
       "  <thead>\n",
       "    <tr style=\"text-align: right;\">\n",
       "      <th></th>\n",
       "      <th>source</th>\n",
       "      <th>path</th>\n",
       "      <th>label2_eng</th>\n",
       "      <th>label1_chi</th>\n",
       "      <th>label43</th>\n",
       "      <th>label2_chi</th>\n",
       "      <th>xmin</th>\n",
       "      <th>ymin</th>\n",
       "      <th>xmax</th>\n",
       "      <th>ymax</th>\n",
       "      <th>height</th>\n",
       "      <th>width</th>\n",
       "      <th>fname</th>\n",
       "      <th>mode</th>\n",
       "      <th>len</th>\n",
       "    </tr>\n",
       "  </thead>\n",
       "  <tbody>\n",
       "    <tr>\n",
       "      <th>330520</th>\n",
       "      <td>haowei34k</td>\n",
       "      <td>/home/chenyi/workspace/dataset/data/haowei34k/...</td>\n",
       "      <td>Suits shoes</td>\n",
       "      <td>NaN</td>\n",
       "      <td>23</td>\n",
       "      <td>正装女鞋</td>\n",
       "      <td>0.515455</td>\n",
       "      <td>0.854048</td>\n",
       "      <td>37.0</td>\n",
       "      <td>98.0</td>\n",
       "      <td>877</td>\n",
       "      <td>550</td>\n",
       "      <td>20150327124301904</td>\n",
       "      <td>train</td>\n",
       "      <td>4</td>\n",
       "    </tr>\n",
       "    <tr>\n",
       "      <th>330521</th>\n",
       "      <td>haowei34k</td>\n",
       "      <td>/home/chenyi/workspace/dataset/data/haowei34k/...</td>\n",
       "      <td>Suits shoes</td>\n",
       "      <td>NaN</td>\n",
       "      <td>23</td>\n",
       "      <td>正装女鞋</td>\n",
       "      <td>0.680000</td>\n",
       "      <td>0.932155</td>\n",
       "      <td>40.0</td>\n",
       "      <td>111.0</td>\n",
       "      <td>877</td>\n",
       "      <td>550</td>\n",
       "      <td>20150327124301904</td>\n",
       "      <td>train</td>\n",
       "      <td>4</td>\n",
       "    </tr>\n",
       "  </tbody>\n",
       "</table>\n",
       "</div>"
      ],
      "text/plain": [
       "           source                                               path  \\\n",
       "330520  haowei34k  /home/chenyi/workspace/dataset/data/haowei34k/...   \n",
       "330521  haowei34k  /home/chenyi/workspace/dataset/data/haowei34k/...   \n",
       "\n",
       "         label2_eng label1_chi  label43 label2_chi      xmin      ymin  xmax  \\\n",
       "330520  Suits shoes        NaN       23       正装女鞋  0.515455  0.854048  37.0   \n",
       "330521  Suits shoes        NaN       23       正装女鞋  0.680000  0.932155  40.0   \n",
       "\n",
       "         ymax  height  width              fname   mode  len  \n",
       "330520   98.0     877    550  20150327124301904  train    4  \n",
       "330521  111.0     877    550  20150327124301904  train    4  "
      ]
     },
     "execution_count": 288,
     "metadata": {},
     "output_type": "execute_result"
    }
   ],
   "source": [
    "ofashion43.tail(2)"
   ]
  },
  {
   "cell_type": "code",
   "execution_count": 289,
   "id": "3151a666-c04c-41b8-bdc0-93462b1e88e4",
   "metadata": {},
   "outputs": [
    {
     "data": {
      "text/html": [
       "<div>\n",
       "<style scoped>\n",
       "    .dataframe tbody tr th:only-of-type {\n",
       "        vertical-align: middle;\n",
       "    }\n",
       "\n",
       "    .dataframe tbody tr th {\n",
       "        vertical-align: top;\n",
       "    }\n",
       "\n",
       "    .dataframe thead th {\n",
       "        text-align: right;\n",
       "    }\n",
       "</style>\n",
       "<table border=\"1\" class=\"dataframe\">\n",
       "  <thead>\n",
       "    <tr style=\"text-align: right;\">\n",
       "      <th></th>\n",
       "      <th>label43</th>\n",
       "      <th>xmin</th>\n",
       "      <th>ymin</th>\n",
       "      <th>xmax</th>\n",
       "      <th>ymax</th>\n",
       "      <th>height</th>\n",
       "      <th>width</th>\n",
       "      <th>len</th>\n",
       "    </tr>\n",
       "  </thead>\n",
       "  <tbody>\n",
       "    <tr>\n",
       "      <th>count</th>\n",
       "      <td>330522.000000</td>\n",
       "      <td>330522.000000</td>\n",
       "      <td>330522.000000</td>\n",
       "      <td>330522.000000</td>\n",
       "      <td>330522.000000</td>\n",
       "      <td>330522.000000</td>\n",
       "      <td>330522.000000</td>\n",
       "      <td>330522.000000</td>\n",
       "    </tr>\n",
       "    <tr>\n",
       "      <th>mean</th>\n",
       "      <td>17.377572</td>\n",
       "      <td>0.497446</td>\n",
       "      <td>0.590356</td>\n",
       "      <td>223.852098</td>\n",
       "      <td>325.209296</td>\n",
       "      <td>872.187519</td>\n",
       "      <td>641.996130</td>\n",
       "      <td>2.689757</td>\n",
       "    </tr>\n",
       "    <tr>\n",
       "      <th>std</th>\n",
       "      <td>9.186971</td>\n",
       "      <td>0.088485</td>\n",
       "      <td>0.196077</td>\n",
       "      <td>147.700537</td>\n",
       "      <td>211.692392</td>\n",
       "      <td>364.742707</td>\n",
       "      <td>251.633003</td>\n",
       "      <td>1.721888</td>\n",
       "    </tr>\n",
       "    <tr>\n",
       "      <th>min</th>\n",
       "      <td>0.000000</td>\n",
       "      <td>0.029333</td>\n",
       "      <td>0.025000</td>\n",
       "      <td>3.000000</td>\n",
       "      <td>4.000000</td>\n",
       "      <td>71.000000</td>\n",
       "      <td>68.000000</td>\n",
       "      <td>1.000000</td>\n",
       "    </tr>\n",
       "    <tr>\n",
       "      <th>25%</th>\n",
       "      <td>12.000000</td>\n",
       "      <td>0.458560</td>\n",
       "      <td>0.441895</td>\n",
       "      <td>108.000000</td>\n",
       "      <td>157.000000</td>\n",
       "      <td>631.000000</td>\n",
       "      <td>468.000000</td>\n",
       "      <td>1.000000</td>\n",
       "    </tr>\n",
       "    <tr>\n",
       "      <th>50%</th>\n",
       "      <td>21.000000</td>\n",
       "      <td>0.498932</td>\n",
       "      <td>0.561379</td>\n",
       "      <td>199.000000</td>\n",
       "      <td>291.000000</td>\n",
       "      <td>832.000000</td>\n",
       "      <td>640.000000</td>\n",
       "      <td>2.000000</td>\n",
       "    </tr>\n",
       "    <tr>\n",
       "      <th>75%</th>\n",
       "      <td>23.000000</td>\n",
       "      <td>0.537500</td>\n",
       "      <td>0.715870</td>\n",
       "      <td>307.000000</td>\n",
       "      <td>448.000000</td>\n",
       "      <td>1024.000000</td>\n",
       "      <td>750.000000</td>\n",
       "      <td>4.000000</td>\n",
       "    </tr>\n",
       "    <tr>\n",
       "      <th>max</th>\n",
       "      <td>44.000000</td>\n",
       "      <td>0.995528</td>\n",
       "      <td>0.990469</td>\n",
       "      <td>2038.000000</td>\n",
       "      <td>3310.000000</td>\n",
       "      <td>6286.000000</td>\n",
       "      <td>4195.000000</td>\n",
       "      <td>21.000000</td>\n",
       "    </tr>\n",
       "  </tbody>\n",
       "</table>\n",
       "</div>"
      ],
      "text/plain": [
       "             label43           xmin           ymin           xmax  \\\n",
       "count  330522.000000  330522.000000  330522.000000  330522.000000   \n",
       "mean       17.377572       0.497446       0.590356     223.852098   \n",
       "std         9.186971       0.088485       0.196077     147.700537   \n",
       "min         0.000000       0.029333       0.025000       3.000000   \n",
       "25%        12.000000       0.458560       0.441895     108.000000   \n",
       "50%        21.000000       0.498932       0.561379     199.000000   \n",
       "75%        23.000000       0.537500       0.715870     307.000000   \n",
       "max        44.000000       0.995528       0.990469    2038.000000   \n",
       "\n",
       "                ymax         height          width            len  \n",
       "count  330522.000000  330522.000000  330522.000000  330522.000000  \n",
       "mean      325.209296     872.187519     641.996130       2.689757  \n",
       "std       211.692392     364.742707     251.633003       1.721888  \n",
       "min         4.000000      71.000000      68.000000       1.000000  \n",
       "25%       157.000000     631.000000     468.000000       1.000000  \n",
       "50%       291.000000     832.000000     640.000000       2.000000  \n",
       "75%       448.000000    1024.000000     750.000000       4.000000  \n",
       "max      3310.000000    6286.000000    4195.000000      21.000000  "
      ]
     },
     "execution_count": 289,
     "metadata": {},
     "output_type": "execute_result"
    }
   ],
   "source": [
    "ofashion43.describe()"
   ]
  },
  {
   "cell_type": "code",
   "execution_count": 290,
   "id": "4565de35-ddc4-4e1f-a8db-eae63c22a393",
   "metadata": {},
   "outputs": [
    {
     "data": {
      "text/plain": [
       "330522"
      ]
     },
     "execution_count": 290,
     "metadata": {},
     "output_type": "execute_result"
    }
   ],
   "source": [
    "len(ofashion43)"
   ]
  },
  {
   "cell_type": "code",
   "execution_count": 291,
   "id": "34772c12-9d29-49ae-9fd5-a47b7ec943f2",
   "metadata": {},
   "outputs": [],
   "source": [
    "# ofashion43_coco = ofashion43\n",
    "# ofashion43_coco['xmin'] = ofashion43_coco['xmin']*ofashion43_coco['width']\n",
    "# ofashion43_coco['ymin'] = ofashion43_coco['ymin']*ofashion43_coco['height']\n",
    "# ofashion43_coco['xmax'] = ofashion43_coco['xmax']*ofashion43_coco['width']\n",
    "# ofashion43_coco['ymax'] = ofashion43_coco['ymax']*ofashion43_coco['height']\n",
    "# ofashion43 = ofashion43_coco"
   ]
  },
  {
   "cell_type": "code",
   "execution_count": 294,
   "id": "423bf463-0994-468c-a24d-a249cdaa0ae5",
   "metadata": {},
   "outputs": [
    {
     "data": {
      "text/plain": [
       "43"
      ]
     },
     "execution_count": 294,
     "metadata": {},
     "output_type": "execute_result"
    }
   ],
   "source": [
    "ofashion43['label43'].max()"
   ]
  },
  {
   "cell_type": "code",
   "execution_count": 293,
   "id": "360c2a63-e3a3-4bc3-9906-14a36bfd7e60",
   "metadata": {},
   "outputs": [],
   "source": [
    "ofashion43 = ofashion43[ofashion43['label43']<=43]"
   ]
  },
  {
   "cell_type": "code",
   "execution_count": null,
   "id": "eedec153-aebb-4026-94ca-c780ec255354",
   "metadata": {},
   "outputs": [],
   "source": []
  },
  {
   "cell_type": "markdown",
   "id": "9353b0b2-e20e-4ba2-9276-7d2936075c89",
   "metadata": {},
   "source": [
    "### 数据清洗"
   ]
  },
  {
   "cell_type": "code",
   "execution_count": 374,
   "id": "acaba2f1-ee4e-44eb-ad85-a8fcfd5d9a79",
   "metadata": {},
   "outputs": [],
   "source": [
    "hw_df  = ofashion43[ofashion43['source']=='haowei34k']"
   ]
  },
  {
   "cell_type": "code",
   "execution_count": null,
   "id": "b540950e-1002-40cc-afd4-c74596aca376",
   "metadata": {},
   "outputs": [],
   "source": [
    "hw_df['label8'] = hw_df['label43'].apply(lambda x: l2_map_l1[x])"
   ]
  },
  {
   "cell_type": "code",
   "execution_count": 297,
   "id": "f802e89b-012c-464b-bf59-d6d31624955c",
   "metadata": {},
   "outputs": [
    {
     "data": {
      "text/html": [
       "<div>\n",
       "<style scoped>\n",
       "    .dataframe tbody tr th:only-of-type {\n",
       "        vertical-align: middle;\n",
       "    }\n",
       "\n",
       "    .dataframe tbody tr th {\n",
       "        vertical-align: top;\n",
       "    }\n",
       "\n",
       "    .dataframe thead th {\n",
       "        text-align: right;\n",
       "    }\n",
       "</style>\n",
       "<table border=\"1\" class=\"dataframe\">\n",
       "  <thead>\n",
       "    <tr style=\"text-align: right;\">\n",
       "      <th></th>\n",
       "      <th>source</th>\n",
       "      <th>path</th>\n",
       "      <th>label2_eng</th>\n",
       "      <th>label1_chi</th>\n",
       "      <th>label43</th>\n",
       "      <th>label2_chi</th>\n",
       "      <th>xmin</th>\n",
       "      <th>ymin</th>\n",
       "      <th>xmax</th>\n",
       "      <th>ymax</th>\n",
       "      <th>height</th>\n",
       "      <th>width</th>\n",
       "      <th>fname</th>\n",
       "      <th>mode</th>\n",
       "      <th>len</th>\n",
       "      <th>label8</th>\n",
       "    </tr>\n",
       "  </thead>\n",
       "  <tbody>\n",
       "    <tr>\n",
       "      <th>186400</th>\n",
       "      <td>haowei34k</td>\n",
       "      <td>/home/chenyi/workspace/dataset/data/haowei34k/...</td>\n",
       "      <td>Suits shoes</td>\n",
       "      <td>NaN</td>\n",
       "      <td>23</td>\n",
       "      <td>正装女鞋</td>\n",
       "      <td>0.453096</td>\n",
       "      <td>0.783125</td>\n",
       "      <td>33.0</td>\n",
       "      <td>85.0</td>\n",
       "      <td>800</td>\n",
       "      <td>533</td>\n",
       "      <td>20160425101358677</td>\n",
       "      <td>train</td>\n",
       "      <td>4</td>\n",
       "      <td>2</td>\n",
       "    </tr>\n",
       "    <tr>\n",
       "      <th>186401</th>\n",
       "      <td>haowei34k</td>\n",
       "      <td>/home/chenyi/workspace/dataset/data/haowei34k/...</td>\n",
       "      <td>Suits shoes</td>\n",
       "      <td>NaN</td>\n",
       "      <td>23</td>\n",
       "      <td>正装女鞋</td>\n",
       "      <td>0.526266</td>\n",
       "      <td>0.900000</td>\n",
       "      <td>49.0</td>\n",
       "      <td>96.0</td>\n",
       "      <td>800</td>\n",
       "      <td>533</td>\n",
       "      <td>20160425101358677</td>\n",
       "      <td>train</td>\n",
       "      <td>4</td>\n",
       "      <td>2</td>\n",
       "    </tr>\n",
       "  </tbody>\n",
       "</table>\n",
       "</div>"
      ],
      "text/plain": [
       "           source                                               path  \\\n",
       "186400  haowei34k  /home/chenyi/workspace/dataset/data/haowei34k/...   \n",
       "186401  haowei34k  /home/chenyi/workspace/dataset/data/haowei34k/...   \n",
       "\n",
       "         label2_eng label1_chi  label43 label2_chi      xmin      ymin  xmax  \\\n",
       "186400  Suits shoes        NaN       23       正装女鞋  0.453096  0.783125  33.0   \n",
       "186401  Suits shoes        NaN       23       正装女鞋  0.526266  0.900000  49.0   \n",
       "\n",
       "        ymax  height  width              fname   mode  len  label8  \n",
       "186400  85.0     800    533  20160425101358677  train    4       2  \n",
       "186401  96.0     800    533  20160425101358677  train    4       2  "
      ]
     },
     "execution_count": 297,
     "metadata": {},
     "output_type": "execute_result"
    }
   ],
   "source": [
    "hw_df.head(2)"
   ]
  },
  {
   "cell_type": "code",
   "execution_count": 300,
   "id": "9bb6468a-b92e-4da9-9d1a-18f8b875b1cd",
   "metadata": {},
   "outputs": [
    {
     "data": {
      "text/plain": [
       "{'其他': -1,\n",
       " '腰带': 0,\n",
       " '帽子': 1,\n",
       " '鞋子': 2,\n",
       " '包': 3,\n",
       " '上装': 4,\n",
       " '裤子': 5,\n",
       " '裙子': 6,\n",
       " '连体装': 7}"
      ]
     },
     "execution_count": 300,
     "metadata": {},
     "output_type": "execute_result"
    }
   ],
   "source": [
    "label_1_map"
   ]
  },
  {
   "cell_type": "code",
   "execution_count": 1732,
   "id": "070e512c-f403-4b53-9fca-c0fb47900b73",
   "metadata": {},
   "outputs": [],
   "source": [
    "catg = 4\n",
    "catg_df = hw_df[hw_df['label8']==catg]"
   ]
  },
  {
   "cell_type": "code",
   "execution_count": 321,
   "id": "646cb9f3-6e70-43a0-8cf2-7b300aec6366",
   "metadata": {},
   "outputs": [
    {
     "data": {
      "text/html": [
       "<div>\n",
       "<style scoped>\n",
       "    .dataframe tbody tr th:only-of-type {\n",
       "        vertical-align: middle;\n",
       "    }\n",
       "\n",
       "    .dataframe tbody tr th {\n",
       "        vertical-align: top;\n",
       "    }\n",
       "\n",
       "    .dataframe thead th {\n",
       "        text-align: right;\n",
       "    }\n",
       "</style>\n",
       "<table border=\"1\" class=\"dataframe\">\n",
       "  <thead>\n",
       "    <tr style=\"text-align: right;\">\n",
       "      <th></th>\n",
       "      <th>label43</th>\n",
       "      <th>xmin</th>\n",
       "      <th>ymin</th>\n",
       "      <th>xmax</th>\n",
       "      <th>ymax</th>\n",
       "      <th>height</th>\n",
       "      <th>width</th>\n",
       "      <th>len</th>\n",
       "      <th>label8</th>\n",
       "    </tr>\n",
       "  </thead>\n",
       "  <tbody>\n",
       "    <tr>\n",
       "      <th>count</th>\n",
       "      <td>28611.000000</td>\n",
       "      <td>28611.000000</td>\n",
       "      <td>28611.000000</td>\n",
       "      <td>28611.000000</td>\n",
       "      <td>28611.000000</td>\n",
       "      <td>28611.000000</td>\n",
       "      <td>28611.000000</td>\n",
       "      <td>28611.000000</td>\n",
       "      <td>28611.0</td>\n",
       "    </tr>\n",
       "    <tr>\n",
       "      <th>mean</th>\n",
       "      <td>6.872497</td>\n",
       "      <td>0.500976</td>\n",
       "      <td>0.374835</td>\n",
       "      <td>232.930586</td>\n",
       "      <td>297.690189</td>\n",
       "      <td>954.679704</td>\n",
       "      <td>653.292405</td>\n",
       "      <td>4.486491</td>\n",
       "      <td>4.0</td>\n",
       "    </tr>\n",
       "    <tr>\n",
       "      <th>std</th>\n",
       "      <td>10.375749</td>\n",
       "      <td>0.051588</td>\n",
       "      <td>0.073231</td>\n",
       "      <td>130.323983</td>\n",
       "      <td>174.173215</td>\n",
       "      <td>519.898499</td>\n",
       "      <td>356.939787</td>\n",
       "      <td>0.773367</td>\n",
       "      <td>0.0</td>\n",
       "    </tr>\n",
       "    <tr>\n",
       "      <th>min</th>\n",
       "      <td>0.000000</td>\n",
       "      <td>0.048864</td>\n",
       "      <td>0.101266</td>\n",
       "      <td>22.000000</td>\n",
       "      <td>39.000000</td>\n",
       "      <td>214.000000</td>\n",
       "      <td>173.000000</td>\n",
       "      <td>1.000000</td>\n",
       "      <td>4.0</td>\n",
       "    </tr>\n",
       "    <tr>\n",
       "      <th>25%</th>\n",
       "      <td>1.000000</td>\n",
       "      <td>0.476049</td>\n",
       "      <td>0.327313</td>\n",
       "      <td>157.000000</td>\n",
       "      <td>198.000000</td>\n",
       "      <td>654.000000</td>\n",
       "      <td>450.000000</td>\n",
       "      <td>4.000000</td>\n",
       "      <td>4.0</td>\n",
       "    </tr>\n",
       "    <tr>\n",
       "      <th>50%</th>\n",
       "      <td>3.000000</td>\n",
       "      <td>0.500000</td>\n",
       "      <td>0.361111</td>\n",
       "      <td>201.000000</td>\n",
       "      <td>257.000000</td>\n",
       "      <td>855.000000</td>\n",
       "      <td>599.000000</td>\n",
       "      <td>5.000000</td>\n",
       "      <td>4.0</td>\n",
       "    </tr>\n",
       "    <tr>\n",
       "      <th>75%</th>\n",
       "      <td>8.000000</td>\n",
       "      <td>0.524620</td>\n",
       "      <td>0.407076</td>\n",
       "      <td>260.000000</td>\n",
       "      <td>336.000000</td>\n",
       "      <td>1000.000000</td>\n",
       "      <td>748.000000</td>\n",
       "      <td>5.000000</td>\n",
       "      <td>4.0</td>\n",
       "    </tr>\n",
       "    <tr>\n",
       "      <th>max</th>\n",
       "      <td>42.000000</td>\n",
       "      <td>0.970000</td>\n",
       "      <td>0.952604</td>\n",
       "      <td>2038.000000</td>\n",
       "      <td>3310.000000</td>\n",
       "      <td>6286.000000</td>\n",
       "      <td>4195.000000</td>\n",
       "      <td>21.000000</td>\n",
       "      <td>4.0</td>\n",
       "    </tr>\n",
       "  </tbody>\n",
       "</table>\n",
       "</div>"
      ],
      "text/plain": [
       "            label43          xmin          ymin          xmax          ymax  \\\n",
       "count  28611.000000  28611.000000  28611.000000  28611.000000  28611.000000   \n",
       "mean       6.872497      0.500976      0.374835    232.930586    297.690189   \n",
       "std       10.375749      0.051588      0.073231    130.323983    174.173215   \n",
       "min        0.000000      0.048864      0.101266     22.000000     39.000000   \n",
       "25%        1.000000      0.476049      0.327313    157.000000    198.000000   \n",
       "50%        3.000000      0.500000      0.361111    201.000000    257.000000   \n",
       "75%        8.000000      0.524620      0.407076    260.000000    336.000000   \n",
       "max       42.000000      0.970000      0.952604   2038.000000   3310.000000   \n",
       "\n",
       "             height         width           len   label8  \n",
       "count  28611.000000  28611.000000  28611.000000  28611.0  \n",
       "mean     954.679704    653.292405      4.486491      4.0  \n",
       "std      519.898499    356.939787      0.773367      0.0  \n",
       "min      214.000000    173.000000      1.000000      4.0  \n",
       "25%      654.000000    450.000000      4.000000      4.0  \n",
       "50%      855.000000    599.000000      5.000000      4.0  \n",
       "75%     1000.000000    748.000000      5.000000      4.0  \n",
       "max     6286.000000   4195.000000     21.000000      4.0  "
      ]
     },
     "execution_count": 321,
     "metadata": {},
     "output_type": "execute_result"
    }
   ],
   "source": [
    "catg_df.describe()"
   ]
  },
  {
   "cell_type": "code",
   "execution_count": null,
   "id": "a06cc00b-91fa-41e2-b1e3-d0f4b234c95d",
   "metadata": {},
   "outputs": [],
   "source": []
  },
  {
   "cell_type": "code",
   "execution_count": null,
   "id": "5d44329b-7d04-4479-8499-26c13898339a",
   "metadata": {},
   "outputs": [],
   "source": []
  },
  {
   "cell_type": "markdown",
   "id": "e3b10195-8255-4eee-91e7-2175375fee38",
   "metadata": {
    "jp-MarkdownHeadingCollapsed": true,
    "tags": []
   },
   "source": [
    "##### BBOX大小核对"
   ]
  },
  {
   "cell_type": "code",
   "execution_count": 117,
   "id": "5f5c8932-e0bf-48de-b09a-093b89b59566",
   "metadata": {},
   "outputs": [],
   "source": [
    "thred = 0.05\n",
    "catg_df_temp = catg_df[((catg_df['xmin']<thred) | (catg_df['ymin']<thred) | \n",
    "                     (catg_df['xmin']>1-thred) | (catg_df['ymin']>1-thred)) & \n",
    "                    (catg_df['len']==2)]"
   ]
  },
  {
   "cell_type": "code",
   "execution_count": null,
   "id": "abe53ca1-d37e-4c5b-90f5-919f344f5f8f",
   "metadata": {},
   "outputs": [],
   "source": [
    "bbox_dirty = pd.concat([bbox_dirty, ofashion43_small], axis=0)"
   ]
  },
  {
   "cell_type": "code",
   "execution_count": null,
   "id": "6a258104-8fa2-4c40-886b-ceb38d73b1a8",
   "metadata": {},
   "outputs": [],
   "source": [
    "bbox_dirty.describe()"
   ]
  },
  {
   "cell_type": "code",
   "execution_count": null,
   "id": "b90d2375-47da-40b9-a7a8-63b035ba7798",
   "metadata": {},
   "outputs": [],
   "source": [
    "len(bbox_dirty.drop_duplicates('path'))"
   ]
  },
  {
   "cell_type": "code",
   "execution_count": null,
   "id": "372058ff-433f-4548-8b78-d3d78c5c1d26",
   "metadata": {},
   "outputs": [],
   "source": [
    "img_drop_df = bbox_dirty.drop_duplicates('path')"
   ]
  },
  {
   "cell_type": "code",
   "execution_count": null,
   "id": "77fe7f4b-a489-457e-9f4e-22e92d220857",
   "metadata": {},
   "outputs": [],
   "source": [
    "ofashion31_clr_temp = ofashion43_big[~ofashion43_big['path'].isin(img_drop_df['path'])]"
   ]
  },
  {
   "cell_type": "code",
   "execution_count": null,
   "id": "ce73b53b-2834-42ae-b131-c1dacfd075b6",
   "metadata": {},
   "outputs": [],
   "source": [
    "len(ofashion31_clr_temp)"
   ]
  },
  {
   "cell_type": "code",
   "execution_count": null,
   "id": "3afaa454-28c7-4c2a-b712-2c4ce5a49714",
   "metadata": {},
   "outputs": [],
   "source": [
    "len(ofashion31_clr_temp.drop_duplicates('path'))"
   ]
  },
  {
   "cell_type": "code",
   "execution_count": null,
   "id": "9162eca0-dd7d-4a01-a921-f8fef73bd3fa",
   "metadata": {},
   "outputs": [],
   "source": [
    "ofashion31_clr_temp.describe()"
   ]
  },
  {
   "cell_type": "code",
   "execution_count": null,
   "id": "d7537cf9-bfd3-4f6b-b36a-56ee478981e3",
   "metadata": {},
   "outputs": [],
   "source": [
    "ofashion31_clr_temp.drop_duplicates('path').value_counts('source')"
   ]
  },
  {
   "cell_type": "code",
   "execution_count": 1607,
   "id": "accf4525-dc3c-43b9-907f-a7da783da738",
   "metadata": {},
   "outputs": [],
   "source": []
  },
  {
   "cell_type": "code",
   "execution_count": 1602,
   "id": "21ee184e-786d-423a-8c95-f260c7fa0a5c",
   "metadata": {},
   "outputs": [
    {
     "name": "stderr",
     "output_type": "stream",
     "text": [
      "/tmp/ipykernel_238968/3092985983.py:1: DtypeWarning: Columns (3,12,13) have mixed types. Specify dtype option on import or set low_memory=False.\n",
      "  ofashion31_clr = pd.read_csv('/nas/chenyi/datasets_nas/openfashion/allfashion/openfashion31_clr_temp.csv')\n"
     ]
    }
   ],
   "source": [
    "ofashion31_clr = pd.read_csv('/nas/chenyi/datasets_nas/openfashion/allfashion/openfashion31_clr_temp.csv')"
   ]
  },
  {
   "cell_type": "code",
   "execution_count": 1603,
   "id": "419b840e-a2f0-4303-bc44-7dc7d886ea62",
   "metadata": {},
   "outputs": [
    {
     "data": {
      "text/html": [
       "<div>\n",
       "<style scoped>\n",
       "    .dataframe tbody tr th:only-of-type {\n",
       "        vertical-align: middle;\n",
       "    }\n",
       "\n",
       "    .dataframe tbody tr th {\n",
       "        vertical-align: top;\n",
       "    }\n",
       "\n",
       "    .dataframe thead th {\n",
       "        text-align: right;\n",
       "    }\n",
       "</style>\n",
       "<table border=\"1\" class=\"dataframe\">\n",
       "  <thead>\n",
       "    <tr style=\"text-align: right;\">\n",
       "      <th></th>\n",
       "      <th>source</th>\n",
       "      <th>path</th>\n",
       "      <th>label2_eng</th>\n",
       "      <th>label1_chi</th>\n",
       "      <th>label43</th>\n",
       "      <th>label2_chi</th>\n",
       "      <th>xmin</th>\n",
       "      <th>ymin</th>\n",
       "      <th>xmax</th>\n",
       "      <th>ymax</th>\n",
       "      <th>height</th>\n",
       "      <th>width</th>\n",
       "      <th>fname</th>\n",
       "      <th>mode</th>\n",
       "      <th>len</th>\n",
       "    </tr>\n",
       "  </thead>\n",
       "  <tbody>\n",
       "    <tr>\n",
       "      <th>0</th>\n",
       "      <td>DeepFashion2</td>\n",
       "      <td>/home/chenyi/workspace/dataset/data/DeepFashio...</td>\n",
       "      <td>long sleeve dress</td>\n",
       "      <td>连体装</td>\n",
       "      <td>21</td>\n",
       "      <td>连衣裙</td>\n",
       "      <td>0.500000</td>\n",
       "      <td>0.530649</td>\n",
       "      <td>466.0</td>\n",
       "      <td>779.0</td>\n",
       "      <td>832</td>\n",
       "      <td>468</td>\n",
       "      <td>3</td>\n",
       "      <td>NaN</td>\n",
       "      <td>1</td>\n",
       "    </tr>\n",
       "    <tr>\n",
       "      <th>1</th>\n",
       "      <td>DeepFashion2</td>\n",
       "      <td>/home/chenyi/workspace/dataset/data/DeepFashio...</td>\n",
       "      <td>long sleeve dress</td>\n",
       "      <td>连体装</td>\n",
       "      <td>21</td>\n",
       "      <td>连衣裙</td>\n",
       "      <td>0.498932</td>\n",
       "      <td>0.589744</td>\n",
       "      <td>467.0</td>\n",
       "      <td>510.0</td>\n",
       "      <td>624</td>\n",
       "      <td>468</td>\n",
       "      <td>4</td>\n",
       "      <td>NaN</td>\n",
       "      <td>1</td>\n",
       "    </tr>\n",
       "    <tr>\n",
       "      <th>2</th>\n",
       "      <td>DeepFashion2</td>\n",
       "      <td>/home/chenyi/workspace/dataset/data/DeepFashio...</td>\n",
       "      <td>long sleeve dress</td>\n",
       "      <td>连体装</td>\n",
       "      <td>21</td>\n",
       "      <td>连衣裙</td>\n",
       "      <td>0.500000</td>\n",
       "      <td>0.548077</td>\n",
       "      <td>466.0</td>\n",
       "      <td>716.0</td>\n",
       "      <td>832</td>\n",
       "      <td>468</td>\n",
       "      <td>5</td>\n",
       "      <td>NaN</td>\n",
       "      <td>1</td>\n",
       "    </tr>\n",
       "    <tr>\n",
       "      <th>3</th>\n",
       "      <td>DeepFashion2</td>\n",
       "      <td>/home/chenyi/workspace/dataset/data/DeepFashio...</td>\n",
       "      <td>long sleeve dress</td>\n",
       "      <td>连体装</td>\n",
       "      <td>21</td>\n",
       "      <td>连衣裙</td>\n",
       "      <td>0.497863</td>\n",
       "      <td>0.694111</td>\n",
       "      <td>466.0</td>\n",
       "      <td>507.0</td>\n",
       "      <td>832</td>\n",
       "      <td>468</td>\n",
       "      <td>6</td>\n",
       "      <td>NaN</td>\n",
       "      <td>1</td>\n",
       "    </tr>\n",
       "    <tr>\n",
       "      <th>4</th>\n",
       "      <td>DeepFashion2</td>\n",
       "      <td>/home/chenyi/workspace/dataset/data/DeepFashio...</td>\n",
       "      <td>long sleeve dress</td>\n",
       "      <td>连体装</td>\n",
       "      <td>21</td>\n",
       "      <td>连衣裙</td>\n",
       "      <td>0.483974</td>\n",
       "      <td>0.571225</td>\n",
       "      <td>407.0</td>\n",
       "      <td>590.0</td>\n",
       "      <td>702</td>\n",
       "      <td>468</td>\n",
       "      <td>7</td>\n",
       "      <td>NaN</td>\n",
       "      <td>1</td>\n",
       "    </tr>\n",
       "  </tbody>\n",
       "</table>\n",
       "</div>"
      ],
      "text/plain": [
       "         source                                               path  \\\n",
       "0  DeepFashion2  /home/chenyi/workspace/dataset/data/DeepFashio...   \n",
       "1  DeepFashion2  /home/chenyi/workspace/dataset/data/DeepFashio...   \n",
       "2  DeepFashion2  /home/chenyi/workspace/dataset/data/DeepFashio...   \n",
       "3  DeepFashion2  /home/chenyi/workspace/dataset/data/DeepFashio...   \n",
       "4  DeepFashion2  /home/chenyi/workspace/dataset/data/DeepFashio...   \n",
       "\n",
       "          label2_eng label1_chi  label43 label2_chi      xmin      ymin  \\\n",
       "0  long sleeve dress        连体装       21        连衣裙  0.500000  0.530649   \n",
       "1  long sleeve dress        连体装       21        连衣裙  0.498932  0.589744   \n",
       "2  long sleeve dress        连体装       21        连衣裙  0.500000  0.548077   \n",
       "3  long sleeve dress        连体装       21        连衣裙  0.497863  0.694111   \n",
       "4  long sleeve dress        连体装       21        连衣裙  0.483974  0.571225   \n",
       "\n",
       "    xmax   ymax  height  width fname mode  len  \n",
       "0  466.0  779.0     832    468     3  NaN    1  \n",
       "1  467.0  510.0     624    468     4  NaN    1  \n",
       "2  466.0  716.0     832    468     5  NaN    1  \n",
       "3  466.0  507.0     832    468     6  NaN    1  \n",
       "4  407.0  590.0     702    468     7  NaN    1  "
      ]
     },
     "execution_count": 1603,
     "metadata": {},
     "output_type": "execute_result"
    }
   ],
   "source": [
    "ofashion31_clr.head()"
   ]
  },
  {
   "cell_type": "code",
   "execution_count": null,
   "id": "6b64067f-0c73-40a1-9095-6f61025e268c",
   "metadata": {},
   "outputs": [],
   "source": []
  },
  {
   "cell_type": "markdown",
   "id": "8a9b35a1-964a-41f5-8612-d78d77afc72e",
   "metadata": {
    "jp-MarkdownHeadingCollapsed": true,
    "tags": []
   },
   "source": [
    "##### CHECK Area"
   ]
  },
  {
   "cell_type": "code",
   "execution_count": 372,
   "id": "41c90ea1-b18c-4898-bdf6-959b3a6f8012",
   "metadata": {},
   "outputs": [
    {
     "name": "stderr",
     "output_type": "stream",
     "text": [
      "330366it [00:45, 7298.51it/s]"
     ]
    },
    {
     "name": "stdout",
     "output_type": "stream",
     "text": [
      "CPU times: user 45.3 s, sys: 25.9 ms, total: 45.4 s\n",
      "Wall time: 45.3 s\n"
     ]
    },
    {
     "name": "stderr",
     "output_type": "stream",
     "text": [
      "\n"
     ]
    }
   ],
   "source": [
    "%%time\n",
    "# 计算bbox的面积\n",
    "df = ofashion43\n",
    "area_list = []\n",
    "for ind,row in tqdm(df.iterrows()):\n",
    "    whWH = row.loc[['xmax', 'ymax']].values\n",
    "    area  = 1\n",
    "    for item in whWH:\n",
    "        area *= item\n",
    "    area_list.append(area)\n",
    "    # break"
   ]
  },
  {
   "cell_type": "code",
   "execution_count": 373,
   "id": "dcfd4ab4-ac52-4857-886f-14eee2c1873c",
   "metadata": {},
   "outputs": [],
   "source": [
    "ofashion43['area'] = area_list"
   ]
  },
  {
   "cell_type": "code",
   "execution_count": null,
   "id": "722ba9bf-a374-42dd-8724-ddaf055ac253",
   "metadata": {},
   "outputs": [],
   "source": []
  },
  {
   "cell_type": "code",
   "execution_count": null,
   "id": "8c9ec64c-05c7-4c20-a43f-b2e34a63a105",
   "metadata": {},
   "outputs": [],
   "source": []
  },
  {
   "cell_type": "markdown",
   "id": "5b88f7fc-f5d3-4ee0-81d6-d845707ec8ae",
   "metadata": {
    "jp-MarkdownHeadingCollapsed": true,
    "tags": []
   },
   "source": [
    "##### bbox的个数"
   ]
  },
  {
   "cell_type": "code",
   "execution_count": null,
   "id": "d03cb68f-6d5d-457a-8037-8b636ff51266",
   "metadata": {},
   "outputs": [],
   "source": [
    "# %%time\n",
    "# 计算bbox的个数\n",
    "# ofashion43['len'] = 0\n",
    "# for ind,p_ in tqdm(enumerate(pcounter.index)):\n",
    "#     num = pcounter.values[ind]\n",
    "#     ofashion43.loc[ofashion43[ofashion43['path'] == p_].index, 'len'] = num"
   ]
  },
  {
   "cell_type": "code",
   "execution_count": 1626,
   "id": "cf96bc9f-6e88-4722-aa3d-2ed22c734e51",
   "metadata": {},
   "outputs": [
    {
     "data": {
      "text/plain": [
       "23"
      ]
     },
     "execution_count": 1626,
     "metadata": {},
     "output_type": "execute_result"
    }
   ],
   "source": [
    "len(ofashion31_clr.value_counts('label43'))"
   ]
  },
  {
   "cell_type": "code",
   "execution_count": 1647,
   "id": "20508534-6df4-48cb-8e08-1cc6efbfa217",
   "metadata": {},
   "outputs": [
    {
     "data": {
      "text/plain": [
       "label43\n",
       "0      2252\n",
       "1      8719\n",
       "2      8688\n",
       "3      1558\n",
       "4     27671\n",
       "5       331\n",
       "6     19446\n",
       "7      2598\n",
       "8       911\n",
       "9       169\n",
       "10     1046\n",
       "11      273\n",
       "12     1304\n",
       "13      294\n",
       "14       26\n",
       "15    46741\n",
       "16      952\n",
       "17     5692\n",
       "18     7268\n",
       "19      808\n",
       "20      143\n",
       "21    82355\n",
       "22     1303\n",
       "dtype: int64"
      ]
     },
     "execution_count": 1647,
     "metadata": {},
     "output_type": "execute_result"
    }
   ],
   "source": [
    "ofashion31_clr.value_counts('label43').sort_index()"
   ]
  },
  {
   "cell_type": "code",
   "execution_count": 236,
   "id": "3e219331-d0ce-4c47-87b3-4f6094490fa1",
   "metadata": {},
   "outputs": [
    {
     "data": {
      "text/plain": [
       "label8\n",
       "4     11\n",
       "7    135\n",
       "dtype: int64"
      ]
     },
     "execution_count": 236,
     "metadata": {},
     "output_type": "execute_result"
    }
   ],
   "source": [
    "hw_df[hw_df['len']==1].value_counts('label8').sort_index()"
   ]
  },
  {
   "cell_type": "code",
   "execution_count": null,
   "id": "40b3290f-479c-4f79-9e1e-e3c6f1b80c57",
   "metadata": {},
   "outputs": [],
   "source": []
  },
  {
   "cell_type": "code",
   "execution_count": null,
   "id": "a39c5842-e238-48d8-859f-c3106a027fd2",
   "metadata": {},
   "outputs": [],
   "source": []
  },
  {
   "cell_type": "code",
   "execution_count": 1637,
   "id": "2849e1c6-2725-4b44-a473-90323c5093ee",
   "metadata": {},
   "outputs": [],
   "source": [
    "dp_df = ofashion31_clr[~(ofashion31_clr['source'] == 'haowei34k')]\n",
    "dp_len1 = dp_df[dp_df['len']==1]"
   ]
  },
  {
   "cell_type": "code",
   "execution_count": 1654,
   "id": "8b90079a-e243-467f-81ef-4e33bff746ad",
   "metadata": {},
   "outputs": [
    {
     "data": {
      "text/plain": [
       "'Sweater/knit'"
      ]
     },
     "execution_count": 1654,
     "metadata": {},
     "output_type": "execute_result"
    }
   ],
   "source": [
    "num2eng[1]"
   ]
  },
  {
   "cell_type": "code",
   "execution_count": 1648,
   "id": "d2da3d36-e419-42ec-82ce-9a74f8ca4b4d",
   "metadata": {},
   "outputs": [
    {
     "data": {
      "text/plain": [
       "label43\n",
       "1      1316\n",
       "2      2111\n",
       "4     17048\n",
       "6     11605\n",
       "7      1627\n",
       "15    30061\n",
       "21    68944\n",
       "22      619\n",
       "dtype: int64"
      ]
     },
     "execution_count": 1648,
     "metadata": {},
     "output_type": "execute_result"
    }
   ],
   "source": [
    "dp_len1.value_counts('label43').sort_index()"
   ]
  },
  {
   "cell_type": "code",
   "execution_count": 1640,
   "id": "54bd920d-0d20-4603-9ebf-14dbbcb9e114",
   "metadata": {},
   "outputs": [
    {
     "data": {
      "text/plain": [
       "133331"
      ]
     },
     "execution_count": 1640,
     "metadata": {},
     "output_type": "execute_result"
    }
   ],
   "source": [
    "len(dp_len1)"
   ]
  },
  {
   "cell_type": "code",
   "execution_count": 1638,
   "id": "75b0015b-909f-44f1-bd87-c79eb2f84e1b",
   "metadata": {},
   "outputs": [],
   "source": [
    "ofashion31_clr_temp = ofashion31_clr[~ofashion31_clr['path'].isin(dp_len1['path'])]"
   ]
  },
  {
   "cell_type": "code",
   "execution_count": 1641,
   "id": "deafac6c-ac52-47e8-a43c-77ab0a8b5c5b",
   "metadata": {},
   "outputs": [
    {
     "data": {
      "text/plain": [
       "87217"
      ]
     },
     "execution_count": 1641,
     "metadata": {},
     "output_type": "execute_result"
    }
   ],
   "source": [
    "len(ofashion31_clr_temp)"
   ]
  },
  {
   "cell_type": "code",
   "execution_count": 1642,
   "id": "05997c05-88cb-41a0-b5e3-e5eeb1cb694f",
   "metadata": {},
   "outputs": [],
   "source": [
    "ofashion31_clr_temp.to_csv('/nas/chenyi/datasets_nas/openfashion/allfashion/openfashion31_clr_temp.csv', index=False)"
   ]
  },
  {
   "cell_type": "code",
   "execution_count": null,
   "id": "b9a98783-d0b2-4b8d-a81b-225a007a1358",
   "metadata": {},
   "outputs": [],
   "source": []
  },
  {
   "cell_type": "markdown",
   "id": "e158144a-2a76-4932-8763-bd68052b9a8f",
   "metadata": {
    "jp-MarkdownHeadingCollapsed": true,
    "tags": []
   },
   "source": [
    "##### 类别均衡"
   ]
  },
  {
   "cell_type": "code",
   "execution_count": 21,
   "id": "cd5eadc3-69c0-4a39-9d61-aec385da4b08",
   "metadata": {},
   "outputs": [
    {
     "data": {
      "text/plain": [
       "143623"
      ]
     },
     "execution_count": 21,
     "metadata": {},
     "output_type": "execute_result"
    }
   ],
   "source": [
    "len(hw_df)"
   ]
  },
  {
   "cell_type": "code",
   "execution_count": 22,
   "id": "e209ed25-7ca9-4b88-a481-9cb675c4523c",
   "metadata": {
    "tags": []
   },
   "outputs": [],
   "source": [
    "counter_hw = hw_df.value_counts('label43')"
   ]
  },
  {
   "cell_type": "code",
   "execution_count": 23,
   "id": "e4248acc-74f7-4372-8f23-3c6e19216177",
   "metadata": {},
   "outputs": [
    {
     "data": {
      "text/html": [
       "<div>\n",
       "<style scoped>\n",
       "    .dataframe tbody tr th:only-of-type {\n",
       "        vertical-align: middle;\n",
       "    }\n",
       "\n",
       "    .dataframe tbody tr th {\n",
       "        vertical-align: top;\n",
       "    }\n",
       "\n",
       "    .dataframe thead th {\n",
       "        text-align: right;\n",
       "    }\n",
       "</style>\n",
       "<table border=\"1\" class=\"dataframe\">\n",
       "  <thead>\n",
       "    <tr style=\"text-align: right;\">\n",
       "      <th></th>\n",
       "      <th>source</th>\n",
       "      <th>path</th>\n",
       "      <th>label2_eng</th>\n",
       "      <th>label1_chi</th>\n",
       "      <th>label43</th>\n",
       "      <th>label2_chi</th>\n",
       "      <th>xmin</th>\n",
       "      <th>ymin</th>\n",
       "      <th>xmax</th>\n",
       "      <th>ymax</th>\n",
       "      <th>height</th>\n",
       "      <th>width</th>\n",
       "      <th>fname</th>\n",
       "      <th>mode</th>\n",
       "      <th>len</th>\n",
       "    </tr>\n",
       "  </thead>\n",
       "  <tbody>\n",
       "    <tr>\n",
       "      <th>186400</th>\n",
       "      <td>haowei34k</td>\n",
       "      <td>/home/chenyi/workspace/dataset/data/haowei34k/...</td>\n",
       "      <td>Suits shoes</td>\n",
       "      <td>NaN</td>\n",
       "      <td>23</td>\n",
       "      <td>正装女鞋</td>\n",
       "      <td>0.453096</td>\n",
       "      <td>0.783125</td>\n",
       "      <td>33.0</td>\n",
       "      <td>85.0</td>\n",
       "      <td>800</td>\n",
       "      <td>533</td>\n",
       "      <td>20160425101358677</td>\n",
       "      <td>train</td>\n",
       "      <td>4</td>\n",
       "    </tr>\n",
       "    <tr>\n",
       "      <th>186401</th>\n",
       "      <td>haowei34k</td>\n",
       "      <td>/home/chenyi/workspace/dataset/data/haowei34k/...</td>\n",
       "      <td>Suits shoes</td>\n",
       "      <td>NaN</td>\n",
       "      <td>23</td>\n",
       "      <td>正装女鞋</td>\n",
       "      <td>0.526266</td>\n",
       "      <td>0.900000</td>\n",
       "      <td>49.0</td>\n",
       "      <td>96.0</td>\n",
       "      <td>800</td>\n",
       "      <td>533</td>\n",
       "      <td>20160425101358677</td>\n",
       "      <td>train</td>\n",
       "      <td>4</td>\n",
       "    </tr>\n",
       "  </tbody>\n",
       "</table>\n",
       "</div>"
      ],
      "text/plain": [
       "           source                                               path  \\\n",
       "186400  haowei34k  /home/chenyi/workspace/dataset/data/haowei34k/...   \n",
       "186401  haowei34k  /home/chenyi/workspace/dataset/data/haowei34k/...   \n",
       "\n",
       "         label2_eng label1_chi  label43 label2_chi      xmin      ymin  xmax  \\\n",
       "186400  Suits shoes        NaN       23       正装女鞋  0.453096  0.783125  33.0   \n",
       "186401  Suits shoes        NaN       23       正装女鞋  0.526266  0.900000  49.0   \n",
       "\n",
       "        ymax  height  width              fname   mode  len  \n",
       "186400  85.0     800    533  20160425101358677  train    4  \n",
       "186401  96.0     800    533  20160425101358677  train    4  "
      ]
     },
     "execution_count": 23,
     "metadata": {},
     "output_type": "execute_result"
    }
   ],
   "source": [
    "hw_df.head(2)"
   ]
  },
  {
   "cell_type": "code",
   "execution_count": 57,
   "id": "1b435992-32e3-4a44-8e42-4cf54123d617",
   "metadata": {},
   "outputs": [],
   "source": [
    "counter_index = counter_hw[(counter_hw.values<7000) & (counter_hw.values>500)].index.tolist()"
   ]
  },
  {
   "cell_type": "code",
   "execution_count": 58,
   "id": "c306638d-84d4-4669-a4ca-ef792e1bd49d",
   "metadata": {},
   "outputs": [],
   "source": [
    "hw_stay3000_df = hw_df[hw_df['label43'].isin(counter_index)]"
   ]
  },
  {
   "cell_type": "code",
   "execution_count": 59,
   "id": "34766c21-ea90-497c-8a34-2b4292f5a509",
   "metadata": {},
   "outputs": [],
   "source": [
    "hw_stay_df = hw_df[hw_df['path'].isin(hw_stay3000_df['path'])]"
   ]
  },
  {
   "cell_type": "code",
   "execution_count": 60,
   "id": "5049dfe7-2bb1-417f-b2a5-6fa87ad3836a",
   "metadata": {},
   "outputs": [
    {
     "data": {
      "text/plain": [
       "(51972, 124405, 28970, 33411)"
      ]
     },
     "execution_count": 60,
     "metadata": {},
     "output_type": "execute_result"
    }
   ],
   "source": [
    "len(hw_stay3000_df), len(hw_stay_df), len(hw_stay3000_df.drop_duplicates('path')), len(hw_df.drop_duplicates('path'))"
   ]
  },
  {
   "cell_type": "code",
   "execution_count": 61,
   "id": "2ac5f635-d564-4264-9eed-b4e9da5b9705",
   "metadata": {},
   "outputs": [],
   "source": [
    "counter_stay = hw_stay_df.value_counts('label43')"
   ]
  },
  {
   "cell_type": "code",
   "execution_count": 62,
   "id": "b37103c8-6fd1-40ff-9c7a-693190a9dc00",
   "metadata": {},
   "outputs": [
    {
     "data": {
      "text/plain": [
       "(label43\n",
       " 23    44481\n",
       " 35    20515\n",
       " 18     8833\n",
       " 15     7625\n",
       " 1      7225\n",
       " 21     6941\n",
       " 17     6875\n",
       " dtype: int64,\n",
       " 43)"
      ]
     },
     "execution_count": 62,
     "metadata": {},
     "output_type": "execute_result"
    }
   ],
   "source": [
    "counter_hw[(counter_hw.values>5000)], len(counter_hw)"
   ]
  },
  {
   "cell_type": "code",
   "execution_count": 63,
   "id": "41ff268d-0d9d-477e-a6a5-2b5ed53935a5",
   "metadata": {},
   "outputs": [
    {
     "data": {
      "text/plain": [
       "(label43\n",
       " 23    36639\n",
       " 35    17824\n",
       " 21     6941\n",
       " 17     6875\n",
       " 18     6842\n",
       " 15     5505\n",
       " 2      4035\n",
       " 24     3767\n",
       " 1      3748\n",
       " 30     3225\n",
       " dtype: int64,\n",
       " 43)"
      ]
     },
     "execution_count": 63,
     "metadata": {},
     "output_type": "execute_result"
    }
   ],
   "source": [
    "counter_stay[counter_stay.values>3000], len(counter_stay)"
   ]
  },
  {
   "cell_type": "code",
   "execution_count": 68,
   "id": "4d245c6c-40ff-4ed0-8888-2464921613cb",
   "metadata": {},
   "outputs": [
    {
     "data": {
      "text/plain": [
       "133"
      ]
     },
     "execution_count": 68,
     "metadata": {},
     "output_type": "execute_result"
    }
   ],
   "source": [
    "len(hw_stay_df[hw_stay_df['len']==1])"
   ]
  },
  {
   "cell_type": "code",
   "execution_count": 69,
   "id": "e745e85a-e358-42a5-852f-63996ad5f430",
   "metadata": {},
   "outputs": [
    {
     "data": {
      "text/plain": [
       "label43\n",
       "21    129\n",
       "10      3\n",
       "2       1\n",
       "dtype: int64"
      ]
     },
     "execution_count": 69,
     "metadata": {},
     "output_type": "execute_result"
    }
   ],
   "source": [
    "hw_stay_df[hw_stay_df['len']==1].value_counts('label43')"
   ]
  },
  {
   "cell_type": "code",
   "execution_count": 71,
   "id": "347558bc-2113-4a6f-8485-a829c5c396dc",
   "metadata": {},
   "outputs": [
    {
     "data": {
      "text/plain": [
       "['皮衣外套', 'Leather coat']"
      ]
     },
     "execution_count": 71,
     "metadata": {},
     "output_type": "execute_result"
    }
   ],
   "source": [
    "names[3]"
   ]
  },
  {
   "cell_type": "code",
   "execution_count": 44,
   "id": "e10d8677-bf9b-4ca2-895a-6da44916bbc8",
   "metadata": {},
   "outputs": [
    {
     "data": {
      "text/html": [
       "<div>\n",
       "<style scoped>\n",
       "    .dataframe tbody tr th:only-of-type {\n",
       "        vertical-align: middle;\n",
       "    }\n",
       "\n",
       "    .dataframe tbody tr th {\n",
       "        vertical-align: top;\n",
       "    }\n",
       "\n",
       "    .dataframe thead th {\n",
       "        text-align: right;\n",
       "    }\n",
       "</style>\n",
       "<table border=\"1\" class=\"dataframe\">\n",
       "  <thead>\n",
       "    <tr style=\"text-align: right;\">\n",
       "      <th></th>\n",
       "      <th>source</th>\n",
       "      <th>path</th>\n",
       "      <th>label2_eng</th>\n",
       "      <th>label1_chi</th>\n",
       "      <th>label43</th>\n",
       "      <th>label2_chi</th>\n",
       "      <th>xmin</th>\n",
       "      <th>ymin</th>\n",
       "      <th>xmax</th>\n",
       "      <th>ymax</th>\n",
       "      <th>height</th>\n",
       "      <th>width</th>\n",
       "      <th>fname</th>\n",
       "      <th>mode</th>\n",
       "      <th>len</th>\n",
       "    </tr>\n",
       "  </thead>\n",
       "  <tbody>\n",
       "    <tr>\n",
       "      <th>186404</th>\n",
       "      <td>haowei34k</td>\n",
       "      <td>/home/chenyi/workspace/dataset/data/haowei34k/...</td>\n",
       "      <td>Denim jacket</td>\n",
       "      <td>NaN</td>\n",
       "      <td>8</td>\n",
       "      <td>牛仔外套</td>\n",
       "      <td>0.596000</td>\n",
       "      <td>0.402924</td>\n",
       "      <td>298.0</td>\n",
       "      <td>459.0</td>\n",
       "      <td>1334</td>\n",
       "      <td>1000</td>\n",
       "      <td>20170818201332676</td>\n",
       "      <td>train</td>\n",
       "      <td>5</td>\n",
       "    </tr>\n",
       "    <tr>\n",
       "      <th>186405</th>\n",
       "      <td>haowei34k</td>\n",
       "      <td>/home/chenyi/workspace/dataset/data/haowei34k/...</td>\n",
       "      <td>Leggings</td>\n",
       "      <td>NaN</td>\n",
       "      <td>19</td>\n",
       "      <td>打底裤</td>\n",
       "      <td>0.624000</td>\n",
       "      <td>0.632684</td>\n",
       "      <td>246.0</td>\n",
       "      <td>460.0</td>\n",
       "      <td>1334</td>\n",
       "      <td>1000</td>\n",
       "      <td>20170818201332676</td>\n",
       "      <td>train</td>\n",
       "      <td>5</td>\n",
       "    </tr>\n",
       "    <tr>\n",
       "      <th>186406</th>\n",
       "      <td>haowei34k</td>\n",
       "      <td>/home/chenyi/workspace/dataset/data/haowei34k/...</td>\n",
       "      <td>Suits shoes</td>\n",
       "      <td>NaN</td>\n",
       "      <td>23</td>\n",
       "      <td>正装女鞋</td>\n",
       "      <td>0.723000</td>\n",
       "      <td>0.817091</td>\n",
       "      <td>82.0</td>\n",
       "      <td>166.0</td>\n",
       "      <td>1334</td>\n",
       "      <td>1000</td>\n",
       "      <td>20170818201332676</td>\n",
       "      <td>train</td>\n",
       "      <td>5</td>\n",
       "    </tr>\n",
       "    <tr>\n",
       "      <th>186407</th>\n",
       "      <td>haowei34k</td>\n",
       "      <td>/home/chenyi/workspace/dataset/data/haowei34k/...</td>\n",
       "      <td>Suits shoes</td>\n",
       "      <td>NaN</td>\n",
       "      <td>23</td>\n",
       "      <td>正装女鞋</td>\n",
       "      <td>0.589000</td>\n",
       "      <td>0.845952</td>\n",
       "      <td>102.0</td>\n",
       "      <td>175.0</td>\n",
       "      <td>1334</td>\n",
       "      <td>1000</td>\n",
       "      <td>20170818201332676</td>\n",
       "      <td>train</td>\n",
       "      <td>5</td>\n",
       "    </tr>\n",
       "    <tr>\n",
       "      <th>186408</th>\n",
       "      <td>haowei34k</td>\n",
       "      <td>/home/chenyi/workspace/dataset/data/haowei34k/...</td>\n",
       "      <td>Suit_xizhuang</td>\n",
       "      <td>NaN</td>\n",
       "      <td>0</td>\n",
       "      <td>小西装</td>\n",
       "      <td>0.520042</td>\n",
       "      <td>0.296160</td>\n",
       "      <td>171.0</td>\n",
       "      <td>173.0</td>\n",
       "      <td>677</td>\n",
       "      <td>474</td>\n",
       "      <td>20141231135447984</td>\n",
       "      <td>train</td>\n",
       "      <td>4</td>\n",
       "    </tr>\n",
       "    <tr>\n",
       "      <th>...</th>\n",
       "      <td>...</td>\n",
       "      <td>...</td>\n",
       "      <td>...</td>\n",
       "      <td>...</td>\n",
       "      <td>...</td>\n",
       "      <td>...</td>\n",
       "      <td>...</td>\n",
       "      <td>...</td>\n",
       "      <td>...</td>\n",
       "      <td>...</td>\n",
       "      <td>...</td>\n",
       "      <td>...</td>\n",
       "      <td>...</td>\n",
       "      <td>...</td>\n",
       "      <td>...</td>\n",
       "    </tr>\n",
       "    <tr>\n",
       "      <th>330013</th>\n",
       "      <td>haowei34k</td>\n",
       "      <td>/home/chenyi/workspace/dataset/data/haowei34k/...</td>\n",
       "      <td>bag</td>\n",
       "      <td>NaN</td>\n",
       "      <td>35</td>\n",
       "      <td>包</td>\n",
       "      <td>0.402579</td>\n",
       "      <td>0.529566</td>\n",
       "      <td>54.0</td>\n",
       "      <td>212.0</td>\n",
       "      <td>761</td>\n",
       "      <td>698</td>\n",
       "      <td>20170915135023401</td>\n",
       "      <td>train</td>\n",
       "      <td>5</td>\n",
       "    </tr>\n",
       "    <tr>\n",
       "      <th>330019</th>\n",
       "      <td>haowei34k</td>\n",
       "      <td>/home/chenyi/workspace/dataset/data/haowei34k/...</td>\n",
       "      <td>Suit_xizhuang</td>\n",
       "      <td>NaN</td>\n",
       "      <td>0</td>\n",
       "      <td>小西装</td>\n",
       "      <td>0.476364</td>\n",
       "      <td>0.355758</td>\n",
       "      <td>198.0</td>\n",
       "      <td>274.0</td>\n",
       "      <td>877</td>\n",
       "      <td>550</td>\n",
       "      <td>20150327124301904</td>\n",
       "      <td>train</td>\n",
       "      <td>4</td>\n",
       "    </tr>\n",
       "    <tr>\n",
       "      <th>330020</th>\n",
       "      <td>haowei34k</td>\n",
       "      <td>/home/chenyi/workspace/dataset/data/haowei34k/...</td>\n",
       "      <td>Suit pants</td>\n",
       "      <td>NaN</td>\n",
       "      <td>16</td>\n",
       "      <td>西装裤</td>\n",
       "      <td>0.517273</td>\n",
       "      <td>0.654504</td>\n",
       "      <td>207.0</td>\n",
       "      <td>360.0</td>\n",
       "      <td>877</td>\n",
       "      <td>550</td>\n",
       "      <td>20150327124301904</td>\n",
       "      <td>train</td>\n",
       "      <td>4</td>\n",
       "    </tr>\n",
       "    <tr>\n",
       "      <th>330021</th>\n",
       "      <td>haowei34k</td>\n",
       "      <td>/home/chenyi/workspace/dataset/data/haowei34k/...</td>\n",
       "      <td>Suits shoes</td>\n",
       "      <td>NaN</td>\n",
       "      <td>23</td>\n",
       "      <td>正装女鞋</td>\n",
       "      <td>0.515455</td>\n",
       "      <td>0.854048</td>\n",
       "      <td>37.0</td>\n",
       "      <td>98.0</td>\n",
       "      <td>877</td>\n",
       "      <td>550</td>\n",
       "      <td>20150327124301904</td>\n",
       "      <td>train</td>\n",
       "      <td>4</td>\n",
       "    </tr>\n",
       "    <tr>\n",
       "      <th>330022</th>\n",
       "      <td>haowei34k</td>\n",
       "      <td>/home/chenyi/workspace/dataset/data/haowei34k/...</td>\n",
       "      <td>Suits shoes</td>\n",
       "      <td>NaN</td>\n",
       "      <td>23</td>\n",
       "      <td>正装女鞋</td>\n",
       "      <td>0.680000</td>\n",
       "      <td>0.932155</td>\n",
       "      <td>40.0</td>\n",
       "      <td>111.0</td>\n",
       "      <td>877</td>\n",
       "      <td>550</td>\n",
       "      <td>20150327124301904</td>\n",
       "      <td>train</td>\n",
       "      <td>4</td>\n",
       "    </tr>\n",
       "  </tbody>\n",
       "</table>\n",
       "<p>107633 rows × 15 columns</p>\n",
       "</div>"
      ],
      "text/plain": [
       "           source                                               path  \\\n",
       "186404  haowei34k  /home/chenyi/workspace/dataset/data/haowei34k/...   \n",
       "186405  haowei34k  /home/chenyi/workspace/dataset/data/haowei34k/...   \n",
       "186406  haowei34k  /home/chenyi/workspace/dataset/data/haowei34k/...   \n",
       "186407  haowei34k  /home/chenyi/workspace/dataset/data/haowei34k/...   \n",
       "186408  haowei34k  /home/chenyi/workspace/dataset/data/haowei34k/...   \n",
       "...           ...                                                ...   \n",
       "330013  haowei34k  /home/chenyi/workspace/dataset/data/haowei34k/...   \n",
       "330019  haowei34k  /home/chenyi/workspace/dataset/data/haowei34k/...   \n",
       "330020  haowei34k  /home/chenyi/workspace/dataset/data/haowei34k/...   \n",
       "330021  haowei34k  /home/chenyi/workspace/dataset/data/haowei34k/...   \n",
       "330022  haowei34k  /home/chenyi/workspace/dataset/data/haowei34k/...   \n",
       "\n",
       "           label2_eng label1_chi  label43 label2_chi      xmin      ymin  \\\n",
       "186404   Denim jacket        NaN        8       牛仔外套  0.596000  0.402924   \n",
       "186405       Leggings        NaN       19        打底裤  0.624000  0.632684   \n",
       "186406    Suits shoes        NaN       23       正装女鞋  0.723000  0.817091   \n",
       "186407    Suits shoes        NaN       23       正装女鞋  0.589000  0.845952   \n",
       "186408  Suit_xizhuang        NaN        0        小西装  0.520042  0.296160   \n",
       "...               ...        ...      ...        ...       ...       ...   \n",
       "330013            bag        NaN       35          包  0.402579  0.529566   \n",
       "330019  Suit_xizhuang        NaN        0        小西装  0.476364  0.355758   \n",
       "330020     Suit pants        NaN       16        西装裤  0.517273  0.654504   \n",
       "330021    Suits shoes        NaN       23       正装女鞋  0.515455  0.854048   \n",
       "330022    Suits shoes        NaN       23       正装女鞋  0.680000  0.932155   \n",
       "\n",
       "         xmax   ymax  height  width              fname   mode  len  \n",
       "186404  298.0  459.0    1334   1000  20170818201332676  train    5  \n",
       "186405  246.0  460.0    1334   1000  20170818201332676  train    5  \n",
       "186406   82.0  166.0    1334   1000  20170818201332676  train    5  \n",
       "186407  102.0  175.0    1334   1000  20170818201332676  train    5  \n",
       "186408  171.0  173.0     677    474  20141231135447984  train    4  \n",
       "...       ...    ...     ...    ...                ...    ...  ...  \n",
       "330013   54.0  212.0     761    698  20170915135023401  train    5  \n",
       "330019  198.0  274.0     877    550  20150327124301904  train    4  \n",
       "330020  207.0  360.0     877    550  20150327124301904  train    4  \n",
       "330021   37.0   98.0     877    550  20150327124301904  train    4  \n",
       "330022   40.0  111.0     877    550  20150327124301904  train    4  \n",
       "\n",
       "[107633 rows x 15 columns]"
      ]
     },
     "execution_count": 44,
     "metadata": {},
     "output_type": "execute_result"
    }
   ],
   "source": [
    "hw_stay_df"
   ]
  },
  {
   "cell_type": "code",
   "execution_count": 185,
   "id": "c89a6748-5d53-4778-960f-31156e23b51e",
   "metadata": {},
   "outputs": [
    {
     "data": {
      "text/plain": [
       "(35, 35)"
      ]
     },
     "execution_count": 185,
     "metadata": {},
     "output_type": "execute_result"
    }
   ],
   "source": [
    "len(counter_hw[(counter_hw.values>300)].axes[0]), len(counter_stay[(counter_stay.values>300)].axes[0])"
   ]
  },
  {
   "cell_type": "code",
   "execution_count": null,
   "id": "72261003-1a43-40ab-8962-8381946d30e2",
   "metadata": {},
   "outputs": [],
   "source": []
  },
  {
   "cell_type": "code",
   "execution_count": null,
   "id": "9987cfe6-1165-4962-9bee-7651a16631e9",
   "metadata": {},
   "outputs": [],
   "source": [
    "\n",
    "of_cls_df = ofashion43[ofashion43['label43']>0]"
   ]
  },
  {
   "cell_type": "markdown",
   "id": "fa260f95-025a-4fbf-b3d6-826eccc8a8bb",
   "metadata": {
    "jp-MarkdownHeadingCollapsed": true,
    "tags": []
   },
   "source": [
    "### Display"
   ]
  },
  {
   "cell_type": "code",
   "execution_count": null,
   "id": "72c10c35-3ab5-41fd-a4b9-c3efc148135b",
   "metadata": {},
   "outputs": [],
   "source": [
    "hw_df = ofashion43[ofashion43['source']=='haowei34k']"
   ]
  },
  {
   "cell_type": "code",
   "execution_count": null,
   "id": "14567420-7d30-4025-afd1-b4885c7e6d25",
   "metadata": {},
   "outputs": [],
   "source": [
    "hw_df.describe()"
   ]
  },
  {
   "cell_type": "code",
   "execution_count": null,
   "id": "c2a4554b-e5fc-41eb-a07a-86ccbcb6ccdc",
   "metadata": {},
   "outputs": [],
   "source": [
    "df = df[df['source']=='Fashionpedia']"
   ]
  },
  {
   "cell_type": "code",
   "execution_count": null,
   "id": "fe4ec9f5-a378-4cab-835d-116431ffa75a",
   "metadata": {},
   "outputs": [],
   "source": [
    "def bbox_coco2voc(bbox):\n",
    "    # bbox[0] = bbox[0] - bbox[2]/2\n",
    "    # bbox[1] = bbox[1] - bbox[3]/2\n",
    "    bbox[2] = bbox[0] + bbox[2]\n",
    "    bbox[3] = bbox[1] + bbox[3]\n",
    "    return bbox"
   ]
  },
  {
   "cell_type": "code",
   "execution_count": null,
   "id": "09fafeee-4374-475a-a498-615cbfc160b9",
   "metadata": {},
   "outputs": [],
   "source": [
    "p = df.iloc[300,1]"
   ]
  },
  {
   "cell_type": "code",
   "execution_count": null,
   "id": "7e50761c-0c23-4e40-8d4d-8fa3e5ca6447",
   "metadata": {},
   "outputs": [],
   "source": [
    "df.head(3)"
   ]
  },
  {
   "cell_type": "code",
   "execution_count": null,
   "id": "940b6482-116e-45af-8cca-cd48ff31722c",
   "metadata": {},
   "outputs": [],
   "source": [
    "x"
   ]
  },
  {
   "cell_type": "code",
   "execution_count": null,
   "id": "1f100440-ed7a-4d95-83c2-a362789d39cd",
   "metadata": {},
   "outputs": [],
   "source": [
    "bboxes = []\n",
    "x = df[df['path']==p]\n",
    "for ind, row in x.iterrows():\n",
    "    bbox = row.loc[['label_2', 'x_1','y_1', 'x_2', 'y_2']].values.tolist()\n",
    "    # bbox[1:] = bbox_coco2voc(bbox[1:])\n",
    "    # bbox[0] = row['label2_eng']\n",
    "    bboxes.append(bbox)"
   ]
  },
  {
   "cell_type": "code",
   "execution_count": null,
   "id": "4dee1519-81ac-4cdd-870b-7d28518f08eb",
   "metadata": {},
   "outputs": [],
   "source": [
    "# bboxes = []\n",
    "# x = df[df['path']==p]\n",
    "# for ind, row in x.iterrows():\n",
    "#     bbox = row.loc[['label43', 'xmin','ymin', 'xmax', 'ymax']].values.tolist()\n",
    "#     bbox[1:] = bbox_coco2voc(bbox[1:])\n",
    "#     bbox[0] = row['label2_eng']\n",
    "#     bboxes.append(bbox)"
   ]
  },
  {
   "cell_type": "code",
   "execution_count": null,
   "id": "33880fe8-052a-4217-8229-64a14973b8f5",
   "metadata": {},
   "outputs": [],
   "source": [
    "img_np = cv2.imread(str(p))\n",
    "img_np = cv2.cvtColor(img_np, cv2.COLOR_BGR2RGB)\n",
    "h = img_np.shape[0]\n",
    "w = img_np.shape[1]\n",
    "for bx in bboxes:\n",
    "    bx[1:] = bbox_coco2voc(bx[1:])\n",
    "    draw_bbox(img_np, bx)"
   ]
  },
  {
   "cell_type": "code",
   "execution_count": null,
   "id": "c03b987d-b1d8-4df0-aa25-c9f192f54d1a",
   "metadata": {},
   "outputs": [],
   "source": [
    "bboxes"
   ]
  },
  {
   "cell_type": "code",
   "execution_count": null,
   "id": "5320312b-9b3d-4a55-99f5-8baf91ec3e18",
   "metadata": {},
   "outputs": [],
   "source": [
    "Image.fromarray(img_np)"
   ]
  },
  {
   "cell_type": "code",
   "execution_count": null,
   "id": "5b869bfc-c5f1-4063-8b03-b50c13648016",
   "metadata": {},
   "outputs": [],
   "source": []
  },
  {
   "cell_type": "markdown",
   "id": "209234cd-e91f-4c7f-8221-e4d9339a938f",
   "metadata": {
    "jp-MarkdownHeadingCollapsed": true,
    "tags": []
   },
   "source": [
    "#### Pandas画图"
   ]
  },
  {
   "cell_type": "code",
   "execution_count": null,
   "id": "b735cbcf-3018-45b8-b48c-4acd77bb79f4",
   "metadata": {},
   "outputs": [],
   "source": [
    "ofashion43_small.head()"
   ]
  },
  {
   "cell_type": "code",
   "execution_count": null,
   "id": "d1078e35-eb71-4b96-934b-b75b0f5697d7",
   "metadata": {},
   "outputs": [],
   "source": [
    "df = ofashion43_small\n",
    "i = 1100"
   ]
  },
  {
   "cell_type": "code",
   "execution_count": null,
   "id": "cc437984-9ea5-4e51-ae54-0b1f67927905",
   "metadata": {},
   "outputs": [],
   "source": [
    "ind = df.index[i]\n",
    "p = df.loc[ind]['path']\n",
    "bboxes = [df.loc[ind][['label43', 'xmin','ymin', 'xmax', 'ymax']].values.tolist()]\n",
    "id_ = df.loc[ind, 'label2_eng']\n",
    "df.loc[ind, 'source']"
   ]
  },
  {
   "cell_type": "code",
   "execution_count": null,
   "id": "7cbcf577-66e2-40aa-a9f8-e9573580fc6c",
   "metadata": {},
   "outputs": [],
   "source": [
    "img_np = cv2.imread(str(p))\n",
    "img_np = cv2.cvtColor(img_np, cv2.COLOR_BGR2RGB)\n",
    "h = img_np.shape[0]\n",
    "w = img_np.shape[1]\n",
    "for bx in bboxes:\n",
    "    bx[0] = id_\n",
    "    bx[1:] = bbox_coco2voc(bx[1:])\n",
    "    draw_bbox(img_np, bx)"
   ]
  },
  {
   "cell_type": "code",
   "execution_count": null,
   "id": "2374e89e-71de-45b5-88d0-5f86d2199bda",
   "metadata": {},
   "outputs": [],
   "source": [
    "Image.fromarray(img_np)"
   ]
  },
  {
   "cell_type": "code",
   "execution_count": null,
   "id": "4ae4fdb2-19ed-4164-bac3-2668dff13ca3",
   "metadata": {
    "tags": []
   },
   "outputs": [],
   "source": []
  },
  {
   "cell_type": "code",
   "execution_count": null,
   "id": "f27699e3-247d-4aef-b28c-1d04af22782f",
   "metadata": {},
   "outputs": [],
   "source": []
  },
  {
   "cell_type": "markdown",
   "id": "23ce35fb-226c-4852-89ef-d2467c2dd033",
   "metadata": {
    "tags": []
   },
   "source": [
    "### Display HTML"
   ]
  },
  {
   "cell_type": "code",
   "execution_count": 1733,
   "id": "20d095ed-2ea8-4cfa-bf29-472f638244dd",
   "metadata": {},
   "outputs": [
    {
     "data": {
      "text/html": [
       "<div>\n",
       "<style scoped>\n",
       "    .dataframe tbody tr th:only-of-type {\n",
       "        vertical-align: middle;\n",
       "    }\n",
       "\n",
       "    .dataframe tbody tr th {\n",
       "        vertical-align: top;\n",
       "    }\n",
       "\n",
       "    .dataframe thead th {\n",
       "        text-align: right;\n",
       "    }\n",
       "</style>\n",
       "<table border=\"1\" class=\"dataframe\">\n",
       "  <thead>\n",
       "    <tr style=\"text-align: right;\">\n",
       "      <th></th>\n",
       "      <th>label43</th>\n",
       "      <th>xmin</th>\n",
       "      <th>ymin</th>\n",
       "      <th>xmax</th>\n",
       "      <th>ymax</th>\n",
       "      <th>height</th>\n",
       "      <th>width</th>\n",
       "      <th>len</th>\n",
       "      <th>area</th>\n",
       "      <th>label8</th>\n",
       "    </tr>\n",
       "  </thead>\n",
       "  <tbody>\n",
       "    <tr>\n",
       "      <th>count</th>\n",
       "      <td>28611.000000</td>\n",
       "      <td>28611.000000</td>\n",
       "      <td>28611.000000</td>\n",
       "      <td>28611.000000</td>\n",
       "      <td>28611.000000</td>\n",
       "      <td>28611.000000</td>\n",
       "      <td>28611.000000</td>\n",
       "      <td>28611.000000</td>\n",
       "      <td>2.861100e+04</td>\n",
       "      <td>28611.0</td>\n",
       "    </tr>\n",
       "    <tr>\n",
       "      <th>mean</th>\n",
       "      <td>6.872497</td>\n",
       "      <td>0.500976</td>\n",
       "      <td>0.374835</td>\n",
       "      <td>232.930586</td>\n",
       "      <td>297.690189</td>\n",
       "      <td>954.679704</td>\n",
       "      <td>653.292405</td>\n",
       "      <td>4.486491</td>\n",
       "      <td>8.894409e+04</td>\n",
       "      <td>4.0</td>\n",
       "    </tr>\n",
       "    <tr>\n",
       "      <th>std</th>\n",
       "      <td>10.375749</td>\n",
       "      <td>0.051588</td>\n",
       "      <td>0.073231</td>\n",
       "      <td>130.323983</td>\n",
       "      <td>174.173215</td>\n",
       "      <td>519.898499</td>\n",
       "      <td>356.939787</td>\n",
       "      <td>0.773367</td>\n",
       "      <td>1.541633e+05</td>\n",
       "      <td>0.0</td>\n",
       "    </tr>\n",
       "    <tr>\n",
       "      <th>min</th>\n",
       "      <td>0.000000</td>\n",
       "      <td>0.048864</td>\n",
       "      <td>0.101266</td>\n",
       "      <td>22.000000</td>\n",
       "      <td>39.000000</td>\n",
       "      <td>214.000000</td>\n",
       "      <td>173.000000</td>\n",
       "      <td>1.000000</td>\n",
       "      <td>1.134000e+03</td>\n",
       "      <td>4.0</td>\n",
       "    </tr>\n",
       "    <tr>\n",
       "      <th>25%</th>\n",
       "      <td>1.000000</td>\n",
       "      <td>0.476049</td>\n",
       "      <td>0.327313</td>\n",
       "      <td>157.000000</td>\n",
       "      <td>198.000000</td>\n",
       "      <td>654.000000</td>\n",
       "      <td>450.000000</td>\n",
       "      <td>4.000000</td>\n",
       "      <td>3.198000e+04</td>\n",
       "      <td>4.0</td>\n",
       "    </tr>\n",
       "    <tr>\n",
       "      <th>50%</th>\n",
       "      <td>3.000000</td>\n",
       "      <td>0.500000</td>\n",
       "      <td>0.361111</td>\n",
       "      <td>201.000000</td>\n",
       "      <td>257.000000</td>\n",
       "      <td>855.000000</td>\n",
       "      <td>599.000000</td>\n",
       "      <td>5.000000</td>\n",
       "      <td>5.170000e+04</td>\n",
       "      <td>4.0</td>\n",
       "    </tr>\n",
       "    <tr>\n",
       "      <th>75%</th>\n",
       "      <td>8.000000</td>\n",
       "      <td>0.524620</td>\n",
       "      <td>0.407076</td>\n",
       "      <td>260.000000</td>\n",
       "      <td>336.000000</td>\n",
       "      <td>1000.000000</td>\n",
       "      <td>748.000000</td>\n",
       "      <td>5.000000</td>\n",
       "      <td>8.472400e+04</td>\n",
       "      <td>4.0</td>\n",
       "    </tr>\n",
       "    <tr>\n",
       "      <th>max</th>\n",
       "      <td>42.000000</td>\n",
       "      <td>0.970000</td>\n",
       "      <td>0.952604</td>\n",
       "      <td>2038.000000</td>\n",
       "      <td>3310.000000</td>\n",
       "      <td>6286.000000</td>\n",
       "      <td>4195.000000</td>\n",
       "      <td>21.000000</td>\n",
       "      <td>6.745780e+06</td>\n",
       "      <td>4.0</td>\n",
       "    </tr>\n",
       "  </tbody>\n",
       "</table>\n",
       "</div>"
      ],
      "text/plain": [
       "            label43          xmin          ymin          xmax          ymax  \\\n",
       "count  28611.000000  28611.000000  28611.000000  28611.000000  28611.000000   \n",
       "mean       6.872497      0.500976      0.374835    232.930586    297.690189   \n",
       "std       10.375749      0.051588      0.073231    130.323983    174.173215   \n",
       "min        0.000000      0.048864      0.101266     22.000000     39.000000   \n",
       "25%        1.000000      0.476049      0.327313    157.000000    198.000000   \n",
       "50%        3.000000      0.500000      0.361111    201.000000    257.000000   \n",
       "75%        8.000000      0.524620      0.407076    260.000000    336.000000   \n",
       "max       42.000000      0.970000      0.952604   2038.000000   3310.000000   \n",
       "\n",
       "             height         width           len          area   label8  \n",
       "count  28611.000000  28611.000000  28611.000000  2.861100e+04  28611.0  \n",
       "mean     954.679704    653.292405      4.486491  8.894409e+04      4.0  \n",
       "std      519.898499    356.939787      0.773367  1.541633e+05      0.0  \n",
       "min      214.000000    173.000000      1.000000  1.134000e+03      4.0  \n",
       "25%      654.000000    450.000000      4.000000  3.198000e+04      4.0  \n",
       "50%      855.000000    599.000000      5.000000  5.170000e+04      4.0  \n",
       "75%     1000.000000    748.000000      5.000000  8.472400e+04      4.0  \n",
       "max     6286.000000   4195.000000     21.000000  6.745780e+06      4.0  "
      ]
     },
     "execution_count": 1733,
     "metadata": {},
     "output_type": "execute_result"
    }
   ],
   "source": [
    "catg_df.describe()"
   ]
  },
  {
   "cell_type": "code",
   "execution_count": 323,
   "id": "6a3d8370-e2fd-4e40-81b1-591f051e5778",
   "metadata": {},
   "outputs": [],
   "source": [
    "# thred = 0.05\n",
    "# dis_df = ofashion43[((catg_df['xmin']<thred) | (catg_df['ymin']<thred) | \n",
    "#                      (catg_df['xmin']>1-thred) | (catg_df['ymin']>1-thred)) & \n",
    "#                     (catg_df['len']==2)]"
   ]
  },
  {
   "cell_type": "code",
   "execution_count": 324,
   "id": "e52880db-8c96-4205-910b-6fc88f2fc985",
   "metadata": {
    "tags": []
   },
   "outputs": [],
   "source": [
    "# dis_df = catg_df[(hwcatg_df_df['height']<250) | (catg_df['width']<180)]\n",
    "# len(dis_df)"
   ]
  },
  {
   "cell_type": "code",
   "execution_count": 370,
   "id": "04bb57d7-4af3-4836-a189-790c3ceb3d0a",
   "metadata": {},
   "outputs": [
    {
     "data": {
      "text/plain": [
       "{'其他': -1,\n",
       " '腰带': 0,\n",
       " '帽子': 1,\n",
       " '鞋子': 2,\n",
       " '包': 3,\n",
       " '上装': 4,\n",
       " '裤子': 5,\n",
       " '裙子': 6,\n",
       " '连体装': 7}"
      ]
     },
     "execution_count": 370,
     "metadata": {},
     "output_type": "execute_result"
    }
   ],
   "source": []
  },
  {
   "cell_type": "code",
   "execution_count": 635,
   "id": "7f1736c5-6b89-4ca8-9378-de17246c1e2c",
   "metadata": {},
   "outputs": [
    {
     "data": {
      "text/plain": [
       "label8\n",
       "4    639\n",
       "5    443\n",
       "7    310\n",
       "2    220\n",
       "6    140\n",
       "3     54\n",
       "dtype: int64"
      ]
     },
     "execution_count": 635,
     "metadata": {},
     "output_type": "execute_result"
    }
   ],
   "source": [
    "hw_df[(hw_df['len']==2)].value_counts('label8')"
   ]
  },
  {
   "cell_type": "code",
   "execution_count": 451,
   "id": "091d7aa3-229f-40cb-9964-8fd4d00555bf",
   "metadata": {},
   "outputs": [
    {
     "data": {
      "text/html": [
       "<div>\n",
       "<style scoped>\n",
       "    .dataframe tbody tr th:only-of-type {\n",
       "        vertical-align: middle;\n",
       "    }\n",
       "\n",
       "    .dataframe tbody tr th {\n",
       "        vertical-align: top;\n",
       "    }\n",
       "\n",
       "    .dataframe thead th {\n",
       "        text-align: right;\n",
       "    }\n",
       "</style>\n",
       "<table border=\"1\" class=\"dataframe\">\n",
       "  <thead>\n",
       "    <tr style=\"text-align: right;\">\n",
       "      <th></th>\n",
       "      <th>label43</th>\n",
       "      <th>xmin</th>\n",
       "      <th>ymin</th>\n",
       "      <th>xmax</th>\n",
       "      <th>ymax</th>\n",
       "      <th>height</th>\n",
       "      <th>width</th>\n",
       "      <th>len</th>\n",
       "      <th>area</th>\n",
       "      <th>label8</th>\n",
       "    </tr>\n",
       "  </thead>\n",
       "  <tbody>\n",
       "    <tr>\n",
       "      <th>count</th>\n",
       "      <td>6941.0</td>\n",
       "      <td>6941.000000</td>\n",
       "      <td>6941.000000</td>\n",
       "      <td>6941.000000</td>\n",
       "      <td>6941.000000</td>\n",
       "      <td>6941.000000</td>\n",
       "      <td>6941.000000</td>\n",
       "      <td>6941.000000</td>\n",
       "      <td>6.941000e+03</td>\n",
       "      <td>6941.0</td>\n",
       "    </tr>\n",
       "    <tr>\n",
       "      <th>mean</th>\n",
       "      <td>21.0</td>\n",
       "      <td>0.500073</td>\n",
       "      <td>0.455071</td>\n",
       "      <td>214.504538</td>\n",
       "      <td>428.811987</td>\n",
       "      <td>906.825385</td>\n",
       "      <td>617.114681</td>\n",
       "      <td>3.740527</td>\n",
       "      <td>1.163750e+05</td>\n",
       "      <td>7.0</td>\n",
       "    </tr>\n",
       "    <tr>\n",
       "      <th>std</th>\n",
       "      <td>0.0</td>\n",
       "      <td>0.051235</td>\n",
       "      <td>0.065743</td>\n",
       "      <td>117.397304</td>\n",
       "      <td>241.530862</td>\n",
       "      <td>454.094011</td>\n",
       "      <td>306.090401</td>\n",
       "      <td>0.908627</td>\n",
       "      <td>1.953199e+05</td>\n",
       "      <td>0.0</td>\n",
       "    </tr>\n",
       "    <tr>\n",
       "      <th>min</th>\n",
       "      <td>21.0</td>\n",
       "      <td>0.061856</td>\n",
       "      <td>0.186875</td>\n",
       "      <td>22.000000</td>\n",
       "      <td>40.000000</td>\n",
       "      <td>267.000000</td>\n",
       "      <td>187.000000</td>\n",
       "      <td>1.000000</td>\n",
       "      <td>8.800000e+02</td>\n",
       "      <td>7.0</td>\n",
       "    </tr>\n",
       "    <tr>\n",
       "      <th>25%</th>\n",
       "      <td>21.0</td>\n",
       "      <td>0.476589</td>\n",
       "      <td>0.406250</td>\n",
       "      <td>147.000000</td>\n",
       "      <td>282.000000</td>\n",
       "      <td>643.000000</td>\n",
       "      <td>448.000000</td>\n",
       "      <td>3.000000</td>\n",
       "      <td>4.288000e+04</td>\n",
       "      <td>7.0</td>\n",
       "    </tr>\n",
       "    <tr>\n",
       "      <th>50%</th>\n",
       "      <td>21.0</td>\n",
       "      <td>0.499375</td>\n",
       "      <td>0.442373</td>\n",
       "      <td>187.000000</td>\n",
       "      <td>376.000000</td>\n",
       "      <td>827.000000</td>\n",
       "      <td>585.000000</td>\n",
       "      <td>4.000000</td>\n",
       "      <td>7.079400e+04</td>\n",
       "      <td>7.0</td>\n",
       "    </tr>\n",
       "    <tr>\n",
       "      <th>75%</th>\n",
       "      <td>21.0</td>\n",
       "      <td>0.523214</td>\n",
       "      <td>0.493448</td>\n",
       "      <td>242.000000</td>\n",
       "      <td>490.000000</td>\n",
       "      <td>960.000000</td>\n",
       "      <td>650.000000</td>\n",
       "      <td>4.000000</td>\n",
       "      <td>1.148160e+05</td>\n",
       "      <td>7.0</td>\n",
       "    </tr>\n",
       "    <tr>\n",
       "      <th>max</th>\n",
       "      <td>21.0</td>\n",
       "      <td>0.930781</td>\n",
       "      <td>0.935897</td>\n",
       "      <td>1525.000000</td>\n",
       "      <td>3026.000000</td>\n",
       "      <td>6286.000000</td>\n",
       "      <td>4195.000000</td>\n",
       "      <td>16.000000</td>\n",
       "      <td>4.614650e+06</td>\n",
       "      <td>7.0</td>\n",
       "    </tr>\n",
       "  </tbody>\n",
       "</table>\n",
       "</div>"
      ],
      "text/plain": [
       "       label43         xmin         ymin         xmax         ymax  \\\n",
       "count   6941.0  6941.000000  6941.000000  6941.000000  6941.000000   \n",
       "mean      21.0     0.500073     0.455071   214.504538   428.811987   \n",
       "std        0.0     0.051235     0.065743   117.397304   241.530862   \n",
       "min       21.0     0.061856     0.186875    22.000000    40.000000   \n",
       "25%       21.0     0.476589     0.406250   147.000000   282.000000   \n",
       "50%       21.0     0.499375     0.442373   187.000000   376.000000   \n",
       "75%       21.0     0.523214     0.493448   242.000000   490.000000   \n",
       "max       21.0     0.930781     0.935897  1525.000000  3026.000000   \n",
       "\n",
       "            height        width          len          area  label8  \n",
       "count  6941.000000  6941.000000  6941.000000  6.941000e+03  6941.0  \n",
       "mean    906.825385   617.114681     3.740527  1.163750e+05     7.0  \n",
       "std     454.094011   306.090401     0.908627  1.953199e+05     0.0  \n",
       "min     267.000000   187.000000     1.000000  8.800000e+02     7.0  \n",
       "25%     643.000000   448.000000     3.000000  4.288000e+04     7.0  \n",
       "50%     827.000000   585.000000     4.000000  7.079400e+04     7.0  \n",
       "75%     960.000000   650.000000     4.000000  1.148160e+05     7.0  \n",
       "max    6286.000000  4195.000000    16.000000  4.614650e+06     7.0  "
      ]
     },
     "execution_count": 451,
     "metadata": {},
     "output_type": "execute_result"
    }
   ],
   "source": [
    "hw_df[hw_df['label43']==21].describe()"
   ]
  },
  {
   "cell_type": "code",
   "execution_count": 951,
   "id": "495b8c6f-bee2-41c8-ac39-d097308fc5e8",
   "metadata": {},
   "outputs": [
    {
     "data": {
      "text/html": [
       "<div>\n",
       "<style scoped>\n",
       "    .dataframe tbody tr th:only-of-type {\n",
       "        vertical-align: middle;\n",
       "    }\n",
       "\n",
       "    .dataframe tbody tr th {\n",
       "        vertical-align: top;\n",
       "    }\n",
       "\n",
       "    .dataframe thead th {\n",
       "        text-align: right;\n",
       "    }\n",
       "</style>\n",
       "<table border=\"1\" class=\"dataframe\">\n",
       "  <thead>\n",
       "    <tr style=\"text-align: right;\">\n",
       "      <th></th>\n",
       "      <th>source</th>\n",
       "      <th>path</th>\n",
       "      <th>label2_eng</th>\n",
       "      <th>label1_chi</th>\n",
       "      <th>label43</th>\n",
       "      <th>label2_chi</th>\n",
       "      <th>xmin</th>\n",
       "      <th>ymin</th>\n",
       "      <th>xmax</th>\n",
       "      <th>ymax</th>\n",
       "      <th>height</th>\n",
       "      <th>width</th>\n",
       "      <th>fname</th>\n",
       "      <th>mode</th>\n",
       "      <th>len</th>\n",
       "      <th>area</th>\n",
       "      <th>label8</th>\n",
       "    </tr>\n",
       "  </thead>\n",
       "  <tbody>\n",
       "    <tr>\n",
       "      <th>186400</th>\n",
       "      <td>haowei34k</td>\n",
       "      <td>/home/chenyi/workspace/dataset/data/haowei34k/...</td>\n",
       "      <td>Suits shoes</td>\n",
       "      <td>NaN</td>\n",
       "      <td>23</td>\n",
       "      <td>正装女鞋</td>\n",
       "      <td>0.453096</td>\n",
       "      <td>0.783125</td>\n",
       "      <td>33.0</td>\n",
       "      <td>85.0</td>\n",
       "      <td>800</td>\n",
       "      <td>533</td>\n",
       "      <td>20160425101358677</td>\n",
       "      <td>train</td>\n",
       "      <td>4</td>\n",
       "      <td>2805.0</td>\n",
       "      <td>2</td>\n",
       "    </tr>\n",
       "    <tr>\n",
       "      <th>186401</th>\n",
       "      <td>haowei34k</td>\n",
       "      <td>/home/chenyi/workspace/dataset/data/haowei34k/...</td>\n",
       "      <td>Suits shoes</td>\n",
       "      <td>NaN</td>\n",
       "      <td>23</td>\n",
       "      <td>正装女鞋</td>\n",
       "      <td>0.526266</td>\n",
       "      <td>0.900000</td>\n",
       "      <td>49.0</td>\n",
       "      <td>96.0</td>\n",
       "      <td>800</td>\n",
       "      <td>533</td>\n",
       "      <td>20160425101358677</td>\n",
       "      <td>train</td>\n",
       "      <td>4</td>\n",
       "      <td>4704.0</td>\n",
       "      <td>2</td>\n",
       "    </tr>\n",
       "  </tbody>\n",
       "</table>\n",
       "</div>"
      ],
      "text/plain": [
       "           source                                               path  \\\n",
       "186400  haowei34k  /home/chenyi/workspace/dataset/data/haowei34k/...   \n",
       "186401  haowei34k  /home/chenyi/workspace/dataset/data/haowei34k/...   \n",
       "\n",
       "         label2_eng label1_chi  label43 label2_chi      xmin      ymin  xmax  \\\n",
       "186400  Suits shoes        NaN       23       正装女鞋  0.453096  0.783125  33.0   \n",
       "186401  Suits shoes        NaN       23       正装女鞋  0.526266  0.900000  49.0   \n",
       "\n",
       "        ymax  height  width              fname   mode  len    area  label8  \n",
       "186400  85.0     800    533  20160425101358677  train    4  2805.0       2  \n",
       "186401  96.0     800    533  20160425101358677  train    4  4704.0       2  "
      ]
     },
     "execution_count": 951,
     "metadata": {},
     "output_type": "execute_result"
    }
   ],
   "source": [
    "hw_df.head(2)"
   ]
  },
  {
   "cell_type": "code",
   "execution_count": 1103,
   "id": "2f3c0c95-6665-4e62-ad50-590d4b172981",
   "metadata": {},
   "outputs": [
    {
     "data": {
      "text/plain": [
       "{'其他': -1,\n",
       " '腰带': 0,\n",
       " '帽子': 1,\n",
       " '鞋子': 2,\n",
       " '包': 3,\n",
       " '上装': 4,\n",
       " '裤子': 5,\n",
       " '裙子': 6,\n",
       " '连体装': 7}"
      ]
     },
     "execution_count": 1103,
     "metadata": {},
     "output_type": "execute_result"
    }
   ],
   "source": [
    "label_1_map"
   ]
  },
  {
   "cell_type": "code",
   "execution_count": 1640,
   "id": "9c14f4f9-bdca-4c9d-b022-9cc120cc4bb3",
   "metadata": {},
   "outputs": [
    {
     "data": {
      "text/plain": [
       "25823"
      ]
     },
     "execution_count": 1640,
     "metadata": {},
     "output_type": "execute_result"
    }
   ],
   "source": [
    "hw_up_df = hw_df[hw_df['path'].isin(hw_df[hw_df['label43']==21]['path'].values.tolist())]\n",
    "len(hw_up_df)"
   ]
  },
  {
   "cell_type": "code",
   "execution_count": 1641,
   "id": "3da243c6-e7c2-45e5-a6ef-f97544c2a6a5",
   "metadata": {},
   "outputs": [
    {
     "data": {
      "text/html": [
       "<div>\n",
       "<style scoped>\n",
       "    .dataframe tbody tr th:only-of-type {\n",
       "        vertical-align: middle;\n",
       "    }\n",
       "\n",
       "    .dataframe tbody tr th {\n",
       "        vertical-align: top;\n",
       "    }\n",
       "\n",
       "    .dataframe thead th {\n",
       "        text-align: right;\n",
       "    }\n",
       "</style>\n",
       "<table border=\"1\" class=\"dataframe\">\n",
       "  <thead>\n",
       "    <tr style=\"text-align: right;\">\n",
       "      <th></th>\n",
       "      <th>source</th>\n",
       "      <th>path</th>\n",
       "      <th>label2_eng</th>\n",
       "      <th>label1_chi</th>\n",
       "      <th>label43</th>\n",
       "      <th>label2_chi</th>\n",
       "      <th>xmin</th>\n",
       "      <th>ymin</th>\n",
       "      <th>xmax</th>\n",
       "      <th>ymax</th>\n",
       "      <th>height</th>\n",
       "      <th>width</th>\n",
       "      <th>fname</th>\n",
       "      <th>mode</th>\n",
       "      <th>len</th>\n",
       "      <th>area</th>\n",
       "      <th>label8</th>\n",
       "    </tr>\n",
       "  </thead>\n",
       "  <tbody>\n",
       "    <tr>\n",
       "      <th>330463</th>\n",
       "      <td>haowei34k</td>\n",
       "      <td>/home/chenyi/workspace/dataset/data/haowei34k/...</td>\n",
       "      <td>Dress</td>\n",
       "      <td>NaN</td>\n",
       "      <td>21</td>\n",
       "      <td>连衣裙</td>\n",
       "      <td>0.453000</td>\n",
       "      <td>0.400000</td>\n",
       "      <td>173.0</td>\n",
       "      <td>314.0</td>\n",
       "      <td>750</td>\n",
       "      <td>500</td>\n",
       "      <td>20160422091354684</td>\n",
       "      <td>train</td>\n",
       "      <td>2</td>\n",
       "      <td>54322.0</td>\n",
       "      <td>7</td>\n",
       "    </tr>\n",
       "    <tr>\n",
       "      <th>330465</th>\n",
       "      <td>haowei34k</td>\n",
       "      <td>/home/chenyi/workspace/dataset/data/haowei34k/...</td>\n",
       "      <td>Dress</td>\n",
       "      <td>NaN</td>\n",
       "      <td>21</td>\n",
       "      <td>连衣裙</td>\n",
       "      <td>0.426000</td>\n",
       "      <td>0.437333</td>\n",
       "      <td>178.0</td>\n",
       "      <td>348.0</td>\n",
       "      <td>750</td>\n",
       "      <td>500</td>\n",
       "      <td>20150105131432475</td>\n",
       "      <td>train</td>\n",
       "      <td>4</td>\n",
       "      <td>61944.0</td>\n",
       "      <td>7</td>\n",
       "    </tr>\n",
       "    <tr>\n",
       "      <th>330473</th>\n",
       "      <td>haowei34k</td>\n",
       "      <td>/home/chenyi/workspace/dataset/data/haowei34k/...</td>\n",
       "      <td>Dress</td>\n",
       "      <td>NaN</td>\n",
       "      <td>21</td>\n",
       "      <td>连衣裙</td>\n",
       "      <td>0.489000</td>\n",
       "      <td>0.418367</td>\n",
       "      <td>199.0</td>\n",
       "      <td>339.0</td>\n",
       "      <td>833</td>\n",
       "      <td>500</td>\n",
       "      <td>20141204120909109</td>\n",
       "      <td>train</td>\n",
       "      <td>4</td>\n",
       "      <td>67461.0</td>\n",
       "      <td>7</td>\n",
       "    </tr>\n",
       "    <tr>\n",
       "      <th>330492</th>\n",
       "      <td>haowei34k</td>\n",
       "      <td>/home/chenyi/workspace/dataset/data/haowei34k/...</td>\n",
       "      <td>Dress</td>\n",
       "      <td>NaN</td>\n",
       "      <td>21</td>\n",
       "      <td>连衣裙</td>\n",
       "      <td>0.524573</td>\n",
       "      <td>0.379808</td>\n",
       "      <td>131.0</td>\n",
       "      <td>208.0</td>\n",
       "      <td>624</td>\n",
       "      <td>468</td>\n",
       "      <td>20140511131830611</td>\n",
       "      <td>train</td>\n",
       "      <td>4</td>\n",
       "      <td>27248.0</td>\n",
       "      <td>7</td>\n",
       "    </tr>\n",
       "    <tr>\n",
       "      <th>330496</th>\n",
       "      <td>haowei34k</td>\n",
       "      <td>/home/chenyi/workspace/dataset/data/haowei34k/...</td>\n",
       "      <td>Dress</td>\n",
       "      <td>NaN</td>\n",
       "      <td>21</td>\n",
       "      <td>连衣裙</td>\n",
       "      <td>0.546667</td>\n",
       "      <td>0.471451</td>\n",
       "      <td>180.0</td>\n",
       "      <td>253.0</td>\n",
       "      <td>648</td>\n",
       "      <td>600</td>\n",
       "      <td>20160227120931236</td>\n",
       "      <td>train</td>\n",
       "      <td>3</td>\n",
       "      <td>45540.0</td>\n",
       "      <td>7</td>\n",
       "    </tr>\n",
       "  </tbody>\n",
       "</table>\n",
       "</div>"
      ],
      "text/plain": [
       "           source                                               path  \\\n",
       "330463  haowei34k  /home/chenyi/workspace/dataset/data/haowei34k/...   \n",
       "330465  haowei34k  /home/chenyi/workspace/dataset/data/haowei34k/...   \n",
       "330473  haowei34k  /home/chenyi/workspace/dataset/data/haowei34k/...   \n",
       "330492  haowei34k  /home/chenyi/workspace/dataset/data/haowei34k/...   \n",
       "330496  haowei34k  /home/chenyi/workspace/dataset/data/haowei34k/...   \n",
       "\n",
       "       label2_eng label1_chi  label43 label2_chi      xmin      ymin   xmax  \\\n",
       "330463      Dress        NaN       21        连衣裙  0.453000  0.400000  173.0   \n",
       "330465      Dress        NaN       21        连衣裙  0.426000  0.437333  178.0   \n",
       "330473      Dress        NaN       21        连衣裙  0.489000  0.418367  199.0   \n",
       "330492      Dress        NaN       21        连衣裙  0.524573  0.379808  131.0   \n",
       "330496      Dress        NaN       21        连衣裙  0.546667  0.471451  180.0   \n",
       "\n",
       "         ymax  height  width              fname   mode  len     area  label8  \n",
       "330463  314.0     750    500  20160422091354684  train    2  54322.0       7  \n",
       "330465  348.0     750    500  20150105131432475  train    4  61944.0       7  \n",
       "330473  339.0     833    500  20141204120909109  train    4  67461.0       7  \n",
       "330492  208.0     624    468  20140511131830611  train    4  27248.0       7  \n",
       "330496  253.0     648    600  20160227120931236  train    3  45540.0       7  "
      ]
     },
     "execution_count": 1641,
     "metadata": {},
     "output_type": "execute_result"
    }
   ],
   "source": [
    "hw_df[hw_df['label8']==7].tail()"
   ]
  },
  {
   "cell_type": "code",
   "execution_count": 1642,
   "id": "c493ac03-3b8e-4498-89a6-3d65f3da7a10",
   "metadata": {},
   "outputs": [
    {
     "data": {
      "text/plain": [
       "label43\n",
       "21    288\n",
       "23    158\n",
       "35     44\n",
       "30     21\n",
       "29      9\n",
       "8       8\n",
       "3       7\n",
       "4       7\n",
       "1       6\n",
       "2       4\n",
       "10      4\n",
       "31      3\n",
       "11      3\n",
       "0       2\n",
       "12      2\n",
       "6       2\n",
       "24      1\n",
       "25      1\n",
       "27      1\n",
       "28      1\n",
       "17      1\n",
       "18      1\n",
       "dtype: int64"
      ]
     },
     "execution_count": 1642,
     "metadata": {},
     "output_type": "execute_result"
    }
   ],
   "source": [
    "hw_up_df[(hw_up_df['len']==2)].value_counts('label43')"
   ]
  },
  {
   "cell_type": "code",
   "execution_count": null,
   "id": "b4b3b0d6-35e5-40e4-8559-e5d6d2fc6745",
   "metadata": {},
   "outputs": [],
   "source": []
  },
  {
   "cell_type": "code",
   "execution_count": null,
   "id": "59a0d4d9-2a0d-4c85-8978-14b260e78f04",
   "metadata": {},
   "outputs": [],
   "source": []
  },
  {
   "cell_type": "code",
   "execution_count": 1643,
   "id": "52f7025a-413e-4175-bb5f-8f034c37431f",
   "metadata": {},
   "outputs": [],
   "source": [
    "# dis_df = hw_up_df[(hw_up_df['len']==2) & (hw_up_df['label8']==5)]\n",
    "dis_df = hw_up_df[(hw_up_df['len']==2) & (hw_up_df['label8']==4)]"
   ]
  },
  {
   "cell_type": "code",
   "execution_count": 1644,
   "id": "a72bdc59-85c9-43cd-9c1b-b552dea8984f",
   "metadata": {},
   "outputs": [
    {
     "data": {
      "text/plain": [
       "label43\n",
       "8     8\n",
       "3     7\n",
       "4     7\n",
       "1     6\n",
       "2     4\n",
       "10    4\n",
       "11    3\n",
       "0     2\n",
       "6     2\n",
       "12    2\n",
       "dtype: int64"
      ]
     },
     "execution_count": 1644,
     "metadata": {},
     "output_type": "execute_result"
    }
   ],
   "source": [
    "dis_df.value_counts('label43')"
   ]
  },
  {
   "cell_type": "code",
   "execution_count": 1645,
   "id": "9f41dbdd-67ce-4b2c-8026-776ccdc30876",
   "metadata": {},
   "outputs": [],
   "source": [
    "dis_img_df = dis_df.drop_duplicates('path').sort_values('len', ascending=False)"
   ]
  },
  {
   "cell_type": "code",
   "execution_count": 1646,
   "id": "cfbb0c10-64fa-4def-86f8-b833a79a029d",
   "metadata": {},
   "outputs": [
    {
     "data": {
      "text/plain": [
       "(45, 45)"
      ]
     },
     "execution_count": 1646,
     "metadata": {},
     "output_type": "execute_result"
    }
   ],
   "source": [
    "len(dis_df), len(dis_img_df)"
   ]
  },
  {
   "cell_type": "code",
   "execution_count": null,
   "id": "63b83d99-c4a8-41ec-9e83-cdcddfa592d6",
   "metadata": {},
   "outputs": [],
   "source": []
  },
  {
   "cell_type": "code",
   "execution_count": 1725,
   "id": "0261c955-c93f-4540-8c2d-3bcd4f395195",
   "metadata": {},
   "outputs": [
    {
     "name": "stderr",
     "output_type": "stream",
     "text": [
      "/tmp/ipykernel_2871/62580736.py:4: SettingWithCopyWarning: \n",
      "A value is trying to be set on a copy of a slice from a DataFrame.\n",
      "Try using .loc[row_indexer,col_indexer] = value instead\n",
      "\n",
      "See the caveats in the documentation: https://pandas.pydata.org/pandas-docs/stable/user_guide/indexing.html#returning-a-view-versus-a-copy\n",
      "  df_temp.loc[:,'xmax'] = df_temp.loc[:,'xmax'].values/df_temp.loc[:,'width'].values\n",
      "/tmp/ipykernel_2871/62580736.py:5: SettingWithCopyWarning: \n",
      "A value is trying to be set on a copy of a slice from a DataFrame.\n",
      "Try using .loc[row_indexer,col_indexer] = value instead\n",
      "\n",
      "See the caveats in the documentation: https://pandas.pydata.org/pandas-docs/stable/user_guide/indexing.html#returning-a-view-versus-a-copy\n",
      "  df_temp.loc[:,'ymax'] = df_temp.loc[:,'ymax'].values/df_temp.loc[:,'height'].values\n"
     ]
    },
    {
     "data": {
      "text/plain": [
       "array(['haowei34k'], dtype=object)"
      ]
     },
     "execution_count": 1725,
     "metadata": {},
     "output_type": "execute_result"
    }
   ],
   "source": [
    "ind = 13\n",
    "p = dis_img_df['path'].values[ind]\n",
    "df_temp = ofashion43[ofashion43['path'] == p]\n",
    "df_temp.loc[:,'xmax'] = df_temp.loc[:,'xmax'].values/df_temp.loc[:,'width'].values\n",
    "df_temp.loc[:,'ymax'] = df_temp.loc[:,'ymax'].values/df_temp.loc[:,'height'].values\n",
    "bboxes = df_temp.loc[:,['label2_eng', 'xmin', 'ymin', 'xmax', 'ymax']].values.tolist()\n",
    "df_temp.loc[:,['source']].values[0]"
   ]
  },
  {
   "cell_type": "code",
   "execution_count": null,
   "id": "93e81e22-853e-4b08-a4eb-f6d663e1a51e",
   "metadata": {},
   "outputs": [],
   "source": []
  },
  {
   "cell_type": "code",
   "execution_count": 1726,
   "id": "6b191352-9593-4c9c-8ccb-d1043ac59c71",
   "metadata": {},
   "outputs": [
    {
     "data": {
      "text/html": [
       "<div>\n",
       "<style scoped>\n",
       "    .dataframe tbody tr th:only-of-type {\n",
       "        vertical-align: middle;\n",
       "    }\n",
       "\n",
       "    .dataframe tbody tr th {\n",
       "        vertical-align: top;\n",
       "    }\n",
       "\n",
       "    .dataframe thead th {\n",
       "        text-align: right;\n",
       "    }\n",
       "</style>\n",
       "<table border=\"1\" class=\"dataframe\">\n",
       "  <thead>\n",
       "    <tr style=\"text-align: right;\">\n",
       "      <th></th>\n",
       "      <th>source</th>\n",
       "      <th>path</th>\n",
       "      <th>label2_eng</th>\n",
       "      <th>label1_chi</th>\n",
       "      <th>label43</th>\n",
       "      <th>label2_chi</th>\n",
       "      <th>xmin</th>\n",
       "      <th>ymin</th>\n",
       "      <th>xmax</th>\n",
       "      <th>ymax</th>\n",
       "      <th>height</th>\n",
       "      <th>width</th>\n",
       "      <th>fname</th>\n",
       "      <th>mode</th>\n",
       "      <th>len</th>\n",
       "      <th>area</th>\n",
       "    </tr>\n",
       "  </thead>\n",
       "  <tbody>\n",
       "    <tr>\n",
       "      <th>297843</th>\n",
       "      <td>haowei34k</td>\n",
       "      <td>/home/chenyi/workspace/dataset/data/haowei34k/...</td>\n",
       "      <td>Denim jacket</td>\n",
       "      <td>NaN</td>\n",
       "      <td>8</td>\n",
       "      <td>牛仔外套</td>\n",
       "      <td>0.476010</td>\n",
       "      <td>0.427103</td>\n",
       "      <td>209.0</td>\n",
       "      <td>173.0</td>\n",
       "      <td>535</td>\n",
       "      <td>396</td>\n",
       "      <td>20160427175904587</td>\n",
       "      <td>train</td>\n",
       "      <td>2</td>\n",
       "      <td>36157.0</td>\n",
       "    </tr>\n",
       "    <tr>\n",
       "      <th>297844</th>\n",
       "      <td>haowei34k</td>\n",
       "      <td>/home/chenyi/workspace/dataset/data/haowei34k/...</td>\n",
       "      <td>Dress</td>\n",
       "      <td>NaN</td>\n",
       "      <td>21</td>\n",
       "      <td>连衣裙</td>\n",
       "      <td>0.527778</td>\n",
       "      <td>0.475701</td>\n",
       "      <td>126.0</td>\n",
       "      <td>205.0</td>\n",
       "      <td>535</td>\n",
       "      <td>396</td>\n",
       "      <td>20160427175904587</td>\n",
       "      <td>train</td>\n",
       "      <td>2</td>\n",
       "      <td>25830.0</td>\n",
       "    </tr>\n",
       "  </tbody>\n",
       "</table>\n",
       "</div>"
      ],
      "text/plain": [
       "           source                                               path  \\\n",
       "297843  haowei34k  /home/chenyi/workspace/dataset/data/haowei34k/...   \n",
       "297844  haowei34k  /home/chenyi/workspace/dataset/data/haowei34k/...   \n",
       "\n",
       "          label2_eng label1_chi  label43 label2_chi      xmin      ymin  \\\n",
       "297843  Denim jacket        NaN        8       牛仔外套  0.476010  0.427103   \n",
       "297844         Dress        NaN       21        连衣裙  0.527778  0.475701   \n",
       "\n",
       "         xmax   ymax  height  width              fname   mode  len     area  \n",
       "297843  209.0  173.0     535    396  20160427175904587  train    2  36157.0  \n",
       "297844  126.0  205.0     535    396  20160427175904587  train    2  25830.0  "
      ]
     },
     "execution_count": 1726,
     "metadata": {},
     "output_type": "execute_result"
    }
   ],
   "source": [
    "ofashion43[ofashion43['path'] == p]"
   ]
  },
  {
   "cell_type": "code",
   "execution_count": 1727,
   "id": "c0e88f65-20f9-43bd-b357-c0f4e959d2e7",
   "metadata": {},
   "outputs": [],
   "source": [
    "img_np = cv2.imread(str(p))\n",
    "img_np = cv2.cvtColor(img_np, cv2.COLOR_BGR2RGB)\n",
    "h = img_np.shape[0]\n",
    "w = img_np.shape[1]\n",
    "for bx in bboxes:\n",
    "    bx[1:] = bbox_yolo2voc(bx[1:], w, h)\n",
    "    draw_bbox(img_np, bx)"
   ]
  },
  {
   "cell_type": "code",
   "execution_count": 1728,
   "id": "d89c1a1f-046e-4215-a1d2-6009ef151af0",
   "metadata": {},
   "outputs": [
    {
     "data": {
      "image/png": "[encoded data removed]",
      "text/plain": [
       "<PIL.Image.Image image mode=RGB size=396x535 at 0x7F8EF5722E20>"
      ]
     },
     "execution_count": 1728,
     "metadata": {},
     "output_type": "execute_result"
    }
   ],
   "source": [
    "Image.fromarray(img_np)"
   ]
  },
  {
   "cell_type": "code",
   "execution_count": 1717,
   "id": "23e46aa4-4808-4258-a3a8-7bf24e2be595",
   "metadata": {},
   "outputs": [
    {
     "data": {
      "text/plain": [
       "('豆豆鞋', '正装女鞋', '抹胸')"
      ]
     },
     "execution_count": 1717,
     "metadata": {},
     "output_type": "execute_result"
    }
   ],
   "source": [
    "eng2chi['Doug shoes'],eng2chi['Suits shoes'], eng2chi['Bandeau']"
   ]
  },
  {
   "cell_type": "code",
   "execution_count": 1718,
   "id": "b463b981-ae47-46eb-b256-f1c646001026",
   "metadata": {},
   "outputs": [
    {
     "data": {
      "text/plain": [
       "(18, 2)"
      ]
     },
     "execution_count": 1718,
     "metadata": {},
     "output_type": "execute_result"
    }
   ],
   "source": [
    "eng2num['Slacks'],eng2num['Blouses']"
   ]
  },
  {
   "cell_type": "code",
   "execution_count": null,
   "id": "ad9f8bea-7b7d-46e8-aa10-cd74414f36dd",
   "metadata": {},
   "outputs": [],
   "source": []
  },
  {
   "cell_type": "code",
   "execution_count": null,
   "id": "8a29d6e1-44a6-4a3f-a9bd-40e68dfa1914",
   "metadata": {},
   "outputs": [],
   "source": []
  },
  {
   "cell_type": "markdown",
   "id": "c71f72e4-2426-4fe5-ac54-66776d6ae61d",
   "metadata": {},
   "source": [
    "#### Recording Delete Dirty image by Dispalye"
   ]
  },
  {
   "cell_type": "code",
   "execution_count": 1172,
   "id": "8270bbab-91f0-4db7-ae50-f17f5b37ee00",
   "metadata": {},
   "outputs": [],
   "source": [
    "# if 0:\n",
    "#     del_df = pd.read_csv('/nas/chenyi/datasets_nas/openfashion/allfashion/del_df_temp0511.csv')\n",
    "#     p_del_list = del_df['path'].values.tolist()"
   ]
  },
  {
   "cell_type": "code",
   "execution_count": 1173,
   "id": "c52f2c03-1120-4c04-a53e-1b70da3863f7",
   "metadata": {},
   "outputs": [],
   "source": [
    "# del_df = pd.DataFrame()\n",
    "# del_df['path'] = ''\n",
    "# p_del_list = []"
   ]
  },
  {
   "cell_type": "code",
   "execution_count": 1174,
   "id": "c247759a-b53d-4aaf-b517-6cc2cce51774",
   "metadata": {},
   "outputs": [],
   "source": [
    "# p_del_list.pop(0)"
   ]
  },
  {
   "cell_type": "code",
   "execution_count": 1719,
   "id": "81031f90-65d3-4d62-8211-ba4ba2051c4c",
   "metadata": {},
   "outputs": [],
   "source": [
    "p_del_list += dis_img_df['path'].values.tolist()"
   ]
  },
  {
   "cell_type": "code",
   "execution_count": 1720,
   "id": "1feb1c05-a976-46b0-adca-a53b52069be4",
   "metadata": {},
   "outputs": [
    {
     "data": {
      "text/plain": [
       "793"
      ]
     },
     "execution_count": 1720,
     "metadata": {},
     "output_type": "execute_result"
    }
   ],
   "source": [
    "len(p_del_list)"
   ]
  },
  {
   "cell_type": "code",
   "execution_count": 1721,
   "id": "e435e130-e127-4279-849e-13367118b865",
   "metadata": {},
   "outputs": [
    {
     "data": {
      "text/plain": [
       "788"
      ]
     },
     "execution_count": 1721,
     "metadata": {},
     "output_type": "execute_result"
    }
   ],
   "source": [
    "p_del = p\n",
    "p_del_list.append(p)\n",
    "p_del_list = list(set(p_del_list))\n",
    "len(p_del_list)"
   ]
  },
  {
   "cell_type": "code",
   "execution_count": 1722,
   "id": "2a464afc-d6dc-41d3-8277-90120a45556c",
   "metadata": {},
   "outputs": [],
   "source": [
    "del_df = pd.DataFrame()\n",
    "del_df['path'] = ''\n",
    "del_df['path'] = p_del_list"
   ]
  },
  {
   "cell_type": "code",
   "execution_count": 1723,
   "id": "457acd88-1a1f-47f9-953a-6504d7126a1e",
   "metadata": {},
   "outputs": [
    {
     "data": {
      "text/plain": [
       "(array([['/home/chenyi/workspace/dataset/data/haowei34k/images/train/20180613173849462.jpg'],\n",
       "        ['/home/chenyi/workspace/dataset/data/haowei34k/images/train/20160413000406927.jpg'],\n",
       "        ['/home/chenyi/workspace/dataset/data/haowei34k/images/train/20140314202703750.jpg'],\n",
       "        ['/home/chenyi/workspace/dataset/data/haowei34k/images/val/20180116141008722.jpg'],\n",
       "        ['/home/chenyi/workspace/dataset/data/haowei34k/images/train/20160424043256998.jpg']],\n",
       "       dtype=object),\n",
       " 788)"
      ]
     },
     "execution_count": 1723,
     "metadata": {},
     "output_type": "execute_result"
    }
   ],
   "source": [
    "del_df.tail().values, len(del_df)"
   ]
  },
  {
   "cell_type": "code",
   "execution_count": null,
   "id": "d28fc0c9-1d64-4d3a-ade2-d9c528e763b4",
   "metadata": {},
   "outputs": [],
   "source": []
  },
  {
   "cell_type": "code",
   "execution_count": null,
   "id": "d1dd34ac-da27-4b58-8f58-91751b60acc1",
   "metadata": {},
   "outputs": [],
   "source": []
  },
  {
   "cell_type": "code",
   "execution_count": 1724,
   "id": "7898502c-7a66-4287-91a2-d67c0232d0bd",
   "metadata": {},
   "outputs": [],
   "source": [
    "if 1:\n",
    "    del_df.to_csv('/nas/chenyi/datasets_nas/openfashion/allfashion/del_df_temp0511.csv', index=False)"
   ]
  },
  {
   "cell_type": "code",
   "execution_count": null,
   "id": "8ec493e9-3728-4419-b872-9b8c669a5a1b",
   "metadata": {},
   "outputs": [],
   "source": []
  },
  {
   "cell_type": "code",
   "execution_count": null,
   "id": "2ec4a910-46f0-4b20-abbd-8549ebdd0ec0",
   "metadata": {},
   "outputs": [],
   "source": []
  },
  {
   "cell_type": "code",
   "execution_count": null,
   "id": "74aca19d-4bd2-4dd1-a2b2-9a272a9cf2e4",
   "metadata": {},
   "outputs": [],
   "source": []
  }
 ],
 "metadata": {
  "kernelspec": {
   "display_name": "Python 3 (ipykernel)",
   "language": "python",
   "name": "python3"
  },
  "language_info": {
   "codemirror_mode": {
    "name": "ipython",
    "version": 3
   },
   "file_extension": ".py",
   "mimetype": "text/x-python",
   "name": "python",
   "nbconvert_exporter": "python",
   "pygments_lexer": "ipython3",
   "version": "3.9.7"
  }
 },
 "nbformat": 4,
 "nbformat_minor": 5
}
