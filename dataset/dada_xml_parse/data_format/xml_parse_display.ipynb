{
 "cells": [
  {
   "cell_type": "code",
   "execution_count": 2,
   "id": "61440fc4-64c2-4347-b092-b921a1ffdced",
   "metadata": {},
   "outputs": [],
   "source": [
    "from lxml import etree\n",
    "import glob"
   ]
  },
  {
   "cell_type": "code",
   "execution_count": 3,
   "id": "0c977c2d-9e98-4ff3-9028-ddb6d67ccfb2",
   "metadata": {},
   "outputs": [],
   "source": [
    "from pathlib import Path\n",
    "from tqdm import tqdm"
   ]
  },
  {
   "cell_type": "code",
   "execution_count": 4,
   "id": "363626fe-f1f4-4068-831f-322a201c8730",
   "metadata": {},
   "outputs": [],
   "source": [
    "import pandas as pd\n",
    "import numpy as np\n",
    "import os,sys"
   ]
  },
  {
   "cell_type": "code",
   "execution_count": 5,
   "id": "6e949893-e57a-40c2-b22b-3ccace0fce88",
   "metadata": {},
   "outputs": [],
   "source": [
    "import re\n",
    "from PIL import Image"
   ]
  },
  {
   "cell_type": "code",
   "execution_count": null,
   "id": "838ae80f-ae36-468d-9579-8f3a2c5061f3",
   "metadata": {},
   "outputs": [],
   "source": []
  },
  {
   "cell_type": "code",
   "execution_count": null,
   "id": "67b62593-bc5c-4dcc-b9a7-72771451aa66",
   "metadata": {},
   "outputs": [],
   "source": []
  },
  {
   "cell_type": "markdown",
   "id": "92447f6e-fe11-48e1-affa-81bd55d61d11",
   "metadata": {},
   "source": [
    "### 1.Data Loader."
   ]
  },
  {
   "cell_type": "code",
   "execution_count": 66,
   "id": "27fee964-1a5d-4704-b25e-997a39d65749",
   "metadata": {},
   "outputs": [],
   "source": [
    "root = Path('/nas/chenyi/datasets_nas/dada_det/xml/wardrobe500k/wardrobe20k_20220630/xml_20220629/')"
   ]
  },
  {
   "cell_type": "code",
   "execution_count": 67,
   "id": "0e7cf03f-050d-42fd-948d-7fed33a11af6",
   "metadata": {},
   "outputs": [
    {
     "data": {
      "text/plain": [
       "10596"
      ]
     },
     "execution_count": 67,
     "metadata": {},
     "output_type": "execute_result"
    }
   ],
   "source": [
    "xml_list = glob.glob(str(root /'*/*/*.xml'))\n",
    "# xml_list += glob.glob(str(root /'*/*/*.xml'))\n",
    "# xml_list += glob.glob(str(root /'*/*/*/*.xml'))\n",
    "len(xml_list)"
   ]
  },
  {
   "cell_type": "code",
   "execution_count": 68,
   "id": "79200e7e-697e-407f-838e-b3be421f170d",
   "metadata": {},
   "outputs": [
    {
     "data": {
      "text/plain": [
       "10596"
      ]
     },
     "execution_count": 68,
     "metadata": {},
     "output_type": "execute_result"
    }
   ],
   "source": [
    "# 核查xml是否有重复\n",
    "xml_df = pd.DataFrame()\n",
    "xml_df['path'] = xml_list\n",
    "xml_df['stem'] = xml_df['path'].apply(lambda x: Path(x).stem)\n",
    "len(xml_df)"
   ]
  },
  {
   "cell_type": "code",
   "execution_count": null,
   "id": "a6a220a4-569d-4880-a1d5-8186c6ff66a6",
   "metadata": {},
   "outputs": [],
   "source": []
  },
  {
   "cell_type": "code",
   "execution_count": null,
   "id": "4c71a135-9385-419c-814c-32ed98d17445",
   "metadata": {},
   "outputs": [],
   "source": []
  },
  {
   "cell_type": "markdown",
   "id": "e5b03a78-28f5-4f6d-9b41-9434c9407667",
   "metadata": {
    "tags": []
   },
   "source": [
    "### 接口"
   ]
  },
  {
   "cell_type": "code",
   "execution_count": 69,
   "id": "c6cc979d-19ba-4f76-a8d5-55e81e7c06f1",
   "metadata": {},
   "outputs": [],
   "source": [
    "def voc2yolo():\n",
    "    center_x = (xmin + (xmax-xmin)/2)/width\n",
    "    center_y = (ymin + (ymax-ymin)/2)/height\n",
    "    bdb_w = (xmax-xmin)/width\n",
    "    bdb_h = (ymax-ymin)/height"
   ]
  },
  {
   "cell_type": "code",
   "execution_count": null,
   "id": "7dc0f195-518d-4a57-b7a6-8e6cf041128c",
   "metadata": {},
   "outputs": [],
   "source": []
  },
  {
   "cell_type": "code",
   "execution_count": 70,
   "id": "97623b2d-8cdd-44a4-9ae5-e0e725aec4d7",
   "metadata": {},
   "outputs": [],
   "source": [
    "def parse_xml(p):\n",
    "    trees = etree.parse(p)\n",
    "    width, height = int(trees.find('size/width').text), int(trees.find('size/height').text)\n",
    "    bboxes = []\n",
    "    for obj in trees.findall('object'):\n",
    "        bx = []\n",
    "        bx.append(p)\n",
    "        bx.append(int(width))\n",
    "        bx.append(int(height))\n",
    "        bdb = obj.find('bndbox')\n",
    "        bx.append(obj.find('name').text)\n",
    "        bx.append(int(bdb.find('xmin').text))\n",
    "        bx.append(int(bdb.find('ymin').text))\n",
    "        bx.append(int(bdb.find('xmax').text))\n",
    "        bx.append(int(bdb.find('ymax').text))\n",
    "        bboxes.append(bx)\n",
    "    return bboxes"
   ]
  },
  {
   "cell_type": "code",
   "execution_count": null,
   "id": "7bce8dd9-9bf5-4ce1-b66f-96e07a700582",
   "metadata": {},
   "outputs": [],
   "source": []
  },
  {
   "cell_type": "code",
   "execution_count": 100,
   "id": "704f6442-96c7-4164-951f-8cea12752231",
   "metadata": {},
   "outputs": [],
   "source": [
    "model_label_map = {\n",
    "    0: 10,  # 鞋子\n",
    "    1: 8,  # 包包\n",
    "    2: 4,  # 上装\n",
    "    3: 5,  # 裤子\n",
    "    4: 6,  # 裙子\n",
    "    5: 7,  # 连体装\n",
    "}\n",
    "model_label_map8 = {\n",
    "    0: 10,  # 鞋子\n",
    "    1: 8,  # 包包\n",
    "    2: 4,  # 上装_短款\n",
    "    3: 5,  # 裤子_短款\n",
    "    4: 6,  # 裙子\n",
    "    5: 7,  # 连体装\n",
    "    6: 4,  # 上装_长款\n",
    "    7: 5,  # 裤子_长款\n",
    "}"
   ]
  },
  {
   "cell_type": "code",
   "execution_count": 99,
   "id": "04110e58-c675-4764-af9e-93bb45a81a4c",
   "metadata": {},
   "outputs": [],
   "source": []
  },
  {
   "cell_type": "code",
   "execution_count": 103,
   "id": "859c94b6-4a33-4a72-bad4-8c0727d2617d",
   "metadata": {},
   "outputs": [],
   "source": [
    "chi_label2id8 = {\n",
    "    0: '鞋子',\n",
    "    1: '包包',\n",
    "    2: '上装_短款',\n",
    "    3: '裤子_短款',\n",
    "    4: '裙子',\n",
    "    5: '连体装',\n",
    "    6: '上装_长款',\n",
    "    7: '裤子_长款',\n",
    "}"
   ]
  },
  {
   "cell_type": "code",
   "execution_count": null,
   "id": "d3e58616-1977-4774-a66b-840291677bfd",
   "metadata": {},
   "outputs": [],
   "source": []
  },
  {
   "cell_type": "code",
   "execution_count": 81,
   "id": "a3024e83-ee63-426f-a9d2-b01eb125bc23",
   "metadata": {},
   "outputs": [],
   "source": [
    "def get_list2dict(k_list, v_list):\n",
    "    d = {}\n",
    "    for item in zip(k_list, v_list):\n",
    "        d[item[0]] = item[1]\n",
    "    return d"
   ]
  },
  {
   "cell_type": "code",
   "execution_count": 104,
   "id": "39150fb3-94ce-46bf-bc58-7984153dc746",
   "metadata": {},
   "outputs": [],
   "source": [
    "id2label_chi8 = get_list2dict(chi_label2id8.values(), chi_label2id8.keys())"
   ]
  },
  {
   "cell_type": "code",
   "execution_count": null,
   "id": "4818d102-5f31-44d5-a6aa-0692e6a04423",
   "metadata": {},
   "outputs": [],
   "source": []
  },
  {
   "cell_type": "code",
   "execution_count": null,
   "id": "9d80a8d1-fbe8-4c53-9fac-18a9ab39211a",
   "metadata": {},
   "outputs": [],
   "source": []
  },
  {
   "cell_type": "markdown",
   "id": "5533659e-cedd-4d6d-8705-2fb79b0631cc",
   "metadata": {},
   "source": [
    "### 解析XML"
   ]
  },
  {
   "cell_type": "code",
   "execution_count": 46,
   "id": "16c169ba-c75b-43f2-a89c-6bf39b5c9d7f",
   "metadata": {},
   "outputs": [
    {
     "name": "stdout",
     "output_type": "stream",
     "text": [
      "det_nodetagain2  nodet\tnodet_kfolder  nodet_watoo470k.tar  SAMPLE_DEL\n"
     ]
    }
   ],
   "source": [
    "!ls /nas/chenyi/datasets_cls/gallery_detect/watoo400k/analysis/hwpedia"
   ]
  },
  {
   "cell_type": "code",
   "execution_count": 47,
   "id": "372e0950-db35-4e7f-85d1-6878f255c3a2",
   "metadata": {},
   "outputs": [
    {
     "name": "stdout",
     "output_type": "stream",
     "text": [
      "12G\t/nas/chenyi/datasets_cls/gallery_detect/watoo400k/analysis/hwpedia/nodet_watoo470k.tar\n"
     ]
    }
   ],
   "source": [
    "!du -h /nas/chenyi/datasets_cls/gallery_detect/watoo400k/analysis/hwpedia/"
   ]
  },
  {
   "cell_type": "code",
   "execution_count": null,
   "id": "6dd7bfcb-c186-4246-b71a-41fcb6480738",
   "metadata": {},
   "outputs": [],
   "source": [
    "# !cp /nas/chenyi/datasets_cls/gallery_detect/watoo400k/analysis/hwpedia/nodet_watoo470k.tar \\\n",
    "#     /nas/chenyi/datasets_cls/gallery_detect/watoo400k/analysis/hwpedia/nodet_watoo470k.tar"
   ]
  },
  {
   "cell_type": "code",
   "execution_count": 82,
   "id": "d001ee05-854c-490d-a994-1f95f73ea07f",
   "metadata": {},
   "outputs": [],
   "source": [
    "# !ls /nas/chenyi/datasets_cls/gallery_detect/watoo400k/hwpedia_all/hwpedia_folder/"
   ]
  },
  {
   "cell_type": "code",
   "execution_count": null,
   "id": "d6b02c50-34ac-4918-ba59-19d302cc62e4",
   "metadata": {},
   "outputs": [],
   "source": []
  },
  {
   "cell_type": "markdown",
   "id": "9ba33295-a7b4-41cd-8cd1-5e7dbe37e403",
   "metadata": {
    "tags": []
   },
   "source": [
    "#### csv保存和读取"
   ]
  },
  {
   "cell_type": "code",
   "execution_count": 29,
   "id": "c2716cc2-1801-4fe3-8a1b-80115125f50a",
   "metadata": {},
   "outputs": [
    {
     "data": {
      "text/plain": [
       "PosixPath('/nas/chenyi/datasets_nas/dada_det/xml/wardrobe500k/wardrobe20k_20220630/xml_20220629')"
      ]
     },
     "execution_count": 29,
     "metadata": {},
     "output_type": "execute_result"
    }
   ],
   "source": [
    "root"
   ]
  },
  {
   "cell_type": "code",
   "execution_count": 27,
   "id": "70568152-61bf-4de7-8617-ee242d6e0be6",
   "metadata": {},
   "outputs": [
    {
     "name": "stdout",
     "output_type": "stream",
     "text": [
      "wuzhangjing1_20220626  wuzhangjing3_20220629  wuzhanjing2_20220628\n"
     ]
    }
   ],
   "source": [
    "!ls $root"
   ]
  },
  {
   "cell_type": "code",
   "execution_count": 28,
   "id": "dafba286-15e7-4633-8736-8aa1d8a23606",
   "metadata": {},
   "outputs": [],
   "source": [
    "!mkdir -p $root/info"
   ]
  },
  {
   "cell_type": "code",
   "execution_count": 108,
   "id": "048b0e1c-bd6a-4d98-9232-d7f18dbea204",
   "metadata": {},
   "outputs": [],
   "source": [
    "# bboxes_df.to_csv(root /'info/xml_20220629.csv', index=False)"
   ]
  },
  {
   "cell_type": "code",
   "execution_count": null,
   "id": "a7719c94-a2c9-4bb1-9f93-7bd446793068",
   "metadata": {},
   "outputs": [],
   "source": []
  },
  {
   "cell_type": "code",
   "execution_count": null,
   "id": "12c73b60-3fad-45f1-a2cd-9bb5949b598c",
   "metadata": {},
   "outputs": [],
   "source": []
  },
  {
   "cell_type": "markdown",
   "id": "f3021bd2-f077-4c3f-8116-003c310aba3a",
   "metadata": {},
   "source": [
    "#### 解析XML"
   ]
  },
  {
   "cell_type": "code",
   "execution_count": 71,
   "id": "f8af3451-e6ed-4451-a5dc-3ff56b001fd9",
   "metadata": {},
   "outputs": [
    {
     "name": "stderr",
     "output_type": "stream",
     "text": [
      "100%|███████████████████████| 10596/10596 [00:07<00:00, 1427.01it/s]\n"
     ]
    }
   ],
   "source": [
    "bboxes_list = []\n",
    "for p in tqdm(xml_list):\n",
    "    row = parse_xml(p)\n",
    "    bboxes_list += row\n",
    "    # break"
   ]
  },
  {
   "cell_type": "code",
   "execution_count": null,
   "id": "211b6837-1886-4da7-8b8c-fc8324065651",
   "metadata": {},
   "outputs": [],
   "source": []
  },
  {
   "cell_type": "code",
   "execution_count": 72,
   "id": "8b0173a0-bce8-4a9a-96ac-19eefc24e266",
   "metadata": {},
   "outputs": [],
   "source": [
    "bboxes_df = pd.DataFrame(bboxes_list)\n",
    "name_stand = ['xml_path', 'width', 'height', 'labelimg', 'bx1', 'bx2','bx3', 'bx4']\n",
    "bboxes_df.rename(columns={bboxes_df.columns[0]:name_stand[0],\n",
    "                          bboxes_df.columns[1]:name_stand[1],\n",
    "                          bboxes_df.columns[2]:name_stand[2],\n",
    "                          bboxes_df.columns[3]:name_stand[3],\n",
    "                          bboxes_df.columns[4]:name_stand[4],\n",
    "                          bboxes_df.columns[5]:name_stand[5],\n",
    "                          bboxes_df.columns[6]:name_stand[6],\n",
    "                          bboxes_df.columns[7]:name_stand[7],\n",
    "                         },\n",
    "                          inplace=True)"
   ]
  },
  {
   "cell_type": "code",
   "execution_count": 73,
   "id": "ec953754-517e-4d26-8293-a7e3793bfb05",
   "metadata": {},
   "outputs": [
    {
     "data": {
      "text/html": [
       "<div>\n",
       "<style scoped>\n",
       "    .dataframe tbody tr th:only-of-type {\n",
       "        vertical-align: middle;\n",
       "    }\n",
       "\n",
       "    .dataframe tbody tr th {\n",
       "        vertical-align: top;\n",
       "    }\n",
       "\n",
       "    .dataframe thead th {\n",
       "        text-align: right;\n",
       "    }\n",
       "</style>\n",
       "<table border=\"1\" class=\"dataframe\">\n",
       "  <thead>\n",
       "    <tr style=\"text-align: right;\">\n",
       "      <th></th>\n",
       "      <th>xml_path</th>\n",
       "      <th>width</th>\n",
       "      <th>height</th>\n",
       "      <th>labelimg</th>\n",
       "      <th>bx1</th>\n",
       "      <th>bx2</th>\n",
       "      <th>bx3</th>\n",
       "      <th>bx4</th>\n",
       "    </tr>\n",
       "  </thead>\n",
       "  <tbody>\n",
       "    <tr>\n",
       "      <th>0</th>\n",
       "      <td>/nas/chenyi/datasets_nas/dada_det/xml/wardrobe...</td>\n",
       "      <td>1080</td>\n",
       "      <td>1554</td>\n",
       "      <td>裙子</td>\n",
       "      <td>6</td>\n",
       "      <td>478</td>\n",
       "      <td>1080</td>\n",
       "      <td>1129</td>\n",
       "    </tr>\n",
       "  </tbody>\n",
       "</table>\n",
       "</div>"
      ],
      "text/plain": [
       "                                            xml_path  width  height labelimg  \\\n",
       "0  /nas/chenyi/datasets_nas/dada_det/xml/wardrobe...   1080    1554       裙子   \n",
       "\n",
       "   bx1  bx2   bx3   bx4  \n",
       "0    6  478  1080  1129  "
      ]
     },
     "execution_count": 73,
     "metadata": {},
     "output_type": "execute_result"
    }
   ],
   "source": [
    "bboxes_df.head(1)"
   ]
  },
  {
   "cell_type": "code",
   "execution_count": 74,
   "id": "53e036de-4786-4902-85f3-f00de22d9f9d",
   "metadata": {},
   "outputs": [
    {
     "data": {
      "text/plain": [
       "array([['/nas/chenyi/datasets_nas/dada_det/xml/wardrobe500k/wardrobe20k_20220630/xml_20220629/wuzhangjing1_20220626/skirt/2017022320122485968.xml',\n",
       "        1080, 1554, '裙子', 6, 478, 1080, 1129]], dtype=object)"
      ]
     },
     "execution_count": 74,
     "metadata": {},
     "output_type": "execute_result"
    }
   ],
   "source": [
    "bboxes_df.head(1).values"
   ]
  },
  {
   "cell_type": "code",
   "execution_count": 75,
   "id": "14266e48-aacb-42f6-a643-1fbcda59b913",
   "metadata": {},
   "outputs": [
    {
     "data": {
      "text/plain": [
       "labelimg\n",
       "裙子       4357\n",
       "裤子_长款    2618\n",
       "上装_短款    1962\n",
       "裤子_短款    1250\n",
       "鞋子        484\n",
       "包包        242\n",
       "上装_长款     117\n",
       "连体装        34\n",
       "dtype: int64"
      ]
     },
     "execution_count": 75,
     "metadata": {},
     "output_type": "execute_result"
    }
   ],
   "source": [
    "bboxes_df.value_counts('labelimg')"
   ]
  },
  {
   "cell_type": "code",
   "execution_count": 76,
   "id": "75a24ca3-697f-47e2-b2a7-4126d879fb10",
   "metadata": {},
   "outputs": [],
   "source": [
    "bboxes_df['stem'] = bboxes_df['xml_path'].apply(lambda x: Path(x).stem)"
   ]
  },
  {
   "cell_type": "code",
   "execution_count": null,
   "id": "59e2eca0-7f4f-40b9-ba9a-e2a09580dcd7",
   "metadata": {},
   "outputs": [],
   "source": []
  },
  {
   "cell_type": "code",
   "execution_count": null,
   "id": "52ce0487-4756-40c4-b8e5-8a18be377e61",
   "metadata": {},
   "outputs": [],
   "source": []
  },
  {
   "cell_type": "markdown",
   "id": "aaf0e981-8037-4425-a943-268bdd0ecbae",
   "metadata": {},
   "source": [
    "#### 获取对应图片信息"
   ]
  },
  {
   "cell_type": "code",
   "execution_count": 49,
   "id": "232eaebd-6f1f-4538-9908-7d812dff0a13",
   "metadata": {},
   "outputs": [
    {
     "name": "stdout",
     "output_type": "stream",
     "text": [
      "@eaDir\t__MACOSX  wartoo470k_hard_nodet_  wartoo470k_hard_nodet_.zip\n"
     ]
    }
   ],
   "source": [
    "!ls /nas/chenyi/datasets_nas/dada_det/data/wardrobe500k/wardrobe500k_hard/"
   ]
  },
  {
   "cell_type": "code",
   "execution_count": 77,
   "id": "6f9e8982-4e48-4894-ad0b-705430c7572d",
   "metadata": {},
   "outputs": [
    {
     "data": {
      "text/plain": [
       "20553"
      ]
     },
     "execution_count": 77,
     "metadata": {},
     "output_type": "execute_result"
    }
   ],
   "source": [
    "img_list = glob.glob('/nas/chenyi/datasets_nas/dada_det/data/wardrobe500k/wardrobe500k_hard/wartoo500k_hard20220629/nodet_kfolder/*/*.jpg')\n",
    "img_df = pd.DataFrame()\n",
    "img_df['path'] = img_list\n",
    "len(img_df)"
   ]
  },
  {
   "cell_type": "code",
   "execution_count": 78,
   "id": "847e2489-2e48-4408-9984-e24f3ea05e1e",
   "metadata": {},
   "outputs": [],
   "source": [
    "img_df['stem'] = img_df['path'].apply(lambda x: Path(x).stem)"
   ]
  },
  {
   "cell_type": "code",
   "execution_count": 79,
   "id": "405eaf07-fde2-4043-b0fd-d71fb0a99c06",
   "metadata": {},
   "outputs": [
    {
     "data": {
      "text/plain": [
       "(11064, 20553)"
      ]
     },
     "execution_count": 79,
     "metadata": {},
     "output_type": "execute_result"
    }
   ],
   "source": [
    "# 去重\n",
    "img_df.drop_duplicates('stem', inplace=True)\n",
    "len(bboxes_df), len(img_df)"
   ]
  },
  {
   "cell_type": "code",
   "execution_count": null,
   "id": "8d06bad2-3318-4263-b950-8c255ff60dae",
   "metadata": {},
   "outputs": [],
   "source": []
  },
  {
   "cell_type": "markdown",
   "id": "ab9370ae-ebd9-43d0-b0a8-03f140c5222b",
   "metadata": {},
   "source": [
    "##### 获取bbox对应的图片"
   ]
  },
  {
   "cell_type": "code",
   "execution_count": 80,
   "id": "e64540e2-0fb5-44b1-8a4c-e6c8cdeb025a",
   "metadata": {},
   "outputs": [
    {
     "data": {
      "text/plain": [
       "10593"
      ]
     },
     "execution_count": 80,
     "metadata": {},
     "output_type": "execute_result"
    }
   ],
   "source": [
    "# xml是否都有对应的图片\n",
    "cross_df = img_df[img_df['stem'].isin(bboxes_df['stem'])]\n",
    "len(cross_df)"
   ]
  },
  {
   "cell_type": "code",
   "execution_count": 83,
   "id": "a6549df0-dfe3-4ebc-a66d-4421b4908dc6",
   "metadata": {},
   "outputs": [
    {
     "data": {
      "text/html": [
       "<div>\n",
       "<style scoped>\n",
       "    .dataframe tbody tr th:only-of-type {\n",
       "        vertical-align: middle;\n",
       "    }\n",
       "\n",
       "    .dataframe tbody tr th {\n",
       "        vertical-align: top;\n",
       "    }\n",
       "\n",
       "    .dataframe thead th {\n",
       "        text-align: right;\n",
       "    }\n",
       "</style>\n",
       "<table border=\"1\" class=\"dataframe\">\n",
       "  <thead>\n",
       "    <tr style=\"text-align: right;\">\n",
       "      <th></th>\n",
       "      <th>path</th>\n",
       "      <th>stem</th>\n",
       "    </tr>\n",
       "  </thead>\n",
       "  <tbody>\n",
       "    <tr>\n",
       "      <th>0</th>\n",
       "      <td>/nas/chenyi/datasets_nas/dada_det/data/wardrob...</td>\n",
       "      <td>2017020200393708851</td>\n",
       "    </tr>\n",
       "  </tbody>\n",
       "</table>\n",
       "</div>"
      ],
      "text/plain": [
       "                                                path                 stem\n",
       "0  /nas/chenyi/datasets_nas/dada_det/data/wardrob...  2017020200393708851"
      ]
     },
     "execution_count": 83,
     "metadata": {},
     "output_type": "execute_result"
    }
   ],
   "source": [
    "cross_df.head(1)"
   ]
  },
  {
   "cell_type": "code",
   "execution_count": 84,
   "id": "56aca408-79c4-4f79-b8d6-9436e56cca1e",
   "metadata": {},
   "outputs": [],
   "source": [
    "stem2path = get_list2dict(cross_df['stem'].values, cross_df['path'].values)"
   ]
  },
  {
   "cell_type": "code",
   "execution_count": 87,
   "id": "a2616eb9-ad65-4015-9b39-c7d4a518039c",
   "metadata": {},
   "outputs": [],
   "source": [
    "bboxes_df['img_sp'] = bboxes_df['stem'].map(stem2path)"
   ]
  },
  {
   "cell_type": "code",
   "execution_count": null,
   "id": "49dffb2c-c86c-4e08-9c47-21aaeb0cb1f4",
   "metadata": {},
   "outputs": [],
   "source": []
  },
  {
   "cell_type": "code",
   "execution_count": null,
   "id": "b70fc13d-7f0d-4a5e-9cc6-6df0f3508b21",
   "metadata": {},
   "outputs": [],
   "source": []
  },
  {
   "cell_type": "markdown",
   "id": "e7ee1cb4-bc9f-4cec-a1d1-507c518c8b6e",
   "metadata": {},
   "source": [
    "##### 获取图片的宽和高"
   ]
  },
  {
   "cell_type": "code",
   "execution_count": 88,
   "id": "4ca80adc-108e-4ceb-bb51-ba8a7ca7ff48",
   "metadata": {},
   "outputs": [
    {
     "name": "stderr",
     "output_type": "stream",
     "text": [
      "11064it [00:32, 336.85it/s]\n"
     ]
    }
   ],
   "source": [
    "w_list = []\n",
    "h_list = []\n",
    "for ind,row in tqdm(bboxes_df.iterrows()):\n",
    "    img_sp = row['img_sp']\n",
    "    img = Image.open(img_sp)\n",
    "    w, h = img.size\n",
    "    w_list.append(w)\n",
    "    h_list.append(h)\n",
    "    # break"
   ]
  },
  {
   "cell_type": "code",
   "execution_count": 91,
   "id": "0899c03b-4383-4f4e-8676-ae74b85925d1",
   "metadata": {},
   "outputs": [
    {
     "data": {
      "text/html": [
       "<div>\n",
       "<style scoped>\n",
       "    .dataframe tbody tr th:only-of-type {\n",
       "        vertical-align: middle;\n",
       "    }\n",
       "\n",
       "    .dataframe tbody tr th {\n",
       "        vertical-align: top;\n",
       "    }\n",
       "\n",
       "    .dataframe thead th {\n",
       "        text-align: right;\n",
       "    }\n",
       "</style>\n",
       "<table border=\"1\" class=\"dataframe\">\n",
       "  <thead>\n",
       "    <tr style=\"text-align: right;\">\n",
       "      <th></th>\n",
       "      <th>xml_path</th>\n",
       "      <th>width</th>\n",
       "      <th>height</th>\n",
       "      <th>labelimg</th>\n",
       "      <th>bx1</th>\n",
       "      <th>bx2</th>\n",
       "      <th>bx3</th>\n",
       "      <th>bx4</th>\n",
       "      <th>stem</th>\n",
       "      <th>img_sp</th>\n",
       "    </tr>\n",
       "  </thead>\n",
       "  <tbody>\n",
       "    <tr>\n",
       "      <th>0</th>\n",
       "      <td>/nas/chenyi/datasets_nas/dada_det/xml/wardrobe...</td>\n",
       "      <td>1080</td>\n",
       "      <td>1554</td>\n",
       "      <td>裙子</td>\n",
       "      <td>6</td>\n",
       "      <td>478</td>\n",
       "      <td>1080</td>\n",
       "      <td>1129</td>\n",
       "      <td>2017022320122485968</td>\n",
       "      <td>/nas/chenyi/datasets_nas/dada_det/data/wardrob...</td>\n",
       "    </tr>\n",
       "  </tbody>\n",
       "</table>\n",
       "</div>"
      ],
      "text/plain": [
       "                                            xml_path  width  height labelimg  \\\n",
       "0  /nas/chenyi/datasets_nas/dada_det/xml/wardrobe...   1080    1554       裙子   \n",
       "\n",
       "   bx1  bx2   bx3   bx4                 stem  \\\n",
       "0    6  478  1080  1129  2017022320122485968   \n",
       "\n",
       "                                              img_sp  \n",
       "0  /nas/chenyi/datasets_nas/dada_det/data/wardrob...  "
      ]
     },
     "execution_count": 91,
     "metadata": {},
     "output_type": "execute_result"
    }
   ],
   "source": [
    "bboxes_df.head(1)"
   ]
  },
  {
   "cell_type": "code",
   "execution_count": 90,
   "id": "1500a6bd-b342-467f-b948-6720cd2b182e",
   "metadata": {},
   "outputs": [],
   "source": [
    "df['width'] = w_list\n",
    "df['height'] = h_list"
   ]
  },
  {
   "cell_type": "code",
   "execution_count": null,
   "id": "2ee2f9a3-4030-40ae-b2c1-f6758f4603e5",
   "metadata": {},
   "outputs": [],
   "source": []
  },
  {
   "cell_type": "markdown",
   "id": "88f6942d-808b-4d09-8cd7-3942ab43f9d6",
   "metadata": {},
   "source": [
    "#### label处理"
   ]
  },
  {
   "cell_type": "code",
   "execution_count": 107,
   "id": "6e1070a4-ffcb-4a08-98f3-722b6783e64f",
   "metadata": {},
   "outputs": [
    {
     "data": {
      "text/plain": [
       "labelimg\n",
       "裙子       4357\n",
       "裤子_长款    2618\n",
       "上装_短款    1962\n",
       "裤子_短款    1250\n",
       "鞋子        484\n",
       "包包        242\n",
       "上装_长款     117\n",
       "连体装        34\n",
       "dtype: int64"
      ]
     },
     "execution_count": 107,
     "metadata": {},
     "output_type": "execute_result"
    }
   ],
   "source": [
    "bboxes_df.value_counts('labelimg')"
   ]
  },
  {
   "cell_type": "code",
   "execution_count": 106,
   "id": "d8916cd8-1709-407d-a206-fc92c0edbb19",
   "metadata": {},
   "outputs": [],
   "source": [
    "bboxes_df['label86'] = bboxes_df['labelimg'].map(chi_label2id8)"
   ]
  },
  {
   "cell_type": "code",
   "execution_count": null,
   "id": "ee02b08b-e419-4959-a5ba-373f7626ee15",
   "metadata": {},
   "outputs": [],
   "source": []
  },
  {
   "cell_type": "code",
   "execution_count": null,
   "id": "a4d1f189-cf9a-4ea3-90d1-a0e048a5143b",
   "metadata": {},
   "outputs": [],
   "source": []
  },
  {
   "cell_type": "markdown",
   "id": "474f66f9-2a14-4907-b3b0-567058522497",
   "metadata": {},
   "source": [
    "##### 统计人员的bbox"
   ]
  },
  {
   "cell_type": "code",
   "execution_count": 22,
   "id": "20a56e47-d3e4-46f4-a974-c02643801679",
   "metadata": {},
   "outputs": [],
   "source": [
    "# df['man'] = df[int(df.columns[0])].apply(lambda x: re.findall('wholebody0609_xml/.*?_(.*?)/', x)[0])\n",
    "# df.value_counts('man')"
   ]
  },
  {
   "cell_type": "code",
   "execution_count": null,
   "id": "249d490c-5b84-4973-87b3-7a0d768bbf2e",
   "metadata": {},
   "outputs": [],
   "source": []
  },
  {
   "cell_type": "code",
   "execution_count": null,
   "id": "8b3024eb-ea21-43cc-a555-0e53b028e4ae",
   "metadata": {},
   "outputs": [],
   "source": []
  },
  {
   "cell_type": "markdown",
   "id": "eedbf1f9-c36d-4fdb-a653-947f1ac620bb",
   "metadata": {
    "tags": []
   },
   "source": [
    "### 数据展示"
   ]
  },
  {
   "cell_type": "code",
   "execution_count": 24,
   "id": "2931b06c-5132-4f1f-98da-9b03642c1dca",
   "metadata": {},
   "outputs": [
    {
     "name": "stdout",
     "output_type": "stream",
     "text": [
      "\u001b[01;34m/home/chenyi/workspace/dataset/data/dada_det\u001b[00m\n",
      "├── \u001b[01;34mhard_sample_0610\u001b[00m\n",
      "├── \u001b[01;34m__MACOSX\u001b[00m\n",
      "├── \u001b[01;34mshoe_bag11k_may\u001b[00m\n",
      "├── \u001b[01;34mshoeBag5k0515\u001b[00m\n",
      "└── \u001b[01;34mwholebody0601_all\u001b[00m\n",
      "\n",
      "5 directories\n"
     ]
    }
   ],
   "source": [
    "!tree -d -L 1 /home/chenyi/workspace/dataset/data/dada_det"
   ]
  },
  {
   "cell_type": "code",
   "execution_count": 25,
   "id": "ef350f3a-f985-4478-a6d3-881ebebc22d2",
   "metadata": {},
   "outputs": [],
   "source": [
    "ROOT = Path('/home/chenyi/workspace/dataset/data/dada_det/hard_sample_0610/')"
   ]
  },
  {
   "cell_type": "code",
   "execution_count": null,
   "id": "1384bc35-7a3c-4aa7-b20b-785e3c8f3d26",
   "metadata": {},
   "outputs": [],
   "source": []
  },
  {
   "cell_type": "code",
   "execution_count": null,
   "id": "c6f9a15d-c80e-4392-bd11-10c18feabd52",
   "metadata": {},
   "outputs": [],
   "source": []
  },
  {
   "cell_type": "markdown",
   "id": "ba088f5d-b947-4e39-bf8b-22c0b85a98c8",
   "metadata": {},
   "source": [
    "#### 处理打标标签"
   ]
  },
  {
   "cell_type": "markdown",
   "id": "54e6205f-e920-4de9-acd3-02102fa5d90f",
   "metadata": {},
   "source": [
    "##### 构建中文标签和业务id映射"
   ]
  },
  {
   "cell_type": "code",
   "execution_count": 45,
   "id": "de66ce83-47a7-49c0-bc6f-3d22318a95d9",
   "metadata": {},
   "outputs": [],
   "source": [
    "# counter = df.value_counts(df.columns[3])\n",
    "# name_list = [item[0] for item in list(counter.index)]\n",
    "# name_df = pd.DataFrame()\n",
    "# name_df['name'] = name_list"
   ]
  },
  {
   "cell_type": "code",
   "execution_count": 121,
   "id": "edcb2d1f-0e63-43f5-a60c-d963c99e2cba",
   "metadata": {},
   "outputs": [],
   "source": [
    "import json\n",
    "with open('../../../data/dict/name_chi2l1.json', 'r') as f:\n",
    "    name_chi2l1 = json.load(f)"
   ]
  },
  {
   "cell_type": "code",
   "execution_count": null,
   "id": "df8e65ee-d5ec-4c84-85a4-a25f68ed2fb9",
   "metadata": {},
   "outputs": [],
   "source": []
  },
  {
   "cell_type": "code",
   "execution_count": 122,
   "id": "3a947902-51fd-4592-a16e-ea74b23ab06a",
   "metadata": {},
   "outputs": [],
   "source": [
    "df['label6'] = df[df.columns[3]].map(name_chi2l1)"
   ]
  },
  {
   "cell_type": "code",
   "execution_count": 123,
   "id": "ecbb5a7c-5bff-44a3-99a4-0d6bd58ef012",
   "metadata": {},
   "outputs": [
    {
     "data": {
      "text/plain": [
       "label6\n",
       "4    27\n",
       "7    19\n",
       "6    8 \n",
       "8    4 \n",
       "5    2 \n",
       "dtype: int64"
      ]
     },
     "execution_count": 123,
     "metadata": {},
     "output_type": "execute_result"
    }
   ],
   "source": [
    "df.value_counts('label6')"
   ]
  },
  {
   "cell_type": "code",
   "execution_count": 115,
   "id": "6562d839-3b5e-4b1c-8fcd-e5041592f7af",
   "metadata": {},
   "outputs": [],
   "source": [
    "# 增加多出的中文标签映射\n",
    "# name_chi2l1['皮衣外套'] = 4"
   ]
  },
  {
   "cell_type": "code",
   "execution_count": 116,
   "id": "de2c52c6-3354-4868-9c64-1c1428412a77",
   "metadata": {},
   "outputs": [],
   "source": [
    "import json\n",
    "with open('../../../data/dict/name_chi2l1.json', 'w') as f:\n",
    "    json.dump(name_chi2l1, f)"
   ]
  },
  {
   "cell_type": "code",
   "execution_count": null,
   "id": "940a29f4-82a7-4e98-970e-56298bb56f6a",
   "metadata": {},
   "outputs": [],
   "source": []
  },
  {
   "cell_type": "code",
   "execution_count": 124,
   "id": "134a0a31-23c7-4cb7-a7e2-67ea49446677",
   "metadata": {},
   "outputs": [
    {
     "data": {
      "text/plain": [
       "{0: 10, 1: 8, 2: 4, 3: 5, 4: 6, 5: 7}"
      ]
     },
     "execution_count": 124,
     "metadata": {},
     "output_type": "execute_result"
    }
   ],
   "source": [
    "model_label_map"
   ]
  },
  {
   "cell_type": "code",
   "execution_count": 126,
   "id": "e8058c8e-84cc-4092-8ad7-3803cd79eaa9",
   "metadata": {},
   "outputs": [],
   "source": [
    "l1_map_model = get_list2dict(model_label_map.values(), model_label_map.keys())\n",
    "df['label_model'] = df['label6'].map(l1_map_model)"
   ]
  },
  {
   "cell_type": "code",
   "execution_count": null,
   "id": "e7c46ea0-ba3d-4f3f-b7b4-68f574c3ca97",
   "metadata": {},
   "outputs": [],
   "source": []
  },
  {
   "cell_type": "markdown",
   "id": "63cec4fb-c4ef-408b-821e-4b59e24b4c33",
   "metadata": {},
   "source": [
    "##### 存储目标index"
   ]
  },
  {
   "cell_type": "code",
   "execution_count": null,
   "id": "17c69c67-c6d1-496e-8f31-e327fe3a3c98",
   "metadata": {},
   "outputs": [],
   "source": [
    "# df = pd.read_csv('../data/wh.csv')"
   ]
  },
  {
   "cell_type": "code",
   "execution_count": null,
   "id": "e57e1daf-0657-4d24-8515-0ea350a219cb",
   "metadata": {},
   "outputs": [],
   "source": [
    "!ls /nas/chenyi/datasets_cls/dada_det_drawed/wholebody_jul_drawed"
   ]
  },
  {
   "cell_type": "code",
   "execution_count": null,
   "id": "34540dea-c130-4954-aeee-1c6209166b9e",
   "metadata": {},
   "outputs": [],
   "source": [
    "!mkdir -p /nas/chenyi/datasets_cls/dada_det_drawed/wholebody_jul_drawed"
   ]
  },
  {
   "cell_type": "code",
   "execution_count": null,
   "id": "ef7716cd-64d6-4073-a6b0-5191e274c122",
   "metadata": {},
   "outputs": [],
   "source": [
    "draw_root = Path('/nas/chenyi/datasets_cls/dada_det_drawed/wholebody_jul_drawed')"
   ]
  },
  {
   "cell_type": "code",
   "execution_count": null,
   "id": "daea1e05-4f61-4c1d-91fd-b038e8afbaa9",
   "metadata": {},
   "outputs": [],
   "source": [
    "df.head(2).values"
   ]
  },
  {
   "cell_type": "code",
   "execution_count": null,
   "id": "b0ba177b-be71-4003-9996-3219f14a43b0",
   "metadata": {},
   "outputs": [],
   "source": [
    "df['img_tp'] = df['img_sp'].apply(lambda x:'{0}/{1}/{2}'.format(draw_root, Path(x).parts[-2], Path(x).name))"
   ]
  },
  {
   "cell_type": "code",
   "execution_count": null,
   "id": "4717ccee-c91c-4220-9c94-32d638b844e6",
   "metadata": {},
   "outputs": [],
   "source": [
    "sys.path.append('../../../')\n",
    "from utils.plots.plots import draw_bbox\n",
    "import cv2\n",
    "from PIL import Image"
   ]
  },
  {
   "cell_type": "code",
   "execution_count": null,
   "id": "e08d41fe-5d11-429c-bf5c-9e2964c345d6",
   "metadata": {},
   "outputs": [],
   "source": []
  },
  {
   "cell_type": "code",
   "execution_count": null,
   "id": "63484868-f555-4a69-918e-a5d6d004755a",
   "metadata": {
    "tags": []
   },
   "outputs": [],
   "source": [
    "# error_p_list = []\n",
    "# for ind, row in tqdm(df.iterrows()):\n",
    "#     row_info = row.loc[df.columns[:8]].values\n",
    "#     w,h = row_info[1], row_info[2]\n",
    "#     name = row.loc[['label_model']].values[0]\n",
    "#     bbox = list(row_info[4:8])\n",
    "#     bbox.insert(0,name)\n",
    "#     tp = Path(row.loc[['img_tp']].values[0])\n",
    "#     if not tp.parent.is_dir():\n",
    "#         tp.parent.mkdir()\n",
    "#     rp = tp if tp.is_file() else row.loc[['img_sp']].values[0]\n",
    "#     img = cv2.imread(str(rp))\n",
    "#     img = draw_bbox(img, bbox)\n",
    "#     try:\n",
    "#         cv2.imwrite(str(tp), img)\n",
    "#     except:\n",
    "#         error_p_list.append(tp)\n",
    "#     # break"
   ]
  },
  {
   "cell_type": "code",
   "execution_count": null,
   "id": "013ac242-b801-4fd3-b433-76a8b5fffbcf",
   "metadata": {},
   "outputs": [],
   "source": [
    "error_p_list"
   ]
  },
  {
   "cell_type": "code",
   "execution_count": null,
   "id": "0c1688b8-ffd1-4f7c-a1a3-53909e599267",
   "metadata": {},
   "outputs": [],
   "source": [
    "error_df = pd.DataFrame()\n",
    "error_df['path'] = error_p_list\n",
    "error_df['stem'] = error_df['path'].apply(lambda x: Path(x).stem)"
   ]
  },
  {
   "cell_type": "code",
   "execution_count": null,
   "id": "fd73f5cc-f153-46d5-900c-3a66b5a6a3a2",
   "metadata": {},
   "outputs": [],
   "source": [
    "df.head()"
   ]
  },
  {
   "cell_type": "code",
   "execution_count": null,
   "id": "002171fe-87b6-47d6-9c70-e704b0430d4a",
   "metadata": {},
   "outputs": [],
   "source": [
    "df = df[~df['stem'].isin(error_df['stem'])]"
   ]
  },
  {
   "cell_type": "code",
   "execution_count": null,
   "id": "8d13963f-967e-478d-a009-015e480219ee",
   "metadata": {},
   "outputs": [],
   "source": [
    "# df.to_csv('../data/wholebody5k0610/wholebody5k_july.csv', index=False)"
   ]
  },
  {
   "cell_type": "code",
   "execution_count": null,
   "id": "65c0f50a-eb1d-4325-b4d5-597b2abf3f6a",
   "metadata": {},
   "outputs": [],
   "source": []
  },
  {
   "cell_type": "code",
   "execution_count": null,
   "id": "62312931-e2da-4b0b-a51c-5960f8c49645",
   "metadata": {},
   "outputs": [],
   "source": []
  },
  {
   "cell_type": "code",
   "execution_count": null,
   "id": "27d1933f-8224-4f24-8d9c-6e00ad9b4ad3",
   "metadata": {},
   "outputs": [],
   "source": []
  },
  {
   "cell_type": "markdown",
   "id": "97e563ff-f2d5-43f6-a448-e4278b70eb3d",
   "metadata": {
    "jp-MarkdownHeadingCollapsed": true,
    "tags": []
   },
   "source": [
    "### Display Html"
   ]
  },
  {
   "cell_type": "code",
   "execution_count": null,
   "id": "48b3d126-c890-4cc7-9057-102d0f533d7b",
   "metadata": {},
   "outputs": [],
   "source": [
    "sys.path.append('../../../')\n",
    "from utils.display.html import *\n",
    "from IPython.display import HTML\n",
    "from io import BytesIO"
   ]
  },
  {
   "cell_type": "code",
   "execution_count": null,
   "id": "0b20d79f-f437-462e-ba27-4776f2ccfe3d",
   "metadata": {},
   "outputs": [],
   "source": []
  },
  {
   "cell_type": "code",
   "execution_count": null,
   "id": "ebb552c2-de49-4f4b-974e-f59aa1dded74",
   "metadata": {},
   "outputs": [],
   "source": [
    "draw_root = Path('/nas/chenyi/datasets_cls/dada_det_drawed/wholebody_jul_drawed/')"
   ]
  },
  {
   "cell_type": "code",
   "execution_count": null,
   "id": "ff9ed71b-848c-4699-a3b4-2a3b7903ecf7",
   "metadata": {},
   "outputs": [],
   "source": [
    "img_list = glob.glob(str(draw_root/'*/*.jpg'))\n",
    "len(img_list), img_list[-1]"
   ]
  },
  {
   "cell_type": "code",
   "execution_count": null,
   "id": "04f37ffe-caa3-4cf3-a491-022dffff22a5",
   "metadata": {},
   "outputs": [],
   "source": [
    "# img_list = glob.glob(draw_root + '*.jpg')\n",
    "df_drawed = pd.DataFrame()\n",
    "df_drawed['path'] = img_list[-100:]"
   ]
  },
  {
   "cell_type": "code",
   "execution_count": null,
   "id": "d0bb42e5-04fc-4b52-b34d-b042951684e7",
   "metadata": {},
   "outputs": [],
   "source": [
    "size = 500\n",
    "df_drawed['res'] = df_drawed['path'].map(lambda x: get_thumbnail(x, size))"
   ]
  },
  {
   "cell_type": "code",
   "execution_count": null,
   "id": "bc425c17-a92a-4073-a6f2-03066e468b3a",
   "metadata": {},
   "outputs": [],
   "source": [
    "f = df_drawed[['res', 'path']].to_html(formatters={'res': image_formatter}, escape=False)"
   ]
  },
  {
   "cell_type": "code",
   "execution_count": null,
   "id": "62c53518-cc43-4093-b23a-7d4a2c81c15e",
   "metadata": {
    "tags": []
   },
   "outputs": [],
   "source": [
    "HTML(f)"
   ]
  },
  {
   "cell_type": "code",
   "execution_count": null,
   "id": "11580563-4320-418f-88ed-3a25f81497f7",
   "metadata": {},
   "outputs": [],
   "source": []
  },
  {
   "cell_type": "code",
   "execution_count": null,
   "id": "89a24775-4558-40ef-9be6-11e6c548a805",
   "metadata": {},
   "outputs": [],
   "source": []
  },
  {
   "cell_type": "markdown",
   "id": "6eb6fc37-beae-432b-baf2-c97ad87eb3f6",
   "metadata": {
    "jp-MarkdownHeadingCollapsed": true,
    "tags": []
   },
   "source": [
    "### 解析json文件"
   ]
  },
  {
   "cell_type": "code",
   "execution_count": null,
   "id": "aca59b59-4b6b-48c1-8deb-04ee8f7d6fcb",
   "metadata": {},
   "outputs": [],
   "source": [
    "json_list = glob.glob('/home/chenyi/workspace/dataset/haowei34k_labelImg/xml_label/*/*.json')"
   ]
  },
  {
   "cell_type": "code",
   "execution_count": null,
   "id": "34502f83-9962-4379-8e26-df83895df0ec",
   "metadata": {},
   "outputs": [],
   "source": [
    "json_df = pd.DataFrame()\n",
    "json_df['spath'] = json_list"
   ]
  },
  {
   "cell_type": "code",
   "execution_count": null,
   "id": "2c67d62f-8b80-469a-8f3c-e67530694950",
   "metadata": {},
   "outputs": [],
   "source": [
    "xml_dir = Path('/home/chenyi/workspace/dataset/haowei34k_labelImg/json2xml/')"
   ]
  },
  {
   "cell_type": "code",
   "execution_count": null,
   "id": "d5466bb0-1a94-40a4-b5af-ec713dc397b4",
   "metadata": {},
   "outputs": [],
   "source": [
    "json_df['tpath'] = json_df['spath'].apply(lambda x:\n",
    "                                         '{0}/{1}'.format(xml_dir, re.findall(r'/[0-9]{1,3}/(.*?.json)',x)[0]))"
   ]
  },
  {
   "cell_type": "code",
   "execution_count": null,
   "id": "c47a119e-8e35-40d6-b733-7cbe675a8d68",
   "metadata": {},
   "outputs": [],
   "source": [
    "sys.path.append('/home/chenyi/workspace/myPyModule99/data_format/json_to_xml')\n",
    "from json_to_xml.main import *"
   ]
  },
  {
   "cell_type": "code",
   "execution_count": null,
   "id": "12262dbe-7ae5-4d9d-92ae-aaae157ac712",
   "metadata": {},
   "outputs": [],
   "source": [
    "root_json_dir = xml_dir\n",
    "root_save_xml_dir = '/home/chenyi/workspace/dataset/haowei34k_labelImg/json2xml/xml'"
   ]
  },
  {
   "cell_type": "code",
   "execution_count": null,
   "id": "e5dac5c4-62c7-4361-9f0a-2690adfc5585",
   "metadata": {},
   "outputs": [],
   "source": [
    "import json\n",
    "for json_filename in tqdm(os.listdir(root_json_dir)):\n",
    "    json_path = os.path.join(root_json_dir, json_filename)\n",
    "    json_data = json.load(open(json_path))\n",
    "    break"
   ]
  },
  {
   "cell_type": "code",
   "execution_count": null,
   "id": "8a1e6b6d-baa6-453f-8cbb-897a3b4e09a2",
   "metadata": {},
   "outputs": [],
   "source": [
    "json_df['path'] = glob.glob(str(root_json_dir/'*.json'))"
   ]
  },
  {
   "cell_type": "code",
   "execution_count": null,
   "id": "c970a63b-7aa5-41b0-a61b-c0f1886bb02a",
   "metadata": {},
   "outputs": [],
   "source": [
    "json_df['fname'] =  json_df['path'].apply(lambda x: re.findall(r'/json2xml/(.*?).json',x)[0])"
   ]
  },
  {
   "cell_type": "code",
   "execution_count": null,
   "id": "c7161092-2a20-472b-964a-49c270e3836d",
   "metadata": {},
   "outputs": [],
   "source": [
    "json_labels = {}\n",
    "for ind,row in tqdm(json_df.iterrows()):\n",
    "    json_path = row['path']\n",
    "    fname = row['fname']\n",
    "    json_data = json.load(open(json_path))\n",
    "    json_labels[fname] = ''\n",
    "    for item in json_data['shapes']:\n",
    "        name = item['label']\n",
    "        points = item['points']\n",
    "        xmin, ymin = points[0]\n",
    "        xmax, ymax = points[1]\n",
    "        \n",
    "        if name not in classes_name.keys():\n",
    "            classes_name[name] = len(classes_name)\n",
    "        json_labels[fname] += '{} {:6f} {:6f} {:6f} {:6f}\\n'.format(\n",
    "            classes_name[name], xmin, ymin, xmax, ymax)"
   ]
  },
  {
   "cell_type": "code",
   "execution_count": null,
   "id": "0ddb0257-5234-458d-9a7c-2c745c264904",
   "metadata": {},
   "outputs": [],
   "source": [
    "fname_list = []\n",
    "xmin_list = []\n",
    "ymin_list = []\n",
    "xmax_list = []\n",
    "ymax_list = []\n",
    "labels_list = []\n",
    "for ind,row in tqdm(json_df.iterrows()):\n",
    "    json_path = row['path']\n",
    "    fname = row['fname']\n",
    "    json_data = json.load(open(json_path))\n",
    "    for item in json_data['shapes']:\n",
    "        name = item['label']\n",
    "        points = item['points']\n",
    "        xmin, ymin = points[0]\n",
    "        xmax, ymax = points[1]\n",
    "        \n",
    "        fname_list.append(fname)\n",
    "        labels_list.append(name)\n",
    "        xmin_list.append(xmin)\n",
    "        ymin_list.append(ymin)\n",
    "        ymax_list.append(ymax)\n",
    "        xmax_list.append(xmax)"
   ]
  },
  {
   "cell_type": "code",
   "execution_count": null,
   "id": "a00d56b5-2ef9-4847-89d6-fac027872628",
   "metadata": {},
   "outputs": [],
   "source": []
  },
  {
   "cell_type": "code",
   "execution_count": null,
   "id": "37fe7824-bca8-4620-868a-a3403d43208a",
   "metadata": {},
   "outputs": [],
   "source": [
    "json_bboxes = pd.DataFrame()"
   ]
  },
  {
   "cell_type": "code",
   "execution_count": null,
   "id": "b10f1d61-3113-48bb-9797-028a9d4e7e6e",
   "metadata": {},
   "outputs": [],
   "source": [
    "json_bboxes['fname'] = fname_list\n",
    "json_bboxes['label'] = labels_list\n",
    "json_bboxes['xmin'] = xmin_list\n",
    "json_bboxes['ymin'] = ymin_list\n",
    "json_bboxes['xmax'] = xmax_list\n",
    "json_bboxes['ymax'] = ymax_list"
   ]
  },
  {
   "cell_type": "code",
   "execution_count": null,
   "id": "15d7e83a-e675-417d-843e-492c83ef5187",
   "metadata": {},
   "outputs": [],
   "source": [
    "json_bboxes.head()"
   ]
  },
  {
   "cell_type": "code",
   "execution_count": null,
   "id": "48b1fe30-7b0c-4913-a171-06310c9027fe",
   "metadata": {},
   "outputs": [],
   "source": []
  },
  {
   "cell_type": "code",
   "execution_count": null,
   "id": "21f7a2f9-2898-4113-b150-531bafe7d64b",
   "metadata": {},
   "outputs": [],
   "source": []
  },
  {
   "cell_type": "code",
   "execution_count": null,
   "id": "37f63572-8a89-45af-a203-27897b406a34",
   "metadata": {},
   "outputs": [],
   "source": []
  },
  {
   "cell_type": "code",
   "execution_count": null,
   "id": "f38fb03d-5a00-439f-b48e-5caf27d7c2a5",
   "metadata": {},
   "outputs": [],
   "source": []
  }
 ],
 "metadata": {
  "kernelspec": {
   "display_name": "Python 3 (ipykernel)",
   "language": "python",
   "name": "python3"
  },
  "language_info": {
   "codemirror_mode": {
    "name": "ipython",
    "version": 3
   },
   "file_extension": ".py",
   "mimetype": "text/x-python",
   "name": "python",
   "nbconvert_exporter": "python",
   "pygments_lexer": "ipython3",
   "version": "3.8.13"
  }
 },
 "nbformat": 4,
 "nbformat_minor": 5
}
