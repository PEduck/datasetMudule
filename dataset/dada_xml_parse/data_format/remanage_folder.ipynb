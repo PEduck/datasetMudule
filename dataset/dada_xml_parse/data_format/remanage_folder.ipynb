{
 "cells": [
  {
   "cell_type": "code",
   "execution_count": 3,
   "id": "d681c997-4444-4df5-a610-77ad45748ce5",
   "metadata": {},
   "outputs": [],
   "source": [
    "from pathlib import Path\n",
    "from tqdm import tqdm\n",
    "import pandas as pd\n",
    "import numpy as np\n",
    "import os,sys"
   ]
  },
  {
   "cell_type": "code",
   "execution_count": 4,
   "id": "695f6478-173e-432b-a2cc-a5870d21ce75",
   "metadata": {},
   "outputs": [],
   "source": [
    "import re\n",
    "from PIL import Image\n",
    "import glob"
   ]
  },
  {
   "cell_type": "code",
   "execution_count": null,
   "id": "8b300cc0-e0a2-491a-a8ad-b305271daba0",
   "metadata": {},
   "outputs": [],
   "source": []
  },
  {
   "cell_type": "code",
   "execution_count": null,
   "id": "ef802cba-05e8-4a14-9bcd-287f37e8360c",
   "metadata": {},
   "outputs": [],
   "source": []
  },
  {
   "cell_type": "markdown",
   "id": "ce5d5d5b-48a2-4553-8381-54a68b642a51",
   "metadata": {},
   "source": [
    "### API"
   ]
  },
  {
   "cell_type": "code",
   "execution_count": 18,
   "id": "b91b820e-4dd0-4a43-a0ef-f63d1fc83088",
   "metadata": {},
   "outputs": [],
   "source": [
    "chi_label2id8 = {\n",
    "    0: '鞋子',\n",
    "    1: '包包',\n",
    "    2: '上装_短款',\n",
    "    3: '裤子_短款',\n",
    "    4: '裙子',\n",
    "    5: '连体装',\n",
    "    6: '上装_长款',\n",
    "    7: '裤子_长款',\n",
    "}"
   ]
  },
  {
   "cell_type": "code",
   "execution_count": 19,
   "id": "9b898bf2-a464-4082-9449-3748bf7fcf5d",
   "metadata": {},
   "outputs": [],
   "source": [
    "eng_label2id8 = {\n",
    "    0: 'shoe',\n",
    "    1: 'bag',\n",
    "    2: 'upperbody_short',\n",
    "    3: 'lowerbody_short',\n",
    "    4: 'shirt',\n",
    "    5: 'wholebody',\n",
    "    6: 'upperbody_long',\n",
    "    7: 'lowerbody_long',\n",
    "}"
   ]
  },
  {
   "cell_type": "code",
   "execution_count": 12,
   "id": "78dc269c-f247-4be2-9643-ae28a80b108c",
   "metadata": {},
   "outputs": [],
   "source": [
    "def get_list2dict(k_list, v_list):\n",
    "    d = {}\n",
    "    for item in zip(k_list, v_list):\n",
    "        d[item[0]] = item[1]\n",
    "    return d"
   ]
  },
  {
   "cell_type": "code",
   "execution_count": null,
   "id": "33905b58-6eed-4d89-94c8-f01e66a95ae6",
   "metadata": {},
   "outputs": [],
   "source": [
    "id2label_chi8 = get_list2dict(chi_label2id8.values(), chi_label2id8.keys())"
   ]
  },
  {
   "cell_type": "code",
   "execution_count": null,
   "id": "c469f5b0-4c6f-4ecc-87e5-460b8a962265",
   "metadata": {},
   "outputs": [],
   "source": []
  },
  {
   "cell_type": "code",
   "execution_count": null,
   "id": "88f56de1-031e-44f9-a5fd-cdf93d5ef6c0",
   "metadata": {},
   "outputs": [],
   "source": []
  },
  {
   "cell_type": "markdown",
   "id": "8ca7c036-e66c-4bb1-a587-9f9f8533a62d",
   "metadata": {},
   "source": [
    "### information"
   ]
  },
  {
   "cell_type": "code",
   "execution_count": null,
   "id": "cf803a90-c0da-4b25-a7cb-4908fe03b993",
   "metadata": {},
   "outputs": [],
   "source": []
  },
  {
   "cell_type": "code",
   "execution_count": 7,
   "id": "0b76205a-d439-4860-9625-2ab53f395960",
   "metadata": {},
   "outputs": [
    {
     "data": {
      "text/plain": [
       "20971"
      ]
     },
     "execution_count": 7,
     "metadata": {},
     "output_type": "execute_result"
    }
   ],
   "source": [
    "root = Path('/nas/chenyi/datasets_nas/dada_det/xml/wardrobe500k/wardrobe20k_xml_hard20220705/')\n",
    "root_csv = root /'info_csv/xml_clr_20220705.csv'\n",
    "xml_df = pd.read_csv(root_csv)\n",
    "len(xml_df)"
   ]
  },
  {
   "cell_type": "code",
   "execution_count": 8,
   "id": "38b627a6-a0b4-42f5-9273-6309bcd13878",
   "metadata": {},
   "outputs": [
    {
     "name": "stdout",
     "output_type": "stream",
     "text": [
      "info_csv  xml\n"
     ]
    }
   ],
   "source": [
    "!ls $root/"
   ]
  },
  {
   "cell_type": "code",
   "execution_count": null,
   "id": "2cc18aed-0db8-486f-ab21-caba02022a45",
   "metadata": {},
   "outputs": [],
   "source": []
  },
  {
   "cell_type": "code",
   "execution_count": 9,
   "id": "8ea632c6-d7dc-4b87-82d3-6bafcc307b60",
   "metadata": {},
   "outputs": [
    {
     "data": {
      "text/html": [
       "<div>\n",
       "<style scoped>\n",
       "    .dataframe tbody tr th:only-of-type {\n",
       "        vertical-align: middle;\n",
       "    }\n",
       "\n",
       "    .dataframe tbody tr th {\n",
       "        vertical-align: top;\n",
       "    }\n",
       "\n",
       "    .dataframe thead th {\n",
       "        text-align: right;\n",
       "    }\n",
       "</style>\n",
       "<table border=\"1\" class=\"dataframe\">\n",
       "  <thead>\n",
       "    <tr style=\"text-align: right;\">\n",
       "      <th></th>\n",
       "      <th>xml_path</th>\n",
       "      <th>width</th>\n",
       "      <th>height</th>\n",
       "      <th>labelimg</th>\n",
       "      <th>bx1</th>\n",
       "      <th>bx2</th>\n",
       "      <th>bx3</th>\n",
       "      <th>bx4</th>\n",
       "      <th>stem</th>\n",
       "      <th>img_sp</th>\n",
       "      <th>label86</th>\n",
       "    </tr>\n",
       "  </thead>\n",
       "  <tbody>\n",
       "    <tr>\n",
       "      <th>0</th>\n",
       "      <td>/nas/chenyi/datasets_nas/wardrobe20k_labelimg/...</td>\n",
       "      <td>1080</td>\n",
       "      <td>1554</td>\n",
       "      <td>裙子</td>\n",
       "      <td>6</td>\n",
       "      <td>478</td>\n",
       "      <td>1080</td>\n",
       "      <td>1129</td>\n",
       "      <td>2017022320122485968</td>\n",
       "      <td>/nas/chenyi/datasets_nas/wardrobe20k_labelimg/...</td>\n",
       "      <td>4</td>\n",
       "    </tr>\n",
       "  </tbody>\n",
       "</table>\n",
       "</div>"
      ],
      "text/plain": [
       "                                            xml_path  width  height labelimg  \\\n",
       "0  /nas/chenyi/datasets_nas/wardrobe20k_labelimg/...   1080    1554       裙子   \n",
       "\n",
       "   bx1  bx2   bx3   bx4                 stem  \\\n",
       "0    6  478  1080  1129  2017022320122485968   \n",
       "\n",
       "                                              img_sp  label86  \n",
       "0  /nas/chenyi/datasets_nas/wardrobe20k_labelimg/...        4  "
      ]
     },
     "execution_count": 9,
     "metadata": {},
     "output_type": "execute_result"
    }
   ],
   "source": [
    "xml_df.head(1)"
   ]
  },
  {
   "cell_type": "code",
   "execution_count": 20,
   "id": "bce6a8cd-a2e4-4c01-bb54-ee8285873e41",
   "metadata": {},
   "outputs": [],
   "source": [
    "# xml_df['label_eng'] = xml_df['label86'].map(eng_label2id8)"
   ]
  },
  {
   "cell_type": "code",
   "execution_count": null,
   "id": "585d865c-d11d-4f06-b540-4097a80ad071",
   "metadata": {},
   "outputs": [],
   "source": []
  },
  {
   "cell_type": "markdown",
   "id": "d9454bf9-157c-40d1-8ea6-90e468e54be4",
   "metadata": {},
   "source": [
    "#### one object."
   ]
  },
  {
   "cell_type": "code",
   "execution_count": null,
   "id": "d9fa687f-561e-49a6-9eb6-38955ce554ff",
   "metadata": {},
   "outputs": [],
   "source": [
    "bboxes_temp = xml_df"
   ]
  },
  {
   "cell_type": "code",
   "execution_count": 56,
   "id": "c3ca24a4-4b70-442c-8ebb-5da8e1be93cf",
   "metadata": {},
   "outputs": [],
   "source": [
    "bboxes_temp['proportion'] = bboxes_temp['bx3'].values*bboxes_temp['bx4'].values"
   ]
  },
  {
   "cell_type": "code",
   "execution_count": 57,
   "id": "95acbba3-14ea-47bf-ab5f-164f7a536372",
   "metadata": {},
   "outputs": [
    {
     "name": "stderr",
     "output_type": "stream",
     "text": [
      "/tmp/ipykernel_2866568/3187007672.py:5: SettingWithCopyWarning: \n",
      "A value is trying to be set on a copy of a slice from a DataFrame\n",
      "\n",
      "See the caveats in the documentation: https://pandas.pydata.org/pandas-docs/stable/user_guide/indexing.html#returning-a-view-versus-a-copy\n",
      "  bboxes_small.sort_values('proportion', ascending=False, inplace=True)\n"
     ]
    }
   ],
   "source": [
    "# bbox占图比例,小于阈值取最大\n",
    "thres = 1/4\n",
    "bboxes_large = bboxes_temp[bboxes_temp['proportion']>thres]\n",
    "bboxes_small = bboxes_temp[~bboxes_temp['stem'].isin(bboxes_large['stem'])]\n",
    "bboxes_small.sort_values('proportion', ascending=False, inplace=True)\n",
    "bboxes_small.drop_duplicates('stem', keep='first', inplace=True)\n",
    "bboxes_temp = pd.concat([bboxes_large, bboxes_small], axis=0)"
   ]
  },
  {
   "cell_type": "code",
   "execution_count": 55,
   "id": "c677317f-73e9-48ef-8acd-3b018bfdeec6",
   "metadata": {},
   "outputs": [],
   "source": [
    "# 计算距离\n",
    "bboxes_temp['distance_abs'] = np.sqrt(((bboxes_temp['bx1'].values-0.5)*bboxes_temp['width'].values)**2 + \n",
    "                              ((bboxes_temp['bx2'].values-0.5)*bboxes_temp['height'].values)**2)"
   ]
  },
  {
   "cell_type": "code",
   "execution_count": 58,
   "id": "0fb87001-7d9e-4db4-bc04-e30b3cd15b0e",
   "metadata": {},
   "outputs": [],
   "source": [
    "# 取距离中心最近的\n",
    "bboxes_temp.sort_values('distance_abs', ascending=True, inplace=True)\n",
    "bboxes_temp = bboxes_temp.drop_duplicates('stem', keep='first')"
   ]
  },
  {
   "cell_type": "code",
   "execution_count": 63,
   "id": "0fca922d-97da-42a1-b519-410876b79a5c",
   "metadata": {},
   "outputs": [
    {
     "data": {
      "text/plain": [
       "(20361,)"
      ]
     },
     "execution_count": 63,
     "metadata": {},
     "output_type": "execute_result"
    }
   ],
   "source": [
    "len(bboxes_temp), "
   ]
  },
  {
   "cell_type": "code",
   "execution_count": null,
   "id": "7b1d1c4c-7523-4d66-834b-03c5ba424824",
   "metadata": {},
   "outputs": [],
   "source": []
  },
  {
   "cell_type": "markdown",
   "id": "db156c8f-e518-4ab5-ae7a-cedd2e9c5ee1",
   "metadata": {},
   "source": [
    "#### 生成target path"
   ]
  },
  {
   "cell_type": "code",
   "execution_count": 65,
   "id": "032e06f6-4bef-46b0-bad0-e33bcd42da7d",
   "metadata": {},
   "outputs": [],
   "source": [
    "xml_df = bboxes_temp"
   ]
  },
  {
   "cell_type": "code",
   "execution_count": 66,
   "id": "575f3218-b936-4727-93fa-1051ed6f3216",
   "metadata": {},
   "outputs": [],
   "source": [
    "root_xml = root /'xml_'\n",
    "root_img = root /'images_'"
   ]
  },
  {
   "cell_type": "code",
   "execution_count": null,
   "id": "0b5f5720-4aff-4dec-b653-058dcc5e0858",
   "metadata": {},
   "outputs": [],
   "source": []
  },
  {
   "cell_type": "code",
   "execution_count": null,
   "id": "a58d75b5-2ace-46a0-9186-5cbb876da045",
   "metadata": {},
   "outputs": [],
   "source": []
  },
  {
   "cell_type": "code",
   "execution_count": 12,
   "id": "9e7d591a-fa7f-425b-87ce-1677b41a5815",
   "metadata": {},
   "outputs": [
    {
     "name": "stdout",
     "output_type": "stream",
     "text": [
      "上装_短款\n",
      "裙子\n",
      "裤子_长款\n",
      "连体装\n",
      "裤子_短款\n",
      "包包\n",
      "鞋子\n",
      "上装_长款\n"
     ]
    }
   ],
   "source": [
    "for item in xml_df.value_counts('labelimg').index:\n",
    "    print(item)"
   ]
  },
  {
   "cell_type": "code",
   "execution_count": 145,
   "id": "930af8dc-cd46-4984-83c2-f204d70b45d7",
   "metadata": {},
   "outputs": [],
   "source": [
    "cat_xml_df = xml_df[xml_df['label_eng']=='upperbody_long']"
   ]
  },
  {
   "cell_type": "code",
   "execution_count": 146,
   "id": "bdc161ed-3bf2-4ff1-a2f5-fa7e26f500a8",
   "metadata": {},
   "outputs": [],
   "source": [
    "cat_xml_df.reset_index(inplace=True, drop=True)"
   ]
  },
  {
   "cell_type": "code",
   "execution_count": 147,
   "id": "0f9632cc-340f-4cd8-894b-124667c68e71",
   "metadata": {},
   "outputs": [
    {
     "data": {
      "text/html": [
       "<div>\n",
       "<style scoped>\n",
       "    .dataframe tbody tr th:only-of-type {\n",
       "        vertical-align: middle;\n",
       "    }\n",
       "\n",
       "    .dataframe tbody tr th {\n",
       "        vertical-align: top;\n",
       "    }\n",
       "\n",
       "    .dataframe thead th {\n",
       "        text-align: right;\n",
       "    }\n",
       "</style>\n",
       "<table border=\"1\" class=\"dataframe\">\n",
       "  <thead>\n",
       "    <tr style=\"text-align: right;\">\n",
       "      <th></th>\n",
       "      <th>xml_path</th>\n",
       "      <th>width</th>\n",
       "      <th>height</th>\n",
       "      <th>labelimg</th>\n",
       "      <th>bx1</th>\n",
       "      <th>bx2</th>\n",
       "      <th>bx3</th>\n",
       "      <th>bx4</th>\n",
       "      <th>stem</th>\n",
       "      <th>img_sp</th>\n",
       "      <th>label86</th>\n",
       "      <th>label_eng</th>\n",
       "      <th>distance_abs</th>\n",
       "      <th>proportion</th>\n",
       "    </tr>\n",
       "  </thead>\n",
       "  <tbody>\n",
       "    <tr>\n",
       "      <th>0</th>\n",
       "      <td>/nas/chenyi/datasets_nas/wardrobe20k_labelimg/...</td>\n",
       "      <td>400</td>\n",
       "      <td>880</td>\n",
       "      <td>上装_长款</td>\n",
       "      <td>2</td>\n",
       "      <td>1</td>\n",
       "      <td>397</td>\n",
       "      <td>879</td>\n",
       "      <td>2017072509571102016</td>\n",
       "      <td>/nas/chenyi/datasets_nas/wardrobe20k_labelimg/...</td>\n",
       "      <td>6</td>\n",
       "      <td>upperbody_long</td>\n",
       "      <td>744.04301</td>\n",
       "      <td>348963</td>\n",
       "    </tr>\n",
       "  </tbody>\n",
       "</table>\n",
       "</div>"
      ],
      "text/plain": [
       "                                            xml_path  width  height labelimg  \\\n",
       "0  /nas/chenyi/datasets_nas/wardrobe20k_labelimg/...    400     880    上装_长款   \n",
       "\n",
       "   bx1  bx2  bx3  bx4                 stem  \\\n",
       "0    2    1  397  879  2017072509571102016   \n",
       "\n",
       "                                              img_sp  label86       label_eng  \\\n",
       "0  /nas/chenyi/datasets_nas/wardrobe20k_labelimg/...        6  upperbody_long   \n",
       "\n",
       "   distance_abs  proportion  \n",
       "0     744.04301      348963  "
      ]
     },
     "execution_count": 147,
     "metadata": {},
     "output_type": "execute_result"
    }
   ],
   "source": [
    "cat_xml_df.head(1)"
   ]
  },
  {
   "cell_type": "code",
   "execution_count": 148,
   "id": "1884cc2a-81b2-40b2-984a-2382b0a8009d",
   "metadata": {},
   "outputs": [
    {
     "name": "stderr",
     "output_type": "stream",
     "text": [
      "/tmp/ipykernel_2866568/2611509796.py:1: SettingWithCopyWarning: \n",
      "A value is trying to be set on a copy of a slice from a DataFrame.\n",
      "Try using .loc[row_indexer,col_indexer] = value instead\n",
      "\n",
      "See the caveats in the documentation: https://pandas.pydata.org/pandas-docs/stable/user_guide/indexing.html#returning-a-view-versus-a-copy\n",
      "  cat_xml_df['index'] = cat_xml_df.index.values\n"
     ]
    }
   ],
   "source": [
    "cat_xml_df['index'] = cat_xml_df.index.values"
   ]
  },
  {
   "cell_type": "code",
   "execution_count": 149,
   "id": "cb2793d7-8dea-45fa-81d2-580f2522976d",
   "metadata": {},
   "outputs": [
    {
     "name": "stderr",
     "output_type": "stream",
     "text": [
      "/tmp/ipykernel_2866568/2374103287.py:2: SettingWithCopyWarning: \n",
      "A value is trying to be set on a copy of a slice from a DataFrame.\n",
      "Try using .loc[row_indexer,col_indexer] = value instead\n",
      "\n",
      "See the caveats in the documentation: https://pandas.pydata.org/pandas-docs/stable/user_guide/indexing.html#returning-a-view-versus-a-copy\n",
      "  cat_xml_df['xml_tp'] = cat_xml_df.apply(lambda x: '{0}/{1}/{2}/{3}.xml'.format(root_xml, x['label_eng'], x['index']//folder_num, x['stem']), axis=1)\n"
     ]
    }
   ],
   "source": [
    "folder_num = 255\n",
    "cat_xml_df['xml_tp'] = cat_xml_df.apply(lambda x: '{0}/{1}/{2}/{3}.xml'.format(root_xml, x['label_eng'], x['index']//folder_num, x['stem']), axis=1)"
   ]
  },
  {
   "cell_type": "code",
   "execution_count": 150,
   "id": "8a516837-9594-46da-82a6-63f4736d02d3",
   "metadata": {},
   "outputs": [
    {
     "name": "stderr",
     "output_type": "stream",
     "text": [
      "/tmp/ipykernel_2866568/1668441929.py:1: SettingWithCopyWarning: \n",
      "A value is trying to be set on a copy of a slice from a DataFrame.\n",
      "Try using .loc[row_indexer,col_indexer] = value instead\n",
      "\n",
      "See the caveats in the documentation: https://pandas.pydata.org/pandas-docs/stable/user_guide/indexing.html#returning-a-view-versus-a-copy\n",
      "  cat_xml_df['img_tp'] = cat_xml_df.apply(lambda x: '{0}/{1}/{2}/{3}.jpg'.format(root_img, x['label_eng'], x['index']//folder_num, x['stem']), axis=1)\n"
     ]
    }
   ],
   "source": [
    "cat_xml_df['img_tp'] = cat_xml_df.apply(lambda x: '{0}/{1}/{2}/{3}.jpg'.format(root_img, x['label_eng'], x['index']//folder_num, x['stem']), axis=1)"
   ]
  },
  {
   "cell_type": "code",
   "execution_count": 151,
   "id": "a1640000-636b-4f6f-bd64-5a9527fd14aa",
   "metadata": {},
   "outputs": [
    {
     "data": {
      "text/plain": [
       "'/nas/chenyi/datasets_nas/wardrobe20k_labelimg/xml_/upperbody_long/0/2017032415200631960.xml'"
      ]
     },
     "execution_count": 151,
     "metadata": {},
     "output_type": "execute_result"
    }
   ],
   "source": [
    "cat_xml_df['xml_tp'].values[1]"
   ]
  },
  {
   "cell_type": "code",
   "execution_count": null,
   "id": "df718140-7ca0-4d0c-8d97-18a2d817f208",
   "metadata": {},
   "outputs": [],
   "source": []
  },
  {
   "cell_type": "code",
   "execution_count": null,
   "id": "912b4ab2-dd6c-469c-a817-29e4df25f786",
   "metadata": {},
   "outputs": [],
   "source": []
  },
  {
   "cell_type": "markdown",
   "id": "98992c27-fd35-4b72-9875-861506239965",
   "metadata": {},
   "source": [
    "#### 数据拷贝"
   ]
  },
  {
   "cell_type": "code",
   "execution_count": 152,
   "id": "e3e81c3c-60d8-462d-82b7-4778243cb907",
   "metadata": {},
   "outputs": [],
   "source": [
    "# xml_check_dir = root_xml\n",
    "# if Path(xml_check_dir).is_dir():\n",
    "#     shutil.rmtree(xml_check_dir)\n",
    "# Path.mkdir(xml_check_dir, parents=True)"
   ]
  },
  {
   "cell_type": "code",
   "execution_count": 153,
   "id": "e07e9830-2cbc-40f8-b390-c7bf14e6a16a",
   "metadata": {},
   "outputs": [],
   "source": [
    "# img_check_dir = root_img\n",
    "# if Path(img_check_dir).is_dir():\n",
    "#     shutil.rmtree(img_check_dir)\n",
    "# Path.mkdir(img_check_dir, parents=True)"
   ]
  },
  {
   "cell_type": "code",
   "execution_count": null,
   "id": "0e1935b1-ddf1-4e0b-8464-5cf86a2dd8d8",
   "metadata": {},
   "outputs": [],
   "source": []
  },
  {
   "cell_type": "code",
   "execution_count": 154,
   "id": "cbd510f3-8e34-4b7c-bdd0-9a5e61b6c3ff",
   "metadata": {},
   "outputs": [
    {
     "name": "stderr",
     "output_type": "stream",
     "text": [
      "212it [00:01, 120.30it/s]\n"
     ]
    }
   ],
   "source": [
    "import shutil\n",
    "from tqdm import tqdm\n",
    "for ind,row in tqdm(cat_xml_df.iterrows()):\n",
    "    sp = Path(row['xml_path'])\n",
    "    tp = Path(row['xml_tp'])\n",
    "    if not tp.parent.is_dir():\n",
    "        tp.parent.mkdir(exist_ok=True, parents=True)\n",
    "    shutil.copyfile(sp, tp)\n",
    "#     shutil.move(sp, tp)"
   ]
  },
  {
   "cell_type": "code",
   "execution_count": 155,
   "id": "fb847d75-b126-40ba-9752-e43b3df204c6",
   "metadata": {},
   "outputs": [
    {
     "name": "stderr",
     "output_type": "stream",
     "text": [
      "212it [00:02, 86.27it/s] \n"
     ]
    }
   ],
   "source": [
    "import shutil\n",
    "from tqdm import tqdm\n",
    "for ind,row in tqdm(cat_xml_df.iterrows()):\n",
    "    sp = Path(row['img_sp'])\n",
    "    tp = Path(row['img_tp'])\n",
    "    if not tp.parent.is_dir():\n",
    "        tp.parent.mkdir(exist_ok=True, parents=True)\n",
    "    shutil.copyfile(sp, tp)\n",
    "#     shutil.move(sp, tp)"
   ]
  },
  {
   "cell_type": "code",
   "execution_count": null,
   "id": "2126c5dc-6d81-4960-b0a5-82147c05ee62",
   "metadata": {},
   "outputs": [],
   "source": []
  },
  {
   "cell_type": "markdown",
   "id": "677d132f-af4b-4c0d-a01b-c052ba3418c1",
   "metadata": {},
   "source": [
    "##### 删除多余xml"
   ]
  },
  {
   "cell_type": "code",
   "execution_count": 159,
   "id": "bb9a8c87-bad4-486e-8254-bd5287c0f290",
   "metadata": {},
   "outputs": [
    {
     "data": {
      "text/plain": [
       "PosixPath('/nas/chenyi/datasets_nas/wardrobe20k_labelimg/xml_')"
      ]
     },
     "execution_count": 159,
     "metadata": {},
     "output_type": "execute_result"
    }
   ],
   "source": [
    "root_xml"
   ]
  },
  {
   "cell_type": "code",
   "execution_count": 162,
   "id": "3967cd9a-b077-4e07-b681-6edb40df1fd8",
   "metadata": {},
   "outputs": [],
   "source": [
    "xml_list = glob.glob(str(root_xml /'*/*/*.xml'))"
   ]
  },
  {
   "cell_type": "code",
   "execution_count": 163,
   "id": "dda5a273-f858-4547-8248-12eaf5f03179",
   "metadata": {},
   "outputs": [],
   "source": [
    "xml_folder_df = pd.DataFrame()\n",
    "xml_folder_df['xml_sp'] = xml_list"
   ]
  },
  {
   "cell_type": "code",
   "execution_count": 164,
   "id": "b06061a5-eeac-4e51-9610-f18fd7f1ffe2",
   "metadata": {},
   "outputs": [
    {
     "data": {
      "text/html": [
       "<div>\n",
       "<style scoped>\n",
       "    .dataframe tbody tr th:only-of-type {\n",
       "        vertical-align: middle;\n",
       "    }\n",
       "\n",
       "    .dataframe tbody tr th {\n",
       "        vertical-align: top;\n",
       "    }\n",
       "\n",
       "    .dataframe thead th {\n",
       "        text-align: right;\n",
       "    }\n",
       "</style>\n",
       "<table border=\"1\" class=\"dataframe\">\n",
       "  <thead>\n",
       "    <tr style=\"text-align: right;\">\n",
       "      <th></th>\n",
       "      <th>xml_sp</th>\n",
       "    </tr>\n",
       "  </thead>\n",
       "  <tbody>\n",
       "    <tr>\n",
       "      <th>0</th>\n",
       "      <td>/nas/chenyi/datasets_nas/wardrobe20k_labelimg/...</td>\n",
       "    </tr>\n",
       "  </tbody>\n",
       "</table>\n",
       "</div>"
      ],
      "text/plain": [
       "                                              xml_sp\n",
       "0  /nas/chenyi/datasets_nas/wardrobe20k_labelimg/..."
      ]
     },
     "execution_count": 164,
     "metadata": {},
     "output_type": "execute_result"
    }
   ],
   "source": [
    "xml_folder_df.head(1)"
   ]
  },
  {
   "cell_type": "code",
   "execution_count": 165,
   "id": "8c929cde-4446-47a1-b275-9f04db305fc2",
   "metadata": {},
   "outputs": [],
   "source": [
    "xml_folder_df['stem'] = xml_folder_df['xml_sp'].apply(lambda x: Path(x).stem)"
   ]
  },
  {
   "cell_type": "code",
   "execution_count": 171,
   "id": "3b211681-3d88-4104-ab7d-7795a69809f2",
   "metadata": {},
   "outputs": [],
   "source": [
    "surplus_df = xml_folder_df[~xml_folder_df['stem'].isin(xml_df['stem'])]"
   ]
  },
  {
   "cell_type": "code",
   "execution_count": 172,
   "id": "0a32c1e4-42e6-4b19-843c-d104460b343c",
   "metadata": {},
   "outputs": [
    {
     "data": {
      "text/plain": [
       "(414, 20971, 20361)"
      ]
     },
     "execution_count": 172,
     "metadata": {},
     "output_type": "execute_result"
    }
   ],
   "source": [
    "len(surplus_df), len(xml_df), len(xml_folder_df)"
   ]
  },
  {
   "cell_type": "code",
   "execution_count": 175,
   "id": "594ba1f9-2fc9-4837-8494-7e8829f3ccd0",
   "metadata": {},
   "outputs": [
    {
     "name": "stderr",
     "output_type": "stream",
     "text": [
      "100%|██████████████████████████████████████████████████████████████████████████████████████| 414/414 [00:00<00:00, 2724.35it/s]\n"
     ]
    }
   ],
   "source": [
    "import shutil\n",
    "from tqdm import tqdm\n",
    "for p in tqdm(surplus_df['xml_sp'].values):\n",
    "    sp = Path(p)\n",
    "    if sp.is_file():\n",
    "        os.remove(sp)\n",
    "    # break"
   ]
  },
  {
   "cell_type": "code",
   "execution_count": null,
   "id": "acf980a8-e564-4022-aecd-b5be478c62bd",
   "metadata": {},
   "outputs": [],
   "source": []
  }
 ],
 "metadata": {
  "kernelspec": {
   "display_name": "Python 3 (ipykernel)",
   "language": "python",
   "name": "python3"
  },
  "language_info": {
   "codemirror_mode": {
    "name": "ipython",
    "version": 3
   },
   "file_extension": ".py",
   "mimetype": "text/x-python",
   "name": "python",
   "nbconvert_exporter": "python",
   "pygments_lexer": "ipython3",
   "version": "3.8.13"
  }
 },
 "nbformat": 4,
 "nbformat_minor": 5
}
