{
 "cells": [
  {
   "cell_type": "code",
   "execution_count": 1,
   "metadata": {},
   "outputs": [],
   "source": [
    "import glob\n",
    "import pandas as pd\n",
    "from pathlib import Path\n",
    "from PIL import Image\n",
    "from xml.dom.minidom import Document\n",
    "import os\n",
    "import cv2\n",
    "from pathlib import Path\n",
    "from tqdm import tqdm"
   ]
  },
  {
   "cell_type": "code",
   "execution_count": null,
   "metadata": {},
   "outputs": [],
   "source": []
  },
  {
   "cell_type": "code",
   "execution_count": null,
   "metadata": {},
   "outputs": [],
   "source": []
  },
  {
   "cell_type": "code",
   "execution_count": 68,
   "metadata": {},
   "outputs": [],
   "source": [
    "id2chi9 = {\n",
    "    0: '鞋子',\n",
    "    1: '包包',\n",
    "    2: '上装_短款',\n",
    "    3: '裤子',\n",
    "    4: '半身裙',\n",
    "    5: '连体装',\n",
    "    6: '上装_长款',\n",
    "    7: '超短裤',\n",
    "    8: '超短裙',\n",
    "}\n",
    "\n",
    "id2eng9 = {\n",
    "    0: 'shoe',  # 鞋子\n",
    "    1: 'bag',  # 包包\n",
    "    2: 'upper_short',  # 上装\n",
    "    3: 'paints',  # 裤子\n",
    "    4: 'skirt',  # 裙子\n",
    "    5: 'wholebody',  # 连体装\n",
    "    6: 'upper_long',\n",
    "    7: 'paints_hot',\n",
    "    8: 'miniskirt',\n",
    "}"
   ]
  },
  {
   "cell_type": "code",
   "execution_count": null,
   "metadata": {},
   "outputs": [],
   "source": []
  },
  {
   "cell_type": "code",
   "execution_count": 69,
   "metadata": {},
   "outputs": [],
   "source": [
    "def get_list2dict(k_list, v_list):\n",
    "    d = {}\n",
    "    for item in zip(k_list, v_list):\n",
    "        d[item[0]] = item[1]\n",
    "    return d"
   ]
  },
  {
   "cell_type": "code",
   "execution_count": null,
   "metadata": {},
   "outputs": [],
   "source": []
  },
  {
   "cell_type": "code",
   "execution_count": 70,
   "metadata": {},
   "outputs": [],
   "source": [
    "chi2id9 = get_list2dict(id2chi9.values(), id2chi9.keys())\n",
    "eng2id9 = get_list2dict(id2eng9.values(), id2eng9.keys())"
   ]
  },
  {
   "cell_type": "code",
   "execution_count": null,
   "metadata": {},
   "outputs": [],
   "source": []
  },
  {
   "cell_type": "code",
   "execution_count": null,
   "metadata": {},
   "outputs": [],
   "source": []
  },
  {
   "cell_type": "markdown",
   "metadata": {},
   "source": [
    "#### 数据加载"
   ]
  },
  {
   "cell_type": "code",
   "execution_count": 72,
   "metadata": {},
   "outputs": [],
   "source": [
    "root_csv = Path('../../data/xml_csv/')\n",
    "bboxes_df = pd.read_csv(root_csv /'gall7k_xml_20220715.csv')"
   ]
  },
  {
   "cell_type": "code",
   "execution_count": null,
   "metadata": {},
   "outputs": [],
   "source": []
  },
  {
   "cell_type": "code",
   "execution_count": 73,
   "metadata": {},
   "outputs": [],
   "source": [
    "bboxes_df['label9'] = bboxes_df['labelimg'].map(chi2id9)\n",
    "bboxes_df['label9_eng'] = bboxes_df['label9'].map(id2eng9)\n",
    "bboxes_df['label_xml'] = bboxes_df['label9_eng']"
   ]
  },
  {
   "cell_type": "code",
   "execution_count": null,
   "metadata": {},
   "outputs": [],
   "source": []
  },
  {
   "cell_type": "code",
   "execution_count": null,
   "metadata": {},
   "outputs": [],
   "source": []
  },
  {
   "cell_type": "markdown",
   "metadata": {},
   "source": [
    "### pandas转xml"
   ]
  },
  {
   "cell_type": "code",
   "execution_count": null,
   "metadata": {},
   "outputs": [],
   "source": []
  },
  {
   "cell_type": "code",
   "execution_count": 74,
   "metadata": {},
   "outputs": [],
   "source": [
    "root = Path('/Users/chenyi/Desktop/check_img')\n",
    "dataset_name = 'deploy'\n",
    "txtPath = str(root /'labels') + '/'\n",
    "picPath = str(root /'JPEGImages') + '/'\n",
    "xmlPath = str(root /'xml') + '/'"
   ]
  },
  {
   "cell_type": "code",
   "execution_count": 9,
   "metadata": {},
   "outputs": [],
   "source": [
    "pathes = glob.glob(txtPath+'*.txt')"
   ]
  },
  {
   "cell_type": "code",
   "execution_count": 8,
   "metadata": {},
   "outputs": [],
   "source": [
    "# makexml(txtPath, xmlPath, picPath, dataset_name)"
   ]
  },
  {
   "cell_type": "code",
   "execution_count": null,
   "metadata": {},
   "outputs": [],
   "source": []
  },
  {
   "cell_type": "code",
   "execution_count": 75,
   "metadata": {},
   "outputs": [],
   "source": [
    "dataset = 'gallery2m_7k20220715'\n",
    "root_save = Path(f'/Users/chenyi/Desktop/{dataset}')\n",
    "bboxes_df['xml_tp'] = bboxes_df.apply(lambda x: '{0}/{1}/{2}.xml'.format(root_save, x['man'], x['stem']), axis=1)"
   ]
  },
  {
   "cell_type": "code",
   "execution_count": 76,
   "metadata": {},
   "outputs": [],
   "source": [
    "group_dict = dict(list(bboxes_df.groupby('stem')))"
   ]
  },
  {
   "cell_type": "code",
   "execution_count": null,
   "metadata": {},
   "outputs": [],
   "source": []
  },
  {
   "cell_type": "code",
   "execution_count": 77,
   "metadata": {},
   "outputs": [
    {
     "data": {
      "text/plain": [
       "(labelimg\n",
       " 鞋子       10008\n",
       " 上装_短款     5623\n",
       " 包包        3304\n",
       " 裤子        2843\n",
       " 上装_长款     1132\n",
       " 半身裙       1024\n",
       " 连体装        948\n",
       " 超短裤        736\n",
       " 超短裙        723\n",
       " dtype: int64,\n",
       " 9)"
      ]
     },
     "execution_count": 77,
     "metadata": {},
     "output_type": "execute_result"
    }
   ],
   "source": [
    "bboxes_df.value_counts('labelimg'), len(bboxes_df.value_counts('labelimg'))"
   ]
  },
  {
   "cell_type": "code",
   "execution_count": null,
   "metadata": {},
   "outputs": [],
   "source": []
  },
  {
   "cell_type": "code",
   "execution_count": 80,
   "metadata": {},
   "outputs": [
    {
     "name": "stderr",
     "output_type": "stream",
     "text": [
      "100%|██████████| 7230/7230 [00:15<00:00, 477.47it/s]\n"
     ]
    }
   ],
   "source": [
    "for k, v in tqdm(group_dict.items()):\n",
    "    stem = k\n",
    "    rows = v.loc[:, ['width', 'height', 'label_xml', 'bx1', 'bx2', 'bx3', 'bx4', 'stem', 'xml_tp']].values\n",
    "    xml_path = Path(rows[0, 8])\n",
    "    if xml_path.is_file():\n",
    "        continue\n",
    "    if not xml_path.parent.is_dir():\n",
    "        xml_path.parent.mkdir(parents=True)\n",
    "    Pwidth, Pheight, Pdepth= rows[0,0], rows[0,1], 3\n",
    "    xmlBuilder = Document()\n",
    "    annotation = xmlBuilder.createElement(\"annotation\")  # 创建annotation标签\n",
    "    xmlBuilder.appendChild(annotation)\n",
    "    flag = 0\n",
    "    for row in rows:\n",
    "        flag += 1\n",
    "        label = row[2]\n",
    "        xmin_num, ymin_num, xmax_num, ymax_num = row[3], row[4], row[5], row[6]\n",
    "        folder = xmlBuilder.createElement(\"folder\")  # folder标签\n",
    "        folderContent = xmlBuilder.createTextNode(dataset)\n",
    "        folder.appendChild(folderContent)\n",
    "        annotation.appendChild(folder)\n",
    "        \n",
    "        if flag==1:\n",
    "            filename = xmlBuilder.createElement(\"filename\")  # filename标签\n",
    "            filenameContent = xmlBuilder.createTextNode(stem+\".jpg\")\n",
    "            filename.appendChild(filenameContent)\n",
    "            annotation.appendChild(filename)\n",
    "\n",
    "            size = xmlBuilder.createElement(\"size\")  # size标签\n",
    "            width = xmlBuilder.createElement(\"width\")  # size子标签width\n",
    "            widthContent = xmlBuilder.createTextNode(str(Pwidth))\n",
    "            width.appendChild(widthContent)\n",
    "            size.appendChild(width)\n",
    "            height = xmlBuilder.createElement(\"height\")  # size子标签height\n",
    "            heightContent = xmlBuilder.createTextNode(str(Pheight))\n",
    "            height.appendChild(heightContent)\n",
    "            size.appendChild(height)\n",
    "            depth = xmlBuilder.createElement(\"depth\")  # size子标签depth\n",
    "            depthContent = xmlBuilder.createTextNode(str(Pdepth))\n",
    "            depth.appendChild(depthContent)\n",
    "            size.appendChild(depth)\n",
    "            annotation.appendChild(size)\n",
    "\n",
    "        object = xmlBuilder.createElement(\"object\")\n",
    "        picname = xmlBuilder.createElement(\"name\")\n",
    "        nameContent = xmlBuilder.createTextNode(label)\n",
    "        picname.appendChild(nameContent)\n",
    "        object.appendChild(picname)\n",
    "        pose = xmlBuilder.createElement(\"pose\")\n",
    "        poseContent = xmlBuilder.createTextNode(\"Unspecified\")\n",
    "        pose.appendChild(poseContent)\n",
    "        object.appendChild(pose)\n",
    "        truncated = xmlBuilder.createElement(\"truncated\")\n",
    "        truncatedContent = xmlBuilder.createTextNode(\"0\")\n",
    "        truncated.appendChild(truncatedContent)\n",
    "        object.appendChild(truncated)\n",
    "        difficult = xmlBuilder.createElement(\"difficult\")\n",
    "        difficultContent = xmlBuilder.createTextNode(\"0\")\n",
    "        difficult.appendChild(difficultContent)\n",
    "        object.appendChild(difficult)\n",
    "        bndbox = xmlBuilder.createElement(\"bndbox\")\n",
    "        \n",
    "        xmin = xmlBuilder.createElement(\"xmin\")\n",
    "#         mathData=int(((float(oneline[1]))*Pwidth+1)-(float(oneline[3]))*0.5*Pwidth)\n",
    "        mathData = xmin_num\n",
    "        xminContent = xmlBuilder.createTextNode(str(mathData))\n",
    "        xmin.appendChild(xminContent)\n",
    "        bndbox.appendChild(xmin)\n",
    "        \n",
    "        ymin = xmlBuilder.createElement(\"ymin\")\n",
    "        mathData = ymin_num\n",
    "#         mathData = int(((float(oneline[2]))*Pheight+1)-(float(oneline[4]))*0.5*Pheight)\n",
    "        yminContent = xmlBuilder.createTextNode(str(mathData))\n",
    "        ymin.appendChild(yminContent)\n",
    "        bndbox.appendChild(ymin)\n",
    "        \n",
    "        xmax = xmlBuilder.createElement(\"xmax\")\n",
    "#         mathData = int(((float(oneline[1]))*Pwidth+1)+(float(oneline[3]))*0.5*Pwidth)\n",
    "        mathData = xmax_num\n",
    "        xmaxContent = xmlBuilder.createTextNode(str(mathData))\n",
    "        xmax.appendChild(xmaxContent)\n",
    "        bndbox.appendChild(xmax)\n",
    "        \n",
    "        ymax = xmlBuilder.createElement(\"ymax\")\n",
    "#         mathData = int(((float(oneline[2]))*Pheight+1)+(float(oneline[4]))*0.5*Pheight)\n",
    "        mathData = ymax_num\n",
    "        ymaxContent = xmlBuilder.createTextNode(str(mathData))\n",
    "        ymax.appendChild(ymaxContent)\n",
    "        bndbox.appendChild(ymax)\n",
    "        object.appendChild(bndbox)\n",
    "\n",
    "        annotation.appendChild(object)\n",
    "        \n",
    "\n",
    "\n",
    "    f = open(xml_path, 'w')\n",
    "    xmlBuilder.writexml(f, indent='\\t', newl='\\n', addindent='\\t', encoding='utf-8')\n",
    "    f.close()\n",
    "#     break"
   ]
  },
  {
   "cell_type": "code",
   "execution_count": null,
   "metadata": {},
   "outputs": [],
   "source": []
  },
  {
   "cell_type": "code",
   "execution_count": null,
   "metadata": {},
   "outputs": [],
   "source": []
  },
  {
   "cell_type": "code",
   "execution_count": null,
   "metadata": {},
   "outputs": [],
   "source": []
  },
  {
   "cell_type": "code",
   "execution_count": 12,
   "metadata": {},
   "outputs": [],
   "source": [
    "def makexml(txtPath, xmlPath, picPath, dataset='VOC2007'):  # 读取txt路径，xml保存路径，数据集图片所在路径\n",
    "#     files = os.listdir(txtPath)\n",
    "    pathes = glob.glob(txtPath+'*.txt')[:10]\n",
    "    files = [Path(x).name for x in pathes]\n",
    "    for i, name in tqdm(enumerate(files)):\n",
    "        xmlBuilder = Document()\n",
    "        annotation = xmlBuilder.createElement(\"annotation\")  # 创建annotation标签\n",
    "        xmlBuilder.appendChild(annotation)\n",
    "        txtFile = open(txtPath+name)\n",
    "        txtList = txtFile.readlines()\n",
    "        try:\n",
    "            img = cv2.imread(picPath+name[0:-4]+\".jpg\")\n",
    "            Pheight, Pwidth, Pdepth=img.shape\n",
    "        except:\n",
    "            img = cv2.imread(picPath+name[0:-4]+\".jpeg\")\n",
    "            Pheight, Pwidth, Pdepth=img.shape\n",
    "\n",
    "        flag = 0\n",
    "        for i in txtList:\n",
    "            flag += 1\n",
    "            oneline = i.strip().split(\" \")\n",
    "            folder = xmlBuilder.createElement(\"folder\")  # folder标签\n",
    "            folderContent = xmlBuilder.createTextNode(dataset)\n",
    "            folder.appendChild(folderContent)\n",
    "            annotation.appendChild(folder)\n",
    "            if flag == 1:\n",
    "                filename = xmlBuilder.createElement(\"filename\")  # filename标签\n",
    "                filenameContent = xmlBuilder.createTextNode(name[0:-4]+\".jpg\")\n",
    "                filename.appendChild(filenameContent)\n",
    "                annotation.appendChild(filename)\n",
    "\n",
    "                size = xmlBuilder.createElement(\"size\")  # size标签\n",
    "                width = xmlBuilder.createElement(\"width\")  # size子标签width\n",
    "                widthContent = xmlBuilder.createTextNode(str(Pwidth))\n",
    "                width.appendChild(widthContent)\n",
    "                size.appendChild(width)\n",
    "                height = xmlBuilder.createElement(\"height\")  # size子标签height\n",
    "                heightContent = xmlBuilder.createTextNode(str(Pheight))\n",
    "                height.appendChild(heightContent)\n",
    "                size.appendChild(height)\n",
    "                depth = xmlBuilder.createElement(\"depth\")  # size子标签depth\n",
    "                depthContent = xmlBuilder.createTextNode(str(Pdepth))\n",
    "                depth.appendChild(depthContent)\n",
    "                size.appendChild(depth)\n",
    "                annotation.appendChild(size)\n",
    "\n",
    "            object = xmlBuilder.createElement(\"object\")\n",
    "            picname = xmlBuilder.createElement(\"name\")\n",
    "            nameContent = xmlBuilder.createTextNode(dict[oneline[0]])\n",
    "            picname.appendChild(nameContent)\n",
    "            object.appendChild(picname)\n",
    "            pose = xmlBuilder.createElement(\"pose\")\n",
    "            poseContent = xmlBuilder.createTextNode(\"Unspecified\")\n",
    "            pose.appendChild(poseContent)\n",
    "            object.appendChild(pose)\n",
    "            truncated = xmlBuilder.createElement(\"truncated\")\n",
    "            truncatedContent = xmlBuilder.createTextNode(\"0\")\n",
    "            truncated.appendChild(truncatedContent)\n",
    "            object.appendChild(truncated)\n",
    "            difficult = xmlBuilder.createElement(\"difficult\")\n",
    "            difficultContent = xmlBuilder.createTextNode(\"0\")\n",
    "            difficult.appendChild(difficultContent)\n",
    "            object.appendChild(difficult)\n",
    "            bndbox = xmlBuilder.createElement(\"bndbox\")\n",
    "            xmin = xmlBuilder.createElement(\"xmin\")\n",
    "            mathData=int(((float(oneline[1]))*Pwidth+1)-(float(oneline[3]))*0.5*Pwidth)\n",
    "            xminContent = xmlBuilder.createTextNode(str(mathData))\n",
    "            xmin.appendChild(xminContent)\n",
    "            bndbox.appendChild(xmin)\n",
    "            ymin = xmlBuilder.createElement(\"ymin\")\n",
    "            mathData = int(((float(oneline[2]))*Pheight+1)-(float(oneline[4]))*0.5*Pheight)\n",
    "            yminContent = xmlBuilder.createTextNode(str(mathData))\n",
    "            ymin.appendChild(yminContent)\n",
    "            bndbox.appendChild(ymin)\n",
    "            xmax = xmlBuilder.createElement(\"xmax\")\n",
    "            mathData = int(((float(oneline[1]))*Pwidth+1)+(float(oneline[3]))*0.5*Pwidth)\n",
    "            xmaxContent = xmlBuilder.createTextNode(str(mathData))\n",
    "            xmax.appendChild(xmaxContent)\n",
    "            bndbox.appendChild(xmax)\n",
    "            ymax = xmlBuilder.createElement(\"ymax\")\n",
    "            mathData = int(((float(oneline[2]))*Pheight+1)+(float(oneline[4]))*0.5*Pheight)\n",
    "            ymaxContent = xmlBuilder.createTextNode(str(mathData))\n",
    "            ymax.appendChild(ymaxContent)\n",
    "            bndbox.appendChild(ymax)\n",
    "            object.appendChild(bndbox)\n",
    "\n",
    "            annotation.appendChild(object)\n",
    "\n",
    "        f = open(xmlPath+name[0:-4]+\".xml\", 'w')\n",
    "        xmlBuilder.writexml(f, indent='\\t', newl='\\n', addindent='\\t', encoding='utf-8')\n",
    "        f.close()"
   ]
  },
  {
   "cell_type": "code",
   "execution_count": null,
   "metadata": {},
   "outputs": [],
   "source": []
  },
  {
   "cell_type": "code",
   "execution_count": null,
   "metadata": {},
   "outputs": [],
   "source": []
  },
  {
   "cell_type": "code",
   "execution_count": null,
   "metadata": {},
   "outputs": [],
   "source": []
  },
  {
   "cell_type": "markdown",
   "metadata": {},
   "source": [
    "#### Data copy"
   ]
  },
  {
   "cell_type": "code",
   "execution_count": null,
   "metadata": {},
   "outputs": [],
   "source": []
  },
  {
   "cell_type": "code",
   "execution_count": null,
   "metadata": {},
   "outputs": [],
   "source": []
  },
  {
   "cell_type": "code",
   "execution_count": null,
   "metadata": {},
   "outputs": [],
   "source": []
  }
 ],
 "metadata": {
  "kernelspec": {
   "display_name": "Python 3 (ipykernel)",
   "language": "python",
   "name": "python3"
  },
  "language_info": {
   "codemirror_mode": {
    "name": "ipython",
    "version": 3
   },
   "file_extension": ".py",
   "mimetype": "text/x-python",
   "name": "python",
   "nbconvert_exporter": "python",
   "pygments_lexer": "ipython3",
   "version": "3.8.13"
  }
 },
 "nbformat": 4,
 "nbformat_minor": 4
}
