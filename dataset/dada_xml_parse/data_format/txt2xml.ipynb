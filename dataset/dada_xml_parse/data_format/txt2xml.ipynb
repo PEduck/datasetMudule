{
 "cells": [
  {
   "cell_type": "code",
   "execution_count": 1,
   "id": "461d1c69-d4b0-4ee8-b510-c41a86b1d939",
   "metadata": {},
   "outputs": [],
   "source": [
    "import glob\n",
    "import pandas as pd\n",
    "from pathlib import Path\n",
    "from xml.dom.minidom import Document\n",
    "import cv2"
   ]
  },
  {
   "cell_type": "code",
   "execution_count": null,
   "id": "430813f9-7bae-4704-8ecc-881fc6b1f911",
   "metadata": {},
   "outputs": [],
   "source": []
  },
  {
   "cell_type": "code",
   "execution_count": null,
   "id": "483b63c1-5533-4d4d-953d-df2e96227908",
   "metadata": {},
   "outputs": [],
   "source": []
  },
  {
   "cell_type": "code",
   "execution_count": 2,
   "id": "536488cb-1e08-4d45-b9f4-e9507e0493d6",
   "metadata": {},
   "outputs": [],
   "source": [
    "dict = {'0': \"0\",  # 字典对类型进行转换\n",
    "        '1': \"1\",\n",
    "        '2': \"2\",\n",
    "        '3': \"3\",\n",
    "        '4': \"4\",\n",
    "       '5': '5',\n",
    "       '6': \"6\",\n",
    "       '7': \"7\",\n",
    "       '8': \"8\",}"
   ]
  },
  {
   "cell_type": "code",
   "execution_count": 3,
   "id": "c8047b74-0caf-4615-9cef-01188daea461",
   "metadata": {},
   "outputs": [],
   "source": [
    "txtPath = \"../watoo20k/watoo_anomaly_hard20k_labelme/check_txt/txt/\"\n",
    "picPath = \"../watoo20k/watoo_anomaly_hard20k_labelme/check_txt/check_img_txt/\"\n",
    "xmlPath = \"../watoo20k/watoo_anomaly_hard20k_labelme/check_txt/gen_xml/\""
   ]
  },
  {
   "cell_type": "code",
   "execution_count": null,
   "id": "9b1d30e5-875c-4c63-ae52-4ddc1618db1e",
   "metadata": {},
   "outputs": [],
   "source": [
    "makexml(\"../watoo20k/watoo_anomaly_hard20k_labelme/check_txt/txt/\",\n",
    "        \"../watoo20k/watoo_anomaly_hard20k_labelme/check_txt/gen_xml/\",\n",
    "        \"../watoo20k/watoo_anomaly_hard20k_labelme/check_txt/check_img_txt/\")"
   ]
  },
  {
   "cell_type": "code",
   "execution_count": null,
   "id": "789ab042-72e0-4ec7-9796-29312b574aac",
   "metadata": {},
   "outputs": [],
   "source": []
  },
  {
   "cell_type": "code",
   "execution_count": 4,
   "id": "c0d10cbd-3c34-433e-8e8b-96a13765b803",
   "metadata": {},
   "outputs": [],
   "source": [
    "def makexml(txtPath, xmlPath, picPath):  # 读取txt路径，xml保存路径，数据集图片所在路径\n",
    "#     files = os.listdir(txtPath)\n",
    "    pathes = glob.glob(txtPath+'*.txt')\n",
    "    files = [Path(x).name for x in pathes]\n",
    "    for i, name in tqdm(enumerate(files)):\n",
    "        xmlBuilder = Document()\n",
    "        annotation = xmlBuilder.createElement(\"annotation\")  # 创建annotation标签\n",
    "        xmlBuilder.appendChild(annotation)\n",
    "        txtFile = open(txtPath+name)\n",
    "        txtList = txtFile.readlines()\n",
    "        img = cv2.imread(picPath+name[0:-4]+\".jpg\")\n",
    "        Pheight, Pwidth, Pdepth=img.shape\n",
    "        flag = 0\n",
    "        for i in txtList:\n",
    "            flag += 1\n",
    "            oneline = i.strip().split(\" \")\n",
    "            folder = xmlBuilder.createElement(\"folder\")  # folder标签\n",
    "            folderContent = xmlBuilder.createTextNode(\"VOC2007\")\n",
    "            folder.appendChild(folderContent)\n",
    "            annotation.appendChild(folder)\n",
    "            if flag == 1:\n",
    "                filename = xmlBuilder.createElement(\"filename\")  # filename标签\n",
    "                filenameContent = xmlBuilder.createTextNode(name[0:-4]+\".jpg\")\n",
    "                filename.appendChild(filenameContent)\n",
    "                annotation.appendChild(filename)\n",
    "\n",
    "                size = xmlBuilder.createElement(\"size\")  # size标签\n",
    "                width = xmlBuilder.createElement(\"width\")  # size子标签width\n",
    "                widthContent = xmlBuilder.createTextNode(str(Pwidth))\n",
    "                width.appendChild(widthContent)\n",
    "                size.appendChild(width)\n",
    "                height = xmlBuilder.createElement(\"height\")  # size子标签height\n",
    "                heightContent = xmlBuilder.createTextNode(str(Pheight))\n",
    "                height.appendChild(heightContent)\n",
    "                size.appendChild(height)\n",
    "                depth = xmlBuilder.createElement(\"depth\")  # size子标签depth\n",
    "                depthContent = xmlBuilder.createTextNode(str(Pdepth))\n",
    "                depth.appendChild(depthContent)\n",
    "                size.appendChild(depth)\n",
    "                annotation.appendChild(size)\n",
    "\n",
    "            object = xmlBuilder.createElement(\"object\")\n",
    "            picname = xmlBuilder.createElement(\"name\")\n",
    "            nameContent = xmlBuilder.createTextNode(dict[oneline[0]])\n",
    "            picname.appendChild(nameContent)\n",
    "            object.appendChild(picname)\n",
    "            pose = xmlBuilder.createElement(\"pose\")\n",
    "            poseContent = xmlBuilder.createTextNode(\"Unspecified\")\n",
    "            pose.appendChild(poseContent)\n",
    "            object.appendChild(pose)\n",
    "            truncated = xmlBuilder.createElement(\"truncated\")\n",
    "            truncatedContent = xmlBuilder.createTextNode(\"0\")\n",
    "            truncated.appendChild(truncatedContent)\n",
    "            object.appendChild(truncated)\n",
    "            difficult = xmlBuilder.createElement(\"difficult\")\n",
    "            difficultContent = xmlBuilder.createTextNode(\"0\")\n",
    "            difficult.appendChild(difficultContent)\n",
    "            object.appendChild(difficult)\n",
    "            bndbox = xmlBuilder.createElement(\"bndbox\")\n",
    "            xmin = xmlBuilder.createElement(\"xmin\")\n",
    "            mathData=int(((float(oneline[1]))*Pwidth+1)-(float(oneline[3]))*0.5*Pwidth)\n",
    "            xminContent = xmlBuilder.createTextNode(str(mathData))\n",
    "            xmin.appendChild(xminContent)\n",
    "            bndbox.appendChild(xmin)\n",
    "            ymin = xmlBuilder.createElement(\"ymin\")\n",
    "            mathData = int(((float(oneline[2]))*Pheight+1)-(float(oneline[4]))*0.5*Pheight)\n",
    "            yminContent = xmlBuilder.createTextNode(str(mathData))\n",
    "            ymin.appendChild(yminContent)\n",
    "            bndbox.appendChild(ymin)\n",
    "            xmax = xmlBuilder.createElement(\"xmax\")\n",
    "            mathData = int(((float(oneline[1]))*Pwidth+1)+(float(oneline[3]))*0.5*Pwidth)\n",
    "            xmaxContent = xmlBuilder.createTextNode(str(mathData))\n",
    "            xmax.appendChild(xmaxContent)\n",
    "            bndbox.appendChild(xmax)\n",
    "            ymax = xmlBuilder.createElement(\"ymax\")\n",
    "            mathData = int(((float(oneline[2]))*Pheight+1)+(float(oneline[4]))*0.5*Pheight)\n",
    "            ymaxContent = xmlBuilder.createTextNode(str(mathData))\n",
    "            ymax.appendChild(ymaxContent)\n",
    "            bndbox.appendChild(ymax)\n",
    "            object.appendChild(bndbox)\n",
    "\n",
    "            annotation.appendChild(object)\n",
    "\n",
    "        f = open(xmlPath+name[0:-4]+\".xml\", 'w')\n",
    "        xmlBuilder.writexml(f, indent='\\t', newl='\\n', addindent='\\t', encoding='utf-8')\n",
    "        f.close()"
   ]
  },
  {
   "cell_type": "code",
   "execution_count": null,
   "id": "b5285931-93d6-4acd-91f1-b70e85af1cee",
   "metadata": {},
   "outputs": [],
   "source": []
  }
 ],
 "metadata": {
  "kernelspec": {
   "display_name": "Python 3 (ipykernel)",
   "language": "python",
   "name": "python3"
  },
  "language_info": {
   "codemirror_mode": {
    "name": "ipython",
    "version": 3
   },
   "file_extension": ".py",
   "mimetype": "text/x-python",
   "name": "python",
   "nbconvert_exporter": "python",
   "pygments_lexer": "ipython3",
   "version": "3.8.13"
  }
 },
 "nbformat": 4,
 "nbformat_minor": 5
}
