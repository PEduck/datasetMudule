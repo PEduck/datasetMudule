{
 "cells": [
  {
   "cell_type": "code",
   "execution_count": 1,
   "id": "41e53ff1",
   "metadata": {},
   "outputs": [],
   "source": [
    "from lxml import etree\n",
    "import glob\n",
    "import pandas as pd\n",
    "import numpy as np\n",
    "from pathlib import Path\n",
    "import os,sys\n",
    "from tqdm import tqdm\n",
    "import re\n",
    "from PIL import Image"
   ]
  },
  {
   "cell_type": "markdown",
   "id": "35bef45b",
   "metadata": {
    "tags": []
   },
   "source": [
    "### 接口"
   ]
  },
  {
   "cell_type": "code",
   "execution_count": 4,
   "id": "bf31ff57",
   "metadata": {},
   "outputs": [],
   "source": [
    "def voc2yolo():\n",
    "    center_x = (xmin + (xmax-xmin)/2)/width\n",
    "    center_y = (ymin + (ymax-ymin)/2)/height\n",
    "    bdb_w = (xmax-xmin)/width\n",
    "    bdb_h = (ymax-ymin)/height"
   ]
  },
  {
   "cell_type": "code",
   "execution_count": null,
   "id": "5d1c17cb",
   "metadata": {},
   "outputs": [],
   "source": []
  },
  {
   "cell_type": "code",
   "execution_count": 43,
   "id": "1a820644",
   "metadata": {},
   "outputs": [],
   "source": [
    "def parse_xml(p):\n",
    "    trees = etree.parse(str(p))\n",
    "    width, height = int(trees.find('size/width').text), int(trees.find('size/height').text)\n",
    "    bboxes = []\n",
    "    for obj in trees.findall('object'):\n",
    "        bx = []\n",
    "        bx.append(p)\n",
    "        bx.append(int(width))\n",
    "        bx.append(int(height))\n",
    "        bdb = obj.find('bndbox')\n",
    "        bx.append(obj.find('name').text)\n",
    "        bx.append(int(bdb.find('xmin').text))\n",
    "        bx.append(int(bdb.find('ymin').text))\n",
    "        bx.append(int(bdb.find('xmax').text))\n",
    "        bx.append(int(bdb.find('ymax').text))\n",
    "        bboxes.append(bx)\n",
    "    return bboxes"
   ]
  },
  {
   "cell_type": "code",
   "execution_count": null,
   "id": "d7f23ce5",
   "metadata": {},
   "outputs": [],
   "source": []
  },
  {
   "cell_type": "code",
   "execution_count": 6,
   "id": "45a649ee",
   "metadata": {},
   "outputs": [],
   "source": [
    "model_label_map = {\n",
    "    0: 10,  # 鞋子\n",
    "    1: 8,  # 包包\n",
    "    2: 4,  # 上装\n",
    "    3: 5,  # 裤子\n",
    "    4: 6,  # 裙子\n",
    "    5: 7,  # 连体装\n",
    "}\n",
    "model_label_map8 = {\n",
    "    0: 10,  # 鞋子\n",
    "    1: 8,  # 包包\n",
    "    2: 4,  # 上装_短款\n",
    "    3: 5,  # 裤子_短款\n",
    "    4: 6,  # 裙子\n",
    "    5: 7,  # 连体装\n",
    "    6: 4,  # 上装_长款\n",
    "    7: 5,  # 裤子_长款\n",
    "}"
   ]
  },
  {
   "cell_type": "code",
   "execution_count": null,
   "id": "49ae1b9c",
   "metadata": {},
   "outputs": [],
   "source": []
  },
  {
   "cell_type": "code",
   "execution_count": 7,
   "id": "866249a9",
   "metadata": {},
   "outputs": [],
   "source": [
    "model_label_map9 = {\n",
    "    0: 10,  # 鞋子\n",
    "    1: 8,  # 包包\n",
    "    2: 4,  # 上装_短款\n",
    "    3: 5,  # 裤子_长款\n",
    "    4: 6,  # 裙子\n",
    "    5: 7,  # 连体装\n",
    "    6: 4,  # 上装_长款\n",
    "    7: 5,  # 超短裤\n",
    "    8: 4,  # 超短裙\n",
    "}\n",
    "\n",
    "id2chi9 = {\n",
    "    0: '鞋子',\n",
    "    1: '包包',\n",
    "    2: '上装',\n",
    "    3: '裤子',\n",
    "    4: '半身裙',\n",
    "    5: '连体装',\n",
    "    6: '上装-长款',\n",
    "    7: '超短裤',\n",
    "    8: '超短裙',\n",
    "}\n",
    "\n",
    "id2eng9 = {\n",
    "    0: 'shoe',  # 鞋子\n",
    "    1: 'bag',  # 包包\n",
    "    2: 'upper_short',  # 上装\n",
    "    3: 'paints',  # 裤子\n",
    "    4: 'skirt',  # 裙子\n",
    "    5: 'wholebody',  # 连体装\n",
    "    6: 'upper_long',\n",
    "    7: 'paints_hot',\n",
    "    8: 'miniskirt',\n",
    "}"
   ]
  },
  {
   "cell_type": "code",
   "execution_count": null,
   "id": "4d897b15",
   "metadata": {},
   "outputs": [],
   "source": []
  },
  {
   "cell_type": "markdown",
   "id": "04117be7",
   "metadata": {},
   "source": [
    "### 1.Data Loader."
   ]
  },
  {
   "cell_type": "code",
   "execution_count": 16,
   "id": "91a98301",
   "metadata": {},
   "outputs": [
    {
     "name": "stdout",
     "output_type": "stream",
     "text": [
      "images\txml\n"
     ]
    }
   ],
   "source": [
    "root = Path('/nas/chenyi/datasets_nas/deploy_system/deploy_manual_sep/')\n",
    "# !ls $root_xml\n",
    "!ls $root"
   ]
  },
  {
   "cell_type": "code",
   "execution_count": 29,
   "id": "00cfbf8b-b221-4cb1-ac56-97e75462d8f4",
   "metadata": {},
   "outputs": [
    {
     "name": "stdout",
     "output_type": "stream",
     "text": [
      "anomaly0826  modified_catg\n"
     ]
    }
   ],
   "source": [
    "!ls /nas/chenyi/datasets_nas/deploy_system/deploy_manual_sep/images/apparel/"
   ]
  },
  {
   "cell_type": "code",
   "execution_count": 1,
   "id": "c733479b-ebab-4972-bf52-7f5cbdc71d65",
   "metadata": {},
   "outputs": [
    {
     "data": {
      "text/plain": [
       "False"
      ]
     },
     "execution_count": 1,
     "metadata": {},
     "output_type": "execute_result"
    }
   ],
   "source": [
    "p = '/home/chenyi/workspace/tbk-service/tbk_cy/'\n",
    "import os\n",
    "os.path.islink(p)"
   ]
  },
  {
   "cell_type": "code",
   "execution_count": 33,
   "id": "8856ec55",
   "metadata": {},
   "outputs": [
    {
     "data": {
      "text/plain": [
       "1929"
      ]
     },
     "execution_count": 33,
     "metadata": {},
     "output_type": "execute_result"
    }
   ],
   "source": [
    "root_img = root /'images/apparel/anomaly0826/'\n",
    "img_list = list(root_img.glob('*.jpg'))\n",
    "img_list += list(root_img.glob('*.jpeg'))\n",
    "img_list += list(root_img.glob('*.png'))\n",
    "img_df = pd.DataFrame()\n",
    "img_df['path'] = list(img_list)\n",
    "img_df['stem'] = img_df['path'].apply(lambda x: Path(x).stem)\n",
    "len(img_list)"
   ]
  },
  {
   "cell_type": "code",
   "execution_count": 18,
   "id": "0a28ebe6",
   "metadata": {},
   "outputs": [
    {
     "data": {
      "text/plain": [
       "1929"
      ]
     },
     "execution_count": 18,
     "metadata": {},
     "output_type": "execute_result"
    }
   ],
   "source": [
    "# 核查xml是否有重复\n",
    "root_xml = root /'xml/anomaly0826_xml'\n",
    "xml_list = root_xml.glob('*.xml')\n",
    "xml_df = pd.DataFrame()\n",
    "xml_df['path'] = list(xml_list)\n",
    "xml_df['stem'] = xml_df['path'].apply(lambda x: Path(x).stem)\n",
    "len(xml_df)"
   ]
  },
  {
   "cell_type": "code",
   "execution_count": null,
   "id": "cee721d6",
   "metadata": {},
   "outputs": [],
   "source": []
  },
  {
   "cell_type": "markdown",
   "id": "bc3dfc44",
   "metadata": {
    "tags": []
   },
   "source": [
    "#### csv读取和保存"
   ]
  },
  {
   "cell_type": "code",
   "execution_count": 35,
   "id": "77d5e5e1",
   "metadata": {},
   "outputs": [],
   "source": [
    "csv_fname = 'anomaly0826.csv'\n",
    "root_csv = Path('/nas/chenyi/datasets_nas/deploy_system/deploy_manual_sep/xml')\n",
    "csv_p = root_csv /csv_fname\n",
    "# bboxes_df = pd.read_csv(root_csv /'gall7k_xml_20220715.csv')\n",
    "# parts_df = pd.read_csv('../../data/xml_csv/gall7k_xml_20220714.csv')"
   ]
  },
  {
   "cell_type": "markdown",
   "id": "76a73f3b-7687-44db-b028-8752eab43364",
   "metadata": {},
   "source": [
    "#### !mkdir -p $root_csv\n",
    "# bboxes_df = bboxes_all_df\n",
    "# bboxes_df.to_csv(str(csv_p), index=False)"
   ]
  },
  {
   "cell_type": "code",
   "execution_count": null,
   "id": "291113ea",
   "metadata": {},
   "outputs": [],
   "source": [
    "bboxes_df['label9'] = bboxes_df['labelimg'].map(chi2id9)\n",
    "bboxes_df['label_eng'] = bboxes_df['label9'].map(id2eng9)"
   ]
  },
  {
   "cell_type": "code",
   "execution_count": null,
   "id": "2da28e83",
   "metadata": {},
   "outputs": [],
   "source": []
  },
  {
   "cell_type": "markdown",
   "id": "57ee658e",
   "metadata": {
    "tags": []
   },
   "source": [
    "#### 数据分析"
   ]
  },
  {
   "cell_type": "code",
   "execution_count": null,
   "id": "0c6d1c6b",
   "metadata": {},
   "outputs": [],
   "source": [
    "bboxes_df.value_counts('labelimg'), len(bboxes_df), len(bboxes_df.drop_duplicates('stem')), len(bboxes_df.value_counts('labelimg'))"
   ]
  },
  {
   "cell_type": "code",
   "execution_count": null,
   "id": "3203632d",
   "metadata": {},
   "outputs": [],
   "source": []
  },
  {
   "cell_type": "markdown",
   "id": "a170453e",
   "metadata": {},
   "source": [
    "### 解析XML"
   ]
  },
  {
   "cell_type": "markdown",
   "id": "f656156e",
   "metadata": {},
   "source": [
    "#### 解析XML"
   ]
  },
  {
   "cell_type": "code",
   "execution_count": 40,
   "id": "753726a9",
   "metadata": {},
   "outputs": [
    {
     "name": "stderr",
     "output_type": "stream",
     "text": [
      "100%|█████████████████████████████████████████████████████████████████████████████| 1929/1929 [00:01<00:00, 1454.61it/s]\n"
     ]
    }
   ],
   "source": [
    "bboxes_list = []\n",
    "for p in tqdm(xml_df['path']):\n",
    "    try:\n",
    "        row = parse_xml(p)\n",
    "        bboxes_list += row\n",
    "    except:\n",
    "        print('empty xml.')\n",
    "    # break"
   ]
  },
  {
   "cell_type": "code",
   "execution_count": 41,
   "id": "1a26d03c",
   "metadata": {},
   "outputs": [],
   "source": [
    "bboxes_df = pd.DataFrame(bboxes_list)\n",
    "name_stand = ['xml_path', 'width', 'height', 'labelimg', 'bx1', 'bx2','bx3', 'bx4']\n",
    "bboxes_df.rename(columns={bboxes_df.columns[0]:name_stand[0],\n",
    "                          bboxes_df.columns[1]:name_stand[1],\n",
    "                          bboxes_df.columns[2]:name_stand[2],\n",
    "                          bboxes_df.columns[3]:name_stand[3],\n",
    "                          bboxes_df.columns[4]:name_stand[4],\n",
    "                          bboxes_df.columns[5]:name_stand[5],\n",
    "                          bboxes_df.columns[6]:name_stand[6],\n",
    "                          bboxes_df.columns[7]:name_stand[7],\n",
    "                         },\n",
    "                          inplace=True)"
   ]
  },
  {
   "cell_type": "code",
   "execution_count": null,
   "id": "f59695d7",
   "metadata": {},
   "outputs": [],
   "source": []
  },
  {
   "cell_type": "code",
   "execution_count": 42,
   "id": "b561c150",
   "metadata": {},
   "outputs": [
    {
     "data": {
      "text/plain": [
       "(labelimg\n",
       " 包包       898\n",
       " 上装       550\n",
       " 连体装      231\n",
       " 裤子       109\n",
       " 超短裙       65\n",
       " 鞋子        65\n",
       " 半身裙       58\n",
       " 超短裤       50\n",
       " 上装-长款     13\n",
       " 包          5\n",
       " dtype: int64,\n",
       " 2044,\n",
       " 10)"
      ]
     },
     "execution_count": 42,
     "metadata": {},
     "output_type": "execute_result"
    }
   ],
   "source": [
    "bboxes_df.value_counts('labelimg'), len(bboxes_df), len(bboxes_df.value_counts('labelimg').index)"
   ]
  },
  {
   "cell_type": "code",
   "execution_count": 17,
   "id": "13e85f69",
   "metadata": {},
   "outputs": [],
   "source": [
    "bboxes_df['stem'] = bboxes_df['xml_path'].apply(lambda x: Path(x).stem)"
   ]
  },
  {
   "cell_type": "code",
   "execution_count": 23,
   "id": "1319a179",
   "metadata": {},
   "outputs": [],
   "source": [
    "bboxes_df['label96'] = bboxes_df['labelimg'].map(chi2id9)"
   ]
  },
  {
   "cell_type": "code",
   "execution_count": 28,
   "id": "ec63c858-ff2f-459e-86d4-fda5ebad4d97",
   "metadata": {},
   "outputs": [
    {
     "data": {
      "text/plain": [
       "label96\n",
       "0    888\n",
       "1    308\n",
       "2    199\n",
       "3      3\n",
       "4     48\n",
       "5    418\n",
       "6     41\n",
       "7      4\n",
       "8     29\n",
       "dtype: int64"
      ]
     },
     "execution_count": 28,
     "metadata": {},
     "output_type": "execute_result"
    }
   ],
   "source": [
    "bboxes_df.value_counts('label96').sort_index()"
   ]
  },
  {
   "cell_type": "code",
   "execution_count": null,
   "id": "30ac6083",
   "metadata": {},
   "outputs": [],
   "source": []
  },
  {
   "cell_type": "markdown",
   "id": "ae822d02",
   "metadata": {
    "tags": []
   },
   "source": [
    "##### 修正label"
   ]
  },
  {
   "cell_type": "code",
   "execution_count": 18,
   "id": "af4e5f44",
   "metadata": {},
   "outputs": [
    {
     "data": {
      "text/plain": [
       "9"
      ]
     },
     "execution_count": 18,
     "metadata": {},
     "output_type": "execute_result"
    }
   ],
   "source": [
    "len(bboxes_df.value_counts('labelimg'))"
   ]
  },
  {
   "cell_type": "code",
   "execution_count": null,
   "id": "4bbae4c9",
   "metadata": {},
   "outputs": [],
   "source": [
    "label_name_chi  = 'uuper_long'\n",
    "sample_df = bboxes_df[bboxes_df['labelimg']==label_name_chi]\n",
    "# p_sample = sample_df['img_sp'].values[0]"
   ]
  },
  {
   "cell_type": "code",
   "execution_count": null,
   "id": "207dc7ac",
   "metadata": {},
   "outputs": [],
   "source": [
    "name_new = 'upper_long'\n",
    "bboxes_df.loc[bboxes_df[bboxes_df['labelimg']==label_name_chi].index, 'labelimg'] = name_new"
   ]
  },
  {
   "cell_type": "code",
   "execution_count": null,
   "id": "ba031193",
   "metadata": {},
   "outputs": [],
   "source": [
    "sample_df"
   ]
  },
  {
   "cell_type": "code",
   "execution_count": null,
   "id": "87441e1d",
   "metadata": {},
   "outputs": [],
   "source": []
  },
  {
   "cell_type": "markdown",
   "id": "ff1ff4ef",
   "metadata": {},
   "source": [
    "#### 获取对应图片信息"
   ]
  },
  {
   "cell_type": "code",
   "execution_count": 25,
   "id": "5e5618e7",
   "metadata": {},
   "outputs": [
    {
     "data": {
      "text/plain": [
       "520"
      ]
     },
     "execution_count": 25,
     "metadata": {},
     "output_type": "execute_result"
    }
   ],
   "source": [
    "# imgs_list = glob.glob(str(root /'images/*/*/*/*'))\n",
    "img_df = pd.DataFrame()\n",
    "img_df['path'] = imgs_list\n",
    "len(img_df)"
   ]
  },
  {
   "cell_type": "code",
   "execution_count": 27,
   "id": "8fe0f76f",
   "metadata": {},
   "outputs": [],
   "source": [
    "img_df['stem'] = img_df['path'].apply(lambda x: Path(x).stem)"
   ]
  },
  {
   "cell_type": "code",
   "execution_count": null,
   "id": "2ed4e88a",
   "metadata": {},
   "outputs": [],
   "source": [
    "# img_df['parts3'] = img_df['path'].apply(lambda x: Path(x).parts[-3])"
   ]
  },
  {
   "cell_type": "code",
   "execution_count": null,
   "id": "05eaeefe",
   "metadata": {},
   "outputs": [],
   "source": [
    "# img_df.value_counts('parts3')"
   ]
  },
  {
   "cell_type": "code",
   "execution_count": null,
   "id": "08d188d1",
   "metadata": {},
   "outputs": [],
   "source": []
  },
  {
   "cell_type": "code",
   "execution_count": null,
   "id": "de65d1eb",
   "metadata": {},
   "outputs": [],
   "source": []
  },
  {
   "cell_type": "markdown",
   "id": "2f07a602",
   "metadata": {},
   "source": [
    "##### 获取bbox对应的图片"
   ]
  },
  {
   "cell_type": "code",
   "execution_count": 29,
   "id": "5200e14b",
   "metadata": {},
   "outputs": [
    {
     "data": {
      "text/plain": [
       "520"
      ]
     },
     "execution_count": 29,
     "metadata": {},
     "output_type": "execute_result"
    }
   ],
   "source": [
    "# xml是否都有对应的图片\n",
    "cross_df = img_df[img_df['stem'].isin(bboxes_df['stem'])]\n",
    "len(cross_df)"
   ]
  },
  {
   "cell_type": "code",
   "execution_count": 30,
   "id": "0d9e2137",
   "metadata": {},
   "outputs": [],
   "source": [
    "stem2path = get_list2dict(cross_df['stem'].values, cross_df['path'].values)"
   ]
  },
  {
   "cell_type": "code",
   "execution_count": 31,
   "id": "ff1d18a7",
   "metadata": {},
   "outputs": [],
   "source": [
    "bboxes_df['img_sp'] = bboxes_df['stem'].map(stem2path)"
   ]
  },
  {
   "cell_type": "code",
   "execution_count": 32,
   "id": "fc0d271f",
   "metadata": {},
   "outputs": [],
   "source": [
    "bboxes_clr_df = bboxes_df[~bboxes_df['img_sp'].isna()]"
   ]
  },
  {
   "cell_type": "code",
   "execution_count": 33,
   "id": "ca3bc582",
   "metadata": {},
   "outputs": [
    {
     "data": {
      "text/plain": [
       "(1938, 1938)"
      ]
     },
     "execution_count": 33,
     "metadata": {},
     "output_type": "execute_result"
    }
   ],
   "source": [
    "len(bboxes_df), len(bboxes_clr_df)"
   ]
  },
  {
   "cell_type": "code",
   "execution_count": null,
   "id": "16d69af3",
   "metadata": {},
   "outputs": [],
   "source": []
  },
  {
   "cell_type": "code",
   "execution_count": null,
   "id": "71455376",
   "metadata": {},
   "outputs": [],
   "source": []
  },
  {
   "cell_type": "markdown",
   "id": "edb89273",
   "metadata": {},
   "source": [
    "##### 获取图片的宽和高"
   ]
  },
  {
   "cell_type": "code",
   "execution_count": null,
   "id": "b2c8e458",
   "metadata": {},
   "outputs": [],
   "source": [
    "bboxes_df = bboxes_clr_df "
   ]
  },
  {
   "cell_type": "code",
   "execution_count": null,
   "id": "bb2c8c4b",
   "metadata": {},
   "outputs": [
    {
     "name": "stderr",
     "output_type": "stream",
     "text": [
      "1938it [00:05, 336.59it/s]\n"
     ]
    }
   ],
   "source": [
    "w_list = []\n",
    "h_list = []\n",
    "for ind,row in tqdm(bboxes_df.iterrows()):\n",
    "    img_sp = row['img_sp']\n",
    "    try:\n",
    "        img = Image.open(img_sp)\n",
    "        w, h = img.size\n",
    "    except:\n",
    "        try:\n",
    "            img = cv2.imread(sample_p)\n",
    "            w,h = img.shape[1], img.shape[0]\n",
    "        except:\n",
    "            w,h = None, None\n",
    "    w_list.append(w)\n",
    "    h_list.append(h)\n",
    "    # break"
   ]
  },
  {
   "cell_type": "code",
   "execution_count": 36,
   "id": "787029c6",
   "metadata": {},
   "outputs": [],
   "source": [
    "bboxes_df['width'] = w_list\n",
    "bboxes_df['height'] = h_list"
   ]
  },
  {
   "cell_type": "code",
   "execution_count": 37,
   "id": "3e809390",
   "metadata": {},
   "outputs": [
    {
     "data": {
      "text/html": [
       "<div>\n",
       "<style scoped>\n",
       "    .dataframe tbody tr th:only-of-type {\n",
       "        vertical-align: middle;\n",
       "    }\n",
       "\n",
       "    .dataframe tbody tr th {\n",
       "        vertical-align: top;\n",
       "    }\n",
       "\n",
       "    .dataframe thead th {\n",
       "        text-align: right;\n",
       "    }\n",
       "</style>\n",
       "<table border=\"1\" class=\"dataframe\">\n",
       "  <thead>\n",
       "    <tr style=\"text-align: right;\">\n",
       "      <th></th>\n",
       "      <th>xml_path</th>\n",
       "      <th>width</th>\n",
       "      <th>height</th>\n",
       "      <th>labelimg</th>\n",
       "      <th>bx1</th>\n",
       "      <th>bx2</th>\n",
       "      <th>bx3</th>\n",
       "      <th>bx4</th>\n",
       "      <th>stem</th>\n",
       "      <th>label96</th>\n",
       "      <th>img_sp</th>\n",
       "    </tr>\n",
       "  </thead>\n",
       "  <tbody>\n",
       "  </tbody>\n",
       "</table>\n",
       "</div>"
      ],
      "text/plain": [
       "Empty DataFrame\n",
       "Columns: [xml_path, width, height, labelimg, bx1, bx2, bx3, bx4, stem, label96, img_sp]\n",
       "Index: []"
      ]
     },
     "execution_count": 37,
     "metadata": {},
     "output_type": "execute_result"
    }
   ],
   "source": [
    "na_df = bboxes_df[bboxes_df['width'].isna()]\n",
    "na_df"
   ]
  },
  {
   "cell_type": "code",
   "execution_count": null,
   "id": "e1bdcace",
   "metadata": {},
   "outputs": [],
   "source": []
  },
  {
   "cell_type": "markdown",
   "id": "f52c6a6e",
   "metadata": {},
   "source": [
    "#### label处理"
   ]
  },
  {
   "cell_type": "code",
   "execution_count": null,
   "id": "7b29d55d",
   "metadata": {},
   "outputs": [],
   "source": [
    "# bboxes_df['label9'] = bboxes_df['labelimg'].map(id2eng9)\n",
    "# bboxes_df['label9'] = bboxes_df['labelimg'].map(eng2id9)"
   ]
  },
  {
   "cell_type": "code",
   "execution_count": 38,
   "id": "4ad4e150",
   "metadata": {},
   "outputs": [],
   "source": [
    "bboxes_df['label_model'] = bboxes_df['label96'].values\n",
    "bboxes_df.loc[bboxes_df['label_model']==6, 'label_model'] = 2\n",
    "bboxes_df.loc[bboxes_df['label_model']==7, 'label_model'] = 3\n",
    "bboxes_df.loc[bboxes_df['label_model']==8, 'label_model'] = 4"
   ]
  },
  {
   "cell_type": "code",
   "execution_count": null,
   "id": "f4570230",
   "metadata": {},
   "outputs": [],
   "source": []
  },
  {
   "cell_type": "code",
   "execution_count": null,
   "id": "00ad0a16",
   "metadata": {},
   "outputs": [],
   "source": []
  },
  {
   "cell_type": "markdown",
   "id": "23313383",
   "metadata": {
    "jp-MarkdownHeadingCollapsed": true,
    "tags": []
   },
   "source": [
    "##### 统计人员的bbox"
   ]
  },
  {
   "cell_type": "code",
   "execution_count": null,
   "id": "d06041fd",
   "metadata": {},
   "outputs": [],
   "source": [
    "df = bboxes_df\n",
    "df.tail(1).values"
   ]
  },
  {
   "cell_type": "code",
   "execution_count": null,
   "id": "062e7f89",
   "metadata": {},
   "outputs": [],
   "source": [
    "# df['man'] = df['xml_path'].apply(lambda x: Path(x).parts[5])\n",
    "df.value_counts('man').sort_index()"
   ]
  },
  {
   "cell_type": "code",
   "execution_count": null,
   "id": "871023fb",
   "metadata": {},
   "outputs": [],
   "source": []
  },
  {
   "cell_type": "code",
   "execution_count": null,
   "id": "cecbd514",
   "metadata": {},
   "outputs": [],
   "source": []
  },
  {
   "cell_type": "markdown",
   "id": "3b4e0747",
   "metadata": {
    "jp-MarkdownHeadingCollapsed": true,
    "tags": []
   },
   "source": [
    "### one object."
   ]
  },
  {
   "cell_type": "code",
   "execution_count": null,
   "id": "36139d3a",
   "metadata": {},
   "outputs": [],
   "source": [
    "eng2num = {'shoe': 0, \n",
    "         'upperbody_short':2,\n",
    "         'bag':1, \n",
    "         'lowbody_long':7, \n",
    "         'upperbody_long':6,\n",
    "         'skirt':4, \n",
    "         'wholebody':5, \n",
    "         'lowbody_short':3}"
   ]
  },
  {
   "cell_type": "code",
   "execution_count": null,
   "id": "4b8c474d",
   "metadata": {},
   "outputs": [],
   "source": []
  },
  {
   "cell_type": "code",
   "execution_count": null,
   "id": "b8dc21d0",
   "metadata": {},
   "outputs": [],
   "source": [
    "eng2num_hard = {'0_shoe': 0, \n",
    "                 '1_bag':1, \n",
    "         '2_upperbody_short':2,\n",
    "         '3_lowbody_short':3, \n",
    "         '4_skirt':4, \n",
    "         '5_wholebody':5, \n",
    "         '6_upperbody_long':6,\n",
    "         '7_lowbody_long':7}"
   ]
  },
  {
   "cell_type": "code",
   "execution_count": null,
   "id": "e338c71c",
   "metadata": {},
   "outputs": [],
   "source": []
  },
  {
   "cell_type": "code",
   "execution_count": null,
   "id": "b3d8e1ba",
   "metadata": {},
   "outputs": [],
   "source": [
    "bboxes_df['cls_folder'] = bboxes_df['img_sp'].apply(lambda x: Path(x).parts[-2])"
   ]
  },
  {
   "cell_type": "code",
   "execution_count": null,
   "id": "218b505a",
   "metadata": {},
   "outputs": [],
   "source": [
    "# bboxes_df['label_folder'] = bboxes_df['cls_folder'].map(eng2num)\n",
    "bboxes_df['label_folder'] = bboxes_df['cls_folder'].map(eng2num_hard)"
   ]
  },
  {
   "cell_type": "code",
   "execution_count": null,
   "id": "25cef331",
   "metadata": {},
   "outputs": [],
   "source": [
    "bboxes_eq_df = bboxes_df[bboxes_df['label_folder']==bboxes_df['label86']]"
   ]
  },
  {
   "cell_type": "code",
   "execution_count": null,
   "id": "198af154",
   "metadata": {},
   "outputs": [],
   "source": [
    "bboxes_df['label_query'] = bboxes_df['label_folder']==bboxes_df['label86']"
   ]
  },
  {
   "cell_type": "code",
   "execution_count": null,
   "id": "42a4ffd4",
   "metadata": {},
   "outputs": [],
   "source": [
    "len(bboxes_eq_df)"
   ]
  },
  {
   "cell_type": "markdown",
   "id": "45634c2d-2691-40be-8b53-eeada478fe29",
   "metadata": {
    "jp-MarkdownHeadingCollapsed": true,
    "tags": []
   },
   "source": [
    "### 计算打标准确率"
   ]
  },
  {
   "cell_type": "code",
   "execution_count": null,
   "id": "19682b1f-a081-4e0a-b201-cf2e8e4b74dd",
   "metadata": {},
   "outputs": [],
   "source": [
    "parts_df = pd.read_csv('/nas/chenyi/datasets_nas/gallery2m_clred/gallery2m_7k20220715/csv/gall7k_xml_20220715.csv')"
   ]
  },
  {
   "cell_type": "code",
   "execution_count": null,
   "id": "799af052-1cf0-4623-96e9-44d4bc07bcba",
   "metadata": {},
   "outputs": [],
   "source": [
    "parts_df.head(1)"
   ]
  },
  {
   "cell_type": "code",
   "execution_count": null,
   "id": "6851d429",
   "metadata": {},
   "outputs": [],
   "source": [
    "counter = parts_bboxes_df.value_counts('man').sort_index()\n",
    "counter"
   ]
  },
  {
   "cell_type": "code",
   "execution_count": null,
   "id": "07a9cae6-10cc-41f0-9781-33d8f2399d3a",
   "metadata": {},
   "outputs": [],
   "source": [
    "stem2part = get_list2dict(parts_df['stem'].values, parts_df['man'].values)"
   ]
  },
  {
   "cell_type": "code",
   "execution_count": null,
   "id": "dc658de2-15a3-4a19-a422-69ada97e7ab7",
   "metadata": {},
   "outputs": [],
   "source": [
    "parts_bboxes_df = parts_df[parts_df['stem'].isin(bboxes_df['stem'])]\n",
    "len(parts_bboxes_df)"
   ]
  },
  {
   "cell_type": "code",
   "execution_count": null,
   "id": "f85fa586-ded9-421f-bf48-c9b4a5248136",
   "metadata": {},
   "outputs": [],
   "source": [
    "bboxes_df['man'] = bboxes_df['stem'].map(stem2part)"
   ]
  },
  {
   "cell_type": "code",
   "execution_count": null,
   "id": "b3fddf0d-753d-4b90-8875-26bcc1ffc6e8",
   "metadata": {},
   "outputs": [],
   "source": [
    "counter_gt = bboxes_df.value_counts('man').sort_index()\n",
    "counter_gt"
   ]
  },
  {
   "cell_type": "code",
   "execution_count": null,
   "id": "6cb698e4-abca-4da2-bda7-68e74d3cc35b",
   "metadata": {},
   "outputs": [],
   "source": []
  },
  {
   "cell_type": "code",
   "execution_count": null,
   "id": "e9214b0b-d6f9-430d-a69b-ac091a4a512c",
   "metadata": {},
   "outputs": [],
   "source": []
  },
  {
   "cell_type": "code",
   "execution_count": null,
   "id": "4876e74e-1f1a-4044-a43c-2fb0a79a88b5",
   "metadata": {},
   "outputs": [],
   "source": []
  },
  {
   "cell_type": "code",
   "execution_count": null,
   "id": "331d1398-9f68-4bb8-a0ed-467d60b74b20",
   "metadata": {},
   "outputs": [],
   "source": [
    "def get_iou(BBGT, bb):\n",
    "    # intersection\n",
    "    ixmin = np.maximum(BBGT[:, 0], bb[0])\n",
    "    iymin = np.maximum(BBGT[:, 1], bb[1])\n",
    "    ixmax = np.minimum(BBGT[:, 2], bb[2])\n",
    "    iymax = np.minimum(BBGT[:, 3], bb[3])\n",
    "    iw = np.maximum(ixmax - ixmin + 1., 0.)\n",
    "    ih = np.maximum(iymax - iymin + 1., 0.)\n",
    "    inters = iw * ih        # union\n",
    "    uni = ((bb[2] - bb[0] + 1.) * (bb[3] - bb[1] + 1.) +\n",
    "           (BBGT[:, 2] - BBGT[:, 0] + 1.) *\n",
    "           (BBGT[:, 3] - BBGT[:, 1] + 1.) - inters)\n",
    "\n",
    "    return inters / uni"
   ]
  },
  {
   "cell_type": "code",
   "execution_count": null,
   "id": "fd30ca46-d457-4242-ab33-fd6895a146d9",
   "metadata": {},
   "outputs": [],
   "source": []
  },
  {
   "cell_type": "code",
   "execution_count": null,
   "id": "1e8133d0-375f-4680-a30e-f19c2867712f",
   "metadata": {},
   "outputs": [],
   "source": []
  },
  {
   "cell_type": "code",
   "execution_count": null,
   "id": "8800aa3c-cbdd-4ff5-917a-bed4a04bdaea",
   "metadata": {},
   "outputs": [],
   "source": [
    "label_df1 = parts_bboxes_df[parts_bboxes_df['man']=='part5_img_xml']\n",
    "gt_df1 = bboxes_df[bboxes_df['man']=='part5_img_xml']\n",
    "parts_gp = dict(list(label_df1.groupby('stem')))\n",
    "bboxes_gp = dict(list(gt_df1.groupby('stem')))"
   ]
  },
  {
   "cell_type": "code",
   "execution_count": null,
   "id": "338a4b8c-03c0-4df7-9b29-efee1d06c1b2",
   "metadata": {},
   "outputs": [],
   "source": []
  },
  {
   "cell_type": "code",
   "execution_count": null,
   "id": "b047e340-4988-4484-83b2-229f545e13e5",
   "metadata": {},
   "outputs": [],
   "source": [
    "tp_all, fp_all = 0, 0\n",
    "stem_list = {}\n",
    "for k in tqdm(bboxes_gp.keys()):\n",
    "    item_part = parts_gp[k]\n",
    "    item_bbox = bboxes_gp[k]\n",
    "    bbx1 = item_part.loc[:, ['bx1', 'bx2', 'bx3', 'bx4', 'label9']].values\n",
    "    bbx_gt = item_bbox.loc[:, ['bx1', 'bx2', 'bx3', 'bx4', 'label9']].values\n",
    "\n",
    "    # bbxes_pred = bbx1\n",
    "    # BBGT = bbx_gt\n",
    "    # ovthresh = 0.90\n",
    "    t, f = eval_one_img(bbx1, bbx_gt, ovthresh = 0.9)\n",
    "    tp_all += t\n",
    "    fp_all += f\n",
    "    stem_list[k] = [t, f]"
   ]
  },
  {
   "cell_type": "code",
   "execution_count": null,
   "id": "6afe8837-bfed-4958-8942-e84ff9f69bdc",
   "metadata": {},
   "outputs": [],
   "source": []
  },
  {
   "cell_type": "code",
   "execution_count": null,
   "id": "e786ae3c-68b9-456c-8843-13069e26cda4",
   "metadata": {},
   "outputs": [],
   "source": []
  },
  {
   "cell_type": "code",
   "execution_count": null,
   "id": "3bfa3a1c-ab1f-41e4-a7ea-7c66617c4b42",
   "metadata": {},
   "outputs": [],
   "source": [
    "# part1\n",
    "fn_all = len(gt_df1) - tp_all\n",
    "tp_all / (tp_all + fp_all) , tp_all / (tp_all + fn_all)"
   ]
  },
  {
   "cell_type": "code",
   "execution_count": null,
   "id": "6da5d50d-61b2-43cf-9e82-81ef8f49732d",
   "metadata": {},
   "outputs": [],
   "source": [
    "# part2\n",
    "fn_all = len(gt_df1) - tp_all\n",
    "tp_all / (tp_all + fp_all) , tp_all / (tp_all + fn_all)"
   ]
  },
  {
   "cell_type": "code",
   "execution_count": null,
   "id": "3ee2bda4-8e34-4987-8127-aba139d718d3",
   "metadata": {},
   "outputs": [],
   "source": [
    "# part3\n",
    "fn_all = len(gt_df1) - tp_all\n",
    "tp_all / (tp_all + fp_all) , tp_all / (tp_all + fn_all)"
   ]
  },
  {
   "cell_type": "code",
   "execution_count": null,
   "id": "c0db9024-4281-493c-a5b8-c475187c3825",
   "metadata": {},
   "outputs": [],
   "source": [
    "# part4\n",
    "fn_all = len(gt_df1) - tp_all\n",
    "tp_all / (tp_all + fp_all) , tp_all / (tp_all + fn_all)"
   ]
  },
  {
   "cell_type": "code",
   "execution_count": null,
   "id": "8bc92665-e853-4b1b-8399-907076fb9079",
   "metadata": {},
   "outputs": [],
   "source": [
    "# part5\n",
    "fn_all = len(gt_df1) - tp_all\n",
    "tp_all / (tp_all + fp_all) , tp_all / (tp_all + fn_all)"
   ]
  },
  {
   "cell_type": "code",
   "execution_count": null,
   "id": "d7bd14d0-8872-47fe-b8a2-fa3bd5d29213",
   "metadata": {},
   "outputs": [],
   "source": []
  },
  {
   "cell_type": "code",
   "execution_count": null,
   "id": "89c30fa1-3181-42c0-8a12-1a6934afd04f",
   "metadata": {},
   "outputs": [],
   "source": []
  },
  {
   "cell_type": "code",
   "execution_count": null,
   "id": "8f31d986-df22-4267-99f0-eda702546e11",
   "metadata": {},
   "outputs": [],
   "source": []
  },
  {
   "cell_type": "code",
   "execution_count": null,
   "id": "4f9ed498-3541-4546-8382-647d19f30210",
   "metadata": {},
   "outputs": [],
   "source": [
    "fn_all = len(parts_bboxes_df) - tp_all"
   ]
  },
  {
   "cell_type": "code",
   "execution_count": null,
   "id": "916c0ef5-e2b3-41d3-af72-d2af7e0230a3",
   "metadata": {},
   "outputs": [],
   "source": [
    "tp_all / (tp_all + fp_all)"
   ]
  },
  {
   "cell_type": "code",
   "execution_count": null,
   "id": "cacc0723-65e9-4319-9668-a85dac7ad3ed",
   "metadata": {},
   "outputs": [],
   "source": [
    "tp_all / (tp_all + fn_all)"
   ]
  },
  {
   "cell_type": "code",
   "execution_count": null,
   "id": "b9bc7180-2804-4fa7-84cc-c992cf8c78d3",
   "metadata": {},
   "outputs": [],
   "source": []
  },
  {
   "cell_type": "code",
   "execution_count": null,
   "id": "bf32f273-0687-4c48-b7e4-b094719890be",
   "metadata": {},
   "outputs": [],
   "source": []
  },
  {
   "cell_type": "code",
   "execution_count": null,
   "id": "118a62e7-1152-4479-9dd4-00f7b152c0c5",
   "metadata": {},
   "outputs": [],
   "source": []
  },
  {
   "cell_type": "code",
   "execution_count": null,
   "id": "3054c64a-9c27-4ce4-b9ad-04cc101e8a45",
   "metadata": {},
   "outputs": [],
   "source": [
    "def eval_one_img(bbxes_pred, BBGT, ovthresh = 0.5):\n",
    "    # 按照置信度降序排序sorted_ind = np.argsort(-confidence)\n",
    "    # BB = BB[sorted_ind, :]   # 预测框坐标image_ids = [image_ids[x] for x in sorted_ind] # 各个预测框的对应图片id# 便利预测框，并统计TPs和FPsnd = len(image_ids)\n",
    "\n",
    "    # 获取每个类别的所有bboxes，包括gt和预测结果\n",
    "    # 对于每张图，\n",
    "    # 取检测的一个bbox bb\n",
    "    # bb 和该图gt bbox bxes_gt计算 iou，去最大的iou\n",
    "\n",
    "    ovmax = -np.inf\n",
    "    tp, fp = 0, 0\n",
    "    for bb in bbxes_pred:\n",
    "        if len(BBGT) <= 0: \n",
    "            continue\n",
    "        # 计算IoU\n",
    "        cls_pred = bb[-1]\n",
    "        BBGT_catg = BBGT[BBGT[:, -1]==cls_pred]\n",
    "        if len(BBGT_catg) <=0:\n",
    "            continue\n",
    "        overlaps = get_iou(BBGT_catg, bb)\n",
    "        ovmax = np.max(overlaps)   \n",
    "        jmax = np.argmax(overlaps)    # 取最大的IoU的bbox索引\n",
    "        if ovmax > ovthresh:  # 是否大于阈值\n",
    "            tp += 1\n",
    "#           删除已经匹配的检测框\n",
    "            BBGT = np.concatenate([BBGT[~(BBGT[:, -1]==cls_pred)], \n",
    "                                   np.delete(BBGT_catg, jmax, axis = 0)], \n",
    "                                  axis = 0)\n",
    "        else:\n",
    "            fp += 1.\n",
    "     \n",
    "    return tp, fp"
   ]
  },
  {
   "cell_type": "code",
   "execution_count": null,
   "id": "f0e0e789-7ca3-4ba2-bcd3-10568c7b26ec",
   "metadata": {},
   "outputs": [],
   "source": []
  },
  {
   "cell_type": "code",
   "execution_count": null,
   "id": "6de1f9fe-984a-4eb0-a87c-6a84078159f4",
   "metadata": {},
   "outputs": [],
   "source": []
  },
  {
   "cell_type": "markdown",
   "id": "1de0b93e",
   "metadata": {
    "jp-MarkdownHeadingCollapsed": true,
    "tags": []
   },
   "source": [
    "### 数据展示"
   ]
  },
  {
   "cell_type": "code",
   "execution_count": null,
   "id": "9c988906",
   "metadata": {},
   "outputs": [],
   "source": [
    "!tree -d -L 1 /home/chenyi/workspace/dataset/data/dada_det"
   ]
  },
  {
   "cell_type": "code",
   "execution_count": null,
   "id": "19be5995",
   "metadata": {},
   "outputs": [],
   "source": [
    "ROOT = Path('/home/chenyi/workspace/dataset/data/dada_det/hard_sample_0610/')"
   ]
  },
  {
   "cell_type": "code",
   "execution_count": null,
   "id": "2f0fcee5",
   "metadata": {},
   "outputs": [],
   "source": []
  },
  {
   "cell_type": "code",
   "execution_count": null,
   "id": "4152989b",
   "metadata": {},
   "outputs": [],
   "source": []
  },
  {
   "cell_type": "markdown",
   "id": "3dc33500",
   "metadata": {
    "jp-MarkdownHeadingCollapsed": true,
    "tags": []
   },
   "source": [
    "#### 处理打标标签"
   ]
  },
  {
   "cell_type": "markdown",
   "id": "c8bddd85",
   "metadata": {},
   "source": [
    "##### 构建中文标签和业务id映射"
   ]
  },
  {
   "cell_type": "code",
   "execution_count": null,
   "id": "51862504",
   "metadata": {},
   "outputs": [],
   "source": [
    "# counter = df.value_counts(df.columns[3])\n",
    "# name_list = [item[0] for item in list(counter.index)]\n",
    "# name_df = pd.DataFrame()\n",
    "# name_df['name'] = name_list"
   ]
  },
  {
   "cell_type": "code",
   "execution_count": null,
   "id": "7f6f34c6",
   "metadata": {},
   "outputs": [],
   "source": [
    "import json\n",
    "with open('../../../data/dict/name_chi2l1.json', 'r') as f:\n",
    "    name_chi2l1 = json.load(f)"
   ]
  },
  {
   "cell_type": "code",
   "execution_count": null,
   "id": "0a2b3670",
   "metadata": {},
   "outputs": [],
   "source": []
  },
  {
   "cell_type": "code",
   "execution_count": null,
   "id": "8da7ad83",
   "metadata": {},
   "outputs": [],
   "source": [
    "df['label6'] = df[df.columns[3]].map(name_chi2l1)"
   ]
  },
  {
   "cell_type": "code",
   "execution_count": null,
   "id": "d5928075",
   "metadata": {},
   "outputs": [],
   "source": [
    "df.value_counts('label6')"
   ]
  },
  {
   "cell_type": "code",
   "execution_count": null,
   "id": "1abf444f",
   "metadata": {},
   "outputs": [],
   "source": [
    "# 增加多出的中文标签映射\n",
    "# name_chi2l1['皮衣外套'] = 4"
   ]
  },
  {
   "cell_type": "code",
   "execution_count": null,
   "id": "1fc12d11",
   "metadata": {},
   "outputs": [],
   "source": [
    "import json\n",
    "with open('../../../data/dict/name_chi2l1.json', 'w') as f:\n",
    "    json.dump(name_chi2l1, f)"
   ]
  },
  {
   "cell_type": "code",
   "execution_count": null,
   "id": "b18e2125",
   "metadata": {},
   "outputs": [],
   "source": []
  },
  {
   "cell_type": "code",
   "execution_count": null,
   "id": "11134e0b",
   "metadata": {},
   "outputs": [],
   "source": [
    "model_label_map"
   ]
  },
  {
   "cell_type": "code",
   "execution_count": null,
   "id": "fa6d9626",
   "metadata": {},
   "outputs": [],
   "source": [
    "l1_map_model = get_list2dict(model_label_map.values(), model_label_map.keys())\n",
    "df['label_model'] = df['label6'].map(l1_map_model)"
   ]
  },
  {
   "cell_type": "code",
   "execution_count": null,
   "id": "01e4b290",
   "metadata": {},
   "outputs": [],
   "source": []
  },
  {
   "cell_type": "markdown",
   "id": "61007da7",
   "metadata": {},
   "source": [
    "##### 存储目标index"
   ]
  },
  {
   "cell_type": "code",
   "execution_count": null,
   "id": "dc74f87a",
   "metadata": {},
   "outputs": [],
   "source": [
    "# df = pd.read_csv('../data/wh.csv')"
   ]
  },
  {
   "cell_type": "code",
   "execution_count": null,
   "id": "3f169529",
   "metadata": {},
   "outputs": [],
   "source": [
    "!ls /nas/chenyi/datasets_cls/dada_det_drawed/wholebody_jul_drawed"
   ]
  },
  {
   "cell_type": "code",
   "execution_count": null,
   "id": "50840fdc",
   "metadata": {},
   "outputs": [],
   "source": [
    "!mkdir -p /nas/chenyi/datasets_cls/dada_det_drawed/wholebody_jul_drawed"
   ]
  },
  {
   "cell_type": "code",
   "execution_count": null,
   "id": "ecf4e92d",
   "metadata": {},
   "outputs": [],
   "source": [
    "draw_root = Path('/nas/chenyi/datasets_cls/dada_det_drawed/wholebody_jul_drawed')"
   ]
  },
  {
   "cell_type": "code",
   "execution_count": null,
   "id": "2a9d7820",
   "metadata": {},
   "outputs": [],
   "source": [
    "df.head(2).values"
   ]
  },
  {
   "cell_type": "code",
   "execution_count": null,
   "id": "296391e2",
   "metadata": {},
   "outputs": [],
   "source": [
    "df['img_tp'] = df['img_sp'].apply(lambda x:'{0}/{1}/{2}'.format(draw_root, Path(x).parts[-2], Path(x).name))"
   ]
  },
  {
   "cell_type": "code",
   "execution_count": null,
   "id": "09dfdbca",
   "metadata": {},
   "outputs": [],
   "source": [
    "sys.path.append('../../../')\n",
    "from utils.plots.plots import draw_bbox\n",
    "import cv2\n",
    "from PIL import Image"
   ]
  },
  {
   "cell_type": "code",
   "execution_count": null,
   "id": "237f1b98",
   "metadata": {},
   "outputs": [],
   "source": []
  },
  {
   "cell_type": "code",
   "execution_count": null,
   "id": "34fa5267",
   "metadata": {
    "tags": []
   },
   "outputs": [],
   "source": [
    "# error_p_list = []\n",
    "# for ind, row in tqdm(df.iterrows()):\n",
    "#     row_info = row.loc[df.columns[:8]].values\n",
    "#     w,h = row_info[1], row_info[2]\n",
    "#     name = row.loc[['label_model']].values[0]\n",
    "#     bbox = list(row_info[4:8])\n",
    "#     bbox.insert(0,name)\n",
    "#     tp = Path(row.loc[['img_tp']].values[0])\n",
    "#     if not tp.parent.is_dir():\n",
    "#         tp.parent.mkdir()\n",
    "#     rp = tp if tp.is_file() else row.loc[['img_sp']].values[0]\n",
    "#     img = cv2.imread(str(rp))\n",
    "#     img = draw_bbox(img, bbox)\n",
    "#     try:\n",
    "#         cv2.imwrite(str(tp), img)\n",
    "#     except:\n",
    "#         error_p_list.append(tp)\n",
    "#     # break"
   ]
  },
  {
   "cell_type": "code",
   "execution_count": null,
   "id": "a5fc685e",
   "metadata": {},
   "outputs": [],
   "source": [
    "error_p_list"
   ]
  },
  {
   "cell_type": "code",
   "execution_count": null,
   "id": "20c09698",
   "metadata": {},
   "outputs": [],
   "source": [
    "error_df = pd.DataFrame()\n",
    "error_df['path'] = error_p_list\n",
    "error_df['stem'] = error_df['path'].apply(lambda x: Path(x).stem)"
   ]
  },
  {
   "cell_type": "code",
   "execution_count": null,
   "id": "1a93bc52",
   "metadata": {},
   "outputs": [],
   "source": [
    "df.head()"
   ]
  },
  {
   "cell_type": "code",
   "execution_count": null,
   "id": "1b80b432",
   "metadata": {},
   "outputs": [],
   "source": [
    "df = df[~df['stem'].isin(error_df['stem'])]"
   ]
  },
  {
   "cell_type": "code",
   "execution_count": null,
   "id": "455ac4cc",
   "metadata": {},
   "outputs": [],
   "source": [
    "# df.to_csv('../data/wholebody5k0610/wholebody5k_july.csv', index=False)"
   ]
  },
  {
   "cell_type": "code",
   "execution_count": null,
   "id": "1c3e9683",
   "metadata": {},
   "outputs": [],
   "source": []
  },
  {
   "cell_type": "code",
   "execution_count": null,
   "id": "efde9100",
   "metadata": {},
   "outputs": [],
   "source": []
  },
  {
   "cell_type": "code",
   "execution_count": null,
   "id": "4f6b6c42",
   "metadata": {},
   "outputs": [],
   "source": []
  },
  {
   "cell_type": "markdown",
   "id": "23838f40",
   "metadata": {
    "tags": []
   },
   "source": [
    "#### Display Html"
   ]
  },
  {
   "cell_type": "code",
   "execution_count": null,
   "id": "cbd67f78",
   "metadata": {},
   "outputs": [],
   "source": [
    "sys.path.append('../../../')\n",
    "from utils.display.html import *\n",
    "from IPython.display import HTML\n",
    "from io import BytesIO"
   ]
  },
  {
   "cell_type": "code",
   "execution_count": null,
   "id": "004fcf90",
   "metadata": {},
   "outputs": [],
   "source": []
  },
  {
   "cell_type": "code",
   "execution_count": null,
   "id": "f3a02bc8",
   "metadata": {},
   "outputs": [],
   "source": [
    "draw_root = Path('/nas/chenyi/datasets_cls/dada_det_drawed/wholebody_jul_drawed/')"
   ]
  },
  {
   "cell_type": "code",
   "execution_count": null,
   "id": "96c8ceec",
   "metadata": {},
   "outputs": [],
   "source": [
    "img_list = glob.glob(str(draw_root/'*/*.jpg'))\n",
    "len(img_list), img_list[-1]"
   ]
  },
  {
   "cell_type": "code",
   "execution_count": null,
   "id": "75e2a835",
   "metadata": {},
   "outputs": [],
   "source": [
    "# img_list = glob.glob(draw_root + '*.jpg')\n",
    "df_drawed = pd.DataFrame()\n",
    "df_drawed['path'] = img_list[-100:]"
   ]
  },
  {
   "cell_type": "code",
   "execution_count": null,
   "id": "3c07b202",
   "metadata": {},
   "outputs": [],
   "source": [
    "size = 500\n",
    "df_drawed['res'] = df_drawed['path'].map(lambda x: get_thumbnail(x, size))"
   ]
  },
  {
   "cell_type": "code",
   "execution_count": null,
   "id": "e87c8f2b",
   "metadata": {},
   "outputs": [],
   "source": [
    "f = df_drawed[['res', 'path']].to_html(formatters={'res': image_formatter}, escape=False)"
   ]
  },
  {
   "cell_type": "code",
   "execution_count": null,
   "id": "b82834cb",
   "metadata": {
    "tags": []
   },
   "outputs": [],
   "source": [
    "HTML(f)"
   ]
  },
  {
   "cell_type": "code",
   "execution_count": null,
   "id": "45c5d004",
   "metadata": {},
   "outputs": [],
   "source": []
  },
  {
   "cell_type": "code",
   "execution_count": null,
   "id": "f44333c2",
   "metadata": {},
   "outputs": [],
   "source": []
  },
  {
   "cell_type": "markdown",
   "id": "614f06db",
   "metadata": {
    "jp-MarkdownHeadingCollapsed": true,
    "tags": []
   },
   "source": [
    "### 解析json文件"
   ]
  },
  {
   "cell_type": "code",
   "execution_count": null,
   "id": "d7de91b6",
   "metadata": {},
   "outputs": [],
   "source": [
    "json_list = glob.glob('/home/chenyi/workspace/dataset/haowei34k_labelImg/xml_label/*/*.json')"
   ]
  },
  {
   "cell_type": "code",
   "execution_count": null,
   "id": "57bc170d",
   "metadata": {},
   "outputs": [],
   "source": [
    "json_df = pd.DataFrame()\n",
    "json_df['spath'] = json_list"
   ]
  },
  {
   "cell_type": "code",
   "execution_count": null,
   "id": "5b257b70",
   "metadata": {},
   "outputs": [],
   "source": [
    "xml_dir = Path('/home/chenyi/workspace/dataset/haowei34k_labelImg/json2xml/')"
   ]
  },
  {
   "cell_type": "code",
   "execution_count": null,
   "id": "42733d59",
   "metadata": {},
   "outputs": [],
   "source": [
    "json_df['tpath'] = json_df['spath'].apply(lambda x:\n",
    "                                         '{0}/{1}'.format(xml_dir, re.findall(r'/[0-9]{1,3}/(.*?.json)',x)[0]))"
   ]
  },
  {
   "cell_type": "code",
   "execution_count": null,
   "id": "e050d980",
   "metadata": {},
   "outputs": [],
   "source": [
    "sys.path.append('/home/chenyi/workspace/myPyModule99/data_format/json_to_xml')\n",
    "from json_to_xml.main import *"
   ]
  },
  {
   "cell_type": "code",
   "execution_count": null,
   "id": "554c1b75",
   "metadata": {},
   "outputs": [],
   "source": [
    "root_json_dir = xml_dir\n",
    "root_save_xml_dir = '/home/chenyi/workspace/dataset/haowei34k_labelImg/json2xml/xml'"
   ]
  },
  {
   "cell_type": "code",
   "execution_count": null,
   "id": "1909aa06",
   "metadata": {},
   "outputs": [],
   "source": [
    "import json\n",
    "for json_filename in tqdm(os.listdir(root_json_dir)):\n",
    "    json_path = os.path.join(root_json_dir, json_filename)\n",
    "    json_data = json.load(open(json_path))\n",
    "    break"
   ]
  },
  {
   "cell_type": "code",
   "execution_count": null,
   "id": "b669e985",
   "metadata": {},
   "outputs": [],
   "source": [
    "json_df['path'] = glob.glob(str(root_json_dir/'*.json'))"
   ]
  },
  {
   "cell_type": "code",
   "execution_count": null,
   "id": "dc98ff4c",
   "metadata": {},
   "outputs": [],
   "source": [
    "json_df['fname'] =  json_df['path'].apply(lambda x: re.findall(r'/json2xml/(.*?).json',x)[0])"
   ]
  },
  {
   "cell_type": "code",
   "execution_count": null,
   "id": "03fd687f",
   "metadata": {},
   "outputs": [],
   "source": [
    "json_labels = {}\n",
    "for ind,row in tqdm(json_df.iterrows()):\n",
    "    json_path = row['path']\n",
    "    fname = row['fname']\n",
    "    json_data = json.load(open(json_path))\n",
    "    json_labels[fname] = ''\n",
    "    for item in json_data['shapes']:\n",
    "        name = item['label']\n",
    "        points = item['points']\n",
    "        xmin, ymin = points[0]\n",
    "        xmax, ymax = points[1]\n",
    "        \n",
    "        if name not in classes_name.keys():\n",
    "            classes_name[name] = len(classes_name)\n",
    "        json_labels[fname] += '{} {:6f} {:6f} {:6f} {:6f}\\n'.format(\n",
    "            classes_name[name], xmin, ymin, xmax, ymax)"
   ]
  },
  {
   "cell_type": "code",
   "execution_count": null,
   "id": "c2974fa9",
   "metadata": {},
   "outputs": [],
   "source": [
    "fname_list = []\n",
    "xmin_list = []\n",
    "ymin_list = []\n",
    "xmax_list = []\n",
    "ymax_list = []\n",
    "labels_list = []\n",
    "for ind,row in tqdm(json_df.iterrows()):\n",
    "    json_path = row['path']\n",
    "    fname = row['fname']\n",
    "    json_data = json.load(open(json_path))\n",
    "    for item in json_data['shapes']:\n",
    "        name = item['label']\n",
    "        points = item['points']\n",
    "        xmin, ymin = points[0]\n",
    "        xmax, ymax = points[1]\n",
    "        \n",
    "        fname_list.append(fname)\n",
    "        labels_list.append(name)\n",
    "        xmin_list.append(xmin)\n",
    "        ymin_list.append(ymin)\n",
    "        ymax_list.append(ymax)\n",
    "        xmax_list.append(xmax)"
   ]
  },
  {
   "cell_type": "code",
   "execution_count": null,
   "id": "edf62c7f",
   "metadata": {},
   "outputs": [],
   "source": []
  },
  {
   "cell_type": "code",
   "execution_count": null,
   "id": "16f1b701",
   "metadata": {},
   "outputs": [],
   "source": [
    "json_bboxes = pd.DataFrame()"
   ]
  },
  {
   "cell_type": "code",
   "execution_count": null,
   "id": "9ed1860e",
   "metadata": {},
   "outputs": [],
   "source": [
    "json_bboxes['fname'] = fname_list\n",
    "json_bboxes['label'] = labels_list\n",
    "json_bboxes['xmin'] = xmin_list\n",
    "json_bboxes['ymin'] = ymin_list\n",
    "json_bboxes['xmax'] = xmax_list\n",
    "json_bboxes['ymax'] = ymax_list"
   ]
  },
  {
   "cell_type": "code",
   "execution_count": null,
   "id": "7d8936ce",
   "metadata": {},
   "outputs": [],
   "source": [
    "json_bboxes.head()"
   ]
  },
  {
   "cell_type": "code",
   "execution_count": null,
   "id": "8233a82d",
   "metadata": {},
   "outputs": [],
   "source": []
  },
  {
   "cell_type": "code",
   "execution_count": null,
   "id": "08c928ef",
   "metadata": {},
   "outputs": [],
   "source": []
  },
  {
   "cell_type": "code",
   "execution_count": null,
   "id": "c6741fbc",
   "metadata": {},
   "outputs": [],
   "source": []
  },
  {
   "cell_type": "code",
   "execution_count": null,
   "id": "43db1f65",
   "metadata": {},
   "outputs": [],
   "source": []
  }
 ],
 "metadata": {
  "kernelspec": {
   "display_name": "Python 3 (ipykernel)",
   "language": "python",
   "name": "python3"
  },
  "language_info": {
   "codemirror_mode": {
    "name": "ipython",
    "version": 3
   },
   "file_extension": ".py",
   "mimetype": "text/x-python",
   "name": "python",
   "nbconvert_exporter": "python",
   "pygments_lexer": "ipython3",
   "version": "3.8.13"
  },
  "toc-showtags": false
 },
 "nbformat": 4,
 "nbformat_minor": 5
}
