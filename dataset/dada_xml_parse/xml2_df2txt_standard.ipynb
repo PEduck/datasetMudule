{
 "cells": [
  {
   "cell_type": "code",
   "execution_count": 1,
   "id": "965f48f1-99e7-49f5-a091-4d5f05a888f1",
   "metadata": {},
   "outputs": [],
   "source": [
    "import numpy as np\n",
    "import pandas as pd\n",
    "import glob\n",
    "import sys\n",
    "from tqdm import tqdm\n",
    "from pathlib import Path\n",
    "from PIL import Image"
   ]
  },
  {
   "cell_type": "markdown",
   "id": "7ef16afd-d8b3-45d3-bc2e-4e3ba09c0023",
   "metadata": {
    "tags": []
   },
   "source": [
    "### 0.API"
   ]
  },
  {
   "cell_type": "code",
   "execution_count": 2,
   "id": "cce8eee0-b5c6-409c-8b72-aadade9bd0ce",
   "metadata": {
    "tags": []
   },
   "outputs": [],
   "source": [
    "model2logic = {\n",
    "    0: 10,  # 鞋子\n",
    "    1: 8,  # 包包\n",
    "    2: 4,  # 上装\n",
    "    3: 5,  # 裤子\n",
    "    4: 6,  # 裙子\n",
    "    5: 7,  # 连体装\n",
    "}\n",
    "\n",
    "id9_map_logic6 = {\n",
    "    0: 10,  # 鞋子\n",
    "    1: 8,  # 包包\n",
    "    2: 4,  # 上装_短款\n",
    "    3: 5,  # 裤子_长款\n",
    "    4: 6,  # 裙子\n",
    "    5: 7,  # 连体装\n",
    "    6: 4,  # 上装_长款\n",
    "    7: 5,  # 超短裤\n",
    "    8: 4,  # 超短裙\n",
    "}\n",
    "\n",
    "id2chi9 = {\n",
    "    0: '鞋子',\n",
    "    1: '包包',\n",
    "    2: '上装',\n",
    "    3: '裤子',\n",
    "    4: '半身裙',\n",
    "    5: '连体装',\n",
    "    6: '上装-长款',\n",
    "    7: '超短裤',\n",
    "    8: '超短裙',\n",
    "}\n",
    "\n",
    "id2eng9 = {\n",
    "    0: 'shoe',  \n",
    "    1: 'bag',  \n",
    "    2: 'upper_short', \n",
    "    3: 'paints',  \n",
    "    4: 'skirt',  \n",
    "    5: 'wholebody',  \n",
    "    6: 'upper_long',\n",
    "    7: 'paints_hot',\n",
    "    8: 'miniskirt',\n",
    "}"
   ]
  },
  {
   "cell_type": "code",
   "execution_count": 3,
   "id": "ddca4f12-25d6-43c5-ad9a-f05117e7e839",
   "metadata": {},
   "outputs": [],
   "source": [
    "def get_list2dict(k_list, v_list):    \n",
    "    return dict(zip(k_list, v_list))\n",
    "\n",
    "chi2id9 = dict(zip(id2chi9.values(), id2chi9.keys()))\n",
    "eng2id9 = get_list2dict(id2eng9.values(), id2eng9.keys())"
   ]
  },
  {
   "cell_type": "code",
   "execution_count": null,
   "id": "593b7be3-30b9-4ad9-b295-b5c8c504ee39",
   "metadata": {},
   "outputs": [],
   "source": []
  },
  {
   "cell_type": "markdown",
   "id": "1354d993-c902-4efa-b5a0-4c9bc0bdfede",
   "metadata": {
    "tags": []
   },
   "source": [
    "### 1. Dataset Information."
   ]
  },
  {
   "cell_type": "markdown",
   "id": "ad00cca2-7a8c-4f73-945c-6cbcb4f0d08c",
   "metadata": {},
   "source": [
    "#### csv读取和保存"
   ]
  },
  {
   "cell_type": "code",
   "execution_count": 4,
   "id": "e9c44857-76ff-4b41-86ac-55675eab1ea0",
   "metadata": {},
   "outputs": [
    {
     "name": "stdout",
     "output_type": "stream",
     "text": [
      "images\txml  xml_rewrite\n"
     ]
    }
   ],
   "source": [
    "root = Path('/nas/chenyi/datasets_nas/deploy_system/deploy_manual_sep/')\n",
    "!ls $root"
   ]
  },
  {
   "cell_type": "code",
   "execution_count": 5,
   "id": "eaa0bc91-e477-4b7a-93d6-a0e5555bb655",
   "metadata": {},
   "outputs": [
    {
     "data": {
      "text/plain": [
       "2238"
      ]
     },
     "execution_count": 5,
     "metadata": {},
     "output_type": "execute_result"
    }
   ],
   "source": [
    "csv_fname = 'anomoly2k_aug'\n",
    "root_csv = Path('/nas/chenyi/datasets_nas/deploy_system/deploy_manual_sep/xml_rewrite/anomaly0826_xml/csv/')\n",
    "csv_p = root_csv /csv_fname\n",
    "csv_p = csv_p.with_suffix('.csv')\n",
    "bboxes_df = pd.read_csv(csv_p)\n",
    "len(bboxes_df)"
   ]
  },
  {
   "cell_type": "code",
   "execution_count": null,
   "id": "590eac35-856e-4636-a840-c1cea19cc07f",
   "metadata": {},
   "outputs": [],
   "source": []
  },
  {
   "cell_type": "markdown",
   "id": "69a4249a-04cf-49cf-975a-fc52d3186d03",
   "metadata": {
    "tags": []
   },
   "source": [
    "#### 对现有数据拷贝软连接"
   ]
  },
  {
   "cell_type": "code",
   "execution_count": 106,
   "id": "030e3d98-74fa-483a-b705-55b806810e7d",
   "metadata": {},
   "outputs": [
    {
     "name": "stdout",
     "output_type": "stream",
     "text": [
      "\u001b[01;34m/home/chenyi/workspace/yolov5/datasets/query/\u001b[00m\n",
      "└── \u001b[01;34mqueryv7_1\u001b[00m\n",
      "\n",
      "1 directory\n"
     ]
    }
   ],
   "source": [
    "!tree -d -L 1 /home/chenyi/workspace/yolov5/datasets/query/"
   ]
  },
  {
   "cell_type": "code",
   "execution_count": 6,
   "id": "efa821ec-840a-4f61-bcbe-64fb7358dd69",
   "metadata": {},
   "outputs": [
    {
     "data": {
      "text/plain": [
       "(122800, 122800)"
      ]
     },
     "execution_count": 6,
     "metadata": {},
     "output_type": "execute_result"
    }
   ],
   "source": [
    "fname = 'dadetv6_3'\n",
    "img_list = glob.glob(f'/home/chenyi/workspace/yolov5/datasets/{fname}/images/*/*')\n",
    "label_list = glob.glob(f'/home/chenyi/workspace/yolov5/datasets/{fname}/labels/*/*')\n",
    "len(img_list), len(label_list)"
   ]
  },
  {
   "cell_type": "code",
   "execution_count": 7,
   "id": "bf279c74-6b31-4b2c-a9f7-85f1b70f9c66",
   "metadata": {},
   "outputs": [],
   "source": [
    "target_folder = 'query/queryv7_1'\n",
    "img_t_list = [p.replace(fname, target_folder) for p in img_list]\n",
    "label_t_list = [p.replace(fname, target_folder) for p in label_list]"
   ]
  },
  {
   "cell_type": "code",
   "execution_count": 8,
   "id": "df474520-3da5-4487-b2bd-504c3954a1f9",
   "metadata": {},
   "outputs": [],
   "source": [
    "df = pd.DataFrame()\n",
    "df['img_sp'] = img_list\n",
    "df['label_sp'] = label_list\n",
    "df['img_tp'] = img_t_list\n",
    "df['label_tp'] = label_t_list"
   ]
  },
  {
   "cell_type": "code",
   "execution_count": 9,
   "id": "5be5028b-6418-4697-a217-0c43065ab660",
   "metadata": {},
   "outputs": [
    {
     "data": {
      "text/plain": [
       "array([['/home/chenyi/workspace/yolov5/datasets/dadetv6_3/images/train/20140305213907823.jpg',\n",
       "        '/home/chenyi/workspace/yolov5/datasets/dadetv6_3/labels/train/551df69f15ca760f19dd6f40bfda2aa7.txt',\n",
       "        '/home/chenyi/workspace/yolov5/datasets/query/queryv7_1/images/train/20140305213907823.jpg',\n",
       "        '/home/chenyi/workspace/yolov5/datasets/query/queryv7_1/labels/train/551df69f15ca760f19dd6f40bfda2aa7.txt']],\n",
       "      dtype=object)"
      ]
     },
     "execution_count": 9,
     "metadata": {},
     "output_type": "execute_result"
    }
   ],
   "source": [
    "df.head(1).values"
   ]
  },
  {
   "cell_type": "code",
   "execution_count": null,
   "id": "50319969-2949-4c9c-aeb4-6d006d8d36b5",
   "metadata": {},
   "outputs": [],
   "source": []
  },
  {
   "cell_type": "markdown",
   "id": "d01ee37e-532a-49ad-8581-57b0ca4bea35",
   "metadata": {
    "jp-MarkdownHeadingCollapsed": true,
    "tags": []
   },
   "source": [
    "### 2. 训练集和测试集划分"
   ]
  },
  {
   "cell_type": "markdown",
   "id": "eb2fe0d4-6eef-4faf-83e5-253567fa8c5b",
   "metadata": {
    "jp-MarkdownHeadingCollapsed": true,
    "tags": []
   },
   "source": [
    "#### 测试集均匀分布"
   ]
  },
  {
   "cell_type": "code",
   "execution_count": null,
   "id": "490a4604-7dbb-4fce-ab8b-8bb37d0163b0",
   "metadata": {},
   "outputs": [],
   "source": [
    "df.value_counts('label_eng'), len(df.value_counts('label_eng'))"
   ]
  },
  {
   "cell_type": "code",
   "execution_count": null,
   "id": "fcbc4929-74c2-4436-a542-1bcc4a630ba4",
   "metadata": {},
   "outputs": [],
   "source": [
    "sample_num_s = 100\n",
    "df_temp = df\n",
    "select_bx_df = pd.DataFrame()"
   ]
  },
  {
   "cell_type": "code",
   "execution_count": null,
   "id": "ab0a8481-f58e-48ec-8c52-5f96fc3b915f",
   "metadata": {
    "tags": []
   },
   "outputs": [],
   "source": [
    "cls_fetch = 'miniskirt'\n",
    "sample_num = sample_num_s - 0\n",
    "cls1_bx_df = df_temp[df_temp['label_eng']==cls_fetch]\n",
    "select_bx_df = pd.concat([select_bx_df, cls1_bx_df.sample(sample_num)], axis=0)\n",
    "select_img_df = df[df['stem'].isin(select_bx_df['stem'])]\n",
    "counter = select_img_df.value_counts('label_eng')\n",
    "df_temp = df_temp[~df_temp['stem'].isin(select_img_df['stem'])]"
   ]
  },
  {
   "cell_type": "code",
   "execution_count": null,
   "id": "cd0282b0-0849-4f0c-be0f-72dc156561dc",
   "metadata": {},
   "outputs": [],
   "source": [
    "counter[cls_fetch], cls_fetch"
   ]
  },
  {
   "cell_type": "code",
   "execution_count": null,
   "id": "37b38932-871b-466c-a53c-eea0b756b2b5",
   "metadata": {},
   "outputs": [],
   "source": [
    "cls_fetch = 'paints_hot'\n",
    "sample_num = sample_num_s - counter[cls_fetch] if cls_fetch in counter.index else sample_num_s\n",
    "sample_num = 0 if sample_num<0 else sample_num\n",
    "cls1_bx_df = df_temp[df_temp['label_eng']==cls_fetch]\n",
    "select_bx_df = pd.concat([select_bx_df, cls1_bx_df.sample(sample_num)], axis=0)\n",
    "select_img_df = df[df['stem'].isin(select_bx_df['stem'])]\n",
    "counter = select_img_df.value_counts('label_eng')\n",
    "df_temp = df[~df['stem'].isin(select_img_df['stem'])]"
   ]
  },
  {
   "cell_type": "code",
   "execution_count": null,
   "id": "abc61d41-3410-490b-ab3d-9882a1514141",
   "metadata": {},
   "outputs": [],
   "source": [
    "counter"
   ]
  },
  {
   "cell_type": "code",
   "execution_count": null,
   "id": "c85e1ee0-5cc9-4cdb-aea9-77f8fa5e71e7",
   "metadata": {},
   "outputs": [],
   "source": [
    "cls_fetch = 'wholebody'\n",
    "sample_num = sample_num_s - counter[cls_fetch] if cls_fetch in counter.index else sample_num_s\n",
    "sample_num = 0 if sample_num<0 else sample_num\n",
    "cls1_bx_df = df_temp[df_temp['label_eng']==cls_fetch]\n",
    "select_bx_df = pd.concat([select_bx_df, cls1_bx_df.sample(sample_num)], axis=0)\n",
    "select_img_df = df[df['stem'].isin(select_bx_df['stem'])]\n",
    "counter = select_img_df.value_counts('label_eng')\n",
    "df_temp = df[~df['stem'].isin(select_img_df['stem'])]"
   ]
  },
  {
   "cell_type": "code",
   "execution_count": null,
   "id": "750d0b68-c66c-437d-bde9-71a54cdf4376",
   "metadata": {},
   "outputs": [],
   "source": [
    "counter"
   ]
  },
  {
   "cell_type": "code",
   "execution_count": null,
   "id": "96dea784-753b-407d-a06e-776668fac4cd",
   "metadata": {},
   "outputs": [],
   "source": [
    "cls_fetch = 'paints'\n",
    "sample_num = sample_num_s - counter[cls_fetch] if cls_fetch in counter.index else sample_num_s\n",
    "sample_num = 0 if sample_num<0 else sample_num\n",
    "cls1_bx_df = df_temp[df_temp['label_eng']==cls_fetch]\n",
    "select_bx_df = pd.concat([select_bx_df, cls1_bx_df.sample(sample_num)], axis=0)\n",
    "select_img_df = df[df['stem'].isin(select_bx_df['stem'])]\n",
    "counter = select_img_df.value_counts('label_eng')\n",
    "df_temp = df[~df['stem'].isin(select_img_df['stem'])]"
   ]
  },
  {
   "cell_type": "code",
   "execution_count": null,
   "id": "07f13046-e764-4490-8ce4-2c1642e2231d",
   "metadata": {},
   "outputs": [],
   "source": [
    "counter"
   ]
  },
  {
   "cell_type": "code",
   "execution_count": null,
   "id": "f6f3fb3d-c585-4b8d-ad2d-f050e339e5cf",
   "metadata": {},
   "outputs": [],
   "source": [
    "cls_fetch = 'upper_long'\n",
    "sample_num = sample_num_s - counter[cls_fetch] if cls_fetch in counter.index else sample_num_s\n",
    "sample_num = 0 if sample_num<0 else sample_num\n",
    "cls1_bx_df = df_temp[df_temp['label_eng']==cls_fetch]\n",
    "select_bx_df = pd.concat([select_bx_df, cls1_bx_df.sample(sample_num)], axis=0)\n",
    "select_img_df = df[df['stem'].isin(select_bx_df['stem'])]\n",
    "counter = select_img_df.value_counts('label_eng')\n",
    "df_temp = df[~df['stem'].isin(select_img_df['stem'])]\n",
    "counter"
   ]
  },
  {
   "cell_type": "code",
   "execution_count": null,
   "id": "0b420843-37ea-4de9-bb92-c2655ae1ad37",
   "metadata": {},
   "outputs": [],
   "source": [
    "cls_fetch = 'skirt'\n",
    "sample_num = sample_num_s - counter[cls_fetch] if cls_fetch in counter.index else sample_num_s\n",
    "sample_num = 0 if sample_num<0 else sample_num\n",
    "cls1_bx_df = df_temp[df_temp['label_eng']==cls_fetch]\n",
    "select_bx_df = pd.concat([select_bx_df, cls1_bx_df.sample(sample_num)], axis=0)\n",
    "select_img_df = df[df['stem'].isin(select_bx_df['stem'])]\n",
    "counter = select_img_df.value_counts('label_eng')\n",
    "df_temp = df[~df['stem'].isin(select_img_df['stem'])]\n",
    "counter, len(counter)"
   ]
  },
  {
   "cell_type": "code",
   "execution_count": null,
   "id": "822c2625-c71d-44cb-958d-a38c8e9979d0",
   "metadata": {},
   "outputs": [],
   "source": [
    "len(select_bx_df), len(select_img_df), len(select_img_df.drop_duplicates('stem'))"
   ]
  },
  {
   "cell_type": "code",
   "execution_count": null,
   "id": "3a19e15e-a92b-4cd5-a68b-f0eda0d9455a",
   "metadata": {},
   "outputs": [],
   "source": [
    "df['mode'] = 'train'"
   ]
  },
  {
   "cell_type": "code",
   "execution_count": null,
   "id": "eb51f0d8-f1b5-4674-9634-650f3cea0afb",
   "metadata": {},
   "outputs": [],
   "source": [
    "df.loc[select_img_df.index, 'mode'] = 'val'"
   ]
  },
  {
   "cell_type": "code",
   "execution_count": null,
   "id": "b7c9a74f-42a1-403e-87f1-2c15b7144cf1",
   "metadata": {},
   "outputs": [],
   "source": [
    "df.value_counts('mode')"
   ]
  },
  {
   "cell_type": "code",
   "execution_count": null,
   "id": "a4b057dc-0774-4cbf-9510-a9f652450710",
   "metadata": {},
   "outputs": [],
   "source": [
    "df.columns"
   ]
  },
  {
   "cell_type": "code",
   "execution_count": null,
   "id": "7d0d77a9-51b3-47ee-8bc8-653e12375bb3",
   "metadata": {},
   "outputs": [],
   "source": []
  },
  {
   "cell_type": "code",
   "execution_count": null,
   "id": "3f2c8d6f-e326-4bee-a933-4905bb9e8e94",
   "metadata": {},
   "outputs": [],
   "source": []
  },
  {
   "cell_type": "markdown",
   "id": "b922a49e-e0ca-4dc8-88d2-adbf67262d8e",
   "metadata": {
    "jp-MarkdownHeadingCollapsed": true,
    "tags": []
   },
   "source": [
    "### 3. 生成txt label."
   ]
  },
  {
   "cell_type": "code",
   "execution_count": 6,
   "id": "9eb0a17e-d363-47f5-acd9-bc527a6d886f",
   "metadata": {},
   "outputs": [],
   "source": [
    "df = bboxes_df"
   ]
  },
  {
   "cell_type": "code",
   "execution_count": 13,
   "id": "0ac8509f-e6d4-43cc-8c39-c58c54c202f2",
   "metadata": {},
   "outputs": [
    {
     "name": "stdout",
     "output_type": "stream",
     "text": [
      "\u001b[01;34m/home/chenyi/workspace/dataset/labels/deploy_system/\u001b[00m\n",
      "└── \u001b[01;34mlabels6\u001b[00m\n",
      "    ├── \u001b[01;34mlabels60_june\u001b[00m\n",
      "    └── \u001b[01;34mlabels_july\u001b[00m\n",
      "\n",
      "3 directories\n"
     ]
    }
   ],
   "source": [
    "!tree -d -L 2 /home/chenyi/workspace/dataset/labels/deploy_system/"
   ]
  },
  {
   "cell_type": "code",
   "execution_count": 20,
   "id": "c6c60da5-0d52-43a3-bbd3-5e00bd9bba5a",
   "metadata": {},
   "outputs": [
    {
     "name": "stdout",
     "output_type": "stream",
     "text": [
      "anomoly2k_aug  labels60_june  labels_july\n"
     ]
    }
   ],
   "source": [
    "# txt路径.\n",
    "folder_name = csv_fname\n",
    "root_label = Path('/home/chenyi/workspace/dataset/labels/deploy_system/labels6/')\n",
    "label_path = root_label /f'{folder_name}/labels'\n",
    "if not label_path.is_dir(): label_path.mkdir(parents=True)\n",
    "!ls $root_label"
   ]
  },
  {
   "cell_type": "code",
   "execution_count": null,
   "id": "1402470d-1c96-48a0-8384-b4c64349e578",
   "metadata": {},
   "outputs": [],
   "source": []
  },
  {
   "cell_type": "markdown",
   "id": "535f6489-29e4-4774-a466-41e36a7280a0",
   "metadata": {
    "jp-MarkdownHeadingCollapsed": true,
    "tags": []
   },
   "source": [
    "##### 训练集测试集划分"
   ]
  },
  {
   "cell_type": "code",
   "execution_count": null,
   "id": "a09de120-dcf1-4a74-bf96-94555cc4d932",
   "metadata": {},
   "outputs": [],
   "source": [
    "df.head(2)"
   ]
  },
  {
   "cell_type": "code",
   "execution_count": null,
   "id": "b25b7b90-09a7-49ee-bfaa-ed2e4d3fe33c",
   "metadata": {},
   "outputs": [],
   "source": [
    "df['mode'] = 'train'"
   ]
  },
  {
   "cell_type": "code",
   "execution_count": null,
   "id": "aa976e5a-7487-48b6-995e-652c4017be97",
   "metadata": {},
   "outputs": [],
   "source": [
    "# 切分训练集和测试集\n",
    "import random\n",
    "img_df = df.drop_duplicates('img_sp').copy(deep=True)\n",
    "train_list = ['train' if random.random()<0.85 else 'val' for i in range(len(img_df))]\n",
    "img_df['mode'] =  train_list\n",
    "img2mode = get_list2dict(img_df['img_sp'].values, img_df['mode'].values)\n",
    "df['mode'] = df['img_sp'].map(img2mode)"
   ]
  },
  {
   "cell_type": "code",
   "execution_count": null,
   "id": "760e2915-81b0-4a1b-95fb-9ce9b1162fd0",
   "metadata": {},
   "outputs": [],
   "source": [
    "df.value_counts('mode')"
   ]
  },
  {
   "cell_type": "code",
   "execution_count": null,
   "id": "5d493ec6-17f8-45c9-b7fc-928982f34c4b",
   "metadata": {},
   "outputs": [],
   "source": []
  },
  {
   "cell_type": "markdown",
   "id": "75db6cfe-8dd8-4fe4-93e3-2e8af4e2c2fd",
   "metadata": {
    "tags": []
   },
   "source": [
    "##### label target path."
   ]
  },
  {
   "cell_type": "code",
   "execution_count": 22,
   "id": "83a30aae-073d-4170-82d7-78bc47e54003",
   "metadata": {},
   "outputs": [],
   "source": [
    "df['mode'] = 'train'"
   ]
  },
  {
   "cell_type": "code",
   "execution_count": 23,
   "id": "9b6d19d1-47a0-4187-a165-ee80acecbbdc",
   "metadata": {},
   "outputs": [
    {
     "data": {
      "text/plain": [
       "PosixPath('/home/chenyi/workspace/dataset/labels/deploy_system/labels6/anomoly2k_aug/labels/train/098c9124-0fbb-428f-afbf-09941194d177.txt')"
      ]
     },
     "execution_count": 23,
     "metadata": {},
     "output_type": "execute_result"
    }
   ],
   "source": [
    "df['label_tp'] = df.apply(lambda row: Path('{0}/{1}/{2}.txt'.format(label_path, row['mode'], Path(row['img_sp']).stem)), axis=1)\n",
    "df['label_tp'].values[0]"
   ]
  },
  {
   "cell_type": "code",
   "execution_count": null,
   "id": "84cbe842-7a37-425a-b1a7-273d86e78540",
   "metadata": {},
   "outputs": [],
   "source": []
  },
  {
   "cell_type": "markdown",
   "id": "ae551ebb-adcd-43ef-a074-16f4d2f2a320",
   "metadata": {
    "tags": []
   },
   "source": [
    "#### 生成txt"
   ]
  },
  {
   "cell_type": "code",
   "execution_count": 24,
   "id": "7abe5cbf-ef96-461a-a35a-40592f069cc4",
   "metadata": {},
   "outputs": [],
   "source": [
    "sys.path.append('../../')\n",
    "from utils.bbox.conversation import bbox_coco2voc,bbox_voc2yolo,bbox_yolo2voc"
   ]
  },
  {
   "cell_type": "code",
   "execution_count": 27,
   "id": "20fbeb30-8bb0-434d-86ae-ed8ba0fe01a2",
   "metadata": {},
   "outputs": [
    {
     "data": {
      "text/html": [
       "<div>\n",
       "<style scoped>\n",
       "    .dataframe tbody tr th:only-of-type {\n",
       "        vertical-align: middle;\n",
       "    }\n",
       "\n",
       "    .dataframe tbody tr th {\n",
       "        vertical-align: top;\n",
       "    }\n",
       "\n",
       "    .dataframe thead th {\n",
       "        text-align: right;\n",
       "    }\n",
       "</style>\n",
       "<table border=\"1\" class=\"dataframe\">\n",
       "  <thead>\n",
       "    <tr style=\"text-align: right;\">\n",
       "      <th></th>\n",
       "      <th>xml_path</th>\n",
       "      <th>width</th>\n",
       "      <th>height</th>\n",
       "      <th>labelimg</th>\n",
       "      <th>bx1</th>\n",
       "      <th>bx2</th>\n",
       "      <th>bx3</th>\n",
       "      <th>bx4</th>\n",
       "      <th>stem</th>\n",
       "      <th>label9</th>\n",
       "      <th>label_eng</th>\n",
       "      <th>label6</th>\n",
       "      <th>img_sp</th>\n",
       "      <th>label_model</th>\n",
       "      <th>mode</th>\n",
       "      <th>label_tp</th>\n",
       "    </tr>\n",
       "  </thead>\n",
       "  <tbody>\n",
       "    <tr>\n",
       "      <th>0</th>\n",
       "      <td>/Users/chenyi/Desktop/data_aug/deploy_manual_s...</td>\n",
       "      <td>384</td>\n",
       "      <td>682</td>\n",
       "      <td>上装</td>\n",
       "      <td>2</td>\n",
       "      <td>104</td>\n",
       "      <td>376</td>\n",
       "      <td>419</td>\n",
       "      <td>098c9124-0fbb-428f-afbf-09941194d177</td>\n",
       "      <td>2</td>\n",
       "      <td>upper_short</td>\n",
       "      <td>4</td>\n",
       "      <td>/Users/chenyi/Desktop/data_aug/deploy_manual_s...</td>\n",
       "      <td>2</td>\n",
       "      <td>train</td>\n",
       "      <td>/home/chenyi/workspace/dataset/labels/deploy_s...</td>\n",
       "    </tr>\n",
       "  </tbody>\n",
       "</table>\n",
       "</div>"
      ],
      "text/plain": [
       "                                            xml_path  width  height labelimg  \\\n",
       "0  /Users/chenyi/Desktop/data_aug/deploy_manual_s...    384     682       上装   \n",
       "\n",
       "   bx1  bx2  bx3  bx4                                  stem  label9  \\\n",
       "0    2  104  376  419  098c9124-0fbb-428f-afbf-09941194d177       2   \n",
       "\n",
       "     label_eng  label6                                             img_sp  \\\n",
       "0  upper_short       4  /Users/chenyi/Desktop/data_aug/deploy_manual_s...   \n",
       "\n",
       "   label_model   mode                                           label_tp  \n",
       "0            2  train  /home/chenyi/workspace/dataset/labels/deploy_s...  "
      ]
     },
     "execution_count": 27,
     "metadata": {},
     "output_type": "execute_result"
    }
   ],
   "source": [
    "# df = xml_df\n",
    "df.head(1)"
   ]
  },
  {
   "cell_type": "code",
   "execution_count": 28,
   "id": "c5561849-1c65-49f4-b09c-6b3e91e22611",
   "metadata": {},
   "outputs": [
    {
     "name": "stderr",
     "output_type": "stream",
     "text": [
      "2238it [00:00, 4507.95it/s]\n"
     ]
    }
   ],
   "source": [
    "label_name = 'label_model'\n",
    "bboxes_list = []\n",
    "for ind,row in tqdm(df.iterrows()):\n",
    "    bbox5 = row.loc[[label_name, 'bx1', 'bx2', 'bx3', 'bx4']].values.tolist()\n",
    "    w, h = row['width'], row['height']\n",
    "    bbox5[1:] = bbox_voc2yolo(bbox5[1:], w, h)\n",
    "    bbox5_str = '{0:.0f} {1:.6f} {2:.6f} {3:.6f} {4:.6f}\\n'.format(*bbox5)\n",
    "    bboxes_list.append(bbox5_str)\n",
    "    # break"
   ]
  },
  {
   "cell_type": "code",
   "execution_count": 29,
   "id": "e1f3ac86-6d97-4e82-800e-a84458413e8f",
   "metadata": {},
   "outputs": [],
   "source": [
    "def write_txt(label_path, text):\n",
    "    # label_path, text = input_list[0], input_list[1]\n",
    "    label_path = Path(label_path)\n",
    "    p_parent = label_path.parent\n",
    "    if not p_parent.is_dir():\n",
    "        p_parent.mkdir(parents=True)\n",
    "    if not p_parent.is_file():\n",
    "        with open(label_path, 'a+') as f:\n",
    "            f.write(text)"
   ]
  },
  {
   "cell_type": "code",
   "execution_count": 30,
   "id": "b608ed89-10e1-4bfe-a235-d5239ab108c7",
   "metadata": {},
   "outputs": [
    {
     "name": "stderr",
     "output_type": "stream",
     "text": [
      "2238it [00:00, 30173.20it/s]\n"
     ]
    }
   ],
   "source": [
    "# 注意生成的测试label，要删除，再重新生成。\n",
    "for label_path, text in tqdm(zip(df['label_tp'].values, bboxes_list)):\n",
    "    write_txt(label_path, text)\n",
    "    # break\n",
    "!cat $label_path"
   ]
  },
  {
   "cell_type": "code",
   "execution_count": null,
   "id": "d9ce4a47-628a-4e7a-aff0-bbc5e5b6093c",
   "metadata": {},
   "outputs": [],
   "source": []
  },
  {
   "cell_type": "markdown",
   "id": "9e9fdf00-d300-4936-800a-2ad6b530e903",
   "metadata": {
    "jp-MarkdownHeadingCollapsed": true,
    "tags": []
   },
   "source": [
    "##### 拷贝labels"
   ]
  },
  {
   "cell_type": "code",
   "execution_count": null,
   "id": "b5bebf7b-6bef-4cc3-b738-1cb1e5c80364",
   "metadata": {},
   "outputs": [],
   "source": [
    "label_troot = Path('/home/chenyi/workspace/dataset/labels/query6/')"
   ]
  },
  {
   "cell_type": "code",
   "execution_count": null,
   "id": "b00c7078-1c8a-43b6-9bce-5889fca1d0a1",
   "metadata": {},
   "outputs": [],
   "source": [
    "!ls $label_troot"
   ]
  },
  {
   "cell_type": "code",
   "execution_count": null,
   "id": "aad5e8ca-5b2d-419d-ae66-8a88ee2670c1",
   "metadata": {},
   "outputs": [],
   "source": [
    "folder_name = 'dadetv6_2'\n",
    "label_tp = label_troot / folder_name\n",
    "# label_sp = /nas/chenyi/datasets_nas/deploy_system/labels"
   ]
  },
  {
   "cell_type": "code",
   "execution_count": null,
   "id": "dcddeaed-913e-48d5-bce8-779d573f6c04",
   "metadata": {},
   "outputs": [],
   "source": [
    "# !mkdir -p $label_tp"
   ]
  },
  {
   "cell_type": "code",
   "execution_count": null,
   "id": "9a250144-dbec-405e-969d-23ce5877e687",
   "metadata": {},
   "outputs": [],
   "source": [
    "label_tp"
   ]
  },
  {
   "cell_type": "code",
   "execution_count": null,
   "id": "40de6864-8ee6-403c-ad5c-a778612a8067",
   "metadata": {},
   "outputs": [],
   "source": [
    "# !cp -r $root_label $label_tp"
   ]
  },
  {
   "cell_type": "code",
   "execution_count": null,
   "id": "0fc609cd-1814-42a8-8cac-407f31663111",
   "metadata": {},
   "outputs": [],
   "source": [
    "# !cp -r /nas/chenyi/datasets_nas/deploy_system/labels \\\n",
    "#         /home/chenyi/workspace/dataset/labels"
   ]
  },
  {
   "cell_type": "code",
   "execution_count": null,
   "id": "da9b02b5-bbf4-440e-902c-b3341ce4b11d",
   "metadata": {},
   "outputs": [],
   "source": []
  },
  {
   "cell_type": "markdown",
   "id": "0e265dd4-82a0-46b8-b756-a59f13b88c4f",
   "metadata": {
    "tags": []
   },
   "source": [
    "### 4. 构建slink_df"
   ]
  },
  {
   "cell_type": "code",
   "execution_count": 10,
   "id": "b1013b61-a11e-440c-b767-e5598a1143cc",
   "metadata": {},
   "outputs": [
    {
     "name": "stdout",
     "output_type": "stream",
     "text": [
      "\u001b[01;34m/home/chenyi/workspace/yolov5/datasets/query\u001b[00m\n",
      "└── \u001b[01;34mqueryv7_1\u001b[00m\n",
      "\n",
      "1 directory\n"
     ]
    }
   ],
   "source": [
    "root_yolo = Path('/home/chenyi/workspace/yolov5/datasets/query/')\n",
    "!tree -d -L 1 $root_yolo"
   ]
  },
  {
   "cell_type": "code",
   "execution_count": 36,
   "id": "a960e99f-1a56-43d1-a3e5-28b185f4f974",
   "metadata": {},
   "outputs": [],
   "source": [
    "root_img = Path('/home/chenyi/workspace/dataset/data/deploy_system/deploy_manual_sep/images/apparel/anomaly0826/')\n",
    "# !tree -d -L 1 $root_data"
   ]
  },
  {
   "cell_type": "code",
   "execution_count": 41,
   "id": "6c185fb3-db8c-4ffb-ac7b-1d7482bd1fff",
   "metadata": {},
   "outputs": [
    {
     "name": "stdout",
     "output_type": "stream",
     "text": [
      "labels\n"
     ]
    }
   ],
   "source": [
    "root_label = Path('/home/chenyi/workspace/dataset/labels/deploy_system/labels6/anomoly2k_aug/')\n",
    "!ls $root_label"
   ]
  },
  {
   "cell_type": "code",
   "execution_count": 42,
   "id": "2e0b0f92-0935-4402-9b80-034daf08ba02",
   "metadata": {},
   "outputs": [],
   "source": [
    "# df = xml_df\n",
    "# df['img_sp'] = df['img_sp'].apply(lambda x: '{0}/{1}'.format(root_data, Path(x).name))\n",
    "df['img_sp'] = df['img_sp'].apply(lambda x: Path(x))\n",
    "df['img_sp'] = df['img_sp'].apply(lambda x: root_img /x.name)\n",
    "# df['img_sp'] = df['img_sp'].apply(lambda x: root_img /x.parts[-4] /x.parts[-3] /x.parts[-2] /x.name)\n",
    "# df['label_tp'] = df['label_tp'].apply(lambda x: '{0}/{1}/{2}'.format(root_label, Path(x).parts[-2], Path(x).name))"
   ]
  },
  {
   "cell_type": "code",
   "execution_count": 47,
   "id": "62f4046e-d281-495d-a143-0a8a2db312da",
   "metadata": {},
   "outputs": [],
   "source": [
    "folder_name = 'queryv7_1'\n",
    "troot = Path(root_yolo /folder_name)\n",
    "if not troot.is_dir(): troot.mkdir(parents=True)\n",
    "!ls $troot"
   ]
  },
  {
   "cell_type": "code",
   "execution_count": 48,
   "id": "bac5c320-bb01-4e9a-8af3-1debe4c06d1d",
   "metadata": {},
   "outputs": [],
   "source": [
    "slink_df = pd.DataFrame()\n",
    "drop_df = df.drop_duplicates('img_sp')\n",
    "slink_df['img_sp'] = drop_df['img_sp']\n",
    "slink_df['label_sp'] = drop_df['label_tp']"
   ]
  },
  {
   "cell_type": "code",
   "execution_count": 49,
   "id": "29e2fef9-bb6c-4b0c-90ec-ca02e590d4b9",
   "metadata": {},
   "outputs": [],
   "source": [
    "slink_df['label_tp'] = slink_df['label_sp'].apply(lambda x: troot /'labels' /Path(x).parts[-2] /Path(x).parts[-1])\n",
    "slink_df['img_tp'] = slink_df['label_sp'].apply(lambda x: troot /'images' /Path(x).parts[-2] /Path(x).parts[-1])\n",
    "slink_df['img_tp'] = slink_df['img_tp'].apply(lambda x: x.with_suffix('.jpg'))"
   ]
  },
  {
   "cell_type": "code",
   "execution_count": 51,
   "id": "78343685-b1a7-4c41-8cb2-05dbd1b8ae5d",
   "metadata": {},
   "outputs": [
    {
     "name": "stdout",
     "output_type": "stream",
     "text": [
      "2 0.492188 0.383431 0.973958 0.461877\n",
      "2 0.506510 0.696481 0.658854 0.307918\n"
     ]
    }
   ],
   "source": [
    "lp = slink_df['label_sp'].values[0]\n",
    "!cat $lp"
   ]
  },
  {
   "cell_type": "code",
   "execution_count": null,
   "id": "f9fcef8b-2570-45ce-ac47-dbcb21b60523",
   "metadata": {},
   "outputs": [],
   "source": []
  },
  {
   "cell_type": "markdown",
   "id": "73db1c9e-afca-417d-a5c3-2f8058ab1ac0",
   "metadata": {
    "jp-MarkdownHeadingCollapsed": true,
    "tags": []
   },
   "source": [
    "#### 直接读取slink.csv"
   ]
  },
  {
   "cell_type": "code",
   "execution_count": null,
   "id": "8da84064-3e41-45f9-a663-eb4ce87e65e0",
   "metadata": {},
   "outputs": [],
   "source": [
    "!tree -d -L 1 /home/chenyi/workspace/dataset/labels/dada_det/labels202205/shoeBag5k0515/"
   ]
  },
  {
   "cell_type": "code",
   "execution_count": null,
   "id": "12f9c0ae-cb3c-47f7-9068-f91fc78d13bd",
   "metadata": {},
   "outputs": [],
   "source": [
    "# slink_df = pd.read_csv('/home/chenyi/workspace/myPyModule99/dataset/dada_det/data/sys_error_sample/sys_error_slin_dfk.csv')"
   ]
  },
  {
   "cell_type": "code",
   "execution_count": null,
   "id": "76eaed27-349e-487d-99da-0d0ff6194006",
   "metadata": {},
   "outputs": [],
   "source": [
    "slink_df.head(1).values"
   ]
  },
  {
   "cell_type": "code",
   "execution_count": null,
   "id": "4d67f42c-d69b-4a5d-8d05-f811fe5cac77",
   "metadata": {},
   "outputs": [],
   "source": [
    "slink_df.head(1)"
   ]
  },
  {
   "cell_type": "code",
   "execution_count": null,
   "id": "f0645e0c-d07e-4fb1-8cae-5bdaef292d06",
   "metadata": {},
   "outputs": [],
   "source": []
  },
  {
   "cell_type": "code",
   "execution_count": null,
   "id": "546ebaca-e2fe-4b41-ab7a-aaae4e714a46",
   "metadata": {},
   "outputs": [],
   "source": [
    "origin_folder = 'gallery2mv6'\n",
    "folder_name = 'gallery2m7k'"
   ]
  },
  {
   "cell_type": "code",
   "execution_count": null,
   "id": "04c8b59b-0dfb-48c1-aeb1-ac744fac9830",
   "metadata": {},
   "outputs": [],
   "source": [
    "slink_df['img_tp'] = slink_df['img_tp'].apply(lambda x: str(x).replace(f'/{origin_folder}/images/', f'/{folder_name}/images/'))\n",
    "slink_df['label_tp'] = slink_df['label_tp'].apply(lambda x: str(x).replace(f'/{origin_folder}/labels/', f'/{folder_name}/labels/'))"
   ]
  },
  {
   "cell_type": "code",
   "execution_count": null,
   "id": "a44b4bad-2048-4270-be26-e179ffca6e6a",
   "metadata": {},
   "outputs": [],
   "source": []
  },
  {
   "cell_type": "code",
   "execution_count": null,
   "id": "74edf7d8-7161-4004-88bb-f690ebc69044",
   "metadata": {},
   "outputs": [],
   "source": []
  },
  {
   "cell_type": "markdown",
   "id": "31456e3a-4b13-41d1-b3f3-29f0a4e9c7f2",
   "metadata": {
    "tags": []
   },
   "source": [
    "### 5. 生成sym link"
   ]
  },
  {
   "cell_type": "code",
   "execution_count": 46,
   "id": "428004e4-65ac-4c0e-9c68-97c90b51a2cc",
   "metadata": {},
   "outputs": [
    {
     "name": "stdout",
     "output_type": "stream",
     "text": [
      "\u001b[01;34m/home/chenyi/workspace/yolov5/datasets/\u001b[00m\n",
      "├── \u001b[01;34mbenchmark\u001b[00m\n",
      "├── \u001b[01;34mcoco128\u001b[00m\n",
      "├── \u001b[01;34mdadet100kv2\u001b[00m\n",
      "├── \u001b[01;34mdadet100kv3_june\u001b[00m\n",
      "├── \u001b[01;34mdadet100kv4_1_june\u001b[00m\n",
      "├── \u001b[01;34mdadet100kv4_june\u001b[00m\n",
      "├── \u001b[01;34mdadet_gallv4_june\u001b[00m\n",
      "├── \u001b[01;34mdadetv5\u001b[00m\n",
      "├── \u001b[01;34mdadetv5_query\u001b[00m\n",
      "├── \u001b[01;34mdadetv6_1\u001b[00m\n",
      "├── \u001b[01;34mdadetv6_2\u001b[00m\n",
      "├── \u001b[01;34mdadetv6_3\u001b[00m\n",
      "├── \u001b[01;34mdataExps\u001b[00m\n",
      "├── \u001b[01;34mdeepedia\u001b[00m\n",
      "├── \u001b[01;34mgallery_train\u001b[00m\n",
      "├── \u001b[01;34mhaowei_bag_shoe\u001b[00m\n",
      "├── \u001b[01;34mhwpedia\u001b[00m\n",
      "├── \u001b[01;34mhwpedia70k\u001b[00m\n",
      "├── \u001b[01;34mhwpedia80k\u001b[00m\n",
      "├── \u001b[01;34mtuneGallery10k\u001b[00m\n",
      "├── \u001b[01;34mtuneGallery5k\u001b[00m\n",
      "├── \u001b[01;34mtuneQuery10k\u001b[00m\n",
      "└── \u001b[01;34mvalidation_all\u001b[00m\n",
      "\n",
      "23 directories\n"
     ]
    }
   ],
   "source": [
    "root = '/home/chenyi/workspace/yolov5/datasets/'\n",
    "!tree  -d -L 1 $root"
   ]
  },
  {
   "cell_type": "code",
   "execution_count": 75,
   "id": "e548702c-27bc-4910-b779-04b1edf2c915",
   "metadata": {},
   "outputs": [
    {
     "name": "stdout",
     "output_type": "stream",
     "text": [
      "\u001b[01;34m/home/chenyi/workspace/yolov5/datasets/query\u001b[00m\n",
      "└── \u001b[01;34mqueryv7_1\u001b[00m\n",
      "\n",
      "1 directory\n"
     ]
    }
   ],
   "source": []
  },
  {
   "cell_type": "code",
   "execution_count": null,
   "id": "49725d77-116d-45a7-ab98-6e4903f1a218",
   "metadata": {},
   "outputs": [],
   "source": []
  },
  {
   "cell_type": "markdown",
   "id": "2dae8e3d-b19f-4e32-bd9c-e2c42501c888",
   "metadata": {
    "jp-MarkdownHeadingCollapsed": true,
    "tags": []
   },
   "source": [
    "#### 对现有数据拷贝软连接"
   ]
  },
  {
   "cell_type": "code",
   "execution_count": null,
   "id": "7dba8a83-8312-4ea8-b06a-83ad23980f3b",
   "metadata": {},
   "outputs": [],
   "source": [
    "folder_name = 'gallery_train/gallery2mv6'\n",
    "folder_copy = 'hwpedia80k'\n",
    "folder_copy"
   ]
  },
  {
   "cell_type": "code",
   "execution_count": null,
   "id": "e83c88bc-324c-43e5-b972-a962d8cc9e65",
   "metadata": {},
   "outputs": [],
   "source": [
    "img_list = glob.glob(f'/home/chenyi/workspace/yolov5/datasets/{folder_copy}/images/*/*')\n",
    "len(img_list)"
   ]
  },
  {
   "cell_type": "code",
   "execution_count": null,
   "id": "3bc74c18-8ef9-44a5-8e1e-96004facd477",
   "metadata": {},
   "outputs": [],
   "source": [
    "label_list = glob.glob(f'/home/chenyi/workspace/yolov5/datasets/{folder_copy}/labels/*/*')\n",
    "len(label_list)"
   ]
  },
  {
   "cell_type": "code",
   "execution_count": null,
   "id": "e9006857-428a-4ca9-a30f-bb5bbc9d9afc",
   "metadata": {},
   "outputs": [],
   "source": [
    "img_t_list = [p.replace(folder_copy, folder_name) for p in img_list]\n",
    "label_t_list = [p.replace(folder_copy, folder_name)  for p in label_list]"
   ]
  },
  {
   "cell_type": "code",
   "execution_count": null,
   "id": "3914af77-90bf-4a26-9408-6dd521f18846",
   "metadata": {},
   "outputs": [],
   "source": [
    "copy_df = pd.DataFrame()\n",
    "copy_df['img_sp'] = img_list\n",
    "copy_df['label_sp'] = label_list\n",
    "copy_df['img_tp'] = img_t_list\n",
    "copy_df['label_tp'] = label_t_list"
   ]
  },
  {
   "cell_type": "code",
   "execution_count": null,
   "id": "c55111f7-7c49-4756-8c9f-917e23c94bba",
   "metadata": {},
   "outputs": [],
   "source": []
  },
  {
   "cell_type": "code",
   "execution_count": null,
   "id": "8b2ec611-9e2f-4d88-aa88-994bff13ced4",
   "metadata": {},
   "outputs": [],
   "source": []
  },
  {
   "cell_type": "markdown",
   "id": "0a77869f-7781-4b2e-8928-8b5eda5a77eb",
   "metadata": {
    "tags": []
   },
   "source": [
    "#### 生成软连接"
   ]
  },
  {
   "cell_type": "markdown",
   "id": "b1e08cb0-5cca-4f8e-bb7c-f0c5c36a81b4",
   "metadata": {
    "tags": []
   },
   "source": [
    "##### 生成文件夹"
   ]
  },
  {
   "cell_type": "code",
   "execution_count": 41,
   "id": "3125a933-ed97-46a5-a3f3-d6e55865ee2c",
   "metadata": {},
   "outputs": [
    {
     "name": "stdout",
     "output_type": "stream",
     "text": [
      "\u001b[01;34m/home/chenyi/workspace/yolov5/datasets/query\u001b[00m\n",
      "└── \u001b[01;34mqueryv7_1\u001b[00m\n",
      "\n",
      "1 directory\n"
     ]
    }
   ],
   "source": [
    "root = '/home/chenyi/workspace/yolov5/datasets/query'\n",
    "!tree  -d -L 1 $root\n",
    "# folder_name = 'gallery2mv6_test'"
   ]
  },
  {
   "cell_type": "code",
   "execution_count": 42,
   "id": "b3804c47-0eff-4ec0-a201-15c504c88dcb",
   "metadata": {},
   "outputs": [
    {
     "data": {
      "text/plain": [
       "'queryv7_1'"
      ]
     },
     "execution_count": 42,
     "metadata": {},
     "output_type": "execute_result"
    }
   ],
   "source": [
    "folder_name"
   ]
  },
  {
   "cell_type": "code",
   "execution_count": 43,
   "id": "6bfbd252-58d0-4a7b-b404-adefeb1dcd85",
   "metadata": {},
   "outputs": [],
   "source": [
    "# 产生路径\n",
    "import shutil\n",
    "# folder_name = 'gallery2mv6_test'\n",
    "folder_name = folder_name\n",
    "folder_root = Path(root) /folder_name\n",
    "# folder_root = root\n",
    "folder1 = ['images', 'labels']\n",
    "folder2 = ['train', 'val']\n",
    "# # if folder_root.is_dir() and False:\n",
    "# #     shutil.rmtree(folder_root)\n",
    "# for f1 in folder1:\n",
    "#     for f2 in folder2:\n",
    "#         tg = folder_root / f1 / f2\n",
    "#         tg.mkdir(parents=True)   "
   ]
  },
  {
   "cell_type": "code",
   "execution_count": 44,
   "id": "5714098e-7fe0-43e5-8c09-7e632d91dd95",
   "metadata": {},
   "outputs": [
    {
     "name": "stdout",
     "output_type": "stream",
     "text": [
      "\u001b[01;34m/home/chenyi/workspace/yolov5/datasets/query/queryv7_1\u001b[00m\n",
      "├── \u001b[01;34mimages\u001b[00m\n",
      "│   ├── \u001b[01;34mtrain\u001b[00m\n",
      "│   └── \u001b[01;34mval\u001b[00m\n",
      "└── \u001b[01;34mlabels\u001b[00m\n",
      "    ├── \u001b[01;34mtrain\u001b[00m\n",
      "    └── \u001b[01;34mval\u001b[00m\n",
      "\n",
      "6 directories\n"
     ]
    }
   ],
   "source": [
    "!tree  -d -L 2 $folder_root"
   ]
  },
  {
   "cell_type": "code",
   "execution_count": null,
   "id": "b1dff41f-29e3-4d5a-949a-98e723dd3a0a",
   "metadata": {},
   "outputs": [],
   "source": []
  },
  {
   "cell_type": "markdown",
   "id": "fc2539bc-2257-4763-bef4-e511faf6ca28",
   "metadata": {
    "tags": []
   },
   "source": [
    "##### 生成训练集"
   ]
  },
  {
   "cell_type": "code",
   "execution_count": 45,
   "id": "77b72ef3-1c61-4b15-821a-87c251f9ec4c",
   "metadata": {},
   "outputs": [],
   "source": [
    "slink_df = df"
   ]
  },
  {
   "cell_type": "code",
   "execution_count": 46,
   "id": "801d2020-58ac-4506-92a0-a4f79b7ca4db",
   "metadata": {},
   "outputs": [
    {
     "data": {
      "text/plain": [
       "(124869, 124869)"
      ]
     },
     "execution_count": 46,
     "metadata": {},
     "output_type": "execute_result"
    }
   ],
   "source": [
    "len(glob.glob(f'{folder_root}/images/*/*.jpg')), len(glob.glob(f'{folder_root}/labels/*/*.txt'))"
   ]
  },
  {
   "cell_type": "code",
   "execution_count": 47,
   "id": "c6c969d0-3c2b-4f15-9158-865f358f329f",
   "metadata": {},
   "outputs": [
    {
     "data": {
      "text/plain": [
       "array([['/home/chenyi/workspace/yolov5/datasets/dadetv6_3/images/train/20140305213907823.jpg',\n",
       "        '/home/chenyi/workspace/yolov5/datasets/dadetv6_3/labels/train/551df69f15ca760f19dd6f40bfda2aa7.txt',\n",
       "        '/home/chenyi/workspace/yolov5/datasets/query/queryv7_1/images/train/20140305213907823.jpg',\n",
       "        '/home/chenyi/workspace/yolov5/datasets/query/queryv7_1/labels/train/551df69f15ca760f19dd6f40bfda2aa7.txt',\n",
       "        '20140305213907823']], dtype=object)"
      ]
     },
     "execution_count": 47,
     "metadata": {},
     "output_type": "execute_result"
    }
   ],
   "source": [
    "slink_df.head(1).values"
   ]
  },
  {
   "cell_type": "code",
   "execution_count": 48,
   "id": "6b5a0227-b70b-4e43-b834-04234550a536",
   "metadata": {},
   "outputs": [
    {
     "name": "stdout",
     "output_type": "stream",
     "text": [
      "CPU times: user 3.32 s, sys: 3.55 s, total: 6.87 s\n",
      "Wall time: 7.18 s\n"
     ]
    }
   ],
   "source": [
    "%%time\n",
    "for p in slink_df['label_tp'].values:\n",
    "    if Path(p).is_symlink():\n",
    "        Path(p).unlink()\n",
    "_ = slink_df.apply(lambda row: Path.symlink_to(Path(row['label_tp']), Path(row['label_sp'])), axis=1)\n",
    "# _ = slink_df.apply(lambda row: os.symlink(str(row['label_sp']), str(row['label_tp'])), axis=1)"
   ]
  },
  {
   "cell_type": "code",
   "execution_count": 49,
   "id": "5f2dfc8e-2177-4a62-96ff-bc7d334dbc1c",
   "metadata": {},
   "outputs": [
    {
     "name": "stdout",
     "output_type": "stream",
     "text": [
      "CPU times: user 3.26 s, sys: 3.67 s, total: 6.93 s\n",
      "Wall time: 7.83 s\n"
     ]
    }
   ],
   "source": [
    "%%time\n",
    "for p in slink_df['img_tp'].values:\n",
    "    if Path(p).is_symlink():\n",
    "        Path(p).unlink()\n",
    "_ = slink_df.apply(lambda row: Path.symlink_to(Path(row['img_tp']), Path(row['img_sp'])), axis=1)"
   ]
  },
  {
   "cell_type": "code",
   "execution_count": 50,
   "id": "ebc561f4-cb04-4055-832e-f7fd60521d49",
   "metadata": {},
   "outputs": [
    {
     "data": {
      "text/plain": [
       "(122800, 124869, 124869)"
      ]
     },
     "execution_count": 50,
     "metadata": {},
     "output_type": "execute_result"
    }
   ],
   "source": [
    "len(slink_df),len(glob.glob(f'{folder_root}/images/*/*.jpg')), len(glob.glob(f'{folder_root}/labels/*/*.txt'))"
   ]
  },
  {
   "cell_type": "code",
   "execution_count": null,
   "id": "e86fe912-b82f-43e8-811b-4ba62fb42b4e",
   "metadata": {},
   "outputs": [],
   "source": []
  },
  {
   "cell_type": "code",
   "execution_count": 51,
   "id": "1fc942ac-1f23-4c91-a364-ec900458d987",
   "metadata": {},
   "outputs": [
    {
     "name": "stdout",
     "output_type": "stream",
     "text": [
      "5 0.506840 0.487305 0.953488 0.849609\n"
     ]
    }
   ],
   "source": [
    "p = str(slink_df['label_tp'].values[1])\n",
    "!cat $p"
   ]
  },
  {
   "cell_type": "code",
   "execution_count": null,
   "id": "d76491dd-c8e5-4ca7-83e9-96008e998d72",
   "metadata": {},
   "outputs": [],
   "source": []
  },
  {
   "cell_type": "code",
   "execution_count": null,
   "id": "92c05cad-3694-4a3f-b1ad-2366ef04c22a",
   "metadata": {},
   "outputs": [],
   "source": []
  },
  {
   "cell_type": "markdown",
   "id": "ac5bda49-f35f-4bfc-a3ff-8f4269bc815b",
   "metadata": {},
   "source": [
    "#### 核查软连接"
   ]
  },
  {
   "cell_type": "code",
   "execution_count": 52,
   "id": "2bcd20d0-80d4-4b86-98d4-4c26b5e464dc",
   "metadata": {},
   "outputs": [],
   "source": [
    "folder_name = 'queryv7_1'"
   ]
  },
  {
   "cell_type": "code",
   "execution_count": 53,
   "id": "cbc6ba68-f555-4b0b-9260-85fd40c66399",
   "metadata": {},
   "outputs": [
    {
     "data": {
      "text/plain": [
       "'queryv7_1'"
      ]
     },
     "execution_count": 53,
     "metadata": {},
     "output_type": "execute_result"
    }
   ],
   "source": [
    "folder_name"
   ]
  },
  {
   "cell_type": "code",
   "execution_count": 54,
   "id": "e4aa7a4c-29a6-44a9-bdc5-63a13903c84f",
   "metadata": {},
   "outputs": [
    {
     "name": "stdout",
     "output_type": "stream",
     "text": [
      "\u001b[01;34m/home/chenyi/workspace/yolov5/datasets/query/queryv7_1\u001b[00m\n",
      "├── \u001b[01;34mimages\u001b[00m\n",
      "│   ├── \u001b[01;34mtrain\u001b[00m\n",
      "│   └── \u001b[01;34mval\u001b[00m\n",
      "└── \u001b[01;34mlabels\u001b[00m\n",
      "    ├── \u001b[01;34mtrain\u001b[00m\n",
      "    └── \u001b[01;34mval\u001b[00m\n",
      "\n",
      "6 directories\n"
     ]
    }
   ],
   "source": [
    "# folder_name = 'hwpedia'\n",
    "folder_name = folder_name\n",
    "root = f'/home/chenyi/workspace/yolov5/datasets/query/{folder_name}'\n",
    "!tree  -d -L 2 $root"
   ]
  },
  {
   "cell_type": "code",
   "execution_count": 55,
   "id": "36885623-3317-489f-a6e9-336a0fab0ee3",
   "metadata": {},
   "outputs": [],
   "source": [
    "import os\n",
    "def check_syslink(root, mode='images'):\n",
    "    subfix = '.txt' if mode=='labels' else '.jpg'\n",
    "    pathes = glob.glob(f'{root}/{mode}/*/*{subfix}')\n",
    "    flag_list = [os.path.isfile(os.readlink(p)) for p in pathes]\n",
    "    txt_df = pd.DataFrame()\n",
    "    txt_df['flag'] = flag_list\n",
    "    txt_df['path'] = pathes\n",
    "    return txt_df"
   ]
  },
  {
   "cell_type": "code",
   "execution_count": 56,
   "id": "c86478cb-332e-4a09-98a2-b6bc79ba8a39",
   "metadata": {},
   "outputs": [
    {
     "name": "stdout",
     "output_type": "stream",
     "text": [
      "CPU times: user 266 ms, sys: 391 ms, total: 657 ms\n",
      "Wall time: 657 ms\n"
     ]
    }
   ],
   "source": [
    "%%time\n",
    "counter_images = check_syslink(root, mode='images')"
   ]
  },
  {
   "cell_type": "code",
   "execution_count": 57,
   "id": "ebb09ca8-c889-4522-9c21-4df77aeeef20",
   "metadata": {},
   "outputs": [
    {
     "name": "stdout",
     "output_type": "stream",
     "text": [
      "CPU times: user 241 ms, sys: 419 ms, total: 660 ms\n",
      "Wall time: 660 ms\n"
     ]
    }
   ],
   "source": [
    "%%time\n",
    "counter_labels = check_syslink(root, mode='labels')"
   ]
  },
  {
   "cell_type": "code",
   "execution_count": 58,
   "id": "9dac1898-1b2d-4f96-89b0-97bc1f4f391f",
   "metadata": {},
   "outputs": [
    {
     "data": {
      "text/plain": [
       "flag\n",
       "True    124869\n",
       "dtype: int64"
      ]
     },
     "execution_count": 58,
     "metadata": {},
     "output_type": "execute_result"
    }
   ],
   "source": [
    "counter_images.value_counts('flag')"
   ]
  },
  {
   "cell_type": "code",
   "execution_count": 59,
   "id": "1e7b0b5f-bce3-4f4b-aa39-7871ed43f4b8",
   "metadata": {},
   "outputs": [
    {
     "data": {
      "text/plain": [
       "flag\n",
       "True    124869\n",
       "dtype: int64"
      ]
     },
     "execution_count": 59,
     "metadata": {},
     "output_type": "execute_result"
    }
   ],
   "source": [
    "counter_labels.value_counts('flag')"
   ]
  },
  {
   "cell_type": "code",
   "execution_count": null,
   "id": "07f90646-788f-44a8-8f39-5bcffdb3ba25",
   "metadata": {},
   "outputs": [],
   "source": []
  },
  {
   "cell_type": "code",
   "execution_count": null,
   "id": "41714e7f-ef2b-4858-9cf4-6e9e27b1cbb7",
   "metadata": {},
   "outputs": [],
   "source": []
  },
  {
   "cell_type": "code",
   "execution_count": null,
   "id": "28f45dc7-cf9e-486a-949a-9896483479a2",
   "metadata": {},
   "outputs": [],
   "source": [
    "flase_df = counter_images[~counter_images['flag']]\n",
    "flase_df['stem'] =  flase_df['path'].apply(lambda x: Path(x).stem)"
   ]
  },
  {
   "cell_type": "code",
   "execution_count": 25,
   "id": "b27813b0-c560-4784-baf5-c9e2812841ed",
   "metadata": {},
   "outputs": [],
   "source": [
    "df['stem'] = df['img_sp'].apply(lambda x: Path(x).stem)"
   ]
  },
  {
   "cell_type": "code",
   "execution_count": 29,
   "id": "d7e1d794-53a4-47d2-89f6-28d6612b3131",
   "metadata": {},
   "outputs": [],
   "source": [
    "df1 = df[df['stem'].isin(flase_df['stem'])]"
   ]
  },
  {
   "cell_type": "code",
   "execution_count": null,
   "id": "e6d1ed66-a1cf-4d5e-ba5c-8eb5a64a9924",
   "metadata": {
    "tags": []
   },
   "outputs": [],
   "source": [
    "img_root = Path('/home/chenyi/workspace/dataset/data/dada_det/shoeBag5k0515/images/')\n",
    "df1['img_sp'] = df1['img_sp'].apply(lambda x: '{0}/{1}'.format(img_root, Path(x).name))"
   ]
  },
  {
   "cell_type": "code",
   "execution_count": 38,
   "id": "9892a596-7dfe-4524-9c03-00f84c1ab7d7",
   "metadata": {},
   "outputs": [],
   "source": [
    "df.loc[df1.index, 'img_sp'] = df1['img_sp'].values"
   ]
  },
  {
   "cell_type": "code",
   "execution_count": null,
   "id": "a881a33d-5ecb-4738-919c-496163f7502b",
   "metadata": {},
   "outputs": [],
   "source": []
  },
  {
   "cell_type": "code",
   "execution_count": null,
   "id": "db5905e7-3087-49c3-9399-1fd8fa2959ce",
   "metadata": {},
   "outputs": [],
   "source": []
  }
 ],
 "metadata": {
  "kernelspec": {
   "display_name": "Python 3 (ipykernel)",
   "language": "python",
   "name": "python3"
  },
  "language_info": {
   "codemirror_mode": {
    "name": "ipython",
    "version": 3
   },
   "file_extension": ".py",
   "mimetype": "text/x-python",
   "name": "python",
   "nbconvert_exporter": "python",
   "pygments_lexer": "ipython3",
   "version": "3.8.13"
  }
 },
 "nbformat": 4,
 "nbformat_minor": 5
}
