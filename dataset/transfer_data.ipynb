{
 "cells": [
  {
   "cell_type": "code",
   "execution_count": 2,
   "id": "070880bf-bff3-490d-949a-8b9d4df6c773",
   "metadata": {},
   "outputs": [],
   "source": [
    "import glob\n",
    "import pandas as pd\n",
    "from pathlib import Path"
   ]
  },
  {
   "cell_type": "code",
   "execution_count": 11,
   "id": "afa6847e-9b0a-48db-b3c4-385da4243330",
   "metadata": {},
   "outputs": [],
   "source": [
    "from PIL import Image"
   ]
  },
  {
   "cell_type": "code",
   "execution_count": null,
   "id": "93c10025-bcf0-4b09-85a5-b9d2866da3d8",
   "metadata": {},
   "outputs": [],
   "source": []
  },
  {
   "cell_type": "code",
   "execution_count": null,
   "id": "829f1a28-e1fa-4d06-9954-29937feba27e",
   "metadata": {},
   "outputs": [],
   "source": []
  },
  {
   "cell_type": "code",
   "execution_count": 4,
   "id": "a719125a-6b61-4d2d-88b5-98d9a7fe74bd",
   "metadata": {},
   "outputs": [
    {
     "data": {
      "text/plain": [
       "520"
      ]
     },
     "execution_count": 4,
     "metadata": {},
     "output_type": "execute_result"
    }
   ],
   "source": [
    "img_list = glob.glob('/nas/chenyi/datasets_cls/gallery_detect/gallery_oss/gall7kv6/clear/image_select/skirt/63_65/before_10/*')\n",
    "len(img_list)"
   ]
  },
  {
   "cell_type": "code",
   "execution_count": 7,
   "id": "2204b1a8-64a5-4c12-9781-284df3c3aef4",
   "metadata": {},
   "outputs": [],
   "source": [
    "img_df = pd.DataFrame()\n",
    "img_df['det_sp'] = img_list\n",
    "img_df['stem'] = img_df['det_sp'].apply(lambda x: Path(x).stem)"
   ]
  },
  {
   "cell_type": "code",
   "execution_count": null,
   "id": "449a52b5-42fa-4c06-a555-b32d2120cacc",
   "metadata": {},
   "outputs": [],
   "source": []
  },
  {
   "cell_type": "code",
   "execution_count": 8,
   "id": "e476ceec-2813-4685-a7b5-6a667fbac289",
   "metadata": {},
   "outputs": [],
   "source": [
    "root_oss = Path('/nas/oss/gallery/')"
   ]
  },
  {
   "cell_type": "code",
   "execution_count": 9,
   "id": "a11e3962-357c-4548-901c-46cf6bb185bc",
   "metadata": {},
   "outputs": [],
   "source": [
    "img_df['oss_sp'] = img_df['stem'].apply(lambda x: root_oss / x[:2]/ x[2:4]/ x)\n",
    "img_df['oss_sp'] = img_df['oss_sp'].apply(lambda x: x.with_suffix('.jpg'))"
   ]
  },
  {
   "cell_type": "code",
   "execution_count": 10,
   "id": "ee1bd571-e9fa-4df2-aa52-6e06914e41cb",
   "metadata": {},
   "outputs": [
    {
     "data": {
      "text/html": [
       "<div>\n",
       "<style scoped>\n",
       "    .dataframe tbody tr th:only-of-type {\n",
       "        vertical-align: middle;\n",
       "    }\n",
       "\n",
       "    .dataframe tbody tr th {\n",
       "        vertical-align: top;\n",
       "    }\n",
       "\n",
       "    .dataframe thead th {\n",
       "        text-align: right;\n",
       "    }\n",
       "</style>\n",
       "<table border=\"1\" class=\"dataframe\">\n",
       "  <thead>\n",
       "    <tr style=\"text-align: right;\">\n",
       "      <th></th>\n",
       "      <th>det_sp</th>\n",
       "      <th>stem</th>\n",
       "      <th>oss_sp</th>\n",
       "    </tr>\n",
       "  </thead>\n",
       "  <tbody>\n",
       "    <tr>\n",
       "      <th>0</th>\n",
       "      <td>/nas/chenyi/datasets_cls/gallery_detect/galler...</td>\n",
       "      <td>00bf0634-814d-41c4-ab05-69d4eec52a50-582155</td>\n",
       "      <td>/nas/oss/gallery/00/bf/00bf0634-814d-41c4-ab05...</td>\n",
       "    </tr>\n",
       "  </tbody>\n",
       "</table>\n",
       "</div>"
      ],
      "text/plain": [
       "                                              det_sp  \\\n",
       "0  /nas/chenyi/datasets_cls/gallery_detect/galler...   \n",
       "\n",
       "                                          stem  \\\n",
       "0  00bf0634-814d-41c4-ab05-69d4eec52a50-582155   \n",
       "\n",
       "                                              oss_sp  \n",
       "0  /nas/oss/gallery/00/bf/00bf0634-814d-41c4-ab05...  "
      ]
     },
     "execution_count": 10,
     "metadata": {},
     "output_type": "execute_result"
    }
   ],
   "source": [
    "img_df.head(1)"
   ]
  },
  {
   "cell_type": "code",
   "execution_count": null,
   "id": "99482250-4f16-40f1-9ac7-05f999333d1b",
   "metadata": {},
   "outputs": [],
   "source": []
  },
  {
   "cell_type": "code",
   "execution_count": null,
   "id": "49ce1edb-2ea1-4b6e-8cfe-7100d35c898c",
   "metadata": {},
   "outputs": [],
   "source": []
  },
  {
   "cell_type": "code",
   "execution_count": null,
   "id": "c362c862-6884-483c-9735-9598f0aab239",
   "metadata": {},
   "outputs": [],
   "source": []
  },
  {
   "cell_type": "code",
   "execution_count": 30,
   "id": "ccb61772-8d7a-49f0-9dd7-2b6505d5a61f",
   "metadata": {},
   "outputs": [
    {
     "name": "stderr",
     "output_type": "stream",
     "text": [
      "100%|███████████████████████████████████████████████████████████████████████████████████| 520/520 [00:12<00:00, 40.39it/s]\n"
     ]
    }
   ],
   "source": [
    "import shutil\n",
    "from tqdm import tqdm\n",
    "import cv2\n",
    "\n",
    "root_source = Path('/nas/oss/gallery/')\n",
    "root_target = Path('/nas/chenyi/datasets_cls/gallery_detect/gallery_oss/gall7kv6/labelimg/images_jpg/skirt/')\n",
    "for stem in tqdm(img_df['stem'].values):\n",
    "    sp = root_source / stem[:2]/ stem[2:4] / stem\n",
    "    tp = root_target / stem\n",
    "    sp = sp.with_suffix('.jpg')\n",
    "    tp = tp.with_suffix('.jpg')\n",
    "    if tp.is_file():\n",
    "        continue\n",
    "    if not sp.is_file():\n",
    "        sp.with_suffix('.jpeg')\n",
    "        if not sp.is_file():\n",
    "            print(sp)\n",
    "            continue\n",
    "    if not tp.parent.is_dir():\n",
    "        tp.parent.mkdir(parents=True, exist_ok=True)\n",
    "    # shutil.copyfile(sp, tp)\n",
    "    img_cv = cv2.imread(str(sp))\n",
    "    cv2.imwrite(str(tp), img_cv)\n",
    "    # break"
   ]
  },
  {
   "cell_type": "code",
   "execution_count": null,
   "id": "74fdcfad-09a5-4994-a179-583adc6fe7dd",
   "metadata": {},
   "outputs": [],
   "source": []
  },
  {
   "cell_type": "code",
   "execution_count": 28,
   "id": "e0529686-a863-4a2b-8a56-e2d88e7cb817",
   "metadata": {},
   "outputs": [
    {
     "name": "stdout",
     "output_type": "stream",
     "text": [
      "Help on built-in function imwrite:\n",
      "\n",
      "imwrite(...)\n",
      "    imwrite(filename, img[, params]) -> retval\n",
      "    .   @brief Saves an image to a specified file.\n",
      "    .   \n",
      "    .   The function imwrite saves the image to the specified file. The image format is chosen based on the\n",
      "    .   filename extension (see cv::imread for the list of extensions). In general, only 8-bit\n",
      "    .   single-channel or 3-channel (with 'BGR' channel order) images\n",
      "    .   can be saved using this function, with these exceptions:\n",
      "    .   \n",
      "    .   - 16-bit unsigned (CV_16U) images can be saved in the case of PNG, JPEG 2000, and TIFF formats\n",
      "    .   - 32-bit float (CV_32F) images can be saved in PFM, TIFF, OpenEXR, and Radiance HDR formats;\n",
      "    .     3-channel (CV_32FC3) TIFF images will be saved using the LogLuv high dynamic range encoding\n",
      "    .     (4 bytes per pixel)\n",
      "    .   - PNG images with an alpha channel can be saved using this function. To do this, create\n",
      "    .   8-bit (or 16-bit) 4-channel image BGRA, where the alpha channel goes last. Fully transparent pixels\n",
      "    .   should have alpha set to 0, fully opaque pixels should have alpha set to 255/65535 (see the code sample below).\n",
      "    .   - Multiple images (vector of Mat) can be saved in TIFF format (see the code sample below).\n",
      "    .   \n",
      "    .   If the image format is not supported, the image will be converted to 8-bit unsigned (CV_8U) and saved that way.\n",
      "    .   \n",
      "    .   If the format, depth or channel order is different, use\n",
      "    .   Mat::convertTo and cv::cvtColor to convert it before saving. Or, use the universal FileStorage I/O\n",
      "    .   functions to save the image to XML or YAML format.\n",
      "    .   \n",
      "    .   The sample below shows how to create a BGRA image, how to set custom compression parameters and save it to a PNG file.\n",
      "    .   It also demonstrates how to save multiple images in a TIFF file:\n",
      "    .   @include snippets/imgcodecs_imwrite.cpp\n",
      "    .   @param filename Name of the file.\n",
      "    .   @param img (Mat or vector of Mat) Image or Images to be saved.\n",
      "    .   @param params Format-specific parameters encoded as pairs (paramId_1, paramValue_1, paramId_2, paramValue_2, ... .) see cv::ImwriteFlags\n",
      "\n"
     ]
    }
   ],
   "source": [
    "help(cv2.imwrite)"
   ]
  },
  {
   "cell_type": "code",
   "execution_count": null,
   "id": "47b06ce2-3fde-4d93-96ce-152d69b4247a",
   "metadata": {},
   "outputs": [],
   "source": []
  }
 ],
 "metadata": {
  "kernelspec": {
   "display_name": "Python 3 (ipykernel)",
   "language": "python",
   "name": "python3"
  },
  "language_info": {
   "codemirror_mode": {
    "name": "ipython",
    "version": 3
   },
   "file_extension": ".py",
   "mimetype": "text/x-python",
   "name": "python",
   "nbconvert_exporter": "python",
   "pygments_lexer": "ipython3",
   "version": "3.8.13"
  }
 },
 "nbformat": 4,
 "nbformat_minor": 5
}
