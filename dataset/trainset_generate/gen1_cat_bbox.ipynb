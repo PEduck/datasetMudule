{
 "cells": [
  {
   "cell_type": "code",
   "execution_count": 1,
   "id": "c9cdef1b-04fe-4739-a43c-1c4abbb33cdb",
   "metadata": {},
   "outputs": [],
   "source": [
    "import numpy as np\n",
    "import pandas as pd\n",
    "import glob\n",
    "import sys,os"
   ]
  },
  {
   "cell_type": "code",
   "execution_count": 2,
   "id": "c982bbbb-2bb0-45f0-bb8d-e9b02e67f53e",
   "metadata": {},
   "outputs": [],
   "source": [
    "from pathlib import Path"
   ]
  },
  {
   "cell_type": "code",
   "execution_count": null,
   "id": "a2558549-e92a-479d-bdd9-a787029f4324",
   "metadata": {},
   "outputs": [],
   "source": []
  },
  {
   "cell_type": "code",
   "execution_count": null,
   "id": "9e7df094-4654-48ed-a471-b8074e69672d",
   "metadata": {},
   "outputs": [],
   "source": []
  },
  {
   "cell_type": "markdown",
   "id": "a4de0b75-cf24-4293-a38b-208afbd0d55c",
   "metadata": {},
   "source": [
    "### API"
   ]
  },
  {
   "cell_type": "code",
   "execution_count": 4,
   "id": "bee897ec-c8fa-464c-84d0-10bd5ec1f117",
   "metadata": {},
   "outputs": [],
   "source": [
    "sys.path.append('../../')"
   ]
  },
  {
   "cell_type": "code",
   "execution_count": 5,
   "id": "8b336efa-c757-4a43-9d73-84f4602aa13d",
   "metadata": {},
   "outputs": [],
   "source": [
    "from utils.bbox.conversation import bbox_coco2voc, bbox_voc2yolo"
   ]
  },
  {
   "cell_type": "code",
   "execution_count": 6,
   "id": "e526db6e-ae50-41e9-9062-d569c36e9cf9",
   "metadata": {},
   "outputs": [],
   "source": [
    "def bbox_voc2yolo_df(df):\n",
    "    w =  df['width'].values\n",
    "    h =  df['height'].values\n",
    "    w_bbox = df['bx3'].values - df['bx1'].values\n",
    "    h_bbox = df['bx4'].values - df['bx2'].values\n",
    "    x_c = df['bx1'].values + w_bbox/2\n",
    "    y_c = df['bx2'].values + h_bbox/2\n",
    "    df.loc[:, 'bx1'] = x_c/w\n",
    "    df.loc[:, 'bx2'] = y_c/h\n",
    "    df.loc[:, 'bx3'] = w_bbox/w\n",
    "    df.loc[:, 'bx4'] = h_bbox/h    \n",
    "    return df"
   ]
  },
  {
   "cell_type": "code",
   "execution_count": null,
   "id": "a4df7c3c-9a07-4872-963c-cacf11a27ee7",
   "metadata": {},
   "outputs": [],
   "source": []
  },
  {
   "cell_type": "code",
   "execution_count": null,
   "id": "52c86b7d-180b-4d1d-b3ab-a93a5b92f919",
   "metadata": {},
   "outputs": [],
   "source": []
  },
  {
   "cell_type": "markdown",
   "id": "a257e482-470a-4a73-a24d-9ab400b31b22",
   "metadata": {},
   "source": [
    "### Dataset Information"
   ]
  },
  {
   "cell_type": "code",
   "execution_count": 3,
   "id": "fa0b75f5-7b30-4399-a0bd-7b7d51a06361",
   "metadata": {},
   "outputs": [],
   "source": [
    "root_nas = Path('/nas/chenyi/workspace/myPyModule/dataset/data')"
   ]
  },
  {
   "cell_type": "code",
   "execution_count": 8,
   "id": "d69b502d-c6ac-40bd-948c-f4ceb840569e",
   "metadata": {},
   "outputs": [
    {
     "name": "stdout",
     "output_type": "stream",
     "text": [
      "bboxes\tdict  @eaDir  slink  watoo\n"
     ]
    }
   ],
   "source": [
    "!ls $root_data/"
   ]
  },
  {
   "cell_type": "code",
   "execution_count": 9,
   "id": "2c1b886d-d234-40c6-af32-566408bc4c93",
   "metadata": {},
   "outputs": [
    {
     "name": "stdout",
     "output_type": "stream",
     "text": [
      "dadet100k     @eaDir  fashionpedia  hwpedia  tuneDataset\n",
      "deepfashion2  exps    haowei34k     query\n"
     ]
    }
   ],
   "source": [
    "!ls $root_data/bboxes"
   ]
  },
  {
   "cell_type": "code",
   "execution_count": 10,
   "id": "8c00d30d-9771-47ee-bb5d-e16361afd991",
   "metadata": {},
   "outputs": [
    {
     "name": "stdout",
     "output_type": "stream",
     "text": [
      "@eaDir\t\t\t\t  shoeBag10k0530    wholebody5k0610\n",
      "haowei34k_imgs_info.csv\t\t  shoeBag5k0515\n",
      "haowei34k_voc_bboxes_relabel.csv  sys_error_sample\n"
     ]
    }
   ],
   "source": [
    "!ls $root_data/bboxes/query"
   ]
  },
  {
   "cell_type": "code",
   "execution_count": 11,
   "id": "c8cdb513-8368-4844-9ca4-cc27ce8196a6",
   "metadata": {},
   "outputs": [
    {
     "name": "stdout",
     "output_type": "stream",
     "text": [
      "shoe_bag11k_map.xlsx  shoe_bag11k_voc_Jul.csv  shoe_bag11k_voc_may.csv\n"
     ]
    }
   ],
   "source": [
    "!ls $root_data/bboxes/query/shoeBag10k0530"
   ]
  },
  {
   "cell_type": "code",
   "execution_count": null,
   "id": "969a65ab-5822-4778-b39f-45893a67f253",
   "metadata": {},
   "outputs": [],
   "source": []
  },
  {
   "cell_type": "code",
   "execution_count": null,
   "id": "fe14f88b-fe8b-4540-bbeb-543c65bc73ba",
   "metadata": {},
   "outputs": [],
   "source": []
  },
  {
   "cell_type": "code",
   "execution_count": 4,
   "id": "70fb7bf5-041f-4d8b-8631-77520715af45",
   "metadata": {},
   "outputs": [],
   "source": [
    "bboxes_df = pd.read_csv(root_nas /'bboxes/dadet100k/dadet100kv5_bboxes.csv')\n",
    "# hwpedia_del = pd.read_csv('./data/exps/dadetGallv4_del.csv')\n",
    "# hwpedia_cat = pd.read_csv('./data/hwpedia_bbox.csv')\n",
    "bboxes_df = bboxes_df[bboxes_df['label_pred']>=0]\n",
    "# hwpedia_cat.to_csv('./data/hwpedia_bbox.csv', index=False)"
   ]
  },
  {
   "cell_type": "code",
   "execution_count": 5,
   "id": "62f5a9ce-f215-47ba-9f72-9c9f48c71449",
   "metadata": {},
   "outputs": [
    {
     "data": {
      "text/html": [
       "<div>\n",
       "<style scoped>\n",
       "    .dataframe tbody tr th:only-of-type {\n",
       "        vertical-align: middle;\n",
       "    }\n",
       "\n",
       "    .dataframe tbody tr th {\n",
       "        vertical-align: top;\n",
       "    }\n",
       "\n",
       "    .dataframe thead th {\n",
       "        text-align: right;\n",
       "    }\n",
       "</style>\n",
       "<table border=\"1\" class=\"dataframe\">\n",
       "  <thead>\n",
       "    <tr style=\"text-align: right;\">\n",
       "      <th></th>\n",
       "      <th>label_pred</th>\n",
       "      <th>bx1</th>\n",
       "      <th>bx2</th>\n",
       "      <th>bx3</th>\n",
       "      <th>bx4</th>\n",
       "      <th>bbox_ind</th>\n",
       "      <th>label_sp</th>\n",
       "      <th>stem</th>\n",
       "      <th>label_tp</th>\n",
       "      <th>mode</th>\n",
       "      <th>img_sp</th>\n",
       "      <th>source</th>\n",
       "      <th>img_tp</th>\n",
       "    </tr>\n",
       "  </thead>\n",
       "  <tbody>\n",
       "    <tr>\n",
       "      <th>0</th>\n",
       "      <td>0</td>\n",
       "      <td>0.440030</td>\n",
       "      <td>0.904297</td>\n",
       "      <td>0.139430</td>\n",
       "      <td>0.060547</td>\n",
       "      <td>0</td>\n",
       "      <td>/home/chenyi/workspace/dataset/labels/labels6/...</td>\n",
       "      <td>551df69f15ca760f19dd6f40bfda2aa7</td>\n",
       "      <td>/home/chenyi/workspace/yolov5/datasets/dadet10...</td>\n",
       "      <td>train</td>\n",
       "      <td>/home/chenyi/workspace/dataset/data/data_fashi...</td>\n",
       "      <td>data_fashionpedia</td>\n",
       "      <td>/home/chenyi/workspace/yolov5/datasets/dadet10...</td>\n",
       "    </tr>\n",
       "    <tr>\n",
       "      <th>1</th>\n",
       "      <td>0</td>\n",
       "      <td>0.592954</td>\n",
       "      <td>0.879395</td>\n",
       "      <td>0.115442</td>\n",
       "      <td>0.073242</td>\n",
       "      <td>1</td>\n",
       "      <td>/home/chenyi/workspace/dataset/labels/labels6/...</td>\n",
       "      <td>551df69f15ca760f19dd6f40bfda2aa7</td>\n",
       "      <td>/home/chenyi/workspace/yolov5/datasets/dadet10...</td>\n",
       "      <td>train</td>\n",
       "      <td>/home/chenyi/workspace/dataset/data/data_fashi...</td>\n",
       "      <td>data_fashionpedia</td>\n",
       "      <td>/home/chenyi/workspace/yolov5/datasets/dadet10...</td>\n",
       "    </tr>\n",
       "    <tr>\n",
       "      <th>2</th>\n",
       "      <td>3</td>\n",
       "      <td>0.828336</td>\n",
       "      <td>0.753906</td>\n",
       "      <td>0.103448</td>\n",
       "      <td>0.101562</td>\n",
       "      <td>2</td>\n",
       "      <td>/home/chenyi/workspace/dataset/labels/labels6/...</td>\n",
       "      <td>551df69f15ca760f19dd6f40bfda2aa7</td>\n",
       "      <td>/home/chenyi/workspace/yolov5/datasets/dadet10...</td>\n",
       "      <td>train</td>\n",
       "      <td>/home/chenyi/workspace/dataset/data/data_fashi...</td>\n",
       "      <td>data_fashionpedia</td>\n",
       "      <td>/home/chenyi/workspace/yolov5/datasets/dadet10...</td>\n",
       "    </tr>\n",
       "    <tr>\n",
       "      <th>3</th>\n",
       "      <td>2</td>\n",
       "      <td>0.787856</td>\n",
       "      <td>0.651855</td>\n",
       "      <td>0.157421</td>\n",
       "      <td>0.127930</td>\n",
       "      <td>3</td>\n",
       "      <td>/home/chenyi/workspace/dataset/labels/labels6/...</td>\n",
       "      <td>551df69f15ca760f19dd6f40bfda2aa7</td>\n",
       "      <td>/home/chenyi/workspace/yolov5/datasets/dadet10...</td>\n",
       "      <td>train</td>\n",
       "      <td>/home/chenyi/workspace/dataset/data/data_fashi...</td>\n",
       "      <td>data_fashionpedia</td>\n",
       "      <td>/home/chenyi/workspace/yolov5/datasets/dadet10...</td>\n",
       "    </tr>\n",
       "    <tr>\n",
       "      <th>4</th>\n",
       "      <td>5</td>\n",
       "      <td>0.506840</td>\n",
       "      <td>0.487305</td>\n",
       "      <td>0.953488</td>\n",
       "      <td>0.849609</td>\n",
       "      <td>0</td>\n",
       "      <td>/home/chenyi/workspace/dataset/labels/labels6/...</td>\n",
       "      <td>bdca691551d3d1b5d95c6ad47b199152</td>\n",
       "      <td>/home/chenyi/workspace/yolov5/datasets/dadet10...</td>\n",
       "      <td>train</td>\n",
       "      <td>/home/chenyi/workspace/dataset/data/data_fashi...</td>\n",
       "      <td>data_fashionpedia</td>\n",
       "      <td>/home/chenyi/workspace/yolov5/datasets/dadet10...</td>\n",
       "    </tr>\n",
       "  </tbody>\n",
       "</table>\n",
       "</div>"
      ],
      "text/plain": [
       "   label_pred       bx1       bx2       bx3       bx4  bbox_ind  \\\n",
       "0           0  0.440030  0.904297  0.139430  0.060547         0   \n",
       "1           0  0.592954  0.879395  0.115442  0.073242         1   \n",
       "2           3  0.828336  0.753906  0.103448  0.101562         2   \n",
       "3           2  0.787856  0.651855  0.157421  0.127930         3   \n",
       "4           5  0.506840  0.487305  0.953488  0.849609         0   \n",
       "\n",
       "                                            label_sp  \\\n",
       "0  /home/chenyi/workspace/dataset/labels/labels6/...   \n",
       "1  /home/chenyi/workspace/dataset/labels/labels6/...   \n",
       "2  /home/chenyi/workspace/dataset/labels/labels6/...   \n",
       "3  /home/chenyi/workspace/dataset/labels/labels6/...   \n",
       "4  /home/chenyi/workspace/dataset/labels/labels6/...   \n",
       "\n",
       "                               stem  \\\n",
       "0  551df69f15ca760f19dd6f40bfda2aa7   \n",
       "1  551df69f15ca760f19dd6f40bfda2aa7   \n",
       "2  551df69f15ca760f19dd6f40bfda2aa7   \n",
       "3  551df69f15ca760f19dd6f40bfda2aa7   \n",
       "4  bdca691551d3d1b5d95c6ad47b199152   \n",
       "\n",
       "                                            label_tp   mode  \\\n",
       "0  /home/chenyi/workspace/yolov5/datasets/dadet10...  train   \n",
       "1  /home/chenyi/workspace/yolov5/datasets/dadet10...  train   \n",
       "2  /home/chenyi/workspace/yolov5/datasets/dadet10...  train   \n",
       "3  /home/chenyi/workspace/yolov5/datasets/dadet10...  train   \n",
       "4  /home/chenyi/workspace/yolov5/datasets/dadet10...  train   \n",
       "\n",
       "                                              img_sp             source  \\\n",
       "0  /home/chenyi/workspace/dataset/data/data_fashi...  data_fashionpedia   \n",
       "1  /home/chenyi/workspace/dataset/data/data_fashi...  data_fashionpedia   \n",
       "2  /home/chenyi/workspace/dataset/data/data_fashi...  data_fashionpedia   \n",
       "3  /home/chenyi/workspace/dataset/data/data_fashi...  data_fashionpedia   \n",
       "4  /home/chenyi/workspace/dataset/data/data_fashi...  data_fashionpedia   \n",
       "\n",
       "                                              img_tp  \n",
       "0  /home/chenyi/workspace/yolov5/datasets/dadet10...  \n",
       "1  /home/chenyi/workspace/yolov5/datasets/dadet10...  \n",
       "2  /home/chenyi/workspace/yolov5/datasets/dadet10...  \n",
       "3  /home/chenyi/workspace/yolov5/datasets/dadet10...  \n",
       "4  /home/chenyi/workspace/yolov5/datasets/dadet10...  "
      ]
     },
     "execution_count": 5,
     "metadata": {},
     "output_type": "execute_result"
    }
   ],
   "source": [
    "bboxes_df.head()"
   ]
  },
  {
   "cell_type": "code",
   "execution_count": null,
   "id": "a74a318a-1e13-43ed-b685-2cfd717d63df",
   "metadata": {},
   "outputs": [],
   "source": []
  },
  {
   "cell_type": "code",
   "execution_count": 9,
   "id": "e3cfee03-0d86-4ffc-96ac-03d3985d81d3",
   "metadata": {},
   "outputs": [
    {
     "name": "stderr",
     "output_type": "stream",
     "text": [
      "100%|█████████████████████████████████| 312242/312242 [00:26<00:00, 11822.65it/s]\n"
     ]
    }
   ],
   "source": [
    "from tqdm import tqdm\n",
    "from PIL import Image\n",
    "w_list = []\n",
    "h_list = []\n",
    "for p in tqdm(bboxes_df['img_sp'].values):\n",
    "    img = Image.open(p)\n",
    "    w,h = img.size\n",
    "    w_list.append(w)\n",
    "    h_list.append(h)\n",
    "    # break"
   ]
  },
  {
   "cell_type": "code",
   "execution_count": 10,
   "id": "e3dcb025-d584-4eaf-b450-bfba192ecc92",
   "metadata": {},
   "outputs": [],
   "source": [
    "bboxes_df['width'] = w_list\n",
    "bboxes_df['height'] = h_list"
   ]
  },
  {
   "cell_type": "code",
   "execution_count": 11,
   "id": "e7fb07d9-df6e-415b-92eb-ff5e2fdff800",
   "metadata": {},
   "outputs": [],
   "source": [
    "# bboxes_df.to_csv(root_nas /'bboxes/dadet100k/dadet100kv5_bboxes.csv', index=False)"
   ]
  },
  {
   "cell_type": "code",
   "execution_count": null,
   "id": "0ec2658f-030d-4e2f-8e73-b0b8bfcd98ae",
   "metadata": {},
   "outputs": [],
   "source": []
  },
  {
   "cell_type": "code",
   "execution_count": 16,
   "id": "0f577aef-d332-4199-bb70-1d1967956d4a",
   "metadata": {},
   "outputs": [],
   "source": [
    "hwpedia_cat['stem'] = hwpedia_cat['img_sp'].apply(lambda x: Path(x).stem)"
   ]
  },
  {
   "cell_type": "code",
   "execution_count": 24,
   "id": "8edb5501-041a-4f14-bb26-9c4f35df80b5",
   "metadata": {},
   "outputs": [
    {
     "data": {
      "text/plain": [
       "32183"
      ]
     },
     "execution_count": 24,
     "metadata": {},
     "output_type": "execute_result"
    }
   ],
   "source": [
    "df_val = hwpedia_cat[hwpedia_cat['mode']=='val']\n",
    "len(df_val)"
   ]
  },
  {
   "cell_type": "code",
   "execution_count": 25,
   "id": "e4d19f08-2903-4a57-8bc3-4a43e1076c85",
   "metadata": {},
   "outputs": [
    {
     "data": {
      "text/plain": [
       "187392"
      ]
     },
     "execution_count": 25,
     "metadata": {},
     "output_type": "execute_result"
    }
   ],
   "source": [
    "df_train = hwpedia_cat[hwpedia_cat['mode']=='train']\n",
    "len(df_train)"
   ]
  },
  {
   "cell_type": "code",
   "execution_count": 27,
   "id": "353c58ac-2a73-4fc0-bcb2-6a197c31b9a6",
   "metadata": {},
   "outputs": [
    {
     "data": {
      "text/plain": [
       "0.7893779065848892"
      ]
     },
     "execution_count": 27,
     "metadata": {},
     "output_type": "execute_result"
    }
   ],
   "source": [
    "187392/(187392+50000)"
   ]
  },
  {
   "cell_type": "code",
   "execution_count": null,
   "id": "e171bf21-76cf-44f6-ab1d-01f81ef2123c",
   "metadata": {},
   "outputs": [],
   "source": []
  },
  {
   "cell_type": "code",
   "execution_count": 20,
   "id": "3bcedbc2-bd2b-437d-98a3-961399264c6c",
   "metadata": {},
   "outputs": [],
   "source": [
    "df_train_sample = df_train.sample(int(len(df_train)-5e4))"
   ]
  },
  {
   "cell_type": "code",
   "execution_count": 21,
   "id": "861a6f33-7057-4892-b1bb-2c3bf39d50e9",
   "metadata": {},
   "outputs": [],
   "source": [
    "df = pd.concat([df_train_sample, df_val], axis=0)"
   ]
  },
  {
   "cell_type": "code",
   "execution_count": 22,
   "id": "65e827e8-5edb-490d-aedd-40b547c90cd7",
   "metadata": {},
   "outputs": [],
   "source": [
    "# df.to_csv('./data/exps/dadetGallv4_del.csv', index=False)"
   ]
  },
  {
   "cell_type": "code",
   "execution_count": null,
   "id": "eae0e1cc-6d35-4ba0-a2c0-8525bcbcfd8a",
   "metadata": {},
   "outputs": [],
   "source": []
  }
 ],
 "metadata": {
  "kernelspec": {
   "display_name": "Python 3 (ipykernel)",
   "language": "python",
   "name": "python3"
  },
  "language_info": {
   "codemirror_mode": {
    "name": "ipython",
    "version": 3
   },
   "file_extension": ".py",
   "mimetype": "text/x-python",
   "name": "python",
   "nbconvert_exporter": "python",
   "pygments_lexer": "ipython3",
   "version": "3.8.13"
  }
 },
 "nbformat": 4,
 "nbformat_minor": 5
}
