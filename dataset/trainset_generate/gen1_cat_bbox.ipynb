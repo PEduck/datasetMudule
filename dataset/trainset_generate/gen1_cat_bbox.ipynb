{
 "cells": [
  {
   "cell_type": "code",
   "execution_count": 2,
   "id": "c9cdef1b-04fe-4739-a43c-1c4abbb33cdb",
   "metadata": {},
   "outputs": [],
   "source": [
    "import numpy as np\n",
    "import pandas as pd\n",
    "import glob\n",
    "import sys,os"
   ]
  },
  {
   "cell_type": "code",
   "execution_count": 3,
   "id": "c982bbbb-2bb0-45f0-bb8d-e9b02e67f53e",
   "metadata": {},
   "outputs": [],
   "source": [
    "from pathlib import Path"
   ]
  },
  {
   "cell_type": "code",
   "execution_count": null,
   "id": "a2558549-e92a-479d-bdd9-a787029f4324",
   "metadata": {},
   "outputs": [],
   "source": []
  },
  {
   "cell_type": "code",
   "execution_count": null,
   "id": "9e7df094-4654-48ed-a471-b8074e69672d",
   "metadata": {},
   "outputs": [],
   "source": []
  },
  {
   "cell_type": "markdown",
   "id": "a4de0b75-cf24-4293-a38b-208afbd0d55c",
   "metadata": {},
   "source": [
    "### API"
   ]
  },
  {
   "cell_type": "code",
   "execution_count": 4,
   "id": "bee897ec-c8fa-464c-84d0-10bd5ec1f117",
   "metadata": {},
   "outputs": [],
   "source": [
    "sys.path.append('../../')"
   ]
  },
  {
   "cell_type": "code",
   "execution_count": 5,
   "id": "8b336efa-c757-4a43-9d73-84f4602aa13d",
   "metadata": {},
   "outputs": [],
   "source": [
    "from utils.bbox.conversation import bbox_coco2voc, bbox_voc2yolo"
   ]
  },
  {
   "cell_type": "code",
   "execution_count": 6,
   "id": "e526db6e-ae50-41e9-9062-d569c36e9cf9",
   "metadata": {},
   "outputs": [],
   "source": [
    "def bbox_voc2yolo_df(df):\n",
    "    w =  df['width'].values\n",
    "    h =  df['height'].values\n",
    "    w_bbox = df['bx3'].values - df['bx1'].values\n",
    "    h_bbox = df['bx4'].values - df['bx2'].values\n",
    "    x_c = df['bx1'].values + w_bbox/2\n",
    "    y_c = df['bx2'].values + h_bbox/2\n",
    "    df.loc[:, 'bx1'] = x_c/w\n",
    "    df.loc[:, 'bx2'] = y_c/h\n",
    "    df.loc[:, 'bx3'] = w_bbox/w\n",
    "    df.loc[:, 'bx4'] = h_bbox/h    \n",
    "    return df"
   ]
  },
  {
   "cell_type": "code",
   "execution_count": null,
   "id": "a4df7c3c-9a07-4872-963c-cacf11a27ee7",
   "metadata": {},
   "outputs": [],
   "source": []
  },
  {
   "cell_type": "code",
   "execution_count": null,
   "id": "52c86b7d-180b-4d1d-b3ab-a93a5b92f919",
   "metadata": {},
   "outputs": [],
   "source": []
  },
  {
   "cell_type": "markdown",
   "id": "a257e482-470a-4a73-a24d-9ab400b31b22",
   "metadata": {},
   "source": [
    "### Dataset Information"
   ]
  },
  {
   "cell_type": "code",
   "execution_count": 7,
   "id": "fa0b75f5-7b30-4399-a0bd-7b7d51a06361",
   "metadata": {},
   "outputs": [],
   "source": [
    "root_data = Path('/nas/chenyi/workspace/myPyModule/dataset/data')"
   ]
  },
  {
   "cell_type": "code",
   "execution_count": 8,
   "id": "d69b502d-c6ac-40bd-948c-f4ceb840569e",
   "metadata": {},
   "outputs": [
    {
     "name": "stdout",
     "output_type": "stream",
     "text": [
      "bboxes\tdict  @eaDir  slink  watoo\n"
     ]
    }
   ],
   "source": [
    "!ls $root_data/"
   ]
  },
  {
   "cell_type": "code",
   "execution_count": 9,
   "id": "2c1b886d-d234-40c6-af32-566408bc4c93",
   "metadata": {},
   "outputs": [
    {
     "name": "stdout",
     "output_type": "stream",
     "text": [
      "dadet100k     @eaDir  fashionpedia  hwpedia  tuneDataset\n",
      "deepfashion2  exps    haowei34k     query\n"
     ]
    }
   ],
   "source": [
    "!ls $root_data/bboxes"
   ]
  },
  {
   "cell_type": "code",
   "execution_count": 10,
   "id": "8c00d30d-9771-47ee-bb5d-e16361afd991",
   "metadata": {},
   "outputs": [
    {
     "name": "stdout",
     "output_type": "stream",
     "text": [
      "@eaDir\t\t\t\t  shoeBag10k0530    wholebody5k0610\n",
      "haowei34k_imgs_info.csv\t\t  shoeBag5k0515\n",
      "haowei34k_voc_bboxes_relabel.csv  sys_error_sample\n"
     ]
    }
   ],
   "source": [
    "!ls $root_data/bboxes/query"
   ]
  },
  {
   "cell_type": "code",
   "execution_count": 11,
   "id": "c8cdb513-8368-4844-9ca4-cc27ce8196a6",
   "metadata": {},
   "outputs": [
    {
     "name": "stdout",
     "output_type": "stream",
     "text": [
      "shoe_bag11k_map.xlsx  shoe_bag11k_voc_Jul.csv  shoe_bag11k_voc_may.csv\n"
     ]
    }
   ],
   "source": [
    "!ls $root_data/bboxes/query/shoeBag10k0530"
   ]
  },
  {
   "cell_type": "code",
   "execution_count": null,
   "id": "969a65ab-5822-4778-b39f-45893a67f253",
   "metadata": {},
   "outputs": [],
   "source": []
  },
  {
   "cell_type": "code",
   "execution_count": null,
   "id": "fe14f88b-fe8b-4540-bbeb-543c65bc73ba",
   "metadata": {},
   "outputs": [],
   "source": []
  },
  {
   "cell_type": "code",
   "execution_count": 26,
   "id": "70fb7bf5-041f-4d8b-8631-77520715af45",
   "metadata": {},
   "outputs": [
    {
     "name": "stderr",
     "output_type": "stream",
     "text": [
      "/tmp/ipykernel_23046/3158871733.py:2: DtypeWarning: Columns (10) have mixed types. Specify dtype option on import or set low_memory=False.\n",
      "  hwpedia_cat = pd.read_csv('./data/hwpedia_bbox.csv')\n"
     ]
    }
   ],
   "source": [
    "hwpedia_del = pd.read_csv('./data/exps/dadetGallv4_del.csv')\n",
    "hwpedia_cat = pd.read_csv('./data/hwpedia_bbox.csv')\n",
    "# hw_df = hw_df[hw_df['label_model']>=0]\n",
    "# hwpedia_cat.to_csv('./data/hwpedia_bbox.csv', index=False)"
   ]
  },
  {
   "cell_type": "code",
   "execution_count": 16,
   "id": "0f577aef-d332-4199-bb70-1d1967956d4a",
   "metadata": {},
   "outputs": [],
   "source": [
    "hwpedia_cat['stem'] = hwpedia_cat['img_sp'].apply(lambda x: Path(x).stem)"
   ]
  },
  {
   "cell_type": "code",
   "execution_count": null,
   "id": "245bb73c-e59b-4db9-bb1d-beefa0d6b9ba",
   "metadata": {},
   "outputs": [],
   "source": []
  },
  {
   "cell_type": "code",
   "execution_count": 24,
   "id": "8edb5501-041a-4f14-bb26-9c4f35df80b5",
   "metadata": {},
   "outputs": [
    {
     "data": {
      "text/plain": [
       "32183"
      ]
     },
     "execution_count": 24,
     "metadata": {},
     "output_type": "execute_result"
    }
   ],
   "source": [
    "df_val = hwpedia_cat[hwpedia_cat['mode']=='val']\n",
    "len(df_val)"
   ]
  },
  {
   "cell_type": "code",
   "execution_count": 25,
   "id": "e4d19f08-2903-4a57-8bc3-4a43e1076c85",
   "metadata": {},
   "outputs": [
    {
     "data": {
      "text/plain": [
       "187392"
      ]
     },
     "execution_count": 25,
     "metadata": {},
     "output_type": "execute_result"
    }
   ],
   "source": [
    "df_train = hwpedia_cat[hwpedia_cat['mode']=='train']\n",
    "len(df_train)"
   ]
  },
  {
   "cell_type": "code",
   "execution_count": 27,
   "id": "353c58ac-2a73-4fc0-bcb2-6a197c31b9a6",
   "metadata": {},
   "outputs": [
    {
     "data": {
      "text/plain": [
       "0.7893779065848892"
      ]
     },
     "execution_count": 27,
     "metadata": {},
     "output_type": "execute_result"
    }
   ],
   "source": [
    "187392/(187392+50000)"
   ]
  },
  {
   "cell_type": "code",
   "execution_count": null,
   "id": "e171bf21-76cf-44f6-ab1d-01f81ef2123c",
   "metadata": {},
   "outputs": [],
   "source": []
  },
  {
   "cell_type": "code",
   "execution_count": 20,
   "id": "3bcedbc2-bd2b-437d-98a3-961399264c6c",
   "metadata": {},
   "outputs": [],
   "source": [
    "df_train_sample = df_train.sample(int(len(df_train)-5e4))"
   ]
  },
  {
   "cell_type": "code",
   "execution_count": 21,
   "id": "861a6f33-7057-4892-b1bb-2c3bf39d50e9",
   "metadata": {},
   "outputs": [],
   "source": [
    "df = pd.concat([df_train_sample, df_val], axis=0)"
   ]
  },
  {
   "cell_type": "code",
   "execution_count": 22,
   "id": "65e827e8-5edb-490d-aedd-40b547c90cd7",
   "metadata": {},
   "outputs": [],
   "source": [
    "# df.to_csv('./data/exps/dadetGallv4_del.csv', index=False)"
   ]
  },
  {
   "cell_type": "code",
   "execution_count": null,
   "id": "eae0e1cc-6d35-4ba0-a2c0-8525bcbcfd8a",
   "metadata": {},
   "outputs": [],
   "source": []
  }
 ],
 "metadata": {
  "kernelspec": {
   "display_name": "Python 3 (ipykernel)",
   "language": "python",
   "name": "python3"
  },
  "language_info": {
   "codemirror_mode": {
    "name": "ipython",
    "version": 3
   },
   "file_extension": ".py",
   "mimetype": "text/x-python",
   "name": "python",
   "nbconvert_exporter": "python",
   "pygments_lexer": "ipython3",
   "version": "3.9.7"
  }
 },
 "nbformat": 4,
 "nbformat_minor": 5
}
