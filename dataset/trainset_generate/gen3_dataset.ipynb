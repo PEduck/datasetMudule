{
 "cells": [
  {
   "cell_type": "code",
   "execution_count": 8,
   "id": "8edccc06-d7e6-4d2b-873d-dc6d5714440f",
   "metadata": {},
   "outputs": [],
   "source": [
    "# 生成训练集txt\n",
    "# Author: Y Chen"
   ]
  },
  {
   "cell_type": "code",
   "execution_count": 37,
   "id": "965f48f1-99e7-49f5-a091-4d5f05a888f1",
   "metadata": {},
   "outputs": [],
   "source": [
    "import numpy as np\n",
    "import pandas as pd\n",
    "import glob\n",
    "import sys"
   ]
  },
  {
   "cell_type": "code",
   "execution_count": 4,
   "id": "59cb6ecd-1684-449f-af66-47030f806724",
   "metadata": {},
   "outputs": [],
   "source": [
    "from PIL import Image\n",
    "import cv2"
   ]
  },
  {
   "cell_type": "code",
   "execution_count": 36,
   "id": "ca4f84b4-1181-46d2-b76b-4ebee47a3c21",
   "metadata": {},
   "outputs": [],
   "source": [
    "from tqdm import tqdm\n",
    "from pathlib import Path"
   ]
  },
  {
   "cell_type": "code",
   "execution_count": null,
   "id": "c905b1d5-b3eb-4b34-bf95-7bbb75a5d337",
   "metadata": {},
   "outputs": [],
   "source": []
  },
  {
   "cell_type": "code",
   "execution_count": null,
   "id": "7a829f7f-5463-4b41-b869-5f96708c84f2",
   "metadata": {},
   "outputs": [],
   "source": []
  },
  {
   "cell_type": "markdown",
   "id": "7ef16afd-d8b3-45d3-bc2e-4e3ba09c0023",
   "metadata": {
    "jp-MarkdownHeadingCollapsed": true,
    "tags": []
   },
   "source": [
    "### 0.API"
   ]
  },
  {
   "cell_type": "code",
   "execution_count": 34,
   "id": "71d019b3-5cae-4d16-b06f-f88c1acc6ccd",
   "metadata": {},
   "outputs": [],
   "source": [
    "id_standard_df = pd.read_csv('/nas/chenyi/datasets_nas/labelMap/standard/id2class99_chenyi.csv')\n",
    "id_use_df = id_standard_df[id_standard_df['use']>=0]"
   ]
  },
  {
   "cell_type": "code",
   "execution_count": 91,
   "id": "d77e8c86-5dd4-4b2a-adb5-d72a66a03621",
   "metadata": {},
   "outputs": [],
   "source": [
    "shbg_map = pd.read_excel('./dada_det/data/shoe_bag11k_map.xlsx')"
   ]
  },
  {
   "cell_type": "code",
   "execution_count": 13,
   "id": "2912733f-8748-4d04-9b9c-678e8ca6a64a",
   "metadata": {},
   "outputs": [],
   "source": [
    "# with open('./data/haowei34k_map_stand.json', 'w') as f:\n",
    "#     json.dump(hw2stand, f)"
   ]
  },
  {
   "cell_type": "code",
   "execution_count": null,
   "id": "bcac885b-3169-4193-a770-c924123744df",
   "metadata": {},
   "outputs": [],
   "source": []
  },
  {
   "cell_type": "code",
   "execution_count": 4,
   "id": "ddca4f12-25d6-43c5-ad9a-f05117e7e839",
   "metadata": {},
   "outputs": [],
   "source": [
    "def get_list2dict(k_list, v_list):\n",
    "    d = {}\n",
    "    for item in zip(k_list, v_list):\n",
    "        d[item[0]] = item[1]\n",
    "    return d"
   ]
  },
  {
   "cell_type": "code",
   "execution_count": 8,
   "id": "84c6b63f-ed24-45ac-ac02-0fdcf68980b2",
   "metadata": {},
   "outputs": [],
   "source": [
    "model_label_map = {\n",
    "    0: 10,  # 鞋子\n",
    "    1: 8,  # 包包\n",
    "    2: 4,  # 上装\n",
    "    3: 5,  # 裤子\n",
    "    4: 6,  # 裙子\n",
    "    5: 7,  # 连体装\n",
    "}"
   ]
  },
  {
   "cell_type": "code",
   "execution_count": null,
   "id": "19fdbf71-a7f4-4b0b-802d-e5235f308327",
   "metadata": {},
   "outputs": [],
   "source": []
  },
  {
   "cell_type": "code",
   "execution_count": 17,
   "id": "7db49836-ff79-4792-b18c-da59a1131162",
   "metadata": {},
   "outputs": [],
   "source": [
    "l2_map_l1 = get_list2dict( id_use_df['label99'].values, id_use_df['label_l1'].values)"
   ]
  },
  {
   "cell_type": "code",
   "execution_count": 18,
   "id": "11f95050-6947-46fa-954c-a06b5aa762e6",
   "metadata": {},
   "outputs": [],
   "source": [
    "id2chi_l2 = get_list2dict(id_use_df['label2_chi'].values, id_use_df['label99'].values)"
   ]
  },
  {
   "cell_type": "code",
   "execution_count": 19,
   "id": "f70934c2-7133-48d9-b790-f365259e6474",
   "metadata": {},
   "outputs": [],
   "source": [
    "id2eng_l2 = get_list2dict(id_use_df['label99'].values, id_use_df['label2_eng'].values)"
   ]
  },
  {
   "cell_type": "code",
   "execution_count": 20,
   "id": "142c1662-9ae3-4ead-a037-3c7191273b4d",
   "metadata": {},
   "outputs": [],
   "source": [
    "id2chi_l1 = get_list2dict(id_use_df['label_l1'].values, id_use_df['label1_chi'].values)"
   ]
  },
  {
   "cell_type": "code",
   "execution_count": 21,
   "id": "ef28a99f-05e7-422b-a8f3-cc9afa50725c",
   "metadata": {},
   "outputs": [],
   "source": [
    "id2eng_l1 = get_list2dict(id_use_df['label_l1'].values, id_use_df['label1_eng'].values)"
   ]
  },
  {
   "cell_type": "code",
   "execution_count": 22,
   "id": "b74e9691-15cc-44c3-bd67-66707045c4be",
   "metadata": {},
   "outputs": [],
   "source": [
    "id2model_l1 = get_list2dict(model_label_map.values(), model_label_map.keys())"
   ]
  },
  {
   "cell_type": "code",
   "execution_count": 92,
   "id": "49578413-5437-4512-ada5-56b78391d019",
   "metadata": {},
   "outputs": [],
   "source": [
    "shbg_map_dict = get_list2dict(shbg_map[shbg_map.columns[0]], shbg_map[shbg_map.columns[1]])"
   ]
  },
  {
   "cell_type": "code",
   "execution_count": null,
   "id": "6c2f791f-6f66-4d91-bf8c-53a511c2306a",
   "metadata": {},
   "outputs": [],
   "source": []
  },
  {
   "cell_type": "code",
   "execution_count": null,
   "id": "593b7be3-30b9-4ad9-b295-b5c8c504ee39",
   "metadata": {},
   "outputs": [],
   "source": []
  },
  {
   "cell_type": "markdown",
   "id": "1354d993-c902-4efa-b5a0-4c9bc0bdfede",
   "metadata": {
    "tags": []
   },
   "source": [
    "### 1.Dataset Information."
   ]
  },
  {
   "cell_type": "code",
   "execution_count": 9,
   "id": "dfabf741-45a6-42ba-b372-b323e7c7beef",
   "metadata": {},
   "outputs": [
    {
     "name": "stdout",
     "output_type": "stream",
     "text": [
      "\u001b[01;34m/home/chenyi/workspace/yolov5/datasets/\u001b[00m\n",
      "├── \u001b[01;34mcoco128\u001b[00m\n",
      "├── \u001b[01;34mdadet100kv2\u001b[00m\n",
      "├── \u001b[01;34mdadet100kv3_june\u001b[00m\n",
      "├── \u001b[01;34mdadet100kv4_1_june\u001b[00m\n",
      "├── \u001b[01;34mdadet100kv4_june\u001b[00m\n",
      "├── \u001b[01;34mdadet_gallv4_june\u001b[00m\n",
      "├── \u001b[01;34mdadetv5\u001b[00m\n",
      "├── \u001b[01;34mdadetv5_query\u001b[00m\n",
      "├── \u001b[01;34mdadetv6_1\u001b[00m\n",
      "├── \u001b[01;34mdadetv6_2\u001b[00m\n",
      "├── \u001b[01;34mdadetv6_3\u001b[00m\n",
      "├── \u001b[01;34mdataExps\u001b[00m\n",
      "├── \u001b[01;34mdeepedia\u001b[00m\n",
      "├── \u001b[01;34mdeepedia_catg6\u001b[00m\n",
      "├── \u001b[01;34mdeepedia_catg8\u001b[00m\n",
      "├── \u001b[01;34mhaowei_bag_shoe\u001b[00m\n",
      "├── \u001b[01;34mhwpedia\u001b[00m\n",
      "├── \u001b[01;34mhwpedia70k\u001b[00m\n",
      "├── \u001b[01;34mhwpedia80k\u001b[00m\n",
      "├── \u001b[01;34mtuneGallery10k\u001b[00m\n",
      "├── \u001b[01;34mtuneGallery5k\u001b[00m\n",
      "├── \u001b[01;34mtuneQuery10k\u001b[00m\n",
      "└── \u001b[01;34mvalidation_all\u001b[00m\n",
      "\n",
      "23 directories\n"
     ]
    }
   ],
   "source": [
    "# 训练路径.\n",
    "!tree -d -L 1 /home/chenyi/workspace/yolov5/datasets/"
   ]
  },
  {
   "cell_type": "code",
   "execution_count": 10,
   "id": "ac02e49d-f3ca-40a1-9c3f-bb5c3cc801ff",
   "metadata": {},
   "outputs": [
    {
     "name": "stdout",
     "output_type": "stream",
     "text": [
      "\u001b[01;34m/home/chenyi/workspace/dataset/data/dada_det/\u001b[00m\n",
      "├── \u001b[01;34mhard_sample_0610\u001b[00m\n",
      "│   └── \u001b[01;34m@eaDir\u001b[00m\n",
      "├── \u001b[01;34mshoe_bag11k_may\u001b[00m\n",
      "│   ├── \u001b[01;34mbag_setdiff\u001b[00m\n",
      "│   ├── \u001b[01;34mleisure_shoe_setdiff\u001b[00m\n",
      "│   └── \u001b[01;34msuit_shoe_setdiff\u001b[00m\n",
      "├── \u001b[01;34mshoeBag5k0515\u001b[00m\n",
      "│   └── \u001b[01;34mimages\u001b[00m\n",
      "└── \u001b[01;34mwholebody0601_all\u001b[00m\n",
      "    ├── \u001b[01;34mbeidaiku2822_rename\u001b[00m\n",
      "    └── \u001b[34;42mliantiku2500_0602_rename\u001b[00m\n",
      "\n",
      "11 directories\n"
     ]
    }
   ],
   "source": [
    "# 图片路径.\n",
    "!tree -d -L 2 /home/chenyi/workspace/dataset/data/dada_det/"
   ]
  },
  {
   "cell_type": "markdown",
   "id": "860d2845-7958-44fc-8303-3ecf3bebdd37",
   "metadata": {},
   "source": [
    "#### nas xml"
   ]
  },
  {
   "cell_type": "code",
   "execution_count": 40,
   "id": "fe282b92-7f27-4ec3-a959-64d723daea37",
   "metadata": {},
   "outputs": [
    {
     "name": "stdout",
     "output_type": "stream",
     "text": [
      "gall7k_label_20220715.csv  gall7k_xml_test_20220715.csv\n",
      "gall7k_xml_20220715.csv\n"
     ]
    }
   ],
   "source": [
    "root_nas = Path('/nas/chenyi/datasets_nas/gallery2m_clred/gallery2m_7k20220715/')\n",
    "# root_nas = Path('/nas/chenyi/datasets_nas/deploy_system/info_csv/')\n",
    "!ls $root_nas/'csv'"
   ]
  },
  {
   "cell_type": "code",
   "execution_count": 14,
   "id": "922fee08-2bf9-45c5-91cc-ef5839d29ca6",
   "metadata": {},
   "outputs": [
    {
     "name": "stdout",
     "output_type": "stream",
     "text": [
      "part1_img_xml  part2_img_xml  part3_img_xml  part4_img_xml  part5_img_xml\n"
     ]
    }
   ],
   "source": [
    "root_xml = root_nas /'xml_rewrite'\n",
    "# root_xml = root_nas /'xml_july'\n",
    "!ls $root_xml"
   ]
  },
  {
   "cell_type": "code",
   "execution_count": null,
   "id": "ca670d7f-b4c1-4e81-ad56-72f04de919cc",
   "metadata": {},
   "outputs": [],
   "source": []
  },
  {
   "cell_type": "code",
   "execution_count": null,
   "id": "9259597b-4c91-43ff-9cc7-db22f5ea9316",
   "metadata": {},
   "outputs": [],
   "source": []
  },
  {
   "cell_type": "markdown",
   "id": "9b6c752b-0032-4c70-8d51-5cb3bac89184",
   "metadata": {},
   "source": [
    "#### csv读取和保存"
   ]
  },
  {
   "cell_type": "code",
   "execution_count": 19,
   "id": "cc393a10-833b-4b58-ba9a-0e69144a2007",
   "metadata": {},
   "outputs": [
    {
     "data": {
      "text/plain": [
       "26341"
      ]
     },
     "execution_count": 19,
     "metadata": {},
     "output_type": "execute_result"
    }
   ],
   "source": [
    "root_csv = root_nas /'csv'\n",
    "xml_df = pd.read_csv(root_csv /'gall7k_xml_20220715.csv')\n",
    "len(xml_df)"
   ]
  },
  {
   "cell_type": "code",
   "execution_count": 20,
   "id": "a780e76e-5dbb-4bc1-bbf9-3923bd5b09da",
   "metadata": {
    "tags": []
   },
   "outputs": [
    {
     "data": {
      "text/html": [
       "<div>\n",
       "<style scoped>\n",
       "    .dataframe tbody tr th:only-of-type {\n",
       "        vertical-align: middle;\n",
       "    }\n",
       "\n",
       "    .dataframe tbody tr th {\n",
       "        vertical-align: top;\n",
       "    }\n",
       "\n",
       "    .dataframe thead th {\n",
       "        text-align: right;\n",
       "    }\n",
       "</style>\n",
       "<table border=\"1\" class=\"dataframe\">\n",
       "  <thead>\n",
       "    <tr style=\"text-align: right;\">\n",
       "      <th></th>\n",
       "      <th>xml_path</th>\n",
       "      <th>width</th>\n",
       "      <th>height</th>\n",
       "      <th>labelimg</th>\n",
       "      <th>bx1</th>\n",
       "      <th>bx2</th>\n",
       "      <th>bx3</th>\n",
       "      <th>bx4</th>\n",
       "      <th>stem</th>\n",
       "      <th>img_sp</th>\n",
       "      <th>man</th>\n",
       "      <th>label9</th>\n",
       "      <th>label_eng</th>\n",
       "    </tr>\n",
       "  </thead>\n",
       "  <tbody>\n",
       "    <tr>\n",
       "      <th>0</th>\n",
       "      <td>../../dada_data/gallery2m_clr_july/xml_labelim...</td>\n",
       "      <td>1279</td>\n",
       "      <td>1706</td>\n",
       "      <td>包包</td>\n",
       "      <td>440</td>\n",
       "      <td>596</td>\n",
       "      <td>664</td>\n",
       "      <td>1028</td>\n",
       "      <td>0d99bc28-a05b-11ec-8062-5cfb3aa6f5e6</td>\n",
       "      <td>../../dada_data/gallery2m_clr_july/xml_labelim...</td>\n",
       "      <td>part1_img_xml</td>\n",
       "      <td>1.0</td>\n",
       "      <td>bag</td>\n",
       "    </tr>\n",
       "  </tbody>\n",
       "</table>\n",
       "</div>"
      ],
      "text/plain": [
       "                                            xml_path  width  height labelimg  \\\n",
       "0  ../../dada_data/gallery2m_clr_july/xml_labelim...   1279    1706       包包   \n",
       "\n",
       "   bx1  bx2  bx3   bx4                                  stem  \\\n",
       "0  440  596  664  1028  0d99bc28-a05b-11ec-8062-5cfb3aa6f5e6   \n",
       "\n",
       "                                              img_sp            man  label9  \\\n",
       "0  ../../dada_data/gallery2m_clr_july/xml_labelim...  part1_img_xml     1.0   \n",
       "\n",
       "  label_eng  \n",
       "0       bag  "
      ]
     },
     "execution_count": 20,
     "metadata": {},
     "output_type": "execute_result"
    }
   ],
   "source": [
    "xml_df.head(1)"
   ]
  },
  {
   "cell_type": "code",
   "execution_count": 23,
   "id": "000adbd3-2959-4822-8d14-d858338a8b06",
   "metadata": {},
   "outputs": [
    {
     "data": {
      "text/plain": [
       "label_eng\n",
       "shoe           10008\n",
       "upper_short     5623\n",
       "bag             3304\n",
       "paints          2843\n",
       "upper_long      1132\n",
       "wholebody        948\n",
       "paints_hot       736\n",
       "miniskirt        723\n",
       "dtype: int64"
      ]
     },
     "execution_count": 23,
     "metadata": {},
     "output_type": "execute_result"
    }
   ],
   "source": [
    "xml_df.value_counts('label_eng')"
   ]
  },
  {
   "cell_type": "code",
   "execution_count": null,
   "id": "6a7561d8-f658-4120-a4b5-ed404e04605c",
   "metadata": {},
   "outputs": [],
   "source": []
  },
  {
   "cell_type": "code",
   "execution_count": null,
   "id": "eb732c7c-9176-44ce-942b-a8499111afe3",
   "metadata": {},
   "outputs": [],
   "source": []
  },
  {
   "cell_type": "markdown",
   "id": "69334bed-a545-4cfd-b00c-a6a44aac3ef3",
   "metadata": {
    "tags": []
   },
   "source": [
    "### 2.统计数据集"
   ]
  },
  {
   "cell_type": "code",
   "execution_count": 26,
   "id": "19c1321f-1fb6-44eb-9f60-c51720238a9f",
   "metadata": {},
   "outputs": [],
   "source": [
    "df = xml_df[xml_df['label9']>=0]"
   ]
  },
  {
   "cell_type": "code",
   "execution_count": 27,
   "id": "578a2a82-9b3e-44cc-b4f4-3e0ff57d7709",
   "metadata": {},
   "outputs": [
    {
     "data": {
      "text/html": [
       "<div>\n",
       "<style scoped>\n",
       "    .dataframe tbody tr th:only-of-type {\n",
       "        vertical-align: middle;\n",
       "    }\n",
       "\n",
       "    .dataframe tbody tr th {\n",
       "        vertical-align: top;\n",
       "    }\n",
       "\n",
       "    .dataframe thead th {\n",
       "        text-align: right;\n",
       "    }\n",
       "</style>\n",
       "<table border=\"1\" class=\"dataframe\">\n",
       "  <thead>\n",
       "    <tr style=\"text-align: right;\">\n",
       "      <th></th>\n",
       "      <th>width</th>\n",
       "      <th>height</th>\n",
       "      <th>bx1</th>\n",
       "      <th>bx2</th>\n",
       "      <th>bx3</th>\n",
       "      <th>bx4</th>\n",
       "      <th>label9</th>\n",
       "    </tr>\n",
       "  </thead>\n",
       "  <tbody>\n",
       "    <tr>\n",
       "      <th>count</th>\n",
       "      <td>25317.000000</td>\n",
       "      <td>25317.000000</td>\n",
       "      <td>25317.00000</td>\n",
       "      <td>25317.000000</td>\n",
       "      <td>25317.000000</td>\n",
       "      <td>25317.000000</td>\n",
       "      <td>25317.000000</td>\n",
       "    </tr>\n",
       "    <tr>\n",
       "      <th>mean</th>\n",
       "      <td>894.515187</td>\n",
       "      <td>1186.131295</td>\n",
       "      <td>354.72951</td>\n",
       "      <td>679.452581</td>\n",
       "      <td>536.564403</td>\n",
       "      <td>943.461232</td>\n",
       "      <td>1.799068</td>\n",
       "    </tr>\n",
       "    <tr>\n",
       "      <th>std</th>\n",
       "      <td>309.812007</td>\n",
       "      <td>385.826830</td>\n",
       "      <td>168.32474</td>\n",
       "      <td>395.004886</td>\n",
       "      <td>216.703441</td>\n",
       "      <td>385.294472</td>\n",
       "      <td>2.142690</td>\n",
       "    </tr>\n",
       "    <tr>\n",
       "      <th>min</th>\n",
       "      <td>220.000000</td>\n",
       "      <td>283.000000</td>\n",
       "      <td>1.00000</td>\n",
       "      <td>1.000000</td>\n",
       "      <td>83.000000</td>\n",
       "      <td>66.000000</td>\n",
       "      <td>0.000000</td>\n",
       "    </tr>\n",
       "    <tr>\n",
       "      <th>25%</th>\n",
       "      <td>690.000000</td>\n",
       "      <td>920.000000</td>\n",
       "      <td>234.00000</td>\n",
       "      <td>369.000000</td>\n",
       "      <td>384.000000</td>\n",
       "      <td>652.000000</td>\n",
       "      <td>0.000000</td>\n",
       "    </tr>\n",
       "    <tr>\n",
       "      <th>50%</th>\n",
       "      <td>690.000000</td>\n",
       "      <td>1035.000000</td>\n",
       "      <td>317.00000</td>\n",
       "      <td>612.000000</td>\n",
       "      <td>471.000000</td>\n",
       "      <td>889.000000</td>\n",
       "      <td>1.000000</td>\n",
       "    </tr>\n",
       "    <tr>\n",
       "      <th>75%</th>\n",
       "      <td>1279.000000</td>\n",
       "      <td>1705.000000</td>\n",
       "      <td>451.00000</td>\n",
       "      <td>884.000000</td>\n",
       "      <td>687.000000</td>\n",
       "      <td>1138.000000</td>\n",
       "      <td>3.000000</td>\n",
       "    </tr>\n",
       "    <tr>\n",
       "      <th>max</th>\n",
       "      <td>2880.000000</td>\n",
       "      <td>3840.000000</td>\n",
       "      <td>1286.00000</td>\n",
       "      <td>2705.000000</td>\n",
       "      <td>2282.000000</td>\n",
       "      <td>3840.000000</td>\n",
       "      <td>8.000000</td>\n",
       "    </tr>\n",
       "  </tbody>\n",
       "</table>\n",
       "</div>"
      ],
      "text/plain": [
       "              width        height          bx1           bx2           bx3  \\\n",
       "count  25317.000000  25317.000000  25317.00000  25317.000000  25317.000000   \n",
       "mean     894.515187   1186.131295    354.72951    679.452581    536.564403   \n",
       "std      309.812007    385.826830    168.32474    395.004886    216.703441   \n",
       "min      220.000000    283.000000      1.00000      1.000000     83.000000   \n",
       "25%      690.000000    920.000000    234.00000    369.000000    384.000000   \n",
       "50%      690.000000   1035.000000    317.00000    612.000000    471.000000   \n",
       "75%     1279.000000   1705.000000    451.00000    884.000000    687.000000   \n",
       "max     2880.000000   3840.000000   1286.00000   2705.000000   2282.000000   \n",
       "\n",
       "                bx4        label9  \n",
       "count  25317.000000  25317.000000  \n",
       "mean     943.461232      1.799068  \n",
       "std      385.294472      2.142690  \n",
       "min       66.000000      0.000000  \n",
       "25%      652.000000      0.000000  \n",
       "50%      889.000000      1.000000  \n",
       "75%     1138.000000      3.000000  \n",
       "max     3840.000000      8.000000  "
      ]
     },
     "execution_count": 27,
     "metadata": {},
     "output_type": "execute_result"
    }
   ],
   "source": [
    "df.describe()"
   ]
  },
  {
   "cell_type": "code",
   "execution_count": null,
   "id": "09359bd1-92ed-42f1-b42f-d7e8e5b8e1ca",
   "metadata": {},
   "outputs": [],
   "source": []
  },
  {
   "cell_type": "markdown",
   "id": "d230ef38-2cfc-4c6d-b7bf-5fdc57710399",
   "metadata": {
    "jp-MarkdownHeadingCollapsed": true,
    "tags": []
   },
   "source": [
    "#### 二级标签"
   ]
  },
  {
   "cell_type": "code",
   "execution_count": 38,
   "id": "ee539656-eaba-4da3-b43e-e58d79ac854c",
   "metadata": {},
   "outputs": [],
   "source": [
    "import matplotlib.pyplot as plt"
   ]
  },
  {
   "cell_type": "code",
   "execution_count": null,
   "id": "2158488e-1146-446a-9e1d-45361b1c9b8a",
   "metadata": {},
   "outputs": [],
   "source": []
  },
  {
   "cell_type": "code",
   "execution_count": 29,
   "id": "ffe554d4-3b7f-47b8-872d-9ce6a85274fc",
   "metadata": {},
   "outputs": [],
   "source": [
    "counter = df.value_counts('label_eng').sort_index()"
   ]
  },
  {
   "cell_type": "code",
   "execution_count": 32,
   "id": "17ffcb6c-ca03-48c7-b624-bdf92d3e038e",
   "metadata": {},
   "outputs": [
    {
     "data": {
      "text/plain": [
       "label_eng\n",
       "bag             3304\n",
       "miniskirt        723\n",
       "paints          2843\n",
       "paints_hot       736\n",
       "shoe           10008\n",
       "upper_long      1132\n",
       "upper_short     5623\n",
       "wholebody        948\n",
       "dtype: int64"
      ]
     },
     "execution_count": 32,
     "metadata": {},
     "output_type": "execute_result"
    }
   ],
   "source": [
    "counter"
   ]
  },
  {
   "cell_type": "code",
   "execution_count": 31,
   "id": "982660a2-a53d-4db1-9c4e-6508d82fc2fe",
   "metadata": {},
   "outputs": [
    {
     "data": {
      "text/plain": [
       "array([ 3304,   723,  2843,   736, 10008,  1132,  5623,   948])"
      ]
     },
     "execution_count": 31,
     "metadata": {},
     "output_type": "execute_result"
    }
   ],
   "source": [
    "numbers"
   ]
  },
  {
   "cell_type": "code",
   "execution_count": 33,
   "id": "9c020168-21ef-481c-bc92-0d20ffede26d",
   "metadata": {},
   "outputs": [],
   "source": [
    "id_list = np.array(counter.axes)[0]\n",
    "numbers = counter.values\n",
    "name_list = list(counter.index)"
   ]
  },
  {
   "cell_type": "code",
   "execution_count": 39,
   "id": "a5e3199e-bad8-4196-9397-afd04fcde19d",
   "metadata": {
    "tags": []
   },
   "outputs": [
    {
     "data": {
      "image/png": "[encoded data removed]",
      "text/plain": [
       "<Figure size 1800x504 with 1 Axes>"
      ]
     },
     "metadata": {
      "needs_background": "light"
     },
     "output_type": "display_data"
    }
   ],
   "source": [
    "plt.figure(figsize=(25, 7))\n",
    "plt.xticks(list(range(len(name_list))), name_list, rotation=75, fontsize=14)\n",
    "plt.bar(name_list, numbers, width=0.5)  # 绘制y刻度标签\n",
    "for a, b in zip(name_list, numbers):\n",
    "    plt.text(a, b, b, ha='center', va='bottom')\n",
    "plt.show()"
   ]
  },
  {
   "cell_type": "code",
   "execution_count": null,
   "id": "ef796178-9f6c-408f-9b4a-98d23658e25d",
   "metadata": {},
   "outputs": [],
   "source": []
  },
  {
   "cell_type": "code",
   "execution_count": null,
   "id": "90c55790-5885-4d6b-9d8e-89e9bff526e4",
   "metadata": {},
   "outputs": [],
   "source": []
  },
  {
   "cell_type": "markdown",
   "id": "9eb7f2d0-68d5-4f5f-b3db-ea2761fe466d",
   "metadata": {
    "jp-MarkdownHeadingCollapsed": true,
    "tags": []
   },
   "source": [
    "#### 一级标签"
   ]
  },
  {
   "cell_type": "code",
   "execution_count": null,
   "id": "820bb490-4b68-4262-9596-d2dbfbd25eea",
   "metadata": {},
   "outputs": [],
   "source": [
    "counter = df.value_counts('label_model').sort_index()"
   ]
  },
  {
   "cell_type": "code",
   "execution_count": null,
   "id": "02dfa009-5b95-44c5-ba8f-4085de66bae4",
   "metadata": {},
   "outputs": [],
   "source": [
    "id2model_l1"
   ]
  },
  {
   "cell_type": "code",
   "execution_count": null,
   "id": "ff50096b-f860-47c6-b5f1-ac0113976b22",
   "metadata": {},
   "outputs": [
    {
     "data": {
      "text/plain": [
       "{-1: 'other-1',\n",
       " 4: 'upperbody',\n",
       " 5: 'pants',\n",
       " 6: 'skirt',\n",
       " 7: 'wholebody',\n",
       " 8: 'bag',\n",
       " 10: 'shoe'}"
      ]
     },
     "execution_count": 93,
     "metadata": {},
     "output_type": "execute_result"
    }
   ],
   "source": [
    "id2eng_l1"
   ]
  },
  {
   "cell_type": "code",
   "execution_count": null,
   "id": "da7d0eea-24f5-49db-9639-616a284747a7",
   "metadata": {},
   "outputs": [],
   "source": [
    "id_list = np.array(counter.axes)[0]\n",
    "numbers = counter.values\n",
    "name_list = [str(x) + ':' + id2eng_l1[model_label_map[x]] for x in id_list]"
   ]
  },
  {
   "cell_type": "code",
   "execution_count": null,
   "id": "84250c81-b29c-42c7-9b1f-93249ca93722",
   "metadata": {},
   "outputs": [
    {
     "data": {
      "image/png": "[encoded data removed]",
      "text/plain": [
       "<Figure size 1800x504 with 1 Axes>"
      ]
     },
     "metadata": {
      "needs_background": "light"
     },
     "output_type": "display_data"
    }
   ],
   "source": [
    "plt.figure(figsize=(25, 7))\n",
    "plt.xticks(list(range(len(name_list))), name_list, rotation=75, fontsize=14)\n",
    "plt.bar(name_list, numbers, width=0.5)  # 绘制y刻度标签\n",
    "for a, b in zip(name_list, numbers):\n",
    "    plt.text(a, b, b, ha='center', va='bottom')\n",
    "plt.show()"
   ]
  },
  {
   "cell_type": "code",
   "execution_count": null,
   "id": "90624d36-dd31-4e7a-9978-30f393fa57fa",
   "metadata": {},
   "outputs": [],
   "source": []
  },
  {
   "cell_type": "code",
   "execution_count": null,
   "id": "7c209f3c-2110-44b0-a4d3-d7abd6af494c",
   "metadata": {},
   "outputs": [],
   "source": []
  },
  {
   "cell_type": "code",
   "execution_count": null,
   "id": "043b3f70-6585-4faf-89c8-07ef597f21fd",
   "metadata": {},
   "outputs": [
    {
     "name": "stdout",
     "output_type": "stream",
     "text": [
      "haowei34k  haowei34k_conf7.csv\thaowei34k.tar  haowei_conf07_multi  openfashion\n"
     ]
    }
   ],
   "source": [
    "!ls /nas/chenyi/dataset_apparel_nas/"
   ]
  },
  {
   "cell_type": "code",
   "execution_count": null,
   "id": "76028d4c-2d19-4cb9-8bbc-0dac6b29b140",
   "metadata": {},
   "outputs": [],
   "source": [
    "hw_data_p = '/nas/chenyi/dataset_apparel_nas/haowei34k_conf7.csv'"
   ]
  },
  {
   "cell_type": "code",
   "execution_count": null,
   "id": "47ec4326-9828-4caa-a685-07982bad5b7c",
   "metadata": {},
   "outputs": [],
   "source": [
    "hw_data_df = pd.read_csv(hw_data_p)"
   ]
  },
  {
   "cell_type": "code",
   "execution_count": null,
   "id": "670a5f53-932a-408f-9bb9-42b05094b2d5",
   "metadata": {},
   "outputs": [
    {
     "data": {
      "text/html": [
       "<div>\n",
       "<style scoped>\n",
       "    .dataframe tbody tr th:only-of-type {\n",
       "        vertical-align: middle;\n",
       "    }\n",
       "\n",
       "    .dataframe tbody tr th {\n",
       "        vertical-align: top;\n",
       "    }\n",
       "\n",
       "    .dataframe thead th {\n",
       "        text-align: right;\n",
       "    }\n",
       "</style>\n",
       "<table border=\"1\" class=\"dataframe\">\n",
       "  <thead>\n",
       "    <tr style=\"text-align: right;\">\n",
       "      <th></th>\n",
       "      <th>id</th>\n",
       "      <th>img_path</th>\n",
       "      <th>label_path</th>\n",
       "      <th>label_1</th>\n",
       "      <th>一级分类</th>\n",
       "      <th>label_2</th>\n",
       "      <th>二级分类</th>\n",
       "      <th>x_c</th>\n",
       "      <th>y_c</th>\n",
       "      <th>w</th>\n",
       "      <th>h</th>\n",
       "      <th>confidence</th>\n",
       "    </tr>\n",
       "  </thead>\n",
       "  <tbody>\n",
       "    <tr>\n",
       "      <th>0</th>\n",
       "      <td>20141215090521289</td>\n",
       "      <td>/nas/lichangjian/ok_data/20141215090521289.jpg</td>\n",
       "      <td>/nas/lichangjian/labels/20141215090521289.txt</td>\n",
       "      <td>4</td>\n",
       "      <td>上装</td>\n",
       "      <td>0</td>\n",
       "      <td>小西装</td>\n",
       "      <td>0.454839</td>\n",
       "      <td>0.320250</td>\n",
       "      <td>0.412903</td>\n",
       "      <td>0.362912</td>\n",
       "      <td>0.961302</td>\n",
       "    </tr>\n",
       "    <tr>\n",
       "      <th>1</th>\n",
       "      <td>20141215090521289</td>\n",
       "      <td>/nas/lichangjian/ok_data/20141215090521289.jpg</td>\n",
       "      <td>/nas/lichangjian/labels/20141215090521289.txt</td>\n",
       "      <td>5</td>\n",
       "      <td>裤子</td>\n",
       "      <td>18</td>\n",
       "      <td>休闲裤</td>\n",
       "      <td>0.440323</td>\n",
       "      <td>0.627986</td>\n",
       "      <td>0.296774</td>\n",
       "      <td>0.470990</td>\n",
       "      <td>0.953829</td>\n",
       "    </tr>\n",
       "    <tr>\n",
       "      <th>2</th>\n",
       "      <td>20140924211054180</td>\n",
       "      <td>/nas/lichangjian/ok_data/20140924211054180.jpg</td>\n",
       "      <td>/nas/lichangjian/labels/20140924211054180.txt</td>\n",
       "      <td>4</td>\n",
       "      <td>上装</td>\n",
       "      <td>0</td>\n",
       "      <td>小西装</td>\n",
       "      <td>0.542500</td>\n",
       "      <td>0.343897</td>\n",
       "      <td>0.198333</td>\n",
       "      <td>0.387324</td>\n",
       "      <td>0.920288</td>\n",
       "    </tr>\n",
       "    <tr>\n",
       "      <th>3</th>\n",
       "      <td>20140924211054180</td>\n",
       "      <td>/nas/lichangjian/ok_data/20140924211054180.jpg</td>\n",
       "      <td>/nas/lichangjian/labels/20140924211054180.txt</td>\n",
       "      <td>5</td>\n",
       "      <td>裤子</td>\n",
       "      <td>16</td>\n",
       "      <td>西装裤</td>\n",
       "      <td>0.538333</td>\n",
       "      <td>0.660798</td>\n",
       "      <td>0.156667</td>\n",
       "      <td>0.485915</td>\n",
       "      <td>0.915438</td>\n",
       "    </tr>\n",
       "    <tr>\n",
       "      <th>4</th>\n",
       "      <td>20141204122102902</td>\n",
       "      <td>/nas/lichangjian/ok_data/20141204122102902.jpg</td>\n",
       "      <td>/nas/lichangjian/labels/20141204122102902.txt</td>\n",
       "      <td>4</td>\n",
       "      <td>上装</td>\n",
       "      <td>4</td>\n",
       "      <td>夹克/外套</td>\n",
       "      <td>0.486250</td>\n",
       "      <td>0.341667</td>\n",
       "      <td>0.322500</td>\n",
       "      <td>0.286667</td>\n",
       "      <td>0.781202</td>\n",
       "    </tr>\n",
       "  </tbody>\n",
       "</table>\n",
       "</div>"
      ],
      "text/plain": [
       "                  id                                        img_path  \\\n",
       "0  20141215090521289  /nas/lichangjian/ok_data/20141215090521289.jpg   \n",
       "1  20141215090521289  /nas/lichangjian/ok_data/20141215090521289.jpg   \n",
       "2  20140924211054180  /nas/lichangjian/ok_data/20140924211054180.jpg   \n",
       "3  20140924211054180  /nas/lichangjian/ok_data/20140924211054180.jpg   \n",
       "4  20141204122102902  /nas/lichangjian/ok_data/20141204122102902.jpg   \n",
       "\n",
       "                                      label_path  label_1 一级分类  label_2  \\\n",
       "0  /nas/lichangjian/labels/20141215090521289.txt        4   上装        0   \n",
       "1  /nas/lichangjian/labels/20141215090521289.txt        5   裤子       18   \n",
       "2  /nas/lichangjian/labels/20140924211054180.txt        4   上装        0   \n",
       "3  /nas/lichangjian/labels/20140924211054180.txt        5   裤子       16   \n",
       "4  /nas/lichangjian/labels/20141204122102902.txt        4   上装        4   \n",
       "\n",
       "    二级分类       x_c       y_c         w         h  confidence  \n",
       "0    小西装  0.454839  0.320250  0.412903  0.362912    0.961302  \n",
       "1    休闲裤  0.440323  0.627986  0.296774  0.470990    0.953829  \n",
       "2    小西装  0.542500  0.343897  0.198333  0.387324    0.920288  \n",
       "3    西装裤  0.538333  0.660798  0.156667  0.485915    0.915438  \n",
       "4  夹克/外套  0.486250  0.341667  0.322500  0.286667    0.781202  "
      ]
     },
     "execution_count": 14,
     "metadata": {},
     "output_type": "execute_result"
    }
   ],
   "source": [
    "hw_data_df.head()"
   ]
  },
  {
   "cell_type": "code",
   "execution_count": null,
   "id": "db5905e7-3087-49c3-9399-1fd8fa2959ce",
   "metadata": {},
   "outputs": [],
   "source": []
  },
  {
   "cell_type": "code",
   "execution_count": null,
   "id": "2686bd84-e2bb-4fbd-8c1e-5c57db48e8f7",
   "metadata": {},
   "outputs": [],
   "source": []
  },
  {
   "cell_type": "code",
   "execution_count": null,
   "id": "9d1c0fed-ec06-49d1-a2c3-08d83b8e28e4",
   "metadata": {},
   "outputs": [],
   "source": [
    "counter_hw = hw_data_df['label_2'].value_counts()"
   ]
  },
  {
   "cell_type": "code",
   "execution_count": null,
   "id": "aeb76497-8988-4952-a18b-4abacbfeb0cc",
   "metadata": {},
   "outputs": [],
   "source": [
    "id_list = np.array(counter_hw.axes)[0]\n",
    "numbers = counter_hw.values\n",
    "name_list = [str(x) + ':' + names[x][1] for x in id_list]"
   ]
  },
  {
   "cell_type": "code",
   "execution_count": null,
   "id": "74000810-7d61-4773-86b6-6d9109797c54",
   "metadata": {},
   "outputs": [
    {
     "data": {
      "image/png": "[encoded data removed]",
      "text/plain": [
       "<Figure size 1800x504 with 1 Axes>"
      ]
     },
     "metadata": {
      "needs_background": "light"
     },
     "output_type": "display_data"
    }
   ],
   "source": [
    "plt.figure(figsize=(25, 7))\n",
    "plt.xticks(list(range(len(name_list))), name_list, rotation=50, fontsize=14)\n",
    "plt.bar(name_list, numbers, width=0.5)  # 绘制y刻度标签\n",
    "for a, b in zip(name_list, numbers):\n",
    "    plt.text(a, b, b, ha='center', va='bottom')\n",
    "plt.show()"
   ]
  },
  {
   "cell_type": "markdown",
   "id": "0e265dd4-82a0-46b8-b756-a59f13b88c4f",
   "metadata": {
    "jp-MarkdownHeadingCollapsed": true,
    "tags": []
   },
   "source": [
    "### slink_df构建:生成软连接的path"
   ]
  },
  {
   "cell_type": "code",
   "execution_count": 13,
   "id": "c0c6e454-a7cc-4080-bf7a-f3f9bce90f72",
   "metadata": {},
   "outputs": [],
   "source": [
    "def folder_change(chg_df, origin_folder, folder_name):\n",
    "    chg_df['img_tp'] = chg_df['img_tp'].apply(lambda x:x.replace(f'/datasets/{origin_folder}/images/', f'/datasets/{folder_name}/images/'))\n",
    "    chg_df['label_tp'] = chg_df['label_tp'].apply(lambda x:x.replace(f'/datasets/{origin_folder}/labels/', f'/datasets/{folder_name}/labels/'))\n",
    "    return chg_df"
   ]
  },
  {
   "cell_type": "code",
   "execution_count": 14,
   "id": "1281cac1-14d7-4875-bae6-2a6fa6e78c29",
   "metadata": {},
   "outputs": [],
   "source": [
    "def name_change(chg_df, folder_name):\n",
    "    chg_df['img_tp'] = chg_df['img_tp'].apply(lambda x: '{0}/{1}_{2}'.format(Path(x).parent, folder_name, Path(x).name))\n",
    "    chg_df['label_tp'] = chg_df['label_tp'].apply(lambda x: '{0}/{1}_{2}'.format(Path(x).parent, folder_name, Path(x).name))\n",
    "    return chg_df"
   ]
  },
  {
   "cell_type": "code",
   "execution_count": null,
   "id": "e76791b0-1bc4-4e05-8bbb-c8216f1e16ed",
   "metadata": {},
   "outputs": [],
   "source": []
  },
  {
   "cell_type": "code",
   "execution_count": 7,
   "id": "2e75b260-da7b-44bc-9a96-d5f5d5c61aff",
   "metadata": {},
   "outputs": [
    {
     "name": "stdout",
     "output_type": "stream",
     "text": [
      "dadet100kv2_slink_df.csv\t dadet100kv4_june_slink_df.csv\n",
      "dadet100kv3_june_slink_df.csv\t dadet_gallv4_june_slink_df.csv\n",
      "dadet100kv4_1_june_slink_df.csv\n"
     ]
    }
   ],
   "source": [
    "# 软连接\n",
    "root_slink = Path('/nas/chenyi/workspace/myPyModule/dataset/data/slink')\n",
    "!ls $root_slink/dadet100k"
   ]
  },
  {
   "cell_type": "code",
   "execution_count": 5,
   "id": "74e1b385-9244-406d-b8b5-6f421c798900",
   "metadata": {},
   "outputs": [
    {
     "name": "stdout",
     "output_type": "stream",
     "text": [
      "\u001b[01;34m/home/chenyi/workspace/yolov5/datasets/\u001b[00m\n",
      "├── \u001b[01;34mcoco128\u001b[00m\n",
      "├── \u001b[01;34mdadet100kv2\u001b[00m\n",
      "├── \u001b[01;34mdadet100kv3_june\u001b[00m\n",
      "├── \u001b[01;34mdadet100kv4_1_june\u001b[00m\n",
      "├── \u001b[01;34mdadet100kv4_june\u001b[00m\n",
      "├── \u001b[01;34mdadet_gallv4_june\u001b[00m\n",
      "├── \u001b[01;34mdadetv5\u001b[00m\n",
      "├── \u001b[01;34mdadetv5_query\u001b[00m\n",
      "├── \u001b[01;34mdadetv6_1\u001b[00m\n",
      "├── \u001b[01;34mdataExps\u001b[00m\n",
      "├── \u001b[01;34mdeepedia\u001b[00m\n",
      "├── \u001b[01;34mdeepedia_catg6\u001b[00m\n",
      "├── \u001b[01;34mdeepedia_catg8\u001b[00m\n",
      "├── \u001b[01;34mhaowei_bag_shoe\u001b[00m\n",
      "├── \u001b[01;34mhwpedia\u001b[00m\n",
      "├── \u001b[01;34mhwpedia70k\u001b[00m\n",
      "├── \u001b[01;34mhwpedia80k\u001b[00m\n",
      "├── \u001b[01;34mtuneGallery10k\u001b[00m\n",
      "├── \u001b[01;34mtuneGallery5k\u001b[00m\n",
      "├── \u001b[01;34mtuneQuery10k\u001b[00m\n",
      "└── \u001b[01;34mvalidation_all\u001b[00m\n",
      "\n",
      "21 directories\n"
     ]
    }
   ],
   "source": [
    "root_yolo = '/home/chenyi/workspace/yolov5/datasets/'\n",
    "!tree -d -L 1 $root_yolo"
   ]
  },
  {
   "cell_type": "code",
   "execution_count": 490,
   "id": "6a0aab3f-aa14-4aa2-8671-d80c9edf4383",
   "metadata": {},
   "outputs": [],
   "source": [
    "# name_stand = ['img_sp', 'img_tp', 'label_sp', 'label_tp']\n",
    "# slink_df.rename(columns={slink_df.columns[4]:name_stand[0],\n",
    "#                         slink_df.columns[3]:name_stand[1],\n",
    "#                         slink_df.columns[1]:name_stand[2],\n",
    "#                         slink_df.columns[2]:name_stand[3]},\n",
    "#                inplace=True)"
   ]
  },
  {
   "cell_type": "code",
   "execution_count": null,
   "id": "92f7f5d0-c7f1-4265-b61c-481bf6f478b9",
   "metadata": {},
   "outputs": [],
   "source": []
  },
  {
   "cell_type": "markdown",
   "id": "743d9f37-688e-405a-9d55-b5707bee3a33",
   "metadata": {
    "jp-MarkdownHeadingCollapsed": true,
    "tags": []
   },
   "source": [
    "#### 批量读取slink_df.csv"
   ]
  },
  {
   "cell_type": "code",
   "execution_count": 7,
   "id": "e9c44857-76ff-4b41-86ac-55675eab1ea0",
   "metadata": {},
   "outputs": [],
   "source": [
    "fashion_slink = pd.read_csv('../fashionpedia/data/fashionpedia6_slink.csv')\n",
    "hw_slink = pd.read_csv('../haowei34k/data/hw34k_level1_slink.csv')"
   ]
  },
  {
   "cell_type": "code",
   "execution_count": null,
   "id": "be1536bf-8727-4507-92de-816c52666295",
   "metadata": {},
   "outputs": [],
   "source": []
  },
  {
   "cell_type": "code",
   "execution_count": 11,
   "id": "9479986e-877a-4edb-9b2f-4c2e4bef71e0",
   "metadata": {},
   "outputs": [],
   "source": [
    "# shbg5k_slink = pd.read_csv('../dada_det/data/shoeBag5k0515/shoeBag0515_slink_df.csv')\n",
    "# shbg11k_slink = pd.read_csv('../dada_det/data/shoeBag10k0530/shoe_bag11k_may_slink.csv')\n",
    "skirt5k_slink = pd.read_csv('../deepfashion2/data/skirt_slink.csv')\n",
    "wholebody5k_slink = pd.read_csv('../dada_det/data/wholebody5k0610/wholebody5k_slin_dfk.csv')\n",
    "# syserror_slink = pd.read_csv('../dada_det/data/sys_error_sample/sys_error_slin_dfk.csv')\n",
    "# len(shbg5k_slink), len(skirt5k_slink), len(shbg11k_slink), len(wholebody5k_slink)"
   ]
  },
  {
   "cell_type": "code",
   "execution_count": null,
   "id": "3a9b4188-e623-4874-9890-cdc02e0b5f66",
   "metadata": {},
   "outputs": [],
   "source": []
  },
  {
   "cell_type": "code",
   "execution_count": null,
   "id": "03c1495d-cf78-4520-ba9d-14d36a535768",
   "metadata": {},
   "outputs": [],
   "source": []
  },
  {
   "cell_type": "code",
   "execution_count": 15,
   "id": "41640b1b-9984-40d1-9876-e46994a96e3e",
   "metadata": {},
   "outputs": [],
   "source": [
    "origin_folder = 'hwpedia80k'\n",
    "folder_name = 'dadet_gallv4_june'\n",
    "fashion_slink = folder_change(fashion_slink, origin_folder, folder_name)"
   ]
  },
  {
   "cell_type": "code",
   "execution_count": 16,
   "id": "5a1308d2-408f-4a0e-960b-887e38811c5f",
   "metadata": {},
   "outputs": [],
   "source": [
    "origin_folder = 'dadet100kv2'\n",
    "folder_name = 'dadet_gallv4_june'\n",
    "hw_slink = folder_change(hw_slink, origin_folder, folder_name)"
   ]
  },
  {
   "cell_type": "code",
   "execution_count": null,
   "id": "a82dc4af-45a7-4f3d-b4ea-6fcfb48269b9",
   "metadata": {},
   "outputs": [],
   "source": []
  },
  {
   "cell_type": "code",
   "execution_count": 18,
   "id": "1345b8d7-7e51-495b-a70d-446b5078a22e",
   "metadata": {},
   "outputs": [],
   "source": [
    "origin_folder = 'dadet100kv1'\n",
    "folder_name = 'dadet_gallv4_june'\n",
    "skirt5k_slink = folder_change(skirt5k_slink, origin_folder, folder_name)"
   ]
  },
  {
   "cell_type": "code",
   "execution_count": 66,
   "id": "edd08d4a-387f-4728-b9fe-650337ac231c",
   "metadata": {},
   "outputs": [],
   "source": [
    "origin_folder = 'dadet100kv1'\n",
    "folder_name = 'dadet100kv4_june'\n",
    "shbg11k_slink = folder_change(shbg11k_slink, origin_folder, folder_name)"
   ]
  },
  {
   "cell_type": "code",
   "execution_count": 20,
   "id": "f3705d07-cdb4-4e76-8573-7f696b613be5",
   "metadata": {},
   "outputs": [],
   "source": [
    "origin_folder = 'dadet100kv3_june'\n",
    "folder_name = 'dadet_gallv4_june'\n",
    "wholebody5k_slink = folder_change(wholebody5k_slink, origin_folder, folder_name)"
   ]
  },
  {
   "cell_type": "code",
   "execution_count": null,
   "id": "9ad3c83f-d0b4-479d-9aef-be9c396dbe14",
   "metadata": {},
   "outputs": [],
   "source": []
  },
  {
   "cell_type": "code",
   "execution_count": 232,
   "id": "7631d658-b255-416d-b00c-5fff32195c92",
   "metadata": {},
   "outputs": [],
   "source": [
    "origin_folder = 'dadet100kv3_june'\n",
    "folder_name = 'dadet_gallv4_june'\n",
    "syserror_slink = folder_change(syserror_slink, origin_folder, folder_name)\n",
    "syserror_slink = name_change(syserror_slink, 'syserror60')"
   ]
  },
  {
   "cell_type": "code",
   "execution_count": null,
   "id": "c5d78cec-d775-4097-9f5e-cfab2f1d6e5b",
   "metadata": {},
   "outputs": [],
   "source": []
  },
  {
   "cell_type": "markdown",
   "id": "5fa65b7c-ffc6-46f5-b055-0292bf29bc2a",
   "metadata": {
    "tags": []
   },
   "source": [
    "#### 单个slink"
   ]
  },
  {
   "cell_type": "code",
   "execution_count": 18,
   "id": "081f4c9f-fb7f-4025-9844-0242dca49b93",
   "metadata": {},
   "outputs": [
    {
     "name": "stderr",
     "output_type": "stream",
     "text": [
      "/tmp/ipykernel_1210112/170413747.py:1: DtypeWarning: Columns (0,5) have mixed types. Specify dtype option on import or set low_memory=False.\n",
      "  slink_df = pd.read_csv(root_slink /'dadet100k/dadet100kv4_1_june_slink_df.csv')\n"
     ]
    }
   ],
   "source": [
    "slink_df = pd.read_csv(root_slink /'dadet100k/dadet100kv4_1_june_slink_df.csv')"
   ]
  },
  {
   "cell_type": "code",
   "execution_count": 19,
   "id": "1216c8bc-3d87-4c27-bbb0-9a94feb791e0",
   "metadata": {},
   "outputs": [
    {
     "data": {
      "text/plain": [
       "array([['0002ec21ddb8477e98b2cbb87ea2e269',\n",
       "        '/home/chenyi/workspace/dataset/labels/labels6/fashionpedia/labels/train/0002ec21ddb8477e98b2cbb87ea2e269.txt',\n",
       "        '/home/chenyi/workspace/yolov5/datasets/dadet100kv4_1_june/labels/train/0002ec21ddb8477e98b2cbb87ea2e269.txt',\n",
       "        '/home/chenyi/workspace/yolov5/datasets/dadet100kv4_1_june/images/train/0002ec21ddb8477e98b2cbb87ea2e269.jpg',\n",
       "        '/home/chenyi/workspace/dataset/data/data_fashionpedia/train/0002ec21ddb8477e98b2cbb87ea2e269.jpg',\n",
       "        nan, 'dadet100kv4_1_june', nan]], dtype=object)"
      ]
     },
     "execution_count": 19,
     "metadata": {},
     "output_type": "execute_result"
    }
   ],
   "source": [
    "slink_df.head(1).values"
   ]
  },
  {
   "cell_type": "code",
   "execution_count": 20,
   "id": "c14a333f-7b8f-4689-a830-b7591ab0945c",
   "metadata": {},
   "outputs": [
    {
     "data": {
      "text/html": [
       "<div>\n",
       "<style scoped>\n",
       "    .dataframe tbody tr th:only-of-type {\n",
       "        vertical-align: middle;\n",
       "    }\n",
       "\n",
       "    .dataframe tbody tr th {\n",
       "        vertical-align: top;\n",
       "    }\n",
       "\n",
       "    .dataframe thead th {\n",
       "        text-align: right;\n",
       "    }\n",
       "</style>\n",
       "<table border=\"1\" class=\"dataframe\">\n",
       "  <thead>\n",
       "    <tr style=\"text-align: right;\">\n",
       "      <th></th>\n",
       "      <th>fname</th>\n",
       "      <th>label_sp</th>\n",
       "      <th>label_tp</th>\n",
       "      <th>img_tp</th>\n",
       "      <th>img_sp</th>\n",
       "      <th>mode</th>\n",
       "      <th>target</th>\n",
       "      <th>stem</th>\n",
       "    </tr>\n",
       "  </thead>\n",
       "  <tbody>\n",
       "    <tr>\n",
       "      <th>0</th>\n",
       "      <td>0002ec21ddb8477e98b2cbb87ea2e269</td>\n",
       "      <td>/home/chenyi/workspace/dataset/labels/labels6/...</td>\n",
       "      <td>/home/chenyi/workspace/yolov5/datasets/dadet10...</td>\n",
       "      <td>/home/chenyi/workspace/yolov5/datasets/dadet10...</td>\n",
       "      <td>/home/chenyi/workspace/dataset/data/data_fashi...</td>\n",
       "      <td>NaN</td>\n",
       "      <td>dadet100kv4_1_june</td>\n",
       "      <td>NaN</td>\n",
       "    </tr>\n",
       "  </tbody>\n",
       "</table>\n",
       "</div>"
      ],
      "text/plain": [
       "                              fname  \\\n",
       "0  0002ec21ddb8477e98b2cbb87ea2e269   \n",
       "\n",
       "                                            label_sp  \\\n",
       "0  /home/chenyi/workspace/dataset/labels/labels6/...   \n",
       "\n",
       "                                            label_tp  \\\n",
       "0  /home/chenyi/workspace/yolov5/datasets/dadet10...   \n",
       "\n",
       "                                              img_tp  \\\n",
       "0  /home/chenyi/workspace/yolov5/datasets/dadet10...   \n",
       "\n",
       "                                              img_sp mode              target  \\\n",
       "0  /home/chenyi/workspace/dataset/data/data_fashi...  NaN  dadet100kv4_1_june   \n",
       "\n",
       "   stem  \n",
       "0   NaN  "
      ]
     },
     "execution_count": 20,
     "metadata": {},
     "output_type": "execute_result"
    }
   ],
   "source": [
    "slink_df.head(1)"
   ]
  },
  {
   "cell_type": "code",
   "execution_count": null,
   "id": "ebfdfd9b-ad9e-41ba-84b0-d1bf3a428845",
   "metadata": {},
   "outputs": [],
   "source": []
  },
  {
   "cell_type": "code",
   "execution_count": 21,
   "id": "e2de46c1-98a5-41b3-9b00-b811005f5f10",
   "metadata": {},
   "outputs": [],
   "source": [
    "origin_folder = 'dadet100kv4_1_june'\n",
    "folder_name = 'dadetv6_1'\n",
    "slink_df = folder_change(slink_df, origin_folder, folder_name)"
   ]
  },
  {
   "cell_type": "code",
   "execution_count": 27,
   "id": "d6f0543e-39f5-4aa7-9195-9e7d665c1ecf",
   "metadata": {},
   "outputs": [],
   "source": [
    "# 采样\n",
    "# slink_train = slink_df[slink_df['mode']=='train']\n",
    "# slink_val = slink_df[slink_df['mode']=='val']\n",
    "# # slink_sample = slink_train.sample(int(0.8*len(slink_df)))\n",
    "# # slink_df = pd.concat([slink_sample, slink_val], axis=0)\n",
    "# len(slink_train), len(slink_val)"
   ]
  },
  {
   "cell_type": "code",
   "execution_count": 23,
   "id": "b64c02c3-fdd1-45f4-a8b4-7b0216963f26",
   "metadata": {},
   "outputs": [],
   "source": [
    "# slink_df = slink_sample"
   ]
  },
  {
   "cell_type": "markdown",
   "id": "f444abaf-4fcf-4fcd-8dd2-4cd89778466b",
   "metadata": {
    "jp-MarkdownHeadingCollapsed": true,
    "tags": []
   },
   "source": [
    "##### 核查slink"
   ]
  },
  {
   "cell_type": "code",
   "execution_count": 23,
   "id": "922d64af-729b-4b1d-9fef-11b414dda676",
   "metadata": {},
   "outputs": [],
   "source": [
    "slink_df['mode'] = slink_df['label_tp'].apply(lambda x: Path(x).parts[-2])"
   ]
  },
  {
   "cell_type": "code",
   "execution_count": 22,
   "id": "3fc1c737-8b03-4477-a762-96ebcf14fd07",
   "metadata": {},
   "outputs": [
    {
     "data": {
      "text/plain": [
       "target\n",
       "dadetv6_1    103123\n",
       "dtype: int64"
      ]
     },
     "execution_count": 22,
     "metadata": {},
     "output_type": "execute_result"
    }
   ],
   "source": [
    "len(slink_df), len(slink_df.drop_duplicates('label_tp'))\n",
    "slink_df['target'] = slink_df['img_tp'].apply(lambda x: re.findall('datasets/(.*?)/images/', x)[0])\n",
    "slink_df.value_counts('target')"
   ]
  },
  {
   "cell_type": "code",
   "execution_count": 26,
   "id": "6e0534b0-9041-4314-9539-25fb772ff744",
   "metadata": {},
   "outputs": [
    {
     "data": {
      "text/plain": [
       "(mode\n",
       " train    87801\n",
       " val      15322\n",
       " dtype: int64,\n",
       " 103123,\n",
       " 103123)"
      ]
     },
     "execution_count": 26,
     "metadata": {},
     "output_type": "execute_result"
    }
   ],
   "source": [
    "slink_df['mode'] = slink_df['img_tp'].apply(lambda x: re.findall('/images/(.*?)/', x)[0])\n",
    "slink_df['id'] = slink_df['img_tp'].apply(lambda x: Path(Path(x).parts[-2]) /Path(x).stem)\n",
    "slink_df.value_counts('mode'),len(slink_df.drop_duplicates('id')),len(slink_df)"
   ]
  },
  {
   "cell_type": "code",
   "execution_count": 133,
   "id": "6d84c3c8-a8f3-4e30-b572-f183f1d83c46",
   "metadata": {},
   "outputs": [],
   "source": [
    "# slink_df.to_csv(f'data/{folder_name}_slink_df.csv', index=False)\n",
    "# slink_sample.to_csv(f'data/tuneDataset/{folder_name}_slink_df.csv', index=False)"
   ]
  },
  {
   "cell_type": "code",
   "execution_count": null,
   "id": "77fbd8b6-8c70-488d-8017-94e814963a92",
   "metadata": {},
   "outputs": [],
   "source": []
  },
  {
   "cell_type": "code",
   "execution_count": null,
   "id": "55ea085b-d698-4ea3-954d-1ab497763b59",
   "metadata": {},
   "outputs": [],
   "source": []
  },
  {
   "cell_type": "markdown",
   "id": "31456e3a-4b13-41d1-b3f3-29f0a4e9c7f2",
   "metadata": {
    "tags": []
   },
   "source": [
    "### 生成sym link"
   ]
  },
  {
   "cell_type": "code",
   "execution_count": 28,
   "id": "412735a2-74b0-4389-a639-504d64cdb44e",
   "metadata": {},
   "outputs": [
    {
     "name": "stdout",
     "output_type": "stream",
     "text": [
      "\u001b[01;34m/home/chenyi/workspace/yolov5/datasets/\u001b[00m\n",
      "├── \u001b[01;34mcoco128\u001b[00m\n",
      "├── \u001b[01;34mdadet100kv2\u001b[00m\n",
      "├── \u001b[01;34mdadet100kv3_june\u001b[00m\n",
      "├── \u001b[01;34mdadet100kv4_1_june\u001b[00m\n",
      "├── \u001b[01;34mdadet100kv4_june\u001b[00m\n",
      "├── \u001b[01;34mdadet_gallv4_june\u001b[00m\n",
      "├── \u001b[01;34mdadetv5\u001b[00m\n",
      "├── \u001b[01;34mdadetv5_query\u001b[00m\n",
      "├── \u001b[01;34mdadetv6_1\u001b[00m\n",
      "├── \u001b[01;34mdataExps\u001b[00m\n",
      "├── \u001b[01;34mdeepedia\u001b[00m\n",
      "├── \u001b[01;34mdeepedia_catg6\u001b[00m\n",
      "├── \u001b[01;34mdeepedia_catg8\u001b[00m\n",
      "├── \u001b[01;34mhaowei_bag_shoe\u001b[00m\n",
      "├── \u001b[01;34mhwpedia\u001b[00m\n",
      "├── \u001b[01;34mhwpedia70k\u001b[00m\n",
      "├── \u001b[01;34mhwpedia80k\u001b[00m\n",
      "├── \u001b[01;34mtuneGallery10k\u001b[00m\n",
      "├── \u001b[01;34mtuneGallery5k\u001b[00m\n",
      "├── \u001b[01;34mtuneQuery10k\u001b[00m\n",
      "└── \u001b[01;34mvalidation_all\u001b[00m\n",
      "\n",
      "21 directories\n"
     ]
    }
   ],
   "source": [
    "!tree -d -L 1 /home/chenyi/workspace/yolov5/datasets/"
   ]
  },
  {
   "cell_type": "code",
   "execution_count": null,
   "id": "c717b31f-ad6a-4527-bfed-9041fa2dc0f7",
   "metadata": {},
   "outputs": [],
   "source": []
  },
  {
   "cell_type": "code",
   "execution_count": 29,
   "id": "8825ac81-2464-4aee-ac37-1dcab65ef2d4",
   "metadata": {},
   "outputs": [],
   "source": [
    "# slink_df = pd.read_csv('data/tuneDataset/tuneGallery10k_slink_df.csv')\n",
    "# folder_name = 'tuneGallery10k'"
   ]
  },
  {
   "cell_type": "code",
   "execution_count": 30,
   "id": "559cfdbb-b785-42a9-9244-2140dbb35c2f",
   "metadata": {},
   "outputs": [],
   "source": [
    "root = '/home/chenyi/workspace/yolov5/datasets/'"
   ]
  },
  {
   "cell_type": "code",
   "execution_count": 31,
   "id": "6a2bb687-f46e-4ddb-9ace-d316e70392f4",
   "metadata": {},
   "outputs": [],
   "source": [
    "# 产生路径\n",
    "import shutil\n",
    "# folder_name = 'gall10k_delBox'\n",
    "folder_name = folder_name\n",
    "folder_root = Path(root) /folder_name\n",
    "# folder_root = root\n",
    "folder1 = ['images', 'labels']\n",
    "folder2 = ['train', 'val']\n",
    "# # if folder_root.is_dir() and True:\n",
    "# #     shutil.rmtree(folder_root)\n",
    "# for f1 in folder1:\n",
    "#     for f2 in folder2:\n",
    "#         tg = folder_root / f1 / f2\n",
    "#         tg.mkdir(parents=True)   "
   ]
  },
  {
   "cell_type": "code",
   "execution_count": 32,
   "id": "37ffa695-fb85-46da-9889-7911f723c582",
   "metadata": {},
   "outputs": [
    {
     "name": "stdout",
     "output_type": "stream",
     "text": [
      "\u001b[01;34m/home/chenyi/workspace/yolov5/datasets/dadetv6_1\u001b[00m\n",
      "├── \u001b[01;34mimages\u001b[00m\n",
      "│   ├── \u001b[01;34mtrain\u001b[00m\n",
      "│   └── \u001b[01;34mval\u001b[00m\n",
      "└── \u001b[01;34mlabels\u001b[00m\n",
      "    ├── \u001b[01;34mtrain\u001b[00m\n",
      "    └── \u001b[01;34mval\u001b[00m\n",
      "\n",
      "6 directories\n"
     ]
    }
   ],
   "source": [
    "!tree -d -L 2 $folder_root"
   ]
  },
  {
   "cell_type": "code",
   "execution_count": 33,
   "id": "34c8445a-fb51-4356-8f64-63e535a269c3",
   "metadata": {},
   "outputs": [],
   "source": [
    "# for p in glob.glob(f'{folder_root}/*/*/*'):\n",
    "#     if Path(p).is_symlink():\n",
    "#         Path(p).unlink()"
   ]
  },
  {
   "cell_type": "code",
   "execution_count": 34,
   "id": "801d2020-58ac-4506-92a0-a4f79b7ca4db",
   "metadata": {},
   "outputs": [
    {
     "data": {
      "text/plain": [
       "(PosixPath('/home/chenyi/workspace/yolov5/datasets/dadetv6_1'), 10593, 10593)"
      ]
     },
     "execution_count": 34,
     "metadata": {},
     "output_type": "execute_result"
    }
   ],
   "source": [
    "folder_root, len(glob.glob(f'{folder_root}/images/*/*.jpg')), len(glob.glob(f'{folder_root}/labels/*/*.txt'))"
   ]
  },
  {
   "cell_type": "code",
   "execution_count": null,
   "id": "1978761a-ae28-4eac-9216-02e4247b86d4",
   "metadata": {},
   "outputs": [],
   "source": []
  },
  {
   "cell_type": "code",
   "execution_count": 36,
   "id": "71f2718b-f3ff-4790-bf6f-507a343f5fdf",
   "metadata": {},
   "outputs": [
    {
     "name": "stdout",
     "output_type": "stream",
     "text": [
      "CPU times: user 2.8 s, sys: 2.38 s, total: 5.18 s\n",
      "Wall time: 5.41 s\n"
     ]
    }
   ],
   "source": [
    "%%time\n",
    "for p in slink_df['label_tp'].values:\n",
    "    if Path(p).is_symlink():\n",
    "        Path(p).unlink()\n",
    "_ = slink_df.apply(lambda row: Path.symlink_to(Path(row['label_tp']), Path(row['label_sp'])), axis=1)\n",
    "# _ = slink_df.apply(lambda row: os.symlink(str(row['label_sp']), str(row['label_tp'])), axis=1)"
   ]
  },
  {
   "cell_type": "code",
   "execution_count": 37,
   "id": "5f2dfc8e-2177-4a62-96ff-bc7d334dbc1c",
   "metadata": {},
   "outputs": [
    {
     "name": "stdout",
     "output_type": "stream",
     "text": [
      "CPU times: user 2.44 s, sys: 1.65 s, total: 4.09 s\n",
      "Wall time: 4.19 s\n"
     ]
    }
   ],
   "source": [
    "%%time\n",
    "for p in slink_df['img_tp'].values:\n",
    "    if Path(p).is_symlink():\n",
    "        Path(p).unlink()\n",
    "_ = slink_df.apply(lambda row: Path.symlink_to(Path(row['img_tp']), Path(row['img_sp'])), axis=1)"
   ]
  },
  {
   "cell_type": "code",
   "execution_count": null,
   "id": "ca1e1014-0c63-4568-b0c5-333b925882bc",
   "metadata": {},
   "outputs": [],
   "source": []
  },
  {
   "cell_type": "code",
   "execution_count": 38,
   "id": "ebc561f4-cb04-4055-832e-f7fd60521d49",
   "metadata": {},
   "outputs": [
    {
     "data": {
      "text/plain": [
       "(103123, 113622, 113622)"
      ]
     },
     "execution_count": 38,
     "metadata": {},
     "output_type": "execute_result"
    }
   ],
   "source": [
    "len(slink_df),len(glob.glob(f'{folder_root}/images/*/*.jpg')), len(glob.glob(f'{folder_root}/labels/*/*.txt'))"
   ]
  },
  {
   "cell_type": "code",
   "execution_count": 39,
   "id": "1fc942ac-1f23-4c91-a364-ec900458d987",
   "metadata": {},
   "outputs": [
    {
     "name": "stdout",
     "output_type": "stream",
     "text": [
      "0 0.551395 0.898926 0.077827 0.124023\n",
      "0 0.477974 0.869629 0.063142 0.038086\n",
      "5 0.505874 0.447266 0.251101 0.416016\n"
     ]
    }
   ],
   "source": [
    "p = str(slink_df['label_tp'].values[0])\n",
    "!cat $p"
   ]
  },
  {
   "cell_type": "code",
   "execution_count": null,
   "id": "92c05cad-3694-4a3f-b1ad-2366ef04c22a",
   "metadata": {},
   "outputs": [],
   "source": []
  },
  {
   "cell_type": "code",
   "execution_count": null,
   "id": "007fa3c7-4455-46b8-8c7d-c160654b4305",
   "metadata": {},
   "outputs": [],
   "source": []
  },
  {
   "cell_type": "markdown",
   "id": "da7f4991-4d4f-4d1c-8c72-a48eb90d852a",
   "metadata": {},
   "source": [
    "#### 核查软连接"
   ]
  },
  {
   "cell_type": "code",
   "execution_count": 4,
   "id": "2abdac41-a35e-4d9b-a5fe-04eb737c1307",
   "metadata": {},
   "outputs": [
    {
     "name": "stdout",
     "output_type": "stream",
     "text": [
      "\u001b[01;34m/home/chenyi/workspace/yolov5/datasets/\u001b[00m\n",
      "├── \u001b[01;34mcoco128\u001b[00m\n",
      "├── \u001b[01;34mdadet100kv2\u001b[00m\n",
      "├── \u001b[01;34mdadet100kv3_june\u001b[00m\n",
      "├── \u001b[01;34mdadet100kv4_1_june\u001b[00m\n",
      "├── \u001b[01;34mdadet100kv4_june\u001b[00m\n",
      "├── \u001b[01;34mdadet_gallv4_june\u001b[00m\n",
      "├── \u001b[01;34mdadetv5\u001b[00m\n",
      "├── \u001b[01;34mdadetv5_query\u001b[00m\n",
      "├── \u001b[01;34mdadetv6_1\u001b[00m\n",
      "├── \u001b[01;34mdadetv6_2\u001b[00m\n",
      "├── \u001b[01;34mdadetv6_3\u001b[00m\n",
      "├── \u001b[01;34mdataExps\u001b[00m\n",
      "├── \u001b[01;34mdeepedia\u001b[00m\n",
      "├── \u001b[01;34mdeepedia_catg6\u001b[00m\n",
      "├── \u001b[01;34mdeepedia_catg8\u001b[00m\n",
      "├── \u001b[01;34mhaowei_bag_shoe\u001b[00m\n",
      "├── \u001b[01;34mhwpedia\u001b[00m\n",
      "├── \u001b[01;34mhwpedia70k\u001b[00m\n",
      "├── \u001b[01;34mhwpedia80k\u001b[00m\n",
      "├── \u001b[01;34mtuneGallery10k\u001b[00m\n",
      "├── \u001b[01;34mtuneGallery5k\u001b[00m\n",
      "├── \u001b[01;34mtuneQuery10k\u001b[00m\n",
      "└── \u001b[01;34mvalidation_all\u001b[00m\n",
      "\n",
      "23 directories\n"
     ]
    }
   ],
   "source": [
    "!tree -d -L 1 /home/chenyi/workspace/yolov5/datasets/"
   ]
  },
  {
   "cell_type": "code",
   "execution_count": null,
   "id": "e9e57d8e-ab2a-4236-8c4d-2003b82bbcbd",
   "metadata": {},
   "outputs": [],
   "source": []
  },
  {
   "cell_type": "code",
   "execution_count": 5,
   "id": "fd80f04e-0cc1-446e-8c6a-bfa9d2cf446a",
   "metadata": {},
   "outputs": [
    {
     "name": "stdout",
     "output_type": "stream",
     "text": [
      "\u001b[01;34m/home/chenyi/workspace/yolov5/datasets/hwpedia\u001b[00m\n",
      "├── \u001b[01;34mimages\u001b[00m\n",
      "│   ├── \u001b[01;34mtrain\u001b[00m\n",
      "│   └── \u001b[01;34mval\u001b[00m\n",
      "└── \u001b[01;34mlabels\u001b[00m\n",
      "    ├── \u001b[01;34mtrain\u001b[00m\n",
      "    └── \u001b[01;34mval\u001b[00m\n",
      "\n",
      "6 directories\n"
     ]
    }
   ],
   "source": [
    "folder_name = 'hwpedia'\n",
    "# folder_name = folder_name\n",
    "root = f'/home/chenyi/workspace/yolov5/datasets/{folder_name}'\n",
    "!tree  -d -L 2 $root"
   ]
  },
  {
   "cell_type": "code",
   "execution_count": null,
   "id": "5700fd1e-2358-4485-b826-6658fd8fdc59",
   "metadata": {},
   "outputs": [],
   "source": []
  },
  {
   "cell_type": "code",
   "execution_count": 6,
   "id": "e59b7ec3-4b59-4ca8-8959-6e29a2719cfa",
   "metadata": {},
   "outputs": [],
   "source": [
    "def check_syslink(root, mode='images'):\n",
    "    subfix = '.txt' if mode=='labels' else '.jpg'\n",
    "    flag_list = [os.path.isfile(os.readlink(p)) for p in glob.glob(f'{root}/{mode}/*/*{subfix}')]\n",
    "    txt_df = pd.DataFrame()\n",
    "    txt_df['flag'] = flag_list\n",
    "    return txt_df.value_counts('flag')"
   ]
  },
  {
   "cell_type": "code",
   "execution_count": 7,
   "id": "b2bdde9d-9207-4f12-85a3-2fad428ef20d",
   "metadata": {},
   "outputs": [
    {
     "name": "stdout",
     "output_type": "stream",
     "text": [
      "CPU times: user 427 ms, sys: 759 ms, total: 1.19 s\n",
      "Wall time: 7.94 s\n"
     ]
    },
    {
     "data": {
      "text/plain": [
       "flag\n",
       "True    78940\n",
       "dtype: int64"
      ]
     },
     "execution_count": 7,
     "metadata": {},
     "output_type": "execute_result"
    }
   ],
   "source": [
    "%%time\n",
    "check_syslink(root, mode='images')"
   ]
  },
  {
   "cell_type": "code",
   "execution_count": 8,
   "id": "a124921c-47ef-41ef-b543-50b2160c7fd5",
   "metadata": {},
   "outputs": [
    {
     "name": "stdout",
     "output_type": "stream",
     "text": [
      "CPU times: user 387 ms, sys: 752 ms, total: 1.14 s\n",
      "Wall time: 7.95 s\n"
     ]
    },
    {
     "data": {
      "text/plain": [
       "flag\n",
       "True    78940\n",
       "dtype: int64"
      ]
     },
     "execution_count": 8,
     "metadata": {},
     "output_type": "execute_result"
    }
   ],
   "source": [
    "%%time\n",
    "check_syslink(root, mode='labels')"
   ]
  },
  {
   "cell_type": "code",
   "execution_count": null,
   "id": "183dab55-abc3-46f0-922d-c8b198c983ce",
   "metadata": {},
   "outputs": [],
   "source": []
  },
  {
   "cell_type": "code",
   "execution_count": null,
   "id": "44868d00-477f-4f7d-96d8-4b09556efa0b",
   "metadata": {},
   "outputs": [],
   "source": []
  },
  {
   "cell_type": "markdown",
   "id": "69a4249a-04cf-49cf-975a-fc52d3186d03",
   "metadata": {
    "tags": []
   },
   "source": [
    "#### 对现有数据拷贝软连接"
   ]
  },
  {
   "cell_type": "code",
   "execution_count": 11,
   "id": "85e2dd7f-5892-4980-a11e-39b7ae001ccd",
   "metadata": {},
   "outputs": [],
   "source": [
    "folder_name = 'hwpedia'"
   ]
  },
  {
   "cell_type": "code",
   "execution_count": 12,
   "id": "efa821ec-840a-4f61-bcbe-64fb7358dd69",
   "metadata": {},
   "outputs": [
    {
     "data": {
      "text/plain": [
       "78940"
      ]
     },
     "execution_count": 12,
     "metadata": {},
     "output_type": "execute_result"
    }
   ],
   "source": [
    "img_list = glob.glob(f'/home/chenyi/workspace/yolov5/datasets/{folder_name}/images/*/*')\n",
    "len(img_list)"
   ]
  },
  {
   "cell_type": "code",
   "execution_count": 13,
   "id": "c9b7b829-ffdb-41ca-9be3-3d643557acbe",
   "metadata": {},
   "outputs": [
    {
     "data": {
      "text/plain": [
       "78940"
      ]
     },
     "execution_count": 13,
     "metadata": {},
     "output_type": "execute_result"
    }
   ],
   "source": [
    "label_list = glob.glob(f'/home/chenyi/workspace/yolov5/datasets/{folder_name}/labels/*/*')\n",
    "len(label_list)"
   ]
  },
  {
   "cell_type": "code",
   "execution_count": null,
   "id": "0ca14300-f1be-4083-8ac8-5f407be89c1c",
   "metadata": {},
   "outputs": [],
   "source": []
  },
  {
   "cell_type": "markdown",
   "id": "317cfa87-0cb4-4365-aaf0-8b6470088504",
   "metadata": {
    "jp-MarkdownHeadingCollapsed": true,
    "tags": []
   },
   "source": [
    "##### 现有数据"
   ]
  },
  {
   "cell_type": "code",
   "execution_count": 16,
   "id": "ab32f3d2-1163-4725-974b-023ff99755f5",
   "metadata": {},
   "outputs": [],
   "source": [
    "img_t_list = [p.replace('hw_pedia_true', 'dadet100kv1') for p in img_list]\n",
    "label_t_list = [p.replace('hw_pedia_true', 'dadet100kv1') for p in label_list]"
   ]
  },
  {
   "cell_type": "code",
   "execution_count": 19,
   "id": "bf279c74-6b31-4b2c-a9f7-85f1b70f9c66",
   "metadata": {},
   "outputs": [],
   "source": []
  },
  {
   "cell_type": "code",
   "execution_count": 22,
   "id": "df474520-3da5-4487-b2bd-504c3954a1f9",
   "metadata": {},
   "outputs": [],
   "source": [
    "df = pd.DataFrame()\n",
    "df['img_sp'] = img_list\n",
    "df['label_sp'] = label_list\n",
    "df['img_tp'] = img_t_list\n",
    "df['label_tp'] = label_t_list"
   ]
  },
  {
   "cell_type": "code",
   "execution_count": null,
   "id": "75be2a61-0d80-4654-b44e-28492a50fa57",
   "metadata": {},
   "outputs": [],
   "source": []
  },
  {
   "cell_type": "code",
   "execution_count": 30,
   "id": "60dcc8f9-fabe-43fb-8c32-af3df80bcb03",
   "metadata": {},
   "outputs": [
    {
     "data": {
      "text/html": [
       "<div>\n",
       "<style scoped>\n",
       "    .dataframe tbody tr th:only-of-type {\n",
       "        vertical-align: middle;\n",
       "    }\n",
       "\n",
       "    .dataframe tbody tr th {\n",
       "        vertical-align: top;\n",
       "    }\n",
       "\n",
       "    .dataframe thead th {\n",
       "        text-align: right;\n",
       "    }\n",
       "</style>\n",
       "<table border=\"1\" class=\"dataframe\">\n",
       "  <thead>\n",
       "    <tr style=\"text-align: right;\">\n",
       "      <th></th>\n",
       "      <th>img_sp</th>\n",
       "      <th>label_sp</th>\n",
       "      <th>label_tp</th>\n",
       "      <th>img_tp</th>\n",
       "    </tr>\n",
       "  </thead>\n",
       "  <tbody>\n",
       "    <tr>\n",
       "      <th>0</th>\n",
       "      <td>/home/chenyi/workspace/yolov5/datasets/hwpedia...</td>\n",
       "      <td>/home/chenyi/workspace/yolov5/datasets/hwpedia...</td>\n",
       "      <td>/home/chenyi/workspace/yolox/datasets/hwpedia/...</td>\n",
       "      <td>/home/chenyi/workspace/yolox/datasets/hwpedia/...</td>\n",
       "    </tr>\n",
       "    <tr>\n",
       "      <th>1</th>\n",
       "      <td>/home/chenyi/workspace/yolov5/datasets/hwpedia...</td>\n",
       "      <td>/home/chenyi/workspace/yolov5/datasets/hwpedia...</td>\n",
       "      <td>/home/chenyi/workspace/yolox/datasets/hwpedia/...</td>\n",
       "      <td>/home/chenyi/workspace/yolox/datasets/hwpedia/...</td>\n",
       "    </tr>\n",
       "  </tbody>\n",
       "</table>\n",
       "</div>"
      ],
      "text/plain": [
       "                                              img_sp  \\\n",
       "0  /home/chenyi/workspace/yolov5/datasets/hwpedia...   \n",
       "1  /home/chenyi/workspace/yolov5/datasets/hwpedia...   \n",
       "\n",
       "                                            label_sp  \\\n",
       "0  /home/chenyi/workspace/yolov5/datasets/hwpedia...   \n",
       "1  /home/chenyi/workspace/yolov5/datasets/hwpedia...   \n",
       "\n",
       "                                            label_tp  \\\n",
       "0  /home/chenyi/workspace/yolox/datasets/hwpedia/...   \n",
       "1  /home/chenyi/workspace/yolox/datasets/hwpedia/...   \n",
       "\n",
       "                                              img_tp  \n",
       "0  /home/chenyi/workspace/yolox/datasets/hwpedia/...  \n",
       "1  /home/chenyi/workspace/yolox/datasets/hwpedia/...  "
      ]
     },
     "execution_count": 30,
     "metadata": {},
     "output_type": "execute_result"
    }
   ],
   "source": [
    "slink_df.head(2)"
   ]
  },
  {
   "cell_type": "code",
   "execution_count": null,
   "id": "26f477b6-d3cb-405d-a7d8-10b92a9fdc0c",
   "metadata": {},
   "outputs": [],
   "source": []
  },
  {
   "cell_type": "code",
   "execution_count": null,
   "id": "ee45b713-15f3-40b5-a4ac-3ca2b1d32ed5",
   "metadata": {},
   "outputs": [],
   "source": []
  },
  {
   "cell_type": "code",
   "execution_count": null,
   "id": "f8c60f77-15d1-4ddb-95bc-22d539af37c5",
   "metadata": {},
   "outputs": [],
   "source": []
  },
  {
   "cell_type": "markdown",
   "id": "375343b7-490e-4a8f-96f0-27db526e024a",
   "metadata": {
    "jp-MarkdownHeadingCollapsed": true,
    "tags": []
   },
   "source": [
    "##### yolox voc"
   ]
  },
  {
   "cell_type": "code",
   "execution_count": 63,
   "id": "f3f38c3a-fbe2-4eb2-892c-f36bcd447a66",
   "metadata": {},
   "outputs": [],
   "source": [
    "save_root = Path(f'/home/chenyi/workspace/yolox/datasets/{folder_name}')\n",
    "names = ['JPEGImages', 'Annotations', 'ImageSets', 'labels']"
   ]
  },
  {
   "cell_type": "code",
   "execution_count": 64,
   "id": "660de37f-3815-4cc1-b373-5cd8103f94eb",
   "metadata": {},
   "outputs": [],
   "source": [
    "picPath = save_root /names[0]\n",
    "xmlPath = save_root /names[1]\n",
    "train_val_path = save_root /names[2]\n",
    "txtPath = save_root /names[3]"
   ]
  },
  {
   "cell_type": "code",
   "execution_count": 65,
   "id": "ebb5a8e4-3273-4f0a-9a62-6511b14291f4",
   "metadata": {},
   "outputs": [],
   "source": [
    "slink_df = pd.DataFrame()\n",
    "slink_df['img_sp'] = img_list\n",
    "slink_df['label_sp'] = label_list"
   ]
  },
  {
   "cell_type": "code",
   "execution_count": 66,
   "id": "3cfcb7c2-24ba-4e2a-ab11-186e6024a936",
   "metadata": {
    "tags": []
   },
   "outputs": [],
   "source": [
    "slink_df['label_tp'] = slink_df['label_sp'].apply(lambda x: txtPath / Path(x).name)"
   ]
  },
  {
   "cell_type": "code",
   "execution_count": 67,
   "id": "07514f77-2dd2-42c7-915a-b95d8325a359",
   "metadata": {},
   "outputs": [],
   "source": [
    "slink_df['img_tp'] = slink_df['img_sp'].apply(lambda x: picPath /Path(x).name)"
   ]
  },
  {
   "cell_type": "code",
   "execution_count": 26,
   "id": "d23d743d-9fa3-45bd-af2d-75ccbe562837",
   "metadata": {},
   "outputs": [
    {
     "data": {
      "text/plain": [
       "array([['/home/chenyi/workspace/yolov5/datasets/hwpedia/images/train/20140305213907823.jpg',\n",
       "        '/home/chenyi/workspace/yolov5/datasets/hwpedia/labels/train/551df69f15ca760f19dd6f40bfda2aa7.txt',\n",
       "        PosixPath('/home/chenyi/workspace/yolox/datasets/hwpedia/labels/551df69f15ca760f19dd6f40bfda2aa7.txt'),\n",
       "        PosixPath('/home/chenyi/workspace/yolox/datasets/hwpedia/JPEGImages/20140305213907823.jpg')]],\n",
       "      dtype=object)"
      ]
     },
     "execution_count": 26,
     "metadata": {},
     "output_type": "execute_result"
    }
   ],
   "source": [
    "slink_df.head(1).values"
   ]
  },
  {
   "cell_type": "code",
   "execution_count": null,
   "id": "a4f8b329-ccd4-4b87-9c5c-b26932a3fdff",
   "metadata": {},
   "outputs": [],
   "source": []
  },
  {
   "cell_type": "code",
   "execution_count": null,
   "id": "ed913445-4751-4fa2-8d1b-9bef9e3d428d",
   "metadata": {},
   "outputs": [],
   "source": []
  },
  {
   "cell_type": "code",
   "execution_count": 28,
   "id": "94e3062a-7eb5-4a4a-baf2-6fdb401b06c6",
   "metadata": {},
   "outputs": [
    {
     "name": "stdout",
     "output_type": "stream",
     "text": [
      "CPU times: user 3.15 s, sys: 1.62 s, total: 4.78 s\n",
      "Wall time: 5 s\n"
     ]
    }
   ],
   "source": [
    "%%time\n",
    "for p in slink_df['label_tp'].values:\n",
    "    if Path(p).is_symlink():\n",
    "        Path(p).unlink()\n",
    "_ = slink_df.apply(lambda row: Path.symlink_to(Path(row['label_tp']), Path(row['label_sp'])), axis=1)\n",
    "# _ = slink_df.apply(lambda row: os.symlink(str(row['label_sp']), str(row['label_tp'])), axis=1)"
   ]
  },
  {
   "cell_type": "code",
   "execution_count": 29,
   "id": "0968cd63-d6ec-4161-b184-4b319b8b0db1",
   "metadata": {},
   "outputs": [
    {
     "name": "stdout",
     "output_type": "stream",
     "text": [
      "CPU times: user 2.96 s, sys: 1.49 s, total: 4.45 s\n",
      "Wall time: 4.88 s\n"
     ]
    }
   ],
   "source": [
    "%%time\n",
    "for p in slink_df['img_tp'].values:\n",
    "    if Path(p).is_symlink():\n",
    "        Path(p).unlink()\n",
    "_ = slink_df.apply(lambda row: Path.symlink_to(Path(row['img_tp']), Path(row['img_sp'])), axis=1)"
   ]
  },
  {
   "cell_type": "code",
   "execution_count": null,
   "id": "c4cdb199-1f16-4321-8ef6-5c19e530ef77",
   "metadata": {},
   "outputs": [],
   "source": []
  },
  {
   "cell_type": "markdown",
   "id": "57f5b059-4706-4b5a-b469-1631ac72573c",
   "metadata": {
    "jp-MarkdownHeadingCollapsed": true,
    "tags": []
   },
   "source": [
    "##### yolox voc train val set"
   ]
  },
  {
   "cell_type": "code",
   "execution_count": 32,
   "id": "e4b8c20f-c01a-4de9-a766-716dcf745f8f",
   "metadata": {},
   "outputs": [
    {
     "data": {
      "text/plain": [
       "78940"
      ]
     },
     "execution_count": 32,
     "metadata": {},
     "output_type": "execute_result"
    }
   ],
   "source": [
    "len(slink_df)"
   ]
  },
  {
   "cell_type": "code",
   "execution_count": 39,
   "id": "051f3d59-f431-48dd-af88-fd69972a5999",
   "metadata": {},
   "outputs": [
    {
     "data": {
      "text/plain": [
       "array([['/home/chenyi/workspace/yolov5/datasets/hwpedia/images/train/20140305213907823.jpg',\n",
       "        '/home/chenyi/workspace/yolov5/datasets/hwpedia/labels/train/551df69f15ca760f19dd6f40bfda2aa7.txt',\n",
       "        PosixPath('/home/chenyi/workspace/yolox/datasets/hwpedia/labels/551df69f15ca760f19dd6f40bfda2aa7.txt'),\n",
       "        PosixPath('/home/chenyi/workspace/yolox/datasets/hwpedia/JPEGImages/20140305213907823.jpg'),\n",
       "        'train']], dtype=object)"
      ]
     },
     "execution_count": 39,
     "metadata": {},
     "output_type": "execute_result"
    }
   ],
   "source": [
    "slink_df.head(1).values"
   ]
  },
  {
   "cell_type": "code",
   "execution_count": 69,
   "id": "2368c4cf-663f-4921-9e37-512fdc80d787",
   "metadata": {},
   "outputs": [],
   "source": [
    "slink_df['mode'] = slink_df['label_sp'].apply(lambda x: Path(x).parts[-2])"
   ]
  },
  {
   "cell_type": "code",
   "execution_count": 70,
   "id": "896fee1f-f7a8-4273-b30b-e58f18dd0ae7",
   "metadata": {},
   "outputs": [],
   "source": [
    "slink_df['stem'] = slink_df['label_sp'].apply(lambda x: Path(x).stem)"
   ]
  },
  {
   "cell_type": "code",
   "execution_count": 71,
   "id": "4725273e-ce50-4058-95b0-31e2526ab32d",
   "metadata": {},
   "outputs": [
    {
     "name": "stdout",
     "output_type": "stream",
     "text": [
      "ls: cannot access '/home/chenyi/workspace/yolox/datasets/hwpedia/ImageSets/train.txt': No such file or directory\n"
     ]
    }
   ],
   "source": [
    "!ls $train_val_path/train.txt"
   ]
  },
  {
   "cell_type": "code",
   "execution_count": 73,
   "id": "0f49529d-5a37-464b-b6ab-5cde3feec5e2",
   "metadata": {},
   "outputs": [],
   "source": [
    "stem_list = ['20150720135713768', '20150720133904463', '20150720134705403']\n",
    "slink_df = slink_df[~slink_df['stem'].isin(stem_list)]"
   ]
  },
  {
   "cell_type": "code",
   "execution_count": 76,
   "id": "9c6687d1-f4d5-4449-afa9-6f575f9785f9",
   "metadata": {},
   "outputs": [],
   "source": [
    "train_df = slink_df[slink_df['mode']=='train']['stem']"
   ]
  },
  {
   "cell_type": "code",
   "execution_count": 77,
   "id": "6c5fc6ed-a3b9-4955-83d4-59f47dd70e75",
   "metadata": {},
   "outputs": [
    {
     "name": "stderr",
     "output_type": "stream",
     "text": [
      "100%|███████████████████████████████████████████████████████████████| 68219/68219 [00:00<00:00, 124250.43it/s]\n"
     ]
    }
   ],
   "source": [
    "with open(train_val_path /'train.txt', 'a+') as f:\n",
    "    for line in tqdm(train_df.values):\n",
    "        f.writelines(line+'\\n')\n",
    "        # break"
   ]
  },
  {
   "cell_type": "code",
   "execution_count": null,
   "id": "f8af824e-d072-4a7d-ac1f-2fff52e2fd02",
   "metadata": {},
   "outputs": [],
   "source": []
  },
  {
   "cell_type": "code",
   "execution_count": null,
   "id": "e0d6dd62-b84d-4295-ae9e-a510620b94f8",
   "metadata": {},
   "outputs": [],
   "source": []
  },
  {
   "cell_type": "markdown",
   "id": "b0a94d43-8270-48ba-9a45-eb6d56dee4cc",
   "metadata": {
    "jp-MarkdownHeadingCollapsed": true,
    "tags": []
   },
   "source": [
    "##### 软连接\n"
   ]
  },
  {
   "cell_type": "code",
   "execution_count": 90,
   "id": "bac5c320-bb01-4e9a-8af3-1debe4c06d1d",
   "metadata": {},
   "outputs": [],
   "source": [
    "slink_df = pd.DataFrame()\n",
    "drop_df = df.drop_duplicates('img_sp')\n",
    "slink_df['img_sp'] = drop_df['img_sp']\n",
    "slink_df['label_sp'] = drop_df['label_tp']"
   ]
  },
  {
   "cell_type": "code",
   "execution_count": null,
   "id": "e2925433-c33c-4fab-afb0-c7e5b2acd02b",
   "metadata": {},
   "outputs": [],
   "source": []
  },
  {
   "cell_type": "code",
   "execution_count": 94,
   "id": "19c3d3e2-a947-4072-9229-83ac2699ed02",
   "metadata": {},
   "outputs": [],
   "source": [
    "troot = Path('/home/chenyi/workspace/yolov5/datasets/dadet100kv1/')"
   ]
  },
  {
   "cell_type": "code",
   "execution_count": 95,
   "id": "29e2fef9-bb6c-4b0c-90ec-ca02e590d4b9",
   "metadata": {},
   "outputs": [],
   "source": [
    "slink_df['label_tp'] = slink_df['label_sp'].apply(lambda x: troot /'labels' /Path(x).parts[-2] /Path(x).parts[-1])"
   ]
  },
  {
   "cell_type": "code",
   "execution_count": 96,
   "id": "0aafdd3b-f86c-4efd-8761-2be9521fdb48",
   "metadata": {},
   "outputs": [],
   "source": [
    "slink_df['img_tp'] = slink_df['label_sp'].apply(lambda x: troot /'images' /Path(x).parts[-2] /Path(x).parts[-1])\n",
    "slink_df['img_tp'] = slink_df['img_tp'].apply(lambda x: x.with_suffix('.jpg'))"
   ]
  },
  {
   "cell_type": "code",
   "execution_count": null,
   "id": "d5a6dc1e-1910-42ab-9b9a-c67b8c3feb68",
   "metadata": {},
   "outputs": [],
   "source": []
  },
  {
   "cell_type": "code",
   "execution_count": 100,
   "id": "78343685-b1a7-4c41-8cb2-05dbd1b8ae5d",
   "metadata": {},
   "outputs": [],
   "source": [
    "slink_df.to_csv('./data/shoeBag5k0515/shoeBag0515_slink_df.csv', index=False)"
   ]
  },
  {
   "cell_type": "code",
   "execution_count": null,
   "id": "3db94b75-23ab-4eb8-9aa9-67c1b55eadd6",
   "metadata": {},
   "outputs": [],
   "source": []
  }
 ],
 "metadata": {
  "kernelspec": {
   "display_name": "Python 3 (ipykernel)",
   "language": "python",
   "name": "python3"
  },
  "language_info": {
   "codemirror_mode": {
    "name": "ipython",
    "version": 3
   },
   "file_extension": ".py",
   "mimetype": "text/x-python",
   "name": "python",
   "nbconvert_exporter": "python",
   "pygments_lexer": "ipython3",
   "version": "3.8.13"
  }
 },
 "nbformat": 4,
 "nbformat_minor": 5
}
