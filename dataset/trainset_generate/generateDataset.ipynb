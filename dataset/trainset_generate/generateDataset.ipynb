{
 "cells": [
  {
   "cell_type": "code",
   "execution_count": 4,
   "id": "965f48f1-99e7-49f5-a091-4d5f05a888f1",
   "metadata": {},
   "outputs": [],
   "source": [
    "import numpy as np\n",
    "import pandas as pd\n",
    "import glob\n",
    "import sys,os"
   ]
  },
  {
   "cell_type": "code",
   "execution_count": 5,
   "id": "59cb6ecd-1684-449f-af66-47030f806724",
   "metadata": {},
   "outputs": [],
   "source": [
    "from PIL import Image\n",
    "import cv2\n",
    "# import matplotlib.pyplot as plt"
   ]
  },
  {
   "cell_type": "code",
   "execution_count": 6,
   "id": "ca4f84b4-1181-46d2-b76b-4ebee47a3c21",
   "metadata": {},
   "outputs": [],
   "source": [
    "# import json\n",
    "# import pickle\n",
    "import re\n",
    "from tqdm import tqdm\n",
    "from pathlib import Path"
   ]
  },
  {
   "cell_type": "code",
   "execution_count": null,
   "id": "c905b1d5-b3eb-4b34-bf95-7bbb75a5d337",
   "metadata": {},
   "outputs": [],
   "source": []
  },
  {
   "cell_type": "code",
   "execution_count": null,
   "id": "7a829f7f-5463-4b41-b869-5f96708c84f2",
   "metadata": {},
   "outputs": [],
   "source": []
  },
  {
   "cell_type": "markdown",
   "id": "7ef16afd-d8b3-45d3-bc2e-4e3ba09c0023",
   "metadata": {
    "jp-MarkdownHeadingCollapsed": true,
    "tags": []
   },
   "source": [
    "### 0.API"
   ]
  },
  {
   "cell_type": "code",
   "execution_count": 34,
   "id": "71d019b3-5cae-4d16-b06f-f88c1acc6ccd",
   "metadata": {},
   "outputs": [],
   "source": [
    "id_standard_df = pd.read_csv('/nas/chenyi/datasets_nas/labelMap/standard/id2class99_chenyi.csv')\n",
    "id_use_df = id_standard_df[id_standard_df['use']>=0]"
   ]
  },
  {
   "cell_type": "code",
   "execution_count": 91,
   "id": "d77e8c86-5dd4-4b2a-adb5-d72a66a03621",
   "metadata": {},
   "outputs": [],
   "source": [
    "shbg_map = pd.read_excel('./dada_det/data/shoe_bag11k_map.xlsx')"
   ]
  },
  {
   "cell_type": "code",
   "execution_count": 13,
   "id": "2912733f-8748-4d04-9b9c-678e8ca6a64a",
   "metadata": {},
   "outputs": [],
   "source": [
    "# with open('./data/haowei34k_map_stand.json', 'w') as f:\n",
    "#     json.dump(hw2stand, f)"
   ]
  },
  {
   "cell_type": "code",
   "execution_count": null,
   "id": "bcac885b-3169-4193-a770-c924123744df",
   "metadata": {},
   "outputs": [],
   "source": []
  },
  {
   "cell_type": "code",
   "execution_count": 7,
   "id": "ddca4f12-25d6-43c5-ad9a-f05117e7e839",
   "metadata": {},
   "outputs": [],
   "source": [
    "def get_list2dict(k_list, v_list):\n",
    "    d = {}\n",
    "    for item in zip(k_list, v_list):\n",
    "        d[item[0]] = item[1]\n",
    "    return d"
   ]
  },
  {
   "cell_type": "code",
   "execution_count": 8,
   "id": "84c6b63f-ed24-45ac-ac02-0fdcf68980b2",
   "metadata": {},
   "outputs": [],
   "source": [
    "model_label_map = {\n",
    "    0: 10,  # 鞋子\n",
    "    1: 8,  # 包包\n",
    "    2: 4,  # 上装\n",
    "    3: 5,  # 裤子\n",
    "    4: 6,  # 裙子\n",
    "    5: 7,  # 连体装\n",
    "}"
   ]
  },
  {
   "cell_type": "code",
   "execution_count": null,
   "id": "19fdbf71-a7f4-4b0b-802d-e5235f308327",
   "metadata": {},
   "outputs": [],
   "source": []
  },
  {
   "cell_type": "code",
   "execution_count": 17,
   "id": "7db49836-ff79-4792-b18c-da59a1131162",
   "metadata": {},
   "outputs": [],
   "source": [
    "l2_map_l1 = get_list2dict( id_use_df['label99'].values, id_use_df['label_l1'].values)"
   ]
  },
  {
   "cell_type": "code",
   "execution_count": 18,
   "id": "11f95050-6947-46fa-954c-a06b5aa762e6",
   "metadata": {},
   "outputs": [],
   "source": [
    "id2chi_l2 = get_list2dict(id_use_df['label2_chi'].values, id_use_df['label99'].values)"
   ]
  },
  {
   "cell_type": "code",
   "execution_count": 19,
   "id": "f70934c2-7133-48d9-b790-f365259e6474",
   "metadata": {},
   "outputs": [],
   "source": [
    "id2eng_l2 = get_list2dict(id_use_df['label99'].values, id_use_df['label2_eng'].values)"
   ]
  },
  {
   "cell_type": "code",
   "execution_count": 20,
   "id": "142c1662-9ae3-4ead-a037-3c7191273b4d",
   "metadata": {},
   "outputs": [],
   "source": [
    "id2chi_l1 = get_list2dict(id_use_df['label_l1'].values, id_use_df['label1_chi'].values)"
   ]
  },
  {
   "cell_type": "code",
   "execution_count": 21,
   "id": "ef28a99f-05e7-422b-a8f3-cc9afa50725c",
   "metadata": {},
   "outputs": [],
   "source": [
    "id2eng_l1 = get_list2dict(id_use_df['label_l1'].values, id_use_df['label1_eng'].values)"
   ]
  },
  {
   "cell_type": "code",
   "execution_count": 22,
   "id": "b74e9691-15cc-44c3-bd67-66707045c4be",
   "metadata": {},
   "outputs": [],
   "source": [
    "id2model_l1 = get_list2dict(model_label_map.values(), model_label_map.keys())"
   ]
  },
  {
   "cell_type": "code",
   "execution_count": 92,
   "id": "49578413-5437-4512-ada5-56b78391d019",
   "metadata": {},
   "outputs": [],
   "source": [
    "shbg_map_dict = get_list2dict(shbg_map[shbg_map.columns[0]], shbg_map[shbg_map.columns[1]])"
   ]
  },
  {
   "cell_type": "code",
   "execution_count": null,
   "id": "6c2f791f-6f66-4d91-bf8c-53a511c2306a",
   "metadata": {},
   "outputs": [],
   "source": []
  },
  {
   "cell_type": "code",
   "execution_count": null,
   "id": "593b7be3-30b9-4ad9-b295-b5c8c504ee39",
   "metadata": {},
   "outputs": [],
   "source": []
  },
  {
   "cell_type": "markdown",
   "id": "1354d993-c902-4efa-b5a0-4c9bc0bdfede",
   "metadata": {
    "tags": []
   },
   "source": [
    "### 1.Dataset Information."
   ]
  },
  {
   "cell_type": "code",
   "execution_count": 9,
   "id": "dfabf741-45a6-42ba-b372-b323e7c7beef",
   "metadata": {},
   "outputs": [
    {
     "name": "stdout",
     "output_type": "stream",
     "text": [
      "\u001b[01;34m/home/chenyi/workspace/yolov5/datasets/\u001b[00m\n",
      "├── \u001b[01;34mcoco128\u001b[00m\n",
      "├── \u001b[01;34mdadet100kv2\u001b[00m\n",
      "├── \u001b[01;34mdadet100kv3_june\u001b[00m\n",
      "├── \u001b[01;34mdadet100kv4_1_june\u001b[00m\n",
      "├── \u001b[01;34mdadet100kv4_june\u001b[00m\n",
      "├── \u001b[01;34mdeepedia\u001b[00m\n",
      "├── \u001b[01;34mdeepedia_catg6\u001b[00m\n",
      "├── \u001b[01;34mdeepedia_catg8\u001b[00m\n",
      "├── \u001b[01;34mhaowei_bag_shoe\u001b[00m\n",
      "├── \u001b[01;34mhwpedia\u001b[00m\n",
      "├── \u001b[01;34mhwpedia80k\u001b[00m\n",
      "├── \u001b[01;34mtuneGallery10k\u001b[00m\n",
      "├── \u001b[01;34mtuneGallery5k\u001b[00m\n",
      "├── \u001b[01;34mtuneQuery10k\u001b[00m\n",
      "└── \u001b[01;34mvalidation_all\u001b[00m\n",
      "\n",
      "15 directories\n"
     ]
    }
   ],
   "source": [
    "# 训练路径.\n",
    "!tree -d -L 1 /home/chenyi/workspace/yolov5/datasets/"
   ]
  },
  {
   "cell_type": "code",
   "execution_count": null,
   "id": "ac02e49d-f3ca-40a1-9c3f-bb5c3cc801ff",
   "metadata": {},
   "outputs": [
    {
     "name": "stdout",
     "output_type": "stream",
     "text": [
      "\u001b[01;34m/home/chenyi/workspace/yolov5/datasets/hwpedia80k\u001b[00m\n",
      "├── \u001b[01;34mimages\u001b[00m\n",
      "│   ├── \u001b[01;34mtrain\u001b[00m\n",
      "│   └── \u001b[01;34mval\u001b[00m\n",
      "└── \u001b[01;34mlabels\u001b[00m\n",
      "    ├── \u001b[01;34mtrain\u001b[00m\n",
      "    └── \u001b[01;34mval\u001b[00m\n",
      "\n",
      "6 directories\n"
     ]
    }
   ],
   "source": [
    "# 图片路径.\n",
    "!tree -d -L 2 /home/chenyi/workspace/dataset/data/dada_det/"
   ]
  },
  {
   "cell_type": "code",
   "execution_count": null,
   "id": "cc393a10-833b-4b58-ba9a-0e69144a2007",
   "metadata": {},
   "outputs": [],
   "source": []
  },
  {
   "cell_type": "code",
   "execution_count": null,
   "id": "a780e76e-5dbb-4bc1-bbf9-3923bd5b09da",
   "metadata": {
    "tags": []
   },
   "outputs": [],
   "source": []
  },
  {
   "cell_type": "markdown",
   "id": "69334bed-a545-4cfd-b00c-a6a44aac3ef3",
   "metadata": {
    "jp-MarkdownHeadingCollapsed": true,
    "tags": []
   },
   "source": [
    "### 2.统计数据集"
   ]
  },
  {
   "cell_type": "code",
   "execution_count": null,
   "id": "19c1321f-1fb6-44eb-9f60-c51720238a9f",
   "metadata": {},
   "outputs": [],
   "source": [
    "df = dada_sb_df[dada_sb_df['label_model']>=0]"
   ]
  },
  {
   "cell_type": "code",
   "execution_count": null,
   "id": "578a2a82-9b3e-44cc-b4f4-3e0ff57d7709",
   "metadata": {},
   "outputs": [
    {
     "data": {
      "text/html": [
       "<div>\n",
       "<style scoped>\n",
       "    .dataframe tbody tr th:only-of-type {\n",
       "        vertical-align: middle;\n",
       "    }\n",
       "\n",
       "    .dataframe tbody tr th {\n",
       "        vertical-align: top;\n",
       "    }\n",
       "\n",
       "    .dataframe thead th {\n",
       "        text-align: right;\n",
       "    }\n",
       "</style>\n",
       "<table border=\"1\" class=\"dataframe\">\n",
       "  <thead>\n",
       "    <tr style=\"text-align: right;\">\n",
       "      <th></th>\n",
       "      <th>1</th>\n",
       "      <th>2</th>\n",
       "      <th>4</th>\n",
       "      <th>5</th>\n",
       "      <th>6</th>\n",
       "      <th>7</th>\n",
       "      <th>label_model</th>\n",
       "    </tr>\n",
       "  </thead>\n",
       "  <tbody>\n",
       "    <tr>\n",
       "      <th>count</th>\n",
       "      <td>14119.000000</td>\n",
       "      <td>14119.000000</td>\n",
       "      <td>14119.000000</td>\n",
       "      <td>14119.000000</td>\n",
       "      <td>14119.000000</td>\n",
       "      <td>14119.000000</td>\n",
       "      <td>14119.000000</td>\n",
       "    </tr>\n",
       "    <tr>\n",
       "      <th>mean</th>\n",
       "      <td>1555.057228</td>\n",
       "      <td>1786.059069</td>\n",
       "      <td>290.286989</td>\n",
       "      <td>391.856364</td>\n",
       "      <td>1255.860967</td>\n",
       "      <td>1391.431546</td>\n",
       "      <td>0.404349</td>\n",
       "    </tr>\n",
       "    <tr>\n",
       "      <th>std</th>\n",
       "      <td>1016.166383</td>\n",
       "      <td>1127.583063</td>\n",
       "      <td>324.846913</td>\n",
       "      <td>393.565724</td>\n",
       "      <td>898.908348</td>\n",
       "      <td>941.415005</td>\n",
       "      <td>0.591684</td>\n",
       "    </tr>\n",
       "    <tr>\n",
       "      <th>min</th>\n",
       "      <td>450.000000</td>\n",
       "      <td>383.000000</td>\n",
       "      <td>1.000000</td>\n",
       "      <td>1.000000</td>\n",
       "      <td>52.000000</td>\n",
       "      <td>99.000000</td>\n",
       "      <td>0.000000</td>\n",
       "    </tr>\n",
       "    <tr>\n",
       "      <th>25%</th>\n",
       "      <td>800.000000</td>\n",
       "      <td>800.000000</td>\n",
       "      <td>71.000000</td>\n",
       "      <td>119.000000</td>\n",
       "      <td>624.000000</td>\n",
       "      <td>690.000000</td>\n",
       "      <td>0.000000</td>\n",
       "    </tr>\n",
       "    <tr>\n",
       "      <th>50%</th>\n",
       "      <td>1080.000000</td>\n",
       "      <td>1350.000000</td>\n",
       "      <td>184.000000</td>\n",
       "      <td>268.000000</td>\n",
       "      <td>858.000000</td>\n",
       "      <td>1009.000000</td>\n",
       "      <td>0.000000</td>\n",
       "    </tr>\n",
       "    <tr>\n",
       "      <th>75%</th>\n",
       "      <td>2448.000000</td>\n",
       "      <td>2880.000000</td>\n",
       "      <td>390.000000</td>\n",
       "      <td>530.000000</td>\n",
       "      <td>1892.500000</td>\n",
       "      <td>2064.000000</td>\n",
       "      <td>1.000000</td>\n",
       "    </tr>\n",
       "    <tr>\n",
       "      <th>max</th>\n",
       "      <td>6000.000000</td>\n",
       "      <td>4860.000000</td>\n",
       "      <td>2448.000000</td>\n",
       "      <td>3490.000000</td>\n",
       "      <td>5180.000000</td>\n",
       "      <td>4630.000000</td>\n",
       "      <td>5.000000</td>\n",
       "    </tr>\n",
       "  </tbody>\n",
       "</table>\n",
       "</div>"
      ],
      "text/plain": [
       "                  1             2             4             5             6  \\\n",
       "count  14119.000000  14119.000000  14119.000000  14119.000000  14119.000000   \n",
       "mean    1555.057228   1786.059069    290.286989    391.856364   1255.860967   \n",
       "std     1016.166383   1127.583063    324.846913    393.565724    898.908348   \n",
       "min      450.000000    383.000000      1.000000      1.000000     52.000000   \n",
       "25%      800.000000    800.000000     71.000000    119.000000    624.000000   \n",
       "50%     1080.000000   1350.000000    184.000000    268.000000    858.000000   \n",
       "75%     2448.000000   2880.000000    390.000000    530.000000   1892.500000   \n",
       "max     6000.000000   4860.000000   2448.000000   3490.000000   5180.000000   \n",
       "\n",
       "                  7   label_model  \n",
       "count  14119.000000  14119.000000  \n",
       "mean    1391.431546      0.404349  \n",
       "std      941.415005      0.591684  \n",
       "min       99.000000      0.000000  \n",
       "25%      690.000000      0.000000  \n",
       "50%     1009.000000      0.000000  \n",
       "75%     2064.000000      1.000000  \n",
       "max     4630.000000      5.000000  "
      ]
     },
     "execution_count": 99,
     "metadata": {},
     "output_type": "execute_result"
    }
   ],
   "source": [
    "df.describe()"
   ]
  },
  {
   "cell_type": "code",
   "execution_count": null,
   "id": "09359bd1-92ed-42f1-b42f-d7e8e5b8e1ca",
   "metadata": {},
   "outputs": [],
   "source": []
  },
  {
   "cell_type": "markdown",
   "id": "d230ef38-2cfc-4c6d-b7bf-5fdc57710399",
   "metadata": {
    "jp-MarkdownHeadingCollapsed": true,
    "tags": []
   },
   "source": [
    "#### 二级标签"
   ]
  },
  {
   "cell_type": "code",
   "execution_count": null,
   "id": "96d21617-f6df-47fc-ac60-4f6053816c85",
   "metadata": {},
   "outputs": [
    {
     "data": {
      "text/html": [
       "<div>\n",
       "<style scoped>\n",
       "    .dataframe tbody tr th:only-of-type {\n",
       "        vertical-align: middle;\n",
       "    }\n",
       "\n",
       "    .dataframe tbody tr th {\n",
       "        vertical-align: top;\n",
       "    }\n",
       "\n",
       "    .dataframe thead th {\n",
       "        text-align: right;\n",
       "    }\n",
       "</style>\n",
       "<table border=\"1\" class=\"dataframe\">\n",
       "  <thead>\n",
       "    <tr style=\"text-align: right;\">\n",
       "      <th></th>\n",
       "      <th>0</th>\n",
       "      <th>1</th>\n",
       "      <th>2</th>\n",
       "      <th>3</th>\n",
       "      <th>4</th>\n",
       "      <th>5</th>\n",
       "      <th>6</th>\n",
       "      <th>7</th>\n",
       "      <th>img_sp</th>\n",
       "      <th>label_model</th>\n",
       "    </tr>\n",
       "  </thead>\n",
       "  <tbody>\n",
       "    <tr>\n",
       "      <th>0</th>\n",
       "      <td>/nas/chenyi/datasets_nas/dada_labelme/labelme_...</td>\n",
       "      <td>3024</td>\n",
       "      <td>4032</td>\n",
       "      <td>包</td>\n",
       "      <td>685</td>\n",
       "      <td>719</td>\n",
       "      <td>2231</td>\n",
       "      <td>3806</td>\n",
       "      <td>/home/chenyi/workspace/dataset/data/dada_det/s...</td>\n",
       "      <td>1</td>\n",
       "    </tr>\n",
       "    <tr>\n",
       "      <th>1</th>\n",
       "      <td>/nas/chenyi/datasets_nas/dada_labelme/labelme_...</td>\n",
       "      <td>800</td>\n",
       "      <td>800</td>\n",
       "      <td>包</td>\n",
       "      <td>206</td>\n",
       "      <td>1</td>\n",
       "      <td>650</td>\n",
       "      <td>778</td>\n",
       "      <td>/home/chenyi/workspace/dataset/data/dada_det/s...</td>\n",
       "      <td>1</td>\n",
       "    </tr>\n",
       "  </tbody>\n",
       "</table>\n",
       "</div>"
      ],
      "text/plain": [
       "                                                   0     1     2  3    4    5  \\\n",
       "0  /nas/chenyi/datasets_nas/dada_labelme/labelme_...  3024  4032  包  685  719   \n",
       "1  /nas/chenyi/datasets_nas/dada_labelme/labelme_...   800   800  包  206    1   \n",
       "\n",
       "      6     7                                             img_sp  label_model  \n",
       "0  2231  3806  /home/chenyi/workspace/dataset/data/dada_det/s...            1  \n",
       "1   650   778  /home/chenyi/workspace/dataset/data/dada_det/s...            1  "
      ]
     },
     "execution_count": 100,
     "metadata": {},
     "output_type": "execute_result"
    }
   ],
   "source": [
    "df.head(2)"
   ]
  },
  {
   "cell_type": "code",
   "execution_count": null,
   "id": "25de85bc-1d67-479b-92d2-283daaf59cb9",
   "metadata": {},
   "outputs": [
    {
     "data": {
      "text/plain": [
       "label_model\n",
       "0    8859\n",
       "1    5022\n",
       "2     115\n",
       "3      58\n",
       "4      42\n",
       "5      23\n",
       "dtype: int64"
      ]
     },
     "execution_count": 101,
     "metadata": {},
     "output_type": "execute_result"
    }
   ],
   "source": [
    "df.value_counts('label_model')"
   ]
  },
  {
   "cell_type": "code",
   "execution_count": null,
   "id": "5a3c8082-3e17-4aa8-9042-58ece7a7b4da",
   "metadata": {},
   "outputs": [],
   "source": []
  },
  {
   "cell_type": "code",
   "execution_count": null,
   "id": "4d5ce74c-4d37-423b-9047-b6647a019fdd",
   "metadata": {},
   "outputs": [],
   "source": []
  },
  {
   "cell_type": "code",
   "execution_count": null,
   "id": "ffe554d4-3b7f-47b8-872d-9ce6a85274fc",
   "metadata": {},
   "outputs": [],
   "source": [
    "counter = df.value_counts('label_model').sort_index()"
   ]
  },
  {
   "cell_type": "code",
   "execution_count": null,
   "id": "9c020168-21ef-481c-bc92-0d20ffede26d",
   "metadata": {},
   "outputs": [],
   "source": [
    "id_list = np.array(counter.axes)[0]\n",
    "numbers = counter.values\n",
    "name_list = [str(x) + ':' + str(id2eng_l2[hw2stand[str(x)][0]]) for x in id_list]"
   ]
  },
  {
   "cell_type": "code",
   "execution_count": null,
   "id": "a5e3199e-bad8-4196-9397-afd04fcde19d",
   "metadata": {
    "tags": []
   },
   "outputs": [
    {
     "data": {
      "image/png": "[encoded data removed]",
      "text/plain": [
       "<Figure size 1800x504 with 1 Axes>"
      ]
     },
     "metadata": {
      "needs_background": "light"
     },
     "output_type": "display_data"
    }
   ],
   "source": [
    "plt.figure(figsize=(25, 7))\n",
    "plt.xticks(list(range(len(name_list))), name_list, rotation=75, fontsize=14)\n",
    "plt.bar(name_list, numbers, width=0.5)  # 绘制y刻度标签\n",
    "for a, b in zip(name_list, numbers):\n",
    "    plt.text(a, b, b, ha='center', va='bottom')\n",
    "plt.show()"
   ]
  },
  {
   "cell_type": "code",
   "execution_count": null,
   "id": "ef796178-9f6c-408f-9b4a-98d23658e25d",
   "metadata": {},
   "outputs": [],
   "source": []
  },
  {
   "cell_type": "code",
   "execution_count": null,
   "id": "90c55790-5885-4d6b-9d8e-89e9bff526e4",
   "metadata": {},
   "outputs": [],
   "source": []
  },
  {
   "cell_type": "markdown",
   "id": "9eb7f2d0-68d5-4f5f-b3db-ea2761fe466d",
   "metadata": {
    "jp-MarkdownHeadingCollapsed": true,
    "tags": []
   },
   "source": [
    "#### 一级标签"
   ]
  },
  {
   "cell_type": "code",
   "execution_count": null,
   "id": "820bb490-4b68-4262-9596-d2dbfbd25eea",
   "metadata": {},
   "outputs": [],
   "source": [
    "counter = df.value_counts('label_model').sort_index()"
   ]
  },
  {
   "cell_type": "code",
   "execution_count": null,
   "id": "02dfa009-5b95-44c5-ba8f-4085de66bae4",
   "metadata": {},
   "outputs": [],
   "source": [
    "id2model_l1"
   ]
  },
  {
   "cell_type": "code",
   "execution_count": null,
   "id": "ff50096b-f860-47c6-b5f1-ac0113976b22",
   "metadata": {},
   "outputs": [
    {
     "data": {
      "text/plain": [
       "{-1: 'other-1',\n",
       " 4: 'upperbody',\n",
       " 5: 'pants',\n",
       " 6: 'skirt',\n",
       " 7: 'wholebody',\n",
       " 8: 'bag',\n",
       " 10: 'shoe'}"
      ]
     },
     "execution_count": 93,
     "metadata": {},
     "output_type": "execute_result"
    }
   ],
   "source": [
    "id2eng_l1"
   ]
  },
  {
   "cell_type": "code",
   "execution_count": null,
   "id": "da7d0eea-24f5-49db-9639-616a284747a7",
   "metadata": {},
   "outputs": [],
   "source": [
    "id_list = np.array(counter.axes)[0]\n",
    "numbers = counter.values\n",
    "name_list = [str(x) + ':' + id2eng_l1[model_label_map[x]] for x in id_list]"
   ]
  },
  {
   "cell_type": "code",
   "execution_count": null,
   "id": "84250c81-b29c-42c7-9b1f-93249ca93722",
   "metadata": {},
   "outputs": [
    {
     "data": {
      "image/png": "[encoded data removed]",
      "text/plain": [
       "<Figure size 1800x504 with 1 Axes>"
      ]
     },
     "metadata": {
      "needs_background": "light"
     },
     "output_type": "display_data"
    }
   ],
   "source": [
    "plt.figure(figsize=(25, 7))\n",
    "plt.xticks(list(range(len(name_list))), name_list, rotation=75, fontsize=14)\n",
    "plt.bar(name_list, numbers, width=0.5)  # 绘制y刻度标签\n",
    "for a, b in zip(name_list, numbers):\n",
    "    plt.text(a, b, b, ha='center', va='bottom')\n",
    "plt.show()"
   ]
  },
  {
   "cell_type": "code",
   "execution_count": null,
   "id": "90624d36-dd31-4e7a-9978-30f393fa57fa",
   "metadata": {},
   "outputs": [],
   "source": []
  },
  {
   "cell_type": "code",
   "execution_count": null,
   "id": "7c209f3c-2110-44b0-a4d3-d7abd6af494c",
   "metadata": {},
   "outputs": [],
   "source": []
  },
  {
   "cell_type": "code",
   "execution_count": null,
   "id": "043b3f70-6585-4faf-89c8-07ef597f21fd",
   "metadata": {},
   "outputs": [
    {
     "name": "stdout",
     "output_type": "stream",
     "text": [
      "haowei34k  haowei34k_conf7.csv\thaowei34k.tar  haowei_conf07_multi  openfashion\n"
     ]
    }
   ],
   "source": [
    "!ls /nas/chenyi/dataset_apparel_nas/"
   ]
  },
  {
   "cell_type": "code",
   "execution_count": null,
   "id": "76028d4c-2d19-4cb9-8bbc-0dac6b29b140",
   "metadata": {},
   "outputs": [],
   "source": [
    "hw_data_p = '/nas/chenyi/dataset_apparel_nas/haowei34k_conf7.csv'"
   ]
  },
  {
   "cell_type": "code",
   "execution_count": null,
   "id": "47ec4326-9828-4caa-a685-07982bad5b7c",
   "metadata": {},
   "outputs": [],
   "source": [
    "hw_data_df = pd.read_csv(hw_data_p)"
   ]
  },
  {
   "cell_type": "code",
   "execution_count": null,
   "id": "670a5f53-932a-408f-9bb9-42b05094b2d5",
   "metadata": {},
   "outputs": [
    {
     "data": {
      "text/html": [
       "<div>\n",
       "<style scoped>\n",
       "    .dataframe tbody tr th:only-of-type {\n",
       "        vertical-align: middle;\n",
       "    }\n",
       "\n",
       "    .dataframe tbody tr th {\n",
       "        vertical-align: top;\n",
       "    }\n",
       "\n",
       "    .dataframe thead th {\n",
       "        text-align: right;\n",
       "    }\n",
       "</style>\n",
       "<table border=\"1\" class=\"dataframe\">\n",
       "  <thead>\n",
       "    <tr style=\"text-align: right;\">\n",
       "      <th></th>\n",
       "      <th>id</th>\n",
       "      <th>img_path</th>\n",
       "      <th>label_path</th>\n",
       "      <th>label_1</th>\n",
       "      <th>一级分类</th>\n",
       "      <th>label_2</th>\n",
       "      <th>二级分类</th>\n",
       "      <th>x_c</th>\n",
       "      <th>y_c</th>\n",
       "      <th>w</th>\n",
       "      <th>h</th>\n",
       "      <th>confidence</th>\n",
       "    </tr>\n",
       "  </thead>\n",
       "  <tbody>\n",
       "    <tr>\n",
       "      <th>0</th>\n",
       "      <td>20141215090521289</td>\n",
       "      <td>/nas/lichangjian/ok_data/20141215090521289.jpg</td>\n",
       "      <td>/nas/lichangjian/labels/20141215090521289.txt</td>\n",
       "      <td>4</td>\n",
       "      <td>上装</td>\n",
       "      <td>0</td>\n",
       "      <td>小西装</td>\n",
       "      <td>0.454839</td>\n",
       "      <td>0.320250</td>\n",
       "      <td>0.412903</td>\n",
       "      <td>0.362912</td>\n",
       "      <td>0.961302</td>\n",
       "    </tr>\n",
       "    <tr>\n",
       "      <th>1</th>\n",
       "      <td>20141215090521289</td>\n",
       "      <td>/nas/lichangjian/ok_data/20141215090521289.jpg</td>\n",
       "      <td>/nas/lichangjian/labels/20141215090521289.txt</td>\n",
       "      <td>5</td>\n",
       "      <td>裤子</td>\n",
       "      <td>18</td>\n",
       "      <td>休闲裤</td>\n",
       "      <td>0.440323</td>\n",
       "      <td>0.627986</td>\n",
       "      <td>0.296774</td>\n",
       "      <td>0.470990</td>\n",
       "      <td>0.953829</td>\n",
       "    </tr>\n",
       "    <tr>\n",
       "      <th>2</th>\n",
       "      <td>20140924211054180</td>\n",
       "      <td>/nas/lichangjian/ok_data/20140924211054180.jpg</td>\n",
       "      <td>/nas/lichangjian/labels/20140924211054180.txt</td>\n",
       "      <td>4</td>\n",
       "      <td>上装</td>\n",
       "      <td>0</td>\n",
       "      <td>小西装</td>\n",
       "      <td>0.542500</td>\n",
       "      <td>0.343897</td>\n",
       "      <td>0.198333</td>\n",
       "      <td>0.387324</td>\n",
       "      <td>0.920288</td>\n",
       "    </tr>\n",
       "    <tr>\n",
       "      <th>3</th>\n",
       "      <td>20140924211054180</td>\n",
       "      <td>/nas/lichangjian/ok_data/20140924211054180.jpg</td>\n",
       "      <td>/nas/lichangjian/labels/20140924211054180.txt</td>\n",
       "      <td>5</td>\n",
       "      <td>裤子</td>\n",
       "      <td>16</td>\n",
       "      <td>西装裤</td>\n",
       "      <td>0.538333</td>\n",
       "      <td>0.660798</td>\n",
       "      <td>0.156667</td>\n",
       "      <td>0.485915</td>\n",
       "      <td>0.915438</td>\n",
       "    </tr>\n",
       "    <tr>\n",
       "      <th>4</th>\n",
       "      <td>20141204122102902</td>\n",
       "      <td>/nas/lichangjian/ok_data/20141204122102902.jpg</td>\n",
       "      <td>/nas/lichangjian/labels/20141204122102902.txt</td>\n",
       "      <td>4</td>\n",
       "      <td>上装</td>\n",
       "      <td>4</td>\n",
       "      <td>夹克/外套</td>\n",
       "      <td>0.486250</td>\n",
       "      <td>0.341667</td>\n",
       "      <td>0.322500</td>\n",
       "      <td>0.286667</td>\n",
       "      <td>0.781202</td>\n",
       "    </tr>\n",
       "  </tbody>\n",
       "</table>\n",
       "</div>"
      ],
      "text/plain": [
       "                  id                                        img_path  \\\n",
       "0  20141215090521289  /nas/lichangjian/ok_data/20141215090521289.jpg   \n",
       "1  20141215090521289  /nas/lichangjian/ok_data/20141215090521289.jpg   \n",
       "2  20140924211054180  /nas/lichangjian/ok_data/20140924211054180.jpg   \n",
       "3  20140924211054180  /nas/lichangjian/ok_data/20140924211054180.jpg   \n",
       "4  20141204122102902  /nas/lichangjian/ok_data/20141204122102902.jpg   \n",
       "\n",
       "                                      label_path  label_1 一级分类  label_2  \\\n",
       "0  /nas/lichangjian/labels/20141215090521289.txt        4   上装        0   \n",
       "1  /nas/lichangjian/labels/20141215090521289.txt        5   裤子       18   \n",
       "2  /nas/lichangjian/labels/20140924211054180.txt        4   上装        0   \n",
       "3  /nas/lichangjian/labels/20140924211054180.txt        5   裤子       16   \n",
       "4  /nas/lichangjian/labels/20141204122102902.txt        4   上装        4   \n",
       "\n",
       "    二级分类       x_c       y_c         w         h  confidence  \n",
       "0    小西装  0.454839  0.320250  0.412903  0.362912    0.961302  \n",
       "1    休闲裤  0.440323  0.627986  0.296774  0.470990    0.953829  \n",
       "2    小西装  0.542500  0.343897  0.198333  0.387324    0.920288  \n",
       "3    西装裤  0.538333  0.660798  0.156667  0.485915    0.915438  \n",
       "4  夹克/外套  0.486250  0.341667  0.322500  0.286667    0.781202  "
      ]
     },
     "execution_count": 14,
     "metadata": {},
     "output_type": "execute_result"
    }
   ],
   "source": [
    "hw_data_df.head()"
   ]
  },
  {
   "cell_type": "code",
   "execution_count": null,
   "id": "db5905e7-3087-49c3-9399-1fd8fa2959ce",
   "metadata": {},
   "outputs": [],
   "source": []
  },
  {
   "cell_type": "code",
   "execution_count": null,
   "id": "2686bd84-e2bb-4fbd-8c1e-5c57db48e8f7",
   "metadata": {},
   "outputs": [],
   "source": []
  },
  {
   "cell_type": "code",
   "execution_count": null,
   "id": "9d1c0fed-ec06-49d1-a2c3-08d83b8e28e4",
   "metadata": {},
   "outputs": [],
   "source": [
    "counter_hw = hw_data_df['label_2'].value_counts()"
   ]
  },
  {
   "cell_type": "code",
   "execution_count": null,
   "id": "aeb76497-8988-4952-a18b-4abacbfeb0cc",
   "metadata": {},
   "outputs": [],
   "source": [
    "id_list = np.array(counter_hw.axes)[0]\n",
    "numbers = counter_hw.values\n",
    "name_list = [str(x) + ':' + names[x][1] for x in id_list]"
   ]
  },
  {
   "cell_type": "code",
   "execution_count": null,
   "id": "74000810-7d61-4773-86b6-6d9109797c54",
   "metadata": {},
   "outputs": [
    {
     "data": {
      "image/png": "[encoded data removed]",
      "text/plain": [
       "<Figure size 1800x504 with 1 Axes>"
      ]
     },
     "metadata": {
      "needs_background": "light"
     },
     "output_type": "display_data"
    }
   ],
   "source": [
    "plt.figure(figsize=(25, 7))\n",
    "plt.xticks(list(range(len(name_list))), name_list, rotation=50, fontsize=14)\n",
    "plt.bar(name_list, numbers, width=0.5)  # 绘制y刻度标签\n",
    "for a, b in zip(name_list, numbers):\n",
    "    plt.text(a, b, b, ha='center', va='bottom')\n",
    "plt.show()"
   ]
  },
  {
   "cell_type": "markdown",
   "id": "0e265dd4-82a0-46b8-b756-a59f13b88c4f",
   "metadata": {
    "tags": []
   },
   "source": [
    "### slink_df构建:生成软连接的path"
   ]
  },
  {
   "cell_type": "code",
   "execution_count": 4,
   "id": "9fb8e298-7d59-4671-ba0b-1e202501bc9d",
   "metadata": {},
   "outputs": [],
   "source": [
    "root  = Path('/home/chenyi/workspace/yolov5/datasets')"
   ]
  },
  {
   "cell_type": "code",
   "execution_count": 5,
   "id": "73525244-2d96-4601-b11d-8f3184469c22",
   "metadata": {},
   "outputs": [
    {
     "name": "stdout",
     "output_type": "stream",
     "text": [
      "\u001b[01;34m/home/chenyi/workspace/yolov5/datasets\u001b[00m\n",
      "├── \u001b[01;34mcoco128\u001b[00m\n",
      "├── \u001b[01;34mdadet100kv2\u001b[00m\n",
      "├── \u001b[01;34mdadet100kv3_june\u001b[00m\n",
      "├── \u001b[01;34mdadet100kv4_june\u001b[00m\n",
      "├── \u001b[01;34mdeepedia\u001b[00m\n",
      "├── \u001b[01;34mdeepedia_catg6\u001b[00m\n",
      "├── \u001b[01;34mdeepedia_catg8\u001b[00m\n",
      "├── \u001b[01;34mhaowei_bag_shoe\u001b[00m\n",
      "├── \u001b[01;34mhwpedia\u001b[00m\n",
      "├── \u001b[01;34mhwpedia80k\u001b[00m\n",
      "├── \u001b[01;34mtuneGallery10k\u001b[00m\n",
      "├── \u001b[01;34mtuneGallery5k\u001b[00m\n",
      "├── \u001b[01;34mtuneQuery10k\u001b[00m\n",
      "└── \u001b[01;34mvalidation_all\u001b[00m\n",
      "\n",
      "14 directories\n"
     ]
    }
   ],
   "source": [
    "!tree -d -L 1 $root"
   ]
  },
  {
   "cell_type": "code",
   "execution_count": null,
   "id": "3e55c0e0-98c4-4d39-97f9-0c553d9f405d",
   "metadata": {},
   "outputs": [],
   "source": []
  },
  {
   "cell_type": "markdown",
   "id": "73db1c9e-afca-417d-a5c3-2f8058ab1ac0",
   "metadata": {},
   "source": [
    "#### 直接读取slink.csv"
   ]
  },
  {
   "cell_type": "code",
   "execution_count": 10,
   "id": "c0c6e454-a7cc-4080-bf7a-f3f9bce90f72",
   "metadata": {},
   "outputs": [],
   "source": [
    "def folder_change(chg_df, origin_folder, folder_name):\n",
    "    chg_df['img_tp'] = chg_df['img_tp'].apply(lambda x:x.replace(f'/datasets/{origin_folder}/images/', f'/datasets/{folder_name}/images/'))\n",
    "    chg_df['label_tp'] = chg_df['label_tp'].apply(lambda x:x.replace(f'/datasets/{origin_folder}/labels/', f'/datasets/{folder_name}/labels/'))\n",
    "    return chg_df"
   ]
  },
  {
   "cell_type": "code",
   "execution_count": 11,
   "id": "1281cac1-14d7-4875-bae6-2a6fa6e78c29",
   "metadata": {},
   "outputs": [],
   "source": [
    "def name_change(chg_df, folder_name):\n",
    "    chg_df['img_tp'] = chg_df['img_tp'].apply(lambda x: '{0}/{1}_{2}'.format(Path(x).parent, folder_name, Path(x).name))\n",
    "    chg_df['label_tp'] = chg_df['label_tp'].apply(lambda x: '{0}/{1}_{2}'.format(Path(x).parent, folder_name, Path(x).name))\n",
    "    return chg_df"
   ]
  },
  {
   "cell_type": "code",
   "execution_count": 490,
   "id": "6a0aab3f-aa14-4aa2-8671-d80c9edf4383",
   "metadata": {},
   "outputs": [],
   "source": [
    "# name_stand = ['img_sp', 'img_tp', 'label_sp', 'label_tp']\n",
    "# slink_df.rename(columns={slink_df.columns[4]:name_stand[0],\n",
    "#                         slink_df.columns[3]:name_stand[1],\n",
    "#                         slink_df.columns[1]:name_stand[2],\n",
    "#                         slink_df.columns[2]:name_stand[3]},\n",
    "#                inplace=True)"
   ]
  },
  {
   "cell_type": "code",
   "execution_count": null,
   "id": "2e75b260-da7b-44bc-9a96-d5f5d5c61aff",
   "metadata": {},
   "outputs": [],
   "source": []
  },
  {
   "cell_type": "code",
   "execution_count": 12,
   "id": "f485c42b-f752-4ef0-9fca-686a8f8d361e",
   "metadata": {},
   "outputs": [
    {
     "name": "stdout",
     "output_type": "stream",
     "text": [
      "\u001b[01;34m/home/chenyi/workspace/yolov5/datasets/\u001b[00m\n",
      "├── \u001b[01;34mcoco128\u001b[00m\n",
      "├── \u001b[01;34mdadet100kv2\u001b[00m\n",
      "├── \u001b[01;34mdadet100kv3_june\u001b[00m\n",
      "├── \u001b[01;34mdadet100kv4_1_june\u001b[00m\n",
      "├── \u001b[01;34mdadet100kv4_june\u001b[00m\n",
      "├── \u001b[01;34mdeepedia\u001b[00m\n",
      "├── \u001b[01;34mdeepedia_catg6\u001b[00m\n",
      "├── \u001b[01;34mdeepedia_catg8\u001b[00m\n",
      "├── \u001b[01;34mhaowei_bag_shoe\u001b[00m\n",
      "├── \u001b[01;34mhwpedia\u001b[00m\n",
      "├── \u001b[01;34mhwpedia80k\u001b[00m\n",
      "├── \u001b[01;34mtuneGallery10k\u001b[00m\n",
      "├── \u001b[01;34mtuneGallery5k\u001b[00m\n",
      "├── \u001b[01;34mtuneQuery10k\u001b[00m\n",
      "└── \u001b[01;34mvalidation_all\u001b[00m\n",
      "\n",
      "15 directories\n"
     ]
    }
   ],
   "source": [
    "!tree -d -L 1 /home/chenyi/workspace/yolov5/datasets/"
   ]
  },
  {
   "cell_type": "code",
   "execution_count": null,
   "id": "92f7f5d0-c7f1-4265-b61c-481bf6f478b9",
   "metadata": {},
   "outputs": [],
   "source": []
  },
  {
   "cell_type": "code",
   "execution_count": 282,
   "id": "2d0e3adc-0e39-4499-9e6a-9735d66ab504",
   "metadata": {},
   "outputs": [],
   "source": [
    "slink_df = pd.concat([fashion_slink, hw_slink], axis=0)"
   ]
  },
  {
   "cell_type": "code",
   "execution_count": 279,
   "id": "e9c44857-76ff-4b41-86ac-55675eab1ea0",
   "metadata": {},
   "outputs": [],
   "source": [
    "fashion_slink = pd.read_csv('../fashionpedia/data/fashionpedia6_slink.csv')\n",
    "hw_slink = pd.read_csv('../haowei34k/data/hw34k_level1_slink.csv')"
   ]
  },
  {
   "cell_type": "code",
   "execution_count": null,
   "id": "be1536bf-8727-4507-92de-816c52666295",
   "metadata": {},
   "outputs": [],
   "source": []
  },
  {
   "cell_type": "code",
   "execution_count": 231,
   "id": "9479986e-877a-4edb-9b2f-4c2e4bef71e0",
   "metadata": {},
   "outputs": [],
   "source": [
    "# shbg5k_slink = pd.read_csv('../dada_det/data/shoeBag5k0515/shoeBag0515_slink_df.csv')\n",
    "# skirt5k_slink = pd.read_csv('../deepfashion2/data/skirt_slink.csv')\n",
    "# shbg11k_slink = pd.read_csv('../dada_det/data/shoeBag10k0530/shoe_bag11k_may_slink.csv')\n",
    "# wholebody5k_slink = pd.read_csv('../dada_det/data/wholebody5k0610/wholebody5k_slin_dfk.csv')\n",
    "syserror_slink = pd.read_csv('../dada_det/data/sys_error_sample/sys_error_slin_dfk.csv')\n",
    "# len(shbg5k_slink), len(skirt5k_slink), len(shbg11k_slink), len(wholebody5k_slink)"
   ]
  },
  {
   "cell_type": "code",
   "execution_count": null,
   "id": "5824011a-5a33-492b-a78f-c42f1b2a34ae",
   "metadata": {},
   "outputs": [],
   "source": []
  },
  {
   "cell_type": "code",
   "execution_count": 63,
   "id": "41640b1b-9984-40d1-9876-e46994a96e3e",
   "metadata": {},
   "outputs": [],
   "source": [
    "origin_folder = 'hwpedia80k'\n",
    "folder_name = 'dadet100kv4_june'\n",
    "fashion_slink = folder_change(fashion_slink, origin_folder, folder_name)"
   ]
  },
  {
   "cell_type": "code",
   "execution_count": 64,
   "id": "5a1308d2-408f-4a0e-960b-887e38811c5f",
   "metadata": {},
   "outputs": [],
   "source": [
    "origin_folder = 'dadet100kv2'\n",
    "folder_name = 'dadet100kv4_june'\n",
    "hw_slink = folder_change(hw_slink, origin_folder, folder_name)"
   ]
  },
  {
   "cell_type": "code",
   "execution_count": null,
   "id": "a82dc4af-45a7-4f3d-b4ea-6fcfb48269b9",
   "metadata": {},
   "outputs": [],
   "source": []
  },
  {
   "cell_type": "code",
   "execution_count": 138,
   "id": "1345b8d7-7e51-495b-a70d-446b5078a22e",
   "metadata": {},
   "outputs": [],
   "source": [
    "origin_folder = 'dadet100kv1'\n",
    "folder_name = 'dadet100kv4_june'\n",
    "skirt5k_slink = folder_change(skirt5k_slink, origin_folder, folder_name)"
   ]
  },
  {
   "cell_type": "code",
   "execution_count": 66,
   "id": "edd08d4a-387f-4728-b9fe-650337ac231c",
   "metadata": {},
   "outputs": [],
   "source": [
    "origin_folder = 'dadet100kv1'\n",
    "folder_name = 'dadet100kv4_june'\n",
    "shbg11k_slink = folder_change(shbg11k_slink, origin_folder, folder_name)"
   ]
  },
  {
   "cell_type": "code",
   "execution_count": 98,
   "id": "f3705d07-cdb4-4e76-8573-7f696b613be5",
   "metadata": {},
   "outputs": [],
   "source": [
    "origin_folder = 'dadet100kv3_june'\n",
    "folder_name = 'dadet100kv4_june'\n",
    "wholebody5k_slink = folder_change(wholebody5k_slink, origin_folder, folder_name)"
   ]
  },
  {
   "cell_type": "code",
   "execution_count": null,
   "id": "9ad3c83f-d0b4-479d-9aef-be9c396dbe14",
   "metadata": {},
   "outputs": [],
   "source": []
  },
  {
   "cell_type": "code",
   "execution_count": 232,
   "id": "7631d658-b255-416d-b00c-5fff32195c92",
   "metadata": {},
   "outputs": [],
   "source": [
    "origin_folder = 'dadet100kv3_june'\n",
    "folder_name = 'dadet100kv4_1_june'\n",
    "syserror_slink = folder_change(syserror_slink, origin_folder, folder_name)\n",
    "syserror_slink = name_change(syserror_slink, 'syserror60')"
   ]
  },
  {
   "cell_type": "code",
   "execution_count": null,
   "id": "c5d78cec-d775-4097-9f5e-cfab2f1d6e5b",
   "metadata": {},
   "outputs": [],
   "source": []
  },
  {
   "cell_type": "code",
   "execution_count": 22,
   "id": "081f4c9f-fb7f-4025-9844-0242dca49b93",
   "metadata": {},
   "outputs": [],
   "source": [
    "# slink_df = pd.concat([dav4_df, syserror_slink], axis=0)\n",
    "slink_df = pd.read_csv('./data/hwpedia_slink_df.csv')"
   ]
  },
  {
   "cell_type": "code",
   "execution_count": 31,
   "id": "3fc1c737-8b03-4477-a762-96ebcf14fd07",
   "metadata": {},
   "outputs": [
    {
     "data": {
      "text/plain": [
       "target\n",
       "tuneGallery10k    10000\n",
       "dtype: int64"
      ]
     },
     "execution_count": 31,
     "metadata": {},
     "output_type": "execute_result"
    }
   ],
   "source": [
    "len(slink_df),len(slink_df.drop_duplicates('label_tp'))\n",
    "slink_df['target'] = slink_df['img_tp'].apply(lambda x: re.findall('datasets/(.*?)/images/', x)[0])\n",
    "slink_df.value_counts('target')"
   ]
  },
  {
   "cell_type": "code",
   "execution_count": null,
   "id": "3467aa24-f1f2-45c8-8ed3-90bdc17874a6",
   "metadata": {},
   "outputs": [],
   "source": []
  },
  {
   "cell_type": "code",
   "execution_count": 24,
   "id": "c698c2e4-6beb-4dfd-a41e-ffa12d343afd",
   "metadata": {},
   "outputs": [
    {
     "name": "stdout",
     "output_type": "stream",
     "text": [
      "tuneGallery10k_slink_df.csv  tuneQuery10k_slink_df.csv\n",
      "tuneGallery5k_slink_df.csv\n"
     ]
    }
   ],
   "source": [
    "!ls ./data/tuneDataset/"
   ]
  },
  {
   "cell_type": "code",
   "execution_count": null,
   "id": "56a80a3e-4a48-4e01-97a6-ed86e5924de9",
   "metadata": {},
   "outputs": [],
   "source": []
  },
  {
   "cell_type": "code",
   "execution_count": 38,
   "id": "0f0c33cc-9360-4443-aace-e9ff86f7cc09",
   "metadata": {},
   "outputs": [],
   "source": [
    "origin_folder = 'tuneGallery10k'\n",
    "folder_name = 'tuneGallery5k'\n",
    "slink_df = folder_change(slink_df, origin_folder, folder_name)"
   ]
  },
  {
   "cell_type": "code",
   "execution_count": 39,
   "id": "e41a0a6d-6c6c-4cca-b715-15f5ab13378a",
   "metadata": {},
   "outputs": [
    {
     "data": {
      "text/plain": [
       "array([['af2bffd5ce2402f83592229b732bd20c',\n",
       "        '/home/chenyi/workspace/dataset/labels/labels6/fashionpedia/labels/train/af2bffd5ce2402f83592229b732bd20c.txt',\n",
       "        '/home/chenyi/workspace/yolov5/datasets/tuneGallery5k/labels/train/af2bffd5ce2402f83592229b732bd20c.txt',\n",
       "        '/home/chenyi/workspace/yolov5/datasets/tuneGallery5k/images/train/af2bffd5ce2402f83592229b732bd20c.jpg',\n",
       "        '/home/chenyi/workspace/dataset/data/data_fashionpedia/train/af2bffd5ce2402f83592229b732bd20c.jpg',\n",
       "        'tuneGallery10k']], dtype=object)"
      ]
     },
     "execution_count": 39,
     "metadata": {},
     "output_type": "execute_result"
    }
   ],
   "source": [
    "slink_df.head(1).values"
   ]
  },
  {
   "cell_type": "code",
   "execution_count": 40,
   "id": "d6f0543e-39f5-4aa7-9195-9e7d665c1ecf",
   "metadata": {},
   "outputs": [],
   "source": [
    "slink_sample = slink_df.sample(int(5e3))"
   ]
  },
  {
   "cell_type": "code",
   "execution_count": 41,
   "id": "26603b93-5ff5-4cb4-b7cd-a20aae0f7412",
   "metadata": {},
   "outputs": [
    {
     "data": {
      "text/plain": [
       "5000"
      ]
     },
     "execution_count": 41,
     "metadata": {},
     "output_type": "execute_result"
    }
   ],
   "source": [
    "len(slink_sample)"
   ]
  },
  {
   "cell_type": "code",
   "execution_count": null,
   "id": "e2de46c1-98a5-41b3-9b00-b811005f5f10",
   "metadata": {},
   "outputs": [],
   "source": []
  },
  {
   "cell_type": "code",
   "execution_count": null,
   "id": "f20cc40a-60d3-45ba-b02d-e683197e767e",
   "metadata": {},
   "outputs": [],
   "source": []
  },
  {
   "cell_type": "code",
   "execution_count": 42,
   "id": "b64c02c3-fdd1-45f4-a8b4-7b0216963f26",
   "metadata": {},
   "outputs": [],
   "source": [
    "slink_df = slink_sample"
   ]
  },
  {
   "cell_type": "code",
   "execution_count": 43,
   "id": "1ab317b2-9114-42cd-bd02-799f7e808228",
   "metadata": {},
   "outputs": [
    {
     "data": {
      "text/plain": [
       "'tuneGallery5k'"
      ]
     },
     "execution_count": 43,
     "metadata": {},
     "output_type": "execute_result"
    }
   ],
   "source": [
    "# folder_name = 'dadet100kv4_june'\n",
    "folder_name"
   ]
  },
  {
   "cell_type": "code",
   "execution_count": 44,
   "id": "6d84c3c8-a8f3-4e30-b572-f183f1d83c46",
   "metadata": {},
   "outputs": [],
   "source": [
    "# slink_df.to_csv(f'data/{folder_name}_slink_df.csv', index=False)\n",
    "slink_sample.to_csv(f'data/tuneDataset/{folder_name}_slink_df.csv', index=False)"
   ]
  },
  {
   "cell_type": "code",
   "execution_count": null,
   "id": "4f45706e-7392-45d0-b8f0-03afe4f89df3",
   "metadata": {},
   "outputs": [],
   "source": []
  },
  {
   "cell_type": "code",
   "execution_count": null,
   "id": "cef5b878-3023-4a2b-b18b-8194157d558d",
   "metadata": {},
   "outputs": [],
   "source": []
  },
  {
   "cell_type": "code",
   "execution_count": 45,
   "id": "6e0534b0-9041-4314-9539-25fb772ff744",
   "metadata": {},
   "outputs": [
    {
     "data": {
      "text/plain": [
       "(mode\n",
       " train    4312\n",
       " val       688\n",
       " dtype: int64,\n",
       " 5000,\n",
       " 5000)"
      ]
     },
     "execution_count": 45,
     "metadata": {},
     "output_type": "execute_result"
    }
   ],
   "source": [
    "slink_df['mode'] = slink_df['img_tp'].apply(lambda x: re.findall('/images/(.*?)/', x)[0])\n",
    "slink_df['id'] = slink_df['img_tp'].apply(lambda x: Path(Path(x).parts[-2]) /Path(x).stem)\n",
    "slink_df.value_counts('mode'),len(slink_df.drop_duplicates('id')),len(slink_df)"
   ]
  },
  {
   "cell_type": "code",
   "execution_count": null,
   "id": "77fbd8b6-8c70-488d-8017-94e814963a92",
   "metadata": {},
   "outputs": [],
   "source": []
  },
  {
   "cell_type": "code",
   "execution_count": null,
   "id": "55ea085b-d698-4ea3-954d-1ab497763b59",
   "metadata": {},
   "outputs": [],
   "source": []
  },
  {
   "cell_type": "markdown",
   "id": "31456e3a-4b13-41d1-b3f3-29f0a4e9c7f2",
   "metadata": {
    "tags": []
   },
   "source": [
    "### 生成sym link"
   ]
  },
  {
   "cell_type": "code",
   "execution_count": 168,
   "id": "412735a2-74b0-4389-a639-504d64cdb44e",
   "metadata": {},
   "outputs": [
    {
     "name": "stdout",
     "output_type": "stream",
     "text": [
      "\u001b[01;34m/home/chenyi/workspace/yolov5/datasets/\u001b[00m\n",
      "├── \u001b[01;34mcoco128\u001b[00m\n",
      "├── \u001b[01;34mdadet100kv2\u001b[00m\n",
      "├── \u001b[01;34mdadet100kv3_june\u001b[00m\n",
      "├── \u001b[01;34mdadet100kv4_june\u001b[00m\n",
      "├── \u001b[01;34mdeepedia\u001b[00m\n",
      "├── \u001b[01;34mdeepedia_catg6\u001b[00m\n",
      "├── \u001b[01;34mdeepedia_catg8\u001b[00m\n",
      "├── \u001b[01;34mhaowei_bag_shoe\u001b[00m\n",
      "├── \u001b[01;34mhwpedia\u001b[00m\n",
      "├── \u001b[01;34mhwpedia80k\u001b[00m\n",
      "├── \u001b[01;34mtuneGallery10k\u001b[00m\n",
      "├── \u001b[01;34mtuneGallery5k\u001b[00m\n",
      "├── \u001b[01;34mtuneQuery10k\u001b[00m\n",
      "└── \u001b[01;34mvalidation_all\u001b[00m\n",
      "\n",
      "14 directories\n"
     ]
    }
   ],
   "source": [
    "!tree -d -L 1 /home/chenyi/workspace/yolov5/datasets/"
   ]
  },
  {
   "cell_type": "code",
   "execution_count": null,
   "id": "c717b31f-ad6a-4527-bfed-9041fa2dc0f7",
   "metadata": {},
   "outputs": [],
   "source": []
  },
  {
   "cell_type": "code",
   "execution_count": 222,
   "id": "1985c5f8-02b0-442b-8a13-be8dc597e0e8",
   "metadata": {},
   "outputs": [],
   "source": [
    "slink_df = "
   ]
  },
  {
   "cell_type": "code",
   "execution_count": 76,
   "id": "8825ac81-2464-4aee-ac37-1dcab65ef2d4",
   "metadata": {},
   "outputs": [],
   "source": [
    "slink_df = pd.read_csv('data/tuneDataset/tuneGallery10k_slink_df.csv')\n",
    "folder_name = 'tuneGallery10k'"
   ]
  },
  {
   "cell_type": "code",
   "execution_count": 77,
   "id": "559cfdbb-b785-42a9-9244-2140dbb35c2f",
   "metadata": {},
   "outputs": [],
   "source": [
    "root = '/home/chenyi/workspace/yolov5/datasets/'"
   ]
  },
  {
   "cell_type": "code",
   "execution_count": 78,
   "id": "6a2bb687-f46e-4ddb-9ace-d316e70392f4",
   "metadata": {},
   "outputs": [],
   "source": [
    "# 产生路径\n",
    "import shutil\n",
    "# folder_name = 'dadet100kv4_june'\n",
    "# folder_name = folder_name\n",
    "folder_root = Path(root) /folder_name\n",
    "# folder_root = root\n",
    "folder1 = ['images', 'labels']\n",
    "folder2 = ['train', 'val']\n",
    "# if folder_root.is_dir() and True:\n",
    "#     shutil.rmtree(folder_root)\n",
    "# for f1 in folder1:\n",
    "#     for f2 in folder2:\n",
    "#         tg = folder_root / f1 / f2\n",
    "#         tg.mkdir(parents=True)   "
   ]
  },
  {
   "cell_type": "code",
   "execution_count": 79,
   "id": "37ffa695-fb85-46da-9889-7911f723c582",
   "metadata": {},
   "outputs": [
    {
     "name": "stdout",
     "output_type": "stream",
     "text": [
      "\u001b[01;34m/home/chenyi/workspace/yolov5/datasets/tuneGallery10k\u001b[00m\n",
      "├── \u001b[01;34mimages\u001b[00m\n",
      "│   ├── \u001b[01;34mtrain\u001b[00m\n",
      "│   └── \u001b[01;34mval\u001b[00m\n",
      "└── \u001b[01;34mlabels\u001b[00m\n",
      "    ├── \u001b[01;34mtrain\u001b[00m\n",
      "    └── \u001b[01;34mval\u001b[00m\n",
      "\n",
      "6 directories\n"
     ]
    }
   ],
   "source": [
    "!tree -d -L 2 $folder_root"
   ]
  },
  {
   "cell_type": "code",
   "execution_count": 80,
   "id": "34c8445a-fb51-4356-8f64-63e535a269c3",
   "metadata": {},
   "outputs": [],
   "source": [
    "for p in glob.glob(f'{folder_root}/*/*/*'):\n",
    "    if Path(p).is_symlink():\n",
    "        Path(p).unlink()"
   ]
  },
  {
   "cell_type": "code",
   "execution_count": 81,
   "id": "801d2020-58ac-4506-92a0-a4f79b7ca4db",
   "metadata": {},
   "outputs": [
    {
     "data": {
      "text/plain": [
       "(PosixPath('/home/chenyi/workspace/yolov5/datasets/tuneGallery10k'), 0, 0)"
      ]
     },
     "execution_count": 81,
     "metadata": {},
     "output_type": "execute_result"
    }
   ],
   "source": [
    "folder_root, len(glob.glob(f'{folder_root}/images/*/*.jpg')), len(glob.glob(f'{folder_root}/labels/*/*.txt'))"
   ]
  },
  {
   "cell_type": "code",
   "execution_count": 82,
   "id": "b7758bb5-0084-4905-90a0-d0c0077e6c29",
   "metadata": {},
   "outputs": [
    {
     "data": {
      "text/plain": [
       "array([['20160426020017708',\n",
       "        '/home/chenyi/workspace/dataset/labels/labels6/haowei34k/labels/train/20160426020017708.txt',\n",
       "        '/home/chenyi/workspace/yolov5/datasets/tuneGallery10k/labels/train/20160426020017708.txt',\n",
       "        '/home/chenyi/workspace/yolov5/datasets/tuneGallery10k/images/train/20160426020017708.jpg',\n",
       "        '/home/chenyi/workspace/dataset/data/haowei34k/images/train/20160426020017708.jpg',\n",
       "        'tuneGallery10k']], dtype=object)"
      ]
     },
     "execution_count": 82,
     "metadata": {},
     "output_type": "execute_result"
    }
   ],
   "source": [
    "slink_df.head(1).values"
   ]
  },
  {
   "cell_type": "code",
   "execution_count": 83,
   "id": "71f2718b-f3ff-4790-bf6f-507a343f5fdf",
   "metadata": {},
   "outputs": [
    {
     "name": "stdout",
     "output_type": "stream",
     "text": [
      "CPU times: user 455 ms, sys: 208 ms, total: 664 ms\n",
      "Wall time: 663 ms\n"
     ]
    }
   ],
   "source": [
    "%%time\n",
    "for p in slink_df['label_tp'].values:\n",
    "    if Path(p).is_symlink():\n",
    "        Path(p).unlink()\n",
    "_ = slink_df.apply(lambda row: Path.symlink_to(Path(row['label_tp']), Path(row['label_sp'])), axis=1)\n",
    "# _ = slink_df.apply(lambda row: os.symlink(str(row['label_sp']), str(row['label_tp'])), axis=1)"
   ]
  },
  {
   "cell_type": "code",
   "execution_count": 84,
   "id": "5f2dfc8e-2177-4a62-96ff-bc7d334dbc1c",
   "metadata": {},
   "outputs": [
    {
     "name": "stdout",
     "output_type": "stream",
     "text": [
      "CPU times: user 574 ms, sys: 181 ms, total: 755 ms\n",
      "Wall time: 755 ms\n"
     ]
    }
   ],
   "source": [
    "%%time\n",
    "for p in slink_df['img_tp'].values:\n",
    "    if Path(p).is_symlink():\n",
    "        Path(p).unlink()\n",
    "_ = slink_df.apply(lambda row: Path.symlink_to(Path(row['img_tp']), Path(row['img_sp'])), axis=1)"
   ]
  },
  {
   "cell_type": "code",
   "execution_count": null,
   "id": "0c2ba7ec-adf2-44d1-b004-579c405f1382",
   "metadata": {},
   "outputs": [],
   "source": []
  },
  {
   "cell_type": "code",
   "execution_count": 85,
   "id": "ebc561f4-cb04-4055-832e-f7fd60521d49",
   "metadata": {},
   "outputs": [
    {
     "data": {
      "text/plain": [
       "(10000, 10000, 10000)"
      ]
     },
     "execution_count": 85,
     "metadata": {},
     "output_type": "execute_result"
    }
   ],
   "source": [
    "len(slink_df),len(glob.glob(f'{folder_root}/images/*/*.jpg')), len(glob.glob(f'{folder_root}/labels/*/*.txt'))"
   ]
  },
  {
   "cell_type": "code",
   "execution_count": null,
   "id": "c4668dc3-4c5c-4c1b-8d93-d44f92a30dfa",
   "metadata": {},
   "outputs": [],
   "source": []
  },
  {
   "cell_type": "code",
   "execution_count": 86,
   "id": "1fc942ac-1f23-4c91-a364-ec900458d987",
   "metadata": {},
   "outputs": [
    {
     "name": "stdout",
     "output_type": "stream",
     "text": [
      "0 0.135000 0.922500 0.240000 0.071667\n",
      "0 0.625000 0.940000 0.100000 0.090000\n",
      "2 0.615000 0.385833 0.340000 0.331667\n",
      "3 0.465000 0.684167 0.550000 0.391667\n"
     ]
    }
   ],
   "source": [
    "p = str(slink_df['label_tp'].values[0])\n",
    "!cat $p"
   ]
  },
  {
   "cell_type": "code",
   "execution_count": null,
   "id": "92c05cad-3694-4a3f-b1ad-2366ef04c22a",
   "metadata": {},
   "outputs": [],
   "source": []
  },
  {
   "cell_type": "code",
   "execution_count": null,
   "id": "007fa3c7-4455-46b8-8c7d-c160654b4305",
   "metadata": {},
   "outputs": [],
   "source": []
  },
  {
   "cell_type": "markdown",
   "id": "da7f4991-4d4f-4d1c-8c72-a48eb90d852a",
   "metadata": {},
   "source": [
    "#### 核查软连接"
   ]
  },
  {
   "cell_type": "code",
   "execution_count": 87,
   "id": "2abdac41-a35e-4d9b-a5fe-04eb737c1307",
   "metadata": {},
   "outputs": [
    {
     "name": "stdout",
     "output_type": "stream",
     "text": [
      "\u001b[01;34m/home/chenyi/workspace/yolov5/datasets/\u001b[00m\n",
      "├── \u001b[01;34mcoco128\u001b[00m\n",
      "├── \u001b[01;34mdadet100kv2\u001b[00m\n",
      "├── \u001b[01;34mdadet100kv3_june\u001b[00m\n",
      "├── \u001b[01;34mdadet100kv4_1_june\u001b[00m\n",
      "├── \u001b[01;34mdadet100kv4_june\u001b[00m\n",
      "├── \u001b[01;34mdeepedia\u001b[00m\n",
      "├── \u001b[01;34mdeepedia_catg6\u001b[00m\n",
      "├── \u001b[01;34mdeepedia_catg8\u001b[00m\n",
      "├── \u001b[01;34mhaowei_bag_shoe\u001b[00m\n",
      "├── \u001b[01;34mhwpedia\u001b[00m\n",
      "├── \u001b[01;34mhwpedia80k\u001b[00m\n",
      "├── \u001b[01;34mtuneGallery10k\u001b[00m\n",
      "├── \u001b[01;34mtuneGallery5k\u001b[00m\n",
      "├── \u001b[01;34mtuneQuery10k\u001b[00m\n",
      "└── \u001b[01;34mvalidation_all\u001b[00m\n",
      "\n",
      "15 directories\n"
     ]
    }
   ],
   "source": [
    "!tree -d -L 1 /home/chenyi/workspace/yolov5/datasets/"
   ]
  },
  {
   "cell_type": "code",
   "execution_count": 88,
   "id": "fd80f04e-0cc1-446e-8c6a-bfa9d2cf446a",
   "metadata": {},
   "outputs": [
    {
     "name": "stdout",
     "output_type": "stream",
     "text": [
      "\u001b[01;34m/home/chenyi/workspace/yolov5/datasets/tuneGallery10k\u001b[00m\n",
      "├── \u001b[01;34mimages\u001b[00m\n",
      "│   ├── \u001b[01;34mtrain\u001b[00m\n",
      "│   └── \u001b[01;34mval\u001b[00m\n",
      "└── \u001b[01;34mlabels\u001b[00m\n",
      "    ├── \u001b[01;34mtrain\u001b[00m\n",
      "    └── \u001b[01;34mval\u001b[00m\n",
      "\n",
      "6 directories\n"
     ]
    }
   ],
   "source": [
    "# folder_name = 'hwpedia'\n",
    "folder_name = folder_name\n",
    "root = f'/home/chenyi/workspace/yolov5/datasets/{folder_name}'\n",
    "!tree  -d -L 2 $root"
   ]
  },
  {
   "cell_type": "code",
   "execution_count": 89,
   "id": "e59b7ec3-4b59-4ca8-8959-6e29a2719cfa",
   "metadata": {},
   "outputs": [],
   "source": [
    "def check_syslink(root, mode='images'):\n",
    "    subfix = '.txt' if mode=='labels' else '.jpg'\n",
    "    flag_list = [os.path.isfile(os.readlink(p)) for p in glob.glob(f'{root}/{mode}/*/*{subfix}')]\n",
    "    txt_df = pd.DataFrame()\n",
    "    txt_df['flag'] = flag_list\n",
    "    return txt_df.value_counts('flag')"
   ]
  },
  {
   "cell_type": "code",
   "execution_count": 90,
   "id": "b2bdde9d-9207-4f12-85a3-2fad428ef20d",
   "metadata": {},
   "outputs": [
    {
     "name": "stdout",
     "output_type": "stream",
     "text": [
      "CPU times: user 42.5 ms, sys: 62.6 ms, total: 105 ms\n",
      "Wall time: 107 ms\n"
     ]
    },
    {
     "data": {
      "text/plain": [
       "flag\n",
       "True    10000\n",
       "dtype: int64"
      ]
     },
     "execution_count": 90,
     "metadata": {},
     "output_type": "execute_result"
    }
   ],
   "source": [
    "%%time\n",
    "check_syslink(root, mode='images')"
   ]
  },
  {
   "cell_type": "code",
   "execution_count": 91,
   "id": "a124921c-47ef-41ef-b543-50b2160c7fd5",
   "metadata": {},
   "outputs": [
    {
     "name": "stdout",
     "output_type": "stream",
     "text": [
      "CPU times: user 58.5 ms, sys: 51.7 ms, total: 110 ms\n",
      "Wall time: 110 ms\n"
     ]
    },
    {
     "data": {
      "text/plain": [
       "flag\n",
       "True    10000\n",
       "dtype: int64"
      ]
     },
     "execution_count": 91,
     "metadata": {},
     "output_type": "execute_result"
    }
   ],
   "source": [
    "%%time\n",
    "check_syslink(root, mode='labels')"
   ]
  },
  {
   "cell_type": "code",
   "execution_count": null,
   "id": "183dab55-abc3-46f0-922d-c8b198c983ce",
   "metadata": {},
   "outputs": [],
   "source": []
  },
  {
   "cell_type": "code",
   "execution_count": null,
   "id": "44868d00-477f-4f7d-96d8-4b09556efa0b",
   "metadata": {},
   "outputs": [],
   "source": []
  },
  {
   "cell_type": "markdown",
   "id": "69a4249a-04cf-49cf-975a-fc52d3186d03",
   "metadata": {
    "jp-MarkdownHeadingCollapsed": true,
    "tags": []
   },
   "source": [
    "#### 对现有数据拷贝软连接"
   ]
  },
  {
   "cell_type": "code",
   "execution_count": 15,
   "id": "efa821ec-840a-4f61-bcbe-64fb7358dd69",
   "metadata": {},
   "outputs": [
    {
     "data": {
      "text/plain": [
       "83370"
      ]
     },
     "execution_count": 15,
     "metadata": {},
     "output_type": "execute_result"
    }
   ],
   "source": [
    "img_list = glob.glob('/home/chenyi/workspace/yolov5/datasets/hw_pedia_true/images/*/*')\n",
    "len(img_list)"
   ]
  },
  {
   "cell_type": "code",
   "execution_count": 18,
   "id": "c9b7b829-ffdb-41ca-9be3-3d643557acbe",
   "metadata": {},
   "outputs": [
    {
     "data": {
      "text/plain": [
       "83370"
      ]
     },
     "execution_count": 18,
     "metadata": {},
     "output_type": "execute_result"
    }
   ],
   "source": [
    "label_list = glob.glob('/home/chenyi/workspace/yolov5/datasets/hw_pedia_true/labels/*/*')\n",
    "len(label_list)"
   ]
  },
  {
   "cell_type": "code",
   "execution_count": 16,
   "id": "ab32f3d2-1163-4725-974b-023ff99755f5",
   "metadata": {},
   "outputs": [],
   "source": [
    "img_t_list = [p.replace('hw_pedia_true', 'dadet100kv1') for p in img_list]"
   ]
  },
  {
   "cell_type": "code",
   "execution_count": 19,
   "id": "bf279c74-6b31-4b2c-a9f7-85f1b70f9c66",
   "metadata": {},
   "outputs": [],
   "source": [
    "label_t_list = [p.replace('hw_pedia_true', 'dadet100kv1') for p in label_list]"
   ]
  },
  {
   "cell_type": "code",
   "execution_count": 22,
   "id": "df474520-3da5-4487-b2bd-504c3954a1f9",
   "metadata": {},
   "outputs": [],
   "source": [
    "df = pd.DataFrame()\n",
    "df['img_sp'] = img_list\n",
    "df['label_sp'] = label_list\n",
    "df['img_tp'] = img_t_list\n",
    "df['label_tp'] = label_t_list"
   ]
  },
  {
   "cell_type": "code",
   "execution_count": null,
   "id": "75be2a61-0d80-4654-b44e-28492a50fa57",
   "metadata": {},
   "outputs": [],
   "source": []
  },
  {
   "cell_type": "code",
   "execution_count": null,
   "id": "50319969-2949-4c9c-aeb4-6d006d8d36b5",
   "metadata": {},
   "outputs": [],
   "source": []
  },
  {
   "cell_type": "code",
   "execution_count": null,
   "id": "b00c7078-1c8a-43b6-9bce-5889fca1d0a1",
   "metadata": {},
   "outputs": [],
   "source": []
  },
  {
   "cell_type": "code",
   "execution_count": 97,
   "id": "60dcc8f9-fabe-43fb-8c32-af3df80bcb03",
   "metadata": {},
   "outputs": [
    {
     "data": {
      "text/html": [
       "<div>\n",
       "<style scoped>\n",
       "    .dataframe tbody tr th:only-of-type {\n",
       "        vertical-align: middle;\n",
       "    }\n",
       "\n",
       "    .dataframe tbody tr th {\n",
       "        vertical-align: top;\n",
       "    }\n",
       "\n",
       "    .dataframe thead th {\n",
       "        text-align: right;\n",
       "    }\n",
       "</style>\n",
       "<table border=\"1\" class=\"dataframe\">\n",
       "  <thead>\n",
       "    <tr style=\"text-align: right;\">\n",
       "      <th></th>\n",
       "      <th>img_sp</th>\n",
       "      <th>label_sp</th>\n",
       "      <th>label_tp</th>\n",
       "      <th>img_tp</th>\n",
       "    </tr>\n",
       "  </thead>\n",
       "  <tbody>\n",
       "    <tr>\n",
       "      <th>0</th>\n",
       "      <td>/home/chenyi/workspace/dataset/data/haowei34k/...</td>\n",
       "      <td>/home/chenyi/workspace/dataset/labels/dada_det...</td>\n",
       "      <td>/home/chenyi/workspace/yolov5/datasets/dadet10...</td>\n",
       "      <td>/home/chenyi/workspace/yolov5/datasets/dadet10...</td>\n",
       "    </tr>\n",
       "    <tr>\n",
       "      <th>1</th>\n",
       "      <td>/home/chenyi/workspace/dataset/data/haowei34k/...</td>\n",
       "      <td>/home/chenyi/workspace/dataset/labels/dada_det...</td>\n",
       "      <td>/home/chenyi/workspace/yolov5/datasets/dadet10...</td>\n",
       "      <td>/home/chenyi/workspace/yolov5/datasets/dadet10...</td>\n",
       "    </tr>\n",
       "  </tbody>\n",
       "</table>\n",
       "</div>"
      ],
      "text/plain": [
       "                                              img_sp  \\\n",
       "0  /home/chenyi/workspace/dataset/data/haowei34k/...   \n",
       "1  /home/chenyi/workspace/dataset/data/haowei34k/...   \n",
       "\n",
       "                                            label_sp  \\\n",
       "0  /home/chenyi/workspace/dataset/labels/dada_det...   \n",
       "1  /home/chenyi/workspace/dataset/labels/dada_det...   \n",
       "\n",
       "                                            label_tp  \\\n",
       "0  /home/chenyi/workspace/yolov5/datasets/dadet10...   \n",
       "1  /home/chenyi/workspace/yolov5/datasets/dadet10...   \n",
       "\n",
       "                                              img_tp  \n",
       "0  /home/chenyi/workspace/yolov5/datasets/dadet10...  \n",
       "1  /home/chenyi/workspace/yolov5/datasets/dadet10...  "
      ]
     },
     "execution_count": 97,
     "metadata": {},
     "output_type": "execute_result"
    }
   ],
   "source": [
    "slink_df.head(2)"
   ]
  },
  {
   "cell_type": "code",
   "execution_count": 99,
   "id": "69c6f80e-03b5-417e-ac57-0f3f5fb69c0f",
   "metadata": {},
   "outputs": [
    {
     "data": {
      "text/plain": [
       "array([['/home/chenyi/workspace/dataset/data/haowei34k/haowei23/images/c357e734-24e3-4aa2-b738-ddce8c5997f4.jpg',\n",
       "        PosixPath('/home/chenyi/workspace/dataset/labels/dada_det/labels202205/shoeBag5k0515/val/c357e734-24e3-4aa2-b738-ddce8c5997f4.txt'),\n",
       "        PosixPath('/home/chenyi/workspace/yolov5/datasets/dadet100kv1/labels/val/c357e734-24e3-4aa2-b738-ddce8c5997f4.txt'),\n",
       "        PosixPath('/home/chenyi/workspace/yolov5/datasets/dadet100kv1/images/val/c357e734-24e3-4aa2-b738-ddce8c5997f4.jpg')],\n",
       "       ['/home/chenyi/workspace/dataset/data/haowei34k/haowei23/images/e42ac97d-67ab-4961-acae-56bd7746929a.jpg',\n",
       "        PosixPath('/home/chenyi/workspace/dataset/labels/dada_det/labels202205/shoeBag5k0515/train/e42ac97d-67ab-4961-acae-56bd7746929a.txt'),\n",
       "        PosixPath('/home/chenyi/workspace/yolov5/datasets/dadet100kv1/labels/train/e42ac97d-67ab-4961-acae-56bd7746929a.txt'),\n",
       "        PosixPath('/home/chenyi/workspace/yolov5/datasets/dadet100kv1/images/train/e42ac97d-67ab-4961-acae-56bd7746929a.jpg')]],\n",
       "      dtype=object)"
      ]
     },
     "execution_count": 99,
     "metadata": {},
     "output_type": "execute_result"
    }
   ],
   "source": [
    "slink_df.tail(2).values"
   ]
  },
  {
   "cell_type": "code",
   "execution_count": null,
   "id": "8af3db2c-056d-4d31-aad8-89951c4d7f63",
   "metadata": {},
   "outputs": [
    {
     "data": {
      "text/html": [
       "<div>\n",
       "<style scoped>\n",
       "    .dataframe tbody tr th:only-of-type {\n",
       "        vertical-align: middle;\n",
       "    }\n",
       "\n",
       "    .dataframe tbody tr th {\n",
       "        vertical-align: top;\n",
       "    }\n",
       "\n",
       "    .dataframe thead th {\n",
       "        text-align: right;\n",
       "    }\n",
       "</style>\n",
       "<table border=\"1\" class=\"dataframe\">\n",
       "  <thead>\n",
       "    <tr style=\"text-align: right;\">\n",
       "      <th></th>\n",
       "      <th>fname</th>\n",
       "      <th>label1_chi</th>\n",
       "      <th>bx1</th>\n",
       "      <th>bx2</th>\n",
       "      <th>bx3</th>\n",
       "      <th>bx4</th>\n",
       "      <th>label8</th>\n",
       "      <th>img_sp</th>\n",
       "      <th>width</th>\n",
       "      <th>height</th>\n",
       "      <th>label_sp</th>\n",
       "      <th>mode</th>\n",
       "      <th>label_tp</th>\n",
       "    </tr>\n",
       "  </thead>\n",
       "  <tbody>\n",
       "    <tr>\n",
       "      <th>0</th>\n",
       "      <td>008e4ecc-068a-4e94-af76-05fb5ecf699b.jpg</td>\n",
       "      <td>正装女鞋</td>\n",
       "      <td>0.417708</td>\n",
       "      <td>0.802083</td>\n",
       "      <td>0.435417</td>\n",
       "      <td>0.306250</td>\n",
       "      <td>0</td>\n",
       "      <td>/home/chenyi/workspace/dataset/data/haowei34k/...</td>\n",
       "      <td>960</td>\n",
       "      <td>960</td>\n",
       "      <td>/home/chenyi/workspace/dataset/haowei34k/label...</td>\n",
       "      <td>train</td>\n",
       "      <td>/home/chenyi/workspace/dataset/labels/dada_det...</td>\n",
       "    </tr>\n",
       "    <tr>\n",
       "      <th>1</th>\n",
       "      <td>03af19b7-ef94-4736-b33b-f92ae549aba8.jpg</td>\n",
       "      <td>包</td>\n",
       "      <td>0.595812</td>\n",
       "      <td>0.554543</td>\n",
       "      <td>0.724609</td>\n",
       "      <td>0.890914</td>\n",
       "      <td>1</td>\n",
       "      <td>/home/chenyi/workspace/dataset/data/haowei34k/...</td>\n",
       "      <td>4608</td>\n",
       "      <td>3456</td>\n",
       "      <td>/home/chenyi/workspace/dataset/haowei34k/label...</td>\n",
       "      <td>train</td>\n",
       "      <td>/home/chenyi/workspace/dataset/labels/dada_det...</td>\n",
       "    </tr>\n",
       "  </tbody>\n",
       "</table>\n",
       "</div>"
      ],
      "text/plain": [
       "                                      fname label1_chi       bx1       bx2  \\\n",
       "0  008e4ecc-068a-4e94-af76-05fb5ecf699b.jpg       正装女鞋  0.417708  0.802083   \n",
       "1  03af19b7-ef94-4736-b33b-f92ae549aba8.jpg          包  0.595812  0.554543   \n",
       "\n",
       "        bx3       bx4  label8  \\\n",
       "0  0.435417  0.306250       0   \n",
       "1  0.724609  0.890914       1   \n",
       "\n",
       "                                              img_sp  width  height  \\\n",
       "0  /home/chenyi/workspace/dataset/data/haowei34k/...    960     960   \n",
       "1  /home/chenyi/workspace/dataset/data/haowei34k/...   4608    3456   \n",
       "\n",
       "                                            label_sp   mode  \\\n",
       "0  /home/chenyi/workspace/dataset/haowei34k/label...  train   \n",
       "1  /home/chenyi/workspace/dataset/haowei34k/label...  train   \n",
       "\n",
       "                                            label_tp  \n",
       "0  /home/chenyi/workspace/dataset/labels/dada_det...  \n",
       "1  /home/chenyi/workspace/dataset/labels/dada_det...  "
      ]
     },
     "execution_count": 89,
     "metadata": {},
     "output_type": "execute_result"
    }
   ],
   "source": [
    "df.head(2)"
   ]
  },
  {
   "cell_type": "code",
   "execution_count": null,
   "id": "f8c60f77-15d1-4ddb-95bc-22d539af37c5",
   "metadata": {},
   "outputs": [],
   "source": []
  },
  {
   "cell_type": "code",
   "execution_count": 90,
   "id": "bac5c320-bb01-4e9a-8af3-1debe4c06d1d",
   "metadata": {},
   "outputs": [],
   "source": [
    "slink_df = pd.DataFrame()\n",
    "drop_df = df.drop_duplicates('img_sp')\n",
    "slink_df['img_sp'] = drop_df['img_sp']\n",
    "slink_df['label_sp'] = drop_df['label_tp']"
   ]
  },
  {
   "cell_type": "code",
   "execution_count": 94,
   "id": "19c3d3e2-a947-4072-9229-83ac2699ed02",
   "metadata": {},
   "outputs": [],
   "source": [
    "troot = Path('/home/chenyi/workspace/yolov5/datasets/dadet100kv1/')"
   ]
  },
  {
   "cell_type": "code",
   "execution_count": 95,
   "id": "29e2fef9-bb6c-4b0c-90ec-ca02e590d4b9",
   "metadata": {},
   "outputs": [],
   "source": [
    "slink_df['label_tp'] = slink_df['label_sp'].apply(lambda x: troot /'labels' /Path(x).parts[-2] /Path(x).parts[-1])"
   ]
  },
  {
   "cell_type": "code",
   "execution_count": 96,
   "id": "0aafdd3b-f86c-4efd-8761-2be9521fdb48",
   "metadata": {},
   "outputs": [],
   "source": [
    "slink_df['img_tp'] = slink_df['label_sp'].apply(lambda x: troot /'images' /Path(x).parts[-2] /Path(x).parts[-1])\n",
    "slink_df['img_tp'] = slink_df['img_tp'].apply(lambda x: x.with_suffix('.jpg'))"
   ]
  },
  {
   "cell_type": "code",
   "execution_count": null,
   "id": "d5a6dc1e-1910-42ab-9b9a-c67b8c3feb68",
   "metadata": {},
   "outputs": [],
   "source": []
  },
  {
   "cell_type": "code",
   "execution_count": 100,
   "id": "78343685-b1a7-4c41-8cb2-05dbd1b8ae5d",
   "metadata": {},
   "outputs": [],
   "source": [
    "slink_df.to_csv('./data/shoeBag5k0515/shoeBag0515_slink_df.csv', index=False)"
   ]
  },
  {
   "cell_type": "code",
   "execution_count": null,
   "id": "3db94b75-23ab-4eb8-9aa9-67c1b55eadd6",
   "metadata": {},
   "outputs": [],
   "source": []
  }
 ],
 "metadata": {
  "kernelspec": {
   "display_name": "Python 3 (ipykernel)",
   "language": "python",
   "name": "python3"
  },
  "language_info": {
   "codemirror_mode": {
    "name": "ipython",
    "version": 3
   },
   "file_extension": ".py",
   "mimetype": "text/x-python",
   "name": "python",
   "nbconvert_exporter": "python",
   "pygments_lexer": "ipython3",
   "version": "3.8.13"
  }
 },
 "nbformat": 4,
 "nbformat_minor": 5
}
