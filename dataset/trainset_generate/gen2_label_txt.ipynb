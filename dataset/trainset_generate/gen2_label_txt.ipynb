{
 "cells": [
  {
   "cell_type": "code",
   "execution_count": 1,
   "id": "965f48f1-99e7-49f5-a091-4d5f05a888f1",
   "metadata": {},
   "outputs": [],
   "source": [
    "import numpy as np\n",
    "import pandas as pd\n",
    "import glob\n",
    "import sys,os\n",
    "from pathlib import Path"
   ]
  },
  {
   "cell_type": "code",
   "execution_count": 2,
   "id": "59cb6ecd-1684-449f-af66-47030f806724",
   "metadata": {},
   "outputs": [],
   "source": [
    "from PIL import Image\n",
    "import cv2\n",
    "# import matplotlib.pyplot as plt"
   ]
  },
  {
   "cell_type": "code",
   "execution_count": 3,
   "id": "f1b52e83-327d-42ce-a6d3-87eaa8ceded5",
   "metadata": {},
   "outputs": [],
   "source": [
    "import pandas as pd"
   ]
  },
  {
   "cell_type": "code",
   "execution_count": 4,
   "id": "ca4f84b4-1181-46d2-b76b-4ebee47a3c21",
   "metadata": {},
   "outputs": [],
   "source": [
    "import json\n",
    "import pickle\n",
    "import re\n",
    "from tqdm import tqdm"
   ]
  },
  {
   "cell_type": "code",
   "execution_count": null,
   "id": "5c5eaf39-efab-4b31-b92c-8c0dfa1de4e8",
   "metadata": {},
   "outputs": [],
   "source": []
  },
  {
   "cell_type": "code",
   "execution_count": null,
   "id": "7a829f7f-5463-4b41-b869-5f96708c84f2",
   "metadata": {},
   "outputs": [],
   "source": []
  },
  {
   "cell_type": "markdown",
   "id": "7ef16afd-d8b3-45d3-bc2e-4e3ba09c0023",
   "metadata": {
    "jp-MarkdownHeadingCollapsed": true,
    "tags": []
   },
   "source": [
    "### 0.API"
   ]
  },
  {
   "cell_type": "code",
   "execution_count": null,
   "id": "cc57bfa3-8c1f-40c6-baf8-dfac0cc4b021",
   "metadata": {},
   "outputs": [],
   "source": [
    "sys.path.append('../../')\n",
    "from utils.plots.plots import draw_bbox"
   ]
  },
  {
   "cell_type": "code",
   "execution_count": null,
   "id": "c60290bc-6494-4da6-a633-e65b3c63ab1f",
   "metadata": {},
   "outputs": [],
   "source": []
  },
  {
   "cell_type": "code",
   "execution_count": null,
   "id": "2abb2d2c-53d0-4671-8e47-208be0c7f542",
   "metadata": {},
   "outputs": [],
   "source": [
    "# id_standard_df.to_csv('/home/chenyi/workspace/myPyModule99/dataset/labelMap/standard/id2class99_chenyi.csv', index=False)"
   ]
  },
  {
   "cell_type": "code",
   "execution_count": null,
   "id": "71d019b3-5cae-4d16-b06f-f88c1acc6ccd",
   "metadata": {},
   "outputs": [],
   "source": [
    "id_standard_df = pd.read_csv('/home/chenyi/workspace/myPyModule99/dataset/labelMap/standard/id2class99_chenyi.csv')\n",
    "id_use_df = id_standard_df[id_standard_df['use']>=0]"
   ]
  },
  {
   "cell_type": "code",
   "execution_count": null,
   "id": "73091c58-fc0c-42c1-9947-d8a025d4c569",
   "metadata": {},
   "outputs": [],
   "source": [
    "with open('/home/chenyi/workspace/myPyModule99/dataset/labelMap/standard/haowei34k_map_stand.json', 'r') as f:\n",
    "    hw2stand = json.load(f)"
   ]
  },
  {
   "cell_type": "code",
   "execution_count": 5,
   "id": "ddca4f12-25d6-43c5-ad9a-f05117e7e839",
   "metadata": {},
   "outputs": [],
   "source": [
    "def get_list2dict(k_list, v_list):\n",
    "    d = {}\n",
    "    for item in zip(k_list, v_list):\n",
    "        d[item[0]] = item[1]\n",
    "    return d"
   ]
  },
  {
   "cell_type": "code",
   "execution_count": 6,
   "id": "84c6b63f-ed24-45ac-ac02-0fdcf68980b2",
   "metadata": {},
   "outputs": [],
   "source": [
    "model_label_map = {\n",
    "    0: 10,  # 鞋子\n",
    "    1: 8,  # 包包\n",
    "    2: 4,  # 上装\n",
    "    3: 5,  # 裤子\n",
    "    4: 6,  # 裙子\n",
    "    5: 7,  # 连体装\n",
    "}"
   ]
  },
  {
   "cell_type": "code",
   "execution_count": null,
   "id": "19fdbf71-a7f4-4b0b-802d-e5235f308327",
   "metadata": {},
   "outputs": [],
   "source": []
  },
  {
   "cell_type": "code",
   "execution_count": null,
   "id": "7db49836-ff79-4792-b18c-da59a1131162",
   "metadata": {},
   "outputs": [],
   "source": [
    "# l2_map_l1 = get_list2dict( id_use_df['label99'].values, id_use_df['label_l1'].values)"
   ]
  },
  {
   "cell_type": "code",
   "execution_count": 7,
   "id": "94b37a1a-6613-452c-afed-78db8d686ba1",
   "metadata": {},
   "outputs": [],
   "source": [
    "label2model = get_list2dict( model_label_map.values(), model_label_map.keys())"
   ]
  },
  {
   "cell_type": "code",
   "execution_count": null,
   "id": "72724921-7275-4fa3-a8f6-210c439a45c8",
   "metadata": {},
   "outputs": [],
   "source": []
  },
  {
   "cell_type": "code",
   "execution_count": null,
   "id": "ca44ed4e-b38e-44b5-8a1b-27028108e588",
   "metadata": {},
   "outputs": [],
   "source": []
  },
  {
   "cell_type": "markdown",
   "id": "1354d993-c902-4efa-b5a0-4c9bc0bdfede",
   "metadata": {
    "tags": []
   },
   "source": [
    "### 1.Dataset Information."
   ]
  },
  {
   "cell_type": "code",
   "execution_count": null,
   "id": "539012cf-b527-4dca-9c9b-acc6468aa541",
   "metadata": {},
   "outputs": [],
   "source": [
    "import numpy as np"
   ]
  },
  {
   "cell_type": "code",
   "execution_count": null,
   "id": "e9c44857-76ff-4b41-86ac-55675eab1ea0",
   "metadata": {},
   "outputs": [],
   "source": [
    "# openfashion_pd.to_csv('./data/hw34k_bbox_info.csv', index=False)\n",
    "openfashion_pd = pd.read_csv('./data/hw34k_bbox_info.csv')"
   ]
  },
  {
   "cell_type": "code",
   "execution_count": null,
   "id": "d686c50f-736e-453b-aa8a-3b0ce27350d6",
   "metadata": {},
   "outputs": [],
   "source": [
    "# p = '/home/chenyi/workspace/myPyModule99/data_format/haowei34k_voc_bboxes_relabel.csv'\n",
    "# openfashion_pd.to_csv(p, index=False)"
   ]
  },
  {
   "cell_type": "code",
   "execution_count": null,
   "id": "d4ed3a0d-f8bf-4f70-be54-d6bfda819941",
   "metadata": {},
   "outputs": [],
   "source": [
    "openfashion_pd.reset_index(inplace=True, drop=True)\n",
    "openfashion_pd['folder'] = openfashion_pd.apply(lambda x: x, axis=1)"
   ]
  },
  {
   "cell_type": "code",
   "execution_count": null,
   "id": "543a3019-ab94-4ea6-9a05-098d00226505",
   "metadata": {},
   "outputs": [],
   "source": [
    "openfashion_pd['label1_chi'] = -1\n",
    "openfashion_pd['label1_chi'] = openfashion_pd['label8'].map(id2eng_l1)"
   ]
  },
  {
   "cell_type": "code",
   "execution_count": null,
   "id": "044ba857-5830-477a-939b-ead4da179f7d",
   "metadata": {},
   "outputs": [],
   "source": [
    "openfashion_pd['label2_eng'] = openfashion_pd['label99'].map(id2eng_l2)"
   ]
  },
  {
   "cell_type": "code",
   "execution_count": null,
   "id": "68b9fd26-9d83-4545-ade2-07bfa9280347",
   "metadata": {},
   "outputs": [],
   "source": [
    "openfashion_pd['img_tp'] = openfashion_pd['img_sp'].apply(lambda x:)"
   ]
  },
  {
   "cell_type": "code",
   "execution_count": null,
   "id": "0c17ab04-767f-495b-b40a-18455aad0322",
   "metadata": {},
   "outputs": [],
   "source": []
  },
  {
   "cell_type": "code",
   "execution_count": null,
   "id": "a8ea3b5f-89fb-40df-af9e-62d1f52bcd38",
   "metadata": {},
   "outputs": [],
   "source": []
  },
  {
   "cell_type": "code",
   "execution_count": null,
   "id": "e27b4b10-6eef-482c-83cf-99fd618f620d",
   "metadata": {},
   "outputs": [],
   "source": []
  },
  {
   "cell_type": "markdown",
   "id": "6415cb53-2ac4-4540-8719-6825533709a3",
   "metadata": {
    "tags": []
   },
   "source": [
    "### 画图"
   ]
  },
  {
   "cell_type": "code",
   "execution_count": null,
   "id": "26108938-3945-4d7f-8b22-bf085ba7e913",
   "metadata": {},
   "outputs": [],
   "source": [
    "df = openfashion_pd"
   ]
  },
  {
   "cell_type": "code",
   "execution_count": null,
   "id": "2437ce54-032a-4f09-af72-287e8b1c0d18",
   "metadata": {},
   "outputs": [],
   "source": [
    "df.head(2)"
   ]
  },
  {
   "cell_type": "code",
   "execution_count": null,
   "id": "82c6898f-630e-49ff-b7ac-2aa68a42bd57",
   "metadata": {},
   "outputs": [],
   "source": [
    "gp = dict(list(df.groupby('img_sp')))"
   ]
  },
  {
   "cell_type": "code",
   "execution_count": null,
   "id": "95fc701e-add3-4ab2-832d-7cc21a551096",
   "metadata": {},
   "outputs": [],
   "source": [
    "gp[list(gp.keys())[0]]"
   ]
  },
  {
   "cell_type": "code",
   "execution_count": null,
   "id": "2563a11e-d9c1-486f-9c50-f64d69d6e7e9",
   "metadata": {},
   "outputs": [],
   "source": []
  },
  {
   "cell_type": "code",
   "execution_count": null,
   "id": "447e11d5-f225-4036-802c-29951a451846",
   "metadata": {},
   "outputs": [],
   "source": []
  },
  {
   "cell_type": "code",
   "execution_count": null,
   "id": "76ddf764-fa3c-494b-8696-61a3ab4eec0b",
   "metadata": {
    "tags": []
   },
   "outputs": [],
   "source": [
    "import cv2\n",
    "TROOT = '/nas/chenyi/datasets_cls/haowei34k_drawed/images/'\n",
    "for k,v in tqdm(gp.items()):\n",
    "    k_p = Path(k)\n",
    "    img_np = cv2.imread(k)\n",
    "    # img_np = cv2.cvtColor(img_np, cv2.COLOR_BGR2RGB)\n",
    "    bboxes = v.loc[:, ['label2_eng', 'xmin', 'ymin', 'xmax', 'ymax']].values\n",
    "    mode = v['mode'].values[0]\n",
    "    tp = Path('{0}{1}/{2}/{3}'.format(TROOT, mode, np.random.randint(0,1000), k_p.name))\n",
    "    for bx in bboxes:\n",
    "        img_np = draw_bbox(img_np, bx, fontScale=1)\n",
    "    if not tp.parent.is_dir():\n",
    "        tp.parent.mkdir(exist_ok=True, parents=True)\n",
    "    try:\n",
    "        cv2.imwrite(str(tp),img_np)\n",
    "    except:\n",
    "        print('error: p')\n",
    "    # break"
   ]
  },
  {
   "cell_type": "code",
   "execution_count": null,
   "id": "b2c2c034-ba18-458d-b696-a7bf6ba0616f",
   "metadata": {},
   "outputs": [],
   "source": []
  },
  {
   "cell_type": "code",
   "execution_count": null,
   "id": "b51d630b-17d6-40bc-87ca-c6338f9b39c5",
   "metadata": {},
   "outputs": [],
   "source": []
  },
  {
   "cell_type": "code",
   "execution_count": null,
   "id": "90965f07-c182-4c43-a9af-3cf69caab578",
   "metadata": {},
   "outputs": [],
   "source": [
    "Image.fromarray(a)"
   ]
  },
  {
   "cell_type": "code",
   "execution_count": null,
   "id": "f25d6a02-0e50-4fae-8db4-a0edd870b56f",
   "metadata": {},
   "outputs": [],
   "source": [
    "slink_df = pd.read_csv('./data/hw34k_level1_slink.csv')"
   ]
  },
  {
   "cell_type": "code",
   "execution_count": null,
   "id": "42b17c8f-adb9-4ee8-b6f1-921376bdd967",
   "metadata": {},
   "outputs": [],
   "source": [
    "slink_df.head(2)"
   ]
  },
  {
   "cell_type": "code",
   "execution_count": null,
   "id": "75a3b17f-865d-4cc5-8216-671f7b9899c3",
   "metadata": {},
   "outputs": [],
   "source": [
    "fname2path = get_list2dict(slink_df['fname'].values, slink_df['image_spath'].values)"
   ]
  },
  {
   "cell_type": "code",
   "execution_count": null,
   "id": "b062d7df-4af7-47ae-b1aa-0705fe184995",
   "metadata": {},
   "outputs": [],
   "source": [
    "openfashion_pd['img_sp'] = openfashion_pd['fname'].map(fname2path)"
   ]
  },
  {
   "cell_type": "code",
   "execution_count": null,
   "id": "19c1321f-1fb6-44eb-9f60-c51720238a9f",
   "metadata": {},
   "outputs": [],
   "source": []
  },
  {
   "cell_type": "code",
   "execution_count": null,
   "id": "db1181ab-e4be-4ac1-a1c1-faa2ac20c815",
   "metadata": {},
   "outputs": [],
   "source": []
  },
  {
   "cell_type": "code",
   "execution_count": null,
   "id": "09359bd1-92ed-42f1-b42f-d7e8e5b8e1ca",
   "metadata": {},
   "outputs": [],
   "source": []
  },
  {
   "cell_type": "code",
   "execution_count": null,
   "id": "6b8a3f18-4e44-4946-9414-08e44d0d3b9a",
   "metadata": {},
   "outputs": [],
   "source": [
    "openfashion_pd.head()"
   ]
  },
  {
   "cell_type": "code",
   "execution_count": null,
   "id": "820bb490-4b68-4262-9596-d2dbfbd25eea",
   "metadata": {},
   "outputs": [],
   "source": [
    "counter = openfashion_pd.value_counts('label8').sort_index()"
   ]
  },
  {
   "cell_type": "code",
   "execution_count": null,
   "id": "da7d0eea-24f5-49db-9639-616a284747a7",
   "metadata": {},
   "outputs": [],
   "source": [
    "id_list = np.array(counter.axes)[0]\n",
    "numbers = counter.values\n",
    "name_list = [str(x) + ':' + id2eng_l1[x] for x in id_list]"
   ]
  },
  {
   "cell_type": "code",
   "execution_count": null,
   "id": "84250c81-b29c-42c7-9b1f-93249ca93722",
   "metadata": {},
   "outputs": [],
   "source": [
    "plt.figure(figsize=(25, 7))\n",
    "plt.xticks(list(range(len(name_list))), name_list, rotation=75, fontsize=14)\n",
    "plt.bar(name_list, numbers, width=0.5)  # 绘制y刻度标签\n",
    "for a, b in zip(name_list, numbers):\n",
    "    plt.text(a, b, b, ha='center', va='bottom')\n",
    "plt.show()"
   ]
  },
  {
   "cell_type": "code",
   "execution_count": null,
   "id": "90624d36-dd31-4e7a-9978-30f393fa57fa",
   "metadata": {},
   "outputs": [],
   "source": []
  },
  {
   "cell_type": "code",
   "execution_count": null,
   "id": "7c209f3c-2110-44b0-a4d3-d7abd6af494c",
   "metadata": {},
   "outputs": [],
   "source": []
  },
  {
   "cell_type": "code",
   "execution_count": null,
   "id": "d81f9689-5ad3-48d3-9841-81ed3814b6c8",
   "metadata": {},
   "outputs": [],
   "source": []
  },
  {
   "cell_type": "code",
   "execution_count": null,
   "id": "08ccdfb9-fbda-4051-9188-692ec9575695",
   "metadata": {},
   "outputs": [],
   "source": []
  },
  {
   "cell_type": "code",
   "execution_count": null,
   "id": "95fb1e92-5ea9-4dc0-b943-1d364d28eb88",
   "metadata": {},
   "outputs": [],
   "source": []
  },
  {
   "cell_type": "markdown",
   "id": "ccb9c20f-8bc5-4c9f-a7d6-bff7121e9c5a",
   "metadata": {
    "tags": []
   },
   "source": [
    "### target label"
   ]
  },
  {
   "cell_type": "code",
   "execution_count": 8,
   "id": "81692d25-007f-43eb-91ed-7ca255d754db",
   "metadata": {},
   "outputs": [
    {
     "name": "stdout",
     "output_type": "stream",
     "text": [
      "\u001b[01;34m/home/chenyi/workspace/dataset/labels/\u001b[00m\n",
      "├── \u001b[01;34mdada_det\u001b[00m\n",
      "│   ├── \u001b[01;34mlabels100k_skirt_df2\u001b[00m\n",
      "│   ├── \u001b[01;34mlabels202205\u001b[00m\n",
      "│   ├── \u001b[01;34mlabels202206\u001b[00m\n",
      "│   └── \u001b[01;34mlabels_sys_error\u001b[00m\n",
      "└── \u001b[01;34mlabels6\u001b[00m\n",
      "    ├── \u001b[01;34mfashionpedia\u001b[00m\n",
      "    ├── \u001b[01;34mhaowei34k\u001b[00m\n",
      "    └── \u001b[01;34mlabels_exp\u001b[00m\n",
      "\n",
      "9 directories\n"
     ]
    }
   ],
   "source": [
    "!tree -d -L 2 /home/chenyi/workspace/dataset/labels/"
   ]
  },
  {
   "cell_type": "code",
   "execution_count": 16,
   "id": "06eeae38-2ec9-4606-8996-ddd393f85011",
   "metadata": {},
   "outputs": [],
   "source": [
    "# !mkdir -p /home/chenyi/workspace/dataset/labels/labels6/labels_exp/dadetGallv4_del/labels"
   ]
  },
  {
   "cell_type": "code",
   "execution_count": 17,
   "id": "247d71f0-bfea-41c5-b88e-504840e806b9",
   "metadata": {},
   "outputs": [],
   "source": [
    "df = pd.read_csv('./data/exps/dadetGallv4_del.csv')"
   ]
  },
  {
   "cell_type": "code",
   "execution_count": 18,
   "id": "0c8abae2-ffff-430b-a58b-170eb3806c53",
   "metadata": {},
   "outputs": [
    {
     "data": {
      "text/plain": [
       "219575"
      ]
     },
     "execution_count": 18,
     "metadata": {},
     "output_type": "execute_result"
    }
   ],
   "source": [
    "len(df)"
   ]
  },
  {
   "cell_type": "code",
   "execution_count": 19,
   "id": "a2168605-c0c1-401a-b7c6-1c86ed97aa95",
   "metadata": {},
   "outputs": [
    {
     "data": {
      "text/plain": [
       "label_model\n",
       "0    84461\n",
       "2    52819\n",
       "3    27599\n",
       "1    22206\n",
       "5    22190\n",
       "4    10300\n",
       "dtype: int64"
      ]
     },
     "execution_count": 19,
     "metadata": {},
     "output_type": "execute_result"
    }
   ],
   "source": [
    "df.value_counts('label_model')"
   ]
  },
  {
   "cell_type": "code",
   "execution_count": 12,
   "id": "141ca194-27b4-4f32-9e9a-4bcd8f1eb2db",
   "metadata": {},
   "outputs": [],
   "source": [
    "df = df[df['label_model']>=0]"
   ]
  },
  {
   "cell_type": "code",
   "execution_count": null,
   "id": "5218f46a-32ef-46de-aee1-e644fbd0479e",
   "metadata": {},
   "outputs": [],
   "source": []
  },
  {
   "cell_type": "code",
   "execution_count": null,
   "id": "9baa695b-4137-4f0d-abba-a95b7c38bd47",
   "metadata": {},
   "outputs": [],
   "source": []
  },
  {
   "cell_type": "markdown",
   "id": "b922a49e-e0ca-4dc8-88d2-adbf67262d8e",
   "metadata": {
    "tags": []
   },
   "source": [
    "#### source label path"
   ]
  },
  {
   "cell_type": "code",
   "execution_count": 20,
   "id": "e678b389-ec3c-463c-90ab-f1e02f4cf5af",
   "metadata": {},
   "outputs": [
    {
     "data": {
      "text/html": [
       "<div>\n",
       "<style scoped>\n",
       "    .dataframe tbody tr th:only-of-type {\n",
       "        vertical-align: middle;\n",
       "    }\n",
       "\n",
       "    .dataframe tbody tr th {\n",
       "        vertical-align: top;\n",
       "    }\n",
       "\n",
       "    .dataframe thead th {\n",
       "        text-align: right;\n",
       "    }\n",
       "</style>\n",
       "<table border=\"1\" class=\"dataframe\">\n",
       "  <thead>\n",
       "    <tr style=\"text-align: right;\">\n",
       "      <th></th>\n",
       "      <th>source</th>\n",
       "      <th>img_sp</th>\n",
       "      <th>width</th>\n",
       "      <th>height</th>\n",
       "      <th>bx1</th>\n",
       "      <th>bx2</th>\n",
       "      <th>bx3</th>\n",
       "      <th>bx4</th>\n",
       "      <th>label_model</th>\n",
       "      <th>mode</th>\n",
       "      <th>stem</th>\n",
       "    </tr>\n",
       "  </thead>\n",
       "  <tbody>\n",
       "    <tr>\n",
       "      <th>0</th>\n",
       "      <td>fashionpedia</td>\n",
       "      <td>/home/chenyi/workspace/dataset/data/data_fashi...</td>\n",
       "      <td>683.0</td>\n",
       "      <td>1024.0</td>\n",
       "      <td>0.461933</td>\n",
       "      <td>0.87793</td>\n",
       "      <td>0.074671</td>\n",
       "      <td>0.136719</td>\n",
       "      <td>0</td>\n",
       "      <td>train</td>\n",
       "      <td>c13d5c79b7bd1071eeb288d809c0ab52</td>\n",
       "    </tr>\n",
       "  </tbody>\n",
       "</table>\n",
       "</div>"
      ],
      "text/plain": [
       "         source                                             img_sp  width  \\\n",
       "0  fashionpedia  /home/chenyi/workspace/dataset/data/data_fashi...  683.0   \n",
       "\n",
       "   height       bx1      bx2       bx3       bx4  label_model   mode  \\\n",
       "0  1024.0  0.461933  0.87793  0.074671  0.136719            0  train   \n",
       "\n",
       "                               stem  \n",
       "0  c13d5c79b7bd1071eeb288d809c0ab52  "
      ]
     },
     "execution_count": 20,
     "metadata": {},
     "output_type": "execute_result"
    }
   ],
   "source": [
    "df.head(1)"
   ]
  },
  {
   "cell_type": "code",
   "execution_count": 21,
   "id": "2dad0da4-a120-4e03-975f-2d9f7534cedf",
   "metadata": {},
   "outputs": [],
   "source": [
    "!ls /home/chenyi/workspace/dataset/labels/labels6/labels_exp/dadetGallv4_del/labels"
   ]
  },
  {
   "cell_type": "code",
   "execution_count": 22,
   "id": "69701ef5-7405-4093-bb8b-556caac25cf1",
   "metadata": {},
   "outputs": [],
   "source": [
    "root = '/home/chenyi/workspace/dataset/labels/labels6/labels_exp/dadetGallv4_del/labels/'"
   ]
  },
  {
   "cell_type": "code",
   "execution_count": 23,
   "id": "9b6d19d1-47a0-4187-a165-ee80acecbbdc",
   "metadata": {},
   "outputs": [],
   "source": [
    "df['label_tpath'] = df.apply(lambda row: Path('{0}{1}/{2}.txt'.format(root, row['mode'], row['stem'])), axis=1)"
   ]
  },
  {
   "cell_type": "code",
   "execution_count": null,
   "id": "1c3887cd-0ad2-452b-9a92-bf7fcf55dffa",
   "metadata": {},
   "outputs": [],
   "source": [
    "# df.to_csv('./data/hw34k_bbox_info.csv', index=False)"
   ]
  },
  {
   "cell_type": "code",
   "execution_count": null,
   "id": "52a45738-a961-4ffe-966c-426207b519ac",
   "metadata": {},
   "outputs": [],
   "source": []
  },
  {
   "cell_type": "code",
   "execution_count": null,
   "id": "5d493ec6-17f8-45c9-b7fc-928982f34c4b",
   "metadata": {},
   "outputs": [],
   "source": []
  },
  {
   "cell_type": "markdown",
   "id": "ae551ebb-adcd-43ef-a074-16f4d2f2a320",
   "metadata": {
    "tags": []
   },
   "source": [
    "#### 生成txt"
   ]
  },
  {
   "cell_type": "code",
   "execution_count": 24,
   "id": "7abe5cbf-ef96-461a-a35a-40592f069cc4",
   "metadata": {},
   "outputs": [],
   "source": [
    "sys.path.append('../../')"
   ]
  },
  {
   "cell_type": "code",
   "execution_count": 25,
   "id": "3a7be887-a584-499d-ae17-371372d74315",
   "metadata": {},
   "outputs": [],
   "source": [
    "from utils.bbox.conversation import bbox_coco2voc,bbox_voc2yolo,bbox_yolo2voc"
   ]
  },
  {
   "cell_type": "code",
   "execution_count": null,
   "id": "d630ff2a-53e3-46b7-afbf-0aab56797574",
   "metadata": {},
   "outputs": [],
   "source": []
  },
  {
   "cell_type": "code",
   "execution_count": 27,
   "id": "173c0b67-4437-4247-8e56-2d84e7a5bfcd",
   "metadata": {},
   "outputs": [
    {
     "data": {
      "text/html": [
       "<div>\n",
       "<style scoped>\n",
       "    .dataframe tbody tr th:only-of-type {\n",
       "        vertical-align: middle;\n",
       "    }\n",
       "\n",
       "    .dataframe tbody tr th {\n",
       "        vertical-align: top;\n",
       "    }\n",
       "\n",
       "    .dataframe thead th {\n",
       "        text-align: right;\n",
       "    }\n",
       "</style>\n",
       "<table border=\"1\" class=\"dataframe\">\n",
       "  <thead>\n",
       "    <tr style=\"text-align: right;\">\n",
       "      <th></th>\n",
       "      <th>source</th>\n",
       "      <th>img_sp</th>\n",
       "      <th>width</th>\n",
       "      <th>height</th>\n",
       "      <th>bx1</th>\n",
       "      <th>bx2</th>\n",
       "      <th>bx3</th>\n",
       "      <th>bx4</th>\n",
       "      <th>label_model</th>\n",
       "      <th>mode</th>\n",
       "      <th>stem</th>\n",
       "      <th>label_tpath</th>\n",
       "    </tr>\n",
       "  </thead>\n",
       "  <tbody>\n",
       "    <tr>\n",
       "      <th>0</th>\n",
       "      <td>fashionpedia</td>\n",
       "      <td>/home/chenyi/workspace/dataset/data/data_fashi...</td>\n",
       "      <td>683.0</td>\n",
       "      <td>1024.0</td>\n",
       "      <td>0.461933</td>\n",
       "      <td>0.87793</td>\n",
       "      <td>0.074671</td>\n",
       "      <td>0.136719</td>\n",
       "      <td>0</td>\n",
       "      <td>train</td>\n",
       "      <td>c13d5c79b7bd1071eeb288d809c0ab52</td>\n",
       "      <td>/home/chenyi/workspace/dataset/labels/labels6/...</td>\n",
       "    </tr>\n",
       "    <tr>\n",
       "      <th>1</th>\n",
       "      <td>haowei34k</td>\n",
       "      <td>/home/chenyi/workspace/dataset/data/haowei34k/...</td>\n",
       "      <td>800.0</td>\n",
       "      <td>1000.0</td>\n",
       "      <td>0.491250</td>\n",
       "      <td>0.92050</td>\n",
       "      <td>0.062500</td>\n",
       "      <td>0.077000</td>\n",
       "      <td>0</td>\n",
       "      <td>train</td>\n",
       "      <td>20170510091134139</td>\n",
       "      <td>/home/chenyi/workspace/dataset/labels/labels6/...</td>\n",
       "    </tr>\n",
       "  </tbody>\n",
       "</table>\n",
       "</div>"
      ],
      "text/plain": [
       "         source                                             img_sp  width  \\\n",
       "0  fashionpedia  /home/chenyi/workspace/dataset/data/data_fashi...  683.0   \n",
       "1     haowei34k  /home/chenyi/workspace/dataset/data/haowei34k/...  800.0   \n",
       "\n",
       "   height       bx1      bx2       bx3       bx4  label_model   mode  \\\n",
       "0  1024.0  0.461933  0.87793  0.074671  0.136719            0  train   \n",
       "1  1000.0  0.491250  0.92050  0.062500  0.077000            0  train   \n",
       "\n",
       "                               stem  \\\n",
       "0  c13d5c79b7bd1071eeb288d809c0ab52   \n",
       "1                 20170510091134139   \n",
       "\n",
       "                                         label_tpath  \n",
       "0  /home/chenyi/workspace/dataset/labels/labels6/...  \n",
       "1  /home/chenyi/workspace/dataset/labels/labels6/...  "
      ]
     },
     "execution_count": 27,
     "metadata": {},
     "output_type": "execute_result"
    }
   ],
   "source": [
    "df.head(2)"
   ]
  },
  {
   "cell_type": "code",
   "execution_count": null,
   "id": "5a3f139f-a077-47cc-bfe8-60ba0ad6861e",
   "metadata": {},
   "outputs": [],
   "source": [
    "df['label_model'] = df['label8'].map(label2model)"
   ]
  },
  {
   "cell_type": "code",
   "execution_count": 28,
   "id": "cdc7f95a-77fc-4c77-909f-dd015c5d41dc",
   "metadata": {},
   "outputs": [
    {
     "data": {
      "text/plain": [
       "label_model\n",
       "0    84461\n",
       "2    52819\n",
       "3    27599\n",
       "1    22206\n",
       "5    22190\n",
       "4    10300\n",
       "dtype: int64"
      ]
     },
     "execution_count": 28,
     "metadata": {},
     "output_type": "execute_result"
    }
   ],
   "source": [
    "df.value_counts('label_model')"
   ]
  },
  {
   "cell_type": "code",
   "execution_count": null,
   "id": "7b1e009f-13b4-491b-874c-464a7964cf7a",
   "metadata": {},
   "outputs": [],
   "source": []
  },
  {
   "cell_type": "code",
   "execution_count": 29,
   "id": "d324ff70-4de5-4acd-8641-8d66484e3104",
   "metadata": {},
   "outputs": [
    {
     "name": "stderr",
     "output_type": "stream",
     "text": [
      "219575it [00:45, 4827.55it/s]\n"
     ]
    }
   ],
   "source": [
    "bboxes_list = []\n",
    "for ind,row in tqdm(df.iterrows()):\n",
    "    bbox7 = row.loc[['label_model', 'bx1', 'bx2', 'bx3', 'bx4', 'width', 'height']].values.tolist()\n",
    "    bbox5 = bbox7[:6]\n",
    "    # bbox5[1:] = bbox_voc2yolo(bbox5[1:], bbox7[5], bbox7[6])\n",
    "    bbox5_str = '{0:.0f} {1:.6f} {2:.6f} {3:.6f} {4:.6f}\\n'.format(*bbox5)\n",
    "    bboxes_list.append(bbox5_str)\n",
    "    # break"
   ]
  },
  {
   "cell_type": "code",
   "execution_count": null,
   "id": "db0f5140-8acb-423f-ad3b-ab609c4d4381",
   "metadata": {},
   "outputs": [],
   "source": [
    "# bboxes_list = []\n",
    "# for ind,row in tqdm(df.iterrows()):\n",
    "#     bbox7 = row.loc[['label_model', 'xmin', 'ymin', 'xmax', 'ymax', 'width', 'height']].values.tolist()\n",
    "#     bbox5 = bbox7[:6]\n",
    "#     # bbox5[1:] = bbox_voc2yolo(bbox5[1:], bbox7[5], bbox7[6])\n",
    "#     bbox5_str = '{0:.0f} {1:.6f} {2:.6f} {3:.6f} {4:.6f}\\n'.format(*bbox5)\n",
    "#     bboxes_list.append(bbox5_str)\n",
    "#     # break"
   ]
  },
  {
   "cell_type": "code",
   "execution_count": 26,
   "id": "5bd550a6-9860-4752-bb91-24b9a915a960",
   "metadata": {},
   "outputs": [
    {
     "data": {
      "text/plain": [
       "'0 0.291781 0.864084 0.113699 0.161387\\n'"
      ]
     },
     "execution_count": 26,
     "metadata": {},
     "output_type": "execute_result"
    }
   ],
   "source": [
    "bboxes_list[-1]"
   ]
  },
  {
   "cell_type": "code",
   "execution_count": null,
   "id": "0aa6944a-22a4-4ec9-a44c-b7b239acef39",
   "metadata": {},
   "outputs": [],
   "source": []
  },
  {
   "cell_type": "code",
   "execution_count": 30,
   "id": "e1f3ac86-6d97-4e82-800e-a84458413e8f",
   "metadata": {},
   "outputs": [],
   "source": [
    "def write_txt(label_path, text):\n",
    "    # label_path, text = input_list[0], input_list[1]\n",
    "    label_path = Path(label_path)\n",
    "    p_parent = label_path.parent\n",
    "    if not p_parent.is_dir():\n",
    "        p_parent.mkdir(parents=True)\n",
    "    if not p_parent.is_file():\n",
    "        with open(label_path, 'a+') as f:\n",
    "            f.write(text)"
   ]
  },
  {
   "cell_type": "code",
   "execution_count": null,
   "id": "ffb1ec02-a6fe-4ac5-9298-87fe1b9a2705",
   "metadata": {},
   "outputs": [],
   "source": [
    "# import shutil\n",
    "# if Path(df['label_tpath'].values[0]).parents[1].is_dir():\n",
    "#     shutil.rmtree(Path(df['label_tpath'].values[0]).parents[1])"
   ]
  },
  {
   "cell_type": "code",
   "execution_count": 31,
   "id": "b608ed89-10e1-4bfe-a235-d5239ab108c7",
   "metadata": {},
   "outputs": [
    {
     "name": "stderr",
     "output_type": "stream",
     "text": [
      "219575it [00:06, 34537.20it/s]\n"
     ]
    }
   ],
   "source": [
    "for label_path, text in tqdm(zip(df['label_tpath'].values, bboxes_list)):\n",
    "    write_txt(label_path, text)\n",
    "    # break"
   ]
  },
  {
   "cell_type": "code",
   "execution_count": 32,
   "id": "9d5c5dbd-a872-4819-8446-ecec1ec17b55",
   "metadata": {},
   "outputs": [
    {
     "data": {
      "text/plain": [
       "(PosixPath('/home/chenyi/workspace/dataset/labels/labels6/labels_exp/dadetGallv4_del/labels/val/20140305215504279.txt'),\n",
       " '0 0.552885 0.824800 0.091346 0.059200\\n')"
      ]
     },
     "execution_count": 32,
     "metadata": {},
     "output_type": "execute_result"
    }
   ],
   "source": [
    "label_path,text"
   ]
  },
  {
   "cell_type": "code",
   "execution_count": 33,
   "id": "549a5700-86aa-4f37-8010-7213253765be",
   "metadata": {},
   "outputs": [
    {
     "name": "stdout",
     "output_type": "stream",
     "text": [
      "5 0.451923 0.510400 0.302885 0.553600\n",
      "1 0.638221 0.448000 0.161058 0.150400\n",
      "0 0.486779 0.851200 0.074519 0.080000\n",
      "0 0.552885 0.824800 0.091346 0.059200\n"
     ]
    }
   ],
   "source": [
    "!cat $label_path"
   ]
  },
  {
   "cell_type": "code",
   "execution_count": null,
   "id": "6e23d96d-ede0-421c-9d19-f43ea6e6047f",
   "metadata": {},
   "outputs": [],
   "source": []
  },
  {
   "cell_type": "code",
   "execution_count": null,
   "id": "b00c7078-1c8a-43b6-9bce-5889fca1d0a1",
   "metadata": {},
   "outputs": [],
   "source": []
  },
  {
   "cell_type": "markdown",
   "id": "0e265dd4-82a0-46b8-b756-a59f13b88c4f",
   "metadata": {
    "tags": []
   },
   "source": [
    "#### 生成软连接的path"
   ]
  },
  {
   "cell_type": "code",
   "execution_count": 36,
   "id": "0b2f8086-c149-4e44-8c55-65ca15a7df90",
   "metadata": {},
   "outputs": [
    {
     "name": "stdout",
     "output_type": "stream",
     "text": [
      "\u001b[01;34m/home/chenyi/workspace/dataset/data/\u001b[00m\n",
      "├── \u001b[01;34mdada_det\u001b[00m\n",
      "├── \u001b[01;34mdata_fashionpedia\u001b[00m\n",
      "├── \u001b[01;34mdeepedia\u001b[00m\n",
      "├── \u001b[01;34mDeepFashion2\u001b[00m\n",
      "├── \u001b[01;34mhaowei34k\u001b[00m\n",
      "└── \u001b[01;34mtar\u001b[00m\n",
      "\n",
      "6 directories\n"
     ]
    }
   ],
   "source": [
    "!tree -d -L 1 /home/chenyi/workspace/dataset/data/"
   ]
  },
  {
   "cell_type": "code",
   "execution_count": 37,
   "id": "eff0a8b5-a0bd-4260-ae68-5ef6dd2c0185",
   "metadata": {},
   "outputs": [
    {
     "name": "stdout",
     "output_type": "stream",
     "text": [
      "\u001b[01;34m/home/chenyi/workspace/yolov5/datasets/\u001b[00m\n",
      "├── \u001b[01;34mcoco128\u001b[00m\n",
      "├── \u001b[01;34mdadet100kv2\u001b[00m\n",
      "├── \u001b[01;34mdadet100kv3_june\u001b[00m\n",
      "├── \u001b[01;34mdadet100kv4_1_june\u001b[00m\n",
      "├── \u001b[01;34mdadet100kv4_june\u001b[00m\n",
      "├── \u001b[01;34mdadet_gallv4_june\u001b[00m\n",
      "├── \u001b[01;34mdataExps\u001b[00m\n",
      "├── \u001b[01;34mdeepedia\u001b[00m\n",
      "├── \u001b[01;34mdeepedia_catg6\u001b[00m\n",
      "├── \u001b[01;34mdeepedia_catg8\u001b[00m\n",
      "├── \u001b[01;34mhaowei_bag_shoe\u001b[00m\n",
      "├── \u001b[01;34mhwpedia\u001b[00m\n",
      "├── \u001b[01;34mhwpedia80k\u001b[00m\n",
      "├── \u001b[01;34mtuneGallery10k\u001b[00m\n",
      "├── \u001b[01;34mtuneGallery5k\u001b[00m\n",
      "├── \u001b[01;34mtuneQuery10k\u001b[00m\n",
      "└── \u001b[01;34mvalidation_all\u001b[00m\n",
      "\n",
      "17 directories\n"
     ]
    }
   ],
   "source": [
    "!tree -d -L 1 /home/chenyi/workspace/yolov5/datasets/"
   ]
  },
  {
   "cell_type": "code",
   "execution_count": 36,
   "id": "dab763c7-ca9c-478d-80e0-9756520afc76",
   "metadata": {},
   "outputs": [],
   "source": [
    "# !mkdir -p /home/chenyi/workspace/yolov5/datasets/dataExps/gall10k_delBox"
   ]
  },
  {
   "cell_type": "code",
   "execution_count": 38,
   "id": "2cd56dc5-d717-40bb-ad09-8d0050378fc0",
   "metadata": {},
   "outputs": [
    {
     "data": {
      "text/html": [
       "<div>\n",
       "<style scoped>\n",
       "    .dataframe tbody tr th:only-of-type {\n",
       "        vertical-align: middle;\n",
       "    }\n",
       "\n",
       "    .dataframe tbody tr th {\n",
       "        vertical-align: top;\n",
       "    }\n",
       "\n",
       "    .dataframe thead th {\n",
       "        text-align: right;\n",
       "    }\n",
       "</style>\n",
       "<table border=\"1\" class=\"dataframe\">\n",
       "  <thead>\n",
       "    <tr style=\"text-align: right;\">\n",
       "      <th></th>\n",
       "      <th>source</th>\n",
       "      <th>img_sp</th>\n",
       "      <th>width</th>\n",
       "      <th>height</th>\n",
       "      <th>bx1</th>\n",
       "      <th>bx2</th>\n",
       "      <th>bx3</th>\n",
       "      <th>bx4</th>\n",
       "      <th>label_model</th>\n",
       "      <th>mode</th>\n",
       "      <th>stem</th>\n",
       "      <th>label_tpath</th>\n",
       "    </tr>\n",
       "  </thead>\n",
       "  <tbody>\n",
       "    <tr>\n",
       "      <th>0</th>\n",
       "      <td>fashionpedia</td>\n",
       "      <td>/home/chenyi/workspace/dataset/data/data_fashi...</td>\n",
       "      <td>683.0</td>\n",
       "      <td>1024.0</td>\n",
       "      <td>0.461933</td>\n",
       "      <td>0.87793</td>\n",
       "      <td>0.074671</td>\n",
       "      <td>0.136719</td>\n",
       "      <td>0</td>\n",
       "      <td>train</td>\n",
       "      <td>c13d5c79b7bd1071eeb288d809c0ab52</td>\n",
       "      <td>/home/chenyi/workspace/dataset/labels/labels6/...</td>\n",
       "    </tr>\n",
       "  </tbody>\n",
       "</table>\n",
       "</div>"
      ],
      "text/plain": [
       "         source                                             img_sp  width  \\\n",
       "0  fashionpedia  /home/chenyi/workspace/dataset/data/data_fashi...  683.0   \n",
       "\n",
       "   height       bx1      bx2       bx3       bx4  label_model   mode  \\\n",
       "0  1024.0  0.461933  0.87793  0.074671  0.136719            0  train   \n",
       "\n",
       "                               stem  \\\n",
       "0  c13d5c79b7bd1071eeb288d809c0ab52   \n",
       "\n",
       "                                         label_tpath  \n",
       "0  /home/chenyi/workspace/dataset/labels/labels6/...  "
      ]
     },
     "execution_count": 38,
     "metadata": {},
     "output_type": "execute_result"
    }
   ],
   "source": [
    "df.head(1)"
   ]
  },
  {
   "cell_type": "code",
   "execution_count": 39,
   "id": "7a9161f4-29f2-4c47-84cc-ccbdc3e772e8",
   "metadata": {},
   "outputs": [],
   "source": [
    "drop_df = df.drop_duplicates('label_tpath')"
   ]
  },
  {
   "cell_type": "code",
   "execution_count": 40,
   "id": "bac5c320-bb01-4e9a-8af3-1debe4c06d1d",
   "metadata": {},
   "outputs": [],
   "source": [
    "slink_df = pd.DataFrame()\n",
    "slink_df['fname'] = drop_df['stem']\n",
    "slink_df['label_sp'] = drop_df['label_tpath']\n",
    "slink_df['img_sp'] = drop_df['img_sp']"
   ]
  },
  {
   "cell_type": "code",
   "execution_count": 41,
   "id": "19c3d3e2-a947-4072-9229-83ac2699ed02",
   "metadata": {},
   "outputs": [],
   "source": [
    "# root = Path('/home/chenyi/workspace/yolov5/datasets/hw_pedia_true/')\n",
    "# img_root = Path('/home/chenyi/workspace/dataset//')\n",
    "yolo_data_root = Path('/home/chenyi/workspace/yolov5/datasets/dataExps/gall10k_delBox/')"
   ]
  },
  {
   "cell_type": "code",
   "execution_count": null,
   "id": "602075eb-0bf2-41c0-94d3-1cc80e46ed0c",
   "metadata": {},
   "outputs": [],
   "source": []
  },
  {
   "cell_type": "code",
   "execution_count": 42,
   "id": "29e2fef9-bb6c-4b0c-90ec-ca02e590d4b9",
   "metadata": {},
   "outputs": [],
   "source": [
    "slink_df['label_tp'] = slink_df['label_sp'].apply(lambda x: yolo_data_root /'labels' /x.parts[-2]/x.parts[-1])"
   ]
  },
  {
   "cell_type": "code",
   "execution_count": 43,
   "id": "0aafdd3b-f86c-4efd-8761-2be9521fdb48",
   "metadata": {},
   "outputs": [],
   "source": [
    "slink_df['img_tp'] = slink_df['label_sp'].apply(lambda x: yolo_data_root /'images' /x.parts[-2]/x.parts[-1])\n",
    "slink_df['img_tp'] = slink_df['img_tp'].apply(lambda x: x.with_suffix('.jpg'))"
   ]
  },
  {
   "cell_type": "code",
   "execution_count": 44,
   "id": "06cc3840-449b-4e3a-89b0-97a30a0acb35",
   "metadata": {},
   "outputs": [],
   "source": [
    "# slink_df['img_sp'] = slink_df['img_tp'].apply(lambda x: data_root /'images' /x.parts[-2]/x.parts[-1])"
   ]
  },
  {
   "cell_type": "code",
   "execution_count": 46,
   "id": "78343685-b1a7-4c41-8cb2-05dbd1b8ae5d",
   "metadata": {},
   "outputs": [],
   "source": [
    "slink_df.to_csv('./data/gall10k_delBox_slink.csv', index=False)"
   ]
  },
  {
   "cell_type": "code",
   "execution_count": 47,
   "id": "ff7dc2bf-3c33-4a9f-95a2-41d07fb4be2d",
   "metadata": {},
   "outputs": [
    {
     "data": {
      "text/plain": [
       "array([['c13d5c79b7bd1071eeb288d809c0ab52',\n",
       "        PosixPath('/home/chenyi/workspace/dataset/labels/labels6/labels_exp/dadetGallv4_del/labels/train/c13d5c79b7bd1071eeb288d809c0ab52.txt'),\n",
       "        '/home/chenyi/workspace/dataset/data/data_fashionpedia/train/c13d5c79b7bd1071eeb288d809c0ab52.jpg',\n",
       "        PosixPath('/home/chenyi/workspace/yolov5/datasets/dataExps/gall10k_delBox/labels/train/c13d5c79b7bd1071eeb288d809c0ab52.txt'),\n",
       "        PosixPath('/home/chenyi/workspace/yolov5/datasets/dataExps/gall10k_delBox/images/train/c13d5c79b7bd1071eeb288d809c0ab52.jpg')]],\n",
       "      dtype=object)"
      ]
     },
     "execution_count": 47,
     "metadata": {},
     "output_type": "execute_result"
    }
   ],
   "source": [
    "slink_df.head(1).values"
   ]
  },
  {
   "cell_type": "code",
   "execution_count": null,
   "id": "05e60805-2b38-4fa5-abd2-8e8242907dfb",
   "metadata": {},
   "outputs": [],
   "source": []
  },
  {
   "cell_type": "markdown",
   "id": "67827dd9-ace5-47ec-acdb-71e72ffc88e1",
   "metadata": {},
   "source": [
    "#### 直接读取slink.csv"
   ]
  },
  {
   "cell_type": "code",
   "execution_count": null,
   "id": "803e6039-ed46-4081-94b3-d7a2b75ef36a",
   "metadata": {},
   "outputs": [],
   "source": [
    "# slink_df = pd.read_csv('./data/hw34k_level1_slink.csv')"
   ]
  },
  {
   "cell_type": "code",
   "execution_count": 48,
   "id": "42415d23-4bb8-495b-bcd9-42d55deaf5a3",
   "metadata": {},
   "outputs": [
    {
     "data": {
      "text/plain": [
       "array([['c13d5c79b7bd1071eeb288d809c0ab52',\n",
       "        PosixPath('/home/chenyi/workspace/dataset/labels/labels6/labels_exp/dadetGallv4_del/labels/train/c13d5c79b7bd1071eeb288d809c0ab52.txt'),\n",
       "        '/home/chenyi/workspace/dataset/data/data_fashionpedia/train/c13d5c79b7bd1071eeb288d809c0ab52.jpg',\n",
       "        PosixPath('/home/chenyi/workspace/yolov5/datasets/dataExps/gall10k_delBox/labels/train/c13d5c79b7bd1071eeb288d809c0ab52.txt'),\n",
       "        PosixPath('/home/chenyi/workspace/yolov5/datasets/dataExps/gall10k_delBox/images/train/c13d5c79b7bd1071eeb288d809c0ab52.jpg')],\n",
       "       ['20170510091134139',\n",
       "        PosixPath('/home/chenyi/workspace/dataset/labels/labels6/labels_exp/dadetGallv4_del/labels/train/20170510091134139.txt'),\n",
       "        '/home/chenyi/workspace/dataset/data/haowei34k/images/train/20170510091134139.jpg',\n",
       "        PosixPath('/home/chenyi/workspace/yolov5/datasets/dataExps/gall10k_delBox/labels/train/20170510091134139.txt'),\n",
       "        PosixPath('/home/chenyi/workspace/yolov5/datasets/dataExps/gall10k_delBox/images/train/20170510091134139.jpg')]],\n",
       "      dtype=object)"
      ]
     },
     "execution_count": 48,
     "metadata": {},
     "output_type": "execute_result"
    }
   ],
   "source": [
    "slink_df.head(2).values"
   ]
  },
  {
   "cell_type": "code",
   "execution_count": 49,
   "id": "8fe69190-ca8b-4324-bcb1-dd29824b49b9",
   "metadata": {},
   "outputs": [
    {
     "data": {
      "text/html": [
       "<div>\n",
       "<style scoped>\n",
       "    .dataframe tbody tr th:only-of-type {\n",
       "        vertical-align: middle;\n",
       "    }\n",
       "\n",
       "    .dataframe tbody tr th {\n",
       "        vertical-align: top;\n",
       "    }\n",
       "\n",
       "    .dataframe thead th {\n",
       "        text-align: right;\n",
       "    }\n",
       "</style>\n",
       "<table border=\"1\" class=\"dataframe\">\n",
       "  <thead>\n",
       "    <tr style=\"text-align: right;\">\n",
       "      <th></th>\n",
       "      <th>fname</th>\n",
       "      <th>label_sp</th>\n",
       "      <th>img_sp</th>\n",
       "      <th>label_tp</th>\n",
       "      <th>img_tp</th>\n",
       "    </tr>\n",
       "  </thead>\n",
       "  <tbody>\n",
       "    <tr>\n",
       "      <th>0</th>\n",
       "      <td>c13d5c79b7bd1071eeb288d809c0ab52</td>\n",
       "      <td>/home/chenyi/workspace/dataset/labels/labels6/...</td>\n",
       "      <td>/home/chenyi/workspace/dataset/data/data_fashi...</td>\n",
       "      <td>/home/chenyi/workspace/yolov5/datasets/dataExp...</td>\n",
       "      <td>/home/chenyi/workspace/yolov5/datasets/dataExp...</td>\n",
       "    </tr>\n",
       "    <tr>\n",
       "      <th>1</th>\n",
       "      <td>20170510091134139</td>\n",
       "      <td>/home/chenyi/workspace/dataset/labels/labels6/...</td>\n",
       "      <td>/home/chenyi/workspace/dataset/data/haowei34k/...</td>\n",
       "      <td>/home/chenyi/workspace/yolov5/datasets/dataExp...</td>\n",
       "      <td>/home/chenyi/workspace/yolov5/datasets/dataExp...</td>\n",
       "    </tr>\n",
       "  </tbody>\n",
       "</table>\n",
       "</div>"
      ],
      "text/plain": [
       "                              fname  \\\n",
       "0  c13d5c79b7bd1071eeb288d809c0ab52   \n",
       "1                 20170510091134139   \n",
       "\n",
       "                                            label_sp  \\\n",
       "0  /home/chenyi/workspace/dataset/labels/labels6/...   \n",
       "1  /home/chenyi/workspace/dataset/labels/labels6/...   \n",
       "\n",
       "                                              img_sp  \\\n",
       "0  /home/chenyi/workspace/dataset/data/data_fashi...   \n",
       "1  /home/chenyi/workspace/dataset/data/haowei34k/...   \n",
       "\n",
       "                                            label_tp  \\\n",
       "0  /home/chenyi/workspace/yolov5/datasets/dataExp...   \n",
       "1  /home/chenyi/workspace/yolov5/datasets/dataExp...   \n",
       "\n",
       "                                              img_tp  \n",
       "0  /home/chenyi/workspace/yolov5/datasets/dataExp...  \n",
       "1  /home/chenyi/workspace/yolov5/datasets/dataExp...  "
      ]
     },
     "execution_count": 49,
     "metadata": {},
     "output_type": "execute_result"
    }
   ],
   "source": [
    "slink_df.head(2)"
   ]
  },
  {
   "cell_type": "code",
   "execution_count": 110,
   "id": "1508889c-7349-4751-a772-de8528483fc2",
   "metadata": {},
   "outputs": [
    {
     "data": {
      "text/plain": [
       "76259"
      ]
     },
     "execution_count": 110,
     "metadata": {},
     "output_type": "execute_result"
    }
   ],
   "source": [
    "len(slink_df)"
   ]
  },
  {
   "cell_type": "code",
   "execution_count": null,
   "id": "21d318d4-58ae-4082-a241-df20f2a4041f",
   "metadata": {},
   "outputs": [],
   "source": []
  },
  {
   "cell_type": "markdown",
   "id": "f1671ce7-0fb2-434c-8f66-66be77244651",
   "metadata": {},
   "source": [
    "##### 新的label target path."
   ]
  },
  {
   "cell_type": "code",
   "execution_count": null,
   "id": "3925f8ba-fac1-4e8a-8572-bd3778eed874",
   "metadata": {},
   "outputs": [],
   "source": [
    "slink_df.sort_values('fname', inplace=True)"
   ]
  },
  {
   "cell_type": "code",
   "execution_count": null,
   "id": "a4257b49-bf41-4622-9752-fcb84e943a9a",
   "metadata": {},
   "outputs": [],
   "source": [
    "img_df = df.drop_duplicates('fname').sort_values('fname')"
   ]
  },
  {
   "cell_type": "code",
   "execution_count": null,
   "id": "3d0f06bf-acda-4eff-9f2b-f50ac2d1bd81",
   "metadata": {},
   "outputs": [],
   "source": [
    "len(df), len(img_df), len(slink_df)"
   ]
  },
  {
   "cell_type": "code",
   "execution_count": null,
   "id": "4184e324-d93b-4d59-82ce-13c9c1e6ada3",
   "metadata": {},
   "outputs": [],
   "source": [
    "slink_df['label_sp'] = img_df['label_tpath'].values"
   ]
  },
  {
   "cell_type": "code",
   "execution_count": null,
   "id": "92144617-b039-4c2f-9dc3-4593e6e543d9",
   "metadata": {},
   "outputs": [],
   "source": []
  },
  {
   "cell_type": "code",
   "execution_count": null,
   "id": "f1d2524e-2374-42a6-973f-dacafd67ee13",
   "metadata": {},
   "outputs": [],
   "source": []
  },
  {
   "cell_type": "markdown",
   "id": "87d30ed1-b478-43a8-a72e-4492762bc982",
   "metadata": {},
   "source": [
    "##### 生成label_tp, img_sp, img_tp"
   ]
  },
  {
   "cell_type": "code",
   "execution_count": 94,
   "id": "2614ffef-6900-44e4-833a-bbf1fb0a5d4f",
   "metadata": {},
   "outputs": [
    {
     "data": {
      "text/plain": [
       "array([['20141221115344400',\n",
       "        PosixPath('/home/chenyi/workspace/dataset/labels/labels6/labels_exp/dadetGallv4_del/labels/val/20141221115344400.txt'),\n",
       "        '/home/chenyi/workspace/dataset/data/haowei34k/images/val/20141221115344400.jpg',\n",
       "        '/home/chenyi/workspace/yolov5/datasets/dataExps/dadetGallv4_del/labels/val/20141221115344400.txt',\n",
       "        '/home/chenyi/workspace/yolov5/datasets/dataExps/dadetGallv4_del/images/val/20141221115344400.jpg'],\n",
       "       ['20140305215504279',\n",
       "        PosixPath('/home/chenyi/workspace/dataset/labels/labels6/labels_exp/dadetGallv4_del/labels/val/20140305215504279.txt'),\n",
       "        '/home/chenyi/workspace/dataset/data/haowei34k/images/val/20140305215504279.jpg',\n",
       "        '/home/chenyi/workspace/yolov5/datasets/dataExps/dadetGallv4_del/labels/val/20140305215504279.txt',\n",
       "        '/home/chenyi/workspace/yolov5/datasets/dataExps/dadetGallv4_del/images/val/20140305215504279.jpg']],\n",
       "      dtype=object)"
      ]
     },
     "execution_count": 94,
     "metadata": {},
     "output_type": "execute_result"
    }
   ],
   "source": [
    "slink_df.tail(2).values"
   ]
  },
  {
   "cell_type": "code",
   "execution_count": 89,
   "id": "add4af4e-a673-4f5b-b49c-48ce89bdc2ac",
   "metadata": {},
   "outputs": [],
   "source": [
    "origin_folder = 'gall10k_delBox'\n",
    "folder_name = 'dadetGallv4_del'"
   ]
  },
  {
   "cell_type": "code",
   "execution_count": 93,
   "id": "55c2b867-b7af-467b-9646-99fb5d110ca5",
   "metadata": {},
   "outputs": [],
   "source": [
    "slink_df['img_tp'] = slink_df['img_tp'].apply(lambda x: str(x).replace(f'/dataExps/{origin_folder}/images/', f'/dataExps/{folder_name}/images/'))\n",
    "slink_df['label_tp'] = slink_df['label_tp'].apply(lambda x: str(x).replace(f'/dataExps/{origin_folder}/labels/', f'/dataExps/{folder_name}/labels/'))"
   ]
  },
  {
   "cell_type": "code",
   "execution_count": null,
   "id": "b263a0d9-642e-4da9-8008-03427f0805f1",
   "metadata": {},
   "outputs": [],
   "source": [
    "# slink_df.to_csv('./data/hw34k_level1_slink.csv', index=False)"
   ]
  },
  {
   "cell_type": "code",
   "execution_count": null,
   "id": "c5da9fad-e1f5-4e4a-a9f6-10d234b4ddfa",
   "metadata": {},
   "outputs": [],
   "source": []
  },
  {
   "cell_type": "code",
   "execution_count": null,
   "id": "3db94b75-23ab-4eb8-9aa9-67c1b55eadd6",
   "metadata": {},
   "outputs": [],
   "source": []
  },
  {
   "cell_type": "markdown",
   "id": "31456e3a-4b13-41d1-b3f3-29f0a4e9c7f2",
   "metadata": {},
   "source": [
    "#### 生成sym link"
   ]
  },
  {
   "cell_type": "code",
   "execution_count": 88,
   "id": "2cc8cda1-e378-405f-acc1-747b9a9a2491",
   "metadata": {},
   "outputs": [
    {
     "name": "stdout",
     "output_type": "stream",
     "text": [
      "\u001b[01;34m/home/chenyi/workspace/yolov5/datasets/dataExps\u001b[00m\n",
      "├── \u001b[01;34mdadetGallv4_del\u001b[00m\n",
      "└── \u001b[01;34mgall10k_delBox\u001b[00m\n",
      "\n",
      "2 directories\n"
     ]
    }
   ],
   "source": [
    "folder_name = 'dadetGallv4_del'\n",
    "root = f'/home/chenyi/workspace/yolov5/datasets/dataExps'\n",
    "!tree  -d -L 1 $root"
   ]
  },
  {
   "cell_type": "code",
   "execution_count": 95,
   "id": "6bfbd252-58d0-4a7b-b404-adefeb1dcd85",
   "metadata": {},
   "outputs": [
    {
     "name": "stdout",
     "output_type": "stream",
     "text": [
      "\u001b[01;34m/home/chenyi/workspace/yolov5/datasets/dataExps/dadetGallv4_del\u001b[00m\n",
      "├── \u001b[01;34mimages\u001b[00m\n",
      "│   ├── \u001b[01;34mtrain\u001b[00m\n",
      "│   └── \u001b[01;34mval\u001b[00m\n",
      "└── \u001b[01;34mlabels\u001b[00m\n",
      "    ├── \u001b[01;34mtrain\u001b[00m\n",
      "    └── \u001b[01;34mval\u001b[00m\n",
      "\n",
      "6 directories\n"
     ]
    }
   ],
   "source": [
    "folder_name = 'dadetGallv4_del'\n",
    "root = f'/home/chenyi/workspace/yolov5/datasets/dataExps/{folder_name}'\n",
    "!tree  -d -L 2 $root"
   ]
  },
  {
   "cell_type": "code",
   "execution_count": 96,
   "id": "671b3af9-6384-40ee-8726-c169908984e6",
   "metadata": {},
   "outputs": [
    {
     "data": {
      "text/plain": [
       "array([['c13d5c79b7bd1071eeb288d809c0ab52',\n",
       "        PosixPath('/home/chenyi/workspace/dataset/labels/labels6/labels_exp/dadetGallv4_del/labels/train/c13d5c79b7bd1071eeb288d809c0ab52.txt'),\n",
       "        '/home/chenyi/workspace/dataset/data/data_fashionpedia/train/c13d5c79b7bd1071eeb288d809c0ab52.jpg',\n",
       "        '/home/chenyi/workspace/yolov5/datasets/dataExps/dadetGallv4_del/labels/train/c13d5c79b7bd1071eeb288d809c0ab52.txt',\n",
       "        '/home/chenyi/workspace/yolov5/datasets/dataExps/dadetGallv4_del/images/train/c13d5c79b7bd1071eeb288d809c0ab52.jpg'],\n",
       "       ['20170510091134139',\n",
       "        PosixPath('/home/chenyi/workspace/dataset/labels/labels6/labels_exp/dadetGallv4_del/labels/train/20170510091134139.txt'),\n",
       "        '/home/chenyi/workspace/dataset/data/haowei34k/images/train/20170510091134139.jpg',\n",
       "        '/home/chenyi/workspace/yolov5/datasets/dataExps/dadetGallv4_del/labels/train/20170510091134139.txt',\n",
       "        '/home/chenyi/workspace/yolov5/datasets/dataExps/dadetGallv4_del/images/train/20170510091134139.jpg']],\n",
       "      dtype=object)"
      ]
     },
     "execution_count": 96,
     "metadata": {},
     "output_type": "execute_result"
    }
   ],
   "source": [
    "slink_df.head(2).values"
   ]
  },
  {
   "cell_type": "code",
   "execution_count": 81,
   "id": "3873fb59-4e35-495a-9f70-4fba3be77714",
   "metadata": {},
   "outputs": [],
   "source": [
    "# for p in glob.glob(str(slink_df['img_tp'][0].parents[1]/'*/*.jpg')):\n",
    "#     if Path(p).is_symlink():\n",
    "#         Path(p).unlink()"
   ]
  },
  {
   "cell_type": "code",
   "execution_count": 83,
   "id": "fff403c0-4308-413f-ad71-3df374b866c8",
   "metadata": {},
   "outputs": [],
   "source": [
    "# for p in glob.glob(str(slink_df['label_tp'][0].parents[1]/'*/*.txt')):\n",
    "#     if Path(p).is_symlink():\n",
    "#         Path(p).unlink()"
   ]
  },
  {
   "cell_type": "code",
   "execution_count": null,
   "id": "4640b096-209f-4725-aa36-8959a794f059",
   "metadata": {},
   "outputs": [],
   "source": []
  },
  {
   "cell_type": "code",
   "execution_count": 97,
   "id": "6b5a0227-b70b-4e43-b834-04234550a536",
   "metadata": {},
   "outputs": [
    {
     "name": "stdout",
     "output_type": "stream",
     "text": [
      "CPU times: user 1.64 s, sys: 974 ms, total: 2.62 s\n",
      "Wall time: 2.66 s\n"
     ]
    }
   ],
   "source": [
    "%%time\n",
    "for p in slink_df['img_tp'].values:\n",
    "    if Path(p).is_symlink():\n",
    "        Path(p).unlink()\n",
    "_ = slink_df.apply(lambda row: Path.symlink_to(Path(row['img_tp']), Path(row['img_sp'])), axis=1)"
   ]
  },
  {
   "cell_type": "code",
   "execution_count": 98,
   "id": "5f2dfc8e-2177-4a62-96ff-bc7d334dbc1c",
   "metadata": {},
   "outputs": [
    {
     "name": "stdout",
     "output_type": "stream",
     "text": [
      "CPU times: user 1.76 s, sys: 885 ms, total: 2.65 s\n",
      "Wall time: 2.71 s\n"
     ]
    }
   ],
   "source": [
    "%%time\n",
    "for p in slink_df['label_tp'].values:\n",
    "    if Path(p).is_symlink():\n",
    "        Path(p).unlink()\n",
    "_ = slink_df.apply(lambda row: Path.symlink_to(Path(row['label_tp']), Path(row['label_sp'])), axis=1)"
   ]
  },
  {
   "cell_type": "code",
   "execution_count": 100,
   "id": "bac7f52f-e82c-48e4-b895-7bb70b5e7e28",
   "metadata": {},
   "outputs": [
    {
     "data": {
      "text/plain": [
       "PosixPath('/home/chenyi/workspace/yolov5/datasets/dataExps/dadetGallv4_del/labels')"
      ]
     },
     "execution_count": 100,
     "metadata": {},
     "output_type": "execute_result"
    }
   ],
   "source": [
    "Path(slink_df['label_tp'][0]).parents[1]"
   ]
  },
  {
   "cell_type": "code",
   "execution_count": 102,
   "id": "270bcbda-78d6-41b7-bc25-9183b302888f",
   "metadata": {},
   "outputs": [
    {
     "data": {
      "text/plain": [
       "(76259, 76259)"
      ]
     },
     "execution_count": 102,
     "metadata": {},
     "output_type": "execute_result"
    }
   ],
   "source": [
    "len(glob.glob(str(Path(slink_df['img_tp'][0]).parents[1]/'*/*.jpg'))), len(glob.glob(str(Path(slink_df['label_tp'][0]).parents[1]/'*/*.txt')))"
   ]
  },
  {
   "cell_type": "code",
   "execution_count": 103,
   "id": "1fc942ac-1f23-4c91-a364-ec900458d987",
   "metadata": {},
   "outputs": [
    {
     "name": "stdout",
     "output_type": "stream",
     "text": [
      "0 0.461933 0.877930 0.074671 0.136719\n",
      "0 0.528551 0.830566 0.096633 0.125977\n",
      "5 0.533675 0.461426 0.341142 0.471680\n"
     ]
    }
   ],
   "source": [
    "p = str(slink_df['label_tp'][0])\n",
    "!cat $p"
   ]
  },
  {
   "cell_type": "code",
   "execution_count": null,
   "id": "4e2965eb-f39a-4e2c-9291-8c120a9a8b18",
   "metadata": {},
   "outputs": [],
   "source": []
  },
  {
   "cell_type": "code",
   "execution_count": null,
   "id": "92c05cad-3694-4a3f-b1ad-2366ef04c22a",
   "metadata": {},
   "outputs": [],
   "source": []
  },
  {
   "cell_type": "markdown",
   "id": "06f8dad4-7ef5-4d50-a453-ef1abf5f38c7",
   "metadata": {},
   "source": [
    "#### 核查软连接"
   ]
  },
  {
   "cell_type": "code",
   "execution_count": null,
   "id": "7c0961f8-1463-453d-90de-21c87dfecc86",
   "metadata": {},
   "outputs": [],
   "source": [
    "import glob,cv2, os\n",
    "import pandas as pd"
   ]
  },
  {
   "cell_type": "code",
   "execution_count": null,
   "id": "7f5fb192-79c3-4f2e-a266-e98cb129eada",
   "metadata": {},
   "outputs": [],
   "source": [
    "!tree  -d -L 1 /home/chenyi/workspace/yolov5/datasets/"
   ]
  },
  {
   "cell_type": "code",
   "execution_count": 105,
   "id": "fed9e34a-71d7-4dfa-9948-f2ef0380a8f0",
   "metadata": {},
   "outputs": [
    {
     "name": "stdout",
     "output_type": "stream",
     "text": [
      "\u001b[01;34m/home/chenyi/workspace/yolov5/datasets/dataExps/dadetGallv4_del\u001b[00m\n",
      "├── \u001b[01;34mimages\u001b[00m\n",
      "│   ├── \u001b[01;34mtrain\u001b[00m\n",
      "│   └── \u001b[01;34mval\u001b[00m\n",
      "└── \u001b[01;34mlabels\u001b[00m\n",
      "    ├── \u001b[01;34mtrain\u001b[00m\n",
      "    └── \u001b[01;34mval\u001b[00m\n",
      "\n",
      "6 directories\n"
     ]
    }
   ],
   "source": [
    "# folder_name = 'dadet100kv2'\n",
    "root = f'/home/chenyi/workspace/yolov5/datasets/dataExps/{folder_name}'\n",
    "!tree  -d -L 2 $root"
   ]
  },
  {
   "cell_type": "code",
   "execution_count": null,
   "id": "3c845c9e-02ea-461a-85bb-08be9e2f6ffa",
   "metadata": {},
   "outputs": [],
   "source": []
  },
  {
   "cell_type": "code",
   "execution_count": null,
   "id": "4ec50cc2-5076-487c-b81b-437fa3394efe",
   "metadata": {},
   "outputs": [],
   "source": []
  },
  {
   "cell_type": "code",
   "execution_count": 106,
   "id": "1d5d1612-aa59-4f97-af88-b1d6169eb263",
   "metadata": {},
   "outputs": [],
   "source": [
    "def check_syslink(root, mode='images'):\n",
    "    subfix = '.txt' if mode=='labels' else '.jpg'\n",
    "    flag_list = [os.path.isfile(os.readlink(p)) for p in glob.glob(f'{root}/{mode}/*/*{subfix}')]\n",
    "    txt_df = pd.DataFrame()\n",
    "    txt_df['flag'] = flag_list\n",
    "    return txt_df.value_counts('flag')"
   ]
  },
  {
   "cell_type": "code",
   "execution_count": null,
   "id": "44c454c5-95ab-4b19-8ee2-7171378667c1",
   "metadata": {},
   "outputs": [],
   "source": []
  },
  {
   "cell_type": "code",
   "execution_count": 107,
   "id": "80613a60-9db6-4313-ba4d-6e66e82ce116",
   "metadata": {},
   "outputs": [
    {
     "data": {
      "text/plain": [
       "'/home/chenyi/workspace/yolov5/datasets/dataExps/dadetGallv4_del'"
      ]
     },
     "execution_count": 107,
     "metadata": {},
     "output_type": "execute_result"
    }
   ],
   "source": [
    "root"
   ]
  },
  {
   "cell_type": "code",
   "execution_count": 108,
   "id": "3b801bd9-4199-4bc7-9326-eaf3b23ab77f",
   "metadata": {},
   "outputs": [
    {
     "name": "stdout",
     "output_type": "stream",
     "text": [
      "CPU times: user 186 ms, sys: 164 ms, total: 350 ms\n",
      "Wall time: 365 ms\n"
     ]
    },
    {
     "data": {
      "text/plain": [
       "flag\n",
       "True    76259\n",
       "dtype: int64"
      ]
     },
     "execution_count": 108,
     "metadata": {},
     "output_type": "execute_result"
    }
   ],
   "source": [
    "%%time\n",
    "check_syslink(root, mode='images')"
   ]
  },
  {
   "cell_type": "code",
   "execution_count": 109,
   "id": "b611d851-ba1e-4d9e-a7f8-388230041add",
   "metadata": {},
   "outputs": [
    {
     "name": "stdout",
     "output_type": "stream",
     "text": [
      "CPU times: user 156 ms, sys: 201 ms, total: 357 ms\n",
      "Wall time: 382 ms\n"
     ]
    },
    {
     "data": {
      "text/plain": [
       "flag\n",
       "True    76259\n",
       "dtype: int64"
      ]
     },
     "execution_count": 109,
     "metadata": {},
     "output_type": "execute_result"
    }
   ],
   "source": [
    "%%time\n",
    "check_syslink(root, mode='labels')"
   ]
  },
  {
   "cell_type": "code",
   "execution_count": null,
   "id": "40ac899a-e818-4087-9b9f-2ef2e36b2053",
   "metadata": {},
   "outputs": [],
   "source": []
  },
  {
   "cell_type": "code",
   "execution_count": null,
   "id": "cd1daf7a-9094-45bf-9be6-4742cb9d9f74",
   "metadata": {},
   "outputs": [],
   "source": []
  }
 ],
 "metadata": {
  "kernelspec": {
   "display_name": "Python 3 (ipykernel)",
   "language": "python",
   "name": "python3"
  },
  "language_info": {
   "codemirror_mode": {
    "name": "ipython",
    "version": 3
   },
   "file_extension": ".py",
   "mimetype": "text/x-python",
   "name": "python",
   "nbconvert_exporter": "python",
   "pygments_lexer": "ipython3",
   "version": "3.8.13"
  }
 },
 "nbformat": 4,
 "nbformat_minor": 5
}
