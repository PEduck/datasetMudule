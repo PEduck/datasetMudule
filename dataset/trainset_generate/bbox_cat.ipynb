{
 "cells": [
  {
   "cell_type": "code",
   "execution_count": 1,
   "id": "c9cdef1b-04fe-4739-a43c-1c4abbb33cdb",
   "metadata": {},
   "outputs": [],
   "source": [
    "import numpy as np\n",
    "import pandas as pd\n",
    "import glob\n",
    "import sys,os"
   ]
  },
  {
   "cell_type": "code",
   "execution_count": 17,
   "id": "c982bbbb-2bb0-45f0-bb8d-e9b02e67f53e",
   "metadata": {},
   "outputs": [],
   "source": [
    "from pathlib import Path"
   ]
  },
  {
   "cell_type": "code",
   "execution_count": null,
   "id": "a2558549-e92a-479d-bdd9-a787029f4324",
   "metadata": {},
   "outputs": [],
   "source": []
  },
  {
   "cell_type": "code",
   "execution_count": 42,
   "id": "bee897ec-c8fa-464c-84d0-10bd5ec1f117",
   "metadata": {},
   "outputs": [],
   "source": [
    "sys.path.append('../../')"
   ]
  },
  {
   "cell_type": "code",
   "execution_count": 46,
   "id": "8b336efa-c757-4a43-9d73-84f4602aa13d",
   "metadata": {},
   "outputs": [],
   "source": [
    "from utils.bbox.conversation import bbox_coco2voc, bbox_voc2yolo"
   ]
  },
  {
   "cell_type": "code",
   "execution_count": 80,
   "id": "e526db6e-ae50-41e9-9062-d569c36e9cf9",
   "metadata": {},
   "outputs": [],
   "source": [
    "def bbox_voc2yolo_df(df):\n",
    "    w =  df['width'].values\n",
    "    h =  df['height'].values\n",
    "    w_bbox = df['bx3'].values - df['bx1'].values\n",
    "    h_bbox = df['bx4'].values - df['bx2'].values\n",
    "    x_c = df['bx1'].values + w_bbox/2\n",
    "    y_c = df['bx2'].values + h_bbox/2\n",
    "    df.loc[:, 'bx1'] = x_c/w\n",
    "    df.loc[:, 'bx2'] = y_c/h\n",
    "    df.loc[:, 'bx3'] = w_bbox/w\n",
    "    df.loc[:, 'bx4'] = h_bbox/h    \n",
    "    return df"
   ]
  },
  {
   "cell_type": "code",
   "execution_count": null,
   "id": "a4df7c3c-9a07-4872-963c-cacf11a27ee7",
   "metadata": {},
   "outputs": [],
   "source": []
  },
  {
   "cell_type": "code",
   "execution_count": null,
   "id": "52c86b7d-180b-4d1d-b3ab-a93a5b92f919",
   "metadata": {},
   "outputs": [],
   "source": []
  },
  {
   "cell_type": "code",
   "execution_count": 4,
   "id": "9c8d8b29-e2b2-4ade-886c-b7a21d5e6f10",
   "metadata": {},
   "outputs": [],
   "source": [
    "fp_df = pd.read_csv('../fashionpedia/data/fashionpedia6_l1.csv')\n",
    "fp_df = fp_df[fp_df['label_model']>=0]"
   ]
  },
  {
   "cell_type": "code",
   "execution_count": 22,
   "id": "93803f33-a9b8-47ea-9c3c-ae686756d2b8",
   "metadata": {},
   "outputs": [],
   "source": [
    "hw_df = pd.read_csv('../haowei34k/data/hw34k_bbox_info.csv')\n",
    "hw_df = hw_df[hw_df['label_model']>=0]"
   ]
  },
  {
   "cell_type": "code",
   "execution_count": 94,
   "id": "03aa3295-fa2b-4a17-955a-1f87edded6be",
   "metadata": {},
   "outputs": [],
   "source": [
    "# fp_cat.to_csv('../fashionpedia/data/fashionpedia6_l1_cat.csv', index=False)"
   ]
  },
  {
   "cell_type": "code",
   "execution_count": 95,
   "id": "8518a283-1e5e-47e9-bdf9-8101d3e8680c",
   "metadata": {},
   "outputs": [],
   "source": [
    "# hw_cat.to_csv('../haowei34k/data/hw34k_bbox_info_cat.csv', index=False)"
   ]
  },
  {
   "cell_type": "code",
   "execution_count": 96,
   "id": "8b9d345f-07ae-48e7-8cdb-afc002b0a7ef",
   "metadata": {},
   "outputs": [],
   "source": [
    "hwpedia_cat = pd.concat([fp_cat, hw_cat], axis=0)"
   ]
  },
  {
   "cell_type": "code",
   "execution_count": 98,
   "id": "70fb7bf5-041f-4d8b-8631-77520715af45",
   "metadata": {},
   "outputs": [],
   "source": [
    "hwpedia_cat.to_csv('./data/hwpedia_bbox.csv', index=False)"
   ]
  },
  {
   "cell_type": "code",
   "execution_count": null,
   "id": "05526508-c929-4ce7-8582-80f793a591b8",
   "metadata": {},
   "outputs": [],
   "source": []
  },
  {
   "cell_type": "code",
   "execution_count": 99,
   "id": "5d8eff4f-2a47-4681-a456-ef81c087ee0e",
   "metadata": {},
   "outputs": [],
   "source": [
    "gall10k_df = pd.read_csv('./data/tuneDataset/tuneGallery10k_slink_df.csv')"
   ]
  },
  {
   "cell_type": "code",
   "execution_count": 100,
   "id": "9b71b005-b09a-481b-8adb-3d65179a9675",
   "metadata": {},
   "outputs": [
    {
     "data": {
      "text/html": [
       "<div>\n",
       "<style scoped>\n",
       "    .dataframe tbody tr th:only-of-type {\n",
       "        vertical-align: middle;\n",
       "    }\n",
       "\n",
       "    .dataframe tbody tr th {\n",
       "        vertical-align: top;\n",
       "    }\n",
       "\n",
       "    .dataframe thead th {\n",
       "        text-align: right;\n",
       "    }\n",
       "</style>\n",
       "<table border=\"1\" class=\"dataframe\">\n",
       "  <thead>\n",
       "    <tr style=\"text-align: right;\">\n",
       "      <th></th>\n",
       "      <th>fname</th>\n",
       "      <th>label_sp</th>\n",
       "      <th>label_tp</th>\n",
       "      <th>img_tp</th>\n",
       "      <th>img_sp</th>\n",
       "      <th>target</th>\n",
       "    </tr>\n",
       "  </thead>\n",
       "  <tbody>\n",
       "    <tr>\n",
       "      <th>0</th>\n",
       "      <td>20160426020017708</td>\n",
       "      <td>/home/chenyi/workspace/dataset/labels/labels6/...</td>\n",
       "      <td>/home/chenyi/workspace/yolov5/datasets/tuneGal...</td>\n",
       "      <td>/home/chenyi/workspace/yolov5/datasets/tuneGal...</td>\n",
       "      <td>/home/chenyi/workspace/dataset/data/haowei34k/...</td>\n",
       "      <td>tuneGallery10k</td>\n",
       "    </tr>\n",
       "    <tr>\n",
       "      <th>1</th>\n",
       "      <td>265309ec2dfb86f07dbf30e4664937bf</td>\n",
       "      <td>/home/chenyi/workspace/dataset/labels/labels6/...</td>\n",
       "      <td>/home/chenyi/workspace/yolov5/datasets/tuneGal...</td>\n",
       "      <td>/home/chenyi/workspace/yolov5/datasets/tuneGal...</td>\n",
       "      <td>/home/chenyi/workspace/dataset/data/data_fashi...</td>\n",
       "      <td>tuneGallery10k</td>\n",
       "    </tr>\n",
       "    <tr>\n",
       "      <th>2</th>\n",
       "      <td>20141226150831480</td>\n",
       "      <td>/home/chenyi/workspace/dataset/labels/labels6/...</td>\n",
       "      <td>/home/chenyi/workspace/yolov5/datasets/tuneGal...</td>\n",
       "      <td>/home/chenyi/workspace/yolov5/datasets/tuneGal...</td>\n",
       "      <td>/home/chenyi/workspace/dataset/data/haowei34k/...</td>\n",
       "      <td>tuneGallery10k</td>\n",
       "    </tr>\n",
       "    <tr>\n",
       "      <th>3</th>\n",
       "      <td>ef51d854042fa93a94826a27bd69001a</td>\n",
       "      <td>/home/chenyi/workspace/dataset/labels/labels6/...</td>\n",
       "      <td>/home/chenyi/workspace/yolov5/datasets/tuneGal...</td>\n",
       "      <td>/home/chenyi/workspace/yolov5/datasets/tuneGal...</td>\n",
       "      <td>/home/chenyi/workspace/dataset/data/data_fashi...</td>\n",
       "      <td>tuneGallery10k</td>\n",
       "    </tr>\n",
       "    <tr>\n",
       "      <th>4</th>\n",
       "      <td>20170809192459309</td>\n",
       "      <td>/home/chenyi/workspace/dataset/labels/labels6/...</td>\n",
       "      <td>/home/chenyi/workspace/yolov5/datasets/tuneGal...</td>\n",
       "      <td>/home/chenyi/workspace/yolov5/datasets/tuneGal...</td>\n",
       "      <td>/home/chenyi/workspace/dataset/data/haowei34k/...</td>\n",
       "      <td>tuneGallery10k</td>\n",
       "    </tr>\n",
       "  </tbody>\n",
       "</table>\n",
       "</div>"
      ],
      "text/plain": [
       "                              fname  \\\n",
       "0                 20160426020017708   \n",
       "1  265309ec2dfb86f07dbf30e4664937bf   \n",
       "2                 20141226150831480   \n",
       "3  ef51d854042fa93a94826a27bd69001a   \n",
       "4                 20170809192459309   \n",
       "\n",
       "                                            label_sp  \\\n",
       "0  /home/chenyi/workspace/dataset/labels/labels6/...   \n",
       "1  /home/chenyi/workspace/dataset/labels/labels6/...   \n",
       "2  /home/chenyi/workspace/dataset/labels/labels6/...   \n",
       "3  /home/chenyi/workspace/dataset/labels/labels6/...   \n",
       "4  /home/chenyi/workspace/dataset/labels/labels6/...   \n",
       "\n",
       "                                            label_tp  \\\n",
       "0  /home/chenyi/workspace/yolov5/datasets/tuneGal...   \n",
       "1  /home/chenyi/workspace/yolov5/datasets/tuneGal...   \n",
       "2  /home/chenyi/workspace/yolov5/datasets/tuneGal...   \n",
       "3  /home/chenyi/workspace/yolov5/datasets/tuneGal...   \n",
       "4  /home/chenyi/workspace/yolov5/datasets/tuneGal...   \n",
       "\n",
       "                                              img_tp  \\\n",
       "0  /home/chenyi/workspace/yolov5/datasets/tuneGal...   \n",
       "1  /home/chenyi/workspace/yolov5/datasets/tuneGal...   \n",
       "2  /home/chenyi/workspace/yolov5/datasets/tuneGal...   \n",
       "3  /home/chenyi/workspace/yolov5/datasets/tuneGal...   \n",
       "4  /home/chenyi/workspace/yolov5/datasets/tuneGal...   \n",
       "\n",
       "                                              img_sp          target  \n",
       "0  /home/chenyi/workspace/dataset/data/haowei34k/...  tuneGallery10k  \n",
       "1  /home/chenyi/workspace/dataset/data/data_fashi...  tuneGallery10k  \n",
       "2  /home/chenyi/workspace/dataset/data/haowei34k/...  tuneGallery10k  \n",
       "3  /home/chenyi/workspace/dataset/data/data_fashi...  tuneGallery10k  \n",
       "4  /home/chenyi/workspace/dataset/data/haowei34k/...  tuneGallery10k  "
      ]
     },
     "execution_count": 100,
     "metadata": {},
     "output_type": "execute_result"
    }
   ],
   "source": [
    "gall10k_df.head()"
   ]
  },
  {
   "cell_type": "code",
   "execution_count": 104,
   "id": "e0f554fc-0bec-4365-bfbc-15e80daab2db",
   "metadata": {},
   "outputs": [
    {
     "data": {
      "text/html": [
       "<div>\n",
       "<style scoped>\n",
       "    .dataframe tbody tr th:only-of-type {\n",
       "        vertical-align: middle;\n",
       "    }\n",
       "\n",
       "    .dataframe tbody tr th {\n",
       "        vertical-align: top;\n",
       "    }\n",
       "\n",
       "    .dataframe thead th {\n",
       "        text-align: right;\n",
       "    }\n",
       "</style>\n",
       "<table border=\"1\" class=\"dataframe\">\n",
       "  <thead>\n",
       "    <tr style=\"text-align: right;\">\n",
       "      <th></th>\n",
       "      <th>source</th>\n",
       "      <th>img_sp</th>\n",
       "      <th>width</th>\n",
       "      <th>height</th>\n",
       "      <th>bx1</th>\n",
       "      <th>bx2</th>\n",
       "      <th>bx3</th>\n",
       "      <th>bx4</th>\n",
       "      <th>label_model</th>\n",
       "      <th>mode</th>\n",
       "      <th>stem</th>\n",
       "    </tr>\n",
       "  </thead>\n",
       "  <tbody>\n",
       "    <tr>\n",
       "      <th>0</th>\n",
       "      <td>fashionpedia</td>\n",
       "      <td>/home/chenyi/workspace/dataset/data/data_fashi...</td>\n",
       "      <td>681.0</td>\n",
       "      <td>1024.0</td>\n",
       "      <td>0.551395</td>\n",
       "      <td>0.898926</td>\n",
       "      <td>0.077827</td>\n",
       "      <td>0.124023</td>\n",
       "      <td>0</td>\n",
       "      <td>train</td>\n",
       "      <td>0002ec21ddb8477e98b2cbb87ea2e269</td>\n",
       "    </tr>\n",
       "    <tr>\n",
       "      <th>1</th>\n",
       "      <td>fashionpedia</td>\n",
       "      <td>/home/chenyi/workspace/dataset/data/data_fashi...</td>\n",
       "      <td>681.0</td>\n",
       "      <td>1024.0</td>\n",
       "      <td>0.477974</td>\n",
       "      <td>0.869629</td>\n",
       "      <td>0.063142</td>\n",
       "      <td>0.038086</td>\n",
       "      <td>0</td>\n",
       "      <td>train</td>\n",
       "      <td>0002ec21ddb8477e98b2cbb87ea2e269</td>\n",
       "    </tr>\n",
       "  </tbody>\n",
       "</table>\n",
       "</div>"
      ],
      "text/plain": [
       "         source                                             img_sp  width  \\\n",
       "0  fashionpedia  /home/chenyi/workspace/dataset/data/data_fashi...  681.0   \n",
       "1  fashionpedia  /home/chenyi/workspace/dataset/data/data_fashi...  681.0   \n",
       "\n",
       "   height       bx1       bx2       bx3       bx4  label_model   mode  \\\n",
       "0  1024.0  0.551395  0.898926  0.077827  0.124023            0  train   \n",
       "1  1024.0  0.477974  0.869629  0.063142  0.038086            0  train   \n",
       "\n",
       "                               stem  \n",
       "0  0002ec21ddb8477e98b2cbb87ea2e269  \n",
       "1  0002ec21ddb8477e98b2cbb87ea2e269  "
      ]
     },
     "execution_count": 104,
     "metadata": {},
     "output_type": "execute_result"
    }
   ],
   "source": [
    "hwpedia_cat.head(2)"
   ]
  },
  {
   "cell_type": "code",
   "execution_count": 103,
   "id": "0f577aef-d332-4199-bb70-1d1967956d4a",
   "metadata": {},
   "outputs": [],
   "source": [
    "hwpedia_cat['stem'] = hwpedia_cat['img_sp'].apply(lambda x: Path(x).stem)"
   ]
  },
  {
   "cell_type": "code",
   "execution_count": null,
   "id": "245bb73c-e59b-4db9-bb1d-beefa0d6b9ba",
   "metadata": {},
   "outputs": [],
   "source": []
  },
  {
   "cell_type": "code",
   "execution_count": 111,
   "id": "9c5c4933-7dd4-4242-9ca2-1f56a32c1773",
   "metadata": {},
   "outputs": [],
   "source": [
    "gall_bbox_df = hwpedia_cat[hwpedia_cat['stem'].isin(gall10k_df['fname'])]"
   ]
  },
  {
   "cell_type": "code",
   "execution_count": 112,
   "id": "52160938-ec87-4917-bd2f-c13cba1f3770",
   "metadata": {},
   "outputs": [
    {
     "data": {
      "text/plain": [
       "(34329, 269575)"
      ]
     },
     "execution_count": 112,
     "metadata": {},
     "output_type": "execute_result"
    }
   ],
   "source": [
    "len(gall_bbox_df), len(hwpedia_cat)"
   ]
  },
  {
   "cell_type": "code",
   "execution_count": 116,
   "id": "2af045e7-5e50-4800-b260-b02e0e8ade55",
   "metadata": {},
   "outputs": [
    {
     "data": {
      "text/plain": [
       "10000"
      ]
     },
     "execution_count": 116,
     "metadata": {},
     "output_type": "execute_result"
    }
   ],
   "source": [
    "len(gall10k_df.drop_duplicates('fname'))"
   ]
  },
  {
   "cell_type": "code",
   "execution_count": 119,
   "id": "5bece4b9-8f47-4133-91d8-425e6648b1a3",
   "metadata": {},
   "outputs": [],
   "source": [
    "hwpedia_cat.to_csv('./data/hwpedia_bbox.csv', index=False)"
   ]
  },
  {
   "cell_type": "code",
   "execution_count": 120,
   "id": "1ab4332c-a83d-4545-b848-3d46e32684dd",
   "metadata": {},
   "outputs": [],
   "source": [
    "gall_bbox_df.to_csv('./data/tuneDataset/tuneGallery10k_bbox.csv', index=False)"
   ]
  },
  {
   "cell_type": "code",
   "execution_count": null,
   "id": "81c4ba90-c75a-4b98-8fb3-7e51472a79dd",
   "metadata": {},
   "outputs": [],
   "source": []
  },
  {
   "cell_type": "code",
   "execution_count": null,
   "id": "02a2a321-35ed-4ffe-a4d1-b65f72b6dc77",
   "metadata": {},
   "outputs": [],
   "source": []
  },
  {
   "cell_type": "code",
   "execution_count": 122,
   "id": "8edb5501-041a-4f14-bb26-9c4f35df80b5",
   "metadata": {},
   "outputs": [
    {
     "data": {
      "text/plain": [
       "4122"
      ]
     },
     "execution_count": 122,
     "metadata": {},
     "output_type": "execute_result"
    }
   ],
   "source": [
    "df_val = gall_bbox_df[gall_bbox_df['mode']=='val']\n",
    "len(df_val)"
   ]
  },
  {
   "cell_type": "code",
   "execution_count": 124,
   "id": "e4d19f08-2903-4a57-8bc3-4a43e1076c85",
   "metadata": {},
   "outputs": [
    {
     "data": {
      "text/plain": [
       "30207"
      ]
     },
     "execution_count": 124,
     "metadata": {},
     "output_type": "execute_result"
    }
   ],
   "source": [
    "df_train = gall_bbox_df[gall_bbox_df['mode']=='train']\n",
    "len(df_train)"
   ]
  },
  {
   "cell_type": "code",
   "execution_count": 125,
   "id": "3bcedbc2-bd2b-437d-98a3-961399264c6c",
   "metadata": {},
   "outputs": [],
   "source": [
    "df_train_sample = df_train.sample(25000)"
   ]
  },
  {
   "cell_type": "code",
   "execution_count": 126,
   "id": "861a6f33-7057-4892-b1bb-2c3bf39d50e9",
   "metadata": {},
   "outputs": [],
   "source": [
    "df = pd.concat([df_train_sample, df_val], axis=0)"
   ]
  },
  {
   "cell_type": "code",
   "execution_count": 127,
   "id": "65e827e8-5edb-490d-aedd-40b547c90cd7",
   "metadata": {},
   "outputs": [],
   "source": [
    "df.to_csv('./data/tuneDataset/tuneGallery10k_del_bbox.csv', index=False)"
   ]
  },
  {
   "cell_type": "code",
   "execution_count": null,
   "id": "eae0e1cc-6d35-4ba0-a2c0-8525bcbcfd8a",
   "metadata": {},
   "outputs": [],
   "source": []
  }
 ],
 "metadata": {
  "kernelspec": {
   "display_name": "Python 3 (ipykernel)",
   "language": "python",
   "name": "python3"
  },
  "language_info": {
   "codemirror_mode": {
    "name": "ipython",
    "version": 3
   },
   "file_extension": ".py",
   "mimetype": "text/x-python",
   "name": "python",
   "nbconvert_exporter": "python",
   "pygments_lexer": "ipython3",
   "version": "3.8.13"
  }
 },
 "nbformat": 4,
 "nbformat_minor": 5
}
