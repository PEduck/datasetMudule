{
 "cells": [
  {
   "cell_type": "code",
   "execution_count": null,
   "id": "8edccc06-d7e6-4d2b-873d-dc6d5714440f",
   "metadata": {},
   "outputs": [],
   "source": [
    "# 生成训练集txt\n",
    "# Author: Y Chen"
   ]
  },
  {
   "cell_type": "code",
   "execution_count": 1,
   "id": "965f48f1-99e7-49f5-a091-4d5f05a888f1",
   "metadata": {},
   "outputs": [],
   "source": [
    "import numpy as np\n",
    "import pandas as pd\n",
    "import glob\n",
    "import sys"
   ]
  },
  {
   "cell_type": "code",
   "execution_count": 2,
   "id": "59cb6ecd-1684-449f-af66-47030f806724",
   "metadata": {},
   "outputs": [],
   "source": [
    "from PIL import Image\n",
    "import cv2"
   ]
  },
  {
   "cell_type": "code",
   "execution_count": 3,
   "id": "ca4f84b4-1181-46d2-b76b-4ebee47a3c21",
   "metadata": {},
   "outputs": [],
   "source": [
    "from tqdm import tqdm\n",
    "from pathlib import Path"
   ]
  },
  {
   "cell_type": "code",
   "execution_count": null,
   "id": "c905b1d5-b3eb-4b34-bf95-7bbb75a5d337",
   "metadata": {},
   "outputs": [],
   "source": []
  },
  {
   "cell_type": "code",
   "execution_count": null,
   "id": "7a829f7f-5463-4b41-b869-5f96708c84f2",
   "metadata": {},
   "outputs": [],
   "source": []
  },
  {
   "cell_type": "markdown",
   "id": "7ef16afd-d8b3-45d3-bc2e-4e3ba09c0023",
   "metadata": {
    "tags": []
   },
   "source": [
    "### 0.API"
   ]
  },
  {
   "cell_type": "code",
   "execution_count": 4,
   "id": "ddca4f12-25d6-43c5-ad9a-f05117e7e839",
   "metadata": {},
   "outputs": [],
   "source": [
    "def get_list2dict(k_list, v_list):\n",
    "    d = {}\n",
    "    for item in zip(k_list, v_list):\n",
    "        d[item[0]] = item[1]\n",
    "    return d"
   ]
  },
  {
   "cell_type": "code",
   "execution_count": null,
   "id": "6c2f791f-6f66-4d91-bf8c-53a511c2306a",
   "metadata": {},
   "outputs": [],
   "source": []
  },
  {
   "cell_type": "code",
   "execution_count": null,
   "id": "593b7be3-30b9-4ad9-b295-b5c8c504ee39",
   "metadata": {},
   "outputs": [],
   "source": []
  },
  {
   "cell_type": "markdown",
   "id": "1354d993-c902-4efa-b5a0-4c9bc0bdfede",
   "metadata": {
    "tags": []
   },
   "source": [
    "### 1.Dataset Information."
   ]
  },
  {
   "cell_type": "code",
   "execution_count": 39,
   "id": "dfabf741-45a6-42ba-b372-b323e7c7beef",
   "metadata": {},
   "outputs": [
    {
     "name": "stdout",
     "output_type": "stream",
     "text": [
      "\u001b[01;34m/home/chenyi/workspace/yolov5/datasets/gallery_train/\u001b[00m\n",
      "├── \u001b[01;34mgallery2m7k\u001b[00m\n",
      "├── \u001b[01;34mgallery2mv6\u001b[00m\n",
      "├── \u001b[01;34mgallery2mv6_test\u001b[00m\n",
      "├── \u001b[01;34mgallery2m_v7_1\u001b[00m\n",
      "└── \u001b[01;34mgallery7k_100sample\u001b[00m\n",
      "\n",
      "5 directories\n"
     ]
    }
   ],
   "source": [
    "# 训练路径.\n",
    "!tree -d -L 1 /home/chenyi/workspace/yolov5/datasets/gallery_train/gallery2m_v7_1"
   ]
  },
  {
   "cell_type": "code",
   "execution_count": null,
   "id": "ac02e49d-f3ca-40a1-9c3f-bb5c3cc801ff",
   "metadata": {},
   "outputs": [],
   "source": [
    "# 图片路径.\n",
    "!tree -d -L 2 /home/chenyi/workspace/dataset/data/dada_det/"
   ]
  },
  {
   "cell_type": "code",
   "execution_count": null,
   "id": "f4a61655-b979-46ec-8d2b-785fe35685e3",
   "metadata": {},
   "outputs": [],
   "source": []
  },
  {
   "cell_type": "code",
   "execution_count": null,
   "id": "9259597b-4c91-43ff-9cc7-db22f5ea9316",
   "metadata": {},
   "outputs": [],
   "source": []
  },
  {
   "cell_type": "code",
   "execution_count": null,
   "id": "90c55790-5885-4d6b-9d8e-89e9bff526e4",
   "metadata": {},
   "outputs": [],
   "source": []
  },
  {
   "cell_type": "markdown",
   "id": "0e265dd4-82a0-46b8-b756-a59f13b88c4f",
   "metadata": {
    "tags": []
   },
   "source": [
    "### slink_df构建:生成软连接的path"
   ]
  },
  {
   "cell_type": "code",
   "execution_count": 5,
   "id": "c0c6e454-a7cc-4080-bf7a-f3f9bce90f72",
   "metadata": {},
   "outputs": [],
   "source": [
    "def folder_change(chg_df, origin_folder, folder_name):\n",
    "    chg_df['img_tp'] = chg_df['img_tp'].apply(lambda x:x.replace(f'/datasets/{origin_folder}/images/', f'/datasets/{folder_name}/images/'))\n",
    "    chg_df['label_tp'] = chg_df['label_tp'].apply(lambda x:x.replace(f'/datasets/{origin_folder}/labels/', f'/datasets/{folder_name}/labels/'))\n",
    "    return chg_df"
   ]
  },
  {
   "cell_type": "code",
   "execution_count": 6,
   "id": "1281cac1-14d7-4875-bae6-2a6fa6e78c29",
   "metadata": {},
   "outputs": [],
   "source": [
    "def name_change(chg_df, folder_name):\n",
    "    chg_df['img_tp'] = chg_df['img_tp'].apply(lambda x: '{0}/{1}_{2}'.format(Path(x).parent, folder_name, Path(x).name))\n",
    "    chg_df['label_tp'] = chg_df['label_tp'].apply(lambda x: '{0}/{1}_{2}'.format(Path(x).parent, folder_name, Path(x).name))\n",
    "    return chg_df"
   ]
  },
  {
   "cell_type": "code",
   "execution_count": null,
   "id": "e76791b0-1bc4-4e05-8bbb-c8216f1e16ed",
   "metadata": {},
   "outputs": [],
   "source": []
  },
  {
   "cell_type": "code",
   "execution_count": null,
   "id": "2e75b260-da7b-44bc-9a96-d5f5d5c61aff",
   "metadata": {},
   "outputs": [],
   "source": [
    "# 软连接\n",
    "root_slink = Path('/nas/chenyi/workspace/myPyModule/dataset/data/slink')\n",
    "!ls $root_slink/dadet100k"
   ]
  },
  {
   "cell_type": "code",
   "execution_count": null,
   "id": "74e1b385-9244-406d-b8b5-6f421c798900",
   "metadata": {},
   "outputs": [],
   "source": [
    "root_yolo = '/home/chenyi/workspace/yolov5/datasets/'\n",
    "!tree -d -L 1 $root_yolo"
   ]
  },
  {
   "cell_type": "code",
   "execution_count": null,
   "id": "6a0aab3f-aa14-4aa2-8671-d80c9edf4383",
   "metadata": {},
   "outputs": [],
   "source": [
    "# name_stand = ['img_sp', 'img_tp', 'label_sp', 'label_tp']\n",
    "# slink_df.rename(columns={slink_df.columns[4]:name_stand[0],\n",
    "#                         slink_df.columns[3]:name_stand[1],\n",
    "#                         slink_df.columns[1]:name_stand[2],\n",
    "#                         slink_df.columns[2]:name_stand[3]},\n",
    "#                inplace=True)"
   ]
  },
  {
   "cell_type": "code",
   "execution_count": null,
   "id": "92f7f5d0-c7f1-4265-b61c-481bf6f478b9",
   "metadata": {},
   "outputs": [],
   "source": []
  },
  {
   "cell_type": "markdown",
   "id": "743d9f37-688e-405a-9d55-b5707bee3a33",
   "metadata": {
    "tags": []
   },
   "source": [
    "#### 批量读取slink_df.csv"
   ]
  },
  {
   "cell_type": "code",
   "execution_count": 35,
   "id": "e9c44857-76ff-4b41-86ac-55675eab1ea0",
   "metadata": {},
   "outputs": [
    {
     "name": "stdout",
     "output_type": "stream",
     "text": [
      "\u001b[01;34m/home/chenyi/workspace/dataset/labels/labels6/dada_det\u001b[00m\n",
      "\n",
      "0 directories, 0 files\n"
     ]
    }
   ],
   "source": [
    "root_slink = Path('/home/chenyi/workspace/dataset/labels/labels6/gallery2m/gallery2m500_wholebody/csv/slink_df.csv')\n",
    "!tree -L 2 $root_slink"
   ]
  },
  {
   "cell_type": "code",
   "execution_count": 90,
   "id": "25b240fd-5d9a-4a2c-987e-7c451806689d",
   "metadata": {},
   "outputs": [],
   "source": [
    "gall500_df = pd.read_csv('/home/chenyi/workspace/dataset/labels/labels6/gallery2m/gallery2m500_wholebody/csv/slink_df.csv')\n",
    "gall7k_df = pd.read_csv('/home/chenyi/workspace/dataset/labels/labels6/gallery2m/csv/gall7k_train_slink_df.csv')"
   ]
  },
  {
   "cell_type": "code",
   "execution_count": 91,
   "id": "be1536bf-8727-4507-92de-816c52666295",
   "metadata": {},
   "outputs": [],
   "source": [
    "hw_slink_df = pd.read_csv('/home/chenyi/workspace/dataset/labels/labels6/haowei34k/csv/hw34k_level1_slink.csv')\n",
    "pd_slink_df = pd.read_csv('/home/chenyi/workspace/dataset/labels/labels6/fashionpedia/csv/fashionpedia6_slink.csv')\n",
    "skirt_df2_df = pd.read_csv('/home/chenyi/workspace/dataset/labels/labels6/DeepFashion2/csv/skirt_slink.csv')\n",
    "wbody_df = pd.read_csv('/home/chenyi/workspace/dataset/labels/dada_det/labels202206/wholebody_june/csv/wholebody5k_slin_dfk.csv')"
   ]
  },
  {
   "cell_type": "code",
   "execution_count": null,
   "id": "fcc1cef2-88b3-4f1a-916f-2a277c1538ce",
   "metadata": {},
   "outputs": [],
   "source": []
  },
  {
   "cell_type": "code",
   "execution_count": 92,
   "id": "18169be9-6eff-4ea7-8b37-4bcc6bd9b25a",
   "metadata": {},
   "outputs": [
    {
     "data": {
      "text/plain": [
       "(33411, 4814, 45529, 5069)"
      ]
     },
     "execution_count": 92,
     "metadata": {},
     "output_type": "execute_result"
    }
   ],
   "source": [
    "len(hw_slink_df), len(skirt_df2_df), len(pd_slink_df), len(wbody_df)"
   ]
  },
  {
   "cell_type": "code",
   "execution_count": 93,
   "id": "41640b1b-9984-40d1-9876-e46994a96e3e",
   "metadata": {},
   "outputs": [],
   "source": [
    "origin_folder = 'dadet100kv2'\n",
    "folder_name = 'gallery_train/gallery2m_v7_2'\n",
    "hw_slink_df = folder_change(hw_slink_df, origin_folder, folder_name)"
   ]
  },
  {
   "cell_type": "code",
   "execution_count": 94,
   "id": "5a1308d2-408f-4a0e-960b-887e38811c5f",
   "metadata": {},
   "outputs": [],
   "source": [
    "origin_folder = 'hwpedia80k'\n",
    "# folder_name = 'dadet_gallv4_june'\n",
    "pd_slink_df = folder_change(pd_slink_df, origin_folder, folder_name)"
   ]
  },
  {
   "cell_type": "code",
   "execution_count": null,
   "id": "a82dc4af-45a7-4f3d-b4ea-6fcfb48269b9",
   "metadata": {},
   "outputs": [],
   "source": []
  },
  {
   "cell_type": "code",
   "execution_count": 95,
   "id": "1345b8d7-7e51-495b-a70d-446b5078a22e",
   "metadata": {},
   "outputs": [],
   "source": [
    "origin_folder = 'dadet100kv1'\n",
    "# folder_name = 'dadet_gallv4_june'\n",
    "skirt_df2_df = folder_change(skirt_df2_df, origin_folder, folder_name)"
   ]
  },
  {
   "cell_type": "code",
   "execution_count": 96,
   "id": "f3705d07-cdb4-4e76-8573-7f696b613be5",
   "metadata": {},
   "outputs": [],
   "source": [
    "origin_folder = 'dadet100kv3_june'\n",
    "# folder_name = 'dadet_gallv4_june'\n",
    "wbody_df = folder_change(wbody_df, origin_folder, folder_name)"
   ]
  },
  {
   "cell_type": "code",
   "execution_count": 97,
   "id": "567f7123-4698-47b3-a31d-d37e0b0df746",
   "metadata": {},
   "outputs": [],
   "source": [
    "origin_folder = 'gallery_train/gallery2m500_wholebody'\n",
    "# folder_name = 'dadet_gallv4_june'\n",
    "gall500_df = folder_change(gall500_df, origin_folder, folder_name)"
   ]
  },
  {
   "cell_type": "code",
   "execution_count": 98,
   "id": "21068864-e014-44aa-9f39-323238ffb7bb",
   "metadata": {},
   "outputs": [],
   "source": [
    "origin_folder = 'gallery_train/gallery2m_v7_1'\n",
    "# folder_name = 'dadet_gallv4_june'\n",
    "gall7k_df = folder_change(gall7k_df, origin_folder, folder_name)"
   ]
  },
  {
   "cell_type": "code",
   "execution_count": null,
   "id": "ee76892a-96d3-40f7-a280-3493fb109d36",
   "metadata": {},
   "outputs": [],
   "source": []
  },
  {
   "cell_type": "code",
   "execution_count": 99,
   "id": "9ad3c83f-d0b4-479d-9aef-be9c396dbe14",
   "metadata": {},
   "outputs": [],
   "source": [
    "slink_df_v7_2 = pd.concat([hw_slink_df, skirt_df2_df, wbody_df, gall500_df, gall7k_df], axis=0)"
   ]
  },
  {
   "cell_type": "code",
   "execution_count": 104,
   "id": "3a080a14-8a11-4951-92c1-877bc8e7bd2e",
   "metadata": {},
   "outputs": [],
   "source": [
    "slink_df_v7_2['folder'] =  slink_df_v7_2['label_tp'].apply(lambda x: Path(x).parts[-4])"
   ]
  },
  {
   "cell_type": "code",
   "execution_count": 103,
   "id": "ceabe5a6-fc4b-44c7-b4da-7a6048c7326a",
   "metadata": {},
   "outputs": [
    {
     "data": {
      "text/plain": [
       "PosixPath('/home/chenyi/workspace/yolov5/datasets/gallery_train/gallery2m_v7_2')"
      ]
     },
     "execution_count": 103,
     "metadata": {},
     "output_type": "execute_result"
    }
   ],
   "source": [
    "save_dir"
   ]
  },
  {
   "cell_type": "code",
   "execution_count": 102,
   "id": "033d90b8-7596-4877-b5b4-fc51d5b7de55",
   "metadata": {},
   "outputs": [],
   "source": [
    "folder_name = 'gallery2m_v7_2'\n",
    "# save_dir = Path(slink_df_v7_2.head(1)['label_tp'].values[0]).parents[2]\n",
    "# Path.mkdir(save_dir /'csv', parents=True)\n",
    "# slink_df_v7_2.to_csv(save_dir /f'csv/{folder_name}_slink_df.csv', index=False)"
   ]
  },
  {
   "cell_type": "code",
   "execution_count": 105,
   "id": "d1bcd082-5beb-434e-968d-ec5766b4eb5a",
   "metadata": {},
   "outputs": [
    {
     "data": {
      "text/plain": [
       "folder\n",
       "gallery2m_v7_2    51044\n",
       "dtype: int64"
      ]
     },
     "execution_count": 105,
     "metadata": {},
     "output_type": "execute_result"
    }
   ],
   "source": [
    "# slink_df_v7_2.value_counts('folder')"
   ]
  },
  {
   "cell_type": "code",
   "execution_count": null,
   "id": "c5d78cec-d775-4097-9f5e-cfab2f1d6e5b",
   "metadata": {},
   "outputs": [],
   "source": []
  },
  {
   "cell_type": "markdown",
   "id": "5fa65b7c-ffc6-46f5-b055-0292bf29bc2a",
   "metadata": {
    "jp-MarkdownHeadingCollapsed": true,
    "tags": []
   },
   "source": [
    "#### 单个slink"
   ]
  },
  {
   "cell_type": "code",
   "execution_count": null,
   "id": "081f4c9f-fb7f-4025-9844-0242dca49b93",
   "metadata": {},
   "outputs": [],
   "source": [
    "slink_df = pd.read_csv(root_slink /'dadet100k/dadet100kv4_1_june_slink_df.csv')"
   ]
  },
  {
   "cell_type": "code",
   "execution_count": null,
   "id": "1216c8bc-3d87-4c27-bbb0-9a94feb791e0",
   "metadata": {},
   "outputs": [],
   "source": [
    "slink_df.head(1).values"
   ]
  },
  {
   "cell_type": "code",
   "execution_count": null,
   "id": "c14a333f-7b8f-4689-a830-b7591ab0945c",
   "metadata": {},
   "outputs": [],
   "source": [
    "slink_df.head(1)"
   ]
  },
  {
   "cell_type": "code",
   "execution_count": null,
   "id": "ebfdfd9b-ad9e-41ba-84b0-d1bf3a428845",
   "metadata": {},
   "outputs": [],
   "source": []
  },
  {
   "cell_type": "code",
   "execution_count": null,
   "id": "e2de46c1-98a5-41b3-9b00-b811005f5f10",
   "metadata": {},
   "outputs": [],
   "source": [
    "origin_folder = 'dadet100kv4_1_june'\n",
    "folder_name = 'dadetv6_1'\n",
    "slink_df = folder_change(slink_df, origin_folder, folder_name)"
   ]
  },
  {
   "cell_type": "code",
   "execution_count": null,
   "id": "d6f0543e-39f5-4aa7-9195-9e7d665c1ecf",
   "metadata": {},
   "outputs": [],
   "source": [
    "# 采样\n",
    "# slink_train = slink_df[slink_df['mode']=='train']\n",
    "# slink_val = slink_df[slink_df['mode']=='val']\n",
    "# # slink_sample = slink_train.sample(int(0.8*len(slink_df)))\n",
    "# # slink_df = pd.concat([slink_sample, slink_val], axis=0)\n",
    "# len(slink_train), len(slink_val)"
   ]
  },
  {
   "cell_type": "code",
   "execution_count": null,
   "id": "b64c02c3-fdd1-45f4-a8b4-7b0216963f26",
   "metadata": {},
   "outputs": [],
   "source": [
    "# slink_df = slink_sample"
   ]
  },
  {
   "cell_type": "markdown",
   "id": "f444abaf-4fcf-4fcd-8dd2-4cd89778466b",
   "metadata": {
    "jp-MarkdownHeadingCollapsed": true,
    "tags": []
   },
   "source": [
    "##### 核查slink"
   ]
  },
  {
   "cell_type": "code",
   "execution_count": null,
   "id": "922d64af-729b-4b1d-9fef-11b414dda676",
   "metadata": {},
   "outputs": [],
   "source": [
    "slink_df['mode'] = slink_df['label_tp'].apply(lambda x: Path(x).parts[-2])"
   ]
  },
  {
   "cell_type": "code",
   "execution_count": null,
   "id": "3fc1c737-8b03-4477-a762-96ebcf14fd07",
   "metadata": {},
   "outputs": [],
   "source": [
    "len(slink_df), len(slink_df.drop_duplicates('label_tp'))\n",
    "slink_df['target'] = slink_df['img_tp'].apply(lambda x: re.findall('datasets/(.*?)/images/', x)[0])\n",
    "slink_df.value_counts('target')"
   ]
  },
  {
   "cell_type": "code",
   "execution_count": null,
   "id": "6e0534b0-9041-4314-9539-25fb772ff744",
   "metadata": {},
   "outputs": [],
   "source": [
    "slink_df['mode'] = slink_df['img_tp'].apply(lambda x: re.findall('/images/(.*?)/', x)[0])\n",
    "slink_df['id'] = slink_df['img_tp'].apply(lambda x: Path(Path(x).parts[-2]) /Path(x).stem)\n",
    "slink_df.value_counts('mode'),len(slink_df.drop_duplicates('id')),len(slink_df)"
   ]
  },
  {
   "cell_type": "code",
   "execution_count": null,
   "id": "6d84c3c8-a8f3-4e30-b572-f183f1d83c46",
   "metadata": {},
   "outputs": [],
   "source": [
    "# slink_df.to_csv(f'data/{folder_name}_slink_df.csv', index=False)\n",
    "# slink_sample.to_csv(f'data/tuneDataset/{folder_name}_slink_df.csv', index=False)"
   ]
  },
  {
   "cell_type": "code",
   "execution_count": null,
   "id": "77fbd8b6-8c70-488d-8017-94e814963a92",
   "metadata": {},
   "outputs": [],
   "source": []
  },
  {
   "cell_type": "code",
   "execution_count": null,
   "id": "55ea085b-d698-4ea3-954d-1ab497763b59",
   "metadata": {},
   "outputs": [],
   "source": []
  },
  {
   "cell_type": "markdown",
   "id": "31456e3a-4b13-41d1-b3f3-29f0a4e9c7f2",
   "metadata": {
    "tags": []
   },
   "source": [
    "### 生成sym link"
   ]
  },
  {
   "cell_type": "code",
   "execution_count": null,
   "id": "412735a2-74b0-4389-a639-504d64cdb44e",
   "metadata": {},
   "outputs": [],
   "source": [
    "!tree -d -L 1 /home/chenyi/workspace/yolov5/datasets/"
   ]
  },
  {
   "cell_type": "code",
   "execution_count": 141,
   "id": "c717b31f-ad6a-4527-bfed-9041fa2dc0f7",
   "metadata": {},
   "outputs": [
    {
     "data": {
      "text/plain": [
       "'gallery2m_v7_2'"
      ]
     },
     "execution_count": 141,
     "metadata": {},
     "output_type": "execute_result"
    }
   ],
   "source": [
    "folder_name"
   ]
  },
  {
   "cell_type": "code",
   "execution_count": 142,
   "id": "8825ac81-2464-4aee-ac37-1dcab65ef2d4",
   "metadata": {},
   "outputs": [],
   "source": [
    "# slink_df = pd.read_csv('data/tuneDataset/tuneGallery10k_slink_df.csv')\n",
    "slink_df = slink_df_v7_1\n",
    "folder_name = 'gallery2m_v7_1'"
   ]
  },
  {
   "cell_type": "code",
   "execution_count": 143,
   "id": "559cfdbb-b785-42a9-9244-2140dbb35c2f",
   "metadata": {},
   "outputs": [],
   "source": [
    "root = '/home/chenyi/workspace/yolov5/datasets/gallery_train/'"
   ]
  },
  {
   "cell_type": "code",
   "execution_count": 145,
   "id": "6a2bb687-f46e-4ddb-9ace-d316e70392f4",
   "metadata": {},
   "outputs": [],
   "source": [
    "# 产生路径\n",
    "import shutil\n",
    "# folder_name = 'gall10k_delBox'\n",
    "folder_name = folder_name\n",
    "folder_root = Path(root) /folder_name\n",
    "# folder_root = root\n",
    "folder1 = ['images', 'labels']\n",
    "folder2 = ['train', 'val']\n",
    "# # if folder_root.is_dir() and True:\n",
    "# #     shutil.rmtree(folder_root)\n",
    "# for f1 in folder1:\n",
    "#     for f2 in folder2:\n",
    "#         tg = folder_root / f1 / f2\n",
    "#         tg.mkdir(parents=True)   "
   ]
  },
  {
   "cell_type": "code",
   "execution_count": 146,
   "id": "37ffa695-fb85-46da-9889-7911f723c582",
   "metadata": {},
   "outputs": [
    {
     "name": "stdout",
     "output_type": "stream",
     "text": [
      "\u001b[01;34m/home/chenyi/workspace/yolov5/datasets/gallery_train/gallery2m_v7_1\u001b[00m\n",
      "├── \u001b[01;34mcsv\u001b[00m\n",
      "├── \u001b[01;34mimages\u001b[00m\n",
      "│   ├── \u001b[01;34mtrain\u001b[00m\n",
      "│   └── \u001b[01;34mval\u001b[00m\n",
      "└── \u001b[01;34mlabels\u001b[00m\n",
      "    ├── \u001b[01;34mtrain\u001b[00m\n",
      "    └── \u001b[01;34mval\u001b[00m\n",
      "\n",
      "7 directories\n"
     ]
    }
   ],
   "source": [
    "!tree -d -L 2 $folder_root"
   ]
  },
  {
   "cell_type": "code",
   "execution_count": 147,
   "id": "34c8445a-fb51-4356-8f64-63e535a269c3",
   "metadata": {},
   "outputs": [],
   "source": [
    "# for p in glob.glob(f'{folder_root}/*/*/*'):\n",
    "#     if Path(p).is_symlink():\n",
    "#         Path(p).unlink()"
   ]
  },
  {
   "cell_type": "code",
   "execution_count": 148,
   "id": "801d2020-58ac-4506-92a0-a4f79b7ca4db",
   "metadata": {},
   "outputs": [
    {
     "data": {
      "text/plain": [
       "(PosixPath('/home/chenyi/workspace/yolov5/datasets/gallery_train/gallery2m_v7_1'),\n",
       " 7748,\n",
       " 7748)"
      ]
     },
     "execution_count": 148,
     "metadata": {},
     "output_type": "execute_result"
    }
   ],
   "source": [
    "folder_root, len(glob.glob(f'{folder_root}/images/*/*.jpg')), len(glob.glob(f'{folder_root}/labels/*/*.txt'))"
   ]
  },
  {
   "cell_type": "code",
   "execution_count": 149,
   "id": "aa4ab066-8af9-4cf0-9dec-56c270780b1e",
   "metadata": {},
   "outputs": [
    {
     "data": {
      "text/plain": [
       "(96573, 96571)"
      ]
     },
     "execution_count": 149,
     "metadata": {},
     "output_type": "execute_result"
    }
   ],
   "source": [
    "len(slink_df),len(slink_df.drop_duplicates('label_tp'))"
   ]
  },
  {
   "cell_type": "code",
   "execution_count": null,
   "id": "dce2e926-beba-4184-8154-95b305b06371",
   "metadata": {},
   "outputs": [],
   "source": []
  },
  {
   "cell_type": "code",
   "execution_count": null,
   "id": "92d14f40-2aa9-41c3-8955-2af0ded178a1",
   "metadata": {},
   "outputs": [],
   "source": []
  },
  {
   "cell_type": "code",
   "execution_count": 150,
   "id": "1978761a-ae28-4eac-9216-02e4247b86d4",
   "metadata": {},
   "outputs": [],
   "source": [
    "def link_label(row):\n",
    "    tp = Path(row['label_tp'])\n",
    "    if tp.is_file() or tp.is_symlink():\n",
    "        return None\n",
    "    Path.symlink_to(tp, Path(row['label_sp']))\n",
    "    \n",
    "def link_img(row):\n",
    "    tp = Path(row['img_tp'])\n",
    "    if tp.is_file() or tp.is_symlink():\n",
    "        return None\n",
    "    Path.symlink_to(tp, Path(row['img_sp']))"
   ]
  },
  {
   "cell_type": "code",
   "execution_count": 151,
   "id": "71f2718b-f3ff-4790-bf6f-507a343f5fdf",
   "metadata": {},
   "outputs": [
    {
     "name": "stdout",
     "output_type": "stream",
     "text": [
      "CPU times: user 3.41 s, sys: 2.95 s, total: 6.36 s\n",
      "Wall time: 6.45 s\n"
     ]
    }
   ],
   "source": [
    "%%time\n",
    "for p in slink_df['label_tp'].values:\n",
    "    if Path(p).is_symlink():\n",
    "        Path(p).unlink()\n",
    "_ = slink_df.apply(lambda row: link_file(row), axis=1)\n",
    "# _ = slink_df.apply(lambda row: os.symlink(str(row['label_sp']), str(row['label_tp'])), axis=1)"
   ]
  },
  {
   "cell_type": "code",
   "execution_count": 152,
   "id": "5f2dfc8e-2177-4a62-96ff-bc7d334dbc1c",
   "metadata": {},
   "outputs": [
    {
     "name": "stdout",
     "output_type": "stream",
     "text": [
      "CPU times: user 3.27 s, sys: 3.18 s, total: 6.45 s\n",
      "Wall time: 6.69 s\n"
     ]
    }
   ],
   "source": [
    "%%time\n",
    "for p in slink_df['img_tp'].values:\n",
    "    if Path(p).is_symlink():\n",
    "        Path(p).unlink()\n",
    "_ = slink_df.apply(lambda row: link_img(row), axis=1)\n",
    "# _ = slink_df.apply(lambda row: Path.symlink_to(Path(row['img_tp']), Path(row['img_sp'])), axis=1)"
   ]
  },
  {
   "cell_type": "code",
   "execution_count": null,
   "id": "ca1e1014-0c63-4568-b0c5-333b925882bc",
   "metadata": {},
   "outputs": [],
   "source": []
  },
  {
   "cell_type": "code",
   "execution_count": 153,
   "id": "ebc561f4-cb04-4055-832e-f7fd60521d49",
   "metadata": {},
   "outputs": [
    {
     "data": {
      "text/plain": [
       "(96573, 96571, 96571)"
      ]
     },
     "execution_count": 153,
     "metadata": {},
     "output_type": "execute_result"
    }
   ],
   "source": [
    "len(slink_df),len(glob.glob(f'{folder_root}/images/*/*.jpg')), len(glob.glob(f'{folder_root}/labels/*/*.txt'))"
   ]
  },
  {
   "cell_type": "code",
   "execution_count": 154,
   "id": "1fc942ac-1f23-4c91-a364-ec900458d987",
   "metadata": {},
   "outputs": [
    {
     "name": "stdout",
     "output_type": "stream",
     "text": [
      "2 0.489286 0.340034 0.240476 0.264657\n",
      "3 0.489286 0.663317 0.188095 0.428811\n",
      "0 0.497619 0.916248 0.161905 0.070352\n",
      "0 0.450000 0.913735 0.147619 0.051926\n"
     ]
    }
   ],
   "source": [
    "p = str(slink_df['label_tp'].values[0])\n",
    "!cat $p"
   ]
  },
  {
   "cell_type": "code",
   "execution_count": null,
   "id": "92c05cad-3694-4a3f-b1ad-2366ef04c22a",
   "metadata": {},
   "outputs": [],
   "source": []
  },
  {
   "cell_type": "code",
   "execution_count": null,
   "id": "007fa3c7-4455-46b8-8c7d-c160654b4305",
   "metadata": {},
   "outputs": [],
   "source": []
  },
  {
   "cell_type": "markdown",
   "id": "da7f4991-4d4f-4d1c-8c72-a48eb90d852a",
   "metadata": {
    "tags": []
   },
   "source": [
    "#### 核查软连接"
   ]
  },
  {
   "cell_type": "code",
   "execution_count": null,
   "id": "2abdac41-a35e-4d9b-a5fe-04eb737c1307",
   "metadata": {},
   "outputs": [],
   "source": [
    "!tree -d -L 1 /home/chenyi/workspace/yolov5/datasets/"
   ]
  },
  {
   "cell_type": "code",
   "execution_count": null,
   "id": "e9e57d8e-ab2a-4236-8c4d-2003b82bbcbd",
   "metadata": {},
   "outputs": [],
   "source": []
  },
  {
   "cell_type": "code",
   "execution_count": 155,
   "id": "fd80f04e-0cc1-446e-8c6a-bfa9d2cf446a",
   "metadata": {},
   "outputs": [
    {
     "name": "stdout",
     "output_type": "stream",
     "text": [
      "\u001b[01;34m/home/chenyi/workspace/yolov5/datasets/gallery_train/gallery2m_v7_1\u001b[00m\n",
      "├── \u001b[01;34mcsv\u001b[00m\n",
      "├── \u001b[01;34mimages\u001b[00m\n",
      "│   ├── \u001b[01;34mtrain\u001b[00m\n",
      "│   └── \u001b[01;34mval\u001b[00m\n",
      "└── \u001b[01;34mlabels\u001b[00m\n",
      "    ├── \u001b[01;34mtrain\u001b[00m\n",
      "    └── \u001b[01;34mval\u001b[00m\n",
      "\n",
      "7 directories\n"
     ]
    }
   ],
   "source": [
    "# folder_name = 'hwpedia'\n",
    "# folder_name = folder_name\n",
    "root = f'/home/chenyi/workspace/yolov5/datasets/gallery_train/{folder_name}'\n",
    "!tree  -d -L 2 $root"
   ]
  },
  {
   "cell_type": "code",
   "execution_count": null,
   "id": "5700fd1e-2358-4485-b826-6658fd8fdc59",
   "metadata": {},
   "outputs": [],
   "source": []
  },
  {
   "cell_type": "code",
   "execution_count": 156,
   "id": "e59b7ec3-4b59-4ca8-8959-6e29a2719cfa",
   "metadata": {},
   "outputs": [],
   "source": [
    "def check_syslink(root, mode='images'):\n",
    "    subfix = '.txt' if mode=='labels' else '.jpg'\n",
    "    flag_list = [os.path.isfile(os.readlink(p)) for p in glob.glob(f'{root}/{mode}/*/*{subfix}')]\n",
    "    txt_df = pd.DataFrame()\n",
    "    txt_df['flag'] = flag_list\n",
    "    return txt_df.value_counts('flag')"
   ]
  },
  {
   "cell_type": "code",
   "execution_count": null,
   "id": "e4a1d119-8bed-43ff-a939-920a7de74ae9",
   "metadata": {},
   "outputs": [],
   "source": []
  },
  {
   "cell_type": "code",
   "execution_count": 157,
   "id": "b2bdde9d-9207-4f12-85a3-2fad428ef20d",
   "metadata": {},
   "outputs": [
    {
     "name": "stdout",
     "output_type": "stream",
     "text": [
      "CPU times: user 213 ms, sys: 338 ms, total: 551 ms\n",
      "Wall time: 593 ms\n"
     ]
    },
    {
     "data": {
      "text/plain": [
       "flag\n",
       "True    96571\n",
       "dtype: int64"
      ]
     },
     "execution_count": 157,
     "metadata": {},
     "output_type": "execute_result"
    }
   ],
   "source": [
    "%%time\n",
    "import os\n",
    "check_syslink(root, mode='images')"
   ]
  },
  {
   "cell_type": "code",
   "execution_count": null,
   "id": "2ea6ecfc-f298-46c7-9755-4b674220d78f",
   "metadata": {},
   "outputs": [],
   "source": []
  },
  {
   "cell_type": "code",
   "execution_count": 158,
   "id": "a124921c-47ef-41ef-b543-50b2160c7fd5",
   "metadata": {},
   "outputs": [
    {
     "name": "stdout",
     "output_type": "stream",
     "text": [
      "CPU times: user 212 ms, sys: 289 ms, total: 502 ms\n",
      "Wall time: 540 ms\n"
     ]
    },
    {
     "data": {
      "text/plain": [
       "flag\n",
       "True    96571\n",
       "dtype: int64"
      ]
     },
     "execution_count": 158,
     "metadata": {},
     "output_type": "execute_result"
    }
   ],
   "source": [
    "%%time\n",
    "check_syslink(root, mode='labels')"
   ]
  },
  {
   "cell_type": "code",
   "execution_count": null,
   "id": "183dab55-abc3-46f0-922d-c8b198c983ce",
   "metadata": {},
   "outputs": [],
   "source": []
  },
  {
   "cell_type": "code",
   "execution_count": null,
   "id": "44868d00-477f-4f7d-96d8-4b09556efa0b",
   "metadata": {},
   "outputs": [],
   "source": []
  },
  {
   "cell_type": "markdown",
   "id": "69a4249a-04cf-49cf-975a-fc52d3186d03",
   "metadata": {
    "jp-MarkdownHeadingCollapsed": true,
    "tags": []
   },
   "source": [
    "#### 对现有数据拷贝软连接"
   ]
  },
  {
   "cell_type": "code",
   "execution_count": null,
   "id": "85e2dd7f-5892-4980-a11e-39b7ae001ccd",
   "metadata": {},
   "outputs": [],
   "source": [
    "folder_name = 'hwpedia'"
   ]
  },
  {
   "cell_type": "code",
   "execution_count": null,
   "id": "efa821ec-840a-4f61-bcbe-64fb7358dd69",
   "metadata": {},
   "outputs": [],
   "source": [
    "img_list = glob.glob(f'/home/chenyi/workspace/yolov5/datasets/{folder_name}/images/*/*')\n",
    "len(img_list)"
   ]
  },
  {
   "cell_type": "code",
   "execution_count": null,
   "id": "c9b7b829-ffdb-41ca-9be3-3d643557acbe",
   "metadata": {},
   "outputs": [],
   "source": [
    "label_list = glob.glob(f'/home/chenyi/workspace/yolov5/datasets/{folder_name}/labels/*/*')\n",
    "len(label_list)"
   ]
  },
  {
   "cell_type": "code",
   "execution_count": null,
   "id": "0ca14300-f1be-4083-8ac8-5f407be89c1c",
   "metadata": {},
   "outputs": [],
   "source": []
  },
  {
   "cell_type": "markdown",
   "id": "317cfa87-0cb4-4365-aaf0-8b6470088504",
   "metadata": {
    "jp-MarkdownHeadingCollapsed": true,
    "tags": []
   },
   "source": [
    "##### 现有数据"
   ]
  },
  {
   "cell_type": "code",
   "execution_count": null,
   "id": "ab32f3d2-1163-4725-974b-023ff99755f5",
   "metadata": {},
   "outputs": [],
   "source": [
    "img_t_list = [p.replace('hw_pedia_true', 'dadet100kv1') for p in img_list]\n",
    "label_t_list = [p.replace('hw_pedia_true', 'dadet100kv1') for p in label_list]"
   ]
  },
  {
   "cell_type": "code",
   "execution_count": null,
   "id": "bf279c74-6b31-4b2c-a9f7-85f1b70f9c66",
   "metadata": {},
   "outputs": [],
   "source": []
  },
  {
   "cell_type": "code",
   "execution_count": null,
   "id": "df474520-3da5-4487-b2bd-504c3954a1f9",
   "metadata": {},
   "outputs": [],
   "source": [
    "df = pd.DataFrame()\n",
    "df['img_sp'] = img_list\n",
    "df['label_sp'] = label_list\n",
    "df['img_tp'] = img_t_list\n",
    "df['label_tp'] = label_t_list"
   ]
  },
  {
   "cell_type": "code",
   "execution_count": null,
   "id": "75be2a61-0d80-4654-b44e-28492a50fa57",
   "metadata": {},
   "outputs": [],
   "source": []
  },
  {
   "cell_type": "code",
   "execution_count": null,
   "id": "60dcc8f9-fabe-43fb-8c32-af3df80bcb03",
   "metadata": {},
   "outputs": [],
   "source": [
    "slink_df.head(2)"
   ]
  },
  {
   "cell_type": "code",
   "execution_count": null,
   "id": "26f477b6-d3cb-405d-a7d8-10b92a9fdc0c",
   "metadata": {},
   "outputs": [],
   "source": []
  },
  {
   "cell_type": "code",
   "execution_count": null,
   "id": "ee45b713-15f3-40b5-a4ac-3ca2b1d32ed5",
   "metadata": {},
   "outputs": [],
   "source": []
  },
  {
   "cell_type": "code",
   "execution_count": null,
   "id": "f8c60f77-15d1-4ddb-95bc-22d539af37c5",
   "metadata": {},
   "outputs": [],
   "source": []
  },
  {
   "cell_type": "markdown",
   "id": "375343b7-490e-4a8f-96f0-27db526e024a",
   "metadata": {
    "jp-MarkdownHeadingCollapsed": true,
    "tags": []
   },
   "source": [
    "##### yolox voc"
   ]
  },
  {
   "cell_type": "code",
   "execution_count": null,
   "id": "f3f38c3a-fbe2-4eb2-892c-f36bcd447a66",
   "metadata": {},
   "outputs": [],
   "source": [
    "save_root = Path(f'/home/chenyi/workspace/yolox/datasets/{folder_name}')\n",
    "names = ['JPEGImages', 'Annotations', 'ImageSets', 'labels']"
   ]
  },
  {
   "cell_type": "code",
   "execution_count": null,
   "id": "660de37f-3815-4cc1-b373-5cd8103f94eb",
   "metadata": {},
   "outputs": [],
   "source": [
    "picPath = save_root /names[0]\n",
    "xmlPath = save_root /names[1]\n",
    "train_val_path = save_root /names[2]\n",
    "txtPath = save_root /names[3]"
   ]
  },
  {
   "cell_type": "code",
   "execution_count": null,
   "id": "ebb5a8e4-3273-4f0a-9a62-6511b14291f4",
   "metadata": {},
   "outputs": [],
   "source": [
    "slink_df = pd.DataFrame()\n",
    "slink_df['img_sp'] = img_list\n",
    "slink_df['label_sp'] = label_list"
   ]
  },
  {
   "cell_type": "code",
   "execution_count": null,
   "id": "3cfcb7c2-24ba-4e2a-ab11-186e6024a936",
   "metadata": {
    "tags": []
   },
   "outputs": [],
   "source": [
    "slink_df['label_tp'] = slink_df['label_sp'].apply(lambda x: txtPath / Path(x).name)"
   ]
  },
  {
   "cell_type": "code",
   "execution_count": null,
   "id": "07514f77-2dd2-42c7-915a-b95d8325a359",
   "metadata": {},
   "outputs": [],
   "source": [
    "slink_df['img_tp'] = slink_df['img_sp'].apply(lambda x: picPath /Path(x).name)"
   ]
  },
  {
   "cell_type": "code",
   "execution_count": null,
   "id": "d23d743d-9fa3-45bd-af2d-75ccbe562837",
   "metadata": {},
   "outputs": [],
   "source": [
    "slink_df.head(1).values"
   ]
  },
  {
   "cell_type": "code",
   "execution_count": null,
   "id": "a4f8b329-ccd4-4b87-9c5c-b26932a3fdff",
   "metadata": {},
   "outputs": [],
   "source": []
  },
  {
   "cell_type": "code",
   "execution_count": null,
   "id": "ed913445-4751-4fa2-8d1b-9bef9e3d428d",
   "metadata": {},
   "outputs": [],
   "source": []
  },
  {
   "cell_type": "code",
   "execution_count": null,
   "id": "94e3062a-7eb5-4a4a-baf2-6fdb401b06c6",
   "metadata": {},
   "outputs": [],
   "source": [
    "%%time\n",
    "for p in slink_df['label_tp'].values:\n",
    "    if Path(p).is_symlink():\n",
    "        Path(p).unlink()\n",
    "_ = slink_df.apply(lambda row: Path.symlink_to(Path(row['label_tp']), Path(row['label_sp'])), axis=1)\n",
    "# _ = slink_df.apply(lambda row: os.symlink(str(row['label_sp']), str(row['label_tp'])), axis=1)"
   ]
  },
  {
   "cell_type": "code",
   "execution_count": null,
   "id": "0968cd63-d6ec-4161-b184-4b319b8b0db1",
   "metadata": {},
   "outputs": [],
   "source": [
    "%%time\n",
    "for p in slink_df['img_tp'].values:\n",
    "    if Path(p).is_symlink():\n",
    "        Path(p).unlink()\n",
    "_ = slink_df.apply(lambda row: Path.symlink_to(Path(row['img_tp']), Path(row['img_sp'])), axis=1)"
   ]
  },
  {
   "cell_type": "code",
   "execution_count": null,
   "id": "c4cdb199-1f16-4321-8ef6-5c19e530ef77",
   "metadata": {},
   "outputs": [],
   "source": []
  },
  {
   "cell_type": "markdown",
   "id": "57f5b059-4706-4b5a-b469-1631ac72573c",
   "metadata": {
    "jp-MarkdownHeadingCollapsed": true,
    "tags": []
   },
   "source": [
    "##### yolox voc train val set"
   ]
  },
  {
   "cell_type": "code",
   "execution_count": null,
   "id": "e4b8c20f-c01a-4de9-a766-716dcf745f8f",
   "metadata": {},
   "outputs": [],
   "source": [
    "len(slink_df)"
   ]
  },
  {
   "cell_type": "code",
   "execution_count": null,
   "id": "051f3d59-f431-48dd-af88-fd69972a5999",
   "metadata": {},
   "outputs": [],
   "source": [
    "slink_df.head(1).values"
   ]
  },
  {
   "cell_type": "code",
   "execution_count": null,
   "id": "2368c4cf-663f-4921-9e37-512fdc80d787",
   "metadata": {},
   "outputs": [],
   "source": [
    "slink_df['mode'] = slink_df['label_sp'].apply(lambda x: Path(x).parts[-2])"
   ]
  },
  {
   "cell_type": "code",
   "execution_count": null,
   "id": "896fee1f-f7a8-4273-b30b-e58f18dd0ae7",
   "metadata": {},
   "outputs": [],
   "source": [
    "slink_df['stem'] = slink_df['label_sp'].apply(lambda x: Path(x).stem)"
   ]
  },
  {
   "cell_type": "code",
   "execution_count": null,
   "id": "4725273e-ce50-4058-95b0-31e2526ab32d",
   "metadata": {},
   "outputs": [],
   "source": [
    "!ls $train_val_path/train.txt"
   ]
  },
  {
   "cell_type": "code",
   "execution_count": null,
   "id": "0f49529d-5a37-464b-b6ab-5cde3feec5e2",
   "metadata": {},
   "outputs": [],
   "source": [
    "stem_list = ['20150720135713768', '20150720133904463', '20150720134705403']\n",
    "slink_df = slink_df[~slink_df['stem'].isin(stem_list)]"
   ]
  },
  {
   "cell_type": "code",
   "execution_count": null,
   "id": "9c6687d1-f4d5-4449-afa9-6f575f9785f9",
   "metadata": {},
   "outputs": [],
   "source": [
    "train_df = slink_df[slink_df['mode']=='train']['stem']"
   ]
  },
  {
   "cell_type": "code",
   "execution_count": null,
   "id": "6c5fc6ed-a3b9-4955-83d4-59f47dd70e75",
   "metadata": {},
   "outputs": [],
   "source": [
    "with open(train_val_path /'train.txt', 'a+') as f:\n",
    "    for line in tqdm(train_df.values):\n",
    "        f.writelines(line+'\\n')\n",
    "        # break"
   ]
  },
  {
   "cell_type": "code",
   "execution_count": null,
   "id": "f8af824e-d072-4a7d-ac1f-2fff52e2fd02",
   "metadata": {},
   "outputs": [],
   "source": []
  },
  {
   "cell_type": "code",
   "execution_count": null,
   "id": "e0d6dd62-b84d-4295-ae9e-a510620b94f8",
   "metadata": {},
   "outputs": [],
   "source": []
  },
  {
   "cell_type": "markdown",
   "id": "b0a94d43-8270-48ba-9a45-eb6d56dee4cc",
   "metadata": {
    "tags": []
   },
   "source": [
    "##### 软连接\n"
   ]
  },
  {
   "cell_type": "code",
   "execution_count": null,
   "id": "bac5c320-bb01-4e9a-8af3-1debe4c06d1d",
   "metadata": {},
   "outputs": [],
   "source": [
    "slink_df = pd.DataFrame()\n",
    "drop_df = df.drop_duplicates('img_sp')\n",
    "slink_df['img_sp'] = drop_df['img_sp']\n",
    "slink_df['label_sp'] = drop_df['label_tp']"
   ]
  },
  {
   "cell_type": "code",
   "execution_count": null,
   "id": "e2925433-c33c-4fab-afb0-c7e5b2acd02b",
   "metadata": {},
   "outputs": [],
   "source": []
  },
  {
   "cell_type": "code",
   "execution_count": null,
   "id": "19c3d3e2-a947-4072-9229-83ac2699ed02",
   "metadata": {},
   "outputs": [],
   "source": [
    "troot = Path('/home/chenyi/workspace/yolov5/datasets/dadet100kv1/')"
   ]
  },
  {
   "cell_type": "code",
   "execution_count": null,
   "id": "29e2fef9-bb6c-4b0c-90ec-ca02e590d4b9",
   "metadata": {},
   "outputs": [],
   "source": [
    "slink_df['label_tp'] = slink_df['label_sp'].apply(lambda x: troot /'labels' /Path(x).parts[-2] /Path(x).parts[-1])"
   ]
  },
  {
   "cell_type": "code",
   "execution_count": null,
   "id": "0aafdd3b-f86c-4efd-8761-2be9521fdb48",
   "metadata": {},
   "outputs": [],
   "source": [
    "slink_df['img_tp'] = slink_df['label_sp'].apply(lambda x: troot /'images' /Path(x).parts[-2] /Path(x).parts[-1])\n",
    "slink_df['img_tp'] = slink_df['img_tp'].apply(lambda x: x.with_suffix('.jpg'))"
   ]
  },
  {
   "cell_type": "code",
   "execution_count": null,
   "id": "d5a6dc1e-1910-42ab-9b9a-c67b8c3feb68",
   "metadata": {},
   "outputs": [],
   "source": []
  },
  {
   "cell_type": "code",
   "execution_count": null,
   "id": "78343685-b1a7-4c41-8cb2-05dbd1b8ae5d",
   "metadata": {},
   "outputs": [],
   "source": [
    "slink_df.to_csv('./data/shoeBag5k0515/shoeBag0515_slink_df.csv', index=False)"
   ]
  },
  {
   "cell_type": "code",
   "execution_count": null,
   "id": "3db94b75-23ab-4eb8-9aa9-67c1b55eadd6",
   "metadata": {},
   "outputs": [],
   "source": []
  }
 ],
 "metadata": {
  "kernelspec": {
   "display_name": "Python 3 (ipykernel)",
   "language": "python",
   "name": "python3"
  },
  "language_info": {
   "codemirror_mode": {
    "name": "ipython",
    "version": 3
   },
   "file_extension": ".py",
   "mimetype": "text/x-python",
   "name": "python",
   "nbconvert_exporter": "python",
   "pygments_lexer": "ipython3",
   "version": "3.8.13"
  }
 },
 "nbformat": 4,
 "nbformat_minor": 5
}
