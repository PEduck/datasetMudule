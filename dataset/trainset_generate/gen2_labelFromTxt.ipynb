{
 "cells": [
  {
   "cell_type": "code",
   "execution_count": 2,
   "id": "965f48f1-99e7-49f5-a091-4d5f05a888f1",
   "metadata": {},
   "outputs": [],
   "source": [
    "import numpy as np\n",
    "import pandas as pd\n",
    "import glob\n",
    "import sys,os\n",
    "from pathlib import Path"
   ]
  },
  {
   "cell_type": "code",
   "execution_count": 3,
   "id": "59cb6ecd-1684-449f-af66-47030f806724",
   "metadata": {},
   "outputs": [],
   "source": [
    "from PIL import Image\n",
    "import re\n",
    "from tqdm import tqdm"
   ]
  },
  {
   "cell_type": "code",
   "execution_count": null,
   "id": "5c5eaf39-efab-4b31-b92c-8c0dfa1de4e8",
   "metadata": {},
   "outputs": [],
   "source": []
  },
  {
   "cell_type": "code",
   "execution_count": null,
   "id": "7a829f7f-5463-4b41-b869-5f96708c84f2",
   "metadata": {},
   "outputs": [],
   "source": []
  },
  {
   "cell_type": "markdown",
   "id": "7ef16afd-d8b3-45d3-bc2e-4e3ba09c0023",
   "metadata": {
    "jp-MarkdownHeadingCollapsed": true,
    "tags": []
   },
   "source": [
    "### 0.API"
   ]
  },
  {
   "cell_type": "code",
   "execution_count": null,
   "id": "cc57bfa3-8c1f-40c6-baf8-dfac0cc4b021",
   "metadata": {},
   "outputs": [],
   "source": [
    "sys.path.append('../../')\n",
    "from utils.plots.plots import draw_bbox"
   ]
  },
  {
   "cell_type": "code",
   "execution_count": null,
   "id": "c60290bc-6494-4da6-a633-e65b3c63ab1f",
   "metadata": {},
   "outputs": [],
   "source": []
  },
  {
   "cell_type": "code",
   "execution_count": null,
   "id": "2abb2d2c-53d0-4671-8e47-208be0c7f542",
   "metadata": {},
   "outputs": [],
   "source": [
    "# id_standard_df.to_csv('/home/chenyi/workspace/myPyModule99/dataset/labelMap/standard/id2class99_chenyi.csv', index=False)"
   ]
  },
  {
   "cell_type": "code",
   "execution_count": null,
   "id": "71d019b3-5cae-4d16-b06f-f88c1acc6ccd",
   "metadata": {},
   "outputs": [],
   "source": [
    "id_standard_df = pd.read_csv('/home/chenyi/workspace/myPyModule99/dataset/labelMap/standard/id2class99_chenyi.csv')\n",
    "id_use_df = id_standard_df[id_standard_df['use']>=0]"
   ]
  },
  {
   "cell_type": "code",
   "execution_count": null,
   "id": "73091c58-fc0c-42c1-9947-d8a025d4c569",
   "metadata": {},
   "outputs": [],
   "source": [
    "with open('/home/chenyi/workspace/myPyModule99/dataset/labelMap/standard/haowei34k_map_stand.json', 'r') as f:\n",
    "    hw2stand = json.load(f)"
   ]
  },
  {
   "cell_type": "code",
   "execution_count": 5,
   "id": "ddca4f12-25d6-43c5-ad9a-f05117e7e839",
   "metadata": {},
   "outputs": [],
   "source": [
    "def get_list2dict(k_list, v_list):\n",
    "    d = {}\n",
    "    for item in zip(k_list, v_list):\n",
    "        d[item[0]] = item[1]\n",
    "    return d"
   ]
  },
  {
   "cell_type": "code",
   "execution_count": 6,
   "id": "84c6b63f-ed24-45ac-ac02-0fdcf68980b2",
   "metadata": {},
   "outputs": [],
   "source": [
    "model_label_map = {\n",
    "    0: 10,  # 鞋子\n",
    "    1: 8,  # 包包\n",
    "    2: 4,  # 上装\n",
    "    3: 5,  # 裤子\n",
    "    4: 6,  # 裙子\n",
    "    5: 7,  # 连体装\n",
    "}"
   ]
  },
  {
   "cell_type": "code",
   "execution_count": null,
   "id": "19fdbf71-a7f4-4b0b-802d-e5235f308327",
   "metadata": {},
   "outputs": [],
   "source": []
  },
  {
   "cell_type": "code",
   "execution_count": null,
   "id": "7db49836-ff79-4792-b18c-da59a1131162",
   "metadata": {},
   "outputs": [],
   "source": [
    "# l2_map_l1 = get_list2dict( id_use_df['label99'].values, id_use_df['label_l1'].values)"
   ]
  },
  {
   "cell_type": "code",
   "execution_count": 7,
   "id": "94b37a1a-6613-452c-afed-78db8d686ba1",
   "metadata": {},
   "outputs": [],
   "source": [
    "label2model = get_list2dict( model_label_map.values(), model_label_map.keys())"
   ]
  },
  {
   "cell_type": "code",
   "execution_count": null,
   "id": "72724921-7275-4fa3-a8f6-210c439a45c8",
   "metadata": {},
   "outputs": [],
   "source": []
  },
  {
   "cell_type": "code",
   "execution_count": null,
   "id": "ca44ed4e-b38e-44b5-8a1b-27028108e588",
   "metadata": {},
   "outputs": [],
   "source": []
  },
  {
   "cell_type": "markdown",
   "id": "1354d993-c902-4efa-b5a0-4c9bc0bdfede",
   "metadata": {
    "tags": []
   },
   "source": [
    "### 1.Dataset Information."
   ]
  },
  {
   "cell_type": "code",
   "execution_count": 7,
   "id": "e0d75b13-ec3e-4c12-9d0b-778ab71f9f14",
   "metadata": {},
   "outputs": [
    {
     "name": "stdout",
     "output_type": "stream",
     "text": [
      "\u001b[34;42m/nas/chenyi/workspace/myPyModule/dataset/data\u001b[00m\n",
      "├── \u001b[34;42mbboxes\u001b[00m\n",
      "├── \u001b[01;34mdict\u001b[00m\n",
      "├── \u001b[34;42m@eaDir\u001b[00m\n",
      "├── \u001b[34;42mslink\u001b[00m\n",
      "└── \u001b[01;34mwatoo\u001b[00m\n",
      "\n",
      "5 directories\n"
     ]
    }
   ],
   "source": [
    "root_nas = Path('/nas/chenyi/workspace/myPyModule/dataset/data')\n",
    "!tree -d -L 1 $root_data"
   ]
  },
  {
   "cell_type": "code",
   "execution_count": 5,
   "id": "ffafad8a-b057-4d1f-95d8-239bf9016d96",
   "metadata": {},
   "outputs": [
    {
     "name": "stdout",
     "output_type": "stream",
     "text": [
      "\u001b[01;34m/home/chenyi/workspace/yolov5/datasets\u001b[00m\n",
      "├── \u001b[01;34mcoco128\u001b[00m\n",
      "├── \u001b[01;34mdadet100kv2\u001b[00m\n",
      "├── \u001b[01;34mdadet100kv3_june\u001b[00m\n",
      "├── \u001b[01;34mdadet100kv4_1_june\u001b[00m\n",
      "├── \u001b[01;34mdadet100kv4_june\u001b[00m\n",
      "├── \u001b[01;34mdadet_gallv4_june\u001b[00m\n",
      "├── \u001b[01;34mdadetv5\u001b[00m\n",
      "├── \u001b[01;34mdadetv5_query\u001b[00m\n",
      "├── \u001b[01;34mdataExps\u001b[00m\n",
      "├── \u001b[01;34mdeepedia\u001b[00m\n",
      "├── \u001b[01;34mdeepedia_catg6\u001b[00m\n",
      "├── \u001b[01;34mdeepedia_catg8\u001b[00m\n",
      "├── \u001b[01;34mhaowei_bag_shoe\u001b[00m\n",
      "├── \u001b[01;34mhwpedia\u001b[00m\n",
      "├── \u001b[01;34mhwpedia70k\u001b[00m\n",
      "├── \u001b[01;34mhwpedia80k\u001b[00m\n",
      "├── \u001b[01;34mtuneGallery10k\u001b[00m\n",
      "├── \u001b[01;34mtuneGallery5k\u001b[00m\n",
      "├── \u001b[01;34mtuneQuery10k\u001b[00m\n",
      "└── \u001b[01;34mvalidation_all\u001b[00m\n",
      "\n",
      "20 directories\n"
     ]
    }
   ],
   "source": [
    "root_yolo = Path('/home/chenyi/workspace/yolov5/datasets/')\n",
    "!tree -d -L 1 $root_yolo"
   ]
  },
  {
   "cell_type": "code",
   "execution_count": 6,
   "id": "4d046bef-a5b1-423b-900b-29bde3a2cdac",
   "metadata": {},
   "outputs": [
    {
     "name": "stdout",
     "output_type": "stream",
     "text": [
      "bboxes\tdict  @eaDir  slink  watoo\n"
     ]
    }
   ],
   "source": [
    "!ls $root_data/"
   ]
  },
  {
   "cell_type": "code",
   "execution_count": 7,
   "id": "b5d1cc34-ab78-45dd-b034-1735ea2b7aa1",
   "metadata": {},
   "outputs": [
    {
     "name": "stdout",
     "output_type": "stream",
     "text": [
      "dadet100k     @eaDir  fashionpedia  hwpedia  tuneDataset\n",
      "deepfashion2  exps    haowei34k     query\n"
     ]
    }
   ],
   "source": [
    "!ls $root_data/bboxes"
   ]
  },
  {
   "cell_type": "code",
   "execution_count": 499,
   "id": "cde915cc-fc36-4fd6-b1cc-767edbadd6e8",
   "metadata": {},
   "outputs": [
    {
     "name": "stdout",
     "output_type": "stream",
     "text": [
      "dadet100kv4_1_bboxes.csv  dadet_queryv5_bboxes.csv  dadetv5_slink.csv\n",
      "dadet100kv5_bboxes.csv\t  dadetv5_query_slink.csv   @eaDir\n"
     ]
    }
   ],
   "source": [
    "!ls $root_data/bboxes/dadet100k"
   ]
  },
  {
   "cell_type": "code",
   "execution_count": 29,
   "id": "7cdc27f4-ee7a-4d0f-bbe0-14899e6cc52d",
   "metadata": {},
   "outputs": [],
   "source": [
    "# !mkdir $root_data/data/bboxes"
   ]
  },
  {
   "cell_type": "code",
   "execution_count": null,
   "id": "2167aff0-7e8d-42d3-b5f9-2e2d2d77170d",
   "metadata": {},
   "outputs": [],
   "source": []
  },
  {
   "cell_type": "code",
   "execution_count": null,
   "id": "4c61bb41-18eb-4ee3-98ab-a30f20ef89c1",
   "metadata": {},
   "outputs": [],
   "source": []
  },
  {
   "cell_type": "markdown",
   "id": "470ec271-be86-43a4-b57e-0b2343fa7188",
   "metadata": {},
   "source": [
    "##### 读取csv"
   ]
  },
  {
   "cell_type": "code",
   "execution_count": 5,
   "id": "cc8b120a-6319-400d-b23c-d909e35048a9",
   "metadata": {},
   "outputs": [
    {
     "name": "stdout",
     "output_type": "stream",
     "text": [
      "info_csv  xml\n"
     ]
    }
   ],
   "source": [
    "root_nas = Path('/nas/chenyi/datasets_nas/dada_det/xml/')\n",
    "root_xml = root_nas /'wardrobe500k/wardrobe20k_xml_hard20220705'\n",
    "!ls $root_xml"
   ]
  },
  {
   "cell_type": "code",
   "execution_count": 8,
   "id": "e9c44857-76ff-4b41-86ac-55675eab1ea0",
   "metadata": {},
   "outputs": [
    {
     "data": {
      "text/plain": [
       "20971"
      ]
     },
     "execution_count": 8,
     "metadata": {},
     "output_type": "execute_result"
    }
   ],
   "source": [
    "bboxes_df = pd.read_csv(root_xml /'info_csv/xml_clr_20220705.csv')\n",
    "len(bboxes_df)"
   ]
  },
  {
   "cell_type": "code",
   "execution_count": 9,
   "id": "c5dddddd-00f3-476e-ab2e-4a52227284da",
   "metadata": {},
   "outputs": [
    {
     "data": {
      "text/html": [
       "<div>\n",
       "<style scoped>\n",
       "    .dataframe tbody tr th:only-of-type {\n",
       "        vertical-align: middle;\n",
       "    }\n",
       "\n",
       "    .dataframe tbody tr th {\n",
       "        vertical-align: top;\n",
       "    }\n",
       "\n",
       "    .dataframe thead th {\n",
       "        text-align: right;\n",
       "    }\n",
       "</style>\n",
       "<table border=\"1\" class=\"dataframe\">\n",
       "  <thead>\n",
       "    <tr style=\"text-align: right;\">\n",
       "      <th></th>\n",
       "      <th>xml_path</th>\n",
       "      <th>width</th>\n",
       "      <th>height</th>\n",
       "      <th>labelimg</th>\n",
       "      <th>bx1</th>\n",
       "      <th>bx2</th>\n",
       "      <th>bx3</th>\n",
       "      <th>bx4</th>\n",
       "      <th>stem</th>\n",
       "      <th>img_sp</th>\n",
       "      <th>label86</th>\n",
       "    </tr>\n",
       "  </thead>\n",
       "  <tbody>\n",
       "    <tr>\n",
       "      <th>0</th>\n",
       "      <td>/nas/chenyi/datasets_nas/wardrobe20k_labelimg/...</td>\n",
       "      <td>1080</td>\n",
       "      <td>1554</td>\n",
       "      <td>裙子</td>\n",
       "      <td>6</td>\n",
       "      <td>478</td>\n",
       "      <td>1080</td>\n",
       "      <td>1129</td>\n",
       "      <td>2017022320122485968</td>\n",
       "      <td>/nas/chenyi/datasets_nas/wardrobe20k_labelimg/...</td>\n",
       "      <td>4</td>\n",
       "    </tr>\n",
       "  </tbody>\n",
       "</table>\n",
       "</div>"
      ],
      "text/plain": [
       "                                            xml_path  width  height labelimg  \\\n",
       "0  /nas/chenyi/datasets_nas/wardrobe20k_labelimg/...   1080    1554       裙子   \n",
       "\n",
       "   bx1  bx2   bx3   bx4                 stem  \\\n",
       "0    6  478  1080  1129  2017022320122485968   \n",
       "\n",
       "                                              img_sp  label86  \n",
       "0  /nas/chenyi/datasets_nas/wardrobe20k_labelimg/...        4  "
      ]
     },
     "execution_count": 9,
     "metadata": {},
     "output_type": "execute_result"
    }
   ],
   "source": [
    "bboxes_df.head(1)"
   ]
  },
  {
   "cell_type": "code",
   "execution_count": null,
   "id": "9f9da069-6839-4606-8f44-ebe992738e42",
   "metadata": {},
   "outputs": [],
   "source": []
  },
  {
   "cell_type": "code",
   "execution_count": null,
   "id": "5bba8af7-e97d-46df-a7dc-d33dec23665c",
   "metadata": {},
   "outputs": [],
   "source": []
  },
  {
   "cell_type": "markdown",
   "id": "cab40d0b-a2b4-47c8-be9b-bc692f07a276",
   "metadata": {
    "tags": []
   },
   "source": [
    "##### 数据筛选"
   ]
  },
  {
   "cell_type": "code",
   "execution_count": 14,
   "id": "fcb8622c-cca2-4a2b-aef6-873ac1cf8115",
   "metadata": {},
   "outputs": [
    {
     "data": {
      "text/html": [
       "<div>\n",
       "<style scoped>\n",
       "    .dataframe tbody tr th:only-of-type {\n",
       "        vertical-align: middle;\n",
       "    }\n",
       "\n",
       "    .dataframe tbody tr th {\n",
       "        vertical-align: top;\n",
       "    }\n",
       "\n",
       "    .dataframe thead th {\n",
       "        text-align: right;\n",
       "    }\n",
       "</style>\n",
       "<table border=\"1\" class=\"dataframe\">\n",
       "  <thead>\n",
       "    <tr style=\"text-align: right;\">\n",
       "      <th></th>\n",
       "      <th>label_pred</th>\n",
       "      <th>bx1</th>\n",
       "      <th>bx2</th>\n",
       "      <th>bx3</th>\n",
       "      <th>bx4</th>\n",
       "      <th>bbox_ind</th>\n",
       "      <th>width</th>\n",
       "      <th>height</th>\n",
       "    </tr>\n",
       "  </thead>\n",
       "  <tbody>\n",
       "    <tr>\n",
       "      <th>count</th>\n",
       "      <td>312242.000000</td>\n",
       "      <td>312242.000000</td>\n",
       "      <td>312242.000000</td>\n",
       "      <td>312242.000000</td>\n",
       "      <td>312242.000000</td>\n",
       "      <td>312242.000000</td>\n",
       "      <td>312242.000000</td>\n",
       "      <td>312242.000000</td>\n",
       "    </tr>\n",
       "    <tr>\n",
       "      <th>mean</th>\n",
       "      <td>1.637682</td>\n",
       "      <td>0.494991</td>\n",
       "      <td>0.644653</td>\n",
       "      <td>0.279343</td>\n",
       "      <td>0.296352</td>\n",
       "      <td>1.400084</td>\n",
       "      <td>745.858578</td>\n",
       "      <td>1017.250607</td>\n",
       "    </tr>\n",
       "    <tr>\n",
       "      <th>std</th>\n",
       "      <td>1.673030</td>\n",
       "      <td>0.099545</td>\n",
       "      <td>0.217277</td>\n",
       "      <td>0.212213</td>\n",
       "      <td>0.216663</td>\n",
       "      <td>1.328984</td>\n",
       "      <td>442.344862</td>\n",
       "      <td>524.914307</td>\n",
       "    </tr>\n",
       "    <tr>\n",
       "      <th>min</th>\n",
       "      <td>0.000000</td>\n",
       "      <td>0.021207</td>\n",
       "      <td>0.016602</td>\n",
       "      <td>0.016667</td>\n",
       "      <td>0.011418</td>\n",
       "      <td>0.000000</td>\n",
       "      <td>30.000000</td>\n",
       "      <td>40.000000</td>\n",
       "    </tr>\n",
       "    <tr>\n",
       "      <th>25%</th>\n",
       "      <td>0.000000</td>\n",
       "      <td>0.448806</td>\n",
       "      <td>0.455566</td>\n",
       "      <td>0.106421</td>\n",
       "      <td>0.110000</td>\n",
       "      <td>0.000000</td>\n",
       "      <td>550.000000</td>\n",
       "      <td>750.000000</td>\n",
       "    </tr>\n",
       "    <tr>\n",
       "      <th>50%</th>\n",
       "      <td>1.000000</td>\n",
       "      <td>0.497653</td>\n",
       "      <td>0.628906</td>\n",
       "      <td>0.234211</td>\n",
       "      <td>0.253906</td>\n",
       "      <td>1.000000</td>\n",
       "      <td>682.000000</td>\n",
       "      <td>1024.000000</td>\n",
       "    </tr>\n",
       "    <tr>\n",
       "      <th>75%</th>\n",
       "      <td>3.000000</td>\n",
       "      <td>0.540996</td>\n",
       "      <td>0.878418</td>\n",
       "      <td>0.376440</td>\n",
       "      <td>0.416667</td>\n",
       "      <td>2.000000</td>\n",
       "      <td>767.000000</td>\n",
       "      <td>1024.000000</td>\n",
       "    </tr>\n",
       "    <tr>\n",
       "      <th>max</th>\n",
       "      <td>5.000000</td>\n",
       "      <td>0.979492</td>\n",
       "      <td>0.989852</td>\n",
       "      <td>0.999752</td>\n",
       "      <td>0.999752</td>\n",
       "      <td>25.000000</td>\n",
       "      <td>6000.000000</td>\n",
       "      <td>6286.000000</td>\n",
       "    </tr>\n",
       "  </tbody>\n",
       "</table>\n",
       "</div>"
      ],
      "text/plain": [
       "          label_pred            bx1            bx2            bx3  \\\n",
       "count  312242.000000  312242.000000  312242.000000  312242.000000   \n",
       "mean        1.637682       0.494991       0.644653       0.279343   \n",
       "std         1.673030       0.099545       0.217277       0.212213   \n",
       "min         0.000000       0.021207       0.016602       0.016667   \n",
       "25%         0.000000       0.448806       0.455566       0.106421   \n",
       "50%         1.000000       0.497653       0.628906       0.234211   \n",
       "75%         3.000000       0.540996       0.878418       0.376440   \n",
       "max         5.000000       0.979492       0.989852       0.999752   \n",
       "\n",
       "                 bx4       bbox_ind          width         height  \n",
       "count  312242.000000  312242.000000  312242.000000  312242.000000  \n",
       "mean        0.296352       1.400084     745.858578    1017.250607  \n",
       "std         0.216663       1.328984     442.344862     524.914307  \n",
       "min         0.011418       0.000000      30.000000      40.000000  \n",
       "25%         0.110000       0.000000     550.000000     750.000000  \n",
       "50%         0.253906       1.000000     682.000000    1024.000000  \n",
       "75%         0.416667       2.000000     767.000000    1024.000000  \n",
       "max         0.999752      25.000000    6000.000000    6286.000000  "
      ]
     },
     "execution_count": 14,
     "metadata": {},
     "output_type": "execute_result"
    }
   ],
   "source": [
    "bboxes_df.describe()"
   ]
  },
  {
   "cell_type": "code",
   "execution_count": 504,
   "id": "cd647e35-be53-4b9f-8b38-c12c8861c4de",
   "metadata": {},
   "outputs": [
    {
     "data": {
      "text/html": [
       "<div>\n",
       "<style scoped>\n",
       "    .dataframe tbody tr th:only-of-type {\n",
       "        vertical-align: middle;\n",
       "    }\n",
       "\n",
       "    .dataframe tbody tr th {\n",
       "        vertical-align: top;\n",
       "    }\n",
       "\n",
       "    .dataframe thead th {\n",
       "        text-align: right;\n",
       "    }\n",
       "</style>\n",
       "<table border=\"1\" class=\"dataframe\">\n",
       "  <thead>\n",
       "    <tr style=\"text-align: right;\">\n",
       "      <th></th>\n",
       "      <th>label_pred</th>\n",
       "      <th>bx1</th>\n",
       "      <th>bx2</th>\n",
       "      <th>bx3</th>\n",
       "      <th>bx4</th>\n",
       "      <th>bbox_ind</th>\n",
       "      <th>label_sp</th>\n",
       "      <th>stem</th>\n",
       "      <th>label_tp</th>\n",
       "      <th>mode</th>\n",
       "      <th>img_sp</th>\n",
       "      <th>source</th>\n",
       "      <th>img_tp</th>\n",
       "    </tr>\n",
       "  </thead>\n",
       "  <tbody>\n",
       "    <tr>\n",
       "      <th>0</th>\n",
       "      <td>0</td>\n",
       "      <td>0.44003</td>\n",
       "      <td>0.904297</td>\n",
       "      <td>0.13943</td>\n",
       "      <td>0.060547</td>\n",
       "      <td>0</td>\n",
       "      <td>/home/chenyi/workspace/dataset/labels/labels6/...</td>\n",
       "      <td>551df69f15ca760f19dd6f40bfda2aa7</td>\n",
       "      <td>/home/chenyi/workspace/yolov5/datasets/dadet10...</td>\n",
       "      <td>train</td>\n",
       "      <td>/home/chenyi/workspace/dataset/data/data_fashi...</td>\n",
       "      <td>data_fashionpedia</td>\n",
       "      <td>/home/chenyi/workspace/yolov5/datasets/dadet10...</td>\n",
       "    </tr>\n",
       "  </tbody>\n",
       "</table>\n",
       "</div>"
      ],
      "text/plain": [
       "   label_pred      bx1       bx2      bx3       bx4  bbox_ind  \\\n",
       "0           0  0.44003  0.904297  0.13943  0.060547         0   \n",
       "\n",
       "                                            label_sp  \\\n",
       "0  /home/chenyi/workspace/dataset/labels/labels6/...   \n",
       "\n",
       "                               stem  \\\n",
       "0  551df69f15ca760f19dd6f40bfda2aa7   \n",
       "\n",
       "                                            label_tp   mode  \\\n",
       "0  /home/chenyi/workspace/yolov5/datasets/dadet10...  train   \n",
       "\n",
       "                                              img_sp             source  \\\n",
       "0  /home/chenyi/workspace/dataset/data/data_fashi...  data_fashionpedia   \n",
       "\n",
       "                                              img_tp  \n",
       "0  /home/chenyi/workspace/yolov5/datasets/dadet10...  "
      ]
     },
     "execution_count": 504,
     "metadata": {},
     "output_type": "execute_result"
    }
   ],
   "source": [
    "bboxes_df.head(1)"
   ]
  },
  {
   "cell_type": "code",
   "execution_count": null,
   "id": "8b2d1e6c-c3cb-4ca3-9a62-4773d08335e7",
   "metadata": {},
   "outputs": [],
   "source": []
  },
  {
   "cell_type": "code",
   "execution_count": 15,
   "id": "69a60b4c-ff52-4d31-aff7-46d19592745f",
   "metadata": {},
   "outputs": [
    {
     "data": {
      "text/plain": [
       "source\n",
       "haowei34k            143966\n",
       "data_fashionpedia    125609\n",
       "dada_det              26893\n",
       "DeepFashion2           9179\n",
       "shoeBag5k0515          6595\n",
       "dtype: int64"
      ]
     },
     "execution_count": 15,
     "metadata": {},
     "output_type": "execute_result"
    }
   ],
   "source": [
    "bboxes_df.value_counts('source')"
   ]
  },
  {
   "cell_type": "code",
   "execution_count": null,
   "id": "4b98b220-c273-4bda-9790-9e175be96f32",
   "metadata": {},
   "outputs": [],
   "source": []
  },
  {
   "cell_type": "code",
   "execution_count": 506,
   "id": "ec7b1e73-8699-41e2-b45b-7c978e0808dd",
   "metadata": {},
   "outputs": [],
   "source": [
    "bboxes_g_df = bboxes_df[(bboxes_df['source']=='haowei34k') | (bboxes_df['source']=='data_fashionpedia')]"
   ]
  },
  {
   "cell_type": "code",
   "execution_count": 507,
   "id": "7e811eaa-2cc1-49b6-9903-1b14a2c7a8c1",
   "metadata": {},
   "outputs": [],
   "source": [
    "bboxes_q_df = bboxes_df[~((bboxes_df['source']=='haowei34k') | (bboxes_df['source']=='data_fashionpedia'))]"
   ]
  },
  {
   "cell_type": "code",
   "execution_count": 509,
   "id": "a8ea3b5f-89fb-40df-af9e-62d1f52bcd38",
   "metadata": {},
   "outputs": [
    {
     "data": {
      "text/plain": [
       "(269575, 42667)"
      ]
     },
     "execution_count": 509,
     "metadata": {},
     "output_type": "execute_result"
    }
   ],
   "source": [
    "len(bboxes_g_df), len(bboxes_q_df)"
   ]
  },
  {
   "cell_type": "code",
   "execution_count": 510,
   "id": "acae7fea-2245-46bd-97a9-b1f6aa8c82e7",
   "metadata": {},
   "outputs": [
    {
     "data": {
      "text/plain": [
       "label_pred\n",
       "0    121509\n",
       "1     35677\n",
       "2     71233\n",
       "3     34183\n",
       "4     17539\n",
       "5     32101\n",
       "dtype: int64"
      ]
     },
     "execution_count": 510,
     "metadata": {},
     "output_type": "execute_result"
    }
   ],
   "source": [
    "bboxes_df.value_counts('label_pred').sort_index()"
   ]
  },
  {
   "cell_type": "code",
   "execution_count": 511,
   "id": "73973ac5-5b02-41ca-86c2-c2111e10bd45",
   "metadata": {},
   "outputs": [
    {
     "data": {
      "text/plain": [
       "312242"
      ]
     },
     "execution_count": 511,
     "metadata": {},
     "output_type": "execute_result"
    }
   ],
   "source": [
    "len(bboxes_df)"
   ]
  },
  {
   "cell_type": "code",
   "execution_count": 512,
   "id": "ec6859cb-60d4-420c-bb1c-c2777d1ef575",
   "metadata": {},
   "outputs": [],
   "source": [
    "bboxes_g_df = bboxes_g_df[bboxes_g_df['label_pred']>=2]"
   ]
  },
  {
   "cell_type": "code",
   "execution_count": 513,
   "id": "a32fdedb-85ca-462c-9d8f-ce1ce283badc",
   "metadata": {},
   "outputs": [],
   "source": [
    "bboxes_df = pd.concat([bboxes_g_df, bboxes_q_df], axis=0)"
   ]
  },
  {
   "cell_type": "code",
   "execution_count": 16,
   "id": "ae59b1c7-8190-439b-8f61-d64f9915dac9",
   "metadata": {},
   "outputs": [
    {
     "data": {
      "text/plain": [
       "312242"
      ]
     },
     "execution_count": 16,
     "metadata": {},
     "output_type": "execute_result"
    }
   ],
   "source": [
    "len(bboxes_df)"
   ]
  },
  {
   "cell_type": "code",
   "execution_count": null,
   "id": "9d4d5379-cdfa-4203-be58-6edaf2f2c3c8",
   "metadata": {},
   "outputs": [],
   "source": []
  },
  {
   "cell_type": "code",
   "execution_count": null,
   "id": "e27b4b10-6eef-482c-83cf-99fd618f620d",
   "metadata": {},
   "outputs": [],
   "source": []
  },
  {
   "cell_type": "markdown",
   "id": "6415cb53-2ac4-4540-8719-6825533709a3",
   "metadata": {
    "jp-MarkdownHeadingCollapsed": true,
    "tags": []
   },
   "source": [
    "### 画图"
   ]
  },
  {
   "cell_type": "code",
   "execution_count": null,
   "id": "26108938-3945-4d7f-8b22-bf085ba7e913",
   "metadata": {},
   "outputs": [],
   "source": [
    "df = openfashion_pd"
   ]
  },
  {
   "cell_type": "code",
   "execution_count": null,
   "id": "2437ce54-032a-4f09-af72-287e8b1c0d18",
   "metadata": {},
   "outputs": [],
   "source": [
    "df.head(2)"
   ]
  },
  {
   "cell_type": "code",
   "execution_count": null,
   "id": "82c6898f-630e-49ff-b7ac-2aa68a42bd57",
   "metadata": {},
   "outputs": [],
   "source": [
    "gp = dict(list(df.groupby('img_sp')))"
   ]
  },
  {
   "cell_type": "code",
   "execution_count": null,
   "id": "95fc701e-add3-4ab2-832d-7cc21a551096",
   "metadata": {},
   "outputs": [],
   "source": [
    "gp[list(gp.keys())[0]]"
   ]
  },
  {
   "cell_type": "code",
   "execution_count": null,
   "id": "c29cee1f-4970-450e-8b32-b5145d5d67b0",
   "metadata": {},
   "outputs": [],
   "source": []
  },
  {
   "cell_type": "code",
   "execution_count": null,
   "id": "76ddf764-fa3c-494b-8696-61a3ab4eec0b",
   "metadata": {
    "tags": []
   },
   "outputs": [],
   "source": [
    "import cv2\n",
    "TROOT = '/nas/chenyi/datasets_cls/haowei34k_drawed/images/'\n",
    "for k,v in tqdm(gp.items()):\n",
    "    k_p = Path(k)\n",
    "    img_np = cv2.imread(k)\n",
    "    # img_np = cv2.cvtColor(img_np, cv2.COLOR_BGR2RGB)\n",
    "    bboxes = v.loc[:, ['label2_eng', 'xmin', 'ymin', 'xmax', 'ymax']].values\n",
    "    mode = v['mode'].values[0]\n",
    "    tp = Path('{0}{1}/{2}/{3}'.format(TROOT, mode, np.random.randint(0,1000), k_p.name))\n",
    "    for bx in bboxes:\n",
    "        img_np = draw_bbox(img_np, bx, fontScale=1)\n",
    "    if not tp.parent.is_dir():\n",
    "        tp.parent.mkdir(exist_ok=True, parents=True)\n",
    "    try:\n",
    "        cv2.imwrite(str(tp),img_np)\n",
    "    except:\n",
    "        print('error: p')\n",
    "    # break"
   ]
  },
  {
   "cell_type": "code",
   "execution_count": null,
   "id": "b2c2c034-ba18-458d-b696-a7bf6ba0616f",
   "metadata": {},
   "outputs": [],
   "source": []
  },
  {
   "cell_type": "code",
   "execution_count": null,
   "id": "b51d630b-17d6-40bc-87ca-c6338f9b39c5",
   "metadata": {},
   "outputs": [],
   "source": []
  },
  {
   "cell_type": "code",
   "execution_count": null,
   "id": "f25d6a02-0e50-4fae-8db4-a0edd870b56f",
   "metadata": {},
   "outputs": [],
   "source": [
    "slink_df = pd.read_csv('./data/hw34k_level1_slink.csv')"
   ]
  },
  {
   "cell_type": "code",
   "execution_count": null,
   "id": "42b17c8f-adb9-4ee8-b6f1-921376bdd967",
   "metadata": {},
   "outputs": [],
   "source": [
    "slink_df.head(2)"
   ]
  },
  {
   "cell_type": "code",
   "execution_count": null,
   "id": "75a3b17f-865d-4cc5-8216-671f7b9899c3",
   "metadata": {},
   "outputs": [],
   "source": [
    "fname2path = get_list2dict(slink_df['fname'].values, slink_df['image_spath'].values)"
   ]
  },
  {
   "cell_type": "code",
   "execution_count": null,
   "id": "b062d7df-4af7-47ae-b1aa-0705fe184995",
   "metadata": {},
   "outputs": [],
   "source": [
    "openfashion_pd['img_sp'] = openfashion_pd['fname'].map(fname2path)"
   ]
  },
  {
   "cell_type": "code",
   "execution_count": null,
   "id": "6b8a3f18-4e44-4946-9414-08e44d0d3b9a",
   "metadata": {},
   "outputs": [],
   "source": [
    "openfashion_pd.head()"
   ]
  },
  {
   "cell_type": "code",
   "execution_count": null,
   "id": "820bb490-4b68-4262-9596-d2dbfbd25eea",
   "metadata": {},
   "outputs": [],
   "source": [
    "counter = openfashion_pd.value_counts('label8').sort_index()"
   ]
  },
  {
   "cell_type": "code",
   "execution_count": null,
   "id": "da7d0eea-24f5-49db-9639-616a284747a7",
   "metadata": {},
   "outputs": [],
   "source": [
    "id_list = np.array(counter.axes)[0]\n",
    "numbers = counter.values\n",
    "name_list = [str(x) + ':' + id2eng_l1[x] for x in id_list]"
   ]
  },
  {
   "cell_type": "code",
   "execution_count": null,
   "id": "84250c81-b29c-42c7-9b1f-93249ca93722",
   "metadata": {},
   "outputs": [],
   "source": [
    "plt.figure(figsize=(25, 7))\n",
    "plt.xticks(list(range(len(name_list))), name_list, rotation=75, fontsize=14)\n",
    "plt.bar(name_list, numbers, width=0.5)  # 绘制y刻度标签\n",
    "for a, b in zip(name_list, numbers):\n",
    "    plt.text(a, b, b, ha='center', va='bottom')\n",
    "plt.show()"
   ]
  },
  {
   "cell_type": "code",
   "execution_count": null,
   "id": "90624d36-dd31-4e7a-9978-30f393fa57fa",
   "metadata": {},
   "outputs": [],
   "source": []
  },
  {
   "cell_type": "code",
   "execution_count": null,
   "id": "7c209f3c-2110-44b0-a4d3-d7abd6af494c",
   "metadata": {},
   "outputs": [],
   "source": []
  },
  {
   "cell_type": "markdown",
   "id": "547d5501-8985-4204-bebd-756f756bd0ae",
   "metadata": {
    "tags": []
   },
   "source": [
    "### 解析label.txt"
   ]
  },
  {
   "cell_type": "code",
   "execution_count": 9,
   "id": "e261c145-4f1b-4a32-af04-6b6d61bae9e9",
   "metadata": {},
   "outputs": [],
   "source": [
    "def read_txt(p):\n",
    "    with open(str(p), 'r') as f:\n",
    "        label_lines = f.readlines()\n",
    "    return label_lines"
   ]
  },
  {
   "cell_type": "code",
   "execution_count": null,
   "id": "fe40b57d-e951-4f2a-98c1-f46f5c1dc35a",
   "metadata": {},
   "outputs": [],
   "source": []
  },
  {
   "cell_type": "code",
   "execution_count": 10,
   "id": "38de5f69-0f35-4f29-8454-3888c6ae2f10",
   "metadata": {},
   "outputs": [],
   "source": [
    "def get_bboxes_info(p):\n",
    "    import numpy as np\n",
    "    lines_list = []\n",
    "    for ind,line in enumerate(read_txt(p)):\n",
    "        line_list = line.split('\\n')[0].split(' ')\n",
    "        line_list.append(ind)\n",
    "        line_list.append(p)\n",
    "        lines_list.append(line_list)\n",
    "    return lines_list"
   ]
  },
  {
   "cell_type": "code",
   "execution_count": null,
   "id": "351a11d9-bdd7-4c38-8bff-f1e650dbf1b4",
   "metadata": {},
   "outputs": [],
   "source": []
  },
  {
   "cell_type": "code",
   "execution_count": 11,
   "id": "ba3e6115-fabc-49cf-9322-b4af8b446d6a",
   "metadata": {},
   "outputs": [],
   "source": [
    "global bboxes_all\n",
    "def get_bboxes_multithread(p):\n",
    "    bboxes_info = get_bboxes_info(p)\n",
    "    bboxes_all += bboxes_info"
   ]
  },
  {
   "cell_type": "code",
   "execution_count": null,
   "id": "95efa792-8a27-49c9-af40-9b17e9472241",
   "metadata": {},
   "outputs": [],
   "source": []
  },
  {
   "cell_type": "code",
   "execution_count": 23,
   "id": "08fdac0b-53eb-41d9-94ab-d88d67b6177d",
   "metadata": {},
   "outputs": [
    {
     "name": "stdout",
     "output_type": "stream",
     "text": [
      "\u001b[01;34m/home/chenyi/workspace/yolov5/datasets/\u001b[00m\n",
      "├── \u001b[01;34mcoco128\u001b[00m\n",
      "├── \u001b[01;34mdadet100kv2\u001b[00m\n",
      "├── \u001b[01;34mdadet100kv3_june\u001b[00m\n",
      "├── \u001b[01;34mdadet100kv4_1_june\u001b[00m\n",
      "├── \u001b[01;34mdadet100kv4_june\u001b[00m\n",
      "├── \u001b[01;34mdadet_gallv4_june\u001b[00m\n",
      "├── \u001b[01;34mdataExps\u001b[00m\n",
      "├── \u001b[01;34mdeepedia\u001b[00m\n",
      "├── \u001b[01;34mdeepedia_catg6\u001b[00m\n",
      "├── \u001b[01;34mdeepedia_catg8\u001b[00m\n",
      "├── \u001b[01;34mhaowei_bag_shoe\u001b[00m\n",
      "├── \u001b[01;34mhwpedia\u001b[00m\n",
      "├── \u001b[01;34mhwpedia70k\u001b[00m\n",
      "├── \u001b[01;34mhwpedia80k\u001b[00m\n",
      "├── \u001b[01;34mtuneGallery10k\u001b[00m\n",
      "├── \u001b[01;34mtuneGallery5k\u001b[00m\n",
      "├── \u001b[01;34mtuneQuery10k\u001b[00m\n",
      "└── \u001b[01;34mvalidation_all\u001b[00m\n",
      "\n",
      "18 directories\n"
     ]
    }
   ],
   "source": [
    "!tree -d -L 1 /home/chenyi/workspace/yolov5/datasets/dadet100kv4_june"
   ]
  },
  {
   "cell_type": "code",
   "execution_count": 41,
   "id": "1cc365fc-e769-4d67-8466-41ea07ec6f03",
   "metadata": {},
   "outputs": [],
   "source": [
    "folder_name = 'dadet100kv4_1_june'"
   ]
  },
  {
   "cell_type": "code",
   "execution_count": 48,
   "id": "144e639e-e2be-4702-b84f-c9b8e1cfdef4",
   "metadata": {},
   "outputs": [],
   "source": [
    "root_dataset = Path(f'/home/chenyi/workspace/yolov5/datasets/{folder_name}/labels/*/*.txt')"
   ]
  },
  {
   "cell_type": "code",
   "execution_count": 44,
   "id": "3834cf43-d9e1-42b2-9c82-95dc4dde89b9",
   "metadata": {},
   "outputs": [
    {
     "data": {
      "text/plain": [
       "103123"
      ]
     },
     "execution_count": 44,
     "metadata": {},
     "output_type": "execute_result"
    }
   ],
   "source": [
    "labels_p = glob.glob(str(root_dataset))\n",
    "len(labels_p)"
   ]
  },
  {
   "cell_type": "code",
   "execution_count": 114,
   "id": "d6cfe3de-5051-42aa-94d1-1ca789d98b0b",
   "metadata": {},
   "outputs": [],
   "source": [
    "labels_p = glob.glob('/home/chenyi/workspace/dataset/labels/dada_det/labels202205/shoeBag5k0515/*/*')"
   ]
  },
  {
   "cell_type": "code",
   "execution_count": null,
   "id": "57bf29ef-51b7-4944-a1dc-5c77c7c3fced",
   "metadata": {},
   "outputs": [],
   "source": []
  },
  {
   "cell_type": "code",
   "execution_count": 115,
   "id": "dfc7c6d3-b8d7-40dd-86e8-2f7e44346f43",
   "metadata": {},
   "outputs": [
    {
     "name": "stderr",
     "output_type": "stream",
     "text": [
      "100%|██████████████████████████████████████| 4430/4430 [00:00<00:00, 8784.26it/s]\n"
     ]
    }
   ],
   "source": [
    "from tqdm import tqdm\n",
    "bboxes_all = []\n",
    "for p in tqdm(labels_p):\n",
    "    bboxes_info = get_bboxes_info(p)\n",
    "    bboxes_all += bboxes_info\n",
    "    # break"
   ]
  },
  {
   "cell_type": "code",
   "execution_count": null,
   "id": "1fc450e1-a05d-49ee-a4c4-bbac7c21349d",
   "metadata": {},
   "outputs": [],
   "source": [
    "# %%time\n",
    "# # global bboxes_all\n",
    "# # bboxes_all = []\n",
    "# run_task_multithread(labels_df['crops_p'][:10], get_bboxes_multithread, 20)"
   ]
  },
  {
   "cell_type": "code",
   "execution_count": null,
   "id": "0c2ba171-9d8d-419d-87c2-de3238f8c727",
   "metadata": {},
   "outputs": [],
   "source": []
  },
  {
   "cell_type": "code",
   "execution_count": null,
   "id": "cbb45ffc-f6fe-4d2f-a9a5-a7e81851d4ff",
   "metadata": {},
   "outputs": [],
   "source": []
  },
  {
   "cell_type": "markdown",
   "id": "a522b84a-18bd-4639-9ab6-c03edc37f353",
   "metadata": {
    "jp-MarkdownHeadingCollapsed": true,
    "tags": []
   },
   "source": [
    "#### 处理bbox信息"
   ]
  },
  {
   "cell_type": "code",
   "execution_count": 53,
   "id": "adb07821-2288-43b6-ad85-59723ed96ec6",
   "metadata": {},
   "outputs": [],
   "source": [
    "root_nas = Path('/nas/chenyi/workspace/myPyModule/dataset/data')"
   ]
  },
  {
   "cell_type": "code",
   "execution_count": 54,
   "id": "dbc85a17-4b54-4947-ac48-a1092f9419c4",
   "metadata": {},
   "outputs": [
    {
     "name": "stdout",
     "output_type": "stream",
     "text": [
      "dadet100k     @eaDir  fashionpedia  hwpedia  tuneDataset\n",
      "deepfashion2  exps    haowei34k     query\n"
     ]
    }
   ],
   "source": [
    "!ls $root_data/bboxes"
   ]
  },
  {
   "cell_type": "code",
   "execution_count": 57,
   "id": "9313db2f-df07-41d9-9302-dfcfc9d09de7",
   "metadata": {},
   "outputs": [
    {
     "name": "stdout",
     "output_type": "stream",
     "text": [
      "bboxes_all_df.csv\n"
     ]
    }
   ],
   "source": [
    "!ls $root_data/bboxes/dadet100k"
   ]
  },
  {
   "cell_type": "code",
   "execution_count": 142,
   "id": "c1cd3afb-30ca-463e-a536-3907bdf01b75",
   "metadata": {},
   "outputs": [],
   "source": [
    "# bboxes_df = pd.DataFrame(bboxes_all)"
   ]
  },
  {
   "cell_type": "code",
   "execution_count": 344,
   "id": "6059d65c-deb5-4f06-aa57-07f359a3e7a4",
   "metadata": {},
   "outputs": [],
   "source": [
    "bboxes_df = pd.read_csv(root_nas /'bboxes/dadet100k/dadet100kv5_bboxes.csv')\n",
    "# df.to_csv(root_nas /'bboxes/dadet100k/dadet100kv5_bboxes.csv', index=False)"
   ]
  },
  {
   "cell_type": "code",
   "execution_count": 345,
   "id": "b3995ef7-ae79-44c0-9c49-d15100991091",
   "metadata": {},
   "outputs": [
    {
     "data": {
      "text/plain": [
       "312242"
      ]
     },
     "execution_count": 345,
     "metadata": {},
     "output_type": "execute_result"
    }
   ],
   "source": [
    "len(bboxes_df)"
   ]
  },
  {
   "cell_type": "code",
   "execution_count": 346,
   "id": "2cbe33e0-5e52-4f05-8164-a51d8ac3c85c",
   "metadata": {},
   "outputs": [
    {
     "data": {
      "text/html": [
       "<div>\n",
       "<style scoped>\n",
       "    .dataframe tbody tr th:only-of-type {\n",
       "        vertical-align: middle;\n",
       "    }\n",
       "\n",
       "    .dataframe tbody tr th {\n",
       "        vertical-align: top;\n",
       "    }\n",
       "\n",
       "    .dataframe thead th {\n",
       "        text-align: right;\n",
       "    }\n",
       "</style>\n",
       "<table border=\"1\" class=\"dataframe\">\n",
       "  <thead>\n",
       "    <tr style=\"text-align: right;\">\n",
       "      <th></th>\n",
       "      <th>label_pred</th>\n",
       "      <th>bx1</th>\n",
       "      <th>bx2</th>\n",
       "      <th>bx3</th>\n",
       "      <th>bx4</th>\n",
       "      <th>bbox_ind</th>\n",
       "      <th>label_sp</th>\n",
       "      <th>stem</th>\n",
       "      <th>label_tp</th>\n",
       "      <th>mode</th>\n",
       "      <th>img_sp</th>\n",
       "      <th>source</th>\n",
       "      <th>img_tp</th>\n",
       "    </tr>\n",
       "  </thead>\n",
       "  <tbody>\n",
       "    <tr>\n",
       "      <th>0</th>\n",
       "      <td>0</td>\n",
       "      <td>0.44003</td>\n",
       "      <td>0.904297</td>\n",
       "      <td>0.13943</td>\n",
       "      <td>0.060547</td>\n",
       "      <td>0</td>\n",
       "      <td>/home/chenyi/workspace/dataset/labels/labels6/...</td>\n",
       "      <td>551df69f15ca760f19dd6f40bfda2aa7</td>\n",
       "      <td>/home/chenyi/workspace/yolov5/datasets/dadet10...</td>\n",
       "      <td>train</td>\n",
       "      <td>/home/chenyi/workspace/dataset/data/data_fashi...</td>\n",
       "      <td>data_fashionpedia</td>\n",
       "      <td>/home/chenyi/workspace/yolov5/datasets/dadet10...</td>\n",
       "    </tr>\n",
       "  </tbody>\n",
       "</table>\n",
       "</div>"
      ],
      "text/plain": [
       "   label_pred      bx1       bx2      bx3       bx4  bbox_ind  \\\n",
       "0           0  0.44003  0.904297  0.13943  0.060547         0   \n",
       "\n",
       "                                            label_sp  \\\n",
       "0  /home/chenyi/workspace/dataset/labels/labels6/...   \n",
       "\n",
       "                               stem  \\\n",
       "0  551df69f15ca760f19dd6f40bfda2aa7   \n",
       "\n",
       "                                            label_tp   mode  \\\n",
       "0  /home/chenyi/workspace/yolov5/datasets/dadet10...  train   \n",
       "\n",
       "                                              img_sp             source  \\\n",
       "0  /home/chenyi/workspace/dataset/data/data_fashi...  data_fashionpedia   \n",
       "\n",
       "                                              img_tp  \n",
       "0  /home/chenyi/workspace/yolov5/datasets/dadet10...  "
      ]
     },
     "execution_count": 346,
     "metadata": {},
     "output_type": "execute_result"
    }
   ],
   "source": [
    "bboxes_df.head(1)"
   ]
  },
  {
   "cell_type": "code",
   "execution_count": 144,
   "id": "92990ff5-1b72-4b86-8082-3e961ca242b3",
   "metadata": {},
   "outputs": [],
   "source": [
    "# name_stand = ['label_pred', 'bx1', 'bx2', 'bx3', 'bx4', 'bbox_ind', 'label_sp']\n",
    "# bboxes_df.rename(columns={bboxes_df.columns[0]:name_stand[0],\n",
    "#                           bboxes_df.columns[1]:name_stand[1],\n",
    "#                           bboxes_df.columns[2]:name_stand[2],\n",
    "#                           bboxes_df.columns[3]:name_stand[3],\n",
    "#                           bboxes_df.columns[4]:name_stand[4],\n",
    "#                           bboxes_df.columns[5]:name_stand[5],\n",
    "#                           bboxes_df.columns[6]:name_stand[6],\n",
    "#                          },\n",
    "#                           inplace=True)"
   ]
  },
  {
   "cell_type": "code",
   "execution_count": 186,
   "id": "b9949909-6193-4c91-b24b-cd36cfa36d12",
   "metadata": {},
   "outputs": [
    {
     "data": {
      "text/plain": [
       "318837"
      ]
     },
     "execution_count": 186,
     "metadata": {},
     "output_type": "execute_result"
    }
   ],
   "source": [
    "len(bboxes_df)"
   ]
  },
  {
   "cell_type": "code",
   "execution_count": null,
   "id": "c1dfd1aa-a28b-4f33-9b9f-e05d392dba75",
   "metadata": {},
   "outputs": [],
   "source": []
  },
  {
   "cell_type": "code",
   "execution_count": 173,
   "id": "f2799966-b2c0-4760-8f91-68d5da7ed33f",
   "metadata": {},
   "outputs": [],
   "source": [
    "# bboxes_df['label_tp'] = bboxes_df['label_sp'].apply(lambda x: '/home/chenyi/workspace/yolov5/datasets/dadet100kv4_1_june/labels/{0}/{1}'.format(Path(x).parts[-2], Path(x).name))"
   ]
  },
  {
   "cell_type": "code",
   "execution_count": 175,
   "id": "a92db8c8-ed81-4ba0-b4a7-761f9dc4cdc2",
   "metadata": {},
   "outputs": [],
   "source": [
    "# bboxes_df['img_tp'] = bboxes_df['img_sp'].apply(lambda x: '/home/chenyi/workspace/yolov5/datasets/dadet100kv4_1_june/images/{0}/{1}'.format(Path(x).parts[-2], Path(x).name))"
   ]
  },
  {
   "cell_type": "code",
   "execution_count": 145,
   "id": "816d1792-9998-41c4-b99d-15734aec5501",
   "metadata": {},
   "outputs": [],
   "source": [
    "bboxes_df['stem'] = bboxes_df['label_tp'].apply(lambda x: Path(x).stem)"
   ]
  },
  {
   "cell_type": "code",
   "execution_count": 153,
   "id": "95fb1e92-5ea9-4dc0-b943-1d364d28eb88",
   "metadata": {},
   "outputs": [],
   "source": [
    "bboxes_df['mode'] = bboxes_df['label_tp'].apply(lambda x: Path(x).parts[-2])"
   ]
  },
  {
   "cell_type": "code",
   "execution_count": 159,
   "id": "5a52f44c-de36-4159-b0d0-613998ed1730",
   "metadata": {},
   "outputs": [],
   "source": [
    "bboxes_df['img_sp'] = bboxes_df['label_tp'].apply(lambda x: f'/home/chenyi/workspace/dataset/data/dada_det/shoeBag5k0515/images/{x}')\n",
    "bboxes_df['img_sp'] = bboxes_df['img_sp'].apply(lambda x: x.replace('.txt', '.jpg'))"
   ]
  },
  {
   "cell_type": "code",
   "execution_count": 154,
   "id": "cd130190-e3db-4786-8ccf-90e72c4ed22d",
   "metadata": {},
   "outputs": [],
   "source": [
    "# bboxes_df['label_sp'] = bboxes_df['label_tp'].apply(lambda x: os.readlink(x))"
   ]
  },
  {
   "cell_type": "code",
   "execution_count": 164,
   "id": "9c666727-73fe-4c26-9bca-d88c2ce59e4a",
   "metadata": {},
   "outputs": [],
   "source": [
    "bboxes_df['source'] = bboxes_df['img_sp'].apply(lambda x: Path(x).parts[-4])"
   ]
  },
  {
   "cell_type": "code",
   "execution_count": 96,
   "id": "88d655c9-bac1-4570-870f-fdad698e2b40",
   "metadata": {},
   "outputs": [],
   "source": [
    "bboxes_df['source_l2'] = bboxes_df['img_sp'].apply(lambda x: Path(x).parts[7])"
   ]
  },
  {
   "cell_type": "code",
   "execution_count": 317,
   "id": "9d15cec4-3129-4efc-a9b4-c180b788e41c",
   "metadata": {},
   "outputs": [
    {
     "data": {
      "text/plain": [
       "source\n",
       "haowei34k            143966\n",
       "data_fashionpedia    125609\n",
       "dada_det              26893\n",
       "DeepFashion2           9179\n",
       "shoeBag5k0515          6595\n",
       "dtype: int64"
      ]
     },
     "execution_count": 317,
     "metadata": {},
     "output_type": "execute_result"
    }
   ],
   "source": [
    "bboxes_df.value_counts('source')"
   ]
  },
  {
   "cell_type": "code",
   "execution_count": 126,
   "id": "0a2a1adc-1bed-4706-8ea3-b0d3f2079025",
   "metadata": {},
   "outputs": [
    {
     "data": {
      "text/plain": [
       "source_l2\n",
       "images               143966\n",
       "train                131628\n",
       "shoe_bag11k_may       14119\n",
       "wholebody0601_all     12714\n",
       "haowei23               6595\n",
       "validation             3160\n",
       "hard_sample_0610         60\n",
       "dtype: int64"
      ]
     },
     "execution_count": 126,
     "metadata": {},
     "output_type": "execute_result"
    }
   ],
   "source": [
    "bboxes_df.value_counts('source_l2')"
   ]
  },
  {
   "cell_type": "code",
   "execution_count": 95,
   "id": "4d480a08-fe19-4da0-b615-313d9e9845fb",
   "metadata": {},
   "outputs": [
    {
     "name": "stdout",
     "output_type": "stream",
     "text": [
      "\u001b[01;34m/home/chenyi/workspace/dataset/data/dada_det\u001b[00m\n",
      "├── \u001b[01;34mhard_sample_0610\u001b[00m\n",
      "│   └── \u001b[01;34m@eaDir\u001b[00m\n",
      "├── \u001b[01;34m__MACOSX\u001b[00m\n",
      "│   └── \u001b[01;34mwholebody0601_all\u001b[00m\n",
      "├── \u001b[01;34mshoe_bag11k_may\u001b[00m\n",
      "│   ├── \u001b[01;34mbag_setdiff\u001b[00m\n",
      "│   ├── \u001b[01;34mleisure_shoe_setdiff\u001b[00m\n",
      "│   └── \u001b[01;34msuit_shoe_setdiff\u001b[00m\n",
      "├── \u001b[01;34mshoeBag5k0515\u001b[00m\n",
      "│   └── \u001b[01;34mimages\u001b[00m\n",
      "└── \u001b[01;34mwholebody0601_all\u001b[00m\n",
      "    ├── \u001b[01;34mbeidaiku2822_rename\u001b[00m\n",
      "    └── \u001b[34;42mliantiku2500_0602_rename\u001b[00m\n",
      "\n",
      "13 directories\n"
     ]
    }
   ],
   "source": [
    "!tree -d -L 2 /home/chenyi/workspace/dataset/data/dada_det/shoeBag5k0515/images"
   ]
  },
  {
   "cell_type": "code",
   "execution_count": 106,
   "id": "f8e53e95-2e09-4b6d-ae4a-c85965b59aea",
   "metadata": {},
   "outputs": [
    {
     "name": "stdout",
     "output_type": "stream",
     "text": [
      "\u001b[01;34m/home/chenyi/workspace/dataset/labels/dada_det\u001b[00m\n",
      "├── \u001b[01;34mlabels100k_skirt_df2\u001b[00m\n",
      "│   ├── \u001b[01;34mtrain\u001b[00m\n",
      "│   └── \u001b[01;34mvalidation\u001b[00m\n",
      "├── \u001b[01;34mlabels202205\u001b[00m\n",
      "│   └── \u001b[01;34mshoeBag5k0515\u001b[00m\n",
      "├── \u001b[01;34mlabels202206\u001b[00m\n",
      "│   ├── \u001b[01;34mlabels_shoeBag11k\u001b[00m\n",
      "│   └── \u001b[01;34mwholebody_june\u001b[00m\n",
      "└── \u001b[01;34mlabels_sys_error\u001b[00m\n",
      "    └── \u001b[01;34mlabels60_june\u001b[00m\n",
      "\n",
      "10 directories, 0 files\n"
     ]
    }
   ],
   "source": [
    "!tree -L 2 /home/chenyi/workspace/dataset/labels/dada_det"
   ]
  },
  {
   "cell_type": "code",
   "execution_count": 75,
   "id": "9f375fa6-e243-4f1f-8d54-4ca6b1082e2f",
   "metadata": {},
   "outputs": [],
   "source": [
    "bboxes_df['img_tp'] = bboxes_df['label_tp'].apply(lambda x: x.replace('labels', 'images'))\n",
    "bboxes_df['img_tp'] = bboxes_df['img_tp'].apply(lambda x: x.replace('.txt', '.jpg'))"
   ]
  },
  {
   "cell_type": "code",
   "execution_count": 77,
   "id": "eaaaeebe-11ff-4250-8f08-93f7bfea72eb",
   "metadata": {},
   "outputs": [],
   "source": [
    "bboxes_df['img_sp'] = bboxes_df['img_tp'].apply(lambda x: os.readlink(x))"
   ]
  },
  {
   "cell_type": "code",
   "execution_count": null,
   "id": "69d6f277-25d8-44e8-bd4d-bd25eb7f2e53",
   "metadata": {},
   "outputs": [],
   "source": []
  },
  {
   "cell_type": "code",
   "execution_count": null,
   "id": "9afc5878-f38b-4d2a-9ddf-a7693a05825e",
   "metadata": {},
   "outputs": [],
   "source": []
  },
  {
   "cell_type": "markdown",
   "id": "ccb9c20f-8bc5-4c9f-a7d6-bff7121e9c5a",
   "metadata": {
    "tags": []
   },
   "source": [
    "### target label"
   ]
  },
  {
   "cell_type": "code",
   "execution_count": 26,
   "id": "81692d25-007f-43eb-91ed-7ca255d754db",
   "metadata": {},
   "outputs": [
    {
     "name": "stdout",
     "output_type": "stream",
     "text": [
      "\u001b[01;34m/home/chenyi/workspace/dataset/labels/labels6/\u001b[00m\n",
      "├── \u001b[01;34mfashionpedia\u001b[00m\n",
      "│   └── \u001b[01;34mlabels\u001b[00m\n",
      "├── \u001b[01;34mhaowei34k\u001b[00m\n",
      "│   └── \u001b[01;34mlabels\u001b[00m\n",
      "├── \u001b[01;34mlabels_exp\u001b[00m\n",
      "│   ├── \u001b[01;34mdadetGallv4_del\u001b[00m\n",
      "│   └── \u001b[01;34mdelBbox\u001b[00m\n",
      "├── \u001b[01;34mtrain\u001b[00m\n",
      "├── \u001b[01;34mval\u001b[00m\n",
      "└── \u001b[01;34mwardrobe500k\u001b[00m\n",
      "    └── \u001b[01;34mlabels10k_20220629\u001b[00m\n",
      "\n",
      "11 directories\n"
     ]
    }
   ],
   "source": [
    "!tree -d -L 2 /home/chenyi/workspace/dataset/labels/labels6/"
   ]
  },
  {
   "cell_type": "code",
   "execution_count": 29,
   "id": "00557381-e288-45ce-afb8-1e94089ff7a0",
   "metadata": {},
   "outputs": [
    {
     "name": "stdout",
     "output_type": "stream",
     "text": [
      "dada_det  labels6\n"
     ]
    }
   ],
   "source": [
    "!ls /nas/chenyi/datasets_nas/labels/"
   ]
  },
  {
   "cell_type": "code",
   "execution_count": 31,
   "id": "f1f90788-53bd-425c-bd30-6340f6b8337c",
   "metadata": {},
   "outputs": [],
   "source": [
    "root_labels = Path('/nas/chenyi/datasets_nas/labels/wardrobe500k/wardrobe20k_labels6')"
   ]
  },
  {
   "cell_type": "code",
   "execution_count": 30,
   "id": "06eeae38-2ec9-4606-8996-ddd393f85011",
   "metadata": {},
   "outputs": [],
   "source": [
    "# !mkdir -p /nas/chenyi/datasets_nas/labels/wardrobe500k/wardrobe20k_labels6"
   ]
  },
  {
   "cell_type": "code",
   "execution_count": 412,
   "id": "247d71f0-bfea-41c5-b88e-504840e806b9",
   "metadata": {},
   "outputs": [],
   "source": [
    "# df = pd.read_csv('./data/exps/dadetGallv4_del.csv')\n",
    "df = bboxes_df"
   ]
  },
  {
   "cell_type": "code",
   "execution_count": 413,
   "id": "7a5d56ab-048c-48a8-804a-6e66e8b7986a",
   "metadata": {},
   "outputs": [
    {
     "data": {
      "text/html": [
       "<div>\n",
       "<style scoped>\n",
       "    .dataframe tbody tr th:only-of-type {\n",
       "        vertical-align: middle;\n",
       "    }\n",
       "\n",
       "    .dataframe tbody tr th {\n",
       "        vertical-align: top;\n",
       "    }\n",
       "\n",
       "    .dataframe thead th {\n",
       "        text-align: right;\n",
       "    }\n",
       "</style>\n",
       "<table border=\"1\" class=\"dataframe\">\n",
       "  <thead>\n",
       "    <tr style=\"text-align: right;\">\n",
       "      <th></th>\n",
       "      <th>label_pred</th>\n",
       "      <th>bx1</th>\n",
       "      <th>bx2</th>\n",
       "      <th>bx3</th>\n",
       "      <th>bx4</th>\n",
       "      <th>bbox_ind</th>\n",
       "      <th>label_sp</th>\n",
       "      <th>stem</th>\n",
       "      <th>label_tp</th>\n",
       "      <th>mode</th>\n",
       "      <th>img_sp</th>\n",
       "      <th>source</th>\n",
       "      <th>img_tp</th>\n",
       "    </tr>\n",
       "  </thead>\n",
       "  <tbody>\n",
       "    <tr>\n",
       "      <th>2</th>\n",
       "      <td>3</td>\n",
       "      <td>0.828336</td>\n",
       "      <td>0.753906</td>\n",
       "      <td>0.103448</td>\n",
       "      <td>0.101562</td>\n",
       "      <td>2</td>\n",
       "      <td>/home/chenyi/workspace/dataset/labels/labels6/...</td>\n",
       "      <td>551df69f15ca760f19dd6f40bfda2aa7</td>\n",
       "      <td>/home/chenyi/workspace/yolov5/datasets/dadet10...</td>\n",
       "      <td>train</td>\n",
       "      <td>/home/chenyi/workspace/dataset/data/data_fashi...</td>\n",
       "      <td>data_fashionpedia</td>\n",
       "      <td>/home/chenyi/workspace/yolov5/datasets/dadet10...</td>\n",
       "    </tr>\n",
       "  </tbody>\n",
       "</table>\n",
       "</div>"
      ],
      "text/plain": [
       "   label_pred       bx1       bx2       bx3       bx4  bbox_ind  \\\n",
       "2           3  0.828336  0.753906  0.103448  0.101562         2   \n",
       "\n",
       "                                            label_sp  \\\n",
       "2  /home/chenyi/workspace/dataset/labels/labels6/...   \n",
       "\n",
       "                               stem  \\\n",
       "2  551df69f15ca760f19dd6f40bfda2aa7   \n",
       "\n",
       "                                            label_tp   mode  \\\n",
       "2  /home/chenyi/workspace/yolov5/datasets/dadet10...  train   \n",
       "\n",
       "                                              img_sp             source  \\\n",
       "2  /home/chenyi/workspace/dataset/data/data_fashi...  data_fashionpedia   \n",
       "\n",
       "                                              img_tp  \n",
       "2  /home/chenyi/workspace/yolov5/datasets/dadet10...  "
      ]
     },
     "execution_count": 413,
     "metadata": {},
     "output_type": "execute_result"
    }
   ],
   "source": [
    "df.head(1)"
   ]
  },
  {
   "cell_type": "code",
   "execution_count": 414,
   "id": "0c8abae2-ffff-430b-a58b-170eb3806c53",
   "metadata": {},
   "outputs": [
    {
     "data": {
      "text/plain": [
       "306304"
      ]
     },
     "execution_count": 414,
     "metadata": {},
     "output_type": "execute_result"
    }
   ],
   "source": [
    "len(df)"
   ]
  },
  {
   "cell_type": "code",
   "execution_count": 517,
   "id": "a2168605-c0c1-401a-b7c6-1c86ed97aa95",
   "metadata": {},
   "outputs": [
    {
     "data": {
      "text/plain": [
       "label_pred\n",
       "0     59841\n",
       "1     15162\n",
       "2    107728\n",
       "3     49284\n",
       "4     22571\n",
       "5     51718\n",
       "dtype: int64"
      ]
     },
     "execution_count": 517,
     "metadata": {},
     "output_type": "execute_result"
    }
   ],
   "source": [
    "df.value_counts('label_pred').sort_index()"
   ]
  },
  {
   "cell_type": "code",
   "execution_count": null,
   "id": "9e819294-4c4b-43f0-8679-149dda72047f",
   "metadata": {},
   "outputs": [],
   "source": []
  },
  {
   "cell_type": "code",
   "execution_count": null,
   "id": "9baa695b-4137-4f0d-abba-a95b7c38bd47",
   "metadata": {},
   "outputs": [],
   "source": []
  },
  {
   "cell_type": "markdown",
   "id": "b922a49e-e0ca-4dc8-88d2-adbf67262d8e",
   "metadata": {
    "tags": []
   },
   "source": [
    "#### source label path"
   ]
  },
  {
   "cell_type": "code",
   "execution_count": 32,
   "id": "117a94fd-830e-4f52-b0df-2b5bf1cee564",
   "metadata": {},
   "outputs": [],
   "source": [
    "!ls $root_labels"
   ]
  },
  {
   "cell_type": "code",
   "execution_count": null,
   "id": "bbeb0fac-5bb3-4595-9bb1-32eb37ec3d08",
   "metadata": {},
   "outputs": [],
   "source": []
  },
  {
   "cell_type": "code",
   "execution_count": 534,
   "id": "69701ef5-7405-4093-bb8b-556caac25cf1",
   "metadata": {},
   "outputs": [],
   "source": [
    "root = '/home/chenyi/workspace/dataset/labels/query6/dadetv5_query/labels'"
   ]
  },
  {
   "cell_type": "code",
   "execution_count": 535,
   "id": "9b6d19d1-47a0-4187-a165-ee80acecbbdc",
   "metadata": {},
   "outputs": [],
   "source": [
    "df['label_sp'] = df.apply(lambda row: Path('{0}/{1}/{2}.txt'.format(root_labels, row['mode'], row['stem'])), axis=1)"
   ]
  },
  {
   "cell_type": "code",
   "execution_count": null,
   "id": "dd10c26b-7b22-4a53-b480-35f0740dd57e",
   "metadata": {},
   "outputs": [],
   "source": []
  },
  {
   "cell_type": "code",
   "execution_count": null,
   "id": "5d493ec6-17f8-45c9-b7fc-928982f34c4b",
   "metadata": {},
   "outputs": [],
   "source": []
  },
  {
   "cell_type": "markdown",
   "id": "ae551ebb-adcd-43ef-a074-16f4d2f2a320",
   "metadata": {
    "tags": []
   },
   "source": [
    "#### 生成txt"
   ]
  },
  {
   "cell_type": "code",
   "execution_count": 10,
   "id": "7abe5cbf-ef96-461a-a35a-40592f069cc4",
   "metadata": {},
   "outputs": [],
   "source": [
    "sys.path.append('../../')"
   ]
  },
  {
   "cell_type": "code",
   "execution_count": 11,
   "id": "3a7be887-a584-499d-ae17-371372d74315",
   "metadata": {},
   "outputs": [],
   "source": [
    "from utils.bbox.conversation import bbox_coco2voc,bbox_voc2yolo,bbox_yolo2voc"
   ]
  },
  {
   "cell_type": "code",
   "execution_count": null,
   "id": "d630ff2a-53e3-46b7-afbf-0aab56797574",
   "metadata": {},
   "outputs": [],
   "source": []
  },
  {
   "cell_type": "code",
   "execution_count": null,
   "id": "34b9d326-d77e-4a91-ba17-f85750564357",
   "metadata": {},
   "outputs": [],
   "source": []
  },
  {
   "cell_type": "code",
   "execution_count": 521,
   "id": "5a3f139f-a077-47cc-bfe8-60ba0ad6861e",
   "metadata": {},
   "outputs": [],
   "source": [
    "# df['label_model'] = df['label_model'].map(label2model)"
   ]
  },
  {
   "cell_type": "code",
   "execution_count": 12,
   "id": "ea01c88d-38ad-4449-89ff-cf88c4cf60ee",
   "metadata": {},
   "outputs": [],
   "source": [
    "df = bboxes_df"
   ]
  },
  {
   "cell_type": "code",
   "execution_count": 14,
   "id": "55bea9bb-a2c0-4e42-9703-e1846e166161",
   "metadata": {},
   "outputs": [
    {
     "data": {
      "text/html": [
       "<div>\n",
       "<style scoped>\n",
       "    .dataframe tbody tr th:only-of-type {\n",
       "        vertical-align: middle;\n",
       "    }\n",
       "\n",
       "    .dataframe tbody tr th {\n",
       "        vertical-align: top;\n",
       "    }\n",
       "\n",
       "    .dataframe thead th {\n",
       "        text-align: right;\n",
       "    }\n",
       "</style>\n",
       "<table border=\"1\" class=\"dataframe\">\n",
       "  <thead>\n",
       "    <tr style=\"text-align: right;\">\n",
       "      <th></th>\n",
       "      <th>xml_path</th>\n",
       "      <th>width</th>\n",
       "      <th>height</th>\n",
       "      <th>labelimg</th>\n",
       "      <th>bx1</th>\n",
       "      <th>bx2</th>\n",
       "      <th>bx3</th>\n",
       "      <th>bx4</th>\n",
       "      <th>stem</th>\n",
       "      <th>img_sp</th>\n",
       "      <th>label86</th>\n",
       "    </tr>\n",
       "  </thead>\n",
       "  <tbody>\n",
       "    <tr>\n",
       "      <th>0</th>\n",
       "      <td>/nas/chenyi/datasets_nas/wardrobe20k_labelimg/...</td>\n",
       "      <td>1080</td>\n",
       "      <td>1554</td>\n",
       "      <td>裙子</td>\n",
       "      <td>6</td>\n",
       "      <td>478</td>\n",
       "      <td>1080</td>\n",
       "      <td>1129</td>\n",
       "      <td>2017022320122485968</td>\n",
       "      <td>/nas/chenyi/datasets_nas/wardrobe20k_labelimg/...</td>\n",
       "      <td>4</td>\n",
       "    </tr>\n",
       "  </tbody>\n",
       "</table>\n",
       "</div>"
      ],
      "text/plain": [
       "                                            xml_path  width  height labelimg  \\\n",
       "0  /nas/chenyi/datasets_nas/wardrobe20k_labelimg/...   1080    1554       裙子   \n",
       "\n",
       "   bx1  bx2   bx3   bx4                 stem  \\\n",
       "0    6  478  1080  1129  2017022320122485968   \n",
       "\n",
       "                                              img_sp  label86  \n",
       "0  /nas/chenyi/datasets_nas/wardrobe20k_labelimg/...        4  "
      ]
     },
     "execution_count": 14,
     "metadata": {},
     "output_type": "execute_result"
    }
   ],
   "source": [
    "df.head(1)"
   ]
  },
  {
   "cell_type": "code",
   "execution_count": 17,
   "id": "78b73cc1-b12e-494d-a37d-a7020f335cf2",
   "metadata": {},
   "outputs": [],
   "source": [
    "df['label_model'] = df['label86'].values"
   ]
  },
  {
   "cell_type": "code",
   "execution_count": 20,
   "id": "3432dcb3-a661-4a0e-a776-2e79c6d50c80",
   "metadata": {},
   "outputs": [],
   "source": [
    "df.loc[df[df['label_model']==6].index, 'label_model'] = 2\n",
    "df.loc[df[df['label_model']==7].index, 'label_model'] = 3"
   ]
  },
  {
   "cell_type": "code",
   "execution_count": 21,
   "id": "cdc7f95a-77fc-4c77-909f-dd015c5d41dc",
   "metadata": {},
   "outputs": [
    {
     "data": {
      "text/plain": [
       "label_model\n",
       "0     574\n",
       "1     751\n",
       "2    8313\n",
       "3    4904\n",
       "4    4670\n",
       "5    1759\n",
       "dtype: int64"
      ]
     },
     "execution_count": 21,
     "metadata": {},
     "output_type": "execute_result"
    }
   ],
   "source": [
    "df.value_counts('label_model').sort_index()"
   ]
  },
  {
   "cell_type": "code",
   "execution_count": null,
   "id": "7b1e009f-13b4-491b-874c-464a7964cf7a",
   "metadata": {},
   "outputs": [],
   "source": []
  },
  {
   "cell_type": "code",
   "execution_count": 24,
   "id": "18c58e3d-420c-42d7-9b69-43ec16a913e0",
   "metadata": {},
   "outputs": [
    {
     "name": "stderr",
     "output_type": "stream",
     "text": [
      "20971it [00:04, 5067.98it/s]\n"
     ]
    }
   ],
   "source": [
    "# yolo\n",
    "bboxes_list = []\n",
    "for ind,row in tqdm(df.iterrows()):\n",
    "    bbox7 = row.loc[['label_model', 'bx1', 'bx2', 'bx3', 'bx4', 'width', 'height']].values.tolist()\n",
    "    bbox5 = bbox7[:6]\n",
    "    bbox5[1:] = bbox_voc2yolo(bbox5[1:], bbox7[5], bbox7[6])\n",
    "    bbox5_str = '{0:.0f} {1:.6f} {2:.6f} {3:.6f} {4:.6f}\\n'.format(*bbox5)\n",
    "    bboxes_list.append(bbox5_str)\n",
    "    # break"
   ]
  },
  {
   "cell_type": "code",
   "execution_count": 438,
   "id": "d324ff70-4de5-4acd-8641-8d66484e3104",
   "metadata": {},
   "outputs": [],
   "source": [
    "# voc2yolo\n",
    "# bboxes_list = []\n",
    "# for ind,row in tqdm(df.iterrows()):\n",
    "#     bbox7 = row.loc[['label_pred', 'bx1', 'bx2', 'bx3', 'bx4', 'width', 'height']].values.tolist()\n",
    "#     bbox5 = bbox7[:6]\n",
    "#     # bbox5[1:] = bbox_voc2yolo(bbox5[1:], bbox7[5], bbox7[6])\n",
    "#     bbox5_str = '{0:.0f} {1:.6f} {2:.6f} {3:.6f} {4:.6f}\\n'.format(*bbox5)\n",
    "#     bboxes_list.append(bbox5_str)\n",
    "#     # break"
   ]
  },
  {
   "cell_type": "code",
   "execution_count": 23,
   "id": "5bd550a6-9860-4752-bb91-24b9a915a960",
   "metadata": {},
   "outputs": [
    {
     "data": {
      "text/plain": [
       "'4 0.502778 0.517053 0.994444 0.418919\\n'"
      ]
     },
     "execution_count": 23,
     "metadata": {},
     "output_type": "execute_result"
    }
   ],
   "source": [
    "bboxes_list[-1]"
   ]
  },
  {
   "cell_type": "code",
   "execution_count": null,
   "id": "0aa6944a-22a4-4ec9-a44c-b7b239acef39",
   "metadata": {},
   "outputs": [],
   "source": []
  },
  {
   "cell_type": "code",
   "execution_count": 25,
   "id": "e1f3ac86-6d97-4e82-800e-a84458413e8f",
   "metadata": {},
   "outputs": [],
   "source": [
    "def write_txt(label_path, text):\n",
    "    # label_path, text = input_list[0], input_list[1]\n",
    "    label_path = Path(label_path)\n",
    "    p_parent = label_path.parent\n",
    "    if not p_parent.is_dir():\n",
    "        p_parent.mkdir(parents=True)\n",
    "    if not p_parent.is_file():\n",
    "        with open(label_path, 'a+') as f:\n",
    "            f.write(text)"
   ]
  },
  {
   "cell_type": "code",
   "execution_count": null,
   "id": "335f4f3d-43d5-4a41-ba01-3c4521a9d080",
   "metadata": {},
   "outputs": [],
   "source": []
  },
  {
   "cell_type": "code",
   "execution_count": 538,
   "id": "bba4f82c-a623-4df8-b5c5-c3423e846472",
   "metadata": {},
   "outputs": [
    {
     "data": {
      "text/plain": [
       "PosixPath('/home/chenyi/workspace/dataset/labels/query6/dadetv5_query/labels')"
      ]
     },
     "execution_count": 538,
     "metadata": {},
     "output_type": "execute_result"
    }
   ],
   "source": [
    "Path(df['label_sp'].values[0]).parents[1]"
   ]
  },
  {
   "cell_type": "code",
   "execution_count": null,
   "id": "ffb1ec02-a6fe-4ac5-9298-87fe1b9a2705",
   "metadata": {},
   "outputs": [],
   "source": [
    "# import shutil\n",
    "# if Path(df['label_sp'].values[0]).parents[1].is_dir():\n",
    "#     shutil.rmtree(Path(df['label_sp'].values[0]).parents[1])"
   ]
  },
  {
   "cell_type": "code",
   "execution_count": 540,
   "id": "b608ed89-10e1-4bfe-a235-d5239ab108c7",
   "metadata": {},
   "outputs": [
    {
     "name": "stderr",
     "output_type": "stream",
     "text": [
      "180695it [00:04, 37924.59it/s]\n"
     ]
    }
   ],
   "source": [
    "for label_path, text in tqdm(zip(df['label_sp'].values, bboxes_list)):\n",
    "    write_txt(label_path, text)\n",
    "    # break"
   ]
  },
  {
   "cell_type": "code",
   "execution_count": null,
   "id": "52e9e471-43cd-48dd-be39-8a3cbf8611fe",
   "metadata": {},
   "outputs": [],
   "source": []
  },
  {
   "cell_type": "code",
   "execution_count": 541,
   "id": "9d5c5dbd-a872-4819-8446-ecec1ec17b55",
   "metadata": {},
   "outputs": [
    {
     "data": {
      "text/plain": [
       "(PosixPath('/home/chenyi/workspace/dataset/labels/query6/dadetv5_query/labels/val/2018041313545637741.txt'),\n",
       " '0 0.306250 0.525781 0.393750 0.620313\\n')"
      ]
     },
     "execution_count": 541,
     "metadata": {},
     "output_type": "execute_result"
    }
   ],
   "source": [
    "label_path,text"
   ]
  },
  {
   "cell_type": "code",
   "execution_count": 542,
   "id": "549a5700-86aa-4f37-8010-7213253765be",
   "metadata": {},
   "outputs": [
    {
     "name": "stdout",
     "output_type": "stream",
     "text": [
      "0 0.712500 0.465625 0.325000 0.631250\n",
      "0 0.306250 0.525781 0.393750 0.620313\n"
     ]
    }
   ],
   "source": [
    "!cat $label_path"
   ]
  },
  {
   "cell_type": "code",
   "execution_count": null,
   "id": "6e23d96d-ede0-421c-9d19-f43ea6e6047f",
   "metadata": {},
   "outputs": [],
   "source": []
  },
  {
   "cell_type": "code",
   "execution_count": null,
   "id": "b00c7078-1c8a-43b6-9bce-5889fca1d0a1",
   "metadata": {},
   "outputs": [],
   "source": []
  },
  {
   "cell_type": "markdown",
   "id": "0e265dd4-82a0-46b8-b756-a59f13b88c4f",
   "metadata": {
    "tags": []
   },
   "source": [
    "#### 生成软连接的path"
   ]
  },
  {
   "cell_type": "code",
   "execution_count": 36,
   "id": "0b2f8086-c149-4e44-8c55-65ca15a7df90",
   "metadata": {},
   "outputs": [
    {
     "name": "stdout",
     "output_type": "stream",
     "text": [
      "\u001b[01;34m/home/chenyi/workspace/dataset/data/\u001b[00m\n",
      "├── \u001b[01;34mdada_det\u001b[00m\n",
      "├── \u001b[01;34mdata_fashionpedia\u001b[00m\n",
      "├── \u001b[01;34mdeepedia\u001b[00m\n",
      "├── \u001b[01;34mDeepFashion2\u001b[00m\n",
      "├── \u001b[01;34mhaowei34k\u001b[00m\n",
      "└── \u001b[01;34mtar\u001b[00m\n",
      "\n",
      "6 directories\n"
     ]
    }
   ],
   "source": [
    "!tree -d -L 1 /home/chenyi/workspace/dataset/data/"
   ]
  },
  {
   "cell_type": "code",
   "execution_count": 37,
   "id": "eff0a8b5-a0bd-4260-ae68-5ef6dd2c0185",
   "metadata": {},
   "outputs": [
    {
     "name": "stdout",
     "output_type": "stream",
     "text": [
      "\u001b[01;34m/home/chenyi/workspace/yolov5/datasets/\u001b[00m\n",
      "├── \u001b[01;34mcoco128\u001b[00m\n",
      "├── \u001b[01;34mdadet100kv2\u001b[00m\n",
      "├── \u001b[01;34mdadet100kv3_june\u001b[00m\n",
      "├── \u001b[01;34mdadet100kv4_1_june\u001b[00m\n",
      "├── \u001b[01;34mdadet100kv4_june\u001b[00m\n",
      "├── \u001b[01;34mdadet_gallv4_june\u001b[00m\n",
      "├── \u001b[01;34mdataExps\u001b[00m\n",
      "├── \u001b[01;34mdeepedia\u001b[00m\n",
      "├── \u001b[01;34mdeepedia_catg6\u001b[00m\n",
      "├── \u001b[01;34mdeepedia_catg8\u001b[00m\n",
      "├── \u001b[01;34mhaowei_bag_shoe\u001b[00m\n",
      "├── \u001b[01;34mhwpedia\u001b[00m\n",
      "├── \u001b[01;34mhwpedia80k\u001b[00m\n",
      "├── \u001b[01;34mtuneGallery10k\u001b[00m\n",
      "├── \u001b[01;34mtuneGallery5k\u001b[00m\n",
      "├── \u001b[01;34mtuneQuery10k\u001b[00m\n",
      "└── \u001b[01;34mvalidation_all\u001b[00m\n",
      "\n",
      "17 directories\n"
     ]
    }
   ],
   "source": [
    "!tree -d -L 1 /home/chenyi/workspace/yolov5/datasets/"
   ]
  },
  {
   "cell_type": "code",
   "execution_count": 36,
   "id": "dab763c7-ca9c-478d-80e0-9756520afc76",
   "metadata": {},
   "outputs": [],
   "source": [
    "# !mkdir -p /home/chenyi/workspace/yolov5/datasets/dataExps/gall10k_delBox"
   ]
  },
  {
   "cell_type": "code",
   "execution_count": 543,
   "id": "f08b193f-caae-4776-890b-a69bd020a6aa",
   "metadata": {},
   "outputs": [],
   "source": [
    "df = bboxes_df"
   ]
  },
  {
   "cell_type": "code",
   "execution_count": 544,
   "id": "720b79bd-224b-4027-a9dd-2bf4f9683dc5",
   "metadata": {},
   "outputs": [
    {
     "data": {
      "text/plain": [
       "180695"
      ]
     },
     "execution_count": 544,
     "metadata": {},
     "output_type": "execute_result"
    }
   ],
   "source": [
    "len(df)"
   ]
  },
  {
   "cell_type": "code",
   "execution_count": 545,
   "id": "156f6d15-82ce-44dc-83dd-130870fa42ca",
   "metadata": {},
   "outputs": [
    {
     "data": {
      "text/plain": [
       "array([[3, 0.828336, 0.753906, 0.103448, 0.101562, 2,\n",
       "        PosixPath('/home/chenyi/workspace/dataset/labels/query6/dadetv5_query/labels/train/551df69f15ca760f19dd6f40bfda2aa7.txt'),\n",
       "        '551df69f15ca760f19dd6f40bfda2aa7',\n",
       "        '/home/chenyi/workspace/yolov5/datasets/dadet100kv4_1_june/labels/train/551df69f15ca760f19dd6f40bfda2aa7.txt',\n",
       "        'train',\n",
       "        '/home/chenyi/workspace/dataset/data/data_fashionpedia/train/551df69f15ca760f19dd6f40bfda2aa7.jpg',\n",
       "        'data_fashionpedia',\n",
       "        '/home/chenyi/workspace/yolov5/datasets/dadet100kv4_1_june/images/train/551df69f15ca760f19dd6f40bfda2aa7.jpg']],\n",
       "      dtype=object)"
      ]
     },
     "execution_count": 545,
     "metadata": {},
     "output_type": "execute_result"
    }
   ],
   "source": [
    "df.head(1).values"
   ]
  },
  {
   "cell_type": "code",
   "execution_count": 546,
   "id": "437e875a-2af4-4886-9e49-e362da67efe9",
   "metadata": {},
   "outputs": [],
   "source": [
    "# shbg_df['img_new_sp'] = shbg_df['img_sp'].apply(lambda x: Path(x).parents[1]/Path(x).name)"
   ]
  },
  {
   "cell_type": "code",
   "execution_count": 547,
   "id": "008c1376-3ab5-412d-83b3-cdc9b99398d8",
   "metadata": {},
   "outputs": [
    {
     "data": {
      "text/plain": [
       "source\n",
       "data_fashionpedia    45529\n",
       "haowei34k            33399\n",
       "dada_det             14939\n",
       "DeepFashion2          4814\n",
       "shoeBag5k0515         4430\n",
       "dtype: int64"
      ]
     },
     "execution_count": 547,
     "metadata": {},
     "output_type": "execute_result"
    }
   ],
   "source": [
    "slink_df.value_counts('source')"
   ]
  },
  {
   "cell_type": "code",
   "execution_count": null,
   "id": "6e12188f-303e-4007-8466-c3dcb0e1aaed",
   "metadata": {},
   "outputs": [],
   "source": []
  },
  {
   "cell_type": "code",
   "execution_count": 548,
   "id": "7a9161f4-29f2-4c47-84cc-ccbdc3e772e8",
   "metadata": {},
   "outputs": [],
   "source": [
    "drop_df = df.drop_duplicates('label_sp')"
   ]
  },
  {
   "cell_type": "code",
   "execution_count": 549,
   "id": "bac5c320-bb01-4e9a-8af3-1debe4c06d1d",
   "metadata": {},
   "outputs": [],
   "source": [
    "slink_df = pd.DataFrame()\n",
    "slink_df['source'] = drop_df['source']\n",
    "slink_df['fname'] = drop_df['stem']\n",
    "slink_df['label_sp'] = drop_df['label_sp']\n",
    "slink_df['img_sp'] = drop_df['img_sp']\n",
    "slink_df['label_tp'] = drop_df['label_tp']\n",
    "slink_df['img_tp'] = drop_df['img_tp']"
   ]
  },
  {
   "cell_type": "code",
   "execution_count": 41,
   "id": "19c3d3e2-a947-4072-9229-83ac2699ed02",
   "metadata": {},
   "outputs": [],
   "source": [
    "# root = Path('/home/chenyi/workspace/yolov5/datasets/hw_pedia_true/')\n",
    "# img_root = Path('/home/chenyi/workspace/dataset//')\n",
    "# yolo_data_root = Path('/home/chenyi/workspace/yolov5/datasets/dataExps/gall10k_delBox/')"
   ]
  },
  {
   "cell_type": "code",
   "execution_count": null,
   "id": "602075eb-0bf2-41c0-94d3-1cc80e46ed0c",
   "metadata": {},
   "outputs": [],
   "source": []
  },
  {
   "cell_type": "code",
   "execution_count": 323,
   "id": "29e2fef9-bb6c-4b0c-90ec-ca02e590d4b9",
   "metadata": {},
   "outputs": [],
   "source": [
    "# slink_df['label_tp'] = slink_df['label_sp'].apply(lambda x: yolo_data_root /'labels' /x.parts[-2]/x.parts[-1])"
   ]
  },
  {
   "cell_type": "code",
   "execution_count": 43,
   "id": "0aafdd3b-f86c-4efd-8761-2be9521fdb48",
   "metadata": {},
   "outputs": [],
   "source": [
    "slink_df['img_tp'] = slink_df['label_sp'].apply(lambda x: yolo_data_root /'images' /x.parts[-2]/x.parts[-1])\n",
    "slink_df['img_tp'] = slink_df['img_tp'].apply(lambda x: x.with_suffix('.jpg'))"
   ]
  },
  {
   "cell_type": "code",
   "execution_count": 44,
   "id": "06cc3840-449b-4e3a-89b0-97a30a0acb35",
   "metadata": {},
   "outputs": [],
   "source": [
    "# slink_df['img_sp'] = slink_df['img_tp'].apply(lambda x: data_root /'images' /x.parts[-2]/x.parts[-1])"
   ]
  },
  {
   "cell_type": "code",
   "execution_count": null,
   "id": "d5a9b0ff-94c3-45a3-8bd1-8778f2f5ba02",
   "metadata": {},
   "outputs": [],
   "source": []
  },
  {
   "cell_type": "code",
   "execution_count": 290,
   "id": "7735b2d6-9a62-4154-89ad-fce1662bb774",
   "metadata": {},
   "outputs": [],
   "source": [
    "slink_df['img_file'] = slink_df['img_sp'].apply(lambda x: Path(x).is_file())\n",
    "slink_df['label_file'] = slink_df['label_sp'].apply(lambda x: Path(x).is_file())"
   ]
  },
  {
   "cell_type": "code",
   "execution_count": null,
   "id": "7b276043-a996-471a-87c5-bd318fb3da6f",
   "metadata": {},
   "outputs": [],
   "source": []
  },
  {
   "cell_type": "code",
   "execution_count": 550,
   "id": "78343685-b1a7-4c41-8cb2-05dbd1b8ae5d",
   "metadata": {},
   "outputs": [],
   "source": [
    "slink_df.to_csv('/nas/chenyi/workspace/myPyModule/dataset/data/bboxes/dadet100k/dadetv5_query_slink.csv', index=False)"
   ]
  },
  {
   "cell_type": "code",
   "execution_count": null,
   "id": "c748fc9d-d48d-4b14-8d61-29cf0070fd50",
   "metadata": {},
   "outputs": [],
   "source": []
  },
  {
   "cell_type": "code",
   "execution_count": null,
   "id": "05e60805-2b38-4fa5-abd2-8e8242907dfb",
   "metadata": {},
   "outputs": [],
   "source": []
  },
  {
   "cell_type": "markdown",
   "id": "67827dd9-ace5-47ec-acdb-71e72ffc88e1",
   "metadata": {},
   "source": [
    "#### 直接读取slink.csv"
   ]
  },
  {
   "cell_type": "code",
   "execution_count": null,
   "id": "803e6039-ed46-4081-94b3-d7a2b75ef36a",
   "metadata": {},
   "outputs": [],
   "source": [
    "# slink_df = pd.read_csv('./data/hw34k_level1_slink.csv')"
   ]
  },
  {
   "cell_type": "code",
   "execution_count": null,
   "id": "21d318d4-58ae-4082-a241-df20f2a4041f",
   "metadata": {},
   "outputs": [],
   "source": []
  },
  {
   "cell_type": "markdown",
   "id": "87d30ed1-b478-43a8-a72e-4492762bc982",
   "metadata": {
    "tags": []
   },
   "source": [
    "##### 生成label_tp, img_sp, img_tp"
   ]
  },
  {
   "cell_type": "code",
   "execution_count": 551,
   "id": "2614ffef-6900-44e4-833a-bbf1fb0a5d4f",
   "metadata": {},
   "outputs": [
    {
     "data": {
      "text/plain": [
       "array([['shoeBag5k0515', '2017050718162854629',\n",
       "        PosixPath('/home/chenyi/workspace/dataset/labels/query6/dadetv5_query/labels/val/2017050718162854629.txt'),\n",
       "        '/home/chenyi/workspace/dataset/data/dada_det/shoeBag5k0515/images/2017050718162854629.jpg',\n",
       "        '/home/chenyi/workspace/yolov5/datasets/dadet100kv4_1_june/labels/val/2017050718162854629.txt',\n",
       "        '/home/chenyi/workspace/yolov5/datasets/dadet100kv4_1_june/images/val/2017050718162854629.jpg'],\n",
       "       ['shoeBag5k0515', '2018041313545637741',\n",
       "        PosixPath('/home/chenyi/workspace/dataset/labels/query6/dadetv5_query/labels/val/2018041313545637741.txt'),\n",
       "        '/home/chenyi/workspace/dataset/data/dada_det/shoeBag5k0515/images/2018041313545637741.jpg',\n",
       "        '/home/chenyi/workspace/yolov5/datasets/dadet100kv4_1_june/labels/val/2018041313545637741.txt',\n",
       "        '/home/chenyi/workspace/yolov5/datasets/dadet100kv4_1_june/images/val/2018041313545637741.jpg']],\n",
       "      dtype=object)"
      ]
     },
     "execution_count": 551,
     "metadata": {},
     "output_type": "execute_result"
    }
   ],
   "source": [
    "slink_df.tail(2).values"
   ]
  },
  {
   "cell_type": "code",
   "execution_count": 552,
   "id": "add4af4e-a673-4f5b-b49c-48ce89bdc2ac",
   "metadata": {},
   "outputs": [],
   "source": [
    "origin_folder = 'dadet100kv4_1_june'\n",
    "folder_name = 'dadetv5_query'"
   ]
  },
  {
   "cell_type": "code",
   "execution_count": 553,
   "id": "55c2b867-b7af-467b-9646-99fb5d110ca5",
   "metadata": {},
   "outputs": [],
   "source": [
    "slink_df['img_tp'] = slink_df['img_tp'].apply(lambda x: str(x).replace(f'/datasets/{origin_folder}/images/', f'/datasets/{folder_name}/images/'))\n",
    "slink_df['label_tp'] = slink_df['label_tp'].apply(lambda x: str(x).replace(f'/datasets/{origin_folder}/labels/', f'/datasets/{folder_name}/labels/'))"
   ]
  },
  {
   "cell_type": "code",
   "execution_count": 554,
   "id": "b263a0d9-642e-4da9-8008-03427f0805f1",
   "metadata": {},
   "outputs": [],
   "source": [
    "slink_df.to_csv('/nas/chenyi/workspace/myPyModule/dataset/data/bboxes/dadet100k/dadetv5_query_slink.csv', index=False)"
   ]
  },
  {
   "cell_type": "code",
   "execution_count": null,
   "id": "c5da9fad-e1f5-4e4a-a9f6-10d234b4ddfa",
   "metadata": {},
   "outputs": [],
   "source": []
  },
  {
   "cell_type": "code",
   "execution_count": null,
   "id": "3db94b75-23ab-4eb8-9aa9-67c1b55eadd6",
   "metadata": {},
   "outputs": [],
   "source": []
  },
  {
   "cell_type": "markdown",
   "id": "31456e3a-4b13-41d1-b3f3-29f0a4e9c7f2",
   "metadata": {
    "tags": [],
    "toc-hr-collapsed": true
   },
   "source": [
    "### 生成sym link"
   ]
  },
  {
   "cell_type": "code",
   "execution_count": 555,
   "id": "6bfbd252-58d0-4a7b-b404-adefeb1dcd85",
   "metadata": {},
   "outputs": [
    {
     "name": "stdout",
     "output_type": "stream",
     "text": [
      "\u001b[01;34m/home/chenyi/workspace/yolov5/datasets/\u001b[00m\n",
      "├── \u001b[01;34mcoco128\u001b[00m\n",
      "├── \u001b[01;34mdadet100kv2\u001b[00m\n",
      "├── \u001b[01;34mdadet100kv3_june\u001b[00m\n",
      "├── \u001b[01;34mdadet100kv4_1_june\u001b[00m\n",
      "├── \u001b[01;34mdadet100kv4_june\u001b[00m\n",
      "├── \u001b[01;34mdadet_gallv4_june\u001b[00m\n",
      "├── \u001b[01;34mdadetv5\u001b[00m\n",
      "├── \u001b[01;34mdadetv5_query\u001b[00m\n",
      "├── \u001b[01;34mdataExps\u001b[00m\n",
      "├── \u001b[01;34mdeepedia\u001b[00m\n",
      "├── \u001b[01;34mdeepedia_catg6\u001b[00m\n",
      "├── \u001b[01;34mdeepedia_catg8\u001b[00m\n",
      "├── \u001b[01;34mhaowei_bag_shoe\u001b[00m\n",
      "├── \u001b[01;34mhwpedia\u001b[00m\n",
      "├── \u001b[01;34mhwpedia70k\u001b[00m\n",
      "├── \u001b[01;34mhwpedia80k\u001b[00m\n",
      "├── \u001b[01;34mtuneGallery10k\u001b[00m\n",
      "├── \u001b[01;34mtuneGallery5k\u001b[00m\n",
      "├── \u001b[01;34mtuneQuery10k\u001b[00m\n",
      "└── \u001b[01;34mvalidation_all\u001b[00m\n",
      "\n",
      "20 directories\n"
     ]
    }
   ],
   "source": [
    "root = f'/home/chenyi/workspace/yolov5/datasets/'\n",
    "!tree  -d -L 1 $root"
   ]
  },
  {
   "cell_type": "code",
   "execution_count": 556,
   "id": "9cdc6145-e0a8-475d-99b2-be111ac6156b",
   "metadata": {},
   "outputs": [],
   "source": [
    "folder_name = 'dadetv5_query'"
   ]
  },
  {
   "cell_type": "code",
   "execution_count": 382,
   "id": "3dc500f9-2b31-406e-83a0-b26524012a7a",
   "metadata": {},
   "outputs": [],
   "source": [
    "# 产生路径\n",
    "import shutil\n",
    "# folder_name = 'gall10k_delBox'\n",
    "folder_name = folder_name\n",
    "folder_root = Path(root) /folder_name\n",
    "# folder_root = root\n",
    "folder1 = ['images', 'labels']\n",
    "folder2 = ['train', 'val']\n",
    "# if folder_root.is_dir() and True:\n",
    "#     shutil.rmtree(folder_root)\n",
    "for f1 in folder1:\n",
    "    for f2 in folder2:\n",
    "        tg = folder_root / f1 / f2\n",
    "        tg.mkdir(parents=True)  "
   ]
  },
  {
   "cell_type": "code",
   "execution_count": 459,
   "id": "d88fffd0-9da6-4732-8c80-1dfbc36eb970",
   "metadata": {},
   "outputs": [
    {
     "name": "stdout",
     "output_type": "stream",
     "text": [
      "\u001b[01;34m/home/chenyi/workspace/yolov5/datasets/dadetv5_query\u001b[00m\n",
      "├── \u001b[01;34mimages\u001b[00m\n",
      "└── \u001b[01;34mlabels\u001b[00m\n",
      "\n",
      "2 directories\n"
     ]
    }
   ],
   "source": [
    "!tree  -d -L 1 $folder_root"
   ]
  },
  {
   "cell_type": "code",
   "execution_count": 270,
   "id": "304ef57c-b104-46da-9b89-858b59973d2b",
   "metadata": {},
   "outputs": [],
   "source": []
  },
  {
   "cell_type": "code",
   "execution_count": 271,
   "id": "21460310-c9a5-43d5-a6d6-b865b56a32e0",
   "metadata": {},
   "outputs": [],
   "source": []
  },
  {
   "cell_type": "code",
   "execution_count": 558,
   "id": "3873fb59-4e35-495a-9f70-4fba3be77714",
   "metadata": {},
   "outputs": [],
   "source": [
    "for p in glob.glob(str(Path(slink_df['img_tp'].values[0]).parents[1]/'*/*.jpg')):\n",
    "    if Path(p).is_symlink():\n",
    "        Path(p).unlink()"
   ]
  },
  {
   "cell_type": "code",
   "execution_count": 559,
   "id": "fff403c0-4308-413f-ad71-3df374b866c8",
   "metadata": {},
   "outputs": [],
   "source": [
    "for p in glob.glob(str(Path(slink_df['label_tp'].values[0]).parents[1]/'*/*.txt')):\n",
    "    if Path(p).is_symlink():\n",
    "        Path(p).unlink()"
   ]
  },
  {
   "cell_type": "code",
   "execution_count": 560,
   "id": "4640b096-209f-4725-aa36-8959a794f059",
   "metadata": {},
   "outputs": [
    {
     "data": {
      "text/html": [
       "<div>\n",
       "<style scoped>\n",
       "    .dataframe tbody tr th:only-of-type {\n",
       "        vertical-align: middle;\n",
       "    }\n",
       "\n",
       "    .dataframe tbody tr th {\n",
       "        vertical-align: top;\n",
       "    }\n",
       "\n",
       "    .dataframe thead th {\n",
       "        text-align: right;\n",
       "    }\n",
       "</style>\n",
       "<table border=\"1\" class=\"dataframe\">\n",
       "  <thead>\n",
       "    <tr style=\"text-align: right;\">\n",
       "      <th></th>\n",
       "      <th>source</th>\n",
       "      <th>fname</th>\n",
       "      <th>label_sp</th>\n",
       "      <th>img_sp</th>\n",
       "      <th>label_tp</th>\n",
       "      <th>img_tp</th>\n",
       "    </tr>\n",
       "  </thead>\n",
       "  <tbody>\n",
       "    <tr>\n",
       "      <th>2</th>\n",
       "      <td>data_fashionpedia</td>\n",
       "      <td>551df69f15ca760f19dd6f40bfda2aa7</td>\n",
       "      <td>/home/chenyi/workspace/dataset/labels/query6/d...</td>\n",
       "      <td>/home/chenyi/workspace/dataset/data/data_fashi...</td>\n",
       "      <td>/home/chenyi/workspace/yolov5/datasets/dadetv5...</td>\n",
       "      <td>/home/chenyi/workspace/yolov5/datasets/dadetv5...</td>\n",
       "    </tr>\n",
       "  </tbody>\n",
       "</table>\n",
       "</div>"
      ],
      "text/plain": [
       "              source                             fname  \\\n",
       "2  data_fashionpedia  551df69f15ca760f19dd6f40bfda2aa7   \n",
       "\n",
       "                                            label_sp  \\\n",
       "2  /home/chenyi/workspace/dataset/labels/query6/d...   \n",
       "\n",
       "                                              img_sp  \\\n",
       "2  /home/chenyi/workspace/dataset/data/data_fashi...   \n",
       "\n",
       "                                            label_tp  \\\n",
       "2  /home/chenyi/workspace/yolov5/datasets/dadetv5...   \n",
       "\n",
       "                                              img_tp  \n",
       "2  /home/chenyi/workspace/yolov5/datasets/dadetv5...  "
      ]
     },
     "execution_count": 560,
     "metadata": {},
     "output_type": "execute_result"
    }
   ],
   "source": [
    "slink_df.head(1)"
   ]
  },
  {
   "cell_type": "code",
   "execution_count": null,
   "id": "c3eaf4b8-6ba0-479e-8db3-a16b9c1eef2c",
   "metadata": {},
   "outputs": [],
   "source": []
  },
  {
   "cell_type": "code",
   "execution_count": 561,
   "id": "6b5a0227-b70b-4e43-b834-04234550a536",
   "metadata": {},
   "outputs": [
    {
     "name": "stdout",
     "output_type": "stream",
     "text": [
      "CPU times: user 2.25 s, sys: 1.18 s, total: 3.42 s\n",
      "Wall time: 3.6 s\n"
     ]
    }
   ],
   "source": [
    "%%time\n",
    "for p in slink_df['img_tp'].values:\n",
    "    if Path(p).is_symlink():\n",
    "        Path(p).unlink()\n",
    "_ = slink_df.apply(lambda row: Path.symlink_to(Path(row['img_tp']), Path(row['img_sp'])), axis=1)"
   ]
  },
  {
   "cell_type": "code",
   "execution_count": 562,
   "id": "5f2dfc8e-2177-4a62-96ff-bc7d334dbc1c",
   "metadata": {},
   "outputs": [
    {
     "name": "stdout",
     "output_type": "stream",
     "text": [
      "CPU times: user 2.36 s, sys: 1.17 s, total: 3.53 s\n",
      "Wall time: 4.05 s\n"
     ]
    }
   ],
   "source": [
    "%%time\n",
    "for p in slink_df['label_tp'].values:\n",
    "    if Path(p).is_symlink():\n",
    "        Path(p).unlink()\n",
    "_ = slink_df.apply(lambda row: Path.symlink_to(Path(row['label_tp']), Path(row['label_sp'])), axis=1)"
   ]
  },
  {
   "cell_type": "code",
   "execution_count": 563,
   "id": "270bcbda-78d6-41b7-bc25-9183b302888f",
   "metadata": {},
   "outputs": [
    {
     "data": {
      "text/plain": [
       "(103109, 103109)"
      ]
     },
     "execution_count": 563,
     "metadata": {},
     "output_type": "execute_result"
    }
   ],
   "source": [
    "len(glob.glob(str(Path(slink_df['img_tp'].values[0]).parents[1]/'*/*.jpg'))), len(glob.glob(str(Path(slink_df['label_tp'].values[0]).parents[1]/'*/*.txt')))"
   ]
  },
  {
   "cell_type": "code",
   "execution_count": 564,
   "id": "1fc942ac-1f23-4c91-a364-ec900458d987",
   "metadata": {},
   "outputs": [
    {
     "name": "stdout",
     "output_type": "stream",
     "text": [
      "5 0.572266 0.614370 0.367188 0.768328\n"
     ]
    }
   ],
   "source": [
    "p = str(slink_df['label_tp'].values[1001])\n",
    "!cat $p"
   ]
  },
  {
   "cell_type": "code",
   "execution_count": 565,
   "id": "1cdf1e26-0c73-4729-9ef6-c9fc0f70b956",
   "metadata": {},
   "outputs": [
    {
     "name": "stdout",
     "output_type": "stream",
     "text": [
      "5 0.573206 0.473633 0.209370 0.460938\n"
     ]
    }
   ],
   "source": [
    "p = str(slink_df['label_sp'].values[2501])\n",
    "!cat $p"
   ]
  },
  {
   "cell_type": "code",
   "execution_count": null,
   "id": "92c05cad-3694-4a3f-b1ad-2366ef04c22a",
   "metadata": {},
   "outputs": [],
   "source": []
  },
  {
   "cell_type": "markdown",
   "id": "06f8dad4-7ef5-4d50-a453-ef1abf5f38c7",
   "metadata": {},
   "source": [
    "#### 核查软连接"
   ]
  },
  {
   "cell_type": "code",
   "execution_count": 566,
   "id": "7c0961f8-1463-453d-90de-21c87dfecc86",
   "metadata": {},
   "outputs": [],
   "source": [
    "import glob,cv2, os\n",
    "import pandas as pd"
   ]
  },
  {
   "cell_type": "code",
   "execution_count": 567,
   "id": "7f5fb192-79c3-4f2e-a266-e98cb129eada",
   "metadata": {},
   "outputs": [
    {
     "name": "stdout",
     "output_type": "stream",
     "text": [
      "\u001b[01;34m/home/chenyi/workspace/yolov5/datasets/\u001b[00m\n",
      "├── \u001b[01;34mcoco128\u001b[00m\n",
      "├── \u001b[01;34mdadet100kv2\u001b[00m\n",
      "├── \u001b[01;34mdadet100kv3_june\u001b[00m\n",
      "├── \u001b[01;34mdadet100kv4_1_june\u001b[00m\n",
      "├── \u001b[01;34mdadet100kv4_june\u001b[00m\n",
      "├── \u001b[01;34mdadet_gallv4_june\u001b[00m\n",
      "├── \u001b[01;34mdadetv5\u001b[00m\n",
      "├── \u001b[01;34mdadetv5_query\u001b[00m\n",
      "├── \u001b[01;34mdataExps\u001b[00m\n",
      "├── \u001b[01;34mdeepedia\u001b[00m\n",
      "├── \u001b[01;34mdeepedia_catg6\u001b[00m\n",
      "├── \u001b[01;34mdeepedia_catg8\u001b[00m\n",
      "├── \u001b[01;34mhaowei_bag_shoe\u001b[00m\n",
      "├── \u001b[01;34mhwpedia\u001b[00m\n",
      "├── \u001b[01;34mhwpedia70k\u001b[00m\n",
      "├── \u001b[01;34mhwpedia80k\u001b[00m\n",
      "├── \u001b[01;34mtuneGallery10k\u001b[00m\n",
      "├── \u001b[01;34mtuneGallery5k\u001b[00m\n",
      "├── \u001b[01;34mtuneQuery10k\u001b[00m\n",
      "└── \u001b[01;34mvalidation_all\u001b[00m\n",
      "\n",
      "20 directories\n"
     ]
    }
   ],
   "source": [
    "!tree  -d -L 1 /home/chenyi/workspace/yolov5/datasets/"
   ]
  },
  {
   "cell_type": "code",
   "execution_count": 568,
   "id": "fed9e34a-71d7-4dfa-9948-f2ef0380a8f0",
   "metadata": {},
   "outputs": [
    {
     "name": "stdout",
     "output_type": "stream",
     "text": [
      "\u001b[01;34m/home/chenyi/workspace/yolov5/datasets/dadetv5_query\u001b[00m\n",
      "├── \u001b[01;34mimages\u001b[00m\n",
      "│   ├── \u001b[01;34mtrain\u001b[00m\n",
      "│   └── \u001b[01;34mval\u001b[00m\n",
      "└── \u001b[01;34mlabels\u001b[00m\n",
      "    ├── \u001b[01;34mtrain\u001b[00m\n",
      "    └── \u001b[01;34mval\u001b[00m\n",
      "\n",
      "6 directories\n"
     ]
    }
   ],
   "source": [
    "# folder_name = 'dadet100kv2'\n",
    "root = f'/home/chenyi/workspace/yolov5/datasets/{folder_name}'\n",
    "!tree  -d -L 2 $root"
   ]
  },
  {
   "cell_type": "code",
   "execution_count": null,
   "id": "3c845c9e-02ea-461a-85bb-08be9e2f6ffa",
   "metadata": {},
   "outputs": [],
   "source": []
  },
  {
   "cell_type": "code",
   "execution_count": null,
   "id": "4ec50cc2-5076-487c-b81b-437fa3394efe",
   "metadata": {},
   "outputs": [],
   "source": []
  },
  {
   "cell_type": "code",
   "execution_count": 569,
   "id": "1d5d1612-aa59-4f97-af88-b1d6169eb263",
   "metadata": {},
   "outputs": [],
   "source": [
    "def check_syslink(root, mode='images'):\n",
    "    subfix = '.txt' if mode=='labels' else '.jpg'\n",
    "    flag_list = [os.path.isfile(os.readlink(p)) for p in glob.glob(f'{root}/{mode}/*/*{subfix}')]\n",
    "    txt_df = pd.DataFrame()\n",
    "    txt_df['flag'] = flag_list\n",
    "    return txt_df.value_counts('flag')"
   ]
  },
  {
   "cell_type": "code",
   "execution_count": null,
   "id": "44c454c5-95ab-4b19-8ee2-7171378667c1",
   "metadata": {},
   "outputs": [],
   "source": []
  },
  {
   "cell_type": "code",
   "execution_count": 570,
   "id": "3b801bd9-4199-4bc7-9326-eaf3b23ab77f",
   "metadata": {},
   "outputs": [
    {
     "name": "stdout",
     "output_type": "stream",
     "text": [
      "CPU times: user 201 ms, sys: 236 ms, total: 437 ms\n",
      "Wall time: 495 ms\n"
     ]
    },
    {
     "data": {
      "text/plain": [
       "flag\n",
       "True    103109\n",
       "dtype: int64"
      ]
     },
     "execution_count": 570,
     "metadata": {},
     "output_type": "execute_result"
    }
   ],
   "source": [
    "%%time\n",
    "check_syslink(root, mode='images')"
   ]
  },
  {
   "cell_type": "code",
   "execution_count": 571,
   "id": "b611d851-ba1e-4d9e-a7f8-388230041add",
   "metadata": {},
   "outputs": [
    {
     "name": "stdout",
     "output_type": "stream",
     "text": [
      "CPU times: user 190 ms, sys: 193 ms, total: 383 ms\n",
      "Wall time: 381 ms\n"
     ]
    },
    {
     "data": {
      "text/plain": [
       "flag\n",
       "True    103109\n",
       "dtype: int64"
      ]
     },
     "execution_count": 571,
     "metadata": {},
     "output_type": "execute_result"
    }
   ],
   "source": [
    "%%time\n",
    "check_syslink(root, mode='labels')"
   ]
  },
  {
   "cell_type": "code",
   "execution_count": null,
   "id": "40ac899a-e818-4087-9b9f-2ef2e36b2053",
   "metadata": {},
   "outputs": [],
   "source": []
  },
  {
   "cell_type": "code",
   "execution_count": null,
   "id": "cd1daf7a-9094-45bf-9be6-4742cb9d9f74",
   "metadata": {},
   "outputs": [],
   "source": []
  }
 ],
 "metadata": {
  "kernelspec": {
   "display_name": "Python 3 (ipykernel)",
   "language": "python",
   "name": "python3"
  },
  "language_info": {
   "codemirror_mode": {
    "name": "ipython",
    "version": 3
   },
   "file_extension": ".py",
   "mimetype": "text/x-python",
   "name": "python",
   "nbconvert_exporter": "python",
   "pygments_lexer": "ipython3",
   "version": "3.8.13"
  },
  "toc-showtags": false
 },
 "nbformat": 4,
 "nbformat_minor": 5
}
