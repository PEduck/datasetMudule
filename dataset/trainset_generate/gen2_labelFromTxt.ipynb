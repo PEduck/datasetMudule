{
 "cells": [
  {
   "cell_type": "code",
   "execution_count": 1,
   "id": "965f48f1-99e7-49f5-a091-4d5f05a888f1",
   "metadata": {},
   "outputs": [],
   "source": [
    "import numpy as np\n",
    "import pandas as pd\n",
    "import glob\n",
    "import sys,os\n",
    "from pathlib import Path\n",
    "from PIL import Image\n",
    "from tqdm import tqdm"
   ]
  },
  {
   "cell_type": "code",
   "execution_count": null,
   "id": "5c5eaf39-efab-4b31-b92c-8c0dfa1de4e8",
   "metadata": {},
   "outputs": [],
   "source": []
  },
  {
   "cell_type": "code",
   "execution_count": null,
   "id": "7a829f7f-5463-4b41-b869-5f96708c84f2",
   "metadata": {},
   "outputs": [],
   "source": []
  },
  {
   "cell_type": "markdown",
   "id": "7ef16afd-d8b3-45d3-bc2e-4e3ba09c0023",
   "metadata": {
    "tags": []
   },
   "source": [
    "### 0.API"
   ]
  },
  {
   "cell_type": "code",
   "execution_count": 2,
   "id": "cc57bfa3-8c1f-40c6-baf8-dfac0cc4b021",
   "metadata": {},
   "outputs": [],
   "source": [
    "sys.path.append('../../')\n",
    "from utils.plots.plots import draw_bbox"
   ]
  },
  {
   "cell_type": "code",
   "execution_count": null,
   "id": "c60290bc-6494-4da6-a633-e65b3c63ab1f",
   "metadata": {},
   "outputs": [],
   "source": []
  },
  {
   "cell_type": "code",
   "execution_count": 3,
   "id": "ddca4f12-25d6-43c5-ad9a-f05117e7e839",
   "metadata": {},
   "outputs": [],
   "source": [
    "def get_list2dict(k_list, v_list):\n",
    "    d = {}\n",
    "    for item in zip(k_list, v_list):\n",
    "        d[item[0]] = item[1]\n",
    "    return d"
   ]
  },
  {
   "cell_type": "code",
   "execution_count": 4,
   "id": "84c6b63f-ed24-45ac-ac02-0fdcf68980b2",
   "metadata": {},
   "outputs": [],
   "source": [
    "model_label_map = {\n",
    "    0: 10,  # 鞋子\n",
    "    1: 8,  # 包包\n",
    "    2: 4,  # 上装\n",
    "    3: 5,  # 裤子\n",
    "    4: 6,  # 裙子\n",
    "    5: 7,  # 连体装\n",
    "}"
   ]
  },
  {
   "cell_type": "code",
   "execution_count": 5,
   "id": "612a3dec-3cc8-4fba-bfef-766a62b957e8",
   "metadata": {},
   "outputs": [
    {
     "name": "stdout",
     "output_type": "stream",
     "text": [
      "INFO: Pandarallel will run on 8 workers.\n",
      "INFO: Pandarallel will use Memory file system to transfer data between the main process and workers.\n"
     ]
    }
   ],
   "source": [
    "#  dataframe multi-thread\n",
    "from pandarallel import pandarallel\n",
    "# Initialization\n",
    "pandarallel.initialize()\n",
    "# df.parallel_apply(func, progress_bar=True)"
   ]
  },
  {
   "cell_type": "code",
   "execution_count": 6,
   "id": "94b37a1a-6613-452c-afed-78db8d686ba1",
   "metadata": {},
   "outputs": [],
   "source": [
    "label2model = get_list2dict( model_label_map.values(), model_label_map.keys())"
   ]
  },
  {
   "cell_type": "code",
   "execution_count": null,
   "id": "72724921-7275-4fa3-a8f6-210c439a45c8",
   "metadata": {},
   "outputs": [],
   "source": []
  },
  {
   "cell_type": "code",
   "execution_count": null,
   "id": "ca44ed4e-b38e-44b5-8a1b-27028108e588",
   "metadata": {},
   "outputs": [],
   "source": []
  },
  {
   "cell_type": "markdown",
   "id": "1354d993-c902-4efa-b5a0-4c9bc0bdfede",
   "metadata": {
    "tags": []
   },
   "source": [
    "### 1.Dataset Information."
   ]
  },
  {
   "cell_type": "code",
   "execution_count": 7,
   "id": "69415dda-e2cc-49c9-bb9c-daf2fb8920a0",
   "metadata": {},
   "outputs": [
    {
     "name": "stdout",
     "output_type": "stream",
     "text": [
      "\u001b[01;34m/home/chenyi/workspace/dataset/labels/labels6\u001b[00m\n",
      "├── \u001b[01;34mdada_det\u001b[00m\n",
      "├── \u001b[01;34mDeepFashion2\u001b[00m\n",
      "│   └── \u001b[01;34mcsv\u001b[00m\n",
      "├── \u001b[01;34mdeploy_system\u001b[00m\n",
      "│   └── \u001b[01;34mlabels_202207\u001b[00m\n",
      "├── \u001b[01;34mfashionpedia\u001b[00m\n",
      "│   ├── \u001b[01;34mcsv\u001b[00m\n",
      "│   └── \u001b[01;34mlabels\u001b[00m\n",
      "├── \u001b[01;34mgallery2m\u001b[00m\n",
      "│   ├── \u001b[01;34mgallery2m_7k_test10k\u001b[00m\n",
      "│   ├── \u001b[01;34mgallery2m_7k_train\u001b[00m\n",
      "│   └── \u001b[01;34mgallery7k_100sample\u001b[00m\n",
      "├── \u001b[01;34mhaowei34k\u001b[00m\n",
      "│   ├── \u001b[01;34mcsv\u001b[00m\n",
      "│   └── \u001b[01;34mlabels\u001b[00m\n",
      "├── \u001b[01;34mlabels_exp\u001b[00m\n",
      "│   ├── \u001b[01;34mcsv\u001b[00m\n",
      "│   ├── \u001b[01;34mdadetGallv4_del\u001b[00m\n",
      "│   └── \u001b[01;34mdelBbox\u001b[00m\n",
      "└── \u001b[01;34mwardrobe500k\u001b[00m\n",
      "\n",
      "20 directories\n"
     ]
    }
   ],
   "source": [
    "root_label6 = Path('/home/chenyi/workspace/dataset/labels/labels6')\n",
    "!tree -d -L 2 $root_label6"
   ]
  },
  {
   "cell_type": "code",
   "execution_count": 9,
   "id": "e0d75b13-ec3e-4c12-9d0b-778ab71f9f14",
   "metadata": {},
   "outputs": [
    {
     "name": "stdout",
     "output_type": "stream",
     "text": [
      "\u001b[01;34m/home/chenyi/workspace/dataset/data\u001b[00m\n",
      "├── \u001b[01;34mclassification\u001b[00m\n",
      "│   ├── \u001b[01;34mclean_data\u001b[00m\n",
      "│   ├── \u001b[01;34mclean_shoe\u001b[00m\n",
      "│   ├── \u001b[01;34merror\u001b[00m\n",
      "│   └── \u001b[01;34mgallery2m_v6\u001b[00m\n",
      "├── \u001b[01;34mdada_det\u001b[00m\n",
      "│   ├── \u001b[01;34mhard_sample_0610\u001b[00m\n",
      "│   ├── \u001b[01;34mshoe_bag11k_may\u001b[00m\n",
      "│   ├── \u001b[01;34mshoeBag5k0515\u001b[00m\n",
      "│   └── \u001b[01;34mwholebody0601_all\u001b[00m\n",
      "├── \u001b[01;34mdata_fashionpedia\u001b[00m\n",
      "│   ├── \u001b[01;34mannotations\u001b[00m\n",
      "│   ├── \u001b[01;34mtest\u001b[00m\n",
      "│   └── \u001b[01;34mtrain\u001b[00m\n",
      "├── \u001b[01;34mDeepFashion2\u001b[00m\n",
      "│   ├── \u001b[01;34mjson_for_test\u001b[00m\n",
      "│   ├── \u001b[01;34mjson_for_validation\u001b[00m\n",
      "│   ├── \u001b[01;34mtest\u001b[00m\n",
      "│   ├── \u001b[01;34mtrain\u001b[00m\n",
      "│   └── \u001b[01;34mvalidation\u001b[00m\n",
      "├── \u001b[01;34mdeploy_system\u001b[00m\n",
      "│   ├── \u001b[01;34mimages\u001b[00m\n",
      "│   └── \u001b[01;34mimages_rename\u001b[00m\n",
      "├── \u001b[01;34mgallery2m\u001b[00m\n",
      "│   └── \u001b[01;34mgallery2m_7k_20220715\u001b[00m\n",
      "├── \u001b[01;34mhaowei34k\u001b[00m\n",
      "│   ├── \u001b[01;34mhaowei23\u001b[00m\n",
      "│   └── \u001b[01;34mimages\u001b[00m\n",
      "└── \u001b[01;34mwardrobe500k\u001b[00m\n",
      "    ├── \u001b[01;34mwardrobe20k_img_hard20220705\u001b[00m\n",
      "    └── \u001b[01;34mwardrobe500k_hard\u001b[00m\n",
      "\n",
      "31 directories\n"
     ]
    }
   ],
   "source": [
    "root_data = Path('/home/chenyi/workspace/dataset/data/')\n",
    "!tree -d -L 2 $root_data"
   ]
  },
  {
   "cell_type": "code",
   "execution_count": null,
   "id": "6f50e59d-7dd8-4669-a40c-4d2e0a6e7f4a",
   "metadata": {},
   "outputs": [],
   "source": []
  },
  {
   "cell_type": "code",
   "execution_count": 8,
   "id": "ffafad8a-b057-4d1f-95d8-239bf9016d96",
   "metadata": {},
   "outputs": [
    {
     "name": "stdout",
     "output_type": "stream",
     "text": [
      "\u001b[01;34m/home/chenyi/workspace/yolov5/datasets\u001b[00m\n",
      "├── \u001b[01;34mcoco128\u001b[00m\n",
      "├── \u001b[01;34mdadet100kv2\u001b[00m\n",
      "├── \u001b[01;34mdadet100kv3_june\u001b[00m\n",
      "├── \u001b[01;34mdadet100kv4_1_june\u001b[00m\n",
      "├── \u001b[01;34mdadet100kv4_june\u001b[00m\n",
      "├── \u001b[01;34mdadet_gallv4_june\u001b[00m\n",
      "├── \u001b[01;34mdadetv5\u001b[00m\n",
      "├── \u001b[01;34mdadetv5_query\u001b[00m\n",
      "├── \u001b[01;34mdadetv6_1\u001b[00m\n",
      "├── \u001b[01;34mdadetv6_2\u001b[00m\n",
      "├── \u001b[01;34mdadetv6_3\u001b[00m\n",
      "├── \u001b[01;34mdataExps\u001b[00m\n",
      "├── \u001b[01;34mdeepedia\u001b[00m\n",
      "├── \u001b[01;34mgallery_train\u001b[00m\n",
      "├── \u001b[01;34mhaowei_bag_shoe\u001b[00m\n",
      "├── \u001b[01;34mhwpedia\u001b[00m\n",
      "├── \u001b[01;34mhwpedia70k\u001b[00m\n",
      "├── \u001b[01;34mhwpedia80k\u001b[00m\n",
      "├── \u001b[01;34mtuneGallery10k\u001b[00m\n",
      "├── \u001b[01;34mtuneGallery5k\u001b[00m\n",
      "├── \u001b[01;34mtuneQuery10k\u001b[00m\n",
      "└── \u001b[01;34mvalidation_all\u001b[00m\n",
      "\n",
      "22 directories\n"
     ]
    }
   ],
   "source": [
    "root_yolo = Path('/home/chenyi/workspace/yolov5/datasets/')\n",
    "!tree -d -L 1 $root_yolo"
   ]
  },
  {
   "cell_type": "code",
   "execution_count": 7,
   "id": "b5d1cc34-ab78-45dd-b034-1735ea2b7aa1",
   "metadata": {},
   "outputs": [
    {
     "name": "stdout",
     "output_type": "stream",
     "text": [
      "dadet100k     @eaDir  fashionpedia  hwpedia  tuneDataset\n",
      "deepfashion2  exps    haowei34k     query\n"
     ]
    }
   ],
   "source": [
    "!ls $root_data/bboxes"
   ]
  },
  {
   "cell_type": "code",
   "execution_count": 29,
   "id": "7cdc27f4-ee7a-4d0f-bbe0-14899e6cc52d",
   "metadata": {},
   "outputs": [],
   "source": [
    "# !mkdir $root_data/data/bboxes"
   ]
  },
  {
   "cell_type": "code",
   "execution_count": null,
   "id": "757029ad-41c3-473d-9884-79402eca717e",
   "metadata": {},
   "outputs": [],
   "source": []
  },
  {
   "cell_type": "code",
   "execution_count": null,
   "id": "0b70c0df-b95b-404d-b8b7-aed07c7c934f",
   "metadata": {},
   "outputs": [],
   "source": []
  },
  {
   "cell_type": "markdown",
   "id": "470ec271-be86-43a4-b57e-0b2343fa7188",
   "metadata": {
    "tags": []
   },
   "source": [
    "#### csv"
   ]
  },
  {
   "cell_type": "code",
   "execution_count": 9,
   "id": "cc8b120a-6319-400d-b23c-d909e35048a9",
   "metadata": {},
   "outputs": [],
   "source": [
    "root_nas = Path('/nas/chenyi/datasets_nas/gallery2m_clred/gallery2m500_45_20220805/')\n",
    "root_xml = root_nas /'xml/gallery2m500_45_xml_20220805/'\n",
    "# !ls $root_xml"
   ]
  },
  {
   "cell_type": "markdown",
   "id": "82d1d7da-6c09-48cd-b019-304fc54f9a14",
   "metadata": {
    "tags": []
   },
   "source": [
    "##### bboxes_df"
   ]
  },
  {
   "cell_type": "code",
   "execution_count": 23,
   "id": "ac997e5a-db80-4723-b193-e1018435140c",
   "metadata": {},
   "outputs": [],
   "source": [
    "bboxes_df = pd.read_csv('/nas/chenyi/datasets_nas/csv_dataset/gallery/gallery2m_v6_bboxes_df.csv')\n",
    "# bboxes_df = pd.read_csv(root_nas /f'{folder_name}_bboxes_crops_df.csv')\n",
    "# bboxes_df.to_csv(root_nas /f'{folder_name}_bboxes_crops_df.csv', index=False)"
   ]
  },
  {
   "cell_type": "code",
   "execution_count": null,
   "id": "7c209f3c-2110-44b0-a4d3-d7abd6af494c",
   "metadata": {},
   "outputs": [],
   "source": []
  },
  {
   "cell_type": "markdown",
   "id": "547d5501-8985-4204-bebd-756f756bd0ae",
   "metadata": {
    "tags": []
   },
   "source": [
    "### 解析label.txt"
   ]
  },
  {
   "cell_type": "code",
   "execution_count": 9,
   "id": "e261c145-4f1b-4a32-af04-6b6d61bae9e9",
   "metadata": {},
   "outputs": [],
   "source": [
    "def read_txt(p):\n",
    "    with open(str(p), 'r') as f:\n",
    "        label_lines = f.readlines()\n",
    "    return label_lines"
   ]
  },
  {
   "cell_type": "code",
   "execution_count": null,
   "id": "fe40b57d-e951-4f2a-98c1-f46f5c1dc35a",
   "metadata": {},
   "outputs": [],
   "source": []
  },
  {
   "cell_type": "code",
   "execution_count": 10,
   "id": "38de5f69-0f35-4f29-8454-3888c6ae2f10",
   "metadata": {},
   "outputs": [],
   "source": [
    "def get_bboxes_info(p):\n",
    "    import numpy as np\n",
    "    lines_list = []\n",
    "    for ind,line in enumerate(read_txt(p)):\n",
    "        line_list = line.split('\\n')[0].split(' ')\n",
    "        line_list.append(ind)\n",
    "        line_list.append(p)\n",
    "        lines_list.append(line_list)\n",
    "    return lines_list"
   ]
  },
  {
   "cell_type": "code",
   "execution_count": null,
   "id": "351a11d9-bdd7-4c38-8bff-f1e650dbf1b4",
   "metadata": {},
   "outputs": [],
   "source": []
  },
  {
   "cell_type": "code",
   "execution_count": 11,
   "id": "ba3e6115-fabc-49cf-9322-b4af8b446d6a",
   "metadata": {},
   "outputs": [],
   "source": [
    "global bboxes_all\n",
    "def get_bboxes_multithread(p):\n",
    "    bboxes_info = get_bboxes_info(p)\n",
    "    bboxes_all += bboxes_info"
   ]
  },
  {
   "cell_type": "code",
   "execution_count": null,
   "id": "95efa792-8a27-49c9-af40-9b17e9472241",
   "metadata": {},
   "outputs": [],
   "source": []
  },
  {
   "cell_type": "code",
   "execution_count": null,
   "id": "1cc365fc-e769-4d67-8466-41ea07ec6f03",
   "metadata": {},
   "outputs": [],
   "source": [
    "folder_name = 'dadetv6_3'"
   ]
  },
  {
   "cell_type": "code",
   "execution_count": null,
   "id": "144e639e-e2be-4702-b84f-c9b8e1cfdef4",
   "metadata": {},
   "outputs": [],
   "source": [
    "root_dataset = Path(f'/home/chenyi/workspace/yolov5/datasets/{folder_name}/labels/*/*.txt')"
   ]
  },
  {
   "cell_type": "code",
   "execution_count": null,
   "id": "3834cf43-d9e1-42b2-9c82-95dc4dde89b9",
   "metadata": {},
   "outputs": [
    {
     "data": {
      "text/plain": [
       "122800"
      ]
     },
     "execution_count": 14,
     "metadata": {},
     "output_type": "execute_result"
    }
   ],
   "source": [
    "labels_p = glob.glob(str(root_dataset))\n",
    "len(labels_p)"
   ]
  },
  {
   "cell_type": "code",
   "execution_count": null,
   "id": "dfc7c6d3-b8d7-40dd-86e8-2f7e44346f43",
   "metadata": {},
   "outputs": [
    {
     "name": "stderr",
     "output_type": "stream",
     "text": [
      "100%|███████████████████████████████████████████████████████████████| 122800/122800 [00:28<00:00, 4362.89it/s]\n"
     ]
    }
   ],
   "source": [
    "from tqdm import tqdm\n",
    "bboxes_all = []\n",
    "for p in tqdm(labels_p):\n",
    "    bboxes_info = get_bboxes_info(p)\n",
    "    bboxes_all += bboxes_info\n",
    "    # break"
   ]
  },
  {
   "cell_type": "code",
   "execution_count": null,
   "id": "1fc450e1-a05d-49ee-a4c4-bbac7c21349d",
   "metadata": {},
   "outputs": [],
   "source": [
    "# %%time\n",
    "# # global bboxes_all\n",
    "# # bboxes_all = []\n",
    "# run_task_multithread(labels_df['crops_p'][:10], get_bboxes_multithread, 20)"
   ]
  },
  {
   "cell_type": "code",
   "execution_count": null,
   "id": "0c2ba171-9d8d-419d-87c2-de3238f8c727",
   "metadata": {},
   "outputs": [],
   "source": []
  },
  {
   "cell_type": "code",
   "execution_count": null,
   "id": "cbb45ffc-f6fe-4d2f-a9a5-a7e81851d4ff",
   "metadata": {},
   "outputs": [],
   "source": []
  },
  {
   "cell_type": "markdown",
   "id": "a522b84a-18bd-4639-9ab6-c03edc37f353",
   "metadata": {
    "tags": []
   },
   "source": [
    "#### 处理bbox信息"
   ]
  },
  {
   "cell_type": "code",
   "execution_count": 17,
   "id": "c1cd3afb-30ca-463e-a536-3907bdf01b75",
   "metadata": {},
   "outputs": [],
   "source": [
    "bboxes_df = pd.DataFrame(bboxes_all)"
   ]
  },
  {
   "cell_type": "code",
   "execution_count": 23,
   "id": "2cbe33e0-5e52-4f05-8164-a51d8ac3c85c",
   "metadata": {},
   "outputs": [
    {
     "data": {
      "text/html": [
       "<div>\n",
       "<style scoped>\n",
       "    .dataframe tbody tr th:only-of-type {\n",
       "        vertical-align: middle;\n",
       "    }\n",
       "\n",
       "    .dataframe tbody tr th {\n",
       "        vertical-align: top;\n",
       "    }\n",
       "\n",
       "    .dataframe thead th {\n",
       "        text-align: right;\n",
       "    }\n",
       "</style>\n",
       "<table border=\"1\" class=\"dataframe\">\n",
       "  <thead>\n",
       "    <tr style=\"text-align: right;\">\n",
       "      <th></th>\n",
       "      <th>label_model</th>\n",
       "      <th>bx1</th>\n",
       "      <th>bx2</th>\n",
       "      <th>bx3</th>\n",
       "      <th>bx4</th>\n",
       "      <th>bbox_ind</th>\n",
       "      <th>label_sp</th>\n",
       "    </tr>\n",
       "  </thead>\n",
       "  <tbody>\n",
       "    <tr>\n",
       "      <th>0</th>\n",
       "      <td>0</td>\n",
       "      <td>0.44003</td>\n",
       "      <td>0.904297</td>\n",
       "      <td>0.13943</td>\n",
       "      <td>0.060547</td>\n",
       "      <td>0</td>\n",
       "      <td>/home/chenyi/workspace/yolov5/datasets/dadetv6...</td>\n",
       "    </tr>\n",
       "  </tbody>\n",
       "</table>\n",
       "</div>"
      ],
      "text/plain": [
       "   label_model      bx1       bx2      bx3       bx4  bbox_ind  \\\n",
       "0            0  0.44003  0.904297  0.13943  0.060547         0   \n",
       "\n",
       "                                            label_sp  \n",
       "0  /home/chenyi/workspace/yolov5/datasets/dadetv6...  "
      ]
     },
     "execution_count": 23,
     "metadata": {},
     "output_type": "execute_result"
    }
   ],
   "source": [
    "bboxes_df.head(1)"
   ]
  },
  {
   "cell_type": "code",
   "execution_count": 19,
   "id": "92990ff5-1b72-4b86-8082-3e961ca242b3",
   "metadata": {},
   "outputs": [],
   "source": [
    "name_stand = ['label_model', 'bx1', 'bx2', 'bx3', 'bx4', 'bbox_ind', 'label_sp']\n",
    "bboxes_df.rename(columns={bboxes_df.columns[0]:name_stand[0],\n",
    "                          bboxes_df.columns[1]:name_stand[1],\n",
    "                          bboxes_df.columns[2]:name_stand[2],\n",
    "                          bboxes_df.columns[3]:name_stand[3],\n",
    "                          bboxes_df.columns[4]:name_stand[4],\n",
    "                          bboxes_df.columns[5]:name_stand[5],\n",
    "                          bboxes_df.columns[6]:name_stand[6],\n",
    "                         },\n",
    "                          inplace=True)"
   ]
  },
  {
   "cell_type": "code",
   "execution_count": 22,
   "id": "cd757de3-0915-4182-8f73-2112aee82fe5",
   "metadata": {},
   "outputs": [],
   "source": [
    "corners = ['bx1', 'bx2', 'bx3', 'bx4']\n",
    "for c in corners:\n",
    "    bboxes_df[c] = bboxes_df[c].astype(float)\n",
    "bboxes_df['label_model'] = bboxes_df['label_model'].astype(int)\n",
    "bboxes_df['bbox_ind'] = bboxes_df['bbox_ind'].astype(int)"
   ]
  },
  {
   "cell_type": "code",
   "execution_count": null,
   "id": "9400c378-6275-4eb2-abad-b0cfd81bd8fe",
   "metadata": {},
   "outputs": [],
   "source": []
  },
  {
   "cell_type": "code",
   "execution_count": 24,
   "id": "b9949909-6193-4c91-b24b-cd36cfa36d12",
   "metadata": {},
   "outputs": [
    {
     "data": {
      "text/plain": [
       "332874"
      ]
     },
     "execution_count": 24,
     "metadata": {},
     "output_type": "execute_result"
    }
   ],
   "source": [
    "len(bboxes_df)"
   ]
  },
  {
   "cell_type": "code",
   "execution_count": 25,
   "id": "c1dfd1aa-a28b-4f33-9b9f-e05d392dba75",
   "metadata": {},
   "outputs": [],
   "source": [
    "bboxes_df['stem'] = bboxes_df['label_sp'].apply(lambda x: Path(x).stem)"
   ]
  },
  {
   "cell_type": "code",
   "execution_count": 26,
   "id": "3c051487-e1b6-4c6c-a050-54a538805374",
   "metadata": {},
   "outputs": [],
   "source": [
    "bboxes_df['mode'] = bboxes_df['label_sp'].apply(lambda x: Path(x).parts[-2])"
   ]
  },
  {
   "cell_type": "code",
   "execution_count": 27,
   "id": "f4b185ec-5506-4eea-9588-92ba63911082",
   "metadata": {},
   "outputs": [
    {
     "data": {
      "text/plain": [
       "mode\n",
       "train    289422\n",
       "val       43452\n",
       "dtype: int64"
      ]
     },
     "execution_count": 27,
     "metadata": {},
     "output_type": "execute_result"
    }
   ],
   "source": [
    "bboxes_df.value_counts('mode')"
   ]
  },
  {
   "cell_type": "markdown",
   "id": "2e22c073-6962-4fc3-ab60-9ebfed96a72d",
   "metadata": {},
   "source": [
    "##### 去除不要的bbox"
   ]
  },
  {
   "cell_type": "code",
   "execution_count": null,
   "id": "ba880660-c085-4627-9603-b60b8ac36654",
   "metadata": {},
   "outputs": [],
   "source": [
    "slink_pedia_df = pd.read_csv()"
   ]
  },
  {
   "cell_type": "code",
   "execution_count": 173,
   "id": "f2799966-b2c0-4760-8f91-68d5da7ed33f",
   "metadata": {},
   "outputs": [],
   "source": [
    "# bboxes_df['label_tp'] = bboxes_df['label_sp'].apply(lambda x: '/home/chenyi/workspace/yolov5/datasets/dadet100kv4_1_june/labels/{0}/{1}'.format(Path(x).parts[-2], Path(x).name))"
   ]
  },
  {
   "cell_type": "code",
   "execution_count": 175,
   "id": "a92db8c8-ed81-4ba0-b4a7-761f9dc4cdc2",
   "metadata": {},
   "outputs": [],
   "source": [
    "# bboxes_df['img_tp'] = bboxes_df['img_sp'].apply(lambda x: '/home/chenyi/workspace/yolov5/datasets/dadet100kv4_1_june/images/{0}/{1}'.format(Path(x).parts[-2], Path(x).name))"
   ]
  },
  {
   "cell_type": "code",
   "execution_count": 153,
   "id": "95fb1e92-5ea9-4dc0-b943-1d364d28eb88",
   "metadata": {},
   "outputs": [],
   "source": [
    "# bboxes_df['mode'] = bboxes_df['label_tp'].apply(lambda x: Path(x).parts[-2])"
   ]
  },
  {
   "cell_type": "code",
   "execution_count": 159,
   "id": "5a52f44c-de36-4159-b0d0-613998ed1730",
   "metadata": {},
   "outputs": [],
   "source": [
    "bboxes_df['img_sp'] = bboxes_df['label_tp'].apply(lambda x: f'/home/chenyi/workspace/dataset/data//{x}')\n",
    "bboxes_df['img_sp'] = bboxes_df['img_sp'].apply(lambda x: x.replace('.txt', '.jpg'))"
   ]
  },
  {
   "cell_type": "code",
   "execution_count": 154,
   "id": "cd130190-e3db-4786-8ccf-90e72c4ed22d",
   "metadata": {},
   "outputs": [],
   "source": [
    "# bboxes_df['label_sp'] = bboxes_df['label_tp'].apply(lambda x: os.readlink(x))"
   ]
  },
  {
   "cell_type": "code",
   "execution_count": null,
   "id": "69d6f277-25d8-44e8-bd4d-bd25eb7f2e53",
   "metadata": {},
   "outputs": [],
   "source": []
  },
  {
   "cell_type": "markdown",
   "id": "0f618532-2042-462d-82fa-adad245148f5",
   "metadata": {},
   "source": [
    "#### 获取宽高"
   ]
  },
  {
   "cell_type": "code",
   "execution_count": 31,
   "id": "514f35b7-9859-4ed6-a257-0d446d5a4d98",
   "metadata": {},
   "outputs": [],
   "source": [
    "folder_name = 'gallery2mv6'"
   ]
  },
  {
   "cell_type": "code",
   "execution_count": 32,
   "id": "99c00b25-a173-4f9f-aa4c-71a33fbdc181",
   "metadata": {},
   "outputs": [
    {
     "data": {
      "text/plain": [
       "86170"
      ]
     },
     "execution_count": 32,
     "metadata": {},
     "output_type": "execute_result"
    }
   ],
   "source": [
    "root_dataset = Path(f'/home/chenyi/workspace/yolov5/datasets/gallery_train/{folder_name}')\n",
    "imgs_list = glob.glob(str(root_dataset /'images/*/*.jpg'))\n",
    "len(imgs_list)"
   ]
  },
  {
   "cell_type": "code",
   "execution_count": 33,
   "id": "443e1a56-c6a4-4539-85fa-4fcdbbf9627f",
   "metadata": {},
   "outputs": [],
   "source": [
    "imgs_df = pd.DataFrame()\n",
    "imgs_df['img_sp'] = imgs_list\n",
    "imgs_df['stem'] = imgs_df['img_sp'].apply(lambda x: Path(x).stem)"
   ]
  },
  {
   "cell_type": "code",
   "execution_count": 34,
   "id": "7221aba9-d86a-4411-b089-77beef319f4a",
   "metadata": {},
   "outputs": [],
   "source": [
    "stem2img_sp = get_list2dict(imgs_df['stem'].values, imgs_df['img_sp'].values)"
   ]
  },
  {
   "cell_type": "code",
   "execution_count": 35,
   "id": "ced524a7-8b5f-432b-8839-4f82dca6f2a8",
   "metadata": {},
   "outputs": [
    {
     "data": {
      "text/html": [
       "<div>\n",
       "<style scoped>\n",
       "    .dataframe tbody tr th:only-of-type {\n",
       "        vertical-align: middle;\n",
       "    }\n",
       "\n",
       "    .dataframe tbody tr th {\n",
       "        vertical-align: top;\n",
       "    }\n",
       "\n",
       "    .dataframe thead th {\n",
       "        text-align: right;\n",
       "    }\n",
       "</style>\n",
       "<table border=\"1\" class=\"dataframe\">\n",
       "  <thead>\n",
       "    <tr style=\"text-align: right;\">\n",
       "      <th></th>\n",
       "      <th>label_pred</th>\n",
       "      <th>bx1</th>\n",
       "      <th>bx2</th>\n",
       "      <th>bx3</th>\n",
       "      <th>bx4</th>\n",
       "      <th>bbox_ind</th>\n",
       "      <th>label_sp</th>\n",
       "      <th>stem</th>\n",
       "    </tr>\n",
       "  </thead>\n",
       "  <tbody>\n",
       "    <tr>\n",
       "      <th>0</th>\n",
       "      <td>0</td>\n",
       "      <td>0.44003</td>\n",
       "      <td>0.904297</td>\n",
       "      <td>0.13943</td>\n",
       "      <td>0.060547</td>\n",
       "      <td>0</td>\n",
       "      <td>/home/chenyi/workspace/yolov5/datasets/gallery...</td>\n",
       "      <td>551df69f15ca760f19dd6f40bfda2aa7</td>\n",
       "    </tr>\n",
       "  </tbody>\n",
       "</table>\n",
       "</div>"
      ],
      "text/plain": [
       "   label_pred      bx1       bx2      bx3       bx4  bbox_ind  \\\n",
       "0           0  0.44003  0.904297  0.13943  0.060547         0   \n",
       "\n",
       "                                            label_sp  \\\n",
       "0  /home/chenyi/workspace/yolov5/datasets/gallery...   \n",
       "\n",
       "                               stem  \n",
       "0  551df69f15ca760f19dd6f40bfda2aa7  "
      ]
     },
     "execution_count": 35,
     "metadata": {},
     "output_type": "execute_result"
    }
   ],
   "source": [
    "bboxes_df.head(1)"
   ]
  },
  {
   "cell_type": "code",
   "execution_count": 36,
   "id": "8e31064e-5c10-455d-a9ce-c02db5e0ea1d",
   "metadata": {},
   "outputs": [],
   "source": [
    "bboxes_df['img_sp'] = bboxes_df['stem'].map(stem2img_sp)"
   ]
  },
  {
   "cell_type": "code",
   "execution_count": 37,
   "id": "629380be-b185-4e47-a0cc-896eac07ba34",
   "metadata": {},
   "outputs": [
    {
     "name": "stderr",
     "output_type": "stream",
     "text": [
      " ... (more hidden) ...\n"
     ]
    }
   ],
   "source": [
    "w_list = []\n",
    "h_list = []\n",
    "for img_sp in tqdm(bboxes_df['img_sp'].values):\n",
    "    w, h = Image.open(img_sp).size\n",
    "    w_list.append(w)\n",
    "    h_list.append(h)\n",
    "    # break"
   ]
  },
  {
   "cell_type": "code",
   "execution_count": 38,
   "id": "528b6a40-2c43-4a4e-9621-73d4b0f02e8e",
   "metadata": {},
   "outputs": [],
   "source": [
    "bboxes_df['width'] = w_list\n",
    "bboxes_df['height'] = h_list"
   ]
  },
  {
   "cell_type": "code",
   "execution_count": 43,
   "id": "032e1e34-af75-4718-bf20-b1bc22586fb6",
   "metadata": {},
   "outputs": [],
   "source": [
    "# bboxes_df.to_csv('/nas/chenyi/datasets_nas/csv_dataset/gallery/gallery2m_v6_bboxes_df.csv', index=False)\n"
   ]
  },
  {
   "cell_type": "code",
   "execution_count": null,
   "id": "943c5846-6ccc-4a5b-896f-2c938f7bfe82",
   "metadata": {},
   "outputs": [],
   "source": []
  },
  {
   "cell_type": "markdown",
   "id": "bc443b5c-4b7b-45dc-8b2d-d93e13d56cc2",
   "metadata": {},
   "source": [
    "### 裁切crop图片"
   ]
  },
  {
   "cell_type": "code",
   "execution_count": 39,
   "id": "509482a7-7af8-41e6-839f-458b342090bc",
   "metadata": {},
   "outputs": [],
   "source": [
    "sys.path.append('../../')\n",
    "from utils.bbox.conversation import bbox_yolo2voc"
   ]
  },
  {
   "cell_type": "code",
   "execution_count": 40,
   "id": "7faae669-36dd-4de8-a9cd-cda25b231b4c",
   "metadata": {},
   "outputs": [],
   "source": [
    "def bbox_yolo2voc_paral(line):\n",
    "    bbox = line[:4]\n",
    "    w, h = line[4], line[5]\n",
    "    x_c = float(bx[0])*w\n",
    "    y_c = float(bx[1])*h\n",
    "    wbbox = float(bx[2])*w\n",
    "    hbbox = float(bx[3])*h\n",
    "    x1 = int(x_c - wbbox/2)\n",
    "    y1 = int(y_c - hbbox/2)\n",
    "    x2 = int(x_c + wbbox/2)\n",
    "    y2 = int(y_c + hbbox/2)\n",
    "    bbox = [x1, y1, x2, y2]\n",
    "    bboxes_list.append(bbox4)\n",
    "    # return bbox"
   ]
  },
  {
   "cell_type": "code",
   "execution_count": null,
   "id": "d8166b47-8dc3-4864-a8d0-1982a864ca1f",
   "metadata": {},
   "outputs": [],
   "source": []
  },
  {
   "cell_type": "code",
   "execution_count": 41,
   "id": "95d880c2-d247-43f8-a9f2-6eefac267a2e",
   "metadata": {},
   "outputs": [
    {
     "name": "stderr",
     "output_type": "stream",
     "text": [
      " ... (more hidden) ...\n"
     ]
    }
   ],
   "source": [
    "bboxes_list = []\n",
    "for ind,row in tqdm(bboxes_df.iterrows()):\n",
    "    bbox7 = row.loc[['label_pred', 'bx1', 'bx2', 'bx3', 'bx4', 'width', 'height']].values.tolist()\n",
    "    bbox5 = bbox7[:6]\n",
    "    bbox4 = bbox_yolo2voc(bbox5[1:], bbox7[5], bbox7[6])\n",
    "    # bbox5_str = '{0:.0f} {1:.6f} {2:.6f} {3:.6f} {4:.6f}\\n'.format(*bbox5)\n",
    "    bboxes_list.append(bbox4)\n",
    "    # break"
   ]
  },
  {
   "cell_type": "code",
   "execution_count": null,
   "id": "dbcebc40-139f-42de-8920-dee1a62a5844",
   "metadata": {},
   "outputs": [],
   "source": [
    "# bboxes_list = []\n",
    "# _ = bboxes_df."
   ]
  },
  {
   "cell_type": "code",
   "execution_count": 42,
   "id": "afa79499-8c3c-4d9c-a08d-0507462562e1",
   "metadata": {},
   "outputs": [],
   "source": [
    "bboxes_np = np.array(bboxes_list)"
   ]
  },
  {
   "cell_type": "code",
   "execution_count": 86,
   "id": "aadf720e-c711-4848-8359-25f6d4f39426",
   "metadata": {},
   "outputs": [
    {
     "data": {
      "text/plain": [
       "295916"
      ]
     },
     "execution_count": 86,
     "metadata": {},
     "output_type": "execute_result"
    }
   ],
   "source": [
    "len(bboxes_np[:,0])"
   ]
  },
  {
   "cell_type": "code",
   "execution_count": 44,
   "id": "ea6c9c79-7e7d-4e3c-ad3e-642f98aed37d",
   "metadata": {},
   "outputs": [],
   "source": [
    "bboxes_df['bx1'] = bboxes_np[:, 0]\n",
    "bboxes_df['bx2'] = bboxes_np[:, 1]\n",
    "bboxes_df['bx3'] = bboxes_np[:, 2]\n",
    "bboxes_df['bx4'] = bboxes_np[:, 3]"
   ]
  },
  {
   "cell_type": "code",
   "execution_count": 45,
   "id": "c795824a-8d85-47c3-89a4-da66ec8be10e",
   "metadata": {},
   "outputs": [],
   "source": [
    "bboxes_df['bbox_ind'] = bboxes_df['bbox_ind'].astype(int)"
   ]
  },
  {
   "cell_type": "code",
   "execution_count": null,
   "id": "5eeff74b-522e-495a-bdee-0107b72a66fd",
   "metadata": {},
   "outputs": [],
   "source": []
  },
  {
   "cell_type": "code",
   "execution_count": 46,
   "id": "8347175d-fa17-4c69-ab32-70c9f53b3c36",
   "metadata": {},
   "outputs": [],
   "source": [
    "bboxes_df['img_train_sp'] = bboxes_df['img_sp'].apply(lambda x: os.readlink(x))"
   ]
  },
  {
   "cell_type": "code",
   "execution_count": 47,
   "id": "619d49ee-ec53-49ff-aaed-b4ad34cf2d6a",
   "metadata": {},
   "outputs": [],
   "source": [
    "bboxes_df['link'] =  bboxes_df['img_train_sp'].apply(lambda x: Path(x).is_symlink())"
   ]
  },
  {
   "cell_type": "code",
   "execution_count": 48,
   "id": "91ea4cf3-1833-43bb-8ee0-73a0a9b0c9f4",
   "metadata": {},
   "outputs": [],
   "source": [
    "bboxes_link_df = bboxes_df[bboxes_df['link']]"
   ]
  },
  {
   "cell_type": "code",
   "execution_count": 49,
   "id": "082f3303-a211-4196-ab21-03c1368eb414",
   "metadata": {},
   "outputs": [],
   "source": [
    "bboxes_df.loc[bboxes_link_df.index, 'img_train_sp'] = bboxes_link_df['img_train_sp'].apply(lambda x: os.readlink(x))"
   ]
  },
  {
   "cell_type": "code",
   "execution_count": 50,
   "id": "6926ea52-6c79-4cc4-adb8-a7f1b55c3173",
   "metadata": {},
   "outputs": [],
   "source": [
    "bboxes_df['link'] =  bboxes_df['img_train_sp'].apply(lambda x: Path(x).is_symlink())"
   ]
  },
  {
   "cell_type": "code",
   "execution_count": 51,
   "id": "2ab08d8d-0b0b-47b0-a89a-59cc68531c7a",
   "metadata": {},
   "outputs": [],
   "source": [
    "bboxes_df.sort_values('stem', inplace=True)"
   ]
  },
  {
   "cell_type": "code",
   "execution_count": 55,
   "id": "5b4a2877-55e7-4df8-88be-88bd2092ec91",
   "metadata": {},
   "outputs": [],
   "source": [
    "bboxes_df.reset_index(drop=True, inplace=True)"
   ]
  },
  {
   "cell_type": "code",
   "execution_count": 86,
   "id": "684952ba-b3d4-4c31-9c30-f5eb86afd782",
   "metadata": {},
   "outputs": [],
   "source": [
    "bboxes_df.to_csv('/nas/chenyi/datasets_nas/csv_dataset/gallery/gallery2m_v6_crop_df.csv', index=False)"
   ]
  },
  {
   "cell_type": "code",
   "execution_count": 100,
   "id": "d49acb49-3695-4f7b-b461-6321364a90bc",
   "metadata": {},
   "outputs": [
    {
     "data": {
      "text/plain": [
       "label_pred\n",
       "0    61668\n",
       "1    20515\n",
       "2    28089\n",
       "3    18702\n",
       "4     7625\n",
       "5     7367\n",
       "dtype: int64"
      ]
     },
     "execution_count": 100,
     "metadata": {},
     "output_type": "execute_result"
    }
   ],
   "source": [
    "haowei_df.value_counts('label_pred').sort_index()"
   ]
  },
  {
   "cell_type": "code",
   "execution_count": 99,
   "id": "1b1bf001-1c70-414b-b430-505fba69bed7",
   "metadata": {},
   "outputs": [],
   "source": [
    "haowei_df = bboxes_df[bboxes_df['source']=='haowei34k']"
   ]
  },
  {
   "cell_type": "code",
   "execution_count": 68,
   "id": "068f34b8-a89d-41c5-8a7d-75486c1ac8ed",
   "metadata": {},
   "outputs": [],
   "source": [
    "bboxes_df['source'] = bboxes_df['img_train_sp'].apply(lambda x: Path(x).parts[-3])"
   ]
  },
  {
   "cell_type": "code",
   "execution_count": 84,
   "id": "8bf2ad36-f386-4776-a17f-eece98138200",
   "metadata": {},
   "outputs": [],
   "source": [
    "bboxes_df['mode'] = bboxes_df['label_sp'].apply(lambda x: Path(x).parts[-2])"
   ]
  },
  {
   "cell_type": "code",
   "execution_count": 85,
   "id": "6d0a961a-c2f8-42d3-94e5-5a13c5a6f5d6",
   "metadata": {},
   "outputs": [
    {
     "data": {
      "text/plain": [
       "mode\n",
       "train    261668\n",
       "val       34248\n",
       "dtype: int64"
      ]
     },
     "execution_count": 85,
     "metadata": {},
     "output_type": "execute_result"
    }
   ],
   "source": [
    "bboxes_df.value_counts('mode')"
   ]
  },
  {
   "cell_type": "code",
   "execution_count": 73,
   "id": "6c427753-6134-483f-83c9-e5de1e2c7cf8",
   "metadata": {},
   "outputs": [],
   "source": [
    "bboxes_df.loc[bboxes_df[bboxes_df['source']=='images'].index, 'source'] = 'haowei34k'"
   ]
  },
  {
   "cell_type": "code",
   "execution_count": 95,
   "id": "7f8e116b-957e-4d05-8f56-5e5627fa75dd",
   "metadata": {},
   "outputs": [
    {
     "data": {
      "text/plain": [
       "Index(['label_pred', 'bx1', 'bx2', 'bx3', 'bx4', 'bbox_ind', 'label_sp',\n",
       "       'stem', 'img_sp', 'width', 'height', 'img_train_sp', 'link', 'source',\n",
       "       'mode'],\n",
       "      dtype='object')"
      ]
     },
     "execution_count": 95,
     "metadata": {},
     "output_type": "execute_result"
    }
   ],
   "source": [
    "bboxes_df.columns"
   ]
  },
  {
   "cell_type": "code",
   "execution_count": 94,
   "id": "0cdcb9f4-6633-4331-a90f-b519828cde73",
   "metadata": {},
   "outputs": [],
   "source": [
    "import os\n",
    "write_df = bboxes_df"
   ]
  },
  {
   "cell_type": "code",
   "execution_count": 92,
   "id": "e1381abe-052c-40a1-9dca-659be16d1ce5",
   "metadata": {},
   "outputs": [
    {
     "data": {
      "text/plain": [
       "6"
      ]
     },
     "execution_count": 92,
     "metadata": {},
     "output_type": "execute_result"
    }
   ],
   "source": [
    "bbox_ind"
   ]
  },
  {
   "cell_type": "code",
   "execution_count": 97,
   "id": "32afaa47-ef57-4098-8b2c-94d2cd822bd5",
   "metadata": {},
   "outputs": [
    {
     "name": "stderr",
     "output_type": "stream",
     "text": [
      " ... (more hidden) ...\n"
     ]
    },
    {
     "ename": "KeyboardInterrupt",
     "evalue": "",
     "output_type": "error",
     "traceback": [
      "\u001b[0;31m---------------------------------------------------------------------------\u001b[0m",
      "\u001b[0;31mKeyboardInterrupt\u001b[0m                         Traceback (most recent call last)",
      "Input \u001b[0;32mIn [97]\u001b[0m, in \u001b[0;36m<cell line: 9>\u001b[0;34m()\u001b[0m\n\u001b[1;32m     19\u001b[0m \u001b[38;5;28;01mif\u001b[39;00m tp\u001b[38;5;241m.\u001b[39mis_file():\n\u001b[1;32m     20\u001b[0m     \u001b[38;5;28;01mcontinue\u001b[39;00m\n\u001b[0;32m---> 21\u001b[0m \u001b[38;5;28;01mif\u001b[39;00m \u001b[38;5;129;01mnot\u001b[39;00m \u001b[43mtp\u001b[49m\u001b[38;5;241;43m.\u001b[39;49m\u001b[43mparent\u001b[49m\u001b[38;5;241;43m.\u001b[39;49m\u001b[43mis_dir\u001b[49m\u001b[43m(\u001b[49m\u001b[43m)\u001b[49m:\n\u001b[1;32m     22\u001b[0m     tp\u001b[38;5;241m.\u001b[39mparent\u001b[38;5;241m.\u001b[39mmkdir(parents\u001b[38;5;241m=\u001b[39m\u001b[38;5;28;01mTrue\u001b[39;00m, exist_ok\u001b[38;5;241m=\u001b[39m\u001b[38;5;28;01mTrue\u001b[39;00m)\n\u001b[1;32m     23\u001b[0m \u001b[38;5;28;01mtry\u001b[39;00m:\n",
      "File \u001b[0;32m/usr/local/miniconda3/envs/torch_cy/lib/python3.8/pathlib.py:1422\u001b[0m, in \u001b[0;36mPath.is_dir\u001b[0;34m(self)\u001b[0m\n\u001b[1;32m   1418\u001b[0m \u001b[38;5;124;03m\"\"\"\u001b[39;00m\n\u001b[1;32m   1419\u001b[0m \u001b[38;5;124;03mWhether this path is a directory.\u001b[39;00m\n\u001b[1;32m   1420\u001b[0m \u001b[38;5;124;03m\"\"\"\u001b[39;00m\n\u001b[1;32m   1421\u001b[0m \u001b[38;5;28;01mtry\u001b[39;00m:\n\u001b[0;32m-> 1422\u001b[0m     \u001b[38;5;28;01mreturn\u001b[39;00m S_ISDIR(\u001b[38;5;28;43mself\u001b[39;49m\u001b[38;5;241;43m.\u001b[39;49m\u001b[43mstat\u001b[49m\u001b[43m(\u001b[49m\u001b[43m)\u001b[49m\u001b[38;5;241m.\u001b[39mst_mode)\n\u001b[1;32m   1423\u001b[0m \u001b[38;5;28;01mexcept\u001b[39;00m \u001b[38;5;167;01mOSError\u001b[39;00m \u001b[38;5;28;01mas\u001b[39;00m e:\n\u001b[1;32m   1424\u001b[0m     \u001b[38;5;28;01mif\u001b[39;00m \u001b[38;5;129;01mnot\u001b[39;00m _ignore_error(e):\n",
      "File \u001b[0;32m/usr/local/miniconda3/envs/torch_cy/lib/python3.8/pathlib.py:1198\u001b[0m, in \u001b[0;36mPath.stat\u001b[0;34m(self)\u001b[0m\n\u001b[1;32m   1193\u001b[0m \u001b[38;5;28;01mdef\u001b[39;00m \u001b[38;5;21mstat\u001b[39m(\u001b[38;5;28mself\u001b[39m):\n\u001b[1;32m   1194\u001b[0m     \u001b[38;5;124;03m\"\"\"\u001b[39;00m\n\u001b[1;32m   1195\u001b[0m \u001b[38;5;124;03m    Return the result of the stat() system call on this path, like\u001b[39;00m\n\u001b[1;32m   1196\u001b[0m \u001b[38;5;124;03m    os.stat() does.\u001b[39;00m\n\u001b[1;32m   1197\u001b[0m \u001b[38;5;124;03m    \"\"\"\u001b[39;00m\n\u001b[0;32m-> 1198\u001b[0m     \u001b[38;5;28;01mreturn\u001b[39;00m \u001b[38;5;28;43mself\u001b[39;49m\u001b[38;5;241;43m.\u001b[39;49m\u001b[43m_accessor\u001b[49m\u001b[38;5;241;43m.\u001b[39;49m\u001b[43mstat\u001b[49m\u001b[43m(\u001b[49m\u001b[38;5;28;43mself\u001b[39;49m\u001b[43m)\u001b[49m\n",
      "\u001b[0;31mKeyboardInterrupt\u001b[0m: "
     ]
    }
   ],
   "source": [
    "import shutil\n",
    "import cv2\n",
    "\n",
    "# root_source = Path('/nas/chenyi/datasets_cls/gallery_detect/gallery_oss/gall7kv6/images/')\n",
    "root_target = Path('/nas/chenyi/datasets_nas/classification/gallery2m_v6_bakeup')\n",
    "except_list = []\n",
    "folder_num = 256\n",
    "folder_counter = [0]*6\n",
    "for ind, row in tqdm(write_df.iterrows()):\n",
    "    sp = Path(row['img_train_sp'])\n",
    "    bbox = row[['bx1', 'bx2', 'bx3', 'bx4']].values\n",
    "    bbox_ind = row['bbox_ind']\n",
    "    catg = int(row['label_pred'])\n",
    "    mode = row['mode']\n",
    "    source = row['source']\n",
    "    name = '{0}_{1}.jpg'.format(row['stem'], bbox_ind)\n",
    "    tp = root_target /source /mode/ str(catg) /str(folder_counter[catg]//folder_num) /name\n",
    "\n",
    "    if tp.is_file():\n",
    "        continue\n",
    "    if not tp.parent.is_dir():\n",
    "        tp.parent.mkdir(parents=True, exist_ok=True)\n",
    "    try:\n",
    "        img_cv = cv2.imread(str(sp))\n",
    "        img_crop =  img_cv[bbox[1]:bbox[3], bbox[0]:bbox[2], :]\n",
    "        cv2.imwrite(str(tp), img_crop)\n",
    "        folder_counter[catg] += 1\n",
    "    except:\n",
    "        except_list.append(sp)\n",
    "    # break"
   ]
  },
  {
   "cell_type": "code",
   "execution_count": 90,
   "id": "6052cb79-bba2-4112-b2de-2e39d924ba97",
   "metadata": {},
   "outputs": [
    {
     "name": "stdout",
     "output_type": "stream",
     "text": [
      "train\n"
     ]
    }
   ],
   "source": [
    "!ls '/nas/chenyi/datasets_nas/classification/gallery2m_v6_bakeup/data_fashionpedia/train/3/0/'"
   ]
  },
  {
   "cell_type": "code",
   "execution_count": null,
   "id": "f1cf7e7b-2988-44da-a93d-ebdba77ee323",
   "metadata": {},
   "outputs": [],
   "source": []
  },
  {
   "cell_type": "code",
   "execution_count": null,
   "id": "df695e29-a1cb-41ae-8841-e0c6ef3973cc",
   "metadata": {},
   "outputs": [],
   "source": []
  },
  {
   "cell_type": "code",
   "execution_count": null,
   "id": "975294d5-764b-494c-b9c1-73bb97db06c3",
   "metadata": {},
   "outputs": [],
   "source": []
  },
  {
   "cell_type": "markdown",
   "id": "ccb9c20f-8bc5-4c9f-a7d6-bff7121e9c5a",
   "metadata": {
    "tags": []
   },
   "source": [
    "### target label"
   ]
  },
  {
   "cell_type": "code",
   "execution_count": 26,
   "id": "81692d25-007f-43eb-91ed-7ca255d754db",
   "metadata": {},
   "outputs": [
    {
     "name": "stdout",
     "output_type": "stream",
     "text": [
      "\u001b[01;34m/home/chenyi/workspace/dataset/labels/labels6/\u001b[00m\n",
      "├── \u001b[01;34mfashionpedia\u001b[00m\n",
      "│   └── \u001b[01;34mlabels\u001b[00m\n",
      "├── \u001b[01;34mhaowei34k\u001b[00m\n",
      "│   └── \u001b[01;34mlabels\u001b[00m\n",
      "├── \u001b[01;34mlabels_exp\u001b[00m\n",
      "│   ├── \u001b[01;34mdadetGallv4_del\u001b[00m\n",
      "│   └── \u001b[01;34mdelBbox\u001b[00m\n",
      "├── \u001b[01;34mtrain\u001b[00m\n",
      "├── \u001b[01;34mval\u001b[00m\n",
      "└── \u001b[01;34mwardrobe500k\u001b[00m\n",
      "    └── \u001b[01;34mlabels10k_20220629\u001b[00m\n",
      "\n",
      "11 directories\n"
     ]
    }
   ],
   "source": [
    "!tree -d -L 2 /home/chenyi/workspace/dataset/labels/labels6/"
   ]
  },
  {
   "cell_type": "code",
   "execution_count": 29,
   "id": "00557381-e288-45ce-afb8-1e94089ff7a0",
   "metadata": {},
   "outputs": [
    {
     "name": "stdout",
     "output_type": "stream",
     "text": [
      "dada_det  labels6\n"
     ]
    }
   ],
   "source": [
    "!ls /nas/chenyi/datasets_nas/labels/"
   ]
  },
  {
   "cell_type": "code",
   "execution_count": 31,
   "id": "f1f90788-53bd-425c-bd30-6340f6b8337c",
   "metadata": {},
   "outputs": [],
   "source": [
    "root_labels = Path('/nas/chenyi/datasets_nas/labels/wardrobe500k/wardrobe20k_labels6')"
   ]
  },
  {
   "cell_type": "code",
   "execution_count": 30,
   "id": "06eeae38-2ec9-4606-8996-ddd393f85011",
   "metadata": {},
   "outputs": [],
   "source": [
    "# !mkdir -p /nas/chenyi/datasets_nas/labels/wardrobe500k/wardrobe20k_labels6"
   ]
  },
  {
   "cell_type": "code",
   "execution_count": 412,
   "id": "247d71f0-bfea-41c5-b88e-504840e806b9",
   "metadata": {},
   "outputs": [],
   "source": [
    "# df = pd.read_csv('./data/exps/dadetGallv4_del.csv')\n",
    "df = bboxes_df"
   ]
  },
  {
   "cell_type": "code",
   "execution_count": 413,
   "id": "7a5d56ab-048c-48a8-804a-6e66e8b7986a",
   "metadata": {},
   "outputs": [
    {
     "data": {
      "text/html": [
       "<div>\n",
       "<style scoped>\n",
       "    .dataframe tbody tr th:only-of-type {\n",
       "        vertical-align: middle;\n",
       "    }\n",
       "\n",
       "    .dataframe tbody tr th {\n",
       "        vertical-align: top;\n",
       "    }\n",
       "\n",
       "    .dataframe thead th {\n",
       "        text-align: right;\n",
       "    }\n",
       "</style>\n",
       "<table border=\"1\" class=\"dataframe\">\n",
       "  <thead>\n",
       "    <tr style=\"text-align: right;\">\n",
       "      <th></th>\n",
       "      <th>label_pred</th>\n",
       "      <th>bx1</th>\n",
       "      <th>bx2</th>\n",
       "      <th>bx3</th>\n",
       "      <th>bx4</th>\n",
       "      <th>bbox_ind</th>\n",
       "      <th>label_sp</th>\n",
       "      <th>stem</th>\n",
       "      <th>label_tp</th>\n",
       "      <th>mode</th>\n",
       "      <th>img_sp</th>\n",
       "      <th>source</th>\n",
       "      <th>img_tp</th>\n",
       "    </tr>\n",
       "  </thead>\n",
       "  <tbody>\n",
       "    <tr>\n",
       "      <th>2</th>\n",
       "      <td>3</td>\n",
       "      <td>0.828336</td>\n",
       "      <td>0.753906</td>\n",
       "      <td>0.103448</td>\n",
       "      <td>0.101562</td>\n",
       "      <td>2</td>\n",
       "      <td>/home/chenyi/workspace/dataset/labels/labels6/...</td>\n",
       "      <td>551df69f15ca760f19dd6f40bfda2aa7</td>\n",
       "      <td>/home/chenyi/workspace/yolov5/datasets/dadet10...</td>\n",
       "      <td>train</td>\n",
       "      <td>/home/chenyi/workspace/dataset/data/data_fashi...</td>\n",
       "      <td>data_fashionpedia</td>\n",
       "      <td>/home/chenyi/workspace/yolov5/datasets/dadet10...</td>\n",
       "    </tr>\n",
       "  </tbody>\n",
       "</table>\n",
       "</div>"
      ],
      "text/plain": [
       "   label_pred       bx1       bx2       bx3       bx4  bbox_ind  \\\n",
       "2           3  0.828336  0.753906  0.103448  0.101562         2   \n",
       "\n",
       "                                            label_sp  \\\n",
       "2  /home/chenyi/workspace/dataset/labels/labels6/...   \n",
       "\n",
       "                               stem  \\\n",
       "2  551df69f15ca760f19dd6f40bfda2aa7   \n",
       "\n",
       "                                            label_tp   mode  \\\n",
       "2  /home/chenyi/workspace/yolov5/datasets/dadet10...  train   \n",
       "\n",
       "                                              img_sp             source  \\\n",
       "2  /home/chenyi/workspace/dataset/data/data_fashi...  data_fashionpedia   \n",
       "\n",
       "                                              img_tp  \n",
       "2  /home/chenyi/workspace/yolov5/datasets/dadet10...  "
      ]
     },
     "execution_count": 413,
     "metadata": {},
     "output_type": "execute_result"
    }
   ],
   "source": [
    "df.head(1)"
   ]
  },
  {
   "cell_type": "code",
   "execution_count": 414,
   "id": "0c8abae2-ffff-430b-a58b-170eb3806c53",
   "metadata": {},
   "outputs": [
    {
     "data": {
      "text/plain": [
       "306304"
      ]
     },
     "execution_count": 414,
     "metadata": {},
     "output_type": "execute_result"
    }
   ],
   "source": [
    "len(df)"
   ]
  },
  {
   "cell_type": "code",
   "execution_count": 517,
   "id": "a2168605-c0c1-401a-b7c6-1c86ed97aa95",
   "metadata": {},
   "outputs": [
    {
     "data": {
      "text/plain": [
       "label_pred\n",
       "0     59841\n",
       "1     15162\n",
       "2    107728\n",
       "3     49284\n",
       "4     22571\n",
       "5     51718\n",
       "dtype: int64"
      ]
     },
     "execution_count": 517,
     "metadata": {},
     "output_type": "execute_result"
    }
   ],
   "source": [
    "df.value_counts('label_pred').sort_index()"
   ]
  },
  {
   "cell_type": "code",
   "execution_count": null,
   "id": "9e819294-4c4b-43f0-8679-149dda72047f",
   "metadata": {},
   "outputs": [],
   "source": []
  },
  {
   "cell_type": "code",
   "execution_count": null,
   "id": "9baa695b-4137-4f0d-abba-a95b7c38bd47",
   "metadata": {},
   "outputs": [],
   "source": []
  },
  {
   "cell_type": "markdown",
   "id": "b922a49e-e0ca-4dc8-88d2-adbf67262d8e",
   "metadata": {
    "tags": []
   },
   "source": [
    "#### source label path"
   ]
  },
  {
   "cell_type": "code",
   "execution_count": 32,
   "id": "117a94fd-830e-4f52-b0df-2b5bf1cee564",
   "metadata": {},
   "outputs": [],
   "source": [
    "!ls $root_labels"
   ]
  },
  {
   "cell_type": "code",
   "execution_count": null,
   "id": "bbeb0fac-5bb3-4595-9bb1-32eb37ec3d08",
   "metadata": {},
   "outputs": [],
   "source": []
  },
  {
   "cell_type": "code",
   "execution_count": 534,
   "id": "69701ef5-7405-4093-bb8b-556caac25cf1",
   "metadata": {},
   "outputs": [],
   "source": [
    "root = '/home/chenyi/workspace/dataset/labels/query6/dadetv5_query/labels'"
   ]
  },
  {
   "cell_type": "code",
   "execution_count": 535,
   "id": "9b6d19d1-47a0-4187-a165-ee80acecbbdc",
   "metadata": {},
   "outputs": [],
   "source": [
    "df['label_sp'] = df.apply(lambda row: Path('{0}/{1}/{2}.txt'.format(root_labels, row['mode'], row['stem'])), axis=1)"
   ]
  },
  {
   "cell_type": "code",
   "execution_count": null,
   "id": "dd10c26b-7b22-4a53-b480-35f0740dd57e",
   "metadata": {},
   "outputs": [],
   "source": []
  },
  {
   "cell_type": "code",
   "execution_count": null,
   "id": "5d493ec6-17f8-45c9-b7fc-928982f34c4b",
   "metadata": {},
   "outputs": [],
   "source": []
  },
  {
   "cell_type": "markdown",
   "id": "ae551ebb-adcd-43ef-a074-16f4d2f2a320",
   "metadata": {
    "tags": []
   },
   "source": [
    "#### 生成txt"
   ]
  },
  {
   "cell_type": "code",
   "execution_count": 10,
   "id": "7abe5cbf-ef96-461a-a35a-40592f069cc4",
   "metadata": {},
   "outputs": [],
   "source": [
    "sys.path.append('../../')"
   ]
  },
  {
   "cell_type": "code",
   "execution_count": 11,
   "id": "3a7be887-a584-499d-ae17-371372d74315",
   "metadata": {},
   "outputs": [],
   "source": [
    "from utils.bbox.conversation import bbox_coco2voc,bbox_voc2yolo,bbox_yolo2voc"
   ]
  },
  {
   "cell_type": "code",
   "execution_count": null,
   "id": "d630ff2a-53e3-46b7-afbf-0aab56797574",
   "metadata": {},
   "outputs": [],
   "source": []
  },
  {
   "cell_type": "code",
   "execution_count": null,
   "id": "34b9d326-d77e-4a91-ba17-f85750564357",
   "metadata": {},
   "outputs": [],
   "source": []
  },
  {
   "cell_type": "code",
   "execution_count": 521,
   "id": "5a3f139f-a077-47cc-bfe8-60ba0ad6861e",
   "metadata": {},
   "outputs": [],
   "source": [
    "# df['label_model'] = df['label_model'].map(label2model)"
   ]
  },
  {
   "cell_type": "code",
   "execution_count": 12,
   "id": "ea01c88d-38ad-4449-89ff-cf88c4cf60ee",
   "metadata": {},
   "outputs": [],
   "source": [
    "df = bboxes_df"
   ]
  },
  {
   "cell_type": "code",
   "execution_count": 14,
   "id": "55bea9bb-a2c0-4e42-9703-e1846e166161",
   "metadata": {},
   "outputs": [
    {
     "data": {
      "text/html": [
       "<div>\n",
       "<style scoped>\n",
       "    .dataframe tbody tr th:only-of-type {\n",
       "        vertical-align: middle;\n",
       "    }\n",
       "\n",
       "    .dataframe tbody tr th {\n",
       "        vertical-align: top;\n",
       "    }\n",
       "\n",
       "    .dataframe thead th {\n",
       "        text-align: right;\n",
       "    }\n",
       "</style>\n",
       "<table border=\"1\" class=\"dataframe\">\n",
       "  <thead>\n",
       "    <tr style=\"text-align: right;\">\n",
       "      <th></th>\n",
       "      <th>xml_path</th>\n",
       "      <th>width</th>\n",
       "      <th>height</th>\n",
       "      <th>labelimg</th>\n",
       "      <th>bx1</th>\n",
       "      <th>bx2</th>\n",
       "      <th>bx3</th>\n",
       "      <th>bx4</th>\n",
       "      <th>stem</th>\n",
       "      <th>img_sp</th>\n",
       "      <th>label86</th>\n",
       "    </tr>\n",
       "  </thead>\n",
       "  <tbody>\n",
       "    <tr>\n",
       "      <th>0</th>\n",
       "      <td>/nas/chenyi/datasets_nas/wardrobe20k_labelimg/...</td>\n",
       "      <td>1080</td>\n",
       "      <td>1554</td>\n",
       "      <td>裙子</td>\n",
       "      <td>6</td>\n",
       "      <td>478</td>\n",
       "      <td>1080</td>\n",
       "      <td>1129</td>\n",
       "      <td>2017022320122485968</td>\n",
       "      <td>/nas/chenyi/datasets_nas/wardrobe20k_labelimg/...</td>\n",
       "      <td>4</td>\n",
       "    </tr>\n",
       "  </tbody>\n",
       "</table>\n",
       "</div>"
      ],
      "text/plain": [
       "                                            xml_path  width  height labelimg  \\\n",
       "0  /nas/chenyi/datasets_nas/wardrobe20k_labelimg/...   1080    1554       裙子   \n",
       "\n",
       "   bx1  bx2   bx3   bx4                 stem  \\\n",
       "0    6  478  1080  1129  2017022320122485968   \n",
       "\n",
       "                                              img_sp  label86  \n",
       "0  /nas/chenyi/datasets_nas/wardrobe20k_labelimg/...        4  "
      ]
     },
     "execution_count": 14,
     "metadata": {},
     "output_type": "execute_result"
    }
   ],
   "source": [
    "df.head(1)"
   ]
  },
  {
   "cell_type": "code",
   "execution_count": 17,
   "id": "78b73cc1-b12e-494d-a37d-a7020f335cf2",
   "metadata": {},
   "outputs": [],
   "source": [
    "df['label_model'] = df['label86'].values"
   ]
  },
  {
   "cell_type": "code",
   "execution_count": 20,
   "id": "3432dcb3-a661-4a0e-a776-2e79c6d50c80",
   "metadata": {},
   "outputs": [],
   "source": [
    "df.loc[df[df['label_model']==6].index, 'label_model'] = 2\n",
    "df.loc[df[df['label_model']==7].index, 'label_model'] = 3"
   ]
  },
  {
   "cell_type": "code",
   "execution_count": 21,
   "id": "cdc7f95a-77fc-4c77-909f-dd015c5d41dc",
   "metadata": {},
   "outputs": [
    {
     "data": {
      "text/plain": [
       "label_model\n",
       "0     574\n",
       "1     751\n",
       "2    8313\n",
       "3    4904\n",
       "4    4670\n",
       "5    1759\n",
       "dtype: int64"
      ]
     },
     "execution_count": 21,
     "metadata": {},
     "output_type": "execute_result"
    }
   ],
   "source": [
    "df.value_counts('label_model').sort_index()"
   ]
  },
  {
   "cell_type": "code",
   "execution_count": null,
   "id": "7b1e009f-13b4-491b-874c-464a7964cf7a",
   "metadata": {},
   "outputs": [],
   "source": []
  },
  {
   "cell_type": "code",
   "execution_count": 24,
   "id": "18c58e3d-420c-42d7-9b69-43ec16a913e0",
   "metadata": {},
   "outputs": [
    {
     "name": "stderr",
     "output_type": "stream",
     "text": [
      "20971it [00:04, 5067.98it/s]\n"
     ]
    }
   ],
   "source": [
    "# yolo\n",
    "bboxes_list = []\n",
    "for ind,row in tqdm(df.iterrows()):\n",
    "    bbox7 = row.loc[['label_model', 'bx1', 'bx2', 'bx3', 'bx4', 'width', 'height']].values.tolist()\n",
    "    bbox5 = bbox7[:6]\n",
    "    bbox5[1:] = bbox_voc2yolo(bbox5[1:], bbox7[5], bbox7[6])\n",
    "    bbox5_str = '{0:.0f} {1:.6f} {2:.6f} {3:.6f} {4:.6f}\\n'.format(*bbox5)\n",
    "    bboxes_list.append(bbox5_str)\n",
    "    # break"
   ]
  },
  {
   "cell_type": "code",
   "execution_count": 438,
   "id": "d324ff70-4de5-4acd-8641-8d66484e3104",
   "metadata": {},
   "outputs": [],
   "source": [
    "# voc2yolo\n",
    "# bboxes_list = []\n",
    "# for ind,row in tqdm(df.iterrows()):\n",
    "#     bbox7 = row.loc[['label_pred', 'bx1', 'bx2', 'bx3', 'bx4', 'width', 'height']].values.tolist()\n",
    "#     bbox5 = bbox7[:6]\n",
    "#     # bbox5[1:] = bbox_voc2yolo(bbox5[1:], bbox7[5], bbox7[6])\n",
    "#     bbox5_str = '{0:.0f} {1:.6f} {2:.6f} {3:.6f} {4:.6f}\\n'.format(*bbox5)\n",
    "#     bboxes_list.append(bbox5_str)\n",
    "#     # break"
   ]
  },
  {
   "cell_type": "code",
   "execution_count": 23,
   "id": "5bd550a6-9860-4752-bb91-24b9a915a960",
   "metadata": {},
   "outputs": [
    {
     "data": {
      "text/plain": [
       "'4 0.502778 0.517053 0.994444 0.418919\\n'"
      ]
     },
     "execution_count": 23,
     "metadata": {},
     "output_type": "execute_result"
    }
   ],
   "source": [
    "bboxes_list[-1]"
   ]
  },
  {
   "cell_type": "code",
   "execution_count": null,
   "id": "0aa6944a-22a4-4ec9-a44c-b7b239acef39",
   "metadata": {},
   "outputs": [],
   "source": []
  },
  {
   "cell_type": "code",
   "execution_count": 25,
   "id": "e1f3ac86-6d97-4e82-800e-a84458413e8f",
   "metadata": {},
   "outputs": [],
   "source": [
    "def write_txt(label_path, text):\n",
    "    # label_path, text = input_list[0], input_list[1]\n",
    "    label_path = Path(label_path)\n",
    "    p_parent = label_path.parent\n",
    "    if not p_parent.is_dir():\n",
    "        p_parent.mkdir(parents=True)\n",
    "    if not p_parent.is_file():\n",
    "        with open(label_path, 'a+') as f:\n",
    "            f.write(text)"
   ]
  },
  {
   "cell_type": "code",
   "execution_count": null,
   "id": "335f4f3d-43d5-4a41-ba01-3c4521a9d080",
   "metadata": {},
   "outputs": [],
   "source": []
  },
  {
   "cell_type": "code",
   "execution_count": 538,
   "id": "bba4f82c-a623-4df8-b5c5-c3423e846472",
   "metadata": {},
   "outputs": [
    {
     "data": {
      "text/plain": [
       "PosixPath('/home/chenyi/workspace/dataset/labels/query6/dadetv5_query/labels')"
      ]
     },
     "execution_count": 538,
     "metadata": {},
     "output_type": "execute_result"
    }
   ],
   "source": [
    "Path(df['label_sp'].values[0]).parents[1]"
   ]
  },
  {
   "cell_type": "code",
   "execution_count": null,
   "id": "ffb1ec02-a6fe-4ac5-9298-87fe1b9a2705",
   "metadata": {},
   "outputs": [],
   "source": [
    "# import shutil\n",
    "# if Path(df['label_sp'].values[0]).parents[1].is_dir():\n",
    "#     shutil.rmtree(Path(df['label_sp'].values[0]).parents[1])"
   ]
  },
  {
   "cell_type": "code",
   "execution_count": 540,
   "id": "b608ed89-10e1-4bfe-a235-d5239ab108c7",
   "metadata": {},
   "outputs": [
    {
     "name": "stderr",
     "output_type": "stream",
     "text": [
      "180695it [00:04, 37924.59it/s]\n"
     ]
    }
   ],
   "source": [
    "for label_path, text in tqdm(zip(df['label_sp'].values, bboxes_list)):\n",
    "    write_txt(label_path, text)\n",
    "    # break"
   ]
  },
  {
   "cell_type": "code",
   "execution_count": null,
   "id": "52e9e471-43cd-48dd-be39-8a3cbf8611fe",
   "metadata": {},
   "outputs": [],
   "source": []
  },
  {
   "cell_type": "code",
   "execution_count": 541,
   "id": "9d5c5dbd-a872-4819-8446-ecec1ec17b55",
   "metadata": {},
   "outputs": [
    {
     "data": {
      "text/plain": [
       "(PosixPath('/home/chenyi/workspace/dataset/labels/query6/dadetv5_query/labels/val/2018041313545637741.txt'),\n",
       " '0 0.306250 0.525781 0.393750 0.620313\\n')"
      ]
     },
     "execution_count": 541,
     "metadata": {},
     "output_type": "execute_result"
    }
   ],
   "source": [
    "label_path,text"
   ]
  },
  {
   "cell_type": "code",
   "execution_count": 542,
   "id": "549a5700-86aa-4f37-8010-7213253765be",
   "metadata": {},
   "outputs": [
    {
     "name": "stdout",
     "output_type": "stream",
     "text": [
      "0 0.712500 0.465625 0.325000 0.631250\n",
      "0 0.306250 0.525781 0.393750 0.620313\n"
     ]
    }
   ],
   "source": [
    "!cat $label_path"
   ]
  },
  {
   "cell_type": "code",
   "execution_count": null,
   "id": "6e23d96d-ede0-421c-9d19-f43ea6e6047f",
   "metadata": {},
   "outputs": [],
   "source": []
  },
  {
   "cell_type": "code",
   "execution_count": null,
   "id": "b00c7078-1c8a-43b6-9bce-5889fca1d0a1",
   "metadata": {},
   "outputs": [],
   "source": []
  },
  {
   "cell_type": "markdown",
   "id": "0e265dd4-82a0-46b8-b756-a59f13b88c4f",
   "metadata": {
    "tags": []
   },
   "source": [
    "#### 生成软连接的path"
   ]
  },
  {
   "cell_type": "code",
   "execution_count": 36,
   "id": "0b2f8086-c149-4e44-8c55-65ca15a7df90",
   "metadata": {},
   "outputs": [
    {
     "name": "stdout",
     "output_type": "stream",
     "text": [
      "\u001b[01;34m/home/chenyi/workspace/dataset/data/\u001b[00m\n",
      "├── \u001b[01;34mdada_det\u001b[00m\n",
      "├── \u001b[01;34mdata_fashionpedia\u001b[00m\n",
      "├── \u001b[01;34mdeepedia\u001b[00m\n",
      "├── \u001b[01;34mDeepFashion2\u001b[00m\n",
      "├── \u001b[01;34mhaowei34k\u001b[00m\n",
      "└── \u001b[01;34mtar\u001b[00m\n",
      "\n",
      "6 directories\n"
     ]
    }
   ],
   "source": [
    "!tree -d -L 1 /home/chenyi/workspace/dataset/data/"
   ]
  },
  {
   "cell_type": "code",
   "execution_count": 37,
   "id": "eff0a8b5-a0bd-4260-ae68-5ef6dd2c0185",
   "metadata": {},
   "outputs": [
    {
     "name": "stdout",
     "output_type": "stream",
     "text": [
      "\u001b[01;34m/home/chenyi/workspace/yolov5/datasets/\u001b[00m\n",
      "├── \u001b[01;34mcoco128\u001b[00m\n",
      "├── \u001b[01;34mdadet100kv2\u001b[00m\n",
      "├── \u001b[01;34mdadet100kv3_june\u001b[00m\n",
      "├── \u001b[01;34mdadet100kv4_1_june\u001b[00m\n",
      "├── \u001b[01;34mdadet100kv4_june\u001b[00m\n",
      "├── \u001b[01;34mdadet_gallv4_june\u001b[00m\n",
      "├── \u001b[01;34mdataExps\u001b[00m\n",
      "├── \u001b[01;34mdeepedia\u001b[00m\n",
      "├── \u001b[01;34mdeepedia_catg6\u001b[00m\n",
      "├── \u001b[01;34mdeepedia_catg8\u001b[00m\n",
      "├── \u001b[01;34mhaowei_bag_shoe\u001b[00m\n",
      "├── \u001b[01;34mhwpedia\u001b[00m\n",
      "├── \u001b[01;34mhwpedia80k\u001b[00m\n",
      "├── \u001b[01;34mtuneGallery10k\u001b[00m\n",
      "├── \u001b[01;34mtuneGallery5k\u001b[00m\n",
      "├── \u001b[01;34mtuneQuery10k\u001b[00m\n",
      "└── \u001b[01;34mvalidation_all\u001b[00m\n",
      "\n",
      "17 directories\n"
     ]
    }
   ],
   "source": [
    "!tree -d -L 1 /home/chenyi/workspace/yolov5/datasets/"
   ]
  },
  {
   "cell_type": "code",
   "execution_count": 36,
   "id": "dab763c7-ca9c-478d-80e0-9756520afc76",
   "metadata": {},
   "outputs": [],
   "source": [
    "# !mkdir -p /home/chenyi/workspace/yolov5/datasets/dataExps/gall10k_delBox"
   ]
  },
  {
   "cell_type": "code",
   "execution_count": 543,
   "id": "f08b193f-caae-4776-890b-a69bd020a6aa",
   "metadata": {},
   "outputs": [],
   "source": [
    "df = bboxes_df"
   ]
  },
  {
   "cell_type": "code",
   "execution_count": 544,
   "id": "720b79bd-224b-4027-a9dd-2bf4f9683dc5",
   "metadata": {},
   "outputs": [
    {
     "data": {
      "text/plain": [
       "180695"
      ]
     },
     "execution_count": 544,
     "metadata": {},
     "output_type": "execute_result"
    }
   ],
   "source": [
    "len(df)"
   ]
  },
  {
   "cell_type": "code",
   "execution_count": 545,
   "id": "156f6d15-82ce-44dc-83dd-130870fa42ca",
   "metadata": {},
   "outputs": [
    {
     "data": {
      "text/plain": [
       "array([[3, 0.828336, 0.753906, 0.103448, 0.101562, 2,\n",
       "        PosixPath('/home/chenyi/workspace/dataset/labels/query6/dadetv5_query/labels/train/551df69f15ca760f19dd6f40bfda2aa7.txt'),\n",
       "        '551df69f15ca760f19dd6f40bfda2aa7',\n",
       "        '/home/chenyi/workspace/yolov5/datasets/dadet100kv4_1_june/labels/train/551df69f15ca760f19dd6f40bfda2aa7.txt',\n",
       "        'train',\n",
       "        '/home/chenyi/workspace/dataset/data/data_fashionpedia/train/551df69f15ca760f19dd6f40bfda2aa7.jpg',\n",
       "        'data_fashionpedia',\n",
       "        '/home/chenyi/workspace/yolov5/datasets/dadet100kv4_1_june/images/train/551df69f15ca760f19dd6f40bfda2aa7.jpg']],\n",
       "      dtype=object)"
      ]
     },
     "execution_count": 545,
     "metadata": {},
     "output_type": "execute_result"
    }
   ],
   "source": [
    "df.head(1).values"
   ]
  },
  {
   "cell_type": "code",
   "execution_count": 546,
   "id": "437e875a-2af4-4886-9e49-e362da67efe9",
   "metadata": {},
   "outputs": [],
   "source": [
    "# shbg_df['img_new_sp'] = shbg_df['img_sp'].apply(lambda x: Path(x).parents[1]/Path(x).name)"
   ]
  },
  {
   "cell_type": "code",
   "execution_count": 547,
   "id": "008c1376-3ab5-412d-83b3-cdc9b99398d8",
   "metadata": {},
   "outputs": [
    {
     "data": {
      "text/plain": [
       "source\n",
       "data_fashionpedia    45529\n",
       "haowei34k            33399\n",
       "dada_det             14939\n",
       "DeepFashion2          4814\n",
       "shoeBag5k0515         4430\n",
       "dtype: int64"
      ]
     },
     "execution_count": 547,
     "metadata": {},
     "output_type": "execute_result"
    }
   ],
   "source": [
    "slink_df.value_counts('source')"
   ]
  },
  {
   "cell_type": "code",
   "execution_count": null,
   "id": "6e12188f-303e-4007-8466-c3dcb0e1aaed",
   "metadata": {},
   "outputs": [],
   "source": []
  },
  {
   "cell_type": "code",
   "execution_count": 548,
   "id": "7a9161f4-29f2-4c47-84cc-ccbdc3e772e8",
   "metadata": {},
   "outputs": [],
   "source": [
    "drop_df = df.drop_duplicates('label_sp')"
   ]
  },
  {
   "cell_type": "code",
   "execution_count": 549,
   "id": "bac5c320-bb01-4e9a-8af3-1debe4c06d1d",
   "metadata": {},
   "outputs": [],
   "source": [
    "slink_df = pd.DataFrame()\n",
    "slink_df['source'] = drop_df['source']\n",
    "slink_df['fname'] = drop_df['stem']\n",
    "slink_df['label_sp'] = drop_df['label_sp']\n",
    "slink_df['img_sp'] = drop_df['img_sp']\n",
    "slink_df['label_tp'] = drop_df['label_tp']\n",
    "slink_df['img_tp'] = drop_df['img_tp']"
   ]
  },
  {
   "cell_type": "code",
   "execution_count": 41,
   "id": "19c3d3e2-a947-4072-9229-83ac2699ed02",
   "metadata": {},
   "outputs": [],
   "source": [
    "# root = Path('/home/chenyi/workspace/yolov5/datasets/hw_pedia_true/')\n",
    "# img_root = Path('/home/chenyi/workspace/dataset//')\n",
    "# yolo_data_root = Path('/home/chenyi/workspace/yolov5/datasets/dataExps/gall10k_delBox/')"
   ]
  },
  {
   "cell_type": "code",
   "execution_count": null,
   "id": "602075eb-0bf2-41c0-94d3-1cc80e46ed0c",
   "metadata": {},
   "outputs": [],
   "source": []
  },
  {
   "cell_type": "code",
   "execution_count": 323,
   "id": "29e2fef9-bb6c-4b0c-90ec-ca02e590d4b9",
   "metadata": {},
   "outputs": [],
   "source": [
    "# slink_df['label_tp'] = slink_df['label_sp'].apply(lambda x: yolo_data_root /'labels' /x.parts[-2]/x.parts[-1])"
   ]
  },
  {
   "cell_type": "code",
   "execution_count": 43,
   "id": "0aafdd3b-f86c-4efd-8761-2be9521fdb48",
   "metadata": {},
   "outputs": [],
   "source": [
    "slink_df['img_tp'] = slink_df['label_sp'].apply(lambda x: yolo_data_root /'images' /x.parts[-2]/x.parts[-1])\n",
    "slink_df['img_tp'] = slink_df['img_tp'].apply(lambda x: x.with_suffix('.jpg'))"
   ]
  },
  {
   "cell_type": "code",
   "execution_count": 44,
   "id": "06cc3840-449b-4e3a-89b0-97a30a0acb35",
   "metadata": {},
   "outputs": [],
   "source": [
    "# slink_df['img_sp'] = slink_df['img_tp'].apply(lambda x: data_root /'images' /x.parts[-2]/x.parts[-1])"
   ]
  },
  {
   "cell_type": "code",
   "execution_count": null,
   "id": "d5a9b0ff-94c3-45a3-8bd1-8778f2f5ba02",
   "metadata": {},
   "outputs": [],
   "source": []
  },
  {
   "cell_type": "code",
   "execution_count": 290,
   "id": "7735b2d6-9a62-4154-89ad-fce1662bb774",
   "metadata": {},
   "outputs": [],
   "source": [
    "slink_df['img_file'] = slink_df['img_sp'].apply(lambda x: Path(x).is_file())\n",
    "slink_df['label_file'] = slink_df['label_sp'].apply(lambda x: Path(x).is_file())"
   ]
  },
  {
   "cell_type": "code",
   "execution_count": null,
   "id": "7b276043-a996-471a-87c5-bd318fb3da6f",
   "metadata": {},
   "outputs": [],
   "source": []
  },
  {
   "cell_type": "code",
   "execution_count": 550,
   "id": "78343685-b1a7-4c41-8cb2-05dbd1b8ae5d",
   "metadata": {},
   "outputs": [],
   "source": [
    "slink_df.to_csv('/nas/chenyi/workspace/myPyModule/dataset/data/bboxes/dadet100k/dadetv5_query_slink.csv', index=False)"
   ]
  },
  {
   "cell_type": "code",
   "execution_count": null,
   "id": "c748fc9d-d48d-4b14-8d61-29cf0070fd50",
   "metadata": {},
   "outputs": [],
   "source": []
  },
  {
   "cell_type": "code",
   "execution_count": null,
   "id": "05e60805-2b38-4fa5-abd2-8e8242907dfb",
   "metadata": {},
   "outputs": [],
   "source": []
  },
  {
   "cell_type": "markdown",
   "id": "67827dd9-ace5-47ec-acdb-71e72ffc88e1",
   "metadata": {},
   "source": [
    "#### 直接读取slink.csv"
   ]
  },
  {
   "cell_type": "code",
   "execution_count": null,
   "id": "803e6039-ed46-4081-94b3-d7a2b75ef36a",
   "metadata": {},
   "outputs": [],
   "source": [
    "# slink_df = pd.read_csv('./data/hw34k_level1_slink.csv')"
   ]
  },
  {
   "cell_type": "code",
   "execution_count": null,
   "id": "21d318d4-58ae-4082-a241-df20f2a4041f",
   "metadata": {},
   "outputs": [],
   "source": []
  },
  {
   "cell_type": "markdown",
   "id": "87d30ed1-b478-43a8-a72e-4492762bc982",
   "metadata": {
    "tags": []
   },
   "source": [
    "##### 生成label_tp, img_sp, img_tp"
   ]
  },
  {
   "cell_type": "code",
   "execution_count": 551,
   "id": "2614ffef-6900-44e4-833a-bbf1fb0a5d4f",
   "metadata": {},
   "outputs": [
    {
     "data": {
      "text/plain": [
       "array([['shoeBag5k0515', '2017050718162854629',\n",
       "        PosixPath('/home/chenyi/workspace/dataset/labels/query6/dadetv5_query/labels/val/2017050718162854629.txt'),\n",
       "        '/home/chenyi/workspace/dataset/data/dada_det/shoeBag5k0515/images/2017050718162854629.jpg',\n",
       "        '/home/chenyi/workspace/yolov5/datasets/dadet100kv4_1_june/labels/val/2017050718162854629.txt',\n",
       "        '/home/chenyi/workspace/yolov5/datasets/dadet100kv4_1_june/images/val/2017050718162854629.jpg'],\n",
       "       ['shoeBag5k0515', '2018041313545637741',\n",
       "        PosixPath('/home/chenyi/workspace/dataset/labels/query6/dadetv5_query/labels/val/2018041313545637741.txt'),\n",
       "        '/home/chenyi/workspace/dataset/data/dada_det/shoeBag5k0515/images/2018041313545637741.jpg',\n",
       "        '/home/chenyi/workspace/yolov5/datasets/dadet100kv4_1_june/labels/val/2018041313545637741.txt',\n",
       "        '/home/chenyi/workspace/yolov5/datasets/dadet100kv4_1_june/images/val/2018041313545637741.jpg']],\n",
       "      dtype=object)"
      ]
     },
     "execution_count": 551,
     "metadata": {},
     "output_type": "execute_result"
    }
   ],
   "source": [
    "slink_df.tail(2).values"
   ]
  },
  {
   "cell_type": "code",
   "execution_count": 552,
   "id": "add4af4e-a673-4f5b-b49c-48ce89bdc2ac",
   "metadata": {},
   "outputs": [],
   "source": [
    "origin_folder = 'dadet100kv4_1_june'\n",
    "folder_name = 'dadetv5_query'"
   ]
  },
  {
   "cell_type": "code",
   "execution_count": 553,
   "id": "55c2b867-b7af-467b-9646-99fb5d110ca5",
   "metadata": {},
   "outputs": [],
   "source": [
    "slink_df['img_tp'] = slink_df['img_tp'].apply(lambda x: str(x).replace(f'/datasets/{origin_folder}/images/', f'/datasets/{folder_name}/images/'))\n",
    "slink_df['label_tp'] = slink_df['label_tp'].apply(lambda x: str(x).replace(f'/datasets/{origin_folder}/labels/', f'/datasets/{folder_name}/labels/'))"
   ]
  },
  {
   "cell_type": "code",
   "execution_count": 554,
   "id": "b263a0d9-642e-4da9-8008-03427f0805f1",
   "metadata": {},
   "outputs": [],
   "source": [
    "slink_df.to_csv('/nas/chenyi/workspace/myPyModule/dataset/data/bboxes/dadet100k/dadetv5_query_slink.csv', index=False)"
   ]
  },
  {
   "cell_type": "code",
   "execution_count": null,
   "id": "c5da9fad-e1f5-4e4a-a9f6-10d234b4ddfa",
   "metadata": {},
   "outputs": [],
   "source": []
  },
  {
   "cell_type": "code",
   "execution_count": null,
   "id": "3db94b75-23ab-4eb8-9aa9-67c1b55eadd6",
   "metadata": {},
   "outputs": [],
   "source": []
  },
  {
   "cell_type": "markdown",
   "id": "31456e3a-4b13-41d1-b3f3-29f0a4e9c7f2",
   "metadata": {
    "tags": [],
    "toc-hr-collapsed": true
   },
   "source": [
    "### 生成sym link"
   ]
  },
  {
   "cell_type": "code",
   "execution_count": 555,
   "id": "6bfbd252-58d0-4a7b-b404-adefeb1dcd85",
   "metadata": {},
   "outputs": [
    {
     "name": "stdout",
     "output_type": "stream",
     "text": [
      "\u001b[01;34m/home/chenyi/workspace/yolov5/datasets/\u001b[00m\n",
      "├── \u001b[01;34mcoco128\u001b[00m\n",
      "├── \u001b[01;34mdadet100kv2\u001b[00m\n",
      "├── \u001b[01;34mdadet100kv3_june\u001b[00m\n",
      "├── \u001b[01;34mdadet100kv4_1_june\u001b[00m\n",
      "├── \u001b[01;34mdadet100kv4_june\u001b[00m\n",
      "├── \u001b[01;34mdadet_gallv4_june\u001b[00m\n",
      "├── \u001b[01;34mdadetv5\u001b[00m\n",
      "├── \u001b[01;34mdadetv5_query\u001b[00m\n",
      "├── \u001b[01;34mdataExps\u001b[00m\n",
      "├── \u001b[01;34mdeepedia\u001b[00m\n",
      "├── \u001b[01;34mdeepedia_catg6\u001b[00m\n",
      "├── \u001b[01;34mdeepedia_catg8\u001b[00m\n",
      "├── \u001b[01;34mhaowei_bag_shoe\u001b[00m\n",
      "├── \u001b[01;34mhwpedia\u001b[00m\n",
      "├── \u001b[01;34mhwpedia70k\u001b[00m\n",
      "├── \u001b[01;34mhwpedia80k\u001b[00m\n",
      "├── \u001b[01;34mtuneGallery10k\u001b[00m\n",
      "├── \u001b[01;34mtuneGallery5k\u001b[00m\n",
      "├── \u001b[01;34mtuneQuery10k\u001b[00m\n",
      "└── \u001b[01;34mvalidation_all\u001b[00m\n",
      "\n",
      "20 directories\n"
     ]
    }
   ],
   "source": [
    "root = f'/home/chenyi/workspace/yolov5/datasets/'\n",
    "!tree  -d -L 1 $root"
   ]
  },
  {
   "cell_type": "code",
   "execution_count": 556,
   "id": "9cdc6145-e0a8-475d-99b2-be111ac6156b",
   "metadata": {},
   "outputs": [],
   "source": [
    "folder_name = 'dadetv5_query'"
   ]
  },
  {
   "cell_type": "code",
   "execution_count": 382,
   "id": "3dc500f9-2b31-406e-83a0-b26524012a7a",
   "metadata": {},
   "outputs": [],
   "source": [
    "# 产生路径\n",
    "import shutil\n",
    "# folder_name = 'gall10k_delBox'\n",
    "folder_name = folder_name\n",
    "folder_root = Path(root) /folder_name\n",
    "# folder_root = root\n",
    "folder1 = ['images', 'labels']\n",
    "folder2 = ['train', 'val']\n",
    "# if folder_root.is_dir() and True:\n",
    "#     shutil.rmtree(folder_root)\n",
    "for f1 in folder1:\n",
    "    for f2 in folder2:\n",
    "        tg = folder_root / f1 / f2\n",
    "        tg.mkdir(parents=True)  "
   ]
  },
  {
   "cell_type": "code",
   "execution_count": 459,
   "id": "d88fffd0-9da6-4732-8c80-1dfbc36eb970",
   "metadata": {},
   "outputs": [
    {
     "name": "stdout",
     "output_type": "stream",
     "text": [
      "\u001b[01;34m/home/chenyi/workspace/yolov5/datasets/dadetv5_query\u001b[00m\n",
      "├── \u001b[01;34mimages\u001b[00m\n",
      "└── \u001b[01;34mlabels\u001b[00m\n",
      "\n",
      "2 directories\n"
     ]
    }
   ],
   "source": [
    "!tree  -d -L 1 $folder_root"
   ]
  },
  {
   "cell_type": "code",
   "execution_count": 270,
   "id": "304ef57c-b104-46da-9b89-858b59973d2b",
   "metadata": {},
   "outputs": [],
   "source": []
  },
  {
   "cell_type": "code",
   "execution_count": 271,
   "id": "21460310-c9a5-43d5-a6d6-b865b56a32e0",
   "metadata": {},
   "outputs": [],
   "source": []
  },
  {
   "cell_type": "code",
   "execution_count": 558,
   "id": "3873fb59-4e35-495a-9f70-4fba3be77714",
   "metadata": {},
   "outputs": [],
   "source": [
    "for p in glob.glob(str(Path(slink_df['img_tp'].values[0]).parents[1]/'*/*.jpg')):\n",
    "    if Path(p).is_symlink():\n",
    "        Path(p).unlink()"
   ]
  },
  {
   "cell_type": "code",
   "execution_count": 559,
   "id": "fff403c0-4308-413f-ad71-3df374b866c8",
   "metadata": {},
   "outputs": [],
   "source": [
    "for p in glob.glob(str(Path(slink_df['label_tp'].values[0]).parents[1]/'*/*.txt')):\n",
    "    if Path(p).is_symlink():\n",
    "        Path(p).unlink()"
   ]
  },
  {
   "cell_type": "code",
   "execution_count": 560,
   "id": "4640b096-209f-4725-aa36-8959a794f059",
   "metadata": {},
   "outputs": [
    {
     "data": {
      "text/html": [
       "<div>\n",
       "<style scoped>\n",
       "    .dataframe tbody tr th:only-of-type {\n",
       "        vertical-align: middle;\n",
       "    }\n",
       "\n",
       "    .dataframe tbody tr th {\n",
       "        vertical-align: top;\n",
       "    }\n",
       "\n",
       "    .dataframe thead th {\n",
       "        text-align: right;\n",
       "    }\n",
       "</style>\n",
       "<table border=\"1\" class=\"dataframe\">\n",
       "  <thead>\n",
       "    <tr style=\"text-align: right;\">\n",
       "      <th></th>\n",
       "      <th>source</th>\n",
       "      <th>fname</th>\n",
       "      <th>label_sp</th>\n",
       "      <th>img_sp</th>\n",
       "      <th>label_tp</th>\n",
       "      <th>img_tp</th>\n",
       "    </tr>\n",
       "  </thead>\n",
       "  <tbody>\n",
       "    <tr>\n",
       "      <th>2</th>\n",
       "      <td>data_fashionpedia</td>\n",
       "      <td>551df69f15ca760f19dd6f40bfda2aa7</td>\n",
       "      <td>/home/chenyi/workspace/dataset/labels/query6/d...</td>\n",
       "      <td>/home/chenyi/workspace/dataset/data/data_fashi...</td>\n",
       "      <td>/home/chenyi/workspace/yolov5/datasets/dadetv5...</td>\n",
       "      <td>/home/chenyi/workspace/yolov5/datasets/dadetv5...</td>\n",
       "    </tr>\n",
       "  </tbody>\n",
       "</table>\n",
       "</div>"
      ],
      "text/plain": [
       "              source                             fname  \\\n",
       "2  data_fashionpedia  551df69f15ca760f19dd6f40bfda2aa7   \n",
       "\n",
       "                                            label_sp  \\\n",
       "2  /home/chenyi/workspace/dataset/labels/query6/d...   \n",
       "\n",
       "                                              img_sp  \\\n",
       "2  /home/chenyi/workspace/dataset/data/data_fashi...   \n",
       "\n",
       "                                            label_tp  \\\n",
       "2  /home/chenyi/workspace/yolov5/datasets/dadetv5...   \n",
       "\n",
       "                                              img_tp  \n",
       "2  /home/chenyi/workspace/yolov5/datasets/dadetv5...  "
      ]
     },
     "execution_count": 560,
     "metadata": {},
     "output_type": "execute_result"
    }
   ],
   "source": [
    "slink_df.head(1)"
   ]
  },
  {
   "cell_type": "code",
   "execution_count": null,
   "id": "c3eaf4b8-6ba0-479e-8db3-a16b9c1eef2c",
   "metadata": {},
   "outputs": [],
   "source": []
  },
  {
   "cell_type": "code",
   "execution_count": 561,
   "id": "6b5a0227-b70b-4e43-b834-04234550a536",
   "metadata": {},
   "outputs": [
    {
     "name": "stdout",
     "output_type": "stream",
     "text": [
      "CPU times: user 2.25 s, sys: 1.18 s, total: 3.42 s\n",
      "Wall time: 3.6 s\n"
     ]
    }
   ],
   "source": [
    "%%time\n",
    "for p in slink_df['img_tp'].values:\n",
    "    if Path(p).is_symlink():\n",
    "        Path(p).unlink()\n",
    "_ = slink_df.apply(lambda row: Path.symlink_to(Path(row['img_tp']), Path(row['img_sp'])), axis=1)"
   ]
  },
  {
   "cell_type": "code",
   "execution_count": 562,
   "id": "5f2dfc8e-2177-4a62-96ff-bc7d334dbc1c",
   "metadata": {},
   "outputs": [
    {
     "name": "stdout",
     "output_type": "stream",
     "text": [
      "CPU times: user 2.36 s, sys: 1.17 s, total: 3.53 s\n",
      "Wall time: 4.05 s\n"
     ]
    }
   ],
   "source": [
    "%%time\n",
    "for p in slink_df['label_tp'].values:\n",
    "    if Path(p).is_symlink():\n",
    "        Path(p).unlink()\n",
    "_ = slink_df.apply(lambda row: Path.symlink_to(Path(row['label_tp']), Path(row['label_sp'])), axis=1)"
   ]
  },
  {
   "cell_type": "code",
   "execution_count": 563,
   "id": "270bcbda-78d6-41b7-bc25-9183b302888f",
   "metadata": {},
   "outputs": [
    {
     "data": {
      "text/plain": [
       "(103109, 103109)"
      ]
     },
     "execution_count": 563,
     "metadata": {},
     "output_type": "execute_result"
    }
   ],
   "source": [
    "len(glob.glob(str(Path(slink_df['img_tp'].values[0]).parents[1]/'*/*.jpg'))), len(glob.glob(str(Path(slink_df['label_tp'].values[0]).parents[1]/'*/*.txt')))"
   ]
  },
  {
   "cell_type": "code",
   "execution_count": 564,
   "id": "1fc942ac-1f23-4c91-a364-ec900458d987",
   "metadata": {},
   "outputs": [
    {
     "name": "stdout",
     "output_type": "stream",
     "text": [
      "5 0.572266 0.614370 0.367188 0.768328\n"
     ]
    }
   ],
   "source": [
    "p = str(slink_df['label_tp'].values[1001])\n",
    "!cat $p"
   ]
  },
  {
   "cell_type": "code",
   "execution_count": 565,
   "id": "1cdf1e26-0c73-4729-9ef6-c9fc0f70b956",
   "metadata": {},
   "outputs": [
    {
     "name": "stdout",
     "output_type": "stream",
     "text": [
      "5 0.573206 0.473633 0.209370 0.460938\n"
     ]
    }
   ],
   "source": [
    "p = str(slink_df['label_sp'].values[2501])\n",
    "!cat $p"
   ]
  },
  {
   "cell_type": "code",
   "execution_count": null,
   "id": "92c05cad-3694-4a3f-b1ad-2366ef04c22a",
   "metadata": {},
   "outputs": [],
   "source": []
  },
  {
   "cell_type": "markdown",
   "id": "06f8dad4-7ef5-4d50-a453-ef1abf5f38c7",
   "metadata": {},
   "source": [
    "#### 核查软连接"
   ]
  },
  {
   "cell_type": "code",
   "execution_count": 566,
   "id": "7c0961f8-1463-453d-90de-21c87dfecc86",
   "metadata": {},
   "outputs": [],
   "source": [
    "import glob,cv2, os\n",
    "import pandas as pd"
   ]
  },
  {
   "cell_type": "code",
   "execution_count": 567,
   "id": "7f5fb192-79c3-4f2e-a266-e98cb129eada",
   "metadata": {},
   "outputs": [
    {
     "name": "stdout",
     "output_type": "stream",
     "text": [
      "\u001b[01;34m/home/chenyi/workspace/yolov5/datasets/\u001b[00m\n",
      "├── \u001b[01;34mcoco128\u001b[00m\n",
      "├── \u001b[01;34mdadet100kv2\u001b[00m\n",
      "├── \u001b[01;34mdadet100kv3_june\u001b[00m\n",
      "├── \u001b[01;34mdadet100kv4_1_june\u001b[00m\n",
      "├── \u001b[01;34mdadet100kv4_june\u001b[00m\n",
      "├── \u001b[01;34mdadet_gallv4_june\u001b[00m\n",
      "├── \u001b[01;34mdadetv5\u001b[00m\n",
      "├── \u001b[01;34mdadetv5_query\u001b[00m\n",
      "├── \u001b[01;34mdataExps\u001b[00m\n",
      "├── \u001b[01;34mdeepedia\u001b[00m\n",
      "├── \u001b[01;34mdeepedia_catg6\u001b[00m\n",
      "├── \u001b[01;34mdeepedia_catg8\u001b[00m\n",
      "├── \u001b[01;34mhaowei_bag_shoe\u001b[00m\n",
      "├── \u001b[01;34mhwpedia\u001b[00m\n",
      "├── \u001b[01;34mhwpedia70k\u001b[00m\n",
      "├── \u001b[01;34mhwpedia80k\u001b[00m\n",
      "├── \u001b[01;34mtuneGallery10k\u001b[00m\n",
      "├── \u001b[01;34mtuneGallery5k\u001b[00m\n",
      "├── \u001b[01;34mtuneQuery10k\u001b[00m\n",
      "└── \u001b[01;34mvalidation_all\u001b[00m\n",
      "\n",
      "20 directories\n"
     ]
    }
   ],
   "source": [
    "!tree  -d -L 1 /home/chenyi/workspace/yolov5/datasets/"
   ]
  },
  {
   "cell_type": "code",
   "execution_count": 568,
   "id": "fed9e34a-71d7-4dfa-9948-f2ef0380a8f0",
   "metadata": {},
   "outputs": [
    {
     "name": "stdout",
     "output_type": "stream",
     "text": [
      "\u001b[01;34m/home/chenyi/workspace/yolov5/datasets/dadetv5_query\u001b[00m\n",
      "├── \u001b[01;34mimages\u001b[00m\n",
      "│   ├── \u001b[01;34mtrain\u001b[00m\n",
      "│   └── \u001b[01;34mval\u001b[00m\n",
      "└── \u001b[01;34mlabels\u001b[00m\n",
      "    ├── \u001b[01;34mtrain\u001b[00m\n",
      "    └── \u001b[01;34mval\u001b[00m\n",
      "\n",
      "6 directories\n"
     ]
    }
   ],
   "source": [
    "# folder_name = 'dadet100kv2'\n",
    "root = f'/home/chenyi/workspace/yolov5/datasets/{folder_name}'\n",
    "!tree  -d -L 2 $root"
   ]
  },
  {
   "cell_type": "code",
   "execution_count": null,
   "id": "3c845c9e-02ea-461a-85bb-08be9e2f6ffa",
   "metadata": {},
   "outputs": [],
   "source": []
  },
  {
   "cell_type": "code",
   "execution_count": null,
   "id": "4ec50cc2-5076-487c-b81b-437fa3394efe",
   "metadata": {},
   "outputs": [],
   "source": []
  },
  {
   "cell_type": "code",
   "execution_count": 569,
   "id": "1d5d1612-aa59-4f97-af88-b1d6169eb263",
   "metadata": {},
   "outputs": [],
   "source": [
    "def check_syslink(root, mode='images'):\n",
    "    subfix = '.txt' if mode=='labels' else '.jpg'\n",
    "    flag_list = [os.path.isfile(os.readlink(p)) for p in glob.glob(f'{root}/{mode}/*/*{subfix}')]\n",
    "    txt_df = pd.DataFrame()\n",
    "    txt_df['flag'] = flag_list\n",
    "    return txt_df.value_counts('flag')"
   ]
  },
  {
   "cell_type": "code",
   "execution_count": null,
   "id": "44c454c5-95ab-4b19-8ee2-7171378667c1",
   "metadata": {},
   "outputs": [],
   "source": []
  },
  {
   "cell_type": "code",
   "execution_count": 570,
   "id": "3b801bd9-4199-4bc7-9326-eaf3b23ab77f",
   "metadata": {},
   "outputs": [
    {
     "name": "stdout",
     "output_type": "stream",
     "text": [
      "CPU times: user 201 ms, sys: 236 ms, total: 437 ms\n",
      "Wall time: 495 ms\n"
     ]
    },
    {
     "data": {
      "text/plain": [
       "flag\n",
       "True    103109\n",
       "dtype: int64"
      ]
     },
     "execution_count": 570,
     "metadata": {},
     "output_type": "execute_result"
    }
   ],
   "source": [
    "%%time\n",
    "check_syslink(root, mode='images')"
   ]
  },
  {
   "cell_type": "code",
   "execution_count": 571,
   "id": "b611d851-ba1e-4d9e-a7f8-388230041add",
   "metadata": {},
   "outputs": [
    {
     "name": "stdout",
     "output_type": "stream",
     "text": [
      "CPU times: user 190 ms, sys: 193 ms, total: 383 ms\n",
      "Wall time: 381 ms\n"
     ]
    },
    {
     "data": {
      "text/plain": [
       "flag\n",
       "True    103109\n",
       "dtype: int64"
      ]
     },
     "execution_count": 571,
     "metadata": {},
     "output_type": "execute_result"
    }
   ],
   "source": [
    "%%time\n",
    "check_syslink(root, mode='labels')"
   ]
  },
  {
   "cell_type": "code",
   "execution_count": null,
   "id": "40ac899a-e818-4087-9b9f-2ef2e36b2053",
   "metadata": {},
   "outputs": [],
   "source": []
  },
  {
   "cell_type": "code",
   "execution_count": null,
   "id": "cd1daf7a-9094-45bf-9be6-4742cb9d9f74",
   "metadata": {},
   "outputs": [],
   "source": []
  }
 ],
 "metadata": {
  "kernelspec": {
   "display_name": "Python 3 (ipykernel)",
   "language": "python",
   "name": "python3"
  },
  "language_info": {
   "codemirror_mode": {
    "name": "ipython",
    "version": 3
   },
   "file_extension": ".py",
   "mimetype": "text/x-python",
   "name": "python",
   "nbconvert_exporter": "python",
   "pygments_lexer": "ipython3",
   "version": "3.8.13"
  },
  "toc-showtags": false
 },
 "nbformat": 4,
 "nbformat_minor": 5
}
