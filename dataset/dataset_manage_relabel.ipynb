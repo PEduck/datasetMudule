{
 "cells": [
  {
   "cell_type": "code",
   "execution_count": null,
   "metadata": {},
   "outputs": [],
   "source": [
    "%load_ext autoreload\n",
    "%autoreload 2"
   ]
  },
  {
   "cell_type": "code",
   "execution_count": null,
   "metadata": {},
   "outputs": [],
   "source": [
    "import numpy as np\n",
    "import math\n",
    "import torch\n",
    "from PIL import Image\n",
    "import cv2\n",
    "import matplotlib.pyplot as plt\n",
    "import json\n",
    "import pandas as pd\n",
    "import pickle\n",
    "import glob\n",
    "import re\n",
    "from tqdm import tqdm\n",
    "from pathlib import Path\n",
    "import sys,os"
   ]
  },
  {
   "cell_type": "code",
   "execution_count": null,
   "metadata": {},
   "outputs": [],
   "source": []
  },
  {
   "cell_type": "code",
   "execution_count": null,
   "metadata": {},
   "outputs": [],
   "source": []
  },
  {
   "cell_type": "code",
   "execution_count": null,
   "metadata": {},
   "outputs": [],
   "source": [
    "def bbox_yolo2voc(bx, w, h):\n",
    "    x_c = float(bx[0])*w\n",
    "    y_c = float(bx[1])*h\n",
    "    wbbox = float(bx[2])*w\n",
    "    hbbox = float(bx[3])*h\n",
    "    x1 = int(x_c - wbbox/2)\n",
    "    y1 = int(y_c - hbbox/2)\n",
    "    x2 = int(x_c + wbbox/2)\n",
    "    y2 = int(y_c + hbbox/2)\n",
    "    bbox = [x1, y1, x2, y2]\n",
    "    return bbox"
   ]
  },
  {
   "cell_type": "code",
   "execution_count": null,
   "metadata": {},
   "outputs": [],
   "source": []
  },
  {
   "cell_type": "code",
   "execution_count": null,
   "metadata": {},
   "outputs": [],
   "source": [
    "def bbox_voc2yolo(bx, w, h):\n",
    "    x1 = bx[0]\n",
    "    y1 = bx[1]\n",
    "    x2 = bx[2]\n",
    "    y2 = bx[3]\n",
    "    w_bbox = x2 - x1\n",
    "    h_bbox = y2 - y1\n",
    "    x_c = x1 + w_bbox/2\n",
    "    y_c = y1 + h_bbox/2\n",
    "    bbox = [x_c/w, y_c/h, w_bbox/w, h_bbox/h]\n",
    "    return bbox"
   ]
  },
  {
   "cell_type": "code",
   "execution_count": null,
   "metadata": {},
   "outputs": [],
   "source": []
  },
  {
   "cell_type": "code",
   "execution_count": null,
   "metadata": {},
   "outputs": [],
   "source": [
    "def bbox_draw(img_np, box_coco):\n",
    "    id_ = 'test'\n",
    "    x1 = box_coco[0]\n",
    "    y1 = box_coco[1]\n",
    "    x2 = box_coco[2]\n",
    "    y2 = box_coco[3]\n",
    "    font = cv2.FONT_HERSHEY_SIMPLEX\n",
    "    cv2.rectangle(img_np,(x1, y1),(x2, y2),(0,0,255),thickness=2)\n",
    "    f = cv2.putText(img_np, text=str(id_), org=(x1 + 5, y1 + 5), fontFace=font, fontScale=1, \n",
    "        thickness=2, lineType=cv2.LINE_AA, color=(0, 255, 0))\n",
    "    return img_np"
   ]
  },
  {
   "cell_type": "code",
   "execution_count": null,
   "metadata": {},
   "outputs": [],
   "source": []
  },
  {
   "cell_type": "code",
   "execution_count": null,
   "metadata": {},
   "outputs": [],
   "source": [
    "def bbox_coco2voc(bbox):\n",
    "    bbox[2] = bbox[0] + bbox[2]\n",
    "    bbox[3] = bbox[1] + bbox[3]\n",
    "    return bbox"
   ]
  },
  {
   "cell_type": "code",
   "execution_count": null,
   "metadata": {},
   "outputs": [],
   "source": []
  },
  {
   "cell_type": "code",
   "execution_count": null,
   "metadata": {},
   "outputs": [],
   "source": [
    "def draw_bbox(img_np, box_coco):\n",
    "    id_ = int(box_coco[0])\n",
    "    x1 = int(box_coco[1])\n",
    "    y1 = int(box_coco[2])\n",
    "    x2 = int(box_coco[3])\n",
    "    y2 = int(box_coco[4])\n",
    "    font = cv2.FONT_HERSHEY_SIMPLEX\n",
    "    cv2.rectangle(img_np,(x1, y1),(x2, y2),(0,0,255),thickness=2)\n",
    "    f = cv2.putText(img_np, text=str(id_), org=(x1 + 5, y1 + 5), fontFace=font, fontScale=1, \n",
    "        thickness=2, lineType=cv2.LINE_AA, color=(0, 255, 0))\n",
    "    return img_np"
   ]
  },
  {
   "cell_type": "code",
   "execution_count": null,
   "metadata": {},
   "outputs": [],
   "source": []
  },
  {
   "cell_type": "code",
   "execution_count": null,
   "metadata": {},
   "outputs": [],
   "source": [
    "def bboxes2string(bboxes):\n",
    "    text = \"\"\n",
    "    for bx in bboxes:\n",
    "        text += str(int(bx[0]))\n",
    "        for item in bx[1:]:\n",
    "            text = text + ' ' + str(item)\n",
    "        text += '\\n'\n",
    "    return text\n",
    "\n",
    "def write_bboxes(p, bboxes_text):\n",
    "    with open(p, 'w') as f:\n",
    "        f.write(bboxes_text)"
   ]
  },
  {
   "cell_type": "code",
   "execution_count": null,
   "metadata": {},
   "outputs": [],
   "source": []
  },
  {
   "cell_type": "code",
   "execution_count": null,
   "metadata": {},
   "outputs": [],
   "source": [
    "def read_bboxes(txtp):\n",
    "    with open(txtp, 'r') as f:\n",
    "        txt = f.readlines()\n",
    "    return txt\n",
    "\n",
    "def get_bboxes_text(txtp):\n",
    "    import re\n",
    "    tx_str = read_bboxes(txtp)\n",
    "    bboxes = []\n",
    "    for line in tx_str:\n",
    "        line_list = re.split(r'[\\s\\n\\t]',line)\n",
    "        bx = []\n",
    "        bx.append(int(line_list[0]))\n",
    "        for item in line_list[1:]:\n",
    "            if len(item.strip())>0:\n",
    "                bx.append(float(item))\n",
    "        bboxes.append(bx)\n",
    "    return bboxes"
   ]
  },
  {
   "cell_type": "code",
   "execution_count": null,
   "metadata": {},
   "outputs": [],
   "source": []
  },
  {
   "cell_type": "code",
   "execution_count": null,
   "metadata": {},
   "outputs": [],
   "source": []
  },
  {
   "cell_type": "code",
   "execution_count": null,
   "metadata": {},
   "outputs": [],
   "source": []
  },
  {
   "cell_type": "code",
   "execution_count": null,
   "metadata": {},
   "outputs": [],
   "source": []
  },
  {
   "cell_type": "markdown",
   "metadata": {},
   "source": [
    "### Haowei34k"
   ]
  },
  {
   "cell_type": "code",
   "execution_count": null,
   "metadata": {},
   "outputs": [],
   "source": [
    "root = Path('/nas/chenyi/dataset_apparel_nas/haowei34k/')"
   ]
  },
  {
   "cell_type": "code",
   "execution_count": null,
   "metadata": {},
   "outputs": [],
   "source": [
    "!tree -L 1 $root"
   ]
  },
  {
   "cell_type": "code",
   "execution_count": null,
   "metadata": {},
   "outputs": [],
   "source": [
    "haow_df = pd.read_csv(str(root /'haowei34k_lcj_ok_data.csv'))"
   ]
  },
  {
   "cell_type": "code",
   "execution_count": null,
   "metadata": {},
   "outputs": [],
   "source": [
    "df07 = haow_df[haow_df['confidence']>0.7]"
   ]
  },
  {
   "cell_type": "code",
   "execution_count": null,
   "metadata": {},
   "outputs": [],
   "source": [
    "haow_df.sort_values(by='confidence').head(20)"
   ]
  },
  {
   "cell_type": "code",
   "execution_count": null,
   "metadata": {},
   "outputs": [],
   "source": []
  },
  {
   "cell_type": "code",
   "execution_count": null,
   "metadata": {},
   "outputs": [],
   "source": [
    "ROOT = root\n",
    "id_ = '20141022225156504'\n",
    "row = haow_df[haow_df['id'].astype(str)==id_]"
   ]
  },
  {
   "cell_type": "code",
   "execution_count": null,
   "metadata": {},
   "outputs": [],
   "source": [
    "row"
   ]
  },
  {
   "cell_type": "code",
   "execution_count": null,
   "metadata": {},
   "outputs": [],
   "source": [
    "txtp = row['label_path'].values[0]\n",
    "txtp = txtp.replace('/labels/', '/labels_2/')\n",
    "imgp = row['img_path'].values[0]"
   ]
  },
  {
   "cell_type": "code",
   "execution_count": null,
   "metadata": {},
   "outputs": [],
   "source": [
    "get_bboxes_text(txtp)"
   ]
  },
  {
   "cell_type": "code",
   "execution_count": null,
   "metadata": {},
   "outputs": [],
   "source": [
    "img_np = cv2.imread(str(imgp))\n",
    "img_np = cv2.cvtColor(img_np, cv2.COLOR_BGR2RGB)"
   ]
  },
  {
   "cell_type": "code",
   "execution_count": null,
   "metadata": {},
   "outputs": [],
   "source": []
  },
  {
   "cell_type": "code",
   "execution_count": null,
   "metadata": {},
   "outputs": [],
   "source": [
    "bboxes = get_bboxes_text(txtp)\n",
    "h,w,c = img_np.shape\n",
    "for bx in bboxes:\n",
    "    bx[1:] = bbox_yolo2voc(bx[1:], w, h)\n",
    "    draw_bbox(img_np, bx)"
   ]
  },
  {
   "cell_type": "code",
   "execution_count": null,
   "metadata": {},
   "outputs": [],
   "source": [
    "Image.fromarray(img_np)"
   ]
  },
  {
   "cell_type": "code",
   "execution_count": null,
   "metadata": {},
   "outputs": [],
   "source": []
  },
  {
   "cell_type": "markdown",
   "metadata": {},
   "source": [
    "### Data Transfer"
   ]
  },
  {
   "cell_type": "code",
   "execution_count": null,
   "metadata": {},
   "outputs": [],
   "source": [
    "sys.path.append('/home/chenyi/workspace/myPyModule/')"
   ]
  },
  {
   "cell_type": "code",
   "execution_count": null,
   "metadata": {},
   "outputs": [],
   "source": [
    "from data.transferData import copy_data_multithread, run_task_multithread"
   ]
  },
  {
   "cell_type": "code",
   "execution_count": null,
   "metadata": {},
   "outputs": [],
   "source": []
  },
  {
   "cell_type": "code",
   "execution_count": null,
   "metadata": {},
   "outputs": [],
   "source": [
    "# !ls -l /nas/chenyi/dataset_apparel_nas/haowei_conf07/labels"
   ]
  },
  {
   "cell_type": "code",
   "execution_count": null,
   "metadata": {
    "tags": []
   },
   "outputs": [],
   "source": [
    "!tree -L 1 /nas/chenyi/dataset_apparel_nas/haowei_conf07/labels"
   ]
  },
  {
   "cell_type": "code",
   "execution_count": null,
   "metadata": {},
   "outputs": [],
   "source": [
    "# !mkdir /nas/chenyi/dataset_apparel_nas/haowei_conf07_multi/labels/"
   ]
  },
  {
   "cell_type": "code",
   "execution_count": null,
   "metadata": {},
   "outputs": [],
   "source": [
    "source_l = ['/nas/lichangjian/labels_2/20141215090521289.txt']\n",
    "target_l = ['/nas/chenyi/dataset_apparel_nas/haowei_conf07/labels/20141215090521289.txt']\n",
    "copy_data_multithread(source_l, target_l, thread_num=2)"
   ]
  },
  {
   "cell_type": "code",
   "execution_count": 55,
   "metadata": {},
   "outputs": [],
   "source": [
    "import shutil\n",
    "def copy_data(plist, mode='copy'):\n",
    "    ps = plist[0]\n",
    "    pt = plist[1]\n",
    "    shutil.copyfile(ps, pt)\n",
    "    \n",
    "def write_txt(input_list):\n",
    "    label_path, text = input_list[0], input_list[1]\n",
    "    with open(label_path, 'a+') as f:\n",
    "        f.write(text)"
   ]
  },
  {
   "cell_type": "code",
   "execution_count": null,
   "metadata": {},
   "outputs": [],
   "source": [
    "run_task_multithread(input_list, input_list, thread_num=10)"
   ]
  },
  {
   "cell_type": "code",
   "execution_count": null,
   "metadata": {},
   "outputs": [],
   "source": [
    "df07.head()"
   ]
  },
  {
   "cell_type": "code",
   "execution_count": null,
   "metadata": {},
   "outputs": [],
   "source": [
    "save_dir = '/nas/chenyi/dataset_apparel_nas/haowei_conf07_multi/labels/'\n",
    "df07['label_tp'] = df07['label_path'].apply(lambda x: x.replace(\n",
    "            '/nas/lichangjian/labels/',\n",
    "            save_dir))"
   ]
  },
  {
   "cell_type": "code",
   "execution_count": 51,
   "metadata": {},
   "outputs": [],
   "source": [
    "%%time\n",
    "input_list = df07.apply(lambda x: \n",
    "                        [x['label_tp'], \n",
    "                         '{0:.0f} {1:.6f} {2:.6f} {3:.6f} {4:.6f}\\n'.format(*x.loc[['label_2', 'x_c', 'y_c', 'w', 'h']].values)], \n",
    "                        axis=1)"
   ]
  },
  {
   "cell_type": "code",
   "execution_count": 52,
   "metadata": {},
   "outputs": [
    {
     "data": {
      "text/plain": [
       "60244"
      ]
     },
     "execution_count": 52,
     "metadata": {},
     "output_type": "execute_result"
    }
   ],
   "source": [
    "len(input_list)"
   ]
  },
  {
   "cell_type": "code",
   "execution_count": 53,
   "metadata": {},
   "outputs": [
    {
     "data": {
      "text/plain": [
       "['/nas/chenyi/dataset_apparel_nas/haowei_conf07_multi/labels/20141215090521289.txt',\n",
       " '0 0.454839 0.320250 0.412903 0.362912\\n']"
      ]
     },
     "execution_count": 53,
     "metadata": {},
     "output_type": "execute_result"
    }
   ],
   "source": [
    "input_list[0]"
   ]
  },
  {
   "cell_type": "code",
   "execution_count": 56,
   "metadata": {},
   "outputs": [
    {
     "name": "stdout",
     "output_type": "stream",
     "text": [
      "CPU times: user 19 s, sys: 11 s, total: 30 s\n",
      "Wall time: 5min 1s\n"
     ]
    }
   ],
   "source": [
    "%%time\n",
    "run_task_multithread(input_list, write_txt, thread_num=10)"
   ]
  },
  {
   "cell_type": "code",
   "execution_count": null,
   "metadata": {},
   "outputs": [],
   "source": []
  },
  {
   "cell_type": "code",
   "execution_count": null,
   "metadata": {},
   "outputs": [],
   "source": []
  },
  {
   "cell_type": "code",
   "execution_count": null,
   "metadata": {},
   "outputs": [],
   "source": [
    "# save_dir = '/nas/chenyi/dataset_apparel_nas/haowei_conf07/labels/'\n",
    "# for ind,row in tqdm(df07.iterrows()):\n",
    "#     id_ = row['id']\n",
    "#     label_path = f'{save_dir}{id_}.txt'\n",
    "#     row_num = row.loc[['label_2', 'x_c', 'y_c', 'w', 'h']].values\n",
    "#     write_txt(label_path, row_num)"
   ]
  },
  {
   "cell_type": "code",
   "execution_count": null,
   "metadata": {},
   "outputs": [],
   "source": [
    "# %%time\n",
    "# def write_txt(label_path, row):\n",
    "#     with open(label_path, 'a+') as f:\n",
    "#         f.write('{0:.0f} {1:.6f} {2:.6f} {3:.6f} {4:.6f}\\n'.format(*row))\n",
    "        \n",
    "\n",
    "# save_dir = '/nas/chenyi/dataset_apparel_nas/haowei_conf07/labels/'\n",
    "# for ind,row in tqdm(df07.iterrows()):\n",
    "#     id_ = row['id']\n",
    "#     label_path = f'{save_dir}{id_}.txt'\n",
    "#     row_num = çç\n",
    "#     write_txt(label_path, row_num)"
   ]
  },
  {
   "cell_type": "code",
   "execution_count": null,
   "metadata": {},
   "outputs": [],
   "source": []
  },
  {
   "cell_type": "code",
   "execution_count": null,
   "metadata": {},
   "outputs": [],
   "source": []
  },
  {
   "cell_type": "code",
   "execution_count": null,
   "metadata": {},
   "outputs": [],
   "source": []
  },
  {
   "cell_type": "code",
   "execution_count": null,
   "metadata": {},
   "outputs": [],
   "source": []
  },
  {
   "cell_type": "markdown",
   "metadata": {
    "tags": []
   },
   "source": [
    "### OpenFashion"
   ]
  },
  {
   "cell_type": "code",
   "execution_count": null,
   "metadata": {},
   "outputs": [],
   "source": [
    "root = Path('/nas/lichangjian/open_fashion/')"
   ]
  },
  {
   "cell_type": "code",
   "execution_count": null,
   "metadata": {},
   "outputs": [],
   "source": [
    "!ls $root"
   ]
  },
  {
   "cell_type": "code",
   "execution_count": null,
   "metadata": {},
   "outputs": [],
   "source": [
    "!tree -d L 0 $root"
   ]
  },
  {
   "cell_type": "code",
   "execution_count": null,
   "metadata": {},
   "outputs": [],
   "source": [
    "ofashion_df = pd.read_csv(str(root /'df_OpenFashion.csv'))"
   ]
  },
  {
   "cell_type": "code",
   "execution_count": null,
   "metadata": {},
   "outputs": [],
   "source": [
    "ofashion_df.head()"
   ]
  },
  {
   "cell_type": "code",
   "execution_count": null,
   "metadata": {},
   "outputs": [],
   "source": []
  },
  {
   "cell_type": "code",
   "execution_count": null,
   "metadata": {},
   "outputs": [],
   "source": [
    "fname = 'cat_pedia2ours.pickle'\n",
    "with open(f'{root}info/{fname}', 'rb') as f:\n",
    "    id2name = pickle.load(f)"
   ]
  },
  {
   "cell_type": "code",
   "execution_count": null,
   "metadata": {},
   "outputs": [],
   "source": [
    "pedia_data_p = '/home/chenyi/workspace/dataset/data_fashionpedia/pedia_train_info.pickle'"
   ]
  },
  {
   "cell_type": "code",
   "execution_count": null,
   "metadata": {},
   "outputs": [],
   "source": [
    "with open(pedia_data_p, 'rb') as f:\n",
    "    pedia_info_pd = pickle.load(f)"
   ]
  },
  {
   "cell_type": "code",
   "execution_count": null,
   "metadata": {},
   "outputs": [],
   "source": []
  },
  {
   "cell_type": "code",
   "execution_count": null,
   "metadata": {},
   "outputs": [],
   "source": [
    "id2name"
   ]
  },
  {
   "cell_type": "code",
   "execution_count": null,
   "metadata": {},
   "outputs": [],
   "source": [
    "pedia_info_pd.head()"
   ]
  },
  {
   "cell_type": "code",
   "execution_count": null,
   "metadata": {},
   "outputs": [],
   "source": [
    "id2name[9] = 8"
   ]
  },
  {
   "cell_type": "code",
   "execution_count": null,
   "metadata": {},
   "outputs": [],
   "source": []
  },
  {
   "cell_type": "code",
   "execution_count": null,
   "metadata": {},
   "outputs": [],
   "source": []
  },
  {
   "cell_type": "markdown",
   "metadata": {},
   "source": [
    "#### fashion2的label问题"
   ]
  },
  {
   "cell_type": "code",
   "execution_count": null,
   "metadata": {},
   "outputs": [],
   "source": [
    "label_p = f'{root}labels/train/'"
   ]
  },
  {
   "cell_type": "code",
   "execution_count": null,
   "metadata": {},
   "outputs": [],
   "source": [
    "with open(f'{root}info/fashion2info_train_pd.pickle', 'rb') as f:\n",
    "    fashion2info_pd = pickle.load(f)"
   ]
  },
  {
   "cell_type": "code",
   "execution_count": null,
   "metadata": {},
   "outputs": [],
   "source": [
    "fashion2info_pd.head()"
   ]
  },
  {
   "cell_type": "code",
   "execution_count": null,
   "metadata": {},
   "outputs": [],
   "source": [
    "fashion2info_pd['img_path'][0]"
   ]
  },
  {
   "cell_type": "markdown",
   "metadata": {},
   "source": []
  },
  {
   "cell_type": "code",
   "execution_count": null,
   "metadata": {},
   "outputs": [],
   "source": []
  },
  {
   "cell_type": "code",
   "execution_count": null,
   "metadata": {},
   "outputs": [],
   "source": [
    "ind = 1001\n",
    "img_np = cv2.imread(fashion2info_pd['img_path'][ind])\n",
    "h,w,c = img_np.shape\n",
    "bbox = fashion2info_pd['bbox'][ind][0][1:]"
   ]
  },
  {
   "cell_type": "code",
   "execution_count": null,
   "metadata": {},
   "outputs": [],
   "source": [
    "box_coco = bbox_yolo2coco(bbox,w,h)"
   ]
  },
  {
   "cell_type": "code",
   "execution_count": null,
   "metadata": {},
   "outputs": [],
   "source": [
    "img_np = bbox_draw(img_np, box_coco)\n",
    "Image.fromarray(img_np)"
   ]
  },
  {
   "cell_type": "code",
   "execution_count": null,
   "metadata": {},
   "outputs": [],
   "source": []
  },
  {
   "cell_type": "code",
   "execution_count": null,
   "metadata": {},
   "outputs": [],
   "source": []
  },
  {
   "cell_type": "code",
   "execution_count": null,
   "metadata": {},
   "outputs": [],
   "source": []
  },
  {
   "cell_type": "code",
   "execution_count": null,
   "metadata": {},
   "outputs": [],
   "source": [
    "fashion2_ours = \\\n",
    "            {0: 4, 1: 4,  2:4, 3:4, 4:4, 5:4,  6:5,  7:5,  8:6,  9:7, 10:7,  11:7,  12:7}"
   ]
  },
  {
   "cell_type": "code",
   "execution_count": null,
   "metadata": {},
   "outputs": [],
   "source": [
    "for ind,row in fashion2info_pd.iterrows():\n",
    "    bboxes = row['bbox']\n",
    "\n",
    "    for bx in bboxes:\n",
    "        id_ = int(bx[0])\n",
    "        id_new = fashion2_ours[id_]\n",
    "        bx[0] = int(id_new)"
   ]
  },
  {
   "cell_type": "code",
   "execution_count": null,
   "metadata": {},
   "outputs": [],
   "source": [
    "def bboxes2string(bboxes):\n",
    "    text = \"\"\n",
    "    for bx in bboxes:\n",
    "        text += str(int(bx[0]))\n",
    "        for item in bx[1:]:\n",
    "            text = text + ' ' + str(item)\n",
    "        text += '\\n'\n",
    "    return text"
   ]
  },
  {
   "cell_type": "code",
   "execution_count": null,
   "metadata": {},
   "outputs": [],
   "source": [
    "def write_bboxes(p, bboxes_text):\n",
    "    with open(p, 'w') as f:\n",
    "        f.write(bboxes_text)"
   ]
  },
  {
   "cell_type": "code",
   "execution_count": null,
   "metadata": {},
   "outputs": [],
   "source": [
    "for ind,row in fashion2info_pd.iterrows():\n",
    "    bboxes = row['bbox']\n",
    "    label_p = row['label_path']\n",
    "    text = bboxes2string(bboxes)\n",
    "    write_bboxes(label_p, text)\n",
    "\n",
    "    # break"
   ]
  },
  {
   "cell_type": "code",
   "execution_count": null,
   "metadata": {},
   "outputs": [],
   "source": [
    "with open(label_p, 'r') as f:\n",
    "    print(f.read())"
   ]
  },
  {
   "cell_type": "code",
   "execution_count": null,
   "metadata": {},
   "outputs": [],
   "source": []
  },
  {
   "cell_type": "code",
   "execution_count": null,
   "metadata": {},
   "outputs": [],
   "source": []
  },
  {
   "cell_type": "code",
   "execution_count": null,
   "metadata": {},
   "outputs": [],
   "source": [
    "ind = 1001\n",
    "row_pd = fashion2info_pd.loc[ind, :]"
   ]
  },
  {
   "cell_type": "code",
   "execution_count": null,
   "metadata": {},
   "outputs": [],
   "source": [
    "img_np = cv2.imread(row_pd['img_path'])\n",
    "h,w,c = img_np.shape\n",
    "bbox = row_pd['bbox'][0][1:]\n",
    "box_coco = bbox_yolo2coco(bbox,w,h)\n",
    "img_np = bbox_draw(img_np, box_coco)\n",
    "Image.fromarray(img_np)"
   ]
  },
  {
   "cell_type": "code",
   "execution_count": null,
   "metadata": {},
   "outputs": [],
   "source": []
  },
  {
   "cell_type": "code",
   "execution_count": null,
   "metadata": {},
   "outputs": [],
   "source": []
  },
  {
   "cell_type": "markdown",
   "metadata": {},
   "source": [
    "#### pedia的label问题"
   ]
  },
  {
   "cell_type": "code",
   "execution_count": null,
   "metadata": {},
   "outputs": [],
   "source": [
    "with open('/home/chenyi/workspace/dataset/deepedia/info/pedia_train_dict.pickle', 'rb') as f:\n",
    "    pedia_info = pickle.load(f)"
   ]
  },
  {
   "cell_type": "code",
   "execution_count": null,
   "metadata": {},
   "outputs": [],
   "source": [
    "with open('/home/chenyi/workspace/dataset/deepedia/info/pedia_info_pd.pickle', 'rb') as f:\n",
    "    pedia_info_pd = pickle.load(f)"
   ]
  },
  {
   "cell_type": "code",
   "execution_count": null,
   "metadata": {},
   "outputs": [],
   "source": [
    "train_root = '/home/chenyi/workspace/dataset/data_fashionpedia/train/'"
   ]
  },
  {
   "cell_type": "code",
   "execution_count": null,
   "metadata": {},
   "outputs": [],
   "source": [
    "pedia_info_pd['img_path'] = train_root + pedia_info_pd['file_name'].values"
   ]
  },
  {
   "cell_type": "code",
   "execution_count": null,
   "metadata": {},
   "outputs": [],
   "source": [
    "pedia_info_pd.head()"
   ]
  },
  {
   "cell_type": "code",
   "execution_count": null,
   "metadata": {},
   "outputs": [],
   "source": []
  },
  {
   "cell_type": "code",
   "execution_count": null,
   "metadata": {},
   "outputs": [],
   "source": [
    "def bbox_draw(img_np, box_coco):\n",
    "    id_ = 'test'\n",
    "    x1 = box_coco[0]\n",
    "    y1 = box_coco[1]\n",
    "    x2 = box_coco[2]\n",
    "    y2 = box_coco[3]\n",
    "    font = cv2.FONT_HERSHEY_SIMPLEX\n",
    "    cv2.rectangle(img_np,(x1, y1),(x2, y2),(0,0,255),thickness=2)\n",
    "    f = cv2.putText(img_np, text=str(id_), org=(x1 + 5, y1 + 5), fontFace=font, fontScale=1, \n",
    "        thickness=2, lineType=cv2.LINE_AA, color=(0, 255, 0))\n",
    "    return img_np"
   ]
  },
  {
   "cell_type": "code",
   "execution_count": null,
   "metadata": {},
   "outputs": [],
   "source": []
  },
  {
   "cell_type": "code",
   "execution_count": null,
   "metadata": {},
   "outputs": [],
   "source": [
    "ind = 20113\n",
    "row_pd = pedia_info_pd.iloc[ind,:]"
   ]
  },
  {
   "cell_type": "code",
   "execution_count": null,
   "metadata": {},
   "outputs": [],
   "source": [
    "img_np = cv2.imread(row_pd['img_path'])\n",
    "h,w,c = img_np.shape\n",
    "row = row_pd['bbox'][3]\n",
    "id_ = row[0]\n",
    "box_coco = row[1:]\n",
    "box_item = []\n",
    "for item in box_coco:\n",
    "    box_item.append(int(item))\n",
    "bbox_item = bbox_coco2voc(box_item)\n",
    "img_np = bbox_draw(img_np, box_item)\n",
    "Image.fromarray(img_np)"
   ]
  },
  {
   "cell_type": "code",
   "execution_count": null,
   "metadata": {},
   "outputs": [],
   "source": []
  },
  {
   "cell_type": "markdown",
   "metadata": {},
   "source": [
    "### 写操作"
   ]
  },
  {
   "cell_type": "code",
   "execution_count": null,
   "metadata": {},
   "outputs": [],
   "source": [
    "with open(f'/home/chenyi/workspace/dataset/deepedia/info/pedia_info_pd.pickle', 'rb') as f:\n",
    "    pedia_info_pd = pickle.load(f)"
   ]
  },
  {
   "cell_type": "code",
   "execution_count": null,
   "metadata": {},
   "outputs": [],
   "source": [
    "pedia_info_pd.head()"
   ]
  },
  {
   "cell_type": "code",
   "execution_count": null,
   "metadata": {},
   "outputs": [],
   "source": [
    "for ind, row in pedia_info_pd.iterrows():\n",
    "    bboxes = row['bbox']\n",
    "    w,h = row['width'], row['height']\n",
    "    bx_new = []\n",
    "    for bx in bboxes:\n",
    "        bx[0] = int(bx[0])\n",
    "        # print(bx)\n",
    "        bx[1:] = bbox_coco2voc(bx[1:])\n",
    "        # print(bx)\n",
    "        bx[1:] = bbox_voc2yolo(bx[1:], w, h)\n",
    "        # print(bx)\n",
    "    # break\n"
   ]
  },
  {
   "cell_type": "code",
   "execution_count": null,
   "metadata": {},
   "outputs": [],
   "source": []
  },
  {
   "cell_type": "code",
   "execution_count": null,
   "metadata": {},
   "outputs": [],
   "source": [
    "train_s_root = '/home/chenyi/workspace/dataset/data_fashionpedia/val/'"
   ]
  },
  {
   "cell_type": "code",
   "execution_count": null,
   "metadata": {},
   "outputs": [],
   "source": [
    "pedia_train = pedia_info_pd[pedia_info_pd['train']=='val']"
   ]
  },
  {
   "cell_type": "code",
   "execution_count": null,
   "metadata": {},
   "outputs": [],
   "source": [
    "train_t_root = '/home/chenyi/workspace/dataset/deepedia/images/val/'\n",
    "label_t_root = '/home/chenyi/workspace/dataset/deepedia/labels/val/'"
   ]
  },
  {
   "cell_type": "code",
   "execution_count": null,
   "metadata": {},
   "outputs": [],
   "source": [
    "pedia_train.head()"
   ]
  },
  {
   "cell_type": "code",
   "execution_count": null,
   "metadata": {},
   "outputs": [],
   "source": [
    "pedia_train['img_path'] = train_s_root +  pedia_train['file_name'].values"
   ]
  },
  {
   "cell_type": "code",
   "execution_count": null,
   "metadata": {},
   "outputs": [],
   "source": [
    "pedia_train['img_target'] = train_t_root +  pedia_train['file_name'].values"
   ]
  },
  {
   "cell_type": "code",
   "execution_count": null,
   "metadata": {},
   "outputs": [],
   "source": [
    "pedia_train['label_target'] = label_t_root +  pedia_train['file_name'].values"
   ]
  },
  {
   "cell_type": "code",
   "execution_count": null,
   "metadata": {},
   "outputs": [],
   "source": [
    "pedia_train['label_target'] = pedia_train['label_target'].apply(\n",
    "    lambda x:x.replace('.jpg', '.txt')\n",
    ")"
   ]
  },
  {
   "cell_type": "code",
   "execution_count": null,
   "metadata": {},
   "outputs": [],
   "source": [
    "pedia_train.head()"
   ]
  },
  {
   "cell_type": "code",
   "execution_count": null,
   "metadata": {},
   "outputs": [],
   "source": [
    "pedia_train['label_target'].values[0]"
   ]
  },
  {
   "cell_type": "code",
   "execution_count": null,
   "metadata": {},
   "outputs": [],
   "source": []
  },
  {
   "cell_type": "code",
   "execution_count": null,
   "metadata": {},
   "outputs": [],
   "source": []
  },
  {
   "cell_type": "code",
   "execution_count": null,
   "metadata": {},
   "outputs": [],
   "source": [
    "def write_bboxes_text(bboxes, p):\n",
    "    bboxes_str = ''\n",
    "    for bx in bboxes:\n",
    "        bboxes_str += f'{str(int(bx[0]))} \\\n",
    "                        {str(bx[1])}  \\\n",
    "                        {str(bx[2])} \\\n",
    "                        {str(bx[3])} \\\n",
    "                        {str(bx[4])} \\n'\n",
    "            \n",
    "    with open(p, 'w') as f:\n",
    "        f.write(bboxes_str)"
   ]
  },
  {
   "cell_type": "code",
   "execution_count": null,
   "metadata": {},
   "outputs": [],
   "source": []
  },
  {
   "cell_type": "code",
   "execution_count": null,
   "metadata": {},
   "outputs": [],
   "source": [
    "import shutil"
   ]
  },
  {
   "cell_type": "code",
   "execution_count": null,
   "metadata": {},
   "outputs": [],
   "source": [
    "for ind,row in pedia_train.iterrows():\n",
    "    bboxes = row['bbox']\n",
    "    img_s_path = row['img_path']\n",
    "    img_t_path = row['img_target']\n",
    "    label_path = row['label_target']\n",
    "    write_bboxes_text(bboxes, label_path)\n",
    "    # shutil.copyfile(img_s_path, img_t_path)\n",
    "    # break"
   ]
  },
  {
   "cell_type": "code",
   "execution_count": null,
   "metadata": {},
   "outputs": [],
   "source": [
    "# with open('/home/chenyi/workspace/dataset/deepedia/info/pedia2yolo_val.pickle', 'wb') as f:\n",
    "#     pickle.dump(pedia_train, f)"
   ]
  },
  {
   "cell_type": "code",
   "execution_count": null,
   "metadata": {},
   "outputs": [],
   "source": [
    "# with open('/home/chenyi/workspace/dataset/deepedia/info/pedia2yolo_train.pickle', 'rb') as f:\n",
    "#     pedia_train = pickle.load(f)"
   ]
  },
  {
   "cell_type": "code",
   "execution_count": null,
   "metadata": {},
   "outputs": [],
   "source": [
    "l = glob.glob('/home/chenyi/workspace/dataset/deepedia/images/train/*')"
   ]
  },
  {
   "cell_type": "code",
   "execution_count": null,
   "metadata": {},
   "outputs": [],
   "source": [
    "len(l)"
   ]
  },
  {
   "cell_type": "code",
   "execution_count": null,
   "metadata": {},
   "outputs": [],
   "source": []
  }
 ],
 "metadata": {
  "interpreter": {
   "hash": "1ffca71e81262eb9f1fbd4476efe675f91eb9e841b011875f195064bfb13ae24"
  },
  "kernelspec": {
   "display_name": "Python 3 (ipykernel)",
   "language": "python",
   "name": "python3"
  },
  "language_info": {
   "codemirror_mode": {
    "name": "ipython",
    "version": 3
   },
   "file_extension": ".py",
   "mimetype": "text/x-python",
   "name": "python",
   "nbconvert_exporter": "python",
   "pygments_lexer": "ipython3",
   "version": "3.8.13"
  }
 },
 "nbformat": 4,
 "nbformat_minor": 4
}
