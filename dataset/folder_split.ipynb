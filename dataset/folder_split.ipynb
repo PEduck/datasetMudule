{
 "cells": [
  {
   "cell_type": "code",
   "execution_count": 1,
   "id": "7ac08ebf-ed14-4475-82ce-775e373b8c05",
   "metadata": {},
   "outputs": [],
   "source": [
    "%load_ext autoreload\n",
    "%autoreload 2"
   ]
  },
  {
   "cell_type": "code",
   "execution_count": 98,
   "id": "01424fc7-54a0-4ef3-945f-8f914fa6c06e",
   "metadata": {},
   "outputs": [],
   "source": [
    "import numpy as np\n",
    "import pandas as pd\n",
    "import glob\n",
    "import re\n",
    "from tqdm import tqdm\n",
    "from pathlib import Path\n",
    "import sys,os\n",
    "import shutil"
   ]
  },
  {
   "cell_type": "code",
   "execution_count": null,
   "id": "6d24cdcc-df6b-4c87-9578-1453f29987aa",
   "metadata": {},
   "outputs": [],
   "source": []
  },
  {
   "cell_type": "code",
   "execution_count": null,
   "id": "ad4d998a-1f82-413a-92a0-39b02d0acb91",
   "metadata": {},
   "outputs": [],
   "source": []
  },
  {
   "cell_type": "code",
   "execution_count": 103,
   "id": "9b2d470c-40de-4217-848a-0acee6641b1e",
   "metadata": {},
   "outputs": [
    {
     "name": "stdout",
     "output_type": "stream",
     "text": [
      "COCO2017\t\t    deepedia\t\t\thaowei34k_folders\n",
      "copydata_multithread.ipynb  deepedia_manage_show.ipynb\thaowei34k.tar\n",
      "data_fashionpedia\t    haowei34k\t\t\tpedia_data_zip\n",
      "dataset_enhancement.ipynb   haowei34k_conf07\t\tyolo2coco.py\n",
      "dataset_manage.ipynb\t    haowei34k_conf.tar\n"
     ]
    }
   ],
   "source": [
    "!ls /home/chenyi/workspace/dataset"
   ]
  },
  {
   "cell_type": "code",
   "execution_count": null,
   "id": "80a93abc-dd65-49b9-829a-981a6842f45f",
   "metadata": {},
   "outputs": [],
   "source": [
    "!tree -L 2 /home/chenyi/workspace/dataset/haowei34k_folders/images/100/"
   ]
  },
  {
   "cell_type": "code",
   "execution_count": 115,
   "id": "e4d7b848-7744-4304-8d32-02ea8ea4f193",
   "metadata": {},
   "outputs": [],
   "source": [
    "root = Path('/home/chenyi/workspace/dataset/haowei34k/')\n",
    "save_root = Path('/home/chenyi/workspace/dataset/haowei34k_folders/')"
   ]
  },
  {
   "cell_type": "code",
   "execution_count": 36,
   "id": "425457e6-86e0-455f-8944-0b41c7aa3099",
   "metadata": {},
   "outputs": [],
   "source": [
    "if Path.is_dir(save_root):\n",
    "    shutil.rmtree(save_root)\n",
    "else:\n",
    "    Path.mkdir(save_root, parents=True, exist_ok=True)"
   ]
  },
  {
   "cell_type": "code",
   "execution_count": null,
   "id": "3104a2d5-948f-4ae2-aee4-a8df2e29170b",
   "metadata": {},
   "outputs": [],
   "source": []
  },
  {
   "cell_type": "code",
   "execution_count": 32,
   "id": "1dd6fb94-c2de-45da-86b9-2350d78fa624",
   "metadata": {},
   "outputs": [],
   "source": [
    "imgs_list = glob.glob(str(root /'images/*/*.jpg'))\n",
    "# labels_list = glob.glob(str(root /'labels/*/*.txt'))"
   ]
  },
  {
   "cell_type": "code",
   "execution_count": 37,
   "id": "f5b9e93e-5848-4daa-a5e8-874a2e74f5b5",
   "metadata": {},
   "outputs": [],
   "source": [
    "data_info = pd.DataFrame(columns=['img_path', 'label_path'])"
   ]
  },
  {
   "cell_type": "code",
   "execution_count": 39,
   "id": "cf33894f-1958-48aa-964d-0361d1492d7a",
   "metadata": {},
   "outputs": [],
   "source": [
    "data_info['img_path'] = imgs_list"
   ]
  },
  {
   "cell_type": "code",
   "execution_count": 44,
   "id": "4e23cfae-230b-4011-8235-7f56eb601efc",
   "metadata": {},
   "outputs": [],
   "source": [
    "data_info['label_path'] = data_info['img_path'].apply(lambda x: x.replace('images', 'labels'))\n",
    "data_info['label_path'] = data_info['label_path'].apply(lambda x: x.replace('.jpg', '.txt'))"
   ]
  },
  {
   "cell_type": "code",
   "execution_count": 68,
   "id": "46a207fa-1e72-40c5-bfcf-b7fb7a5bd490",
   "metadata": {},
   "outputs": [],
   "source": [
    "data_info['img_fname'] = data_info['img_path'].apply(lambda x: \n",
    "                                                     re.findall(r'/images/(train|val)/(.*.jpg)', x)[0][1])\n",
    "data_info['label_fname'] = data_info['img_fname'].apply(lambda x: x.replace('.jpg', '.txt'))"
   ]
  },
  {
   "cell_type": "code",
   "execution_count": 70,
   "id": "663b72b3-eed0-4bc2-9f4a-695caf509f30",
   "metadata": {},
   "outputs": [
    {
     "data": {
      "text/plain": [
       "PosixPath('/home/chenyi/workspace/dataset/haowei34k_folders')"
      ]
     },
     "execution_count": 70,
     "metadata": {},
     "output_type": "execute_result"
    }
   ],
   "source": [
    "save_root"
   ]
  },
  {
   "cell_type": "code",
   "execution_count": 106,
   "id": "977fc1a8-4f36-4404-8929-a09247b38b54",
   "metadata": {},
   "outputs": [
    {
     "name": "stderr",
     "output_type": "stream",
     "text": [
      "34020it [00:25, 1348.72it/s]"
     ]
    },
    {
     "name": "stdout",
     "output_type": "stream",
     "text": [
      "CPU times: user 2.71 s, sys: 6.9 s, total: 9.62 s\n",
      "Wall time: 25.2 s\n"
     ]
    },
    {
     "name": "stderr",
     "output_type": "stream",
     "text": [
      "\n"
     ]
    }
   ],
   "source": [
    "%%time\n",
    "iter_num = 200\n",
    "for ind, row in tqdm(data_info.iterrows()):\n",
    "    folder_ind = ind//iter_num\n",
    "    imgs_froot = save_root / f'images/{folder_ind}/'\n",
    "    labels_froot = save_root / f'labels/{folder_ind}/'\n",
    "    if not Path.is_dir(imgs_froot):\n",
    "        Path.mkdir(imgs_froot, parents=True, exist_ok=True)\n",
    "    \n",
    "    if not Path.is_dir(labels_froot):\n",
    "        Path.mkdir(labels_froot, parents=True, exist_ok=True)\n",
    "    \n",
    "    img_fname = row['img_fname']\n",
    "    label_fname = row['label_fname']\n",
    "    img_tp = imgs_froot /img_fname\n",
    "    label_tp = labels_froot /label_fname\n",
    "    shutil.copyfile(row['img_path'], img_tp)\n",
    "    shutil.copyfile(row['label_path'], label_tp)"
   ]
  },
  {
   "cell_type": "code",
   "execution_count": null,
   "id": "4267dae7-1d5a-42ea-832a-706915031651",
   "metadata": {},
   "outputs": [],
   "source": []
  },
  {
   "cell_type": "code",
   "execution_count": null,
   "id": "a206fbd5-f769-4e99-8261-0a8095581c4b",
   "metadata": {},
   "outputs": [],
   "source": []
  }
 ],
 "metadata": {
  "kernelspec": {
   "display_name": "Python 3 (ipykernel)",
   "language": "python",
   "name": "python3"
  },
  "language_info": {
   "codemirror_mode": {
    "name": "ipython",
    "version": 3
   },
   "file_extension": ".py",
   "mimetype": "text/x-python",
   "name": "python",
   "nbconvert_exporter": "python",
   "pygments_lexer": "ipython3",
   "version": "3.9.7"
  }
 },
 "nbformat": 4,
 "nbformat_minor": 5
}
