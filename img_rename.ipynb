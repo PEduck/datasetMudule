{
 "cells": [
  {
   "cell_type": "code",
   "execution_count": 2,
   "id": "0b9af923-e004-477c-af0d-fae6f5e2bd4f",
   "metadata": {},
   "outputs": [],
   "source": [
    "import glob\n",
    "import os\n",
    "import hashlib\n",
    "import shutil"
   ]
  },
  {
   "cell_type": "code",
   "execution_count": null,
   "id": "c8457ea0-e6b2-446f-95c4-32b0a84d8f54",
   "metadata": {},
   "outputs": [],
   "source": []
  },
  {
   "cell_type": "code",
   "execution_count": null,
   "id": "2cced36e-9113-4266-bd09-a35bdc1e45a6",
   "metadata": {},
   "outputs": [],
   "source": []
  },
  {
   "cell_type": "code",
   "execution_count": 7,
   "id": "e6ce5a1d-9fef-4112-96a0-d6cde4f9d590",
   "metadata": {},
   "outputs": [],
   "source": [
    "# 使用python3.8及以上可以用此方法，写法更简洁。\n",
    "def file_hash(file_path: str, hash_method) -> str:\n",
    "    if not os.path.isfile(file_path):\n",
    "        print('文件不存在。')\n",
    "        return ''\n",
    "    h = hash_method()\n",
    "    with open(file_path, 'rb') as f:\n",
    "        while b := f.read(8192):\n",
    "            h.update(b)\n",
    "    return h.hexdigest()\n",
    "\n",
    "def file_sha256(file_path: str) -> str:\n",
    "    return file_hash(file_path, hashlib.sha256)"
   ]
  },
  {
   "cell_type": "code",
   "execution_count": null,
   "id": "31eab05c-8658-48d4-af9b-57c81b919eab",
   "metadata": {},
   "outputs": [],
   "source": []
  },
  {
   "cell_type": "code",
   "execution_count": null,
   "id": "5ebdf6ec-07c6-488e-9546-bbd3db9ac91b",
   "metadata": {},
   "outputs": [],
   "source": []
  },
  {
   "cell_type": "code",
   "execution_count": 8,
   "id": "914acf4d-b99f-4478-b06b-16a87491eecf",
   "metadata": {},
   "outputs": [],
   "source": [
    "imgs_list = glob.glob('../')\n",
    "for path in :\n",
    "    src = path\n",
    "    dst = '/nas/chenyi/datasets_nas/dada_det/data/wholebody0602/wholebody/' + file_sha256(path) + '.jpg'\n",
    "    with open('log.txt', 'a', encoding='utf-8') as f:\n",
    "        f.write(f'{src} -> {dst}\\n')\n",
    "        shutil.copy(src, dst)"
   ]
  }
 ],
 "metadata": {
  "kernelspec": {
   "display_name": "Python 3 (ipykernel)",
   "language": "python",
   "name": "python3"
  },
  "language_info": {
   "codemirror_mode": {
    "name": "ipython",
    "version": 3
   },
   "file_extension": ".py",
   "mimetype": "text/x-python",
   "name": "python",
   "nbconvert_exporter": "python",
   "pygments_lexer": "ipython3",
   "version": "3.8.13"
  }
 },
 "nbformat": 4,
 "nbformat_minor": 5
}
